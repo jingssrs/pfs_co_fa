{
 "cells": [
  {
   "cell_type": "markdown",
   "metadata": {},
   "source": [
    "# basic set up"
   ]
  },
  {
   "cell_type": "code",
   "execution_count": 1,
   "metadata": {},
   "outputs": [],
   "source": [
    "#basic set up\n",
    "%matplotlib inline\n",
    "import logging\n",
    "import numpy as np\n",
    "import random\n",
    "import time\n",
    "import matplotlib.pyplot as plt\n",
    "import astropy.io.fits as pyfits\n",
    "import os\n",
    "from astropy.table import Table\n",
    "from astropy import units as u\n",
    "from astropy.coordinates import SkyCoord\n",
    "from IPython.display import clear_output\n",
    "from matplotlib.path import Path\n",
    "import pandas as pd\n",
    "import pdb\n",
    "from logzero import logger\n",
    "from utils.common_imports import *\n",
    "\n",
    "logging.getLogger('matplotlib').setLevel(logging.WARNING)\n",
    "\n",
    "\n",
    "#netflow \n",
    "import ets_fiber_assigner.netflow as nf\n",
    "import ets_fiber_assigner.io_helpers as io_helpers\n",
    "from ics.cobraOps.Bench import Bench\n",
    "from ics.cobraOps.TargetGroup import TargetGroup\n",
    "from ics.cobraOps.CobrasCalibrationProduct import CobrasCalibrationProduct\n",
    "from ics.cobraOps.BlackDotsCalibrationProduct import BlackDotsCalibrationProduct\n",
    "from pfs.utils.fiberids import FiberIds\n",
    "\n",
    "from ics.cobraCharmer.pfiDesign import PFIDesign\n",
    "from ics.cobraCharmer.cobraCoach.cobraCoach import CobraCoach\n",
    "from ics.cobraOps.DistanceTargetSelector import DistanceTargetSelector\n",
    "\n",
    "from ics.cobraOps.CollisionSimulator2 import CollisionSimulator2\n",
    "from ics.cobraOps.CollisionSimulator import CollisionSimulator\n",
    "from ics.cobraOps.cobraConstants import NULL_TARGET_POSITION, NULL_TARGET_ID\n",
    "from ics.cobraOps import plotUtils\n",
    "from collections import defaultdict"
   ]
  },
  {
   "cell_type": "markdown",
   "metadata": {},
   "source": [
    "# key functions"
   ]
  },
  {
   "cell_type": "code",
   "execution_count": 2,
   "metadata": {},
   "outputs": [],
   "source": [
    "# read the pointing centers from the file\n",
    "def read_pointings(file):\n",
    "    \"\"\"\n",
    "    Read pre-defined pointings from a file\n",
    "    \"\"\"\n",
    "    try:\n",
    "        # first try reading as ecsv format\n",
    "        t = Table.read(file, format=\"ascii.ecsv\")\n",
    "        return t[\"R.A.\"], t['Dec.']\n",
    "    except:\n",
    "        pass\n",
    "\n",
    "    with open(file) as f:\n",
    "        ras = []\n",
    "        decs = []\n",
    "        ll = f.readlines()\n",
    "        for l in ll[1:]:\n",
    "            if not l.startswith(\"#\"):\n",
    "                tt = l.split()\n",
    "                ra, dec = (float(tt[0]), float(tt[1]))\n",
    "                ras.append(ra)\n",
    "                decs.append(dec)\n",
    "    return np.array(ras), np.array(decs)\n",
    "\n",
    "# TODO: try a more efficient way to contruct the target list, add alreadyObserved to the target list either in netflow Targets or in this function\n",
    "def construct_tgt_list(catalog_path = \"../proc_data/\", \\\n",
    "                       fn_list = [\"cos_select.ecsv\", \"star_select.ecsv\", \"sky_select.ecsv\"], \\\n",
    "                       prefix_list = [\"sci\", \"cal\", \"sky\"], calibration_list = [False, True, True]):\n",
    "    '''\n",
    "    Construct target list\n",
    "    '''\n",
    "    print(\"construct target list:\")\n",
    "    for i, fn_i in enumerate(fn_list):\n",
    "        fn = catalog_path + fn_i\n",
    "        print(fn)\n",
    "        \n",
    "        # read all targets into a single list, giving them their proper types\n",
    "        if(i<1):\n",
    "            if(not calibration_list[i]): tgt = nf.readScientificFromFile(fn, prefix_list[i])\n",
    "            if(calibration_list[i]): tgt = nf.readCalibrationFromFile(fn, prefix_list[i])\n",
    "        else:\n",
    "            if(not calibration_list[i]): tgt += nf.readScientificFromFile(fn, prefix_list[i])\n",
    "            if(calibration_list[i]): tgt += nf.readCalibrationFromFile(fn, prefix_list[i])\n",
    "\n",
    "    print(\"In total, there are %d targets.\" % len(tgt))\n",
    "\n",
    "    # sample of sci targets\n",
    "    sample_sci = []\n",
    "    for t in tgt:\n",
    "        if(t.targetclass[:3] == 'sci'): sample_sci.append([t.ID,t.ra,t.dec])  \n",
    "\n",
    "    sample_sci = np.array(sample_sci)\n",
    "    \n",
    "    return tgt, sample_sci\n",
    "\n",
    "# TODO: play with the cost value for different classes\n",
    "def def_classdict():\n",
    "    '''define classdict for netflow run\n",
    "    \n",
    "    Parameters\n",
    "    ==========\n",
    "    None\n",
    "    \n",
    "    Returns\n",
    "    =======\n",
    "    classdict\n",
    "    '''\n",
    "    # create the dictionary containing the costs and constraints for all classes\n",
    "    # of targets\n",
    "    classdict = {}\n",
    "    classdict[\"sci_P1\"] = {\"nonObservationCost\": 400,\n",
    "                           \"partialObservationCost\": 1e6, \"calib\": False}\n",
    "    classdict[\"sci_P2\"] = {\"nonObservationCost\": 200,\n",
    "                           \"partialObservationCost\": 1e6, \"calib\": False}\n",
    "    classdict[\"sci_P3\"] = {\"nonObservationCost\": 100,\n",
    "                           \"partialObservationCost\": 1e6, \"calib\": False}\n",
    "    \n",
    "    #for ancillary targets\n",
    "    classdict[\"anc_P1\"] = {\"nonObservationCost\": 50,\n",
    "                           \"partialObservationCost\": 1e6, \"calib\": False}\n",
    "    classdict[\"anc_P2\"] = {\"nonObservationCost\": 10,\n",
    "                           \"partialObservationCost\": 1e6, \"calib\": False}\n",
    "\n",
    "    #need to ask PFS project office to get the \"numRequired\"\n",
    "    classdict[\"sky\"] = {\"numRequired\": 400,\n",
    "                        \"nonObservationCost\": 1e6, \"calib\": True}\n",
    "    #100-200 stars - Masayuki\n",
    "    classdict[\"cal\"] = {\"numRequired\": 200,\n",
    "                        \"nonObservationCost\": 1e6, \"calib\": True}\n",
    "\n",
    "    return classdict\n",
    "\n",
    "\n",
    "\n",
    "def write_output(tgt, res, tpos, telescopes, fdir_out, fn_out, t_obs=900):\n",
    "    '''write the output of fiber assignment\n",
    "    Parameters\n",
    "    ==========\n",
    "    fdir_out: string\n",
    "        output folder directory\n",
    "    fn_out: string\n",
    "        output file name\n",
    "    '''\n",
    "    \n",
    "    with open(fdir_out + fn_out, \"w\") as f:\n",
    "        for i, (vis, tp, tel) in enumerate(zip(res, tpos, telescopes)):\n",
    "            print(\"exposure {}:\".format(i))\n",
    "            print(\"  assigned Cobras: {}\".format(len(vis)))\n",
    "            tdict = defaultdict(int)\n",
    "            f.write(\"# Exposure {}: duration {}s, RA: {}, Dec: {}, PA: {}\\n\".\n",
    "                    format(i+1, t_obs, tel._ra, tel._dec, tel._posang))\n",
    "            f.write(\"# Target    Fiber          X          Y         \"\n",
    "                    \"RA        DEC\\n\")\n",
    "            for tidx, cidx in vis.items():\n",
    "                tdict[tgt[tidx].targetclass] += 1 #tgt[].targetclass = 'sci_Px'\n",
    "                f.write(\"{:} {:6d} {:10.5f} {:10.5f} {:10.5f} {:10.5f}\\n\"\n",
    "                        .format(tgt[tidx].ID, cidx+1, tp[tidx].real, tp[tidx].imag,\n",
    "                                tgt[tidx].ra, tgt[tidx].dec))\n",
    "            for cls, num in tdict.items():\n",
    "                print(\"   {}: {}\".format(cls, num))\n",
    "                \n",
    "                \n",
    "def cal_completeness(tgt, res, tpos, telescopes, Plot=False, fn_fig='', Save=False, fn_fibeff=''):\n",
    "    '''calculate the completeness of the targets and fiber assignment fraction\n",
    "    Parameters\n",
    "    ==========\n",
    "    fdir_out: string\n",
    "        output folder directory\n",
    "    Plot: boolean\n",
    "        plot the results if True \n",
    "    '''\n",
    "    \n",
    "    #fiber assignment fraction of each pointing\n",
    "    fib_eff = [] \n",
    "    #fiber assignment fraction of pointing which observed galaxies\n",
    "    fib_eff_gal = []\n",
    "    fib_eff_anc = []\n",
    "    #calibration targets\n",
    "    fib_eff_star = []\n",
    "    fib_eff_sky = []\n",
    "\n",
    "    #objects that got allocated a fiber\n",
    "    obj_allo = []\n",
    "    for i, (vis, tp, tel) in enumerate(zip(res, tpos, telescopes)):\n",
    "        fib_eff_t = len(vis)/2394.*100 #2394 fibers available\n",
    "        fib_eff.append(fib_eff_t)\n",
    "\n",
    "        n_fib_gal = 0\n",
    "        n_fib_anc = 0\n",
    "        n_fib_star = 0\n",
    "        n_fib_sky = 0\n",
    "        #tidx is the id in tgt list; cidx is the fiber id, starting from 0\n",
    "        for tidx, cidx in vis.items():\n",
    "            obj_allo.append([\"Point_\"+str(i+1), tel._ra, tel._dec, tel._posang, tgt[tidx].ID,\n",
    "                            cidx+1, tp[tidx].real, tgt[tidx].ra, tgt[tidx].dec,\n",
    "                            tgt[tidx].targetclass])\n",
    "\n",
    "            if tgt[tidx].targetclass[:3]=='sci': n_fib_gal+=1\n",
    "            if tgt[tidx].targetclass[:3]=='anc': n_fib_anc+=1\n",
    "            if tgt[tidx].targetclass[:3]=='sky': n_fib_sky+=1\n",
    "            if tgt[tidx].targetclass[:3]=='cal': n_fib_star+=1\n",
    "\n",
    "        fib_eff_gal.append(n_fib_gal/2394.*100)\n",
    "        fib_eff_anc.append(n_fib_anc/2394.*100)\n",
    "        fib_eff_star.append(n_fib_star/2394.*100)\n",
    "        fib_eff_sky.append(n_fib_sky/2394.*100)\n",
    "\n",
    "        print(\"exposure {}:\".format(i))\n",
    "        print(\"assigned Cobras(%): {:.2f}%; gal--{:.2f}%, anc--{:.2f}%, sky--{:.2f}%, star--{:.2f}%\". format(fib_eff[i], fib_eff_gal[i], fib_eff_anc[i], fib_eff_sky[i], fib_eff_star[i]))\n",
    "    \n",
    "    if(Save==True):\n",
    "        np.savetxt(fn_fibeff, np.c_[fib_eff, fib_eff_gal, fib_eff_anc, fib_eff_sky, fib_eff_star])\n",
    "    \n",
    "    #unique tgt_class\n",
    "    tgt_class = []\n",
    "    for tgt_i in tgt:\n",
    "        tgt_class.append(tgt_i.targetclass)\n",
    "    tgt_class = np.array(tgt_class)\n",
    "    uniq_tgt_class = np.unique(tgt_class)\n",
    "\n",
    "    #completeness fraction\n",
    "    tgt_class_allo = np.array([obj_allo_i[-1] for obj_allo_i in obj_allo])\n",
    "    comp_out = {}\n",
    "    for ii, uniq_tgt_i in enumerate(uniq_tgt_class):\n",
    "        mask_i = tgt_class == uniq_tgt_i\n",
    "        tot = len(tgt_class[mask_i])\n",
    "\n",
    "        mask_ii = tgt_class_allo == uniq_tgt_i\n",
    "        done = len(tgt_class_allo[mask_ii])\n",
    "\n",
    "        comp_out[uniq_tgt_i] = done/tot\n",
    "        \n",
    "    print(\"comp_out=\", comp_out)\n",
    "    \n",
    "    #plot\n",
    "    if(Plot==True):  \n",
    "        npoint_used = len(tpos)\n",
    "        msk_sci_class =  [uniq_tgt_class_i[:3]=='sci' for uniq_tgt_class_i in uniq_tgt_class]\n",
    "        sci_class = uniq_tgt_class[msk_sci_class]\n",
    "        msk_anc_class =  [uniq_tgt_class_i[:3]=='anc' for uniq_tgt_class_i in uniq_tgt_class]\n",
    "        sci_class = np.append(sci_class, uniq_tgt_class[msk_anc_class])\n",
    "        print(sci_class)\n",
    "        \n",
    "        plt.figure(figsize=(12, 4))\n",
    "        plt.subplot(121)\n",
    "        for ii, sci_class_ii in enumerate(sci_class):\n",
    "            plt.bar([ii+1], comp_out[sci_class_ii], width=1., fc='tomato', ec='none', alpha=0.8, zorder=10)\n",
    "            plt.bar([ii+1], comp_out[sci_class_ii], width=1., ec='tomato', fc='none', lw=1)\n",
    "\n",
    "        plt.plot([0,10], [0.8,0.8], 'k--', lw=2, zorder=11)\n",
    "        plt.xticks(np.arange(len(sci_class))+1, sci_class, fontsize=15)\n",
    "        plt.ylabel('completeness fraction', fontsize=15)\n",
    "        plt.xlim(0, len(sci_class)+2)\n",
    "        plt.ylim(0, 1.)\n",
    "\n",
    "        plt.subplot(122)\n",
    "        plt.bar(np.arange(0,len(fib_eff_gal),1), fib_eff_gal, width=0.8, fc='tomato', ec='none', alpha=0.6, zorder=10)\n",
    "        plt.bar(np.arange(0,len(fib_eff_anc),1), fib_eff_anc, width=0.8, fc='purple', ec='none', alpha=0.5)\n",
    "        plt.bar(np.arange(0,len(fib_eff_sky),1), fib_eff_sky, width=0.8, fc='blue', ec='none', alpha=0.5)\n",
    "        plt.bar(np.arange(0,len(fib_eff_star),1), fib_eff_star, width=0.8, fc='gray', ec='none', alpha=0.5)\n",
    "\n",
    "        plt.plot([0,npoint_used+1.], [80,80], 'k--', lw=2, zorder=11)\n",
    "        plt.plot([0,npoint_used+1.], [np.mean(fib_eff_gal), np.mean(fib_eff_gal)], '--', color='tomato', lw=2, zorder=11)\n",
    "        plt.plot([0,npoint_used+1.], [np.mean(fib_eff_anc), np.mean(fib_eff_anc)], '--', color='purple', lw=2, zorder=11)\n",
    "        plt.plot([0,npoint_used+1.], [np.mean(fib_eff_sky), np.mean(fib_eff_sky)], '--', color='blue', lw=2, zorder=11)\n",
    "        plt.plot([0,npoint_used+1.], [np.mean(fib_eff_star), np.mean(fib_eff_star)], '--', color='gray', lw=2, zorder=11)\n",
    "\n",
    "        plt.text(npoint_used*0.8, 100, \"cosmology--{:2.2f}%\".format(np.mean(fib_eff_gal)), color='tomato', fontsize=12)\n",
    "        plt.text(npoint_used*0.8, 92, \"ancillary--{:2.2f}%\".format(np.mean(fib_eff_anc)), color='purple', fontsize=12)\n",
    "        plt.text(npoint_used*0.8, 84, \"sky--{:2.2f}%\".format(np.mean(fib_eff_sky)), color='blue', fontsize=12)\n",
    "        plt.text(npoint_used*0.8, 76, \"star--{:2.2f}%\".format(np.mean(fib_eff_star)), color='gray', fontsize=12)\n",
    "        plt.xlim(0, npoint_used+1.)\n",
    "        plt.ylim(0, 110.)\n",
    "        plt.xlabel('Pointing', fontsize=15)\n",
    "        plt.ylabel('fiber alloc fraction', fontsize=15)\n",
    "\n",
    "        plt.savefig(fn_fig, dpi=300, bbox_inches='tight')\n",
    "        plt.show()\n",
    "        plt.close()\n",
    "        \n",
    "    return comp_out\n",
    "\n",
    "    "
   ]
  },
  {
   "cell_type": "markdown",
   "metadata": {},
   "source": [
    "## execute function"
   ]
  },
  {
   "cell_type": "code",
   "execution_count": 3,
   "metadata": {},
   "outputs": [],
   "source": [
    "# (DONE)TODO-0: plot the distribution of the cosmology, star, and sky\n",
    "# (DONE)TODO-1: make posang and otime as input parameters\n",
    "# (DONE)TODO-2: test different otime outputs of tpos and netflow\n",
    "# (DONE)TODO-3: make bench, Gurobi options as input parameters\n",
    "# TODO-4: test different Gurobi options, vis_cost, cobraMoveCost\n",
    "# TODO-5: check blackDotPenalty, collision_distance, and minSkyTargetsPerInstrumentRegion\n",
    "# TODO-6: write code to get longer exposure in the 2nd visit for some targets\n",
    "# TODO-7: test which part of the code is the bottleneck\n",
    "def execute(peaks, tgt, classdict, alreadyObserved, t_obs = 900., two_stage = False, collision_sim_version = 2, tele_params={\"otime\":\"2025-08-20T11:00:00Z\", \"posang\":0.}, bench = None, cobracoach = None, gurobiOptions = None):\n",
    "    # get a complete, idealized focal plane configuration\n",
    "    if bench is None:\n",
    "        Exception(\"bench is not defined\")\n",
    "    if cobracoach is None:\n",
    "        Exception(\"cobracoach is not defined\")\n",
    "        \n",
    "    # test_a \n",
    "    # otime = \"2025-08-20T10:00:00Z\"\n",
    "    # test_b\n",
    "    # otime = \"2025-08-20T12:00:00Z\"\n",
    "    # test_c\n",
    "    # otime = \"2025-08-20T11:00:00Z\"\n",
    "\n",
    "    raTel, decTel = peaks[:, 0], peaks[:, 1]\n",
    "    posang = tele_params[\"posang\"]\n",
    "    otime = tele_params[\"otime\"]\n",
    "    telescopes = []\n",
    "\n",
    "    # number of distinct observations\n",
    "    nvisit = len(raTel)\n",
    "\n",
    "    # generate telescope pointings for every observation\n",
    "    for ii in range(nvisit):\n",
    "        telescopes.append(nf.Telescope(raTel[ii], decTel[ii], posang, otime))\n",
    "\n",
    "    # get focal plane positions for all targets and all visits\n",
    "    tpos = [tele.get_fp_positions(tgt) for tele in telescopes]\n",
    "    \n",
    "    # optional: slightly increase the cost for later observations,\n",
    "    # to observe as early as possible\n",
    "    # test_defualt \n",
    "    vis_cost = [0.1*i for i in range(nvisit)]\n",
    "    # test_vis_cost -- no difference in the output\n",
    "    # vis_cost = [0.*i for i in range(nvisit)]\n",
    "\n",
    "    # optional: penalize assignments where the cobra has to move far out\n",
    "    def cobraMoveCost(dist):\n",
    "        # test_default\n",
    "        return 0.01*dist \n",
    "        # test_cobraMoveCost, fiber efficency is slightly lower (75.40 versus 75.44) in one of the two pointings \n",
    "        # return 0.0001*dist\n",
    "    \n",
    "    # test_default\n",
    "    # blackDotPenalty = None\n",
    "    # optional: penalize assignments near the black dots\n",
    "    # test_blackDotPenalty, note distance is in mm, same as in cobraMoveCost\n",
    "    # --- fiber efficency is different, but not in a consistent way in the two pointings\n",
    "    def blackDotPenalty(dist):\n",
    "        #return 0.\n",
    "        return 0.01*(1. - 0.5 * dist)\n",
    "\n",
    "    # refer to gurobi website for information on these parameters, LogToConsole=1 will display the running process\n",
    "    if gurobiOptions is None:\n",
    "        gurobiOptions = dict(seed=0, presolve=1, method=4, degenmoves=0,\n",
    "                            heuristics=0.8, mipfocus=0, mipgap=5.e-2, LogToConsole=1)\n",
    "    \n",
    "    forbiddenPairs = []\n",
    "    for i in range(nvisit):\n",
    "        forbiddenPairs.append([])\n",
    "\n",
    "    print(\"solving the problem for stage=0 targets.\")\n",
    "    done = False\n",
    "    while not done:\n",
    "        # compute observation strategy for stage=0 targets (default: stage=0, preassigned=None)\n",
    "        prob0 = nf.buildProblem(bench, tgt, tpos, classdict, t_obs,\n",
    "                               vis_cost, cobraMoveCost=cobraMoveCost,\n",
    "                               collision_distance=2., elbow_collisions=True,\n",
    "                               gurobi=True, gurobiOptions=gurobiOptions,\n",
    "                               alreadyObserved=alreadyObserved,\n",
    "                               forbiddenPairs=forbiddenPairs, \n",
    "                               blackDotPenalty=blackDotPenalty)\n",
    "\n",
    "        prob0.solve()\n",
    "        #Obj0 = prob0._prob.objVal\n",
    "        \n",
    "        # extract solution for stage=0\n",
    "        res0 = [{} for _ in range(nvisit)]\n",
    "        for k1, v1 in prob0._vardict.items():\n",
    "            if k1.startswith(\"Tv_Cv_\"):\n",
    "                visited = prob0.value(v1) > 0\n",
    "                if visited:\n",
    "                    _, _, tidx, cidx, ivis = k1.split(\"_\")\n",
    "                    res0[int(ivis)][int(tidx)] = int(cidx)\n",
    "        #    \n",
    "        print(\"Checking for trajectory collisions\")\n",
    "        ncoll = 0\n",
    "        for ivis, (vis, tp) in enumerate(zip(res0, tpos)):\n",
    "            selectedTargets = np.full(len(bench.cobras.centers), NULL_TARGET_POSITION)\n",
    "            ids = np.full(len(bench.cobras.centers), NULL_TARGET_ID)\n",
    "            for tidx, cidx in vis.items():\n",
    "                selectedTargets[cidx] = tp[tidx]\n",
    "                ids[cidx] = \"\"\n",
    "            for i in range(selectedTargets.size):\n",
    "                if selectedTargets[i] != NULL_TARGET_POSITION:\n",
    "                    dist = np.abs(selectedTargets[i]-bench.cobras.centers[i])\n",
    "                    if dist > bench.cobras.L1[i] + bench.cobras.L2[i]:\n",
    "                        logger.warning(\n",
    "                            f\"(CobraId={i}) Distance from the center exceeds L1+L2 ({dist} mm)\"\n",
    "                        )\n",
    "\n",
    "            if collision_sim_version == 2:\n",
    "                simulator = CollisionSimulator2(bench, cobracoach, TargetGroup(selectedTargets, ids))\n",
    "            else:\n",
    "                simulator = CollisionSimulator(bench, TargetGroup(selectedTargets, ids))\n",
    "\n",
    "            simulator.run()\n",
    "            if np.any(simulator.endPointCollisions):\n",
    "                print(\"ERROR: detected %d end point collision, which should be impossible\" % simulator.nEndPointCollisions)\n",
    "\n",
    "            coll_tidx = []\n",
    "            for tidx, cidx in vis.items():\n",
    "                if simulator.collisions[cidx]:\n",
    "                    coll_tidx.append(tidx)\n",
    "            ncoll += len(coll_tidx)\n",
    "            for i1 in range(0,len(coll_tidx)):\n",
    "                found = False\n",
    "                for i2 in range(i1 + 1, len(coll_tidx)):\n",
    "                    if np.abs(tp[coll_tidx[i1]] - tp[coll_tidx[i2]])<10:\n",
    "                        forbiddenPairs[ivis].append((coll_tidx[i1],coll_tidx[i2]))\n",
    "                        found = True\n",
    "                if not found:  # not a collision between two active Cobras\n",
    "                    forbiddenPairs[ivis].append((coll_tidx[i1],))\n",
    "\n",
    "        print(\"trajectory collisions found:\", ncoll)\n",
    "        done = ncoll == 0\n",
    "        \n",
    "    print(\"Done: solving the problem for stage=0 targets.\")\n",
    "    \n",
    "    if((two_stage==False)):\n",
    "        clear_output()\n",
    "        return res0, tpos, telescopes\n",
    "    \n",
    "    ####################################\n",
    "    print(\"solving the problem for stage=1 targets.\")\n",
    "    #reset forbiddenPairs here again\n",
    "    forbiddenPairs = []\n",
    "    for i in range(nvisit):\n",
    "        forbiddenPairs.append([])\n",
    "    \n",
    "    # get preassigned_list\n",
    "    preassigned_list = [{} for _ in range(nvisit)] #list (dict(TargetID: Cobra index))\n",
    "    for i, vis in enumerate(res0):\n",
    "        for tidx, cidx in vis.items():\n",
    "            preassigned_list[i][tgt[tidx].ID] = cidx\n",
    "          \n",
    "    done = False\n",
    "    while not done:\n",
    "        #note adding stage=1 in nf.buildProblem() does not make too much difference\n",
    "        prob1 = nf.buildProblem(bench, tgt, tpos, classdict, t_obs,\n",
    "                                vis_cost, cobraMoveCost=cobraMoveCost,\n",
    "                                collision_distance=2., elbow_collisions=True,\n",
    "                                gurobi=True, gurobiOptions=gurobiOptions,\n",
    "                                alreadyObserved=alreadyObserved,\n",
    "                                forbiddenPairs=forbiddenPairs,\n",
    "                                blackDotPenalty=blackDotPenalty,\n",
    "                                stage=1, preassigned=preassigned_list)\n",
    "        \n",
    "        \n",
    "        prob1.solve()\n",
    "        #Obj1 = prob1._prob.objVal\n",
    "            \n",
    "        # extract solution for stage=1\n",
    "        res = [{} for _ in range(nvisit)]\n",
    "        for k1, v1 in prob1._vardict.items():\n",
    "            if k1.startswith(\"Tv_Cv_\"):\n",
    "                visited = prob1.value(v1) > 0\n",
    "                if visited:\n",
    "                    _, _, tidx, cidx, ivis = k1.split(\"_\")\n",
    "                    res[int(ivis)][int(tidx)] = int(cidx)\n",
    "        \n",
    "\n",
    "        print(\"Checking for trajectory collisions\")\n",
    "        ncoll = 0\n",
    "        for ivis, (vis, tp) in enumerate(zip(res, tpos)):\n",
    "            selectedTargets = np.full(len(bench.cobras.centers), NULL_TARGET_POSITION)\n",
    "            ids = np.full(len(bench.cobras.centers), NULL_TARGET_ID)\n",
    "            for tidx, cidx in vis.items():\n",
    "                selectedTargets[cidx] = tp[tidx]\n",
    "                ids[cidx] = \"\"\n",
    "            for i in range(selectedTargets.size):\n",
    "                if selectedTargets[i] != NULL_TARGET_POSITION:\n",
    "                    dist = np.abs(selectedTargets[i]-bench.cobras.centers[i])\n",
    "                    if dist > bench.cobras.L1[i] + bench.cobras.L2[i]:\n",
    "                        logger.warning(\n",
    "                            f\"(CobraId={i}) Distance from the center exceeds L1+L2 ({dist} mm)\"\n",
    "                        )\n",
    "\n",
    "            if collision_sim_version == 2:\n",
    "                simulator = CollisionSimulator2(bench, cobracoach, TargetGroup(selectedTargets, ids))\n",
    "            else:\n",
    "                simulator = CollisionSimulator(bench, TargetGroup(selectedTargets, ids))\n",
    "            simulator.run()\n",
    "            if np.any(simulator.endPointCollisions):\n",
    "                print(\"ERROR: detected %d end point collision, which should be impossible\" % simulator.nEndPointCollisions)\n",
    "            coll_tidx = []\n",
    "            for tidx, cidx in vis.items():\n",
    "                if simulator.collisions[cidx]:\n",
    "                    coll_tidx.append(tidx)\n",
    "            ncoll += len(coll_tidx)\n",
    "            for i1 in range(0,len(coll_tidx)):\n",
    "                found = False\n",
    "                for i2 in range(i1+1,len(coll_tidx)):\n",
    "                    if np.abs(tp[coll_tidx[i1]]-tp[coll_tidx[i2]])<10:\n",
    "                        forbiddenPairs[ivis].append((coll_tidx[i1],coll_tidx[i2]))\n",
    "                        found = True\n",
    "                if not found:  # not a collision between two active Cobras\n",
    "                    forbiddenPairs[ivis].append((coll_tidx[i1],))\n",
    "\n",
    "        print(\"trajectory collisions found:\", ncoll)\n",
    "        done = ncoll == 0\n",
    "        \n",
    "    print(\"Done: solving the problem for stage=1 targets.\")\n",
    "    ####################################\n",
    "    \n",
    "    '''\n",
    "    if((two_stage == True)):\n",
    "        print(\"objVal0 = %f, objVal1=%f\" % (Obj0, Obj1))   \n",
    "    else:\n",
    "        print(\"objVal0 = %f\" % (Obj0)) \n",
    "    '''\n",
    "        \n",
    "    clear_output()\n",
    "    return res, tpos, telescopes"
   ]
  },
  {
   "cell_type": "markdown",
   "metadata": {},
   "source": [
    "## write pfsDesign file"
   ]
  },
  {
   "cell_type": "code",
   "execution_count": 4,
   "metadata": {},
   "outputs": [],
   "source": [
    "# TODO: this function is not working and can be removed later\n",
    "def write_pfsDesign(fdir_out, fn_out, res, tpos, telescopes, tgt, classdict):\n",
    "    '''write the output of fiber assignment\n",
    "    Parameters\n",
    "    ==========\n",
    "    fdir_out: string\n",
    "        output folder directory\n",
    "    fn_out: string\n",
    "        output file name\n",
    "        \n",
    "    '''\n",
    "    for i, (vis, tp, tel) in enumerate(zip(res, tpos, telescopes)):\n",
    "        io_helpers.writePfsDesign(pfsDesignDirectory=fdir_out, vis=vis, tp=tp, tel=tel, tgt=tgt, classdict=classdict)"
   ]
  },
  {
   "cell_type": "markdown",
   "metadata": {},
   "source": [
    "## plot_filter_fov function"
   ]
  },
  {
   "cell_type": "code",
   "execution_count": 5,
   "metadata": {},
   "outputs": [],
   "source": [
    "# TODO: same function as in pointings.ipynb\n",
    "def plot_filter_fov(raP, decP, raSci, decSci, PA=0, n_sci_fov_least=3000, filter_fov=True):\n",
    "    '''plot one PFS FoV (hexagon) centered at the pointing center\n",
    "    \n",
    "    NOTE\n",
    "    ==========\n",
    "    flag_fov_reserved is obtained by using a threshold of targets in the FoV\n",
    "\n",
    "    Parameters\n",
    "    ==========\n",
    "    raP, decP, PA : float\n",
    "        ra, dec, PA of the pointing center\n",
    "\n",
    "    raSci, decSci: numpy array, float\n",
    "        ra, dec of the scientific targets\n",
    "        only used to check the number of scientific targets in the FoV\n",
    "    \n",
    "    n_sci_fov_least: int\n",
    "        the least number of scientific targets in the FoV\n",
    "\n",
    "    filter_fov: Boolean\n",
    "        if True, plot/select the FoV only when there are enough scientific targets in the FoV\n",
    "\n",
    "        \n",
    "    Returns\n",
    "    =======\n",
    "    plot a hexagon at the pointing center with diameter=1.38 deg\n",
    "    \n",
    "    flag_fov_reserved: Boolean, used to remove the pointing w/o enough scientific targets \n",
    "    '''\n",
    "    \n",
    "    center = SkyCoord(raP*u.deg, decP*u.deg)\n",
    "    # PA=0 along y-axis, PA=90 along x-axis, PA=180 along -y-axis...\n",
    "    hexagon = center.directional_offset_by([0+PA, 60+PA, 120+PA, 180+PA, 240+PA, 300+PA, 360+PA]*u.deg, 1.38/2.*u.deg)\n",
    "    ra_h = hexagon.ra.deg\n",
    "    dec_h = hexagon.dec.deg\n",
    "\n",
    "    ra_h_in = np.where(np.fabs(ra_h-center.ra.deg)>180)\n",
    "    if len(ra_h_in[0])>0:\n",
    "        if ra_h[ra_h_in[0][0]]>180:ra_h[ra_h_in[0]]-=360\n",
    "        elif ra_h[ra_h_in[0][0]]<180:ra_h[ra_h_in[0]]+=360\n",
    "        #pdb.set_trace()\n",
    "\n",
    "    # scientific targets\n",
    "    point = np.vstack((raSci, decSci)).T\n",
    "    \n",
    "    # TODO: revise the polygon.contains_points for the ra near 0 and 360 cases\n",
    "    if filter_fov:\n",
    "        polygon = Path([(ra_h[t],dec_h[t]) for t in range(len(ra_h))])\n",
    "        index_ = np.where(polygon.contains_points(point)==True)[0]\n",
    "\n",
    "        if(len(index_)<n_sci_fov_least):\n",
    "            flag_fov_reserved = False\n",
    "        else:\n",
    "            flag_fov_reserved = True\n",
    "            plt.plot(ra_h, dec_h, color='r', lw=0.5, ls='-', alpha=1., zorder=5)\n",
    "    else:\n",
    "        flag_fov_reserved = True\n",
    "        plt.plot(ra_h, dec_h, color='r', lw=0.5, ls='-', alpha=1., zorder=5)\n",
    "    \n",
    "    return flag_fov_reserved"
   ]
  },
  {
   "cell_type": "markdown",
   "metadata": {},
   "source": [
    "## check_output function"
   ]
  },
  {
   "cell_type": "code",
   "execution_count": 6,
   "metadata": {},
   "outputs": [],
   "source": [
    "# TODO: make this function useful for one/multiple pointings, plot the cosmology, star, sky and ancillary targets using different colors\n",
    "def plot_tgt_done(outfn_list, figname, figsize=(8, 8), plot_diffcolor=True):\n",
    "    '''\n",
    "    plot the targets that have been assigned to the fibers\n",
    "    '''\n",
    "    for i, fn_i in enumerate(outfn_list):\n",
    "        tgt_id_done, tgt_ra_done, tgt_dec_done = np.loadtxt(fn_i, usecols=(0, 4, 5), unpack=True, dtype='str')\n",
    "        tgt_ra_done, tgt_dec_done = tgt_ra_done.astype('float'), tgt_dec_done.astype('float')\n",
    "\n",
    "        mask_cos = [tgt_id_done[i][1:4] == 'Cos' for i in range(len(tgt_id_done))]\n",
    "        mask_star = [tgt_id_done[i][1:4] == 'Sta' for i in range(len(tgt_id_done))]\n",
    "        mask_sky = [tgt_id_done[i][1:4] == 'Sky' for i in range(len(tgt_id_done))]\n",
    "        mask_anc = [tgt_id_done[i][1:4] == 'Anc' for i in range(len(tgt_id_done))]\n",
    "\n",
    "        if(plot_diffcolor):\n",
    "            if(i==0): \n",
    "                plt.figure(figsize = figsize)\n",
    "                plt.plot(tgt_ra_done[mask_cos], tgt_dec_done[mask_cos], 'k.', ms=0.5, alpha=0.5, label='cosmology')\n",
    "                plt.plot(tgt_ra_done[mask_star], tgt_dec_done[mask_star], 'r*', ms=1.5, alpha=1., label='star')\n",
    "                plt.plot(tgt_ra_done[mask_sky], tgt_dec_done[mask_sky], 'b^', ms=1.5, alpha=1., label='sky')\n",
    "                plt.plot(tgt_ra_done[mask_anc], tgt_dec_done[mask_anc], 'gs', ms=1.5, alpha=1., label='ancillary')\n",
    "            else:\n",
    "                plt.plot(tgt_ra_done[mask_cos], tgt_dec_done[mask_cos], 'k.', ms=0.5, alpha=0.5)\n",
    "                plt.plot(tgt_ra_done[mask_star], tgt_dec_done[mask_star], 'r*', ms=1.5, alpha=1.)\n",
    "                plt.plot(tgt_ra_done[mask_sky], tgt_dec_done[mask_sky], 'b^', ms=1.5, alpha=1.)\n",
    "                plt.plot(tgt_ra_done[mask_anc], tgt_dec_done[mask_anc], 'gs', ms=1.5, alpha=1.)\n",
    "        else:\n",
    "            if(i==0): \n",
    "                plt.figure(figsize = figsize)\n",
    "                plt.plot(tgt_ra_done, tgt_dec_done, 'k.', ms=0.5, alpha=0.5, label='targets done')\n",
    "            else:\n",
    "                plt.plot(tgt_ra_done, tgt_dec_done, 'k.', ms=0.5, alpha=0.5)\n",
    "\n",
    "    plt.legend(loc='upper right', fontsize=15, frameon=True)\n",
    "    plt.xlabel('RA', fontsize=15)\n",
    "    plt.ylabel('DEC', fontsize=15)\n",
    "    plt.savefig(figname, dpi=300, bbox_inches='tight')\n",
    "    plt.show()\n",
    "    plt.close()"
   ]
  },
  {
   "cell_type": "markdown",
   "metadata": {},
   "source": [
    "## set bench"
   ]
  },
  {
   "cell_type": "code",
   "execution_count": 7,
   "metadata": {},
   "outputs": [],
   "source": [
    "# TODO: check with project office if the following function is correct\n",
    "# double check calibration_ga using https://github.com/Subaru-PFS/ets_pointing/blob/afa0ff9577f3077ae1fd758bb3ddd426e8d24f4d/src/pfs_design_tool/pointing_utils/nfutils.py#L47\n",
    "import pathlib\n",
    "def create_bench(layout=\"full\"):\n",
    "    '''\n",
    "    set bench using different methods\n",
    "\n",
    "    using CollisionSimulator2 for trajectory collision check when layout is not \"full\"\n",
    "    '''\n",
    "    cobra_coach_dir = \"./cobra_coach_temp/\"\n",
    "    fiberids_path = \"./pfs_utils-w.2024.45/data/fiberids/\"\n",
    "    pfs_black_dots_path = \"./pfs_instdata-1.8.14/data/pfi/dot/black_dots_mm.csv\"\n",
    "    pfs_pfi_module_path = pathlib.Path(\"./pfs_instdata-1.8.14/data/pfi/modules/ALL/ALL_final.xml\")\n",
    "    #pfs_black_dots_path = \"./pfs_instdata-1.8.8/data/pfi/dot/black_dots_mm.csv\"\n",
    "    #pfs_pfi_module_path = pathlib.Path(\"./pfs_instdata-1.8.8/data/pfi/modules/ALL/ALL_final.xml\")\n",
    "    \n",
    "    pfs_instdata_path = \"./pfs_instdata-1.8.14/\"\n",
    "    os.environ[\"PFS_INSTDATA_DIR\"] = pfs_instdata_path\n",
    "\n",
    "\n",
    "    spectrograph_modules = [1, 2, 3, 4]\n",
    "\n",
    "    # Create the cobra coach temp directory if it does not exist\n",
    "    if not os.path.isdir(cobra_coach_dir):\n",
    "        os.makedirs(cobra_coach_dir, exist_ok=True)\n",
    "    print(f\"Created cobra coach temp directory: {cobra_coach_dir}\")\n",
    "    \n",
    "\n",
    "    if layout == \"full\":\n",
    "        '''\n",
    "        use CollisionSimulator (not CollisionSimulator2) when layout is \"full\"\n",
    "        '''\n",
    "        bench = Bench(layout=\"full\")\n",
    "        cobracoach = None\n",
    "    elif layout == \"calibration\":\n",
    "        '''\n",
    "        use the same code as in GA github repository, i.e.,\n",
    "        _create_configured_bench() https://github.com/Subaru-PFS-GA/ga_targeting/blob/master/python/pfs/ga/targeting/instrument/subarupfi.py\n",
    "        '''\n",
    "        cobracoach = CobraCoach(\"fpga\", loadModel=False, trajectoryMode=True, rootDir=cobra_coach_dir)\n",
    "        cobracoach.loadModel(version=\"ALL\", moduleVersion=None)\n",
    "        calibrationProduct = cobracoach.calibModel\n",
    "\n",
    "        # Set some dummy center positions and phi angles for those cobras that have\n",
    "        # zero centers\n",
    "        zeroCenters = calibrationProduct.centers == 0\n",
    "        calibrationProduct.centers[zeroCenters] = np.arange(np.sum(zeroCenters)) * 300j\n",
    "        calibrationProduct.phiIn[zeroCenters] = -np.pi\n",
    "        calibrationProduct.phiOut[zeroCenters] = 0\n",
    "        print(\"Cobras with zero centers: %i\" % np.sum(zeroCenters))\n",
    "\n",
    "        # Use the median value link lengths in those cobras with zero link lengths\n",
    "        zeroLinkLengths = (calibrationProduct.L1 == 0) | (calibrationProduct.L2 == 0)\n",
    "        calibrationProduct.L1[zeroLinkLengths] = np.median(calibrationProduct.L1[~zeroLinkLengths])\n",
    "        calibrationProduct.L2[zeroLinkLengths] = np.median(calibrationProduct.L2[~zeroLinkLengths])\n",
    "        print(\"Cobras with zero link lengths: %i\" % np.sum(zeroLinkLengths))\n",
    "\n",
    "        # Use the median value link lengths in those cobras with too long link lengths (extra part compared to ga setting)\n",
    "        tooLongLinkLengths = np.logical_or(\n",
    "            calibrationProduct.L1 > 100, calibrationProduct.L2 > 100\n",
    "        )\n",
    "        calibrationProduct.L1[tooLongLinkLengths] = np.median(\n",
    "            calibrationProduct.L1[~tooLongLinkLengths]\n",
    "        )\n",
    "        calibrationProduct.L2[tooLongLinkLengths] = np.median(\n",
    "            calibrationProduct.L2[~tooLongLinkLengths]\n",
    "        )\n",
    "        print(\"Cobras with too long link lengths: %i\" % np.sum(tooLongLinkLengths))\n",
    "\n",
    "        # Limit spectral modules\n",
    "        gfm = FiberIds(path=fiberids_path) \n",
    "        cobra_ids_use = np.array([], dtype=np.uint16)\n",
    "        for sm in spectrograph_modules:\n",
    "            cobra_ids_use = np.append(cobra_ids_use, gfm.cobrasForSpectrograph(sm))\n",
    "\n",
    "        # Set Bad Cobra status for unused spectral modules\n",
    "        for cobra_id in range(calibrationProduct.nCobras):\n",
    "            if cobra_id not in cobra_ids_use:\n",
    "                calibrationProduct.status[cobra_id] = ~PFIDesign.COBRA_OK_MASK\n",
    "            \n",
    "        bench = Bench(\n",
    "                layout=\"calibration\",                       \n",
    "                calibrationProduct=calibrationProduct,\n",
    "                blackDotsCalibrationProduct=BlackDotsCalibrationProduct(pfs_black_dots_path)\n",
    "                )\n",
    "        \n",
    "        print(\"Number of cobras:\", bench.cobras.nCobras)\n",
    "\n",
    "    return bench, cobracoach"
   ]
  },
  {
   "cell_type": "markdown",
   "metadata": {},
   "source": [
    "## check bench and simulator results after running"
   ]
  },
  {
   "cell_type": "code",
   "execution_count": 8,
   "metadata": {},
   "outputs": [],
   "source": [
    "def check_bench_simulator(bench, simulator, vis):\n",
    "    '''\n",
    "    check the bench for the cobras\n",
    "    '''\n",
    "    mask_broken_cobras = bench.cobras.status!=1\n",
    "    bench.cobras.status[mask_broken_cobras] #1 for good cobras\n",
    "    # print number of good cobras and broken cobras\n",
    "    print(\"Number of good cobras: %d\" % np.sum(bench.cobras.status==1))\n",
    "    print(\"Number of broken cobras: %d\" % np.sum(bench.cobras.status!=1))\n",
    "    # print number of cobras\n",
    "    print(\"Number of cobras: %d\" % bench.cobras.nCobras)\n",
    "\n",
    "    # print rMin and rMax for the broken cobras\n",
    "    print(\"broken cobras e.g.: \\n\", bench.cobras.rMin[mask_broken_cobras][:10], \"\\n\", bench.cobras.rMax[mask_broken_cobras][:10])\n",
    "    print(\"good cobras e.g.: \\n\", bench.cobras.rMin[~mask_broken_cobras][:10], \"\\n\", bench.cobras.rMax[~mask_broken_cobras][:10])\n",
    "\n",
    "    # print the number of broken cobras with rMin>rMax, rMin<rMax, rMin=rMax separately\n",
    "    print(\"Number of broken cobras with rMin>rMax: %d\" % np.sum(bench.cobras.rMin[mask_broken_cobras]>bench.cobras.rMax[mask_broken_cobras]))\n",
    "    print(\"Number of broken cobras with rMin<rMax: %d\" % np.sum(bench.cobras.rMin[mask_broken_cobras]<bench.cobras.rMax[mask_broken_cobras]))\n",
    "    print(\"Number of broken cobras with rMin=rMax: %d\" % np.sum(bench.cobras.rMin[mask_broken_cobras]==bench.cobras.rMax[mask_broken_cobras]))\n",
    "\n",
    "    # check whether home0 and home1 are the same for broken cobras\n",
    "    mask_home0 = bench.cobras.home0[mask_broken_cobras]!=bench.cobras.home1[mask_broken_cobras] #note not all cobras have home0==home1\n",
    "    print(\"Number of broken cobras with home0!=home1: %d\" % np.sum(mask_home0))\n",
    "\n",
    "    mask_broken_cobras_rMin_rMax = bench.cobras.rMin[mask_broken_cobras]<bench.cobras.rMax[mask_broken_cobras]\n",
    "\n",
    "    # check the home and position of the broken cobras \n",
    "    print(\"Home0 position of the broken cobras: \\n\", bench.cobras.home0[mask_broken_cobras][~mask_broken_cobras_rMin_rMax][:5])\n",
    "    print(\"Center position of the broken cobras: \\n\", bench.cobras.centers[mask_broken_cobras][~mask_broken_cobras_rMin_rMax][:5])\n",
    "\n",
    "    print(\"Home0 position of the rMin<rMax broken cobras: \\n\", bench.cobras.home0[mask_broken_cobras][mask_broken_cobras_rMin_rMax])\n",
    "    print(\"Center position of the rMin<rMax broken cobras: \\n\", bench.cobras.centers[mask_broken_cobras][mask_broken_cobras_rMin_rMax])\n",
    "\n",
    "    # part of the code in CollisionSimulator2()\n",
    "    cobraAssociations = bench.cobraAssociations\n",
    "    linkRadius = bench.cobras.linkRadius\n",
    "\n",
    "    startPoints1 = simulator.fiberPositions[cobraAssociations[0]].ravel()\n",
    "    endPoints1 = simulator.elbowPositions[cobraAssociations[0]].ravel()\n",
    "    startPoints2 = simulator.fiberPositions[cobraAssociations[1]].ravel()\n",
    "    endPoints2 = simulator.elbowPositions[cobraAssociations[1]].ravel()\n",
    "    distances = bench.distancesBetweenLineSegments(startPoints1, endPoints1, startPoints2, endPoints2)\n",
    "\n",
    "    # Reshape the distances array\n",
    "    distances = distances.reshape((len(cobraAssociations[0]), simulator.nSteps))\n",
    "\n",
    "    # Detect trajectory collisions between cobra associations\n",
    "    minimumSeparation = linkRadius[cobraAssociations[0]] + linkRadius[cobraAssociations[1]]\n",
    "    trajectoryCollisions = distances < minimumSeparation[:, np.newaxis]\n",
    "\n",
    "    # Check which cobra associations are affected by collisions\n",
    "    simulator.associationCollisions = np.any(trajectoryCollisions, axis=1)\n",
    "    simulator.associationEndPointCollisions = trajectoryCollisions[:, -1] #last step of nSteps\n",
    "\n",
    "\n",
    "    print(\"bad cobras: \", np.where(simulator.goodCobras == False)[0])\n",
    "    cobras_bad = np.where(simulator.goodCobras == False)[0]\n",
    "\n",
    "    print(bench.cobraAssociations[:, simulator.associationEndPointCollisions])\n",
    "\n",
    "\n",
    "    cid_assigned = []\n",
    "    for tidx, cidx in vis.items():\n",
    "        cid_assigned.append(cidx)\n",
    "    cid_assigned = np.array(cid_assigned)\n",
    "\n",
    "    # check whether cobra_associations_collision in cid_assigned\n",
    "    cobra_associations_collision = bench.cobraAssociations[:, simulator.associationCollisions]\n",
    "\n",
    "    result = np.isin(cobra_associations_collision.ravel(), cid_assigned)\n",
    "    print(result)"
   ]
  },
  {
   "cell_type": "markdown",
   "metadata": {},
   "source": [
    "# Jan25 run function"
   ]
  },
  {
   "cell_type": "code",
   "execution_count": 9,
   "metadata": {},
   "outputs": [],
   "source": [
    "from astropy.io import fits, ascii\n",
    "def read_proc_pointings_Jan25(fdir, outdir, prefix, field):\n",
    "    # read the orginal pointings\n",
    "    pointings = ascii.read(fdir + prefix + '_field-{}_pointings_v1.csv'.format(field))\n",
    "    # save the pointings[::4] to a new file\n",
    "    ascii.write(pointings[::4], outdir + 'field_{}_pointings.csv'.format(field), format='csv', overwrite=True)\n",
    "\n",
    "    return pointings[::4]"
   ]
  },
  {
   "cell_type": "markdown",
   "metadata": {},
   "source": [
    "# main function"
   ]
  },
  {
   "cell_type": "code",
   "execution_count": 10,
   "metadata": {},
   "outputs": [],
   "source": [
    "# TODO: revise the two-stage code structure\n",
    "def main(outdir, data_dir, update_tgt_file, pointings, prefix, field, Li_list, visit, fn_list, prefix_list, calibration_list, tele_params, bench, cobracoach, two_stage=False, gurobiOptions=None, collision_sim_version=2):\n",
    "    '''\n",
    "    main function to run the fiber assignment for the cosmology, star, and sky targets\n",
    "    '''\n",
    "    t0 = time.time()\n",
    "\n",
    "    ########################\n",
    "    \n",
    "    if(gurobiOptions is None):\n",
    "        gurobiOptions = dict(seed=0, presolve=1, method=4, degenmoves=0, heuristics=0.8, mipfocus=0, mipgap=5.e-2, LogToConsole=1)\n",
    "\n",
    "    ########################\n",
    "    classdict = def_classdict()\n",
    "\n",
    "    ########################    \n",
    "    tgt, sample_sci = construct_tgt_list(catalog_path=data_dir, fn_list=fn_list, prefix_list=prefix_list, calibration_list=calibration_list)\n",
    "    \n",
    "    n_sci = sample_sci.shape[0]\n",
    "    ra_sci = sample_sci[:, 1].astype('float')\n",
    "    dec_sci = sample_sci[:, 2].astype('float')\n",
    "    \n",
    "\n",
    "    # set the stage of cosmology targets to be 1 (i.e. stage=0 for calibration targets to get a uniform distribution for calibration targets)\n",
    "    # TODO: use CobraGroup to get a uniform distribution for calibration targets\n",
    "    for t in tgt:\n",
    "        if t.targetclass[:3] == 'sci': t.stage = 1\n",
    "\n",
    "    t1 = time.time()\n",
    "    print(\"Time passed - construct target list: %.2f secs\" % (t1-t0))\n",
    "    ########################\n",
    "    # read the pointing centers from the file\n",
    "    ra_peaks, dec_peaks = pointings['ppc_ra'], pointings['ppc_dec']\n",
    "    peaks = np.array([ra_peaks, dec_peaks]).T\n",
    "    npoint = peaks.shape[0]\n",
    "    print(\"There are %d pointings.\" % npoint)\n",
    "    \n",
    "    # plot the pointing and samples\n",
    "    plt.figure(figsize=(6, 6))\n",
    "    print(\"  Your sample (gray), with the pointings (red):\")\n",
    "    plt.plot(ra_sci, dec_sci, 'k.', ms=0.2, alpha=0.5)\n",
    "\n",
    "    for raP, decP in zip(peaks[:, 0], peaks[:, 1]):\n",
    "        flag_fov_reserved = plot_filter_fov(raP, decP, ra_sci, dec_sci, PA=0, n_sci_fov_least=4000, filter_fov=True)\n",
    "\n",
    "    plt.xlabel('RA', fontsize=20)\n",
    "    plt.ylabel('DEC', fontsize=20)\n",
    "    plt.savefig(outdir + prefix + 'field_{}_fov_plot.png'.format(field), dpi=300, bbox_inches='tight')\n",
    "    plt.show()\n",
    "    plt.close()\n",
    "\n",
    "    t2 = time.time()\n",
    "    print(\"Time passed - read pointings and plot for a small region: %.2f secs\" % (t2-t1))\n",
    "    \n",
    "    # initialize the alreadyObserved dictionary\n",
    "    alreadyObserved={}\n",
    "    for t in tgt:\n",
    "        alreadyObserved[t.ID] = 0\n",
    "        \n",
    "    # set the alreadyObserved dictionary using the alreadyObserved column in the target list (needed for the 2nd visit for sure)\n",
    "    data_table = ascii.read(data_dir + prefix + 'field_{}_targets.ecsv'.format(field))\n",
    "    mask_done = data_table['AlreadyObserved'] == 1\n",
    "    for t in data_table['ID'][mask_done]:\n",
    "        alreadyObserved[t] = 1\n",
    "\n",
    "    # do the run\n",
    "    fov_diag = 1.38/2. # >=half of the diameter of the FoV\n",
    "    outfn_list = []\n",
    "    tgt_id_done_list = np.array([])\n",
    "    for peak, Li in zip(peaks, Li_list):\n",
    "        # select the tgt list for the pointing\n",
    "        tgt_ra = [tgt[i].ra for i in range(len(tgt))]\n",
    "        tgt_dec = [tgt[i].dec for i in range(len(tgt))]\n",
    "        # TO-DO: deal with the case when the ra is near 0 and 360\n",
    "        mask_tgt = (tgt_ra>peak[0]-fov_diag) & (tgt_ra<peak[0]+fov_diag) & (tgt_dec>peak[1]-fov_diag) & (tgt_dec<peak[1]+fov_diag)\n",
    "        tgt_peak = np.array(tgt)[mask_tgt].tolist()\n",
    "        print(\"field - %s, %s (%f, %f): %d targets in the FoV.\" % (field, Li, peak[0], peak[1], len(tgt_peak)))\n",
    "\n",
    "        # (Done) TODO: update the alreadyObserved dictionary\n",
    "        # TODO: rewrite the write_output and cal_completeness part\n",
    "\n",
    "        # excute the fiber assignment\n",
    "        res, tpos, telescopes = execute(np.array([peak]), tgt_peak, classdict, alreadyObserved, t_obs=1800., two_stage=two_stage, collision_sim_version=collision_sim_version, bench=bench, cobracoach=cobracoach, gurobiOptions=gurobiOptions, tele_params=tele_params)\n",
    "\n",
    "        outfn = prefix + 'field_%s_%s_visit%d.txt'%(field, Li, visit)\n",
    "        write_output(tgt_peak, res, tpos, telescopes, outdir, outfn)\n",
    "\n",
    "        outfn_list.append(outdir + outfn)\n",
    "        \n",
    "        # calculate the completeness and fiber assignment fraction\n",
    "        comp_out_tmp1 = cal_completeness(tgt_peak, res, tpos, telescopes, Plot=True, fn_fig=outdir+prefix+'field_%s_%s_visit%d.jpg'%(field, Li, visit), \\\n",
    "                                        Save=True, fn_fibeff=outdir+prefix+'field_%s_%s_visit%d_fibeff.txt'%(field, Li, visit))\n",
    "        \n",
    "        # output the completeness and fiber assignment fraction\n",
    "        data_dict = {key: [value] for key, value in comp_out_tmp1.items()}\n",
    "        df = pd.DataFrame(data_dict)\n",
    "        df.to_csv(outdir + prefix + 'field_%s_%s_visit%d_comp.txt'%(field, Li, visit), index=False)\n",
    "        print(\"comp_out_tmp1 = \", comp_out_tmp1)\n",
    "\n",
    "        # update alreadyObserved\n",
    "        # TODO: revise the code for a more general case\n",
    "        tgt_id_done = np.loadtxt(outdir + outfn, usecols=(0, ), unpack=True, dtype='str')\n",
    "        for t in tgt_id_done:\n",
    "            if(t[1:4]=='Cos'): alreadyObserved[str(t)] = 1\n",
    "\n",
    "        tgt_id_done_list = np.append(tgt_id_done_list, tgt_id_done)\n",
    "\n",
    "        print(\"%f secs passed after the visits done for field_%s_%s_visit%d.\" % (time.time()-t0, field, Li, visit))\n",
    "        \n",
    "        plot_tgt_done([outdir+outfn], outdir+'tgt_done_field_%s_%s_visit%d.jpg'%(field, Li, visit), figsize=(6, 6))\n",
    "\n",
    "    # update the AlreadyObserved column in the target list\n",
    "    # TODO: do it in a more efficient way\n",
    "    if (update_tgt_file):\n",
    "        mask_done = np.in1d(data_table['ID'], tgt_id_done_list)\n",
    "        data_table['AlreadyObserved'][mask_done] = 1 \n",
    "        data_table.write(data_dir + prefix + 'field_{}_targets.ecsv'.format(field), format='ascii.ecsv', overwrite=True)\n"
   ]
  },
  {
   "cell_type": "markdown",
   "metadata": {},
   "source": [
    "# run"
   ]
  },
  {
   "cell_type": "code",
   "execution_count": 11,
   "metadata": {},
   "outputs": [
    {
     "name": "stdout",
     "output_type": "stream",
     "text": [
      "Created cobra coach temp directory: ./cobra_coach_temp/\n"
     ]
    },
    {
     "name": "stderr",
     "output_type": "stream",
     "text": [
      "2025-01-17 16:27:30.621Z cobraCoach       30 cobraCoach.py:164 setting invisible cobras: [173, 648, 799, 853, 949, 1173, 1653, 1724, 2182]\n",
      "2025-01-17 16:27:30.705Z cobraCoach       30 cobraCoach.py:175 setting bad cobras: [47, 50, 173, 193, 347, 361, 648, 754, 799, 821, 853, 949, 1150, 1173, 1208, 1210, 1520, 1580, 1653, 1724, 1791, 1825, 1836, 1882, 1903, 2053, 2182, 2352, 2380]\n",
      "2025-01-17 16:27:30.716Z cobraCoach       20 cobraCoach.py:273 cc connecting to fpga....\n",
      "2025-01-17 16:27:30.719Z butler           30 butler.py:59 newRun: cobra_coach_temp/20250117_019\n"
     ]
    },
    {
     "name": "stdout",
     "output_type": "stream",
     "text": [
      "Cobras with zero centers: 0\n",
      "Cobras with zero link lengths: 0\n",
      "Cobras with too long link lengths: 0\n",
      "Number of cobras: 2394\n"
     ]
    }
   ],
   "source": [
    "bench, cobracoach = create_bench(layout=\"calibration\")\n"
   ]
  },
  {
   "cell_type": "code",
   "execution_count": 12,
   "metadata": {},
   "outputs": [
    {
     "name": "stdout",
     "output_type": "stream",
     "text": [
      "exposure 0:\n",
      "  assigned Cobras: 2260\n",
      "   sky: 400\n",
      "   cal: 200\n",
      "   sci_P2: 1311\n",
      "   sci_P1: 349\n",
      "exposure 0:\n",
      "assigned Cobras(%): 94.40%; gal--69.34%, anc--0.00%, sky--16.71%, star--8.35%\n",
      "comp_out= {'cal': 0.5235602094240838, 'sci_P1': 0.49644381223328593, 'sci_P2': 0.04130825219775026, 'sky': 0.006925447557048374}\n",
      "['sci_P1' 'sci_P2']\n"
     ]
    },
    {
     "data": {
      "image/png": "[encoded data removed]",
      "text/plain": [
       "<Figure size 1200x400 with 2 Axes>"
      ]
     },
     "metadata": {},
     "output_type": "display_data"
    },
    {
     "name": "stdout",
     "output_type": "stream",
     "text": [
      "comp_out_tmp1 =  {'cal': 0.5235602094240838, 'sci_P1': 0.49644381223328593, 'sci_P2': 0.04130825219775026, 'sky': 0.006925447557048374}\n",
      "1550.577274 secs passed after the visits done for field_a_L3_visit1.\n"
     ]
    },
    {
     "data": {
      "image/png": "[encoded data removed]",
      "text/plain": [
       "<Figure size 600x600 with 1 Axes>"
      ]
     },
     "metadata": {},
     "output_type": "display_data"
    },
    {
     "name": "stderr",
     "output_type": "stream",
     "text": [
      "2025-01-17 16:53:24.240Z root             10 CoordTransp.py:306 0.0\n",
      "2025-01-17 16:53:24.244Z root             20 DistortionCoefficients.py:688 2016.0\n",
      "2025-01-17 16:53:24.245Z root             10 DistortionCoefficients.py:690 9.062970568104038 yr\n",
      "2025-01-17 16:53:24.246Z root             10 DistortionCoefficients.py:701 1e-08 mas\n",
      "/Users/jing/anaconda3/lib/python3.10/site-packages/erfa/core.py:154: ErfaWarning: ERFA function \"pmsafe\" yielded 1 of \"distance overridden (Note 6)\"\n",
      "  warnings.warn('ERFA function \"{}\" yielded {}'.format(func_name, wmsg),\n",
      "2025-01-17 16:53:24.315Z root             20 DistortionCoefficients.py:709 Ra Dec = (35.85 -3.8) : original\n"
     ]
    },
    {
     "name": "stdout",
     "output_type": "stream",
     "text": [
      "field - a, L4 (35.850000, -3.800000): 88425 targets in the FoV.\n"
     ]
    },
    {
     "name": "stderr",
     "output_type": "stream",
     "text": [
      "2025-01-17 16:53:24.321Z root             20 DistortionCoefficients.py:711 PM = (0.0 mas / yr 0.0 mas / yr)\n",
      "2025-01-17 16:53:24.323Z root             20 DistortionCoefficients.py:713 Ra Dec = (35.849999999999994 -3.8000000000000007) : applied proper motion\n",
      "2025-01-17 16:53:24.325Z root             20 DistortionCoefficients.py:715 Ra Dec = (36.16574082497041 -3.6871402758626703) : applied presession\n",
      "2025-01-17 16:53:24.418Z root             20 CoordTransp.py:312 FoV center: Ra,Dec=([35.85] [-3.8]) is Az,El,InR=(223.80306631528452 58.595524575171815 40.73213360459857)\n",
      "/Users/jing/anaconda3/lib/python3.10/site-packages/erfa/core.py:154: ErfaWarning: ERFA function \"pmsafe\" yielded 88425 of \"distance overridden (Note 6)\"\n",
      "  warnings.warn('ERFA function \"{}\" yielded {}'.format(func_name, wmsg),\n",
      "2025-01-17 16:53:24.833Z root             20 CoordTransp.py:84 Zenith angle for your field should be 31.404475424828185\n",
      "2025-01-17 16:53:24.888Z root             20 CoordTransp.py:163 Correct extra distortion @ tel -- skipped\n",
      "2025-01-17 16:53:24.889Z root             20 CoordTransp.py:164 Before: x= [-116.30415178  -95.65745248  -86.20821907 -186.38037436 -213.74491981\n",
      " -131.84819604 -211.31039122 -107.27734578 -171.20732436  -76.71146181\n",
      " -111.0476958 ], y=[176.00667864  94.80116484 101.52338299  99.39327392 115.43120904\n",
      "  96.96663775  98.80024293  97.29668878 137.59991123 170.62970728\n",
      " 113.77043637]\n",
      "2025-01-17 16:53:24.898Z root             20 CoordTransp.py:167 correct by -1.0\n",
      "2025-01-17 16:53:24.899Z root             20 CoordTransp.py:170 After: x= [-116.29625945  -95.65808399  -86.207297   -186.38113816 -213.73856072\n",
      " -131.85113222 -211.3072798  -107.27879071 -171.20358497  -76.70315775\n",
      " -111.04771947], y=[176.0022997   94.80053869 101.52402308  99.38020527 115.41232034\n",
      "  96.96171633  98.78315872  97.29486045 137.58753236 170.63172608\n",
      " 113.76853174]\n",
      "2025-01-17 16:53:24.900Z root             20 CoordTransp.py:173 Telescope to PFI\n"
     ]
    },
    {
     "name": "stdout",
     "output_type": "stream",
     "text": [
      "solving the problem for stage=0 targets.\n",
      "Set parameter Presolve to value 1\n"
     ]
    },
    {
     "name": "stderr",
     "output_type": "stream",
     "text": [
      "2025-01-17 16:53:24.911Z gurobipy         20 netflow.py:117 Set parameter Presolve to value 1\n"
     ]
    },
    {
     "name": "stdout",
     "output_type": "stream",
     "text": [
      "Set parameter Method to value 4\n"
     ]
    },
    {
     "name": "stderr",
     "output_type": "stream",
     "text": [
      "2025-01-17 16:53:24.913Z gurobipy         20 netflow.py:117 Set parameter Method to value 4\n"
     ]
    },
    {
     "name": "stdout",
     "output_type": "stream",
     "text": [
      "Set parameter DegenMoves to value 0\n"
     ]
    },
    {
     "name": "stderr",
     "output_type": "stream",
     "text": [
      "2025-01-17 16:53:24.914Z gurobipy         20 netflow.py:117 Set parameter DegenMoves to value 0\n"
     ]
    },
    {
     "name": "stdout",
     "output_type": "stream",
     "text": [
      "Set parameter Heuristics to value 0.8\n"
     ]
    },
    {
     "name": "stderr",
     "output_type": "stream",
     "text": [
      "2025-01-17 16:53:24.916Z gurobipy         20 netflow.py:117 Set parameter Heuristics to value 0.8\n"
     ]
    },
    {
     "name": "stdout",
     "output_type": "stream",
     "text": [
      "Set parameter MIPGap to value 0.05\n"
     ]
    },
    {
     "name": "stderr",
     "output_type": "stream",
     "text": [
      "2025-01-17 16:53:24.917Z gurobipy         20 netflow.py:117 Set parameter MIPGap to value 0.05\n"
     ]
    },
    {
     "name": "stdout",
     "output_type": "stream",
     "text": [
      "Creating network topology\n",
      "  exposure 1\n",
      "Calculating visibilities\n",
      "adding constraints\n",
      "adding collision constraints\n",
      "adding forbidden pair constraints\n",
      "Gurobi Optimizer version 10.0.1 build v10.0.1rc0 (mac64[x86])\n"
     ]
    },
    {
     "name": "stderr",
     "output_type": "stream",
     "text": [
      "2025-01-17 16:53:35.481Z gurobipy         20 netflow.py:149 Gurobi Optimizer version 10.0.1 build v10.0.1rc0 (mac64[x86])\n"
     ]
    },
    {
     "name": "stdout",
     "output_type": "stream",
     "text": [
      "\n"
     ]
    },
    {
     "name": "stderr",
     "output_type": "stream",
     "text": [
      "2025-01-17 16:53:35.482Z gurobipy         20 netflow.py:149 \n"
     ]
    },
    {
     "name": "stdout",
     "output_type": "stream",
     "text": [
      "CPU model: Intel(R) Core(TM) i7-8569U CPU @ 2.80GHz\n"
     ]
    },
    {
     "name": "stderr",
     "output_type": "stream",
     "text": [
      "2025-01-17 16:53:35.484Z gurobipy         20 netflow.py:149 CPU model: Intel(R) Core(TM) i7-8569U CPU @ 2.80GHz\n"
     ]
    },
    {
     "name": "stdout",
     "output_type": "stream",
     "text": [
      "Thread count: 4 physical cores, 8 logical processors, using up to 8 threads\n"
     ]
    },
    {
     "name": "stderr",
     "output_type": "stream",
     "text": [
      "2025-01-17 16:53:35.485Z gurobipy         20 netflow.py:149 Thread count: 4 physical cores, 8 logical processors, using up to 8 threads\n"
     ]
    },
    {
     "name": "stdout",
     "output_type": "stream",
     "text": [
      "\n"
     ]
    },
    {
     "name": "stderr",
     "output_type": "stream",
     "text": [
      "2025-01-17 16:53:35.487Z gurobipy         20 netflow.py:149 \n"
     ]
    },
    {
     "name": "stdout",
     "output_type": "stream",
     "text": [
      "Academic license 2379863 - for non-commercial use only - registered to ji___@ipmu.jp\n"
     ]
    },
    {
     "name": "stderr",
     "output_type": "stream",
     "text": [
      "2025-01-17 16:53:35.489Z gurobipy         20 netflow.py:149 Academic license 2379863 - for non-commercial use only - registered to ji___@ipmu.jp\n"
     ]
    },
    {
     "name": "stdout",
     "output_type": "stream",
     "text": [
      "Optimize a model with 163958 rows, 80555 columns and 421006 nonzeros\n"
     ]
    },
    {
     "name": "stderr",
     "output_type": "stream",
     "text": [
      "2025-01-17 16:53:35.490Z gurobipy         20 netflow.py:149 Optimize a model with 163958 rows, 80555 columns and 421006 nonzeros\n"
     ]
    },
    {
     "name": "stdout",
     "output_type": "stream",
     "text": [
      "Model fingerprint: 0x9d1a42bd\n"
     ]
    },
    {
     "name": "stderr",
     "output_type": "stream",
     "text": [
      "2025-01-17 16:53:35.495Z gurobipy         20 netflow.py:149 Model fingerprint: 0x9d1a42bd\n"
     ]
    },
    {
     "name": "stdout",
     "output_type": "stream",
     "text": [
      "Variable types: 1 continuous, 80554 integer (80552 binary)\n"
     ]
    },
    {
     "name": "stderr",
     "output_type": "stream",
     "text": [
      "2025-01-17 16:53:35.497Z gurobipy         20 netflow.py:149 Variable types: 1 continuous, 80554 integer (80552 binary)\n"
     ]
    },
    {
     "name": "stdout",
     "output_type": "stream",
     "text": [
      "Coefficient statistics:\n"
     ]
    },
    {
     "name": "stderr",
     "output_type": "stream",
     "text": [
      "2025-01-17 16:53:35.500Z gurobipy         20 netflow.py:149 Coefficient statistics:\n"
     ]
    },
    {
     "name": "stdout",
     "output_type": "stream",
     "text": [
      "  Matrix range     [1e+00, 1e+00]\n"
     ]
    },
    {
     "name": "stderr",
     "output_type": "stream",
     "text": [
      "2025-01-17 16:53:35.502Z gurobipy         20 netflow.py:149   Matrix range     [1e+00, 1e+00]\n"
     ]
    },
    {
     "name": "stdout",
     "output_type": "stream",
     "text": [
      "  Objective range  [2e-05, 1e+06]\n"
     ]
    },
    {
     "name": "stderr",
     "output_type": "stream",
     "text": [
      "2025-01-17 16:53:35.504Z gurobipy         20 netflow.py:149   Objective range  [2e-05, 1e+06]\n"
     ]
    },
    {
     "name": "stdout",
     "output_type": "stream",
     "text": [
      "  Bounds range     [1e+00, 1e+00]\n"
     ]
    },
    {
     "name": "stderr",
     "output_type": "stream",
     "text": [
      "2025-01-17 16:53:35.505Z gurobipy         20 netflow.py:149   Bounds range     [1e+00, 1e+00]\n"
     ]
    },
    {
     "name": "stdout",
     "output_type": "stream",
     "text": [
      "  RHS range        [1e+00, 4e+02]\n"
     ]
    },
    {
     "name": "stderr",
     "output_type": "stream",
     "text": [
      "2025-01-17 16:53:35.507Z gurobipy         20 netflow.py:149   RHS range        [1e+00, 4e+02]\n"
     ]
    },
    {
     "name": "stdout",
     "output_type": "stream",
     "text": [
      "Found heuristic solution: objective 6.000000e+08\n"
     ]
    },
    {
     "name": "stderr",
     "output_type": "stream",
     "text": [
      "2025-01-17 16:53:35.527Z gurobipy         20 netflow.py:149 Found heuristic solution: objective 6.000000e+08\n"
     ]
    },
    {
     "name": "stdout",
     "output_type": "stream",
     "text": [
      "Presolve removed 163545 rows and 77956 columns\n"
     ]
    },
    {
     "name": "stderr",
     "output_type": "stream",
     "text": [
      "2025-01-17 16:53:36.316Z gurobipy         20 netflow.py:149 Presolve removed 163545 rows and 77956 columns\n"
     ]
    },
    {
     "name": "stdout",
     "output_type": "stream",
     "text": [
      "Presolve time: 0.77s\n"
     ]
    },
    {
     "name": "stderr",
     "output_type": "stream",
     "text": [
      "2025-01-17 16:53:36.317Z gurobipy         20 netflow.py:149 Presolve time: 0.77s\n"
     ]
    },
    {
     "name": "stdout",
     "output_type": "stream",
     "text": [
      "Presolved: 413 rows, 2599 columns, 3440 nonzeros\n"
     ]
    },
    {
     "name": "stderr",
     "output_type": "stream",
     "text": [
      "2025-01-17 16:53:36.324Z gurobipy         20 netflow.py:149 Presolved: 413 rows, 2599 columns, 3440 nonzeros\n"
     ]
    },
    {
     "name": "stdout",
     "output_type": "stream",
     "text": [
      "Found heuristic solution: objective 5.590000e+08\n"
     ]
    },
    {
     "name": "stderr",
     "output_type": "stream",
     "text": [
      "2025-01-17 16:53:36.330Z gurobipy         20 netflow.py:149 Found heuristic solution: objective 5.590000e+08\n"
     ]
    },
    {
     "name": "stdout",
     "output_type": "stream",
     "text": [
      "Variable types: 0 continuous, 2599 integer (2597 binary)\n"
     ]
    },
    {
     "name": "stderr",
     "output_type": "stream",
     "text": [
      "2025-01-17 16:53:36.332Z gurobipy         20 netflow.py:149 Variable types: 0 continuous, 2599 integer (2597 binary)\n"
     ]
    },
    {
     "name": "stdout",
     "output_type": "stream",
     "text": [
      "Found heuristic solution: objective 5.570000e+08\n"
     ]
    },
    {
     "name": "stderr",
     "output_type": "stream",
     "text": [
      "2025-01-17 16:53:36.335Z gurobipy         20 netflow.py:149 Found heuristic solution: objective 5.570000e+08\n"
     ]
    },
    {
     "name": "stdout",
     "output_type": "stream",
     "text": [
      "Deterministic concurrent LP optimizer: dual simplex and barrier\n"
     ]
    },
    {
     "name": "stderr",
     "output_type": "stream",
     "text": [
      "2025-01-17 16:53:36.339Z gurobipy         20 netflow.py:149 Deterministic concurrent LP optimizer: dual simplex and barrier\n"
     ]
    },
    {
     "name": "stdout",
     "output_type": "stream",
     "text": [
      "Showing barrier log only...\n"
     ]
    },
    {
     "name": "stderr",
     "output_type": "stream",
     "text": [
      "2025-01-17 16:53:36.340Z gurobipy         20 netflow.py:149 Showing barrier log only...\n"
     ]
    },
    {
     "name": "stdout",
     "output_type": "stream",
     "text": [
      "\n"
     ]
    },
    {
     "name": "stderr",
     "output_type": "stream",
     "text": [
      "2025-01-17 16:53:36.342Z gurobipy         20 netflow.py:149 \n"
     ]
    },
    {
     "name": "stdout",
     "output_type": "stream",
     "text": [
      "Root barrier log...\n"
     ]
    },
    {
     "name": "stderr",
     "output_type": "stream",
     "text": [
      "2025-01-17 16:53:36.346Z gurobipy         20 netflow.py:149 Root barrier log...\n"
     ]
    },
    {
     "name": "stdout",
     "output_type": "stream",
     "text": [
      "\n"
     ]
    },
    {
     "name": "stderr",
     "output_type": "stream",
     "text": [
      "2025-01-17 16:53:36.348Z gurobipy         20 netflow.py:149 \n"
     ]
    },
    {
     "name": "stdout",
     "output_type": "stream",
     "text": [
      "Ordering time: 0.00s\n"
     ]
    },
    {
     "name": "stderr",
     "output_type": "stream",
     "text": [
      "2025-01-17 16:53:36.351Z gurobipy         20 netflow.py:149 Ordering time: 0.00s\n"
     ]
    },
    {
     "name": "stdout",
     "output_type": "stream",
     "text": [
      "\n"
     ]
    },
    {
     "name": "stderr",
     "output_type": "stream",
     "text": [
      "2025-01-17 16:53:36.353Z gurobipy         20 netflow.py:149 \n"
     ]
    },
    {
     "name": "stdout",
     "output_type": "stream",
     "text": [
      "Barrier statistics:\n"
     ]
    },
    {
     "name": "stderr",
     "output_type": "stream",
     "text": [
      "2025-01-17 16:53:36.354Z gurobipy         20 netflow.py:149 Barrier statistics:\n"
     ]
    },
    {
     "name": "stdout",
     "output_type": "stream",
     "text": [
      " AA' NZ     : 8.960e+02\n"
     ]
    },
    {
     "name": "stderr",
     "output_type": "stream",
     "text": [
      "2025-01-17 16:53:36.356Z gurobipy         20 netflow.py:149  AA' NZ     : 8.960e+02\n"
     ]
    },
    {
     "name": "stdout",
     "output_type": "stream",
     "text": [
      " Factor NZ  : 1.902e+03 (roughly 1 MB of memory)\n"
     ]
    },
    {
     "name": "stderr",
     "output_type": "stream",
     "text": [
      "2025-01-17 16:53:36.357Z gurobipy         20 netflow.py:149  Factor NZ  : 1.902e+03 (roughly 1 MB of memory)\n"
     ]
    },
    {
     "name": "stdout",
     "output_type": "stream",
     "text": [
      " Factor Ops : 1.675e+04 (less than 1 second per iteration)\n"
     ]
    },
    {
     "name": "stderr",
     "output_type": "stream",
     "text": [
      "2025-01-17 16:53:36.359Z gurobipy         20 netflow.py:149  Factor Ops : 1.675e+04 (less than 1 second per iteration)\n"
     ]
    },
    {
     "name": "stdout",
     "output_type": "stream",
     "text": [
      " Threads    : 1\n"
     ]
    },
    {
     "name": "stderr",
     "output_type": "stream",
     "text": [
      "2025-01-17 16:53:36.360Z gurobipy         20 netflow.py:149  Threads    : 1\n"
     ]
    },
    {
     "name": "stdout",
     "output_type": "stream",
     "text": [
      "\n"
     ]
    },
    {
     "name": "stderr",
     "output_type": "stream",
     "text": [
      "2025-01-17 16:53:36.362Z gurobipy         20 netflow.py:149 \n"
     ]
    },
    {
     "name": "stdout",
     "output_type": "stream",
     "text": [
      "                  Objective                Residual\n"
     ]
    },
    {
     "name": "stderr",
     "output_type": "stream",
     "text": [
      "2025-01-17 16:53:36.363Z gurobipy         20 netflow.py:149                   Objective                Residual\n"
     ]
    },
    {
     "name": "stdout",
     "output_type": "stream",
     "text": [
      "Iter       Primal          Dual         Primal    Dual     Compl     Time\n"
     ]
    },
    {
     "name": "stderr",
     "output_type": "stream",
     "text": [
      "2025-01-17 16:53:36.365Z gurobipy         20 netflow.py:149 Iter       Primal          Dual         Primal    Dual     Compl     Time\n"
     ]
    },
    {
     "name": "stdout",
     "output_type": "stream",
     "text": [
      "   0   3.18000743e+08 -2.66532216e+09  7.24e+00 4.18e+04  1.93e+07     1s\n"
     ]
    },
    {
     "name": "stderr",
     "output_type": "stream",
     "text": [
      "2025-01-17 16:53:36.367Z gurobipy         20 netflow.py:149    0   3.18000743e+08 -2.66532216e+09  7.24e+00 4.18e+04  1.93e+07     1s\n"
     ]
    },
    {
     "name": "stdout",
     "output_type": "stream",
     "text": [
      "\n"
     ]
    },
    {
     "name": "stderr",
     "output_type": "stream",
     "text": [
      "2025-01-17 16:53:36.369Z gurobipy         20 netflow.py:149 \n"
     ]
    },
    {
     "name": "stdout",
     "output_type": "stream",
     "text": [
      "Barrier performed 0 iterations in 0.88 seconds (0.41 work units)\n"
     ]
    },
    {
     "name": "stderr",
     "output_type": "stream",
     "text": [
      "2025-01-17 16:53:36.370Z gurobipy         20 netflow.py:149 Barrier performed 0 iterations in 0.88 seconds (0.41 work units)\n"
     ]
    },
    {
     "name": "stdout",
     "output_type": "stream",
     "text": [
      "Barrier solve interrupted - model solved by another algorithm\n"
     ]
    },
    {
     "name": "stderr",
     "output_type": "stream",
     "text": [
      "2025-01-17 16:53:36.372Z gurobipy         20 netflow.py:149 Barrier solve interrupted - model solved by another algorithm\n"
     ]
    },
    {
     "name": "stdout",
     "output_type": "stream",
     "text": [
      "\n"
     ]
    },
    {
     "name": "stderr",
     "output_type": "stream",
     "text": [
      "2025-01-17 16:53:36.374Z gurobipy         20 netflow.py:149 \n"
     ]
    },
    {
     "name": "stdout",
     "output_type": "stream",
     "text": [
      "Concurrent spin time: 0.03s\n"
     ]
    },
    {
     "name": "stderr",
     "output_type": "stream",
     "text": [
      "2025-01-17 16:53:36.376Z gurobipy         20 netflow.py:149 Concurrent spin time: 0.03s\n"
     ]
    },
    {
     "name": "stdout",
     "output_type": "stream",
     "text": [
      "\n"
     ]
    },
    {
     "name": "stderr",
     "output_type": "stream",
     "text": [
      "2025-01-17 16:53:36.377Z gurobipy         20 netflow.py:149 \n"
     ]
    },
    {
     "name": "stdout",
     "output_type": "stream",
     "text": [
      "Solved with dual simplex\n"
     ]
    },
    {
     "name": "stderr",
     "output_type": "stream",
     "text": [
      "2025-01-17 16:53:36.379Z gurobipy         20 netflow.py:149 Solved with dual simplex\n"
     ]
    },
    {
     "name": "stdout",
     "output_type": "stream",
     "text": [
      "\n"
     ]
    },
    {
     "name": "stderr",
     "output_type": "stream",
     "text": [
      "2025-01-17 16:53:36.381Z gurobipy         20 netflow.py:149 \n"
     ]
    },
    {
     "name": "stdout",
     "output_type": "stream",
     "text": [
      "Root relaxation: objective 1.181355e+01, 37 iterations, 0.04 seconds (0.00 work units)\n"
     ]
    },
    {
     "name": "stderr",
     "output_type": "stream",
     "text": [
      "2025-01-17 16:53:36.382Z gurobipy         20 netflow.py:149 Root relaxation: objective 1.181355e+01, 37 iterations, 0.04 seconds (0.00 work units)\n"
     ]
    },
    {
     "name": "stdout",
     "output_type": "stream",
     "text": [
      "\n"
     ]
    },
    {
     "name": "stderr",
     "output_type": "stream",
     "text": [
      "2025-01-17 16:53:36.388Z gurobipy         20 netflow.py:149 \n"
     ]
    },
    {
     "name": "stdout",
     "output_type": "stream",
     "text": [
      "    Nodes    |    Current Node    |     Objective Bounds      |     Work\n"
     ]
    },
    {
     "name": "stderr",
     "output_type": "stream",
     "text": [
      "2025-01-17 16:53:36.390Z gurobipy         20 netflow.py:149     Nodes    |    Current Node    |     Objective Bounds      |     Work\n"
     ]
    },
    {
     "name": "stdout",
     "output_type": "stream",
     "text": [
      " Expl Unexpl |  Obj  Depth IntInf | Incumbent    BestBd   Gap | It/Node Time\n"
     ]
    },
    {
     "name": "stderr",
     "output_type": "stream",
     "text": [
      "2025-01-17 16:53:36.391Z gurobipy         20 netflow.py:149  Expl Unexpl |  Obj  Depth IntInf | Incumbent    BestBd   Gap | It/Node Time\n"
     ]
    },
    {
     "name": "stdout",
     "output_type": "stream",
     "text": [
      "\n"
     ]
    },
    {
     "name": "stderr",
     "output_type": "stream",
     "text": [
      "2025-01-17 16:53:36.393Z gurobipy         20 netflow.py:149 \n"
     ]
    },
    {
     "name": "stdout",
     "output_type": "stream",
     "text": [
      "*    0     0               0      11.8135498   11.81355  0.00%     -    0s\n"
     ]
    },
    {
     "name": "stderr",
     "output_type": "stream",
     "text": [
      "2025-01-17 16:53:36.394Z gurobipy         20 netflow.py:149 *    0     0               0      11.8135498   11.81355  0.00%     -    0s\n"
     ]
    },
    {
     "name": "stdout",
     "output_type": "stream",
     "text": [
      "\n"
     ]
    },
    {
     "name": "stderr",
     "output_type": "stream",
     "text": [
      "2025-01-17 16:53:36.411Z gurobipy         20 netflow.py:149 \n"
     ]
    },
    {
     "name": "stdout",
     "output_type": "stream",
     "text": [
      "Explored 1 nodes (37 simplex iterations) in 0.92 seconds (0.41 work units)\n"
     ]
    },
    {
     "name": "stderr",
     "output_type": "stream",
     "text": [
      "2025-01-17 16:53:36.412Z gurobipy         20 netflow.py:149 Explored 1 nodes (37 simplex iterations) in 0.92 seconds (0.41 work units)\n"
     ]
    },
    {
     "name": "stdout",
     "output_type": "stream",
     "text": [
      "Thread count was 8 (of 8 available processors)\n"
     ]
    },
    {
     "name": "stderr",
     "output_type": "stream",
     "text": [
      "2025-01-17 16:53:36.414Z gurobipy         20 netflow.py:149 Thread count was 8 (of 8 available processors)\n"
     ]
    },
    {
     "name": "stdout",
     "output_type": "stream",
     "text": [
      "\n"
     ]
    },
    {
     "name": "stderr",
     "output_type": "stream",
     "text": [
      "2025-01-17 16:53:36.415Z gurobipy         20 netflow.py:149 \n"
     ]
    },
    {
     "name": "stdout",
     "output_type": "stream",
     "text": [
      "Solution count 4: 11.8135 5.57e+08 5.59e+08 6e+08 \n"
     ]
    },
    {
     "name": "stderr",
     "output_type": "stream",
     "text": [
      "2025-01-17 16:53:36.417Z gurobipy         20 netflow.py:149 Solution count 4: 11.8135 5.57e+08 5.59e+08 6e+08 \n"
     ]
    },
    {
     "name": "stdout",
     "output_type": "stream",
     "text": [
      "\n"
     ]
    },
    {
     "name": "stderr",
     "output_type": "stream",
     "text": [
      "2025-01-17 16:53:36.420Z gurobipy         20 netflow.py:149 \n"
     ]
    },
    {
     "name": "stdout",
     "output_type": "stream",
     "text": [
      "Optimal solution found (tolerance 5.00e-02)\n"
     ]
    },
    {
     "name": "stderr",
     "output_type": "stream",
     "text": [
      "2025-01-17 16:53:36.422Z gurobipy         20 netflow.py:149 Optimal solution found (tolerance 5.00e-02)\n"
     ]
    },
    {
     "name": "stdout",
     "output_type": "stream",
     "text": [
      "Best objective 1.181354976972e+01, best bound 1.181354976972e+01, gap 0.0000%\n"
     ]
    },
    {
     "name": "stderr",
     "output_type": "stream",
     "text": [
      "2025-01-17 16:53:36.428Z gurobipy         20 netflow.py:149 Best objective 1.181354976972e+01, best bound 1.181354976972e+01, gap 0.0000%\n"
     ]
    },
    {
     "name": "stdout",
     "output_type": "stream",
     "text": [
      "Checking for trajectory collisions\n"
     ]
    },
    {
     "name": "stderr",
     "output_type": "stream",
     "text": [
      "2025-01-17 16:53:36.609Z pfi              40 pfi.py:896 Some theta angles are out of range\n",
      "2025-01-17 16:53:36.610Z pfi              40 pfi.py:899 Some phi angles are out of range\n",
      "2025-01-17 16:53:36.724Z pfi              40 pfi.py:899 Some phi angles are out of range\n",
      "2025-01-17 16:53:36.759Z pfi              40 pfi.py:899 Some phi angles are out of range\n",
      "2025-01-17 16:53:36.763Z engineer         20 engineer.py:395 Move theta arms to angle=[ 75.91 360.   360.   ... 210.2  360.   224.27] degree\n",
      "2025-01-17 16:53:36.764Z engineer         20 engineer.py:396 Move phi arms to angle=[ 6.62 24.48 13.06 ...  8.33 11.99 14.19] degree\n",
      "2025-01-17 16:53:36.764Z engineer         20 engineer.py:398 Checking passed homed argument = True\n",
      "2025-01-17 16:53:36.765Z engineer         20 engineer.py:402 Move theta arms CW and phi arms CCW to the hard stops\n",
      "2025-01-17 16:53:36.791Z cobraCoach       20 cobraCoach.py:1065 home cobras: theta=10000, phi=-5000\n",
      "2025-01-17 16:53:36.816Z pfi              40 pfi.py:899 Some phi angles are out of range\n",
      "2025-01-17 16:53:36.839Z pfi              40 pfi.py:899 Some phi angles are out of range\n",
      "2025-01-17 16:53:36.841Z engineer         20 engineer.py:412 Sending angles to moveToAngles for 0-th iteration\n",
      "2025-01-17 16:53:36.864Z cobraCoach       20 cobraCoach.py:1009 Moving deltaTheta = [-5.25294989 -0.38204686 -0.35608403 ... -3.02040524 -0.4013664\n",
      " -2.78477536]\n",
      "2025-01-17 16:53:36.865Z cobraCoach       20 cobraCoach.py:1010 Moving deltaPhi = [0.11558998 0.42723261 0.22794454 ... 0.14539386 0.20932294 0.24760745]\n",
      "2025-01-17 16:53:37.118Z cobraCoach       20 cobraCoach.py:877 Finished converting angle to steps, sending command to moveSteps (constantOntime).\n",
      "2025-01-17 16:53:37.672Z cobraCoach       20 cobraCoach.py:587 Sending step numbers to FPGA for moving cobra.\n",
      "2025-01-17 16:53:37.782Z cobraCoach       20 cobraCoach.py:601 cobra control FPGA operation done.\n",
      "2025-01-17 16:53:37.804Z pfi              40 pfi.py:896 Some theta angles are out of range\n",
      "2025-01-17 16:53:37.805Z pfi              40 pfi.py:899 Some phi angles are out of range\n",
      "/Users/jing/anaconda3/lib/python3.10/site-packages/ics/cobraCharmer/pfi.py:1010: RuntimeWarning: invalid value encountered in arccos\n",
      "  ang1 = np.arccos((L1Sq[i] + L2Sq[i] - distanceSq[i]) / (2 * L1[i] * L2[i]))\n",
      "2025-01-17 16:53:37.906Z cobraCoach       30 cobraCoach.py:675 Cobra#344 is too far from center\n",
      "2025-01-17 16:53:37.910Z cobraCoach       30 cobraCoach.py:675 Cobra#443 is too far from center\n",
      "2025-01-17 16:53:37.912Z cobraCoach       30 cobraCoach.py:675 Cobra#493 is too far from center\n",
      "2025-01-17 16:53:37.936Z cobraCoach       30 cobraCoach.py:675 Cobra#1303 is too far from center\n",
      "2025-01-17 16:53:37.946Z cobraCoach       30 cobraCoach.py:675 Cobra#1637 is too far from center\n",
      "2025-01-17 16:53:37.952Z cobraCoach       30 cobraCoach.py:675 Cobra#1790 is too far from center\n",
      "2025-01-17 16:53:37.953Z cobraCoach       30 cobraCoach.py:675 Cobra#1792 is too far from center\n",
      "2025-01-17 16:53:37.972Z engineer         20 engineer.py:422 Updating the cobra information\n",
      "2025-01-17 16:53:37.976Z engineer         20 engineer.py:436 done: [   0    1    2 ... 2391 2392 2393], 19 left\n",
      "2025-01-17 16:53:37.977Z engineer         20 engineer.py:412 Sending angles to moveToAngles for 1-th iteration\n",
      "2025-01-17 16:53:37.978Z cobraCoach       30 cobraCoach.py:1003 Last phi angle is unknown, not moving: [1459]\n",
      "2025-01-17 16:53:37.979Z cobraCoach       20 cobraCoach.py:1009 Moving deltaTheta = [-1.01748456e-05 -1.01748456e-05 -1.01748456e-05  1.42413045e-04\n",
      " -1.01748456e-05 -1.01748456e-05 -1.01748456e-05 -1.01748455e-05\n",
      " -1.01748456e-05  1.73407460e-04 -1.97115887e-05 -2.99138163e-04\n",
      " -1.01748455e-05 -1.14933882e-03 -1.01748456e-05 -1.01748456e-05\n",
      " -3.50271147e-01 -6.61534404e-04  1.10228624e-03]\n",
      "2025-01-17 16:53:37.981Z cobraCoach       20 cobraCoach.py:1010 Moving deltaPhi = [-6.10865247e+00 -6.10865247e+00 -6.10865247e+00 -4.16400827e-02\n",
      " -2.96705959e+00 -6.10865247e+00  0.00000000e+00 -2.96705964e+00\n",
      " -2.96705969e+00 -1.24290680e-01 -2.12845317e-02 -1.40374378e-02\n",
      " -6.10865247e+00 -2.10511567e-03 -6.10865247e+00 -6.10865247e+00\n",
      " -6.45651525e-05 -1.35800043e-02 -4.98778998e-02]\n",
      "2025-01-17 16:53:37.983Z cobraCoach       30 cobraCoach.py:846 Last phi angle is unknown: [1459]\n",
      "2025-01-17 16:53:37.986Z cobraCoach       20 cobraCoach.py:877 Finished converting angle to steps, sending command to moveSteps (constantOntime).\n",
      "2025-01-17 16:53:37.996Z cobraCoach       20 cobraCoach.py:587 Sending step numbers to FPGA for moving cobra.\n",
      "2025-01-17 16:53:37.999Z cobraCoach       20 cobraCoach.py:601 cobra control FPGA operation done.\n",
      "2025-01-17 16:53:38.025Z pfi              40 pfi.py:896 Some theta angles are out of range\n",
      "2025-01-17 16:53:38.026Z pfi              40 pfi.py:899 Some phi angles are out of range\n",
      "2025-01-17 16:53:38.118Z cobraCoach       30 cobraCoach.py:675 Cobra#344 is too far from center\n",
      "2025-01-17 16:53:38.119Z cobraCoach       30 cobraCoach.py:679 Cobra#1460 is too close to center\n",
      "2025-01-17 16:53:38.120Z cobraCoach       30 cobraCoach.py:675 Cobra#1637 is too far from center\n",
      "2025-01-17 16:53:38.121Z cobraCoach       30 cobraCoach.py:675 Cobra#1790 is too far from center\n",
      "2025-01-17 16:53:38.123Z engineer         20 engineer.py:422 Updating the cobra information\n",
      "2025-01-17 16:53:38.125Z engineer         20 engineer.py:436 done: [1782 1929], 17 left\n",
      "2025-01-17 16:53:38.126Z engineer         30 engineer.py:445 17 cobras did not finish: [ 343  442  492  578  737 1302 1459 1493 1538 1560 1581 1583 1636 1789\n",
      " 1791 1937 1969], [4.67 4.67 4.67 0.11 4.67 4.67 0.82 4.67 4.67 0.25 0.06 0.04 4.67 4.67\n",
      " 4.67 0.04 0.11]\n",
      "2025-01-17 16:53:38.127Z engineer         20 engineer.py:450 Returning 2394 atThetas and 2394 atPhis\n",
      "2025-01-17 16:53:38.152Z pfi              40 pfi.py:899 Some phi angles are out of range\n",
      "2025-01-17 16:53:38.154Z engineer         20 engineer.py:395 Move theta arms to angle=[ 75.91 360.   360.   ... 210.2  360.   224.27] degree\n",
      "2025-01-17 16:53:38.155Z engineer         20 engineer.py:396 Move phi arms to angle=[ 6.62 24.48 13.06 ...  8.33 11.99 14.19] degree\n",
      "2025-01-17 16:53:38.155Z engineer         20 engineer.py:398 Checking passed homed argument = False\n",
      "2025-01-17 16:53:38.156Z engineer         20 engineer.py:412 Sending angles to moveToAngles for 0-th iteration\n",
      "2025-01-17 16:53:38.182Z cobraCoach       20 cobraCoach.py:1009 Moving deltaTheta = [ 0.0007928  -0.0001518   0.00038703 ...  0.00017839  0.00038417\n",
      " -0.00096284]\n",
      "2025-01-17 16:53:38.183Z cobraCoach       20 cobraCoach.py:1010 Moving deltaPhi = [-0.00012803 -0.00083433  0.00018682 ...  0.00054019 -0.00083972\n",
      " -0.00047282]\n",
      "2025-01-17 16:53:38.395Z cobraCoach       20 cobraCoach.py:877 Finished converting angle to steps, sending command to moveSteps (constantOntime).\n",
      "2025-01-17 16:53:38.597Z cobraCoach       20 cobraCoach.py:587 Sending step numbers to FPGA for moving cobra.\n",
      "2025-01-17 16:53:38.699Z cobraCoach       20 cobraCoach.py:601 cobra control FPGA operation done.\n",
      "2025-01-17 16:53:38.722Z pfi              40 pfi.py:896 Some theta angles are out of range\n",
      "2025-01-17 16:53:38.723Z pfi              40 pfi.py:899 Some phi angles are out of range\n",
      "2025-01-17 16:53:38.848Z cobraCoach       30 cobraCoach.py:675 Cobra#1303 is too far from center\n",
      "2025-01-17 16:53:38.862Z cobraCoach       30 cobraCoach.py:675 Cobra#1790 is too far from center\n",
      "2025-01-17 16:53:38.882Z engineer         20 engineer.py:422 Updating the cobra information\n",
      "2025-01-17 16:53:38.885Z engineer         20 engineer.py:436 done: [   0    1    2 ... 2391 2392 2393], 17 left\n",
      "2025-01-17 16:53:38.885Z engineer         20 engineer.py:412 Sending angles to moveToAngles for 1-th iteration\n",
      "2025-01-17 16:53:38.889Z cobraCoach       30 cobraCoach.py:1003 Last phi angle is unknown, not moving: [1459]\n",
      "2025-01-17 16:53:38.890Z cobraCoach       20 cobraCoach.py:1009 Moving deltaTheta = [-1.94233989e-04 -5.14191722e-04 -6.14804362e-04  1.42413045e-04\n",
      " -1.01748456e-05  2.69975771e-06 -1.01748456e-05 -1.01748455e-05\n",
      " -1.01748456e-05  1.73407460e-04 -1.97115887e-05 -2.99138163e-04\n",
      " -1.03632841e-03 -1.01748456e-05 -3.80200480e-04 -6.61534404e-04\n",
      " -1.05065440e-04]\n",
      "2025-01-17 16:53:38.892Z cobraCoach       20 cobraCoach.py:1010 Moving deltaPhi = [-2.96687409 -2.96705963 -2.9670596  -0.04164008 -2.96705959 -6.10865247\n",
      "  0.         -2.96705964 -2.96705969 -0.12429068 -0.02128453 -0.01403744\n",
      " -2.96602327 -6.10865247 -2.9670596  -0.01358    -0.0498779 ]\n",
      "2025-01-17 16:53:38.894Z cobraCoach       30 cobraCoach.py:846 Last phi angle is unknown: [1459]\n",
      "2025-01-17 16:53:38.897Z cobraCoach       20 cobraCoach.py:877 Finished converting angle to steps, sending command to moveSteps (constantOntime).\n",
      "2025-01-17 16:53:38.902Z cobraCoach       20 cobraCoach.py:587 Sending step numbers to FPGA for moving cobra.\n",
      "2025-01-17 16:53:38.905Z cobraCoach       20 cobraCoach.py:601 cobra control FPGA operation done.\n",
      "2025-01-17 16:53:38.929Z pfi              40 pfi.py:896 Some theta angles are out of range\n",
      "2025-01-17 16:53:38.930Z pfi              40 pfi.py:899 Some phi angles are out of range\n",
      "2025-01-17 16:53:39.023Z cobraCoach       30 cobraCoach.py:675 Cobra#344 is too far from center\n",
      "2025-01-17 16:53:39.024Z pfi              30 pfi.py:475 clipping scale adjustment from 0.2573481031895782 to 0.3\n",
      "2025-01-17 16:53:39.025Z cobraCoach       30 cobraCoach.py:679 Cobra#1460 is too close to center\n",
      "2025-01-17 16:53:39.026Z pfi              30 pfi.py:475 clipping scale adjustment from 0.26154231110049525 to 0.3\n",
      "2025-01-17 16:53:39.027Z engineer         20 engineer.py:422 Updating the cobra information\n",
      "2025-01-17 16:53:39.030Z engineer         20 engineer.py:412 Sending angles to moveToAngles for 2-th iteration\n",
      "2025-01-17 16:53:39.032Z cobraCoach       20 cobraCoach.py:1009 Moving deltaTheta = [-1.94233989e-04 -5.14191722e-04 -6.14804362e-04  1.42413045e-04\n",
      " -1.01748456e-05 -1.09852569e+00 -1.01748456e-05 -1.01748455e-05\n",
      " -1.01748456e-05  1.73407460e-04 -1.97115887e-05 -2.99138163e-04\n",
      " -1.03632841e-03 -1.07143418e+00 -3.80200480e-04 -6.61534404e-04\n",
      " -1.05065440e-04]\n",
      "2025-01-17 16:53:39.033Z cobraCoach       20 cobraCoach.py:1010 Moving deltaPhi = [-6.10865247 -2.96705963 -2.9670596  -0.04164008 -2.96705959 -1.71883189\n",
      " -2.96705973 -2.96705964 -2.96705969 -0.12429068 -0.02128453 -0.01403744\n",
      " -2.96705964 -1.88389766 -2.9670596  -0.01358    -0.0498779 ]\n",
      "2025-01-17 16:53:39.037Z cobraCoach       20 cobraCoach.py:877 Finished converting angle to steps, sending command to moveSteps (constantOntime).\n",
      "2025-01-17 16:53:39.042Z cobraCoach       20 cobraCoach.py:587 Sending step numbers to FPGA for moving cobra.\n",
      "2025-01-17 16:53:39.045Z cobraCoach       20 cobraCoach.py:601 cobra control FPGA operation done.\n",
      "2025-01-17 16:53:39.068Z pfi              40 pfi.py:896 Some theta angles are out of range\n",
      "2025-01-17 16:53:39.069Z pfi              40 pfi.py:899 Some phi angles are out of range\n",
      "2025-01-17 16:53:39.162Z pfi              30 pfi.py:475 clipping scale adjustment from 0.2859424141191533 to 0.3\n",
      "2025-01-17 16:53:39.163Z cobraCoach       30 cobraCoach.py:675 Cobra#1303 is too far from center\n",
      "2025-01-17 16:53:39.164Z pfi              30 pfi.py:475 clipping scale adjustment from 0.29999999904403885 to 0.3\n",
      "2025-01-17 16:53:39.165Z cobraCoach       30 cobraCoach.py:675 Cobra#1790 is too far from center\n",
      "2025-01-17 16:53:39.166Z engineer         20 engineer.py:422 Updating the cobra information\n",
      "2025-01-17 16:53:39.169Z engineer         20 engineer.py:412 Sending angles to moveToAngles for 3-th iteration\n",
      "2025-01-17 16:53:39.171Z cobraCoach       30 cobraCoach.py:1003 Last phi angle is unknown, not moving: [1459]\n",
      "2025-01-17 16:53:39.172Z cobraCoach       20 cobraCoach.py:1009 Moving deltaTheta = [-3.21863813e-01 -5.14191722e-04 -6.14804362e-04  1.42413045e-04\n",
      " -1.01748456e-05 -6.82685060e-01 -1.01748456e-05 -1.01748455e-05\n",
      " -1.01748456e-05  1.73407460e-04 -1.97115887e-05 -2.99138163e-04\n",
      " -1.03632841e-03 -3.25590772e-01 -3.80200480e-04 -6.61534404e-04\n",
      " -1.05065440e-04]\n",
      "2025-01-17 16:53:39.174Z cobraCoach       20 cobraCoach.py:1010 Moving deltaPhi = [-2.64219266 -2.96705963 -2.9670596  -0.04164008 -2.96705959 -6.10865247\n",
      "  0.         -2.96705964 -2.96705969 -0.12429068 -0.02128453 -0.01403744\n",
      " -2.96705964 -6.10865247 -2.9670596  -0.01358    -0.0498779 ]\n",
      "2025-01-17 16:53:39.176Z cobraCoach       30 cobraCoach.py:846 Last phi angle is unknown: [1459]\n",
      "2025-01-17 16:53:39.180Z cobraCoach       20 cobraCoach.py:877 Finished converting angle to steps, sending command to moveSteps (constantOntime).\n",
      "2025-01-17 16:53:39.189Z cobraCoach       20 cobraCoach.py:587 Sending step numbers to FPGA for moving cobra.\n",
      "2025-01-17 16:53:39.192Z cobraCoach       20 cobraCoach.py:601 cobra control FPGA operation done.\n",
      "2025-01-17 16:53:39.228Z pfi              40 pfi.py:896 Some theta angles are out of range\n",
      "2025-01-17 16:53:39.229Z pfi              40 pfi.py:899 Some phi angles are out of range\n",
      "2025-01-17 16:53:39.480Z pfi              30 pfi.py:475 clipping scale adjustment from 0.22521650184055392 to 0.3\n",
      "2025-01-17 16:53:39.481Z pfi              30 pfi.py:475 clipping scale adjustment from 0.2573481031895782 to 0.3\n",
      "2025-01-17 16:53:39.483Z cobraCoach       30 cobraCoach.py:679 Cobra#1460 is too close to center\n",
      "2025-01-17 16:53:39.484Z pfi              30 pfi.py:475 clipping scale adjustment from 0.22664453700152026 to 0.3\n",
      "2025-01-17 16:53:39.486Z pfi              30 pfi.py:475 clipping scale adjustment from 0.26154231110049525 to 0.3\n",
      "2025-01-17 16:53:39.488Z engineer         20 engineer.py:422 Updating the cobra information\n",
      "2025-01-17 16:53:39.491Z engineer         20 engineer.py:412 Sending angles to moveToAngles for 4-th iteration\n",
      "2025-01-17 16:53:39.493Z cobraCoach       20 cobraCoach.py:1009 Moving deltaTheta = [-2.17122172e-04 -5.14191722e-04 -6.14804362e-04  1.42413045e-04\n",
      " -1.01748456e-05  4.51698156e+00 -1.01748456e-05 -1.01748455e-05\n",
      " -1.01748456e-05  1.73407460e-04 -1.97115887e-05 -2.99138163e-04\n",
      " -1.03632841e-03  5.00301130e+00 -3.80200480e-04 -6.61534404e-04\n",
      " -1.05065440e-04]\n",
      "2025-01-17 16:53:39.494Z cobraCoach       20 cobraCoach.py:1010 Moving deltaPhi = [-2.96705965 -2.96705963 -2.9670596  -0.04164008 -2.96705959 -1.71883189\n",
      " -2.96705973 -2.96705964 -2.96705969 -0.12429068 -0.02128453 -0.01403744\n",
      " -2.96705964 -1.88389766 -2.9670596  -0.01358    -0.0498779 ]\n",
      "2025-01-17 16:53:39.498Z cobraCoach       20 cobraCoach.py:877 Finished converting angle to steps, sending command to moveSteps (constantOntime).\n",
      "2025-01-17 16:53:39.507Z cobraCoach       20 cobraCoach.py:587 Sending step numbers to FPGA for moving cobra.\n",
      "2025-01-17 16:53:39.510Z cobraCoach       20 cobraCoach.py:601 cobra control FPGA operation done.\n",
      "2025-01-17 16:53:39.533Z pfi              40 pfi.py:896 Some theta angles are out of range\n",
      "2025-01-17 16:53:39.534Z pfi              40 pfi.py:899 Some phi angles are out of range\n",
      "2025-01-17 16:53:39.643Z cobraCoach       30 cobraCoach.py:675 Cobra#1790 is too far from center\n",
      "2025-01-17 16:53:39.644Z pfi              30 pfi.py:475 clipping scale adjustment from 0.29999999510714737 to 0.3\n",
      "2025-01-17 16:53:39.646Z engineer         20 engineer.py:422 Updating the cobra information\n",
      "2025-01-17 16:53:39.648Z engineer         20 engineer.py:412 Sending angles to moveToAngles for 5-th iteration\n",
      "2025-01-17 16:53:39.650Z cobraCoach       30 cobraCoach.py:1003 Last phi angle is unknown, not moving: [1459]\n",
      "2025-01-17 16:53:39.651Z cobraCoach       20 cobraCoach.py:1009 Moving deltaTheta = [-2.17122172e-04 -5.14191722e-04 -6.14804362e-04  1.42413045e-04\n",
      " -1.01748456e-05 -4.10811338e-03 -1.01748456e-05 -1.01748455e-05\n",
      " -1.01748456e-05  1.73407460e-04 -1.97115887e-05 -2.99138163e-04\n",
      " -1.03632841e-03  7.85623389e-01 -3.80200480e-04 -6.61534404e-04\n",
      " -1.05065440e-04]\n",
      "2025-01-17 16:53:39.652Z cobraCoach       20 cobraCoach.py:1010 Moving deltaPhi = [-2.96705965 -2.96705963 -2.9670596  -0.04164008 -2.96705959 -2.96705962\n",
      "  0.         -2.96705964 -2.96705969 -0.12429068 -0.02128453 -0.01403744\n",
      " -2.96705964 -6.10865247 -2.9670596  -0.01358    -0.0498779 ]\n",
      "2025-01-17 16:53:39.654Z cobraCoach       30 cobraCoach.py:846 Last phi angle is unknown: [1459]\n",
      "2025-01-17 16:53:39.656Z cobraCoach       20 cobraCoach.py:877 Finished converting angle to steps, sending command to moveSteps (constantOntime).\n",
      "2025-01-17 16:53:39.665Z cobraCoach       20 cobraCoach.py:587 Sending step numbers to FPGA for moving cobra.\n",
      "2025-01-17 16:53:39.667Z cobraCoach       20 cobraCoach.py:601 cobra control FPGA operation done.\n",
      "2025-01-17 16:53:39.692Z pfi              40 pfi.py:896 Some theta angles are out of range\n",
      "2025-01-17 16:53:39.693Z pfi              40 pfi.py:899 Some phi angles are out of range\n",
      "2025-01-17 16:53:39.801Z pfi              30 pfi.py:475 clipping scale adjustment from 0.2250489700875823 to 0.3\n",
      "2025-01-17 16:53:39.802Z cobraCoach       30 cobraCoach.py:679 Cobra#1460 is too close to center\n",
      "2025-01-17 16:53:39.803Z pfi              30 pfi.py:475 clipping scale adjustment from 0.2561286605203101 to 0.3\n",
      "2025-01-17 16:53:39.804Z pfi              30 pfi.py:475 clipping scale adjustment from 0.26154231110049525 to 0.3\n",
      "2025-01-17 16:53:39.806Z engineer         20 engineer.py:422 Updating the cobra information\n",
      "2025-01-17 16:53:39.811Z engineer         30 engineer.py:445 17 cobras did not finish: [ 343  442  492  578  737 1302 1459 1493 1538 1560 1581 1583 1636 1789\n",
      " 1791 1937 1969], [4.67 4.67 4.67 0.11 4.67 4.67 0.82 4.67 4.67 0.25 0.06 0.04 4.67 4.2\n",
      " 4.67 0.04 0.11]\n",
      "2025-01-17 16:53:39.812Z engineer         20 engineer.py:450 Returning 2394 atThetas and 2394 atPhis\n",
      "2025-01-17 16:53:39.841Z pfi              40 pfi.py:896 Some theta angles are out of range\n",
      "2025-01-17 16:53:39.845Z pfi              40 pfi.py:899 Some phi angles are out of range\n",
      "2025-01-17 16:53:39.952Z pfi              40 pfi.py:896 Some theta angles are out of range\n",
      "2025-01-17 16:53:39.953Z pfi              40 pfi.py:899 Some phi angles are out of range\n",
      "2025-01-17 16:53:40.041Z pfi              40 pfi.py:896 Some theta angles are out of range\n",
      "2025-01-17 16:53:40.042Z pfi              40 pfi.py:899 Some phi angles are out of range\n",
      "2025-01-17 16:53:40.103Z pfi              40 pfi.py:896 Some theta angles are out of range\n",
      "2025-01-17 16:53:40.105Z pfi              40 pfi.py:899 Some phi angles are out of range\n",
      "2025-01-17 16:53:40.163Z pfi              40 pfi.py:896 Some theta angles are out of range\n",
      "2025-01-17 16:53:40.164Z pfi              40 pfi.py:899 Some phi angles are out of range\n",
      "2025-01-17 16:53:40.211Z pfi              40 pfi.py:896 Some theta angles are out of range\n",
      "2025-01-17 16:53:40.213Z pfi              40 pfi.py:899 Some phi angles are out of range\n",
      "2025-01-17 16:53:40.261Z pfi              40 pfi.py:896 Some theta angles are out of range\n",
      "2025-01-17 16:53:40.262Z pfi              40 pfi.py:899 Some phi angles are out of range\n",
      "2025-01-17 16:53:40.309Z pfi              40 pfi.py:896 Some theta angles are out of range\n",
      "2025-01-17 16:53:40.310Z pfi              40 pfi.py:899 Some phi angles are out of range\n",
      "2025-01-17 16:53:40.356Z pfi              40 pfi.py:930 Some theta angles are out of range\n",
      "2025-01-17 16:53:40.415Z pfi              40 pfi.py:930 Some theta angles are out of range\n",
      "2025-01-17 16:53:40.475Z pfi              40 pfi.py:930 Some theta angles are out of range\n",
      "2025-01-17 16:53:40.509Z pfi              40 pfi.py:930 Some theta angles are out of range\n",
      "2025-01-17 16:53:40.553Z pfi              40 pfi.py:930 Some theta angles are out of range\n",
      "2025-01-17 16:53:40.596Z pfi              40 pfi.py:930 Some theta angles are out of range\n",
      "2025-01-17 16:53:40.640Z pfi              40 pfi.py:930 Some theta angles are out of range\n",
      "2025-01-17 16:53:40.687Z pfi              40 pfi.py:930 Some theta angles are out of range\n"
     ]
    },
    {
     "name": "stdout",
     "output_type": "stream",
     "text": [
      "ERROR: detected 13 end point collision, which should be impossible\n",
      "trajectory collisions found: 5\n",
      "Set parameter Presolve to value 1\n"
     ]
    },
    {
     "name": "stderr",
     "output_type": "stream",
     "text": [
      "2025-01-17 16:53:45.155Z gurobipy         20 netflow.py:117 Set parameter Presolve to value 1\n"
     ]
    },
    {
     "name": "stdout",
     "output_type": "stream",
     "text": [
      "Set parameter Method to value 4\n"
     ]
    },
    {
     "name": "stderr",
     "output_type": "stream",
     "text": [
      "2025-01-17 16:53:45.156Z gurobipy         20 netflow.py:117 Set parameter Method to value 4\n"
     ]
    },
    {
     "name": "stdout",
     "output_type": "stream",
     "text": [
      "Set parameter DegenMoves to value 0\n"
     ]
    },
    {
     "name": "stderr",
     "output_type": "stream",
     "text": [
      "2025-01-17 16:53:45.157Z gurobipy         20 netflow.py:117 Set parameter DegenMoves to value 0\n"
     ]
    },
    {
     "name": "stdout",
     "output_type": "stream",
     "text": [
      "Set parameter Heuristics to value 0.8\n"
     ]
    },
    {
     "name": "stderr",
     "output_type": "stream",
     "text": [
      "2025-01-17 16:53:45.159Z gurobipy         20 netflow.py:117 Set parameter Heuristics to value 0.8\n"
     ]
    },
    {
     "name": "stdout",
     "output_type": "stream",
     "text": [
      "Set parameter MIPGap to value 0.05\n"
     ]
    },
    {
     "name": "stderr",
     "output_type": "stream",
     "text": [
      "2025-01-17 16:53:45.162Z gurobipy         20 netflow.py:117 Set parameter MIPGap to value 0.05\n"
     ]
    },
    {
     "name": "stdout",
     "output_type": "stream",
     "text": [
      "Creating network topology\n",
      "  exposure 1\n",
      "Calculating visibilities\n",
      "adding constraints\n",
      "adding collision constraints\n",
      "adding forbidden pair constraints\n",
      "Gurobi Optimizer version 10.0.1 build v10.0.1rc0 (mac64[x86])\n"
     ]
    },
    {
     "name": "stderr",
     "output_type": "stream",
     "text": [
      "2025-01-17 16:53:56.510Z gurobipy         20 netflow.py:149 Gurobi Optimizer version 10.0.1 build v10.0.1rc0 (mac64[x86])\n"
     ]
    },
    {
     "name": "stdout",
     "output_type": "stream",
     "text": [
      "\n"
     ]
    },
    {
     "name": "stderr",
     "output_type": "stream",
     "text": [
      "2025-01-17 16:53:56.511Z gurobipy         20 netflow.py:149 \n"
     ]
    },
    {
     "name": "stdout",
     "output_type": "stream",
     "text": [
      "CPU model: Intel(R) Core(TM) i7-8569U CPU @ 2.80GHz\n"
     ]
    },
    {
     "name": "stderr",
     "output_type": "stream",
     "text": [
      "2025-01-17 16:53:56.513Z gurobipy         20 netflow.py:149 CPU model: Intel(R) Core(TM) i7-8569U CPU @ 2.80GHz\n"
     ]
    },
    {
     "name": "stdout",
     "output_type": "stream",
     "text": [
      "Thread count: 4 physical cores, 8 logical processors, using up to 8 threads\n"
     ]
    },
    {
     "name": "stderr",
     "output_type": "stream",
     "text": [
      "2025-01-17 16:53:56.514Z gurobipy         20 netflow.py:149 Thread count: 4 physical cores, 8 logical processors, using up to 8 threads\n"
     ]
    },
    {
     "name": "stdout",
     "output_type": "stream",
     "text": [
      "\n"
     ]
    },
    {
     "name": "stderr",
     "output_type": "stream",
     "text": [
      "2025-01-17 16:53:56.516Z gurobipy         20 netflow.py:149 \n"
     ]
    },
    {
     "name": "stdout",
     "output_type": "stream",
     "text": [
      "Academic license 2379863 - for non-commercial use only - registered to ji___@ipmu.jp\n"
     ]
    },
    {
     "name": "stderr",
     "output_type": "stream",
     "text": [
      "2025-01-17 16:53:56.519Z gurobipy         20 netflow.py:149 Academic license 2379863 - for non-commercial use only - registered to ji___@ipmu.jp\n"
     ]
    },
    {
     "name": "stdout",
     "output_type": "stream",
     "text": [
      "Optimize a model with 163963 rows, 80555 columns and 421012 nonzeros\n"
     ]
    },
    {
     "name": "stderr",
     "output_type": "stream",
     "text": [
      "2025-01-17 16:53:56.521Z gurobipy         20 netflow.py:149 Optimize a model with 163963 rows, 80555 columns and 421012 nonzeros\n"
     ]
    },
    {
     "name": "stdout",
     "output_type": "stream",
     "text": [
      "Model fingerprint: 0x946b8a45\n"
     ]
    },
    {
     "name": "stderr",
     "output_type": "stream",
     "text": [
      "2025-01-17 16:53:56.526Z gurobipy         20 netflow.py:149 Model fingerprint: 0x946b8a45\n"
     ]
    },
    {
     "name": "stdout",
     "output_type": "stream",
     "text": [
      "Variable types: 1 continuous, 80554 integer (80552 binary)\n"
     ]
    },
    {
     "name": "stderr",
     "output_type": "stream",
     "text": [
      "2025-01-17 16:53:56.527Z gurobipy         20 netflow.py:149 Variable types: 1 continuous, 80554 integer (80552 binary)\n"
     ]
    },
    {
     "name": "stdout",
     "output_type": "stream",
     "text": [
      "Coefficient statistics:\n"
     ]
    },
    {
     "name": "stderr",
     "output_type": "stream",
     "text": [
      "2025-01-17 16:53:56.531Z gurobipy         20 netflow.py:149 Coefficient statistics:\n"
     ]
    },
    {
     "name": "stdout",
     "output_type": "stream",
     "text": [
      "  Matrix range     [1e+00, 1e+00]\n"
     ]
    },
    {
     "name": "stderr",
     "output_type": "stream",
     "text": [
      "2025-01-17 16:53:56.533Z gurobipy         20 netflow.py:149   Matrix range     [1e+00, 1e+00]\n"
     ]
    },
    {
     "name": "stdout",
     "output_type": "stream",
     "text": [
      "  Objective range  [2e-05, 1e+06]\n"
     ]
    },
    {
     "name": "stderr",
     "output_type": "stream",
     "text": [
      "2025-01-17 16:53:56.535Z gurobipy         20 netflow.py:149   Objective range  [2e-05, 1e+06]\n"
     ]
    },
    {
     "name": "stdout",
     "output_type": "stream",
     "text": [
      "  Bounds range     [1e+00, 1e+00]\n"
     ]
    },
    {
     "name": "stderr",
     "output_type": "stream",
     "text": [
      "2025-01-17 16:53:56.536Z gurobipy         20 netflow.py:149   Bounds range     [1e+00, 1e+00]\n"
     ]
    },
    {
     "name": "stdout",
     "output_type": "stream",
     "text": [
      "  RHS range        [1e+00, 4e+02]\n"
     ]
    },
    {
     "name": "stderr",
     "output_type": "stream",
     "text": [
      "2025-01-17 16:53:56.537Z gurobipy         20 netflow.py:149   RHS range        [1e+00, 4e+02]\n"
     ]
    },
    {
     "name": "stdout",
     "output_type": "stream",
     "text": [
      "Found heuristic solution: objective 6.000000e+08\n"
     ]
    },
    {
     "name": "stderr",
     "output_type": "stream",
     "text": [
      "2025-01-17 16:53:56.560Z gurobipy         20 netflow.py:149 Found heuristic solution: objective 6.000000e+08\n"
     ]
    },
    {
     "name": "stdout",
     "output_type": "stream",
     "text": [
      "Presolve removed 163551 rows and 77958 columns\n"
     ]
    },
    {
     "name": "stderr",
     "output_type": "stream",
     "text": [
      "2025-01-17 16:53:57.356Z gurobipy         20 netflow.py:149 Presolve removed 163551 rows and 77958 columns\n"
     ]
    },
    {
     "name": "stdout",
     "output_type": "stream",
     "text": [
      "Presolve time: 0.77s\n"
     ]
    },
    {
     "name": "stderr",
     "output_type": "stream",
     "text": [
      "2025-01-17 16:53:57.358Z gurobipy         20 netflow.py:149 Presolve time: 0.77s\n"
     ]
    },
    {
     "name": "stdout",
     "output_type": "stream",
     "text": [
      "Presolved: 412 rows, 2597 columns, 3436 nonzeros\n"
     ]
    },
    {
     "name": "stderr",
     "output_type": "stream",
     "text": [
      "2025-01-17 16:53:57.366Z gurobipy         20 netflow.py:149 Presolved: 412 rows, 2597 columns, 3436 nonzeros\n"
     ]
    },
    {
     "name": "stdout",
     "output_type": "stream",
     "text": [
      "Found heuristic solution: objective 5.580000e+08\n"
     ]
    },
    {
     "name": "stderr",
     "output_type": "stream",
     "text": [
      "2025-01-17 16:53:57.374Z gurobipy         20 netflow.py:149 Found heuristic solution: objective 5.580000e+08\n"
     ]
    },
    {
     "name": "stdout",
     "output_type": "stream",
     "text": [
      "Variable types: 0 continuous, 2597 integer (2595 binary)\n"
     ]
    },
    {
     "name": "stderr",
     "output_type": "stream",
     "text": [
      "2025-01-17 16:53:57.377Z gurobipy         20 netflow.py:149 Variable types: 0 continuous, 2597 integer (2595 binary)\n"
     ]
    },
    {
     "name": "stdout",
     "output_type": "stream",
     "text": [
      "Found heuristic solution: objective 5.560000e+08\n"
     ]
    },
    {
     "name": "stderr",
     "output_type": "stream",
     "text": [
      "2025-01-17 16:53:57.382Z gurobipy         20 netflow.py:149 Found heuristic solution: objective 5.560000e+08\n"
     ]
    },
    {
     "name": "stdout",
     "output_type": "stream",
     "text": [
      "Deterministic concurrent LP optimizer: dual simplex and barrier\n"
     ]
    },
    {
     "name": "stderr",
     "output_type": "stream",
     "text": [
      "2025-01-17 16:53:57.388Z gurobipy         20 netflow.py:149 Deterministic concurrent LP optimizer: dual simplex and barrier\n"
     ]
    },
    {
     "name": "stdout",
     "output_type": "stream",
     "text": [
      "Showing barrier log only...\n"
     ]
    },
    {
     "name": "stderr",
     "output_type": "stream",
     "text": [
      "2025-01-17 16:53:57.391Z gurobipy         20 netflow.py:149 Showing barrier log only...\n"
     ]
    },
    {
     "name": "stdout",
     "output_type": "stream",
     "text": [
      "\n"
     ]
    },
    {
     "name": "stderr",
     "output_type": "stream",
     "text": [
      "2025-01-17 16:53:57.393Z gurobipy         20 netflow.py:149 \n"
     ]
    },
    {
     "name": "stdout",
     "output_type": "stream",
     "text": [
      "Root barrier log...\n"
     ]
    },
    {
     "name": "stderr",
     "output_type": "stream",
     "text": [
      "2025-01-17 16:53:57.397Z gurobipy         20 netflow.py:149 Root barrier log...\n"
     ]
    },
    {
     "name": "stdout",
     "output_type": "stream",
     "text": [
      "\n"
     ]
    },
    {
     "name": "stderr",
     "output_type": "stream",
     "text": [
      "2025-01-17 16:53:57.399Z gurobipy         20 netflow.py:149 \n"
     ]
    },
    {
     "name": "stdout",
     "output_type": "stream",
     "text": [
      "Ordering time: 0.00s\n"
     ]
    },
    {
     "name": "stderr",
     "output_type": "stream",
     "text": [
      "2025-01-17 16:53:57.402Z gurobipy         20 netflow.py:149 Ordering time: 0.00s\n"
     ]
    },
    {
     "name": "stdout",
     "output_type": "stream",
     "text": [
      "\n"
     ]
    },
    {
     "name": "stderr",
     "output_type": "stream",
     "text": [
      "2025-01-17 16:53:57.405Z gurobipy         20 netflow.py:149 \n"
     ]
    },
    {
     "name": "stdout",
     "output_type": "stream",
     "text": [
      "Barrier statistics:\n"
     ]
    },
    {
     "name": "stderr",
     "output_type": "stream",
     "text": [
      "2025-01-17 16:53:57.410Z gurobipy         20 netflow.py:149 Barrier statistics:\n"
     ]
    },
    {
     "name": "stdout",
     "output_type": "stream",
     "text": [
      " AA' NZ     : 8.940e+02\n"
     ]
    },
    {
     "name": "stderr",
     "output_type": "stream",
     "text": [
      "2025-01-17 16:53:57.415Z gurobipy         20 netflow.py:149  AA' NZ     : 8.940e+02\n"
     ]
    },
    {
     "name": "stdout",
     "output_type": "stream",
     "text": [
      " Factor NZ  : 1.899e+03 (roughly 1 MB of memory)\n"
     ]
    },
    {
     "name": "stderr",
     "output_type": "stream",
     "text": [
      "2025-01-17 16:53:57.418Z gurobipy         20 netflow.py:149  Factor NZ  : 1.899e+03 (roughly 1 MB of memory)\n"
     ]
    },
    {
     "name": "stdout",
     "output_type": "stream",
     "text": [
      " Factor Ops : 1.674e+04 (less than 1 second per iteration)\n"
     ]
    },
    {
     "name": "stderr",
     "output_type": "stream",
     "text": [
      "2025-01-17 16:53:57.419Z gurobipy         20 netflow.py:149  Factor Ops : 1.674e+04 (less than 1 second per iteration)\n"
     ]
    },
    {
     "name": "stdout",
     "output_type": "stream",
     "text": [
      " Threads    : 1\n"
     ]
    },
    {
     "name": "stderr",
     "output_type": "stream",
     "text": [
      "2025-01-17 16:53:57.421Z gurobipy         20 netflow.py:149  Threads    : 1\n"
     ]
    },
    {
     "name": "stdout",
     "output_type": "stream",
     "text": [
      "\n"
     ]
    },
    {
     "name": "stderr",
     "output_type": "stream",
     "text": [
      "2025-01-17 16:53:57.424Z gurobipy         20 netflow.py:149 \n"
     ]
    },
    {
     "name": "stdout",
     "output_type": "stream",
     "text": [
      "                  Objective                Residual\n"
     ]
    },
    {
     "name": "stderr",
     "output_type": "stream",
     "text": [
      "2025-01-17 16:53:57.426Z gurobipy         20 netflow.py:149                   Objective                Residual\n"
     ]
    },
    {
     "name": "stdout",
     "output_type": "stream",
     "text": [
      "Iter       Primal          Dual         Primal    Dual     Compl     Time\n"
     ]
    },
    {
     "name": "stderr",
     "output_type": "stream",
     "text": [
      "2025-01-17 16:53:57.427Z gurobipy         20 netflow.py:149 Iter       Primal          Dual         Primal    Dual     Compl     Time\n"
     ]
    },
    {
     "name": "stdout",
     "output_type": "stream",
     "text": [
      "   0   3.16765668e+08 -2.66468142e+09  7.10e+00 4.18e+04  1.90e+07     1s\n"
     ]
    },
    {
     "name": "stderr",
     "output_type": "stream",
     "text": [
      "2025-01-17 16:53:57.431Z gurobipy         20 netflow.py:149    0   3.16765668e+08 -2.66468142e+09  7.10e+00 4.18e+04  1.90e+07     1s\n"
     ]
    },
    {
     "name": "stdout",
     "output_type": "stream",
     "text": [
      "\n"
     ]
    },
    {
     "name": "stderr",
     "output_type": "stream",
     "text": [
      "2025-01-17 16:53:57.434Z gurobipy         20 netflow.py:149 \n"
     ]
    },
    {
     "name": "stdout",
     "output_type": "stream",
     "text": [
      "Barrier performed 0 iterations in 0.92 seconds (0.41 work units)\n"
     ]
    },
    {
     "name": "stderr",
     "output_type": "stream",
     "text": [
      "2025-01-17 16:53:57.436Z gurobipy         20 netflow.py:149 Barrier performed 0 iterations in 0.92 seconds (0.41 work units)\n"
     ]
    },
    {
     "name": "stdout",
     "output_type": "stream",
     "text": [
      "Barrier solve interrupted - model solved by another algorithm\n"
     ]
    },
    {
     "name": "stderr",
     "output_type": "stream",
     "text": [
      "2025-01-17 16:53:57.439Z gurobipy         20 netflow.py:149 Barrier solve interrupted - model solved by another algorithm\n"
     ]
    },
    {
     "name": "stdout",
     "output_type": "stream",
     "text": [
      "\n"
     ]
    },
    {
     "name": "stderr",
     "output_type": "stream",
     "text": [
      "2025-01-17 16:53:57.442Z gurobipy         20 netflow.py:149 \n"
     ]
    },
    {
     "name": "stdout",
     "output_type": "stream",
     "text": [
      "Concurrent spin time: 0.05s\n"
     ]
    },
    {
     "name": "stderr",
     "output_type": "stream",
     "text": [
      "2025-01-17 16:53:57.444Z gurobipy         20 netflow.py:149 Concurrent spin time: 0.05s\n"
     ]
    },
    {
     "name": "stdout",
     "output_type": "stream",
     "text": [
      "\n"
     ]
    },
    {
     "name": "stderr",
     "output_type": "stream",
     "text": [
      "2025-01-17 16:53:57.446Z gurobipy         20 netflow.py:149 \n"
     ]
    },
    {
     "name": "stdout",
     "output_type": "stream",
     "text": [
      "Solved with dual simplex\n"
     ]
    },
    {
     "name": "stderr",
     "output_type": "stream",
     "text": [
      "2025-01-17 16:53:57.448Z gurobipy         20 netflow.py:149 Solved with dual simplex\n"
     ]
    },
    {
     "name": "stdout",
     "output_type": "stream",
     "text": [
      "\n"
     ]
    },
    {
     "name": "stderr",
     "output_type": "stream",
     "text": [
      "2025-01-17 16:53:57.451Z gurobipy         20 netflow.py:149 \n"
     ]
    },
    {
     "name": "stdout",
     "output_type": "stream",
     "text": [
      "Root relaxation: objective 1.186240e+01, 38 iterations, 0.07 seconds (0.00 work units)\n"
     ]
    },
    {
     "name": "stderr",
     "output_type": "stream",
     "text": [
      "2025-01-17 16:53:57.454Z gurobipy         20 netflow.py:149 Root relaxation: objective 1.186240e+01, 38 iterations, 0.07 seconds (0.00 work units)\n"
     ]
    },
    {
     "name": "stdout",
     "output_type": "stream",
     "text": [
      "\n"
     ]
    },
    {
     "name": "stderr",
     "output_type": "stream",
     "text": [
      "2025-01-17 16:53:57.460Z gurobipy         20 netflow.py:149 \n"
     ]
    },
    {
     "name": "stdout",
     "output_type": "stream",
     "text": [
      "    Nodes    |    Current Node    |     Objective Bounds      |     Work\n"
     ]
    },
    {
     "name": "stderr",
     "output_type": "stream",
     "text": [
      "2025-01-17 16:53:57.462Z gurobipy         20 netflow.py:149     Nodes    |    Current Node    |     Objective Bounds      |     Work\n"
     ]
    },
    {
     "name": "stdout",
     "output_type": "stream",
     "text": [
      " Expl Unexpl |  Obj  Depth IntInf | Incumbent    BestBd   Gap | It/Node Time\n"
     ]
    },
    {
     "name": "stderr",
     "output_type": "stream",
     "text": [
      "2025-01-17 16:53:57.464Z gurobipy         20 netflow.py:149  Expl Unexpl |  Obj  Depth IntInf | Incumbent    BestBd   Gap | It/Node Time\n"
     ]
    },
    {
     "name": "stdout",
     "output_type": "stream",
     "text": [
      "\n"
     ]
    },
    {
     "name": "stderr",
     "output_type": "stream",
     "text": [
      "2025-01-17 16:53:57.466Z gurobipy         20 netflow.py:149 \n"
     ]
    },
    {
     "name": "stdout",
     "output_type": "stream",
     "text": [
      "*    0     0               0      11.8623955   11.86240  0.00%     -    0s\n"
     ]
    },
    {
     "name": "stderr",
     "output_type": "stream",
     "text": [
      "2025-01-17 16:53:57.468Z gurobipy         20 netflow.py:149 *    0     0               0      11.8623955   11.86240  0.00%     -    0s\n"
     ]
    },
    {
     "name": "stdout",
     "output_type": "stream",
     "text": [
      "\n"
     ]
    },
    {
     "name": "stderr",
     "output_type": "stream",
     "text": [
      "2025-01-17 16:53:57.489Z gurobipy         20 netflow.py:149 \n"
     ]
    },
    {
     "name": "stdout",
     "output_type": "stream",
     "text": [
      "Explored 1 nodes (38 simplex iterations) in 0.97 seconds (0.41 work units)\n"
     ]
    },
    {
     "name": "stderr",
     "output_type": "stream",
     "text": [
      "2025-01-17 16:53:57.491Z gurobipy         20 netflow.py:149 Explored 1 nodes (38 simplex iterations) in 0.97 seconds (0.41 work units)\n"
     ]
    },
    {
     "name": "stdout",
     "output_type": "stream",
     "text": [
      "Thread count was 8 (of 8 available processors)\n"
     ]
    },
    {
     "name": "stderr",
     "output_type": "stream",
     "text": [
      "2025-01-17 16:53:57.493Z gurobipy         20 netflow.py:149 Thread count was 8 (of 8 available processors)\n"
     ]
    },
    {
     "name": "stdout",
     "output_type": "stream",
     "text": [
      "\n"
     ]
    },
    {
     "name": "stderr",
     "output_type": "stream",
     "text": [
      "2025-01-17 16:53:57.494Z gurobipy         20 netflow.py:149 \n"
     ]
    },
    {
     "name": "stdout",
     "output_type": "stream",
     "text": [
      "Solution count 4: 11.8624 5.56e+08 5.58e+08 6e+08 \n"
     ]
    },
    {
     "name": "stderr",
     "output_type": "stream",
     "text": [
      "2025-01-17 16:53:57.496Z gurobipy         20 netflow.py:149 Solution count 4: 11.8624 5.56e+08 5.58e+08 6e+08 \n"
     ]
    },
    {
     "name": "stdout",
     "output_type": "stream",
     "text": [
      "\n"
     ]
    },
    {
     "name": "stderr",
     "output_type": "stream",
     "text": [
      "2025-01-17 16:53:57.498Z gurobipy         20 netflow.py:149 \n"
     ]
    },
    {
     "name": "stdout",
     "output_type": "stream",
     "text": [
      "Optimal solution found (tolerance 5.00e-02)\n"
     ]
    },
    {
     "name": "stderr",
     "output_type": "stream",
     "text": [
      "2025-01-17 16:53:57.500Z gurobipy         20 netflow.py:149 Optimal solution found (tolerance 5.00e-02)\n"
     ]
    },
    {
     "name": "stdout",
     "output_type": "stream",
     "text": [
      "Best objective 1.186239547493e+01, best bound 1.186239547493e+01, gap 0.0000%\n"
     ]
    },
    {
     "name": "stderr",
     "output_type": "stream",
     "text": [
      "2025-01-17 16:53:57.505Z gurobipy         20 netflow.py:149 Best objective 1.186239547493e+01, best bound 1.186239547493e+01, gap 0.0000%\n"
     ]
    },
    {
     "name": "stdout",
     "output_type": "stream",
     "text": [
      "Checking for trajectory collisions\n"
     ]
    },
    {
     "name": "stderr",
     "output_type": "stream",
     "text": [
      "2025-01-17 16:53:57.680Z pfi              40 pfi.py:896 Some theta angles are out of range\n",
      "2025-01-17 16:53:57.682Z pfi              40 pfi.py:899 Some phi angles are out of range\n",
      "2025-01-17 16:53:57.812Z pfi              40 pfi.py:899 Some phi angles are out of range\n",
      "2025-01-17 16:53:57.848Z pfi              40 pfi.py:899 Some phi angles are out of range\n",
      "2025-01-17 16:53:57.851Z engineer         20 engineer.py:395 Move theta arms to angle=[ 75.91 360.   360.   ... 210.2  360.   224.27] degree\n",
      "2025-01-17 16:53:57.853Z engineer         20 engineer.py:396 Move phi arms to angle=[ 6.62 24.48 13.06 ...  8.33 11.99 14.19] degree\n",
      "2025-01-17 16:53:57.854Z engineer         20 engineer.py:398 Checking passed homed argument = True\n",
      "2025-01-17 16:53:57.854Z engineer         20 engineer.py:402 Move theta arms CW and phi arms CCW to the hard stops\n",
      "2025-01-17 16:53:57.882Z cobraCoach       20 cobraCoach.py:1065 home cobras: theta=10000, phi=-5000\n",
      "2025-01-17 16:53:57.906Z pfi              40 pfi.py:899 Some phi angles are out of range\n",
      "2025-01-17 16:53:57.930Z pfi              40 pfi.py:899 Some phi angles are out of range\n",
      "2025-01-17 16:53:57.934Z engineer         20 engineer.py:412 Sending angles to moveToAngles for 0-th iteration\n",
      "2025-01-17 16:53:57.959Z cobraCoach       20 cobraCoach.py:1009 Moving deltaTheta = [-5.25294989 -0.38204686 -0.35608403 ... -3.02040524 -0.4013664\n",
      " -2.78477536]\n",
      "2025-01-17 16:53:57.960Z cobraCoach       20 cobraCoach.py:1010 Moving deltaPhi = [0.11558998 0.42723261 0.22794454 ... 0.14539386 0.20932294 0.24760745]\n",
      "2025-01-17 16:53:58.216Z cobraCoach       20 cobraCoach.py:877 Finished converting angle to steps, sending command to moveSteps (constantOntime).\n",
      "2025-01-17 16:53:58.785Z cobraCoach       20 cobraCoach.py:587 Sending step numbers to FPGA for moving cobra.\n",
      "2025-01-17 16:53:58.892Z cobraCoach       20 cobraCoach.py:601 cobra control FPGA operation done.\n",
      "2025-01-17 16:53:58.915Z pfi              40 pfi.py:896 Some theta angles are out of range\n",
      "2025-01-17 16:53:58.917Z pfi              40 pfi.py:899 Some phi angles are out of range\n",
      "2025-01-17 16:53:59.029Z cobraCoach       30 cobraCoach.py:675 Cobra#344 is too far from center\n",
      "2025-01-17 16:53:59.033Z cobraCoach       30 cobraCoach.py:675 Cobra#443 is too far from center\n",
      "2025-01-17 16:53:59.035Z cobraCoach       30 cobraCoach.py:675 Cobra#493 is too far from center\n",
      "2025-01-17 16:53:59.061Z cobraCoach       30 cobraCoach.py:675 Cobra#1303 is too far from center\n",
      "2025-01-17 16:53:59.072Z cobraCoach       30 cobraCoach.py:675 Cobra#1637 is too far from center\n",
      "2025-01-17 16:53:59.078Z cobraCoach       30 cobraCoach.py:675 Cobra#1790 is too far from center\n",
      "2025-01-17 16:53:59.079Z cobraCoach       30 cobraCoach.py:675 Cobra#1792 is too far from center\n",
      "2025-01-17 16:53:59.100Z engineer         20 engineer.py:422 Updating the cobra information\n",
      "2025-01-17 16:53:59.104Z engineer         20 engineer.py:436 done: [   0    1    2 ... 2391 2392 2393], 19 left\n",
      "2025-01-17 16:53:59.105Z engineer         20 engineer.py:412 Sending angles to moveToAngles for 1-th iteration\n",
      "2025-01-17 16:53:59.107Z cobraCoach       30 cobraCoach.py:1003 Last phi angle is unknown, not moving: [1459]\n",
      "2025-01-17 16:53:59.108Z cobraCoach       20 cobraCoach.py:1009 Moving deltaTheta = [-1.01748456e-05 -1.01748456e-05 -1.01748456e-05  1.42413045e-04\n",
      " -1.01748456e-05 -1.01748456e-05 -1.01748456e-05 -1.01748455e-05\n",
      " -1.01748456e-05  1.73407460e-04 -1.97115887e-05 -2.99138163e-04\n",
      " -1.01748455e-05 -1.14933882e-03 -1.01748456e-05 -1.01748456e-05\n",
      " -3.50271147e-01 -6.61534404e-04  1.10228624e-03]\n",
      "2025-01-17 16:53:59.109Z cobraCoach       20 cobraCoach.py:1010 Moving deltaPhi = [-6.10865247e+00 -6.10865247e+00 -6.10865247e+00 -4.16400827e-02\n",
      " -2.96705959e+00 -6.10865247e+00  0.00000000e+00 -2.96705964e+00\n",
      " -2.96705969e+00 -1.24290680e-01 -2.12845317e-02 -1.40374378e-02\n",
      " -6.10865247e+00 -2.10511567e-03 -6.10865247e+00 -6.10865247e+00\n",
      " -6.45651525e-05 -1.35800043e-02 -4.98778998e-02]\n",
      "2025-01-17 16:53:59.111Z cobraCoach       30 cobraCoach.py:846 Last phi angle is unknown: [1459]\n",
      "2025-01-17 16:53:59.116Z cobraCoach       20 cobraCoach.py:877 Finished converting angle to steps, sending command to moveSteps (constantOntime).\n",
      "2025-01-17 16:53:59.130Z cobraCoach       20 cobraCoach.py:587 Sending step numbers to FPGA for moving cobra.\n",
      "2025-01-17 16:53:59.176Z cobraCoach       20 cobraCoach.py:601 cobra control FPGA operation done.\n",
      "2025-01-17 16:53:59.226Z pfi              40 pfi.py:896 Some theta angles are out of range\n",
      "2025-01-17 16:53:59.227Z pfi              40 pfi.py:899 Some phi angles are out of range\n",
      "2025-01-17 16:53:59.324Z cobraCoach       30 cobraCoach.py:675 Cobra#344 is too far from center\n",
      "2025-01-17 16:53:59.325Z cobraCoach       30 cobraCoach.py:679 Cobra#1460 is too close to center\n",
      "2025-01-17 16:53:59.326Z cobraCoach       30 cobraCoach.py:675 Cobra#1637 is too far from center\n",
      "2025-01-17 16:53:59.327Z cobraCoach       30 cobraCoach.py:675 Cobra#1790 is too far from center\n",
      "2025-01-17 16:53:59.328Z engineer         20 engineer.py:422 Updating the cobra information\n",
      "2025-01-17 16:53:59.330Z engineer         20 engineer.py:436 done: [1782 1929], 17 left\n",
      "2025-01-17 16:53:59.331Z engineer         30 engineer.py:445 17 cobras did not finish: [ 343  442  492  578  737 1302 1459 1493 1538 1560 1581 1583 1636 1789\n",
      " 1791 1937 1969], [4.67 4.67 4.67 0.11 4.67 4.67 0.82 4.67 4.67 0.25 0.06 0.04 4.67 4.67\n",
      " 4.67 0.04 0.11]\n",
      "2025-01-17 16:53:59.332Z engineer         20 engineer.py:450 Returning 2394 atThetas and 2394 atPhis\n",
      "2025-01-17 16:53:59.359Z pfi              40 pfi.py:899 Some phi angles are out of range\n",
      "2025-01-17 16:53:59.361Z engineer         20 engineer.py:395 Move theta arms to angle=[ 75.91 360.   360.   ... 210.2  360.   224.27] degree\n",
      "2025-01-17 16:53:59.362Z engineer         20 engineer.py:396 Move phi arms to angle=[ 6.62 24.48 13.06 ...  8.33 11.99 14.19] degree\n",
      "2025-01-17 16:53:59.363Z engineer         20 engineer.py:398 Checking passed homed argument = False\n",
      "2025-01-17 16:53:59.363Z engineer         20 engineer.py:412 Sending angles to moveToAngles for 0-th iteration\n",
      "2025-01-17 16:53:59.389Z cobraCoach       20 cobraCoach.py:1009 Moving deltaTheta = [ 0.0007928  -0.0001518   0.00038703 ...  0.00017839  0.00038417\n",
      " -0.00096284]\n",
      "2025-01-17 16:53:59.390Z cobraCoach       20 cobraCoach.py:1010 Moving deltaPhi = [-0.00012803 -0.00083433  0.00018682 ...  0.00054019 -0.00083972\n",
      " -0.00047282]\n",
      "2025-01-17 16:53:59.579Z cobraCoach       20 cobraCoach.py:877 Finished converting angle to steps, sending command to moveSteps (constantOntime).\n",
      "2025-01-17 16:53:59.779Z cobraCoach       20 cobraCoach.py:587 Sending step numbers to FPGA for moving cobra.\n",
      "2025-01-17 16:53:59.881Z cobraCoach       20 cobraCoach.py:601 cobra control FPGA operation done.\n",
      "2025-01-17 16:53:59.904Z pfi              40 pfi.py:896 Some theta angles are out of range\n",
      "2025-01-17 16:53:59.905Z pfi              40 pfi.py:899 Some phi angles are out of range\n",
      "2025-01-17 16:54:00.064Z cobraCoach       30 cobraCoach.py:675 Cobra#1303 is too far from center\n",
      "2025-01-17 16:54:00.083Z cobraCoach       30 cobraCoach.py:675 Cobra#1790 is too far from center\n",
      "2025-01-17 16:54:00.109Z engineer         20 engineer.py:422 Updating the cobra information\n",
      "2025-01-17 16:54:00.112Z engineer         20 engineer.py:436 done: [   0    1    2 ... 2391 2392 2393], 17 left\n",
      "2025-01-17 16:54:00.112Z engineer         20 engineer.py:412 Sending angles to moveToAngles for 1-th iteration\n",
      "2025-01-17 16:54:00.114Z cobraCoach       30 cobraCoach.py:1003 Last phi angle is unknown, not moving: [1459]\n",
      "2025-01-17 16:54:00.116Z cobraCoach       20 cobraCoach.py:1009 Moving deltaTheta = [-1.94233989e-04 -5.14191722e-04 -6.14804362e-04  1.42413045e-04\n",
      " -1.01748456e-05  2.69975771e-06 -1.01748456e-05 -1.01748455e-05\n",
      " -1.01748456e-05  1.73407460e-04 -1.97115887e-05 -2.99138163e-04\n",
      " -1.03632841e-03 -1.01748456e-05 -3.80200480e-04 -6.61534404e-04\n",
      " -1.05065440e-04]\n",
      "2025-01-17 16:54:00.118Z cobraCoach       20 cobraCoach.py:1010 Moving deltaPhi = [-2.96687409 -2.96705963 -2.9670596  -0.04164008 -2.96705959 -6.10865247\n",
      "  0.         -2.96705964 -2.96705969 -0.12429068 -0.02128453 -0.01403744\n",
      " -2.96602327 -6.10865247 -2.9670596  -0.01358    -0.0498779 ]\n",
      "2025-01-17 16:54:00.123Z cobraCoach       30 cobraCoach.py:846 Last phi angle is unknown: [1459]\n",
      "2025-01-17 16:54:00.130Z cobraCoach       20 cobraCoach.py:877 Finished converting angle to steps, sending command to moveSteps (constantOntime).\n",
      "2025-01-17 16:54:00.137Z cobraCoach       20 cobraCoach.py:587 Sending step numbers to FPGA for moving cobra.\n",
      "2025-01-17 16:54:00.141Z cobraCoach       20 cobraCoach.py:601 cobra control FPGA operation done.\n",
      "2025-01-17 16:54:00.168Z pfi              40 pfi.py:896 Some theta angles are out of range\n",
      "2025-01-17 16:54:00.169Z pfi              40 pfi.py:899 Some phi angles are out of range\n",
      "2025-01-17 16:54:00.268Z cobraCoach       30 cobraCoach.py:675 Cobra#344 is too far from center\n",
      "2025-01-17 16:54:00.269Z pfi              30 pfi.py:475 clipping scale adjustment from 0.2573481031895782 to 0.3\n",
      "2025-01-17 16:54:00.270Z cobraCoach       30 cobraCoach.py:679 Cobra#1460 is too close to center\n",
      "2025-01-17 16:54:00.271Z pfi              30 pfi.py:475 clipping scale adjustment from 0.26154231110049525 to 0.3\n",
      "2025-01-17 16:54:00.273Z engineer         20 engineer.py:422 Updating the cobra information\n",
      "2025-01-17 16:54:00.276Z engineer         20 engineer.py:412 Sending angles to moveToAngles for 2-th iteration\n",
      "2025-01-17 16:54:00.280Z cobraCoach       20 cobraCoach.py:1009 Moving deltaTheta = [-1.94233989e-04 -5.14191722e-04 -6.14804362e-04  1.42413045e-04\n",
      " -1.01748456e-05 -1.09852569e+00 -1.01748456e-05 -1.01748455e-05\n",
      " -1.01748456e-05  1.73407460e-04 -1.97115887e-05 -2.99138163e-04\n",
      " -1.03632841e-03 -1.07143418e+00 -3.80200480e-04 -6.61534404e-04\n",
      " -1.05065440e-04]\n",
      "2025-01-17 16:54:00.281Z cobraCoach       20 cobraCoach.py:1010 Moving deltaPhi = [-6.10865247 -2.96705963 -2.9670596  -0.04164008 -2.96705959 -1.71883189\n",
      " -2.96705973 -2.96705964 -2.96705969 -0.12429068 -0.02128453 -0.01403744\n",
      " -2.96705964 -1.88389766 -2.9670596  -0.01358    -0.0498779 ]\n",
      "2025-01-17 16:54:00.285Z cobraCoach       20 cobraCoach.py:877 Finished converting angle to steps, sending command to moveSteps (constantOntime).\n",
      "2025-01-17 16:54:00.290Z cobraCoach       20 cobraCoach.py:587 Sending step numbers to FPGA for moving cobra.\n",
      "2025-01-17 16:54:00.293Z cobraCoach       20 cobraCoach.py:601 cobra control FPGA operation done.\n",
      "2025-01-17 16:54:00.318Z pfi              40 pfi.py:896 Some theta angles are out of range\n",
      "2025-01-17 16:54:00.319Z pfi              40 pfi.py:899 Some phi angles are out of range\n",
      "2025-01-17 16:54:00.422Z pfi              30 pfi.py:475 clipping scale adjustment from 0.2859424141191533 to 0.3\n",
      "2025-01-17 16:54:00.424Z cobraCoach       30 cobraCoach.py:675 Cobra#1303 is too far from center\n",
      "2025-01-17 16:54:00.425Z pfi              30 pfi.py:475 clipping scale adjustment from 0.29999999904403885 to 0.3\n",
      "2025-01-17 16:54:00.426Z cobraCoach       30 cobraCoach.py:675 Cobra#1790 is too far from center\n",
      "2025-01-17 16:54:00.428Z engineer         20 engineer.py:422 Updating the cobra information\n",
      "2025-01-17 16:54:00.431Z engineer         20 engineer.py:412 Sending angles to moveToAngles for 3-th iteration\n",
      "2025-01-17 16:54:00.434Z cobraCoach       30 cobraCoach.py:1003 Last phi angle is unknown, not moving: [1459]\n",
      "2025-01-17 16:54:00.435Z cobraCoach       20 cobraCoach.py:1009 Moving deltaTheta = [-3.21863813e-01 -5.14191722e-04 -6.14804362e-04  1.42413045e-04\n",
      " -1.01748456e-05 -6.82685060e-01 -1.01748456e-05 -1.01748455e-05\n",
      " -1.01748456e-05  1.73407460e-04 -1.97115887e-05 -2.99138163e-04\n",
      " -1.03632841e-03 -3.25590772e-01 -3.80200480e-04 -6.61534404e-04\n",
      " -1.05065440e-04]\n",
      "2025-01-17 16:54:00.436Z cobraCoach       20 cobraCoach.py:1010 Moving deltaPhi = [-2.64219266 -2.96705963 -2.9670596  -0.04164008 -2.96705959 -6.10865247\n",
      "  0.         -2.96705964 -2.96705969 -0.12429068 -0.02128453 -0.01403744\n",
      " -2.96705964 -6.10865247 -2.9670596  -0.01358    -0.0498779 ]\n",
      "2025-01-17 16:54:00.440Z cobraCoach       30 cobraCoach.py:846 Last phi angle is unknown: [1459]\n",
      "2025-01-17 16:54:00.443Z cobraCoach       20 cobraCoach.py:877 Finished converting angle to steps, sending command to moveSteps (constantOntime).\n",
      "2025-01-17 16:54:00.453Z cobraCoach       20 cobraCoach.py:587 Sending step numbers to FPGA for moving cobra.\n",
      "2025-01-17 16:54:00.456Z cobraCoach       20 cobraCoach.py:601 cobra control FPGA operation done.\n",
      "2025-01-17 16:54:00.483Z pfi              40 pfi.py:896 Some theta angles are out of range\n",
      "2025-01-17 16:54:00.484Z pfi              40 pfi.py:899 Some phi angles are out of range\n",
      "2025-01-17 16:54:00.585Z pfi              30 pfi.py:475 clipping scale adjustment from 0.22521650184055392 to 0.3\n",
      "2025-01-17 16:54:00.586Z pfi              30 pfi.py:475 clipping scale adjustment from 0.2573481031895782 to 0.3\n",
      "2025-01-17 16:54:00.586Z cobraCoach       30 cobraCoach.py:679 Cobra#1460 is too close to center\n",
      "2025-01-17 16:54:00.588Z pfi              30 pfi.py:475 clipping scale adjustment from 0.22664453700152026 to 0.3\n",
      "2025-01-17 16:54:00.589Z pfi              30 pfi.py:475 clipping scale adjustment from 0.26154231110049525 to 0.3\n",
      "2025-01-17 16:54:00.590Z engineer         20 engineer.py:422 Updating the cobra information\n",
      "2025-01-17 16:54:00.591Z engineer         20 engineer.py:412 Sending angles to moveToAngles for 4-th iteration\n",
      "2025-01-17 16:54:00.594Z cobraCoach       20 cobraCoach.py:1009 Moving deltaTheta = [-2.17122172e-04 -5.14191722e-04 -6.14804362e-04  1.42413045e-04\n",
      " -1.01748456e-05  4.51698156e+00 -1.01748456e-05 -1.01748455e-05\n",
      " -1.01748456e-05  1.73407460e-04 -1.97115887e-05 -2.99138163e-04\n",
      " -1.03632841e-03  5.00301130e+00 -3.80200480e-04 -6.61534404e-04\n",
      " -1.05065440e-04]\n",
      "2025-01-17 16:54:00.595Z cobraCoach       20 cobraCoach.py:1010 Moving deltaPhi = [-2.96705965 -2.96705963 -2.9670596  -0.04164008 -2.96705959 -1.71883189\n",
      " -2.96705973 -2.96705964 -2.96705969 -0.12429068 -0.02128453 -0.01403744\n",
      " -2.96705964 -1.88389766 -2.9670596  -0.01358    -0.0498779 ]\n",
      "2025-01-17 16:54:00.599Z cobraCoach       20 cobraCoach.py:877 Finished converting angle to steps, sending command to moveSteps (constantOntime).\n",
      "2025-01-17 16:54:00.610Z cobraCoach       20 cobraCoach.py:587 Sending step numbers to FPGA for moving cobra.\n",
      "2025-01-17 16:54:00.612Z cobraCoach       20 cobraCoach.py:601 cobra control FPGA operation done.\n",
      "2025-01-17 16:54:00.639Z pfi              40 pfi.py:896 Some theta angles are out of range\n",
      "2025-01-17 16:54:00.640Z pfi              40 pfi.py:899 Some phi angles are out of range\n",
      "2025-01-17 16:54:00.749Z cobraCoach       30 cobraCoach.py:675 Cobra#1790 is too far from center\n",
      "2025-01-17 16:54:00.750Z pfi              30 pfi.py:475 clipping scale adjustment from 0.29999999510714737 to 0.3\n",
      "2025-01-17 16:54:00.751Z engineer         20 engineer.py:422 Updating the cobra information\n",
      "2025-01-17 16:54:00.754Z engineer         20 engineer.py:412 Sending angles to moveToAngles for 5-th iteration\n",
      "2025-01-17 16:54:00.755Z cobraCoach       30 cobraCoach.py:1003 Last phi angle is unknown, not moving: [1459]\n",
      "2025-01-17 16:54:00.756Z cobraCoach       20 cobraCoach.py:1009 Moving deltaTheta = [-2.17122172e-04 -5.14191722e-04 -6.14804362e-04  1.42413045e-04\n",
      " -1.01748456e-05 -4.10811338e-03 -1.01748456e-05 -1.01748455e-05\n",
      " -1.01748456e-05  1.73407460e-04 -1.97115887e-05 -2.99138163e-04\n",
      " -1.03632841e-03  7.85623389e-01 -3.80200480e-04 -6.61534404e-04\n",
      " -1.05065440e-04]\n",
      "2025-01-17 16:54:00.758Z cobraCoach       20 cobraCoach.py:1010 Moving deltaPhi = [-2.96705965 -2.96705963 -2.9670596  -0.04164008 -2.96705959 -2.96705962\n",
      "  0.         -2.96705964 -2.96705969 -0.12429068 -0.02128453 -0.01403744\n",
      " -2.96705964 -6.10865247 -2.9670596  -0.01358    -0.0498779 ]\n",
      "2025-01-17 16:54:00.759Z cobraCoach       30 cobraCoach.py:846 Last phi angle is unknown: [1459]\n",
      "2025-01-17 16:54:00.762Z cobraCoach       20 cobraCoach.py:877 Finished converting angle to steps, sending command to moveSteps (constantOntime).\n",
      "2025-01-17 16:54:00.771Z cobraCoach       20 cobraCoach.py:587 Sending step numbers to FPGA for moving cobra.\n",
      "2025-01-17 16:54:00.775Z cobraCoach       20 cobraCoach.py:601 cobra control FPGA operation done.\n",
      "2025-01-17 16:54:00.800Z pfi              40 pfi.py:896 Some theta angles are out of range\n",
      "2025-01-17 16:54:00.801Z pfi              40 pfi.py:899 Some phi angles are out of range\n",
      "2025-01-17 16:54:00.902Z pfi              30 pfi.py:475 clipping scale adjustment from 0.2250489700875823 to 0.3\n",
      "2025-01-17 16:54:00.903Z cobraCoach       30 cobraCoach.py:679 Cobra#1460 is too close to center\n",
      "2025-01-17 16:54:00.904Z pfi              30 pfi.py:475 clipping scale adjustment from 0.2561286605203101 to 0.3\n",
      "2025-01-17 16:54:00.905Z pfi              30 pfi.py:475 clipping scale adjustment from 0.26154231110049525 to 0.3\n",
      "2025-01-17 16:54:00.907Z engineer         20 engineer.py:422 Updating the cobra information\n",
      "2025-01-17 16:54:00.910Z engineer         30 engineer.py:445 17 cobras did not finish: [ 343  442  492  578  737 1302 1459 1493 1538 1560 1581 1583 1636 1789\n",
      " 1791 1937 1969], [4.67 4.67 4.67 0.11 4.67 4.67 0.82 4.67 4.67 0.25 0.06 0.04 4.67 4.2\n",
      " 4.67 0.04 0.11]\n",
      "2025-01-17 16:54:00.911Z engineer         20 engineer.py:450 Returning 2394 atThetas and 2394 atPhis\n",
      "2025-01-17 16:54:00.937Z pfi              40 pfi.py:896 Some theta angles are out of range\n",
      "2025-01-17 16:54:00.940Z pfi              40 pfi.py:899 Some phi angles are out of range\n",
      "2025-01-17 16:54:01.043Z pfi              40 pfi.py:896 Some theta angles are out of range\n",
      "2025-01-17 16:54:01.046Z pfi              40 pfi.py:899 Some phi angles are out of range\n",
      "2025-01-17 16:54:01.121Z pfi              40 pfi.py:896 Some theta angles are out of range\n",
      "2025-01-17 16:54:01.123Z pfi              40 pfi.py:899 Some phi angles are out of range\n",
      "2025-01-17 16:54:01.171Z pfi              40 pfi.py:896 Some theta angles are out of range\n",
      "2025-01-17 16:54:01.172Z pfi              40 pfi.py:899 Some phi angles are out of range\n",
      "2025-01-17 16:54:01.220Z pfi              40 pfi.py:896 Some theta angles are out of range\n",
      "2025-01-17 16:54:01.221Z pfi              40 pfi.py:899 Some phi angles are out of range\n",
      "2025-01-17 16:54:01.270Z pfi              40 pfi.py:896 Some theta angles are out of range\n",
      "2025-01-17 16:54:01.271Z pfi              40 pfi.py:899 Some phi angles are out of range\n",
      "2025-01-17 16:54:01.328Z pfi              40 pfi.py:896 Some theta angles are out of range\n",
      "2025-01-17 16:54:01.329Z pfi              40 pfi.py:899 Some phi angles are out of range\n",
      "2025-01-17 16:54:01.380Z pfi              40 pfi.py:896 Some theta angles are out of range\n",
      "2025-01-17 16:54:01.382Z pfi              40 pfi.py:899 Some phi angles are out of range\n",
      "2025-01-17 16:54:01.437Z pfi              40 pfi.py:930 Some theta angles are out of range\n",
      "2025-01-17 16:54:01.500Z pfi              40 pfi.py:930 Some theta angles are out of range\n",
      "2025-01-17 16:54:01.550Z pfi              40 pfi.py:930 Some theta angles are out of range\n",
      "2025-01-17 16:54:01.585Z pfi              40 pfi.py:930 Some theta angles are out of range\n",
      "2025-01-17 16:54:01.629Z pfi              40 pfi.py:930 Some theta angles are out of range\n",
      "2025-01-17 16:54:01.668Z pfi              40 pfi.py:930 Some theta angles are out of range\n",
      "2025-01-17 16:54:01.705Z pfi              40 pfi.py:930 Some theta angles are out of range\n",
      "2025-01-17 16:54:01.741Z pfi              40 pfi.py:930 Some theta angles are out of range\n"
     ]
    },
    {
     "name": "stdout",
     "output_type": "stream",
     "text": [
      "ERROR: detected 11 end point collision, which should be impossible\n",
      "trajectory collisions found: 3\n",
      "Set parameter Presolve to value 1\n"
     ]
    },
    {
     "name": "stderr",
     "output_type": "stream",
     "text": [
      "2025-01-17 16:54:05.805Z gurobipy         20 netflow.py:117 Set parameter Presolve to value 1\n"
     ]
    },
    {
     "name": "stdout",
     "output_type": "stream",
     "text": [
      "Set parameter Method to value 4\n"
     ]
    },
    {
     "name": "stderr",
     "output_type": "stream",
     "text": [
      "2025-01-17 16:54:05.806Z gurobipy         20 netflow.py:117 Set parameter Method to value 4\n"
     ]
    },
    {
     "name": "stdout",
     "output_type": "stream",
     "text": [
      "Set parameter DegenMoves to value 0\n"
     ]
    },
    {
     "name": "stderr",
     "output_type": "stream",
     "text": [
      "2025-01-17 16:54:05.807Z gurobipy         20 netflow.py:117 Set parameter DegenMoves to value 0\n"
     ]
    },
    {
     "name": "stdout",
     "output_type": "stream",
     "text": [
      "Set parameter Heuristics to value 0.8\n"
     ]
    },
    {
     "name": "stderr",
     "output_type": "stream",
     "text": [
      "2025-01-17 16:54:05.809Z gurobipy         20 netflow.py:117 Set parameter Heuristics to value 0.8\n"
     ]
    },
    {
     "name": "stdout",
     "output_type": "stream",
     "text": [
      "Set parameter MIPGap to value 0.05\n"
     ]
    },
    {
     "name": "stderr",
     "output_type": "stream",
     "text": [
      "2025-01-17 16:54:05.810Z gurobipy         20 netflow.py:117 Set parameter MIPGap to value 0.05\n"
     ]
    },
    {
     "name": "stdout",
     "output_type": "stream",
     "text": [
      "Creating network topology\n",
      "  exposure 1\n",
      "Calculating visibilities\n",
      "adding constraints\n",
      "adding collision constraints\n",
      "adding forbidden pair constraints\n",
      "Gurobi Optimizer version 10.0.1 build v10.0.1rc0 (mac64[x86])\n"
     ]
    },
    {
     "name": "stderr",
     "output_type": "stream",
     "text": [
      "2025-01-17 16:54:16.770Z gurobipy         20 netflow.py:149 Gurobi Optimizer version 10.0.1 build v10.0.1rc0 (mac64[x86])\n"
     ]
    },
    {
     "name": "stdout",
     "output_type": "stream",
     "text": [
      "\n"
     ]
    },
    {
     "name": "stderr",
     "output_type": "stream",
     "text": [
      "2025-01-17 16:54:16.771Z gurobipy         20 netflow.py:149 \n"
     ]
    },
    {
     "name": "stdout",
     "output_type": "stream",
     "text": [
      "CPU model: Intel(R) Core(TM) i7-8569U CPU @ 2.80GHz\n"
     ]
    },
    {
     "name": "stderr",
     "output_type": "stream",
     "text": [
      "2025-01-17 16:54:16.773Z gurobipy         20 netflow.py:149 CPU model: Intel(R) Core(TM) i7-8569U CPU @ 2.80GHz\n"
     ]
    },
    {
     "name": "stdout",
     "output_type": "stream",
     "text": [
      "Thread count: 4 physical cores, 8 logical processors, using up to 8 threads\n"
     ]
    },
    {
     "name": "stderr",
     "output_type": "stream",
     "text": [
      "2025-01-17 16:54:16.775Z gurobipy         20 netflow.py:149 Thread count: 4 physical cores, 8 logical processors, using up to 8 threads\n"
     ]
    },
    {
     "name": "stdout",
     "output_type": "stream",
     "text": [
      "\n"
     ]
    },
    {
     "name": "stderr",
     "output_type": "stream",
     "text": [
      "2025-01-17 16:54:16.777Z gurobipy         20 netflow.py:149 \n"
     ]
    },
    {
     "name": "stdout",
     "output_type": "stream",
     "text": [
      "Academic license 2379863 - for non-commercial use only - registered to ji___@ipmu.jp\n"
     ]
    },
    {
     "name": "stderr",
     "output_type": "stream",
     "text": [
      "2025-01-17 16:54:16.780Z gurobipy         20 netflow.py:149 Academic license 2379863 - for non-commercial use only - registered to ji___@ipmu.jp\n"
     ]
    },
    {
     "name": "stdout",
     "output_type": "stream",
     "text": [
      "Optimize a model with 163966 rows, 80555 columns and 421015 nonzeros\n"
     ]
    },
    {
     "name": "stderr",
     "output_type": "stream",
     "text": [
      "2025-01-17 16:54:16.783Z gurobipy         20 netflow.py:149 Optimize a model with 163966 rows, 80555 columns and 421015 nonzeros\n"
     ]
    },
    {
     "name": "stdout",
     "output_type": "stream",
     "text": [
      "Model fingerprint: 0x1da9ea37\n"
     ]
    },
    {
     "name": "stderr",
     "output_type": "stream",
     "text": [
      "2025-01-17 16:54:16.789Z gurobipy         20 netflow.py:149 Model fingerprint: 0x1da9ea37\n"
     ]
    },
    {
     "name": "stdout",
     "output_type": "stream",
     "text": [
      "Variable types: 1 continuous, 80554 integer (80552 binary)\n"
     ]
    },
    {
     "name": "stderr",
     "output_type": "stream",
     "text": [
      "2025-01-17 16:54:16.791Z gurobipy         20 netflow.py:149 Variable types: 1 continuous, 80554 integer (80552 binary)\n"
     ]
    },
    {
     "name": "stdout",
     "output_type": "stream",
     "text": [
      "Coefficient statistics:\n"
     ]
    },
    {
     "name": "stderr",
     "output_type": "stream",
     "text": [
      "2025-01-17 16:54:16.795Z gurobipy         20 netflow.py:149 Coefficient statistics:\n"
     ]
    },
    {
     "name": "stdout",
     "output_type": "stream",
     "text": [
      "  Matrix range     [1e+00, 1e+00]\n"
     ]
    },
    {
     "name": "stderr",
     "output_type": "stream",
     "text": [
      "2025-01-17 16:54:16.797Z gurobipy         20 netflow.py:149   Matrix range     [1e+00, 1e+00]\n"
     ]
    },
    {
     "name": "stdout",
     "output_type": "stream",
     "text": [
      "  Objective range  [2e-05, 1e+06]\n"
     ]
    },
    {
     "name": "stderr",
     "output_type": "stream",
     "text": [
      "2025-01-17 16:54:16.800Z gurobipy         20 netflow.py:149   Objective range  [2e-05, 1e+06]\n"
     ]
    },
    {
     "name": "stdout",
     "output_type": "stream",
     "text": [
      "  Bounds range     [1e+00, 1e+00]\n"
     ]
    },
    {
     "name": "stderr",
     "output_type": "stream",
     "text": [
      "2025-01-17 16:54:16.802Z gurobipy         20 netflow.py:149   Bounds range     [1e+00, 1e+00]\n"
     ]
    },
    {
     "name": "stdout",
     "output_type": "stream",
     "text": [
      "  RHS range        [1e+00, 4e+02]\n"
     ]
    },
    {
     "name": "stderr",
     "output_type": "stream",
     "text": [
      "2025-01-17 16:54:16.803Z gurobipy         20 netflow.py:149   RHS range        [1e+00, 4e+02]\n"
     ]
    },
    {
     "name": "stdout",
     "output_type": "stream",
     "text": [
      "Found heuristic solution: objective 6.000000e+08\n"
     ]
    },
    {
     "name": "stderr",
     "output_type": "stream",
     "text": [
      "2025-01-17 16:54:16.894Z gurobipy         20 netflow.py:149 Found heuristic solution: objective 6.000000e+08\n"
     ]
    },
    {
     "name": "stdout",
     "output_type": "stream",
     "text": [
      "Presolve removed 163555 rows and 77960 columns\n"
     ]
    },
    {
     "name": "stderr",
     "output_type": "stream",
     "text": [
      "2025-01-17 16:54:17.699Z gurobipy         20 netflow.py:149 Presolve removed 163555 rows and 77960 columns\n"
     ]
    },
    {
     "name": "stdout",
     "output_type": "stream",
     "text": [
      "Presolve time: 0.77s\n"
     ]
    },
    {
     "name": "stderr",
     "output_type": "stream",
     "text": [
      "2025-01-17 16:54:17.700Z gurobipy         20 netflow.py:149 Presolve time: 0.77s\n"
     ]
    },
    {
     "name": "stdout",
     "output_type": "stream",
     "text": [
      "Presolved: 411 rows, 2595 columns, 3432 nonzeros\n"
     ]
    },
    {
     "name": "stderr",
     "output_type": "stream",
     "text": [
      "2025-01-17 16:54:17.707Z gurobipy         20 netflow.py:149 Presolved: 411 rows, 2595 columns, 3432 nonzeros\n"
     ]
    },
    {
     "name": "stdout",
     "output_type": "stream",
     "text": [
      "Found heuristic solution: objective 5.570000e+08\n"
     ]
    },
    {
     "name": "stderr",
     "output_type": "stream",
     "text": [
      "2025-01-17 16:54:17.713Z gurobipy         20 netflow.py:149 Found heuristic solution: objective 5.570000e+08\n"
     ]
    },
    {
     "name": "stdout",
     "output_type": "stream",
     "text": [
      "Variable types: 0 continuous, 2595 integer (2593 binary)\n"
     ]
    },
    {
     "name": "stderr",
     "output_type": "stream",
     "text": [
      "2025-01-17 16:54:17.715Z gurobipy         20 netflow.py:149 Variable types: 0 continuous, 2595 integer (2593 binary)\n"
     ]
    },
    {
     "name": "stdout",
     "output_type": "stream",
     "text": [
      "Found heuristic solution: objective 5.550000e+08\n"
     ]
    },
    {
     "name": "stderr",
     "output_type": "stream",
     "text": [
      "2025-01-17 16:54:17.718Z gurobipy         20 netflow.py:149 Found heuristic solution: objective 5.550000e+08\n"
     ]
    },
    {
     "name": "stdout",
     "output_type": "stream",
     "text": [
      "Deterministic concurrent LP optimizer: dual simplex and barrier\n"
     ]
    },
    {
     "name": "stderr",
     "output_type": "stream",
     "text": [
      "2025-01-17 16:54:17.723Z gurobipy         20 netflow.py:149 Deterministic concurrent LP optimizer: dual simplex and barrier\n"
     ]
    },
    {
     "name": "stdout",
     "output_type": "stream",
     "text": [
      "Showing barrier log only...\n"
     ]
    },
    {
     "name": "stderr",
     "output_type": "stream",
     "text": [
      "2025-01-17 16:54:17.724Z gurobipy         20 netflow.py:149 Showing barrier log only...\n"
     ]
    },
    {
     "name": "stdout",
     "output_type": "stream",
     "text": [
      "\n"
     ]
    },
    {
     "name": "stderr",
     "output_type": "stream",
     "text": [
      "2025-01-17 16:54:17.726Z gurobipy         20 netflow.py:149 \n"
     ]
    },
    {
     "name": "stdout",
     "output_type": "stream",
     "text": [
      "Root barrier log...\n"
     ]
    },
    {
     "name": "stderr",
     "output_type": "stream",
     "text": [
      "2025-01-17 16:54:17.730Z gurobipy         20 netflow.py:149 Root barrier log...\n"
     ]
    },
    {
     "name": "stdout",
     "output_type": "stream",
     "text": [
      "\n"
     ]
    },
    {
     "name": "stderr",
     "output_type": "stream",
     "text": [
      "2025-01-17 16:54:17.733Z gurobipy         20 netflow.py:149 \n"
     ]
    },
    {
     "name": "stdout",
     "output_type": "stream",
     "text": [
      "Ordering time: 0.00s\n"
     ]
    },
    {
     "name": "stderr",
     "output_type": "stream",
     "text": [
      "2025-01-17 16:54:17.734Z gurobipy         20 netflow.py:149 Ordering time: 0.00s\n"
     ]
    },
    {
     "name": "stdout",
     "output_type": "stream",
     "text": [
      "\n"
     ]
    },
    {
     "name": "stderr",
     "output_type": "stream",
     "text": [
      "2025-01-17 16:54:17.736Z gurobipy         20 netflow.py:149 \n"
     ]
    },
    {
     "name": "stdout",
     "output_type": "stream",
     "text": [
      "Barrier statistics:\n"
     ]
    },
    {
     "name": "stderr",
     "output_type": "stream",
     "text": [
      "2025-01-17 16:54:17.737Z gurobipy         20 netflow.py:149 Barrier statistics:\n"
     ]
    },
    {
     "name": "stdout",
     "output_type": "stream",
     "text": [
      " AA' NZ     : 8.920e+02\n"
     ]
    },
    {
     "name": "stderr",
     "output_type": "stream",
     "text": [
      "2025-01-17 16:54:17.739Z gurobipy         20 netflow.py:149  AA' NZ     : 8.920e+02\n"
     ]
    },
    {
     "name": "stdout",
     "output_type": "stream",
     "text": [
      " Factor NZ  : 1.896e+03 (roughly 1 MB of memory)\n"
     ]
    },
    {
     "name": "stderr",
     "output_type": "stream",
     "text": [
      "2025-01-17 16:54:17.741Z gurobipy         20 netflow.py:149  Factor NZ  : 1.896e+03 (roughly 1 MB of memory)\n"
     ]
    },
    {
     "name": "stdout",
     "output_type": "stream",
     "text": [
      " Factor Ops : 1.673e+04 (less than 1 second per iteration)\n"
     ]
    },
    {
     "name": "stderr",
     "output_type": "stream",
     "text": [
      "2025-01-17 16:54:17.742Z gurobipy         20 netflow.py:149  Factor Ops : 1.673e+04 (less than 1 second per iteration)\n"
     ]
    },
    {
     "name": "stdout",
     "output_type": "stream",
     "text": [
      " Threads    : 1\n"
     ]
    },
    {
     "name": "stderr",
     "output_type": "stream",
     "text": [
      "2025-01-17 16:54:17.744Z gurobipy         20 netflow.py:149  Threads    : 1\n"
     ]
    },
    {
     "name": "stdout",
     "output_type": "stream",
     "text": [
      "\n"
     ]
    },
    {
     "name": "stderr",
     "output_type": "stream",
     "text": [
      "2025-01-17 16:54:17.747Z gurobipy         20 netflow.py:149 \n"
     ]
    },
    {
     "name": "stdout",
     "output_type": "stream",
     "text": [
      "                  Objective                Residual\n"
     ]
    },
    {
     "name": "stderr",
     "output_type": "stream",
     "text": [
      "2025-01-17 16:54:17.751Z gurobipy         20 netflow.py:149                   Objective                Residual\n"
     ]
    },
    {
     "name": "stdout",
     "output_type": "stream",
     "text": [
      "Iter       Primal          Dual         Primal    Dual     Compl     Time\n"
     ]
    },
    {
     "name": "stderr",
     "output_type": "stream",
     "text": [
      "2025-01-17 16:54:17.754Z gurobipy         20 netflow.py:149 Iter       Primal          Dual         Primal    Dual     Compl     Time\n"
     ]
    },
    {
     "name": "stdout",
     "output_type": "stream",
     "text": [
      "   0   3.15517945e+08 -2.66404061e+09  6.96e+00 4.19e+04  1.86e+07     1s\n"
     ]
    },
    {
     "name": "stderr",
     "output_type": "stream",
     "text": [
      "2025-01-17 16:54:17.758Z gurobipy         20 netflow.py:149    0   3.15517945e+08 -2.66404061e+09  6.96e+00 4.19e+04  1.86e+07     1s\n"
     ]
    },
    {
     "name": "stdout",
     "output_type": "stream",
     "text": [
      "\n"
     ]
    },
    {
     "name": "stderr",
     "output_type": "stream",
     "text": [
      "2025-01-17 16:54:17.759Z gurobipy         20 netflow.py:149 \n"
     ]
    },
    {
     "name": "stdout",
     "output_type": "stream",
     "text": [
      "Barrier performed 0 iterations in 0.98 seconds (0.41 work units)\n"
     ]
    },
    {
     "name": "stderr",
     "output_type": "stream",
     "text": [
      "2025-01-17 16:54:17.761Z gurobipy         20 netflow.py:149 Barrier performed 0 iterations in 0.98 seconds (0.41 work units)\n"
     ]
    },
    {
     "name": "stdout",
     "output_type": "stream",
     "text": [
      "Barrier solve interrupted - model solved by another algorithm\n"
     ]
    },
    {
     "name": "stderr",
     "output_type": "stream",
     "text": [
      "2025-01-17 16:54:17.763Z gurobipy         20 netflow.py:149 Barrier solve interrupted - model solved by another algorithm\n"
     ]
    },
    {
     "name": "stdout",
     "output_type": "stream",
     "text": [
      "\n"
     ]
    },
    {
     "name": "stderr",
     "output_type": "stream",
     "text": [
      "2025-01-17 16:54:17.766Z gurobipy         20 netflow.py:149 \n"
     ]
    },
    {
     "name": "stdout",
     "output_type": "stream",
     "text": [
      "Concurrent spin time: 0.04s\n"
     ]
    },
    {
     "name": "stderr",
     "output_type": "stream",
     "text": [
      "2025-01-17 16:54:17.768Z gurobipy         20 netflow.py:149 Concurrent spin time: 0.04s\n"
     ]
    },
    {
     "name": "stdout",
     "output_type": "stream",
     "text": [
      "\n"
     ]
    },
    {
     "name": "stderr",
     "output_type": "stream",
     "text": [
      "2025-01-17 16:54:17.770Z gurobipy         20 netflow.py:149 \n"
     ]
    },
    {
     "name": "stdout",
     "output_type": "stream",
     "text": [
      "Solved with dual simplex\n"
     ]
    },
    {
     "name": "stderr",
     "output_type": "stream",
     "text": [
      "2025-01-17 16:54:17.772Z gurobipy         20 netflow.py:149 Solved with dual simplex\n"
     ]
    },
    {
     "name": "stdout",
     "output_type": "stream",
     "text": [
      "\n"
     ]
    },
    {
     "name": "stderr",
     "output_type": "stream",
     "text": [
      "2025-01-17 16:54:17.775Z gurobipy         20 netflow.py:149 \n"
     ]
    },
    {
     "name": "stdout",
     "output_type": "stream",
     "text": [
      "Root relaxation: objective 1.187317e+01, 37 iterations, 0.05 seconds (0.00 work units)\n"
     ]
    },
    {
     "name": "stderr",
     "output_type": "stream",
     "text": [
      "2025-01-17 16:54:17.778Z gurobipy         20 netflow.py:149 Root relaxation: objective 1.187317e+01, 37 iterations, 0.05 seconds (0.00 work units)\n"
     ]
    },
    {
     "name": "stdout",
     "output_type": "stream",
     "text": [
      "\n"
     ]
    },
    {
     "name": "stderr",
     "output_type": "stream",
     "text": [
      "2025-01-17 16:54:17.783Z gurobipy         20 netflow.py:149 \n"
     ]
    },
    {
     "name": "stdout",
     "output_type": "stream",
     "text": [
      "    Nodes    |    Current Node    |     Objective Bounds      |     Work\n"
     ]
    },
    {
     "name": "stderr",
     "output_type": "stream",
     "text": [
      "2025-01-17 16:54:17.786Z gurobipy         20 netflow.py:149     Nodes    |    Current Node    |     Objective Bounds      |     Work\n"
     ]
    },
    {
     "name": "stdout",
     "output_type": "stream",
     "text": [
      " Expl Unexpl |  Obj  Depth IntInf | Incumbent    BestBd   Gap | It/Node Time\n"
     ]
    },
    {
     "name": "stderr",
     "output_type": "stream",
     "text": [
      "2025-01-17 16:54:17.787Z gurobipy         20 netflow.py:149  Expl Unexpl |  Obj  Depth IntInf | Incumbent    BestBd   Gap | It/Node Time\n"
     ]
    },
    {
     "name": "stdout",
     "output_type": "stream",
     "text": [
      "\n"
     ]
    },
    {
     "name": "stderr",
     "output_type": "stream",
     "text": [
      "2025-01-17 16:54:17.790Z gurobipy         20 netflow.py:149 \n"
     ]
    },
    {
     "name": "stdout",
     "output_type": "stream",
     "text": [
      "*    0     0               0      11.8731746   11.87317  0.00%     -    1s\n"
     ]
    },
    {
     "name": "stderr",
     "output_type": "stream",
     "text": [
      "2025-01-17 16:54:17.792Z gurobipy         20 netflow.py:149 *    0     0               0      11.8731746   11.87317  0.00%     -    1s\n"
     ]
    },
    {
     "name": "stdout",
     "output_type": "stream",
     "text": [
      "\n"
     ]
    },
    {
     "name": "stderr",
     "output_type": "stream",
     "text": [
      "2025-01-17 16:54:17.814Z gurobipy         20 netflow.py:149 \n"
     ]
    },
    {
     "name": "stdout",
     "output_type": "stream",
     "text": [
      "Explored 1 nodes (37 simplex iterations) in 1.04 seconds (0.41 work units)\n"
     ]
    },
    {
     "name": "stderr",
     "output_type": "stream",
     "text": [
      "2025-01-17 16:54:17.817Z gurobipy         20 netflow.py:149 Explored 1 nodes (37 simplex iterations) in 1.04 seconds (0.41 work units)\n"
     ]
    },
    {
     "name": "stdout",
     "output_type": "stream",
     "text": [
      "Thread count was 8 (of 8 available processors)\n"
     ]
    },
    {
     "name": "stderr",
     "output_type": "stream",
     "text": [
      "2025-01-17 16:54:17.818Z gurobipy         20 netflow.py:149 Thread count was 8 (of 8 available processors)\n"
     ]
    },
    {
     "name": "stdout",
     "output_type": "stream",
     "text": [
      "\n"
     ]
    },
    {
     "name": "stderr",
     "output_type": "stream",
     "text": [
      "2025-01-17 16:54:17.820Z gurobipy         20 netflow.py:149 \n"
     ]
    },
    {
     "name": "stdout",
     "output_type": "stream",
     "text": [
      "Solution count 4: 11.8732 5.55e+08 5.57e+08 6e+08 \n"
     ]
    },
    {
     "name": "stderr",
     "output_type": "stream",
     "text": [
      "2025-01-17 16:54:17.822Z gurobipy         20 netflow.py:149 Solution count 4: 11.8732 5.55e+08 5.57e+08 6e+08 \n"
     ]
    },
    {
     "name": "stdout",
     "output_type": "stream",
     "text": [
      "\n"
     ]
    },
    {
     "name": "stderr",
     "output_type": "stream",
     "text": [
      "2025-01-17 16:54:17.823Z gurobipy         20 netflow.py:149 \n"
     ]
    },
    {
     "name": "stdout",
     "output_type": "stream",
     "text": [
      "Optimal solution found (tolerance 5.00e-02)\n"
     ]
    },
    {
     "name": "stderr",
     "output_type": "stream",
     "text": [
      "2025-01-17 16:54:17.825Z gurobipy         20 netflow.py:149 Optimal solution found (tolerance 5.00e-02)\n"
     ]
    },
    {
     "name": "stdout",
     "output_type": "stream",
     "text": [
      "Best objective 1.187317458930e+01, best bound 1.187317458930e+01, gap 0.0000%\n"
     ]
    },
    {
     "name": "stderr",
     "output_type": "stream",
     "text": [
      "2025-01-17 16:54:17.831Z gurobipy         20 netflow.py:149 Best objective 1.187317458930e+01, best bound 1.187317458930e+01, gap 0.0000%\n"
     ]
    },
    {
     "name": "stdout",
     "output_type": "stream",
     "text": [
      "Checking for trajectory collisions\n"
     ]
    },
    {
     "name": "stderr",
     "output_type": "stream",
     "text": [
      "2025-01-17 16:54:18.041Z pfi              40 pfi.py:896 Some theta angles are out of range\n",
      "2025-01-17 16:54:18.042Z pfi              40 pfi.py:899 Some phi angles are out of range\n",
      "2025-01-17 16:54:18.163Z pfi              40 pfi.py:899 Some phi angles are out of range\n",
      "2025-01-17 16:54:18.197Z pfi              40 pfi.py:899 Some phi angles are out of range\n",
      "2025-01-17 16:54:18.200Z engineer         20 engineer.py:395 Move theta arms to angle=[ 75.91 360.   360.   ... 210.2  360.   224.27] degree\n",
      "2025-01-17 16:54:18.201Z engineer         20 engineer.py:396 Move phi arms to angle=[ 6.62 24.48 13.06 ...  8.33 11.99 14.19] degree\n",
      "2025-01-17 16:54:18.202Z engineer         20 engineer.py:398 Checking passed homed argument = True\n",
      "2025-01-17 16:54:18.203Z engineer         20 engineer.py:402 Move theta arms CW and phi arms CCW to the hard stops\n",
      "2025-01-17 16:54:18.231Z cobraCoach       20 cobraCoach.py:1065 home cobras: theta=10000, phi=-5000\n",
      "2025-01-17 16:54:18.254Z pfi              40 pfi.py:899 Some phi angles are out of range\n",
      "2025-01-17 16:54:18.279Z pfi              40 pfi.py:899 Some phi angles are out of range\n",
      "2025-01-17 16:54:18.281Z engineer         20 engineer.py:412 Sending angles to moveToAngles for 0-th iteration\n",
      "2025-01-17 16:54:18.304Z cobraCoach       20 cobraCoach.py:1009 Moving deltaTheta = [-5.25294989 -0.38204686 -0.35608403 ... -3.02040524 -0.4013664\n",
      " -2.78477536]\n",
      "2025-01-17 16:54:18.305Z cobraCoach       20 cobraCoach.py:1010 Moving deltaPhi = [0.11558998 0.42723261 0.22794454 ... 0.14539386 0.20932294 0.24760745]\n",
      "2025-01-17 16:54:18.567Z cobraCoach       20 cobraCoach.py:877 Finished converting angle to steps, sending command to moveSteps (constantOntime).\n",
      "2025-01-17 16:54:19.122Z cobraCoach       20 cobraCoach.py:587 Sending step numbers to FPGA for moving cobra.\n",
      "2025-01-17 16:54:19.228Z cobraCoach       20 cobraCoach.py:601 cobra control FPGA operation done.\n",
      "2025-01-17 16:54:19.255Z pfi              40 pfi.py:896 Some theta angles are out of range\n",
      "2025-01-17 16:54:19.256Z pfi              40 pfi.py:899 Some phi angles are out of range\n",
      "2025-01-17 16:54:19.363Z cobraCoach       30 cobraCoach.py:675 Cobra#344 is too far from center\n",
      "2025-01-17 16:54:19.366Z cobraCoach       30 cobraCoach.py:675 Cobra#443 is too far from center\n",
      "2025-01-17 16:54:19.369Z cobraCoach       30 cobraCoach.py:675 Cobra#493 is too far from center\n",
      "2025-01-17 16:54:19.393Z cobraCoach       30 cobraCoach.py:675 Cobra#1303 is too far from center\n",
      "2025-01-17 16:54:19.404Z cobraCoach       30 cobraCoach.py:675 Cobra#1637 is too far from center\n",
      "2025-01-17 16:54:19.410Z cobraCoach       30 cobraCoach.py:675 Cobra#1790 is too far from center\n",
      "2025-01-17 16:54:19.411Z cobraCoach       30 cobraCoach.py:675 Cobra#1792 is too far from center\n",
      "2025-01-17 16:54:19.431Z engineer         20 engineer.py:422 Updating the cobra information\n",
      "2025-01-17 16:54:19.435Z engineer         20 engineer.py:436 done: [   0    1    2 ... 2391 2392 2393], 19 left\n",
      "2025-01-17 16:54:19.436Z engineer         20 engineer.py:412 Sending angles to moveToAngles for 1-th iteration\n",
      "2025-01-17 16:54:19.438Z cobraCoach       30 cobraCoach.py:1003 Last phi angle is unknown, not moving: [1459]\n",
      "2025-01-17 16:54:19.440Z cobraCoach       20 cobraCoach.py:1009 Moving deltaTheta = [-1.01748456e-05 -1.01748456e-05 -1.01748456e-05  1.42413045e-04\n",
      " -1.01748456e-05 -1.01748456e-05 -1.01748456e-05 -1.01748455e-05\n",
      " -1.01748456e-05  1.73407460e-04 -1.97115887e-05 -2.99138163e-04\n",
      " -1.01748455e-05 -1.14933882e-03 -1.01748456e-05 -1.01748456e-05\n",
      " -3.50271147e-01 -6.61534404e-04  1.10228624e-03]\n",
      "2025-01-17 16:54:19.441Z cobraCoach       20 cobraCoach.py:1010 Moving deltaPhi = [-6.10865247e+00 -6.10865247e+00 -6.10865247e+00 -4.16400827e-02\n",
      " -2.96705959e+00 -6.10865247e+00  0.00000000e+00 -2.96705964e+00\n",
      " -2.96705969e+00 -1.24290680e-01 -2.12845317e-02 -1.40374378e-02\n",
      " -6.10865247e+00 -2.10511567e-03 -6.10865247e+00 -6.10865247e+00\n",
      " -6.45651525e-05 -1.35800043e-02 -4.98778998e-02]\n",
      "2025-01-17 16:54:19.443Z cobraCoach       30 cobraCoach.py:846 Last phi angle is unknown: [1459]\n",
      "2025-01-17 16:54:19.445Z cobraCoach       20 cobraCoach.py:877 Finished converting angle to steps, sending command to moveSteps (constantOntime).\n",
      "2025-01-17 16:54:19.454Z cobraCoach       20 cobraCoach.py:587 Sending step numbers to FPGA for moving cobra.\n",
      "2025-01-17 16:54:19.457Z cobraCoach       20 cobraCoach.py:601 cobra control FPGA operation done.\n",
      "2025-01-17 16:54:19.480Z pfi              40 pfi.py:896 Some theta angles are out of range\n",
      "2025-01-17 16:54:19.481Z pfi              40 pfi.py:899 Some phi angles are out of range\n",
      "2025-01-17 16:54:19.579Z cobraCoach       30 cobraCoach.py:675 Cobra#344 is too far from center\n",
      "2025-01-17 16:54:19.580Z cobraCoach       30 cobraCoach.py:679 Cobra#1460 is too close to center\n",
      "2025-01-17 16:54:19.581Z cobraCoach       30 cobraCoach.py:675 Cobra#1637 is too far from center\n",
      "2025-01-17 16:54:19.582Z cobraCoach       30 cobraCoach.py:675 Cobra#1790 is too far from center\n",
      "2025-01-17 16:54:19.584Z engineer         20 engineer.py:422 Updating the cobra information\n",
      "2025-01-17 16:54:19.588Z engineer         20 engineer.py:436 done: [1782 1929], 17 left\n",
      "2025-01-17 16:54:19.589Z engineer         30 engineer.py:445 17 cobras did not finish: [ 343  442  492  578  737 1302 1459 1493 1538 1560 1581 1583 1636 1789\n",
      " 1791 1937 1969], [4.67 4.67 4.67 0.11 4.67 4.67 0.82 4.67 4.67 0.25 0.06 0.04 4.67 4.67\n",
      " 4.67 0.04 0.11]\n",
      "2025-01-17 16:54:19.590Z engineer         20 engineer.py:450 Returning 2394 atThetas and 2394 atPhis\n",
      "2025-01-17 16:54:19.615Z pfi              40 pfi.py:899 Some phi angles are out of range\n",
      "2025-01-17 16:54:19.617Z engineer         20 engineer.py:395 Move theta arms to angle=[ 75.91 360.   360.   ... 210.2  360.   224.27] degree\n",
      "2025-01-17 16:54:19.618Z engineer         20 engineer.py:396 Move phi arms to angle=[ 6.62 24.48 13.06 ...  8.33 11.99 14.19] degree\n",
      "2025-01-17 16:54:19.619Z engineer         20 engineer.py:398 Checking passed homed argument = False\n",
      "2025-01-17 16:54:19.620Z engineer         20 engineer.py:412 Sending angles to moveToAngles for 0-th iteration\n",
      "2025-01-17 16:54:19.646Z cobraCoach       20 cobraCoach.py:1009 Moving deltaTheta = [ 0.0007928  -0.0001518   0.00038703 ...  0.00017839  0.00038417\n",
      " -0.00096284]\n",
      "2025-01-17 16:54:19.647Z cobraCoach       20 cobraCoach.py:1010 Moving deltaPhi = [-0.00012803 -0.00083433  0.00018682 ...  0.00054019 -0.00083972\n",
      " -0.00047282]\n",
      "2025-01-17 16:54:19.834Z cobraCoach       20 cobraCoach.py:877 Finished converting angle to steps, sending command to moveSteps (constantOntime).\n",
      "2025-01-17 16:54:20.040Z cobraCoach       20 cobraCoach.py:587 Sending step numbers to FPGA for moving cobra.\n",
      "2025-01-17 16:54:20.145Z cobraCoach       20 cobraCoach.py:601 cobra control FPGA operation done.\n",
      "2025-01-17 16:54:20.170Z pfi              40 pfi.py:896 Some theta angles are out of range\n",
      "2025-01-17 16:54:20.172Z pfi              40 pfi.py:899 Some phi angles are out of range\n",
      "2025-01-17 16:54:20.300Z cobraCoach       30 cobraCoach.py:675 Cobra#1303 is too far from center\n",
      "2025-01-17 16:54:20.314Z cobraCoach       30 cobraCoach.py:675 Cobra#1790 is too far from center\n",
      "2025-01-17 16:54:20.332Z engineer         20 engineer.py:422 Updating the cobra information\n",
      "2025-01-17 16:54:20.335Z engineer         20 engineer.py:436 done: [   0    1    2 ... 2391 2392 2393], 17 left\n",
      "2025-01-17 16:54:20.336Z engineer         20 engineer.py:412 Sending angles to moveToAngles for 1-th iteration\n",
      "2025-01-17 16:54:20.337Z cobraCoach       30 cobraCoach.py:1003 Last phi angle is unknown, not moving: [1459]\n",
      "2025-01-17 16:54:20.339Z cobraCoach       20 cobraCoach.py:1009 Moving deltaTheta = [-1.94233989e-04 -5.14191722e-04 -6.14804362e-04  1.42413045e-04\n",
      " -1.01748456e-05  2.69975771e-06 -1.01748456e-05 -1.01748455e-05\n",
      " -1.01748456e-05  1.73407460e-04 -1.97115887e-05 -2.99138163e-04\n",
      " -1.03632841e-03 -1.01748456e-05 -3.80200480e-04 -6.61534404e-04\n",
      " -1.05065440e-04]\n",
      "2025-01-17 16:54:20.340Z cobraCoach       20 cobraCoach.py:1010 Moving deltaPhi = [-2.96687409 -2.96705963 -2.9670596  -0.04164008 -2.96705959 -6.10865247\n",
      "  0.         -2.96705964 -2.96705969 -0.12429068 -0.02128453 -0.01403744\n",
      " -2.96602327 -6.10865247 -2.9670596  -0.01358    -0.0498779 ]\n",
      "2025-01-17 16:54:20.344Z cobraCoach       30 cobraCoach.py:846 Last phi angle is unknown: [1459]\n",
      "2025-01-17 16:54:20.346Z cobraCoach       20 cobraCoach.py:877 Finished converting angle to steps, sending command to moveSteps (constantOntime).\n",
      "2025-01-17 16:54:20.353Z cobraCoach       20 cobraCoach.py:587 Sending step numbers to FPGA for moving cobra.\n",
      "2025-01-17 16:54:20.355Z cobraCoach       20 cobraCoach.py:601 cobra control FPGA operation done.\n",
      "2025-01-17 16:54:20.379Z pfi              40 pfi.py:896 Some theta angles are out of range\n",
      "2025-01-17 16:54:20.380Z pfi              40 pfi.py:899 Some phi angles are out of range\n",
      "2025-01-17 16:54:20.535Z cobraCoach       30 cobraCoach.py:675 Cobra#344 is too far from center\n",
      "2025-01-17 16:54:20.536Z pfi              30 pfi.py:475 clipping scale adjustment from 0.2573481031895782 to 0.3\n",
      "2025-01-17 16:54:20.537Z cobraCoach       30 cobraCoach.py:679 Cobra#1460 is too close to center\n",
      "2025-01-17 16:54:20.538Z pfi              30 pfi.py:475 clipping scale adjustment from 0.26154231110049525 to 0.3\n",
      "2025-01-17 16:54:20.540Z engineer         20 engineer.py:422 Updating the cobra information\n",
      "2025-01-17 16:54:20.543Z engineer         20 engineer.py:412 Sending angles to moveToAngles for 2-th iteration\n",
      "2025-01-17 16:54:20.545Z cobraCoach       20 cobraCoach.py:1009 Moving deltaTheta = [-1.94233989e-04 -5.14191722e-04 -6.14804362e-04  1.42413045e-04\n",
      " -1.01748456e-05 -1.09852569e+00 -1.01748456e-05 -1.01748455e-05\n",
      " -1.01748456e-05  1.73407460e-04 -1.97115887e-05 -2.99138163e-04\n",
      " -1.03632841e-03 -1.07143418e+00 -3.80200480e-04 -6.61534404e-04\n",
      " -1.05065440e-04]\n",
      "2025-01-17 16:54:20.546Z cobraCoach       20 cobraCoach.py:1010 Moving deltaPhi = [-6.10865247 -2.96705963 -2.9670596  -0.04164008 -2.96705959 -1.71883189\n",
      " -2.96705973 -2.96705964 -2.96705969 -0.12429068 -0.02128453 -0.01403744\n",
      " -2.96705964 -1.88389766 -2.9670596  -0.01358    -0.0498779 ]\n",
      "2025-01-17 16:54:20.550Z cobraCoach       20 cobraCoach.py:877 Finished converting angle to steps, sending command to moveSteps (constantOntime).\n",
      "2025-01-17 16:54:20.556Z cobraCoach       20 cobraCoach.py:587 Sending step numbers to FPGA for moving cobra.\n",
      "2025-01-17 16:54:20.559Z cobraCoach       20 cobraCoach.py:601 cobra control FPGA operation done.\n",
      "2025-01-17 16:54:20.582Z pfi              40 pfi.py:896 Some theta angles are out of range\n",
      "2025-01-17 16:54:20.583Z pfi              40 pfi.py:899 Some phi angles are out of range\n",
      "2025-01-17 16:54:20.677Z pfi              30 pfi.py:475 clipping scale adjustment from 0.2859424141191533 to 0.3\n",
      "2025-01-17 16:54:20.678Z cobraCoach       30 cobraCoach.py:675 Cobra#1303 is too far from center\n",
      "2025-01-17 16:54:20.679Z pfi              30 pfi.py:475 clipping scale adjustment from 0.29999999904403885 to 0.3\n",
      "2025-01-17 16:54:20.680Z cobraCoach       30 cobraCoach.py:675 Cobra#1790 is too far from center\n",
      "2025-01-17 16:54:20.682Z engineer         20 engineer.py:422 Updating the cobra information\n",
      "2025-01-17 16:54:20.684Z engineer         20 engineer.py:412 Sending angles to moveToAngles for 3-th iteration\n",
      "2025-01-17 16:54:20.686Z cobraCoach       30 cobraCoach.py:1003 Last phi angle is unknown, not moving: [1459]\n",
      "2025-01-17 16:54:20.687Z cobraCoach       20 cobraCoach.py:1009 Moving deltaTheta = [-3.21863813e-01 -5.14191722e-04 -6.14804362e-04  1.42413045e-04\n",
      " -1.01748456e-05 -6.82685060e-01 -1.01748456e-05 -1.01748455e-05\n",
      " -1.01748456e-05  1.73407460e-04 -1.97115887e-05 -2.99138163e-04\n",
      " -1.03632841e-03 -3.25590772e-01 -3.80200480e-04 -6.61534404e-04\n",
      " -1.05065440e-04]\n",
      "2025-01-17 16:54:20.688Z cobraCoach       20 cobraCoach.py:1010 Moving deltaPhi = [-2.64219266 -2.96705963 -2.9670596  -0.04164008 -2.96705959 -6.10865247\n",
      "  0.         -2.96705964 -2.96705969 -0.12429068 -0.02128453 -0.01403744\n",
      " -2.96705964 -6.10865247 -2.9670596  -0.01358    -0.0498779 ]\n",
      "2025-01-17 16:54:20.690Z cobraCoach       30 cobraCoach.py:846 Last phi angle is unknown: [1459]\n",
      "2025-01-17 16:54:20.693Z cobraCoach       20 cobraCoach.py:877 Finished converting angle to steps, sending command to moveSteps (constantOntime).\n",
      "2025-01-17 16:54:20.700Z cobraCoach       20 cobraCoach.py:587 Sending step numbers to FPGA for moving cobra.\n",
      "2025-01-17 16:54:20.703Z cobraCoach       20 cobraCoach.py:601 cobra control FPGA operation done.\n",
      "2025-01-17 16:54:20.726Z pfi              40 pfi.py:896 Some theta angles are out of range\n",
      "2025-01-17 16:54:20.727Z pfi              40 pfi.py:899 Some phi angles are out of range\n",
      "2025-01-17 16:54:20.826Z pfi              30 pfi.py:475 clipping scale adjustment from 0.22521650184055392 to 0.3\n",
      "2025-01-17 16:54:20.827Z pfi              30 pfi.py:475 clipping scale adjustment from 0.2573481031895782 to 0.3\n",
      "2025-01-17 16:54:20.828Z cobraCoach       30 cobraCoach.py:679 Cobra#1460 is too close to center\n",
      "2025-01-17 16:54:20.829Z pfi              30 pfi.py:475 clipping scale adjustment from 0.22664453700152026 to 0.3\n",
      "2025-01-17 16:54:20.830Z pfi              30 pfi.py:475 clipping scale adjustment from 0.26154231110049525 to 0.3\n",
      "2025-01-17 16:54:20.831Z engineer         20 engineer.py:422 Updating the cobra information\n",
      "2025-01-17 16:54:20.833Z engineer         20 engineer.py:412 Sending angles to moveToAngles for 4-th iteration\n",
      "2025-01-17 16:54:20.835Z cobraCoach       20 cobraCoach.py:1009 Moving deltaTheta = [-2.17122172e-04 -5.14191722e-04 -6.14804362e-04  1.42413045e-04\n",
      " -1.01748456e-05  4.51698156e+00 -1.01748456e-05 -1.01748455e-05\n",
      " -1.01748456e-05  1.73407460e-04 -1.97115887e-05 -2.99138163e-04\n",
      " -1.03632841e-03  5.00301130e+00 -3.80200480e-04 -6.61534404e-04\n",
      " -1.05065440e-04]\n",
      "2025-01-17 16:54:20.836Z cobraCoach       20 cobraCoach.py:1010 Moving deltaPhi = [-2.96705965 -2.96705963 -2.9670596  -0.04164008 -2.96705959 -1.71883189\n",
      " -2.96705973 -2.96705964 -2.96705969 -0.12429068 -0.02128453 -0.01403744\n",
      " -2.96705964 -1.88389766 -2.9670596  -0.01358    -0.0498779 ]\n",
      "2025-01-17 16:54:20.839Z cobraCoach       20 cobraCoach.py:877 Finished converting angle to steps, sending command to moveSteps (constantOntime).\n",
      "2025-01-17 16:54:20.847Z cobraCoach       20 cobraCoach.py:587 Sending step numbers to FPGA for moving cobra.\n",
      "2025-01-17 16:54:20.851Z cobraCoach       20 cobraCoach.py:601 cobra control FPGA operation done.\n",
      "2025-01-17 16:54:20.874Z pfi              40 pfi.py:896 Some theta angles are out of range\n",
      "2025-01-17 16:54:20.875Z pfi              40 pfi.py:899 Some phi angles are out of range\n",
      "2025-01-17 16:54:20.976Z cobraCoach       30 cobraCoach.py:675 Cobra#1790 is too far from center\n",
      "2025-01-17 16:54:20.977Z pfi              30 pfi.py:475 clipping scale adjustment from 0.29999999510714737 to 0.3\n",
      "2025-01-17 16:54:20.979Z engineer         20 engineer.py:422 Updating the cobra information\n",
      "2025-01-17 16:54:20.981Z engineer         20 engineer.py:412 Sending angles to moveToAngles for 5-th iteration\n",
      "2025-01-17 16:54:20.983Z cobraCoach       30 cobraCoach.py:1003 Last phi angle is unknown, not moving: [1459]\n",
      "2025-01-17 16:54:20.985Z cobraCoach       20 cobraCoach.py:1009 Moving deltaTheta = [-2.17122172e-04 -5.14191722e-04 -6.14804362e-04  1.42413045e-04\n",
      " -1.01748456e-05 -4.10811338e-03 -1.01748456e-05 -1.01748455e-05\n",
      " -1.01748456e-05  1.73407460e-04 -1.97115887e-05 -2.99138163e-04\n",
      " -1.03632841e-03  7.85623389e-01 -3.80200480e-04 -6.61534404e-04\n",
      " -1.05065440e-04]\n",
      "2025-01-17 16:54:20.986Z cobraCoach       20 cobraCoach.py:1010 Moving deltaPhi = [-2.96705965 -2.96705963 -2.9670596  -0.04164008 -2.96705959 -2.96705962\n",
      "  0.         -2.96705964 -2.96705969 -0.12429068 -0.02128453 -0.01403744\n",
      " -2.96705964 -6.10865247 -2.9670596  -0.01358    -0.0498779 ]\n",
      "2025-01-17 16:54:20.991Z cobraCoach       30 cobraCoach.py:846 Last phi angle is unknown: [1459]\n",
      "2025-01-17 16:54:20.994Z cobraCoach       20 cobraCoach.py:877 Finished converting angle to steps, sending command to moveSteps (constantOntime).\n",
      "2025-01-17 16:54:21.004Z cobraCoach       20 cobraCoach.py:587 Sending step numbers to FPGA for moving cobra.\n",
      "2025-01-17 16:54:21.010Z cobraCoach       20 cobraCoach.py:601 cobra control FPGA operation done.\n",
      "2025-01-17 16:54:21.039Z pfi              40 pfi.py:896 Some theta angles are out of range\n",
      "2025-01-17 16:54:21.043Z pfi              40 pfi.py:899 Some phi angles are out of range\n",
      "2025-01-17 16:54:21.158Z pfi              30 pfi.py:475 clipping scale adjustment from 0.2250489700875823 to 0.3\n",
      "2025-01-17 16:54:21.159Z cobraCoach       30 cobraCoach.py:679 Cobra#1460 is too close to center\n",
      "2025-01-17 16:54:21.160Z pfi              30 pfi.py:475 clipping scale adjustment from 0.2561286605203101 to 0.3\n",
      "2025-01-17 16:54:21.161Z pfi              30 pfi.py:475 clipping scale adjustment from 0.26154231110049525 to 0.3\n",
      "2025-01-17 16:54:21.162Z engineer         20 engineer.py:422 Updating the cobra information\n",
      "2025-01-17 16:54:21.165Z engineer         30 engineer.py:445 17 cobras did not finish: [ 343  442  492  578  737 1302 1459 1493 1538 1560 1581 1583 1636 1789\n",
      " 1791 1937 1969], [4.67 4.67 4.67 0.11 4.67 4.67 0.82 4.67 4.67 0.25 0.06 0.04 4.67 4.2\n",
      " 4.67 0.04 0.11]\n",
      "2025-01-17 16:54:21.166Z engineer         20 engineer.py:450 Returning 2394 atThetas and 2394 atPhis\n",
      "2025-01-17 16:54:21.192Z pfi              40 pfi.py:896 Some theta angles are out of range\n",
      "2025-01-17 16:54:21.195Z pfi              40 pfi.py:899 Some phi angles are out of range\n",
      "2025-01-17 16:54:21.285Z pfi              40 pfi.py:896 Some theta angles are out of range\n",
      "2025-01-17 16:54:21.287Z pfi              40 pfi.py:899 Some phi angles are out of range\n",
      "2025-01-17 16:54:21.356Z pfi              40 pfi.py:896 Some theta angles are out of range\n",
      "2025-01-17 16:54:21.357Z pfi              40 pfi.py:899 Some phi angles are out of range\n",
      "2025-01-17 16:54:21.404Z pfi              40 pfi.py:896 Some theta angles are out of range\n",
      "2025-01-17 16:54:21.406Z pfi              40 pfi.py:899 Some phi angles are out of range\n",
      "2025-01-17 16:54:21.452Z pfi              40 pfi.py:896 Some theta angles are out of range\n",
      "2025-01-17 16:54:21.454Z pfi              40 pfi.py:899 Some phi angles are out of range\n",
      "2025-01-17 16:54:21.501Z pfi              40 pfi.py:896 Some theta angles are out of range\n",
      "2025-01-17 16:54:21.503Z pfi              40 pfi.py:899 Some phi angles are out of range\n",
      "2025-01-17 16:54:21.549Z pfi              40 pfi.py:896 Some theta angles are out of range\n",
      "2025-01-17 16:54:21.550Z pfi              40 pfi.py:899 Some phi angles are out of range\n",
      "2025-01-17 16:54:21.597Z pfi              40 pfi.py:896 Some theta angles are out of range\n",
      "2025-01-17 16:54:21.599Z pfi              40 pfi.py:899 Some phi angles are out of range\n",
      "2025-01-17 16:54:21.649Z pfi              40 pfi.py:930 Some theta angles are out of range\n",
      "2025-01-17 16:54:21.709Z pfi              40 pfi.py:930 Some theta angles are out of range\n",
      "2025-01-17 16:54:21.757Z pfi              40 pfi.py:930 Some theta angles are out of range\n",
      "2025-01-17 16:54:21.790Z pfi              40 pfi.py:930 Some theta angles are out of range\n",
      "2025-01-17 16:54:21.828Z pfi              40 pfi.py:930 Some theta angles are out of range\n",
      "2025-01-17 16:54:21.866Z pfi              40 pfi.py:930 Some theta angles are out of range\n",
      "2025-01-17 16:54:21.903Z pfi              40 pfi.py:930 Some theta angles are out of range\n",
      "2025-01-17 16:54:21.940Z pfi              40 pfi.py:930 Some theta angles are out of range\n"
     ]
    },
    {
     "name": "stdout",
     "output_type": "stream",
     "text": [
      "ERROR: detected 13 end point collision, which should be impossible\n",
      "trajectory collisions found: 1\n",
      "Set parameter Presolve to value 1\n"
     ]
    },
    {
     "name": "stderr",
     "output_type": "stream",
     "text": [
      "2025-01-17 16:54:25.841Z gurobipy         20 netflow.py:117 Set parameter Presolve to value 1\n"
     ]
    },
    {
     "name": "stdout",
     "output_type": "stream",
     "text": [
      "Set parameter Method to value 4\n"
     ]
    },
    {
     "name": "stderr",
     "output_type": "stream",
     "text": [
      "2025-01-17 16:54:25.842Z gurobipy         20 netflow.py:117 Set parameter Method to value 4\n"
     ]
    },
    {
     "name": "stdout",
     "output_type": "stream",
     "text": [
      "Set parameter DegenMoves to value 0\n"
     ]
    },
    {
     "name": "stderr",
     "output_type": "stream",
     "text": [
      "2025-01-17 16:54:25.843Z gurobipy         20 netflow.py:117 Set parameter DegenMoves to value 0\n"
     ]
    },
    {
     "name": "stdout",
     "output_type": "stream",
     "text": [
      "Set parameter Heuristics to value 0.8\n"
     ]
    },
    {
     "name": "stderr",
     "output_type": "stream",
     "text": [
      "2025-01-17 16:54:25.845Z gurobipy         20 netflow.py:117 Set parameter Heuristics to value 0.8\n"
     ]
    },
    {
     "name": "stdout",
     "output_type": "stream",
     "text": [
      "Set parameter MIPGap to value 0.05\n"
     ]
    },
    {
     "name": "stderr",
     "output_type": "stream",
     "text": [
      "2025-01-17 16:54:25.847Z gurobipy         20 netflow.py:117 Set parameter MIPGap to value 0.05\n"
     ]
    },
    {
     "name": "stdout",
     "output_type": "stream",
     "text": [
      "Creating network topology\n",
      "  exposure 1\n",
      "Calculating visibilities\n",
      "adding constraints\n",
      "adding collision constraints\n",
      "adding forbidden pair constraints\n",
      "Gurobi Optimizer version 10.0.1 build v10.0.1rc0 (mac64[x86])\n"
     ]
    },
    {
     "name": "stderr",
     "output_type": "stream",
     "text": [
      "2025-01-17 16:54:38.510Z gurobipy         20 netflow.py:149 Gurobi Optimizer version 10.0.1 build v10.0.1rc0 (mac64[x86])\n"
     ]
    },
    {
     "name": "stdout",
     "output_type": "stream",
     "text": [
      "\n"
     ]
    },
    {
     "name": "stderr",
     "output_type": "stream",
     "text": [
      "2025-01-17 16:54:38.511Z gurobipy         20 netflow.py:149 \n"
     ]
    },
    {
     "name": "stdout",
     "output_type": "stream",
     "text": [
      "CPU model: Intel(R) Core(TM) i7-8569U CPU @ 2.80GHz\n"
     ]
    },
    {
     "name": "stderr",
     "output_type": "stream",
     "text": [
      "2025-01-17 16:54:38.512Z gurobipy         20 netflow.py:149 CPU model: Intel(R) Core(TM) i7-8569U CPU @ 2.80GHz\n"
     ]
    },
    {
     "name": "stdout",
     "output_type": "stream",
     "text": [
      "Thread count: 4 physical cores, 8 logical processors, using up to 8 threads\n"
     ]
    },
    {
     "name": "stderr",
     "output_type": "stream",
     "text": [
      "2025-01-17 16:54:38.515Z gurobipy         20 netflow.py:149 Thread count: 4 physical cores, 8 logical processors, using up to 8 threads\n"
     ]
    },
    {
     "name": "stdout",
     "output_type": "stream",
     "text": [
      "\n"
     ]
    },
    {
     "name": "stderr",
     "output_type": "stream",
     "text": [
      "2025-01-17 16:54:38.517Z gurobipy         20 netflow.py:149 \n"
     ]
    },
    {
     "name": "stdout",
     "output_type": "stream",
     "text": [
      "Academic license 2379863 - for non-commercial use only - registered to ji___@ipmu.jp\n"
     ]
    },
    {
     "name": "stderr",
     "output_type": "stream",
     "text": [
      "2025-01-17 16:54:38.540Z gurobipy         20 netflow.py:149 Academic license 2379863 - for non-commercial use only - registered to ji___@ipmu.jp\n"
     ]
    },
    {
     "name": "stdout",
     "output_type": "stream",
     "text": [
      "Optimize a model with 163967 rows, 80555 columns and 421016 nonzeros\n"
     ]
    },
    {
     "name": "stderr",
     "output_type": "stream",
     "text": [
      "2025-01-17 16:54:38.602Z gurobipy         20 netflow.py:149 Optimize a model with 163967 rows, 80555 columns and 421016 nonzeros\n"
     ]
    },
    {
     "name": "stdout",
     "output_type": "stream",
     "text": [
      "Model fingerprint: 0xcd88969c\n"
     ]
    },
    {
     "name": "stderr",
     "output_type": "stream",
     "text": [
      "2025-01-17 16:54:38.625Z gurobipy         20 netflow.py:149 Model fingerprint: 0xcd88969c\n"
     ]
    },
    {
     "name": "stdout",
     "output_type": "stream",
     "text": [
      "Variable types: 1 continuous, 80554 integer (80552 binary)\n"
     ]
    },
    {
     "name": "stderr",
     "output_type": "stream",
     "text": [
      "2025-01-17 16:54:38.629Z gurobipy         20 netflow.py:149 Variable types: 1 continuous, 80554 integer (80552 binary)\n"
     ]
    },
    {
     "name": "stdout",
     "output_type": "stream",
     "text": [
      "Coefficient statistics:\n"
     ]
    },
    {
     "name": "stderr",
     "output_type": "stream",
     "text": [
      "2025-01-17 16:54:38.637Z gurobipy         20 netflow.py:149 Coefficient statistics:\n"
     ]
    },
    {
     "name": "stdout",
     "output_type": "stream",
     "text": [
      "  Matrix range     [1e+00, 1e+00]\n"
     ]
    },
    {
     "name": "stderr",
     "output_type": "stream",
     "text": [
      "2025-01-17 16:54:38.640Z gurobipy         20 netflow.py:149   Matrix range     [1e+00, 1e+00]\n"
     ]
    },
    {
     "name": "stdout",
     "output_type": "stream",
     "text": [
      "  Objective range  [2e-05, 1e+06]\n"
     ]
    },
    {
     "name": "stderr",
     "output_type": "stream",
     "text": [
      "2025-01-17 16:54:38.642Z gurobipy         20 netflow.py:149   Objective range  [2e-05, 1e+06]\n"
     ]
    },
    {
     "name": "stdout",
     "output_type": "stream",
     "text": [
      "  Bounds range     [1e+00, 1e+00]\n"
     ]
    },
    {
     "name": "stderr",
     "output_type": "stream",
     "text": [
      "2025-01-17 16:54:38.644Z gurobipy         20 netflow.py:149   Bounds range     [1e+00, 1e+00]\n"
     ]
    },
    {
     "name": "stdout",
     "output_type": "stream",
     "text": [
      "  RHS range        [1e+00, 4e+02]\n"
     ]
    },
    {
     "name": "stderr",
     "output_type": "stream",
     "text": [
      "2025-01-17 16:54:38.647Z gurobipy         20 netflow.py:149   RHS range        [1e+00, 4e+02]\n"
     ]
    },
    {
     "name": "stdout",
     "output_type": "stream",
     "text": [
      "Found heuristic solution: objective 6.000000e+08\n"
     ]
    },
    {
     "name": "stderr",
     "output_type": "stream",
     "text": [
      "2025-01-17 16:54:38.695Z gurobipy         20 netflow.py:149 Found heuristic solution: objective 6.000000e+08\n"
     ]
    },
    {
     "name": "stdout",
     "output_type": "stream",
     "text": [
      "Presolve removed 163556 rows and 77960 columns\n"
     ]
    },
    {
     "name": "stderr",
     "output_type": "stream",
     "text": [
      "2025-01-17 16:54:39.598Z gurobipy         20 netflow.py:149 Presolve removed 163556 rows and 77960 columns\n"
     ]
    },
    {
     "name": "stdout",
     "output_type": "stream",
     "text": [
      "Presolve time: 0.87s\n"
     ]
    },
    {
     "name": "stderr",
     "output_type": "stream",
     "text": [
      "2025-01-17 16:54:39.599Z gurobipy         20 netflow.py:149 Presolve time: 0.87s\n"
     ]
    },
    {
     "name": "stdout",
     "output_type": "stream",
     "text": [
      "Presolved: 411 rows, 2595 columns, 3432 nonzeros\n"
     ]
    },
    {
     "name": "stderr",
     "output_type": "stream",
     "text": [
      "2025-01-17 16:54:39.606Z gurobipy         20 netflow.py:149 Presolved: 411 rows, 2595 columns, 3432 nonzeros\n"
     ]
    },
    {
     "name": "stdout",
     "output_type": "stream",
     "text": [
      "Found heuristic solution: objective 5.570000e+08\n"
     ]
    },
    {
     "name": "stderr",
     "output_type": "stream",
     "text": [
      "2025-01-17 16:54:39.614Z gurobipy         20 netflow.py:149 Found heuristic solution: objective 5.570000e+08\n"
     ]
    },
    {
     "name": "stdout",
     "output_type": "stream",
     "text": [
      "Variable types: 0 continuous, 2595 integer (2593 binary)\n"
     ]
    },
    {
     "name": "stderr",
     "output_type": "stream",
     "text": [
      "2025-01-17 16:54:39.617Z gurobipy         20 netflow.py:149 Variable types: 0 continuous, 2595 integer (2593 binary)\n"
     ]
    },
    {
     "name": "stdout",
     "output_type": "stream",
     "text": [
      "Found heuristic solution: objective 5.550000e+08\n"
     ]
    },
    {
     "name": "stderr",
     "output_type": "stream",
     "text": [
      "2025-01-17 16:54:39.621Z gurobipy         20 netflow.py:149 Found heuristic solution: objective 5.550000e+08\n"
     ]
    },
    {
     "name": "stdout",
     "output_type": "stream",
     "text": [
      "Deterministic concurrent LP optimizer: dual simplex and barrier\n"
     ]
    },
    {
     "name": "stderr",
     "output_type": "stream",
     "text": [
      "2025-01-17 16:54:39.626Z gurobipy         20 netflow.py:149 Deterministic concurrent LP optimizer: dual simplex and barrier\n"
     ]
    },
    {
     "name": "stdout",
     "output_type": "stream",
     "text": [
      "Showing barrier log only...\n"
     ]
    },
    {
     "name": "stderr",
     "output_type": "stream",
     "text": [
      "2025-01-17 16:54:39.629Z gurobipy         20 netflow.py:149 Showing barrier log only...\n"
     ]
    },
    {
     "name": "stdout",
     "output_type": "stream",
     "text": [
      "\n"
     ]
    },
    {
     "name": "stderr",
     "output_type": "stream",
     "text": [
      "2025-01-17 16:54:39.631Z gurobipy         20 netflow.py:149 \n"
     ]
    },
    {
     "name": "stdout",
     "output_type": "stream",
     "text": [
      "Root barrier log...\n"
     ]
    },
    {
     "name": "stderr",
     "output_type": "stream",
     "text": [
      "2025-01-17 16:54:39.635Z gurobipy         20 netflow.py:149 Root barrier log...\n"
     ]
    },
    {
     "name": "stdout",
     "output_type": "stream",
     "text": [
      "\n"
     ]
    },
    {
     "name": "stderr",
     "output_type": "stream",
     "text": [
      "2025-01-17 16:54:39.637Z gurobipy         20 netflow.py:149 \n"
     ]
    },
    {
     "name": "stdout",
     "output_type": "stream",
     "text": [
      "Ordering time: 0.00s\n"
     ]
    },
    {
     "name": "stderr",
     "output_type": "stream",
     "text": [
      "2025-01-17 16:54:39.639Z gurobipy         20 netflow.py:149 Ordering time: 0.00s\n"
     ]
    },
    {
     "name": "stdout",
     "output_type": "stream",
     "text": [
      "\n"
     ]
    },
    {
     "name": "stderr",
     "output_type": "stream",
     "text": [
      "2025-01-17 16:54:39.640Z gurobipy         20 netflow.py:149 \n"
     ]
    },
    {
     "name": "stdout",
     "output_type": "stream",
     "text": [
      "Barrier statistics:\n"
     ]
    },
    {
     "name": "stderr",
     "output_type": "stream",
     "text": [
      "2025-01-17 16:54:39.642Z gurobipy         20 netflow.py:149 Barrier statistics:\n"
     ]
    },
    {
     "name": "stdout",
     "output_type": "stream",
     "text": [
      " AA' NZ     : 8.920e+02\n"
     ]
    },
    {
     "name": "stderr",
     "output_type": "stream",
     "text": [
      "2025-01-17 16:54:39.644Z gurobipy         20 netflow.py:149  AA' NZ     : 8.920e+02\n"
     ]
    },
    {
     "name": "stdout",
     "output_type": "stream",
     "text": [
      " Factor NZ  : 1.896e+03 (roughly 1 MB of memory)\n"
     ]
    },
    {
     "name": "stderr",
     "output_type": "stream",
     "text": [
      "2025-01-17 16:54:39.647Z gurobipy         20 netflow.py:149  Factor NZ  : 1.896e+03 (roughly 1 MB of memory)\n"
     ]
    },
    {
     "name": "stdout",
     "output_type": "stream",
     "text": [
      " Factor Ops : 1.673e+04 (less than 1 second per iteration)\n"
     ]
    },
    {
     "name": "stderr",
     "output_type": "stream",
     "text": [
      "2025-01-17 16:54:39.648Z gurobipy         20 netflow.py:149  Factor Ops : 1.673e+04 (less than 1 second per iteration)\n"
     ]
    },
    {
     "name": "stdout",
     "output_type": "stream",
     "text": [
      " Threads    : 1\n"
     ]
    },
    {
     "name": "stderr",
     "output_type": "stream",
     "text": [
      "2025-01-17 16:54:39.650Z gurobipy         20 netflow.py:149  Threads    : 1\n"
     ]
    },
    {
     "name": "stdout",
     "output_type": "stream",
     "text": [
      "\n"
     ]
    },
    {
     "name": "stderr",
     "output_type": "stream",
     "text": [
      "2025-01-17 16:54:39.652Z gurobipy         20 netflow.py:149 \n"
     ]
    },
    {
     "name": "stdout",
     "output_type": "stream",
     "text": [
      "                  Objective                Residual\n"
     ]
    },
    {
     "name": "stderr",
     "output_type": "stream",
     "text": [
      "2025-01-17 16:54:39.654Z gurobipy         20 netflow.py:149                   Objective                Residual\n"
     ]
    },
    {
     "name": "stdout",
     "output_type": "stream",
     "text": [
      "Iter       Primal          Dual         Primal    Dual     Compl     Time\n"
     ]
    },
    {
     "name": "stderr",
     "output_type": "stream",
     "text": [
      "2025-01-17 16:54:39.656Z gurobipy         20 netflow.py:149 Iter       Primal          Dual         Primal    Dual     Compl     Time\n"
     ]
    },
    {
     "name": "stdout",
     "output_type": "stream",
     "text": [
      "   0   3.15517946e+08 -2.66404061e+09  6.96e+00 4.19e+04  1.86e+07     1s\n"
     ]
    },
    {
     "name": "stderr",
     "output_type": "stream",
     "text": [
      "2025-01-17 16:54:39.657Z gurobipy         20 netflow.py:149    0   3.15517946e+08 -2.66404061e+09  6.96e+00 4.19e+04  1.86e+07     1s\n"
     ]
    },
    {
     "name": "stdout",
     "output_type": "stream",
     "text": [
      "\n"
     ]
    },
    {
     "name": "stderr",
     "output_type": "stream",
     "text": [
      "2025-01-17 16:54:39.659Z gurobipy         20 netflow.py:149 \n"
     ]
    },
    {
     "name": "stdout",
     "output_type": "stream",
     "text": [
      "Barrier performed 0 iterations in 1.14 seconds (0.41 work units)\n"
     ]
    },
    {
     "name": "stderr",
     "output_type": "stream",
     "text": [
      "2025-01-17 16:54:39.661Z gurobipy         20 netflow.py:149 Barrier performed 0 iterations in 1.14 seconds (0.41 work units)\n"
     ]
    },
    {
     "name": "stdout",
     "output_type": "stream",
     "text": [
      "Barrier solve interrupted - model solved by another algorithm\n"
     ]
    },
    {
     "name": "stderr",
     "output_type": "stream",
     "text": [
      "2025-01-17 16:54:39.662Z gurobipy         20 netflow.py:149 Barrier solve interrupted - model solved by another algorithm\n"
     ]
    },
    {
     "name": "stdout",
     "output_type": "stream",
     "text": [
      "\n"
     ]
    },
    {
     "name": "stderr",
     "output_type": "stream",
     "text": [
      "2025-01-17 16:54:39.664Z gurobipy         20 netflow.py:149 \n"
     ]
    },
    {
     "name": "stdout",
     "output_type": "stream",
     "text": [
      "Concurrent spin time: 0.03s\n"
     ]
    },
    {
     "name": "stderr",
     "output_type": "stream",
     "text": [
      "2025-01-17 16:54:39.666Z gurobipy         20 netflow.py:149 Concurrent spin time: 0.03s\n"
     ]
    },
    {
     "name": "stdout",
     "output_type": "stream",
     "text": [
      "\n"
     ]
    },
    {
     "name": "stderr",
     "output_type": "stream",
     "text": [
      "2025-01-17 16:54:39.668Z gurobipy         20 netflow.py:149 \n"
     ]
    },
    {
     "name": "stdout",
     "output_type": "stream",
     "text": [
      "Solved with dual simplex\n"
     ]
    },
    {
     "name": "stderr",
     "output_type": "stream",
     "text": [
      "2025-01-17 16:54:39.669Z gurobipy         20 netflow.py:149 Solved with dual simplex\n"
     ]
    },
    {
     "name": "stdout",
     "output_type": "stream",
     "text": [
      "\n"
     ]
    },
    {
     "name": "stderr",
     "output_type": "stream",
     "text": [
      "2025-01-17 16:54:39.672Z gurobipy         20 netflow.py:149 \n"
     ]
    },
    {
     "name": "stdout",
     "output_type": "stream",
     "text": [
      "Root relaxation: objective 1.187835e+01, 37 iterations, 0.05 seconds (0.00 work units)\n"
     ]
    },
    {
     "name": "stderr",
     "output_type": "stream",
     "text": [
      "2025-01-17 16:54:39.675Z gurobipy         20 netflow.py:149 Root relaxation: objective 1.187835e+01, 37 iterations, 0.05 seconds (0.00 work units)\n"
     ]
    },
    {
     "name": "stdout",
     "output_type": "stream",
     "text": [
      "\n"
     ]
    },
    {
     "name": "stderr",
     "output_type": "stream",
     "text": [
      "2025-01-17 16:54:39.680Z gurobipy         20 netflow.py:149 \n"
     ]
    },
    {
     "name": "stdout",
     "output_type": "stream",
     "text": [
      "    Nodes    |    Current Node    |     Objective Bounds      |     Work\n"
     ]
    },
    {
     "name": "stderr",
     "output_type": "stream",
     "text": [
      "2025-01-17 16:54:39.681Z gurobipy         20 netflow.py:149     Nodes    |    Current Node    |     Objective Bounds      |     Work\n"
     ]
    },
    {
     "name": "stdout",
     "output_type": "stream",
     "text": [
      " Expl Unexpl |  Obj  Depth IntInf | Incumbent    BestBd   Gap | It/Node Time\n"
     ]
    },
    {
     "name": "stderr",
     "output_type": "stream",
     "text": [
      "2025-01-17 16:54:39.683Z gurobipy         20 netflow.py:149  Expl Unexpl |  Obj  Depth IntInf | Incumbent    BestBd   Gap | It/Node Time\n"
     ]
    },
    {
     "name": "stdout",
     "output_type": "stream",
     "text": [
      "\n"
     ]
    },
    {
     "name": "stderr",
     "output_type": "stream",
     "text": [
      "2025-01-17 16:54:39.684Z gurobipy         20 netflow.py:149 \n"
     ]
    },
    {
     "name": "stdout",
     "output_type": "stream",
     "text": [
      "*    0     0               0      11.8783453   11.87835  0.00%     -    1s\n"
     ]
    },
    {
     "name": "stderr",
     "output_type": "stream",
     "text": [
      "2025-01-17 16:54:39.686Z gurobipy         20 netflow.py:149 *    0     0               0      11.8783453   11.87835  0.00%     -    1s\n"
     ]
    },
    {
     "name": "stdout",
     "output_type": "stream",
     "text": [
      "\n"
     ]
    },
    {
     "name": "stderr",
     "output_type": "stream",
     "text": [
      "2025-01-17 16:54:39.704Z gurobipy         20 netflow.py:149 \n"
     ]
    },
    {
     "name": "stdout",
     "output_type": "stream",
     "text": [
      "Explored 1 nodes (37 simplex iterations) in 1.19 seconds (0.41 work units)\n"
     ]
    },
    {
     "name": "stderr",
     "output_type": "stream",
     "text": [
      "2025-01-17 16:54:39.706Z gurobipy         20 netflow.py:149 Explored 1 nodes (37 simplex iterations) in 1.19 seconds (0.41 work units)\n"
     ]
    },
    {
     "name": "stdout",
     "output_type": "stream",
     "text": [
      "Thread count was 8 (of 8 available processors)\n"
     ]
    },
    {
     "name": "stderr",
     "output_type": "stream",
     "text": [
      "2025-01-17 16:54:39.708Z gurobipy         20 netflow.py:149 Thread count was 8 (of 8 available processors)\n"
     ]
    },
    {
     "name": "stdout",
     "output_type": "stream",
     "text": [
      "\n"
     ]
    },
    {
     "name": "stderr",
     "output_type": "stream",
     "text": [
      "2025-01-17 16:54:39.709Z gurobipy         20 netflow.py:149 \n"
     ]
    },
    {
     "name": "stdout",
     "output_type": "stream",
     "text": [
      "Solution count 4: 11.8783 5.55e+08 5.57e+08 6e+08 \n"
     ]
    },
    {
     "name": "stderr",
     "output_type": "stream",
     "text": [
      "2025-01-17 16:54:39.711Z gurobipy         20 netflow.py:149 Solution count 4: 11.8783 5.55e+08 5.57e+08 6e+08 \n"
     ]
    },
    {
     "name": "stdout",
     "output_type": "stream",
     "text": [
      "\n"
     ]
    },
    {
     "name": "stderr",
     "output_type": "stream",
     "text": [
      "2025-01-17 16:54:39.712Z gurobipy         20 netflow.py:149 \n"
     ]
    },
    {
     "name": "stdout",
     "output_type": "stream",
     "text": [
      "Optimal solution found (tolerance 5.00e-02)\n"
     ]
    },
    {
     "name": "stderr",
     "output_type": "stream",
     "text": [
      "2025-01-17 16:54:39.714Z gurobipy         20 netflow.py:149 Optimal solution found (tolerance 5.00e-02)\n"
     ]
    },
    {
     "name": "stdout",
     "output_type": "stream",
     "text": [
      "Best objective 1.187834526689e+01, best bound 1.187834526689e+01, gap 0.0000%\n"
     ]
    },
    {
     "name": "stderr",
     "output_type": "stream",
     "text": [
      "2025-01-17 16:54:39.719Z gurobipy         20 netflow.py:149 Best objective 1.187834526689e+01, best bound 1.187834526689e+01, gap 0.0000%\n"
     ]
    },
    {
     "name": "stdout",
     "output_type": "stream",
     "text": [
      "Checking for trajectory collisions\n"
     ]
    },
    {
     "name": "stderr",
     "output_type": "stream",
     "text": [
      "2025-01-17 16:54:39.911Z pfi              40 pfi.py:896 Some theta angles are out of range\n",
      "2025-01-17 16:54:39.912Z pfi              40 pfi.py:899 Some phi angles are out of range\n",
      "2025-01-17 16:54:40.029Z pfi              40 pfi.py:899 Some phi angles are out of range\n",
      "2025-01-17 16:54:40.063Z pfi              40 pfi.py:899 Some phi angles are out of range\n",
      "2025-01-17 16:54:40.066Z engineer         20 engineer.py:395 Move theta arms to angle=[ 75.91 360.   360.   ... 210.2  360.   224.27] degree\n",
      "2025-01-17 16:54:40.067Z engineer         20 engineer.py:396 Move phi arms to angle=[ 6.62 24.48 13.06 ...  8.33 11.99 14.19] degree\n",
      "2025-01-17 16:54:40.068Z engineer         20 engineer.py:398 Checking passed homed argument = True\n",
      "2025-01-17 16:54:40.069Z engineer         20 engineer.py:402 Move theta arms CW and phi arms CCW to the hard stops\n",
      "2025-01-17 16:54:40.094Z cobraCoach       20 cobraCoach.py:1065 home cobras: theta=10000, phi=-5000\n",
      "2025-01-17 16:54:40.117Z pfi              40 pfi.py:899 Some phi angles are out of range\n",
      "2025-01-17 16:54:40.139Z pfi              40 pfi.py:899 Some phi angles are out of range\n",
      "2025-01-17 16:54:40.141Z engineer         20 engineer.py:412 Sending angles to moveToAngles for 0-th iteration\n",
      "2025-01-17 16:54:40.164Z cobraCoach       20 cobraCoach.py:1009 Moving deltaTheta = [-5.25294989 -0.38204686 -0.35608403 ... -3.02040524 -0.4013664\n",
      " -2.78477536]\n",
      "2025-01-17 16:54:40.165Z cobraCoach       20 cobraCoach.py:1010 Moving deltaPhi = [0.11558998 0.42723261 0.22794454 ... 0.14539386 0.20932294 0.24760745]\n",
      "2025-01-17 16:54:40.426Z cobraCoach       20 cobraCoach.py:877 Finished converting angle to steps, sending command to moveSteps (constantOntime).\n",
      "2025-01-17 16:54:41.006Z cobraCoach       20 cobraCoach.py:587 Sending step numbers to FPGA for moving cobra.\n",
      "2025-01-17 16:54:41.116Z cobraCoach       20 cobraCoach.py:601 cobra control FPGA operation done.\n",
      "2025-01-17 16:54:41.140Z pfi              40 pfi.py:896 Some theta angles are out of range\n",
      "2025-01-17 16:54:41.142Z pfi              40 pfi.py:899 Some phi angles are out of range\n",
      "2025-01-17 16:54:41.244Z cobraCoach       30 cobraCoach.py:675 Cobra#344 is too far from center\n",
      "2025-01-17 16:54:41.248Z cobraCoach       30 cobraCoach.py:675 Cobra#443 is too far from center\n",
      "2025-01-17 16:54:41.250Z cobraCoach       30 cobraCoach.py:675 Cobra#493 is too far from center\n",
      "2025-01-17 16:54:41.274Z cobraCoach       30 cobraCoach.py:675 Cobra#1303 is too far from center\n",
      "2025-01-17 16:54:41.285Z cobraCoach       30 cobraCoach.py:675 Cobra#1637 is too far from center\n",
      "2025-01-17 16:54:41.290Z cobraCoach       30 cobraCoach.py:675 Cobra#1790 is too far from center\n",
      "2025-01-17 16:54:41.291Z cobraCoach       30 cobraCoach.py:675 Cobra#1792 is too far from center\n",
      "2025-01-17 16:54:41.310Z engineer         20 engineer.py:422 Updating the cobra information\n",
      "2025-01-17 16:54:41.314Z engineer         20 engineer.py:436 done: [   0    1    2 ... 2391 2392 2393], 19 left\n",
      "2025-01-17 16:54:41.314Z engineer         20 engineer.py:412 Sending angles to moveToAngles for 1-th iteration\n",
      "2025-01-17 16:54:41.316Z cobraCoach       30 cobraCoach.py:1003 Last phi angle is unknown, not moving: [1459]\n",
      "2025-01-17 16:54:41.317Z cobraCoach       20 cobraCoach.py:1009 Moving deltaTheta = [-1.01748456e-05 -1.01748456e-05 -1.01748456e-05  1.42413045e-04\n",
      " -1.01748456e-05 -1.01748456e-05 -1.01748456e-05 -1.01748455e-05\n",
      " -1.01748456e-05  1.73407460e-04 -1.97115887e-05 -2.99138163e-04\n",
      " -1.01748455e-05 -1.14933882e-03 -1.01748456e-05 -1.01748456e-05\n",
      " -3.50271147e-01 -6.61534404e-04  1.10228624e-03]\n",
      "2025-01-17 16:54:41.318Z cobraCoach       20 cobraCoach.py:1010 Moving deltaPhi = [-6.10865247e+00 -6.10865247e+00 -6.10865247e+00 -4.16400827e-02\n",
      " -2.96705959e+00 -6.10865247e+00  0.00000000e+00 -2.96705964e+00\n",
      " -2.96705969e+00 -1.24290680e-01 -2.12845317e-02 -1.40374378e-02\n",
      " -6.10865247e+00 -2.10511567e-03 -6.10865247e+00 -6.10865247e+00\n",
      " -6.45651525e-05 -1.35800043e-02 -4.98778998e-02]\n",
      "2025-01-17 16:54:41.320Z cobraCoach       30 cobraCoach.py:846 Last phi angle is unknown: [1459]\n",
      "2025-01-17 16:54:41.322Z cobraCoach       20 cobraCoach.py:877 Finished converting angle to steps, sending command to moveSteps (constantOntime).\n",
      "2025-01-17 16:54:41.330Z cobraCoach       20 cobraCoach.py:587 Sending step numbers to FPGA for moving cobra.\n",
      "2025-01-17 16:54:41.333Z cobraCoach       20 cobraCoach.py:601 cobra control FPGA operation done.\n",
      "2025-01-17 16:54:41.356Z pfi              40 pfi.py:896 Some theta angles are out of range\n",
      "2025-01-17 16:54:41.357Z pfi              40 pfi.py:899 Some phi angles are out of range\n",
      "2025-01-17 16:54:41.455Z cobraCoach       30 cobraCoach.py:675 Cobra#344 is too far from center\n",
      "2025-01-17 16:54:41.456Z cobraCoach       30 cobraCoach.py:679 Cobra#1460 is too close to center\n",
      "2025-01-17 16:54:41.458Z cobraCoach       30 cobraCoach.py:675 Cobra#1637 is too far from center\n",
      "2025-01-17 16:54:41.459Z cobraCoach       30 cobraCoach.py:675 Cobra#1790 is too far from center\n",
      "2025-01-17 16:54:41.460Z engineer         20 engineer.py:422 Updating the cobra information\n",
      "2025-01-17 16:54:41.463Z engineer         20 engineer.py:436 done: [1782 1929], 17 left\n",
      "2025-01-17 16:54:41.465Z engineer         30 engineer.py:445 17 cobras did not finish: [ 343  442  492  578  737 1302 1459 1493 1538 1560 1581 1583 1636 1789\n",
      " 1791 1937 1969], [4.67 4.67 4.67 0.11 4.67 4.67 0.82 4.67 4.67 0.25 0.06 0.04 4.67 4.67\n",
      " 4.67 0.04 0.11]\n",
      "2025-01-17 16:54:41.466Z engineer         20 engineer.py:450 Returning 2394 atThetas and 2394 atPhis\n",
      "2025-01-17 16:54:41.490Z pfi              40 pfi.py:899 Some phi angles are out of range\n",
      "2025-01-17 16:54:41.492Z engineer         20 engineer.py:395 Move theta arms to angle=[ 75.91 360.   360.   ... 210.2  360.   224.27] degree\n",
      "2025-01-17 16:54:41.493Z engineer         20 engineer.py:396 Move phi arms to angle=[ 6.62 24.48 13.06 ...  8.33 11.99 14.19] degree\n",
      "2025-01-17 16:54:41.494Z engineer         20 engineer.py:398 Checking passed homed argument = False\n",
      "2025-01-17 16:54:41.494Z engineer         20 engineer.py:412 Sending angles to moveToAngles for 0-th iteration\n",
      "2025-01-17 16:54:41.520Z cobraCoach       20 cobraCoach.py:1009 Moving deltaTheta = [ 0.0007928  -0.0001518   0.00038703 ...  0.00017839  0.00038417\n",
      " -0.00096284]\n",
      "2025-01-17 16:54:41.521Z cobraCoach       20 cobraCoach.py:1010 Moving deltaPhi = [-0.00012803 -0.00083433  0.00018682 ...  0.00054019 -0.00083972\n",
      " -0.00047282]\n",
      "2025-01-17 16:54:41.726Z cobraCoach       20 cobraCoach.py:877 Finished converting angle to steps, sending command to moveSteps (constantOntime).\n",
      "2025-01-17 16:54:41.938Z cobraCoach       20 cobraCoach.py:587 Sending step numbers to FPGA for moving cobra.\n",
      "2025-01-17 16:54:42.051Z cobraCoach       20 cobraCoach.py:601 cobra control FPGA operation done.\n",
      "2025-01-17 16:54:42.073Z pfi              40 pfi.py:896 Some theta angles are out of range\n",
      "2025-01-17 16:54:42.074Z pfi              40 pfi.py:899 Some phi angles are out of range\n",
      "2025-01-17 16:54:42.199Z cobraCoach       30 cobraCoach.py:675 Cobra#1303 is too far from center\n",
      "2025-01-17 16:54:42.214Z cobraCoach       30 cobraCoach.py:675 Cobra#1790 is too far from center\n",
      "2025-01-17 16:54:42.232Z engineer         20 engineer.py:422 Updating the cobra information\n",
      "2025-01-17 16:54:42.235Z engineer         20 engineer.py:436 done: [   0    1    2 ... 2391 2392 2393], 17 left\n",
      "2025-01-17 16:54:42.236Z engineer         20 engineer.py:412 Sending angles to moveToAngles for 1-th iteration\n",
      "2025-01-17 16:54:42.239Z cobraCoach       30 cobraCoach.py:1003 Last phi angle is unknown, not moving: [1459]\n",
      "2025-01-17 16:54:42.240Z cobraCoach       20 cobraCoach.py:1009 Moving deltaTheta = [-1.94233989e-04 -5.14191722e-04 -6.14804362e-04  1.42413045e-04\n",
      " -1.01748456e-05  2.69975771e-06 -1.01748456e-05 -1.01748455e-05\n",
      " -1.01748456e-05  1.73407460e-04 -1.97115887e-05 -2.99138163e-04\n",
      " -1.03632841e-03 -1.01748456e-05 -3.80200480e-04 -6.61534404e-04\n",
      " -1.05065440e-04]\n",
      "2025-01-17 16:54:42.241Z cobraCoach       20 cobraCoach.py:1010 Moving deltaPhi = [-2.96687409 -2.96705963 -2.9670596  -0.04164008 -2.96705959 -6.10865247\n",
      "  0.         -2.96705964 -2.96705969 -0.12429068 -0.02128453 -0.01403744\n",
      " -2.96602327 -6.10865247 -2.9670596  -0.01358    -0.0498779 ]\n",
      "2025-01-17 16:54:42.242Z cobraCoach       30 cobraCoach.py:846 Last phi angle is unknown: [1459]\n",
      "2025-01-17 16:54:42.244Z cobraCoach       20 cobraCoach.py:877 Finished converting angle to steps, sending command to moveSteps (constantOntime).\n",
      "2025-01-17 16:54:42.251Z cobraCoach       20 cobraCoach.py:587 Sending step numbers to FPGA for moving cobra.\n",
      "2025-01-17 16:54:42.253Z cobraCoach       20 cobraCoach.py:601 cobra control FPGA operation done.\n",
      "2025-01-17 16:54:42.276Z pfi              40 pfi.py:896 Some theta angles are out of range\n",
      "2025-01-17 16:54:42.278Z pfi              40 pfi.py:899 Some phi angles are out of range\n",
      "2025-01-17 16:54:42.375Z cobraCoach       30 cobraCoach.py:675 Cobra#344 is too far from center\n",
      "2025-01-17 16:54:42.376Z pfi              30 pfi.py:475 clipping scale adjustment from 0.2573481031895782 to 0.3\n",
      "2025-01-17 16:54:42.377Z cobraCoach       30 cobraCoach.py:679 Cobra#1460 is too close to center\n",
      "2025-01-17 16:54:42.378Z pfi              30 pfi.py:475 clipping scale adjustment from 0.26154231110049525 to 0.3\n",
      "2025-01-17 16:54:42.380Z engineer         20 engineer.py:422 Updating the cobra information\n",
      "2025-01-17 16:54:42.382Z engineer         20 engineer.py:412 Sending angles to moveToAngles for 2-th iteration\n",
      "2025-01-17 16:54:42.384Z cobraCoach       20 cobraCoach.py:1009 Moving deltaTheta = [-1.94233989e-04 -5.14191722e-04 -6.14804362e-04  1.42413045e-04\n",
      " -1.01748456e-05 -1.09852569e+00 -1.01748456e-05 -1.01748455e-05\n",
      " -1.01748456e-05  1.73407460e-04 -1.97115887e-05 -2.99138163e-04\n",
      " -1.03632841e-03 -1.07143418e+00 -3.80200480e-04 -6.61534404e-04\n",
      " -1.05065440e-04]\n",
      "2025-01-17 16:54:42.385Z cobraCoach       20 cobraCoach.py:1010 Moving deltaPhi = [-6.10865247 -2.96705963 -2.9670596  -0.04164008 -2.96705959 -1.71883189\n",
      " -2.96705973 -2.96705964 -2.96705969 -0.12429068 -0.02128453 -0.01403744\n",
      " -2.96705964 -1.88389766 -2.9670596  -0.01358    -0.0498779 ]\n",
      "2025-01-17 16:54:42.389Z cobraCoach       20 cobraCoach.py:877 Finished converting angle to steps, sending command to moveSteps (constantOntime).\n",
      "2025-01-17 16:54:42.395Z cobraCoach       20 cobraCoach.py:587 Sending step numbers to FPGA for moving cobra.\n",
      "2025-01-17 16:54:42.398Z cobraCoach       20 cobraCoach.py:601 cobra control FPGA operation done.\n",
      "2025-01-17 16:54:42.421Z pfi              40 pfi.py:896 Some theta angles are out of range\n",
      "2025-01-17 16:54:42.422Z pfi              40 pfi.py:899 Some phi angles are out of range\n",
      "2025-01-17 16:54:42.516Z pfi              30 pfi.py:475 clipping scale adjustment from 0.2859424141191533 to 0.3\n",
      "2025-01-17 16:54:42.517Z cobraCoach       30 cobraCoach.py:675 Cobra#1303 is too far from center\n",
      "2025-01-17 16:54:42.518Z pfi              30 pfi.py:475 clipping scale adjustment from 0.29999999904403885 to 0.3\n",
      "2025-01-17 16:54:42.519Z cobraCoach       30 cobraCoach.py:675 Cobra#1790 is too far from center\n",
      "2025-01-17 16:54:42.521Z engineer         20 engineer.py:422 Updating the cobra information\n",
      "2025-01-17 16:54:42.523Z engineer         20 engineer.py:412 Sending angles to moveToAngles for 3-th iteration\n",
      "2025-01-17 16:54:42.525Z cobraCoach       30 cobraCoach.py:1003 Last phi angle is unknown, not moving: [1459]\n",
      "2025-01-17 16:54:42.526Z cobraCoach       20 cobraCoach.py:1009 Moving deltaTheta = [-3.21863813e-01 -5.14191722e-04 -6.14804362e-04  1.42413045e-04\n",
      " -1.01748456e-05 -6.82685060e-01 -1.01748456e-05 -1.01748455e-05\n",
      " -1.01748456e-05  1.73407460e-04 -1.97115887e-05 -2.99138163e-04\n",
      " -1.03632841e-03 -3.25590772e-01 -3.80200480e-04 -6.61534404e-04\n",
      " -1.05065440e-04]\n",
      "2025-01-17 16:54:42.527Z cobraCoach       20 cobraCoach.py:1010 Moving deltaPhi = [-2.64219266 -2.96705963 -2.9670596  -0.04164008 -2.96705959 -6.10865247\n",
      "  0.         -2.96705964 -2.96705969 -0.12429068 -0.02128453 -0.01403744\n",
      " -2.96705964 -6.10865247 -2.9670596  -0.01358    -0.0498779 ]\n",
      "2025-01-17 16:54:42.528Z cobraCoach       30 cobraCoach.py:846 Last phi angle is unknown: [1459]\n",
      "2025-01-17 16:54:42.531Z cobraCoach       20 cobraCoach.py:877 Finished converting angle to steps, sending command to moveSteps (constantOntime).\n",
      "2025-01-17 16:54:42.540Z cobraCoach       20 cobraCoach.py:587 Sending step numbers to FPGA for moving cobra.\n",
      "2025-01-17 16:54:42.543Z cobraCoach       20 cobraCoach.py:601 cobra control FPGA operation done.\n",
      "2025-01-17 16:54:42.565Z pfi              40 pfi.py:896 Some theta angles are out of range\n",
      "2025-01-17 16:54:42.566Z pfi              40 pfi.py:899 Some phi angles are out of range\n",
      "2025-01-17 16:54:42.674Z pfi              30 pfi.py:475 clipping scale adjustment from 0.22521650184055392 to 0.3\n",
      "2025-01-17 16:54:42.675Z pfi              30 pfi.py:475 clipping scale adjustment from 0.2573481031895782 to 0.3\n",
      "2025-01-17 16:54:42.676Z cobraCoach       30 cobraCoach.py:679 Cobra#1460 is too close to center\n",
      "2025-01-17 16:54:42.678Z pfi              30 pfi.py:475 clipping scale adjustment from 0.22664453700152026 to 0.3\n",
      "2025-01-17 16:54:42.679Z pfi              30 pfi.py:475 clipping scale adjustment from 0.26154231110049525 to 0.3\n",
      "2025-01-17 16:54:42.682Z engineer         20 engineer.py:422 Updating the cobra information\n",
      "2025-01-17 16:54:42.687Z engineer         20 engineer.py:412 Sending angles to moveToAngles for 4-th iteration\n",
      "2025-01-17 16:54:42.691Z cobraCoach       20 cobraCoach.py:1009 Moving deltaTheta = [-2.17122172e-04 -5.14191722e-04 -6.14804362e-04  1.42413045e-04\n",
      " -1.01748456e-05  4.51698156e+00 -1.01748456e-05 -1.01748455e-05\n",
      " -1.01748456e-05  1.73407460e-04 -1.97115887e-05 -2.99138163e-04\n",
      " -1.03632841e-03  5.00301130e+00 -3.80200480e-04 -6.61534404e-04\n",
      " -1.05065440e-04]\n",
      "2025-01-17 16:54:42.692Z cobraCoach       20 cobraCoach.py:1010 Moving deltaPhi = [-2.96705965 -2.96705963 -2.9670596  -0.04164008 -2.96705959 -1.71883189\n",
      " -2.96705973 -2.96705964 -2.96705969 -0.12429068 -0.02128453 -0.01403744\n",
      " -2.96705964 -1.88389766 -2.9670596  -0.01358    -0.0498779 ]\n",
      "2025-01-17 16:54:42.699Z cobraCoach       20 cobraCoach.py:877 Finished converting angle to steps, sending command to moveSteps (constantOntime).\n",
      "2025-01-17 16:54:42.712Z cobraCoach       20 cobraCoach.py:587 Sending step numbers to FPGA for moving cobra.\n",
      "2025-01-17 16:54:42.715Z cobraCoach       20 cobraCoach.py:601 cobra control FPGA operation done.\n",
      "2025-01-17 16:54:42.753Z pfi              40 pfi.py:896 Some theta angles are out of range\n",
      "2025-01-17 16:54:42.754Z pfi              40 pfi.py:899 Some phi angles are out of range\n",
      "2025-01-17 16:54:42.849Z cobraCoach       30 cobraCoach.py:675 Cobra#1790 is too far from center\n",
      "2025-01-17 16:54:42.850Z pfi              30 pfi.py:475 clipping scale adjustment from 0.29999999510714737 to 0.3\n",
      "2025-01-17 16:54:42.851Z engineer         20 engineer.py:422 Updating the cobra information\n",
      "2025-01-17 16:54:42.853Z engineer         20 engineer.py:412 Sending angles to moveToAngles for 5-th iteration\n",
      "2025-01-17 16:54:42.855Z cobraCoach       30 cobraCoach.py:1003 Last phi angle is unknown, not moving: [1459]\n",
      "2025-01-17 16:54:42.856Z cobraCoach       20 cobraCoach.py:1009 Moving deltaTheta = [-2.17122172e-04 -5.14191722e-04 -6.14804362e-04  1.42413045e-04\n",
      " -1.01748456e-05 -4.10811338e-03 -1.01748456e-05 -1.01748455e-05\n",
      " -1.01748456e-05  1.73407460e-04 -1.97115887e-05 -2.99138163e-04\n",
      " -1.03632841e-03  7.85623389e-01 -3.80200480e-04 -6.61534404e-04\n",
      " -1.05065440e-04]\n",
      "2025-01-17 16:54:42.857Z cobraCoach       20 cobraCoach.py:1010 Moving deltaPhi = [-2.96705965 -2.96705963 -2.9670596  -0.04164008 -2.96705959 -2.96705962\n",
      "  0.         -2.96705964 -2.96705969 -0.12429068 -0.02128453 -0.01403744\n",
      " -2.96705964 -6.10865247 -2.9670596  -0.01358    -0.0498779 ]\n",
      "2025-01-17 16:54:42.859Z cobraCoach       30 cobraCoach.py:846 Last phi angle is unknown: [1459]\n",
      "2025-01-17 16:54:42.861Z cobraCoach       20 cobraCoach.py:877 Finished converting angle to steps, sending command to moveSteps (constantOntime).\n",
      "2025-01-17 16:54:42.869Z cobraCoach       20 cobraCoach.py:587 Sending step numbers to FPGA for moving cobra.\n",
      "2025-01-17 16:54:42.872Z cobraCoach       20 cobraCoach.py:601 cobra control FPGA operation done.\n",
      "2025-01-17 16:54:42.898Z pfi              40 pfi.py:896 Some theta angles are out of range\n",
      "2025-01-17 16:54:42.900Z pfi              40 pfi.py:899 Some phi angles are out of range\n",
      "2025-01-17 16:54:42.995Z pfi              30 pfi.py:475 clipping scale adjustment from 0.2250489700875823 to 0.3\n",
      "2025-01-17 16:54:42.996Z cobraCoach       30 cobraCoach.py:679 Cobra#1460 is too close to center\n",
      "2025-01-17 16:54:42.997Z pfi              30 pfi.py:475 clipping scale adjustment from 0.2561286605203101 to 0.3\n",
      "2025-01-17 16:54:42.998Z pfi              30 pfi.py:475 clipping scale adjustment from 0.26154231110049525 to 0.3\n",
      "2025-01-17 16:54:42.999Z engineer         20 engineer.py:422 Updating the cobra information\n",
      "2025-01-17 16:54:43.002Z engineer         30 engineer.py:445 17 cobras did not finish: [ 343  442  492  578  737 1302 1459 1493 1538 1560 1581 1583 1636 1789\n",
      " 1791 1937 1969], [4.67 4.67 4.67 0.11 4.67 4.67 0.82 4.67 4.67 0.25 0.06 0.04 4.67 4.2\n",
      " 4.67 0.04 0.11]\n",
      "2025-01-17 16:54:43.003Z engineer         20 engineer.py:450 Returning 2394 atThetas and 2394 atPhis\n",
      "2025-01-17 16:54:43.028Z pfi              40 pfi.py:896 Some theta angles are out of range\n",
      "2025-01-17 16:54:43.031Z pfi              40 pfi.py:899 Some phi angles are out of range\n",
      "2025-01-17 16:54:43.124Z pfi              40 pfi.py:896 Some theta angles are out of range\n",
      "2025-01-17 16:54:43.126Z pfi              40 pfi.py:899 Some phi angles are out of range\n",
      "2025-01-17 16:54:43.189Z pfi              40 pfi.py:896 Some theta angles are out of range\n",
      "2025-01-17 16:54:43.191Z pfi              40 pfi.py:899 Some phi angles are out of range\n",
      "2025-01-17 16:54:43.235Z pfi              40 pfi.py:896 Some theta angles are out of range\n",
      "2025-01-17 16:54:43.236Z pfi              40 pfi.py:899 Some phi angles are out of range\n",
      "2025-01-17 16:54:43.281Z pfi              40 pfi.py:896 Some theta angles are out of range\n",
      "2025-01-17 16:54:43.283Z pfi              40 pfi.py:899 Some phi angles are out of range\n",
      "2025-01-17 16:54:43.329Z pfi              40 pfi.py:896 Some theta angles are out of range\n",
      "2025-01-17 16:54:43.330Z pfi              40 pfi.py:899 Some phi angles are out of range\n",
      "2025-01-17 16:54:43.375Z pfi              40 pfi.py:896 Some theta angles are out of range\n",
      "2025-01-17 16:54:43.377Z pfi              40 pfi.py:899 Some phi angles are out of range\n",
      "2025-01-17 16:54:43.422Z pfi              40 pfi.py:896 Some theta angles are out of range\n",
      "2025-01-17 16:54:43.424Z pfi              40 pfi.py:899 Some phi angles are out of range\n",
      "2025-01-17 16:54:43.470Z pfi              40 pfi.py:930 Some theta angles are out of range\n",
      "2025-01-17 16:54:43.527Z pfi              40 pfi.py:930 Some theta angles are out of range\n",
      "2025-01-17 16:54:43.574Z pfi              40 pfi.py:930 Some theta angles are out of range\n",
      "2025-01-17 16:54:43.607Z pfi              40 pfi.py:930 Some theta angles are out of range\n",
      "2025-01-17 16:54:43.644Z pfi              40 pfi.py:930 Some theta angles are out of range\n",
      "2025-01-17 16:54:43.681Z pfi              40 pfi.py:930 Some theta angles are out of range\n",
      "2025-01-17 16:54:43.718Z pfi              40 pfi.py:930 Some theta angles are out of range\n",
      "2025-01-17 16:54:43.754Z pfi              40 pfi.py:930 Some theta angles are out of range\n"
     ]
    },
    {
     "name": "stdout",
     "output_type": "stream",
     "text": [
      "ERROR: detected 13 end point collision, which should be impossible\n",
      "trajectory collisions found: 0\n",
      "Done: solving the problem for stage=0 targets.\n",
      "solving the problem for stage=1 targets.\n",
      "Set parameter Presolve to value 1\n"
     ]
    },
    {
     "name": "stderr",
     "output_type": "stream",
     "text": [
      "2025-01-17 16:54:47.666Z gurobipy         20 netflow.py:117 Set parameter Presolve to value 1\n"
     ]
    },
    {
     "name": "stdout",
     "output_type": "stream",
     "text": [
      "Set parameter Method to value 4\n"
     ]
    },
    {
     "name": "stderr",
     "output_type": "stream",
     "text": [
      "2025-01-17 16:54:47.668Z gurobipy         20 netflow.py:117 Set parameter Method to value 4\n"
     ]
    },
    {
     "name": "stdout",
     "output_type": "stream",
     "text": [
      "Set parameter DegenMoves to value 0\n"
     ]
    },
    {
     "name": "stderr",
     "output_type": "stream",
     "text": [
      "2025-01-17 16:54:47.669Z gurobipy         20 netflow.py:117 Set parameter DegenMoves to value 0\n"
     ]
    },
    {
     "name": "stdout",
     "output_type": "stream",
     "text": [
      "Set parameter Heuristics to value 0.8\n"
     ]
    },
    {
     "name": "stderr",
     "output_type": "stream",
     "text": [
      "2025-01-17 16:54:47.670Z gurobipy         20 netflow.py:117 Set parameter Heuristics to value 0.8\n"
     ]
    },
    {
     "name": "stdout",
     "output_type": "stream",
     "text": [
      "Set parameter MIPGap to value 0.05\n"
     ]
    },
    {
     "name": "stderr",
     "output_type": "stream",
     "text": [
      "2025-01-17 16:54:47.671Z gurobipy         20 netflow.py:117 Set parameter MIPGap to value 0.05\n"
     ]
    },
    {
     "name": "stdout",
     "output_type": "stream",
     "text": [
      "Creating network topology\n",
      "  exposure 1\n",
      "Calculating visibilities\n",
      "adding constraints\n",
      "adding collision constraints\n",
      "adding forbidden pair constraints\n",
      "Gurobi Optimizer version 10.0.1 build v10.0.1rc0 (mac64[x86])\n"
     ]
    },
    {
     "name": "stderr",
     "output_type": "stream",
     "text": [
      "2025-01-17 16:54:54.898Z gurobipy         20 netflow.py:149 Gurobi Optimizer version 10.0.1 build v10.0.1rc0 (mac64[x86])\n"
     ]
    },
    {
     "name": "stdout",
     "output_type": "stream",
     "text": [
      "\n"
     ]
    },
    {
     "name": "stderr",
     "output_type": "stream",
     "text": [
      "2025-01-17 16:54:54.900Z gurobipy         20 netflow.py:149 \n"
     ]
    },
    {
     "name": "stdout",
     "output_type": "stream",
     "text": [
      "CPU model: Intel(R) Core(TM) i7-8569U CPU @ 2.80GHz\n"
     ]
    },
    {
     "name": "stderr",
     "output_type": "stream",
     "text": [
      "2025-01-17 16:54:54.901Z gurobipy         20 netflow.py:149 CPU model: Intel(R) Core(TM) i7-8569U CPU @ 2.80GHz\n"
     ]
    },
    {
     "name": "stdout",
     "output_type": "stream",
     "text": [
      "Thread count: 4 physical cores, 8 logical processors, using up to 8 threads\n"
     ]
    },
    {
     "name": "stderr",
     "output_type": "stream",
     "text": [
      "2025-01-17 16:54:54.902Z gurobipy         20 netflow.py:149 Thread count: 4 physical cores, 8 logical processors, using up to 8 threads\n"
     ]
    },
    {
     "name": "stdout",
     "output_type": "stream",
     "text": [
      "\n"
     ]
    },
    {
     "name": "stderr",
     "output_type": "stream",
     "text": [
      "2025-01-17 16:54:54.904Z gurobipy         20 netflow.py:149 \n"
     ]
    },
    {
     "name": "stdout",
     "output_type": "stream",
     "text": [
      "Academic license 2379863 - for non-commercial use only - registered to ji___@ipmu.jp\n"
     ]
    },
    {
     "name": "stderr",
     "output_type": "stream",
     "text": [
      "2025-01-17 16:54:54.906Z gurobipy         20 netflow.py:149 Academic license 2379863 - for non-commercial use only - registered to ji___@ipmu.jp\n"
     ]
    },
    {
     "name": "stdout",
     "output_type": "stream",
     "text": [
      "Optimize a model with 99337 rows, 89861 columns and 271531 nonzeros\n"
     ]
    },
    {
     "name": "stderr",
     "output_type": "stream",
     "text": [
      "2025-01-17 16:54:54.908Z gurobipy         20 netflow.py:149 Optimize a model with 99337 rows, 89861 columns and 271531 nonzeros\n"
     ]
    },
    {
     "name": "stdout",
     "output_type": "stream",
     "text": [
      "Model fingerprint: 0x9b138ca3\n"
     ]
    },
    {
     "name": "stderr",
     "output_type": "stream",
     "text": [
      "2025-01-17 16:54:54.911Z gurobipy         20 netflow.py:149 Model fingerprint: 0x9b138ca3\n"
     ]
    },
    {
     "name": "stdout",
     "output_type": "stream",
     "text": [
      "Variable types: 1 continuous, 89860 integer (69113 binary)\n"
     ]
    },
    {
     "name": "stderr",
     "output_type": "stream",
     "text": [
      "2025-01-17 16:54:54.913Z gurobipy         20 netflow.py:149 Variable types: 1 continuous, 89860 integer (69113 binary)\n"
     ]
    },
    {
     "name": "stdout",
     "output_type": "stream",
     "text": [
      "Coefficient statistics:\n"
     ]
    },
    {
     "name": "stderr",
     "output_type": "stream",
     "text": [
      "2025-01-17 16:54:54.916Z gurobipy         20 netflow.py:149 Coefficient statistics:\n"
     ]
    },
    {
     "name": "stdout",
     "output_type": "stream",
     "text": [
      "  Matrix range     [1e+00, 1e+00]\n"
     ]
    },
    {
     "name": "stderr",
     "output_type": "stream",
     "text": [
      "2025-01-17 16:54:54.917Z gurobipy         20 netflow.py:149   Matrix range     [1e+00, 1e+00]\n"
     ]
    },
    {
     "name": "stdout",
     "output_type": "stream",
     "text": [
      "  Objective range  [2e-05, 1e+06]\n"
     ]
    },
    {
     "name": "stderr",
     "output_type": "stream",
     "text": [
      "2025-01-17 16:54:54.919Z gurobipy         20 netflow.py:149   Objective range  [2e-05, 1e+06]\n"
     ]
    },
    {
     "name": "stdout",
     "output_type": "stream",
     "text": [
      "  Bounds range     [1e+00, 1e+00]\n"
     ]
    },
    {
     "name": "stderr",
     "output_type": "stream",
     "text": [
      "2025-01-17 16:54:54.920Z gurobipy         20 netflow.py:149   Bounds range     [1e+00, 1e+00]\n"
     ]
    },
    {
     "name": "stdout",
     "output_type": "stream",
     "text": [
      "  RHS range        [1e+00, 2e+04]\n"
     ]
    },
    {
     "name": "stderr",
     "output_type": "stream",
     "text": [
      "2025-01-17 16:54:54.922Z gurobipy         20 netflow.py:149   RHS range        [1e+00, 2e+04]\n"
     ]
    },
    {
     "name": "stdout",
     "output_type": "stream",
     "text": [
      "Found heuristic solution: objective 4214411.8783\n"
     ]
    },
    {
     "name": "stderr",
     "output_type": "stream",
     "text": [
      "2025-01-17 16:54:54.946Z gurobipy         20 netflow.py:149 Found heuristic solution: objective 4214411.8783\n"
     ]
    },
    {
     "name": "stdout",
     "output_type": "stream",
     "text": [
      "Presolve removed 99337 rows and 89861 columns\n"
     ]
    },
    {
     "name": "stderr",
     "output_type": "stream",
     "text": [
      "2025-01-17 16:54:55.155Z gurobipy         20 netflow.py:149 Presolve removed 99337 rows and 89861 columns\n"
     ]
    },
    {
     "name": "stdout",
     "output_type": "stream",
     "text": [
      "Presolve time: 0.21s\n"
     ]
    },
    {
     "name": "stderr",
     "output_type": "stream",
     "text": [
      "2025-01-17 16:54:55.157Z gurobipy         20 netflow.py:149 Presolve time: 0.21s\n"
     ]
    },
    {
     "name": "stdout",
     "output_type": "stream",
     "text": [
      "Presolve: All rows and columns removed\n"
     ]
    },
    {
     "name": "stderr",
     "output_type": "stream",
     "text": [
      "2025-01-17 16:54:55.163Z gurobipy         20 netflow.py:149 Presolve: All rows and columns removed\n"
     ]
    },
    {
     "name": "stdout",
     "output_type": "stream",
     "text": [
      "\n"
     ]
    },
    {
     "name": "stderr",
     "output_type": "stream",
     "text": [
      "2025-01-17 16:54:55.174Z gurobipy         20 netflow.py:149 \n"
     ]
    },
    {
     "name": "stdout",
     "output_type": "stream",
     "text": [
      "Explored 0 nodes (0 simplex iterations) in 0.27 seconds (0.13 work units)\n"
     ]
    },
    {
     "name": "stderr",
     "output_type": "stream",
     "text": [
      "2025-01-17 16:54:55.176Z gurobipy         20 netflow.py:149 Explored 0 nodes (0 simplex iterations) in 0.27 seconds (0.13 work units)\n"
     ]
    },
    {
     "name": "stdout",
     "output_type": "stream",
     "text": [
      "Thread count was 1 (of 8 available processors)\n"
     ]
    },
    {
     "name": "stderr",
     "output_type": "stream",
     "text": [
      "2025-01-17 16:54:55.177Z gurobipy         20 netflow.py:149 Thread count was 1 (of 8 available processors)\n"
     ]
    },
    {
     "name": "stdout",
     "output_type": "stream",
     "text": [
      "\n"
     ]
    },
    {
     "name": "stderr",
     "output_type": "stream",
     "text": [
      "2025-01-17 16:54:55.179Z gurobipy         20 netflow.py:149 \n"
     ]
    },
    {
     "name": "stdout",
     "output_type": "stream",
     "text": [
      "Solution count 2: 3.84646e+06 4.21441e+06 \n"
     ]
    },
    {
     "name": "stderr",
     "output_type": "stream",
     "text": [
      "2025-01-17 16:54:55.180Z gurobipy         20 netflow.py:149 Solution count 2: 3.84646e+06 4.21441e+06 \n"
     ]
    },
    {
     "name": "stdout",
     "output_type": "stream",
     "text": [
      "\n"
     ]
    },
    {
     "name": "stderr",
     "output_type": "stream",
     "text": [
      "2025-01-17 16:54:55.181Z gurobipy         20 netflow.py:149 \n"
     ]
    },
    {
     "name": "stdout",
     "output_type": "stream",
     "text": [
      "Optimal solution found (tolerance 5.00e-02)\n"
     ]
    },
    {
     "name": "stderr",
     "output_type": "stream",
     "text": [
      "2025-01-17 16:54:55.183Z gurobipy         20 netflow.py:149 Optimal solution found (tolerance 5.00e-02)\n"
     ]
    },
    {
     "name": "stdout",
     "output_type": "stream",
     "text": [
      "Best objective 3.846457323990e+06, best bound 3.846457323990e+06, gap 0.0000%\n"
     ]
    },
    {
     "name": "stderr",
     "output_type": "stream",
     "text": [
      "2025-01-17 16:54:55.187Z gurobipy         20 netflow.py:149 Best objective 3.846457323990e+06, best bound 3.846457323990e+06, gap 0.0000%\n",
      "2025-01-17 16:54:55.324Z pfi              40 pfi.py:896 Some theta angles are out of range\n",
      "2025-01-17 16:54:55.324Z pfi              40 pfi.py:899 Some phi angles are out of range\n"
     ]
    },
    {
     "name": "stdout",
     "output_type": "stream",
     "text": [
      "Checking for trajectory collisions\n"
     ]
    },
    {
     "name": "stderr",
     "output_type": "stream",
     "text": [
      "2025-01-17 16:54:55.437Z pfi              40 pfi.py:899 Some phi angles are out of range\n",
      "2025-01-17 16:54:55.472Z pfi              40 pfi.py:899 Some phi angles are out of range\n",
      "2025-01-17 16:54:55.476Z engineer         20 engineer.py:395 Move theta arms to angle=[ 75.91 333.02 131.97 ... 210.2  360.   224.27] degree\n",
      "2025-01-17 16:54:55.477Z engineer         20 engineer.py:396 Move phi arms to angle=[ 6.62 42.74 10.15 ...  8.33 11.99 14.19] degree\n",
      "2025-01-17 16:54:55.478Z engineer         20 engineer.py:398 Checking passed homed argument = True\n",
      "2025-01-17 16:54:55.479Z engineer         20 engineer.py:402 Move theta arms CW and phi arms CCW to the hard stops\n",
      "2025-01-17 16:54:55.507Z cobraCoach       20 cobraCoach.py:1065 home cobras: theta=10000, phi=-5000\n",
      "2025-01-17 16:54:55.529Z pfi              40 pfi.py:899 Some phi angles are out of range\n",
      "2025-01-17 16:54:55.552Z pfi              40 pfi.py:899 Some phi angles are out of range\n",
      "2025-01-17 16:54:55.554Z engineer         20 engineer.py:412 Sending angles to moveToAngles for 0-th iteration\n",
      "2025-01-17 16:54:55.577Z cobraCoach       20 cobraCoach.py:1009 Moving deltaTheta = [-5.25294989 -0.85284527 -4.33602077 ... -3.02040524 -0.4013664\n",
      " -2.78477536]\n",
      "2025-01-17 16:54:55.578Z cobraCoach       20 cobraCoach.py:1010 Moving deltaPhi = [0.11558998 0.74591546 0.1772055  ... 0.14539386 0.20932294 0.24760745]\n",
      "2025-01-17 16:54:55.836Z cobraCoach       20 cobraCoach.py:877 Finished converting angle to steps, sending command to moveSteps (constantOntime).\n",
      "2025-01-17 16:54:56.517Z cobraCoach       20 cobraCoach.py:587 Sending step numbers to FPGA for moving cobra.\n",
      "2025-01-17 16:54:56.627Z cobraCoach       20 cobraCoach.py:601 cobra control FPGA operation done.\n",
      "2025-01-17 16:54:56.650Z pfi              40 pfi.py:896 Some theta angles are out of range\n",
      "2025-01-17 16:54:56.650Z pfi              40 pfi.py:899 Some phi angles are out of range\n",
      "2025-01-17 16:54:56.757Z cobraCoach       30 cobraCoach.py:675 Cobra#344 is too far from center\n",
      "2025-01-17 16:54:56.760Z cobraCoach       30 cobraCoach.py:675 Cobra#443 is too far from center\n",
      "2025-01-17 16:54:56.762Z cobraCoach       30 cobraCoach.py:675 Cobra#493 is too far from center\n",
      "2025-01-17 16:54:56.788Z cobraCoach       30 cobraCoach.py:675 Cobra#1303 is too far from center\n",
      "2025-01-17 16:54:56.797Z cobraCoach       30 cobraCoach.py:675 Cobra#1637 is too far from center\n",
      "2025-01-17 16:54:56.802Z cobraCoach       30 cobraCoach.py:675 Cobra#1790 is too far from center\n",
      "2025-01-17 16:54:56.803Z cobraCoach       30 cobraCoach.py:675 Cobra#1792 is too far from center\n",
      "2025-01-17 16:54:56.820Z engineer         20 engineer.py:422 Updating the cobra information\n",
      "2025-01-17 16:54:56.824Z engineer         20 engineer.py:436 done: [   0    1    2 ... 2391 2392 2393], 20 left\n",
      "2025-01-17 16:54:56.824Z engineer         20 engineer.py:412 Sending angles to moveToAngles for 1-th iteration\n",
      "2025-01-17 16:54:56.826Z cobraCoach       30 cobraCoach.py:1003 Last phi angle is unknown, not moving: [1459]\n",
      "2025-01-17 16:54:56.827Z cobraCoach       20 cobraCoach.py:1009 Moving deltaTheta = [-1.01748456e-05 -1.01748456e-05 -1.01748456e-05 -2.52731626e+00\n",
      " -1.01748456e-05 -6.78881414e-04 -1.87148445e-03 -2.65016099e-02\n",
      " -1.01748456e-05 -1.01748456e-05 -1.01748455e-05 -1.01748456e-05\n",
      " -1.01748455e-05 -5.29851305e-02  2.86555532e-04 -1.01748456e-05\n",
      " -1.01748456e-05 -3.50271147e-01 -2.01198950e+00  1.10228624e-03]\n",
      "2025-01-17 16:54:56.828Z cobraCoach       20 cobraCoach.py:1010 Moving deltaPhi = [-6.10865247e+00 -6.10865247e+00 -6.10865247e+00 -7.02523876e-04\n",
      " -2.96705959e+00 -1.80912812e-03 -1.01238450e-03  4.23083895e-02\n",
      " -6.10865247e+00  0.00000000e+00 -2.96705964e+00 -2.96705969e+00\n",
      " -6.10865247e+00  2.15367095e-04  2.15164131e-03 -6.10865247e+00\n",
      " -6.10865247e+00 -6.45651525e-05  2.36550771e-01 -4.98778998e-02]\n",
      "2025-01-17 16:54:56.830Z cobraCoach       30 cobraCoach.py:846 Last phi angle is unknown: [1459]\n",
      "2025-01-17 16:54:56.833Z cobraCoach       20 cobraCoach.py:877 Finished converting angle to steps, sending command to moveSteps (constantOntime).\n",
      "2025-01-17 16:54:56.843Z cobraCoach       20 cobraCoach.py:587 Sending step numbers to FPGA for moving cobra.\n",
      "2025-01-17 16:54:56.845Z cobraCoach       20 cobraCoach.py:601 cobra control FPGA operation done.\n",
      "2025-01-17 16:54:56.868Z pfi              40 pfi.py:896 Some theta angles are out of range\n",
      "2025-01-17 16:54:56.869Z pfi              40 pfi.py:899 Some phi angles are out of range\n",
      "2025-01-17 16:54:56.961Z cobraCoach       30 cobraCoach.py:675 Cobra#344 is too far from center\n",
      "2025-01-17 16:54:56.962Z cobraCoach       30 cobraCoach.py:679 Cobra#1460 is too close to center\n",
      "2025-01-17 16:54:56.963Z cobraCoach       30 cobraCoach.py:675 Cobra#1637 is too far from center\n",
      "2025-01-17 16:54:56.965Z cobraCoach       30 cobraCoach.py:675 Cobra#1790 is too far from center\n",
      "2025-01-17 16:54:56.966Z engineer         20 engineer.py:422 Updating the cobra information\n",
      "2025-01-17 16:54:56.969Z engineer         20 engineer.py:436 done: [ 683 1055 1200 1276 1667 1782 1929 1956], 12 left\n",
      "2025-01-17 16:54:56.971Z engineer         30 engineer.py:445 12 cobras did not finish: [ 343  442  492  737 1302 1459 1493 1538 1636 1789 1791 1969], [4.67 4.67 4.67 4.67 4.67 0.82 4.67 4.67 4.67 4.67 4.67 0.11]\n",
      "2025-01-17 16:54:56.972Z engineer         20 engineer.py:450 Returning 2394 atThetas and 2394 atPhis\n",
      "2025-01-17 16:54:56.997Z pfi              40 pfi.py:899 Some phi angles are out of range\n",
      "2025-01-17 16:54:56.999Z engineer         20 engineer.py:395 Move theta arms to angle=[ 75.91 333.02 131.97 ... 210.2  360.   224.27] degree\n",
      "2025-01-17 16:54:57.000Z engineer         20 engineer.py:396 Move phi arms to angle=[ 6.62 42.74 10.15 ...  8.33 11.99 14.19] degree\n",
      "2025-01-17 16:54:57.001Z engineer         20 engineer.py:398 Checking passed homed argument = False\n",
      "2025-01-17 16:54:57.003Z engineer         20 engineer.py:412 Sending angles to moveToAngles for 0-th iteration\n",
      "2025-01-17 16:54:57.042Z cobraCoach       20 cobraCoach.py:1009 Moving deltaTheta = [ 0.0007928  -0.00028284  0.00117177 ...  0.00017839  0.00038417\n",
      " -0.00096284]\n",
      "2025-01-17 16:54:57.043Z cobraCoach       20 cobraCoach.py:1010 Moving deltaPhi = [-0.00012803 -0.00109006 -0.00103967 ...  0.00054019 -0.00083972\n",
      " -0.00047282]\n",
      "2025-01-17 16:54:57.241Z cobraCoach       20 cobraCoach.py:877 Finished converting angle to steps, sending command to moveSteps (constantOntime).\n",
      "2025-01-17 16:54:57.481Z cobraCoach       20 cobraCoach.py:587 Sending step numbers to FPGA for moving cobra.\n",
      "2025-01-17 16:54:57.594Z cobraCoach       20 cobraCoach.py:601 cobra control FPGA operation done.\n",
      "2025-01-17 16:54:57.618Z pfi              40 pfi.py:896 Some theta angles are out of range\n",
      "2025-01-17 16:54:57.619Z pfi              40 pfi.py:899 Some phi angles are out of range\n",
      "2025-01-17 16:54:57.741Z cobraCoach       30 cobraCoach.py:675 Cobra#1303 is too far from center\n",
      "2025-01-17 16:54:57.810Z cobraCoach       30 cobraCoach.py:675 Cobra#1790 is too far from center\n",
      "2025-01-17 16:54:57.878Z engineer         20 engineer.py:422 Updating the cobra information\n",
      "2025-01-17 16:54:57.881Z engineer         20 engineer.py:436 done: [   0    1    2 ... 2391 2392 2393], 13 left\n",
      "2025-01-17 16:54:57.884Z engineer         20 engineer.py:412 Sending angles to moveToAngles for 1-th iteration\n",
      "2025-01-17 16:54:57.894Z cobraCoach       30 cobraCoach.py:1003 Last phi angle is unknown, not moving: [1459]\n",
      "2025-01-17 16:54:57.896Z cobraCoach       20 cobraCoach.py:1009 Moving deltaTheta = [-1.94233989e-04 -5.14191722e-04 -6.14804362e-04 -1.01748456e-05\n",
      "  2.69975771e-06 -1.01748456e-05 -1.01748455e-05 -1.01748456e-05\n",
      " -1.03632841e-03 -1.01748456e-05 -3.80200480e-04 -1.05065440e-04\n",
      " -7.24306932e-04]\n",
      "2025-01-17 16:54:57.900Z cobraCoach       20 cobraCoach.py:1010 Moving deltaPhi = [-2.96687409e+00 -2.96705963e+00 -2.96705960e+00 -2.96705959e+00\n",
      " -6.10865247e+00  0.00000000e+00 -2.96705964e+00 -2.96705969e+00\n",
      " -2.96602327e+00 -6.10865247e+00 -2.96705960e+00 -4.98778998e-02\n",
      " -1.24785700e-03]\n",
      "2025-01-17 16:54:57.907Z cobraCoach       30 cobraCoach.py:846 Last phi angle is unknown: [1459]\n",
      "2025-01-17 16:54:57.913Z cobraCoach       20 cobraCoach.py:877 Finished converting angle to steps, sending command to moveSteps (constantOntime).\n",
      "2025-01-17 16:54:57.923Z cobraCoach       20 cobraCoach.py:587 Sending step numbers to FPGA for moving cobra.\n",
      "2025-01-17 16:54:57.927Z cobraCoach       20 cobraCoach.py:601 cobra control FPGA operation done.\n",
      "2025-01-17 16:54:57.958Z pfi              40 pfi.py:896 Some theta angles are out of range\n",
      "2025-01-17 16:54:57.960Z pfi              40 pfi.py:899 Some phi angles are out of range\n",
      "2025-01-17 16:54:58.089Z cobraCoach       30 cobraCoach.py:675 Cobra#344 is too far from center\n",
      "2025-01-17 16:54:58.091Z pfi              30 pfi.py:475 clipping scale adjustment from 0.2573481031895782 to 0.3\n",
      "2025-01-17 16:54:58.092Z cobraCoach       30 cobraCoach.py:679 Cobra#1460 is too close to center\n",
      "2025-01-17 16:54:58.094Z pfi              30 pfi.py:475 clipping scale adjustment from 0.26154231110049525 to 0.3\n",
      "2025-01-17 16:54:58.097Z engineer         20 engineer.py:422 Updating the cobra information\n",
      "2025-01-17 16:54:58.100Z engineer         20 engineer.py:436 done: [2153], 12 left\n",
      "2025-01-17 16:54:58.101Z engineer         20 engineer.py:412 Sending angles to moveToAngles for 2-th iteration\n",
      "2025-01-17 16:54:58.104Z cobraCoach       20 cobraCoach.py:1009 Moving deltaTheta = [-1.94233989e-04 -5.14191722e-04 -6.14804362e-04 -1.01748456e-05\n",
      " -1.09852569e+00 -1.01748456e-05 -1.01748455e-05 -1.01748456e-05\n",
      " -1.03632841e-03 -1.07143418e+00 -3.80200480e-04 -1.05065440e-04]\n",
      "2025-01-17 16:54:58.106Z cobraCoach       20 cobraCoach.py:1010 Moving deltaPhi = [-6.10865247 -2.96705963 -2.9670596  -2.96705959 -1.71883189 -2.96705973\n",
      " -2.96705964 -2.96705969 -2.96705964 -1.88389766 -2.9670596  -0.0498779 ]\n",
      "2025-01-17 16:54:58.112Z cobraCoach       20 cobraCoach.py:877 Finished converting angle to steps, sending command to moveSteps (constantOntime).\n",
      "2025-01-17 16:54:58.123Z cobraCoach       20 cobraCoach.py:587 Sending step numbers to FPGA for moving cobra.\n",
      "2025-01-17 16:54:58.130Z cobraCoach       20 cobraCoach.py:601 cobra control FPGA operation done.\n",
      "2025-01-17 16:54:58.159Z pfi              40 pfi.py:896 Some theta angles are out of range\n",
      "2025-01-17 16:54:58.161Z pfi              40 pfi.py:899 Some phi angles are out of range\n",
      "2025-01-17 16:54:58.282Z pfi              30 pfi.py:475 clipping scale adjustment from 0.2859424141191533 to 0.3\n",
      "2025-01-17 16:54:58.283Z cobraCoach       30 cobraCoach.py:675 Cobra#1303 is too far from center\n",
      "2025-01-17 16:54:58.283Z pfi              30 pfi.py:475 clipping scale adjustment from 0.29999999904403885 to 0.3\n",
      "2025-01-17 16:54:58.285Z cobraCoach       30 cobraCoach.py:675 Cobra#1790 is too far from center\n",
      "2025-01-17 16:54:58.287Z engineer         20 engineer.py:422 Updating the cobra information\n",
      "2025-01-17 16:54:58.291Z engineer         20 engineer.py:412 Sending angles to moveToAngles for 3-th iteration\n",
      "2025-01-17 16:54:58.293Z cobraCoach       30 cobraCoach.py:1003 Last phi angle is unknown, not moving: [1459]\n",
      "2025-01-17 16:54:58.294Z cobraCoach       20 cobraCoach.py:1009 Moving deltaTheta = [-3.21863813e-01 -5.14191722e-04 -6.14804362e-04 -1.01748456e-05\n",
      " -6.82685060e-01 -1.01748456e-05 -1.01748455e-05 -1.01748456e-05\n",
      " -1.03632841e-03 -3.25590772e-01 -3.80200480e-04 -1.05065440e-04]\n",
      "2025-01-17 16:54:58.295Z cobraCoach       20 cobraCoach.py:1010 Moving deltaPhi = [-2.64219266 -2.96705963 -2.9670596  -2.96705959 -6.10865247  0.\n",
      " -2.96705964 -2.96705969 -2.96705964 -6.10865247 -2.9670596  -0.0498779 ]\n",
      "2025-01-17 16:54:58.297Z cobraCoach       30 cobraCoach.py:846 Last phi angle is unknown: [1459]\n",
      "2025-01-17 16:54:58.299Z cobraCoach       20 cobraCoach.py:877 Finished converting angle to steps, sending command to moveSteps (constantOntime).\n",
      "2025-01-17 16:54:58.307Z cobraCoach       20 cobraCoach.py:587 Sending step numbers to FPGA for moving cobra.\n",
      "2025-01-17 16:54:58.309Z cobraCoach       20 cobraCoach.py:601 cobra control FPGA operation done.\n",
      "2025-01-17 16:54:58.334Z pfi              40 pfi.py:896 Some theta angles are out of range\n",
      "2025-01-17 16:54:58.335Z pfi              40 pfi.py:899 Some phi angles are out of range\n",
      "2025-01-17 16:54:58.431Z pfi              30 pfi.py:475 clipping scale adjustment from 0.22521650184055392 to 0.3\n",
      "2025-01-17 16:54:58.432Z pfi              30 pfi.py:475 clipping scale adjustment from 0.2573481031895782 to 0.3\n",
      "2025-01-17 16:54:58.432Z cobraCoach       30 cobraCoach.py:679 Cobra#1460 is too close to center\n",
      "2025-01-17 16:54:58.434Z pfi              30 pfi.py:475 clipping scale adjustment from 0.22664453700152026 to 0.3\n",
      "2025-01-17 16:54:58.434Z pfi              30 pfi.py:475 clipping scale adjustment from 0.26154231110049525 to 0.3\n",
      "2025-01-17 16:54:58.436Z engineer         20 engineer.py:422 Updating the cobra information\n",
      "2025-01-17 16:54:58.439Z engineer         20 engineer.py:412 Sending angles to moveToAngles for 4-th iteration\n",
      "2025-01-17 16:54:58.441Z cobraCoach       20 cobraCoach.py:1009 Moving deltaTheta = [-2.17122172e-04 -5.14191722e-04 -6.14804362e-04 -1.01748456e-05\n",
      "  4.51698156e+00 -1.01748456e-05 -1.01748455e-05 -1.01748456e-05\n",
      " -1.03632841e-03  5.00301130e+00 -3.80200480e-04 -1.05065440e-04]\n",
      "2025-01-17 16:54:58.442Z cobraCoach       20 cobraCoach.py:1010 Moving deltaPhi = [-2.96705965 -2.96705963 -2.9670596  -2.96705959 -1.71883189 -2.96705973\n",
      " -2.96705964 -2.96705969 -2.96705964 -1.88389766 -2.9670596  -0.0498779 ]\n",
      "2025-01-17 16:54:58.446Z cobraCoach       20 cobraCoach.py:877 Finished converting angle to steps, sending command to moveSteps (constantOntime).\n",
      "2025-01-17 16:54:58.453Z cobraCoach       20 cobraCoach.py:587 Sending step numbers to FPGA for moving cobra.\n",
      "2025-01-17 16:54:58.455Z cobraCoach       20 cobraCoach.py:601 cobra control FPGA operation done.\n",
      "2025-01-17 16:54:58.483Z pfi              40 pfi.py:896 Some theta angles are out of range\n",
      "2025-01-17 16:54:58.484Z pfi              40 pfi.py:899 Some phi angles are out of range\n",
      "2025-01-17 16:54:58.613Z cobraCoach       30 cobraCoach.py:675 Cobra#1790 is too far from center\n",
      "2025-01-17 16:54:58.614Z pfi              30 pfi.py:475 clipping scale adjustment from 0.29999999510714737 to 0.3\n",
      "2025-01-17 16:54:58.616Z engineer         20 engineer.py:422 Updating the cobra information\n",
      "2025-01-17 16:54:58.619Z engineer         20 engineer.py:412 Sending angles to moveToAngles for 5-th iteration\n",
      "2025-01-17 16:54:58.621Z cobraCoach       30 cobraCoach.py:1003 Last phi angle is unknown, not moving: [1459]\n",
      "2025-01-17 16:54:58.622Z cobraCoach       20 cobraCoach.py:1009 Moving deltaTheta = [-2.17122172e-04 -5.14191722e-04 -6.14804362e-04 -1.01748456e-05\n",
      " -4.10811338e-03 -1.01748456e-05 -1.01748455e-05 -1.01748456e-05\n",
      " -1.03632841e-03  7.85623389e-01 -3.80200480e-04 -1.05065440e-04]\n",
      "2025-01-17 16:54:58.622Z cobraCoach       20 cobraCoach.py:1010 Moving deltaPhi = [-2.96705965 -2.96705963 -2.9670596  -2.96705959 -2.96705962  0.\n",
      " -2.96705964 -2.96705969 -2.96705964 -6.10865247 -2.9670596  -0.0498779 ]\n",
      "2025-01-17 16:54:58.626Z cobraCoach       30 cobraCoach.py:846 Last phi angle is unknown: [1459]\n",
      "2025-01-17 16:54:58.628Z cobraCoach       20 cobraCoach.py:877 Finished converting angle to steps, sending command to moveSteps (constantOntime).\n",
      "2025-01-17 16:54:58.636Z cobraCoach       20 cobraCoach.py:587 Sending step numbers to FPGA for moving cobra.\n",
      "2025-01-17 16:54:58.637Z cobraCoach       20 cobraCoach.py:601 cobra control FPGA operation done.\n",
      "2025-01-17 16:54:58.666Z pfi              40 pfi.py:896 Some theta angles are out of range\n",
      "2025-01-17 16:54:58.668Z pfi              40 pfi.py:899 Some phi angles are out of range\n",
      "2025-01-17 16:54:58.790Z pfi              30 pfi.py:475 clipping scale adjustment from 0.2250489700875823 to 0.3\n",
      "2025-01-17 16:54:58.791Z cobraCoach       30 cobraCoach.py:679 Cobra#1460 is too close to center\n",
      "2025-01-17 16:54:58.792Z pfi              30 pfi.py:475 clipping scale adjustment from 0.2561286605203101 to 0.3\n",
      "2025-01-17 16:54:58.793Z pfi              30 pfi.py:475 clipping scale adjustment from 0.26154231110049525 to 0.3\n",
      "2025-01-17 16:54:58.795Z engineer         20 engineer.py:422 Updating the cobra information\n",
      "2025-01-17 16:54:58.797Z engineer         30 engineer.py:445 12 cobras did not finish: [ 343  442  492  737 1302 1459 1493 1538 1636 1789 1791 1969], [4.67 4.67 4.67 4.67 4.67 0.82 4.67 4.67 4.67 4.2  4.67 0.11]\n",
      "2025-01-17 16:54:58.798Z engineer         20 engineer.py:450 Returning 2394 atThetas and 2394 atPhis\n",
      "2025-01-17 16:54:58.825Z pfi              40 pfi.py:896 Some theta angles are out of range\n",
      "2025-01-17 16:54:58.827Z pfi              40 pfi.py:899 Some phi angles are out of range\n",
      "2025-01-17 16:54:58.914Z pfi              40 pfi.py:896 Some theta angles are out of range\n",
      "2025-01-17 16:54:58.916Z pfi              40 pfi.py:899 Some phi angles are out of range\n",
      "2025-01-17 16:54:58.979Z pfi              40 pfi.py:896 Some theta angles are out of range\n",
      "2025-01-17 16:54:58.980Z pfi              40 pfi.py:899 Some phi angles are out of range\n",
      "2025-01-17 16:54:59.024Z pfi              40 pfi.py:896 Some theta angles are out of range\n",
      "2025-01-17 16:54:59.026Z pfi              40 pfi.py:899 Some phi angles are out of range\n",
      "2025-01-17 16:54:59.077Z pfi              40 pfi.py:896 Some theta angles are out of range\n",
      "2025-01-17 16:54:59.079Z pfi              40 pfi.py:899 Some phi angles are out of range\n",
      "2025-01-17 16:54:59.128Z pfi              40 pfi.py:896 Some theta angles are out of range\n",
      "2025-01-17 16:54:59.130Z pfi              40 pfi.py:899 Some phi angles are out of range\n",
      "2025-01-17 16:54:59.180Z pfi              40 pfi.py:896 Some theta angles are out of range\n",
      "2025-01-17 16:54:59.181Z pfi              40 pfi.py:899 Some phi angles are out of range\n",
      "2025-01-17 16:54:59.231Z pfi              40 pfi.py:896 Some theta angles are out of range\n",
      "2025-01-17 16:54:59.232Z pfi              40 pfi.py:899 Some phi angles are out of range\n",
      "2025-01-17 16:54:59.284Z pfi              40 pfi.py:930 Some theta angles are out of range\n",
      "2025-01-17 16:54:59.344Z pfi              40 pfi.py:930 Some theta angles are out of range\n",
      "2025-01-17 16:54:59.400Z pfi              40 pfi.py:930 Some theta angles are out of range\n",
      "2025-01-17 16:54:59.435Z pfi              40 pfi.py:930 Some theta angles are out of range\n",
      "2025-01-17 16:54:59.477Z pfi              40 pfi.py:930 Some theta angles are out of range\n",
      "2025-01-17 16:54:59.516Z pfi              40 pfi.py:930 Some theta angles are out of range\n",
      "2025-01-17 16:54:59.554Z pfi              40 pfi.py:930 Some theta angles are out of range\n",
      "2025-01-17 16:54:59.591Z pfi              40 pfi.py:930 Some theta angles are out of range\n"
     ]
    },
    {
     "name": "stdout",
     "output_type": "stream",
     "text": [
      "ERROR: detected 19 end point collision, which should be impossible\n",
      "trajectory collisions found: 24\n",
      "Set parameter Presolve to value 1\n"
     ]
    },
    {
     "name": "stderr",
     "output_type": "stream",
     "text": [
      "2025-01-17 16:55:03.646Z gurobipy         20 netflow.py:117 Set parameter Presolve to value 1\n"
     ]
    },
    {
     "name": "stdout",
     "output_type": "stream",
     "text": [
      "Set parameter Method to value 4\n"
     ]
    },
    {
     "name": "stderr",
     "output_type": "stream",
     "text": [
      "2025-01-17 16:55:03.648Z gurobipy         20 netflow.py:117 Set parameter Method to value 4\n"
     ]
    },
    {
     "name": "stdout",
     "output_type": "stream",
     "text": [
      "Set parameter DegenMoves to value 0\n"
     ]
    },
    {
     "name": "stderr",
     "output_type": "stream",
     "text": [
      "2025-01-17 16:55:03.649Z gurobipy         20 netflow.py:117 Set parameter DegenMoves to value 0\n"
     ]
    },
    {
     "name": "stdout",
     "output_type": "stream",
     "text": [
      "Set parameter Heuristics to value 0.8\n"
     ]
    },
    {
     "name": "stderr",
     "output_type": "stream",
     "text": [
      "2025-01-17 16:55:03.651Z gurobipy         20 netflow.py:117 Set parameter Heuristics to value 0.8\n"
     ]
    },
    {
     "name": "stdout",
     "output_type": "stream",
     "text": [
      "Set parameter MIPGap to value 0.05\n"
     ]
    },
    {
     "name": "stderr",
     "output_type": "stream",
     "text": [
      "2025-01-17 16:55:03.652Z gurobipy         20 netflow.py:117 Set parameter MIPGap to value 0.05\n"
     ]
    },
    {
     "name": "stdout",
     "output_type": "stream",
     "text": [
      "Creating network topology\n",
      "  exposure 1\n",
      "Calculating visibilities\n",
      "adding constraints\n",
      "adding collision constraints\n",
      "adding forbidden pair constraints\n",
      "Gurobi Optimizer version 10.0.1 build v10.0.1rc0 (mac64[x86])\n"
     ]
    },
    {
     "name": "stderr",
     "output_type": "stream",
     "text": [
      "2025-01-17 16:55:12.628Z gurobipy         20 netflow.py:149 Gurobi Optimizer version 10.0.1 build v10.0.1rc0 (mac64[x86])\n"
     ]
    },
    {
     "name": "stdout",
     "output_type": "stream",
     "text": [
      "\n"
     ]
    },
    {
     "name": "stderr",
     "output_type": "stream",
     "text": [
      "2025-01-17 16:55:12.630Z gurobipy         20 netflow.py:149 \n"
     ]
    },
    {
     "name": "stdout",
     "output_type": "stream",
     "text": [
      "CPU model: Intel(R) Core(TM) i7-8569U CPU @ 2.80GHz\n"
     ]
    },
    {
     "name": "stderr",
     "output_type": "stream",
     "text": [
      "2025-01-17 16:55:12.632Z gurobipy         20 netflow.py:149 CPU model: Intel(R) Core(TM) i7-8569U CPU @ 2.80GHz\n"
     ]
    },
    {
     "name": "stdout",
     "output_type": "stream",
     "text": [
      "Thread count: 4 physical cores, 8 logical processors, using up to 8 threads\n"
     ]
    },
    {
     "name": "stderr",
     "output_type": "stream",
     "text": [
      "2025-01-17 16:55:12.635Z gurobipy         20 netflow.py:149 Thread count: 4 physical cores, 8 logical processors, using up to 8 threads\n"
     ]
    },
    {
     "name": "stdout",
     "output_type": "stream",
     "text": [
      "\n"
     ]
    },
    {
     "name": "stderr",
     "output_type": "stream",
     "text": [
      "2025-01-17 16:55:12.637Z gurobipy         20 netflow.py:149 \n"
     ]
    },
    {
     "name": "stdout",
     "output_type": "stream",
     "text": [
      "Academic license 2379863 - for non-commercial use only - registered to ji___@ipmu.jp\n"
     ]
    },
    {
     "name": "stderr",
     "output_type": "stream",
     "text": [
      "2025-01-17 16:55:12.641Z gurobipy         20 netflow.py:149 Academic license 2379863 - for non-commercial use only - registered to ji___@ipmu.jp\n"
     ]
    },
    {
     "name": "stdout",
     "output_type": "stream",
     "text": [
      "Optimize a model with 99362 rows, 89861 columns and 271566 nonzeros\n"
     ]
    },
    {
     "name": "stderr",
     "output_type": "stream",
     "text": [
      "2025-01-17 16:55:12.644Z gurobipy         20 netflow.py:149 Optimize a model with 99362 rows, 89861 columns and 271566 nonzeros\n"
     ]
    },
    {
     "name": "stdout",
     "output_type": "stream",
     "text": [
      "Model fingerprint: 0x983a73e7\n"
     ]
    },
    {
     "name": "stderr",
     "output_type": "stream",
     "text": [
      "2025-01-17 16:55:12.653Z gurobipy         20 netflow.py:149 Model fingerprint: 0x983a73e7\n"
     ]
    },
    {
     "name": "stdout",
     "output_type": "stream",
     "text": [
      "Variable types: 1 continuous, 89860 integer (69113 binary)\n"
     ]
    },
    {
     "name": "stderr",
     "output_type": "stream",
     "text": [
      "2025-01-17 16:55:12.655Z gurobipy         20 netflow.py:149 Variable types: 1 continuous, 89860 integer (69113 binary)\n"
     ]
    },
    {
     "name": "stdout",
     "output_type": "stream",
     "text": [
      "Coefficient statistics:\n"
     ]
    },
    {
     "name": "stderr",
     "output_type": "stream",
     "text": [
      "2025-01-17 16:55:12.660Z gurobipy         20 netflow.py:149 Coefficient statistics:\n"
     ]
    },
    {
     "name": "stdout",
     "output_type": "stream",
     "text": [
      "  Matrix range     [1e+00, 1e+00]\n"
     ]
    },
    {
     "name": "stderr",
     "output_type": "stream",
     "text": [
      "2025-01-17 16:55:12.664Z gurobipy         20 netflow.py:149   Matrix range     [1e+00, 1e+00]\n"
     ]
    },
    {
     "name": "stdout",
     "output_type": "stream",
     "text": [
      "  Objective range  [2e-05, 1e+06]\n"
     ]
    },
    {
     "name": "stderr",
     "output_type": "stream",
     "text": [
      "2025-01-17 16:55:12.667Z gurobipy         20 netflow.py:149   Objective range  [2e-05, 1e+06]\n"
     ]
    },
    {
     "name": "stdout",
     "output_type": "stream",
     "text": [
      "  Bounds range     [1e+00, 1e+00]\n"
     ]
    },
    {
     "name": "stderr",
     "output_type": "stream",
     "text": [
      "2025-01-17 16:55:12.673Z gurobipy         20 netflow.py:149   Bounds range     [1e+00, 1e+00]\n"
     ]
    },
    {
     "name": "stdout",
     "output_type": "stream",
     "text": [
      "  RHS range        [1e+00, 2e+04]\n"
     ]
    },
    {
     "name": "stderr",
     "output_type": "stream",
     "text": [
      "2025-01-17 16:55:12.677Z gurobipy         20 netflow.py:149   RHS range        [1e+00, 2e+04]\n"
     ]
    },
    {
     "name": "stdout",
     "output_type": "stream",
     "text": [
      "Found heuristic solution: objective 4214411.8783\n"
     ]
    },
    {
     "name": "stderr",
     "output_type": "stream",
     "text": [
      "2025-01-17 16:55:12.752Z gurobipy         20 netflow.py:149 Found heuristic solution: objective 4214411.8783\n"
     ]
    },
    {
     "name": "stdout",
     "output_type": "stream",
     "text": [
      "Presolve removed 99362 rows and 89861 columns\n"
     ]
    },
    {
     "name": "stderr",
     "output_type": "stream",
     "text": [
      "2025-01-17 16:55:13.011Z gurobipy         20 netflow.py:149 Presolve removed 99362 rows and 89861 columns\n"
     ]
    },
    {
     "name": "stdout",
     "output_type": "stream",
     "text": [
      "Presolve time: 0.26s\n"
     ]
    },
    {
     "name": "stderr",
     "output_type": "stream",
     "text": [
      "2025-01-17 16:55:13.013Z gurobipy         20 netflow.py:149 Presolve time: 0.26s\n"
     ]
    },
    {
     "name": "stdout",
     "output_type": "stream",
     "text": [
      "Presolve: All rows and columns removed\n"
     ]
    },
    {
     "name": "stderr",
     "output_type": "stream",
     "text": [
      "2025-01-17 16:55:13.026Z gurobipy         20 netflow.py:149 Presolve: All rows and columns removed\n"
     ]
    },
    {
     "name": "stdout",
     "output_type": "stream",
     "text": [
      "\n"
     ]
    },
    {
     "name": "stderr",
     "output_type": "stream",
     "text": [
      "2025-01-17 16:55:13.039Z gurobipy         20 netflow.py:149 \n"
     ]
    },
    {
     "name": "stdout",
     "output_type": "stream",
     "text": [
      "Explored 0 nodes (0 simplex iterations) in 0.40 seconds (0.13 work units)\n"
     ]
    },
    {
     "name": "stderr",
     "output_type": "stream",
     "text": [
      "2025-01-17 16:55:13.041Z gurobipy         20 netflow.py:149 Explored 0 nodes (0 simplex iterations) in 0.40 seconds (0.13 work units)\n"
     ]
    },
    {
     "name": "stdout",
     "output_type": "stream",
     "text": [
      "Thread count was 1 (of 8 available processors)\n"
     ]
    },
    {
     "name": "stderr",
     "output_type": "stream",
     "text": [
      "2025-01-17 16:55:13.042Z gurobipy         20 netflow.py:149 Thread count was 1 (of 8 available processors)\n"
     ]
    },
    {
     "name": "stdout",
     "output_type": "stream",
     "text": [
      "\n"
     ]
    },
    {
     "name": "stderr",
     "output_type": "stream",
     "text": [
      "2025-01-17 16:55:13.045Z gurobipy         20 netflow.py:149 \n"
     ]
    },
    {
     "name": "stdout",
     "output_type": "stream",
     "text": [
      "Solution count 2: 3.84686e+06 4.21441e+06 \n"
     ]
    },
    {
     "name": "stderr",
     "output_type": "stream",
     "text": [
      "2025-01-17 16:55:13.047Z gurobipy         20 netflow.py:149 Solution count 2: 3.84686e+06 4.21441e+06 \n"
     ]
    },
    {
     "name": "stdout",
     "output_type": "stream",
     "text": [
      "\n"
     ]
    },
    {
     "name": "stderr",
     "output_type": "stream",
     "text": [
      "2025-01-17 16:55:13.048Z gurobipy         20 netflow.py:149 \n"
     ]
    },
    {
     "name": "stdout",
     "output_type": "stream",
     "text": [
      "Optimal solution found (tolerance 5.00e-02)\n"
     ]
    },
    {
     "name": "stderr",
     "output_type": "stream",
     "text": [
      "2025-01-17 16:55:13.050Z gurobipy         20 netflow.py:149 Optimal solution found (tolerance 5.00e-02)\n"
     ]
    },
    {
     "name": "stdout",
     "output_type": "stream",
     "text": [
      "Best objective 3.846857455637e+06, best bound 3.846857455637e+06, gap 0.0000%\n"
     ]
    },
    {
     "name": "stderr",
     "output_type": "stream",
     "text": [
      "2025-01-17 16:55:13.055Z gurobipy         20 netflow.py:149 Best objective 3.846857455637e+06, best bound 3.846857455637e+06, gap 0.0000%\n",
      "2025-01-17 16:55:13.209Z pfi              40 pfi.py:896 Some theta angles are out of range\n",
      "2025-01-17 16:55:13.210Z pfi              40 pfi.py:899 Some phi angles are out of range\n"
     ]
    },
    {
     "name": "stdout",
     "output_type": "stream",
     "text": [
      "Checking for trajectory collisions\n"
     ]
    },
    {
     "name": "stderr",
     "output_type": "stream",
     "text": [
      "2025-01-17 16:55:13.341Z pfi              40 pfi.py:899 Some phi angles are out of range\n",
      "2025-01-17 16:55:13.375Z pfi              40 pfi.py:899 Some phi angles are out of range\n",
      "2025-01-17 16:55:13.378Z engineer         20 engineer.py:395 Move theta arms to angle=[ 75.91 333.02 131.97 ... 210.2  360.   224.27] degree\n",
      "2025-01-17 16:55:13.379Z engineer         20 engineer.py:396 Move phi arms to angle=[ 6.62 42.74 10.15 ...  8.33 11.99 14.19] degree\n",
      "2025-01-17 16:55:13.380Z engineer         20 engineer.py:398 Checking passed homed argument = True\n",
      "2025-01-17 16:55:13.381Z engineer         20 engineer.py:402 Move theta arms CW and phi arms CCW to the hard stops\n",
      "2025-01-17 16:55:13.408Z cobraCoach       20 cobraCoach.py:1065 home cobras: theta=10000, phi=-5000\n",
      "2025-01-17 16:55:13.434Z pfi              40 pfi.py:899 Some phi angles are out of range\n",
      "2025-01-17 16:55:13.457Z pfi              40 pfi.py:899 Some phi angles are out of range\n",
      "2025-01-17 16:55:13.459Z engineer         20 engineer.py:412 Sending angles to moveToAngles for 0-th iteration\n",
      "2025-01-17 16:55:13.484Z cobraCoach       20 cobraCoach.py:1009 Moving deltaTheta = [-5.25294989 -0.85284527 -4.33602077 ... -3.02040524 -0.4013664\n",
      " -2.78477536]\n",
      "2025-01-17 16:55:13.485Z cobraCoach       20 cobraCoach.py:1010 Moving deltaPhi = [0.11558998 0.74591546 0.1772055  ... 0.14539386 0.20932294 0.24760745]\n",
      "2025-01-17 16:55:13.755Z cobraCoach       20 cobraCoach.py:877 Finished converting angle to steps, sending command to moveSteps (constantOntime).\n",
      "2025-01-17 16:55:14.469Z cobraCoach       20 cobraCoach.py:587 Sending step numbers to FPGA for moving cobra.\n",
      "2025-01-17 16:55:14.600Z cobraCoach       20 cobraCoach.py:601 cobra control FPGA operation done.\n",
      "2025-01-17 16:55:14.628Z pfi              40 pfi.py:896 Some theta angles are out of range\n",
      "2025-01-17 16:55:14.629Z pfi              40 pfi.py:899 Some phi angles are out of range\n",
      "2025-01-17 16:55:14.735Z cobraCoach       30 cobraCoach.py:675 Cobra#344 is too far from center\n",
      "2025-01-17 16:55:14.738Z cobraCoach       30 cobraCoach.py:675 Cobra#443 is too far from center\n",
      "2025-01-17 16:55:14.740Z cobraCoach       30 cobraCoach.py:675 Cobra#493 is too far from center\n",
      "2025-01-17 16:55:14.761Z cobraCoach       30 cobraCoach.py:675 Cobra#1303 is too far from center\n",
      "2025-01-17 16:55:14.772Z cobraCoach       30 cobraCoach.py:675 Cobra#1637 is too far from center\n",
      "2025-01-17 16:55:14.778Z cobraCoach       30 cobraCoach.py:675 Cobra#1790 is too far from center\n",
      "2025-01-17 16:55:14.779Z cobraCoach       30 cobraCoach.py:675 Cobra#1792 is too far from center\n",
      "2025-01-17 16:55:14.800Z engineer         20 engineer.py:422 Updating the cobra information\n",
      "2025-01-17 16:55:14.803Z engineer         20 engineer.py:436 done: [   0    1    2 ... 2391 2392 2393], 21 left\n",
      "2025-01-17 16:55:14.804Z engineer         20 engineer.py:412 Sending angles to moveToAngles for 1-th iteration\n",
      "2025-01-17 16:55:14.806Z cobraCoach       30 cobraCoach.py:1003 Last phi angle is unknown, not moving: [1459]\n",
      "2025-01-17 16:55:14.808Z cobraCoach       20 cobraCoach.py:1009 Moving deltaTheta = [-1.01748456e-05 -1.01748456e-05 -1.01748456e-05 -2.52731626e+00\n",
      " -1.01748456e-05 -6.78881414e-04 -1.87148445e-03 -2.65016099e-02\n",
      " -1.01748456e-05 -1.01748456e-05 -1.01748455e-05 -1.01748456e-05\n",
      " -1.01748455e-05 -5.29851305e-02 -1.32093872e+00  2.86555532e-04\n",
      " -1.01748456e-05 -1.01748456e-05 -3.50271147e-01 -2.01198950e+00\n",
      "  1.10228624e-03]\n",
      "2025-01-17 16:55:14.810Z cobraCoach       20 cobraCoach.py:1010 Moving deltaPhi = [-6.10865247e+00 -6.10865247e+00 -6.10865247e+00 -7.02523876e-04\n",
      " -2.96705959e+00 -1.80912812e-03 -1.01238450e-03  4.23083895e-02\n",
      " -6.10865247e+00  0.00000000e+00 -2.96705964e+00 -2.96705969e+00\n",
      " -6.10865247e+00  2.15367095e-04  4.48039121e-01  2.15164131e-03\n",
      " -6.10865247e+00 -6.10865247e+00 -6.45651525e-05  2.36550771e-01\n",
      " -4.98778998e-02]\n",
      "2025-01-17 16:55:14.812Z cobraCoach       30 cobraCoach.py:846 Last phi angle is unknown: [1459]\n",
      "2025-01-17 16:55:14.815Z cobraCoach       20 cobraCoach.py:877 Finished converting angle to steps, sending command to moveSteps (constantOntime).\n",
      "2025-01-17 16:55:14.823Z cobraCoach       20 cobraCoach.py:587 Sending step numbers to FPGA for moving cobra.\n",
      "2025-01-17 16:55:14.827Z cobraCoach       20 cobraCoach.py:601 cobra control FPGA operation done.\n",
      "2025-01-17 16:55:14.852Z pfi              40 pfi.py:896 Some theta angles are out of range\n",
      "2025-01-17 16:55:14.853Z pfi              40 pfi.py:899 Some phi angles are out of range\n",
      "2025-01-17 16:55:14.953Z cobraCoach       30 cobraCoach.py:675 Cobra#344 is too far from center\n",
      "2025-01-17 16:55:14.954Z cobraCoach       30 cobraCoach.py:679 Cobra#1460 is too close to center\n",
      "2025-01-17 16:55:14.955Z cobraCoach       30 cobraCoach.py:675 Cobra#1637 is too far from center\n",
      "2025-01-17 16:55:14.955Z cobraCoach       30 cobraCoach.py:675 Cobra#1790 is too far from center\n",
      "2025-01-17 16:55:14.957Z engineer         20 engineer.py:422 Updating the cobra information\n",
      "2025-01-17 16:55:14.959Z engineer         20 engineer.py:436 done: [ 683 1055 1200 1276 1667 1729 1782 1929 1956], 12 left\n",
      "2025-01-17 16:55:14.960Z engineer         30 engineer.py:445 12 cobras did not finish: [ 343  442  492  737 1302 1459 1493 1538 1636 1789 1791 1969], [4.67 4.67 4.67 4.67 4.67 0.82 4.67 4.67 4.67 4.67 4.67 0.11]\n",
      "2025-01-17 16:55:14.961Z engineer         20 engineer.py:450 Returning 2394 atThetas and 2394 atPhis\n",
      "2025-01-17 16:55:14.991Z pfi              40 pfi.py:899 Some phi angles are out of range\n",
      "2025-01-17 16:55:14.994Z engineer         20 engineer.py:395 Move theta arms to angle=[ 75.91 333.02 131.97 ... 210.2  360.   224.27] degree\n",
      "2025-01-17 16:55:14.995Z engineer         20 engineer.py:396 Move phi arms to angle=[ 6.62 42.74 10.15 ...  8.33 11.99 14.19] degree\n",
      "2025-01-17 16:55:14.996Z engineer         20 engineer.py:398 Checking passed homed argument = False\n",
      "2025-01-17 16:55:14.997Z engineer         20 engineer.py:412 Sending angles to moveToAngles for 0-th iteration\n",
      "2025-01-17 16:55:15.048Z cobraCoach       20 cobraCoach.py:1009 Moving deltaTheta = [ 0.0007928  -0.00028284  0.00117177 ...  0.00017839  0.00038417\n",
      " -0.00096284]\n",
      "2025-01-17 16:55:15.050Z cobraCoach       20 cobraCoach.py:1010 Moving deltaPhi = [-0.00012803 -0.00109006 -0.00103967 ...  0.00054019 -0.00083972\n",
      " -0.00047282]\n",
      "2025-01-17 16:55:15.301Z cobraCoach       20 cobraCoach.py:877 Finished converting angle to steps, sending command to moveSteps (constantOntime).\n",
      "2025-01-17 16:55:15.582Z cobraCoach       20 cobraCoach.py:587 Sending step numbers to FPGA for moving cobra.\n",
      "2025-01-17 16:55:15.696Z cobraCoach       20 cobraCoach.py:601 cobra control FPGA operation done.\n",
      "2025-01-17 16:55:15.718Z pfi              40 pfi.py:896 Some theta angles are out of range\n",
      "2025-01-17 16:55:15.719Z pfi              40 pfi.py:899 Some phi angles are out of range\n",
      "2025-01-17 16:55:15.843Z cobraCoach       30 cobraCoach.py:675 Cobra#1303 is too far from center\n",
      "2025-01-17 16:55:15.856Z cobraCoach       30 cobraCoach.py:675 Cobra#1790 is too far from center\n",
      "2025-01-17 16:55:15.874Z engineer         20 engineer.py:422 Updating the cobra information\n",
      "2025-01-17 16:55:15.876Z engineer         20 engineer.py:436 done: [   0    1    2 ... 2391 2392 2393], 14 left\n",
      "2025-01-17 16:55:15.878Z engineer         20 engineer.py:412 Sending angles to moveToAngles for 1-th iteration\n",
      "2025-01-17 16:55:15.881Z cobraCoach       30 cobraCoach.py:1003 Last phi angle is unknown, not moving: [1459]\n",
      "2025-01-17 16:55:15.883Z cobraCoach       20 cobraCoach.py:1009 Moving deltaTheta = [-1.94233989e-04 -5.14191722e-04 -6.14804362e-04 -1.01748456e-05\n",
      "  2.69975771e-06 -1.01748456e-05 -1.01748455e-05 -1.01748456e-05\n",
      " -1.03632841e-03 -6.68898607e-02 -1.01748456e-05 -3.80200480e-04\n",
      " -1.05065440e-04 -7.24306932e-04]\n",
      "2025-01-17 16:55:15.885Z cobraCoach       20 cobraCoach.py:1010 Moving deltaPhi = [-2.96687409e+00 -2.96705963e+00 -2.96705960e+00 -2.96705959e+00\n",
      " -6.10865247e+00  0.00000000e+00 -2.96705964e+00 -2.96705969e+00\n",
      " -2.96602327e+00  5.88029203e-01 -6.10865247e+00 -2.96705960e+00\n",
      " -4.98778998e-02 -1.24785700e-03]\n",
      "2025-01-17 16:55:15.890Z cobraCoach       30 cobraCoach.py:846 Last phi angle is unknown: [1459]\n",
      "2025-01-17 16:55:15.893Z cobraCoach       20 cobraCoach.py:877 Finished converting angle to steps, sending command to moveSteps (constantOntime).\n",
      "2025-01-17 16:55:15.899Z cobraCoach       20 cobraCoach.py:587 Sending step numbers to FPGA for moving cobra.\n",
      "2025-01-17 16:55:15.902Z cobraCoach       20 cobraCoach.py:601 cobra control FPGA operation done.\n",
      "2025-01-17 16:55:15.932Z pfi              40 pfi.py:896 Some theta angles are out of range\n",
      "2025-01-17 16:55:15.934Z pfi              40 pfi.py:899 Some phi angles are out of range\n",
      "2025-01-17 16:55:16.057Z cobraCoach       30 cobraCoach.py:675 Cobra#344 is too far from center\n",
      "2025-01-17 16:55:16.059Z pfi              30 pfi.py:475 clipping scale adjustment from 0.2573481031895782 to 0.3\n",
      "2025-01-17 16:55:16.060Z cobraCoach       30 cobraCoach.py:679 Cobra#1460 is too close to center\n",
      "2025-01-17 16:55:16.062Z pfi              30 pfi.py:475 clipping scale adjustment from 0.26154231110049525 to 0.3\n",
      "2025-01-17 16:55:16.063Z engineer         20 engineer.py:422 Updating the cobra information\n",
      "2025-01-17 16:55:16.066Z engineer         20 engineer.py:436 done: [1729 2153], 12 left\n",
      "2025-01-17 16:55:16.069Z engineer         20 engineer.py:412 Sending angles to moveToAngles for 2-th iteration\n",
      "2025-01-17 16:55:16.071Z cobraCoach       20 cobraCoach.py:1009 Moving deltaTheta = [-1.94233989e-04 -5.14191722e-04 -6.14804362e-04 -1.01748456e-05\n",
      " -1.09852569e+00 -1.01748456e-05 -1.01748455e-05 -1.01748456e-05\n",
      " -1.03632841e-03 -1.07143418e+00 -3.80200480e-04 -1.05065440e-04]\n",
      "2025-01-17 16:55:16.072Z cobraCoach       20 cobraCoach.py:1010 Moving deltaPhi = [-6.10865247 -2.96705963 -2.9670596  -2.96705959 -1.71883189 -2.96705973\n",
      " -2.96705964 -2.96705969 -2.96705964 -1.88389766 -2.9670596  -0.0498779 ]\n",
      "2025-01-17 16:55:16.080Z cobraCoach       20 cobraCoach.py:877 Finished converting angle to steps, sending command to moveSteps (constantOntime).\n",
      "2025-01-17 16:55:16.088Z cobraCoach       20 cobraCoach.py:587 Sending step numbers to FPGA for moving cobra.\n",
      "2025-01-17 16:55:16.093Z cobraCoach       20 cobraCoach.py:601 cobra control FPGA operation done.\n",
      "2025-01-17 16:55:16.123Z pfi              40 pfi.py:896 Some theta angles are out of range\n",
      "2025-01-17 16:55:16.124Z pfi              40 pfi.py:899 Some phi angles are out of range\n",
      "2025-01-17 16:55:16.243Z pfi              30 pfi.py:475 clipping scale adjustment from 0.2859424141191533 to 0.3\n",
      "2025-01-17 16:55:16.244Z cobraCoach       30 cobraCoach.py:675 Cobra#1303 is too far from center\n",
      "2025-01-17 16:55:16.245Z pfi              30 pfi.py:475 clipping scale adjustment from 0.29999999904403885 to 0.3\n",
      "2025-01-17 16:55:16.246Z cobraCoach       30 cobraCoach.py:675 Cobra#1790 is too far from center\n",
      "2025-01-17 16:55:16.247Z engineer         20 engineer.py:422 Updating the cobra information\n",
      "2025-01-17 16:55:16.248Z engineer         20 engineer.py:412 Sending angles to moveToAngles for 3-th iteration\n",
      "2025-01-17 16:55:16.251Z cobraCoach       30 cobraCoach.py:1003 Last phi angle is unknown, not moving: [1459]\n",
      "2025-01-17 16:55:16.253Z cobraCoach       20 cobraCoach.py:1009 Moving deltaTheta = [-3.21863813e-01 -5.14191722e-04 -6.14804362e-04 -1.01748456e-05\n",
      " -6.82685060e-01 -1.01748456e-05 -1.01748455e-05 -1.01748456e-05\n",
      " -1.03632841e-03 -3.25590772e-01 -3.80200480e-04 -1.05065440e-04]\n",
      "2025-01-17 16:55:16.254Z cobraCoach       20 cobraCoach.py:1010 Moving deltaPhi = [-2.64219266 -2.96705963 -2.9670596  -2.96705959 -6.10865247  0.\n",
      " -2.96705964 -2.96705969 -2.96705964 -6.10865247 -2.9670596  -0.0498779 ]\n",
      "2025-01-17 16:55:16.256Z cobraCoach       30 cobraCoach.py:846 Last phi angle is unknown: [1459]\n",
      "2025-01-17 16:55:16.259Z cobraCoach       20 cobraCoach.py:877 Finished converting angle to steps, sending command to moveSteps (constantOntime).\n",
      "2025-01-17 16:55:16.271Z cobraCoach       20 cobraCoach.py:587 Sending step numbers to FPGA for moving cobra.\n",
      "2025-01-17 16:55:16.274Z cobraCoach       20 cobraCoach.py:601 cobra control FPGA operation done.\n",
      "2025-01-17 16:55:16.304Z pfi              40 pfi.py:896 Some theta angles are out of range\n",
      "2025-01-17 16:55:16.306Z pfi              40 pfi.py:899 Some phi angles are out of range\n",
      "2025-01-17 16:55:16.425Z pfi              30 pfi.py:475 clipping scale adjustment from 0.22521650184055392 to 0.3\n",
      "2025-01-17 16:55:16.426Z pfi              30 pfi.py:475 clipping scale adjustment from 0.2573481031895782 to 0.3\n",
      "2025-01-17 16:55:16.427Z cobraCoach       30 cobraCoach.py:679 Cobra#1460 is too close to center\n",
      "2025-01-17 16:55:16.428Z pfi              30 pfi.py:475 clipping scale adjustment from 0.22664453700152026 to 0.3\n",
      "2025-01-17 16:55:16.429Z pfi              30 pfi.py:475 clipping scale adjustment from 0.26154231110049525 to 0.3\n",
      "2025-01-17 16:55:16.430Z engineer         20 engineer.py:422 Updating the cobra information\n",
      "2025-01-17 16:55:16.432Z engineer         20 engineer.py:412 Sending angles to moveToAngles for 4-th iteration\n",
      "2025-01-17 16:55:16.434Z cobraCoach       20 cobraCoach.py:1009 Moving deltaTheta = [-2.17122172e-04 -5.14191722e-04 -6.14804362e-04 -1.01748456e-05\n",
      "  4.51698156e+00 -1.01748456e-05 -1.01748455e-05 -1.01748456e-05\n",
      " -1.03632841e-03  5.00301130e+00 -3.80200480e-04 -1.05065440e-04]\n",
      "2025-01-17 16:55:16.436Z cobraCoach       20 cobraCoach.py:1010 Moving deltaPhi = [-2.96705965 -2.96705963 -2.9670596  -2.96705959 -1.71883189 -2.96705973\n",
      " -2.96705964 -2.96705969 -2.96705964 -1.88389766 -2.9670596  -0.0498779 ]\n",
      "2025-01-17 16:55:16.440Z cobraCoach       20 cobraCoach.py:877 Finished converting angle to steps, sending command to moveSteps (constantOntime).\n",
      "2025-01-17 16:55:16.449Z cobraCoach       20 cobraCoach.py:587 Sending step numbers to FPGA for moving cobra.\n",
      "2025-01-17 16:55:16.452Z cobraCoach       20 cobraCoach.py:601 cobra control FPGA operation done.\n",
      "2025-01-17 16:55:16.514Z pfi              40 pfi.py:896 Some theta angles are out of range\n",
      "2025-01-17 16:55:16.516Z pfi              40 pfi.py:899 Some phi angles are out of range\n",
      "2025-01-17 16:55:16.621Z cobraCoach       30 cobraCoach.py:675 Cobra#1790 is too far from center\n",
      "2025-01-17 16:55:16.622Z pfi              30 pfi.py:475 clipping scale adjustment from 0.29999999510714737 to 0.3\n",
      "2025-01-17 16:55:16.623Z engineer         20 engineer.py:422 Updating the cobra information\n",
      "2025-01-17 16:55:16.626Z engineer         20 engineer.py:412 Sending angles to moveToAngles for 5-th iteration\n",
      "2025-01-17 16:55:16.627Z cobraCoach       30 cobraCoach.py:1003 Last phi angle is unknown, not moving: [1459]\n",
      "2025-01-17 16:55:16.629Z cobraCoach       20 cobraCoach.py:1009 Moving deltaTheta = [-2.17122172e-04 -5.14191722e-04 -6.14804362e-04 -1.01748456e-05\n",
      " -4.10811338e-03 -1.01748456e-05 -1.01748455e-05 -1.01748456e-05\n",
      " -1.03632841e-03  7.85623389e-01 -3.80200480e-04 -1.05065440e-04]\n",
      "2025-01-17 16:55:16.630Z cobraCoach       20 cobraCoach.py:1010 Moving deltaPhi = [-2.96705965 -2.96705963 -2.9670596  -2.96705959 -2.96705962  0.\n",
      " -2.96705964 -2.96705969 -2.96705964 -6.10865247 -2.9670596  -0.0498779 ]\n",
      "2025-01-17 16:55:16.632Z cobraCoach       30 cobraCoach.py:846 Last phi angle is unknown: [1459]\n",
      "2025-01-17 16:55:16.634Z cobraCoach       20 cobraCoach.py:877 Finished converting angle to steps, sending command to moveSteps (constantOntime).\n",
      "2025-01-17 16:55:16.643Z cobraCoach       20 cobraCoach.py:587 Sending step numbers to FPGA for moving cobra.\n",
      "2025-01-17 16:55:16.648Z cobraCoach       20 cobraCoach.py:601 cobra control FPGA operation done.\n",
      "2025-01-17 16:55:16.677Z pfi              40 pfi.py:896 Some theta angles are out of range\n",
      "2025-01-17 16:55:16.678Z pfi              40 pfi.py:899 Some phi angles are out of range\n",
      "2025-01-17 16:55:16.775Z pfi              30 pfi.py:475 clipping scale adjustment from 0.2250489700875823 to 0.3\n",
      "2025-01-17 16:55:16.776Z cobraCoach       30 cobraCoach.py:679 Cobra#1460 is too close to center\n",
      "2025-01-17 16:55:16.777Z pfi              30 pfi.py:475 clipping scale adjustment from 0.2561286605203101 to 0.3\n",
      "2025-01-17 16:55:16.778Z pfi              30 pfi.py:475 clipping scale adjustment from 0.26154231110049525 to 0.3\n",
      "2025-01-17 16:55:16.779Z engineer         20 engineer.py:422 Updating the cobra information\n",
      "2025-01-17 16:55:16.782Z engineer         30 engineer.py:445 12 cobras did not finish: [ 343  442  492  737 1302 1459 1493 1538 1636 1789 1791 1969], [4.67 4.67 4.67 4.67 4.67 0.82 4.67 4.67 4.67 4.2  4.67 0.11]\n",
      "2025-01-17 16:55:16.783Z engineer         20 engineer.py:450 Returning 2394 atThetas and 2394 atPhis\n",
      "2025-01-17 16:55:16.809Z pfi              40 pfi.py:896 Some theta angles are out of range\n",
      "2025-01-17 16:55:16.812Z pfi              40 pfi.py:899 Some phi angles are out of range\n",
      "2025-01-17 16:55:16.913Z pfi              40 pfi.py:896 Some theta angles are out of range\n",
      "2025-01-17 16:55:16.915Z pfi              40 pfi.py:899 Some phi angles are out of range\n",
      "2025-01-17 16:55:16.983Z pfi              40 pfi.py:896 Some theta angles are out of range\n",
      "2025-01-17 16:55:16.985Z pfi              40 pfi.py:899 Some phi angles are out of range\n",
      "2025-01-17 16:55:17.041Z pfi              40 pfi.py:896 Some theta angles are out of range\n",
      "2025-01-17 16:55:17.042Z pfi              40 pfi.py:899 Some phi angles are out of range\n",
      "2025-01-17 16:55:17.091Z pfi              40 pfi.py:896 Some theta angles are out of range\n",
      "2025-01-17 16:55:17.093Z pfi              40 pfi.py:899 Some phi angles are out of range\n",
      "2025-01-17 16:55:17.147Z pfi              40 pfi.py:896 Some theta angles are out of range\n",
      "2025-01-17 16:55:17.150Z pfi              40 pfi.py:899 Some phi angles are out of range\n",
      "2025-01-17 16:55:17.204Z pfi              40 pfi.py:896 Some theta angles are out of range\n",
      "2025-01-17 16:55:17.206Z pfi              40 pfi.py:899 Some phi angles are out of range\n",
      "2025-01-17 16:55:17.262Z pfi              40 pfi.py:896 Some theta angles are out of range\n",
      "2025-01-17 16:55:17.265Z pfi              40 pfi.py:899 Some phi angles are out of range\n",
      "2025-01-17 16:55:17.325Z pfi              40 pfi.py:930 Some theta angles are out of range\n",
      "2025-01-17 16:55:17.386Z pfi              40 pfi.py:930 Some theta angles are out of range\n",
      "2025-01-17 16:55:17.434Z pfi              40 pfi.py:930 Some theta angles are out of range\n",
      "2025-01-17 16:55:17.473Z pfi              40 pfi.py:930 Some theta angles are out of range\n",
      "2025-01-17 16:55:17.511Z pfi              40 pfi.py:930 Some theta angles are out of range\n",
      "2025-01-17 16:55:17.549Z pfi              40 pfi.py:930 Some theta angles are out of range\n",
      "2025-01-17 16:55:17.596Z pfi              40 pfi.py:930 Some theta angles are out of range\n",
      "2025-01-17 16:55:17.633Z pfi              40 pfi.py:930 Some theta angles are out of range\n"
     ]
    },
    {
     "name": "stdout",
     "output_type": "stream",
     "text": [
      "ERROR: detected 17 end point collision, which should be impossible\n",
      "trajectory collisions found: 22\n",
      "Set parameter Presolve to value 1\n"
     ]
    },
    {
     "name": "stderr",
     "output_type": "stream",
     "text": [
      "2025-01-17 16:55:21.883Z gurobipy         20 netflow.py:117 Set parameter Presolve to value 1\n"
     ]
    },
    {
     "name": "stdout",
     "output_type": "stream",
     "text": [
      "Set parameter Method to value 4\n"
     ]
    },
    {
     "name": "stderr",
     "output_type": "stream",
     "text": [
      "2025-01-17 16:55:21.884Z gurobipy         20 netflow.py:117 Set parameter Method to value 4\n"
     ]
    },
    {
     "name": "stdout",
     "output_type": "stream",
     "text": [
      "Set parameter DegenMoves to value 0\n"
     ]
    },
    {
     "name": "stderr",
     "output_type": "stream",
     "text": [
      "2025-01-17 16:55:21.885Z gurobipy         20 netflow.py:117 Set parameter DegenMoves to value 0\n"
     ]
    },
    {
     "name": "stdout",
     "output_type": "stream",
     "text": [
      "Set parameter Heuristics to value 0.8\n"
     ]
    },
    {
     "name": "stderr",
     "output_type": "stream",
     "text": [
      "2025-01-17 16:55:21.887Z gurobipy         20 netflow.py:117 Set parameter Heuristics to value 0.8\n"
     ]
    },
    {
     "name": "stdout",
     "output_type": "stream",
     "text": [
      "Set parameter MIPGap to value 0.05\n"
     ]
    },
    {
     "name": "stderr",
     "output_type": "stream",
     "text": [
      "2025-01-17 16:55:21.889Z gurobipy         20 netflow.py:117 Set parameter MIPGap to value 0.05\n"
     ]
    },
    {
     "name": "stdout",
     "output_type": "stream",
     "text": [
      "Creating network topology\n",
      "  exposure 1\n",
      "Calculating visibilities\n",
      "adding constraints\n",
      "adding collision constraints\n",
      "adding forbidden pair constraints\n",
      "Gurobi Optimizer version 10.0.1 build v10.0.1rc0 (mac64[x86])\n"
     ]
    },
    {
     "name": "stderr",
     "output_type": "stream",
     "text": [
      "2025-01-17 16:55:30.085Z gurobipy         20 netflow.py:149 Gurobi Optimizer version 10.0.1 build v10.0.1rc0 (mac64[x86])\n"
     ]
    },
    {
     "name": "stdout",
     "output_type": "stream",
     "text": [
      "\n"
     ]
    },
    {
     "name": "stderr",
     "output_type": "stream",
     "text": [
      "2025-01-17 16:55:30.086Z gurobipy         20 netflow.py:149 \n"
     ]
    },
    {
     "name": "stdout",
     "output_type": "stream",
     "text": [
      "CPU model: Intel(R) Core(TM) i7-8569U CPU @ 2.80GHz\n"
     ]
    },
    {
     "name": "stderr",
     "output_type": "stream",
     "text": [
      "2025-01-17 16:55:30.087Z gurobipy         20 netflow.py:149 CPU model: Intel(R) Core(TM) i7-8569U CPU @ 2.80GHz\n"
     ]
    },
    {
     "name": "stdout",
     "output_type": "stream",
     "text": [
      "Thread count: 4 physical cores, 8 logical processors, using up to 8 threads\n"
     ]
    },
    {
     "name": "stderr",
     "output_type": "stream",
     "text": [
      "2025-01-17 16:55:30.089Z gurobipy         20 netflow.py:149 Thread count: 4 physical cores, 8 logical processors, using up to 8 threads\n"
     ]
    },
    {
     "name": "stdout",
     "output_type": "stream",
     "text": [
      "\n"
     ]
    },
    {
     "name": "stderr",
     "output_type": "stream",
     "text": [
      "2025-01-17 16:55:30.090Z gurobipy         20 netflow.py:149 \n"
     ]
    },
    {
     "name": "stdout",
     "output_type": "stream",
     "text": [
      "Academic license 2379863 - for non-commercial use only - registered to ji___@ipmu.jp\n"
     ]
    },
    {
     "name": "stderr",
     "output_type": "stream",
     "text": [
      "2025-01-17 16:55:30.093Z gurobipy         20 netflow.py:149 Academic license 2379863 - for non-commercial use only - registered to ji___@ipmu.jp\n"
     ]
    },
    {
     "name": "stdout",
     "output_type": "stream",
     "text": [
      "Optimize a model with 99385 rows, 89861 columns and 271594 nonzeros\n"
     ]
    },
    {
     "name": "stderr",
     "output_type": "stream",
     "text": [
      "2025-01-17 16:55:30.094Z gurobipy         20 netflow.py:149 Optimize a model with 99385 rows, 89861 columns and 271594 nonzeros\n"
     ]
    },
    {
     "name": "stdout",
     "output_type": "stream",
     "text": [
      "Model fingerprint: 0x0f5bfc20\n"
     ]
    },
    {
     "name": "stderr",
     "output_type": "stream",
     "text": [
      "2025-01-17 16:55:30.098Z gurobipy         20 netflow.py:149 Model fingerprint: 0x0f5bfc20\n"
     ]
    },
    {
     "name": "stdout",
     "output_type": "stream",
     "text": [
      "Variable types: 1 continuous, 89860 integer (69113 binary)\n"
     ]
    },
    {
     "name": "stderr",
     "output_type": "stream",
     "text": [
      "2025-01-17 16:55:30.099Z gurobipy         20 netflow.py:149 Variable types: 1 continuous, 89860 integer (69113 binary)\n"
     ]
    },
    {
     "name": "stdout",
     "output_type": "stream",
     "text": [
      "Coefficient statistics:\n"
     ]
    },
    {
     "name": "stderr",
     "output_type": "stream",
     "text": [
      "2025-01-17 16:55:30.103Z gurobipy         20 netflow.py:149 Coefficient statistics:\n"
     ]
    },
    {
     "name": "stdout",
     "output_type": "stream",
     "text": [
      "  Matrix range     [1e+00, 1e+00]\n"
     ]
    },
    {
     "name": "stderr",
     "output_type": "stream",
     "text": [
      "2025-01-17 16:55:30.104Z gurobipy         20 netflow.py:149   Matrix range     [1e+00, 1e+00]\n"
     ]
    },
    {
     "name": "stdout",
     "output_type": "stream",
     "text": [
      "  Objective range  [2e-05, 1e+06]\n"
     ]
    },
    {
     "name": "stderr",
     "output_type": "stream",
     "text": [
      "2025-01-17 16:55:30.106Z gurobipy         20 netflow.py:149   Objective range  [2e-05, 1e+06]\n"
     ]
    },
    {
     "name": "stdout",
     "output_type": "stream",
     "text": [
      "  Bounds range     [1e+00, 1e+00]\n"
     ]
    },
    {
     "name": "stderr",
     "output_type": "stream",
     "text": [
      "2025-01-17 16:55:30.107Z gurobipy         20 netflow.py:149   Bounds range     [1e+00, 1e+00]\n"
     ]
    },
    {
     "name": "stdout",
     "output_type": "stream",
     "text": [
      "  RHS range        [1e+00, 2e+04]\n"
     ]
    },
    {
     "name": "stderr",
     "output_type": "stream",
     "text": [
      "2025-01-17 16:55:30.109Z gurobipy         20 netflow.py:149   RHS range        [1e+00, 2e+04]\n"
     ]
    },
    {
     "name": "stdout",
     "output_type": "stream",
     "text": [
      "Found heuristic solution: objective 4214411.8783\n"
     ]
    },
    {
     "name": "stderr",
     "output_type": "stream",
     "text": [
      "2025-01-17 16:55:30.133Z gurobipy         20 netflow.py:149 Found heuristic solution: objective 4214411.8783\n"
     ]
    },
    {
     "name": "stdout",
     "output_type": "stream",
     "text": [
      "Presolve removed 99385 rows and 89861 columns\n"
     ]
    },
    {
     "name": "stderr",
     "output_type": "stream",
     "text": [
      "2025-01-17 16:55:30.346Z gurobipy         20 netflow.py:149 Presolve removed 99385 rows and 89861 columns\n"
     ]
    },
    {
     "name": "stdout",
     "output_type": "stream",
     "text": [
      "Presolve time: 0.21s\n"
     ]
    },
    {
     "name": "stderr",
     "output_type": "stream",
     "text": [
      "2025-01-17 16:55:30.347Z gurobipy         20 netflow.py:149 Presolve time: 0.21s\n"
     ]
    },
    {
     "name": "stdout",
     "output_type": "stream",
     "text": [
      "Presolve: All rows and columns removed\n"
     ]
    },
    {
     "name": "stderr",
     "output_type": "stream",
     "text": [
      "2025-01-17 16:55:30.353Z gurobipy         20 netflow.py:149 Presolve: All rows and columns removed\n"
     ]
    },
    {
     "name": "stdout",
     "output_type": "stream",
     "text": [
      "\n"
     ]
    },
    {
     "name": "stderr",
     "output_type": "stream",
     "text": [
      "2025-01-17 16:55:30.363Z gurobipy         20 netflow.py:149 \n"
     ]
    },
    {
     "name": "stdout",
     "output_type": "stream",
     "text": [
      "Explored 0 nodes (0 simplex iterations) in 0.27 seconds (0.13 work units)\n"
     ]
    },
    {
     "name": "stderr",
     "output_type": "stream",
     "text": [
      "2025-01-17 16:55:30.365Z gurobipy         20 netflow.py:149 Explored 0 nodes (0 simplex iterations) in 0.27 seconds (0.13 work units)\n"
     ]
    },
    {
     "name": "stdout",
     "output_type": "stream",
     "text": [
      "Thread count was 1 (of 8 available processors)\n"
     ]
    },
    {
     "name": "stderr",
     "output_type": "stream",
     "text": [
      "2025-01-17 16:55:30.366Z gurobipy         20 netflow.py:149 Thread count was 1 (of 8 available processors)\n"
     ]
    },
    {
     "name": "stdout",
     "output_type": "stream",
     "text": [
      "\n"
     ]
    },
    {
     "name": "stderr",
     "output_type": "stream",
     "text": [
      "2025-01-17 16:55:30.368Z gurobipy         20 netflow.py:149 \n"
     ]
    },
    {
     "name": "stdout",
     "output_type": "stream",
     "text": [
      "Solution count 2: 3.84686e+06 4.21441e+06 \n"
     ]
    },
    {
     "name": "stderr",
     "output_type": "stream",
     "text": [
      "2025-01-17 16:55:30.369Z gurobipy         20 netflow.py:149 Solution count 2: 3.84686e+06 4.21441e+06 \n"
     ]
    },
    {
     "name": "stdout",
     "output_type": "stream",
     "text": [
      "\n"
     ]
    },
    {
     "name": "stderr",
     "output_type": "stream",
     "text": [
      "2025-01-17 16:55:30.371Z gurobipy         20 netflow.py:149 \n"
     ]
    },
    {
     "name": "stdout",
     "output_type": "stream",
     "text": [
      "Optimal solution found (tolerance 5.00e-02)\n"
     ]
    },
    {
     "name": "stderr",
     "output_type": "stream",
     "text": [
      "2025-01-17 16:55:30.372Z gurobipy         20 netflow.py:149 Optimal solution found (tolerance 5.00e-02)\n"
     ]
    },
    {
     "name": "stdout",
     "output_type": "stream",
     "text": [
      "Best objective 3.846857596384e+06, best bound 3.846857596384e+06, gap 0.0000%\n"
     ]
    },
    {
     "name": "stderr",
     "output_type": "stream",
     "text": [
      "2025-01-17 16:55:30.376Z gurobipy         20 netflow.py:149 Best objective 3.846857596384e+06, best bound 3.846857596384e+06, gap 0.0000%\n",
      "2025-01-17 16:55:30.515Z pfi              40 pfi.py:896 Some theta angles are out of range\n",
      "2025-01-17 16:55:30.516Z pfi              40 pfi.py:899 Some phi angles are out of range\n"
     ]
    },
    {
     "name": "stdout",
     "output_type": "stream",
     "text": [
      "Checking for trajectory collisions\n"
     ]
    },
    {
     "name": "stderr",
     "output_type": "stream",
     "text": [
      "2025-01-17 16:55:30.628Z pfi              40 pfi.py:899 Some phi angles are out of range\n",
      "2025-01-17 16:55:30.663Z pfi              40 pfi.py:899 Some phi angles are out of range\n",
      "2025-01-17 16:55:30.666Z engineer         20 engineer.py:395 Move theta arms to angle=[ 75.91 333.02 131.97 ... 210.2  360.   224.27] degree\n",
      "2025-01-17 16:55:30.667Z engineer         20 engineer.py:396 Move phi arms to angle=[ 6.62 42.74 10.15 ...  8.33 11.99 14.19] degree\n",
      "2025-01-17 16:55:30.668Z engineer         20 engineer.py:398 Checking passed homed argument = True\n",
      "2025-01-17 16:55:30.669Z engineer         20 engineer.py:402 Move theta arms CW and phi arms CCW to the hard stops\n",
      "2025-01-17 16:55:30.693Z cobraCoach       20 cobraCoach.py:1065 home cobras: theta=10000, phi=-5000\n",
      "2025-01-17 16:55:30.716Z pfi              40 pfi.py:899 Some phi angles are out of range\n",
      "2025-01-17 16:55:30.738Z pfi              40 pfi.py:899 Some phi angles are out of range\n",
      "2025-01-17 16:55:30.740Z engineer         20 engineer.py:412 Sending angles to moveToAngles for 0-th iteration\n",
      "2025-01-17 16:55:30.768Z cobraCoach       20 cobraCoach.py:1009 Moving deltaTheta = [-5.25294989 -0.85284527 -4.33602077 ... -3.02040524 -0.4013664\n",
      " -2.78477536]\n",
      "2025-01-17 16:55:30.770Z cobraCoach       20 cobraCoach.py:1010 Moving deltaPhi = [0.11558998 0.74591546 0.1772055  ... 0.14539386 0.20932294 0.24760745]\n",
      "2025-01-17 16:55:31.031Z cobraCoach       20 cobraCoach.py:877 Finished converting angle to steps, sending command to moveSteps (constantOntime).\n",
      "2025-01-17 16:55:31.650Z cobraCoach       20 cobraCoach.py:587 Sending step numbers to FPGA for moving cobra.\n",
      "2025-01-17 16:55:31.759Z cobraCoach       20 cobraCoach.py:601 cobra control FPGA operation done.\n",
      "2025-01-17 16:55:31.785Z pfi              40 pfi.py:896 Some theta angles are out of range\n",
      "2025-01-17 16:55:31.787Z pfi              40 pfi.py:899 Some phi angles are out of range\n",
      "2025-01-17 16:55:31.887Z cobraCoach       30 cobraCoach.py:675 Cobra#344 is too far from center\n",
      "2025-01-17 16:55:31.889Z cobraCoach       30 cobraCoach.py:675 Cobra#443 is too far from center\n",
      "2025-01-17 16:55:31.891Z cobraCoach       30 cobraCoach.py:675 Cobra#493 is too far from center\n",
      "2025-01-17 16:55:31.910Z cobraCoach       30 cobraCoach.py:675 Cobra#1303 is too far from center\n",
      "2025-01-17 16:55:31.919Z cobraCoach       30 cobraCoach.py:675 Cobra#1637 is too far from center\n",
      "2025-01-17 16:55:31.923Z cobraCoach       30 cobraCoach.py:675 Cobra#1790 is too far from center\n",
      "2025-01-17 16:55:31.925Z cobraCoach       30 cobraCoach.py:675 Cobra#1792 is too far from center\n",
      "2025-01-17 16:55:31.941Z engineer         20 engineer.py:422 Updating the cobra information\n",
      "2025-01-17 16:55:31.944Z engineer         20 engineer.py:436 done: [   0    1    2 ... 2391 2392 2393], 21 left\n",
      "2025-01-17 16:55:31.945Z engineer         20 engineer.py:412 Sending angles to moveToAngles for 1-th iteration\n",
      "2025-01-17 16:55:31.947Z cobraCoach       30 cobraCoach.py:1003 Last phi angle is unknown, not moving: [1459]\n",
      "2025-01-17 16:55:31.948Z cobraCoach       20 cobraCoach.py:1009 Moving deltaTheta = [-1.01748456e-05 -1.01748456e-05 -1.01748456e-05 -2.52731626e+00\n",
      " -1.01748456e-05 -6.78881414e-04 -1.87148445e-03 -2.65016099e-02\n",
      " -1.01748456e-05 -1.01748456e-05 -1.01748455e-05 -1.01748456e-05\n",
      " -1.01748455e-05 -5.29851305e-02 -1.32093872e+00  2.86555532e-04\n",
      " -1.01748456e-05 -1.01748456e-05 -3.50271147e-01 -2.01198950e+00\n",
      "  1.10228624e-03]\n",
      "2025-01-17 16:55:31.950Z cobraCoach       20 cobraCoach.py:1010 Moving deltaPhi = [-6.10865247e+00 -6.10865247e+00 -6.10865247e+00 -7.02523876e-04\n",
      " -2.96705959e+00 -1.80912812e-03 -1.01238450e-03  4.23083895e-02\n",
      " -6.10865247e+00  0.00000000e+00 -2.96705964e+00 -2.96705969e+00\n",
      " -6.10865247e+00  2.15367095e-04  4.48039121e-01  2.15164131e-03\n",
      " -6.10865247e+00 -6.10865247e+00 -6.45651525e-05  2.36550771e-01\n",
      " -4.98778998e-02]\n",
      "2025-01-17 16:55:31.952Z cobraCoach       30 cobraCoach.py:846 Last phi angle is unknown: [1459]\n",
      "2025-01-17 16:55:31.955Z cobraCoach       20 cobraCoach.py:877 Finished converting angle to steps, sending command to moveSteps (constantOntime).\n",
      "2025-01-17 16:55:31.964Z cobraCoach       20 cobraCoach.py:587 Sending step numbers to FPGA for moving cobra.\n",
      "2025-01-17 16:55:31.967Z cobraCoach       20 cobraCoach.py:601 cobra control FPGA operation done.\n",
      "2025-01-17 16:55:31.994Z pfi              40 pfi.py:896 Some theta angles are out of range\n",
      "2025-01-17 16:55:31.995Z pfi              40 pfi.py:899 Some phi angles are out of range\n",
      "2025-01-17 16:55:32.092Z cobraCoach       30 cobraCoach.py:675 Cobra#344 is too far from center\n",
      "2025-01-17 16:55:32.093Z cobraCoach       30 cobraCoach.py:679 Cobra#1460 is too close to center\n",
      "2025-01-17 16:55:32.094Z cobraCoach       30 cobraCoach.py:675 Cobra#1637 is too far from center\n",
      "2025-01-17 16:55:32.095Z cobraCoach       30 cobraCoach.py:675 Cobra#1790 is too far from center\n",
      "2025-01-17 16:55:32.096Z engineer         20 engineer.py:422 Updating the cobra information\n",
      "2025-01-17 16:55:32.099Z engineer         20 engineer.py:436 done: [ 683 1055 1200 1276 1667 1729 1782 1929 1956], 12 left\n",
      "2025-01-17 16:55:32.101Z engineer         30 engineer.py:445 12 cobras did not finish: [ 343  442  492  737 1302 1459 1493 1538 1636 1789 1791 1969], [4.67 4.67 4.67 4.67 4.67 0.82 4.67 4.67 4.67 4.67 4.67 0.11]\n",
      "2025-01-17 16:55:32.101Z engineer         20 engineer.py:450 Returning 2394 atThetas and 2394 atPhis\n",
      "2025-01-17 16:55:32.126Z pfi              40 pfi.py:899 Some phi angles are out of range\n",
      "2025-01-17 16:55:32.128Z engineer         20 engineer.py:395 Move theta arms to angle=[ 75.91 333.02 131.97 ... 210.2  360.   224.27] degree\n",
      "2025-01-17 16:55:32.130Z engineer         20 engineer.py:396 Move phi arms to angle=[ 6.62 42.74 10.15 ...  8.33 11.99 14.19] degree\n",
      "2025-01-17 16:55:32.131Z engineer         20 engineer.py:398 Checking passed homed argument = False\n",
      "2025-01-17 16:55:32.132Z engineer         20 engineer.py:412 Sending angles to moveToAngles for 0-th iteration\n",
      "2025-01-17 16:55:32.158Z cobraCoach       20 cobraCoach.py:1009 Moving deltaTheta = [ 0.0007928  -0.00028284  0.00117177 ...  0.00017839  0.00038417\n",
      " -0.00096284]\n",
      "2025-01-17 16:55:32.159Z cobraCoach       20 cobraCoach.py:1010 Moving deltaPhi = [-0.00012803 -0.00109006 -0.00103967 ...  0.00054019 -0.00083972\n",
      " -0.00047282]\n",
      "2025-01-17 16:55:32.351Z cobraCoach       20 cobraCoach.py:877 Finished converting angle to steps, sending command to moveSteps (constantOntime).\n",
      "2025-01-17 16:55:32.608Z cobraCoach       20 cobraCoach.py:587 Sending step numbers to FPGA for moving cobra.\n",
      "2025-01-17 16:55:32.725Z cobraCoach       20 cobraCoach.py:601 cobra control FPGA operation done.\n",
      "2025-01-17 16:55:32.752Z pfi              40 pfi.py:896 Some theta angles are out of range\n",
      "2025-01-17 16:55:32.754Z pfi              40 pfi.py:899 Some phi angles are out of range\n",
      "2025-01-17 16:55:32.897Z cobraCoach       30 cobraCoach.py:675 Cobra#1303 is too far from center\n",
      "2025-01-17 16:55:32.908Z cobraCoach       30 cobraCoach.py:675 Cobra#1790 is too far from center\n",
      "2025-01-17 16:55:32.923Z engineer         20 engineer.py:422 Updating the cobra information\n",
      "2025-01-17 16:55:32.925Z engineer         20 engineer.py:436 done: [   0    1    2 ... 2391 2392 2393], 14 left\n",
      "2025-01-17 16:55:32.926Z engineer         20 engineer.py:412 Sending angles to moveToAngles for 1-th iteration\n",
      "2025-01-17 16:55:32.928Z cobraCoach       30 cobraCoach.py:1003 Last phi angle is unknown, not moving: [1459]\n",
      "2025-01-17 16:55:32.929Z cobraCoach       20 cobraCoach.py:1009 Moving deltaTheta = [-1.94233989e-04 -5.14191722e-04 -6.14804362e-04 -1.01748456e-05\n",
      "  2.69975771e-06 -1.01748456e-05 -1.01748455e-05 -1.01748456e-05\n",
      " -1.03632841e-03 -6.68898607e-02 -1.01748456e-05 -3.80200480e-04\n",
      " -1.05065440e-04 -7.24306932e-04]\n",
      "2025-01-17 16:55:32.930Z cobraCoach       20 cobraCoach.py:1010 Moving deltaPhi = [-2.96687409e+00 -2.96705963e+00 -2.96705960e+00 -2.96705959e+00\n",
      " -6.10865247e+00  0.00000000e+00 -2.96705964e+00 -2.96705969e+00\n",
      " -2.96602327e+00  5.88029203e-01 -6.10865247e+00 -2.96705960e+00\n",
      " -4.98778998e-02 -1.24785700e-03]\n",
      "2025-01-17 16:55:32.933Z cobraCoach       30 cobraCoach.py:846 Last phi angle is unknown: [1459]\n",
      "2025-01-17 16:55:32.935Z cobraCoach       20 cobraCoach.py:877 Finished converting angle to steps, sending command to moveSteps (constantOntime).\n",
      "2025-01-17 16:55:32.940Z cobraCoach       20 cobraCoach.py:587 Sending step numbers to FPGA for moving cobra.\n",
      "2025-01-17 16:55:32.942Z cobraCoach       20 cobraCoach.py:601 cobra control FPGA operation done.\n",
      "2025-01-17 16:55:32.966Z pfi              40 pfi.py:896 Some theta angles are out of range\n",
      "2025-01-17 16:55:32.967Z pfi              40 pfi.py:899 Some phi angles are out of range\n",
      "2025-01-17 16:55:33.065Z cobraCoach       30 cobraCoach.py:675 Cobra#344 is too far from center\n",
      "2025-01-17 16:55:33.066Z pfi              30 pfi.py:475 clipping scale adjustment from 0.2573481031895782 to 0.3\n",
      "2025-01-17 16:55:33.067Z cobraCoach       30 cobraCoach.py:679 Cobra#1460 is too close to center\n",
      "2025-01-17 16:55:33.068Z pfi              30 pfi.py:475 clipping scale adjustment from 0.26154231110049525 to 0.3\n",
      "2025-01-17 16:55:33.069Z engineer         20 engineer.py:422 Updating the cobra information\n",
      "2025-01-17 16:55:33.072Z engineer         20 engineer.py:436 done: [1729 2153], 12 left\n",
      "2025-01-17 16:55:33.073Z engineer         20 engineer.py:412 Sending angles to moveToAngles for 2-th iteration\n",
      "2025-01-17 16:55:33.075Z cobraCoach       20 cobraCoach.py:1009 Moving deltaTheta = [-1.94233989e-04 -5.14191722e-04 -6.14804362e-04 -1.01748456e-05\n",
      " -1.09852569e+00 -1.01748456e-05 -1.01748455e-05 -1.01748456e-05\n",
      " -1.03632841e-03 -1.07143418e+00 -3.80200480e-04 -1.05065440e-04]\n",
      "2025-01-17 16:55:33.076Z cobraCoach       20 cobraCoach.py:1010 Moving deltaPhi = [-6.10865247 -2.96705963 -2.9670596  -2.96705959 -1.71883189 -2.96705973\n",
      " -2.96705964 -2.96705969 -2.96705964 -1.88389766 -2.9670596  -0.0498779 ]\n",
      "2025-01-17 16:55:33.079Z cobraCoach       20 cobraCoach.py:877 Finished converting angle to steps, sending command to moveSteps (constantOntime).\n",
      "2025-01-17 16:55:33.083Z cobraCoach       20 cobraCoach.py:587 Sending step numbers to FPGA for moving cobra.\n",
      "2025-01-17 16:55:33.085Z cobraCoach       20 cobraCoach.py:601 cobra control FPGA operation done.\n",
      "2025-01-17 16:55:33.108Z pfi              40 pfi.py:896 Some theta angles are out of range\n",
      "2025-01-17 16:55:33.109Z pfi              40 pfi.py:899 Some phi angles are out of range\n",
      "2025-01-17 16:55:33.207Z pfi              30 pfi.py:475 clipping scale adjustment from 0.2859424141191533 to 0.3\n",
      "2025-01-17 16:55:33.209Z cobraCoach       30 cobraCoach.py:675 Cobra#1303 is too far from center\n",
      "2025-01-17 16:55:33.210Z pfi              30 pfi.py:475 clipping scale adjustment from 0.29999999904403885 to 0.3\n",
      "2025-01-17 16:55:33.211Z cobraCoach       30 cobraCoach.py:675 Cobra#1790 is too far from center\n",
      "2025-01-17 16:55:33.213Z engineer         20 engineer.py:422 Updating the cobra information\n",
      "2025-01-17 16:55:33.216Z engineer         20 engineer.py:412 Sending angles to moveToAngles for 3-th iteration\n",
      "2025-01-17 16:55:33.217Z cobraCoach       30 cobraCoach.py:1003 Last phi angle is unknown, not moving: [1459]\n",
      "2025-01-17 16:55:33.219Z cobraCoach       20 cobraCoach.py:1009 Moving deltaTheta = [-3.21863813e-01 -5.14191722e-04 -6.14804362e-04 -1.01748456e-05\n",
      " -6.82685060e-01 -1.01748456e-05 -1.01748455e-05 -1.01748456e-05\n",
      " -1.03632841e-03 -3.25590772e-01 -3.80200480e-04 -1.05065440e-04]\n",
      "2025-01-17 16:55:33.220Z cobraCoach       20 cobraCoach.py:1010 Moving deltaPhi = [-2.64219266 -2.96705963 -2.9670596  -2.96705959 -6.10865247  0.\n",
      " -2.96705964 -2.96705969 -2.96705964 -6.10865247 -2.9670596  -0.0498779 ]\n",
      "2025-01-17 16:55:33.222Z cobraCoach       30 cobraCoach.py:846 Last phi angle is unknown: [1459]\n",
      "2025-01-17 16:55:33.225Z cobraCoach       20 cobraCoach.py:877 Finished converting angle to steps, sending command to moveSteps (constantOntime).\n",
      "2025-01-17 16:55:33.233Z cobraCoach       20 cobraCoach.py:587 Sending step numbers to FPGA for moving cobra.\n",
      "2025-01-17 16:55:33.235Z cobraCoach       20 cobraCoach.py:601 cobra control FPGA operation done.\n",
      "2025-01-17 16:55:33.266Z pfi              40 pfi.py:896 Some theta angles are out of range\n",
      "2025-01-17 16:55:33.268Z pfi              40 pfi.py:899 Some phi angles are out of range\n",
      "2025-01-17 16:55:33.368Z pfi              30 pfi.py:475 clipping scale adjustment from 0.22521650184055392 to 0.3\n",
      "2025-01-17 16:55:33.369Z pfi              30 pfi.py:475 clipping scale adjustment from 0.2573481031895782 to 0.3\n",
      "2025-01-17 16:55:33.370Z cobraCoach       30 cobraCoach.py:679 Cobra#1460 is too close to center\n",
      "2025-01-17 16:55:33.371Z pfi              30 pfi.py:475 clipping scale adjustment from 0.22664453700152026 to 0.3\n",
      "2025-01-17 16:55:33.372Z pfi              30 pfi.py:475 clipping scale adjustment from 0.26154231110049525 to 0.3\n",
      "2025-01-17 16:55:33.373Z engineer         20 engineer.py:422 Updating the cobra information\n",
      "2025-01-17 16:55:33.376Z engineer         20 engineer.py:412 Sending angles to moveToAngles for 4-th iteration\n",
      "2025-01-17 16:55:33.378Z cobraCoach       20 cobraCoach.py:1009 Moving deltaTheta = [-2.17122172e-04 -5.14191722e-04 -6.14804362e-04 -1.01748456e-05\n",
      "  4.51698156e+00 -1.01748456e-05 -1.01748455e-05 -1.01748456e-05\n",
      " -1.03632841e-03  5.00301130e+00 -3.80200480e-04 -1.05065440e-04]\n",
      "2025-01-17 16:55:33.379Z cobraCoach       20 cobraCoach.py:1010 Moving deltaPhi = [-2.96705965 -2.96705963 -2.9670596  -2.96705959 -1.71883189 -2.96705973\n",
      " -2.96705964 -2.96705969 -2.96705964 -1.88389766 -2.9670596  -0.0498779 ]\n",
      "2025-01-17 16:55:33.383Z cobraCoach       20 cobraCoach.py:877 Finished converting angle to steps, sending command to moveSteps (constantOntime).\n",
      "2025-01-17 16:55:33.389Z cobraCoach       20 cobraCoach.py:587 Sending step numbers to FPGA for moving cobra.\n",
      "2025-01-17 16:55:33.392Z cobraCoach       20 cobraCoach.py:601 cobra control FPGA operation done.\n",
      "2025-01-17 16:55:33.416Z pfi              40 pfi.py:896 Some theta angles are out of range\n",
      "2025-01-17 16:55:33.417Z pfi              40 pfi.py:899 Some phi angles are out of range\n",
      "2025-01-17 16:55:33.513Z cobraCoach       30 cobraCoach.py:675 Cobra#1790 is too far from center\n",
      "2025-01-17 16:55:33.514Z pfi              30 pfi.py:475 clipping scale adjustment from 0.29999999510714737 to 0.3\n",
      "2025-01-17 16:55:33.515Z engineer         20 engineer.py:422 Updating the cobra information\n",
      "2025-01-17 16:55:33.518Z engineer         20 engineer.py:412 Sending angles to moveToAngles for 5-th iteration\n",
      "2025-01-17 16:55:33.519Z cobraCoach       30 cobraCoach.py:1003 Last phi angle is unknown, not moving: [1459]\n",
      "2025-01-17 16:55:33.520Z cobraCoach       20 cobraCoach.py:1009 Moving deltaTheta = [-2.17122172e-04 -5.14191722e-04 -6.14804362e-04 -1.01748456e-05\n",
      " -4.10811338e-03 -1.01748456e-05 -1.01748455e-05 -1.01748456e-05\n",
      " -1.03632841e-03  7.85623389e-01 -3.80200480e-04 -1.05065440e-04]\n",
      "2025-01-17 16:55:33.521Z cobraCoach       20 cobraCoach.py:1010 Moving deltaPhi = [-2.96705965 -2.96705963 -2.9670596  -2.96705959 -2.96705962  0.\n",
      " -2.96705964 -2.96705969 -2.96705964 -6.10865247 -2.9670596  -0.0498779 ]\n",
      "2025-01-17 16:55:33.522Z cobraCoach       30 cobraCoach.py:846 Last phi angle is unknown: [1459]\n",
      "2025-01-17 16:55:33.524Z cobraCoach       20 cobraCoach.py:877 Finished converting angle to steps, sending command to moveSteps (constantOntime).\n",
      "2025-01-17 16:55:33.531Z cobraCoach       20 cobraCoach.py:587 Sending step numbers to FPGA for moving cobra.\n",
      "2025-01-17 16:55:33.533Z cobraCoach       20 cobraCoach.py:601 cobra control FPGA operation done.\n",
      "2025-01-17 16:55:33.556Z pfi              40 pfi.py:896 Some theta angles are out of range\n",
      "2025-01-17 16:55:33.557Z pfi              40 pfi.py:899 Some phi angles are out of range\n",
      "2025-01-17 16:55:33.648Z pfi              30 pfi.py:475 clipping scale adjustment from 0.2250489700875823 to 0.3\n",
      "2025-01-17 16:55:33.649Z cobraCoach       30 cobraCoach.py:679 Cobra#1460 is too close to center\n",
      "2025-01-17 16:55:33.650Z pfi              30 pfi.py:475 clipping scale adjustment from 0.2561286605203101 to 0.3\n",
      "2025-01-17 16:55:33.651Z pfi              30 pfi.py:475 clipping scale adjustment from 0.26154231110049525 to 0.3\n",
      "2025-01-17 16:55:33.652Z engineer         20 engineer.py:422 Updating the cobra information\n",
      "2025-01-17 16:55:33.655Z engineer         30 engineer.py:445 12 cobras did not finish: [ 343  442  492  737 1302 1459 1493 1538 1636 1789 1791 1969], [4.67 4.67 4.67 4.67 4.67 0.82 4.67 4.67 4.67 4.2  4.67 0.11]\n",
      "2025-01-17 16:55:33.655Z engineer         20 engineer.py:450 Returning 2394 atThetas and 2394 atPhis\n",
      "2025-01-17 16:55:33.680Z pfi              40 pfi.py:896 Some theta angles are out of range\n",
      "2025-01-17 16:55:33.682Z pfi              40 pfi.py:899 Some phi angles are out of range\n",
      "2025-01-17 16:55:33.770Z pfi              40 pfi.py:896 Some theta angles are out of range\n",
      "2025-01-17 16:55:33.772Z pfi              40 pfi.py:899 Some phi angles are out of range\n",
      "2025-01-17 16:55:33.838Z pfi              40 pfi.py:896 Some theta angles are out of range\n",
      "2025-01-17 16:55:33.839Z pfi              40 pfi.py:899 Some phi angles are out of range\n",
      "2025-01-17 16:55:33.885Z pfi              40 pfi.py:896 Some theta angles are out of range\n",
      "2025-01-17 16:55:33.887Z pfi              40 pfi.py:899 Some phi angles are out of range\n",
      "2025-01-17 16:55:33.933Z pfi              40 pfi.py:896 Some theta angles are out of range\n",
      "2025-01-17 16:55:33.934Z pfi              40 pfi.py:899 Some phi angles are out of range\n",
      "2025-01-17 16:55:33.981Z pfi              40 pfi.py:896 Some theta angles are out of range\n",
      "2025-01-17 16:55:33.982Z pfi              40 pfi.py:899 Some phi angles are out of range\n",
      "2025-01-17 16:55:34.032Z pfi              40 pfi.py:896 Some theta angles are out of range\n",
      "2025-01-17 16:55:34.033Z pfi              40 pfi.py:899 Some phi angles are out of range\n",
      "2025-01-17 16:55:34.082Z pfi              40 pfi.py:896 Some theta angles are out of range\n",
      "2025-01-17 16:55:34.084Z pfi              40 pfi.py:899 Some phi angles are out of range\n",
      "2025-01-17 16:55:34.130Z pfi              40 pfi.py:930 Some theta angles are out of range\n",
      "2025-01-17 16:55:34.185Z pfi              40 pfi.py:930 Some theta angles are out of range\n",
      "2025-01-17 16:55:34.233Z pfi              40 pfi.py:930 Some theta angles are out of range\n",
      "2025-01-17 16:55:34.271Z pfi              40 pfi.py:930 Some theta angles are out of range\n",
      "2025-01-17 16:55:34.312Z pfi              40 pfi.py:930 Some theta angles are out of range\n",
      "2025-01-17 16:55:34.352Z pfi              40 pfi.py:930 Some theta angles are out of range\n",
      "2025-01-17 16:55:34.392Z pfi              40 pfi.py:930 Some theta angles are out of range\n",
      "2025-01-17 16:55:34.427Z pfi              40 pfi.py:930 Some theta angles are out of range\n"
     ]
    },
    {
     "name": "stdout",
     "output_type": "stream",
     "text": [
      "ERROR: detected 11 end point collision, which should be impossible\n",
      "trajectory collisions found: 17\n",
      "Set parameter Presolve to value 1\n"
     ]
    },
    {
     "name": "stderr",
     "output_type": "stream",
     "text": [
      "2025-01-17 16:55:38.448Z gurobipy         20 netflow.py:117 Set parameter Presolve to value 1\n"
     ]
    },
    {
     "name": "stdout",
     "output_type": "stream",
     "text": [
      "Set parameter Method to value 4\n"
     ]
    },
    {
     "name": "stderr",
     "output_type": "stream",
     "text": [
      "2025-01-17 16:55:38.449Z gurobipy         20 netflow.py:117 Set parameter Method to value 4\n"
     ]
    },
    {
     "name": "stdout",
     "output_type": "stream",
     "text": [
      "Set parameter DegenMoves to value 0\n"
     ]
    },
    {
     "name": "stderr",
     "output_type": "stream",
     "text": [
      "2025-01-17 16:55:38.450Z gurobipy         20 netflow.py:117 Set parameter DegenMoves to value 0\n"
     ]
    },
    {
     "name": "stdout",
     "output_type": "stream",
     "text": [
      "Set parameter Heuristics to value 0.8\n"
     ]
    },
    {
     "name": "stderr",
     "output_type": "stream",
     "text": [
      "2025-01-17 16:55:38.452Z gurobipy         20 netflow.py:117 Set parameter Heuristics to value 0.8\n"
     ]
    },
    {
     "name": "stdout",
     "output_type": "stream",
     "text": [
      "Set parameter MIPGap to value 0.05\n"
     ]
    },
    {
     "name": "stderr",
     "output_type": "stream",
     "text": [
      "2025-01-17 16:55:38.454Z gurobipy         20 netflow.py:117 Set parameter MIPGap to value 0.05\n"
     ]
    },
    {
     "name": "stdout",
     "output_type": "stream",
     "text": [
      "Creating network topology\n",
      "  exposure 1\n",
      "Calculating visibilities\n",
      "adding constraints\n",
      "adding collision constraints\n",
      "adding forbidden pair constraints\n",
      "Gurobi Optimizer version 10.0.1 build v10.0.1rc0 (mac64[x86])\n"
     ]
    },
    {
     "name": "stderr",
     "output_type": "stream",
     "text": [
      "2025-01-17 16:55:45.902Z gurobipy         20 netflow.py:149 Gurobi Optimizer version 10.0.1 build v10.0.1rc0 (mac64[x86])\n"
     ]
    },
    {
     "name": "stdout",
     "output_type": "stream",
     "text": [
      "\n"
     ]
    },
    {
     "name": "stderr",
     "output_type": "stream",
     "text": [
      "2025-01-17 16:55:45.903Z gurobipy         20 netflow.py:149 \n"
     ]
    },
    {
     "name": "stdout",
     "output_type": "stream",
     "text": [
      "CPU model: Intel(R) Core(TM) i7-8569U CPU @ 2.80GHz\n"
     ]
    },
    {
     "name": "stderr",
     "output_type": "stream",
     "text": [
      "2025-01-17 16:55:45.904Z gurobipy         20 netflow.py:149 CPU model: Intel(R) Core(TM) i7-8569U CPU @ 2.80GHz\n"
     ]
    },
    {
     "name": "stdout",
     "output_type": "stream",
     "text": [
      "Thread count: 4 physical cores, 8 logical processors, using up to 8 threads\n"
     ]
    },
    {
     "name": "stderr",
     "output_type": "stream",
     "text": [
      "2025-01-17 16:55:45.905Z gurobipy         20 netflow.py:149 Thread count: 4 physical cores, 8 logical processors, using up to 8 threads\n"
     ]
    },
    {
     "name": "stdout",
     "output_type": "stream",
     "text": [
      "\n"
     ]
    },
    {
     "name": "stderr",
     "output_type": "stream",
     "text": [
      "2025-01-17 16:55:45.907Z gurobipy         20 netflow.py:149 \n"
     ]
    },
    {
     "name": "stdout",
     "output_type": "stream",
     "text": [
      "Academic license 2379863 - for non-commercial use only - registered to ji___@ipmu.jp\n"
     ]
    },
    {
     "name": "stderr",
     "output_type": "stream",
     "text": [
      "2025-01-17 16:55:45.909Z gurobipy         20 netflow.py:149 Academic license 2379863 - for non-commercial use only - registered to ji___@ipmu.jp\n"
     ]
    },
    {
     "name": "stdout",
     "output_type": "stream",
     "text": [
      "Optimize a model with 99402 rows, 89861 columns and 271618 nonzeros\n"
     ]
    },
    {
     "name": "stderr",
     "output_type": "stream",
     "text": [
      "2025-01-17 16:55:45.910Z gurobipy         20 netflow.py:149 Optimize a model with 99402 rows, 89861 columns and 271618 nonzeros\n"
     ]
    },
    {
     "name": "stdout",
     "output_type": "stream",
     "text": [
      "Model fingerprint: 0x4a0f778e\n"
     ]
    },
    {
     "name": "stderr",
     "output_type": "stream",
     "text": [
      "2025-01-17 16:55:45.914Z gurobipy         20 netflow.py:149 Model fingerprint: 0x4a0f778e\n"
     ]
    },
    {
     "name": "stdout",
     "output_type": "stream",
     "text": [
      "Variable types: 1 continuous, 89860 integer (69113 binary)\n"
     ]
    },
    {
     "name": "stderr",
     "output_type": "stream",
     "text": [
      "2025-01-17 16:55:45.916Z gurobipy         20 netflow.py:149 Variable types: 1 continuous, 89860 integer (69113 binary)\n"
     ]
    },
    {
     "name": "stdout",
     "output_type": "stream",
     "text": [
      "Coefficient statistics:\n"
     ]
    },
    {
     "name": "stderr",
     "output_type": "stream",
     "text": [
      "2025-01-17 16:55:45.919Z gurobipy         20 netflow.py:149 Coefficient statistics:\n"
     ]
    },
    {
     "name": "stdout",
     "output_type": "stream",
     "text": [
      "  Matrix range     [1e+00, 1e+00]\n"
     ]
    },
    {
     "name": "stderr",
     "output_type": "stream",
     "text": [
      "2025-01-17 16:55:45.921Z gurobipy         20 netflow.py:149   Matrix range     [1e+00, 1e+00]\n"
     ]
    },
    {
     "name": "stdout",
     "output_type": "stream",
     "text": [
      "  Objective range  [2e-05, 1e+06]\n"
     ]
    },
    {
     "name": "stderr",
     "output_type": "stream",
     "text": [
      "2025-01-17 16:55:45.922Z gurobipy         20 netflow.py:149   Objective range  [2e-05, 1e+06]\n"
     ]
    },
    {
     "name": "stdout",
     "output_type": "stream",
     "text": [
      "  Bounds range     [1e+00, 1e+00]\n"
     ]
    },
    {
     "name": "stderr",
     "output_type": "stream",
     "text": [
      "2025-01-17 16:55:45.924Z gurobipy         20 netflow.py:149   Bounds range     [1e+00, 1e+00]\n"
     ]
    },
    {
     "name": "stdout",
     "output_type": "stream",
     "text": [
      "  RHS range        [1e+00, 2e+04]\n"
     ]
    },
    {
     "name": "stderr",
     "output_type": "stream",
     "text": [
      "2025-01-17 16:55:45.925Z gurobipy         20 netflow.py:149   RHS range        [1e+00, 2e+04]\n"
     ]
    },
    {
     "name": "stdout",
     "output_type": "stream",
     "text": [
      "Found heuristic solution: objective 4214411.8783\n"
     ]
    },
    {
     "name": "stderr",
     "output_type": "stream",
     "text": [
      "2025-01-17 16:55:45.951Z gurobipy         20 netflow.py:149 Found heuristic solution: objective 4214411.8783\n"
     ]
    },
    {
     "name": "stdout",
     "output_type": "stream",
     "text": [
      "Presolve removed 99402 rows and 89861 columns\n"
     ]
    },
    {
     "name": "stderr",
     "output_type": "stream",
     "text": [
      "2025-01-17 16:55:46.164Z gurobipy         20 netflow.py:149 Presolve removed 99402 rows and 89861 columns\n"
     ]
    },
    {
     "name": "stdout",
     "output_type": "stream",
     "text": [
      "Presolve time: 0.21s\n"
     ]
    },
    {
     "name": "stderr",
     "output_type": "stream",
     "text": [
      "2025-01-17 16:55:46.165Z gurobipy         20 netflow.py:149 Presolve time: 0.21s\n"
     ]
    },
    {
     "name": "stdout",
     "output_type": "stream",
     "text": [
      "Presolve: All rows and columns removed\n"
     ]
    },
    {
     "name": "stderr",
     "output_type": "stream",
     "text": [
      "2025-01-17 16:55:46.170Z gurobipy         20 netflow.py:149 Presolve: All rows and columns removed\n"
     ]
    },
    {
     "name": "stdout",
     "output_type": "stream",
     "text": [
      "\n"
     ]
    },
    {
     "name": "stderr",
     "output_type": "stream",
     "text": [
      "2025-01-17 16:55:46.180Z gurobipy         20 netflow.py:149 \n"
     ]
    },
    {
     "name": "stdout",
     "output_type": "stream",
     "text": [
      "Explored 0 nodes (0 simplex iterations) in 0.27 seconds (0.13 work units)\n"
     ]
    },
    {
     "name": "stderr",
     "output_type": "stream",
     "text": [
      "2025-01-17 16:55:46.182Z gurobipy         20 netflow.py:149 Explored 0 nodes (0 simplex iterations) in 0.27 seconds (0.13 work units)\n"
     ]
    },
    {
     "name": "stdout",
     "output_type": "stream",
     "text": [
      "Thread count was 1 (of 8 available processors)\n"
     ]
    },
    {
     "name": "stderr",
     "output_type": "stream",
     "text": [
      "2025-01-17 16:55:46.183Z gurobipy         20 netflow.py:149 Thread count was 1 (of 8 available processors)\n"
     ]
    },
    {
     "name": "stdout",
     "output_type": "stream",
     "text": [
      "\n"
     ]
    },
    {
     "name": "stderr",
     "output_type": "stream",
     "text": [
      "2025-01-17 16:55:46.184Z gurobipy         20 netflow.py:149 \n"
     ]
    },
    {
     "name": "stdout",
     "output_type": "stream",
     "text": [
      "Solution count 2: 3.84686e+06 4.21441e+06 \n"
     ]
    },
    {
     "name": "stderr",
     "output_type": "stream",
     "text": [
      "2025-01-17 16:55:46.186Z gurobipy         20 netflow.py:149 Solution count 2: 3.84686e+06 4.21441e+06 \n"
     ]
    },
    {
     "name": "stdout",
     "output_type": "stream",
     "text": [
      "\n"
     ]
    },
    {
     "name": "stderr",
     "output_type": "stream",
     "text": [
      "2025-01-17 16:55:46.187Z gurobipy         20 netflow.py:149 \n"
     ]
    },
    {
     "name": "stdout",
     "output_type": "stream",
     "text": [
      "Optimal solution found (tolerance 5.00e-02)\n"
     ]
    },
    {
     "name": "stderr",
     "output_type": "stream",
     "text": [
      "2025-01-17 16:55:46.188Z gurobipy         20 netflow.py:149 Optimal solution found (tolerance 5.00e-02)\n"
     ]
    },
    {
     "name": "stdout",
     "output_type": "stream",
     "text": [
      "Best objective 3.846857708394e+06, best bound 3.846857708394e+06, gap 0.0000%\n"
     ]
    },
    {
     "name": "stderr",
     "output_type": "stream",
     "text": [
      "2025-01-17 16:55:46.192Z gurobipy         20 netflow.py:149 Best objective 3.846857708394e+06, best bound 3.846857708394e+06, gap 0.0000%\n",
      "2025-01-17 16:55:46.343Z pfi              40 pfi.py:896 Some theta angles are out of range\n",
      "2025-01-17 16:55:46.344Z pfi              40 pfi.py:899 Some phi angles are out of range\n"
     ]
    },
    {
     "name": "stdout",
     "output_type": "stream",
     "text": [
      "Checking for trajectory collisions\n"
     ]
    },
    {
     "name": "stderr",
     "output_type": "stream",
     "text": [
      "2025-01-17 16:55:46.458Z pfi              40 pfi.py:899 Some phi angles are out of range\n",
      "2025-01-17 16:55:46.492Z pfi              40 pfi.py:899 Some phi angles are out of range\n",
      "2025-01-17 16:55:46.495Z engineer         20 engineer.py:395 Move theta arms to angle=[ 75.91 333.02 131.97 ... 210.2  360.   224.27] degree\n",
      "2025-01-17 16:55:46.496Z engineer         20 engineer.py:396 Move phi arms to angle=[ 6.62 42.74 10.15 ...  8.33 11.99 14.19] degree\n",
      "2025-01-17 16:55:46.497Z engineer         20 engineer.py:398 Checking passed homed argument = True\n",
      "2025-01-17 16:55:46.497Z engineer         20 engineer.py:402 Move theta arms CW and phi arms CCW to the hard stops\n",
      "2025-01-17 16:55:46.523Z cobraCoach       20 cobraCoach.py:1065 home cobras: theta=10000, phi=-5000\n",
      "2025-01-17 16:55:46.546Z pfi              40 pfi.py:899 Some phi angles are out of range\n",
      "2025-01-17 16:55:46.568Z pfi              40 pfi.py:899 Some phi angles are out of range\n",
      "2025-01-17 16:55:46.570Z engineer         20 engineer.py:412 Sending angles to moveToAngles for 0-th iteration\n",
      "2025-01-17 16:55:46.592Z cobraCoach       20 cobraCoach.py:1009 Moving deltaTheta = [-5.25294989 -0.85284527 -4.33602077 ... -3.02040524 -0.4013664\n",
      " -2.78477536]\n",
      "2025-01-17 16:55:46.593Z cobraCoach       20 cobraCoach.py:1010 Moving deltaPhi = [0.11558998 0.74591546 0.1772055  ... 0.14539386 0.20932294 0.24760745]\n",
      "2025-01-17 16:55:46.839Z cobraCoach       20 cobraCoach.py:877 Finished converting angle to steps, sending command to moveSteps (constantOntime).\n",
      "2025-01-17 16:55:47.445Z cobraCoach       20 cobraCoach.py:587 Sending step numbers to FPGA for moving cobra.\n",
      "2025-01-17 16:55:47.548Z cobraCoach       20 cobraCoach.py:601 cobra control FPGA operation done.\n",
      "2025-01-17 16:55:47.572Z pfi              40 pfi.py:896 Some theta angles are out of range\n",
      "2025-01-17 16:55:47.573Z pfi              40 pfi.py:899 Some phi angles are out of range\n",
      "2025-01-17 16:55:47.670Z cobraCoach       30 cobraCoach.py:675 Cobra#344 is too far from center\n",
      "2025-01-17 16:55:47.673Z cobraCoach       30 cobraCoach.py:675 Cobra#443 is too far from center\n",
      "2025-01-17 16:55:47.675Z cobraCoach       30 cobraCoach.py:675 Cobra#493 is too far from center\n",
      "2025-01-17 16:55:47.694Z cobraCoach       30 cobraCoach.py:675 Cobra#1303 is too far from center\n",
      "2025-01-17 16:55:47.702Z cobraCoach       30 cobraCoach.py:675 Cobra#1637 is too far from center\n",
      "2025-01-17 16:55:47.706Z cobraCoach       30 cobraCoach.py:675 Cobra#1790 is too far from center\n",
      "2025-01-17 16:55:47.707Z cobraCoach       30 cobraCoach.py:675 Cobra#1792 is too far from center\n",
      "2025-01-17 16:55:47.723Z engineer         20 engineer.py:422 Updating the cobra information\n",
      "2025-01-17 16:55:47.727Z engineer         20 engineer.py:436 done: [   0    1    2 ... 2391 2392 2393], 21 left\n",
      "2025-01-17 16:55:47.728Z engineer         20 engineer.py:412 Sending angles to moveToAngles for 1-th iteration\n",
      "2025-01-17 16:55:47.730Z cobraCoach       30 cobraCoach.py:1003 Last phi angle is unknown, not moving: [1459]\n",
      "2025-01-17 16:55:47.731Z cobraCoach       20 cobraCoach.py:1009 Moving deltaTheta = [-1.01748456e-05 -1.01748456e-05 -1.01748456e-05 -2.52731626e+00\n",
      " -1.01748456e-05 -6.78881414e-04 -1.87148445e-03 -2.65016099e-02\n",
      " -1.01748456e-05 -1.01748456e-05 -1.01748455e-05 -1.01748456e-05\n",
      " -1.01748455e-05 -5.29851305e-02 -1.32093872e+00  2.86555532e-04\n",
      " -1.01748456e-05 -1.01748456e-05 -3.50271147e-01 -2.01198950e+00\n",
      "  1.10228624e-03]\n",
      "2025-01-17 16:55:47.732Z cobraCoach       20 cobraCoach.py:1010 Moving deltaPhi = [-6.10865247e+00 -6.10865247e+00 -6.10865247e+00 -7.02523876e-04\n",
      " -2.96705959e+00 -1.80912812e-03 -1.01238450e-03  4.23083895e-02\n",
      " -6.10865247e+00  0.00000000e+00 -2.96705964e+00 -2.96705969e+00\n",
      " -6.10865247e+00  2.15367095e-04  4.48039121e-01  2.15164131e-03\n",
      " -6.10865247e+00 -6.10865247e+00 -6.45651525e-05  2.36550771e-01\n",
      " -4.98778998e-02]\n",
      "2025-01-17 16:55:47.734Z cobraCoach       30 cobraCoach.py:846 Last phi angle is unknown: [1459]\n",
      "2025-01-17 16:55:47.737Z cobraCoach       20 cobraCoach.py:877 Finished converting angle to steps, sending command to moveSteps (constantOntime).\n",
      "2025-01-17 16:55:47.745Z cobraCoach       20 cobraCoach.py:587 Sending step numbers to FPGA for moving cobra.\n",
      "2025-01-17 16:55:47.748Z cobraCoach       20 cobraCoach.py:601 cobra control FPGA operation done.\n",
      "2025-01-17 16:55:47.771Z pfi              40 pfi.py:896 Some theta angles are out of range\n",
      "2025-01-17 16:55:47.772Z pfi              40 pfi.py:899 Some phi angles are out of range\n",
      "2025-01-17 16:55:47.866Z cobraCoach       30 cobraCoach.py:675 Cobra#344 is too far from center\n",
      "2025-01-17 16:55:47.867Z cobraCoach       30 cobraCoach.py:679 Cobra#1460 is too close to center\n",
      "2025-01-17 16:55:47.868Z cobraCoach       30 cobraCoach.py:675 Cobra#1637 is too far from center\n",
      "2025-01-17 16:55:47.869Z cobraCoach       30 cobraCoach.py:675 Cobra#1790 is too far from center\n",
      "2025-01-17 16:55:47.871Z engineer         20 engineer.py:422 Updating the cobra information\n",
      "2025-01-17 16:55:47.875Z engineer         20 engineer.py:436 done: [ 683 1055 1200 1276 1667 1729 1782 1929 1956], 12 left\n",
      "2025-01-17 16:55:47.876Z engineer         30 engineer.py:445 12 cobras did not finish: [ 343  442  492  737 1302 1459 1493 1538 1636 1789 1791 1969], [4.67 4.67 4.67 4.67 4.67 0.82 4.67 4.67 4.67 4.67 4.67 0.11]\n",
      "2025-01-17 16:55:47.877Z engineer         20 engineer.py:450 Returning 2394 atThetas and 2394 atPhis\n",
      "2025-01-17 16:55:47.901Z pfi              40 pfi.py:899 Some phi angles are out of range\n",
      "2025-01-17 16:55:47.903Z engineer         20 engineer.py:395 Move theta arms to angle=[ 75.91 333.02 131.97 ... 210.2  360.   224.27] degree\n",
      "2025-01-17 16:55:47.905Z engineer         20 engineer.py:396 Move phi arms to angle=[ 6.62 42.74 10.15 ...  8.33 11.99 14.19] degree\n",
      "2025-01-17 16:55:47.905Z engineer         20 engineer.py:398 Checking passed homed argument = False\n",
      "2025-01-17 16:55:47.906Z engineer         20 engineer.py:412 Sending angles to moveToAngles for 0-th iteration\n",
      "2025-01-17 16:55:47.931Z cobraCoach       20 cobraCoach.py:1009 Moving deltaTheta = [ 0.0007928  -0.00028284  0.00117177 ...  0.00017839  0.00038417\n",
      " -0.00096284]\n",
      "2025-01-17 16:55:47.932Z cobraCoach       20 cobraCoach.py:1010 Moving deltaPhi = [-0.00012803 -0.00109006 -0.00103967 ...  0.00054019 -0.00083972\n",
      " -0.00047282]\n",
      "2025-01-17 16:55:48.135Z cobraCoach       20 cobraCoach.py:877 Finished converting angle to steps, sending command to moveSteps (constantOntime).\n",
      "2025-01-17 16:55:48.382Z cobraCoach       20 cobraCoach.py:587 Sending step numbers to FPGA for moving cobra.\n",
      "2025-01-17 16:55:48.488Z cobraCoach       20 cobraCoach.py:601 cobra control FPGA operation done.\n",
      "2025-01-17 16:55:48.512Z pfi              40 pfi.py:896 Some theta angles are out of range\n",
      "2025-01-17 16:55:48.513Z pfi              40 pfi.py:899 Some phi angles are out of range\n",
      "2025-01-17 16:55:48.633Z cobraCoach       30 cobraCoach.py:675 Cobra#1303 is too far from center\n",
      "2025-01-17 16:55:48.644Z cobraCoach       30 cobraCoach.py:675 Cobra#1790 is too far from center\n",
      "2025-01-17 16:55:48.659Z engineer         20 engineer.py:422 Updating the cobra information\n",
      "2025-01-17 16:55:48.661Z engineer         20 engineer.py:436 done: [   0    1    2 ... 2391 2392 2393], 14 left\n",
      "2025-01-17 16:55:48.662Z engineer         20 engineer.py:412 Sending angles to moveToAngles for 1-th iteration\n",
      "2025-01-17 16:55:48.663Z cobraCoach       30 cobraCoach.py:1003 Last phi angle is unknown, not moving: [1459]\n",
      "2025-01-17 16:55:48.664Z cobraCoach       20 cobraCoach.py:1009 Moving deltaTheta = [-1.94233989e-04 -5.14191722e-04 -6.14804362e-04 -1.01748456e-05\n",
      "  2.69975771e-06 -1.01748456e-05 -1.01748455e-05 -1.01748456e-05\n",
      " -1.03632841e-03 -6.68898607e-02 -1.01748456e-05 -3.80200480e-04\n",
      " -1.05065440e-04 -7.24306932e-04]\n",
      "2025-01-17 16:55:48.665Z cobraCoach       20 cobraCoach.py:1010 Moving deltaPhi = [-2.96687409e+00 -2.96705963e+00 -2.96705960e+00 -2.96705959e+00\n",
      " -6.10865247e+00  0.00000000e+00 -2.96705964e+00 -2.96705969e+00\n",
      " -2.96602327e+00  5.88029203e-01 -6.10865247e+00 -2.96705960e+00\n",
      " -4.98778998e-02 -1.24785700e-03]\n",
      "2025-01-17 16:55:48.667Z cobraCoach       30 cobraCoach.py:846 Last phi angle is unknown: [1459]\n",
      "2025-01-17 16:55:48.669Z cobraCoach       20 cobraCoach.py:877 Finished converting angle to steps, sending command to moveSteps (constantOntime).\n",
      "2025-01-17 16:55:48.675Z cobraCoach       20 cobraCoach.py:587 Sending step numbers to FPGA for moving cobra.\n",
      "2025-01-17 16:55:48.677Z cobraCoach       20 cobraCoach.py:601 cobra control FPGA operation done.\n",
      "2025-01-17 16:55:48.700Z pfi              40 pfi.py:896 Some theta angles are out of range\n",
      "2025-01-17 16:55:48.701Z pfi              40 pfi.py:899 Some phi angles are out of range\n",
      "2025-01-17 16:55:48.800Z cobraCoach       30 cobraCoach.py:675 Cobra#344 is too far from center\n",
      "2025-01-17 16:55:48.801Z pfi              30 pfi.py:475 clipping scale adjustment from 0.2573481031895782 to 0.3\n",
      "2025-01-17 16:55:48.801Z cobraCoach       30 cobraCoach.py:679 Cobra#1460 is too close to center\n",
      "2025-01-17 16:55:48.803Z pfi              30 pfi.py:475 clipping scale adjustment from 0.26154231110049525 to 0.3\n",
      "2025-01-17 16:55:48.804Z engineer         20 engineer.py:422 Updating the cobra information\n",
      "2025-01-17 16:55:48.807Z engineer         20 engineer.py:436 done: [1729 2153], 12 left\n",
      "2025-01-17 16:55:48.807Z engineer         20 engineer.py:412 Sending angles to moveToAngles for 2-th iteration\n",
      "2025-01-17 16:55:48.809Z cobraCoach       20 cobraCoach.py:1009 Moving deltaTheta = [-1.94233989e-04 -5.14191722e-04 -6.14804362e-04 -1.01748456e-05\n",
      " -1.09852569e+00 -1.01748456e-05 -1.01748455e-05 -1.01748456e-05\n",
      " -1.03632841e-03 -1.07143418e+00 -3.80200480e-04 -1.05065440e-04]\n",
      "2025-01-17 16:55:48.810Z cobraCoach       20 cobraCoach.py:1010 Moving deltaPhi = [-6.10865247 -2.96705963 -2.9670596  -2.96705959 -1.71883189 -2.96705973\n",
      " -2.96705964 -2.96705969 -2.96705964 -1.88389766 -2.9670596  -0.0498779 ]\n",
      "2025-01-17 16:55:48.813Z cobraCoach       20 cobraCoach.py:877 Finished converting angle to steps, sending command to moveSteps (constantOntime).\n",
      "2025-01-17 16:55:48.818Z cobraCoach       20 cobraCoach.py:587 Sending step numbers to FPGA for moving cobra.\n",
      "2025-01-17 16:55:48.820Z cobraCoach       20 cobraCoach.py:601 cobra control FPGA operation done.\n",
      "2025-01-17 16:55:48.843Z pfi              40 pfi.py:896 Some theta angles are out of range\n",
      "2025-01-17 16:55:48.844Z pfi              40 pfi.py:899 Some phi angles are out of range\n",
      "2025-01-17 16:55:48.936Z pfi              30 pfi.py:475 clipping scale adjustment from 0.2859424141191533 to 0.3\n",
      "2025-01-17 16:55:48.937Z cobraCoach       30 cobraCoach.py:675 Cobra#1303 is too far from center\n",
      "2025-01-17 16:55:48.938Z pfi              30 pfi.py:475 clipping scale adjustment from 0.29999999904403885 to 0.3\n",
      "2025-01-17 16:55:48.939Z cobraCoach       30 cobraCoach.py:675 Cobra#1790 is too far from center\n",
      "2025-01-17 16:55:48.941Z engineer         20 engineer.py:422 Updating the cobra information\n",
      "2025-01-17 16:55:48.943Z engineer         20 engineer.py:412 Sending angles to moveToAngles for 3-th iteration\n",
      "2025-01-17 16:55:48.945Z cobraCoach       30 cobraCoach.py:1003 Last phi angle is unknown, not moving: [1459]\n",
      "2025-01-17 16:55:48.946Z cobraCoach       20 cobraCoach.py:1009 Moving deltaTheta = [-3.21863813e-01 -5.14191722e-04 -6.14804362e-04 -1.01748456e-05\n",
      " -6.82685060e-01 -1.01748456e-05 -1.01748455e-05 -1.01748456e-05\n",
      " -1.03632841e-03 -3.25590772e-01 -3.80200480e-04 -1.05065440e-04]\n",
      "2025-01-17 16:55:48.947Z cobraCoach       20 cobraCoach.py:1010 Moving deltaPhi = [-2.64219266 -2.96705963 -2.9670596  -2.96705959 -6.10865247  0.\n",
      " -2.96705964 -2.96705969 -2.96705964 -6.10865247 -2.9670596  -0.0498779 ]\n",
      "2025-01-17 16:55:48.949Z cobraCoach       30 cobraCoach.py:846 Last phi angle is unknown: [1459]\n",
      "2025-01-17 16:55:48.951Z cobraCoach       20 cobraCoach.py:877 Finished converting angle to steps, sending command to moveSteps (constantOntime).\n",
      "2025-01-17 16:55:48.958Z cobraCoach       20 cobraCoach.py:587 Sending step numbers to FPGA for moving cobra.\n",
      "2025-01-17 16:55:48.960Z cobraCoach       20 cobraCoach.py:601 cobra control FPGA operation done.\n",
      "2025-01-17 16:55:48.982Z pfi              40 pfi.py:896 Some theta angles are out of range\n",
      "2025-01-17 16:55:48.983Z pfi              40 pfi.py:899 Some phi angles are out of range\n",
      "2025-01-17 16:55:49.080Z pfi              30 pfi.py:475 clipping scale adjustment from 0.22521650184055392 to 0.3\n",
      "2025-01-17 16:55:49.081Z pfi              30 pfi.py:475 clipping scale adjustment from 0.2573481031895782 to 0.3\n",
      "2025-01-17 16:55:49.082Z cobraCoach       30 cobraCoach.py:679 Cobra#1460 is too close to center\n",
      "2025-01-17 16:55:49.082Z pfi              30 pfi.py:475 clipping scale adjustment from 0.22664453700152026 to 0.3\n",
      "2025-01-17 16:55:49.083Z pfi              30 pfi.py:475 clipping scale adjustment from 0.26154231110049525 to 0.3\n",
      "2025-01-17 16:55:49.085Z engineer         20 engineer.py:422 Updating the cobra information\n",
      "2025-01-17 16:55:49.087Z engineer         20 engineer.py:412 Sending angles to moveToAngles for 4-th iteration\n",
      "2025-01-17 16:55:49.089Z cobraCoach       20 cobraCoach.py:1009 Moving deltaTheta = [-2.17122172e-04 -5.14191722e-04 -6.14804362e-04 -1.01748456e-05\n",
      "  4.51698156e+00 -1.01748456e-05 -1.01748455e-05 -1.01748456e-05\n",
      " -1.03632841e-03  5.00301130e+00 -3.80200480e-04 -1.05065440e-04]\n",
      "2025-01-17 16:55:49.090Z cobraCoach       20 cobraCoach.py:1010 Moving deltaPhi = [-2.96705965 -2.96705963 -2.9670596  -2.96705959 -1.71883189 -2.96705973\n",
      " -2.96705964 -2.96705969 -2.96705964 -1.88389766 -2.9670596  -0.0498779 ]\n",
      "2025-01-17 16:55:49.092Z cobraCoach       20 cobraCoach.py:877 Finished converting angle to steps, sending command to moveSteps (constantOntime).\n",
      "2025-01-17 16:55:49.099Z cobraCoach       20 cobraCoach.py:587 Sending step numbers to FPGA for moving cobra.\n",
      "2025-01-17 16:55:49.102Z cobraCoach       20 cobraCoach.py:601 cobra control FPGA operation done.\n",
      "2025-01-17 16:55:49.124Z pfi              40 pfi.py:896 Some theta angles are out of range\n",
      "2025-01-17 16:55:49.125Z pfi              40 pfi.py:899 Some phi angles are out of range\n",
      "2025-01-17 16:55:49.218Z cobraCoach       30 cobraCoach.py:675 Cobra#1790 is too far from center\n",
      "2025-01-17 16:55:49.219Z pfi              30 pfi.py:475 clipping scale adjustment from 0.29999999510714737 to 0.3\n",
      "2025-01-17 16:55:49.220Z engineer         20 engineer.py:422 Updating the cobra information\n",
      "2025-01-17 16:55:49.223Z engineer         20 engineer.py:412 Sending angles to moveToAngles for 5-th iteration\n",
      "2025-01-17 16:55:49.225Z cobraCoach       30 cobraCoach.py:1003 Last phi angle is unknown, not moving: [1459]\n",
      "2025-01-17 16:55:49.226Z cobraCoach       20 cobraCoach.py:1009 Moving deltaTheta = [-2.17122172e-04 -5.14191722e-04 -6.14804362e-04 -1.01748456e-05\n",
      " -4.10811338e-03 -1.01748456e-05 -1.01748455e-05 -1.01748456e-05\n",
      " -1.03632841e-03  7.85623389e-01 -3.80200480e-04 -1.05065440e-04]\n",
      "2025-01-17 16:55:49.227Z cobraCoach       20 cobraCoach.py:1010 Moving deltaPhi = [-2.96705965 -2.96705963 -2.9670596  -2.96705959 -2.96705962  0.\n",
      " -2.96705964 -2.96705969 -2.96705964 -6.10865247 -2.9670596  -0.0498779 ]\n",
      "2025-01-17 16:55:49.228Z cobraCoach       30 cobraCoach.py:846 Last phi angle is unknown: [1459]\n",
      "2025-01-17 16:55:49.230Z cobraCoach       20 cobraCoach.py:877 Finished converting angle to steps, sending command to moveSteps (constantOntime).\n",
      "2025-01-17 16:55:49.238Z cobraCoach       20 cobraCoach.py:587 Sending step numbers to FPGA for moving cobra.\n",
      "2025-01-17 16:55:49.240Z cobraCoach       20 cobraCoach.py:601 cobra control FPGA operation done.\n",
      "2025-01-17 16:55:49.264Z pfi              40 pfi.py:896 Some theta angles are out of range\n",
      "2025-01-17 16:55:49.265Z pfi              40 pfi.py:899 Some phi angles are out of range\n",
      "2025-01-17 16:55:49.363Z pfi              30 pfi.py:475 clipping scale adjustment from 0.2250489700875823 to 0.3\n",
      "2025-01-17 16:55:49.364Z cobraCoach       30 cobraCoach.py:679 Cobra#1460 is too close to center\n",
      "2025-01-17 16:55:49.365Z pfi              30 pfi.py:475 clipping scale adjustment from 0.2561286605203101 to 0.3\n",
      "2025-01-17 16:55:49.366Z pfi              30 pfi.py:475 clipping scale adjustment from 0.26154231110049525 to 0.3\n",
      "2025-01-17 16:55:49.368Z engineer         20 engineer.py:422 Updating the cobra information\n",
      "2025-01-17 16:55:49.371Z engineer         30 engineer.py:445 12 cobras did not finish: [ 343  442  492  737 1302 1459 1493 1538 1636 1789 1791 1969], [4.67 4.67 4.67 4.67 4.67 0.82 4.67 4.67 4.67 4.2  4.67 0.11]\n",
      "2025-01-17 16:55:49.371Z engineer         20 engineer.py:450 Returning 2394 atThetas and 2394 atPhis\n",
      "2025-01-17 16:55:49.395Z pfi              40 pfi.py:896 Some theta angles are out of range\n",
      "2025-01-17 16:55:49.397Z pfi              40 pfi.py:899 Some phi angles are out of range\n",
      "2025-01-17 16:55:49.485Z pfi              40 pfi.py:896 Some theta angles are out of range\n",
      "2025-01-17 16:55:49.487Z pfi              40 pfi.py:899 Some phi angles are out of range\n",
      "2025-01-17 16:55:49.549Z pfi              40 pfi.py:896 Some theta angles are out of range\n",
      "2025-01-17 16:55:49.551Z pfi              40 pfi.py:899 Some phi angles are out of range\n",
      "2025-01-17 16:55:49.596Z pfi              40 pfi.py:896 Some theta angles are out of range\n",
      "2025-01-17 16:55:49.598Z pfi              40 pfi.py:899 Some phi angles are out of range\n",
      "2025-01-17 16:55:49.644Z pfi              40 pfi.py:896 Some theta angles are out of range\n",
      "2025-01-17 16:55:49.645Z pfi              40 pfi.py:899 Some phi angles are out of range\n",
      "2025-01-17 16:55:49.694Z pfi              40 pfi.py:896 Some theta angles are out of range\n",
      "2025-01-17 16:55:49.695Z pfi              40 pfi.py:899 Some phi angles are out of range\n",
      "2025-01-17 16:55:49.741Z pfi              40 pfi.py:896 Some theta angles are out of range\n",
      "2025-01-17 16:55:49.742Z pfi              40 pfi.py:899 Some phi angles are out of range\n",
      "2025-01-17 16:55:49.788Z pfi              40 pfi.py:896 Some theta angles are out of range\n",
      "2025-01-17 16:55:49.789Z pfi              40 pfi.py:899 Some phi angles are out of range\n",
      "2025-01-17 16:55:49.839Z pfi              40 pfi.py:930 Some theta angles are out of range\n",
      "2025-01-17 16:55:49.895Z pfi              40 pfi.py:930 Some theta angles are out of range\n",
      "2025-01-17 16:55:49.944Z pfi              40 pfi.py:930 Some theta angles are out of range\n",
      "2025-01-17 16:55:49.983Z pfi              40 pfi.py:930 Some theta angles are out of range\n",
      "2025-01-17 16:55:50.020Z pfi              40 pfi.py:930 Some theta angles are out of range\n",
      "2025-01-17 16:55:50.060Z pfi              40 pfi.py:930 Some theta angles are out of range\n",
      "2025-01-17 16:55:50.099Z pfi              40 pfi.py:930 Some theta angles are out of range\n",
      "2025-01-17 16:55:50.134Z pfi              40 pfi.py:930 Some theta angles are out of range\n"
     ]
    },
    {
     "name": "stdout",
     "output_type": "stream",
     "text": [
      "ERROR: detected 13 end point collision, which should be impossible\n",
      "trajectory collisions found: 17\n",
      "Set parameter Presolve to value 1\n"
     ]
    },
    {
     "name": "stderr",
     "output_type": "stream",
     "text": [
      "2025-01-17 16:55:54.198Z gurobipy         20 netflow.py:117 Set parameter Presolve to value 1\n"
     ]
    },
    {
     "name": "stdout",
     "output_type": "stream",
     "text": [
      "Set parameter Method to value 4\n"
     ]
    },
    {
     "name": "stderr",
     "output_type": "stream",
     "text": [
      "2025-01-17 16:55:54.201Z gurobipy         20 netflow.py:117 Set parameter Method to value 4\n"
     ]
    },
    {
     "name": "stdout",
     "output_type": "stream",
     "text": [
      "Set parameter DegenMoves to value 0\n"
     ]
    },
    {
     "name": "stderr",
     "output_type": "stream",
     "text": [
      "2025-01-17 16:55:54.204Z gurobipy         20 netflow.py:117 Set parameter DegenMoves to value 0\n"
     ]
    },
    {
     "name": "stdout",
     "output_type": "stream",
     "text": [
      "Set parameter Heuristics to value 0.8\n"
     ]
    },
    {
     "name": "stderr",
     "output_type": "stream",
     "text": [
      "2025-01-17 16:55:54.205Z gurobipy         20 netflow.py:117 Set parameter Heuristics to value 0.8\n"
     ]
    },
    {
     "name": "stdout",
     "output_type": "stream",
     "text": [
      "Set parameter MIPGap to value 0.05\n"
     ]
    },
    {
     "name": "stderr",
     "output_type": "stream",
     "text": [
      "2025-01-17 16:55:54.207Z gurobipy         20 netflow.py:117 Set parameter MIPGap to value 0.05\n"
     ]
    },
    {
     "name": "stdout",
     "output_type": "stream",
     "text": [
      "Creating network topology\n",
      "  exposure 1\n",
      "Calculating visibilities\n",
      "adding constraints\n",
      "adding collision constraints\n",
      "adding forbidden pair constraints\n",
      "Gurobi Optimizer version 10.0.1 build v10.0.1rc0 (mac64[x86])\n"
     ]
    },
    {
     "name": "stderr",
     "output_type": "stream",
     "text": [
      "2025-01-17 16:56:03.456Z gurobipy         20 netflow.py:149 Gurobi Optimizer version 10.0.1 build v10.0.1rc0 (mac64[x86])\n"
     ]
    },
    {
     "name": "stdout",
     "output_type": "stream",
     "text": [
      "\n"
     ]
    },
    {
     "name": "stderr",
     "output_type": "stream",
     "text": [
      "2025-01-17 16:56:03.458Z gurobipy         20 netflow.py:149 \n"
     ]
    },
    {
     "name": "stdout",
     "output_type": "stream",
     "text": [
      "CPU model: Intel(R) Core(TM) i7-8569U CPU @ 2.80GHz\n"
     ]
    },
    {
     "name": "stderr",
     "output_type": "stream",
     "text": [
      "2025-01-17 16:56:03.460Z gurobipy         20 netflow.py:149 CPU model: Intel(R) Core(TM) i7-8569U CPU @ 2.80GHz\n"
     ]
    },
    {
     "name": "stdout",
     "output_type": "stream",
     "text": [
      "Thread count: 4 physical cores, 8 logical processors, using up to 8 threads\n"
     ]
    },
    {
     "name": "stderr",
     "output_type": "stream",
     "text": [
      "2025-01-17 16:56:03.462Z gurobipy         20 netflow.py:149 Thread count: 4 physical cores, 8 logical processors, using up to 8 threads\n"
     ]
    },
    {
     "name": "stdout",
     "output_type": "stream",
     "text": [
      "\n"
     ]
    },
    {
     "name": "stderr",
     "output_type": "stream",
     "text": [
      "2025-01-17 16:56:03.464Z gurobipy         20 netflow.py:149 \n"
     ]
    },
    {
     "name": "stdout",
     "output_type": "stream",
     "text": [
      "Academic license 2379863 - for non-commercial use only - registered to ji___@ipmu.jp\n"
     ]
    },
    {
     "name": "stderr",
     "output_type": "stream",
     "text": [
      "2025-01-17 16:56:03.467Z gurobipy         20 netflow.py:149 Academic license 2379863 - for non-commercial use only - registered to ji___@ipmu.jp\n"
     ]
    },
    {
     "name": "stdout",
     "output_type": "stream",
     "text": [
      "Optimize a model with 99419 rows, 89861 columns and 271647 nonzeros\n"
     ]
    },
    {
     "name": "stderr",
     "output_type": "stream",
     "text": [
      "2025-01-17 16:56:03.468Z gurobipy         20 netflow.py:149 Optimize a model with 99419 rows, 89861 columns and 271647 nonzeros\n"
     ]
    },
    {
     "name": "stdout",
     "output_type": "stream",
     "text": [
      "Model fingerprint: 0x2b4a1072\n"
     ]
    },
    {
     "name": "stderr",
     "output_type": "stream",
     "text": [
      "2025-01-17 16:56:03.472Z gurobipy         20 netflow.py:149 Model fingerprint: 0x2b4a1072\n"
     ]
    },
    {
     "name": "stdout",
     "output_type": "stream",
     "text": [
      "Variable types: 1 continuous, 89860 integer (69113 binary)\n"
     ]
    },
    {
     "name": "stderr",
     "output_type": "stream",
     "text": [
      "2025-01-17 16:56:03.474Z gurobipy         20 netflow.py:149 Variable types: 1 continuous, 89860 integer (69113 binary)\n"
     ]
    },
    {
     "name": "stdout",
     "output_type": "stream",
     "text": [
      "Coefficient statistics:\n"
     ]
    },
    {
     "name": "stderr",
     "output_type": "stream",
     "text": [
      "2025-01-17 16:56:03.478Z gurobipy         20 netflow.py:149 Coefficient statistics:\n"
     ]
    },
    {
     "name": "stdout",
     "output_type": "stream",
     "text": [
      "  Matrix range     [1e+00, 1e+00]\n"
     ]
    },
    {
     "name": "stderr",
     "output_type": "stream",
     "text": [
      "2025-01-17 16:56:03.479Z gurobipy         20 netflow.py:149   Matrix range     [1e+00, 1e+00]\n"
     ]
    },
    {
     "name": "stdout",
     "output_type": "stream",
     "text": [
      "  Objective range  [2e-05, 1e+06]\n"
     ]
    },
    {
     "name": "stderr",
     "output_type": "stream",
     "text": [
      "2025-01-17 16:56:03.481Z gurobipy         20 netflow.py:149   Objective range  [2e-05, 1e+06]\n"
     ]
    },
    {
     "name": "stdout",
     "output_type": "stream",
     "text": [
      "  Bounds range     [1e+00, 1e+00]\n"
     ]
    },
    {
     "name": "stderr",
     "output_type": "stream",
     "text": [
      "2025-01-17 16:56:03.482Z gurobipy         20 netflow.py:149   Bounds range     [1e+00, 1e+00]\n"
     ]
    },
    {
     "name": "stdout",
     "output_type": "stream",
     "text": [
      "  RHS range        [1e+00, 2e+04]\n"
     ]
    },
    {
     "name": "stderr",
     "output_type": "stream",
     "text": [
      "2025-01-17 16:56:03.486Z gurobipy         20 netflow.py:149   RHS range        [1e+00, 2e+04]\n"
     ]
    },
    {
     "name": "stdout",
     "output_type": "stream",
     "text": [
      "Found heuristic solution: objective 4214411.8783\n"
     ]
    },
    {
     "name": "stderr",
     "output_type": "stream",
     "text": [
      "2025-01-17 16:56:03.518Z gurobipy         20 netflow.py:149 Found heuristic solution: objective 4214411.8783\n"
     ]
    },
    {
     "name": "stdout",
     "output_type": "stream",
     "text": [
      "Presolve removed 99419 rows and 89861 columns\n"
     ]
    },
    {
     "name": "stderr",
     "output_type": "stream",
     "text": [
      "2025-01-17 16:56:03.821Z gurobipy         20 netflow.py:149 Presolve removed 99419 rows and 89861 columns\n"
     ]
    },
    {
     "name": "stdout",
     "output_type": "stream",
     "text": [
      "Presolve time: 0.30s\n"
     ]
    },
    {
     "name": "stderr",
     "output_type": "stream",
     "text": [
      "2025-01-17 16:56:03.825Z gurobipy         20 netflow.py:149 Presolve time: 0.30s\n"
     ]
    },
    {
     "name": "stdout",
     "output_type": "stream",
     "text": [
      "Presolve: All rows and columns removed\n"
     ]
    },
    {
     "name": "stderr",
     "output_type": "stream",
     "text": [
      "2025-01-17 16:56:03.833Z gurobipy         20 netflow.py:149 Presolve: All rows and columns removed\n"
     ]
    },
    {
     "name": "stdout",
     "output_type": "stream",
     "text": [
      "\n"
     ]
    },
    {
     "name": "stderr",
     "output_type": "stream",
     "text": [
      "2025-01-17 16:56:03.845Z gurobipy         20 netflow.py:149 \n"
     ]
    },
    {
     "name": "stdout",
     "output_type": "stream",
     "text": [
      "Explored 0 nodes (0 simplex iterations) in 0.38 seconds (0.13 work units)\n"
     ]
    },
    {
     "name": "stderr",
     "output_type": "stream",
     "text": [
      "2025-01-17 16:56:03.846Z gurobipy         20 netflow.py:149 Explored 0 nodes (0 simplex iterations) in 0.38 seconds (0.13 work units)\n"
     ]
    },
    {
     "name": "stdout",
     "output_type": "stream",
     "text": [
      "Thread count was 1 (of 8 available processors)\n"
     ]
    },
    {
     "name": "stderr",
     "output_type": "stream",
     "text": [
      "2025-01-17 16:56:03.848Z gurobipy         20 netflow.py:149 Thread count was 1 (of 8 available processors)\n"
     ]
    },
    {
     "name": "stdout",
     "output_type": "stream",
     "text": [
      "\n"
     ]
    },
    {
     "name": "stderr",
     "output_type": "stream",
     "text": [
      "2025-01-17 16:56:03.850Z gurobipy         20 netflow.py:149 \n"
     ]
    },
    {
     "name": "stdout",
     "output_type": "stream",
     "text": [
      "Solution count 2: 3.84686e+06 4.21441e+06 \n"
     ]
    },
    {
     "name": "stderr",
     "output_type": "stream",
     "text": [
      "2025-01-17 16:56:03.851Z gurobipy         20 netflow.py:149 Solution count 2: 3.84686e+06 4.21441e+06 \n"
     ]
    },
    {
     "name": "stdout",
     "output_type": "stream",
     "text": [
      "\n"
     ]
    },
    {
     "name": "stderr",
     "output_type": "stream",
     "text": [
      "2025-01-17 16:56:03.853Z gurobipy         20 netflow.py:149 \n"
     ]
    },
    {
     "name": "stdout",
     "output_type": "stream",
     "text": [
      "Optimal solution found (tolerance 5.00e-02)\n"
     ]
    },
    {
     "name": "stderr",
     "output_type": "stream",
     "text": [
      "2025-01-17 16:56:03.854Z gurobipy         20 netflow.py:149 Optimal solution found (tolerance 5.00e-02)\n"
     ]
    },
    {
     "name": "stdout",
     "output_type": "stream",
     "text": [
      "Best objective 3.846857762627e+06, best bound 3.846857762627e+06, gap 0.0000%\n"
     ]
    },
    {
     "name": "stderr",
     "output_type": "stream",
     "text": [
      "2025-01-17 16:56:03.858Z gurobipy         20 netflow.py:149 Best objective 3.846857762627e+06, best bound 3.846857762627e+06, gap 0.0000%\n",
      "2025-01-17 16:56:04.005Z pfi              40 pfi.py:896 Some theta angles are out of range\n",
      "2025-01-17 16:56:04.007Z pfi              40 pfi.py:899 Some phi angles are out of range\n"
     ]
    },
    {
     "name": "stdout",
     "output_type": "stream",
     "text": [
      "Checking for trajectory collisions\n"
     ]
    },
    {
     "name": "stderr",
     "output_type": "stream",
     "text": [
      "2025-01-17 16:56:04.148Z pfi              40 pfi.py:899 Some phi angles are out of range\n",
      "2025-01-17 16:56:04.183Z pfi              40 pfi.py:899 Some phi angles are out of range\n",
      "2025-01-17 16:56:04.186Z engineer         20 engineer.py:395 Move theta arms to angle=[ 75.91 333.02 131.97 ... 210.2  360.   224.27] degree\n",
      "2025-01-17 16:56:04.187Z engineer         20 engineer.py:396 Move phi arms to angle=[ 6.62 42.74 10.15 ...  8.33 11.99 14.19] degree\n",
      "2025-01-17 16:56:04.189Z engineer         20 engineer.py:398 Checking passed homed argument = True\n",
      "2025-01-17 16:56:04.190Z engineer         20 engineer.py:402 Move theta arms CW and phi arms CCW to the hard stops\n",
      "2025-01-17 16:56:04.216Z cobraCoach       20 cobraCoach.py:1065 home cobras: theta=10000, phi=-5000\n",
      "2025-01-17 16:56:04.238Z pfi              40 pfi.py:899 Some phi angles are out of range\n",
      "2025-01-17 16:56:04.275Z pfi              40 pfi.py:899 Some phi angles are out of range\n",
      "2025-01-17 16:56:04.277Z engineer         20 engineer.py:412 Sending angles to moveToAngles for 0-th iteration\n",
      "2025-01-17 16:56:04.304Z cobraCoach       20 cobraCoach.py:1009 Moving deltaTheta = [-5.25294989 -0.85284527 -4.33602077 ... -3.02040524 -0.4013664\n",
      " -2.78477536]\n",
      "2025-01-17 16:56:04.305Z cobraCoach       20 cobraCoach.py:1010 Moving deltaPhi = [0.11558998 0.74591546 0.1772055  ... 0.14539386 0.20932294 0.24760745]\n",
      "2025-01-17 16:56:04.570Z cobraCoach       20 cobraCoach.py:877 Finished converting angle to steps, sending command to moveSteps (constantOntime).\n",
      "2025-01-17 16:56:05.237Z cobraCoach       20 cobraCoach.py:587 Sending step numbers to FPGA for moving cobra.\n",
      "2025-01-17 16:56:05.342Z cobraCoach       20 cobraCoach.py:601 cobra control FPGA operation done.\n",
      "2025-01-17 16:56:05.365Z pfi              40 pfi.py:896 Some theta angles are out of range\n",
      "2025-01-17 16:56:05.366Z pfi              40 pfi.py:899 Some phi angles are out of range\n",
      "2025-01-17 16:56:05.465Z cobraCoach       30 cobraCoach.py:675 Cobra#344 is too far from center\n",
      "2025-01-17 16:56:05.468Z cobraCoach       30 cobraCoach.py:675 Cobra#443 is too far from center\n",
      "2025-01-17 16:56:05.470Z cobraCoach       30 cobraCoach.py:675 Cobra#493 is too far from center\n",
      "2025-01-17 16:56:05.489Z cobraCoach       30 cobraCoach.py:675 Cobra#1303 is too far from center\n",
      "2025-01-17 16:56:05.497Z cobraCoach       30 cobraCoach.py:675 Cobra#1637 is too far from center\n",
      "2025-01-17 16:56:05.502Z cobraCoach       30 cobraCoach.py:675 Cobra#1790 is too far from center\n",
      "2025-01-17 16:56:05.503Z cobraCoach       30 cobraCoach.py:675 Cobra#1792 is too far from center\n",
      "2025-01-17 16:56:05.519Z engineer         20 engineer.py:422 Updating the cobra information\n",
      "2025-01-17 16:56:05.523Z engineer         20 engineer.py:436 done: [   0    1    2 ... 2391 2392 2393], 21 left\n",
      "2025-01-17 16:56:05.524Z engineer         20 engineer.py:412 Sending angles to moveToAngles for 1-th iteration\n",
      "2025-01-17 16:56:05.526Z cobraCoach       30 cobraCoach.py:1003 Last phi angle is unknown, not moving: [1459]\n",
      "2025-01-17 16:56:05.528Z cobraCoach       20 cobraCoach.py:1009 Moving deltaTheta = [-1.01748456e-05 -1.01748456e-05 -1.01748456e-05 -2.52731626e+00\n",
      " -1.01748456e-05 -6.78881414e-04 -1.87148445e-03 -2.65016099e-02\n",
      " -1.01748456e-05 -1.01748456e-05 -1.01748455e-05 -1.01748456e-05\n",
      " -1.01748455e-05 -5.29851305e-02 -1.32093872e+00  2.86555532e-04\n",
      " -1.01748456e-05 -1.01748456e-05 -3.50271147e-01 -2.01198950e+00\n",
      "  1.10228624e-03]\n",
      "2025-01-17 16:56:05.530Z cobraCoach       20 cobraCoach.py:1010 Moving deltaPhi = [-6.10865247e+00 -6.10865247e+00 -6.10865247e+00 -7.02523876e-04\n",
      " -2.96705959e+00 -1.80912812e-03 -1.01238450e-03  4.23083895e-02\n",
      " -6.10865247e+00  0.00000000e+00 -2.96705964e+00 -2.96705969e+00\n",
      " -6.10865247e+00  2.15367095e-04  4.48039121e-01  2.15164131e-03\n",
      " -6.10865247e+00 -6.10865247e+00 -6.45651525e-05  2.36550771e-01\n",
      " -4.98778998e-02]\n",
      "2025-01-17 16:56:05.534Z cobraCoach       30 cobraCoach.py:846 Last phi angle is unknown: [1459]\n",
      "2025-01-17 16:56:05.537Z cobraCoach       20 cobraCoach.py:877 Finished converting angle to steps, sending command to moveSteps (constantOntime).\n",
      "2025-01-17 16:56:05.547Z cobraCoach       20 cobraCoach.py:587 Sending step numbers to FPGA for moving cobra.\n",
      "2025-01-17 16:56:05.551Z cobraCoach       20 cobraCoach.py:601 cobra control FPGA operation done.\n",
      "2025-01-17 16:56:05.577Z pfi              40 pfi.py:896 Some theta angles are out of range\n",
      "2025-01-17 16:56:05.578Z pfi              40 pfi.py:899 Some phi angles are out of range\n",
      "2025-01-17 16:56:05.671Z cobraCoach       30 cobraCoach.py:675 Cobra#344 is too far from center\n",
      "2025-01-17 16:56:05.672Z cobraCoach       30 cobraCoach.py:679 Cobra#1460 is too close to center\n",
      "2025-01-17 16:56:05.673Z cobraCoach       30 cobraCoach.py:675 Cobra#1637 is too far from center\n",
      "2025-01-17 16:56:05.674Z cobraCoach       30 cobraCoach.py:675 Cobra#1790 is too far from center\n",
      "2025-01-17 16:56:05.676Z engineer         20 engineer.py:422 Updating the cobra information\n",
      "2025-01-17 16:56:05.679Z engineer         20 engineer.py:436 done: [ 683 1055 1200 1276 1667 1729 1782 1929 1956], 12 left\n",
      "2025-01-17 16:56:05.680Z engineer         30 engineer.py:445 12 cobras did not finish: [ 343  442  492  737 1302 1459 1493 1538 1636 1789 1791 1969], [4.67 4.67 4.67 4.67 4.67 0.82 4.67 4.67 4.67 4.67 4.67 0.11]\n",
      "2025-01-17 16:56:05.681Z engineer         20 engineer.py:450 Returning 2394 atThetas and 2394 atPhis\n",
      "2025-01-17 16:56:05.706Z pfi              40 pfi.py:899 Some phi angles are out of range\n",
      "2025-01-17 16:56:05.708Z engineer         20 engineer.py:395 Move theta arms to angle=[ 75.91 333.02 131.97 ... 210.2  360.   224.27] degree\n",
      "2025-01-17 16:56:05.709Z engineer         20 engineer.py:396 Move phi arms to angle=[ 6.62 42.74 10.15 ...  8.33 11.99 14.19] degree\n",
      "2025-01-17 16:56:05.709Z engineer         20 engineer.py:398 Checking passed homed argument = False\n",
      "2025-01-17 16:56:05.710Z engineer         20 engineer.py:412 Sending angles to moveToAngles for 0-th iteration\n",
      "2025-01-17 16:56:05.736Z cobraCoach       20 cobraCoach.py:1009 Moving deltaTheta = [ 0.0007928  -0.00028284  0.00117177 ...  0.00017839  0.00038417\n",
      " -0.00096284]\n",
      "2025-01-17 16:56:05.737Z cobraCoach       20 cobraCoach.py:1010 Moving deltaPhi = [-0.00012803 -0.00109006 -0.00103967 ...  0.00054019 -0.00083972\n",
      " -0.00047282]\n",
      "2025-01-17 16:56:05.939Z cobraCoach       20 cobraCoach.py:877 Finished converting angle to steps, sending command to moveSteps (constantOntime).\n",
      "2025-01-17 16:56:06.296Z cobraCoach       20 cobraCoach.py:587 Sending step numbers to FPGA for moving cobra.\n",
      "2025-01-17 16:56:06.431Z cobraCoach       20 cobraCoach.py:601 cobra control FPGA operation done.\n",
      "2025-01-17 16:56:06.457Z pfi              40 pfi.py:896 Some theta angles are out of range\n",
      "2025-01-17 16:56:06.459Z pfi              40 pfi.py:899 Some phi angles are out of range\n",
      "2025-01-17 16:56:06.591Z cobraCoach       30 cobraCoach.py:675 Cobra#1303 is too far from center\n",
      "2025-01-17 16:56:06.604Z cobraCoach       30 cobraCoach.py:675 Cobra#1790 is too far from center\n",
      "2025-01-17 16:56:06.621Z engineer         20 engineer.py:422 Updating the cobra information\n",
      "2025-01-17 16:56:06.624Z engineer         20 engineer.py:436 done: [   0    1    2 ... 2391 2392 2393], 14 left\n",
      "2025-01-17 16:56:06.625Z engineer         20 engineer.py:412 Sending angles to moveToAngles for 1-th iteration\n",
      "2025-01-17 16:56:06.629Z cobraCoach       30 cobraCoach.py:1003 Last phi angle is unknown, not moving: [1459]\n",
      "2025-01-17 16:56:06.630Z cobraCoach       20 cobraCoach.py:1009 Moving deltaTheta = [-1.94233989e-04 -5.14191722e-04 -6.14804362e-04 -1.01748456e-05\n",
      "  2.69975771e-06 -1.01748456e-05 -1.01748455e-05 -1.01748456e-05\n",
      " -1.03632841e-03 -6.68898607e-02 -1.01748456e-05 -3.80200480e-04\n",
      " -1.05065440e-04 -7.24306932e-04]\n",
      "2025-01-17 16:56:06.631Z cobraCoach       20 cobraCoach.py:1010 Moving deltaPhi = [-2.96687409e+00 -2.96705963e+00 -2.96705960e+00 -2.96705959e+00\n",
      " -6.10865247e+00  0.00000000e+00 -2.96705964e+00 -2.96705969e+00\n",
      " -2.96602327e+00  5.88029203e-01 -6.10865247e+00 -2.96705960e+00\n",
      " -4.98778998e-02 -1.24785700e-03]\n",
      "2025-01-17 16:56:06.634Z cobraCoach       30 cobraCoach.py:846 Last phi angle is unknown: [1459]\n",
      "2025-01-17 16:56:06.637Z cobraCoach       20 cobraCoach.py:877 Finished converting angle to steps, sending command to moveSteps (constantOntime).\n",
      "2025-01-17 16:56:06.643Z cobraCoach       20 cobraCoach.py:587 Sending step numbers to FPGA for moving cobra.\n",
      "2025-01-17 16:56:06.645Z cobraCoach       20 cobraCoach.py:601 cobra control FPGA operation done.\n",
      "2025-01-17 16:56:06.678Z pfi              40 pfi.py:896 Some theta angles are out of range\n",
      "2025-01-17 16:56:06.679Z pfi              40 pfi.py:899 Some phi angles are out of range\n",
      "2025-01-17 16:56:06.800Z cobraCoach       30 cobraCoach.py:675 Cobra#344 is too far from center\n",
      "2025-01-17 16:56:06.803Z pfi              30 pfi.py:475 clipping scale adjustment from 0.2573481031895782 to 0.3\n",
      "2025-01-17 16:56:06.804Z cobraCoach       30 cobraCoach.py:679 Cobra#1460 is too close to center\n",
      "2025-01-17 16:56:06.805Z pfi              30 pfi.py:475 clipping scale adjustment from 0.26154231110049525 to 0.3\n",
      "2025-01-17 16:56:06.807Z engineer         20 engineer.py:422 Updating the cobra information\n",
      "2025-01-17 16:56:06.811Z engineer         20 engineer.py:436 done: [1729 2153], 12 left\n",
      "2025-01-17 16:56:06.812Z engineer         20 engineer.py:412 Sending angles to moveToAngles for 2-th iteration\n",
      "2025-01-17 16:56:06.814Z cobraCoach       20 cobraCoach.py:1009 Moving deltaTheta = [-1.94233989e-04 -5.14191722e-04 -6.14804362e-04 -1.01748456e-05\n",
      " -1.09852569e+00 -1.01748456e-05 -1.01748455e-05 -1.01748456e-05\n",
      " -1.03632841e-03 -1.07143418e+00 -3.80200480e-04 -1.05065440e-04]\n",
      "2025-01-17 16:56:06.815Z cobraCoach       20 cobraCoach.py:1010 Moving deltaPhi = [-6.10865247 -2.96705963 -2.9670596  -2.96705959 -1.71883189 -2.96705973\n",
      " -2.96705964 -2.96705969 -2.96705964 -1.88389766 -2.9670596  -0.0498779 ]\n",
      "2025-01-17 16:56:06.821Z cobraCoach       20 cobraCoach.py:877 Finished converting angle to steps, sending command to moveSteps (constantOntime).\n",
      "2025-01-17 16:56:06.827Z cobraCoach       20 cobraCoach.py:587 Sending step numbers to FPGA for moving cobra.\n",
      "2025-01-17 16:56:06.829Z cobraCoach       20 cobraCoach.py:601 cobra control FPGA operation done.\n",
      "2025-01-17 16:56:06.856Z pfi              40 pfi.py:896 Some theta angles are out of range\n",
      "2025-01-17 16:56:06.857Z pfi              40 pfi.py:899 Some phi angles are out of range\n",
      "2025-01-17 16:56:06.959Z pfi              30 pfi.py:475 clipping scale adjustment from 0.2859424141191533 to 0.3\n",
      "2025-01-17 16:56:06.960Z cobraCoach       30 cobraCoach.py:675 Cobra#1303 is too far from center\n",
      "2025-01-17 16:56:06.961Z pfi              30 pfi.py:475 clipping scale adjustment from 0.29999999904403885 to 0.3\n",
      "2025-01-17 16:56:06.962Z cobraCoach       30 cobraCoach.py:675 Cobra#1790 is too far from center\n",
      "2025-01-17 16:56:06.964Z engineer         20 engineer.py:422 Updating the cobra information\n",
      "2025-01-17 16:56:06.968Z engineer         20 engineer.py:412 Sending angles to moveToAngles for 3-th iteration\n",
      "2025-01-17 16:56:06.970Z cobraCoach       30 cobraCoach.py:1003 Last phi angle is unknown, not moving: [1459]\n",
      "2025-01-17 16:56:06.971Z cobraCoach       20 cobraCoach.py:1009 Moving deltaTheta = [-3.21863813e-01 -5.14191722e-04 -6.14804362e-04 -1.01748456e-05\n",
      " -6.82685060e-01 -1.01748456e-05 -1.01748455e-05 -1.01748456e-05\n",
      " -1.03632841e-03 -3.25590772e-01 -3.80200480e-04 -1.05065440e-04]\n",
      "2025-01-17 16:56:06.972Z cobraCoach       20 cobraCoach.py:1010 Moving deltaPhi = [-2.64219266 -2.96705963 -2.9670596  -2.96705959 -6.10865247  0.\n",
      " -2.96705964 -2.96705969 -2.96705964 -6.10865247 -2.9670596  -0.0498779 ]\n",
      "2025-01-17 16:56:06.974Z cobraCoach       30 cobraCoach.py:846 Last phi angle is unknown: [1459]\n",
      "2025-01-17 16:56:06.976Z cobraCoach       20 cobraCoach.py:877 Finished converting angle to steps, sending command to moveSteps (constantOntime).\n",
      "2025-01-17 16:56:06.984Z cobraCoach       20 cobraCoach.py:587 Sending step numbers to FPGA for moving cobra.\n",
      "2025-01-17 16:56:06.989Z cobraCoach       20 cobraCoach.py:601 cobra control FPGA operation done.\n",
      "2025-01-17 16:56:07.026Z pfi              40 pfi.py:896 Some theta angles are out of range\n",
      "2025-01-17 16:56:07.027Z pfi              40 pfi.py:899 Some phi angles are out of range\n",
      "2025-01-17 16:56:07.146Z pfi              30 pfi.py:475 clipping scale adjustment from 0.22521650184055392 to 0.3\n",
      "2025-01-17 16:56:07.147Z pfi              30 pfi.py:475 clipping scale adjustment from 0.2573481031895782 to 0.3\n",
      "2025-01-17 16:56:07.148Z cobraCoach       30 cobraCoach.py:679 Cobra#1460 is too close to center\n",
      "2025-01-17 16:56:07.153Z pfi              30 pfi.py:475 clipping scale adjustment from 0.22664453700152026 to 0.3\n",
      "2025-01-17 16:56:07.155Z pfi              30 pfi.py:475 clipping scale adjustment from 0.26154231110049525 to 0.3\n",
      "2025-01-17 16:56:07.158Z engineer         20 engineer.py:422 Updating the cobra information\n",
      "2025-01-17 16:56:07.161Z engineer         20 engineer.py:412 Sending angles to moveToAngles for 4-th iteration\n",
      "2025-01-17 16:56:07.165Z cobraCoach       20 cobraCoach.py:1009 Moving deltaTheta = [-2.17122172e-04 -5.14191722e-04 -6.14804362e-04 -1.01748456e-05\n",
      "  4.51698156e+00 -1.01748456e-05 -1.01748455e-05 -1.01748456e-05\n",
      " -1.03632841e-03  5.00301130e+00 -3.80200480e-04 -1.05065440e-04]\n",
      "2025-01-17 16:56:07.167Z cobraCoach       20 cobraCoach.py:1010 Moving deltaPhi = [-2.96705965 -2.96705963 -2.9670596  -2.96705959 -1.71883189 -2.96705973\n",
      " -2.96705964 -2.96705969 -2.96705964 -1.88389766 -2.9670596  -0.0498779 ]\n",
      "2025-01-17 16:56:07.174Z cobraCoach       20 cobraCoach.py:877 Finished converting angle to steps, sending command to moveSteps (constantOntime).\n",
      "2025-01-17 16:56:07.190Z cobraCoach       20 cobraCoach.py:587 Sending step numbers to FPGA for moving cobra.\n",
      "2025-01-17 16:56:07.194Z cobraCoach       20 cobraCoach.py:601 cobra control FPGA operation done.\n",
      "2025-01-17 16:56:07.249Z pfi              40 pfi.py:896 Some theta angles are out of range\n",
      "2025-01-17 16:56:07.255Z pfi              40 pfi.py:899 Some phi angles are out of range\n",
      "2025-01-17 16:56:07.433Z cobraCoach       30 cobraCoach.py:675 Cobra#1790 is too far from center\n",
      "2025-01-17 16:56:07.434Z pfi              30 pfi.py:475 clipping scale adjustment from 0.29999999510714737 to 0.3\n",
      "2025-01-17 16:56:07.436Z engineer         20 engineer.py:422 Updating the cobra information\n",
      "2025-01-17 16:56:07.438Z engineer         20 engineer.py:412 Sending angles to moveToAngles for 5-th iteration\n",
      "2025-01-17 16:56:07.440Z cobraCoach       30 cobraCoach.py:1003 Last phi angle is unknown, not moving: [1459]\n",
      "2025-01-17 16:56:07.441Z cobraCoach       20 cobraCoach.py:1009 Moving deltaTheta = [-2.17122172e-04 -5.14191722e-04 -6.14804362e-04 -1.01748456e-05\n",
      " -4.10811338e-03 -1.01748456e-05 -1.01748455e-05 -1.01748456e-05\n",
      " -1.03632841e-03  7.85623389e-01 -3.80200480e-04 -1.05065440e-04]\n",
      "2025-01-17 16:56:07.443Z cobraCoach       20 cobraCoach.py:1010 Moving deltaPhi = [-2.96705965 -2.96705963 -2.9670596  -2.96705959 -2.96705962  0.\n",
      " -2.96705964 -2.96705969 -2.96705964 -6.10865247 -2.9670596  -0.0498779 ]\n",
      "2025-01-17 16:56:07.445Z cobraCoach       30 cobraCoach.py:846 Last phi angle is unknown: [1459]\n",
      "2025-01-17 16:56:07.447Z cobraCoach       20 cobraCoach.py:877 Finished converting angle to steps, sending command to moveSteps (constantOntime).\n",
      "2025-01-17 16:56:07.456Z cobraCoach       20 cobraCoach.py:587 Sending step numbers to FPGA for moving cobra.\n",
      "2025-01-17 16:56:07.459Z cobraCoach       20 cobraCoach.py:601 cobra control FPGA operation done.\n",
      "2025-01-17 16:56:07.486Z pfi              40 pfi.py:896 Some theta angles are out of range\n",
      "2025-01-17 16:56:07.488Z pfi              40 pfi.py:899 Some phi angles are out of range\n",
      "2025-01-17 16:56:07.601Z pfi              30 pfi.py:475 clipping scale adjustment from 0.2250489700875823 to 0.3\n",
      "2025-01-17 16:56:07.602Z cobraCoach       30 cobraCoach.py:679 Cobra#1460 is too close to center\n",
      "2025-01-17 16:56:07.604Z pfi              30 pfi.py:475 clipping scale adjustment from 0.2561286605203101 to 0.3\n",
      "2025-01-17 16:56:07.605Z pfi              30 pfi.py:475 clipping scale adjustment from 0.26154231110049525 to 0.3\n",
      "2025-01-17 16:56:07.608Z engineer         20 engineer.py:422 Updating the cobra information\n",
      "2025-01-17 16:56:07.611Z engineer         30 engineer.py:445 12 cobras did not finish: [ 343  442  492  737 1302 1459 1493 1538 1636 1789 1791 1969], [4.67 4.67 4.67 4.67 4.67 0.82 4.67 4.67 4.67 4.2  4.67 0.11]\n",
      "2025-01-17 16:56:07.612Z engineer         20 engineer.py:450 Returning 2394 atThetas and 2394 atPhis\n",
      "2025-01-17 16:56:07.645Z pfi              40 pfi.py:896 Some theta angles are out of range\n",
      "2025-01-17 16:56:07.648Z pfi              40 pfi.py:899 Some phi angles are out of range\n",
      "2025-01-17 16:56:07.754Z pfi              40 pfi.py:896 Some theta angles are out of range\n",
      "2025-01-17 16:56:07.756Z pfi              40 pfi.py:899 Some phi angles are out of range\n",
      "2025-01-17 16:56:07.825Z pfi              40 pfi.py:896 Some theta angles are out of range\n",
      "2025-01-17 16:56:07.827Z pfi              40 pfi.py:899 Some phi angles are out of range\n",
      "2025-01-17 16:56:07.873Z pfi              40 pfi.py:896 Some theta angles are out of range\n",
      "2025-01-17 16:56:07.875Z pfi              40 pfi.py:899 Some phi angles are out of range\n",
      "2025-01-17 16:56:07.922Z pfi              40 pfi.py:896 Some theta angles are out of range\n",
      "2025-01-17 16:56:07.923Z pfi              40 pfi.py:899 Some phi angles are out of range\n",
      "2025-01-17 16:56:07.970Z pfi              40 pfi.py:896 Some theta angles are out of range\n",
      "2025-01-17 16:56:07.972Z pfi              40 pfi.py:899 Some phi angles are out of range\n",
      "2025-01-17 16:56:08.021Z pfi              40 pfi.py:896 Some theta angles are out of range\n",
      "2025-01-17 16:56:08.022Z pfi              40 pfi.py:899 Some phi angles are out of range\n",
      "2025-01-17 16:56:08.078Z pfi              40 pfi.py:896 Some theta angles are out of range\n",
      "2025-01-17 16:56:08.080Z pfi              40 pfi.py:899 Some phi angles are out of range\n",
      "2025-01-17 16:56:08.133Z pfi              40 pfi.py:930 Some theta angles are out of range\n",
      "2025-01-17 16:56:08.200Z pfi              40 pfi.py:930 Some theta angles are out of range\n",
      "2025-01-17 16:56:08.268Z pfi              40 pfi.py:930 Some theta angles are out of range\n",
      "2025-01-17 16:56:08.320Z pfi              40 pfi.py:930 Some theta angles are out of range\n",
      "2025-01-17 16:56:08.374Z pfi              40 pfi.py:930 Some theta angles are out of range\n",
      "2025-01-17 16:56:08.448Z pfi              40 pfi.py:930 Some theta angles are out of range\n",
      "2025-01-17 16:56:08.502Z pfi              40 pfi.py:930 Some theta angles are out of range\n",
      "2025-01-17 16:56:08.542Z pfi              40 pfi.py:930 Some theta angles are out of range\n"
     ]
    },
    {
     "name": "stdout",
     "output_type": "stream",
     "text": [
      "ERROR: detected 11 end point collision, which should be impossible\n",
      "trajectory collisions found: 15\n",
      "Set parameter Presolve to value 1\n"
     ]
    },
    {
     "name": "stderr",
     "output_type": "stream",
     "text": [
      "2025-01-17 16:56:12.629Z gurobipy         20 netflow.py:117 Set parameter Presolve to value 1\n"
     ]
    },
    {
     "name": "stdout",
     "output_type": "stream",
     "text": [
      "Set parameter Method to value 4\n"
     ]
    },
    {
     "name": "stderr",
     "output_type": "stream",
     "text": [
      "2025-01-17 16:56:12.633Z gurobipy         20 netflow.py:117 Set parameter Method to value 4\n"
     ]
    },
    {
     "name": "stdout",
     "output_type": "stream",
     "text": [
      "Set parameter DegenMoves to value 0\n"
     ]
    },
    {
     "name": "stderr",
     "output_type": "stream",
     "text": [
      "2025-01-17 16:56:12.635Z gurobipy         20 netflow.py:117 Set parameter DegenMoves to value 0\n"
     ]
    },
    {
     "name": "stdout",
     "output_type": "stream",
     "text": [
      "Set parameter Heuristics to value 0.8\n"
     ]
    },
    {
     "name": "stderr",
     "output_type": "stream",
     "text": [
      "2025-01-17 16:56:12.643Z gurobipy         20 netflow.py:117 Set parameter Heuristics to value 0.8\n"
     ]
    },
    {
     "name": "stdout",
     "output_type": "stream",
     "text": [
      "Set parameter MIPGap to value 0.05\n"
     ]
    },
    {
     "name": "stderr",
     "output_type": "stream",
     "text": [
      "2025-01-17 16:56:12.648Z gurobipy         20 netflow.py:117 Set parameter MIPGap to value 0.05\n"
     ]
    },
    {
     "name": "stdout",
     "output_type": "stream",
     "text": [
      "Creating network topology\n",
      "  exposure 1\n",
      "Calculating visibilities\n",
      "adding constraints\n",
      "adding collision constraints\n",
      "adding forbidden pair constraints\n",
      "Gurobi Optimizer version 10.0.1 build v10.0.1rc0 (mac64[x86])\n"
     ]
    },
    {
     "name": "stderr",
     "output_type": "stream",
     "text": [
      "2025-01-17 16:56:21.417Z gurobipy         20 netflow.py:149 Gurobi Optimizer version 10.0.1 build v10.0.1rc0 (mac64[x86])\n"
     ]
    },
    {
     "name": "stdout",
     "output_type": "stream",
     "text": [
      "\n"
     ]
    },
    {
     "name": "stderr",
     "output_type": "stream",
     "text": [
      "2025-01-17 16:56:21.419Z gurobipy         20 netflow.py:149 \n"
     ]
    },
    {
     "name": "stdout",
     "output_type": "stream",
     "text": [
      "CPU model: Intel(R) Core(TM) i7-8569U CPU @ 2.80GHz\n"
     ]
    },
    {
     "name": "stderr",
     "output_type": "stream",
     "text": [
      "2025-01-17 16:56:21.421Z gurobipy         20 netflow.py:149 CPU model: Intel(R) Core(TM) i7-8569U CPU @ 2.80GHz\n"
     ]
    },
    {
     "name": "stdout",
     "output_type": "stream",
     "text": [
      "Thread count: 4 physical cores, 8 logical processors, using up to 8 threads\n"
     ]
    },
    {
     "name": "stderr",
     "output_type": "stream",
     "text": [
      "2025-01-17 16:56:21.424Z gurobipy         20 netflow.py:149 Thread count: 4 physical cores, 8 logical processors, using up to 8 threads\n"
     ]
    },
    {
     "name": "stdout",
     "output_type": "stream",
     "text": [
      "\n"
     ]
    },
    {
     "name": "stderr",
     "output_type": "stream",
     "text": [
      "2025-01-17 16:56:21.426Z gurobipy         20 netflow.py:149 \n"
     ]
    },
    {
     "name": "stdout",
     "output_type": "stream",
     "text": [
      "Academic license 2379863 - for non-commercial use only - registered to ji___@ipmu.jp\n"
     ]
    },
    {
     "name": "stderr",
     "output_type": "stream",
     "text": [
      "2025-01-17 16:56:21.429Z gurobipy         20 netflow.py:149 Academic license 2379863 - for non-commercial use only - registered to ji___@ipmu.jp\n"
     ]
    },
    {
     "name": "stdout",
     "output_type": "stream",
     "text": [
      "Optimize a model with 99434 rows, 89861 columns and 271671 nonzeros\n"
     ]
    },
    {
     "name": "stderr",
     "output_type": "stream",
     "text": [
      "2025-01-17 16:56:21.432Z gurobipy         20 netflow.py:149 Optimize a model with 99434 rows, 89861 columns and 271671 nonzeros\n"
     ]
    },
    {
     "name": "stdout",
     "output_type": "stream",
     "text": [
      "Model fingerprint: 0x38971af6\n"
     ]
    },
    {
     "name": "stderr",
     "output_type": "stream",
     "text": [
      "2025-01-17 16:56:21.436Z gurobipy         20 netflow.py:149 Model fingerprint: 0x38971af6\n"
     ]
    },
    {
     "name": "stdout",
     "output_type": "stream",
     "text": [
      "Variable types: 1 continuous, 89860 integer (69113 binary)\n"
     ]
    },
    {
     "name": "stderr",
     "output_type": "stream",
     "text": [
      "2025-01-17 16:56:21.438Z gurobipy         20 netflow.py:149 Variable types: 1 continuous, 89860 integer (69113 binary)\n"
     ]
    },
    {
     "name": "stdout",
     "output_type": "stream",
     "text": [
      "Coefficient statistics:\n"
     ]
    },
    {
     "name": "stderr",
     "output_type": "stream",
     "text": [
      "2025-01-17 16:56:21.442Z gurobipy         20 netflow.py:149 Coefficient statistics:\n"
     ]
    },
    {
     "name": "stdout",
     "output_type": "stream",
     "text": [
      "  Matrix range     [1e+00, 1e+00]\n"
     ]
    },
    {
     "name": "stderr",
     "output_type": "stream",
     "text": [
      "2025-01-17 16:56:21.443Z gurobipy         20 netflow.py:149   Matrix range     [1e+00, 1e+00]\n"
     ]
    },
    {
     "name": "stdout",
     "output_type": "stream",
     "text": [
      "  Objective range  [2e-05, 1e+06]\n"
     ]
    },
    {
     "name": "stderr",
     "output_type": "stream",
     "text": [
      "2025-01-17 16:56:21.445Z gurobipy         20 netflow.py:149   Objective range  [2e-05, 1e+06]\n"
     ]
    },
    {
     "name": "stdout",
     "output_type": "stream",
     "text": [
      "  Bounds range     [1e+00, 1e+00]\n"
     ]
    },
    {
     "name": "stderr",
     "output_type": "stream",
     "text": [
      "2025-01-17 16:56:21.447Z gurobipy         20 netflow.py:149   Bounds range     [1e+00, 1e+00]\n"
     ]
    },
    {
     "name": "stdout",
     "output_type": "stream",
     "text": [
      "  RHS range        [1e+00, 2e+04]\n"
     ]
    },
    {
     "name": "stderr",
     "output_type": "stream",
     "text": [
      "2025-01-17 16:56:21.449Z gurobipy         20 netflow.py:149   RHS range        [1e+00, 2e+04]\n"
     ]
    },
    {
     "name": "stdout",
     "output_type": "stream",
     "text": [
      "Found heuristic solution: objective 4214411.8783\n"
     ]
    },
    {
     "name": "stderr",
     "output_type": "stream",
     "text": [
      "2025-01-17 16:56:21.477Z gurobipy         20 netflow.py:149 Found heuristic solution: objective 4214411.8783\n"
     ]
    },
    {
     "name": "stdout",
     "output_type": "stream",
     "text": [
      "Presolve removed 99434 rows and 89861 columns\n"
     ]
    },
    {
     "name": "stderr",
     "output_type": "stream",
     "text": [
      "2025-01-17 16:56:21.683Z gurobipy         20 netflow.py:149 Presolve removed 99434 rows and 89861 columns\n"
     ]
    },
    {
     "name": "stdout",
     "output_type": "stream",
     "text": [
      "Presolve time: 0.20s\n"
     ]
    },
    {
     "name": "stderr",
     "output_type": "stream",
     "text": [
      "2025-01-17 16:56:21.685Z gurobipy         20 netflow.py:149 Presolve time: 0.20s\n"
     ]
    },
    {
     "name": "stdout",
     "output_type": "stream",
     "text": [
      "Presolve: All rows and columns removed\n"
     ]
    },
    {
     "name": "stderr",
     "output_type": "stream",
     "text": [
      "2025-01-17 16:56:21.690Z gurobipy         20 netflow.py:149 Presolve: All rows and columns removed\n"
     ]
    },
    {
     "name": "stdout",
     "output_type": "stream",
     "text": [
      "\n"
     ]
    },
    {
     "name": "stderr",
     "output_type": "stream",
     "text": [
      "2025-01-17 16:56:21.701Z gurobipy         20 netflow.py:149 \n"
     ]
    },
    {
     "name": "stdout",
     "output_type": "stream",
     "text": [
      "Explored 0 nodes (0 simplex iterations) in 0.27 seconds (0.13 work units)\n"
     ]
    },
    {
     "name": "stderr",
     "output_type": "stream",
     "text": [
      "2025-01-17 16:56:21.703Z gurobipy         20 netflow.py:149 Explored 0 nodes (0 simplex iterations) in 0.27 seconds (0.13 work units)\n"
     ]
    },
    {
     "name": "stdout",
     "output_type": "stream",
     "text": [
      "Thread count was 1 (of 8 available processors)\n"
     ]
    },
    {
     "name": "stderr",
     "output_type": "stream",
     "text": [
      "2025-01-17 16:56:21.704Z gurobipy         20 netflow.py:149 Thread count was 1 (of 8 available processors)\n"
     ]
    },
    {
     "name": "stdout",
     "output_type": "stream",
     "text": [
      "\n"
     ]
    },
    {
     "name": "stderr",
     "output_type": "stream",
     "text": [
      "2025-01-17 16:56:21.706Z gurobipy         20 netflow.py:149 \n"
     ]
    },
    {
     "name": "stdout",
     "output_type": "stream",
     "text": [
      "Solution count 2: 3.84706e+06 4.21441e+06 \n"
     ]
    },
    {
     "name": "stderr",
     "output_type": "stream",
     "text": [
      "2025-01-17 16:56:21.708Z gurobipy         20 netflow.py:149 Solution count 2: 3.84706e+06 4.21441e+06 \n"
     ]
    },
    {
     "name": "stdout",
     "output_type": "stream",
     "text": [
      "\n"
     ]
    },
    {
     "name": "stderr",
     "output_type": "stream",
     "text": [
      "2025-01-17 16:56:21.710Z gurobipy         20 netflow.py:149 \n"
     ]
    },
    {
     "name": "stdout",
     "output_type": "stream",
     "text": [
      "Optimal solution found (tolerance 5.00e-02)\n"
     ]
    },
    {
     "name": "stderr",
     "output_type": "stream",
     "text": [
      "2025-01-17 16:56:21.711Z gurobipy         20 netflow.py:149 Optimal solution found (tolerance 5.00e-02)\n"
     ]
    },
    {
     "name": "stdout",
     "output_type": "stream",
     "text": [
      "Best objective 3.847057761078e+06, best bound 3.847057761078e+06, gap 0.0000%\n"
     ]
    },
    {
     "name": "stderr",
     "output_type": "stream",
     "text": [
      "2025-01-17 16:56:21.716Z gurobipy         20 netflow.py:149 Best objective 3.847057761078e+06, best bound 3.847057761078e+06, gap 0.0000%\n"
     ]
    },
    {
     "name": "stdout",
     "output_type": "stream",
     "text": [
      "Checking for trajectory collisions\n"
     ]
    },
    {
     "name": "stderr",
     "output_type": "stream",
     "text": [
      "2025-01-17 16:56:21.905Z pfi              40 pfi.py:896 Some theta angles are out of range\n",
      "2025-01-17 16:56:21.906Z pfi              40 pfi.py:899 Some phi angles are out of range\n",
      "2025-01-17 16:56:22.030Z pfi              40 pfi.py:899 Some phi angles are out of range\n",
      "2025-01-17 16:56:22.065Z pfi              40 pfi.py:899 Some phi angles are out of range\n",
      "2025-01-17 16:56:22.068Z engineer         20 engineer.py:395 Move theta arms to angle=[ 75.91 333.02 131.97 ... 210.2  360.   224.27] degree\n",
      "2025-01-17 16:56:22.069Z engineer         20 engineer.py:396 Move phi arms to angle=[ 6.62 42.74 10.15 ...  8.33 11.99 14.19] degree\n",
      "2025-01-17 16:56:22.070Z engineer         20 engineer.py:398 Checking passed homed argument = True\n",
      "2025-01-17 16:56:22.070Z engineer         20 engineer.py:402 Move theta arms CW and phi arms CCW to the hard stops\n",
      "2025-01-17 16:56:22.095Z cobraCoach       20 cobraCoach.py:1065 home cobras: theta=10000, phi=-5000\n",
      "2025-01-17 16:56:22.118Z pfi              40 pfi.py:899 Some phi angles are out of range\n",
      "2025-01-17 16:56:22.140Z pfi              40 pfi.py:899 Some phi angles are out of range\n",
      "2025-01-17 16:56:22.142Z engineer         20 engineer.py:412 Sending angles to moveToAngles for 0-th iteration\n",
      "2025-01-17 16:56:22.165Z cobraCoach       20 cobraCoach.py:1009 Moving deltaTheta = [-5.25294989 -0.85284527 -4.33602077 ... -3.02040524 -0.4013664\n",
      " -2.78477536]\n",
      "2025-01-17 16:56:22.166Z cobraCoach       20 cobraCoach.py:1010 Moving deltaPhi = [0.11558998 0.74591546 0.1772055  ... 0.14539386 0.20932294 0.24760745]\n",
      "2025-01-17 16:56:22.456Z cobraCoach       20 cobraCoach.py:877 Finished converting angle to steps, sending command to moveSteps (constantOntime).\n",
      "2025-01-17 16:56:23.182Z cobraCoach       20 cobraCoach.py:587 Sending step numbers to FPGA for moving cobra.\n",
      "2025-01-17 16:56:23.296Z cobraCoach       20 cobraCoach.py:601 cobra control FPGA operation done.\n",
      "2025-01-17 16:56:23.323Z pfi              40 pfi.py:896 Some theta angles are out of range\n",
      "2025-01-17 16:56:23.324Z pfi              40 pfi.py:899 Some phi angles are out of range\n",
      "2025-01-17 16:56:23.442Z cobraCoach       30 cobraCoach.py:675 Cobra#344 is too far from center\n",
      "2025-01-17 16:56:23.444Z cobraCoach       30 cobraCoach.py:675 Cobra#443 is too far from center\n",
      "2025-01-17 16:56:23.446Z cobraCoach       30 cobraCoach.py:675 Cobra#493 is too far from center\n",
      "2025-01-17 16:56:23.466Z cobraCoach       30 cobraCoach.py:675 Cobra#1303 is too far from center\n",
      "2025-01-17 16:56:23.475Z cobraCoach       30 cobraCoach.py:675 Cobra#1637 is too far from center\n",
      "2025-01-17 16:56:23.479Z cobraCoach       30 cobraCoach.py:675 Cobra#1790 is too far from center\n",
      "2025-01-17 16:56:23.481Z cobraCoach       30 cobraCoach.py:675 Cobra#1792 is too far from center\n",
      "2025-01-17 16:56:23.504Z engineer         20 engineer.py:422 Updating the cobra information\n",
      "2025-01-17 16:56:23.509Z engineer         20 engineer.py:436 done: [   0    1    2 ... 2391 2392 2393], 21 left\n",
      "2025-01-17 16:56:23.510Z engineer         20 engineer.py:412 Sending angles to moveToAngles for 1-th iteration\n",
      "2025-01-17 16:56:23.512Z cobraCoach       30 cobraCoach.py:1003 Last phi angle is unknown, not moving: [1459]\n",
      "2025-01-17 16:56:23.514Z cobraCoach       20 cobraCoach.py:1009 Moving deltaTheta = [-1.01748456e-05 -1.01748456e-05 -1.01748456e-05 -2.52731626e+00\n",
      " -1.01748456e-05 -6.78881414e-04 -1.87148445e-03 -2.65016099e-02\n",
      " -1.01748456e-05 -1.01748456e-05 -1.01748455e-05 -1.01748456e-05\n",
      " -1.01748455e-05 -5.29851305e-02 -1.32093872e+00  2.86555532e-04\n",
      " -1.01748456e-05 -1.01748456e-05 -3.50271147e-01 -2.01198950e+00\n",
      "  1.10228624e-03]\n",
      "2025-01-17 16:56:23.517Z cobraCoach       20 cobraCoach.py:1010 Moving deltaPhi = [-6.10865247e+00 -6.10865247e+00 -6.10865247e+00 -7.02523876e-04\n",
      " -2.96705959e+00 -1.80912812e-03 -1.01238450e-03  4.23083895e-02\n",
      " -6.10865247e+00  0.00000000e+00 -2.96705964e+00 -2.96705969e+00\n",
      " -6.10865247e+00  2.15367095e-04  4.48039121e-01  2.15164131e-03\n",
      " -6.10865247e+00 -6.10865247e+00 -6.45651525e-05  2.36550771e-01\n",
      " -4.98778998e-02]\n",
      "2025-01-17 16:56:23.519Z cobraCoach       30 cobraCoach.py:846 Last phi angle is unknown: [1459]\n",
      "2025-01-17 16:56:23.524Z cobraCoach       20 cobraCoach.py:877 Finished converting angle to steps, sending command to moveSteps (constantOntime).\n",
      "2025-01-17 16:56:23.536Z cobraCoach       20 cobraCoach.py:587 Sending step numbers to FPGA for moving cobra.\n",
      "2025-01-17 16:56:23.541Z cobraCoach       20 cobraCoach.py:601 cobra control FPGA operation done.\n",
      "2025-01-17 16:56:23.574Z pfi              40 pfi.py:896 Some theta angles are out of range\n",
      "2025-01-17 16:56:23.576Z pfi              40 pfi.py:899 Some phi angles are out of range\n",
      "2025-01-17 16:56:23.705Z cobraCoach       30 cobraCoach.py:675 Cobra#344 is too far from center\n",
      "2025-01-17 16:56:23.707Z cobraCoach       30 cobraCoach.py:679 Cobra#1460 is too close to center\n",
      "2025-01-17 16:56:23.708Z cobraCoach       30 cobraCoach.py:675 Cobra#1637 is too far from center\n",
      "2025-01-17 16:56:23.710Z cobraCoach       30 cobraCoach.py:675 Cobra#1790 is too far from center\n",
      "2025-01-17 16:56:23.712Z engineer         20 engineer.py:422 Updating the cobra information\n",
      "2025-01-17 16:56:23.716Z engineer         20 engineer.py:436 done: [ 683 1055 1200 1276 1667 1729 1782 1929 1956], 12 left\n",
      "2025-01-17 16:56:23.718Z engineer         30 engineer.py:445 12 cobras did not finish: [ 343  442  492  737 1302 1459 1493 1538 1636 1789 1791 1969], [4.67 4.67 4.67 4.67 4.67 0.82 4.67 4.67 4.67 4.67 4.67 0.11]\n",
      "2025-01-17 16:56:23.720Z engineer         20 engineer.py:450 Returning 2394 atThetas and 2394 atPhis\n",
      "2025-01-17 16:56:23.749Z pfi              40 pfi.py:899 Some phi angles are out of range\n",
      "2025-01-17 16:56:23.752Z engineer         20 engineer.py:395 Move theta arms to angle=[ 75.91 333.02 131.97 ... 210.2  360.   224.27] degree\n",
      "2025-01-17 16:56:23.754Z engineer         20 engineer.py:396 Move phi arms to angle=[ 6.62 42.74 10.15 ...  8.33 11.99 14.19] degree\n",
      "2025-01-17 16:56:23.755Z engineer         20 engineer.py:398 Checking passed homed argument = False\n",
      "2025-01-17 16:56:23.758Z engineer         20 engineer.py:412 Sending angles to moveToAngles for 0-th iteration\n",
      "2025-01-17 16:56:23.792Z cobraCoach       20 cobraCoach.py:1009 Moving deltaTheta = [ 0.0007928  -0.00028284  0.00117177 ...  0.00017839  0.00038417\n",
      " -0.00096284]\n",
      "2025-01-17 16:56:23.793Z cobraCoach       20 cobraCoach.py:1010 Moving deltaPhi = [-0.00012803 -0.00109006 -0.00103967 ...  0.00054019 -0.00083972\n",
      " -0.00047282]\n",
      "2025-01-17 16:56:24.033Z cobraCoach       20 cobraCoach.py:877 Finished converting angle to steps, sending command to moveSteps (constantOntime).\n",
      "2025-01-17 16:56:24.296Z cobraCoach       20 cobraCoach.py:587 Sending step numbers to FPGA for moving cobra.\n",
      "2025-01-17 16:56:24.411Z cobraCoach       20 cobraCoach.py:601 cobra control FPGA operation done.\n",
      "2025-01-17 16:56:24.434Z pfi              40 pfi.py:896 Some theta angles are out of range\n",
      "2025-01-17 16:56:24.435Z pfi              40 pfi.py:899 Some phi angles are out of range\n",
      "2025-01-17 16:56:24.565Z cobraCoach       30 cobraCoach.py:675 Cobra#1303 is too far from center\n",
      "2025-01-17 16:56:24.577Z cobraCoach       30 cobraCoach.py:675 Cobra#1790 is too far from center\n",
      "2025-01-17 16:56:24.599Z engineer         20 engineer.py:422 Updating the cobra information\n",
      "2025-01-17 16:56:24.602Z engineer         20 engineer.py:436 done: [   0    1    2 ... 2391 2392 2393], 14 left\n",
      "2025-01-17 16:56:24.604Z engineer         20 engineer.py:412 Sending angles to moveToAngles for 1-th iteration\n",
      "2025-01-17 16:56:24.605Z cobraCoach       30 cobraCoach.py:1003 Last phi angle is unknown, not moving: [1459]\n",
      "2025-01-17 16:56:24.607Z cobraCoach       20 cobraCoach.py:1009 Moving deltaTheta = [-1.94233989e-04 -5.14191722e-04 -6.14804362e-04 -1.01748456e-05\n",
      "  2.69975771e-06 -1.01748456e-05 -1.01748455e-05 -1.01748456e-05\n",
      " -1.03632841e-03 -6.68898607e-02 -1.01748456e-05 -3.80200480e-04\n",
      " -1.05065440e-04 -7.24306932e-04]\n",
      "2025-01-17 16:56:24.609Z cobraCoach       20 cobraCoach.py:1010 Moving deltaPhi = [-2.96687409e+00 -2.96705963e+00 -2.96705960e+00 -2.96705959e+00\n",
      " -6.10865247e+00  0.00000000e+00 -2.96705964e+00 -2.96705969e+00\n",
      " -2.96602327e+00  5.88029203e-01 -6.10865247e+00 -2.96705960e+00\n",
      " -4.98778998e-02 -1.24785700e-03]\n",
      "2025-01-17 16:56:24.611Z cobraCoach       30 cobraCoach.py:846 Last phi angle is unknown: [1459]\n",
      "2025-01-17 16:56:24.613Z cobraCoach       20 cobraCoach.py:877 Finished converting angle to steps, sending command to moveSteps (constantOntime).\n",
      "2025-01-17 16:56:24.623Z cobraCoach       20 cobraCoach.py:587 Sending step numbers to FPGA for moving cobra.\n",
      "2025-01-17 16:56:24.628Z cobraCoach       20 cobraCoach.py:601 cobra control FPGA operation done.\n",
      "2025-01-17 16:56:24.652Z pfi              40 pfi.py:896 Some theta angles are out of range\n",
      "2025-01-17 16:56:24.653Z pfi              40 pfi.py:899 Some phi angles are out of range\n",
      "2025-01-17 16:56:24.743Z cobraCoach       30 cobraCoach.py:675 Cobra#344 is too far from center\n",
      "2025-01-17 16:56:24.745Z pfi              30 pfi.py:475 clipping scale adjustment from 0.2573481031895782 to 0.3\n",
      "2025-01-17 16:56:24.745Z cobraCoach       30 cobraCoach.py:679 Cobra#1460 is too close to center\n",
      "2025-01-17 16:56:24.746Z pfi              30 pfi.py:475 clipping scale adjustment from 0.26154231110049525 to 0.3\n",
      "2025-01-17 16:56:24.748Z engineer         20 engineer.py:422 Updating the cobra information\n",
      "2025-01-17 16:56:24.750Z engineer         20 engineer.py:436 done: [1729 2153], 12 left\n",
      "2025-01-17 16:56:24.751Z engineer         20 engineer.py:412 Sending angles to moveToAngles for 2-th iteration\n",
      "2025-01-17 16:56:24.753Z cobraCoach       20 cobraCoach.py:1009 Moving deltaTheta = [-1.94233989e-04 -5.14191722e-04 -6.14804362e-04 -1.01748456e-05\n",
      " -1.09852569e+00 -1.01748456e-05 -1.01748455e-05 -1.01748456e-05\n",
      " -1.03632841e-03 -1.07143418e+00 -3.80200480e-04 -1.05065440e-04]\n",
      "2025-01-17 16:56:24.754Z cobraCoach       20 cobraCoach.py:1010 Moving deltaPhi = [-6.10865247 -2.96705963 -2.9670596  -2.96705959 -1.71883189 -2.96705973\n",
      " -2.96705964 -2.96705969 -2.96705964 -1.88389766 -2.9670596  -0.0498779 ]\n",
      "2025-01-17 16:56:24.757Z cobraCoach       20 cobraCoach.py:877 Finished converting angle to steps, sending command to moveSteps (constantOntime).\n",
      "2025-01-17 16:56:24.763Z cobraCoach       20 cobraCoach.py:587 Sending step numbers to FPGA for moving cobra.\n",
      "2025-01-17 16:56:24.765Z cobraCoach       20 cobraCoach.py:601 cobra control FPGA operation done.\n",
      "2025-01-17 16:56:24.789Z pfi              40 pfi.py:896 Some theta angles are out of range\n",
      "2025-01-17 16:56:24.790Z pfi              40 pfi.py:899 Some phi angles are out of range\n",
      "2025-01-17 16:56:24.911Z pfi              30 pfi.py:475 clipping scale adjustment from 0.2859424141191533 to 0.3\n",
      "2025-01-17 16:56:24.912Z cobraCoach       30 cobraCoach.py:675 Cobra#1303 is too far from center\n",
      "2025-01-17 16:56:24.913Z pfi              30 pfi.py:475 clipping scale adjustment from 0.29999999904403885 to 0.3\n",
      "2025-01-17 16:56:24.914Z cobraCoach       30 cobraCoach.py:675 Cobra#1790 is too far from center\n",
      "2025-01-17 16:56:24.916Z engineer         20 engineer.py:422 Updating the cobra information\n",
      "2025-01-17 16:56:24.920Z engineer         20 engineer.py:412 Sending angles to moveToAngles for 3-th iteration\n",
      "2025-01-17 16:56:24.922Z cobraCoach       30 cobraCoach.py:1003 Last phi angle is unknown, not moving: [1459]\n",
      "2025-01-17 16:56:24.923Z cobraCoach       20 cobraCoach.py:1009 Moving deltaTheta = [-3.21863813e-01 -5.14191722e-04 -6.14804362e-04 -1.01748456e-05\n",
      " -6.82685060e-01 -1.01748456e-05 -1.01748455e-05 -1.01748456e-05\n",
      " -1.03632841e-03 -3.25590772e-01 -3.80200480e-04 -1.05065440e-04]\n",
      "2025-01-17 16:56:24.924Z cobraCoach       20 cobraCoach.py:1010 Moving deltaPhi = [-2.64219266 -2.96705963 -2.9670596  -2.96705959 -6.10865247  0.\n",
      " -2.96705964 -2.96705969 -2.96705964 -6.10865247 -2.9670596  -0.0498779 ]\n",
      "2025-01-17 16:56:24.926Z cobraCoach       30 cobraCoach.py:846 Last phi angle is unknown: [1459]\n",
      "2025-01-17 16:56:24.928Z cobraCoach       20 cobraCoach.py:877 Finished converting angle to steps, sending command to moveSteps (constantOntime).\n",
      "2025-01-17 16:56:24.935Z cobraCoach       20 cobraCoach.py:587 Sending step numbers to FPGA for moving cobra.\n",
      "2025-01-17 16:56:24.937Z cobraCoach       20 cobraCoach.py:601 cobra control FPGA operation done.\n",
      "2025-01-17 16:56:24.961Z pfi              40 pfi.py:896 Some theta angles are out of range\n",
      "2025-01-17 16:56:24.963Z pfi              40 pfi.py:899 Some phi angles are out of range\n",
      "2025-01-17 16:56:25.057Z pfi              30 pfi.py:475 clipping scale adjustment from 0.22521650184055392 to 0.3\n",
      "2025-01-17 16:56:25.058Z pfi              30 pfi.py:475 clipping scale adjustment from 0.2573481031895782 to 0.3\n",
      "2025-01-17 16:56:25.059Z cobraCoach       30 cobraCoach.py:679 Cobra#1460 is too close to center\n",
      "2025-01-17 16:56:25.060Z pfi              30 pfi.py:475 clipping scale adjustment from 0.22664453700152026 to 0.3\n",
      "2025-01-17 16:56:25.061Z pfi              30 pfi.py:475 clipping scale adjustment from 0.26154231110049525 to 0.3\n",
      "2025-01-17 16:56:25.062Z engineer         20 engineer.py:422 Updating the cobra information\n",
      "2025-01-17 16:56:25.064Z engineer         20 engineer.py:412 Sending angles to moveToAngles for 4-th iteration\n",
      "2025-01-17 16:56:25.066Z cobraCoach       20 cobraCoach.py:1009 Moving deltaTheta = [-2.17122172e-04 -5.14191722e-04 -6.14804362e-04 -1.01748456e-05\n",
      "  4.51698156e+00 -1.01748456e-05 -1.01748455e-05 -1.01748456e-05\n",
      " -1.03632841e-03  5.00301130e+00 -3.80200480e-04 -1.05065440e-04]\n",
      "2025-01-17 16:56:25.067Z cobraCoach       20 cobraCoach.py:1010 Moving deltaPhi = [-2.96705965 -2.96705963 -2.9670596  -2.96705959 -1.71883189 -2.96705973\n",
      " -2.96705964 -2.96705969 -2.96705964 -1.88389766 -2.9670596  -0.0498779 ]\n",
      "2025-01-17 16:56:25.069Z cobraCoach       20 cobraCoach.py:877 Finished converting angle to steps, sending command to moveSteps (constantOntime).\n",
      "2025-01-17 16:56:25.077Z cobraCoach       20 cobraCoach.py:587 Sending step numbers to FPGA for moving cobra.\n",
      "2025-01-17 16:56:25.079Z cobraCoach       20 cobraCoach.py:601 cobra control FPGA operation done.\n",
      "2025-01-17 16:56:25.102Z pfi              40 pfi.py:896 Some theta angles are out of range\n",
      "2025-01-17 16:56:25.103Z pfi              40 pfi.py:899 Some phi angles are out of range\n",
      "2025-01-17 16:56:25.198Z cobraCoach       30 cobraCoach.py:675 Cobra#1790 is too far from center\n",
      "2025-01-17 16:56:25.199Z pfi              30 pfi.py:475 clipping scale adjustment from 0.29999999510714737 to 0.3\n",
      "2025-01-17 16:56:25.200Z engineer         20 engineer.py:422 Updating the cobra information\n",
      "2025-01-17 16:56:25.203Z engineer         20 engineer.py:412 Sending angles to moveToAngles for 5-th iteration\n",
      "2025-01-17 16:56:25.204Z cobraCoach       30 cobraCoach.py:1003 Last phi angle is unknown, not moving: [1459]\n",
      "2025-01-17 16:56:25.206Z cobraCoach       20 cobraCoach.py:1009 Moving deltaTheta = [-2.17122172e-04 -5.14191722e-04 -6.14804362e-04 -1.01748456e-05\n",
      " -4.10811338e-03 -1.01748456e-05 -1.01748455e-05 -1.01748456e-05\n",
      " -1.03632841e-03  7.85623389e-01 -3.80200480e-04 -1.05065440e-04]\n",
      "2025-01-17 16:56:25.207Z cobraCoach       20 cobraCoach.py:1010 Moving deltaPhi = [-2.96705965 -2.96705963 -2.9670596  -2.96705959 -2.96705962  0.\n",
      " -2.96705964 -2.96705969 -2.96705964 -6.10865247 -2.9670596  -0.0498779 ]\n",
      "2025-01-17 16:56:25.209Z cobraCoach       30 cobraCoach.py:846 Last phi angle is unknown: [1459]\n",
      "2025-01-17 16:56:25.212Z cobraCoach       20 cobraCoach.py:877 Finished converting angle to steps, sending command to moveSteps (constantOntime).\n",
      "2025-01-17 16:56:25.218Z cobraCoach       20 cobraCoach.py:587 Sending step numbers to FPGA for moving cobra.\n",
      "2025-01-17 16:56:25.221Z cobraCoach       20 cobraCoach.py:601 cobra control FPGA operation done.\n",
      "2025-01-17 16:56:25.245Z pfi              40 pfi.py:896 Some theta angles are out of range\n",
      "2025-01-17 16:56:25.246Z pfi              40 pfi.py:899 Some phi angles are out of range\n",
      "2025-01-17 16:56:25.350Z pfi              30 pfi.py:475 clipping scale adjustment from 0.2250489700875823 to 0.3\n",
      "2025-01-17 16:56:25.351Z cobraCoach       30 cobraCoach.py:679 Cobra#1460 is too close to center\n",
      "2025-01-17 16:56:25.352Z pfi              30 pfi.py:475 clipping scale adjustment from 0.2561286605203101 to 0.3\n",
      "2025-01-17 16:56:25.353Z pfi              30 pfi.py:475 clipping scale adjustment from 0.26154231110049525 to 0.3\n",
      "2025-01-17 16:56:25.355Z engineer         20 engineer.py:422 Updating the cobra information\n",
      "2025-01-17 16:56:25.360Z engineer         30 engineer.py:445 12 cobras did not finish: [ 343  442  492  737 1302 1459 1493 1538 1636 1789 1791 1969], [4.67 4.67 4.67 4.67 4.67 0.82 4.67 4.67 4.67 4.2  4.67 0.11]\n",
      "2025-01-17 16:56:25.362Z engineer         20 engineer.py:450 Returning 2394 atThetas and 2394 atPhis\n",
      "2025-01-17 16:56:25.387Z pfi              40 pfi.py:896 Some theta angles are out of range\n",
      "2025-01-17 16:56:25.390Z pfi              40 pfi.py:899 Some phi angles are out of range\n",
      "2025-01-17 16:56:25.492Z pfi              40 pfi.py:896 Some theta angles are out of range\n",
      "2025-01-17 16:56:25.496Z pfi              40 pfi.py:899 Some phi angles are out of range\n",
      "2025-01-17 16:56:25.566Z pfi              40 pfi.py:896 Some theta angles are out of range\n",
      "2025-01-17 16:56:25.567Z pfi              40 pfi.py:899 Some phi angles are out of range\n",
      "2025-01-17 16:56:25.613Z pfi              40 pfi.py:896 Some theta angles are out of range\n",
      "2025-01-17 16:56:25.615Z pfi              40 pfi.py:899 Some phi angles are out of range\n",
      "2025-01-17 16:56:25.682Z pfi              40 pfi.py:896 Some theta angles are out of range\n",
      "2025-01-17 16:56:25.684Z pfi              40 pfi.py:899 Some phi angles are out of range\n",
      "2025-01-17 16:56:25.737Z pfi              40 pfi.py:896 Some theta angles are out of range\n",
      "2025-01-17 16:56:25.739Z pfi              40 pfi.py:899 Some phi angles are out of range\n",
      "2025-01-17 16:56:25.790Z pfi              40 pfi.py:896 Some theta angles are out of range\n",
      "2025-01-17 16:56:25.792Z pfi              40 pfi.py:899 Some phi angles are out of range\n",
      "2025-01-17 16:56:25.840Z pfi              40 pfi.py:896 Some theta angles are out of range\n",
      "2025-01-17 16:56:25.841Z pfi              40 pfi.py:899 Some phi angles are out of range\n",
      "2025-01-17 16:56:25.888Z pfi              40 pfi.py:930 Some theta angles are out of range\n",
      "2025-01-17 16:56:25.955Z pfi              40 pfi.py:930 Some theta angles are out of range\n",
      "2025-01-17 16:56:26.005Z pfi              40 pfi.py:930 Some theta angles are out of range\n",
      "2025-01-17 16:56:26.057Z pfi              40 pfi.py:930 Some theta angles are out of range\n",
      "2025-01-17 16:56:26.097Z pfi              40 pfi.py:930 Some theta angles are out of range\n",
      "2025-01-17 16:56:26.137Z pfi              40 pfi.py:930 Some theta angles are out of range\n",
      "2025-01-17 16:56:26.186Z pfi              40 pfi.py:930 Some theta angles are out of range\n",
      "2025-01-17 16:56:26.226Z pfi              40 pfi.py:930 Some theta angles are out of range\n"
     ]
    },
    {
     "name": "stdout",
     "output_type": "stream",
     "text": [
      "ERROR: detected 7 end point collision, which should be impossible\n",
      "trajectory collisions found: 13\n",
      "Set parameter Presolve to value 1\n"
     ]
    },
    {
     "name": "stderr",
     "output_type": "stream",
     "text": [
      "2025-01-17 16:56:30.546Z gurobipy         20 netflow.py:117 Set parameter Presolve to value 1\n"
     ]
    },
    {
     "name": "stdout",
     "output_type": "stream",
     "text": [
      "Set parameter Method to value 4\n"
     ]
    },
    {
     "name": "stderr",
     "output_type": "stream",
     "text": [
      "2025-01-17 16:56:30.548Z gurobipy         20 netflow.py:117 Set parameter Method to value 4\n"
     ]
    },
    {
     "name": "stdout",
     "output_type": "stream",
     "text": [
      "Set parameter DegenMoves to value 0\n"
     ]
    },
    {
     "name": "stderr",
     "output_type": "stream",
     "text": [
      "2025-01-17 16:56:30.553Z gurobipy         20 netflow.py:117 Set parameter DegenMoves to value 0\n"
     ]
    },
    {
     "name": "stdout",
     "output_type": "stream",
     "text": [
      "Set parameter Heuristics to value 0.8\n"
     ]
    },
    {
     "name": "stderr",
     "output_type": "stream",
     "text": [
      "2025-01-17 16:56:30.556Z gurobipy         20 netflow.py:117 Set parameter Heuristics to value 0.8\n"
     ]
    },
    {
     "name": "stdout",
     "output_type": "stream",
     "text": [
      "Set parameter MIPGap to value 0.05\n"
     ]
    },
    {
     "name": "stderr",
     "output_type": "stream",
     "text": [
      "2025-01-17 16:56:30.560Z gurobipy         20 netflow.py:117 Set parameter MIPGap to value 0.05\n"
     ]
    },
    {
     "name": "stdout",
     "output_type": "stream",
     "text": [
      "Creating network topology\n",
      "  exposure 1\n",
      "Calculating visibilities\n",
      "adding constraints\n",
      "adding collision constraints\n",
      "adding forbidden pair constraints\n",
      "Gurobi Optimizer version 10.0.1 build v10.0.1rc0 (mac64[x86])\n"
     ]
    },
    {
     "name": "stderr",
     "output_type": "stream",
     "text": [
      "2025-01-17 16:56:38.753Z gurobipy         20 netflow.py:149 Gurobi Optimizer version 10.0.1 build v10.0.1rc0 (mac64[x86])\n"
     ]
    },
    {
     "name": "stdout",
     "output_type": "stream",
     "text": [
      "\n"
     ]
    },
    {
     "name": "stderr",
     "output_type": "stream",
     "text": [
      "2025-01-17 16:56:38.755Z gurobipy         20 netflow.py:149 \n"
     ]
    },
    {
     "name": "stdout",
     "output_type": "stream",
     "text": [
      "CPU model: Intel(R) Core(TM) i7-8569U CPU @ 2.80GHz\n"
     ]
    },
    {
     "name": "stderr",
     "output_type": "stream",
     "text": [
      "2025-01-17 16:56:38.756Z gurobipy         20 netflow.py:149 CPU model: Intel(R) Core(TM) i7-8569U CPU @ 2.80GHz\n"
     ]
    },
    {
     "name": "stdout",
     "output_type": "stream",
     "text": [
      "Thread count: 4 physical cores, 8 logical processors, using up to 8 threads\n"
     ]
    },
    {
     "name": "stderr",
     "output_type": "stream",
     "text": [
      "2025-01-17 16:56:38.757Z gurobipy         20 netflow.py:149 Thread count: 4 physical cores, 8 logical processors, using up to 8 threads\n"
     ]
    },
    {
     "name": "stdout",
     "output_type": "stream",
     "text": [
      "\n"
     ]
    },
    {
     "name": "stderr",
     "output_type": "stream",
     "text": [
      "2025-01-17 16:56:38.759Z gurobipy         20 netflow.py:149 \n"
     ]
    },
    {
     "name": "stdout",
     "output_type": "stream",
     "text": [
      "Academic license 2379863 - for non-commercial use only - registered to ji___@ipmu.jp\n"
     ]
    },
    {
     "name": "stderr",
     "output_type": "stream",
     "text": [
      "2025-01-17 16:56:38.761Z gurobipy         20 netflow.py:149 Academic license 2379863 - for non-commercial use only - registered to ji___@ipmu.jp\n"
     ]
    },
    {
     "name": "stdout",
     "output_type": "stream",
     "text": [
      "Optimize a model with 99447 rows, 89861 columns and 271693 nonzeros\n"
     ]
    },
    {
     "name": "stderr",
     "output_type": "stream",
     "text": [
      "2025-01-17 16:56:38.762Z gurobipy         20 netflow.py:149 Optimize a model with 99447 rows, 89861 columns and 271693 nonzeros\n"
     ]
    },
    {
     "name": "stdout",
     "output_type": "stream",
     "text": [
      "Model fingerprint: 0x3ad5d3db\n"
     ]
    },
    {
     "name": "stderr",
     "output_type": "stream",
     "text": [
      "2025-01-17 16:56:38.766Z gurobipy         20 netflow.py:149 Model fingerprint: 0x3ad5d3db\n"
     ]
    },
    {
     "name": "stdout",
     "output_type": "stream",
     "text": [
      "Variable types: 1 continuous, 89860 integer (69113 binary)\n"
     ]
    },
    {
     "name": "stderr",
     "output_type": "stream",
     "text": [
      "2025-01-17 16:56:38.768Z gurobipy         20 netflow.py:149 Variable types: 1 continuous, 89860 integer (69113 binary)\n"
     ]
    },
    {
     "name": "stdout",
     "output_type": "stream",
     "text": [
      "Coefficient statistics:\n"
     ]
    },
    {
     "name": "stderr",
     "output_type": "stream",
     "text": [
      "2025-01-17 16:56:38.771Z gurobipy         20 netflow.py:149 Coefficient statistics:\n"
     ]
    },
    {
     "name": "stdout",
     "output_type": "stream",
     "text": [
      "  Matrix range     [1e+00, 1e+00]\n"
     ]
    },
    {
     "name": "stderr",
     "output_type": "stream",
     "text": [
      "2025-01-17 16:56:38.773Z gurobipy         20 netflow.py:149   Matrix range     [1e+00, 1e+00]\n"
     ]
    },
    {
     "name": "stdout",
     "output_type": "stream",
     "text": [
      "  Objective range  [2e-05, 1e+06]\n"
     ]
    },
    {
     "name": "stderr",
     "output_type": "stream",
     "text": [
      "2025-01-17 16:56:38.774Z gurobipy         20 netflow.py:149   Objective range  [2e-05, 1e+06]\n"
     ]
    },
    {
     "name": "stdout",
     "output_type": "stream",
     "text": [
      "  Bounds range     [1e+00, 1e+00]\n"
     ]
    },
    {
     "name": "stderr",
     "output_type": "stream",
     "text": [
      "2025-01-17 16:56:38.776Z gurobipy         20 netflow.py:149   Bounds range     [1e+00, 1e+00]\n"
     ]
    },
    {
     "name": "stdout",
     "output_type": "stream",
     "text": [
      "  RHS range        [1e+00, 2e+04]\n"
     ]
    },
    {
     "name": "stderr",
     "output_type": "stream",
     "text": [
      "2025-01-17 16:56:38.777Z gurobipy         20 netflow.py:149   RHS range        [1e+00, 2e+04]\n"
     ]
    },
    {
     "name": "stdout",
     "output_type": "stream",
     "text": [
      "Found heuristic solution: objective 4214411.8783\n"
     ]
    },
    {
     "name": "stderr",
     "output_type": "stream",
     "text": [
      "2025-01-17 16:56:38.800Z gurobipy         20 netflow.py:149 Found heuristic solution: objective 4214411.8783\n"
     ]
    },
    {
     "name": "stdout",
     "output_type": "stream",
     "text": [
      "Presolve removed 99447 rows and 89861 columns\n"
     ]
    },
    {
     "name": "stderr",
     "output_type": "stream",
     "text": [
      "2025-01-17 16:56:39.011Z gurobipy         20 netflow.py:149 Presolve removed 99447 rows and 89861 columns\n"
     ]
    },
    {
     "name": "stdout",
     "output_type": "stream",
     "text": [
      "Presolve time: 0.21s\n"
     ]
    },
    {
     "name": "stderr",
     "output_type": "stream",
     "text": [
      "2025-01-17 16:56:39.013Z gurobipy         20 netflow.py:149 Presolve time: 0.21s\n"
     ]
    },
    {
     "name": "stdout",
     "output_type": "stream",
     "text": [
      "Presolve: All rows and columns removed\n"
     ]
    },
    {
     "name": "stderr",
     "output_type": "stream",
     "text": [
      "2025-01-17 16:56:39.019Z gurobipy         20 netflow.py:149 Presolve: All rows and columns removed\n"
     ]
    },
    {
     "name": "stdout",
     "output_type": "stream",
     "text": [
      "\n"
     ]
    },
    {
     "name": "stderr",
     "output_type": "stream",
     "text": [
      "2025-01-17 16:56:39.029Z gurobipy         20 netflow.py:149 \n"
     ]
    },
    {
     "name": "stdout",
     "output_type": "stream",
     "text": [
      "Explored 0 nodes (0 simplex iterations) in 0.27 seconds (0.13 work units)\n"
     ]
    },
    {
     "name": "stderr",
     "output_type": "stream",
     "text": [
      "2025-01-17 16:56:39.031Z gurobipy         20 netflow.py:149 Explored 0 nodes (0 simplex iterations) in 0.27 seconds (0.13 work units)\n"
     ]
    },
    {
     "name": "stdout",
     "output_type": "stream",
     "text": [
      "Thread count was 1 (of 8 available processors)\n"
     ]
    },
    {
     "name": "stderr",
     "output_type": "stream",
     "text": [
      "2025-01-17 16:56:39.033Z gurobipy         20 netflow.py:149 Thread count was 1 (of 8 available processors)\n"
     ]
    },
    {
     "name": "stdout",
     "output_type": "stream",
     "text": [
      "\n"
     ]
    },
    {
     "name": "stderr",
     "output_type": "stream",
     "text": [
      "2025-01-17 16:56:39.035Z gurobipy         20 netflow.py:149 \n"
     ]
    },
    {
     "name": "stdout",
     "output_type": "stream",
     "text": [
      "Solution count 2: 3.84726e+06 4.21441e+06 \n"
     ]
    },
    {
     "name": "stderr",
     "output_type": "stream",
     "text": [
      "2025-01-17 16:56:39.036Z gurobipy         20 netflow.py:149 Solution count 2: 3.84726e+06 4.21441e+06 \n"
     ]
    },
    {
     "name": "stdout",
     "output_type": "stream",
     "text": [
      "\n"
     ]
    },
    {
     "name": "stderr",
     "output_type": "stream",
     "text": [
      "2025-01-17 16:56:39.038Z gurobipy         20 netflow.py:149 \n"
     ]
    },
    {
     "name": "stdout",
     "output_type": "stream",
     "text": [
      "Optimal solution found (tolerance 5.00e-02)\n"
     ]
    },
    {
     "name": "stderr",
     "output_type": "stream",
     "text": [
      "2025-01-17 16:56:39.039Z gurobipy         20 netflow.py:149 Optimal solution found (tolerance 5.00e-02)\n"
     ]
    },
    {
     "name": "stdout",
     "output_type": "stream",
     "text": [
      "Best objective 3.847257717512e+06, best bound 3.847257717512e+06, gap 0.0000%\n"
     ]
    },
    {
     "name": "stderr",
     "output_type": "stream",
     "text": [
      "2025-01-17 16:56:39.043Z gurobipy         20 netflow.py:149 Best objective 3.847257717512e+06, best bound 3.847257717512e+06, gap 0.0000%\n",
      "2025-01-17 16:56:39.177Z pfi              40 pfi.py:896 Some theta angles are out of range\n",
      "2025-01-17 16:56:39.178Z pfi              40 pfi.py:899 Some phi angles are out of range\n"
     ]
    },
    {
     "name": "stdout",
     "output_type": "stream",
     "text": [
      "Checking for trajectory collisions\n"
     ]
    },
    {
     "name": "stderr",
     "output_type": "stream",
     "text": [
      "2025-01-17 16:56:39.288Z pfi              40 pfi.py:899 Some phi angles are out of range\n",
      "2025-01-17 16:56:39.324Z pfi              40 pfi.py:899 Some phi angles are out of range\n",
      "2025-01-17 16:56:39.327Z engineer         20 engineer.py:395 Move theta arms to angle=[ 75.91 333.02 131.97 ... 210.2  360.   224.27] degree\n",
      "2025-01-17 16:56:39.328Z engineer         20 engineer.py:396 Move phi arms to angle=[ 6.62 42.74 10.15 ...  8.33 11.99 14.19] degree\n",
      "2025-01-17 16:56:39.329Z engineer         20 engineer.py:398 Checking passed homed argument = True\n",
      "2025-01-17 16:56:39.329Z engineer         20 engineer.py:402 Move theta arms CW and phi arms CCW to the hard stops\n",
      "2025-01-17 16:56:39.356Z cobraCoach       20 cobraCoach.py:1065 home cobras: theta=10000, phi=-5000\n",
      "2025-01-17 16:56:39.378Z pfi              40 pfi.py:899 Some phi angles are out of range\n",
      "2025-01-17 16:56:39.401Z pfi              40 pfi.py:899 Some phi angles are out of range\n",
      "2025-01-17 16:56:39.403Z engineer         20 engineer.py:412 Sending angles to moveToAngles for 0-th iteration\n",
      "2025-01-17 16:56:39.425Z cobraCoach       20 cobraCoach.py:1009 Moving deltaTheta = [-5.25294989 -0.85284527 -4.33602077 ... -3.02040524 -0.4013664\n",
      " -2.78477536]\n",
      "2025-01-17 16:56:39.426Z cobraCoach       20 cobraCoach.py:1010 Moving deltaPhi = [0.11558998 0.74591546 0.1772055  ... 0.14539386 0.20932294 0.24760745]\n",
      "2025-01-17 16:56:39.695Z cobraCoach       20 cobraCoach.py:877 Finished converting angle to steps, sending command to moveSteps (constantOntime).\n",
      "2025-01-17 16:56:40.307Z cobraCoach       20 cobraCoach.py:587 Sending step numbers to FPGA for moving cobra.\n",
      "2025-01-17 16:56:40.415Z cobraCoach       20 cobraCoach.py:601 cobra control FPGA operation done.\n",
      "2025-01-17 16:56:40.437Z pfi              40 pfi.py:896 Some theta angles are out of range\n",
      "2025-01-17 16:56:40.438Z pfi              40 pfi.py:899 Some phi angles are out of range\n",
      "2025-01-17 16:56:40.545Z cobraCoach       30 cobraCoach.py:675 Cobra#344 is too far from center\n",
      "2025-01-17 16:56:40.548Z cobraCoach       30 cobraCoach.py:675 Cobra#443 is too far from center\n",
      "2025-01-17 16:56:40.550Z cobraCoach       30 cobraCoach.py:675 Cobra#493 is too far from center\n",
      "2025-01-17 16:56:40.574Z cobraCoach       30 cobraCoach.py:675 Cobra#1303 is too far from center\n",
      "2025-01-17 16:56:40.585Z cobraCoach       30 cobraCoach.py:675 Cobra#1637 is too far from center\n",
      "2025-01-17 16:56:40.590Z cobraCoach       30 cobraCoach.py:675 Cobra#1790 is too far from center\n",
      "2025-01-17 16:56:40.591Z cobraCoach       30 cobraCoach.py:675 Cobra#1792 is too far from center\n",
      "2025-01-17 16:56:40.609Z engineer         20 engineer.py:422 Updating the cobra information\n",
      "2025-01-17 16:56:40.614Z engineer         20 engineer.py:436 done: [   0    1    2 ... 2391 2392 2393], 21 left\n",
      "2025-01-17 16:56:40.615Z engineer         20 engineer.py:412 Sending angles to moveToAngles for 1-th iteration\n",
      "2025-01-17 16:56:40.619Z cobraCoach       30 cobraCoach.py:1003 Last phi angle is unknown, not moving: [1459]\n",
      "2025-01-17 16:56:40.620Z cobraCoach       20 cobraCoach.py:1009 Moving deltaTheta = [-1.01748456e-05 -1.01748456e-05 -1.01748456e-05 -2.52731626e+00\n",
      " -1.01748456e-05 -6.78881414e-04 -1.87148445e-03 -2.65016099e-02\n",
      " -1.01748456e-05 -1.01748456e-05 -1.01748455e-05 -1.01748456e-05\n",
      " -1.01748455e-05 -5.29851305e-02 -1.32093872e+00  2.86555532e-04\n",
      " -1.01748456e-05 -1.01748456e-05 -3.50271147e-01 -2.01198950e+00\n",
      "  1.10228624e-03]\n",
      "2025-01-17 16:56:40.622Z cobraCoach       20 cobraCoach.py:1010 Moving deltaPhi = [-6.10865247e+00 -6.10865247e+00 -6.10865247e+00 -7.02523876e-04\n",
      " -2.96705959e+00 -1.80912812e-03 -1.01238450e-03  4.23083895e-02\n",
      " -6.10865247e+00  0.00000000e+00 -2.96705964e+00 -2.96705969e+00\n",
      " -6.10865247e+00  2.15367095e-04  4.48039121e-01  2.15164131e-03\n",
      " -6.10865247e+00 -6.10865247e+00 -6.45651525e-05  2.36550771e-01\n",
      " -4.98778998e-02]\n",
      "2025-01-17 16:56:40.626Z cobraCoach       30 cobraCoach.py:846 Last phi angle is unknown: [1459]\n",
      "2025-01-17 16:56:40.630Z cobraCoach       20 cobraCoach.py:877 Finished converting angle to steps, sending command to moveSteps (constantOntime).\n",
      "2025-01-17 16:56:40.640Z cobraCoach       20 cobraCoach.py:587 Sending step numbers to FPGA for moving cobra.\n",
      "2025-01-17 16:56:40.643Z cobraCoach       20 cobraCoach.py:601 cobra control FPGA operation done.\n",
      "2025-01-17 16:56:40.671Z pfi              40 pfi.py:896 Some theta angles are out of range\n",
      "2025-01-17 16:56:40.672Z pfi              40 pfi.py:899 Some phi angles are out of range\n",
      "2025-01-17 16:56:40.765Z cobraCoach       30 cobraCoach.py:675 Cobra#344 is too far from center\n",
      "2025-01-17 16:56:40.767Z cobraCoach       30 cobraCoach.py:679 Cobra#1460 is too close to center\n",
      "2025-01-17 16:56:40.768Z cobraCoach       30 cobraCoach.py:675 Cobra#1637 is too far from center\n",
      "2025-01-17 16:56:40.768Z cobraCoach       30 cobraCoach.py:675 Cobra#1790 is too far from center\n",
      "2025-01-17 16:56:40.771Z engineer         20 engineer.py:422 Updating the cobra information\n",
      "2025-01-17 16:56:40.774Z engineer         20 engineer.py:436 done: [ 683 1055 1200 1276 1667 1729 1782 1929 1956], 12 left\n",
      "2025-01-17 16:56:40.775Z engineer         30 engineer.py:445 12 cobras did not finish: [ 343  442  492  737 1302 1459 1493 1538 1636 1789 1791 1969], [4.67 4.67 4.67 4.67 4.67 0.82 4.67 4.67 4.67 4.67 4.67 0.11]\n",
      "2025-01-17 16:56:40.776Z engineer         20 engineer.py:450 Returning 2394 atThetas and 2394 atPhis\n",
      "2025-01-17 16:56:40.828Z pfi              40 pfi.py:899 Some phi angles are out of range\n",
      "2025-01-17 16:56:40.830Z engineer         20 engineer.py:395 Move theta arms to angle=[ 75.91 333.02 131.97 ... 210.2  360.   224.27] degree\n",
      "2025-01-17 16:56:40.832Z engineer         20 engineer.py:396 Move phi arms to angle=[ 6.62 42.74 10.15 ...  8.33 11.99 14.19] degree\n",
      "2025-01-17 16:56:40.833Z engineer         20 engineer.py:398 Checking passed homed argument = False\n",
      "2025-01-17 16:56:40.835Z engineer         20 engineer.py:412 Sending angles to moveToAngles for 0-th iteration\n",
      "2025-01-17 16:56:40.863Z cobraCoach       20 cobraCoach.py:1009 Moving deltaTheta = [ 0.0007928  -0.00028284  0.00117177 ...  0.00017839  0.00038417\n",
      " -0.00096284]\n",
      "2025-01-17 16:56:40.864Z cobraCoach       20 cobraCoach.py:1010 Moving deltaPhi = [-0.00012803 -0.00109006 -0.00103967 ...  0.00054019 -0.00083972\n",
      " -0.00047282]\n",
      "2025-01-17 16:56:41.052Z cobraCoach       20 cobraCoach.py:877 Finished converting angle to steps, sending command to moveSteps (constantOntime).\n",
      "2025-01-17 16:56:41.325Z cobraCoach       20 cobraCoach.py:587 Sending step numbers to FPGA for moving cobra.\n",
      "2025-01-17 16:56:41.430Z cobraCoach       20 cobraCoach.py:601 cobra control FPGA operation done.\n",
      "2025-01-17 16:56:41.457Z pfi              40 pfi.py:896 Some theta angles are out of range\n",
      "2025-01-17 16:56:41.458Z pfi              40 pfi.py:899 Some phi angles are out of range\n",
      "2025-01-17 16:56:41.580Z cobraCoach       30 cobraCoach.py:675 Cobra#1303 is too far from center\n",
      "2025-01-17 16:56:41.591Z cobraCoach       30 cobraCoach.py:675 Cobra#1790 is too far from center\n",
      "2025-01-17 16:56:41.607Z engineer         20 engineer.py:422 Updating the cobra information\n",
      "2025-01-17 16:56:41.609Z engineer         20 engineer.py:436 done: [   0    1    2 ... 2391 2392 2393], 14 left\n",
      "2025-01-17 16:56:41.610Z engineer         20 engineer.py:412 Sending angles to moveToAngles for 1-th iteration\n",
      "2025-01-17 16:56:41.612Z cobraCoach       30 cobraCoach.py:1003 Last phi angle is unknown, not moving: [1459]\n",
      "2025-01-17 16:56:41.613Z cobraCoach       20 cobraCoach.py:1009 Moving deltaTheta = [-1.94233989e-04 -5.14191722e-04 -6.14804362e-04 -1.01748456e-05\n",
      "  2.69975771e-06 -1.01748456e-05 -1.01748455e-05 -1.01748456e-05\n",
      " -1.03632841e-03 -6.68898607e-02 -1.01748456e-05 -3.80200480e-04\n",
      " -1.05065440e-04 -7.24306932e-04]\n",
      "2025-01-17 16:56:41.615Z cobraCoach       20 cobraCoach.py:1010 Moving deltaPhi = [-2.96687409e+00 -2.96705963e+00 -2.96705960e+00 -2.96705959e+00\n",
      " -6.10865247e+00  0.00000000e+00 -2.96705964e+00 -2.96705969e+00\n",
      " -2.96602327e+00  5.88029203e-01 -6.10865247e+00 -2.96705960e+00\n",
      " -4.98778998e-02 -1.24785700e-03]\n",
      "2025-01-17 16:56:41.617Z cobraCoach       30 cobraCoach.py:846 Last phi angle is unknown: [1459]\n",
      "2025-01-17 16:56:41.619Z cobraCoach       20 cobraCoach.py:877 Finished converting angle to steps, sending command to moveSteps (constantOntime).\n",
      "2025-01-17 16:56:41.625Z cobraCoach       20 cobraCoach.py:587 Sending step numbers to FPGA for moving cobra.\n",
      "2025-01-17 16:56:41.627Z cobraCoach       20 cobraCoach.py:601 cobra control FPGA operation done.\n",
      "2025-01-17 16:56:41.650Z pfi              40 pfi.py:896 Some theta angles are out of range\n",
      "2025-01-17 16:56:41.651Z pfi              40 pfi.py:899 Some phi angles are out of range\n",
      "2025-01-17 16:56:41.747Z cobraCoach       30 cobraCoach.py:675 Cobra#344 is too far from center\n",
      "2025-01-17 16:56:41.748Z pfi              30 pfi.py:475 clipping scale adjustment from 0.2573481031895782 to 0.3\n",
      "2025-01-17 16:56:41.749Z cobraCoach       30 cobraCoach.py:679 Cobra#1460 is too close to center\n",
      "2025-01-17 16:56:41.750Z pfi              30 pfi.py:475 clipping scale adjustment from 0.26154231110049525 to 0.3\n",
      "2025-01-17 16:56:41.753Z engineer         20 engineer.py:422 Updating the cobra information\n",
      "2025-01-17 16:56:41.755Z engineer         20 engineer.py:436 done: [1729 2153], 12 left\n",
      "2025-01-17 16:56:41.756Z engineer         20 engineer.py:412 Sending angles to moveToAngles for 2-th iteration\n",
      "2025-01-17 16:56:41.758Z cobraCoach       20 cobraCoach.py:1009 Moving deltaTheta = [-1.94233989e-04 -5.14191722e-04 -6.14804362e-04 -1.01748456e-05\n",
      " -1.09852569e+00 -1.01748456e-05 -1.01748455e-05 -1.01748456e-05\n",
      " -1.03632841e-03 -1.07143418e+00 -3.80200480e-04 -1.05065440e-04]\n",
      "2025-01-17 16:56:41.759Z cobraCoach       20 cobraCoach.py:1010 Moving deltaPhi = [-6.10865247 -2.96705963 -2.9670596  -2.96705959 -1.71883189 -2.96705973\n",
      " -2.96705964 -2.96705969 -2.96705964 -1.88389766 -2.9670596  -0.0498779 ]\n",
      "2025-01-17 16:56:41.763Z cobraCoach       20 cobraCoach.py:877 Finished converting angle to steps, sending command to moveSteps (constantOntime).\n",
      "2025-01-17 16:56:41.768Z cobraCoach       20 cobraCoach.py:587 Sending step numbers to FPGA for moving cobra.\n",
      "2025-01-17 16:56:41.772Z cobraCoach       20 cobraCoach.py:601 cobra control FPGA operation done.\n",
      "2025-01-17 16:56:41.795Z pfi              40 pfi.py:896 Some theta angles are out of range\n",
      "2025-01-17 16:56:41.797Z pfi              40 pfi.py:899 Some phi angles are out of range\n",
      "2025-01-17 16:56:41.889Z pfi              30 pfi.py:475 clipping scale adjustment from 0.2859424141191533 to 0.3\n",
      "2025-01-17 16:56:41.890Z cobraCoach       30 cobraCoach.py:675 Cobra#1303 is too far from center\n",
      "2025-01-17 16:56:41.891Z pfi              30 pfi.py:475 clipping scale adjustment from 0.29999999904403885 to 0.3\n",
      "2025-01-17 16:56:41.892Z cobraCoach       30 cobraCoach.py:675 Cobra#1790 is too far from center\n",
      "2025-01-17 16:56:41.894Z engineer         20 engineer.py:422 Updating the cobra information\n",
      "2025-01-17 16:56:41.896Z engineer         20 engineer.py:412 Sending angles to moveToAngles for 3-th iteration\n",
      "2025-01-17 16:56:41.897Z cobraCoach       30 cobraCoach.py:1003 Last phi angle is unknown, not moving: [1459]\n",
      "2025-01-17 16:56:41.898Z cobraCoach       20 cobraCoach.py:1009 Moving deltaTheta = [-3.21863813e-01 -5.14191722e-04 -6.14804362e-04 -1.01748456e-05\n",
      " -6.82685060e-01 -1.01748456e-05 -1.01748455e-05 -1.01748456e-05\n",
      " -1.03632841e-03 -3.25590772e-01 -3.80200480e-04 -1.05065440e-04]\n",
      "2025-01-17 16:56:41.899Z cobraCoach       20 cobraCoach.py:1010 Moving deltaPhi = [-2.64219266 -2.96705963 -2.9670596  -2.96705959 -6.10865247  0.\n",
      " -2.96705964 -2.96705969 -2.96705964 -6.10865247 -2.9670596  -0.0498779 ]\n",
      "2025-01-17 16:56:41.901Z cobraCoach       30 cobraCoach.py:846 Last phi angle is unknown: [1459]\n",
      "2025-01-17 16:56:41.903Z cobraCoach       20 cobraCoach.py:877 Finished converting angle to steps, sending command to moveSteps (constantOntime).\n",
      "2025-01-17 16:56:41.911Z cobraCoach       20 cobraCoach.py:587 Sending step numbers to FPGA for moving cobra.\n",
      "2025-01-17 16:56:41.913Z cobraCoach       20 cobraCoach.py:601 cobra control FPGA operation done.\n",
      "2025-01-17 16:56:41.937Z pfi              40 pfi.py:896 Some theta angles are out of range\n",
      "2025-01-17 16:56:41.938Z pfi              40 pfi.py:899 Some phi angles are out of range\n",
      "2025-01-17 16:56:42.037Z pfi              30 pfi.py:475 clipping scale adjustment from 0.22521650184055392 to 0.3\n",
      "2025-01-17 16:56:42.038Z pfi              30 pfi.py:475 clipping scale adjustment from 0.2573481031895782 to 0.3\n",
      "2025-01-17 16:56:42.039Z cobraCoach       30 cobraCoach.py:679 Cobra#1460 is too close to center\n",
      "2025-01-17 16:56:42.040Z pfi              30 pfi.py:475 clipping scale adjustment from 0.22664453700152026 to 0.3\n",
      "2025-01-17 16:56:42.041Z pfi              30 pfi.py:475 clipping scale adjustment from 0.26154231110049525 to 0.3\n",
      "2025-01-17 16:56:42.042Z engineer         20 engineer.py:422 Updating the cobra information\n",
      "2025-01-17 16:56:42.045Z engineer         20 engineer.py:412 Sending angles to moveToAngles for 4-th iteration\n",
      "2025-01-17 16:56:42.047Z cobraCoach       20 cobraCoach.py:1009 Moving deltaTheta = [-2.17122172e-04 -5.14191722e-04 -6.14804362e-04 -1.01748456e-05\n",
      "  4.51698156e+00 -1.01748456e-05 -1.01748455e-05 -1.01748456e-05\n",
      " -1.03632841e-03  5.00301130e+00 -3.80200480e-04 -1.05065440e-04]\n",
      "2025-01-17 16:56:42.048Z cobraCoach       20 cobraCoach.py:1010 Moving deltaPhi = [-2.96705965 -2.96705963 -2.9670596  -2.96705959 -1.71883189 -2.96705973\n",
      " -2.96705964 -2.96705969 -2.96705964 -1.88389766 -2.9670596  -0.0498779 ]\n",
      "2025-01-17 16:56:42.053Z cobraCoach       20 cobraCoach.py:877 Finished converting angle to steps, sending command to moveSteps (constantOntime).\n",
      "2025-01-17 16:56:42.060Z cobraCoach       20 cobraCoach.py:587 Sending step numbers to FPGA for moving cobra.\n",
      "2025-01-17 16:56:42.061Z cobraCoach       20 cobraCoach.py:601 cobra control FPGA operation done.\n",
      "2025-01-17 16:56:42.085Z pfi              40 pfi.py:896 Some theta angles are out of range\n",
      "2025-01-17 16:56:42.086Z pfi              40 pfi.py:899 Some phi angles are out of range\n",
      "2025-01-17 16:56:42.218Z cobraCoach       30 cobraCoach.py:675 Cobra#1790 is too far from center\n",
      "2025-01-17 16:56:42.219Z pfi              30 pfi.py:475 clipping scale adjustment from 0.29999999510714737 to 0.3\n",
      "2025-01-17 16:56:42.220Z engineer         20 engineer.py:422 Updating the cobra information\n",
      "2025-01-17 16:56:42.222Z engineer         20 engineer.py:412 Sending angles to moveToAngles for 5-th iteration\n",
      "2025-01-17 16:56:42.224Z cobraCoach       30 cobraCoach.py:1003 Last phi angle is unknown, not moving: [1459]\n",
      "2025-01-17 16:56:42.225Z cobraCoach       20 cobraCoach.py:1009 Moving deltaTheta = [-2.17122172e-04 -5.14191722e-04 -6.14804362e-04 -1.01748456e-05\n",
      " -4.10811338e-03 -1.01748456e-05 -1.01748455e-05 -1.01748456e-05\n",
      " -1.03632841e-03  7.85623389e-01 -3.80200480e-04 -1.05065440e-04]\n",
      "2025-01-17 16:56:42.226Z cobraCoach       20 cobraCoach.py:1010 Moving deltaPhi = [-2.96705965 -2.96705963 -2.9670596  -2.96705959 -2.96705962  0.\n",
      " -2.96705964 -2.96705969 -2.96705964 -6.10865247 -2.9670596  -0.0498779 ]\n",
      "2025-01-17 16:56:42.229Z cobraCoach       30 cobraCoach.py:846 Last phi angle is unknown: [1459]\n",
      "2025-01-17 16:56:42.231Z cobraCoach       20 cobraCoach.py:877 Finished converting angle to steps, sending command to moveSteps (constantOntime).\n",
      "2025-01-17 16:56:42.238Z cobraCoach       20 cobraCoach.py:587 Sending step numbers to FPGA for moving cobra.\n",
      "2025-01-17 16:56:42.240Z cobraCoach       20 cobraCoach.py:601 cobra control FPGA operation done.\n",
      "2025-01-17 16:56:42.281Z pfi              40 pfi.py:896 Some theta angles are out of range\n",
      "2025-01-17 16:56:42.283Z pfi              40 pfi.py:899 Some phi angles are out of range\n",
      "2025-01-17 16:56:42.454Z pfi              30 pfi.py:475 clipping scale adjustment from 0.2250489700875823 to 0.3\n",
      "2025-01-17 16:56:42.457Z cobraCoach       30 cobraCoach.py:679 Cobra#1460 is too close to center\n",
      "2025-01-17 16:56:42.460Z pfi              30 pfi.py:475 clipping scale adjustment from 0.2561286605203101 to 0.3\n",
      "2025-01-17 16:56:42.462Z pfi              30 pfi.py:475 clipping scale adjustment from 0.26154231110049525 to 0.3\n",
      "2025-01-17 16:56:42.464Z engineer         20 engineer.py:422 Updating the cobra information\n",
      "2025-01-17 16:56:42.467Z engineer         30 engineer.py:445 12 cobras did not finish: [ 343  442  492  737 1302 1459 1493 1538 1636 1789 1791 1969], [4.67 4.67 4.67 4.67 4.67 0.82 4.67 4.67 4.67 4.2  4.67 0.11]\n",
      "2025-01-17 16:56:42.470Z engineer         20 engineer.py:450 Returning 2394 atThetas and 2394 atPhis\n",
      "2025-01-17 16:56:42.500Z pfi              40 pfi.py:896 Some theta angles are out of range\n",
      "2025-01-17 16:56:42.504Z pfi              40 pfi.py:899 Some phi angles are out of range\n",
      "2025-01-17 16:56:42.614Z pfi              40 pfi.py:896 Some theta angles are out of range\n",
      "2025-01-17 16:56:42.616Z pfi              40 pfi.py:899 Some phi angles are out of range\n",
      "2025-01-17 16:56:42.683Z pfi              40 pfi.py:896 Some theta angles are out of range\n",
      "2025-01-17 16:56:42.685Z pfi              40 pfi.py:899 Some phi angles are out of range\n",
      "2025-01-17 16:56:42.739Z pfi              40 pfi.py:896 Some theta angles are out of range\n",
      "2025-01-17 16:56:42.741Z pfi              40 pfi.py:899 Some phi angles are out of range\n",
      "2025-01-17 16:56:42.788Z pfi              40 pfi.py:896 Some theta angles are out of range\n",
      "2025-01-17 16:56:42.789Z pfi              40 pfi.py:899 Some phi angles are out of range\n",
      "2025-01-17 16:56:42.837Z pfi              40 pfi.py:896 Some theta angles are out of range\n",
      "2025-01-17 16:56:42.838Z pfi              40 pfi.py:899 Some phi angles are out of range\n",
      "2025-01-17 16:56:42.885Z pfi              40 pfi.py:896 Some theta angles are out of range\n",
      "2025-01-17 16:56:42.887Z pfi              40 pfi.py:899 Some phi angles are out of range\n",
      "2025-01-17 16:56:42.937Z pfi              40 pfi.py:896 Some theta angles are out of range\n",
      "2025-01-17 16:56:42.938Z pfi              40 pfi.py:899 Some phi angles are out of range\n",
      "2025-01-17 16:56:42.984Z pfi              40 pfi.py:930 Some theta angles are out of range\n",
      "2025-01-17 16:56:43.042Z pfi              40 pfi.py:930 Some theta angles are out of range\n",
      "2025-01-17 16:56:43.092Z pfi              40 pfi.py:930 Some theta angles are out of range\n",
      "2025-01-17 16:56:43.130Z pfi              40 pfi.py:930 Some theta angles are out of range\n",
      "2025-01-17 16:56:43.168Z pfi              40 pfi.py:930 Some theta angles are out of range\n",
      "2025-01-17 16:56:43.208Z pfi              40 pfi.py:930 Some theta angles are out of range\n",
      "2025-01-17 16:56:43.252Z pfi              40 pfi.py:930 Some theta angles are out of range\n",
      "2025-01-17 16:56:43.298Z pfi              40 pfi.py:930 Some theta angles are out of range\n"
     ]
    },
    {
     "name": "stdout",
     "output_type": "stream",
     "text": [
      "ERROR: detected 13 end point collision, which should be impossible\n",
      "trajectory collisions found: 12\n",
      "Set parameter Presolve to value 1\n"
     ]
    },
    {
     "name": "stderr",
     "output_type": "stream",
     "text": [
      "2025-01-17 16:56:47.432Z gurobipy         20 netflow.py:117 Set parameter Presolve to value 1\n"
     ]
    },
    {
     "name": "stdout",
     "output_type": "stream",
     "text": [
      "Set parameter Method to value 4\n"
     ]
    },
    {
     "name": "stderr",
     "output_type": "stream",
     "text": [
      "2025-01-17 16:56:47.434Z gurobipy         20 netflow.py:117 Set parameter Method to value 4\n"
     ]
    },
    {
     "name": "stdout",
     "output_type": "stream",
     "text": [
      "Set parameter DegenMoves to value 0\n"
     ]
    },
    {
     "name": "stderr",
     "output_type": "stream",
     "text": [
      "2025-01-17 16:56:47.435Z gurobipy         20 netflow.py:117 Set parameter DegenMoves to value 0\n"
     ]
    },
    {
     "name": "stdout",
     "output_type": "stream",
     "text": [
      "Set parameter Heuristics to value 0.8\n"
     ]
    },
    {
     "name": "stderr",
     "output_type": "stream",
     "text": [
      "2025-01-17 16:56:47.436Z gurobipy         20 netflow.py:117 Set parameter Heuristics to value 0.8\n"
     ]
    },
    {
     "name": "stdout",
     "output_type": "stream",
     "text": [
      "Set parameter MIPGap to value 0.05\n"
     ]
    },
    {
     "name": "stderr",
     "output_type": "stream",
     "text": [
      "2025-01-17 16:56:47.437Z gurobipy         20 netflow.py:117 Set parameter MIPGap to value 0.05\n"
     ]
    },
    {
     "name": "stdout",
     "output_type": "stream",
     "text": [
      "Creating network topology\n",
      "  exposure 1\n",
      "Calculating visibilities\n",
      "adding constraints\n",
      "adding collision constraints\n",
      "adding forbidden pair constraints\n",
      "Gurobi Optimizer version 10.0.1 build v10.0.1rc0 (mac64[x86])\n"
     ]
    },
    {
     "name": "stderr",
     "output_type": "stream",
     "text": [
      "2025-01-17 16:56:56.134Z gurobipy         20 netflow.py:149 Gurobi Optimizer version 10.0.1 build v10.0.1rc0 (mac64[x86])\n"
     ]
    },
    {
     "name": "stdout",
     "output_type": "stream",
     "text": [
      "\n"
     ]
    },
    {
     "name": "stderr",
     "output_type": "stream",
     "text": [
      "2025-01-17 16:56:56.135Z gurobipy         20 netflow.py:149 \n"
     ]
    },
    {
     "name": "stdout",
     "output_type": "stream",
     "text": [
      "CPU model: Intel(R) Core(TM) i7-8569U CPU @ 2.80GHz\n"
     ]
    },
    {
     "name": "stderr",
     "output_type": "stream",
     "text": [
      "2025-01-17 16:56:56.137Z gurobipy         20 netflow.py:149 CPU model: Intel(R) Core(TM) i7-8569U CPU @ 2.80GHz\n"
     ]
    },
    {
     "name": "stdout",
     "output_type": "stream",
     "text": [
      "Thread count: 4 physical cores, 8 logical processors, using up to 8 threads\n"
     ]
    },
    {
     "name": "stderr",
     "output_type": "stream",
     "text": [
      "2025-01-17 16:56:56.138Z gurobipy         20 netflow.py:149 Thread count: 4 physical cores, 8 logical processors, using up to 8 threads\n"
     ]
    },
    {
     "name": "stdout",
     "output_type": "stream",
     "text": [
      "\n"
     ]
    },
    {
     "name": "stderr",
     "output_type": "stream",
     "text": [
      "2025-01-17 16:56:56.140Z gurobipy         20 netflow.py:149 \n"
     ]
    },
    {
     "name": "stdout",
     "output_type": "stream",
     "text": [
      "Academic license 2379863 - for non-commercial use only - registered to ji___@ipmu.jp\n"
     ]
    },
    {
     "name": "stderr",
     "output_type": "stream",
     "text": [
      "2025-01-17 16:56:56.142Z gurobipy         20 netflow.py:149 Academic license 2379863 - for non-commercial use only - registered to ji___@ipmu.jp\n"
     ]
    },
    {
     "name": "stdout",
     "output_type": "stream",
     "text": [
      "Optimize a model with 99459 rows, 89861 columns and 271716 nonzeros\n"
     ]
    },
    {
     "name": "stderr",
     "output_type": "stream",
     "text": [
      "2025-01-17 16:56:56.143Z gurobipy         20 netflow.py:149 Optimize a model with 99459 rows, 89861 columns and 271716 nonzeros\n"
     ]
    },
    {
     "name": "stdout",
     "output_type": "stream",
     "text": [
      "Model fingerprint: 0xc878ad41\n"
     ]
    },
    {
     "name": "stderr",
     "output_type": "stream",
     "text": [
      "2025-01-17 16:56:56.147Z gurobipy         20 netflow.py:149 Model fingerprint: 0xc878ad41\n"
     ]
    },
    {
     "name": "stdout",
     "output_type": "stream",
     "text": [
      "Variable types: 1 continuous, 89860 integer (69113 binary)\n"
     ]
    },
    {
     "name": "stderr",
     "output_type": "stream",
     "text": [
      "2025-01-17 16:56:56.150Z gurobipy         20 netflow.py:149 Variable types: 1 continuous, 89860 integer (69113 binary)\n"
     ]
    },
    {
     "name": "stdout",
     "output_type": "stream",
     "text": [
      "Coefficient statistics:\n"
     ]
    },
    {
     "name": "stderr",
     "output_type": "stream",
     "text": [
      "2025-01-17 16:56:56.154Z gurobipy         20 netflow.py:149 Coefficient statistics:\n"
     ]
    },
    {
     "name": "stdout",
     "output_type": "stream",
     "text": [
      "  Matrix range     [1e+00, 1e+00]\n"
     ]
    },
    {
     "name": "stderr",
     "output_type": "stream",
     "text": [
      "2025-01-17 16:56:56.156Z gurobipy         20 netflow.py:149   Matrix range     [1e+00, 1e+00]\n"
     ]
    },
    {
     "name": "stdout",
     "output_type": "stream",
     "text": [
      "  Objective range  [2e-05, 1e+06]\n"
     ]
    },
    {
     "name": "stderr",
     "output_type": "stream",
     "text": [
      "2025-01-17 16:56:56.158Z gurobipy         20 netflow.py:149   Objective range  [2e-05, 1e+06]\n"
     ]
    },
    {
     "name": "stdout",
     "output_type": "stream",
     "text": [
      "  Bounds range     [1e+00, 1e+00]\n"
     ]
    },
    {
     "name": "stderr",
     "output_type": "stream",
     "text": [
      "2025-01-17 16:56:56.160Z gurobipy         20 netflow.py:149   Bounds range     [1e+00, 1e+00]\n"
     ]
    },
    {
     "name": "stdout",
     "output_type": "stream",
     "text": [
      "  RHS range        [1e+00, 2e+04]\n"
     ]
    },
    {
     "name": "stderr",
     "output_type": "stream",
     "text": [
      "2025-01-17 16:56:56.162Z gurobipy         20 netflow.py:149   RHS range        [1e+00, 2e+04]\n"
     ]
    },
    {
     "name": "stdout",
     "output_type": "stream",
     "text": [
      "Found heuristic solution: objective 4214411.8783\n"
     ]
    },
    {
     "name": "stderr",
     "output_type": "stream",
     "text": [
      "2025-01-17 16:56:56.190Z gurobipy         20 netflow.py:149 Found heuristic solution: objective 4214411.8783\n"
     ]
    },
    {
     "name": "stdout",
     "output_type": "stream",
     "text": [
      "Presolve removed 99459 rows and 89861 columns\n"
     ]
    },
    {
     "name": "stderr",
     "output_type": "stream",
     "text": [
      "2025-01-17 16:56:56.401Z gurobipy         20 netflow.py:149 Presolve removed 99459 rows and 89861 columns\n"
     ]
    },
    {
     "name": "stdout",
     "output_type": "stream",
     "text": [
      "Presolve time: 0.21s\n"
     ]
    },
    {
     "name": "stderr",
     "output_type": "stream",
     "text": [
      "2025-01-17 16:56:56.403Z gurobipy         20 netflow.py:149 Presolve time: 0.21s\n"
     ]
    },
    {
     "name": "stdout",
     "output_type": "stream",
     "text": [
      "Presolve: All rows and columns removed\n"
     ]
    },
    {
     "name": "stderr",
     "output_type": "stream",
     "text": [
      "2025-01-17 16:56:56.408Z gurobipy         20 netflow.py:149 Presolve: All rows and columns removed\n"
     ]
    },
    {
     "name": "stdout",
     "output_type": "stream",
     "text": [
      "\n"
     ]
    },
    {
     "name": "stderr",
     "output_type": "stream",
     "text": [
      "2025-01-17 16:56:56.418Z gurobipy         20 netflow.py:149 \n"
     ]
    },
    {
     "name": "stdout",
     "output_type": "stream",
     "text": [
      "Explored 0 nodes (0 simplex iterations) in 0.28 seconds (0.13 work units)\n"
     ]
    },
    {
     "name": "stderr",
     "output_type": "stream",
     "text": [
      "2025-01-17 16:56:56.419Z gurobipy         20 netflow.py:149 Explored 0 nodes (0 simplex iterations) in 0.28 seconds (0.13 work units)\n"
     ]
    },
    {
     "name": "stdout",
     "output_type": "stream",
     "text": [
      "Thread count was 1 (of 8 available processors)\n"
     ]
    },
    {
     "name": "stderr",
     "output_type": "stream",
     "text": [
      "2025-01-17 16:56:56.421Z gurobipy         20 netflow.py:149 Thread count was 1 (of 8 available processors)\n"
     ]
    },
    {
     "name": "stdout",
     "output_type": "stream",
     "text": [
      "\n"
     ]
    },
    {
     "name": "stderr",
     "output_type": "stream",
     "text": [
      "2025-01-17 16:56:56.422Z gurobipy         20 netflow.py:149 \n"
     ]
    },
    {
     "name": "stdout",
     "output_type": "stream",
     "text": [
      "Solution count 2: 3.84746e+06 4.21441e+06 \n"
     ]
    },
    {
     "name": "stderr",
     "output_type": "stream",
     "text": [
      "2025-01-17 16:56:56.423Z gurobipy         20 netflow.py:149 Solution count 2: 3.84746e+06 4.21441e+06 \n"
     ]
    },
    {
     "name": "stdout",
     "output_type": "stream",
     "text": [
      "\n"
     ]
    },
    {
     "name": "stderr",
     "output_type": "stream",
     "text": [
      "2025-01-17 16:56:56.425Z gurobipy         20 netflow.py:149 \n"
     ]
    },
    {
     "name": "stdout",
     "output_type": "stream",
     "text": [
      "Optimal solution found (tolerance 5.00e-02)\n"
     ]
    },
    {
     "name": "stderr",
     "output_type": "stream",
     "text": [
      "2025-01-17 16:56:56.426Z gurobipy         20 netflow.py:149 Optimal solution found (tolerance 5.00e-02)\n"
     ]
    },
    {
     "name": "stdout",
     "output_type": "stream",
     "text": [
      "Best objective 3.847457664168e+06, best bound 3.847457664168e+06, gap 0.0000%\n"
     ]
    },
    {
     "name": "stderr",
     "output_type": "stream",
     "text": [
      "2025-01-17 16:56:56.430Z gurobipy         20 netflow.py:149 Best objective 3.847457664168e+06, best bound 3.847457664168e+06, gap 0.0000%\n",
      "2025-01-17 16:56:56.564Z pfi              40 pfi.py:896 Some theta angles are out of range\n",
      "2025-01-17 16:56:56.565Z pfi              40 pfi.py:899 Some phi angles are out of range\n"
     ]
    },
    {
     "name": "stdout",
     "output_type": "stream",
     "text": [
      "Checking for trajectory collisions\n"
     ]
    },
    {
     "name": "stderr",
     "output_type": "stream",
     "text": [
      "2025-01-17 16:56:56.678Z pfi              40 pfi.py:899 Some phi angles are out of range\n",
      "2025-01-17 16:56:56.713Z pfi              40 pfi.py:899 Some phi angles are out of range\n",
      "2025-01-17 16:56:56.716Z engineer         20 engineer.py:395 Move theta arms to angle=[ 75.91 333.02 131.97 ... 210.2  360.   224.27] degree\n",
      "2025-01-17 16:56:56.718Z engineer         20 engineer.py:396 Move phi arms to angle=[ 6.62 42.74 10.15 ...  8.33 11.99 14.19] degree\n",
      "2025-01-17 16:56:56.718Z engineer         20 engineer.py:398 Checking passed homed argument = True\n",
      "2025-01-17 16:56:56.719Z engineer         20 engineer.py:402 Move theta arms CW and phi arms CCW to the hard stops\n",
      "2025-01-17 16:56:56.744Z cobraCoach       20 cobraCoach.py:1065 home cobras: theta=10000, phi=-5000\n",
      "2025-01-17 16:56:56.768Z pfi              40 pfi.py:899 Some phi angles are out of range\n",
      "2025-01-17 16:56:56.790Z pfi              40 pfi.py:899 Some phi angles are out of range\n",
      "2025-01-17 16:56:56.792Z engineer         20 engineer.py:412 Sending angles to moveToAngles for 0-th iteration\n",
      "2025-01-17 16:56:56.814Z cobraCoach       20 cobraCoach.py:1009 Moving deltaTheta = [-5.25294989 -0.85284527 -4.33602077 ... -3.02040524 -0.4013664\n",
      " -2.78477536]\n",
      "2025-01-17 16:56:56.815Z cobraCoach       20 cobraCoach.py:1010 Moving deltaPhi = [0.11558998 0.74591546 0.1772055  ... 0.14539386 0.20932294 0.24760745]\n",
      "2025-01-17 16:56:57.066Z cobraCoach       20 cobraCoach.py:877 Finished converting angle to steps, sending command to moveSteps (constantOntime).\n",
      "2025-01-17 16:56:57.711Z cobraCoach       20 cobraCoach.py:587 Sending step numbers to FPGA for moving cobra.\n",
      "2025-01-17 16:56:57.820Z cobraCoach       20 cobraCoach.py:601 cobra control FPGA operation done.\n",
      "2025-01-17 16:56:57.843Z pfi              40 pfi.py:896 Some theta angles are out of range\n",
      "2025-01-17 16:56:57.843Z pfi              40 pfi.py:899 Some phi angles are out of range\n",
      "2025-01-17 16:56:57.949Z cobraCoach       30 cobraCoach.py:675 Cobra#344 is too far from center\n",
      "2025-01-17 16:56:57.952Z cobraCoach       30 cobraCoach.py:675 Cobra#443 is too far from center\n",
      "2025-01-17 16:56:57.954Z cobraCoach       30 cobraCoach.py:675 Cobra#493 is too far from center\n",
      "2025-01-17 16:56:57.974Z cobraCoach       30 cobraCoach.py:675 Cobra#1303 is too far from center\n",
      "2025-01-17 16:56:57.983Z cobraCoach       30 cobraCoach.py:675 Cobra#1637 is too far from center\n",
      "2025-01-17 16:56:57.987Z cobraCoach       30 cobraCoach.py:675 Cobra#1790 is too far from center\n",
      "2025-01-17 16:56:57.988Z cobraCoach       30 cobraCoach.py:675 Cobra#1792 is too far from center\n",
      "2025-01-17 16:56:58.008Z engineer         20 engineer.py:422 Updating the cobra information\n",
      "2025-01-17 16:56:58.011Z engineer         20 engineer.py:436 done: [   0    1    2 ... 2391 2392 2393], 21 left\n",
      "2025-01-17 16:56:58.012Z engineer         20 engineer.py:412 Sending angles to moveToAngles for 1-th iteration\n",
      "2025-01-17 16:56:58.013Z cobraCoach       30 cobraCoach.py:1003 Last phi angle is unknown, not moving: [1459]\n",
      "2025-01-17 16:56:58.015Z cobraCoach       20 cobraCoach.py:1009 Moving deltaTheta = [-1.01748456e-05 -1.01748456e-05 -1.01748456e-05 -2.52731626e+00\n",
      " -1.01748456e-05 -6.78881414e-04 -1.87148445e-03 -2.65016099e-02\n",
      " -1.01748456e-05 -1.01748456e-05 -1.01748455e-05 -1.01748456e-05\n",
      " -1.01748455e-05 -5.29851305e-02 -1.32093872e+00  2.86555532e-04\n",
      " -1.01748456e-05 -1.01748456e-05 -3.50271147e-01 -2.01198950e+00\n",
      "  1.10228624e-03]\n",
      "2025-01-17 16:56:58.016Z cobraCoach       20 cobraCoach.py:1010 Moving deltaPhi = [-6.10865247e+00 -6.10865247e+00 -6.10865247e+00 -7.02523876e-04\n",
      " -2.96705959e+00 -1.80912812e-03 -1.01238450e-03  4.23083895e-02\n",
      " -6.10865247e+00  0.00000000e+00 -2.96705964e+00 -2.96705969e+00\n",
      " -6.10865247e+00  2.15367095e-04  4.48039121e-01  2.15164131e-03\n",
      " -6.10865247e+00 -6.10865247e+00 -6.45651525e-05  2.36550771e-01\n",
      " -4.98778998e-02]\n",
      "2025-01-17 16:56:58.019Z cobraCoach       30 cobraCoach.py:846 Last phi angle is unknown: [1459]\n",
      "2025-01-17 16:56:58.021Z cobraCoach       20 cobraCoach.py:877 Finished converting angle to steps, sending command to moveSteps (constantOntime).\n",
      "2025-01-17 16:56:58.030Z cobraCoach       20 cobraCoach.py:587 Sending step numbers to FPGA for moving cobra.\n",
      "2025-01-17 16:56:58.033Z cobraCoach       20 cobraCoach.py:601 cobra control FPGA operation done.\n",
      "2025-01-17 16:56:58.056Z pfi              40 pfi.py:896 Some theta angles are out of range\n",
      "2025-01-17 16:56:58.057Z pfi              40 pfi.py:899 Some phi angles are out of range\n",
      "2025-01-17 16:56:58.149Z cobraCoach       30 cobraCoach.py:675 Cobra#344 is too far from center\n",
      "2025-01-17 16:56:58.150Z cobraCoach       30 cobraCoach.py:679 Cobra#1460 is too close to center\n",
      "2025-01-17 16:56:58.151Z cobraCoach       30 cobraCoach.py:675 Cobra#1637 is too far from center\n",
      "2025-01-17 16:56:58.152Z cobraCoach       30 cobraCoach.py:675 Cobra#1790 is too far from center\n",
      "2025-01-17 16:56:58.154Z engineer         20 engineer.py:422 Updating the cobra information\n",
      "2025-01-17 16:56:58.158Z engineer         20 engineer.py:436 done: [ 683 1055 1200 1276 1667 1729 1782 1929 1956], 12 left\n",
      "2025-01-17 16:56:58.159Z engineer         30 engineer.py:445 12 cobras did not finish: [ 343  442  492  737 1302 1459 1493 1538 1636 1789 1791 1969], [4.67 4.67 4.67 4.67 4.67 0.82 4.67 4.67 4.67 4.67 4.67 0.11]\n",
      "2025-01-17 16:56:58.160Z engineer         20 engineer.py:450 Returning 2394 atThetas and 2394 atPhis\n",
      "2025-01-17 16:56:58.188Z pfi              40 pfi.py:899 Some phi angles are out of range\n",
      "2025-01-17 16:56:58.190Z engineer         20 engineer.py:395 Move theta arms to angle=[ 75.91 333.02 131.97 ... 210.2  360.   224.27] degree\n",
      "2025-01-17 16:56:58.191Z engineer         20 engineer.py:396 Move phi arms to angle=[ 6.62 42.74 10.15 ...  8.33 11.99 14.19] degree\n",
      "2025-01-17 16:56:58.192Z engineer         20 engineer.py:398 Checking passed homed argument = False\n",
      "2025-01-17 16:56:58.193Z engineer         20 engineer.py:412 Sending angles to moveToAngles for 0-th iteration\n",
      "2025-01-17 16:56:58.219Z cobraCoach       20 cobraCoach.py:1009 Moving deltaTheta = [ 0.0007928  -0.00028284  0.00117177 ...  0.00017839  0.00038417\n",
      " -0.00096284]\n",
      "2025-01-17 16:56:58.220Z cobraCoach       20 cobraCoach.py:1010 Moving deltaPhi = [-0.00012803 -0.00109006 -0.00103967 ...  0.00054019 -0.00083972\n",
      " -0.00047282]\n",
      "2025-01-17 16:56:58.426Z cobraCoach       20 cobraCoach.py:877 Finished converting angle to steps, sending command to moveSteps (constantOntime).\n",
      "2025-01-17 16:56:58.685Z cobraCoach       20 cobraCoach.py:587 Sending step numbers to FPGA for moving cobra.\n",
      "2025-01-17 16:56:58.794Z cobraCoach       20 cobraCoach.py:601 cobra control FPGA operation done.\n",
      "2025-01-17 16:56:58.817Z pfi              40 pfi.py:896 Some theta angles are out of range\n",
      "2025-01-17 16:56:58.818Z pfi              40 pfi.py:899 Some phi angles are out of range\n",
      "2025-01-17 16:56:58.935Z cobraCoach       30 cobraCoach.py:675 Cobra#1303 is too far from center\n",
      "2025-01-17 16:56:58.946Z cobraCoach       30 cobraCoach.py:675 Cobra#1790 is too far from center\n",
      "2025-01-17 16:56:58.961Z engineer         20 engineer.py:422 Updating the cobra information\n",
      "2025-01-17 16:56:58.964Z engineer         20 engineer.py:436 done: [   0    1    2 ... 2391 2392 2393], 14 left\n",
      "2025-01-17 16:56:58.965Z engineer         20 engineer.py:412 Sending angles to moveToAngles for 1-th iteration\n",
      "2025-01-17 16:56:58.967Z cobraCoach       30 cobraCoach.py:1003 Last phi angle is unknown, not moving: [1459]\n",
      "2025-01-17 16:56:58.968Z cobraCoach       20 cobraCoach.py:1009 Moving deltaTheta = [-1.94233989e-04 -5.14191722e-04 -6.14804362e-04 -1.01748456e-05\n",
      "  2.69975771e-06 -1.01748456e-05 -1.01748455e-05 -1.01748456e-05\n",
      " -1.03632841e-03 -6.68898607e-02 -1.01748456e-05 -3.80200480e-04\n",
      " -1.05065440e-04 -7.24306932e-04]\n",
      "2025-01-17 16:56:58.969Z cobraCoach       20 cobraCoach.py:1010 Moving deltaPhi = [-2.96687409e+00 -2.96705963e+00 -2.96705960e+00 -2.96705959e+00\n",
      " -6.10865247e+00  0.00000000e+00 -2.96705964e+00 -2.96705969e+00\n",
      " -2.96602327e+00  5.88029203e-01 -6.10865247e+00 -2.96705960e+00\n",
      " -4.98778998e-02 -1.24785700e-03]\n",
      "2025-01-17 16:56:58.970Z cobraCoach       30 cobraCoach.py:846 Last phi angle is unknown: [1459]\n",
      "2025-01-17 16:56:58.972Z cobraCoach       20 cobraCoach.py:877 Finished converting angle to steps, sending command to moveSteps (constantOntime).\n",
      "2025-01-17 16:56:58.978Z cobraCoach       20 cobraCoach.py:587 Sending step numbers to FPGA for moving cobra.\n",
      "2025-01-17 16:56:58.981Z cobraCoach       20 cobraCoach.py:601 cobra control FPGA operation done.\n",
      "2025-01-17 16:56:59.004Z pfi              40 pfi.py:896 Some theta angles are out of range\n",
      "2025-01-17 16:56:59.005Z pfi              40 pfi.py:899 Some phi angles are out of range\n",
      "2025-01-17 16:56:59.105Z cobraCoach       30 cobraCoach.py:675 Cobra#344 is too far from center\n",
      "2025-01-17 16:56:59.106Z pfi              30 pfi.py:475 clipping scale adjustment from 0.2573481031895782 to 0.3\n",
      "2025-01-17 16:56:59.107Z cobraCoach       30 cobraCoach.py:679 Cobra#1460 is too close to center\n",
      "2025-01-17 16:56:59.108Z pfi              30 pfi.py:475 clipping scale adjustment from 0.26154231110049525 to 0.3\n",
      "2025-01-17 16:56:59.111Z engineer         20 engineer.py:422 Updating the cobra information\n",
      "2025-01-17 16:56:59.113Z engineer         20 engineer.py:436 done: [1729 2153], 12 left\n",
      "2025-01-17 16:56:59.114Z engineer         20 engineer.py:412 Sending angles to moveToAngles for 2-th iteration\n",
      "2025-01-17 16:56:59.116Z cobraCoach       20 cobraCoach.py:1009 Moving deltaTheta = [-1.94233989e-04 -5.14191722e-04 -6.14804362e-04 -1.01748456e-05\n",
      " -1.09852569e+00 -1.01748456e-05 -1.01748455e-05 -1.01748456e-05\n",
      " -1.03632841e-03 -1.07143418e+00 -3.80200480e-04 -1.05065440e-04]\n",
      "2025-01-17 16:56:59.117Z cobraCoach       20 cobraCoach.py:1010 Moving deltaPhi = [-6.10865247 -2.96705963 -2.9670596  -2.96705959 -1.71883189 -2.96705973\n",
      " -2.96705964 -2.96705969 -2.96705964 -1.88389766 -2.9670596  -0.0498779 ]\n",
      "2025-01-17 16:56:59.120Z cobraCoach       20 cobraCoach.py:877 Finished converting angle to steps, sending command to moveSteps (constantOntime).\n",
      "2025-01-17 16:56:59.125Z cobraCoach       20 cobraCoach.py:587 Sending step numbers to FPGA for moving cobra.\n",
      "2025-01-17 16:56:59.127Z cobraCoach       20 cobraCoach.py:601 cobra control FPGA operation done.\n",
      "2025-01-17 16:56:59.150Z pfi              40 pfi.py:896 Some theta angles are out of range\n",
      "2025-01-17 16:56:59.151Z pfi              40 pfi.py:899 Some phi angles are out of range\n",
      "2025-01-17 16:56:59.254Z pfi              30 pfi.py:475 clipping scale adjustment from 0.2859424141191533 to 0.3\n",
      "2025-01-17 16:56:59.256Z cobraCoach       30 cobraCoach.py:675 Cobra#1303 is too far from center\n",
      "2025-01-17 16:56:59.257Z pfi              30 pfi.py:475 clipping scale adjustment from 0.29999999904403885 to 0.3\n",
      "2025-01-17 16:56:59.259Z cobraCoach       30 cobraCoach.py:675 Cobra#1790 is too far from center\n",
      "2025-01-17 16:56:59.261Z engineer         20 engineer.py:422 Updating the cobra information\n",
      "2025-01-17 16:56:59.264Z engineer         20 engineer.py:412 Sending angles to moveToAngles for 3-th iteration\n",
      "2025-01-17 16:56:59.266Z cobraCoach       30 cobraCoach.py:1003 Last phi angle is unknown, not moving: [1459]\n",
      "2025-01-17 16:56:59.267Z cobraCoach       20 cobraCoach.py:1009 Moving deltaTheta = [-3.21863813e-01 -5.14191722e-04 -6.14804362e-04 -1.01748456e-05\n",
      " -6.82685060e-01 -1.01748456e-05 -1.01748455e-05 -1.01748456e-05\n",
      " -1.03632841e-03 -3.25590772e-01 -3.80200480e-04 -1.05065440e-04]\n",
      "2025-01-17 16:56:59.268Z cobraCoach       20 cobraCoach.py:1010 Moving deltaPhi = [-2.64219266 -2.96705963 -2.9670596  -2.96705959 -6.10865247  0.\n",
      " -2.96705964 -2.96705969 -2.96705964 -6.10865247 -2.9670596  -0.0498779 ]\n",
      "2025-01-17 16:56:59.270Z cobraCoach       30 cobraCoach.py:846 Last phi angle is unknown: [1459]\n",
      "2025-01-17 16:56:59.272Z cobraCoach       20 cobraCoach.py:877 Finished converting angle to steps, sending command to moveSteps (constantOntime).\n",
      "2025-01-17 16:56:59.279Z cobraCoach       20 cobraCoach.py:587 Sending step numbers to FPGA for moving cobra.\n",
      "2025-01-17 16:56:59.282Z cobraCoach       20 cobraCoach.py:601 cobra control FPGA operation done.\n",
      "2025-01-17 16:56:59.306Z pfi              40 pfi.py:896 Some theta angles are out of range\n",
      "2025-01-17 16:56:59.307Z pfi              40 pfi.py:899 Some phi angles are out of range\n",
      "2025-01-17 16:56:59.406Z pfi              30 pfi.py:475 clipping scale adjustment from 0.22521650184055392 to 0.3\n",
      "2025-01-17 16:56:59.407Z pfi              30 pfi.py:475 clipping scale adjustment from 0.2573481031895782 to 0.3\n",
      "2025-01-17 16:56:59.408Z cobraCoach       30 cobraCoach.py:679 Cobra#1460 is too close to center\n",
      "2025-01-17 16:56:59.409Z pfi              30 pfi.py:475 clipping scale adjustment from 0.22664453700152026 to 0.3\n",
      "2025-01-17 16:56:59.409Z pfi              30 pfi.py:475 clipping scale adjustment from 0.26154231110049525 to 0.3\n",
      "2025-01-17 16:56:59.411Z engineer         20 engineer.py:422 Updating the cobra information\n",
      "2025-01-17 16:56:59.413Z engineer         20 engineer.py:412 Sending angles to moveToAngles for 4-th iteration\n",
      "2025-01-17 16:56:59.415Z cobraCoach       20 cobraCoach.py:1009 Moving deltaTheta = [-2.17122172e-04 -5.14191722e-04 -6.14804362e-04 -1.01748456e-05\n",
      "  4.51698156e+00 -1.01748456e-05 -1.01748455e-05 -1.01748456e-05\n",
      " -1.03632841e-03  5.00301130e+00 -3.80200480e-04 -1.05065440e-04]\n",
      "2025-01-17 16:56:59.416Z cobraCoach       20 cobraCoach.py:1010 Moving deltaPhi = [-2.96705965 -2.96705963 -2.9670596  -2.96705959 -1.71883189 -2.96705973\n",
      " -2.96705964 -2.96705969 -2.96705964 -1.88389766 -2.9670596  -0.0498779 ]\n",
      "2025-01-17 16:56:59.418Z cobraCoach       20 cobraCoach.py:877 Finished converting angle to steps, sending command to moveSteps (constantOntime).\n",
      "2025-01-17 16:56:59.425Z cobraCoach       20 cobraCoach.py:587 Sending step numbers to FPGA for moving cobra.\n",
      "2025-01-17 16:56:59.427Z cobraCoach       20 cobraCoach.py:601 cobra control FPGA operation done.\n",
      "2025-01-17 16:56:59.450Z pfi              40 pfi.py:896 Some theta angles are out of range\n",
      "2025-01-17 16:56:59.451Z pfi              40 pfi.py:899 Some phi angles are out of range\n",
      "2025-01-17 16:56:59.547Z cobraCoach       30 cobraCoach.py:675 Cobra#1790 is too far from center\n",
      "2025-01-17 16:56:59.548Z pfi              30 pfi.py:475 clipping scale adjustment from 0.29999999510714737 to 0.3\n",
      "2025-01-17 16:56:59.549Z engineer         20 engineer.py:422 Updating the cobra information\n",
      "2025-01-17 16:56:59.551Z engineer         20 engineer.py:412 Sending angles to moveToAngles for 5-th iteration\n",
      "2025-01-17 16:56:59.553Z cobraCoach       30 cobraCoach.py:1003 Last phi angle is unknown, not moving: [1459]\n",
      "2025-01-17 16:56:59.555Z cobraCoach       20 cobraCoach.py:1009 Moving deltaTheta = [-2.17122172e-04 -5.14191722e-04 -6.14804362e-04 -1.01748456e-05\n",
      " -4.10811338e-03 -1.01748456e-05 -1.01748455e-05 -1.01748456e-05\n",
      " -1.03632841e-03  7.85623389e-01 -3.80200480e-04 -1.05065440e-04]\n",
      "2025-01-17 16:56:59.556Z cobraCoach       20 cobraCoach.py:1010 Moving deltaPhi = [-2.96705965 -2.96705963 -2.9670596  -2.96705959 -2.96705962  0.\n",
      " -2.96705964 -2.96705969 -2.96705964 -6.10865247 -2.9670596  -0.0498779 ]\n",
      "2025-01-17 16:56:59.559Z cobraCoach       30 cobraCoach.py:846 Last phi angle is unknown: [1459]\n",
      "2025-01-17 16:56:59.562Z cobraCoach       20 cobraCoach.py:877 Finished converting angle to steps, sending command to moveSteps (constantOntime).\n",
      "2025-01-17 16:56:59.570Z cobraCoach       20 cobraCoach.py:587 Sending step numbers to FPGA for moving cobra.\n",
      "2025-01-17 16:56:59.572Z cobraCoach       20 cobraCoach.py:601 cobra control FPGA operation done.\n",
      "2025-01-17 16:56:59.598Z pfi              40 pfi.py:896 Some theta angles are out of range\n",
      "2025-01-17 16:56:59.599Z pfi              40 pfi.py:899 Some phi angles are out of range\n",
      "2025-01-17 16:56:59.702Z pfi              30 pfi.py:475 clipping scale adjustment from 0.2250489700875823 to 0.3\n",
      "2025-01-17 16:56:59.703Z cobraCoach       30 cobraCoach.py:679 Cobra#1460 is too close to center\n",
      "2025-01-17 16:56:59.704Z pfi              30 pfi.py:475 clipping scale adjustment from 0.2561286605203101 to 0.3\n",
      "2025-01-17 16:56:59.705Z pfi              30 pfi.py:475 clipping scale adjustment from 0.26154231110049525 to 0.3\n",
      "2025-01-17 16:56:59.706Z engineer         20 engineer.py:422 Updating the cobra information\n",
      "2025-01-17 16:56:59.709Z engineer         30 engineer.py:445 12 cobras did not finish: [ 343  442  492  737 1302 1459 1493 1538 1636 1789 1791 1969], [4.67 4.67 4.67 4.67 4.67 0.82 4.67 4.67 4.67 4.2  4.67 0.11]\n",
      "2025-01-17 16:56:59.710Z engineer         20 engineer.py:450 Returning 2394 atThetas and 2394 atPhis\n",
      "2025-01-17 16:56:59.735Z pfi              40 pfi.py:896 Some theta angles are out of range\n",
      "2025-01-17 16:56:59.738Z pfi              40 pfi.py:899 Some phi angles are out of range\n",
      "2025-01-17 16:56:59.835Z pfi              40 pfi.py:896 Some theta angles are out of range\n",
      "2025-01-17 16:56:59.837Z pfi              40 pfi.py:899 Some phi angles are out of range\n",
      "2025-01-17 16:56:59.899Z pfi              40 pfi.py:896 Some theta angles are out of range\n",
      "2025-01-17 16:56:59.901Z pfi              40 pfi.py:899 Some phi angles are out of range\n",
      "2025-01-17 16:56:59.948Z pfi              40 pfi.py:896 Some theta angles are out of range\n",
      "2025-01-17 16:56:59.950Z pfi              40 pfi.py:899 Some phi angles are out of range\n",
      "2025-01-17 16:56:59.999Z pfi              40 pfi.py:896 Some theta angles are out of range\n",
      "2025-01-17 16:57:00.001Z pfi              40 pfi.py:899 Some phi angles are out of range\n",
      "2025-01-17 16:57:00.056Z pfi              40 pfi.py:896 Some theta angles are out of range\n",
      "2025-01-17 16:57:00.058Z pfi              40 pfi.py:899 Some phi angles are out of range\n",
      "2025-01-17 16:57:00.104Z pfi              40 pfi.py:896 Some theta angles are out of range\n",
      "2025-01-17 16:57:00.106Z pfi              40 pfi.py:899 Some phi angles are out of range\n",
      "2025-01-17 16:57:00.151Z pfi              40 pfi.py:896 Some theta angles are out of range\n",
      "2025-01-17 16:57:00.153Z pfi              40 pfi.py:899 Some phi angles are out of range\n",
      "2025-01-17 16:57:00.198Z pfi              40 pfi.py:930 Some theta angles are out of range\n",
      "2025-01-17 16:57:00.257Z pfi              40 pfi.py:930 Some theta angles are out of range\n",
      "2025-01-17 16:57:00.308Z pfi              40 pfi.py:930 Some theta angles are out of range\n",
      "2025-01-17 16:57:00.345Z pfi              40 pfi.py:930 Some theta angles are out of range\n",
      "2025-01-17 16:57:00.383Z pfi              40 pfi.py:930 Some theta angles are out of range\n",
      "2025-01-17 16:57:00.421Z pfi              40 pfi.py:930 Some theta angles are out of range\n",
      "2025-01-17 16:57:00.458Z pfi              40 pfi.py:930 Some theta angles are out of range\n",
      "2025-01-17 16:57:00.493Z pfi              40 pfi.py:930 Some theta angles are out of range\n"
     ]
    },
    {
     "name": "stdout",
     "output_type": "stream",
     "text": [
      "ERROR: detected 11 end point collision, which should be impossible\n",
      "trajectory collisions found: 11\n",
      "Set parameter Presolve to value 1\n"
     ]
    },
    {
     "name": "stderr",
     "output_type": "stream",
     "text": [
      "2025-01-17 16:57:04.531Z gurobipy         20 netflow.py:117 Set parameter Presolve to value 1\n"
     ]
    },
    {
     "name": "stdout",
     "output_type": "stream",
     "text": [
      "Set parameter Method to value 4\n"
     ]
    },
    {
     "name": "stderr",
     "output_type": "stream",
     "text": [
      "2025-01-17 16:57:04.532Z gurobipy         20 netflow.py:117 Set parameter Method to value 4\n"
     ]
    },
    {
     "name": "stdout",
     "output_type": "stream",
     "text": [
      "Set parameter DegenMoves to value 0\n"
     ]
    },
    {
     "name": "stderr",
     "output_type": "stream",
     "text": [
      "2025-01-17 16:57:04.534Z gurobipy         20 netflow.py:117 Set parameter DegenMoves to value 0\n"
     ]
    },
    {
     "name": "stdout",
     "output_type": "stream",
     "text": [
      "Set parameter Heuristics to value 0.8\n"
     ]
    },
    {
     "name": "stderr",
     "output_type": "stream",
     "text": [
      "2025-01-17 16:57:04.535Z gurobipy         20 netflow.py:117 Set parameter Heuristics to value 0.8\n"
     ]
    },
    {
     "name": "stdout",
     "output_type": "stream",
     "text": [
      "Set parameter MIPGap to value 0.05\n"
     ]
    },
    {
     "name": "stderr",
     "output_type": "stream",
     "text": [
      "2025-01-17 16:57:04.536Z gurobipy         20 netflow.py:117 Set parameter MIPGap to value 0.05\n"
     ]
    },
    {
     "name": "stdout",
     "output_type": "stream",
     "text": [
      "Creating network topology\n",
      "  exposure 1\n",
      "Calculating visibilities\n",
      "adding constraints\n",
      "adding collision constraints\n",
      "adding forbidden pair constraints\n",
      "Gurobi Optimizer version 10.0.1 build v10.0.1rc0 (mac64[x86])\n"
     ]
    },
    {
     "name": "stderr",
     "output_type": "stream",
     "text": [
      "2025-01-17 16:57:12.809Z gurobipy         20 netflow.py:149 Gurobi Optimizer version 10.0.1 build v10.0.1rc0 (mac64[x86])\n"
     ]
    },
    {
     "name": "stdout",
     "output_type": "stream",
     "text": [
      "\n"
     ]
    },
    {
     "name": "stderr",
     "output_type": "stream",
     "text": [
      "2025-01-17 16:57:12.811Z gurobipy         20 netflow.py:149 \n"
     ]
    },
    {
     "name": "stdout",
     "output_type": "stream",
     "text": [
      "CPU model: Intel(R) Core(TM) i7-8569U CPU @ 2.80GHz\n"
     ]
    },
    {
     "name": "stderr",
     "output_type": "stream",
     "text": [
      "2025-01-17 16:57:12.813Z gurobipy         20 netflow.py:149 CPU model: Intel(R) Core(TM) i7-8569U CPU @ 2.80GHz\n"
     ]
    },
    {
     "name": "stdout",
     "output_type": "stream",
     "text": [
      "Thread count: 4 physical cores, 8 logical processors, using up to 8 threads\n"
     ]
    },
    {
     "name": "stderr",
     "output_type": "stream",
     "text": [
      "2025-01-17 16:57:12.815Z gurobipy         20 netflow.py:149 Thread count: 4 physical cores, 8 logical processors, using up to 8 threads\n"
     ]
    },
    {
     "name": "stdout",
     "output_type": "stream",
     "text": [
      "\n"
     ]
    },
    {
     "name": "stderr",
     "output_type": "stream",
     "text": [
      "2025-01-17 16:57:12.818Z gurobipy         20 netflow.py:149 \n"
     ]
    },
    {
     "name": "stdout",
     "output_type": "stream",
     "text": [
      "Academic license 2379863 - for non-commercial use only - registered to ji___@ipmu.jp\n"
     ]
    },
    {
     "name": "stderr",
     "output_type": "stream",
     "text": [
      "2025-01-17 16:57:12.820Z gurobipy         20 netflow.py:149 Academic license 2379863 - for non-commercial use only - registered to ji___@ipmu.jp\n"
     ]
    },
    {
     "name": "stdout",
     "output_type": "stream",
     "text": [
      "Optimize a model with 99471 rows, 89861 columns and 271740 nonzeros\n"
     ]
    },
    {
     "name": "stderr",
     "output_type": "stream",
     "text": [
      "2025-01-17 16:57:12.822Z gurobipy         20 netflow.py:149 Optimize a model with 99471 rows, 89861 columns and 271740 nonzeros\n"
     ]
    },
    {
     "name": "stdout",
     "output_type": "stream",
     "text": [
      "Model fingerprint: 0xbb1a1d9a\n"
     ]
    },
    {
     "name": "stderr",
     "output_type": "stream",
     "text": [
      "2025-01-17 16:57:12.826Z gurobipy         20 netflow.py:149 Model fingerprint: 0xbb1a1d9a\n"
     ]
    },
    {
     "name": "stdout",
     "output_type": "stream",
     "text": [
      "Variable types: 1 continuous, 89860 integer (69113 binary)\n"
     ]
    },
    {
     "name": "stderr",
     "output_type": "stream",
     "text": [
      "2025-01-17 16:57:12.828Z gurobipy         20 netflow.py:149 Variable types: 1 continuous, 89860 integer (69113 binary)\n"
     ]
    },
    {
     "name": "stdout",
     "output_type": "stream",
     "text": [
      "Coefficient statistics:\n"
     ]
    },
    {
     "name": "stderr",
     "output_type": "stream",
     "text": [
      "2025-01-17 16:57:12.832Z gurobipy         20 netflow.py:149 Coefficient statistics:\n"
     ]
    },
    {
     "name": "stdout",
     "output_type": "stream",
     "text": [
      "  Matrix range     [1e+00, 1e+00]\n"
     ]
    },
    {
     "name": "stderr",
     "output_type": "stream",
     "text": [
      "2025-01-17 16:57:12.833Z gurobipy         20 netflow.py:149   Matrix range     [1e+00, 1e+00]\n"
     ]
    },
    {
     "name": "stdout",
     "output_type": "stream",
     "text": [
      "  Objective range  [2e-05, 1e+06]\n"
     ]
    },
    {
     "name": "stderr",
     "output_type": "stream",
     "text": [
      "2025-01-17 16:57:12.835Z gurobipy         20 netflow.py:149   Objective range  [2e-05, 1e+06]\n"
     ]
    },
    {
     "name": "stdout",
     "output_type": "stream",
     "text": [
      "  Bounds range     [1e+00, 1e+00]\n"
     ]
    },
    {
     "name": "stderr",
     "output_type": "stream",
     "text": [
      "2025-01-17 16:57:12.837Z gurobipy         20 netflow.py:149   Bounds range     [1e+00, 1e+00]\n"
     ]
    },
    {
     "name": "stdout",
     "output_type": "stream",
     "text": [
      "  RHS range        [1e+00, 2e+04]\n"
     ]
    },
    {
     "name": "stderr",
     "output_type": "stream",
     "text": [
      "2025-01-17 16:57:12.839Z gurobipy         20 netflow.py:149   RHS range        [1e+00, 2e+04]\n"
     ]
    },
    {
     "name": "stdout",
     "output_type": "stream",
     "text": [
      "Found heuristic solution: objective 4214411.8783\n"
     ]
    },
    {
     "name": "stderr",
     "output_type": "stream",
     "text": [
      "2025-01-17 16:57:12.865Z gurobipy         20 netflow.py:149 Found heuristic solution: objective 4214411.8783\n"
     ]
    },
    {
     "name": "stdout",
     "output_type": "stream",
     "text": [
      "Presolve removed 99471 rows and 89861 columns\n"
     ]
    },
    {
     "name": "stderr",
     "output_type": "stream",
     "text": [
      "2025-01-17 16:57:13.114Z gurobipy         20 netflow.py:149 Presolve removed 99471 rows and 89861 columns\n"
     ]
    },
    {
     "name": "stdout",
     "output_type": "stream",
     "text": [
      "Presolve time: 0.25s\n"
     ]
    },
    {
     "name": "stderr",
     "output_type": "stream",
     "text": [
      "2025-01-17 16:57:13.116Z gurobipy         20 netflow.py:149 Presolve time: 0.25s\n"
     ]
    },
    {
     "name": "stdout",
     "output_type": "stream",
     "text": [
      "Presolve: All rows and columns removed\n"
     ]
    },
    {
     "name": "stderr",
     "output_type": "stream",
     "text": [
      "2025-01-17 16:57:13.131Z gurobipy         20 netflow.py:149 Presolve: All rows and columns removed\n"
     ]
    },
    {
     "name": "stdout",
     "output_type": "stream",
     "text": [
      "\n"
     ]
    },
    {
     "name": "stderr",
     "output_type": "stream",
     "text": [
      "2025-01-17 16:57:13.150Z gurobipy         20 netflow.py:149 \n"
     ]
    },
    {
     "name": "stdout",
     "output_type": "stream",
     "text": [
      "Explored 0 nodes (0 simplex iterations) in 0.33 seconds (0.14 work units)\n"
     ]
    },
    {
     "name": "stderr",
     "output_type": "stream",
     "text": [
      "2025-01-17 16:57:13.152Z gurobipy         20 netflow.py:149 Explored 0 nodes (0 simplex iterations) in 0.33 seconds (0.14 work units)\n"
     ]
    },
    {
     "name": "stdout",
     "output_type": "stream",
     "text": [
      "Thread count was 1 (of 8 available processors)\n"
     ]
    },
    {
     "name": "stderr",
     "output_type": "stream",
     "text": [
      "2025-01-17 16:57:13.153Z gurobipy         20 netflow.py:149 Thread count was 1 (of 8 available processors)\n"
     ]
    },
    {
     "name": "stdout",
     "output_type": "stream",
     "text": [
      "\n"
     ]
    },
    {
     "name": "stderr",
     "output_type": "stream",
     "text": [
      "2025-01-17 16:57:13.155Z gurobipy         20 netflow.py:149 \n"
     ]
    },
    {
     "name": "stdout",
     "output_type": "stream",
     "text": [
      "Solution count 2: 3.84746e+06 4.21441e+06 \n"
     ]
    },
    {
     "name": "stderr",
     "output_type": "stream",
     "text": [
      "2025-01-17 16:57:13.156Z gurobipy         20 netflow.py:149 Solution count 2: 3.84746e+06 4.21441e+06 \n"
     ]
    },
    {
     "name": "stdout",
     "output_type": "stream",
     "text": [
      "\n"
     ]
    },
    {
     "name": "stderr",
     "output_type": "stream",
     "text": [
      "2025-01-17 16:57:13.158Z gurobipy         20 netflow.py:149 \n"
     ]
    },
    {
     "name": "stdout",
     "output_type": "stream",
     "text": [
      "Optimal solution found (tolerance 5.00e-02)\n"
     ]
    },
    {
     "name": "stderr",
     "output_type": "stream",
     "text": [
      "2025-01-17 16:57:13.159Z gurobipy         20 netflow.py:149 Optimal solution found (tolerance 5.00e-02)\n"
     ]
    },
    {
     "name": "stdout",
     "output_type": "stream",
     "text": [
      "Best objective 3.847457711228e+06, best bound 3.847457711228e+06, gap 0.0000%\n"
     ]
    },
    {
     "name": "stderr",
     "output_type": "stream",
     "text": [
      "2025-01-17 16:57:13.163Z gurobipy         20 netflow.py:149 Best objective 3.847457711228e+06, best bound 3.847457711228e+06, gap 0.0000%\n",
      "2025-01-17 16:57:13.301Z pfi              40 pfi.py:896 Some theta angles are out of range\n",
      "2025-01-17 16:57:13.302Z pfi              40 pfi.py:899 Some phi angles are out of range\n"
     ]
    },
    {
     "name": "stdout",
     "output_type": "stream",
     "text": [
      "Checking for trajectory collisions\n"
     ]
    },
    {
     "name": "stderr",
     "output_type": "stream",
     "text": [
      "2025-01-17 16:57:13.416Z pfi              40 pfi.py:899 Some phi angles are out of range\n",
      "2025-01-17 16:57:13.456Z pfi              40 pfi.py:899 Some phi angles are out of range\n",
      "2025-01-17 16:57:13.460Z engineer         20 engineer.py:395 Move theta arms to angle=[ 75.91 333.02 131.97 ... 210.2  360.   224.27] degree\n",
      "2025-01-17 16:57:13.461Z engineer         20 engineer.py:396 Move phi arms to angle=[ 6.62 42.74 10.15 ...  8.33 11.99 14.19] degree\n",
      "2025-01-17 16:57:13.462Z engineer         20 engineer.py:398 Checking passed homed argument = True\n",
      "2025-01-17 16:57:13.462Z engineer         20 engineer.py:402 Move theta arms CW and phi arms CCW to the hard stops\n",
      "2025-01-17 16:57:13.487Z cobraCoach       20 cobraCoach.py:1065 home cobras: theta=10000, phi=-5000\n",
      "2025-01-17 16:57:13.510Z pfi              40 pfi.py:899 Some phi angles are out of range\n",
      "2025-01-17 16:57:13.532Z pfi              40 pfi.py:899 Some phi angles are out of range\n",
      "2025-01-17 16:57:13.534Z engineer         20 engineer.py:412 Sending angles to moveToAngles for 0-th iteration\n",
      "2025-01-17 16:57:13.557Z cobraCoach       20 cobraCoach.py:1009 Moving deltaTheta = [-5.25294989 -0.85284527 -4.33602077 ... -3.02040524 -0.4013664\n",
      " -2.78477536]\n",
      "2025-01-17 16:57:13.558Z cobraCoach       20 cobraCoach.py:1010 Moving deltaPhi = [0.11558998 0.74591546 0.1772055  ... 0.14539386 0.20932294 0.24760745]\n",
      "2025-01-17 16:57:13.816Z cobraCoach       20 cobraCoach.py:877 Finished converting angle to steps, sending command to moveSteps (constantOntime).\n",
      "2025-01-17 16:57:14.509Z cobraCoach       20 cobraCoach.py:587 Sending step numbers to FPGA for moving cobra.\n",
      "2025-01-17 16:57:14.620Z cobraCoach       20 cobraCoach.py:601 cobra control FPGA operation done.\n",
      "2025-01-17 16:57:14.644Z pfi              40 pfi.py:896 Some theta angles are out of range\n",
      "2025-01-17 16:57:14.645Z pfi              40 pfi.py:899 Some phi angles are out of range\n",
      "2025-01-17 16:57:14.747Z cobraCoach       30 cobraCoach.py:675 Cobra#344 is too far from center\n",
      "2025-01-17 16:57:14.752Z cobraCoach       30 cobraCoach.py:675 Cobra#443 is too far from center\n",
      "2025-01-17 16:57:14.754Z cobraCoach       30 cobraCoach.py:675 Cobra#493 is too far from center\n",
      "2025-01-17 16:57:14.773Z cobraCoach       30 cobraCoach.py:675 Cobra#1303 is too far from center\n",
      "2025-01-17 16:57:14.782Z cobraCoach       30 cobraCoach.py:675 Cobra#1637 is too far from center\n",
      "2025-01-17 16:57:14.787Z cobraCoach       30 cobraCoach.py:675 Cobra#1790 is too far from center\n",
      "2025-01-17 16:57:14.788Z cobraCoach       30 cobraCoach.py:675 Cobra#1792 is too far from center\n",
      "2025-01-17 16:57:14.804Z engineer         20 engineer.py:422 Updating the cobra information\n",
      "2025-01-17 16:57:14.808Z engineer         20 engineer.py:436 done: [   0    1    2 ... 2391 2392 2393], 21 left\n",
      "2025-01-17 16:57:14.809Z engineer         20 engineer.py:412 Sending angles to moveToAngles for 1-th iteration\n",
      "2025-01-17 16:57:14.812Z cobraCoach       30 cobraCoach.py:1003 Last phi angle is unknown, not moving: [1459]\n",
      "2025-01-17 16:57:14.813Z cobraCoach       20 cobraCoach.py:1009 Moving deltaTheta = [-1.01748456e-05 -1.01748456e-05 -1.01748456e-05 -2.52731626e+00\n",
      " -1.01748456e-05 -6.78881414e-04 -1.87148445e-03 -2.65016099e-02\n",
      " -1.01748456e-05 -1.01748456e-05 -1.01748455e-05 -1.01748456e-05\n",
      " -1.01748455e-05 -5.29851305e-02 -1.32093872e+00  2.86555532e-04\n",
      " -1.01748456e-05 -1.01748456e-05 -3.50271147e-01 -2.01198950e+00\n",
      "  1.10228624e-03]\n",
      "2025-01-17 16:57:14.814Z cobraCoach       20 cobraCoach.py:1010 Moving deltaPhi = [-6.10865247e+00 -6.10865247e+00 -6.10865247e+00 -7.02523876e-04\n",
      " -2.96705959e+00 -1.80912812e-03 -1.01238450e-03  4.23083895e-02\n",
      " -6.10865247e+00  0.00000000e+00 -2.96705964e+00 -2.96705969e+00\n",
      " -6.10865247e+00  2.15367095e-04  4.48039121e-01  2.15164131e-03\n",
      " -6.10865247e+00 -6.10865247e+00 -6.45651525e-05  2.36550771e-01\n",
      " -4.98778998e-02]\n",
      "2025-01-17 16:57:14.816Z cobraCoach       30 cobraCoach.py:846 Last phi angle is unknown: [1459]\n",
      "2025-01-17 16:57:14.819Z cobraCoach       20 cobraCoach.py:877 Finished converting angle to steps, sending command to moveSteps (constantOntime).\n",
      "2025-01-17 16:57:14.827Z cobraCoach       20 cobraCoach.py:587 Sending step numbers to FPGA for moving cobra.\n",
      "2025-01-17 16:57:14.830Z cobraCoach       20 cobraCoach.py:601 cobra control FPGA operation done.\n",
      "2025-01-17 16:57:14.853Z pfi              40 pfi.py:896 Some theta angles are out of range\n",
      "2025-01-17 16:57:14.854Z pfi              40 pfi.py:899 Some phi angles are out of range\n",
      "2025-01-17 16:57:14.953Z cobraCoach       30 cobraCoach.py:675 Cobra#344 is too far from center\n",
      "2025-01-17 16:57:14.955Z cobraCoach       30 cobraCoach.py:679 Cobra#1460 is too close to center\n",
      "2025-01-17 16:57:14.956Z cobraCoach       30 cobraCoach.py:675 Cobra#1637 is too far from center\n",
      "2025-01-17 16:57:14.956Z cobraCoach       30 cobraCoach.py:675 Cobra#1790 is too far from center\n",
      "2025-01-17 16:57:14.958Z engineer         20 engineer.py:422 Updating the cobra information\n",
      "2025-01-17 16:57:14.961Z engineer         20 engineer.py:436 done: [ 683 1055 1200 1276 1667 1729 1782 1929 1956], 12 left\n",
      "2025-01-17 16:57:14.962Z engineer         30 engineer.py:445 12 cobras did not finish: [ 343  442  492  737 1302 1459 1493 1538 1636 1789 1791 1969], [4.67 4.67 4.67 4.67 4.67 0.82 4.67 4.67 4.67 4.67 4.67 0.11]\n",
      "2025-01-17 16:57:14.963Z engineer         20 engineer.py:450 Returning 2394 atThetas and 2394 atPhis\n",
      "2025-01-17 16:57:14.986Z pfi              40 pfi.py:899 Some phi angles are out of range\n",
      "2025-01-17 16:57:14.989Z engineer         20 engineer.py:395 Move theta arms to angle=[ 75.91 333.02 131.97 ... 210.2  360.   224.27] degree\n",
      "2025-01-17 16:57:14.990Z engineer         20 engineer.py:396 Move phi arms to angle=[ 6.62 42.74 10.15 ...  8.33 11.99 14.19] degree\n",
      "2025-01-17 16:57:14.991Z engineer         20 engineer.py:398 Checking passed homed argument = False\n",
      "2025-01-17 16:57:14.992Z engineer         20 engineer.py:412 Sending angles to moveToAngles for 0-th iteration\n",
      "2025-01-17 16:57:15.018Z cobraCoach       20 cobraCoach.py:1009 Moving deltaTheta = [ 0.0007928  -0.00028284  0.00117177 ...  0.00017839  0.00038417\n",
      " -0.00096284]\n",
      "2025-01-17 16:57:15.019Z cobraCoach       20 cobraCoach.py:1010 Moving deltaPhi = [-0.00012803 -0.00109006 -0.00103967 ...  0.00054019 -0.00083972\n",
      " -0.00047282]\n",
      "2025-01-17 16:57:15.210Z cobraCoach       20 cobraCoach.py:877 Finished converting angle to steps, sending command to moveSteps (constantOntime).\n",
      "2025-01-17 16:57:15.465Z cobraCoach       20 cobraCoach.py:587 Sending step numbers to FPGA for moving cobra.\n",
      "2025-01-17 16:57:15.576Z cobraCoach       20 cobraCoach.py:601 cobra control FPGA operation done.\n",
      "2025-01-17 16:57:15.598Z pfi              40 pfi.py:896 Some theta angles are out of range\n",
      "2025-01-17 16:57:15.599Z pfi              40 pfi.py:899 Some phi angles are out of range\n",
      "2025-01-17 16:57:15.734Z cobraCoach       30 cobraCoach.py:675 Cobra#1303 is too far from center\n",
      "2025-01-17 16:57:15.745Z cobraCoach       30 cobraCoach.py:675 Cobra#1790 is too far from center\n",
      "2025-01-17 16:57:15.760Z engineer         20 engineer.py:422 Updating the cobra information\n",
      "2025-01-17 16:57:15.763Z engineer         20 engineer.py:436 done: [   0    1    2 ... 2391 2392 2393], 14 left\n",
      "2025-01-17 16:57:15.763Z engineer         20 engineer.py:412 Sending angles to moveToAngles for 1-th iteration\n",
      "2025-01-17 16:57:15.765Z cobraCoach       30 cobraCoach.py:1003 Last phi angle is unknown, not moving: [1459]\n",
      "2025-01-17 16:57:15.766Z cobraCoach       20 cobraCoach.py:1009 Moving deltaTheta = [-1.94233989e-04 -5.14191722e-04 -6.14804362e-04 -1.01748456e-05\n",
      "  2.69975771e-06 -1.01748456e-05 -1.01748455e-05 -1.01748456e-05\n",
      " -1.03632841e-03 -6.68898607e-02 -1.01748456e-05 -3.80200480e-04\n",
      " -1.05065440e-04 -7.24306932e-04]\n",
      "2025-01-17 16:57:15.767Z cobraCoach       20 cobraCoach.py:1010 Moving deltaPhi = [-2.96687409e+00 -2.96705963e+00 -2.96705960e+00 -2.96705959e+00\n",
      " -6.10865247e+00  0.00000000e+00 -2.96705964e+00 -2.96705969e+00\n",
      " -2.96602327e+00  5.88029203e-01 -6.10865247e+00 -2.96705960e+00\n",
      " -4.98778998e-02 -1.24785700e-03]\n",
      "2025-01-17 16:57:15.770Z cobraCoach       30 cobraCoach.py:846 Last phi angle is unknown: [1459]\n",
      "2025-01-17 16:57:15.772Z cobraCoach       20 cobraCoach.py:877 Finished converting angle to steps, sending command to moveSteps (constantOntime).\n",
      "2025-01-17 16:57:15.778Z cobraCoach       20 cobraCoach.py:587 Sending step numbers to FPGA for moving cobra.\n",
      "2025-01-17 16:57:15.780Z cobraCoach       20 cobraCoach.py:601 cobra control FPGA operation done.\n",
      "2025-01-17 16:57:15.805Z pfi              40 pfi.py:896 Some theta angles are out of range\n",
      "2025-01-17 16:57:15.806Z pfi              40 pfi.py:899 Some phi angles are out of range\n",
      "2025-01-17 16:57:15.898Z cobraCoach       30 cobraCoach.py:675 Cobra#344 is too far from center\n",
      "2025-01-17 16:57:15.900Z pfi              30 pfi.py:475 clipping scale adjustment from 0.2573481031895782 to 0.3\n",
      "2025-01-17 16:57:15.900Z cobraCoach       30 cobraCoach.py:679 Cobra#1460 is too close to center\n",
      "2025-01-17 16:57:15.901Z pfi              30 pfi.py:475 clipping scale adjustment from 0.26154231110049525 to 0.3\n",
      "2025-01-17 16:57:15.903Z engineer         20 engineer.py:422 Updating the cobra information\n",
      "2025-01-17 16:57:15.905Z engineer         20 engineer.py:436 done: [1729 2153], 12 left\n",
      "2025-01-17 16:57:15.906Z engineer         20 engineer.py:412 Sending angles to moveToAngles for 2-th iteration\n",
      "2025-01-17 16:57:15.909Z cobraCoach       20 cobraCoach.py:1009 Moving deltaTheta = [-1.94233989e-04 -5.14191722e-04 -6.14804362e-04 -1.01748456e-05\n",
      " -1.09852569e+00 -1.01748456e-05 -1.01748455e-05 -1.01748456e-05\n",
      " -1.03632841e-03 -1.07143418e+00 -3.80200480e-04 -1.05065440e-04]\n",
      "2025-01-17 16:57:15.910Z cobraCoach       20 cobraCoach.py:1010 Moving deltaPhi = [-6.10865247 -2.96705963 -2.9670596  -2.96705959 -1.71883189 -2.96705973\n",
      " -2.96705964 -2.96705969 -2.96705964 -1.88389766 -2.9670596  -0.0498779 ]\n",
      "2025-01-17 16:57:15.913Z cobraCoach       20 cobraCoach.py:877 Finished converting angle to steps, sending command to moveSteps (constantOntime).\n",
      "2025-01-17 16:57:15.920Z cobraCoach       20 cobraCoach.py:587 Sending step numbers to FPGA for moving cobra.\n",
      "2025-01-17 16:57:15.922Z cobraCoach       20 cobraCoach.py:601 cobra control FPGA operation done.\n",
      "2025-01-17 16:57:15.947Z pfi              40 pfi.py:896 Some theta angles are out of range\n",
      "2025-01-17 16:57:15.949Z pfi              40 pfi.py:899 Some phi angles are out of range\n",
      "2025-01-17 16:57:16.060Z pfi              30 pfi.py:475 clipping scale adjustment from 0.2859424141191533 to 0.3\n",
      "2025-01-17 16:57:16.061Z cobraCoach       30 cobraCoach.py:675 Cobra#1303 is too far from center\n",
      "2025-01-17 16:57:16.062Z pfi              30 pfi.py:475 clipping scale adjustment from 0.29999999904403885 to 0.3\n",
      "2025-01-17 16:57:16.063Z cobraCoach       30 cobraCoach.py:675 Cobra#1790 is too far from center\n",
      "2025-01-17 16:57:16.065Z engineer         20 engineer.py:422 Updating the cobra information\n",
      "2025-01-17 16:57:16.067Z engineer         20 engineer.py:412 Sending angles to moveToAngles for 3-th iteration\n",
      "2025-01-17 16:57:16.069Z cobraCoach       30 cobraCoach.py:1003 Last phi angle is unknown, not moving: [1459]\n",
      "2025-01-17 16:57:16.070Z cobraCoach       20 cobraCoach.py:1009 Moving deltaTheta = [-3.21863813e-01 -5.14191722e-04 -6.14804362e-04 -1.01748456e-05\n",
      " -6.82685060e-01 -1.01748456e-05 -1.01748455e-05 -1.01748456e-05\n",
      " -1.03632841e-03 -3.25590772e-01 -3.80200480e-04 -1.05065440e-04]\n",
      "2025-01-17 16:57:16.071Z cobraCoach       20 cobraCoach.py:1010 Moving deltaPhi = [-2.64219266 -2.96705963 -2.9670596  -2.96705959 -6.10865247  0.\n",
      " -2.96705964 -2.96705969 -2.96705964 -6.10865247 -2.9670596  -0.0498779 ]\n",
      "2025-01-17 16:57:16.072Z cobraCoach       30 cobraCoach.py:846 Last phi angle is unknown: [1459]\n",
      "2025-01-17 16:57:16.074Z cobraCoach       20 cobraCoach.py:877 Finished converting angle to steps, sending command to moveSteps (constantOntime).\n",
      "2025-01-17 16:57:16.081Z cobraCoach       20 cobraCoach.py:587 Sending step numbers to FPGA for moving cobra.\n",
      "2025-01-17 16:57:16.083Z cobraCoach       20 cobraCoach.py:601 cobra control FPGA operation done.\n",
      "2025-01-17 16:57:16.109Z pfi              40 pfi.py:896 Some theta angles are out of range\n",
      "2025-01-17 16:57:16.110Z pfi              40 pfi.py:899 Some phi angles are out of range\n",
      "2025-01-17 16:57:16.228Z pfi              30 pfi.py:475 clipping scale adjustment from 0.22521650184055392 to 0.3\n",
      "2025-01-17 16:57:16.229Z pfi              30 pfi.py:475 clipping scale adjustment from 0.2573481031895782 to 0.3\n",
      "2025-01-17 16:57:16.229Z cobraCoach       30 cobraCoach.py:679 Cobra#1460 is too close to center\n",
      "2025-01-17 16:57:16.230Z pfi              30 pfi.py:475 clipping scale adjustment from 0.22664453700152026 to 0.3\n",
      "2025-01-17 16:57:16.231Z pfi              30 pfi.py:475 clipping scale adjustment from 0.26154231110049525 to 0.3\n",
      "2025-01-17 16:57:16.232Z engineer         20 engineer.py:422 Updating the cobra information\n",
      "2025-01-17 16:57:16.235Z engineer         20 engineer.py:412 Sending angles to moveToAngles for 4-th iteration\n",
      "2025-01-17 16:57:16.236Z cobraCoach       20 cobraCoach.py:1009 Moving deltaTheta = [-2.17122172e-04 -5.14191722e-04 -6.14804362e-04 -1.01748456e-05\n",
      "  4.51698156e+00 -1.01748456e-05 -1.01748455e-05 -1.01748456e-05\n",
      " -1.03632841e-03  5.00301130e+00 -3.80200480e-04 -1.05065440e-04]\n",
      "2025-01-17 16:57:16.237Z cobraCoach       20 cobraCoach.py:1010 Moving deltaPhi = [-2.96705965 -2.96705963 -2.9670596  -2.96705959 -1.71883189 -2.96705973\n",
      " -2.96705964 -2.96705969 -2.96705964 -1.88389766 -2.9670596  -0.0498779 ]\n",
      "2025-01-17 16:57:16.240Z cobraCoach       20 cobraCoach.py:877 Finished converting angle to steps, sending command to moveSteps (constantOntime).\n",
      "2025-01-17 16:57:16.247Z cobraCoach       20 cobraCoach.py:587 Sending step numbers to FPGA for moving cobra.\n",
      "2025-01-17 16:57:16.250Z cobraCoach       20 cobraCoach.py:601 cobra control FPGA operation done.\n",
      "2025-01-17 16:57:16.287Z pfi              40 pfi.py:896 Some theta angles are out of range\n",
      "2025-01-17 16:57:16.288Z pfi              40 pfi.py:899 Some phi angles are out of range\n",
      "2025-01-17 16:57:16.384Z cobraCoach       30 cobraCoach.py:675 Cobra#1790 is too far from center\n",
      "2025-01-17 16:57:16.385Z pfi              30 pfi.py:475 clipping scale adjustment from 0.29999999510714737 to 0.3\n",
      "2025-01-17 16:57:16.387Z engineer         20 engineer.py:422 Updating the cobra information\n",
      "2025-01-17 16:57:16.389Z engineer         20 engineer.py:412 Sending angles to moveToAngles for 5-th iteration\n",
      "2025-01-17 16:57:16.397Z cobraCoach       30 cobraCoach.py:1003 Last phi angle is unknown, not moving: [1459]\n",
      "2025-01-17 16:57:16.399Z cobraCoach       20 cobraCoach.py:1009 Moving deltaTheta = [-2.17122172e-04 -5.14191722e-04 -6.14804362e-04 -1.01748456e-05\n",
      " -4.10811338e-03 -1.01748456e-05 -1.01748455e-05 -1.01748456e-05\n",
      " -1.03632841e-03  7.85623389e-01 -3.80200480e-04 -1.05065440e-04]\n",
      "2025-01-17 16:57:16.401Z cobraCoach       20 cobraCoach.py:1010 Moving deltaPhi = [-2.96705965 -2.96705963 -2.9670596  -2.96705959 -2.96705962  0.\n",
      " -2.96705964 -2.96705969 -2.96705964 -6.10865247 -2.9670596  -0.0498779 ]\n",
      "2025-01-17 16:57:16.404Z cobraCoach       30 cobraCoach.py:846 Last phi angle is unknown: [1459]\n",
      "2025-01-17 16:57:16.408Z cobraCoach       20 cobraCoach.py:877 Finished converting angle to steps, sending command to moveSteps (constantOntime).\n",
      "2025-01-17 16:57:16.416Z cobraCoach       20 cobraCoach.py:587 Sending step numbers to FPGA for moving cobra.\n",
      "2025-01-17 16:57:16.421Z cobraCoach       20 cobraCoach.py:601 cobra control FPGA operation done.\n",
      "2025-01-17 16:57:16.448Z pfi              40 pfi.py:896 Some theta angles are out of range\n",
      "2025-01-17 16:57:16.449Z pfi              40 pfi.py:899 Some phi angles are out of range\n",
      "2025-01-17 16:57:16.542Z pfi              30 pfi.py:475 clipping scale adjustment from 0.2250489700875823 to 0.3\n",
      "2025-01-17 16:57:16.543Z cobraCoach       30 cobraCoach.py:679 Cobra#1460 is too close to center\n",
      "2025-01-17 16:57:16.543Z pfi              30 pfi.py:475 clipping scale adjustment from 0.2561286605203101 to 0.3\n",
      "2025-01-17 16:57:16.544Z pfi              30 pfi.py:475 clipping scale adjustment from 0.26154231110049525 to 0.3\n",
      "2025-01-17 16:57:16.545Z engineer         20 engineer.py:422 Updating the cobra information\n",
      "2025-01-17 16:57:16.550Z engineer         30 engineer.py:445 12 cobras did not finish: [ 343  442  492  737 1302 1459 1493 1538 1636 1789 1791 1969], [4.67 4.67 4.67 4.67 4.67 0.82 4.67 4.67 4.67 4.2  4.67 0.11]\n",
      "2025-01-17 16:57:16.550Z engineer         20 engineer.py:450 Returning 2394 atThetas and 2394 atPhis\n",
      "2025-01-17 16:57:16.574Z pfi              40 pfi.py:896 Some theta angles are out of range\n",
      "2025-01-17 16:57:16.576Z pfi              40 pfi.py:899 Some phi angles are out of range\n",
      "2025-01-17 16:57:16.693Z pfi              40 pfi.py:896 Some theta angles are out of range\n",
      "2025-01-17 16:57:16.695Z pfi              40 pfi.py:899 Some phi angles are out of range\n",
      "2025-01-17 16:57:16.787Z pfi              40 pfi.py:896 Some theta angles are out of range\n",
      "2025-01-17 16:57:16.788Z pfi              40 pfi.py:899 Some phi angles are out of range\n",
      "2025-01-17 16:57:16.838Z pfi              40 pfi.py:896 Some theta angles are out of range\n",
      "2025-01-17 16:57:16.840Z pfi              40 pfi.py:899 Some phi angles are out of range\n",
      "2025-01-17 16:57:16.887Z pfi              40 pfi.py:896 Some theta angles are out of range\n",
      "2025-01-17 16:57:16.888Z pfi              40 pfi.py:899 Some phi angles are out of range\n",
      "2025-01-17 16:57:16.935Z pfi              40 pfi.py:896 Some theta angles are out of range\n",
      "2025-01-17 16:57:16.936Z pfi              40 pfi.py:899 Some phi angles are out of range\n",
      "2025-01-17 16:57:16.985Z pfi              40 pfi.py:896 Some theta angles are out of range\n",
      "2025-01-17 16:57:16.987Z pfi              40 pfi.py:899 Some phi angles are out of range\n",
      "2025-01-17 16:57:17.042Z pfi              40 pfi.py:896 Some theta angles are out of range\n",
      "2025-01-17 16:57:17.044Z pfi              40 pfi.py:899 Some phi angles are out of range\n",
      "2025-01-17 16:57:17.101Z pfi              40 pfi.py:930 Some theta angles are out of range\n",
      "2025-01-17 16:57:17.158Z pfi              40 pfi.py:930 Some theta angles are out of range\n",
      "2025-01-17 16:57:17.207Z pfi              40 pfi.py:930 Some theta angles are out of range\n",
      "2025-01-17 16:57:17.245Z pfi              40 pfi.py:930 Some theta angles are out of range\n",
      "2025-01-17 16:57:17.283Z pfi              40 pfi.py:930 Some theta angles are out of range\n",
      "2025-01-17 16:57:17.325Z pfi              40 pfi.py:930 Some theta angles are out of range\n",
      "2025-01-17 16:57:17.399Z pfi              40 pfi.py:930 Some theta angles are out of range\n",
      "2025-01-17 16:57:17.449Z pfi              40 pfi.py:930 Some theta angles are out of range\n"
     ]
    },
    {
     "name": "stdout",
     "output_type": "stream",
     "text": [
      "ERROR: detected 11 end point collision, which should be impossible\n",
      "trajectory collisions found: 11\n",
      "Set parameter Presolve to value 1\n"
     ]
    },
    {
     "name": "stderr",
     "output_type": "stream",
     "text": [
      "2025-01-17 16:57:21.496Z gurobipy         20 netflow.py:117 Set parameter Presolve to value 1\n"
     ]
    },
    {
     "name": "stdout",
     "output_type": "stream",
     "text": [
      "Set parameter Method to value 4\n"
     ]
    },
    {
     "name": "stderr",
     "output_type": "stream",
     "text": [
      "2025-01-17 16:57:21.498Z gurobipy         20 netflow.py:117 Set parameter Method to value 4\n"
     ]
    },
    {
     "name": "stdout",
     "output_type": "stream",
     "text": [
      "Set parameter DegenMoves to value 0\n"
     ]
    },
    {
     "name": "stderr",
     "output_type": "stream",
     "text": [
      "2025-01-17 16:57:21.499Z gurobipy         20 netflow.py:117 Set parameter DegenMoves to value 0\n"
     ]
    },
    {
     "name": "stdout",
     "output_type": "stream",
     "text": [
      "Set parameter Heuristics to value 0.8\n"
     ]
    },
    {
     "name": "stderr",
     "output_type": "stream",
     "text": [
      "2025-01-17 16:57:21.501Z gurobipy         20 netflow.py:117 Set parameter Heuristics to value 0.8\n"
     ]
    },
    {
     "name": "stdout",
     "output_type": "stream",
     "text": [
      "Set parameter MIPGap to value 0.05\n"
     ]
    },
    {
     "name": "stderr",
     "output_type": "stream",
     "text": [
      "2025-01-17 16:57:21.502Z gurobipy         20 netflow.py:117 Set parameter MIPGap to value 0.05\n"
     ]
    },
    {
     "name": "stdout",
     "output_type": "stream",
     "text": [
      "Creating network topology\n",
      "  exposure 1\n",
      "Calculating visibilities\n",
      "adding constraints\n",
      "adding collision constraints\n",
      "adding forbidden pair constraints\n",
      "Gurobi Optimizer version 10.0.1 build v10.0.1rc0 (mac64[x86])\n"
     ]
    },
    {
     "name": "stderr",
     "output_type": "stream",
     "text": [
      "2025-01-17 16:57:29.918Z gurobipy         20 netflow.py:149 Gurobi Optimizer version 10.0.1 build v10.0.1rc0 (mac64[x86])\n"
     ]
    },
    {
     "name": "stdout",
     "output_type": "stream",
     "text": [
      "\n"
     ]
    },
    {
     "name": "stderr",
     "output_type": "stream",
     "text": [
      "2025-01-17 16:57:29.919Z gurobipy         20 netflow.py:149 \n"
     ]
    },
    {
     "name": "stdout",
     "output_type": "stream",
     "text": [
      "CPU model: Intel(R) Core(TM) i7-8569U CPU @ 2.80GHz\n"
     ]
    },
    {
     "name": "stderr",
     "output_type": "stream",
     "text": [
      "2025-01-17 16:57:29.921Z gurobipy         20 netflow.py:149 CPU model: Intel(R) Core(TM) i7-8569U CPU @ 2.80GHz\n"
     ]
    },
    {
     "name": "stdout",
     "output_type": "stream",
     "text": [
      "Thread count: 4 physical cores, 8 logical processors, using up to 8 threads\n"
     ]
    },
    {
     "name": "stderr",
     "output_type": "stream",
     "text": [
      "2025-01-17 16:57:29.922Z gurobipy         20 netflow.py:149 Thread count: 4 physical cores, 8 logical processors, using up to 8 threads\n"
     ]
    },
    {
     "name": "stdout",
     "output_type": "stream",
     "text": [
      "\n"
     ]
    },
    {
     "name": "stderr",
     "output_type": "stream",
     "text": [
      "2025-01-17 16:57:29.924Z gurobipy         20 netflow.py:149 \n"
     ]
    },
    {
     "name": "stdout",
     "output_type": "stream",
     "text": [
      "Academic license 2379863 - for non-commercial use only - registered to ji___@ipmu.jp\n"
     ]
    },
    {
     "name": "stderr",
     "output_type": "stream",
     "text": [
      "2025-01-17 16:57:29.926Z gurobipy         20 netflow.py:149 Academic license 2379863 - for non-commercial use only - registered to ji___@ipmu.jp\n"
     ]
    },
    {
     "name": "stdout",
     "output_type": "stream",
     "text": [
      "Optimize a model with 99484 rows, 89861 columns and 271769 nonzeros\n"
     ]
    },
    {
     "name": "stderr",
     "output_type": "stream",
     "text": [
      "2025-01-17 16:57:29.927Z gurobipy         20 netflow.py:149 Optimize a model with 99484 rows, 89861 columns and 271769 nonzeros\n"
     ]
    },
    {
     "name": "stdout",
     "output_type": "stream",
     "text": [
      "Model fingerprint: 0x684e8c23\n"
     ]
    },
    {
     "name": "stderr",
     "output_type": "stream",
     "text": [
      "2025-01-17 16:57:29.931Z gurobipy         20 netflow.py:149 Model fingerprint: 0x684e8c23\n"
     ]
    },
    {
     "name": "stdout",
     "output_type": "stream",
     "text": [
      "Variable types: 1 continuous, 89860 integer (69113 binary)\n"
     ]
    },
    {
     "name": "stderr",
     "output_type": "stream",
     "text": [
      "2025-01-17 16:57:29.933Z gurobipy         20 netflow.py:149 Variable types: 1 continuous, 89860 integer (69113 binary)\n"
     ]
    },
    {
     "name": "stdout",
     "output_type": "stream",
     "text": [
      "Coefficient statistics:\n"
     ]
    },
    {
     "name": "stderr",
     "output_type": "stream",
     "text": [
      "2025-01-17 16:57:29.936Z gurobipy         20 netflow.py:149 Coefficient statistics:\n"
     ]
    },
    {
     "name": "stdout",
     "output_type": "stream",
     "text": [
      "  Matrix range     [1e+00, 1e+00]\n"
     ]
    },
    {
     "name": "stderr",
     "output_type": "stream",
     "text": [
      "2025-01-17 16:57:29.938Z gurobipy         20 netflow.py:149   Matrix range     [1e+00, 1e+00]\n"
     ]
    },
    {
     "name": "stdout",
     "output_type": "stream",
     "text": [
      "  Objective range  [2e-05, 1e+06]\n"
     ]
    },
    {
     "name": "stderr",
     "output_type": "stream",
     "text": [
      "2025-01-17 16:57:29.939Z gurobipy         20 netflow.py:149   Objective range  [2e-05, 1e+06]\n"
     ]
    },
    {
     "name": "stdout",
     "output_type": "stream",
     "text": [
      "  Bounds range     [1e+00, 1e+00]\n"
     ]
    },
    {
     "name": "stderr",
     "output_type": "stream",
     "text": [
      "2025-01-17 16:57:29.940Z gurobipy         20 netflow.py:149   Bounds range     [1e+00, 1e+00]\n"
     ]
    },
    {
     "name": "stdout",
     "output_type": "stream",
     "text": [
      "  RHS range        [1e+00, 2e+04]\n"
     ]
    },
    {
     "name": "stderr",
     "output_type": "stream",
     "text": [
      "2025-01-17 16:57:29.942Z gurobipy         20 netflow.py:149   RHS range        [1e+00, 2e+04]\n"
     ]
    },
    {
     "name": "stdout",
     "output_type": "stream",
     "text": [
      "Found heuristic solution: objective 4214411.8783\n"
     ]
    },
    {
     "name": "stderr",
     "output_type": "stream",
     "text": [
      "2025-01-17 16:57:29.969Z gurobipy         20 netflow.py:149 Found heuristic solution: objective 4214411.8783\n"
     ]
    },
    {
     "name": "stdout",
     "output_type": "stream",
     "text": [
      "Presolve removed 99484 rows and 89861 columns\n"
     ]
    },
    {
     "name": "stderr",
     "output_type": "stream",
     "text": [
      "2025-01-17 16:57:30.226Z gurobipy         20 netflow.py:149 Presolve removed 99484 rows and 89861 columns\n"
     ]
    },
    {
     "name": "stdout",
     "output_type": "stream",
     "text": [
      "Presolve time: 0.26s\n"
     ]
    },
    {
     "name": "stderr",
     "output_type": "stream",
     "text": [
      "2025-01-17 16:57:30.228Z gurobipy         20 netflow.py:149 Presolve time: 0.26s\n"
     ]
    },
    {
     "name": "stdout",
     "output_type": "stream",
     "text": [
      "Presolve: All rows and columns removed\n"
     ]
    },
    {
     "name": "stderr",
     "output_type": "stream",
     "text": [
      "2025-01-17 16:57:30.233Z gurobipy         20 netflow.py:149 Presolve: All rows and columns removed\n"
     ]
    },
    {
     "name": "stdout",
     "output_type": "stream",
     "text": [
      "\n"
     ]
    },
    {
     "name": "stderr",
     "output_type": "stream",
     "text": [
      "2025-01-17 16:57:30.245Z gurobipy         20 netflow.py:149 \n"
     ]
    },
    {
     "name": "stdout",
     "output_type": "stream",
     "text": [
      "Explored 0 nodes (0 simplex iterations) in 0.32 seconds (0.14 work units)\n"
     ]
    },
    {
     "name": "stderr",
     "output_type": "stream",
     "text": [
      "2025-01-17 16:57:30.248Z gurobipy         20 netflow.py:149 Explored 0 nodes (0 simplex iterations) in 0.32 seconds (0.14 work units)\n"
     ]
    },
    {
     "name": "stdout",
     "output_type": "stream",
     "text": [
      "Thread count was 1 (of 8 available processors)\n"
     ]
    },
    {
     "name": "stderr",
     "output_type": "stream",
     "text": [
      "2025-01-17 16:57:30.251Z gurobipy         20 netflow.py:149 Thread count was 1 (of 8 available processors)\n"
     ]
    },
    {
     "name": "stdout",
     "output_type": "stream",
     "text": [
      "\n"
     ]
    },
    {
     "name": "stderr",
     "output_type": "stream",
     "text": [
      "2025-01-17 16:57:30.253Z gurobipy         20 netflow.py:149 \n"
     ]
    },
    {
     "name": "stdout",
     "output_type": "stream",
     "text": [
      "Solution count 2: 3.84766e+06 4.21441e+06 \n"
     ]
    },
    {
     "name": "stderr",
     "output_type": "stream",
     "text": [
      "2025-01-17 16:57:30.254Z gurobipy         20 netflow.py:149 Solution count 2: 3.84766e+06 4.21441e+06 \n"
     ]
    },
    {
     "name": "stdout",
     "output_type": "stream",
     "text": [
      "\n"
     ]
    },
    {
     "name": "stderr",
     "output_type": "stream",
     "text": [
      "2025-01-17 16:57:30.256Z gurobipy         20 netflow.py:149 \n"
     ]
    },
    {
     "name": "stdout",
     "output_type": "stream",
     "text": [
      "Optimal solution found (tolerance 5.00e-02)\n"
     ]
    },
    {
     "name": "stderr",
     "output_type": "stream",
     "text": [
      "2025-01-17 16:57:30.257Z gurobipy         20 netflow.py:149 Optimal solution found (tolerance 5.00e-02)\n"
     ]
    },
    {
     "name": "stdout",
     "output_type": "stream",
     "text": [
      "Best objective 3.847657660097e+06, best bound 3.847657660097e+06, gap 0.0000%\n"
     ]
    },
    {
     "name": "stderr",
     "output_type": "stream",
     "text": [
      "2025-01-17 16:57:30.261Z gurobipy         20 netflow.py:149 Best objective 3.847657660097e+06, best bound 3.847657660097e+06, gap 0.0000%\n",
      "2025-01-17 16:57:30.395Z pfi              40 pfi.py:896 Some theta angles are out of range\n",
      "2025-01-17 16:57:30.396Z pfi              40 pfi.py:899 Some phi angles are out of range\n"
     ]
    },
    {
     "name": "stdout",
     "output_type": "stream",
     "text": [
      "Checking for trajectory collisions\n"
     ]
    },
    {
     "name": "stderr",
     "output_type": "stream",
     "text": [
      "2025-01-17 16:57:30.513Z pfi              40 pfi.py:899 Some phi angles are out of range\n",
      "2025-01-17 16:57:30.550Z pfi              40 pfi.py:899 Some phi angles are out of range\n",
      "2025-01-17 16:57:30.553Z engineer         20 engineer.py:395 Move theta arms to angle=[ 75.91 333.02 131.97 ... 210.2  360.   224.27] degree\n",
      "2025-01-17 16:57:30.554Z engineer         20 engineer.py:396 Move phi arms to angle=[ 6.62 42.74 10.15 ...  8.33 11.99 14.19] degree\n",
      "2025-01-17 16:57:30.554Z engineer         20 engineer.py:398 Checking passed homed argument = True\n",
      "2025-01-17 16:57:30.555Z engineer         20 engineer.py:402 Move theta arms CW and phi arms CCW to the hard stops\n",
      "2025-01-17 16:57:30.580Z cobraCoach       20 cobraCoach.py:1065 home cobras: theta=10000, phi=-5000\n",
      "2025-01-17 16:57:30.603Z pfi              40 pfi.py:899 Some phi angles are out of range\n",
      "2025-01-17 16:57:30.625Z pfi              40 pfi.py:899 Some phi angles are out of range\n",
      "2025-01-17 16:57:30.627Z engineer         20 engineer.py:412 Sending angles to moveToAngles for 0-th iteration\n",
      "2025-01-17 16:57:30.650Z cobraCoach       20 cobraCoach.py:1009 Moving deltaTheta = [-5.25294989 -0.85284527 -4.33602077 ... -3.02040524 -0.4013664\n",
      " -2.78477536]\n",
      "2025-01-17 16:57:30.651Z cobraCoach       20 cobraCoach.py:1010 Moving deltaPhi = [0.11558998 0.74591546 0.1772055  ... 0.14539386 0.20932294 0.24760745]\n",
      "2025-01-17 16:57:30.890Z cobraCoach       20 cobraCoach.py:877 Finished converting angle to steps, sending command to moveSteps (constantOntime).\n",
      "2025-01-17 16:57:31.506Z cobraCoach       20 cobraCoach.py:587 Sending step numbers to FPGA for moving cobra.\n",
      "2025-01-17 16:57:31.610Z cobraCoach       20 cobraCoach.py:601 cobra control FPGA operation done.\n",
      "2025-01-17 16:57:31.635Z pfi              40 pfi.py:896 Some theta angles are out of range\n",
      "2025-01-17 16:57:31.636Z pfi              40 pfi.py:899 Some phi angles are out of range\n",
      "2025-01-17 16:57:31.738Z cobraCoach       30 cobraCoach.py:675 Cobra#344 is too far from center\n",
      "2025-01-17 16:57:31.741Z cobraCoach       30 cobraCoach.py:675 Cobra#443 is too far from center\n",
      "2025-01-17 16:57:31.743Z cobraCoach       30 cobraCoach.py:675 Cobra#493 is too far from center\n",
      "2025-01-17 16:57:31.765Z cobraCoach       30 cobraCoach.py:675 Cobra#1303 is too far from center\n",
      "2025-01-17 16:57:31.776Z cobraCoach       30 cobraCoach.py:675 Cobra#1637 is too far from center\n",
      "2025-01-17 16:57:31.782Z cobraCoach       30 cobraCoach.py:675 Cobra#1790 is too far from center\n",
      "2025-01-17 16:57:31.783Z cobraCoach       30 cobraCoach.py:675 Cobra#1792 is too far from center\n",
      "2025-01-17 16:57:31.801Z engineer         20 engineer.py:422 Updating the cobra information\n",
      "2025-01-17 16:57:31.804Z engineer         20 engineer.py:436 done: [   0    1    2 ... 2391 2392 2393], 21 left\n",
      "2025-01-17 16:57:31.805Z engineer         20 engineer.py:412 Sending angles to moveToAngles for 1-th iteration\n",
      "2025-01-17 16:57:31.808Z cobraCoach       30 cobraCoach.py:1003 Last phi angle is unknown, not moving: [1459]\n",
      "2025-01-17 16:57:31.809Z cobraCoach       20 cobraCoach.py:1009 Moving deltaTheta = [-1.01748456e-05 -1.01748456e-05 -1.01748456e-05 -2.52731626e+00\n",
      " -1.01748456e-05 -6.78881414e-04 -1.87148445e-03 -2.65016099e-02\n",
      " -1.01748456e-05 -1.01748456e-05 -1.01748455e-05 -1.01748456e-05\n",
      " -1.01748455e-05 -5.29851305e-02 -1.32093872e+00  2.86555532e-04\n",
      " -1.01748456e-05 -1.01748456e-05 -3.50271147e-01 -2.01198950e+00\n",
      "  1.10228624e-03]\n",
      "2025-01-17 16:57:31.810Z cobraCoach       20 cobraCoach.py:1010 Moving deltaPhi = [-6.10865247e+00 -6.10865247e+00 -6.10865247e+00 -7.02523876e-04\n",
      " -2.96705959e+00 -1.80912812e-03 -1.01238450e-03  4.23083895e-02\n",
      " -6.10865247e+00  0.00000000e+00 -2.96705964e+00 -2.96705969e+00\n",
      " -6.10865247e+00  2.15367095e-04  4.48039121e-01  2.15164131e-03\n",
      " -6.10865247e+00 -6.10865247e+00 -6.45651525e-05  2.36550771e-01\n",
      " -4.98778998e-02]\n",
      "2025-01-17 16:57:31.813Z cobraCoach       30 cobraCoach.py:846 Last phi angle is unknown: [1459]\n",
      "2025-01-17 16:57:31.816Z cobraCoach       20 cobraCoach.py:877 Finished converting angle to steps, sending command to moveSteps (constantOntime).\n",
      "2025-01-17 16:57:31.825Z cobraCoach       20 cobraCoach.py:587 Sending step numbers to FPGA for moving cobra.\n",
      "2025-01-17 16:57:31.831Z cobraCoach       20 cobraCoach.py:601 cobra control FPGA operation done.\n",
      "2025-01-17 16:57:31.857Z pfi              40 pfi.py:896 Some theta angles are out of range\n",
      "2025-01-17 16:57:31.858Z pfi              40 pfi.py:899 Some phi angles are out of range\n",
      "2025-01-17 16:57:31.952Z cobraCoach       30 cobraCoach.py:675 Cobra#344 is too far from center\n",
      "2025-01-17 16:57:31.953Z cobraCoach       30 cobraCoach.py:679 Cobra#1460 is too close to center\n",
      "2025-01-17 16:57:31.954Z cobraCoach       30 cobraCoach.py:675 Cobra#1637 is too far from center\n",
      "2025-01-17 16:57:31.955Z cobraCoach       30 cobraCoach.py:675 Cobra#1790 is too far from center\n",
      "2025-01-17 16:57:31.957Z engineer         20 engineer.py:422 Updating the cobra information\n",
      "2025-01-17 16:57:31.960Z engineer         20 engineer.py:436 done: [ 683 1055 1200 1276 1667 1729 1782 1929 1956], 12 left\n",
      "2025-01-17 16:57:31.962Z engineer         30 engineer.py:445 12 cobras did not finish: [ 343  442  492  737 1302 1459 1493 1538 1636 1789 1791 1969], [4.67 4.67 4.67 4.67 4.67 0.82 4.67 4.67 4.67 4.67 4.67 0.11]\n",
      "2025-01-17 16:57:31.962Z engineer         20 engineer.py:450 Returning 2394 atThetas and 2394 atPhis\n",
      "2025-01-17 16:57:31.987Z pfi              40 pfi.py:899 Some phi angles are out of range\n",
      "2025-01-17 16:57:31.989Z engineer         20 engineer.py:395 Move theta arms to angle=[ 75.91 333.02 131.97 ... 210.2  360.   224.27] degree\n",
      "2025-01-17 16:57:31.990Z engineer         20 engineer.py:396 Move phi arms to angle=[ 6.62 42.74 10.15 ...  8.33 11.99 14.19] degree\n",
      "2025-01-17 16:57:31.991Z engineer         20 engineer.py:398 Checking passed homed argument = False\n",
      "2025-01-17 16:57:31.991Z engineer         20 engineer.py:412 Sending angles to moveToAngles for 0-th iteration\n",
      "2025-01-17 16:57:32.018Z cobraCoach       20 cobraCoach.py:1009 Moving deltaTheta = [ 0.0007928  -0.00028284  0.00117177 ...  0.00017839  0.00038417\n",
      " -0.00096284]\n",
      "2025-01-17 16:57:32.019Z cobraCoach       20 cobraCoach.py:1010 Moving deltaPhi = [-0.00012803 -0.00109006 -0.00103967 ...  0.00054019 -0.00083972\n",
      " -0.00047282]\n",
      "2025-01-17 16:57:32.220Z cobraCoach       20 cobraCoach.py:877 Finished converting angle to steps, sending command to moveSteps (constantOntime).\n",
      "2025-01-17 16:57:32.471Z cobraCoach       20 cobraCoach.py:587 Sending step numbers to FPGA for moving cobra.\n",
      "2025-01-17 16:57:32.578Z cobraCoach       20 cobraCoach.py:601 cobra control FPGA operation done.\n",
      "2025-01-17 16:57:32.600Z pfi              40 pfi.py:896 Some theta angles are out of range\n",
      "2025-01-17 16:57:32.601Z pfi              40 pfi.py:899 Some phi angles are out of range\n",
      "2025-01-17 16:57:32.720Z cobraCoach       30 cobraCoach.py:675 Cobra#1303 is too far from center\n",
      "2025-01-17 16:57:32.731Z cobraCoach       30 cobraCoach.py:675 Cobra#1790 is too far from center\n",
      "2025-01-17 16:57:32.746Z engineer         20 engineer.py:422 Updating the cobra information\n",
      "2025-01-17 16:57:32.749Z engineer         20 engineer.py:436 done: [   0    1    2 ... 2391 2392 2393], 14 left\n",
      "2025-01-17 16:57:32.750Z engineer         20 engineer.py:412 Sending angles to moveToAngles for 1-th iteration\n",
      "2025-01-17 16:57:32.752Z cobraCoach       30 cobraCoach.py:1003 Last phi angle is unknown, not moving: [1459]\n",
      "2025-01-17 16:57:32.753Z cobraCoach       20 cobraCoach.py:1009 Moving deltaTheta = [-1.94233989e-04 -5.14191722e-04 -6.14804362e-04 -1.01748456e-05\n",
      "  2.69975771e-06 -1.01748456e-05 -1.01748455e-05 -1.01748456e-05\n",
      " -1.03632841e-03 -6.68898607e-02 -1.01748456e-05 -3.80200480e-04\n",
      " -1.05065440e-04 -7.24306932e-04]\n",
      "2025-01-17 16:57:32.754Z cobraCoach       20 cobraCoach.py:1010 Moving deltaPhi = [-2.96687409e+00 -2.96705963e+00 -2.96705960e+00 -2.96705959e+00\n",
      " -6.10865247e+00  0.00000000e+00 -2.96705964e+00 -2.96705969e+00\n",
      " -2.96602327e+00  5.88029203e-01 -6.10865247e+00 -2.96705960e+00\n",
      " -4.98778998e-02 -1.24785700e-03]\n",
      "2025-01-17 16:57:32.756Z cobraCoach       30 cobraCoach.py:846 Last phi angle is unknown: [1459]\n",
      "2025-01-17 16:57:32.758Z cobraCoach       20 cobraCoach.py:877 Finished converting angle to steps, sending command to moveSteps (constantOntime).\n",
      "2025-01-17 16:57:32.763Z cobraCoach       20 cobraCoach.py:587 Sending step numbers to FPGA for moving cobra.\n",
      "2025-01-17 16:57:32.766Z cobraCoach       20 cobraCoach.py:601 cobra control FPGA operation done.\n",
      "2025-01-17 16:57:32.789Z pfi              40 pfi.py:896 Some theta angles are out of range\n",
      "2025-01-17 16:57:32.790Z pfi              40 pfi.py:899 Some phi angles are out of range\n",
      "2025-01-17 16:57:32.886Z cobraCoach       30 cobraCoach.py:675 Cobra#344 is too far from center\n",
      "2025-01-17 16:57:32.888Z pfi              30 pfi.py:475 clipping scale adjustment from 0.2573481031895782 to 0.3\n",
      "2025-01-17 16:57:32.888Z cobraCoach       30 cobraCoach.py:679 Cobra#1460 is too close to center\n",
      "2025-01-17 16:57:32.889Z pfi              30 pfi.py:475 clipping scale adjustment from 0.26154231110049525 to 0.3\n",
      "2025-01-17 16:57:32.891Z engineer         20 engineer.py:422 Updating the cobra information\n",
      "2025-01-17 16:57:32.893Z engineer         20 engineer.py:436 done: [1729 2153], 12 left\n",
      "2025-01-17 16:57:32.894Z engineer         20 engineer.py:412 Sending angles to moveToAngles for 2-th iteration\n",
      "2025-01-17 16:57:32.896Z cobraCoach       20 cobraCoach.py:1009 Moving deltaTheta = [-1.94233989e-04 -5.14191722e-04 -6.14804362e-04 -1.01748456e-05\n",
      " -1.09852569e+00 -1.01748456e-05 -1.01748455e-05 -1.01748456e-05\n",
      " -1.03632841e-03 -1.07143418e+00 -3.80200480e-04 -1.05065440e-04]\n",
      "2025-01-17 16:57:32.897Z cobraCoach       20 cobraCoach.py:1010 Moving deltaPhi = [-6.10865247 -2.96705963 -2.9670596  -2.96705959 -1.71883189 -2.96705973\n",
      " -2.96705964 -2.96705969 -2.96705964 -1.88389766 -2.9670596  -0.0498779 ]\n",
      "2025-01-17 16:57:32.900Z cobraCoach       20 cobraCoach.py:877 Finished converting angle to steps, sending command to moveSteps (constantOntime).\n",
      "2025-01-17 16:57:32.905Z cobraCoach       20 cobraCoach.py:587 Sending step numbers to FPGA for moving cobra.\n",
      "2025-01-17 16:57:32.907Z cobraCoach       20 cobraCoach.py:601 cobra control FPGA operation done.\n",
      "2025-01-17 16:57:32.930Z pfi              40 pfi.py:896 Some theta angles are out of range\n",
      "2025-01-17 16:57:32.931Z pfi              40 pfi.py:899 Some phi angles are out of range\n",
      "2025-01-17 16:57:33.023Z pfi              30 pfi.py:475 clipping scale adjustment from 0.2859424141191533 to 0.3\n",
      "2025-01-17 16:57:33.024Z cobraCoach       30 cobraCoach.py:675 Cobra#1303 is too far from center\n",
      "2025-01-17 16:57:33.025Z pfi              30 pfi.py:475 clipping scale adjustment from 0.29999999904403885 to 0.3\n",
      "2025-01-17 16:57:33.026Z cobraCoach       30 cobraCoach.py:675 Cobra#1790 is too far from center\n",
      "2025-01-17 16:57:33.027Z engineer         20 engineer.py:422 Updating the cobra information\n",
      "2025-01-17 16:57:33.031Z engineer         20 engineer.py:412 Sending angles to moveToAngles for 3-th iteration\n",
      "2025-01-17 16:57:33.033Z cobraCoach       30 cobraCoach.py:1003 Last phi angle is unknown, not moving: [1459]\n",
      "2025-01-17 16:57:33.035Z cobraCoach       20 cobraCoach.py:1009 Moving deltaTheta = [-3.21863813e-01 -5.14191722e-04 -6.14804362e-04 -1.01748456e-05\n",
      " -6.82685060e-01 -1.01748456e-05 -1.01748455e-05 -1.01748456e-05\n",
      " -1.03632841e-03 -3.25590772e-01 -3.80200480e-04 -1.05065440e-04]\n",
      "2025-01-17 16:57:33.036Z cobraCoach       20 cobraCoach.py:1010 Moving deltaPhi = [-2.64219266 -2.96705963 -2.9670596  -2.96705959 -6.10865247  0.\n",
      " -2.96705964 -2.96705969 -2.96705964 -6.10865247 -2.9670596  -0.0498779 ]\n",
      "2025-01-17 16:57:33.038Z cobraCoach       30 cobraCoach.py:846 Last phi angle is unknown: [1459]\n",
      "2025-01-17 16:57:33.039Z cobraCoach       20 cobraCoach.py:877 Finished converting angle to steps, sending command to moveSteps (constantOntime).\n",
      "2025-01-17 16:57:33.046Z cobraCoach       20 cobraCoach.py:587 Sending step numbers to FPGA for moving cobra.\n",
      "2025-01-17 16:57:33.049Z cobraCoach       20 cobraCoach.py:601 cobra control FPGA operation done.\n",
      "2025-01-17 16:57:33.072Z pfi              40 pfi.py:896 Some theta angles are out of range\n",
      "2025-01-17 16:57:33.073Z pfi              40 pfi.py:899 Some phi angles are out of range\n",
      "2025-01-17 16:57:33.170Z pfi              30 pfi.py:475 clipping scale adjustment from 0.22521650184055392 to 0.3\n",
      "2025-01-17 16:57:33.171Z pfi              30 pfi.py:475 clipping scale adjustment from 0.2573481031895782 to 0.3\n",
      "2025-01-17 16:57:33.172Z cobraCoach       30 cobraCoach.py:679 Cobra#1460 is too close to center\n",
      "2025-01-17 16:57:33.173Z pfi              30 pfi.py:475 clipping scale adjustment from 0.22664453700152026 to 0.3\n",
      "2025-01-17 16:57:33.174Z pfi              30 pfi.py:475 clipping scale adjustment from 0.26154231110049525 to 0.3\n",
      "2025-01-17 16:57:33.175Z engineer         20 engineer.py:422 Updating the cobra information\n",
      "2025-01-17 16:57:33.178Z engineer         20 engineer.py:412 Sending angles to moveToAngles for 4-th iteration\n",
      "2025-01-17 16:57:33.180Z cobraCoach       20 cobraCoach.py:1009 Moving deltaTheta = [-2.17122172e-04 -5.14191722e-04 -6.14804362e-04 -1.01748456e-05\n",
      "  4.51698156e+00 -1.01748456e-05 -1.01748455e-05 -1.01748456e-05\n",
      " -1.03632841e-03  5.00301130e+00 -3.80200480e-04 -1.05065440e-04]\n",
      "2025-01-17 16:57:33.181Z cobraCoach       20 cobraCoach.py:1010 Moving deltaPhi = [-2.96705965 -2.96705963 -2.9670596  -2.96705959 -1.71883189 -2.96705973\n",
      " -2.96705964 -2.96705969 -2.96705964 -1.88389766 -2.9670596  -0.0498779 ]\n",
      "2025-01-17 16:57:33.183Z cobraCoach       20 cobraCoach.py:877 Finished converting angle to steps, sending command to moveSteps (constantOntime).\n",
      "2025-01-17 16:57:33.190Z cobraCoach       20 cobraCoach.py:587 Sending step numbers to FPGA for moving cobra.\n",
      "2025-01-17 16:57:33.192Z cobraCoach       20 cobraCoach.py:601 cobra control FPGA operation done.\n",
      "2025-01-17 16:57:33.216Z pfi              40 pfi.py:896 Some theta angles are out of range\n",
      "2025-01-17 16:57:33.217Z pfi              40 pfi.py:899 Some phi angles are out of range\n",
      "2025-01-17 16:57:33.311Z cobraCoach       30 cobraCoach.py:675 Cobra#1790 is too far from center\n",
      "2025-01-17 16:57:33.312Z pfi              30 pfi.py:475 clipping scale adjustment from 0.29999999510714737 to 0.3\n",
      "2025-01-17 16:57:33.313Z engineer         20 engineer.py:422 Updating the cobra information\n",
      "2025-01-17 16:57:33.314Z engineer         20 engineer.py:412 Sending angles to moveToAngles for 5-th iteration\n",
      "2025-01-17 16:57:33.316Z cobraCoach       30 cobraCoach.py:1003 Last phi angle is unknown, not moving: [1459]\n",
      "2025-01-17 16:57:33.317Z cobraCoach       20 cobraCoach.py:1009 Moving deltaTheta = [-2.17122172e-04 -5.14191722e-04 -6.14804362e-04 -1.01748456e-05\n",
      " -4.10811338e-03 -1.01748456e-05 -1.01748455e-05 -1.01748456e-05\n",
      " -1.03632841e-03  7.85623389e-01 -3.80200480e-04 -1.05065440e-04]\n",
      "2025-01-17 16:57:33.318Z cobraCoach       20 cobraCoach.py:1010 Moving deltaPhi = [-2.96705965 -2.96705963 -2.9670596  -2.96705959 -2.96705962  0.\n",
      " -2.96705964 -2.96705969 -2.96705964 -6.10865247 -2.9670596  -0.0498779 ]\n",
      "2025-01-17 16:57:33.320Z cobraCoach       30 cobraCoach.py:846 Last phi angle is unknown: [1459]\n",
      "2025-01-17 16:57:33.322Z cobraCoach       20 cobraCoach.py:877 Finished converting angle to steps, sending command to moveSteps (constantOntime).\n",
      "2025-01-17 16:57:33.328Z cobraCoach       20 cobraCoach.py:587 Sending step numbers to FPGA for moving cobra.\n",
      "2025-01-17 16:57:33.330Z cobraCoach       20 cobraCoach.py:601 cobra control FPGA operation done.\n",
      "2025-01-17 16:57:33.353Z pfi              40 pfi.py:896 Some theta angles are out of range\n",
      "2025-01-17 16:57:33.354Z pfi              40 pfi.py:899 Some phi angles are out of range\n",
      "2025-01-17 16:57:33.451Z pfi              30 pfi.py:475 clipping scale adjustment from 0.2250489700875823 to 0.3\n",
      "2025-01-17 16:57:33.452Z cobraCoach       30 cobraCoach.py:679 Cobra#1460 is too close to center\n",
      "2025-01-17 16:57:33.453Z pfi              30 pfi.py:475 clipping scale adjustment from 0.2561286605203101 to 0.3\n",
      "2025-01-17 16:57:33.454Z pfi              30 pfi.py:475 clipping scale adjustment from 0.26154231110049525 to 0.3\n",
      "2025-01-17 16:57:33.456Z engineer         20 engineer.py:422 Updating the cobra information\n",
      "2025-01-17 16:57:33.459Z engineer         30 engineer.py:445 12 cobras did not finish: [ 343  442  492  737 1302 1459 1493 1538 1636 1789 1791 1969], [4.67 4.67 4.67 4.67 4.67 0.82 4.67 4.67 4.67 4.2  4.67 0.11]\n",
      "2025-01-17 16:57:33.460Z engineer         20 engineer.py:450 Returning 2394 atThetas and 2394 atPhis\n",
      "2025-01-17 16:57:33.485Z pfi              40 pfi.py:896 Some theta angles are out of range\n",
      "2025-01-17 16:57:33.487Z pfi              40 pfi.py:899 Some phi angles are out of range\n",
      "2025-01-17 16:57:33.576Z pfi              40 pfi.py:896 Some theta angles are out of range\n",
      "2025-01-17 16:57:33.578Z pfi              40 pfi.py:899 Some phi angles are out of range\n",
      "2025-01-17 16:57:33.641Z pfi              40 pfi.py:896 Some theta angles are out of range\n",
      "2025-01-17 16:57:33.642Z pfi              40 pfi.py:899 Some phi angles are out of range\n",
      "2025-01-17 16:57:33.688Z pfi              40 pfi.py:896 Some theta angles are out of range\n",
      "2025-01-17 16:57:33.689Z pfi              40 pfi.py:899 Some phi angles are out of range\n",
      "2025-01-17 16:57:33.736Z pfi              40 pfi.py:896 Some theta angles are out of range\n",
      "2025-01-17 16:57:33.738Z pfi              40 pfi.py:899 Some phi angles are out of range\n",
      "2025-01-17 16:57:33.787Z pfi              40 pfi.py:896 Some theta angles are out of range\n",
      "2025-01-17 16:57:33.788Z pfi              40 pfi.py:899 Some phi angles are out of range\n",
      "2025-01-17 16:57:33.834Z pfi              40 pfi.py:896 Some theta angles are out of range\n",
      "2025-01-17 16:57:33.836Z pfi              40 pfi.py:899 Some phi angles are out of range\n",
      "2025-01-17 16:57:33.886Z pfi              40 pfi.py:896 Some theta angles are out of range\n",
      "2025-01-17 16:57:33.887Z pfi              40 pfi.py:899 Some phi angles are out of range\n",
      "2025-01-17 16:57:33.935Z pfi              40 pfi.py:930 Some theta angles are out of range\n",
      "2025-01-17 16:57:33.993Z pfi              40 pfi.py:930 Some theta angles are out of range\n",
      "2025-01-17 16:57:34.049Z pfi              40 pfi.py:930 Some theta angles are out of range\n",
      "2025-01-17 16:57:34.090Z pfi              40 pfi.py:930 Some theta angles are out of range\n",
      "2025-01-17 16:57:34.127Z pfi              40 pfi.py:930 Some theta angles are out of range\n",
      "2025-01-17 16:57:34.164Z pfi              40 pfi.py:930 Some theta angles are out of range\n",
      "2025-01-17 16:57:34.201Z pfi              40 pfi.py:930 Some theta angles are out of range\n",
      "2025-01-17 16:57:34.238Z pfi              40 pfi.py:930 Some theta angles are out of range\n"
     ]
    },
    {
     "name": "stdout",
     "output_type": "stream",
     "text": [
      "ERROR: detected 15 end point collision, which should be impossible\n",
      "trajectory collisions found: 11\n",
      "Set parameter Presolve to value 1\n"
     ]
    },
    {
     "name": "stderr",
     "output_type": "stream",
     "text": [
      "2025-01-17 16:57:38.291Z gurobipy         20 netflow.py:117 Set parameter Presolve to value 1\n"
     ]
    },
    {
     "name": "stdout",
     "output_type": "stream",
     "text": [
      "Set parameter Method to value 4\n"
     ]
    },
    {
     "name": "stderr",
     "output_type": "stream",
     "text": [
      "2025-01-17 16:57:38.293Z gurobipy         20 netflow.py:117 Set parameter Method to value 4\n"
     ]
    },
    {
     "name": "stdout",
     "output_type": "stream",
     "text": [
      "Set parameter DegenMoves to value 0\n"
     ]
    },
    {
     "name": "stderr",
     "output_type": "stream",
     "text": [
      "2025-01-17 16:57:38.294Z gurobipy         20 netflow.py:117 Set parameter DegenMoves to value 0\n"
     ]
    },
    {
     "name": "stdout",
     "output_type": "stream",
     "text": [
      "Set parameter Heuristics to value 0.8\n"
     ]
    },
    {
     "name": "stderr",
     "output_type": "stream",
     "text": [
      "2025-01-17 16:57:38.295Z gurobipy         20 netflow.py:117 Set parameter Heuristics to value 0.8\n"
     ]
    },
    {
     "name": "stdout",
     "output_type": "stream",
     "text": [
      "Set parameter MIPGap to value 0.05\n"
     ]
    },
    {
     "name": "stderr",
     "output_type": "stream",
     "text": [
      "2025-01-17 16:57:38.297Z gurobipy         20 netflow.py:117 Set parameter MIPGap to value 0.05\n"
     ]
    },
    {
     "name": "stdout",
     "output_type": "stream",
     "text": [
      "Creating network topology\n",
      "  exposure 1\n",
      "Calculating visibilities\n",
      "adding constraints\n",
      "adding collision constraints\n",
      "adding forbidden pair constraints\n",
      "Gurobi Optimizer version 10.0.1 build v10.0.1rc0 (mac64[x86])\n"
     ]
    },
    {
     "name": "stderr",
     "output_type": "stream",
     "text": [
      "2025-01-17 16:57:46.036Z gurobipy         20 netflow.py:149 Gurobi Optimizer version 10.0.1 build v10.0.1rc0 (mac64[x86])\n"
     ]
    },
    {
     "name": "stdout",
     "output_type": "stream",
     "text": [
      "\n"
     ]
    },
    {
     "name": "stderr",
     "output_type": "stream",
     "text": [
      "2025-01-17 16:57:46.038Z gurobipy         20 netflow.py:149 \n"
     ]
    },
    {
     "name": "stdout",
     "output_type": "stream",
     "text": [
      "CPU model: Intel(R) Core(TM) i7-8569U CPU @ 2.80GHz\n"
     ]
    },
    {
     "name": "stderr",
     "output_type": "stream",
     "text": [
      "2025-01-17 16:57:46.040Z gurobipy         20 netflow.py:149 CPU model: Intel(R) Core(TM) i7-8569U CPU @ 2.80GHz\n"
     ]
    },
    {
     "name": "stdout",
     "output_type": "stream",
     "text": [
      "Thread count: 4 physical cores, 8 logical processors, using up to 8 threads\n"
     ]
    },
    {
     "name": "stderr",
     "output_type": "stream",
     "text": [
      "2025-01-17 16:57:46.042Z gurobipy         20 netflow.py:149 Thread count: 4 physical cores, 8 logical processors, using up to 8 threads\n"
     ]
    },
    {
     "name": "stdout",
     "output_type": "stream",
     "text": [
      "\n"
     ]
    },
    {
     "name": "stderr",
     "output_type": "stream",
     "text": [
      "2025-01-17 16:57:46.043Z gurobipy         20 netflow.py:149 \n"
     ]
    },
    {
     "name": "stdout",
     "output_type": "stream",
     "text": [
      "Academic license 2379863 - for non-commercial use only - registered to ji___@ipmu.jp\n"
     ]
    },
    {
     "name": "stderr",
     "output_type": "stream",
     "text": [
      "2025-01-17 16:57:46.047Z gurobipy         20 netflow.py:149 Academic license 2379863 - for non-commercial use only - registered to ji___@ipmu.jp\n"
     ]
    },
    {
     "name": "stdout",
     "output_type": "stream",
     "text": [
      "Optimize a model with 99498 rows, 89861 columns and 271800 nonzeros\n"
     ]
    },
    {
     "name": "stderr",
     "output_type": "stream",
     "text": [
      "2025-01-17 16:57:46.049Z gurobipy         20 netflow.py:149 Optimize a model with 99498 rows, 89861 columns and 271800 nonzeros\n"
     ]
    },
    {
     "name": "stdout",
     "output_type": "stream",
     "text": [
      "Model fingerprint: 0x52e1b76d\n"
     ]
    },
    {
     "name": "stderr",
     "output_type": "stream",
     "text": [
      "2025-01-17 16:57:46.054Z gurobipy         20 netflow.py:149 Model fingerprint: 0x52e1b76d\n"
     ]
    },
    {
     "name": "stdout",
     "output_type": "stream",
     "text": [
      "Variable types: 1 continuous, 89860 integer (69113 binary)\n"
     ]
    },
    {
     "name": "stderr",
     "output_type": "stream",
     "text": [
      "2025-01-17 16:57:46.056Z gurobipy         20 netflow.py:149 Variable types: 1 continuous, 89860 integer (69113 binary)\n"
     ]
    },
    {
     "name": "stdout",
     "output_type": "stream",
     "text": [
      "Coefficient statistics:\n"
     ]
    },
    {
     "name": "stderr",
     "output_type": "stream",
     "text": [
      "2025-01-17 16:57:46.060Z gurobipy         20 netflow.py:149 Coefficient statistics:\n"
     ]
    },
    {
     "name": "stdout",
     "output_type": "stream",
     "text": [
      "  Matrix range     [1e+00, 1e+00]\n"
     ]
    },
    {
     "name": "stderr",
     "output_type": "stream",
     "text": [
      "2025-01-17 16:57:46.062Z gurobipy         20 netflow.py:149   Matrix range     [1e+00, 1e+00]\n"
     ]
    },
    {
     "name": "stdout",
     "output_type": "stream",
     "text": [
      "  Objective range  [2e-05, 1e+06]\n"
     ]
    },
    {
     "name": "stderr",
     "output_type": "stream",
     "text": [
      "2025-01-17 16:57:46.064Z gurobipy         20 netflow.py:149   Objective range  [2e-05, 1e+06]\n"
     ]
    },
    {
     "name": "stdout",
     "output_type": "stream",
     "text": [
      "  Bounds range     [1e+00, 1e+00]\n"
     ]
    },
    {
     "name": "stderr",
     "output_type": "stream",
     "text": [
      "2025-01-17 16:57:46.066Z gurobipy         20 netflow.py:149   Bounds range     [1e+00, 1e+00]\n"
     ]
    },
    {
     "name": "stdout",
     "output_type": "stream",
     "text": [
      "  RHS range        [1e+00, 2e+04]\n"
     ]
    },
    {
     "name": "stderr",
     "output_type": "stream",
     "text": [
      "2025-01-17 16:57:46.068Z gurobipy         20 netflow.py:149   RHS range        [1e+00, 2e+04]\n"
     ]
    },
    {
     "name": "stdout",
     "output_type": "stream",
     "text": [
      "Presolve removed 21344 rows and 42041 columns\n"
     ]
    },
    {
     "name": "stderr",
     "output_type": "stream",
     "text": [
      "2025-01-17 16:57:46.161Z gurobipy         20 netflow.py:149 Presolve removed 21344 rows and 42041 columns\n"
     ]
    },
    {
     "name": "stdout",
     "output_type": "stream",
     "text": [
      "Presolve time: 0.05s\n"
     ]
    },
    {
     "name": "stderr",
     "output_type": "stream",
     "text": [
      "2025-01-17 16:57:46.162Z gurobipy         20 netflow.py:149 Presolve time: 0.05s\n"
     ]
    },
    {
     "name": "stdout",
     "output_type": "stream",
     "text": [
      "\n"
     ]
    },
    {
     "name": "stderr",
     "output_type": "stream",
     "text": [
      "2025-01-17 16:57:46.168Z gurobipy         20 netflow.py:149 \n"
     ]
    },
    {
     "name": "stdout",
     "output_type": "stream",
     "text": [
      "Explored 0 nodes (0 simplex iterations) in 0.12 seconds (0.06 work units)\n"
     ]
    },
    {
     "name": "stderr",
     "output_type": "stream",
     "text": [
      "2025-01-17 16:57:46.169Z gurobipy         20 netflow.py:149 Explored 0 nodes (0 simplex iterations) in 0.12 seconds (0.06 work units)\n"
     ]
    },
    {
     "name": "stdout",
     "output_type": "stream",
     "text": [
      "Thread count was 1 (of 8 available processors)\n"
     ]
    },
    {
     "name": "stderr",
     "output_type": "stream",
     "text": [
      "2025-01-17 16:57:46.170Z gurobipy         20 netflow.py:149 Thread count was 1 (of 8 available processors)\n"
     ]
    },
    {
     "name": "stdout",
     "output_type": "stream",
     "text": [
      "\n"
     ]
    },
    {
     "name": "stderr",
     "output_type": "stream",
     "text": [
      "2025-01-17 16:57:46.172Z gurobipy         20 netflow.py:149 \n"
     ]
    },
    {
     "name": "stdout",
     "output_type": "stream",
     "text": [
      "Solution count 0\n"
     ]
    },
    {
     "name": "stderr",
     "output_type": "stream",
     "text": [
      "2025-01-17 16:57:46.173Z gurobipy         20 netflow.py:149 Solution count 0\n"
     ]
    },
    {
     "name": "stdout",
     "output_type": "stream",
     "text": [
      "\n"
     ]
    },
    {
     "name": "stderr",
     "output_type": "stream",
     "text": [
      "2025-01-17 16:57:46.175Z gurobipy         20 netflow.py:149 \n"
     ]
    },
    {
     "name": "stdout",
     "output_type": "stream",
     "text": [
      "Model is infeasible\n"
     ]
    },
    {
     "name": "stderr",
     "output_type": "stream",
     "text": [
      "2025-01-17 16:57:46.176Z gurobipy         20 netflow.py:149 Model is infeasible\n"
     ]
    },
    {
     "name": "stdout",
     "output_type": "stream",
     "text": [
      "Best objective -, best bound -, gap -\n"
     ]
    },
    {
     "name": "stderr",
     "output_type": "stream",
     "text": [
      "2025-01-17 16:57:46.177Z gurobipy         20 netflow.py:149 Best objective -, best bound -, gap -\n"
     ]
    },
    {
     "ename": "AttributeError",
     "evalue": "Unable to retrieve attribute 'X'",
     "output_type": "error",
     "traceback": [
      "\u001b[0;31m---------------------------------------------------------------------------\u001b[0m",
      "\u001b[0;31mAttributeError\u001b[0m                            Traceback (most recent call last)",
      "Cell \u001b[0;32mIn[12], line 26\u001b[0m\n\u001b[1;32m     24\u001b[0m \u001b[38;5;66;03m# first visit\u001b[39;00m\n\u001b[1;32m     25\u001b[0m visit \u001b[38;5;241m=\u001b[39m \u001b[38;5;241m1\u001b[39m\n\u001b[0;32m---> 26\u001b[0m \u001b[43mmain\u001b[49m\u001b[43m(\u001b[49m\u001b[43moutdir\u001b[49m\u001b[43m,\u001b[49m\u001b[43m \u001b[49m\u001b[43mdata_dir\u001b[49m\u001b[43m,\u001b[49m\u001b[43m \u001b[49m\u001b[38;5;28;43;01mTrue\u001b[39;49;00m\u001b[43m,\u001b[49m\u001b[43m \u001b[49m\u001b[43mpointings\u001b[49m\u001b[43m,\u001b[49m\u001b[43m \u001b[49m\u001b[43mprefix\u001b[49m\u001b[43m,\u001b[49m\u001b[43m \u001b[49m\u001b[43mfield\u001b[49m\u001b[43m,\u001b[49m\u001b[43m \u001b[49m\u001b[43mLi_list\u001b[49m\u001b[43m,\u001b[49m\u001b[43m \u001b[49m\u001b[43mvisit\u001b[49m\u001b[43m,\u001b[49m\u001b[43m \u001b[49m\u001b[43m\\\u001b[49m\n\u001b[1;32m     27\u001b[0m \u001b[43m     \u001b[49m\u001b[43mfn_list\u001b[49m\u001b[43m,\u001b[49m\u001b[43m \u001b[49m\u001b[43mprefix_list\u001b[49m\u001b[43m,\u001b[49m\u001b[43m \u001b[49m\u001b[43mcalibration_list\u001b[49m\u001b[43m,\u001b[49m\u001b[43m \u001b[49m\u001b[43mtele_params\u001b[49m\u001b[43m,\u001b[49m\u001b[43m \u001b[49m\u001b[43mbench\u001b[49m\u001b[43m,\u001b[49m\u001b[43m \u001b[49m\u001b[43mcobracoach\u001b[49m\u001b[43m,\u001b[49m\u001b[43m \u001b[49m\u001b[43m\\\u001b[49m\n\u001b[1;32m     28\u001b[0m \u001b[43m     \u001b[49m\u001b[43mtwo_stage\u001b[49m\u001b[38;5;241;43m=\u001b[39;49m\u001b[38;5;28;43;01mTrue\u001b[39;49;00m\u001b[43m,\u001b[49m\u001b[43m \u001b[49m\u001b[43mgurobiOptions\u001b[49m\u001b[38;5;241;43m=\u001b[39;49m\u001b[38;5;28;43;01mNone\u001b[39;49;00m\u001b[43m,\u001b[49m\u001b[43m \u001b[49m\u001b[43mcollision_sim_version\u001b[49m\u001b[38;5;241;43m=\u001b[39;49m\u001b[38;5;241;43m2\u001b[39;49m\u001b[43m)\u001b[49m\n\u001b[1;32m     29\u001b[0m \u001b[38;5;28mprint\u001b[39m(\u001b[38;5;124m\"\u001b[39m\u001b[38;5;124mDone: field-\u001b[39m\u001b[38;5;132;01m%s\u001b[39;00m\u001b[38;5;124m, visit-\u001b[39m\u001b[38;5;132;01m%d\u001b[39;00m\u001b[38;5;124m\"\u001b[39m \u001b[38;5;241m%\u001b[39m (field, visit))\n\u001b[1;32m     31\u001b[0m \u001b[38;5;66;03m# second visit\u001b[39;00m\n",
      "Cell \u001b[0;32mIn[10], line 83\u001b[0m, in \u001b[0;36mmain\u001b[0;34m(outdir, data_dir, update_tgt_file, pointings, prefix, field, Li_list, visit, fn_list, prefix_list, calibration_list, tele_params, bench, cobracoach, two_stage, gurobiOptions, collision_sim_version)\u001b[0m\n\u001b[1;32m     77\u001b[0m \u001b[38;5;28mprint\u001b[39m(\u001b[38;5;124m\"\u001b[39m\u001b[38;5;124mfield - \u001b[39m\u001b[38;5;132;01m%s\u001b[39;00m\u001b[38;5;124m, \u001b[39m\u001b[38;5;132;01m%s\u001b[39;00m\u001b[38;5;124m (\u001b[39m\u001b[38;5;132;01m%f\u001b[39;00m\u001b[38;5;124m, \u001b[39m\u001b[38;5;132;01m%f\u001b[39;00m\u001b[38;5;124m): \u001b[39m\u001b[38;5;132;01m%d\u001b[39;00m\u001b[38;5;124m targets in the FoV.\u001b[39m\u001b[38;5;124m\"\u001b[39m \u001b[38;5;241m%\u001b[39m (field, Li, peak[\u001b[38;5;241m0\u001b[39m], peak[\u001b[38;5;241m1\u001b[39m], \u001b[38;5;28mlen\u001b[39m(tgt_peak)))\n\u001b[1;32m     79\u001b[0m \u001b[38;5;66;03m# (Done) TODO: update the alreadyObserved dictionary\u001b[39;00m\n\u001b[1;32m     80\u001b[0m \u001b[38;5;66;03m# TODO: rewrite the write_output and cal_completeness part\u001b[39;00m\n\u001b[1;32m     81\u001b[0m \n\u001b[1;32m     82\u001b[0m \u001b[38;5;66;03m# excute the fiber assignment\u001b[39;00m\n\u001b[0;32m---> 83\u001b[0m res, tpos, telescopes \u001b[38;5;241m=\u001b[39m \u001b[43mexecute\u001b[49m\u001b[43m(\u001b[49m\u001b[43mnp\u001b[49m\u001b[38;5;241;43m.\u001b[39;49m\u001b[43marray\u001b[49m\u001b[43m(\u001b[49m\u001b[43m[\u001b[49m\u001b[43mpeak\u001b[49m\u001b[43m]\u001b[49m\u001b[43m)\u001b[49m\u001b[43m,\u001b[49m\u001b[43m \u001b[49m\u001b[43mtgt_peak\u001b[49m\u001b[43m,\u001b[49m\u001b[43m \u001b[49m\u001b[43mclassdict\u001b[49m\u001b[43m,\u001b[49m\u001b[43m \u001b[49m\u001b[43malreadyObserved\u001b[49m\u001b[43m,\u001b[49m\u001b[43m \u001b[49m\u001b[43mt_obs\u001b[49m\u001b[38;5;241;43m=\u001b[39;49m\u001b[38;5;241;43m1800.\u001b[39;49m\u001b[43m,\u001b[49m\u001b[43m \u001b[49m\u001b[43mtwo_stage\u001b[49m\u001b[38;5;241;43m=\u001b[39;49m\u001b[43mtwo_stage\u001b[49m\u001b[43m,\u001b[49m\u001b[43m \u001b[49m\u001b[43mcollision_sim_version\u001b[49m\u001b[38;5;241;43m=\u001b[39;49m\u001b[43mcollision_sim_version\u001b[49m\u001b[43m,\u001b[49m\u001b[43m \u001b[49m\u001b[43mbench\u001b[49m\u001b[38;5;241;43m=\u001b[39;49m\u001b[43mbench\u001b[49m\u001b[43m,\u001b[49m\u001b[43m \u001b[49m\u001b[43mcobracoach\u001b[49m\u001b[38;5;241;43m=\u001b[39;49m\u001b[43mcobracoach\u001b[49m\u001b[43m,\u001b[49m\u001b[43m \u001b[49m\u001b[43mgurobiOptions\u001b[49m\u001b[38;5;241;43m=\u001b[39;49m\u001b[43mgurobiOptions\u001b[49m\u001b[43m,\u001b[49m\u001b[43m \u001b[49m\u001b[43mtele_params\u001b[49m\u001b[38;5;241;43m=\u001b[39;49m\u001b[43mtele_params\u001b[49m\u001b[43m)\u001b[49m\n\u001b[1;32m     85\u001b[0m outfn \u001b[38;5;241m=\u001b[39m prefix \u001b[38;5;241m+\u001b[39m \u001b[38;5;124m'\u001b[39m\u001b[38;5;124mfield_\u001b[39m\u001b[38;5;132;01m%s\u001b[39;00m\u001b[38;5;124m_\u001b[39m\u001b[38;5;132;01m%s\u001b[39;00m\u001b[38;5;124m_visit\u001b[39m\u001b[38;5;132;01m%d\u001b[39;00m\u001b[38;5;124m.txt\u001b[39m\u001b[38;5;124m'\u001b[39m\u001b[38;5;241m%\u001b[39m(field, Li, visit)\n\u001b[1;32m     86\u001b[0m write_output(tgt_peak, res, tpos, telescopes, outdir, outfn)\n",
      "Cell \u001b[0;32mIn[3], line 175\u001b[0m, in \u001b[0;36mexecute\u001b[0;34m(peaks, tgt, classdict, alreadyObserved, t_obs, two_stage, collision_sim_version, tele_params, bench, cobracoach, gurobiOptions)\u001b[0m\n\u001b[1;32m    173\u001b[0m \u001b[38;5;28;01mfor\u001b[39;00m k1, v1 \u001b[38;5;129;01min\u001b[39;00m prob1\u001b[38;5;241m.\u001b[39m_vardict\u001b[38;5;241m.\u001b[39mitems():\n\u001b[1;32m    174\u001b[0m     \u001b[38;5;28;01mif\u001b[39;00m k1\u001b[38;5;241m.\u001b[39mstartswith(\u001b[38;5;124m\"\u001b[39m\u001b[38;5;124mTv_Cv_\u001b[39m\u001b[38;5;124m\"\u001b[39m):\n\u001b[0;32m--> 175\u001b[0m         visited \u001b[38;5;241m=\u001b[39m \u001b[43mprob1\u001b[49m\u001b[38;5;241;43m.\u001b[39;49m\u001b[43mvalue\u001b[49m\u001b[43m(\u001b[49m\u001b[43mv1\u001b[49m\u001b[43m)\u001b[49m \u001b[38;5;241m>\u001b[39m \u001b[38;5;241m0\u001b[39m\n\u001b[1;32m    176\u001b[0m         \u001b[38;5;28;01mif\u001b[39;00m visited:\n\u001b[1;32m    177\u001b[0m             _, _, tidx, cidx, ivis \u001b[38;5;241m=\u001b[39m k1\u001b[38;5;241m.\u001b[39msplit(\u001b[38;5;124m\"\u001b[39m\u001b[38;5;124m_\u001b[39m\u001b[38;5;124m\"\u001b[39m)\n",
      "File \u001b[0;32m~/anaconda3/lib/python3.10/site-packages/ets_fiber_assigner-0.0.1-py3.10-macosx-10.9-x86_64.egg/ets_fiber_assigner/netflow.py:145\u001b[0m, in \u001b[0;36mGurobiProblem.value\u001b[0;34m(var)\u001b[0m\n\u001b[1;32m    143\u001b[0m \u001b[38;5;129m@staticmethod\u001b[39m\n\u001b[1;32m    144\u001b[0m \u001b[38;5;28;01mdef\u001b[39;00m \u001b[38;5;21mvalue\u001b[39m(var):\n\u001b[0;32m--> 145\u001b[0m     \u001b[38;5;28;01mreturn\u001b[39;00m \u001b[43mvar\u001b[49m\u001b[38;5;241;43m.\u001b[39;49m\u001b[43mX\u001b[49m\n",
      "File \u001b[0;32msrc/gurobipy/var.pxi:125\u001b[0m, in \u001b[0;36mgurobipy.Var.__getattr__\u001b[0;34m()\u001b[0m\n",
      "File \u001b[0;32msrc/gurobipy/var.pxi:153\u001b[0m, in \u001b[0;36mgurobipy.Var.getAttr\u001b[0;34m()\u001b[0m\n",
      "File \u001b[0;32msrc/gurobipy/attrutil.pxi:100\u001b[0m, in \u001b[0;36mgurobipy.__getattr\u001b[0;34m()\u001b[0m\n",
      "\u001b[0;31mAttributeError\u001b[0m: Unable to retrieve attribute 'X'"
     ]
    }
   ],
   "source": [
    "# prefix = 'cmx_01222025_DESI-ELG'\n",
    "fdir_Jan25 = '../data_raw/Jan25/'\n",
    "prefix_org = 'cmx_01222025_DESI-ELG'\n",
    "outdir = '../output/Jan25/'\n",
    "data_dir = '../data_proc/Jan25/'\n",
    "prefix = ''\n",
    "\n",
    "# HST(UTC-10) Jan 22 20:00 for field a and b, same for both visits\n",
    "otime_list = ['2025-01-23T06:00:00Z', '2025-01-23T06:00:00Z']\n",
    " \n",
    "#for field, Li_list, otime in zip(['a', 'b'], [['L1', 'L3', 'L4'], ['L1', 'L2', 'L3']], otime_list):\n",
    "for field, Li_list, otime in zip(['a', ], [['L1', 'L3', 'L4'], ], ['2025-01-23T06:00:00Z', ]):\n",
    "    pointings = read_proc_pointings_Jan25(fdir_Jan25, data_dir, prefix_org, field)\n",
    "    print(pointings)\n",
    "\n",
    "    # cosmology + sky + star targets\n",
    "    fn_list = ['field_{}_targets.ecsv'.format(field), 'star_field_{}_targets.ecsv'.format(field), 'sky_field_{}_targets.ecsv'.format(field)]\n",
    "    prefix_list = [\"sci\", \"cal\", \"sky\"]\n",
    "    calibration_list = [False, True, True]\n",
    "\n",
    "    # telescope parameters\n",
    "    tele_params = {\"otime\": otime, \"posang\":0.}\n",
    "\n",
    "    # first visit\n",
    "    visit = 1\n",
    "    main(outdir, data_dir, True, pointings, prefix, field, Li_list, visit, \\\n",
    "         fn_list, prefix_list, calibration_list, tele_params, bench, cobracoach, \\\n",
    "         two_stage=True, gurobiOptions=None, collision_sim_version=2)\n",
    "    print(\"Done: field-%s, visit-%d\" % (field, visit))\n",
    "    \n",
    "    # second visit\n",
    "    '''\n",
    "    visit = 2\n",
    "    main(outdir, data_dir, True, pointings, prefix, field, Li_list, visit, \\\n",
    "         fn_list, prefix_list, calibration_list, tele_params, bench, cobracoach, \\\n",
    "         two_stage=True, gurobiOptions=None, collision_sim_version=2)\n",
    "    print(\"Done: field-%s, visit-%d\" % (field, visit))\n",
    "    '''\n"
   ]
  },
  {
   "cell_type": "markdown",
   "metadata": {},
   "source": [
    "# check list for the observatory Target Uploader\n",
    "+ CO netflow output targets all get a fiber assigned (test myself - use output as an input, all targets have the same cost)\n",
    "+ two stage == different cost (same sky coverage)?\n",
    "+ CO needs to track the status of the target list and instrument\n",
    "+ if different otime is used, how many targets (sci, sky, star separately) will be missed? (test myself - use output as an input)"
   ]
  },
  {
   "cell_type": "code",
   "execution_count": null,
   "metadata": {},
   "outputs": [],
   "source": []
  },
  {
   "cell_type": "markdown",
   "metadata": {},
   "source": []
  }
 ],
 "metadata": {
  "kernelspec": {
   "display_name": "Python 3 (ipykernel)",
   "language": "python",
   "name": "python3"
  },
  "language_info": {
   "codemirror_mode": {
    "name": "ipython",
    "version": 3
   },
   "file_extension": ".py",
   "mimetype": "text/x-python",
   "name": "python",
   "nbconvert_exporter": "python",
   "pygments_lexer": "ipython3",
   "version": "3.10.9"
  }
 },
 "nbformat": 4,
 "nbformat_minor": 4
}
