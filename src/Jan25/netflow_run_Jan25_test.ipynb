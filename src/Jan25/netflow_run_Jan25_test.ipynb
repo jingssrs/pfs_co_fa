{
 "cells": [
  {
   "cell_type": "markdown",
   "metadata": {},
   "source": [
    "# basic set up"
   ]
  },
  {
   "cell_type": "code",
   "execution_count": 1,
   "metadata": {},
   "outputs": [],
   "source": [
    "#basic set up\n",
    "%matplotlib inline\n",
    "import logging\n",
    "import numpy as np\n",
    "import random\n",
    "import time\n",
    "import matplotlib.pyplot as plt\n",
    "import astropy.io.fits as pyfits\n",
    "import os\n",
    "from astropy.table import Table\n",
    "from astropy import units as u\n",
    "from astropy.coordinates import SkyCoord\n",
    "from IPython.display import clear_output\n",
    "from matplotlib.path import Path\n",
    "import pandas as pd\n",
    "import pdb\n",
    "from logzero import logger\n",
    "\n",
    "logging.getLogger('matplotlib').setLevel(logging.WARNING)\n",
    "\n",
    "\n",
    "#netflow \n",
    "import ets_fiber_assigner.netflow as nf\n",
    "import ets_fiber_assigner.io_helpers as io_helpers\n",
    "from ics.cobraOps.Bench import Bench\n",
    "from ics.cobraOps.TargetGroup import TargetGroup\n",
    "from ics.cobraOps.CobrasCalibrationProduct import CobrasCalibrationProduct\n",
    "from ics.cobraOps.BlackDotsCalibrationProduct import BlackDotsCalibrationProduct\n",
    "from pfs.utils.fiberids import FiberIds\n",
    "\n",
    "from ics.cobraCharmer.pfiDesign import PFIDesign\n",
    "from ics.cobraCharmer.cobraCoach.cobraCoach import CobraCoach\n",
    "from ics.cobraOps.DistanceTargetSelector import DistanceTargetSelector\n",
    "\n",
    "from ics.cobraOps.CollisionSimulator2 import CollisionSimulator2\n",
    "from ics.cobraOps.CollisionSimulator import CollisionSimulator\n",
    "from ics.cobraOps.cobraConstants import NULL_TARGET_POSITION, NULL_TARGET_ID\n",
    "from ics.cobraOps import plotUtils\n",
    "from collections import defaultdict\n",
    "\n",
    "\n",
    "'''\n",
    "Common imports for the project\n",
    "'''\n",
    "# io \n",
    "from astropy.table import Table, column\n",
    "from astropy.io import fits, ascii\n",
    "\n",
    "# plot \n",
    "import matplotlib as mpl\n",
    "from matplotlib import rc\n",
    "\n",
    "# Set default font properties\n",
    "rc('font', **{'family': 'sans-serif', 'sans-serif': ['Helvetica'], 'size': 20})\n",
    "rc('text', **{'usetex':'False'})\n",
    "rc('axes', **{'grid':'True','labelsize':24,'linewidth':1.5,})\n",
    "rc('xtick',**{'direction':'in','labelsize':20,'minor.visible':True,'major.size': 10,'major.width': 1.5, \\\n",
    "              'minor.size': 3.72,'major.width': 0.8})\n",
    "rc('ytick',**{'direction':'in','labelsize':20,'minor.visible':True,'major.size': 10,'major.width': 1.5, \\\n",
    "              'minor.size': 3.72,'major.width': 0.8})\n",
    "rc('legend',**{'frameon':False,'numpoints':1,'scatterpoints':1,'fontsize':18})\n",
    "rc('figure',**{'autolayout':True})\n",
    "rc('grid',**{'alpha':0.6,'linewidth':0.8,'linestyle':'--'})\n",
    "\n",
    "new_colors = ['#1f77b4', '#ff7f0e', '#2ca02c', '#d62728',\n",
    "              '#9467bd', '#8c564b', '#e377c2', '#7f7f7f',\n",
    "              '#bcbd22', '#17becf']\n",
    "new_colors = [mpl.colors.to_rgba(color_i) for color_i in new_colors]"
   ]
  },
  {
   "cell_type": "markdown",
   "metadata": {},
   "source": [
    "# key functions"
   ]
  },
  {
   "cell_type": "code",
   "execution_count": 2,
   "metadata": {},
   "outputs": [],
   "source": [
    "# read the pointing centers from the file\n",
    "def read_pointings(file):\n",
    "    \"\"\"\n",
    "    Read pre-defined pointings from a file\n",
    "    \"\"\"\n",
    "    try:\n",
    "        # first try reading as ecsv format\n",
    "        t = Table.read(file, format=\"ascii.ecsv\")\n",
    "        return t[\"R.A.\"], t['Dec.']\n",
    "    except:\n",
    "        pass\n",
    "\n",
    "    with open(file) as f:\n",
    "        ras = []\n",
    "        decs = []\n",
    "        ll = f.readlines()\n",
    "        for l in ll[1:]:\n",
    "            if not l.startswith(\"#\"):\n",
    "                tt = l.split()\n",
    "                ra, dec = (float(tt[0]), float(tt[1]))\n",
    "                ras.append(ra)\n",
    "                decs.append(dec)\n",
    "    return np.array(ras), np.array(decs)\n",
    "\n",
    "# TODO: try a more efficient way to contruct the target list, add alreadyObserved to the target list either in netflow Targets or in this function\n",
    "def construct_tgt_list(catalog_path = \"../proc_data/\", \\\n",
    "                       fn_list = [\"cos_select.ecsv\", \"star_select.ecsv\", \"sky_select.ecsv\"], \\\n",
    "                       prefix_list = [\"sci\", \"cal\", \"sky\"], calibration_list = [False, True, True]):\n",
    "    '''\n",
    "    Construct target list\n",
    "    '''\n",
    "    print(\"construct target list:\")\n",
    "    for i, fn_i in enumerate(fn_list):\n",
    "        fn = catalog_path + fn_i\n",
    "        print(fn)\n",
    "        \n",
    "        # read all targets into a single list, giving them their proper types\n",
    "        if(i<1):\n",
    "            if(not calibration_list[i]): tgt = nf.readScientificFromFile(fn, prefix_list[i])\n",
    "            if(calibration_list[i]): tgt = nf.readCalibrationFromFile(fn, prefix_list[i])\n",
    "        else:\n",
    "            if(not calibration_list[i]): tgt += nf.readScientificFromFile(fn, prefix_list[i])\n",
    "            if(calibration_list[i]): tgt += nf.readCalibrationFromFile(fn, prefix_list[i])\n",
    "\n",
    "    print(\"In total, there are %d targets.\" % len(tgt))\n",
    "\n",
    "    # sample of sci targets\n",
    "    sample_sci = []\n",
    "    for t in tgt:\n",
    "        if(t.targetclass[:3] == 'sci'): sample_sci.append([t.ID,t.ra,t.dec])  \n",
    "\n",
    "    sample_sci = np.array(sample_sci)\n",
    "    \n",
    "    return tgt, sample_sci\n",
    "\n",
    "# TODO: play with the cost value for different classes\n",
    "def def_classdict():\n",
    "    '''define classdict for netflow run\n",
    "    \n",
    "    Parameters\n",
    "    ==========\n",
    "    None\n",
    "    \n",
    "    Returns\n",
    "    =======\n",
    "    classdict\n",
    "    '''\n",
    "    # create the dictionary containing the costs and constraints for all classes\n",
    "    # of targets\n",
    "    classdict = {}\n",
    "    classdict[\"sci_P1\"] = {\"nonObservationCost\": 400,\n",
    "                           \"partialObservationCost\": 1e6, \"calib\": False}\n",
    "    classdict[\"sci_P2\"] = {\"nonObservationCost\": 200,\n",
    "                           \"partialObservationCost\": 1e6, \"calib\": False}\n",
    "    classdict[\"sci_P3\"] = {\"nonObservationCost\": 100,\n",
    "                           \"partialObservationCost\": 1e6, \"calib\": False}\n",
    "    \n",
    "    #for ancillary targets\n",
    "    classdict[\"anc_P1\"] = {\"nonObservationCost\": 50,\n",
    "                           \"partialObservationCost\": 1e6, \"calib\": False}\n",
    "    classdict[\"anc_P2\"] = {\"nonObservationCost\": 10,\n",
    "                           \"partialObservationCost\": 1e6, \"calib\": False}\n",
    "    \n",
    "    '''\n",
    "    #need to ask PFS project office to get the \"numRequired\"\n",
    "    classdict[\"sky\"] = {\"numRequired\": 400,\n",
    "                        \"nonObservationCost\": 1e6, \"calib\": True}\n",
    "    #100-200 stars - Masayuki\n",
    "    classdict[\"cal\"] = {\"numRequired\": 200,\n",
    "                        \"nonObservationCost\": 1e6, \"calib\": True}\n",
    "    '''\n",
    "\n",
    "    return classdict\n",
    "\n",
    "\n",
    "\n",
    "def write_output(tgt, res, tpos, telescopes, fdir_out, fn_out, t_obs=900):\n",
    "    '''write the output of fiber assignment\n",
    "    Parameters\n",
    "    ==========\n",
    "    fdir_out: string\n",
    "        output folder directory\n",
    "    fn_out: string\n",
    "        output file name\n",
    "    '''\n",
    "    \n",
    "    with open(fdir_out + fn_out, \"w\") as f:\n",
    "        for i, (vis, tp, tel) in enumerate(zip(res, tpos, telescopes)):\n",
    "            print(\"exposure {}:\".format(i))\n",
    "            print(\"  assigned Cobras: {}\".format(len(vis)))\n",
    "            tdict = defaultdict(int)\n",
    "            f.write(\"# Exposure {}: duration {}s, RA: {}, Dec: {}, PA: {}\\n\".\n",
    "                    format(i+1, t_obs, tel._ra, tel._dec, tel._posang))\n",
    "            f.write(\"# Target    Fiber          X          Y         \"\n",
    "                    \"RA        DEC\\n\")\n",
    "            for tidx, cidx in vis.items():\n",
    "                tdict[tgt[tidx].targetclass] += 1 #tgt[].targetclass = 'sci_Px'\n",
    "                f.write(\"{:} {:6d} {:10.5f} {:10.5f} {:10.5f} {:10.5f}\\n\"\n",
    "                        .format(tgt[tidx].ID, cidx+1, tp[tidx].real, tp[tidx].imag,\n",
    "                                tgt[tidx].ra, tgt[tidx].dec))\n",
    "            for cls, num in tdict.items():\n",
    "                print(\"   {}: {}\".format(cls, num))\n",
    "                \n",
    "                \n",
    "def cal_completeness(tgt, res, tpos, telescopes, Plot=False, fn_fig='', Save=False, fn_fibeff=''):\n",
    "    '''calculate the completeness of the targets and fiber assignment fraction\n",
    "    Parameters\n",
    "    ==========\n",
    "    fdir_out: string\n",
    "        output folder directory\n",
    "    Plot: boolean\n",
    "        plot the results if True \n",
    "    '''\n",
    "    \n",
    "    #fiber assignment fraction of each pointing\n",
    "    fib_eff = [] \n",
    "    #fiber assignment fraction of pointing which observed galaxies\n",
    "    fib_eff_gal = []\n",
    "    fib_eff_anc = []\n",
    "    #calibration targets\n",
    "    fib_eff_star = []\n",
    "    fib_eff_sky = []\n",
    "\n",
    "    #objects that got allocated a fiber\n",
    "    obj_allo = []\n",
    "    for i, (vis, tp, tel) in enumerate(zip(res, tpos, telescopes)):\n",
    "        fib_eff_t = len(vis)/2394.*100 #2394 fibers available\n",
    "        fib_eff.append(fib_eff_t)\n",
    "\n",
    "        n_fib_gal = 0\n",
    "        n_fib_anc = 0\n",
    "        n_fib_star = 0\n",
    "        n_fib_sky = 0\n",
    "        #tidx is the id in tgt list; cidx is the fiber id, starting from 0\n",
    "        for tidx, cidx in vis.items():\n",
    "            obj_allo.append([\"Point_\"+str(i+1), tel._ra, tel._dec, tel._posang, tgt[tidx].ID,\n",
    "                            cidx+1, tp[tidx].real, tgt[tidx].ra, tgt[tidx].dec,\n",
    "                            tgt[tidx].targetclass])\n",
    "\n",
    "            if tgt[tidx].targetclass[:3]=='sci': n_fib_gal+=1\n",
    "            if tgt[tidx].targetclass[:3]=='anc': n_fib_anc+=1\n",
    "            if tgt[tidx].targetclass[:3]=='sky': n_fib_sky+=1\n",
    "            if tgt[tidx].targetclass[:3]=='cal': n_fib_star+=1\n",
    "\n",
    "        fib_eff_gal.append(n_fib_gal/2394.*100)\n",
    "        fib_eff_anc.append(n_fib_anc/2394.*100)\n",
    "        fib_eff_star.append(n_fib_star/2394.*100)\n",
    "        fib_eff_sky.append(n_fib_sky/2394.*100)\n",
    "\n",
    "        print(\"exposure {}:\".format(i))\n",
    "        print(\"assigned Cobras(%): {:.2f}%; gal--{:.2f}%, anc--{:.2f}%, sky--{:.2f}%, star--{:.2f}%\". format(fib_eff[i], fib_eff_gal[i], fib_eff_anc[i], fib_eff_sky[i], fib_eff_star[i]))\n",
    "    \n",
    "    if(Save==True):\n",
    "        np.savetxt(fn_fibeff, np.c_[fib_eff, fib_eff_gal, fib_eff_anc, fib_eff_sky, fib_eff_star])\n",
    "    \n",
    "    #unique tgt_class\n",
    "    tgt_class = []\n",
    "    for tgt_i in tgt:\n",
    "        tgt_class.append(tgt_i.targetclass)\n",
    "    tgt_class = np.array(tgt_class)\n",
    "    uniq_tgt_class = np.unique(tgt_class)\n",
    "\n",
    "    #completeness fraction\n",
    "    tgt_class_allo = np.array([obj_allo_i[-1] for obj_allo_i in obj_allo])\n",
    "    comp_out = {}\n",
    "    for ii, uniq_tgt_i in enumerate(uniq_tgt_class):\n",
    "        mask_i = tgt_class == uniq_tgt_i\n",
    "        tot = len(tgt_class[mask_i])\n",
    "\n",
    "        mask_ii = tgt_class_allo == uniq_tgt_i\n",
    "        done = len(tgt_class_allo[mask_ii])\n",
    "\n",
    "        comp_out[uniq_tgt_i] = done/tot\n",
    "        \n",
    "    print(\"comp_out=\", comp_out)\n",
    "    \n",
    "    #plot\n",
    "    if(Plot==True):  \n",
    "        npoint_used = len(tpos)\n",
    "        msk_sci_class =  [uniq_tgt_class_i[:3]=='sci' for uniq_tgt_class_i in uniq_tgt_class]\n",
    "        sci_class = uniq_tgt_class[msk_sci_class]\n",
    "        msk_anc_class =  [uniq_tgt_class_i[:3]=='anc' for uniq_tgt_class_i in uniq_tgt_class]\n",
    "        sci_class = np.append(sci_class, uniq_tgt_class[msk_anc_class])\n",
    "        print(sci_class)\n",
    "        \n",
    "        plt.figure(figsize=(12, 4))\n",
    "        plt.subplot(121)\n",
    "        for ii, sci_class_ii in enumerate(sci_class):\n",
    "            plt.bar([ii+1], comp_out[sci_class_ii], width=1., fc='tomato', ec='none', alpha=0.8, zorder=10)\n",
    "            plt.bar([ii+1], comp_out[sci_class_ii], width=1., ec='tomato', fc='none', lw=1)\n",
    "\n",
    "        plt.plot([0,10], [0.8,0.8], 'k--', lw=2, zorder=11)\n",
    "        plt.xticks(np.arange(len(sci_class))+1, sci_class, fontsize=15)\n",
    "        plt.ylabel('completeness fraction', fontsize=15)\n",
    "        plt.xlim(0, len(sci_class)+2)\n",
    "        plt.ylim(0, 1.)\n",
    "\n",
    "        plt.subplot(122)\n",
    "        plt.bar(np.arange(0,len(fib_eff_gal),1), fib_eff_gal, width=0.8, fc='tomato', ec='none', alpha=0.6, zorder=10)\n",
    "        plt.bar(np.arange(0,len(fib_eff_anc),1), fib_eff_anc, width=0.8, fc='purple', ec='none', alpha=0.5)\n",
    "        plt.bar(np.arange(0,len(fib_eff_sky),1), fib_eff_sky, width=0.8, fc='blue', ec='none', alpha=0.5)\n",
    "        plt.bar(np.arange(0,len(fib_eff_star),1), fib_eff_star, width=0.8, fc='gray', ec='none', alpha=0.5)\n",
    "\n",
    "        plt.plot([0,npoint_used+1.], [80,80], 'k--', lw=2, zorder=11)\n",
    "        plt.plot([0,npoint_used+1.], [np.mean(fib_eff_gal), np.mean(fib_eff_gal)], '--', color='tomato', lw=2, zorder=11)\n",
    "        plt.plot([0,npoint_used+1.], [np.mean(fib_eff_anc), np.mean(fib_eff_anc)], '--', color='purple', lw=2, zorder=11)\n",
    "        plt.plot([0,npoint_used+1.], [np.mean(fib_eff_sky), np.mean(fib_eff_sky)], '--', color='blue', lw=2, zorder=11)\n",
    "        plt.plot([0,npoint_used+1.], [np.mean(fib_eff_star), np.mean(fib_eff_star)], '--', color='gray', lw=2, zorder=11)\n",
    "\n",
    "        plt.text(npoint_used*0.8, 100, \"cosmology--{:2.2f}%\".format(np.mean(fib_eff_gal)), color='tomato', fontsize=12)\n",
    "        plt.text(npoint_used*0.8, 92, \"ancillary--{:2.2f}%\".format(np.mean(fib_eff_anc)), color='purple', fontsize=12)\n",
    "        plt.text(npoint_used*0.8, 84, \"sky--{:2.2f}%\".format(np.mean(fib_eff_sky)), color='blue', fontsize=12)\n",
    "        plt.text(npoint_used*0.8, 76, \"star--{:2.2f}%\".format(np.mean(fib_eff_star)), color='gray', fontsize=12)\n",
    "        plt.xlim(0, npoint_used+1.)\n",
    "        plt.ylim(0, 110.)\n",
    "        plt.xlabel('Pointing', fontsize=15)\n",
    "        plt.ylabel('fiber alloc fraction', fontsize=15)\n",
    "\n",
    "        plt.savefig(fn_fig, dpi=300, bbox_inches='tight')\n",
    "        plt.show()\n",
    "        plt.close()\n",
    "        \n",
    "    return comp_out\n",
    "\n",
    "    "
   ]
  },
  {
   "cell_type": "markdown",
   "metadata": {},
   "source": [
    "## execute function"
   ]
  },
  {
   "cell_type": "code",
   "execution_count": 11,
   "metadata": {},
   "outputs": [],
   "source": [
    "# (DONE)TODO-0: plot the distribution of the cosmology, star, and sky\n",
    "# (DONE)TODO-1: make posang and otime as input parameters\n",
    "# (DONE)TODO-2: test different otime outputs of tpos and netflow\n",
    "# (DONE)TODO-3: make bench, Gurobi options as input parameters\n",
    "# TODO-4: test different Gurobi options, vis_cost, cobraMoveCost\n",
    "# TODO-5: check blackDotPenalty, collision_distance, and minSkyTargetsPerInstrumentRegion\n",
    "# TODO-6: write code to get longer exposure in the 2nd visit for some targets\n",
    "# TODO-7: test which part of the code is the bottleneck\n",
    "def execute(peaks, tgt, classdict, alreadyObserved, t_obs = 900., two_stage = False, collision_sim_version = 2, tele_params={\"otime\":\"2025-08-20T11:00:00Z\", \"posang\":0.}, bench = None, cobracoach = None, gurobiOptions = None):\n",
    "    # get a complete, idealized focal plane configuration\n",
    "    if bench is None:\n",
    "        Exception(\"bench is not defined\")\n",
    "    if cobracoach is None:\n",
    "        Exception(\"cobracoach is not defined\")\n",
    "    if gurobiOptions is None:\n",
    "        Exception(\"gurobiOptions is not defined\")\n",
    "        \n",
    "    # test_a \n",
    "    # otime = \"2025-08-20T10:00:00Z\"\n",
    "    # test_b\n",
    "    # otime = \"2025-08-20T12:00:00Z\"\n",
    "    # test_c\n",
    "    # otime = \"2025-08-20T11:00:00Z\"\n",
    "\n",
    "    raTel, decTel = peaks[:, 0], peaks[:, 1]\n",
    "    posang = tele_params[\"posang\"]\n",
    "    otime = tele_params[\"otime\"]\n",
    "    telescopes = []\n",
    "\n",
    "    # number of distinct observations\n",
    "    nvisit = len(raTel)\n",
    "\n",
    "    # generate telescope pointings for every observation\n",
    "    for ii in range(nvisit):\n",
    "        telescopes.append(nf.Telescope(raTel[ii], decTel[ii], posang, otime))\n",
    "\n",
    "    # get focal plane positions for all targets and all visits\n",
    "    tpos = [tele.get_fp_positions(tgt) for tele in telescopes]\n",
    "    \n",
    "    # optional: slightly increase the cost for later observations,\n",
    "    # to observe as early as possible\n",
    "    # test_defualt \n",
    "    vis_cost = [0.1*i for i in range(nvisit)]\n",
    "    # test_vis_cost -- no difference in the output\n",
    "    # vis_cost = [0.*i for i in range(nvisit)]\n",
    "\n",
    "    # optional: penalize assignments where the cobra has to move far out\n",
    "    def cobraMoveCost(dist):\n",
    "        # test_default\n",
    "        return 0.01*dist \n",
    "        # test_cobraMoveCost, fiber efficency is slightly lower (75.40 versus 75.44) in one of the two pointings \n",
    "        # return 0.0001*dist\n",
    "    \n",
    "    # test_default\n",
    "    # blackDotPenalty = None\n",
    "    # optional: penalize assignments near the black dots\n",
    "    # test_blackDotPenalty, note distance is in mm, same as in cobraMoveCost\n",
    "    # --- fiber efficency is different, but not in a consistent way in the two pointings\n",
    "    def blackDotPenalty(dist):\n",
    "        #return 0.\n",
    "        return 0.01*(1. - 0.5 * dist)\n",
    "\n",
    "    forbiddenPairs = []\n",
    "    for i in range(nvisit):\n",
    "        forbiddenPairs.append([])\n",
    "\n",
    "    print(\"solving the problem for stage=0 targets.\")\n",
    "    done = False\n",
    "    while not done:\n",
    "        # compute observation strategy for stage=0 targets (default: stage=0, preassigned=None)\n",
    "        prob0 = nf.buildProblem(bench, tgt, tpos, classdict, t_obs,\n",
    "                               vis_cost, cobraMoveCost=cobraMoveCost,\n",
    "                               collision_distance=2., elbow_collisions=True,\n",
    "                               gurobi=True, gurobiOptions=gurobiOptions,\n",
    "                               alreadyObserved=alreadyObserved,\n",
    "                               forbiddenPairs=forbiddenPairs, \n",
    "                               blackDotPenalty=blackDotPenalty)\n",
    "\n",
    "        prob0.solve()\n",
    "        #Obj0 = prob0._prob.objVal\n",
    "        \n",
    "        # extract solution for stage=0\n",
    "        res0 = [{} for _ in range(nvisit)]\n",
    "        for k1, v1 in prob0._vardict.items():\n",
    "            if k1.startswith(\"Tv_Cv_\"):\n",
    "                visited = prob0.value(v1) > 0\n",
    "                if visited:\n",
    "                    _, _, tidx, cidx, ivis = k1.split(\"_\")\n",
    "                    res0[int(ivis)][int(tidx)] = int(cidx)\n",
    "        #    \n",
    "        print(\"Checking for trajectory collisions\")\n",
    "        ncoll = 0\n",
    "        for ivis, (vis, tp) in enumerate(zip(res0, tpos)):\n",
    "            selectedTargets = np.full(len(bench.cobras.centers), NULL_TARGET_POSITION)\n",
    "            ids = np.full(len(bench.cobras.centers), NULL_TARGET_ID)\n",
    "            for tidx, cidx in vis.items():\n",
    "                selectedTargets[cidx] = tp[tidx]\n",
    "                ids[cidx] = \"\"\n",
    "            for i in range(selectedTargets.size):\n",
    "                if selectedTargets[i] != NULL_TARGET_POSITION:\n",
    "                    dist = np.abs(selectedTargets[i]-bench.cobras.centers[i])\n",
    "                    if dist > bench.cobras.L1[i] + bench.cobras.L2[i]:\n",
    "                        logger.warning(\n",
    "                            f\"(CobraId={i}) Distance from the center exceeds L1+L2 ({dist} mm)\"\n",
    "                        )\n",
    "\n",
    "            if collision_sim_version == 2:\n",
    "                simulator = CollisionSimulator2(bench, cobracoach, TargetGroup(selectedTargets, ids))\n",
    "            else:\n",
    "                simulator = CollisionSimulator(bench, TargetGroup(selectedTargets, ids))\n",
    "\n",
    "            simulator.run()\n",
    "            if np.any(simulator.endPointCollisions):\n",
    "                print(\"ERROR: detected %d end point collision, which should be impossible\" % simulator.nEndPointCollisions)\n",
    "\n",
    "            coll_tidx = []\n",
    "            for tidx, cidx in vis.items():\n",
    "                if simulator.collisions[cidx]:\n",
    "                    coll_tidx.append(tidx)\n",
    "            ncoll += len(coll_tidx)\n",
    "            for i1 in range(0,len(coll_tidx)):\n",
    "                found = False\n",
    "                for i2 in range(i1 + 1, len(coll_tidx)):\n",
    "                    if np.abs(tp[coll_tidx[i1]] - tp[coll_tidx[i2]])<10:\n",
    "                        forbiddenPairs[ivis].append((coll_tidx[i1],coll_tidx[i2]))\n",
    "                        found = True\n",
    "                if not found:  # not a collision between two active Cobras\n",
    "                    forbiddenPairs[ivis].append((coll_tidx[i1],))\n",
    "\n",
    "        print(\"trajectory collisions found:\", ncoll)\n",
    "        done = ncoll == 0\n",
    "        \n",
    "    print(\"Done: solving the problem for stage=0 targets.\")\n",
    "    \n",
    "    if((two_stage==False)):\n",
    "        clear_output()\n",
    "        return res0, tpos, telescopes\n",
    "    \n",
    "    ####################################\n",
    "    print(\"solving the problem for stage=1 targets.\")\n",
    "    #reset forbiddenPairs here again\n",
    "    forbiddenPairs = []\n",
    "    for i in range(nvisit):\n",
    "        forbiddenPairs.append([])\n",
    "    \n",
    "    # get preassigned_list\n",
    "    preassigned_list = [{} for _ in range(nvisit)] #list (dict(TargetID: Cobra index))\n",
    "    for i, vis in enumerate(res0):\n",
    "        for tidx, cidx in vis.items():\n",
    "            preassigned_list[i][tgt[tidx].ID] = cidx\n",
    "          \n",
    "    done = False\n",
    "    while not done:\n",
    "        #note adding stage=1 in nf.buildProblem() does not make too much difference\n",
    "        prob1 = nf.buildProblem(bench, tgt, tpos, classdict, t_obs,\n",
    "                                vis_cost, cobraMoveCost=cobraMoveCost,\n",
    "                                collision_distance=2., elbow_collisions=True,\n",
    "                                gurobi=True, gurobiOptions=gurobiOptions,\n",
    "                                alreadyObserved=alreadyObserved,\n",
    "                                forbiddenPairs=forbiddenPairs,\n",
    "                                blackDotPenalty=blackDotPenalty,\n",
    "                                stage=1, preassigned=preassigned_list)\n",
    "        \n",
    "        \n",
    "        prob1.solve()\n",
    "        #Obj1 = prob1._prob.objVal\n",
    "            \n",
    "        # extract solution for stage=1\n",
    "        res = [{} for _ in range(nvisit)]\n",
    "        for k1, v1 in prob1._vardict.items():\n",
    "            if k1.startswith(\"Tv_Cv_\"):\n",
    "                visited = prob1.value(v1) > 0\n",
    "                if visited:\n",
    "                    _, _, tidx, cidx, ivis = k1.split(\"_\")\n",
    "                    res[int(ivis)][int(tidx)] = int(cidx)\n",
    "        \n",
    "\n",
    "        print(\"Checking for trajectory collisions\")\n",
    "        ncoll = 0\n",
    "        for ivis, (vis, tp) in enumerate(zip(res, tpos)):\n",
    "            selectedTargets = np.full(len(bench.cobras.centers), NULL_TARGET_POSITION)\n",
    "            ids = np.full(len(bench.cobras.centers), NULL_TARGET_ID)\n",
    "            for tidx, cidx in vis.items():\n",
    "                selectedTargets[cidx] = tp[tidx]\n",
    "                ids[cidx] = \"\"\n",
    "            for i in range(selectedTargets.size):\n",
    "                if selectedTargets[i] != NULL_TARGET_POSITION:\n",
    "                    dist = np.abs(selectedTargets[i]-bench.cobras.centers[i])\n",
    "                    if dist > bench.cobras.L1[i] + bench.cobras.L2[i]:\n",
    "                        logger.warning(\n",
    "                            f\"(CobraId={i}) Distance from the center exceeds L1+L2 ({dist} mm)\"\n",
    "                        )\n",
    "\n",
    "            if collision_sim_version == 2:\n",
    "                simulator = CollisionSimulator2(bench, cobracoach, TargetGroup(selectedTargets, ids))\n",
    "            else:\n",
    "                simulator = CollisionSimulator(bench, TargetGroup(selectedTargets, ids))\n",
    "            simulator.run()\n",
    "            if np.any(simulator.endPointCollisions):\n",
    "                print(\"ERROR: detected %d end point collision, which should be impossible\" % simulator.nEndPointCollisions)\n",
    "            coll_tidx = []\n",
    "            for tidx, cidx in vis.items():\n",
    "                if simulator.collisions[cidx]:\n",
    "                    coll_tidx.append(tidx)\n",
    "            ncoll += len(coll_tidx)\n",
    "            for i1 in range(0,len(coll_tidx)):\n",
    "                found = False\n",
    "                for i2 in range(i1+1,len(coll_tidx)):\n",
    "                    if np.abs(tp[coll_tidx[i1]]-tp[coll_tidx[i2]])<10:\n",
    "                        forbiddenPairs[ivis].append((coll_tidx[i1],coll_tidx[i2]))\n",
    "                        found = True\n",
    "                if not found:  # not a collision between two active Cobras\n",
    "                    forbiddenPairs[ivis].append((coll_tidx[i1],))\n",
    "\n",
    "        print(\"trajectory collisions found:\", ncoll)\n",
    "        done = ncoll == 0\n",
    "        \n",
    "    print(\"Done: solving the problem for stage=1 targets.\")\n",
    "    ####################################\n",
    "    \n",
    "    '''\n",
    "    if((two_stage == True)):\n",
    "        print(\"objVal0 = %f, objVal1=%f\" % (Obj0, Obj1))   \n",
    "    else:\n",
    "        print(\"objVal0 = %f\" % (Obj0)) \n",
    "    '''\n",
    "        \n",
    "    #clear_output()\n",
    "    return res, tpos, telescopes, simulator"
   ]
  },
  {
   "cell_type": "markdown",
   "metadata": {},
   "source": [
    "## write pfsDesign file"
   ]
  },
  {
   "cell_type": "code",
   "execution_count": 4,
   "metadata": {},
   "outputs": [],
   "source": [
    "# TODO: this function is not working and can be removed later\n",
    "def write_pfsDesign(fdir_out, fn_out, res, tpos, telescopes, tgt, classdict):\n",
    "    '''write the output of fiber assignment\n",
    "    Parameters\n",
    "    ==========\n",
    "    fdir_out: string\n",
    "        output folder directory\n",
    "    fn_out: string\n",
    "        output file name\n",
    "        \n",
    "    '''\n",
    "    for i, (vis, tp, tel) in enumerate(zip(res, tpos, telescopes)):\n",
    "        io_helpers.writePfsDesign(pfsDesignDirectory=fdir_out, vis=vis, tp=tp, tel=tel, tgt=tgt, classdict=classdict)"
   ]
  },
  {
   "cell_type": "markdown",
   "metadata": {},
   "source": [
    "## plot_filter_fov function"
   ]
  },
  {
   "cell_type": "code",
   "execution_count": 4,
   "metadata": {},
   "outputs": [],
   "source": [
    "# TODO: same function as in pointings.ipynb\n",
    "def plot_filter_fov(raP, decP, raSci, decSci, PA=0, n_sci_fov_least=3000, filter_fov=True):\n",
    "    '''plot one PFS FoV (hexagon) centered at the pointing center\n",
    "    \n",
    "    NOTE\n",
    "    ==========\n",
    "    flag_fov_reserved is obtained by using a threshold of targets in the FoV\n",
    "\n",
    "    Parameters\n",
    "    ==========\n",
    "    raP, decP, PA : float\n",
    "        ra, dec, PA of the pointing center\n",
    "\n",
    "    raSci, decSci: numpy array, float\n",
    "        ra, dec of the scientific targets\n",
    "        only used to check the number of scientific targets in the FoV\n",
    "    \n",
    "    n_sci_fov_least: int\n",
    "        the least number of scientific targets in the FoV\n",
    "\n",
    "    filter_fov: Boolean\n",
    "        if True, plot/select the FoV only when there are enough scientific targets in the FoV\n",
    "\n",
    "        \n",
    "    Returns\n",
    "    =======\n",
    "    plot a hexagon at the pointing center with diameter=1.38 deg\n",
    "    \n",
    "    flag_fov_reserved: Boolean, used to remove the pointing w/o enough scientific targets \n",
    "    '''\n",
    "    \n",
    "    center = SkyCoord(raP*u.deg, decP*u.deg)\n",
    "    # PA=0 along y-axis, PA=90 along x-axis, PA=180 along -y-axis...\n",
    "    hexagon = center.directional_offset_by([0+PA, 60+PA, 120+PA, 180+PA, 240+PA, 300+PA, 360+PA]*u.deg, 1.38/2.*u.deg)\n",
    "    ra_h = hexagon.ra.deg\n",
    "    dec_h = hexagon.dec.deg\n",
    "\n",
    "    ra_h_in = np.where(np.fabs(ra_h-center.ra.deg)>180)\n",
    "    if len(ra_h_in[0])>0:\n",
    "        if ra_h[ra_h_in[0][0]]>180:ra_h[ra_h_in[0]]-=360\n",
    "        elif ra_h[ra_h_in[0][0]]<180:ra_h[ra_h_in[0]]+=360\n",
    "        #pdb.set_trace()\n",
    "\n",
    "    # scientific targets\n",
    "    point = np.vstack((raSci, decSci)).T\n",
    "    \n",
    "    # TODO: revise the polygon.contains_points for the ra near 0 and 360 cases\n",
    "    if filter_fov:\n",
    "        polygon = Path([(ra_h[t],dec_h[t]) for t in range(len(ra_h))])\n",
    "        index_ = np.where(polygon.contains_points(point)==True)[0]\n",
    "\n",
    "        if(len(index_)<n_sci_fov_least):\n",
    "            flag_fov_reserved = False\n",
    "        else:\n",
    "            flag_fov_reserved = True\n",
    "            plt.plot(ra_h, dec_h, color='r', lw=0.5, ls='-', alpha=1., zorder=5)\n",
    "    else:\n",
    "        flag_fov_reserved = True\n",
    "        plt.plot(ra_h, dec_h, color='r', lw=0.5, ls='-', alpha=1., zorder=5)\n",
    "        \n",
    "    print(\"There are %d targets in the FOV centered on (%f, %f).\" % (len(index_), raP, decP))\n",
    "    return flag_fov_reserved"
   ]
  },
  {
   "cell_type": "markdown",
   "metadata": {},
   "source": [
    "## check_output function"
   ]
  },
  {
   "cell_type": "code",
   "execution_count": 5,
   "metadata": {},
   "outputs": [],
   "source": [
    "# TODO: make this function useful for one/multiple pointings, plot the cosmology, star, sky and ancillary targets using different colors\n",
    "def plot_tgt_done(outfn_list, figname, figsize=(8, 8), plot_diffcolor=True):\n",
    "    '''\n",
    "    plot the targets that have been assigned to the fibers\n",
    "    '''\n",
    "    for i, fn_i in enumerate(outfn_list):\n",
    "        tgt_id_done, tgt_ra_done, tgt_dec_done = np.loadtxt(fn_i, usecols=(0, 4, 5), unpack=True, dtype='str')\n",
    "        tgt_ra_done, tgt_dec_done = tgt_ra_done.astype('float'), tgt_dec_done.astype('float')\n",
    "\n",
    "        mask_cos = [tgt_id_done[i][1:4] == 'Cos' for i in range(len(tgt_id_done))]\n",
    "        mask_star = [tgt_id_done[i][1:4] == 'Sta' for i in range(len(tgt_id_done))]\n",
    "        mask_sky = [tgt_id_done[i][1:4] == 'Sky' for i in range(len(tgt_id_done))]\n",
    "        mask_anc = [tgt_id_done[i][1:4] == 'Anc' for i in range(len(tgt_id_done))]\n",
    "\n",
    "        if(plot_diffcolor):\n",
    "            if(i==0): \n",
    "                plt.figure(figsize = figsize)\n",
    "                plt.plot(tgt_ra_done[mask_cos], tgt_dec_done[mask_cos], 'k.', ms=0.5, alpha=0.5, label='cosmology')\n",
    "                plt.plot(tgt_ra_done[mask_star], tgt_dec_done[mask_star], 'r*', ms=1.5, alpha=1., label='star')\n",
    "                plt.plot(tgt_ra_done[mask_sky], tgt_dec_done[mask_sky], 'b^', ms=1.5, alpha=1., label='sky')\n",
    "                plt.plot(tgt_ra_done[mask_anc], tgt_dec_done[mask_anc], 'gs', ms=1.5, alpha=1., label='ancillary')\n",
    "            else:\n",
    "                plt.plot(tgt_ra_done[mask_cos], tgt_dec_done[mask_cos], 'k.', ms=0.5, alpha=0.5)\n",
    "                plt.plot(tgt_ra_done[mask_star], tgt_dec_done[mask_star], 'r*', ms=1.5, alpha=1.)\n",
    "                plt.plot(tgt_ra_done[mask_sky], tgt_dec_done[mask_sky], 'b^', ms=1.5, alpha=1.)\n",
    "                plt.plot(tgt_ra_done[mask_anc], tgt_dec_done[mask_anc], 'gs', ms=1.5, alpha=1.)\n",
    "        else:\n",
    "            if(i==0): \n",
    "                plt.figure(figsize = figsize)\n",
    "                plt.plot(tgt_ra_done, tgt_dec_done, 'k.', ms=0.5, alpha=0.5, label='targets done')\n",
    "            else:\n",
    "                plt.plot(tgt_ra_done, tgt_dec_done, 'k.', ms=0.5, alpha=0.5)\n",
    "\n",
    "    plt.legend(loc='upper right', fontsize=15, frameon=True)\n",
    "    plt.xlabel('RA', fontsize=15)\n",
    "    plt.ylabel('DEC', fontsize=15)\n",
    "    plt.savefig(figname, dpi=300, bbox_inches='tight')\n",
    "    plt.show()\n",
    "    plt.close()"
   ]
  },
  {
   "cell_type": "markdown",
   "metadata": {},
   "source": [
    "## set bench"
   ]
  },
  {
   "cell_type": "code",
   "execution_count": 6,
   "metadata": {},
   "outputs": [],
   "source": [
    "# TODO: check with project office if the following function is correct\n",
    "# double check calibration_ga using https://github.com/Subaru-PFS/ets_pointing/blob/afa0ff9577f3077ae1fd758bb3ddd426e8d24f4d/src/pfs_design_tool/pointing_utils/nfutils.py#L47\n",
    "import pathlib\n",
    "def create_bench(layout=\"full\"):\n",
    "    '''\n",
    "    set bench using different methods\n",
    "\n",
    "    using CollisionSimulator2 for trajectory collision check when layout is not \"full\"\n",
    "    '''\n",
    "    cobra_coach_dir = \"../cobra_coach_temp/\"\n",
    "    fiberids_path = \"../pfs_utils-w.2024.45/data/fiberids/\"\n",
    "    pfs_black_dots_path = \"../pfs_instdata-1.8.14/data/pfi/dot/black_dots_mm.csv\"\n",
    "    pfs_pfi_module_path = pathlib.Path(\"../pfs_instdata-1.8.14/data/pfi/modules/ALL/ALL_final.xml\")\n",
    "    #pfs_black_dots_path = \"../pfs_instdata-1.8.8/data/pfi/dot/black_dots_mm.csv\"\n",
    "    #pfs_pfi_module_path = pathlib.Path(\"../pfs_instdata-1.8.8/data/pfi/modules/ALL/ALL_final.xml\")\n",
    "    \n",
    "    pfs_instdata_path = \"../pfs_instdata-1.8.14/\"\n",
    "    os.environ[\"PFS_INSTDATA_DIR\"] = pfs_instdata_path\n",
    "\n",
    "\n",
    "    spectrograph_modules = [1, 2, 3, 4]\n",
    "\n",
    "    # Create the cobra coach temp directory if it does not exist\n",
    "    if not os.path.isdir(cobra_coach_dir):\n",
    "        os.makedirs(cobra_coach_dir, exist_ok=True)\n",
    "    print(f\"Created cobra coach temp directory: {cobra_coach_dir}\")\n",
    "    \n",
    "\n",
    "    if layout == \"full\":\n",
    "        '''\n",
    "        use CollisionSimulator (not CollisionSimulator2) when layout is \"full\"\n",
    "        '''\n",
    "        bench = Bench(layout=\"full\")\n",
    "        cobracoach = None\n",
    "    elif layout == \"calibration\":\n",
    "        '''\n",
    "        use the same code as in GA github repository, i.e.,\n",
    "        _create_configured_bench() https://github.com/Subaru-PFS-GA/ga_targeting/blob/master/python/pfs/ga/targeting/instrument/subarupfi.py\n",
    "        '''\n",
    "        cobracoach = CobraCoach(\"fpga\", loadModel=False, trajectoryMode=True, rootDir=cobra_coach_dir)\n",
    "        cobracoach.loadModel(version=\"ALL\", moduleVersion=None)\n",
    "        calibrationProduct = cobracoach.calibModel\n",
    "\n",
    "        # Set some dummy center positions and phi angles for those cobras that have\n",
    "        # zero centers\n",
    "        zeroCenters = calibrationProduct.centers == 0\n",
    "        calibrationProduct.centers[zeroCenters] = np.arange(np.sum(zeroCenters)) * 300j\n",
    "        calibrationProduct.phiIn[zeroCenters] = -np.pi\n",
    "        calibrationProduct.phiOut[zeroCenters] = 0\n",
    "        print(\"Cobras with zero centers: %i\" % np.sum(zeroCenters))\n",
    "\n",
    "        # Use the median value link lengths in those cobras with zero link lengths\n",
    "        zeroLinkLengths = (calibrationProduct.L1 == 0) | (calibrationProduct.L2 == 0)\n",
    "        calibrationProduct.L1[zeroLinkLengths] = np.median(calibrationProduct.L1[~zeroLinkLengths])\n",
    "        calibrationProduct.L2[zeroLinkLengths] = np.median(calibrationProduct.L2[~zeroLinkLengths])\n",
    "        print(\"Cobras with zero link lengths: %i\" % np.sum(zeroLinkLengths))\n",
    "\n",
    "        # Use the median value link lengths in those cobras with too long link lengths (extra part compared to ga setting)\n",
    "        tooLongLinkLengths = np.logical_or(\n",
    "            calibrationProduct.L1 > 100, calibrationProduct.L2 > 100\n",
    "        )\n",
    "        calibrationProduct.L1[tooLongLinkLengths] = np.median(\n",
    "            calibrationProduct.L1[~tooLongLinkLengths]\n",
    "        )\n",
    "        calibrationProduct.L2[tooLongLinkLengths] = np.median(\n",
    "            calibrationProduct.L2[~tooLongLinkLengths]\n",
    "        )\n",
    "        print(\"Cobras with too long link lengths: %i\" % np.sum(tooLongLinkLengths))\n",
    "\n",
    "        # Limit spectral modules\n",
    "        gfm = FiberIds(path=fiberids_path) \n",
    "        cobra_ids_use = np.array([], dtype=np.uint16)\n",
    "        for sm in spectrograph_modules:\n",
    "            cobra_ids_use = np.append(cobra_ids_use, gfm.cobrasForSpectrograph(sm))\n",
    "\n",
    "        # Set Bad Cobra status for unused spectral modules\n",
    "        for cobra_id in range(calibrationProduct.nCobras):\n",
    "            if cobra_id not in cobra_ids_use:\n",
    "                calibrationProduct.status[cobra_id] = ~PFIDesign.COBRA_OK_MASK\n",
    "            \n",
    "        bench = Bench(\n",
    "                layout=\"calibration\",                       \n",
    "                calibrationProduct=calibrationProduct,\n",
    "                blackDotsCalibrationProduct=BlackDotsCalibrationProduct(pfs_black_dots_path)\n",
    "                )\n",
    "        \n",
    "        print(\"Number of cobras:\", bench.cobras.nCobras)\n",
    "\n",
    "    return bench, cobracoach"
   ]
  },
  {
   "cell_type": "markdown",
   "metadata": {},
   "source": [
    "## check bench and simulator results after running"
   ]
  },
  {
   "cell_type": "code",
   "execution_count": 10,
   "metadata": {},
   "outputs": [],
   "source": [
    "def check_bench_simulator(bench, simulator, vis):\n",
    "    '''\n",
    "    check the bench for the cobras\n",
    "    '''\n",
    "    mask_broken_cobras = bench.cobras.status!=1\n",
    "    bench.cobras.status[mask_broken_cobras] #1 for good cobras\n",
    "    # print number of good cobras and broken cobras\n",
    "    print(\"Number of good cobras: %d\" % np.sum(bench.cobras.status==1))\n",
    "    print(\"Number of broken cobras: %d\" % np.sum(bench.cobras.status!=1))\n",
    "    # print number of cobras\n",
    "    print(\"Number of cobras: %d\" % bench.cobras.nCobras)\n",
    "\n",
    "    # print rMin and rMax for the broken cobras\n",
    "    print(\"broken cobras e.g.: \\n\", bench.cobras.rMin[mask_broken_cobras][:10], \"\\n\", bench.cobras.rMax[mask_broken_cobras][:10])\n",
    "    print(\"good cobras e.g.: \\n\", bench.cobras.rMin[~mask_broken_cobras][:10], \"\\n\", bench.cobras.rMax[~mask_broken_cobras][:10])\n",
    "\n",
    "    # print the number of broken cobras with rMin>rMax, rMin<rMax, rMin=rMax separately\n",
    "    print(\"Number of broken cobras with rMin>rMax: %d\" % np.sum(bench.cobras.rMin[mask_broken_cobras]>bench.cobras.rMax[mask_broken_cobras]))\n",
    "    print(\"Number of broken cobras with rMin<rMax: %d\" % np.sum(bench.cobras.rMin[mask_broken_cobras]<bench.cobras.rMax[mask_broken_cobras]))\n",
    "    print(\"Number of broken cobras with rMin=rMax: %d\" % np.sum(bench.cobras.rMin[mask_broken_cobras]==bench.cobras.rMax[mask_broken_cobras]))\n",
    "\n",
    "    # check whether home0 and home1 are the same for broken cobras\n",
    "    mask_home0 = bench.cobras.home0[mask_broken_cobras]!=bench.cobras.home1[mask_broken_cobras] #note not all cobras have home0==home1\n",
    "    print(\"Number of broken cobras with home0!=home1: %d\" % np.sum(mask_home0))\n",
    "\n",
    "    mask_broken_cobras_rMin_rMax = bench.cobras.rMin[mask_broken_cobras]<bench.cobras.rMax[mask_broken_cobras]\n",
    "\n",
    "    # check the home and position of the broken cobras \n",
    "    print(\"Home0 position of the broken cobras: \\n\", bench.cobras.home0[mask_broken_cobras][~mask_broken_cobras_rMin_rMax][:5])\n",
    "    print(\"Center position of the broken cobras: \\n\", bench.cobras.centers[mask_broken_cobras][~mask_broken_cobras_rMin_rMax][:5])\n",
    "\n",
    "    print(\"Home0 position of the rMin<rMax broken cobras: \\n\", bench.cobras.home0[mask_broken_cobras][mask_broken_cobras_rMin_rMax])\n",
    "    print(\"Center position of the rMin<rMax broken cobras: \\n\", bench.cobras.centers[mask_broken_cobras][mask_broken_cobras_rMin_rMax])\n",
    "\n",
    "    # part of the code in CollisionSimulator2()\n",
    "    cobraAssociations = bench.cobraAssociations\n",
    "    linkRadius = bench.cobras.linkRadius\n",
    "\n",
    "    startPoints1 = simulator.fiberPositions[cobraAssociations[0]].ravel()\n",
    "    endPoints1 = simulator.elbowPositions[cobraAssociations[0]].ravel()\n",
    "    startPoints2 = simulator.fiberPositions[cobraAssociations[1]].ravel()\n",
    "    endPoints2 = simulator.elbowPositions[cobraAssociations[1]].ravel()\n",
    "    distances = bench.distancesBetweenLineSegments(startPoints1, endPoints1, startPoints2, endPoints2)\n",
    "\n",
    "    # Reshape the distances array\n",
    "    distances = distances.reshape((len(cobraAssociations[0]), simulator.nSteps))\n",
    "\n",
    "    # Detect trajectory collisions between cobra associations\n",
    "    minimumSeparation = linkRadius[cobraAssociations[0]] + linkRadius[cobraAssociations[1]]\n",
    "    trajectoryCollisions = distances < minimumSeparation[:, np.newaxis]\n",
    "\n",
    "    # Check which cobra associations are affected by collisions\n",
    "    simulator.associationCollisions = np.any(trajectoryCollisions, axis=1)\n",
    "    simulator.associationEndPointCollisions = trajectoryCollisions[:, -1] #last step of nSteps\n",
    "\n",
    "\n",
    "    print(\"bad cobras: \", np.where(simulator.goodCobras == False)[0])\n",
    "    cobras_bad = np.where(simulator.goodCobras == False)[0]\n",
    "\n",
    "    print(bench.cobraAssociations[:, simulator.associationEndPointCollisions])\n",
    "\n",
    "\n",
    "    cid_assigned = []\n",
    "    for tidx, cidx in vis.items():\n",
    "        cid_assigned.append(cidx)\n",
    "    cid_assigned = np.array(cid_assigned)\n",
    "\n",
    "    # check whether cobra_associations_collision in cid_assigned\n",
    "    cobra_associations_collision = bench.cobraAssociations[:, simulator.associationCollisions]\n",
    "\n",
    "    result = np.isin(cobra_associations_collision.ravel(), cid_assigned)\n",
    "    print(result)"
   ]
  },
  {
   "cell_type": "markdown",
   "metadata": {},
   "source": [
    "# main function"
   ]
  },
  {
   "cell_type": "code",
   "execution_count": 12,
   "metadata": {},
   "outputs": [],
   "source": [
    "# TODO: revise the two-stage code structure\n",
    "# NOTE: I modified this part mainly compared to the netflow_run_Jan25_test.ipynb\n",
    "def main(outdir, data_dir, update_tgt_file, pointings, prefix, field, Li_list, visit, fn_list, prefix_list, calibration_list, tele_params, bench, cobracoach, two_stage=False, gurobiOptions=None, collision_sim_version=2):\n",
    "    '''\n",
    "    main function to run the fiber assignment for the cosmology, star, and sky targets\n",
    "    '''\n",
    "    t0 = time.time()\n",
    "\n",
    "    ########################\n",
    "    \n",
    "    if(gurobiOptions is None): \n",
    "        gurobiOptions = dict(seed=0, presolve=1, method=4, degenmoves=0, heuristics=0.8, mipfocus=0, mipgap=5.e-2, LogToConsole=1)\n",
    "    \n",
    "    ########################\n",
    "    classdict = def_classdict()\n",
    "\n",
    "    ########################    \n",
    "    tgt, sample_sci = construct_tgt_list(catalog_path=data_dir, fn_list=fn_list, prefix_list=prefix_list, calibration_list=calibration_list)\n",
    "    \n",
    "    n_sci = sample_sci.shape[0]\n",
    "    ra_sci = sample_sci[:, 1].astype('float')\n",
    "    dec_sci = sample_sci[:, 2].astype('float')\n",
    "    \n",
    "\n",
    "    # set the stage of cosmology targets to be 1 (i.e. stage=0 for calibration targets to get a uniform distribution for calibration targets)\n",
    "    # TODO: use CobraGroup to get a uniform distribution for calibration targets\n",
    "    '''\n",
    "    for t in tgt:\n",
    "        if t.targetclass[:3] == 'sci': t.stage = 1\n",
    "    '''\n",
    "\n",
    "    t1 = time.time()\n",
    "    print(\"Time passed - construct target list: %.2f secs\" % (t1-t0))\n",
    "    ########################\n",
    "    # read the pointing centers from the file\n",
    "    ra_peaks, dec_peaks = pointings['ppc_ra'], pointings['ppc_dec']\n",
    "    peaks = np.array([ra_peaks, dec_peaks]).T\n",
    "    \n",
    "    # plot the pointing and samples\n",
    "    plt.figure(figsize=(6, 6))\n",
    "    print(\"  Your sample (gray), with the pointings (red):\")\n",
    "    plt.plot(ra_sci, dec_sci, 'k.', ms=0.2, alpha=0.5)\n",
    "\n",
    "    # note for bench=full, PA=0; for realistic bench setting PA=90\n",
    "    #for raP, decP in zip(peaks[:, 0], peaks[:, 1]):\n",
    "    raP, decP = peaks[0], peaks[1]\n",
    "    peaks = [peaks, ]\n",
    "    flag_fov_reserved = plot_filter_fov(raP, decP, ra_sci, dec_sci, PA=90, n_sci_fov_least=1000, filter_fov=True)\n",
    "\n",
    "    plt.xlabel('RA', fontsize=20)\n",
    "    plt.ylabel('DEC', fontsize=20)\n",
    "    plt.savefig(outdir + prefix + 'field_{}_fov_plot.png'.format(field), dpi=300, bbox_inches='tight')\n",
    "    plt.show()\n",
    "    plt.close()\n",
    "\n",
    "    t2 = time.time()\n",
    "    print(\"Time passed - read pointings and plot for a small region: %.2f secs\" % (t2-t1))\n",
    "    \n",
    "    \n",
    "    # initialize the alreadyObserved dictionary\n",
    "    alreadyObserved={}\n",
    "    for t in tgt:\n",
    "        alreadyObserved[t.ID] = 0\n",
    "        \n",
    "    # set the alreadyObserved dictionary using the alreadyObserved column in the target list (needed for the 2nd visit for sure)\n",
    "    '''\n",
    "    data_table = ascii.read(data_dir + prefix + 'field_{}_targets.ecsv'.format(field))\n",
    "    mask_done = data_table['AlreadyObserved'] == 1\n",
    "    for t in data_table['ID'][mask_done]:\n",
    "        alreadyObserved[t] = 1\n",
    "    '''\n",
    "\n",
    "    # do the run\n",
    "    fov_diag = 1.38/2. # >=half of the diameter of the FoV\n",
    "    outfn_list = []\n",
    "    tgt_id_done_list = np.array([])\n",
    "    for peak, Li in zip(peaks, Li_list):\n",
    "        # select the tgt list for the pointing\n",
    "        tgt_ra = [tgt[i].ra for i in range(len(tgt))]\n",
    "        tgt_dec = [tgt[i].dec for i in range(len(tgt))]\n",
    "        # TO-DO: deal with the case when the ra is near 0 and 360\n",
    "        mask_tgt = (tgt_ra>peak[0]-fov_diag) & (tgt_ra<peak[0]+fov_diag) & (tgt_dec>peak[1]-fov_diag) & (tgt_dec<peak[1]+fov_diag)\n",
    "        tgt_peak = np.array(tgt)[mask_tgt].tolist()\n",
    "        print(\"field - %s, %s (%f, %f): %d targets in the FoV.\" % (field, Li, peak[0], peak[1], len(tgt_peak)))\n",
    "\n",
    "        # (Done) TODO: update the alreadyObserved dictionary\n",
    "        # TODO: rewrite the write_output and cal_completeness part\n",
    "\n",
    "        # excute the fiber assignment\n",
    "        res, tpos, telescopes, simulator = execute(np.array([peak]), tgt_peak, classdict, alreadyObserved, t_obs=1800., two_stage=two_stage, collision_sim_version=collision_sim_version, bench=bench, cobracoach=cobracoach, gurobiOptions=gurobiOptions, tele_params=tele_params)\n",
    "\n",
    "        outfn = prefix + 'field_%s_%s_visit%d.txt'%(field, Li, visit)\n",
    "        write_output(tgt_peak, res, tpos, telescopes, outdir, outfn)\n",
    "\n",
    "        outfn_list.append(outdir + outfn)\n",
    "        \n",
    "        # calculate the completeness and fiber assignment fraction\n",
    "        comp_out_tmp1 = cal_completeness(tgt_peak, res, tpos, telescopes, Plot=True, fn_fig=outdir+prefix+'field_%s_%s_visit%d.jpg'%(field, Li, visit), \\\n",
    "                                        Save=True, fn_fibeff=outdir+prefix+'field_%s_%s_visit%d_fibeff.txt'%(field, Li, visit))\n",
    "        \n",
    "        # output the completeness and fiber assignment fraction\n",
    "        '''\n",
    "        data_dict = {key: [value] for key, value in comp_out_tmp1.items()}\n",
    "        df = pd.DataFrame(data_dict)\n",
    "        df.to_csv(outdir + prefix + 'field_%s_%s_visit%d_comp.txt'%(field, Li, visit), index=False)\n",
    "        print(\"comp_out_tmp1 = \", comp_out_tmp1)\n",
    "        '''\n",
    "\n",
    "        # update alreadyObserved\n",
    "        # TODO: revise the code for a more general case\n",
    "        tgt_id_done = np.loadtxt(outdir + outfn, usecols=(0, ), unpack=True, dtype='str')\n",
    "        #for t in tgt_id_done:\n",
    "        #    if(t[1:4]=='Cos'): alreadyObserved[str(t)] = 1\n",
    "\n",
    "        tgt_id_done_list = np.append(tgt_id_done_list, tgt_id_done)\n",
    "\n",
    "        print(\"%f secs passed after the visits done for field_%s_%s_visit%d.\" % (time.time()-t0, field, Li, visit))\n",
    "        \n",
    "        plot_tgt_done([outdir+outfn], outdir+'tgt_done_field_%s_%s_visit%d.jpg'%(field, Li, visit), figsize=(6, 6))\n",
    "\n",
    "        # update the AlreadyObserved column in the target list\n",
    "        # TODO: do it in a more efficient way\n",
    "        '''\n",
    "        if (update_tgt_file):\n",
    "            mask_done = np.in1d(data_table['ID'], np.array(tgt_id_done))\n",
    "            data_table['AlreadyObserved'][mask_done] = 1 \n",
    "            data_table.write(data_dir + prefix + 'field_{}_targets.ecsv'.format(field), format='ascii.ecsv', overwrite=True)\n",
    "            print('Update the AlreadyObserved column in ', data_dir + prefix + 'field_{}_targets.ecsv'.format(field))\n",
    "        '''\n",
    "\n",
    "        return simulator\n",
    "     "
   ]
  },
  {
   "cell_type": "markdown",
   "metadata": {},
   "source": [
    "# run"
   ]
  },
  {
   "cell_type": "code",
   "execution_count": 13,
   "metadata": {},
   "outputs": [],
   "source": [
    "from astropy.io import fits, ascii\n",
    "def read_proc_pointings_Jan25(fdir, outdir, prefix, field):\n",
    "    # read the orginal pointings\n",
    "    pointings = ascii.read(fdir + prefix + '_field-{}_pointings_v1.csv'.format(field))\n",
    "    # save the pointings[::4] to a new file\n",
    "    \n",
    "    # shift the pointing centers by a small amount\n",
    "    pointings['ppc_ra'] -= 0.05 \n",
    "    if(field == 'e'):\n",
    "        pointings['ppc_ra'] -= 0.05 \n",
    "    ascii.write(pointings[::4], outdir + 'field_{}_pointings.csv'.format(field), format='csv', overwrite=True)\n",
    "\n",
    "    return pointings[::4]"
   ]
  },
  {
   "cell_type": "code",
   "execution_count": 9,
   "metadata": {},
   "outputs": [
    {
     "name": "stdout",
     "output_type": "stream",
     "text": [
      "Created cobra coach temp directory: ../cobra_coach_temp/\n"
     ]
    },
    {
     "name": "stderr",
     "output_type": "stream",
     "text": [
      "2025-02-05 21:46:59.016Z cobraCoach       30 cobraCoach.py:164 setting invisible cobras: [173, 648, 799, 853, 949, 1173, 1653, 1724, 2182]\n",
      "2025-02-05 21:46:59.321Z cobraCoach       30 cobraCoach.py:175 setting bad cobras: [47, 50, 173, 193, 347, 361, 648, 754, 799, 821, 853, 949, 1150, 1173, 1208, 1210, 1520, 1580, 1653, 1724, 1791, 1825, 1836, 1882, 1903, 2053, 2182, 2352, 2380]\n",
      "2025-02-05 21:46:59.349Z cobraCoach       20 cobraCoach.py:273 cc connecting to fpga....\n",
      "2025-02-05 21:46:59.360Z butler           30 butler.py:59 newRun: ../cobra_coach_temp/20250205_001\n"
     ]
    },
    {
     "name": "stdout",
     "output_type": "stream",
     "text": [
      "Cobras with zero centers: 0\n",
      "Cobras with zero link lengths: 0\n",
      "Cobras with too long link lengths: 0\n",
      "Number of cobras: 2394\n"
     ]
    }
   ],
   "source": [
    "bench, cobracoach = create_bench(layout=\"calibration\")"
   ]
  },
  {
   "cell_type": "code",
   "execution_count": 14,
   "metadata": {},
   "outputs": [
    {
     "name": "stdout",
     "output_type": "stream",
     "text": [
      "       ppc_code             ppc_ra       ppc_dec ... ppc_resolution ppc_priority\n",
      "--------------------- ------------------ ------- ... -------------- ------------\n",
      "pointing_flda_L1_exp0 37.050000000000004    -3.8 ...              L          0.0\n",
      "pointing_flda_L3_exp0               37.1    -5.2 ...              L          0.1\n",
      "pointing_flda_L4_exp0 35.800000000000004    -3.8 ...              L          0.2\n",
      "construct target list:\n",
      "../../output/Jan25/final_nf_input/field_a_L1_visit1_final_targets.ecsv\n",
      "In total, there are 2225 targets.\n",
      "Time passed - construct target list: 0.18 secs\n",
      "  Your sample (gray), with the pointings (red):\n",
      "There are 2173 targets in the FOV centered on (37.050000, -3.800000).\n"
     ]
    },
    {
     "data": {
      "image/png": "[encoded data removed]",
      "text/plain": [
       "<Figure size 600x600 with 1 Axes>"
      ]
     },
     "metadata": {},
     "output_type": "display_data"
    },
    {
     "name": "stderr",
     "output_type": "stream",
     "text": [
      "2025-02-05 21:48:24.445Z root             10 CoordTransp.py:306 0.0\n",
      "2025-02-05 21:48:24.448Z root             20 DistortionCoefficients.py:688 2016.0\n",
      "2025-02-05 21:48:24.451Z root             10 DistortionCoefficients.py:690 9.062970568104038 yr\n",
      "2025-02-05 21:48:24.454Z root             10 DistortionCoefficients.py:701 1e-08 mas\n",
      "/Users/jing/anaconda3/lib/python3.10/site-packages/erfa/core.py:154: ErfaWarning: ERFA function \"pmsafe\" yielded 1 of \"distance overridden (Note 6)\"\n",
      "  warnings.warn('ERFA function \"{}\" yielded {}'.format(func_name, wmsg),\n",
      "2025-02-05 21:48:24.534Z root             20 DistortionCoefficients.py:709 Ra Dec = (37.050000000000004 -3.8) : original\n",
      "2025-02-05 21:48:24.543Z root             20 DistortionCoefficients.py:711 PM = (0.0 mas / yr 0.0 mas / yr)\n",
      "2025-02-05 21:48:24.546Z root             20 DistortionCoefficients.py:713 Ra Dec = (37.05000000000002 -3.8) : applied proper motion\n",
      "2025-02-05 21:48:24.548Z root             20 DistortionCoefficients.py:715 Ra Dec = (37.36558607418318 -3.688882678667123) : applied presession\n",
      "2025-02-05 21:48:24.629Z root             20 CoordTransp.py:312 FoV center: Ra,Dec=([37.05] [-3.8]) is Az,El,InR=(222.01905364414284 59.36285974437612 39.125864525389346)\n"
     ]
    },
    {
     "name": "stdout",
     "output_type": "stream",
     "text": [
      "Time passed - read pointings and plot for a small region: 1.06 secs\n",
      "field - a, L1 (37.050000, -3.800000): 2225 targets in the FoV.\n"
     ]
    },
    {
     "name": "stderr",
     "output_type": "stream",
     "text": [
      "/Users/jing/anaconda3/lib/python3.10/site-packages/erfa/core.py:154: ErfaWarning: ERFA function \"pmsafe\" yielded 2225 of \"distance overridden (Note 6)\"\n",
      "  warnings.warn('ERFA function \"{}\" yielded {}'.format(func_name, wmsg),\n",
      "2025-02-05 21:48:24.741Z root             20 CoordTransp.py:84 Zenith angle for your field should be 30.637140255623883\n",
      "2025-02-05 21:48:24.747Z root             20 CoordTransp.py:163 Correct extra distortion @ tel -- skipped\n",
      "2025-02-05 21:48:24.748Z root             20 CoordTransp.py:164 Before: x= [-122.19916744 -137.3647436  -176.09796746 -195.72605342 -137.4848157\n",
      " -166.98003362 -148.21916258 -148.92748503 -174.22643984 -180.157547\n",
      " -142.93035414], y=[110.95046184  71.73554494  98.46367417  77.3445752  104.34991664\n",
      "  75.29943247  70.64407357 118.65493147 111.99460232  87.50487618\n",
      "  84.49351882]\n",
      "2025-02-05 21:48:24.752Z root             20 CoordTransp.py:167 correct by -1.0\n",
      "2025-02-05 21:48:24.758Z root             20 CoordTransp.py:170 After: x= [-122.20012944 -137.3703944  -176.09986787 -195.72846244 -137.48706207\n",
      " -166.98524642 -148.22514888 -148.92790017 -174.22657977 -180.1605092\n",
      " -142.9349166 ], y=[110.94702477  71.72934008  98.45227097  77.33096613 104.34428316\n",
      "  75.28965781  70.63656879 118.6474098  111.98303568  87.49315121\n",
      "  84.48693778]\n",
      "2025-02-05 21:48:24.760Z root             20 CoordTransp.py:173 Telescope to PFI\n"
     ]
    },
    {
     "name": "stdout",
     "output_type": "stream",
     "text": [
      "solving the problem for stage=0 targets.\n",
      "Set parameter Presolve to value 1\n"
     ]
    },
    {
     "name": "stderr",
     "output_type": "stream",
     "text": [
      "2025-02-05 21:48:24.764Z gurobipy         20 netflow.py:117 Set parameter Presolve to value 1\n"
     ]
    },
    {
     "name": "stdout",
     "output_type": "stream",
     "text": [
      "Set parameter Method to value 4\n"
     ]
    },
    {
     "name": "stderr",
     "output_type": "stream",
     "text": [
      "2025-02-05 21:48:24.766Z gurobipy         20 netflow.py:117 Set parameter Method to value 4\n"
     ]
    },
    {
     "name": "stdout",
     "output_type": "stream",
     "text": [
      "Set parameter DegenMoves to value 0\n"
     ]
    },
    {
     "name": "stderr",
     "output_type": "stream",
     "text": [
      "2025-02-05 21:48:24.770Z gurobipy         20 netflow.py:117 Set parameter DegenMoves to value 0\n"
     ]
    },
    {
     "name": "stdout",
     "output_type": "stream",
     "text": [
      "Set parameter Heuristics to value 0.8\n"
     ]
    },
    {
     "name": "stderr",
     "output_type": "stream",
     "text": [
      "2025-02-05 21:48:24.773Z gurobipy         20 netflow.py:117 Set parameter Heuristics to value 0.8\n"
     ]
    },
    {
     "name": "stdout",
     "output_type": "stream",
     "text": [
      "Set parameter MIPGap to value 0.5\n"
     ]
    },
    {
     "name": "stderr",
     "output_type": "stream",
     "text": [
      "2025-02-05 21:48:24.775Z gurobipy         20 netflow.py:117 Set parameter MIPGap to value 0.5\n"
     ]
    },
    {
     "name": "stdout",
     "output_type": "stream",
     "text": [
      "Creating network topology\n",
      "  exposure 1\n",
      "Calculating visibilities\n",
      "adding constraints\n",
      "adding collision constraints\n",
      "adding forbidden pair constraints\n",
      "Gurobi Optimizer version 10.0.1 build v10.0.1rc0 (mac64[x86])\n"
     ]
    },
    {
     "name": "stderr",
     "output_type": "stream",
     "text": [
      "2025-02-05 21:48:26.055Z gurobipy         20 netflow.py:149 Gurobi Optimizer version 10.0.1 build v10.0.1rc0 (mac64[x86])\n"
     ]
    },
    {
     "name": "stdout",
     "output_type": "stream",
     "text": [
      "\n"
     ]
    },
    {
     "name": "stderr",
     "output_type": "stream",
     "text": [
      "2025-02-05 21:48:26.058Z gurobipy         20 netflow.py:149 \n"
     ]
    },
    {
     "name": "stdout",
     "output_type": "stream",
     "text": [
      "CPU model: Intel(R) Core(TM) i7-8569U CPU @ 2.80GHz\n"
     ]
    },
    {
     "name": "stderr",
     "output_type": "stream",
     "text": [
      "2025-02-05 21:48:26.059Z gurobipy         20 netflow.py:149 CPU model: Intel(R) Core(TM) i7-8569U CPU @ 2.80GHz\n"
     ]
    },
    {
     "name": "stdout",
     "output_type": "stream",
     "text": [
      "Thread count: 4 physical cores, 8 logical processors, using up to 8 threads\n"
     ]
    },
    {
     "name": "stderr",
     "output_type": "stream",
     "text": [
      "2025-02-05 21:48:26.062Z gurobipy         20 netflow.py:149 Thread count: 4 physical cores, 8 logical processors, using up to 8 threads\n"
     ]
    },
    {
     "name": "stdout",
     "output_type": "stream",
     "text": [
      "\n"
     ]
    },
    {
     "name": "stderr",
     "output_type": "stream",
     "text": [
      "2025-02-05 21:48:26.065Z gurobipy         20 netflow.py:149 \n"
     ]
    },
    {
     "name": "stdout",
     "output_type": "stream",
     "text": [
      "Academic license 2379863 - for non-commercial use only - registered to ji___@ipmu.jp\n"
     ]
    },
    {
     "name": "stderr",
     "output_type": "stream",
     "text": [
      "2025-02-05 21:48:26.080Z gurobipy         20 netflow.py:149 Academic license 2379863 - for non-commercial use only - registered to ji___@ipmu.jp\n"
     ]
    },
    {
     "name": "stdout",
     "output_type": "stream",
     "text": [
      "Optimize a model with 7300 rows, 9215 columns and 17467 nonzeros\n"
     ]
    },
    {
     "name": "stderr",
     "output_type": "stream",
     "text": [
      "2025-02-05 21:48:26.084Z gurobipy         20 netflow.py:149 Optimize a model with 7300 rows, 9215 columns and 17467 nonzeros\n"
     ]
    },
    {
     "name": "stdout",
     "output_type": "stream",
     "text": [
      "Model fingerprint: 0x5db3727c\n"
     ]
    },
    {
     "name": "stderr",
     "output_type": "stream",
     "text": [
      "2025-02-05 21:48:26.093Z gurobipy         20 netflow.py:149 Model fingerprint: 0x5db3727c\n"
     ]
    },
    {
     "name": "stdout",
     "output_type": "stream",
     "text": [
      "Variable types: 1 continuous, 9214 integer (6988 binary)\n"
     ]
    },
    {
     "name": "stderr",
     "output_type": "stream",
     "text": [
      "2025-02-05 21:48:26.097Z gurobipy         20 netflow.py:149 Variable types: 1 continuous, 9214 integer (6988 binary)\n"
     ]
    },
    {
     "name": "stdout",
     "output_type": "stream",
     "text": [
      "Coefficient statistics:\n"
     ]
    },
    {
     "name": "stderr",
     "output_type": "stream",
     "text": [
      "2025-02-05 21:48:26.100Z gurobipy         20 netflow.py:149 Coefficient statistics:\n"
     ]
    },
    {
     "name": "stdout",
     "output_type": "stream",
     "text": [
      "  Matrix range     [1e+00, 1e+00]\n"
     ]
    },
    {
     "name": "stderr",
     "output_type": "stream",
     "text": [
      "2025-02-05 21:48:26.103Z gurobipy         20 netflow.py:149   Matrix range     [1e+00, 1e+00]\n"
     ]
    },
    {
     "name": "stdout",
     "output_type": "stream",
     "text": [
      "  Objective range  [1e-05, 1e+06]\n"
     ]
    },
    {
     "name": "stderr",
     "output_type": "stream",
     "text": [
      "2025-02-05 21:48:26.124Z gurobipy         20 netflow.py:149   Objective range  [1e-05, 1e+06]\n"
     ]
    },
    {
     "name": "stdout",
     "output_type": "stream",
     "text": [
      "  Bounds range     [1e+00, 1e+00]\n"
     ]
    },
    {
     "name": "stderr",
     "output_type": "stream",
     "text": [
      "2025-02-05 21:48:26.130Z gurobipy         20 netflow.py:149   Bounds range     [1e+00, 1e+00]\n"
     ]
    },
    {
     "name": "stdout",
     "output_type": "stream",
     "text": [
      "  RHS range        [1e+00, 2e+03]\n"
     ]
    },
    {
     "name": "stderr",
     "output_type": "stream",
     "text": [
      "2025-02-05 21:48:26.132Z gurobipy         20 netflow.py:149   RHS range        [1e+00, 2e+03]\n"
     ]
    },
    {
     "name": "stdout",
     "output_type": "stream",
     "text": [
      "Found heuristic solution: objective 890000.00000\n"
     ]
    },
    {
     "name": "stderr",
     "output_type": "stream",
     "text": [
      "2025-02-05 21:48:26.147Z gurobipy         20 netflow.py:149 Found heuristic solution: objective 890000.00000\n"
     ]
    },
    {
     "name": "stdout",
     "output_type": "stream",
     "text": [
      "Presolve removed 7300 rows and 9215 columns\n"
     ]
    },
    {
     "name": "stderr",
     "output_type": "stream",
     "text": [
      "2025-02-05 21:48:26.180Z gurobipy         20 netflow.py:149 Presolve removed 7300 rows and 9215 columns\n"
     ]
    },
    {
     "name": "stdout",
     "output_type": "stream",
     "text": [
      "Presolve time: 0.02s\n"
     ]
    },
    {
     "name": "stderr",
     "output_type": "stream",
     "text": [
      "2025-02-05 21:48:26.183Z gurobipy         20 netflow.py:149 Presolve time: 0.02s\n"
     ]
    },
    {
     "name": "stdout",
     "output_type": "stream",
     "text": [
      "Presolve: All rows and columns removed\n"
     ]
    },
    {
     "name": "stderr",
     "output_type": "stream",
     "text": [
      "2025-02-05 21:48:26.200Z gurobipy         20 netflow.py:149 Presolve: All rows and columns removed\n"
     ]
    },
    {
     "name": "stdout",
     "output_type": "stream",
     "text": [
      "\n"
     ]
    },
    {
     "name": "stderr",
     "output_type": "stream",
     "text": [
      "2025-02-05 21:48:26.209Z gurobipy         20 netflow.py:149 \n"
     ]
    },
    {
     "name": "stdout",
     "output_type": "stream",
     "text": [
      "Explored 0 nodes (0 simplex iterations) in 0.14 seconds (0.01 work units)\n"
     ]
    },
    {
     "name": "stderr",
     "output_type": "stream",
     "text": [
      "2025-02-05 21:48:26.212Z gurobipy         20 netflow.py:149 Explored 0 nodes (0 simplex iterations) in 0.14 seconds (0.01 work units)\n"
     ]
    },
    {
     "name": "stdout",
     "output_type": "stream",
     "text": [
      "Thread count was 1 (of 8 available processors)\n"
     ]
    },
    {
     "name": "stderr",
     "output_type": "stream",
     "text": [
      "2025-02-05 21:48:26.215Z gurobipy         20 netflow.py:149 Thread count was 1 (of 8 available processors)\n"
     ]
    },
    {
     "name": "stdout",
     "output_type": "stream",
     "text": [
      "\n"
     ]
    },
    {
     "name": "stderr",
     "output_type": "stream",
     "text": [
      "2025-02-05 21:48:26.220Z gurobipy         20 netflow.py:149 \n"
     ]
    },
    {
     "name": "stdout",
     "output_type": "stream",
     "text": [
      "Solution count 2: 80.81 890000 \n"
     ]
    },
    {
     "name": "stderr",
     "output_type": "stream",
     "text": [
      "2025-02-05 21:48:26.226Z gurobipy         20 netflow.py:149 Solution count 2: 80.81 890000 \n"
     ]
    },
    {
     "name": "stdout",
     "output_type": "stream",
     "text": [
      "\n"
     ]
    },
    {
     "name": "stderr",
     "output_type": "stream",
     "text": [
      "2025-02-05 21:48:26.229Z gurobipy         20 netflow.py:149 \n"
     ]
    },
    {
     "name": "stdout",
     "output_type": "stream",
     "text": [
      "Optimal solution found (tolerance 5.00e-01)\n"
     ]
    },
    {
     "name": "stderr",
     "output_type": "stream",
     "text": [
      "2025-02-05 21:48:26.230Z gurobipy         20 netflow.py:149 Optimal solution found (tolerance 5.00e-01)\n"
     ]
    },
    {
     "name": "stdout",
     "output_type": "stream",
     "text": [
      "Best objective 8.080997540147e+01, best bound 8.080997540147e+01, gap 0.0000%\n"
     ]
    },
    {
     "name": "stderr",
     "output_type": "stream",
     "text": [
      "2025-02-05 21:48:26.249Z gurobipy         20 netflow.py:149 Best objective 8.080997540147e+01, best bound 8.080997540147e+01, gap 0.0000%\n"
     ]
    },
    {
     "name": "stdout",
     "output_type": "stream",
     "text": [
      "Checking for trajectory collisions\n"
     ]
    },
    {
     "name": "stderr",
     "output_type": "stream",
     "text": [
      "2025-02-05 21:48:26.349Z pfi              40 pfi.py:896 Some theta angles are out of range\n",
      "2025-02-05 21:48:26.350Z pfi              40 pfi.py:899 Some phi angles are out of range\n",
      "2025-02-05 21:48:26.480Z pfi              40 pfi.py:899 Some phi angles are out of range\n",
      "2025-02-05 21:48:26.511Z pfi              40 pfi.py:899 Some phi angles are out of range\n",
      "2025-02-05 21:48:26.514Z engineer         20 engineer.py:395 Move theta arms to angle=[234.56 193.52  52.3  ... 195.95 185.96 149.31] degree\n",
      "2025-02-05 21:48:26.516Z engineer         20 engineer.py:396 Move phi arms to angle=[61.09 74.48 63.06 ...  4.19 46.96 59.16] degree\n",
      "2025-02-05 21:48:26.517Z engineer         20 engineer.py:398 Checking passed homed argument = True\n",
      "2025-02-05 21:48:26.522Z engineer         20 engineer.py:402 Move theta arms CW and phi arms CCW to the hard stops\n",
      "2025-02-05 21:48:26.564Z cobraCoach       20 cobraCoach.py:1065 home cobras: theta=10000, phi=-5000\n",
      "2025-02-05 21:48:26.593Z pfi              40 pfi.py:899 Some phi angles are out of range\n",
      "2025-02-05 21:48:26.620Z pfi              40 pfi.py:899 Some phi angles are out of range\n",
      "2025-02-05 21:48:26.625Z engineer         20 engineer.py:412 Sending angles to moveToAngles for 0-th iteration\n",
      "2025-02-05 21:48:26.654Z cobraCoach       20 cobraCoach.py:1009 Moving deltaTheta = [-2.48393826 -3.28773018 -5.72648142 ... -3.26921295 -3.4389715\n",
      " -4.09316432]\n",
      "2025-02-05 21:48:26.655Z cobraCoach       20 cobraCoach.py:1010 Moving deltaPhi = [1.06627911 1.29989723 1.10060917 ... 0.07318876 0.81956825 1.03245348]\n",
      "2025-02-05 21:48:26.956Z cobraCoach       20 cobraCoach.py:877 Finished converting angle to steps, sending command to moveSteps (constantOntime).\n",
      "2025-02-05 21:48:27.727Z cobraCoach       20 cobraCoach.py:587 Sending step numbers to FPGA for moving cobra.\n",
      "2025-02-05 21:48:27.907Z cobraCoach       20 cobraCoach.py:601 cobra control FPGA operation done.\n",
      "2025-02-05 21:48:27.932Z pfi              40 pfi.py:896 Some theta angles are out of range\n",
      "2025-02-05 21:48:27.933Z pfi              40 pfi.py:899 Some phi angles are out of range\n",
      "/Users/jing/anaconda3/lib/python3.10/site-packages/ics/cobraCharmer/pfi.py:1010: RuntimeWarning: invalid value encountered in arccos\n",
      "  ang1 = np.arccos((L1Sq[i] + L2Sq[i] - distanceSq[i]) / (2 * L1[i] * L2[i]))\n",
      "2025-02-05 21:48:28.045Z cobraCoach       30 cobraCoach.py:675 Cobra#344 is too far from center\n",
      "2025-02-05 21:48:28.048Z cobraCoach       30 cobraCoach.py:675 Cobra#443 is too far from center\n",
      "2025-02-05 21:48:28.051Z cobraCoach       30 cobraCoach.py:675 Cobra#493 is too far from center\n",
      "2025-02-05 21:48:28.075Z cobraCoach       30 cobraCoach.py:675 Cobra#1303 is too far from center\n",
      "2025-02-05 21:48:28.085Z cobraCoach       30 cobraCoach.py:675 Cobra#1637 is too far from center\n",
      "2025-02-05 21:48:28.094Z cobraCoach       30 cobraCoach.py:675 Cobra#1790 is too far from center\n",
      "2025-02-05 21:48:28.095Z cobraCoach       30 cobraCoach.py:675 Cobra#1792 is too far from center\n",
      "2025-02-05 21:48:28.115Z engineer         20 engineer.py:422 Updating the cobra information\n",
      "2025-02-05 21:48:28.120Z engineer         20 engineer.py:436 done: [   0    1    2 ... 2391 2392 2393], 22 left\n",
      "2025-02-05 21:48:28.123Z engineer         20 engineer.py:412 Sending angles to moveToAngles for 1-th iteration\n",
      "2025-02-05 21:48:28.128Z cobraCoach       30 cobraCoach.py:1003 Last phi angle is unknown, not moving: [1459]\n",
      "2025-02-05 21:48:28.129Z cobraCoach       20 cobraCoach.py:1009 Moving deltaTheta = [-8.16600932e-02 -1.01748456e-05 -1.01748456e-05  1.38443578e-03\n",
      " -1.01748456e-05 -7.50873949e-01 -1.01748456e-05  8.60839376e-04\n",
      " -1.01748456e-05  1.92722815e-03 -1.01748456e-05 -1.01748455e-05\n",
      " -1.01748456e-05 -1.01748455e-05 -2.37486314e+00 -1.01748456e-05\n",
      " -1.01748456e-05 -4.76690506e-01  1.42495362e-03 -1.68609444e-03\n",
      " -1.74164049e-03 -1.31128127e+00]\n",
      "2025-02-05 21:48:28.130Z cobraCoach       20 cobraCoach.py:1010 Moving deltaPhi = [ 1.03441731e-02 -6.10865247e+00 -6.10865247e+00  1.13732656e-03\n",
      " -6.10865247e+00  4.46740806e-01 -2.96705959e+00  1.27360761e-03\n",
      " -6.10865247e+00  1.08450700e-03  0.00000000e+00 -2.96705964e+00\n",
      " -2.96705969e+00 -6.10865247e+00 -1.00350185e-03 -6.10865247e+00\n",
      " -6.10865247e+00  4.47339679e-01  1.01864682e-03 -1.00561225e-03\n",
      " -8.43970539e-04  3.18500621e-01]\n",
      "2025-02-05 21:48:28.134Z cobraCoach       30 cobraCoach.py:846 Last phi angle is unknown: [1459]\n",
      "2025-02-05 21:48:28.141Z cobraCoach       20 cobraCoach.py:877 Finished converting angle to steps, sending command to moveSteps (constantOntime).\n",
      "2025-02-05 21:48:28.159Z cobraCoach       20 cobraCoach.py:587 Sending step numbers to FPGA for moving cobra.\n",
      "2025-02-05 21:48:28.162Z cobraCoach       20 cobraCoach.py:601 cobra control FPGA operation done.\n",
      "2025-02-05 21:48:28.190Z pfi              40 pfi.py:896 Some theta angles are out of range\n",
      "2025-02-05 21:48:28.191Z pfi              40 pfi.py:899 Some phi angles are out of range\n",
      "2025-02-05 21:48:28.293Z cobraCoach       30 cobraCoach.py:675 Cobra#344 is too far from center\n",
      "2025-02-05 21:48:28.294Z cobraCoach       30 cobraCoach.py:679 Cobra#1460 is too close to center\n",
      "2025-02-05 21:48:28.294Z cobraCoach       30 cobraCoach.py:675 Cobra#1637 is too far from center\n",
      "2025-02-05 21:48:28.297Z cobraCoach       30 cobraCoach.py:675 Cobra#1790 is too far from center\n",
      "2025-02-05 21:48:28.299Z engineer         20 engineer.py:422 Updating the cobra information\n",
      "2025-02-05 21:48:28.302Z engineer         20 engineer.py:436 done: [ 170  450  683 1078 1447 1989 2014 2030 2184 2264], 12 left\n",
      "2025-02-05 21:48:28.305Z engineer         30 engineer.py:445 12 cobras did not finish: [ 343  442  492  737 1302 1459 1493 1538 1636 1729 1789 1791], [4.67 4.67 4.67 4.67 4.67 0.82 4.67 4.67 4.67 0.29 4.67 4.67]\n",
      "2025-02-05 21:48:28.307Z engineer         20 engineer.py:450 Returning 2394 atThetas and 2394 atPhis\n",
      "2025-02-05 21:48:28.368Z pfi              40 pfi.py:899 Some phi angles are out of range\n",
      "2025-02-05 21:48:28.372Z engineer         20 engineer.py:395 Move theta arms to angle=[210.89 193.38  38.64 ... 195.95 185.96 139.95] degree\n",
      "2025-02-05 21:48:28.373Z engineer         20 engineer.py:396 Move phi arms to angle=[108.44  74.75  90.38 ...   4.19  46.96  77.88] degree\n",
      "2025-02-05 21:48:28.374Z engineer         20 engineer.py:398 Checking passed homed argument = False\n",
      "2025-02-05 21:48:28.375Z engineer         20 engineer.py:412 Sending angles to moveToAngles for 0-th iteration\n",
      "2025-02-05 21:48:28.405Z cobraCoach       20 cobraCoach.py:1009 Moving deltaTheta = [-4.12188580e-01 -2.97667414e-03 -2.37679680e-01 ...  6.57805335e-04\n",
      "  9.68196578e-05 -1.64525272e-01]\n",
      "2025-02-05 21:48:28.406Z cobraCoach       20 cobraCoach.py:1010 Moving deltaPhi = [8.25349648e-01 4.64299155e-03 4.77458305e-01 ... 7.61926699e-04\n",
      " 1.20968773e-04 3.26607892e-01]\n",
      "2025-02-05 21:48:28.607Z cobraCoach       20 cobraCoach.py:877 Finished converting angle to steps, sending command to moveSteps (constantOntime).\n",
      "2025-02-05 21:48:28.946Z cobraCoach       20 cobraCoach.py:587 Sending step numbers to FPGA for moving cobra.\n",
      "2025-02-05 21:48:29.094Z cobraCoach       20 cobraCoach.py:601 cobra control FPGA operation done.\n",
      "2025-02-05 21:48:29.119Z pfi              40 pfi.py:896 Some theta angles are out of range\n",
      "2025-02-05 21:48:29.121Z pfi              40 pfi.py:899 Some phi angles are out of range\n",
      "2025-02-05 21:48:29.264Z cobraCoach       30 cobraCoach.py:675 Cobra#1303 is too far from center\n",
      "2025-02-05 21:48:29.278Z cobraCoach       30 cobraCoach.py:675 Cobra#1790 is too far from center\n",
      "2025-02-05 21:48:29.296Z engineer         20 engineer.py:422 Updating the cobra information\n",
      "2025-02-05 21:48:29.299Z engineer         20 engineer.py:436 done: [   0    1    2 ... 2391 2392 2393], 12 left\n",
      "2025-02-05 21:48:29.300Z engineer         20 engineer.py:412 Sending angles to moveToAngles for 1-th iteration\n",
      "2025-02-05 21:48:29.302Z cobraCoach       30 cobraCoach.py:1003 Last phi angle is unknown, not moving: [1459]\n",
      "2025-02-05 21:48:29.305Z cobraCoach       20 cobraCoach.py:1009 Moving deltaTheta = [-1.94233989e-04 -5.14191722e-04 -6.14804362e-04 -1.01748456e-05\n",
      "  2.69975771e-06 -1.01748456e-05 -1.01748455e-05 -1.01748456e-05\n",
      " -1.03632841e-03 -2.39464219e-02 -1.01748456e-05 -3.80200480e-04]\n",
      "2025-02-05 21:48:29.306Z cobraCoach       20 cobraCoach.py:1010 Moving deltaPhi = [-2.96687409e+00 -2.96705963e+00 -2.96705960e+00 -2.96705959e+00\n",
      " -6.10865247e+00  0.00000000e+00 -2.96705964e+00 -2.96705969e+00\n",
      " -2.96602327e+00 -1.00350185e-03 -6.10865247e+00 -2.96705960e+00]\n",
      "2025-02-05 21:48:29.311Z cobraCoach       30 cobraCoach.py:846 Last phi angle is unknown: [1459]\n",
      "2025-02-05 21:48:29.316Z cobraCoach       20 cobraCoach.py:877 Finished converting angle to steps, sending command to moveSteps (constantOntime).\n",
      "2025-02-05 21:48:29.327Z cobraCoach       20 cobraCoach.py:587 Sending step numbers to FPGA for moving cobra.\n",
      "2025-02-05 21:48:29.329Z cobraCoach       20 cobraCoach.py:601 cobra control FPGA operation done.\n",
      "2025-02-05 21:48:29.363Z pfi              40 pfi.py:896 Some theta angles are out of range\n",
      "2025-02-05 21:48:29.368Z pfi              40 pfi.py:899 Some phi angles are out of range\n",
      "2025-02-05 21:48:29.530Z cobraCoach       30 cobraCoach.py:675 Cobra#344 is too far from center\n",
      "2025-02-05 21:48:29.533Z cobraCoach       30 cobraCoach.py:679 Cobra#1460 is too close to center\n",
      "2025-02-05 21:48:29.537Z engineer         20 engineer.py:422 Updating the cobra information\n",
      "2025-02-05 21:48:29.540Z engineer         20 engineer.py:436 done: [1729], 11 left\n",
      "2025-02-05 21:48:29.541Z engineer         20 engineer.py:412 Sending angles to moveToAngles for 2-th iteration\n",
      "2025-02-05 21:48:29.545Z cobraCoach       20 cobraCoach.py:1009 Moving deltaTheta = [-1.94233989e-04 -5.14191722e-04 -6.14804362e-04 -1.01748456e-05\n",
      " -1.09852569e+00 -1.01748456e-05 -1.01748455e-05 -1.01748456e-05\n",
      " -1.03632841e-03 -1.07143418e+00 -3.80200480e-04]\n",
      "2025-02-05 21:48:29.547Z cobraCoach       20 cobraCoach.py:1010 Moving deltaPhi = [-6.10865247 -2.96705963 -2.9670596  -2.96705959 -1.71883189 -2.96705973\n",
      " -2.96705964 -2.96705969 -2.96705964 -1.88389766 -2.9670596 ]\n",
      "2025-02-05 21:48:29.551Z cobraCoach       20 cobraCoach.py:877 Finished converting angle to steps, sending command to moveSteps (constantOntime).\n",
      "2025-02-05 21:48:29.562Z cobraCoach       20 cobraCoach.py:587 Sending step numbers to FPGA for moving cobra.\n",
      "2025-02-05 21:48:29.566Z cobraCoach       20 cobraCoach.py:601 cobra control FPGA operation done.\n",
      "2025-02-05 21:48:29.606Z pfi              40 pfi.py:896 Some theta angles are out of range\n",
      "2025-02-05 21:48:29.607Z pfi              40 pfi.py:899 Some phi angles are out of range\n",
      "2025-02-05 21:48:29.730Z cobraCoach       30 cobraCoach.py:675 Cobra#1303 is too far from center\n",
      "2025-02-05 21:48:29.732Z cobraCoach       30 cobraCoach.py:675 Cobra#1790 is too far from center\n",
      "2025-02-05 21:48:29.735Z engineer         20 engineer.py:422 Updating the cobra information\n",
      "2025-02-05 21:48:29.738Z engineer         20 engineer.py:412 Sending angles to moveToAngles for 3-th iteration\n",
      "2025-02-05 21:48:29.740Z cobraCoach       30 cobraCoach.py:1003 Last phi angle is unknown, not moving: [1459]\n",
      "2025-02-05 21:48:29.742Z cobraCoach       20 cobraCoach.py:1009 Moving deltaTheta = [-3.21863813e-01 -5.14191722e-04 -6.14804362e-04 -1.01748456e-05\n",
      " -6.82685060e-01 -1.01748456e-05 -1.01748455e-05 -1.01748456e-05\n",
      " -1.03632841e-03 -3.25590772e-01 -3.80200480e-04]\n",
      "2025-02-05 21:48:29.748Z cobraCoach       20 cobraCoach.py:1010 Moving deltaPhi = [-2.64219266 -2.96705963 -2.9670596  -2.96705959 -6.10865247  0.\n",
      " -2.96705964 -2.96705969 -2.96705964 -6.10865247 -2.9670596 ]\n",
      "2025-02-05 21:48:29.754Z cobraCoach       30 cobraCoach.py:846 Last phi angle is unknown: [1459]\n",
      "2025-02-05 21:48:29.758Z cobraCoach       20 cobraCoach.py:877 Finished converting angle to steps, sending command to moveSteps (constantOntime).\n",
      "2025-02-05 21:48:29.773Z cobraCoach       20 cobraCoach.py:587 Sending step numbers to FPGA for moving cobra.\n",
      "2025-02-05 21:48:29.780Z cobraCoach       20 cobraCoach.py:601 cobra control FPGA operation done.\n",
      "2025-02-05 21:48:29.824Z pfi              40 pfi.py:896 Some theta angles are out of range\n",
      "2025-02-05 21:48:29.826Z pfi              40 pfi.py:899 Some phi angles are out of range\n",
      "2025-02-05 21:48:29.931Z pfi              30 pfi.py:475 clipping scale adjustment from 0.23809397596583146 to 0.3\n",
      "2025-02-05 21:48:29.932Z cobraCoach       30 cobraCoach.py:679 Cobra#1460 is too close to center\n",
      "2025-02-05 21:48:29.935Z engineer         20 engineer.py:422 Updating the cobra information\n",
      "2025-02-05 21:48:29.937Z engineer         20 engineer.py:412 Sending angles to moveToAngles for 4-th iteration\n",
      "2025-02-05 21:48:29.939Z cobraCoach       20 cobraCoach.py:1009 Moving deltaTheta = [-2.17122172e-04 -5.14191722e-04 -6.14804362e-04 -1.01748456e-05\n",
      "  4.51698156e+00 -1.01748456e-05 -1.01748455e-05 -1.01748456e-05\n",
      " -1.03632841e-03  5.00301130e+00 -3.80200480e-04]\n",
      "2025-02-05 21:48:29.941Z cobraCoach       20 cobraCoach.py:1010 Moving deltaPhi = [-2.96705965 -2.96705963 -2.9670596  -2.96705959 -1.71883189 -2.96705973\n",
      " -2.96705964 -2.96705969 -2.96705964 -1.88389766 -2.9670596 ]\n",
      "2025-02-05 21:48:29.944Z cobraCoach       20 cobraCoach.py:877 Finished converting angle to steps, sending command to moveSteps (constantOntime).\n",
      "2025-02-05 21:48:29.953Z cobraCoach       20 cobraCoach.py:587 Sending step numbers to FPGA for moving cobra.\n",
      "2025-02-05 21:48:29.955Z cobraCoach       20 cobraCoach.py:601 cobra control FPGA operation done.\n",
      "2025-02-05 21:48:29.982Z pfi              40 pfi.py:896 Some theta angles are out of range\n",
      "2025-02-05 21:48:29.983Z pfi              40 pfi.py:899 Some phi angles are out of range\n",
      "2025-02-05 21:48:30.085Z cobraCoach       30 cobraCoach.py:675 Cobra#1790 is too far from center\n",
      "2025-02-05 21:48:30.087Z engineer         20 engineer.py:422 Updating the cobra information\n",
      "2025-02-05 21:48:30.089Z engineer         20 engineer.py:412 Sending angles to moveToAngles for 5-th iteration\n",
      "2025-02-05 21:48:30.093Z cobraCoach       30 cobraCoach.py:1003 Last phi angle is unknown, not moving: [1459]\n",
      "2025-02-05 21:48:30.094Z cobraCoach       20 cobraCoach.py:1009 Moving deltaTheta = [-2.17122172e-04 -5.14191722e-04 -6.14804362e-04 -1.01748456e-05\n",
      " -4.10811338e-03 -1.01748456e-05 -1.01748455e-05 -1.01748456e-05\n",
      " -1.03632841e-03  7.85623389e-01 -3.80200480e-04]\n",
      "2025-02-05 21:48:30.095Z cobraCoach       20 cobraCoach.py:1010 Moving deltaPhi = [-2.96705965 -2.96705963 -2.9670596  -2.96705959 -2.96705962  0.\n",
      " -2.96705964 -2.96705969 -2.96705964 -6.10865247 -2.9670596 ]\n",
      "2025-02-05 21:48:30.098Z cobraCoach       30 cobraCoach.py:846 Last phi angle is unknown: [1459]\n",
      "2025-02-05 21:48:30.105Z cobraCoach       20 cobraCoach.py:877 Finished converting angle to steps, sending command to moveSteps (constantOntime).\n",
      "2025-02-05 21:48:30.114Z cobraCoach       20 cobraCoach.py:587 Sending step numbers to FPGA for moving cobra.\n",
      "2025-02-05 21:48:30.123Z cobraCoach       20 cobraCoach.py:601 cobra control FPGA operation done.\n",
      "2025-02-05 21:48:30.163Z pfi              40 pfi.py:896 Some theta angles are out of range\n",
      "2025-02-05 21:48:30.164Z pfi              40 pfi.py:899 Some phi angles are out of range\n",
      "2025-02-05 21:48:30.275Z pfi              30 pfi.py:475 clipping scale adjustment from 0.2250489700875823 to 0.3\n",
      "2025-02-05 21:48:30.276Z cobraCoach       30 cobraCoach.py:679 Cobra#1460 is too close to center\n",
      "2025-02-05 21:48:30.278Z pfi              30 pfi.py:475 clipping scale adjustment from 0.29092853552090214 to 0.3\n",
      "2025-02-05 21:48:30.280Z engineer         20 engineer.py:422 Updating the cobra information\n",
      "2025-02-05 21:48:30.284Z engineer         30 engineer.py:445 11 cobras did not finish: [ 343  442  492  737 1302 1459 1493 1538 1636 1789 1791], [4.67 4.67 4.67 4.67 4.67 0.82 4.67 4.67 4.67 4.2  4.67]\n",
      "2025-02-05 21:48:30.288Z engineer         20 engineer.py:450 Returning 2394 atThetas and 2394 atPhis\n",
      "2025-02-05 21:48:30.322Z pfi              40 pfi.py:896 Some theta angles are out of range\n",
      "2025-02-05 21:48:30.326Z pfi              40 pfi.py:899 Some phi angles are out of range\n",
      "2025-02-05 21:48:30.431Z pfi              40 pfi.py:896 Some theta angles are out of range\n",
      "2025-02-05 21:48:30.433Z pfi              40 pfi.py:899 Some phi angles are out of range\n",
      "2025-02-05 21:48:30.509Z pfi              40 pfi.py:896 Some theta angles are out of range\n",
      "2025-02-05 21:48:30.511Z pfi              40 pfi.py:899 Some phi angles are out of range\n",
      "2025-02-05 21:48:30.563Z pfi              40 pfi.py:896 Some theta angles are out of range\n",
      "2025-02-05 21:48:30.564Z pfi              40 pfi.py:899 Some phi angles are out of range\n",
      "2025-02-05 21:48:30.615Z pfi              40 pfi.py:896 Some theta angles are out of range\n",
      "2025-02-05 21:48:30.616Z pfi              40 pfi.py:899 Some phi angles are out of range\n",
      "2025-02-05 21:48:30.668Z pfi              40 pfi.py:896 Some theta angles are out of range\n",
      "2025-02-05 21:48:30.671Z pfi              40 pfi.py:899 Some phi angles are out of range\n",
      "2025-02-05 21:48:30.723Z pfi              40 pfi.py:896 Some theta angles are out of range\n",
      "2025-02-05 21:48:30.725Z pfi              40 pfi.py:899 Some phi angles are out of range\n",
      "2025-02-05 21:48:30.781Z pfi              40 pfi.py:896 Some theta angles are out of range\n",
      "2025-02-05 21:48:30.782Z pfi              40 pfi.py:899 Some phi angles are out of range\n",
      "2025-02-05 21:48:30.848Z pfi              40 pfi.py:930 Some theta angles are out of range\n",
      "2025-02-05 21:48:30.915Z pfi              40 pfi.py:930 Some theta angles are out of range\n",
      "2025-02-05 21:48:30.976Z pfi              40 pfi.py:930 Some theta angles are out of range\n",
      "2025-02-05 21:48:31.027Z pfi              40 pfi.py:930 Some theta angles are out of range\n",
      "2025-02-05 21:48:31.074Z pfi              40 pfi.py:930 Some theta angles are out of range\n",
      "2025-02-05 21:48:31.121Z pfi              40 pfi.py:930 Some theta angles are out of range\n",
      "2025-02-05 21:48:31.161Z pfi              40 pfi.py:930 Some theta angles are out of range\n",
      "2025-02-05 21:48:31.197Z pfi              40 pfi.py:930 Some theta angles are out of range\n"
     ]
    },
    {
     "name": "stdout",
     "output_type": "stream",
     "text": [
      "ERROR: detected 13 end point collision, which should be impossible\n",
      "trajectory collisions found: 0\n",
      "Done: solving the problem for stage=0 targets.\n",
      "solving the problem for stage=1 targets.\n",
      "Set parameter Presolve to value 1\n"
     ]
    },
    {
     "name": "stderr",
     "output_type": "stream",
     "text": [
      "2025-02-05 21:48:35.445Z gurobipy         20 netflow.py:117 Set parameter Presolve to value 1\n"
     ]
    },
    {
     "name": "stdout",
     "output_type": "stream",
     "text": [
      "Set parameter Method to value 4\n"
     ]
    },
    {
     "name": "stderr",
     "output_type": "stream",
     "text": [
      "2025-02-05 21:48:35.446Z gurobipy         20 netflow.py:117 Set parameter Method to value 4\n"
     ]
    },
    {
     "name": "stdout",
     "output_type": "stream",
     "text": [
      "Set parameter DegenMoves to value 0\n"
     ]
    },
    {
     "name": "stderr",
     "output_type": "stream",
     "text": [
      "2025-02-05 21:48:35.448Z gurobipy         20 netflow.py:117 Set parameter DegenMoves to value 0\n"
     ]
    },
    {
     "name": "stdout",
     "output_type": "stream",
     "text": [
      "Set parameter Heuristics to value 0.8\n"
     ]
    },
    {
     "name": "stderr",
     "output_type": "stream",
     "text": [
      "2025-02-05 21:48:35.451Z gurobipy         20 netflow.py:117 Set parameter Heuristics to value 0.8\n"
     ]
    },
    {
     "name": "stdout",
     "output_type": "stream",
     "text": [
      "Set parameter MIPGap to value 0.5\n"
     ]
    },
    {
     "name": "stderr",
     "output_type": "stream",
     "text": [
      "2025-02-05 21:48:35.454Z gurobipy         20 netflow.py:117 Set parameter MIPGap to value 0.5\n"
     ]
    },
    {
     "name": "stdout",
     "output_type": "stream",
     "text": [
      "Creating network topology\n",
      "  exposure 1\n",
      "Calculating visibilities\n",
      "adding constraints\n",
      "adding collision constraints\n",
      "adding forbidden pair constraints\n",
      "Gurobi Optimizer version 10.0.1 build v10.0.1rc0 (mac64[x86])\n"
     ]
    },
    {
     "name": "stderr",
     "output_type": "stream",
     "text": [
      "2025-02-05 21:48:36.696Z gurobipy         20 netflow.py:149 Gurobi Optimizer version 10.0.1 build v10.0.1rc0 (mac64[x86])\n"
     ]
    },
    {
     "name": "stdout",
     "output_type": "stream",
     "text": [
      "\n"
     ]
    },
    {
     "name": "stderr",
     "output_type": "stream",
     "text": [
      "2025-02-05 21:48:36.699Z gurobipy         20 netflow.py:149 \n"
     ]
    },
    {
     "name": "stdout",
     "output_type": "stream",
     "text": [
      "CPU model: Intel(R) Core(TM) i7-8569U CPU @ 2.80GHz\n"
     ]
    },
    {
     "name": "stderr",
     "output_type": "stream",
     "text": [
      "2025-02-05 21:48:36.703Z gurobipy         20 netflow.py:149 CPU model: Intel(R) Core(TM) i7-8569U CPU @ 2.80GHz\n"
     ]
    },
    {
     "name": "stdout",
     "output_type": "stream",
     "text": [
      "Thread count: 4 physical cores, 8 logical processors, using up to 8 threads\n"
     ]
    },
    {
     "name": "stderr",
     "output_type": "stream",
     "text": [
      "2025-02-05 21:48:36.705Z gurobipy         20 netflow.py:149 Thread count: 4 physical cores, 8 logical processors, using up to 8 threads\n"
     ]
    },
    {
     "name": "stdout",
     "output_type": "stream",
     "text": [
      "\n"
     ]
    },
    {
     "name": "stderr",
     "output_type": "stream",
     "text": [
      "2025-02-05 21:48:36.707Z gurobipy         20 netflow.py:149 \n"
     ]
    },
    {
     "name": "stdout",
     "output_type": "stream",
     "text": [
      "Academic license 2379863 - for non-commercial use only - registered to ji___@ipmu.jp\n"
     ]
    },
    {
     "name": "stderr",
     "output_type": "stream",
     "text": [
      "2025-02-05 21:48:36.730Z gurobipy         20 netflow.py:149 Academic license 2379863 - for non-commercial use only - registered to ji___@ipmu.jp\n"
     ]
    },
    {
     "name": "stdout",
     "output_type": "stream",
     "text": [
      "Optimize a model with 9525 rows, 9215 columns and 19692 nonzeros\n"
     ]
    },
    {
     "name": "stderr",
     "output_type": "stream",
     "text": [
      "2025-02-05 21:48:36.732Z gurobipy         20 netflow.py:149 Optimize a model with 9525 rows, 9215 columns and 19692 nonzeros\n"
     ]
    },
    {
     "name": "stdout",
     "output_type": "stream",
     "text": [
      "Model fingerprint: 0x2c2a49a0\n"
     ]
    },
    {
     "name": "stderr",
     "output_type": "stream",
     "text": [
      "2025-02-05 21:48:36.734Z gurobipy         20 netflow.py:149 Model fingerprint: 0x2c2a49a0\n"
     ]
    },
    {
     "name": "stdout",
     "output_type": "stream",
     "text": [
      "Variable types: 1 continuous, 9214 integer (6988 binary)\n"
     ]
    },
    {
     "name": "stderr",
     "output_type": "stream",
     "text": [
      "2025-02-05 21:48:36.741Z gurobipy         20 netflow.py:149 Variable types: 1 continuous, 9214 integer (6988 binary)\n"
     ]
    },
    {
     "name": "stdout",
     "output_type": "stream",
     "text": [
      "Coefficient statistics:\n"
     ]
    },
    {
     "name": "stderr",
     "output_type": "stream",
     "text": [
      "2025-02-05 21:48:36.744Z gurobipy         20 netflow.py:149 Coefficient statistics:\n"
     ]
    },
    {
     "name": "stdout",
     "output_type": "stream",
     "text": [
      "  Matrix range     [1e+00, 1e+00]\n"
     ]
    },
    {
     "name": "stderr",
     "output_type": "stream",
     "text": [
      "2025-02-05 21:48:36.746Z gurobipy         20 netflow.py:149   Matrix range     [1e+00, 1e+00]\n"
     ]
    },
    {
     "name": "stdout",
     "output_type": "stream",
     "text": [
      "  Objective range  [1e-05, 1e+06]\n"
     ]
    },
    {
     "name": "stderr",
     "output_type": "stream",
     "text": [
      "2025-02-05 21:48:36.748Z gurobipy         20 netflow.py:149   Objective range  [1e-05, 1e+06]\n"
     ]
    },
    {
     "name": "stdout",
     "output_type": "stream",
     "text": [
      "  Bounds range     [1e+00, 1e+00]\n"
     ]
    },
    {
     "name": "stderr",
     "output_type": "stream",
     "text": [
      "2025-02-05 21:48:36.751Z gurobipy         20 netflow.py:149   Bounds range     [1e+00, 1e+00]\n"
     ]
    },
    {
     "name": "stdout",
     "output_type": "stream",
     "text": [
      "  RHS range        [1e+00, 2e+03]\n"
     ]
    },
    {
     "name": "stderr",
     "output_type": "stream",
     "text": [
      "2025-02-05 21:48:36.765Z gurobipy         20 netflow.py:149   RHS range        [1e+00, 2e+03]\n"
     ]
    },
    {
     "name": "stdout",
     "output_type": "stream",
     "text": [
      "Found heuristic solution: objective 80.8099754\n"
     ]
    },
    {
     "name": "stderr",
     "output_type": "stream",
     "text": [
      "2025-02-05 21:48:36.774Z gurobipy         20 netflow.py:149 Found heuristic solution: objective 80.8099754\n"
     ]
    },
    {
     "name": "stdout",
     "output_type": "stream",
     "text": [
      "Presolve removed 9525 rows and 9215 columns\n"
     ]
    },
    {
     "name": "stderr",
     "output_type": "stream",
     "text": [
      "2025-02-05 21:48:36.794Z gurobipy         20 netflow.py:149 Presolve removed 9525 rows and 9215 columns\n"
     ]
    },
    {
     "name": "stdout",
     "output_type": "stream",
     "text": [
      "Presolve time: 0.02s\n"
     ]
    },
    {
     "name": "stderr",
     "output_type": "stream",
     "text": [
      "2025-02-05 21:48:36.800Z gurobipy         20 netflow.py:149 Presolve time: 0.02s\n"
     ]
    },
    {
     "name": "stdout",
     "output_type": "stream",
     "text": [
      "Presolve: All rows and columns removed\n"
     ]
    },
    {
     "name": "stderr",
     "output_type": "stream",
     "text": [
      "2025-02-05 21:48:36.814Z gurobipy         20 netflow.py:149 Presolve: All rows and columns removed\n"
     ]
    },
    {
     "name": "stdout",
     "output_type": "stream",
     "text": [
      "\n"
     ]
    },
    {
     "name": "stderr",
     "output_type": "stream",
     "text": [
      "2025-02-05 21:48:36.826Z gurobipy         20 netflow.py:149 \n"
     ]
    },
    {
     "name": "stdout",
     "output_type": "stream",
     "text": [
      "Explored 0 nodes (0 simplex iterations) in 0.11 seconds (0.01 work units)\n"
     ]
    },
    {
     "name": "stderr",
     "output_type": "stream",
     "text": [
      "2025-02-05 21:48:36.827Z gurobipy         20 netflow.py:149 Explored 0 nodes (0 simplex iterations) in 0.11 seconds (0.01 work units)\n"
     ]
    },
    {
     "name": "stdout",
     "output_type": "stream",
     "text": [
      "Thread count was 1 (of 8 available processors)\n"
     ]
    },
    {
     "name": "stderr",
     "output_type": "stream",
     "text": [
      "2025-02-05 21:48:36.829Z gurobipy         20 netflow.py:149 Thread count was 1 (of 8 available processors)\n"
     ]
    },
    {
     "name": "stdout",
     "output_type": "stream",
     "text": [
      "\n"
     ]
    },
    {
     "name": "stderr",
     "output_type": "stream",
     "text": [
      "2025-02-05 21:48:36.831Z gurobipy         20 netflow.py:149 \n"
     ]
    },
    {
     "name": "stdout",
     "output_type": "stream",
     "text": [
      "Solution count 1: 80.81 \n"
     ]
    },
    {
     "name": "stderr",
     "output_type": "stream",
     "text": [
      "2025-02-05 21:48:36.833Z gurobipy         20 netflow.py:149 Solution count 1: 80.81 \n"
     ]
    },
    {
     "name": "stdout",
     "output_type": "stream",
     "text": [
      "\n"
     ]
    },
    {
     "name": "stderr",
     "output_type": "stream",
     "text": [
      "2025-02-05 21:48:36.843Z gurobipy         20 netflow.py:149 \n"
     ]
    },
    {
     "name": "stdout",
     "output_type": "stream",
     "text": [
      "Optimal solution found (tolerance 5.00e-01)\n"
     ]
    },
    {
     "name": "stderr",
     "output_type": "stream",
     "text": [
      "2025-02-05 21:48:36.847Z gurobipy         20 netflow.py:149 Optimal solution found (tolerance 5.00e-01)\n"
     ]
    },
    {
     "name": "stdout",
     "output_type": "stream",
     "text": [
      "Best objective 8.080997540147e+01, best bound 8.080997540147e+01, gap 0.0000%\n"
     ]
    },
    {
     "name": "stderr",
     "output_type": "stream",
     "text": [
      "2025-02-05 21:48:36.850Z gurobipy         20 netflow.py:149 Best objective 8.080997540147e+01, best bound 8.080997540147e+01, gap 0.0000%\n"
     ]
    },
    {
     "name": "stdout",
     "output_type": "stream",
     "text": [
      "Checking for trajectory collisions\n"
     ]
    },
    {
     "name": "stderr",
     "output_type": "stream",
     "text": [
      "2025-02-05 21:48:36.965Z pfi              40 pfi.py:896 Some theta angles are out of range\n",
      "2025-02-05 21:48:36.966Z pfi              40 pfi.py:899 Some phi angles are out of range\n",
      "2025-02-05 21:48:37.098Z pfi              40 pfi.py:899 Some phi angles are out of range\n",
      "2025-02-05 21:48:37.136Z pfi              40 pfi.py:899 Some phi angles are out of range\n",
      "2025-02-05 21:48:37.140Z engineer         20 engineer.py:395 Move theta arms to angle=[234.56 193.52  52.3  ... 195.95 185.96 149.31] degree\n",
      "2025-02-05 21:48:37.141Z engineer         20 engineer.py:396 Move phi arms to angle=[61.09 74.48 63.06 ...  4.19 46.96 59.16] degree\n",
      "2025-02-05 21:48:37.141Z engineer         20 engineer.py:398 Checking passed homed argument = True\n",
      "2025-02-05 21:48:37.142Z engineer         20 engineer.py:402 Move theta arms CW and phi arms CCW to the hard stops\n",
      "2025-02-05 21:48:37.168Z cobraCoach       20 cobraCoach.py:1065 home cobras: theta=10000, phi=-5000\n",
      "2025-02-05 21:48:37.193Z pfi              40 pfi.py:899 Some phi angles are out of range\n",
      "2025-02-05 21:48:37.216Z pfi              40 pfi.py:899 Some phi angles are out of range\n",
      "2025-02-05 21:48:37.218Z engineer         20 engineer.py:412 Sending angles to moveToAngles for 0-th iteration\n",
      "2025-02-05 21:48:37.243Z cobraCoach       20 cobraCoach.py:1009 Moving deltaTheta = [-2.48393826 -3.28773018 -5.72648142 ... -3.26921295 -3.4389715\n",
      " -4.09316432]\n",
      "2025-02-05 21:48:37.244Z cobraCoach       20 cobraCoach.py:1010 Moving deltaPhi = [1.06627911 1.29989723 1.10060917 ... 0.07318876 0.81956825 1.03245348]\n",
      "2025-02-05 21:48:37.503Z cobraCoach       20 cobraCoach.py:877 Finished converting angle to steps, sending command to moveSteps (constantOntime).\n",
      "2025-02-05 21:48:38.151Z cobraCoach       20 cobraCoach.py:587 Sending step numbers to FPGA for moving cobra.\n",
      "2025-02-05 21:48:38.261Z cobraCoach       20 cobraCoach.py:601 cobra control FPGA operation done.\n",
      "2025-02-05 21:48:38.285Z pfi              40 pfi.py:896 Some theta angles are out of range\n",
      "2025-02-05 21:48:38.286Z pfi              40 pfi.py:899 Some phi angles are out of range\n",
      "2025-02-05 21:48:38.391Z cobraCoach       30 cobraCoach.py:675 Cobra#344 is too far from center\n",
      "2025-02-05 21:48:38.393Z cobraCoach       30 cobraCoach.py:675 Cobra#443 is too far from center\n",
      "2025-02-05 21:48:38.396Z cobraCoach       30 cobraCoach.py:675 Cobra#493 is too far from center\n",
      "2025-02-05 21:48:38.416Z cobraCoach       30 cobraCoach.py:675 Cobra#1303 is too far from center\n",
      "2025-02-05 21:48:38.426Z cobraCoach       30 cobraCoach.py:675 Cobra#1637 is too far from center\n",
      "2025-02-05 21:48:38.432Z cobraCoach       30 cobraCoach.py:675 Cobra#1790 is too far from center\n",
      "2025-02-05 21:48:38.433Z cobraCoach       30 cobraCoach.py:675 Cobra#1792 is too far from center\n",
      "2025-02-05 21:48:38.453Z engineer         20 engineer.py:422 Updating the cobra information\n",
      "2025-02-05 21:48:38.459Z engineer         20 engineer.py:436 done: [   0    1    2 ... 2391 2392 2393], 22 left\n",
      "2025-02-05 21:48:38.460Z engineer         20 engineer.py:412 Sending angles to moveToAngles for 1-th iteration\n",
      "2025-02-05 21:48:38.462Z cobraCoach       30 cobraCoach.py:1003 Last phi angle is unknown, not moving: [1459]\n",
      "2025-02-05 21:48:38.465Z cobraCoach       20 cobraCoach.py:1009 Moving deltaTheta = [-8.16600932e-02 -1.01748456e-05 -1.01748456e-05  1.38443578e-03\n",
      " -1.01748456e-05 -7.50873949e-01 -1.01748456e-05  8.60839376e-04\n",
      " -1.01748456e-05  1.92722815e-03 -1.01748456e-05 -1.01748455e-05\n",
      " -1.01748456e-05 -1.01748455e-05 -2.37486314e+00 -1.01748456e-05\n",
      " -1.01748456e-05 -4.76690506e-01  1.42495362e-03 -1.68609444e-03\n",
      " -1.74164049e-03 -1.31128127e+00]\n",
      "2025-02-05 21:48:38.466Z cobraCoach       20 cobraCoach.py:1010 Moving deltaPhi = [ 1.03441731e-02 -6.10865247e+00 -6.10865247e+00  1.13732656e-03\n",
      " -6.10865247e+00  4.46740806e-01 -2.96705959e+00  1.27360761e-03\n",
      " -6.10865247e+00  1.08450700e-03  0.00000000e+00 -2.96705964e+00\n",
      " -2.96705969e+00 -6.10865247e+00 -1.00350185e-03 -6.10865247e+00\n",
      " -6.10865247e+00  4.47339679e-01  1.01864682e-03 -1.00561225e-03\n",
      " -8.43970539e-04  3.18500621e-01]\n",
      "2025-02-05 21:48:38.471Z cobraCoach       30 cobraCoach.py:846 Last phi angle is unknown: [1459]\n",
      "2025-02-05 21:48:38.477Z cobraCoach       20 cobraCoach.py:877 Finished converting angle to steps, sending command to moveSteps (constantOntime).\n",
      "2025-02-05 21:48:38.488Z cobraCoach       20 cobraCoach.py:587 Sending step numbers to FPGA for moving cobra.\n",
      "2025-02-05 21:48:38.493Z cobraCoach       20 cobraCoach.py:601 cobra control FPGA operation done.\n",
      "2025-02-05 21:48:38.521Z pfi              40 pfi.py:896 Some theta angles are out of range\n",
      "2025-02-05 21:48:38.522Z pfi              40 pfi.py:899 Some phi angles are out of range\n",
      "2025-02-05 21:48:38.624Z cobraCoach       30 cobraCoach.py:675 Cobra#344 is too far from center\n",
      "2025-02-05 21:48:38.625Z cobraCoach       30 cobraCoach.py:679 Cobra#1460 is too close to center\n",
      "2025-02-05 21:48:38.625Z cobraCoach       30 cobraCoach.py:675 Cobra#1637 is too far from center\n",
      "2025-02-05 21:48:38.627Z cobraCoach       30 cobraCoach.py:675 Cobra#1790 is too far from center\n",
      "2025-02-05 21:48:38.629Z engineer         20 engineer.py:422 Updating the cobra information\n",
      "2025-02-05 21:48:38.633Z engineer         20 engineer.py:436 done: [ 170  450  683 1078 1447 1989 2014 2030 2184 2264], 12 left\n",
      "2025-02-05 21:48:38.634Z engineer         30 engineer.py:445 12 cobras did not finish: [ 343  442  492  737 1302 1459 1493 1538 1636 1729 1789 1791], [4.67 4.67 4.67 4.67 4.67 0.82 4.67 4.67 4.67 0.29 4.67 4.67]\n",
      "2025-02-05 21:48:38.635Z engineer         20 engineer.py:450 Returning 2394 atThetas and 2394 atPhis\n",
      "2025-02-05 21:48:38.666Z pfi              40 pfi.py:899 Some phi angles are out of range\n",
      "2025-02-05 21:48:38.668Z engineer         20 engineer.py:395 Move theta arms to angle=[210.89 193.38  38.64 ... 195.95 185.96 139.95] degree\n",
      "2025-02-05 21:48:38.671Z engineer         20 engineer.py:396 Move phi arms to angle=[108.44  74.75  90.38 ...   4.19  46.96  77.88] degree\n",
      "2025-02-05 21:48:38.672Z engineer         20 engineer.py:398 Checking passed homed argument = False\n",
      "2025-02-05 21:48:38.674Z engineer         20 engineer.py:412 Sending angles to moveToAngles for 0-th iteration\n",
      "2025-02-05 21:48:38.699Z cobraCoach       20 cobraCoach.py:1009 Moving deltaTheta = [-4.12188580e-01 -2.97667414e-03 -2.37679680e-01 ...  6.57805335e-04\n",
      "  9.68196578e-05 -1.64525272e-01]\n",
      "2025-02-05 21:48:38.700Z cobraCoach       20 cobraCoach.py:1010 Moving deltaPhi = [8.25349648e-01 4.64299155e-03 4.77458305e-01 ... 7.61926699e-04\n",
      " 1.20968773e-04 3.26607892e-01]\n",
      "2025-02-05 21:48:38.889Z cobraCoach       20 cobraCoach.py:877 Finished converting angle to steps, sending command to moveSteps (constantOntime).\n",
      "2025-02-05 21:48:39.182Z cobraCoach       20 cobraCoach.py:587 Sending step numbers to FPGA for moving cobra.\n",
      "2025-02-05 21:48:39.292Z cobraCoach       20 cobraCoach.py:601 cobra control FPGA operation done.\n",
      "2025-02-05 21:48:39.315Z pfi              40 pfi.py:896 Some theta angles are out of range\n",
      "2025-02-05 21:48:39.316Z pfi              40 pfi.py:899 Some phi angles are out of range\n",
      "2025-02-05 21:48:39.630Z cobraCoach       30 cobraCoach.py:675 Cobra#1303 is too far from center\n",
      "2025-02-05 21:48:39.644Z cobraCoach       30 cobraCoach.py:675 Cobra#1790 is too far from center\n",
      "2025-02-05 21:48:39.665Z engineer         20 engineer.py:422 Updating the cobra information\n",
      "2025-02-05 21:48:39.667Z engineer         20 engineer.py:436 done: [   0    1    2 ... 2391 2392 2393], 12 left\n",
      "2025-02-05 21:48:39.668Z engineer         20 engineer.py:412 Sending angles to moveToAngles for 1-th iteration\n",
      "2025-02-05 21:48:39.671Z cobraCoach       30 cobraCoach.py:1003 Last phi angle is unknown, not moving: [1459]\n",
      "2025-02-05 21:48:39.672Z cobraCoach       20 cobraCoach.py:1009 Moving deltaTheta = [-1.94233989e-04 -5.14191722e-04 -6.14804362e-04 -1.01748456e-05\n",
      "  2.69975771e-06 -1.01748456e-05 -1.01748455e-05 -1.01748456e-05\n",
      " -1.03632841e-03 -2.39464219e-02 -1.01748456e-05 -3.80200480e-04]\n",
      "2025-02-05 21:48:39.674Z cobraCoach       20 cobraCoach.py:1010 Moving deltaPhi = [-2.96687409e+00 -2.96705963e+00 -2.96705960e+00 -2.96705959e+00\n",
      " -6.10865247e+00  0.00000000e+00 -2.96705964e+00 -2.96705969e+00\n",
      " -2.96602327e+00 -1.00350185e-03 -6.10865247e+00 -2.96705960e+00]\n",
      "2025-02-05 21:48:39.677Z cobraCoach       30 cobraCoach.py:846 Last phi angle is unknown: [1459]\n",
      "2025-02-05 21:48:39.681Z cobraCoach       20 cobraCoach.py:877 Finished converting angle to steps, sending command to moveSteps (constantOntime).\n",
      "2025-02-05 21:48:39.688Z cobraCoach       20 cobraCoach.py:587 Sending step numbers to FPGA for moving cobra.\n",
      "2025-02-05 21:48:39.692Z cobraCoach       20 cobraCoach.py:601 cobra control FPGA operation done.\n",
      "2025-02-05 21:48:39.719Z pfi              40 pfi.py:896 Some theta angles are out of range\n",
      "2025-02-05 21:48:39.721Z pfi              40 pfi.py:899 Some phi angles are out of range\n",
      "2025-02-05 21:48:39.836Z cobraCoach       30 cobraCoach.py:675 Cobra#344 is too far from center\n",
      "2025-02-05 21:48:39.839Z cobraCoach       30 cobraCoach.py:679 Cobra#1460 is too close to center\n",
      "2025-02-05 21:48:39.840Z pfi              30 pfi.py:475 clipping scale adjustment from 0.26154231110049525 to 0.3\n",
      "2025-02-05 21:48:39.842Z engineer         20 engineer.py:422 Updating the cobra information\n",
      "2025-02-05 21:48:39.845Z engineer         20 engineer.py:436 done: [1729], 11 left\n",
      "2025-02-05 21:48:39.846Z engineer         20 engineer.py:412 Sending angles to moveToAngles for 2-th iteration\n",
      "2025-02-05 21:48:39.849Z cobraCoach       20 cobraCoach.py:1009 Moving deltaTheta = [-1.94233989e-04 -5.14191722e-04 -6.14804362e-04 -1.01748456e-05\n",
      " -1.09852569e+00 -1.01748456e-05 -1.01748455e-05 -1.01748456e-05\n",
      " -1.03632841e-03 -1.07143418e+00 -3.80200480e-04]\n",
      "2025-02-05 21:48:39.850Z cobraCoach       20 cobraCoach.py:1010 Moving deltaPhi = [-6.10865247 -2.96705963 -2.9670596  -2.96705959 -1.71883189 -2.96705973\n",
      " -2.96705964 -2.96705969 -2.96705964 -1.88389766 -2.9670596 ]\n",
      "2025-02-05 21:48:39.854Z cobraCoach       20 cobraCoach.py:877 Finished converting angle to steps, sending command to moveSteps (constantOntime).\n",
      "2025-02-05 21:48:39.862Z cobraCoach       20 cobraCoach.py:587 Sending step numbers to FPGA for moving cobra.\n",
      "2025-02-05 21:48:39.865Z cobraCoach       20 cobraCoach.py:601 cobra control FPGA operation done.\n",
      "2025-02-05 21:48:39.896Z pfi              40 pfi.py:896 Some theta angles are out of range\n",
      "2025-02-05 21:48:39.898Z pfi              40 pfi.py:899 Some phi angles are out of range\n",
      "2025-02-05 21:48:40.007Z cobraCoach       30 cobraCoach.py:675 Cobra#1303 is too far from center\n",
      "2025-02-05 21:48:40.008Z pfi              30 pfi.py:475 clipping scale adjustment from 0.29999999904403885 to 0.3\n",
      "2025-02-05 21:48:40.009Z cobraCoach       30 cobraCoach.py:675 Cobra#1790 is too far from center\n",
      "2025-02-05 21:48:40.011Z engineer         20 engineer.py:422 Updating the cobra information\n",
      "2025-02-05 21:48:40.013Z engineer         20 engineer.py:412 Sending angles to moveToAngles for 3-th iteration\n",
      "2025-02-05 21:48:40.015Z cobraCoach       30 cobraCoach.py:1003 Last phi angle is unknown, not moving: [1459]\n",
      "2025-02-05 21:48:40.016Z cobraCoach       20 cobraCoach.py:1009 Moving deltaTheta = [-3.21863813e-01 -5.14191722e-04 -6.14804362e-04 -1.01748456e-05\n",
      " -6.82685060e-01 -1.01748456e-05 -1.01748455e-05 -1.01748456e-05\n",
      " -1.03632841e-03 -3.25590772e-01 -3.80200480e-04]\n",
      "2025-02-05 21:48:40.018Z cobraCoach       20 cobraCoach.py:1010 Moving deltaPhi = [-2.64219266 -2.96705963 -2.9670596  -2.96705959 -6.10865247  0.\n",
      " -2.96705964 -2.96705969 -2.96705964 -6.10865247 -2.9670596 ]\n",
      "2025-02-05 21:48:40.021Z cobraCoach       30 cobraCoach.py:846 Last phi angle is unknown: [1459]\n",
      "2025-02-05 21:48:40.023Z cobraCoach       20 cobraCoach.py:877 Finished converting angle to steps, sending command to moveSteps (constantOntime).\n",
      "2025-02-05 21:48:40.030Z cobraCoach       20 cobraCoach.py:587 Sending step numbers to FPGA for moving cobra.\n",
      "2025-02-05 21:48:40.032Z cobraCoach       20 cobraCoach.py:601 cobra control FPGA operation done.\n",
      "2025-02-05 21:48:40.063Z pfi              40 pfi.py:896 Some theta angles are out of range\n",
      "2025-02-05 21:48:40.064Z pfi              40 pfi.py:899 Some phi angles are out of range\n",
      "2025-02-05 21:48:40.217Z pfi              30 pfi.py:475 clipping scale adjustment from 0.22521650184055392 to 0.3\n",
      "2025-02-05 21:48:40.218Z pfi              30 pfi.py:475 clipping scale adjustment from 0.2932227989198018 to 0.3\n",
      "2025-02-05 21:48:40.220Z cobraCoach       30 cobraCoach.py:679 Cobra#1460 is too close to center\n",
      "2025-02-05 21:48:40.222Z pfi              30 pfi.py:475 clipping scale adjustment from 0.26154231110049525 to 0.3\n",
      "2025-02-05 21:48:40.225Z engineer         20 engineer.py:422 Updating the cobra information\n",
      "2025-02-05 21:48:40.228Z engineer         20 engineer.py:412 Sending angles to moveToAngles for 4-th iteration\n",
      "2025-02-05 21:48:40.230Z cobraCoach       20 cobraCoach.py:1009 Moving deltaTheta = [-2.17122172e-04 -5.14191722e-04 -6.14804362e-04 -1.01748456e-05\n",
      "  4.51698156e+00 -1.01748456e-05 -1.01748455e-05 -1.01748456e-05\n",
      " -1.03632841e-03  5.00301130e+00 -3.80200480e-04]\n",
      "2025-02-05 21:48:40.232Z cobraCoach       20 cobraCoach.py:1010 Moving deltaPhi = [-2.96705965 -2.96705963 -2.9670596  -2.96705959 -1.71883189 -2.96705973\n",
      " -2.96705964 -2.96705969 -2.96705964 -1.88389766 -2.9670596 ]\n",
      "2025-02-05 21:48:40.236Z cobraCoach       20 cobraCoach.py:877 Finished converting angle to steps, sending command to moveSteps (constantOntime).\n",
      "2025-02-05 21:48:40.248Z cobraCoach       20 cobraCoach.py:587 Sending step numbers to FPGA for moving cobra.\n",
      "2025-02-05 21:48:40.254Z cobraCoach       20 cobraCoach.py:601 cobra control FPGA operation done.\n",
      "2025-02-05 21:48:40.289Z pfi              40 pfi.py:896 Some theta angles are out of range\n",
      "2025-02-05 21:48:40.290Z pfi              40 pfi.py:899 Some phi angles are out of range\n",
      "2025-02-05 21:48:40.396Z cobraCoach       30 cobraCoach.py:675 Cobra#1790 is too far from center\n",
      "2025-02-05 21:48:40.397Z engineer         20 engineer.py:422 Updating the cobra information\n",
      "2025-02-05 21:48:40.400Z engineer         20 engineer.py:412 Sending angles to moveToAngles for 5-th iteration\n",
      "2025-02-05 21:48:40.401Z cobraCoach       30 cobraCoach.py:1003 Last phi angle is unknown, not moving: [1459]\n",
      "2025-02-05 21:48:40.402Z cobraCoach       20 cobraCoach.py:1009 Moving deltaTheta = [-2.17122172e-04 -5.14191722e-04 -6.14804362e-04 -1.01748456e-05\n",
      " -4.10811338e-03 -1.01748456e-05 -1.01748455e-05 -1.01748456e-05\n",
      " -1.03632841e-03  7.85623389e-01 -3.80200480e-04]\n",
      "2025-02-05 21:48:40.404Z cobraCoach       20 cobraCoach.py:1010 Moving deltaPhi = [-2.96705965 -2.96705963 -2.9670596  -2.96705959 -2.96705962  0.\n",
      " -2.96705964 -2.96705969 -2.96705964 -6.10865247 -2.9670596 ]\n",
      "2025-02-05 21:48:40.405Z cobraCoach       30 cobraCoach.py:846 Last phi angle is unknown: [1459]\n",
      "2025-02-05 21:48:40.409Z cobraCoach       20 cobraCoach.py:877 Finished converting angle to steps, sending command to moveSteps (constantOntime).\n",
      "2025-02-05 21:48:40.450Z cobraCoach       20 cobraCoach.py:587 Sending step numbers to FPGA for moving cobra.\n",
      "2025-02-05 21:48:40.453Z cobraCoach       20 cobraCoach.py:601 cobra control FPGA operation done.\n",
      "2025-02-05 21:48:40.481Z pfi              40 pfi.py:896 Some theta angles are out of range\n",
      "2025-02-05 21:48:40.482Z pfi              40 pfi.py:899 Some phi angles are out of range\n",
      "2025-02-05 21:48:40.581Z pfi              30 pfi.py:475 clipping scale adjustment from 0.2250489700875823 to 0.3\n",
      "2025-02-05 21:48:40.582Z cobraCoach       30 cobraCoach.py:679 Cobra#1460 is too close to center\n",
      "2025-02-05 21:48:40.583Z pfi              30 pfi.py:475 clipping scale adjustment from 0.26154231110049525 to 0.3\n",
      "2025-02-05 21:48:40.585Z engineer         20 engineer.py:422 Updating the cobra information\n",
      "2025-02-05 21:48:40.589Z engineer         30 engineer.py:445 11 cobras did not finish: [ 343  442  492  737 1302 1459 1493 1538 1636 1789 1791], [4.67 4.67 4.67 4.67 4.67 0.82 4.67 4.67 4.67 4.2  4.67]\n",
      "2025-02-05 21:48:40.590Z engineer         20 engineer.py:450 Returning 2394 atThetas and 2394 atPhis\n",
      "2025-02-05 21:48:40.616Z pfi              40 pfi.py:896 Some theta angles are out of range\n",
      "2025-02-05 21:48:40.619Z pfi              40 pfi.py:899 Some phi angles are out of range\n",
      "2025-02-05 21:48:40.710Z pfi              40 pfi.py:896 Some theta angles are out of range\n",
      "2025-02-05 21:48:40.711Z pfi              40 pfi.py:899 Some phi angles are out of range\n",
      "2025-02-05 21:48:40.782Z pfi              40 pfi.py:896 Some theta angles are out of range\n",
      "2025-02-05 21:48:40.783Z pfi              40 pfi.py:899 Some phi angles are out of range\n",
      "2025-02-05 21:48:40.833Z pfi              40 pfi.py:896 Some theta angles are out of range\n",
      "2025-02-05 21:48:40.835Z pfi              40 pfi.py:899 Some phi angles are out of range\n",
      "2025-02-05 21:48:40.885Z pfi              40 pfi.py:896 Some theta angles are out of range\n",
      "2025-02-05 21:48:40.886Z pfi              40 pfi.py:899 Some phi angles are out of range\n",
      "2025-02-05 21:48:40.934Z pfi              40 pfi.py:896 Some theta angles are out of range\n",
      "2025-02-05 21:48:40.935Z pfi              40 pfi.py:899 Some phi angles are out of range\n",
      "2025-02-05 21:48:40.987Z pfi              40 pfi.py:896 Some theta angles are out of range\n",
      "2025-02-05 21:48:40.988Z pfi              40 pfi.py:899 Some phi angles are out of range\n",
      "2025-02-05 21:48:41.042Z pfi              40 pfi.py:896 Some theta angles are out of range\n",
      "2025-02-05 21:48:41.043Z pfi              40 pfi.py:899 Some phi angles are out of range\n",
      "2025-02-05 21:48:41.093Z pfi              40 pfi.py:930 Some theta angles are out of range\n",
      "2025-02-05 21:48:41.151Z pfi              40 pfi.py:930 Some theta angles are out of range\n",
      "2025-02-05 21:48:41.205Z pfi              40 pfi.py:930 Some theta angles are out of range\n",
      "2025-02-05 21:48:41.244Z pfi              40 pfi.py:930 Some theta angles are out of range\n",
      "2025-02-05 21:48:41.283Z pfi              40 pfi.py:930 Some theta angles are out of range\n",
      "2025-02-05 21:48:41.323Z pfi              40 pfi.py:930 Some theta angles are out of range\n",
      "2025-02-05 21:48:41.364Z pfi              40 pfi.py:930 Some theta angles are out of range\n",
      "2025-02-05 21:48:41.401Z pfi              40 pfi.py:930 Some theta angles are out of range\n"
     ]
    },
    {
     "name": "stdout",
     "output_type": "stream",
     "text": [
      "ERROR: detected 13 end point collision, which should be impossible\n",
      "trajectory collisions found: 0\n",
      "Done: solving the problem for stage=1 targets.\n",
      "exposure 0:\n",
      "  assigned Cobras: 2225\n",
      "   sci_P1: 2225\n",
      "exposure 0:\n",
      "assigned Cobras(%): 92.94%; gal--92.94%, anc--0.00%, sky--0.00%, star--0.00%\n",
      "comp_out= {'sci_P1': 1.0}\n",
      "['sci_P1']\n"
     ]
    },
    {
     "data": {
      "image/png": "[encoded data removed]",
      "text/plain": [
       "<Figure size 1200x400 with 2 Axes>"
      ]
     },
     "metadata": {},
     "output_type": "display_data"
    },
    {
     "name": "stdout",
     "output_type": "stream",
     "text": [
      "24.027752 secs passed after the visits done for field_a_L1_visit1.\n"
     ]
    },
    {
     "data": {
      "image/png": "[encoded data removed]",
      "text/plain": [
       "<Figure size 600x600 with 1 Axes>"
      ]
     },
     "metadata": {},
     "output_type": "display_data"
    },
    {
     "name": "stdout",
     "output_type": "stream",
     "text": [
      "Done: field-a, Li-L1, visit-1\n",
      "construct target list:\n",
      "../../output/Jan25/final_nf_input/field_a_L1_visit2_final_targets.ecsv\n",
      "In total, there are 2100 targets.\n",
      "Time passed - construct target list: 0.15 secs\n",
      "  Your sample (gray), with the pointings (red):\n",
      "There are 2043 targets in the FOV centered on (37.050000, -3.800000).\n"
     ]
    },
    {
     "data": {
      "image/png": "[encoded data removed]",
      "text/plain": [
       "<Figure size 600x600 with 1 Axes>"
      ]
     },
     "metadata": {},
     "output_type": "display_data"
    },
    {
     "name": "stderr",
     "output_type": "stream",
     "text": [
      "2025-02-05 21:48:49.630Z root             10 CoordTransp.py:306 0.0\n",
      "2025-02-05 21:48:49.633Z root             20 DistortionCoefficients.py:688 2016.0\n",
      "2025-02-05 21:48:49.635Z root             10 DistortionCoefficients.py:690 9.062970568104038 yr\n",
      "2025-02-05 21:48:49.636Z root             10 DistortionCoefficients.py:701 1e-08 mas\n",
      "/Users/jing/anaconda3/lib/python3.10/site-packages/erfa/core.py:154: ErfaWarning: ERFA function \"pmsafe\" yielded 1 of \"distance overridden (Note 6)\"\n",
      "  warnings.warn('ERFA function \"{}\" yielded {}'.format(func_name, wmsg),\n",
      "2025-02-05 21:48:49.714Z root             20 DistortionCoefficients.py:709 Ra Dec = (37.050000000000004 -3.8) : original\n",
      "2025-02-05 21:48:49.721Z root             20 DistortionCoefficients.py:711 PM = (0.0 mas / yr 0.0 mas / yr)\n",
      "2025-02-05 21:48:49.723Z root             20 DistortionCoefficients.py:713 Ra Dec = (37.05000000000002 -3.8) : applied proper motion\n",
      "2025-02-05 21:48:49.726Z root             20 DistortionCoefficients.py:715 Ra Dec = (37.36558607418318 -3.688882678667123) : applied presession\n",
      "2025-02-05 21:48:49.801Z root             20 CoordTransp.py:312 FoV center: Ra,Dec=([37.05] [-3.8]) is Az,El,InR=(222.01905364414284 59.36285974437612 39.125864525389346)\n"
     ]
    },
    {
     "name": "stdout",
     "output_type": "stream",
     "text": [
      "Time passed - read pointings and plot for a small region: 1.07 secs\n",
      "field - a, L1 (37.050000, -3.800000): 2100 targets in the FoV.\n"
     ]
    },
    {
     "name": "stderr",
     "output_type": "stream",
     "text": [
      "/Users/jing/anaconda3/lib/python3.10/site-packages/erfa/core.py:154: ErfaWarning: ERFA function \"pmsafe\" yielded 2100 of \"distance overridden (Note 6)\"\n",
      "  warnings.warn('ERFA function \"{}\" yielded {}'.format(func_name, wmsg),\n",
      "2025-02-05 21:48:49.894Z root             20 CoordTransp.py:84 Zenith angle for your field should be 30.637140255623883\n",
      "2025-02-05 21:48:49.897Z root             20 CoordTransp.py:163 Correct extra distortion @ tel -- skipped\n",
      "2025-02-05 21:48:49.898Z root             20 CoordTransp.py:164 Before: x= [   0.68385873  -97.13214104  -20.09448908 -128.26329898 -136.35535237\n",
      "   71.69545436  -37.79169003  146.36193953  168.42356755  171.18252973\n",
      "  127.34118939], y=[ 203.1271069   171.48702352 -189.04292724   38.10524327  -41.28010847\n",
      "   25.29213954    1.36525679 -136.11139784  146.87645903  144.63475291\n",
      "  158.02312801]\n",
      "2025-02-05 21:48:49.902Z root             20 CoordTransp.py:167 correct by -1.0\n",
      "2025-02-05 21:48:49.903Z root             20 CoordTransp.py:170 After: x= [   0.69606274  -97.12458664  -20.09956834 -128.2709459  -136.36484504\n",
      "   71.70870226  -37.78977315  146.33665033  168.40647768  171.16435634\n",
      "  127.34003039], y=[ 203.13352729  171.48613458 -189.03686633   38.09847837  -41.29104592\n",
      "   25.29321862    1.36132495 -136.08559794  146.87125089  144.62929517\n",
      "  158.02306207]\n",
      "2025-02-05 21:48:49.904Z root             20 CoordTransp.py:173 Telescope to PFI\n"
     ]
    },
    {
     "name": "stdout",
     "output_type": "stream",
     "text": [
      "solving the problem for stage=0 targets.\n",
      "Set parameter Presolve to value 1\n"
     ]
    },
    {
     "name": "stderr",
     "output_type": "stream",
     "text": [
      "2025-02-05 21:48:49.907Z gurobipy         20 netflow.py:117 Set parameter Presolve to value 1\n"
     ]
    },
    {
     "name": "stdout",
     "output_type": "stream",
     "text": [
      "Set parameter Method to value 4\n"
     ]
    },
    {
     "name": "stderr",
     "output_type": "stream",
     "text": [
      "2025-02-05 21:48:49.915Z gurobipy         20 netflow.py:117 Set parameter Method to value 4\n"
     ]
    },
    {
     "name": "stdout",
     "output_type": "stream",
     "text": [
      "Set parameter DegenMoves to value 0\n"
     ]
    },
    {
     "name": "stderr",
     "output_type": "stream",
     "text": [
      "2025-02-05 21:48:49.922Z gurobipy         20 netflow.py:117 Set parameter DegenMoves to value 0\n"
     ]
    },
    {
     "name": "stdout",
     "output_type": "stream",
     "text": [
      "Set parameter Heuristics to value 0.8\n"
     ]
    },
    {
     "name": "stderr",
     "output_type": "stream",
     "text": [
      "2025-02-05 21:48:49.930Z gurobipy         20 netflow.py:117 Set parameter Heuristics to value 0.8\n"
     ]
    },
    {
     "name": "stdout",
     "output_type": "stream",
     "text": [
      "Set parameter MIPGap to value 0.5\n"
     ]
    },
    {
     "name": "stderr",
     "output_type": "stream",
     "text": [
      "2025-02-05 21:48:49.932Z gurobipy         20 netflow.py:117 Set parameter MIPGap to value 0.5\n"
     ]
    },
    {
     "name": "stdout",
     "output_type": "stream",
     "text": [
      "Creating network topology\n",
      "  exposure 1\n",
      "Calculating visibilities\n",
      "adding constraints\n",
      "adding collision constraints\n",
      "adding forbidden pair constraints\n",
      "Gurobi Optimizer version 10.0.1 build v10.0.1rc0 (mac64[x86])\n"
     ]
    },
    {
     "name": "stderr",
     "output_type": "stream",
     "text": [
      "2025-02-05 21:48:51.173Z gurobipy         20 netflow.py:149 Gurobi Optimizer version 10.0.1 build v10.0.1rc0 (mac64[x86])\n"
     ]
    },
    {
     "name": "stdout",
     "output_type": "stream",
     "text": [
      "\n"
     ]
    },
    {
     "name": "stderr",
     "output_type": "stream",
     "text": [
      "2025-02-05 21:48:51.175Z gurobipy         20 netflow.py:149 \n"
     ]
    },
    {
     "name": "stdout",
     "output_type": "stream",
     "text": [
      "CPU model: Intel(R) Core(TM) i7-8569U CPU @ 2.80GHz\n"
     ]
    },
    {
     "name": "stderr",
     "output_type": "stream",
     "text": [
      "2025-02-05 21:48:51.178Z gurobipy         20 netflow.py:149 CPU model: Intel(R) Core(TM) i7-8569U CPU @ 2.80GHz\n"
     ]
    },
    {
     "name": "stdout",
     "output_type": "stream",
     "text": [
      "Thread count: 4 physical cores, 8 logical processors, using up to 8 threads\n"
     ]
    },
    {
     "name": "stderr",
     "output_type": "stream",
     "text": [
      "2025-02-05 21:48:51.180Z gurobipy         20 netflow.py:149 Thread count: 4 physical cores, 8 logical processors, using up to 8 threads\n"
     ]
    },
    {
     "name": "stdout",
     "output_type": "stream",
     "text": [
      "\n"
     ]
    },
    {
     "name": "stderr",
     "output_type": "stream",
     "text": [
      "2025-02-05 21:48:51.183Z gurobipy         20 netflow.py:149 \n"
     ]
    },
    {
     "name": "stdout",
     "output_type": "stream",
     "text": [
      "Academic license 2379863 - for non-commercial use only - registered to ji___@ipmu.jp\n"
     ]
    },
    {
     "name": "stderr",
     "output_type": "stream",
     "text": [
      "2025-02-05 21:48:51.213Z gurobipy         20 netflow.py:149 Academic license 2379863 - for non-commercial use only - registered to ji___@ipmu.jp\n"
     ]
    },
    {
     "name": "stdout",
     "output_type": "stream",
     "text": [
      "Optimize a model with 7174 rows, 8832 columns and 17321 nonzeros\n"
     ]
    },
    {
     "name": "stderr",
     "output_type": "stream",
     "text": [
      "2025-02-05 21:48:51.215Z gurobipy         20 netflow.py:149 Optimize a model with 7174 rows, 8832 columns and 17321 nonzeros\n"
     ]
    },
    {
     "name": "stdout",
     "output_type": "stream",
     "text": [
      "Model fingerprint: 0x8a5bf2e8\n"
     ]
    },
    {
     "name": "stderr",
     "output_type": "stream",
     "text": [
      "2025-02-05 21:48:51.228Z gurobipy         20 netflow.py:149 Model fingerprint: 0x8a5bf2e8\n"
     ]
    },
    {
     "name": "stdout",
     "output_type": "stream",
     "text": [
      "Variable types: 1 continuous, 8831 integer (6730 binary)\n"
     ]
    },
    {
     "name": "stderr",
     "output_type": "stream",
     "text": [
      "2025-02-05 21:48:51.230Z gurobipy         20 netflow.py:149 Variable types: 1 continuous, 8831 integer (6730 binary)\n"
     ]
    },
    {
     "name": "stdout",
     "output_type": "stream",
     "text": [
      "Coefficient statistics:\n"
     ]
    },
    {
     "name": "stderr",
     "output_type": "stream",
     "text": [
      "2025-02-05 21:48:51.234Z gurobipy         20 netflow.py:149 Coefficient statistics:\n"
     ]
    },
    {
     "name": "stdout",
     "output_type": "stream",
     "text": [
      "  Matrix range     [1e+00, 1e+00]\n"
     ]
    },
    {
     "name": "stderr",
     "output_type": "stream",
     "text": [
      "2025-02-05 21:48:51.249Z gurobipy         20 netflow.py:149   Matrix range     [1e+00, 1e+00]\n"
     ]
    },
    {
     "name": "stdout",
     "output_type": "stream",
     "text": [
      "  Objective range  [1e-05, 1e+06]\n"
     ]
    },
    {
     "name": "stderr",
     "output_type": "stream",
     "text": [
      "2025-02-05 21:48:51.254Z gurobipy         20 netflow.py:149   Objective range  [1e-05, 1e+06]\n"
     ]
    },
    {
     "name": "stdout",
     "output_type": "stream",
     "text": [
      "  Bounds range     [1e+00, 1e+00]\n"
     ]
    },
    {
     "name": "stderr",
     "output_type": "stream",
     "text": [
      "2025-02-05 21:48:51.260Z gurobipy         20 netflow.py:149   Bounds range     [1e+00, 1e+00]\n"
     ]
    },
    {
     "name": "stdout",
     "output_type": "stream",
     "text": [
      "  RHS range        [1e+00, 2e+03]\n"
     ]
    },
    {
     "name": "stderr",
     "output_type": "stream",
     "text": [
      "2025-02-05 21:48:51.264Z gurobipy         20 netflow.py:149   RHS range        [1e+00, 2e+03]\n"
     ]
    },
    {
     "name": "stdout",
     "output_type": "stream",
     "text": [
      "Found heuristic solution: objective 840000.00000\n"
     ]
    },
    {
     "name": "stderr",
     "output_type": "stream",
     "text": [
      "2025-02-05 21:48:51.273Z gurobipy         20 netflow.py:149 Found heuristic solution: objective 840000.00000\n"
     ]
    },
    {
     "name": "stdout",
     "output_type": "stream",
     "text": [
      "Presolve removed 7174 rows and 8832 columns\n"
     ]
    },
    {
     "name": "stderr",
     "output_type": "stream",
     "text": [
      "2025-02-05 21:48:51.313Z gurobipy         20 netflow.py:149 Presolve removed 7174 rows and 8832 columns\n"
     ]
    },
    {
     "name": "stdout",
     "output_type": "stream",
     "text": [
      "Presolve time: 0.03s\n"
     ]
    },
    {
     "name": "stderr",
     "output_type": "stream",
     "text": [
      "2025-02-05 21:48:51.320Z gurobipy         20 netflow.py:149 Presolve time: 0.03s\n"
     ]
    },
    {
     "name": "stdout",
     "output_type": "stream",
     "text": [
      "Presolve: All rows and columns removed\n"
     ]
    },
    {
     "name": "stderr",
     "output_type": "stream",
     "text": [
      "2025-02-05 21:48:51.330Z gurobipy         20 netflow.py:149 Presolve: All rows and columns removed\n"
     ]
    },
    {
     "name": "stdout",
     "output_type": "stream",
     "text": [
      "\n"
     ]
    },
    {
     "name": "stderr",
     "output_type": "stream",
     "text": [
      "2025-02-05 21:48:51.338Z gurobipy         20 netflow.py:149 \n"
     ]
    },
    {
     "name": "stdout",
     "output_type": "stream",
     "text": [
      "Explored 0 nodes (0 simplex iterations) in 0.15 seconds (0.01 work units)\n"
     ]
    },
    {
     "name": "stderr",
     "output_type": "stream",
     "text": [
      "2025-02-05 21:48:51.344Z gurobipy         20 netflow.py:149 Explored 0 nodes (0 simplex iterations) in 0.15 seconds (0.01 work units)\n"
     ]
    },
    {
     "name": "stdout",
     "output_type": "stream",
     "text": [
      "Thread count was 1 (of 8 available processors)\n"
     ]
    },
    {
     "name": "stderr",
     "output_type": "stream",
     "text": [
      "2025-02-05 21:48:51.348Z gurobipy         20 netflow.py:149 Thread count was 1 (of 8 available processors)\n"
     ]
    },
    {
     "name": "stdout",
     "output_type": "stream",
     "text": [
      "\n"
     ]
    },
    {
     "name": "stderr",
     "output_type": "stream",
     "text": [
      "2025-02-05 21:48:51.351Z gurobipy         20 netflow.py:149 \n"
     ]
    },
    {
     "name": "stdout",
     "output_type": "stream",
     "text": [
      "Solution count 2: 88.124 840000 \n"
     ]
    },
    {
     "name": "stderr",
     "output_type": "stream",
     "text": [
      "2025-02-05 21:48:51.354Z gurobipy         20 netflow.py:149 Solution count 2: 88.124 840000 \n"
     ]
    },
    {
     "name": "stdout",
     "output_type": "stream",
     "text": [
      "\n"
     ]
    },
    {
     "name": "stderr",
     "output_type": "stream",
     "text": [
      "2025-02-05 21:48:51.357Z gurobipy         20 netflow.py:149 \n"
     ]
    },
    {
     "name": "stdout",
     "output_type": "stream",
     "text": [
      "Optimal solution found (tolerance 5.00e-01)\n"
     ]
    },
    {
     "name": "stderr",
     "output_type": "stream",
     "text": [
      "2025-02-05 21:48:51.359Z gurobipy         20 netflow.py:149 Optimal solution found (tolerance 5.00e-01)\n"
     ]
    },
    {
     "name": "stdout",
     "output_type": "stream",
     "text": [
      "Best objective 8.812404112894e+01, best bound 8.812404112894e+01, gap 0.0000%\n"
     ]
    },
    {
     "name": "stderr",
     "output_type": "stream",
     "text": [
      "2025-02-05 21:48:51.363Z gurobipy         20 netflow.py:149 Best objective 8.812404112894e+01, best bound 8.812404112894e+01, gap 0.0000%\n"
     ]
    },
    {
     "name": "stdout",
     "output_type": "stream",
     "text": [
      "Checking for trajectory collisions\n"
     ]
    },
    {
     "name": "stderr",
     "output_type": "stream",
     "text": [
      "2025-02-05 21:48:51.445Z pfi              40 pfi.py:896 Some theta angles are out of range\n",
      "2025-02-05 21:48:51.446Z pfi              40 pfi.py:899 Some phi angles are out of range\n",
      "2025-02-05 21:48:51.581Z pfi              40 pfi.py:899 Some phi angles are out of range\n",
      "2025-02-05 21:48:51.608Z pfi              40 pfi.py:899 Some phi angles are out of range\n",
      "2025-02-05 21:48:51.610Z engineer         20 engineer.py:395 Move theta arms to angle=[157.75 125.79 186.88 ... 195.95 251.55 381.26] degree\n",
      "2025-02-05 21:48:51.611Z engineer         20 engineer.py:396 Move phi arms to angle=[42.77 74.48 50.51 ...  4.19 61.99 59.16] degree\n",
      "2025-02-05 21:48:51.612Z engineer         20 engineer.py:398 Checking passed homed argument = True\n",
      "2025-02-05 21:48:51.613Z engineer         20 engineer.py:402 Move theta arms CW and phi arms CCW to the hard stops\n",
      "2025-02-05 21:48:51.637Z cobraCoach       20 cobraCoach.py:1065 home cobras: theta=10000, phi=-5000\n",
      "2025-02-05 21:48:51.662Z pfi              40 pfi.py:899 Some phi angles are out of range\n",
      "2025-02-05 21:48:51.685Z pfi              40 pfi.py:899 Some phi angles are out of range\n",
      "2025-02-05 21:48:51.688Z engineer         20 engineer.py:412 Sending angles to moveToAngles for 0-th iteration\n",
      "2025-02-05 21:48:51.712Z cobraCoach       20 cobraCoach.py:1009 Moving deltaTheta = [-3.8245624  -4.46974233 -3.37763329 ... -3.26921295 -2.2942015\n",
      " -0.04489304]\n",
      "2025-02-05 21:48:51.713Z cobraCoach       20 cobraCoach.py:1010 Moving deltaPhi = [0.74646986 1.29989723 0.88154579 ... 0.07318876 1.08198757 1.03245348]\n",
      "2025-02-05 21:48:51.953Z cobraCoach       20 cobraCoach.py:877 Finished converting angle to steps, sending command to moveSteps (constantOntime).\n",
      "2025-02-05 21:48:52.612Z cobraCoach       20 cobraCoach.py:587 Sending step numbers to FPGA for moving cobra.\n",
      "2025-02-05 21:48:52.760Z cobraCoach       20 cobraCoach.py:601 cobra control FPGA operation done.\n",
      "2025-02-05 21:48:52.784Z pfi              40 pfi.py:896 Some theta angles are out of range\n",
      "2025-02-05 21:48:52.785Z pfi              40 pfi.py:899 Some phi angles are out of range\n",
      "/Users/jing/anaconda3/lib/python3.10/site-packages/ics/cobraCharmer/pfi.py:1010: RuntimeWarning: invalid value encountered in arccos\n",
      "  ang1 = np.arccos((L1Sq[i] + L2Sq[i] - distanceSq[i]) / (2 * L1[i] * L2[i]))\n",
      "2025-02-05 21:48:52.889Z cobraCoach       30 cobraCoach.py:675 Cobra#344 is too far from center\n",
      "2025-02-05 21:48:52.893Z cobraCoach       30 cobraCoach.py:675 Cobra#443 is too far from center\n",
      "2025-02-05 21:48:52.895Z cobraCoach       30 cobraCoach.py:675 Cobra#493 is too far from center\n",
      "2025-02-05 21:48:52.916Z cobraCoach       30 cobraCoach.py:675 Cobra#1303 is too far from center\n",
      "2025-02-05 21:48:52.926Z cobraCoach       30 cobraCoach.py:675 Cobra#1637 is too far from center\n",
      "2025-02-05 21:48:52.935Z cobraCoach       30 cobraCoach.py:675 Cobra#1790 is too far from center\n",
      "2025-02-05 21:48:52.937Z cobraCoach       30 cobraCoach.py:675 Cobra#1792 is too far from center\n",
      "2025-02-05 21:48:52.961Z engineer         20 engineer.py:422 Updating the cobra information\n",
      "2025-02-05 21:48:52.966Z engineer         20 engineer.py:436 done: [   0    1    2 ... 2391 2392 2393], 20 left\n",
      "2025-02-05 21:48:52.967Z engineer         20 engineer.py:412 Sending angles to moveToAngles for 1-th iteration\n",
      "2025-02-05 21:48:52.971Z cobraCoach       30 cobraCoach.py:1003 Last phi angle is unknown, not moving: [1459]\n",
      "2025-02-05 21:48:52.972Z cobraCoach       20 cobraCoach.py:1009 Moving deltaTheta = [-1.07113214e-03 -1.01748456e-05 -1.01748456e-05 -1.01748456e-05\n",
      " -1.01748456e-05 -8.04138262e-01 -6.50805415e-04 -1.01748456e-05\n",
      " -1.01748456e-05 -1.01748455e-05 -1.01748456e-05  6.92683126e-04\n",
      " -1.01748455e-05 -4.15655482e-01  1.05095270e-03 -1.01748456e-05\n",
      " -1.01748456e-05 -1.70963505e-01  1.10228624e-03 -1.60452184e-01]\n",
      "2025-02-05 21:48:52.973Z cobraCoach       20 cobraCoach.py:1010 Moving deltaPhi = [-1.07495422e-03 -6.10865247e+00 -6.10865247e+00 -6.10865247e+00\n",
      " -2.96705959e+00  4.46207273e-01 -1.81239662e-03 -6.10865247e+00\n",
      "  0.00000000e+00 -2.96705964e+00 -2.96705969e+00 -6.34152399e-02\n",
      " -6.10865247e+00  4.48039121e-01  1.46972212e-03 -6.10865247e+00\n",
      " -6.10865247e+00  1.70173284e-01 -4.98778998e-02  2.11989619e-01]\n",
      "2025-02-05 21:48:52.978Z cobraCoach       30 cobraCoach.py:846 Last phi angle is unknown: [1459]\n",
      "2025-02-05 21:48:52.993Z cobraCoach       20 cobraCoach.py:877 Finished converting angle to steps, sending command to moveSteps (constantOntime).\n",
      "2025-02-05 21:48:53.018Z cobraCoach       20 cobraCoach.py:587 Sending step numbers to FPGA for moving cobra.\n",
      "2025-02-05 21:48:53.024Z cobraCoach       20 cobraCoach.py:601 cobra control FPGA operation done.\n",
      "2025-02-05 21:48:53.051Z pfi              40 pfi.py:896 Some theta angles are out of range\n",
      "2025-02-05 21:48:53.053Z pfi              40 pfi.py:899 Some phi angles are out of range\n",
      "2025-02-05 21:48:53.165Z cobraCoach       30 cobraCoach.py:675 Cobra#344 is too far from center\n",
      "2025-02-05 21:48:53.166Z cobraCoach       30 cobraCoach.py:679 Cobra#1460 is too close to center\n",
      "2025-02-05 21:48:53.170Z cobraCoach       30 cobraCoach.py:675 Cobra#1637 is too far from center\n",
      "2025-02-05 21:48:53.171Z cobraCoach       30 cobraCoach.py:675 Cobra#1790 is too far from center\n",
      "2025-02-05 21:48:53.173Z engineer         20 engineer.py:422 Updating the cobra information\n",
      "2025-02-05 21:48:53.177Z engineer         20 engineer.py:436 done: [ 109  829  889 1729 1763 1886 1989], 13 left\n",
      "2025-02-05 21:48:53.181Z engineer         30 engineer.py:445 13 cobras did not finish: [ 343  442  492  737 1302 1459 1493 1538 1587 1636 1789 1791 1969], [4.67 4.67 4.67 4.67 4.67 0.82 4.67 4.67 0.16 4.67 4.67 4.67 0.11]\n",
      "2025-02-05 21:48:53.183Z engineer         20 engineer.py:450 Returning 2394 atThetas and 2394 atPhis\n",
      "2025-02-05 21:48:53.224Z pfi              40 pfi.py:899 Some phi angles are out of range\n",
      "2025-02-05 21:48:53.226Z engineer         20 engineer.py:395 Move theta arms to angle=[157.75 119.96 186.88 ... 195.95 245.25 357.09] degree\n",
      "2025-02-05 21:48:53.228Z engineer         20 engineer.py:396 Move phi arms to angle=[ 42.77  86.14  50.51 ...   4.19  74.59 107.49] degree\n",
      "2025-02-05 21:48:53.229Z engineer         20 engineer.py:398 Checking passed homed argument = False\n",
      "2025-02-05 21:48:53.231Z engineer         20 engineer.py:412 Sending angles to moveToAngles for 0-th iteration\n",
      "2025-02-05 21:48:53.258Z cobraCoach       20 cobraCoach.py:1009 Moving deltaTheta = [-9.36358305e-04 -1.01300812e-01 -1.61367341e-04 ...  6.57805335e-04\n",
      " -1.10266060e-01 -4.20793159e-01]\n",
      "2025-02-05 21:48:53.259Z cobraCoach       20 cobraCoach.py:1010 Moving deltaPhi = [-2.82108561e-04  2.03516538e-01 -4.88687686e-04 ...  7.61926699e-04\n",
      "  2.20055095e-01  8.43274244e-01]\n",
      "2025-02-05 21:48:53.461Z cobraCoach       20 cobraCoach.py:877 Finished converting angle to steps, sending command to moveSteps (constantOntime).\n",
      "2025-02-05 21:48:53.771Z cobraCoach       20 cobraCoach.py:587 Sending step numbers to FPGA for moving cobra.\n",
      "2025-02-05 21:48:53.889Z cobraCoach       20 cobraCoach.py:601 cobra control FPGA operation done.\n",
      "2025-02-05 21:48:53.915Z pfi              40 pfi.py:896 Some theta angles are out of range\n",
      "2025-02-05 21:48:53.916Z pfi              40 pfi.py:899 Some phi angles are out of range\n",
      "2025-02-05 21:48:54.067Z cobraCoach       30 cobraCoach.py:675 Cobra#1303 is too far from center\n",
      "2025-02-05 21:48:54.081Z cobraCoach       30 cobraCoach.py:675 Cobra#1790 is too far from center\n",
      "2025-02-05 21:48:54.100Z engineer         20 engineer.py:422 Updating the cobra information\n",
      "2025-02-05 21:48:54.107Z engineer         20 engineer.py:436 done: [   0    1    2 ... 2391 2392 2393], 14 left\n",
      "2025-02-05 21:48:54.108Z engineer         20 engineer.py:412 Sending angles to moveToAngles for 1-th iteration\n",
      "2025-02-05 21:48:54.111Z cobraCoach       30 cobraCoach.py:1003 Last phi angle is unknown, not moving: [1459]\n",
      "2025-02-05 21:48:54.113Z cobraCoach       20 cobraCoach.py:1009 Moving deltaTheta = [-1.94233989e-04 -5.14191722e-04 -6.14804362e-04 -1.01748456e-05\n",
      "  5.15030639e-04  2.69975771e-06 -1.01748456e-05 -1.01748455e-05\n",
      " -1.01748456e-05 -2.97707652e-04 -1.03632841e-03 -1.01748456e-05\n",
      " -3.80200480e-04 -1.05065440e-04]\n",
      "2025-02-05 21:48:54.116Z cobraCoach       20 cobraCoach.py:1010 Moving deltaPhi = [-2.96687409e+00 -2.96705963e+00 -2.96705960e+00 -2.96705959e+00\n",
      "  1.64040231e-03 -6.10865247e+00  0.00000000e+00 -2.96705964e+00\n",
      " -2.96705969e+00 -6.34152399e-02 -2.96602327e+00 -6.10865247e+00\n",
      " -2.96705960e+00 -4.98778998e-02]\n",
      "2025-02-05 21:48:54.123Z cobraCoach       30 cobraCoach.py:846 Last phi angle is unknown: [1459]\n",
      "2025-02-05 21:48:54.129Z cobraCoach       20 cobraCoach.py:877 Finished converting angle to steps, sending command to moveSteps (constantOntime).\n",
      "2025-02-05 21:48:54.138Z cobraCoach       20 cobraCoach.py:587 Sending step numbers to FPGA for moving cobra.\n",
      "2025-02-05 21:48:54.144Z cobraCoach       20 cobraCoach.py:601 cobra control FPGA operation done.\n",
      "2025-02-05 21:48:54.180Z pfi              40 pfi.py:896 Some theta angles are out of range\n",
      "2025-02-05 21:48:54.181Z pfi              40 pfi.py:899 Some phi angles are out of range\n",
      "2025-02-05 21:48:54.285Z cobraCoach       30 cobraCoach.py:675 Cobra#344 is too far from center\n",
      "2025-02-05 21:48:54.286Z pfi              30 pfi.py:475 clipping scale adjustment from 0.2573481031895782 to 0.3\n",
      "2025-02-05 21:48:54.287Z cobraCoach       30 cobraCoach.py:679 Cobra#1460 is too close to center\n",
      "2025-02-05 21:48:54.289Z pfi              30 pfi.py:475 clipping scale adjustment from 0.26154231110049525 to 0.3\n",
      "2025-02-05 21:48:54.292Z engineer         20 engineer.py:422 Updating the cobra information\n",
      "2025-02-05 21:48:54.297Z engineer         20 engineer.py:436 done: [855], 13 left\n",
      "2025-02-05 21:48:54.299Z engineer         20 engineer.py:412 Sending angles to moveToAngles for 2-th iteration\n",
      "2025-02-05 21:48:54.309Z cobraCoach       20 cobraCoach.py:1009 Moving deltaTheta = [-1.94233989e-04 -5.14191722e-04 -6.14804362e-04 -1.01748456e-05\n",
      " -1.09852569e+00 -1.01748456e-05 -1.01748455e-05 -1.01748456e-05\n",
      " -2.97707652e-04 -1.03632841e-03 -1.07143418e+00 -3.80200480e-04\n",
      " -1.05065440e-04]\n",
      "2025-02-05 21:48:54.313Z cobraCoach       20 cobraCoach.py:1010 Moving deltaPhi = [-6.10865247 -2.96705963 -2.9670596  -2.96705959 -1.71883189 -2.96705973\n",
      " -2.96705964 -2.96705969 -0.06341524 -2.96705964 -1.88389766 -2.9670596\n",
      " -0.0498779 ]\n",
      "2025-02-05 21:48:54.318Z cobraCoach       20 cobraCoach.py:877 Finished converting angle to steps, sending command to moveSteps (constantOntime).\n",
      "2025-02-05 21:48:54.332Z cobraCoach       20 cobraCoach.py:587 Sending step numbers to FPGA for moving cobra.\n",
      "2025-02-05 21:48:54.334Z cobraCoach       20 cobraCoach.py:601 cobra control FPGA operation done.\n",
      "2025-02-05 21:48:54.366Z pfi              40 pfi.py:896 Some theta angles are out of range\n",
      "2025-02-05 21:48:54.367Z pfi              40 pfi.py:899 Some phi angles are out of range\n",
      "2025-02-05 21:48:54.532Z cobraCoach       30 cobraCoach.py:675 Cobra#1303 is too far from center\n",
      "2025-02-05 21:48:54.533Z pfi              30 pfi.py:475 clipping scale adjustment from 0.29999999904403885 to 0.3\n",
      "2025-02-05 21:48:54.534Z cobraCoach       30 cobraCoach.py:675 Cobra#1790 is too far from center\n",
      "2025-02-05 21:48:54.538Z engineer         20 engineer.py:422 Updating the cobra information\n",
      "2025-02-05 21:48:54.542Z engineer         20 engineer.py:412 Sending angles to moveToAngles for 3-th iteration\n",
      "2025-02-05 21:48:54.544Z cobraCoach       30 cobraCoach.py:1003 Last phi angle is unknown, not moving: [1459]\n",
      "2025-02-05 21:48:54.545Z cobraCoach       20 cobraCoach.py:1009 Moving deltaTheta = [-3.21863813e-01 -5.14191722e-04 -6.14804362e-04 -1.01748456e-05\n",
      " -6.82685060e-01 -1.01748456e-05 -1.01748455e-05 -1.01748456e-05\n",
      " -2.97707652e-04 -1.03632841e-03 -3.25590772e-01 -3.80200480e-04\n",
      " -1.05065440e-04]\n",
      "2025-02-05 21:48:54.550Z cobraCoach       20 cobraCoach.py:1010 Moving deltaPhi = [-2.64219266 -2.96705963 -2.9670596  -2.96705959 -6.10865247  0.\n",
      " -2.96705964 -2.96705969 -0.06341524 -2.96705964 -6.10865247 -2.9670596\n",
      " -0.0498779 ]\n",
      "2025-02-05 21:48:54.557Z cobraCoach       30 cobraCoach.py:846 Last phi angle is unknown: [1459]\n",
      "2025-02-05 21:48:54.601Z cobraCoach       20 cobraCoach.py:877 Finished converting angle to steps, sending command to moveSteps (constantOntime).\n",
      "2025-02-05 21:48:54.625Z cobraCoach       20 cobraCoach.py:587 Sending step numbers to FPGA for moving cobra.\n",
      "2025-02-05 21:48:54.630Z cobraCoach       20 cobraCoach.py:601 cobra control FPGA operation done.\n",
      "2025-02-05 21:48:54.660Z pfi              40 pfi.py:896 Some theta angles are out of range\n",
      "2025-02-05 21:48:54.661Z pfi              40 pfi.py:899 Some phi angles are out of range\n",
      "2025-02-05 21:48:54.771Z pfi              30 pfi.py:475 clipping scale adjustment from 0.22521650184055392 to 0.3\n",
      "2025-02-05 21:48:54.772Z pfi              30 pfi.py:475 clipping scale adjustment from 0.2573481031895782 to 0.3\n",
      "2025-02-05 21:48:54.773Z cobraCoach       30 cobraCoach.py:679 Cobra#1460 is too close to center\n",
      "2025-02-05 21:48:54.775Z pfi              30 pfi.py:475 clipping scale adjustment from 0.24610475410853017 to 0.3\n",
      "2025-02-05 21:48:54.776Z pfi              30 pfi.py:475 clipping scale adjustment from 0.26154231110049525 to 0.3\n",
      "2025-02-05 21:48:54.778Z engineer         20 engineer.py:422 Updating the cobra information\n",
      "2025-02-05 21:48:54.781Z engineer         20 engineer.py:412 Sending angles to moveToAngles for 4-th iteration\n",
      "2025-02-05 21:48:54.783Z cobraCoach       20 cobraCoach.py:1009 Moving deltaTheta = [-2.17122172e-04 -5.14191722e-04 -6.14804362e-04 -1.01748456e-05\n",
      "  4.51698156e+00 -1.01748456e-05 -1.01748455e-05 -1.01748456e-05\n",
      " -2.97707652e-04 -1.03632841e-03  5.00301130e+00 -3.80200480e-04\n",
      " -1.05065440e-04]\n",
      "2025-02-05 21:48:54.788Z cobraCoach       20 cobraCoach.py:1010 Moving deltaPhi = [-2.96705965 -2.96705963 -2.9670596  -2.96705959 -1.71883189 -2.96705973\n",
      " -2.96705964 -2.96705969 -0.06341524 -2.96705964 -1.88389766 -2.9670596\n",
      " -0.0498779 ]\n",
      "2025-02-05 21:48:54.794Z cobraCoach       20 cobraCoach.py:877 Finished converting angle to steps, sending command to moveSteps (constantOntime).\n",
      "2025-02-05 21:48:54.802Z cobraCoach       20 cobraCoach.py:587 Sending step numbers to FPGA for moving cobra.\n",
      "2025-02-05 21:48:54.805Z cobraCoach       20 cobraCoach.py:601 cobra control FPGA operation done.\n",
      "2025-02-05 21:48:54.835Z pfi              40 pfi.py:896 Some theta angles are out of range\n",
      "2025-02-05 21:48:54.836Z pfi              40 pfi.py:899 Some phi angles are out of range\n",
      "2025-02-05 21:48:55.095Z cobraCoach       30 cobraCoach.py:675 Cobra#1790 is too far from center\n",
      "2025-02-05 21:48:55.099Z engineer         20 engineer.py:422 Updating the cobra information\n",
      "2025-02-05 21:48:55.102Z engineer         20 engineer.py:412 Sending angles to moveToAngles for 5-th iteration\n",
      "2025-02-05 21:48:55.105Z cobraCoach       30 cobraCoach.py:1003 Last phi angle is unknown, not moving: [1459]\n",
      "2025-02-05 21:48:55.109Z cobraCoach       20 cobraCoach.py:1009 Moving deltaTheta = [-2.17122172e-04 -5.14191722e-04 -6.14804362e-04 -1.01748456e-05\n",
      " -4.10811338e-03 -1.01748456e-05 -1.01748455e-05 -1.01748456e-05\n",
      " -2.97707652e-04 -1.03632841e-03  7.85623389e-01 -3.80200480e-04\n",
      " -1.05065440e-04]\n",
      "2025-02-05 21:48:55.111Z cobraCoach       20 cobraCoach.py:1010 Moving deltaPhi = [-2.96705965 -2.96705963 -2.9670596  -2.96705959 -2.96705962  0.\n",
      " -2.96705964 -2.96705969 -0.06341524 -2.96705964 -6.10865247 -2.9670596\n",
      " -0.0498779 ]\n",
      "2025-02-05 21:48:55.116Z cobraCoach       30 cobraCoach.py:846 Last phi angle is unknown: [1459]\n",
      "2025-02-05 21:48:55.118Z cobraCoach       20 cobraCoach.py:877 Finished converting angle to steps, sending command to moveSteps (constantOntime).\n",
      "2025-02-05 21:48:55.150Z cobraCoach       20 cobraCoach.py:587 Sending step numbers to FPGA for moving cobra.\n",
      "2025-02-05 21:48:55.157Z cobraCoach       20 cobraCoach.py:601 cobra control FPGA operation done.\n",
      "2025-02-05 21:48:55.227Z pfi              40 pfi.py:896 Some theta angles are out of range\n",
      "2025-02-05 21:48:55.232Z pfi              40 pfi.py:899 Some phi angles are out of range\n",
      "2025-02-05 21:48:55.395Z pfi              30 pfi.py:475 clipping scale adjustment from 0.2250489700875823 to 0.3\n",
      "2025-02-05 21:48:55.396Z cobraCoach       30 cobraCoach.py:679 Cobra#1460 is too close to center\n",
      "2025-02-05 21:48:55.397Z pfi              30 pfi.py:475 clipping scale adjustment from 0.26154231110049525 to 0.3\n",
      "2025-02-05 21:48:55.400Z engineer         20 engineer.py:422 Updating the cobra information\n",
      "2025-02-05 21:48:55.404Z engineer         30 engineer.py:445 13 cobras did not finish: [ 343  442  492  737 1302 1459 1493 1538 1587 1636 1789 1791 1969], [4.67 4.67 4.67 4.67 4.67 0.82 4.67 4.67 0.16 4.67 4.2  4.67 0.11]\n",
      "2025-02-05 21:48:55.405Z engineer         20 engineer.py:450 Returning 2394 atThetas and 2394 atPhis\n",
      "2025-02-05 21:48:55.438Z pfi              40 pfi.py:896 Some theta angles are out of range\n",
      "2025-02-05 21:48:55.442Z pfi              40 pfi.py:899 Some phi angles are out of range\n",
      "2025-02-05 21:48:55.570Z pfi              40 pfi.py:896 Some theta angles are out of range\n",
      "2025-02-05 21:48:55.572Z pfi              40 pfi.py:899 Some phi angles are out of range\n",
      "2025-02-05 21:48:55.683Z pfi              40 pfi.py:896 Some theta angles are out of range\n",
      "2025-02-05 21:48:55.686Z pfi              40 pfi.py:899 Some phi angles are out of range\n",
      "2025-02-05 21:48:55.764Z pfi              40 pfi.py:896 Some theta angles are out of range\n",
      "2025-02-05 21:48:55.766Z pfi              40 pfi.py:899 Some phi angles are out of range\n",
      "2025-02-05 21:48:55.834Z pfi              40 pfi.py:896 Some theta angles are out of range\n",
      "2025-02-05 21:48:55.837Z pfi              40 pfi.py:899 Some phi angles are out of range\n",
      "2025-02-05 21:48:55.897Z pfi              40 pfi.py:896 Some theta angles are out of range\n",
      "2025-02-05 21:48:55.899Z pfi              40 pfi.py:899 Some phi angles are out of range\n",
      "2025-02-05 21:48:55.961Z pfi              40 pfi.py:896 Some theta angles are out of range\n",
      "2025-02-05 21:48:55.963Z pfi              40 pfi.py:899 Some phi angles are out of range\n",
      "2025-02-05 21:48:56.019Z pfi              40 pfi.py:896 Some theta angles are out of range\n",
      "2025-02-05 21:48:56.020Z pfi              40 pfi.py:899 Some phi angles are out of range\n",
      "2025-02-05 21:48:56.092Z pfi              40 pfi.py:930 Some theta angles are out of range\n",
      "2025-02-05 21:48:56.187Z pfi              40 pfi.py:930 Some theta angles are out of range\n",
      "2025-02-05 21:48:56.264Z pfi              40 pfi.py:930 Some theta angles are out of range\n",
      "2025-02-05 21:48:56.318Z pfi              40 pfi.py:930 Some theta angles are out of range\n",
      "2025-02-05 21:48:56.363Z pfi              40 pfi.py:930 Some theta angles are out of range\n",
      "2025-02-05 21:48:56.405Z pfi              40 pfi.py:930 Some theta angles are out of range\n",
      "2025-02-05 21:48:56.450Z pfi              40 pfi.py:930 Some theta angles are out of range\n",
      "2025-02-05 21:48:56.493Z pfi              40 pfi.py:930 Some theta angles are out of range\n"
     ]
    },
    {
     "name": "stdout",
     "output_type": "stream",
     "text": [
      "ERROR: detected 13 end point collision, which should be impossible\n",
      "trajectory collisions found: 0\n",
      "Done: solving the problem for stage=0 targets.\n",
      "solving the problem for stage=1 targets.\n",
      "Set parameter Presolve to value 1\n"
     ]
    },
    {
     "name": "stderr",
     "output_type": "stream",
     "text": [
      "2025-02-05 21:49:01.283Z gurobipy         20 netflow.py:117 Set parameter Presolve to value 1\n"
     ]
    },
    {
     "name": "stdout",
     "output_type": "stream",
     "text": [
      "Set parameter Method to value 4\n"
     ]
    },
    {
     "name": "stderr",
     "output_type": "stream",
     "text": [
      "2025-02-05 21:49:01.296Z gurobipy         20 netflow.py:117 Set parameter Method to value 4\n"
     ]
    },
    {
     "name": "stdout",
     "output_type": "stream",
     "text": [
      "Set parameter DegenMoves to value 0\n"
     ]
    },
    {
     "name": "stderr",
     "output_type": "stream",
     "text": [
      "2025-02-05 21:49:01.424Z gurobipy         20 netflow.py:117 Set parameter DegenMoves to value 0\n"
     ]
    },
    {
     "name": "stdout",
     "output_type": "stream",
     "text": [
      "Set parameter Heuristics to value 0.8\n"
     ]
    },
    {
     "name": "stderr",
     "output_type": "stream",
     "text": [
      "2025-02-05 21:49:01.431Z gurobipy         20 netflow.py:117 Set parameter Heuristics to value 0.8\n"
     ]
    },
    {
     "name": "stdout",
     "output_type": "stream",
     "text": [
      "Set parameter MIPGap to value 0.5\n"
     ]
    },
    {
     "name": "stderr",
     "output_type": "stream",
     "text": [
      "2025-02-05 21:49:01.434Z gurobipy         20 netflow.py:117 Set parameter MIPGap to value 0.5\n"
     ]
    },
    {
     "name": "stdout",
     "output_type": "stream",
     "text": [
      "Creating network topology\n",
      "  exposure 1\n",
      "Calculating visibilities\n",
      "adding constraints\n",
      "adding collision constraints\n",
      "adding forbidden pair constraints\n",
      "Gurobi Optimizer version 10.0.1 build v10.0.1rc0 (mac64[x86])\n"
     ]
    },
    {
     "name": "stderr",
     "output_type": "stream",
     "text": [
      "2025-02-05 21:49:02.617Z gurobipy         20 netflow.py:149 Gurobi Optimizer version 10.0.1 build v10.0.1rc0 (mac64[x86])\n"
     ]
    },
    {
     "name": "stdout",
     "output_type": "stream",
     "text": [
      "\n"
     ]
    },
    {
     "name": "stderr",
     "output_type": "stream",
     "text": [
      "2025-02-05 21:49:02.621Z gurobipy         20 netflow.py:149 \n"
     ]
    },
    {
     "name": "stdout",
     "output_type": "stream",
     "text": [
      "CPU model: Intel(R) Core(TM) i7-8569U CPU @ 2.80GHz\n"
     ]
    },
    {
     "name": "stderr",
     "output_type": "stream",
     "text": [
      "2025-02-05 21:49:02.623Z gurobipy         20 netflow.py:149 CPU model: Intel(R) Core(TM) i7-8569U CPU @ 2.80GHz\n"
     ]
    },
    {
     "name": "stdout",
     "output_type": "stream",
     "text": [
      "Thread count: 4 physical cores, 8 logical processors, using up to 8 threads\n"
     ]
    },
    {
     "name": "stderr",
     "output_type": "stream",
     "text": [
      "2025-02-05 21:49:02.625Z gurobipy         20 netflow.py:149 Thread count: 4 physical cores, 8 logical processors, using up to 8 threads\n"
     ]
    },
    {
     "name": "stdout",
     "output_type": "stream",
     "text": [
      "\n"
     ]
    },
    {
     "name": "stderr",
     "output_type": "stream",
     "text": [
      "2025-02-05 21:49:02.627Z gurobipy         20 netflow.py:149 \n"
     ]
    },
    {
     "name": "stdout",
     "output_type": "stream",
     "text": [
      "Academic license 2379863 - for non-commercial use only - registered to ji___@ipmu.jp\n"
     ]
    },
    {
     "name": "stderr",
     "output_type": "stream",
     "text": [
      "2025-02-05 21:49:02.637Z gurobipy         20 netflow.py:149 Academic license 2379863 - for non-commercial use only - registered to ji___@ipmu.jp\n"
     ]
    },
    {
     "name": "stdout",
     "output_type": "stream",
     "text": [
      "Optimize a model with 9274 rows, 8832 columns and 19421 nonzeros\n"
     ]
    },
    {
     "name": "stderr",
     "output_type": "stream",
     "text": [
      "2025-02-05 21:49:02.640Z gurobipy         20 netflow.py:149 Optimize a model with 9274 rows, 8832 columns and 19421 nonzeros\n"
     ]
    },
    {
     "name": "stdout",
     "output_type": "stream",
     "text": [
      "Model fingerprint: 0x2fb23e4e\n"
     ]
    },
    {
     "name": "stderr",
     "output_type": "stream",
     "text": [
      "2025-02-05 21:49:02.644Z gurobipy         20 netflow.py:149 Model fingerprint: 0x2fb23e4e\n"
     ]
    },
    {
     "name": "stdout",
     "output_type": "stream",
     "text": [
      "Variable types: 1 continuous, 8831 integer (6730 binary)\n"
     ]
    },
    {
     "name": "stderr",
     "output_type": "stream",
     "text": [
      "2025-02-05 21:49:02.656Z gurobipy         20 netflow.py:149 Variable types: 1 continuous, 8831 integer (6730 binary)\n"
     ]
    },
    {
     "name": "stdout",
     "output_type": "stream",
     "text": [
      "Coefficient statistics:\n"
     ]
    },
    {
     "name": "stderr",
     "output_type": "stream",
     "text": [
      "2025-02-05 21:49:02.660Z gurobipy         20 netflow.py:149 Coefficient statistics:\n"
     ]
    },
    {
     "name": "stdout",
     "output_type": "stream",
     "text": [
      "  Matrix range     [1e+00, 1e+00]\n"
     ]
    },
    {
     "name": "stderr",
     "output_type": "stream",
     "text": [
      "2025-02-05 21:49:02.663Z gurobipy         20 netflow.py:149   Matrix range     [1e+00, 1e+00]\n"
     ]
    },
    {
     "name": "stdout",
     "output_type": "stream",
     "text": [
      "  Objective range  [1e-05, 1e+06]\n"
     ]
    },
    {
     "name": "stderr",
     "output_type": "stream",
     "text": [
      "2025-02-05 21:49:02.666Z gurobipy         20 netflow.py:149   Objective range  [1e-05, 1e+06]\n"
     ]
    },
    {
     "name": "stdout",
     "output_type": "stream",
     "text": [
      "  Bounds range     [1e+00, 1e+00]\n"
     ]
    },
    {
     "name": "stderr",
     "output_type": "stream",
     "text": [
      "2025-02-05 21:49:02.671Z gurobipy         20 netflow.py:149   Bounds range     [1e+00, 1e+00]\n"
     ]
    },
    {
     "name": "stdout",
     "output_type": "stream",
     "text": [
      "  RHS range        [1e+00, 2e+03]\n"
     ]
    },
    {
     "name": "stderr",
     "output_type": "stream",
     "text": [
      "2025-02-05 21:49:02.677Z gurobipy         20 netflow.py:149   RHS range        [1e+00, 2e+03]\n"
     ]
    },
    {
     "name": "stdout",
     "output_type": "stream",
     "text": [
      "Found heuristic solution: objective 88.1240411\n"
     ]
    },
    {
     "name": "stderr",
     "output_type": "stream",
     "text": [
      "2025-02-05 21:49:02.688Z gurobipy         20 netflow.py:149 Found heuristic solution: objective 88.1240411\n"
     ]
    },
    {
     "name": "stdout",
     "output_type": "stream",
     "text": [
      "Presolve removed 9274 rows and 8832 columns\n"
     ]
    },
    {
     "name": "stderr",
     "output_type": "stream",
     "text": [
      "2025-02-05 21:49:02.707Z gurobipy         20 netflow.py:149 Presolve removed 9274 rows and 8832 columns\n"
     ]
    },
    {
     "name": "stdout",
     "output_type": "stream",
     "text": [
      "Presolve time: 0.02s\n"
     ]
    },
    {
     "name": "stderr",
     "output_type": "stream",
     "text": [
      "2025-02-05 21:49:02.711Z gurobipy         20 netflow.py:149 Presolve time: 0.02s\n"
     ]
    },
    {
     "name": "stdout",
     "output_type": "stream",
     "text": [
      "Presolve: All rows and columns removed\n"
     ]
    },
    {
     "name": "stderr",
     "output_type": "stream",
     "text": [
      "2025-02-05 21:49:02.719Z gurobipy         20 netflow.py:149 Presolve: All rows and columns removed\n"
     ]
    },
    {
     "name": "stdout",
     "output_type": "stream",
     "text": [
      "\n"
     ]
    },
    {
     "name": "stderr",
     "output_type": "stream",
     "text": [
      "2025-02-05 21:49:02.724Z gurobipy         20 netflow.py:149 \n"
     ]
    },
    {
     "name": "stdout",
     "output_type": "stream",
     "text": [
      "Explored 0 nodes (0 simplex iterations) in 0.09 seconds (0.01 work units)\n"
     ]
    },
    {
     "name": "stderr",
     "output_type": "stream",
     "text": [
      "2025-02-05 21:49:02.733Z gurobipy         20 netflow.py:149 Explored 0 nodes (0 simplex iterations) in 0.09 seconds (0.01 work units)\n"
     ]
    },
    {
     "name": "stdout",
     "output_type": "stream",
     "text": [
      "Thread count was 1 (of 8 available processors)\n"
     ]
    },
    {
     "name": "stderr",
     "output_type": "stream",
     "text": [
      "2025-02-05 21:49:02.738Z gurobipy         20 netflow.py:149 Thread count was 1 (of 8 available processors)\n"
     ]
    },
    {
     "name": "stdout",
     "output_type": "stream",
     "text": [
      "\n"
     ]
    },
    {
     "name": "stderr",
     "output_type": "stream",
     "text": [
      "2025-02-05 21:49:02.743Z gurobipy         20 netflow.py:149 \n"
     ]
    },
    {
     "name": "stdout",
     "output_type": "stream",
     "text": [
      "Solution count 1: 88.124 \n"
     ]
    },
    {
     "name": "stderr",
     "output_type": "stream",
     "text": [
      "2025-02-05 21:49:02.747Z gurobipy         20 netflow.py:149 Solution count 1: 88.124 \n"
     ]
    },
    {
     "name": "stdout",
     "output_type": "stream",
     "text": [
      "\n"
     ]
    },
    {
     "name": "stderr",
     "output_type": "stream",
     "text": [
      "2025-02-05 21:49:02.749Z gurobipy         20 netflow.py:149 \n"
     ]
    },
    {
     "name": "stdout",
     "output_type": "stream",
     "text": [
      "Optimal solution found (tolerance 5.00e-01)\n"
     ]
    },
    {
     "name": "stderr",
     "output_type": "stream",
     "text": [
      "2025-02-05 21:49:02.755Z gurobipy         20 netflow.py:149 Optimal solution found (tolerance 5.00e-01)\n"
     ]
    },
    {
     "name": "stdout",
     "output_type": "stream",
     "text": [
      "Best objective 8.812404112894e+01, best bound 8.812404112894e+01, gap 0.0000%\n"
     ]
    },
    {
     "name": "stderr",
     "output_type": "stream",
     "text": [
      "2025-02-05 21:49:02.763Z gurobipy         20 netflow.py:149 Best objective 8.812404112894e+01, best bound 8.812404112894e+01, gap 0.0000%\n"
     ]
    },
    {
     "name": "stdout",
     "output_type": "stream",
     "text": [
      "Checking for trajectory collisions\n"
     ]
    },
    {
     "name": "stderr",
     "output_type": "stream",
     "text": [
      "2025-02-05 21:49:02.850Z pfi              40 pfi.py:896 Some theta angles are out of range\n",
      "2025-02-05 21:49:02.851Z pfi              40 pfi.py:899 Some phi angles are out of range\n",
      "2025-02-05 21:49:02.995Z pfi              40 pfi.py:899 Some phi angles are out of range\n",
      "2025-02-05 21:49:03.034Z pfi              40 pfi.py:899 Some phi angles are out of range\n",
      "2025-02-05 21:49:03.038Z engineer         20 engineer.py:395 Move theta arms to angle=[157.75 125.79 186.88 ... 195.95 251.55 381.26] degree\n",
      "2025-02-05 21:49:03.039Z engineer         20 engineer.py:396 Move phi arms to angle=[42.77 74.48 50.51 ...  4.19 61.99 59.16] degree\n",
      "2025-02-05 21:49:03.040Z engineer         20 engineer.py:398 Checking passed homed argument = True\n",
      "2025-02-05 21:49:03.043Z engineer         20 engineer.py:402 Move theta arms CW and phi arms CCW to the hard stops\n",
      "2025-02-05 21:49:03.070Z cobraCoach       20 cobraCoach.py:1065 home cobras: theta=10000, phi=-5000\n",
      "2025-02-05 21:49:03.093Z pfi              40 pfi.py:899 Some phi angles are out of range\n",
      "2025-02-05 21:49:03.118Z pfi              40 pfi.py:899 Some phi angles are out of range\n",
      "2025-02-05 21:49:03.120Z engineer         20 engineer.py:412 Sending angles to moveToAngles for 0-th iteration\n",
      "2025-02-05 21:49:03.146Z cobraCoach       20 cobraCoach.py:1009 Moving deltaTheta = [-3.8245624  -4.46974233 -3.37763329 ... -3.26921295 -2.2942015\n",
      " -0.04489304]\n",
      "2025-02-05 21:49:03.147Z cobraCoach       20 cobraCoach.py:1010 Moving deltaPhi = [0.74646986 1.29989723 0.88154579 ... 0.07318876 1.08198757 1.03245348]\n",
      "2025-02-05 21:49:03.387Z cobraCoach       20 cobraCoach.py:877 Finished converting angle to steps, sending command to moveSteps (constantOntime).\n",
      "2025-02-05 21:49:03.997Z cobraCoach       20 cobraCoach.py:587 Sending step numbers to FPGA for moving cobra.\n",
      "2025-02-05 21:49:04.107Z cobraCoach       20 cobraCoach.py:601 cobra control FPGA operation done.\n",
      "2025-02-05 21:49:04.130Z pfi              40 pfi.py:896 Some theta angles are out of range\n",
      "2025-02-05 21:49:04.131Z pfi              40 pfi.py:899 Some phi angles are out of range\n",
      "2025-02-05 21:49:04.232Z cobraCoach       30 cobraCoach.py:675 Cobra#344 is too far from center\n",
      "2025-02-05 21:49:04.235Z cobraCoach       30 cobraCoach.py:675 Cobra#443 is too far from center\n",
      "2025-02-05 21:49:04.238Z cobraCoach       30 cobraCoach.py:675 Cobra#493 is too far from center\n",
      "2025-02-05 21:49:04.258Z cobraCoach       30 cobraCoach.py:675 Cobra#1303 is too far from center\n",
      "2025-02-05 21:49:04.267Z cobraCoach       30 cobraCoach.py:675 Cobra#1637 is too far from center\n",
      "2025-02-05 21:49:04.272Z cobraCoach       30 cobraCoach.py:675 Cobra#1790 is too far from center\n",
      "2025-02-05 21:49:04.274Z cobraCoach       30 cobraCoach.py:675 Cobra#1792 is too far from center\n",
      "2025-02-05 21:49:04.292Z engineer         20 engineer.py:422 Updating the cobra information\n",
      "2025-02-05 21:49:04.299Z engineer         20 engineer.py:436 done: [   0    1    2 ... 2391 2392 2393], 20 left\n",
      "2025-02-05 21:49:04.300Z engineer         20 engineer.py:412 Sending angles to moveToAngles for 1-th iteration\n",
      "2025-02-05 21:49:04.302Z cobraCoach       30 cobraCoach.py:1003 Last phi angle is unknown, not moving: [1459]\n",
      "2025-02-05 21:49:04.304Z cobraCoach       20 cobraCoach.py:1009 Moving deltaTheta = [-1.07113214e-03 -1.01748456e-05 -1.01748456e-05 -1.01748456e-05\n",
      " -1.01748456e-05 -8.04138262e-01 -6.50805415e-04 -1.01748456e-05\n",
      " -1.01748456e-05 -1.01748455e-05 -1.01748456e-05  6.92683126e-04\n",
      " -1.01748455e-05 -4.15655482e-01  1.05095270e-03 -1.01748456e-05\n",
      " -1.01748456e-05 -1.70963505e-01  1.10228624e-03 -1.60452184e-01]\n",
      "2025-02-05 21:49:04.305Z cobraCoach       20 cobraCoach.py:1010 Moving deltaPhi = [-1.07495422e-03 -6.10865247e+00 -6.10865247e+00 -6.10865247e+00\n",
      " -2.96705959e+00  4.46207273e-01 -1.81239662e-03 -6.10865247e+00\n",
      "  0.00000000e+00 -2.96705964e+00 -2.96705969e+00 -6.34152399e-02\n",
      " -6.10865247e+00  4.48039121e-01  1.46972212e-03 -6.10865247e+00\n",
      " -6.10865247e+00  1.70173284e-01 -4.98778998e-02  2.11989619e-01]\n",
      "2025-02-05 21:49:04.310Z cobraCoach       30 cobraCoach.py:846 Last phi angle is unknown: [1459]\n",
      "2025-02-05 21:49:04.316Z cobraCoach       20 cobraCoach.py:877 Finished converting angle to steps, sending command to moveSteps (constantOntime).\n",
      "2025-02-05 21:49:04.328Z cobraCoach       20 cobraCoach.py:587 Sending step numbers to FPGA for moving cobra.\n",
      "2025-02-05 21:49:04.332Z cobraCoach       20 cobraCoach.py:601 cobra control FPGA operation done.\n",
      "2025-02-05 21:49:04.356Z pfi              40 pfi.py:896 Some theta angles are out of range\n",
      "2025-02-05 21:49:04.357Z pfi              40 pfi.py:899 Some phi angles are out of range\n",
      "2025-02-05 21:49:04.457Z cobraCoach       30 cobraCoach.py:675 Cobra#344 is too far from center\n",
      "2025-02-05 21:49:04.458Z cobraCoach       30 cobraCoach.py:679 Cobra#1460 is too close to center\n",
      "2025-02-05 21:49:04.459Z cobraCoach       30 cobraCoach.py:675 Cobra#1637 is too far from center\n",
      "2025-02-05 21:49:04.461Z cobraCoach       30 cobraCoach.py:675 Cobra#1790 is too far from center\n",
      "2025-02-05 21:49:04.463Z engineer         20 engineer.py:422 Updating the cobra information\n",
      "2025-02-05 21:49:04.466Z engineer         20 engineer.py:436 done: [ 109  829  889 1729 1763 1886 1989], 13 left\n",
      "2025-02-05 21:49:04.467Z engineer         30 engineer.py:445 13 cobras did not finish: [ 343  442  492  737 1302 1459 1493 1538 1587 1636 1789 1791 1969], [4.67 4.67 4.67 4.67 4.67 0.82 4.67 4.67 0.16 4.67 4.67 4.67 0.11]\n",
      "2025-02-05 21:49:04.469Z engineer         20 engineer.py:450 Returning 2394 atThetas and 2394 atPhis\n",
      "2025-02-05 21:49:04.498Z pfi              40 pfi.py:899 Some phi angles are out of range\n",
      "2025-02-05 21:49:04.500Z engineer         20 engineer.py:395 Move theta arms to angle=[157.75 119.96 186.88 ... 195.95 245.25 357.09] degree\n",
      "2025-02-05 21:49:04.502Z engineer         20 engineer.py:396 Move phi arms to angle=[ 42.77  86.14  50.51 ...   4.19  74.59 107.49] degree\n",
      "2025-02-05 21:49:04.503Z engineer         20 engineer.py:398 Checking passed homed argument = False\n",
      "2025-02-05 21:49:04.504Z engineer         20 engineer.py:412 Sending angles to moveToAngles for 0-th iteration\n",
      "2025-02-05 21:49:04.532Z cobraCoach       20 cobraCoach.py:1009 Moving deltaTheta = [-9.36358305e-04 -1.01300812e-01 -1.61367341e-04 ...  6.57805335e-04\n",
      " -1.10266060e-01 -4.20793159e-01]\n",
      "2025-02-05 21:49:04.533Z cobraCoach       20 cobraCoach.py:1010 Moving deltaPhi = [-2.82108561e-04  2.03516538e-01 -4.88687686e-04 ...  7.61926699e-04\n",
      "  2.20055095e-01  8.43274244e-01]\n",
      "2025-02-05 21:49:04.735Z cobraCoach       20 cobraCoach.py:877 Finished converting angle to steps, sending command to moveSteps (constantOntime).\n",
      "2025-02-05 21:49:04.988Z cobraCoach       20 cobraCoach.py:587 Sending step numbers to FPGA for moving cobra.\n",
      "2025-02-05 21:49:05.097Z cobraCoach       20 cobraCoach.py:601 cobra control FPGA operation done.\n",
      "2025-02-05 21:49:05.121Z pfi              40 pfi.py:896 Some theta angles are out of range\n",
      "2025-02-05 21:49:05.122Z pfi              40 pfi.py:899 Some phi angles are out of range\n",
      "2025-02-05 21:49:05.246Z cobraCoach       30 cobraCoach.py:675 Cobra#1303 is too far from center\n",
      "2025-02-05 21:49:05.259Z cobraCoach       30 cobraCoach.py:675 Cobra#1790 is too far from center\n",
      "2025-02-05 21:49:05.275Z engineer         20 engineer.py:422 Updating the cobra information\n",
      "2025-02-05 21:49:05.279Z engineer         20 engineer.py:436 done: [   0    1    2 ... 2391 2392 2393], 14 left\n",
      "2025-02-05 21:49:05.280Z engineer         20 engineer.py:412 Sending angles to moveToAngles for 1-th iteration\n",
      "2025-02-05 21:49:05.281Z cobraCoach       30 cobraCoach.py:1003 Last phi angle is unknown, not moving: [1459]\n",
      "2025-02-05 21:49:05.283Z cobraCoach       20 cobraCoach.py:1009 Moving deltaTheta = [-1.94233989e-04 -5.14191722e-04 -6.14804362e-04 -1.01748456e-05\n",
      "  5.15030639e-04  2.69975771e-06 -1.01748456e-05 -1.01748455e-05\n",
      " -1.01748456e-05 -2.97707652e-04 -1.03632841e-03 -1.01748456e-05\n",
      " -3.80200480e-04 -1.05065440e-04]\n",
      "2025-02-05 21:49:05.284Z cobraCoach       20 cobraCoach.py:1010 Moving deltaPhi = [-2.96687409e+00 -2.96705963e+00 -2.96705960e+00 -2.96705959e+00\n",
      "  1.64040231e-03 -6.10865247e+00  0.00000000e+00 -2.96705964e+00\n",
      " -2.96705969e+00 -6.34152399e-02 -2.96602327e+00 -6.10865247e+00\n",
      " -2.96705960e+00 -4.98778998e-02]\n",
      "2025-02-05 21:49:05.287Z cobraCoach       30 cobraCoach.py:846 Last phi angle is unknown: [1459]\n",
      "2025-02-05 21:49:05.289Z cobraCoach       20 cobraCoach.py:877 Finished converting angle to steps, sending command to moveSteps (constantOntime).\n",
      "2025-02-05 21:49:05.298Z cobraCoach       20 cobraCoach.py:587 Sending step numbers to FPGA for moving cobra.\n",
      "2025-02-05 21:49:05.303Z cobraCoach       20 cobraCoach.py:601 cobra control FPGA operation done.\n",
      "2025-02-05 21:49:05.330Z pfi              40 pfi.py:896 Some theta angles are out of range\n",
      "2025-02-05 21:49:05.331Z pfi              40 pfi.py:899 Some phi angles are out of range\n",
      "2025-02-05 21:49:05.426Z cobraCoach       30 cobraCoach.py:675 Cobra#344 is too far from center\n",
      "2025-02-05 21:49:05.428Z pfi              30 pfi.py:475 clipping scale adjustment from 0.2573481031895782 to 0.3\n",
      "2025-02-05 21:49:05.428Z cobraCoach       30 cobraCoach.py:679 Cobra#1460 is too close to center\n",
      "2025-02-05 21:49:05.430Z pfi              30 pfi.py:475 clipping scale adjustment from 0.26154231110049525 to 0.3\n",
      "2025-02-05 21:49:05.432Z engineer         20 engineer.py:422 Updating the cobra information\n",
      "2025-02-05 21:49:05.436Z engineer         20 engineer.py:436 done: [855], 13 left\n",
      "2025-02-05 21:49:05.437Z engineer         20 engineer.py:412 Sending angles to moveToAngles for 2-th iteration\n",
      "2025-02-05 21:49:05.443Z cobraCoach       20 cobraCoach.py:1009 Moving deltaTheta = [-1.94233989e-04 -5.14191722e-04 -6.14804362e-04 -1.01748456e-05\n",
      " -1.09852569e+00 -1.01748456e-05 -1.01748455e-05 -1.01748456e-05\n",
      " -2.97707652e-04 -1.03632841e-03 -1.07143418e+00 -3.80200480e-04\n",
      " -1.05065440e-04]\n",
      "2025-02-05 21:49:05.444Z cobraCoach       20 cobraCoach.py:1010 Moving deltaPhi = [-6.10865247 -2.96705963 -2.9670596  -2.96705959 -1.71883189 -2.96705973\n",
      " -2.96705964 -2.96705969 -0.06341524 -2.96705964 -1.88389766 -2.9670596\n",
      " -0.0498779 ]\n",
      "2025-02-05 21:49:05.452Z cobraCoach       20 cobraCoach.py:877 Finished converting angle to steps, sending command to moveSteps (constantOntime).\n",
      "2025-02-05 21:49:05.463Z cobraCoach       20 cobraCoach.py:587 Sending step numbers to FPGA for moving cobra.\n",
      "2025-02-05 21:49:05.467Z cobraCoach       20 cobraCoach.py:601 cobra control FPGA operation done.\n",
      "2025-02-05 21:49:05.497Z pfi              40 pfi.py:896 Some theta angles are out of range\n",
      "2025-02-05 21:49:05.498Z pfi              40 pfi.py:899 Some phi angles are out of range\n",
      "2025-02-05 21:49:05.595Z cobraCoach       30 cobraCoach.py:675 Cobra#1303 is too far from center\n",
      "2025-02-05 21:49:05.596Z pfi              30 pfi.py:475 clipping scale adjustment from 0.29999999904403885 to 0.3\n",
      "2025-02-05 21:49:05.597Z cobraCoach       30 cobraCoach.py:675 Cobra#1790 is too far from center\n",
      "2025-02-05 21:49:05.599Z engineer         20 engineer.py:422 Updating the cobra information\n",
      "2025-02-05 21:49:05.602Z engineer         20 engineer.py:412 Sending angles to moveToAngles for 3-th iteration\n",
      "2025-02-05 21:49:05.603Z cobraCoach       30 cobraCoach.py:1003 Last phi angle is unknown, not moving: [1459]\n",
      "2025-02-05 21:49:05.604Z cobraCoach       20 cobraCoach.py:1009 Moving deltaTheta = [-3.21863813e-01 -5.14191722e-04 -6.14804362e-04 -1.01748456e-05\n",
      " -6.82685060e-01 -1.01748456e-05 -1.01748455e-05 -1.01748456e-05\n",
      " -2.97707652e-04 -1.03632841e-03 -3.25590772e-01 -3.80200480e-04\n",
      " -1.05065440e-04]\n",
      "2025-02-05 21:49:05.605Z cobraCoach       20 cobraCoach.py:1010 Moving deltaPhi = [-2.64219266 -2.96705963 -2.9670596  -2.96705959 -6.10865247  0.\n",
      " -2.96705964 -2.96705969 -0.06341524 -2.96705964 -6.10865247 -2.9670596\n",
      " -0.0498779 ]\n",
      "2025-02-05 21:49:05.608Z cobraCoach       30 cobraCoach.py:846 Last phi angle is unknown: [1459]\n",
      "2025-02-05 21:49:05.612Z cobraCoach       20 cobraCoach.py:877 Finished converting angle to steps, sending command to moveSteps (constantOntime).\n",
      "2025-02-05 21:49:05.624Z cobraCoach       20 cobraCoach.py:587 Sending step numbers to FPGA for moving cobra.\n",
      "2025-02-05 21:49:05.629Z cobraCoach       20 cobraCoach.py:601 cobra control FPGA operation done.\n",
      "2025-02-05 21:49:05.661Z pfi              40 pfi.py:896 Some theta angles are out of range\n",
      "2025-02-05 21:49:05.662Z pfi              40 pfi.py:899 Some phi angles are out of range\n",
      "2025-02-05 21:49:05.756Z pfi              30 pfi.py:475 clipping scale adjustment from 0.22521650184055392 to 0.3\n",
      "2025-02-05 21:49:05.757Z pfi              30 pfi.py:475 clipping scale adjustment from 0.2573481031895782 to 0.3\n",
      "2025-02-05 21:49:05.758Z cobraCoach       30 cobraCoach.py:679 Cobra#1460 is too close to center\n",
      "2025-02-05 21:49:05.760Z pfi              30 pfi.py:475 clipping scale adjustment from 0.22664453700152026 to 0.3\n",
      "2025-02-05 21:49:05.761Z pfi              30 pfi.py:475 clipping scale adjustment from 0.26154231110049525 to 0.3\n",
      "2025-02-05 21:49:05.763Z engineer         20 engineer.py:422 Updating the cobra information\n",
      "2025-02-05 21:49:05.767Z engineer         20 engineer.py:412 Sending angles to moveToAngles for 4-th iteration\n",
      "2025-02-05 21:49:05.770Z cobraCoach       20 cobraCoach.py:1009 Moving deltaTheta = [-2.17122172e-04 -5.14191722e-04 -6.14804362e-04 -1.01748456e-05\n",
      "  4.51698156e+00 -1.01748456e-05 -1.01748455e-05 -1.01748456e-05\n",
      " -2.97707652e-04 -1.03632841e-03  5.00301130e+00 -3.80200480e-04\n",
      " -1.05065440e-04]\n",
      "2025-02-05 21:49:05.772Z cobraCoach       20 cobraCoach.py:1010 Moving deltaPhi = [-2.96705965 -2.96705963 -2.9670596  -2.96705959 -1.71883189 -2.96705973\n",
      " -2.96705964 -2.96705969 -0.06341524 -2.96705964 -1.88389766 -2.9670596\n",
      " -0.0498779 ]\n",
      "2025-02-05 21:49:05.777Z cobraCoach       20 cobraCoach.py:877 Finished converting angle to steps, sending command to moveSteps (constantOntime).\n",
      "2025-02-05 21:49:05.786Z cobraCoach       20 cobraCoach.py:587 Sending step numbers to FPGA for moving cobra.\n",
      "2025-02-05 21:49:05.789Z cobraCoach       20 cobraCoach.py:601 cobra control FPGA operation done.\n",
      "2025-02-05 21:49:05.817Z pfi              40 pfi.py:896 Some theta angles are out of range\n",
      "2025-02-05 21:49:05.818Z pfi              40 pfi.py:899 Some phi angles are out of range\n",
      "2025-02-05 21:49:05.912Z cobraCoach       30 cobraCoach.py:675 Cobra#1790 is too far from center\n",
      "2025-02-05 21:49:05.913Z engineer         20 engineer.py:422 Updating the cobra information\n",
      "2025-02-05 21:49:05.916Z engineer         20 engineer.py:412 Sending angles to moveToAngles for 5-th iteration\n",
      "2025-02-05 21:49:05.917Z cobraCoach       30 cobraCoach.py:1003 Last phi angle is unknown, not moving: [1459]\n",
      "2025-02-05 21:49:05.919Z cobraCoach       20 cobraCoach.py:1009 Moving deltaTheta = [-2.17122172e-04 -5.14191722e-04 -6.14804362e-04 -1.01748456e-05\n",
      " -4.10811338e-03 -1.01748456e-05 -1.01748455e-05 -1.01748456e-05\n",
      " -2.97707652e-04 -1.03632841e-03  7.85623389e-01 -3.80200480e-04\n",
      " -1.05065440e-04]\n",
      "2025-02-05 21:49:05.920Z cobraCoach       20 cobraCoach.py:1010 Moving deltaPhi = [-2.96705965 -2.96705963 -2.9670596  -2.96705959 -2.96705962  0.\n",
      " -2.96705964 -2.96705969 -0.06341524 -2.96705964 -6.10865247 -2.9670596\n",
      " -0.0498779 ]\n",
      "2025-02-05 21:49:05.923Z cobraCoach       30 cobraCoach.py:846 Last phi angle is unknown: [1459]\n",
      "2025-02-05 21:49:05.925Z cobraCoach       20 cobraCoach.py:877 Finished converting angle to steps, sending command to moveSteps (constantOntime).\n",
      "2025-02-05 21:49:05.935Z cobraCoach       20 cobraCoach.py:587 Sending step numbers to FPGA for moving cobra.\n",
      "2025-02-05 21:49:05.938Z cobraCoach       20 cobraCoach.py:601 cobra control FPGA operation done.\n",
      "2025-02-05 21:49:05.964Z pfi              40 pfi.py:896 Some theta angles are out of range\n",
      "2025-02-05 21:49:05.965Z pfi              40 pfi.py:899 Some phi angles are out of range\n",
      "2025-02-05 21:49:06.060Z pfi              30 pfi.py:475 clipping scale adjustment from 0.2250489700875823 to 0.3\n",
      "2025-02-05 21:49:06.061Z cobraCoach       30 cobraCoach.py:679 Cobra#1460 is too close to center\n",
      "2025-02-05 21:49:06.062Z pfi              30 pfi.py:475 clipping scale adjustment from 0.26154231110049525 to 0.3\n",
      "2025-02-05 21:49:06.064Z engineer         20 engineer.py:422 Updating the cobra information\n",
      "2025-02-05 21:49:06.068Z engineer         30 engineer.py:445 13 cobras did not finish: [ 343  442  492  737 1302 1459 1493 1538 1587 1636 1789 1791 1969], [4.67 4.67 4.67 4.67 4.67 0.82 4.67 4.67 0.16 4.67 4.2  4.67 0.11]\n",
      "2025-02-05 21:49:06.069Z engineer         20 engineer.py:450 Returning 2394 atThetas and 2394 atPhis\n",
      "2025-02-05 21:49:06.093Z pfi              40 pfi.py:896 Some theta angles are out of range\n",
      "2025-02-05 21:49:06.096Z pfi              40 pfi.py:899 Some phi angles are out of range\n",
      "2025-02-05 21:49:06.184Z pfi              40 pfi.py:896 Some theta angles are out of range\n",
      "2025-02-05 21:49:06.185Z pfi              40 pfi.py:899 Some phi angles are out of range\n",
      "2025-02-05 21:49:06.249Z pfi              40 pfi.py:896 Some theta angles are out of range\n",
      "2025-02-05 21:49:06.250Z pfi              40 pfi.py:899 Some phi angles are out of range\n",
      "2025-02-05 21:49:06.293Z pfi              40 pfi.py:896 Some theta angles are out of range\n",
      "2025-02-05 21:49:06.294Z pfi              40 pfi.py:899 Some phi angles are out of range\n",
      "2025-02-05 21:49:06.341Z pfi              40 pfi.py:896 Some theta angles are out of range\n",
      "2025-02-05 21:49:06.343Z pfi              40 pfi.py:899 Some phi angles are out of range\n",
      "2025-02-05 21:49:06.415Z pfi              40 pfi.py:896 Some theta angles are out of range\n",
      "2025-02-05 21:49:06.417Z pfi              40 pfi.py:899 Some phi angles are out of range\n",
      "2025-02-05 21:49:06.464Z pfi              40 pfi.py:896 Some theta angles are out of range\n",
      "2025-02-05 21:49:06.465Z pfi              40 pfi.py:899 Some phi angles are out of range\n",
      "2025-02-05 21:49:06.513Z pfi              40 pfi.py:896 Some theta angles are out of range\n",
      "2025-02-05 21:49:06.514Z pfi              40 pfi.py:899 Some phi angles are out of range\n",
      "2025-02-05 21:49:06.564Z pfi              40 pfi.py:930 Some theta angles are out of range\n",
      "2025-02-05 21:49:06.621Z pfi              40 pfi.py:930 Some theta angles are out of range\n",
      "2025-02-05 21:49:06.671Z pfi              40 pfi.py:930 Some theta angles are out of range\n",
      "2025-02-05 21:49:06.705Z pfi              40 pfi.py:930 Some theta angles are out of range\n",
      "2025-02-05 21:49:06.744Z pfi              40 pfi.py:930 Some theta angles are out of range\n",
      "2025-02-05 21:49:06.783Z pfi              40 pfi.py:930 Some theta angles are out of range\n",
      "2025-02-05 21:49:06.823Z pfi              40 pfi.py:930 Some theta angles are out of range\n",
      "2025-02-05 21:49:06.865Z pfi              40 pfi.py:930 Some theta angles are out of range\n"
     ]
    },
    {
     "name": "stdout",
     "output_type": "stream",
     "text": [
      "ERROR: detected 13 end point collision, which should be impossible\n",
      "trajectory collisions found: 0\n",
      "Done: solving the problem for stage=1 targets.\n",
      "exposure 0:\n",
      "  assigned Cobras: 2100\n",
      "   sci_P1: 2100\n",
      "exposure 0:\n",
      "assigned Cobras(%): 87.72%; gal--87.72%, anc--0.00%, sky--0.00%, star--0.00%\n",
      "comp_out= {'sci_P1': 1.0}\n",
      "['sci_P1']\n"
     ]
    },
    {
     "data": {
      "image/png": "[encoded data removed]",
      "text/plain": [
       "<Figure size 1200x400 with 2 Axes>"
      ]
     },
     "metadata": {},
     "output_type": "display_data"
    },
    {
     "name": "stdout",
     "output_type": "stream",
     "text": [
      "23.709391 secs passed after the visits done for field_a_L1_visit2.\n"
     ]
    },
    {
     "data": {
      "image/png": "[encoded data removed]",
      "text/plain": [
       "<Figure size 600x600 with 1 Axes>"
      ]
     },
     "metadata": {},
     "output_type": "display_data"
    },
    {
     "name": "stdout",
     "output_type": "stream",
     "text": [
      "Done: field-a, Li-L1, visit-2\n"
     ]
    }
   ],
   "source": [
    "outdir = '../../output/Jan25/Jan25_test/'\n",
    "data_dir = '../../output/Jan25/final_nf_input/'\n",
    "prefix = ''\n",
    "\n",
    "# NOTE: need the data w/o updated AlreadyObserved column to run for each field visit 1\n",
    "\n",
    "# SOLUTION for netflow run failure of some pointings: \n",
    "# shift centers by ra - 0.05, P2 targets number/3., change mipgap to 0.5;\n",
    "\n",
    "# default -- gurobiOptions = dict(seed=0, presolve=1, method=4, degenmoves=0, heuristics=0.8, mipfocus=0, mipgap=5.e-2, LogToConsole=1)\n",
    "gurobiOptions = dict(seed=0, presolve=1, method=4, degenmoves=0, heuristics=0.8, mipfocus=0, mipgap=5.e-1, LogToConsole=1)\n",
    "\n",
    "# HST(UTC-10) Jan 22 20:00 for field a and b, same for both visits\n",
    "otime_list = ['2025-01-23T06:00:00Z', '2025-01-23T06:00:00Z', '2025-01-23T09:00:00Z']\n",
    "\n",
    "#for field, Li_list, otime in zip(['a', 'b', 'e'], [['L1', 'L3', 'L4'], ['L1', 'L2', 'L3'], ['L1', 'L2', 'L3', 'L4']], otime_list):\n",
    "for field, Li_list, otime in zip(['a',], [['L1', ], ], ['2025-01-23T06:00:00Z', ]):\n",
    "    pointings_list = ascii.read('../../output/Jan25/final/' + 'field_{}_pointings.csv'.format(field))\n",
    "    print(pointings_list)\n",
    "\n",
    "    # telescope parameters\n",
    "    tele_params = {\"otime\": otime, \"posang\":0.}\n",
    "    for Li, pointings in zip(Li_list, pointings_list):\n",
    "        for visit in [1, 2]:\n",
    "            # cosmology + sky + star targets\n",
    "            #fn_list = ['field_{}_targets.ecsv'.format(field), 'star_field_{}_targets.ecsv'.format(field), 'sky_field_{}_targets.ecsv'.format(field)]\n",
    "            #prefix_list = [\"sci\", \"cal\", \"sky\"]\n",
    "            #calibration_list = [False, True, True]\n",
    "            #field_a_L1_visit1_final_targets.ecsv\n",
    "            fn_list = ['field_{}_{}_visit{}_final_targets.ecsv'.format(field, Li, visit)]\n",
    "            prefix_list = [\"sci\", ]\n",
    "            calibration_list = [False, ]\n",
    "            \n",
    "            simulator = main(outdir, data_dir, False, pointings, prefix, field, [Li, ], visit, \\\n",
    "                  fn_list, prefix_list, calibration_list, tele_params, bench, cobracoach, \\\n",
    "                  two_stage=True, gurobiOptions=gurobiOptions, collision_sim_version=2)\n",
    "            \n",
    "            print(\"Done: field-%s, Li-%s, visit-%d\" % (field, Li, visit))\n",
    "    \n",
    "    \n",
    "    "
   ]
  },
  {
   "cell_type": "markdown",
   "metadata": {},
   "source": [
    "# check list for the observatory Target Uploader\n",
    "+ CO netflow output targets all get a fiber assigned (test myself - use output as an input, all targets have the same cost)\n",
    "+ two stage == different cost (same sky coverage)?\n",
    "+ CO needs to track the status of the target list and instrument\n",
    "+ if different otime is used, how many targets (sci, sky, star separately) will be missed? (test myself - use output as an input)"
   ]
  },
  {
   "cell_type": "code",
   "execution_count": 29,
   "metadata": {},
   "outputs": [
    {
     "name": "stdout",
     "output_type": "stream",
     "text": [
      "2393 2393\n"
     ]
    },
    {
     "data": {
      "text/plain": [
       "array([   0,    1,    2, ..., 2390, 2391, 2392])"
      ]
     },
     "execution_count": 29,
     "metadata": {},
     "output_type": "execute_result"
    }
   ],
   "source": [
    "goodIdx = cobracoach.goodIdx\n",
    "goodindex = np.where(simulator.goodCobras == True)[0]\n",
    "assert np.all(goodIdx == goodindex)\n",
    "\n",
    "print(np.max(goodIdx), np.max(goodindex))"
   ]
  },
  {
   "cell_type": "code",
   "execution_count": 19,
   "metadata": {},
   "outputs": [
    {
     "data": {
      "text/plain": [
       "array([<ics.cobraCharmer.func.Cobra object at 0x7fdce02d1180>,\n",
       "       <ics.cobraCharmer.func.Cobra object at 0x7fdce3447670>,\n",
       "       <ics.cobraCharmer.func.Cobra object at 0x7fdce3447e50>, ...,\n",
       "       <ics.cobraCharmer.func.Cobra object at 0x7fdcd46aff10>,\n",
       "       <ics.cobraCharmer.func.Cobra object at 0x7fdcd46aff70>,\n",
       "       <ics.cobraCharmer.func.Cobra object at 0x7fdcd46affd0>],\n",
       "      dtype=object)"
      ]
     },
     "execution_count": 19,
     "metadata": {},
     "output_type": "execute_result"
    }
   ],
   "source": [
    "cobracoach.allCobras"
   ]
  },
  {
   "cell_type": "code",
   "execution_count": 16,
   "metadata": {},
   "outputs": [
    {
     "name": "stdout",
     "output_type": "stream",
     "text": [
      "bad cobras:  [  46   49  172  192  346  360  647  753  798  820  852  948 1149 1172\n",
      " 1207 1209 1519 1579 1652 1723 1790 1824 1835 1881 1902 2052 2181 2351\n",
      " 2379]\n"
     ]
    },
    {
     "data": {
      "text/plain": [
       "29"
      ]
     },
     "execution_count": 16,
     "metadata": {},
     "output_type": "execute_result"
    }
   ],
   "source": [
    "print(\"bad cobras: \", np.where(simulator.goodCobras == False)[0])\n",
    "cobras_bad = np.where(simulator.goodCobras == False)[0]\n",
    "len(cobras_bad)"
   ]
  },
  {
   "cell_type": "markdown",
   "metadata": {},
   "source": []
  }
 ],
 "metadata": {
  "kernelspec": {
   "display_name": "base",
   "language": "python",
   "name": "python3"
  },
  "language_info": {
   "codemirror_mode": {
    "name": "ipython",
    "version": 3
   },
   "file_extension": ".py",
   "mimetype": "text/x-python",
   "name": "python",
   "nbconvert_exporter": "python",
   "pygments_lexer": "ipython3",
   "version": "3.10.9"
  }
 },
 "nbformat": 4,
 "nbformat_minor": 4
}
