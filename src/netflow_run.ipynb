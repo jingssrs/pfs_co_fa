{
 "cells": [
  {
   "cell_type": "markdown",
   "metadata": {},
   "source": [
    "# basic set up"
   ]
  },
  {
   "cell_type": "code",
   "execution_count": 31,
   "metadata": {},
   "outputs": [],
   "source": [
    "#basic set up\n",
    "import numpy as np\n",
    "import random\n",
    "import time\n",
    "import matplotlib.pyplot as plt\n",
    "import astropy.io.fits as pyfits\n",
    "import os\n",
    "from astropy.table import Table\n",
    "from astropy import units as u\n",
    "from astropy.coordinates import SkyCoord\n",
    "from IPython.display import clear_output\n",
    "from matplotlib.path import Path\n",
    "import pandas as pd\n",
    "import pdb\n",
    "\n",
    "\n",
    "#netflow \n",
    "import ets_fiber_assigner.netflow as nf\n",
    "import ets_fiber_assigner.io_helpers as io_helpers\n",
    "from ics.cobraOps.Bench import Bench\n",
    "from ics.cobraOps.TargetGroup import TargetGroup\n",
    "from ics.cobraOps.CobrasCalibrationProduct import CobrasCalibrationProduct\n",
    "from ics.cobraOps.BlackDotsCalibrationProduct import BlackDotsCalibrationProduct\n",
    "from pfs.utils.fiberids import FiberIds\n",
    "\n",
    "from ics.cobraCharmer.pfiDesign import PFIDesign\n",
    "from ics.cobraCharmer.cobraCoach.cobraCoach import CobraCoach\n",
    "from ics.cobraOps.DistanceTargetSelector import DistanceTargetSelector\n",
    "\n",
    "from ics.cobraOps.CollisionSimulator2 import CollisionSimulator2\n",
    "from ics.cobraOps.CollisionSimulator import CollisionSimulator\n",
    "from ics.cobraOps.cobraConstants import NULL_TARGET_POSITION, NULL_TARGET_ID\n",
    "from ics.cobraOps import plotUtils\n",
    "from collections import defaultdict"
   ]
  },
  {
   "cell_type": "markdown",
   "metadata": {},
   "source": [
    "# key functions"
   ]
  },
  {
   "cell_type": "code",
   "execution_count": 40,
   "metadata": {},
   "outputs": [],
   "source": [
    "\n",
    "# read the pointing centers from the file\n",
    "def read_pointings(file):\n",
    "    \"\"\"\n",
    "    Read pre-defined pointings from a file\n",
    "    \"\"\"\n",
    "    try:\n",
    "        # first try reading as ecsv format\n",
    "        t = Table.read(file, format=\"ascii.ecsv\")\n",
    "        return t[\"R.A.\"], t['Dec.']\n",
    "    except:\n",
    "        pass\n",
    "\n",
    "    with open(file) as f:\n",
    "        ras = []\n",
    "        decs = []\n",
    "        ll = f.readlines()\n",
    "        for l in ll[1:]:\n",
    "            if not l.startswith(\"#\"):\n",
    "                tt = l.split()\n",
    "                ra, dec = (float(tt[0]), float(tt[1]))\n",
    "                ras.append(ra)\n",
    "                decs.append(dec)\n",
    "    return np.array(ras), np.array(decs)\n",
    "\n",
    "# TODO: try a more efficient way to contruct the target list, add alreadyObserved to the target list either in netflow Targets or in this function\n",
    "def construct_tgt_list(catalog_path = \"../proc_data/\", \\\n",
    "                       fn_list = [\"cos_select.ecsv\", \"star_select.ecsv\", \"sky_select.ecsv\"], \\\n",
    "                       prefix_list = [\"sci\", \"cal\", \"sky\"], calibration_list = [False, True, True]):\n",
    "    '''\n",
    "    Construct target list\n",
    "    '''\n",
    "    print(\"construct target list:\")\n",
    "    for i, fn_i in enumerate(fn_list):\n",
    "        fn = catalog_path + fn_i\n",
    "        print(fn)\n",
    "        \n",
    "        # read all targets into a single list, giving them their proper types\n",
    "        if(i<1):\n",
    "            if(not calibration_list[i]): tgt = nf.readScientificFromFile(fn, prefix_list[i])\n",
    "            if(calibration_list[i]): tgt = nf.readCalibrationFromFile(fn, prefix_list[i])\n",
    "        else:\n",
    "            if(not calibration_list[i]): tgt += nf.readScientificFromFile(fn, prefix_list[i])\n",
    "            if(calibration_list[i]): tgt += nf.readCalibrationFromFile(fn, prefix_list[i])\n",
    "\n",
    "    print(\"In total, there are %d targets.\" % len(tgt))\n",
    "\n",
    "    # sample of sci targets\n",
    "    sample_sci = []\n",
    "    for t in tgt:\n",
    "        if(t.targetclass[:3] == 'sci'): sample_sci.append([t.ID,t.ra,t.dec])  \n",
    "\n",
    "    sample_sci = np.array(sample_sci)\n",
    "    \n",
    "    return tgt, sample_sci\n",
    "\n",
    "# TODO: play with the cost value for different classes\n",
    "def def_classdict():\n",
    "    '''define classdict for netflow run\n",
    "    \n",
    "    Parameters\n",
    "    ==========\n",
    "    None\n",
    "    \n",
    "    Returns\n",
    "    =======\n",
    "    classdict\n",
    "    '''\n",
    "    # create the dictionary containing the costs and constraints for all classes\n",
    "    # of targets\n",
    "    classdict = {}\n",
    "    classdict[\"sci_P1\"] = {\"nonObservationCost\": 200,\n",
    "                           \"partialObservationCost\": 1e6, \"calib\": False}\n",
    "    classdict[\"sci_P2\"] = {\"nonObservationCost\": 100,\n",
    "                           \"partialObservationCost\": 1e6, \"calib\": False}\n",
    "    \n",
    "    #for ancillary targets\n",
    "    classdict[\"anc_P1\"] = {\"nonObservationCost\": 50,\n",
    "                           \"partialObservationCost\": 1e6, \"calib\": False}\n",
    "    classdict[\"anc_P2\"] = {\"nonObservationCost\": 10,\n",
    "                           \"partialObservationCost\": 1e6, \"calib\": False}\n",
    "\n",
    "    #need to ask PFS project office to get the \"numRequired\"\n",
    "    classdict[\"sky\"] = {\"numRequired\": 400,\n",
    "                        \"nonObservationCost\": 1e6, \"calib\": True}\n",
    "    #100-200 stars - Masayuki\n",
    "    classdict[\"cal\"] = {\"numRequired\": 200,\n",
    "                        \"nonObservationCost\": 1e6, \"calib\": True}\n",
    "\n",
    "    return classdict\n",
    "\n",
    "# (DONE)TODO-0: plot the distribution of the cosmology, star, and sky\n",
    "# (DONE)TODO-1: make posang and otime as input parameters\n",
    "# (DONE)TODO-2: test different otime outputs of tpos and netflow\n",
    "# (DONE)TODO-3: make bench, Gurobi options as input parameters\n",
    "# TODO-4: test different Gurobi options, vis_cost, cobraMoveCost\n",
    "# TODO-5: check blackDotPenalty, collision_distance, and minSkyTargetsPerInstrumentRegion\n",
    "# TODO-6: write code to get longer exposure in the 2nd visit for some targets\n",
    "# TODO-7: test which part of the code is the bottleneck\n",
    "def execute(peaks, tgt, classdict, alreadyObserved, t_obs = 900., two_stage = False, collision_sim_version = 2, tele_params={\"otime\":\"2025-08-20T11:00:00Z\", \"posang\":0.}, bench = None, cobracoach = None, gurobiOptions = None):\n",
    "    '''\n",
    "    Parameters\n",
    "    ==========\n",
    "    two_stage (boolean): whether to do two stage assignment or not\n",
    "    \n",
    "    Returns\n",
    "    =======\n",
    "    '''\n",
    "    # get a complete, idealized focal plane configuration\n",
    "    if bench is None:\n",
    "        Exception(\"bench is not defined\")\n",
    "    if cobracoach is None:\n",
    "        Exception(\"cobracoach is not defined\")\n",
    "        \n",
    "    # test_a \n",
    "    # otime = \"2025-08-20T10:00:00Z\"\n",
    "    # test_b\n",
    "    # otime = \"2025-08-20T12:00:00Z\"\n",
    "    # test_c\n",
    "    # otime = \"2025-08-20T11:00:00Z\"\n",
    "\n",
    "    raTel, decTel = peaks[:, 0], peaks[:, 1]\n",
    "    posang = tele_params[\"posang\"]\n",
    "    otime = tele_params[\"otime\"]\n",
    "    telescopes = []\n",
    "\n",
    "    # number of distinct observations\n",
    "    nvisit = len(raTel)\n",
    "\n",
    "    # generate telescope pointings for every observation\n",
    "    for ii in range(nvisit):\n",
    "        telescopes.append(nf.Telescope(raTel[ii], decTel[ii], posang, otime))\n",
    "\n",
    "    # get focal plane positions for all targets and all visits\n",
    "    tpos = [tele.get_fp_positions(tgt) for tele in telescopes]\n",
    "    \n",
    "    # optional: slightly increase the cost for later observations,\n",
    "    # to observe as early as possible\n",
    "    # test_defualt \n",
    "    vis_cost = [0.1*i for i in range(nvisit)]\n",
    "    # test_vis_cost -- no difference in the output\n",
    "    # vis_cost = [0.*i for i in range(nvisit)]\n",
    "\n",
    "    # optional: penalize assignments where the cobra has to move far out\n",
    "    def cobraMoveCost(dist):\n",
    "        # test_default\n",
    "        return 0.01*dist \n",
    "        # test_cobraMoveCost, fiber efficency is slightly lower (75.40 versus 75.44) in one of the two pointings \n",
    "        # return 0.0001*dist\n",
    "    \n",
    "    # test_default\n",
    "    # blackDotPenalty = None\n",
    "    # optional: penalize assignments near the black dots\n",
    "    # test_blackDotPenalty, note distance is in mm, same as in cobraMoveCost\n",
    "    # --- fiber efficency is different, but not in a consistent way in the two pointings\n",
    "    def blackDotPenalty(dist):\n",
    "        return 0.1*dist\n",
    "\n",
    "    # refer to gurobi website for information on these parameters, LogToConsole=1 will display the running process\n",
    "    if gurobiOptions is None:\n",
    "        gurobiOptions = dict(seed=0, presolve=1, method=4, degenmoves=0,\n",
    "                            heuristics=0.8, mipfocus=0, mipgap=5.e-2, LogToConsole=1)\n",
    "    \n",
    "    forbiddenPairs = []\n",
    "    for i in range(nvisit):\n",
    "        forbiddenPairs.append([])\n",
    "\n",
    "    print(\"solving the problem for stage=0 targets.\")\n",
    "    done = False\n",
    "    while not done:\n",
    "        # compute observation strategy for stage=0 targets (default: stage=0, preassigned=None)\n",
    "        prob0 = nf.buildProblem(bench, tgt, tpos, classdict, t_obs,\n",
    "                               vis_cost, cobraMoveCost=cobraMoveCost,\n",
    "                               collision_distance=2., elbow_collisions=True,\n",
    "                               gurobi=True, gurobiOptions=gurobiOptions,\n",
    "                               alreadyObserved=alreadyObserved,\n",
    "                               forbiddenPairs=forbiddenPairs, \n",
    "                               blackDotPenalty=blackDotPenalty)\n",
    "\n",
    "        prob0.solve()\n",
    "        Obj0 = prob0._prob.objVal\n",
    "        \n",
    "        # extract solution for stage=0\n",
    "        res0 = [{} for _ in range(nvisit)]\n",
    "        for k1, v1 in prob0._vardict.items():\n",
    "            if k1.startswith(\"Tv_Cv_\"):\n",
    "                visited = prob0.value(v1) > 0\n",
    "                if visited:\n",
    "                    _, _, tidx, cidx, ivis = k1.split(\"_\")\n",
    "                    res0[int(ivis)][int(tidx)] = int(cidx)\n",
    "        #    \n",
    "        print(\"Checking for trajectory collisions\")\n",
    "        ncoll = 0\n",
    "        for ivis, (vis, tp) in enumerate(zip(res0, tpos)):\n",
    "            selectedTargets = np.full(len(bench.cobras.centers), NULL_TARGET_POSITION)\n",
    "            ids = np.full(len(bench.cobras.centers), NULL_TARGET_ID)\n",
    "            for tidx, cidx in vis.items():\n",
    "                selectedTargets[cidx] = tp[tidx]\n",
    "                ids[cidx] = \"\"\n",
    "            for i in range(selectedTargets.size):\n",
    "                if selectedTargets[i] != NULL_TARGET_POSITION:\n",
    "                    dist = np.abs(selectedTargets[i]-bench.cobras.centers[i])\n",
    "\n",
    "            if collision_sim_version == 2:\n",
    "                # Select the targets\n",
    "                selector = DistanceTargetSelector(bench, TargetGroup(selectedTargets, ids))\n",
    "                selector.run()\n",
    "                selectedTargets = selector.getSelectedTargets()\n",
    "                simulator = CollisionSimulator2(bench, cobracoach, selectedTargets)\n",
    "            else:\n",
    "                simulator = CollisionSimulator(bench, TargetGroup(selectedTargets, ids))\n",
    "            simulator.run()\n",
    "            if np.any(simulator.endPointCollisions):\n",
    "                print(\"ERROR: detected end point collision, which should be impossible\")\n",
    "            coll_tidx = []\n",
    "            for tidx, cidx in vis.items():\n",
    "                if simulator.collisions[cidx]:\n",
    "                    coll_tidx.append(tidx)\n",
    "            ncoll += len(coll_tidx)\n",
    "            for i1 in range(0,len(coll_tidx)):\n",
    "                for i2 in range(i1+1,len(coll_tidx)):\n",
    "                    if np.abs(tp[coll_tidx[i1]]-tp[coll_tidx[i2]])<10:\n",
    "                        forbiddenPairs[ivis].append((coll_tidx[i1],coll_tidx[i2]))\n",
    "\n",
    "        print(\"trajectory collisions found:\", ncoll)\n",
    "        done = ncoll == 0\n",
    "        \n",
    "    print(\"Done: solving the problem for stage=0 targets.\")\n",
    "    \n",
    "    if((two_stage==False)):\n",
    "        return res0, tpos, telescopes\n",
    "    \n",
    "    ####################################\n",
    "    print(\"solving the problem for stage=1 targets.\")\n",
    "    #reset forbiddenPairs here again\n",
    "    forbiddenPairs = []\n",
    "    for i in range(nvisit):\n",
    "        forbiddenPairs.append([])\n",
    "    \n",
    "    # get preassigned_list\n",
    "    preassigned_list = [{} for _ in range(nvisit)] #list (dict(TargetID: Cobra index))\n",
    "    for i, vis in enumerate(res0):\n",
    "        for tidx, cidx in vis.items():\n",
    "            preassigned_list[i][tgt[tidx].ID] = cidx\n",
    "          \n",
    "    done = False\n",
    "    while not done:\n",
    "        #note adding stage=1 in nf.buildProblem() does not make too much difference\n",
    "        prob1 = nf.buildProblem(bench, tgt, tpos, classdict, t_obs,\n",
    "                                vis_cost, cobraMoveCost=cobraMoveCost,\n",
    "                                collision_distance=2., elbow_collisions=True,\n",
    "                                gurobi=True, gurobiOptions=gurobiOptions,\n",
    "                                alreadyObserved=alreadyObserved,\n",
    "                                forbiddenPairs=forbiddenPairs,\n",
    "                                blackDotPenalty=blackDotPenalty,\n",
    "                                stage=1, preassigned=preassigned_list)\n",
    "        \n",
    "        \n",
    "        prob1.solve()\n",
    "        Obj1 = prob1._prob.objVal\n",
    "            \n",
    "        # extract solution for stage=1\n",
    "        res = [{} for _ in range(nvisit)]\n",
    "        for k1, v1 in prob1._vardict.items():\n",
    "            if k1.startswith(\"Tv_Cv_\"):\n",
    "                visited = prob1.value(v1) > 0\n",
    "                if visited:\n",
    "                    _, _, tidx, cidx, ivis = k1.split(\"_\")\n",
    "                    res[int(ivis)][int(tidx)] = int(cidx)\n",
    "        \n",
    "\n",
    "        print(\"Checking for trajectory collisions\")\n",
    "        ncoll = 0\n",
    "        for ivis, (vis, tp) in enumerate(zip(res, tpos)):\n",
    "            selectedTargets = np.full(len(bench.cobras.centers), NULL_TARGET_POSITION)\n",
    "            ids = np.full(len(bench.cobras.centers), NULL_TARGET_ID)\n",
    "            for tidx, cidx in vis.items():\n",
    "                selectedTargets[cidx] = tp[tidx]\n",
    "                ids[cidx] = \"\"\n",
    "            for i in range(selectedTargets.size):\n",
    "                if selectedTargets[i] != NULL_TARGET_POSITION:\n",
    "                    dist = np.abs(selectedTargets[i]-bench.cobras.centers[i])\n",
    "\n",
    "            if collision_sim_version == 2:\n",
    "                selector = DistanceTargetSelector(bench, TargetGroup(selectedTargets, ids))\n",
    "                selector.run()\n",
    "                selectedTargets = selector.getSelectedTargets()\n",
    "                simulator = CollisionSimulator2(bench, cobracoach, selectedTargets)\n",
    "            else:\n",
    "                simulator = CollisionSimulator(bench, TargetGroup(selectedTargets, ids))\n",
    "            simulator.run()\n",
    "            if np.any(simulator.endPointCollisions):\n",
    "                print(\"ERROR: detected end point collision, which should be impossible\")\n",
    "            coll_tidx = []\n",
    "            for tidx, cidx in vis.items():\n",
    "                if simulator.collisions[cidx]:\n",
    "                    coll_tidx.append(tidx)\n",
    "            ncoll += len(coll_tidx)\n",
    "            for i1 in range(0,len(coll_tidx)):\n",
    "                for i2 in range(i1+1,len(coll_tidx)):\n",
    "                    if np.abs(tp[coll_tidx[i1]]-tp[coll_tidx[i2]])<10:\n",
    "                        forbiddenPairs[ivis].append((coll_tidx[i1],coll_tidx[i2]))\n",
    "\n",
    "        print(\"trajectory collisions found:\", ncoll)\n",
    "        done = ncoll == 0\n",
    "        \n",
    "    print(\"Done: solving the problem for stage=1 targets.\")\n",
    "    ####################################\n",
    "    \n",
    "    #clear_output()\n",
    "    \n",
    "    if((two_stage == True)):\n",
    "        print(\"objVal0 = %f, objVal1=%f\" % (Obj0, Obj1))   \n",
    "    else:\n",
    "        print(\"objVal0 = %f\" % (Obj0)) \n",
    "    \n",
    "    return res, tpos, telescopes\n",
    "\n",
    "\n",
    "def write_output(tgt, res, tpos, telescopes, fdir_out, fn_out, t_obs=900):\n",
    "    '''write the output of fiber assignment\n",
    "    Parameters\n",
    "    ==========\n",
    "    fdir_out: string\n",
    "        output folder directory\n",
    "    fn_out: string\n",
    "        output file name\n",
    "    '''\n",
    "    \n",
    "    with open(fdir_out + fn_out, \"w\") as f:\n",
    "        for i, (vis, tp, tel) in enumerate(zip(res, tpos, telescopes)):\n",
    "            print(\"exposure {}:\".format(i))\n",
    "            print(\"  assigned Cobras: {}\".format(len(vis)))\n",
    "            tdict = defaultdict(int)\n",
    "            f.write(\"# Exposure {}: duration {}s, RA: {}, Dec: {}, PA: {}\\n\".\n",
    "                    format(i+1, t_obs, tel._ra, tel._dec, tel._posang))\n",
    "            f.write(\"# Target    Fiber          X          Y         \"\n",
    "                    \"RA        DEC\\n\")\n",
    "            for tidx, cidx in vis.items():\n",
    "                tdict[tgt[tidx].targetclass] += 1 #tgt[].targetclass = 'sci_Px'\n",
    "                f.write(\"{:} {:6d} {:10.5f} {:10.5f} {:10.5f} {:10.5f}\\n\"\n",
    "                        .format(tgt[tidx].ID, cidx+1, tp[tidx].real, tp[tidx].imag,\n",
    "                                tgt[tidx].ra, tgt[tidx].dec))\n",
    "            for cls, num in tdict.items():\n",
    "                print(\"   {}: {}\".format(cls, num))\n",
    "                \n",
    "                \n",
    "def cal_completeness(tgt, res, tpos, telescopes, Plot=False, fn_fig='', Save=False, fn_fibeff=''):\n",
    "    '''calculate the completeness of the targets and fiber assignment fraction\n",
    "    Parameters\n",
    "    ==========\n",
    "    fdir_out: string\n",
    "        output folder directory\n",
    "    Plot: boolean\n",
    "        plot the results if True \n",
    "    '''\n",
    "    \n",
    "    #fiber assignment fraction of each pointing\n",
    "    fib_eff = [] \n",
    "    #fiber assignment fraction of pointing which observed galaxies\n",
    "    fib_eff_gal = []\n",
    "    fib_eff_anc = []\n",
    "    #calibration targets\n",
    "    fib_eff_star = []\n",
    "    fib_eff_sky = []\n",
    "\n",
    "    #objects that got allocated a fiber\n",
    "    obj_allo = []\n",
    "    for i, (vis, tp, tel) in enumerate(zip(res, tpos, telescopes)):\n",
    "        fib_eff_t = len(vis)/2394.*100 #2394 fibers available\n",
    "        fib_eff.append(fib_eff_t)\n",
    "\n",
    "        n_fib_gal = 0\n",
    "        n_fib_anc = 0\n",
    "        n_fib_star = 0\n",
    "        n_fib_sky = 0\n",
    "        #tidx is the id in tgt list; cidx is the fiber id, starting from 0\n",
    "        for tidx, cidx in vis.items():\n",
    "            obj_allo.append([\"Point_\"+str(i+1), tel._ra, tel._dec, tel._posang, tgt[tidx].ID,\n",
    "                            cidx+1, tp[tidx].real, tgt[tidx].ra, tgt[tidx].dec,\n",
    "                            tgt[tidx].targetclass])\n",
    "\n",
    "            if tgt[tidx].targetclass[:3]=='sci': n_fib_gal+=1\n",
    "            if tgt[tidx].targetclass[:3]=='anc': n_fib_anc+=1\n",
    "            if tgt[tidx].targetclass[:3]=='sky': n_fib_sky+=1\n",
    "            if tgt[tidx].targetclass[:3]=='cal': n_fib_star+=1\n",
    "\n",
    "        fib_eff_gal.append(n_fib_gal/2394.*100)\n",
    "        fib_eff_anc.append(n_fib_anc/2394.*100)\n",
    "        fib_eff_star.append(n_fib_star/2394.*100)\n",
    "        fib_eff_sky.append(n_fib_sky/2394.*100)\n",
    "\n",
    "        print(\"exposure {}:\".format(i))\n",
    "        print(\"assigned Cobras(%): {:.2f}%; gal--{:.2f}%, anc--{:.2f}%, sky--{:.2f}%, star--{:.2f}%\". format(fib_eff[i], fib_eff_gal[i], fib_eff_anc[i], fib_eff_sky[i], fib_eff_star[i]))\n",
    "    \n",
    "    if(Save==True):\n",
    "        np.savetxt(fn_fibeff, np.c_[fib_eff, fib_eff_gal, fib_eff_anc, fib_eff_sky, fib_eff_star])\n",
    "    \n",
    "    #unique tgt_class\n",
    "    tgt_class = []\n",
    "    for tgt_i in tgt:\n",
    "        tgt_class.append(tgt_i.targetclass)\n",
    "    tgt_class = np.array(tgt_class)\n",
    "    uniq_tgt_class = np.unique(tgt_class)\n",
    "\n",
    "    #completeness fraction\n",
    "    tgt_class_allo = np.array([obj_allo_i[-1] for obj_allo_i in obj_allo])\n",
    "    comp_out = {}\n",
    "    for ii, uniq_tgt_i in enumerate(uniq_tgt_class):\n",
    "        mask_i = tgt_class == uniq_tgt_i\n",
    "        tot = len(tgt_class[mask_i])\n",
    "\n",
    "        mask_ii = tgt_class_allo == uniq_tgt_i\n",
    "        done = len(tgt_class_allo[mask_ii])\n",
    "\n",
    "        comp_out[uniq_tgt_i] = done/tot\n",
    "        \n",
    "    print(\"comp_out=\", comp_out)\n",
    "    \n",
    "    #plot\n",
    "    if(Plot==True):  \n",
    "        npoint_used = len(tpos)\n",
    "        msk_sci_class =  [uniq_tgt_class_i[:3]=='sci' for uniq_tgt_class_i in uniq_tgt_class]\n",
    "        sci_class = uniq_tgt_class[msk_sci_class]\n",
    "        msk_anc_class =  [uniq_tgt_class_i[:3]=='anc' for uniq_tgt_class_i in uniq_tgt_class]\n",
    "        sci_class = np.append(sci_class, uniq_tgt_class[msk_anc_class])\n",
    "        print(sci_class)\n",
    "        \n",
    "        plt.figure(figsize=(12, 4))\n",
    "        plt.subplot(121)\n",
    "        for ii, sci_class_ii in enumerate(sci_class):\n",
    "            plt.bar([ii+1], comp_out[sci_class_ii], width=1., fc='tomato', ec='none', alpha=0.8, zorder=10)\n",
    "            plt.bar([ii+1], comp_out[sci_class_ii], width=1., ec='tomato', fc='none', lw=1)\n",
    "\n",
    "        plt.plot([0,10], [0.8,0.8], 'k--', lw=2, zorder=11)\n",
    "        plt.xticks(np.arange(len(sci_class))+1, sci_class, fontsize=15)\n",
    "        plt.ylabel('completeness fraction', fontsize=15)\n",
    "        plt.xlim(0, len(sci_class)+2)\n",
    "        plt.ylim(0, 1.)\n",
    "\n",
    "        plt.subplot(122)\n",
    "        plt.bar(np.arange(0,len(fib_eff_gal),1), fib_eff_gal, width=0.8, fc='tomato', ec='none', alpha=0.6, zorder=10)\n",
    "        plt.bar(np.arange(0,len(fib_eff_anc),1), fib_eff_anc, width=0.8, fc='purple', ec='none', alpha=0.5)\n",
    "        plt.bar(np.arange(0,len(fib_eff_sky),1), fib_eff_sky, width=0.8, fc='blue', ec='none', alpha=0.5)\n",
    "        plt.bar(np.arange(0,len(fib_eff_star),1), fib_eff_star, width=0.8, fc='gray', ec='none', alpha=0.5)\n",
    "\n",
    "        plt.plot([0,npoint_used+1.], [80,80], 'k--', lw=2, zorder=11)\n",
    "        plt.plot([0,npoint_used+1.], [np.mean(fib_eff_gal), np.mean(fib_eff_gal)], '--', color='tomato', lw=2, zorder=11)\n",
    "        plt.plot([0,npoint_used+1.], [np.mean(fib_eff_anc), np.mean(fib_eff_anc)], '--', color='purple', lw=2, zorder=11)\n",
    "        plt.plot([0,npoint_used+1.], [np.mean(fib_eff_sky), np.mean(fib_eff_sky)], '--', color='blue', lw=2, zorder=11)\n",
    "        plt.plot([0,npoint_used+1.], [np.mean(fib_eff_star), np.mean(fib_eff_star)], '--', color='gray', lw=2, zorder=11)\n",
    "\n",
    "        plt.text(npoint_used*0.8, 100, \"{:2.2f}%\".format(np.mean(fib_eff_gal)), color='tomato', fontsize=12)\n",
    "        plt.text(npoint_used*0.8, 92, \"{:2.2f}%\".format(np.mean(fib_eff_anc)), color='purple', fontsize=12)\n",
    "        plt.text(npoint_used*0.8, 84, \"{:2.2f}%\".format(np.mean(fib_eff_sky)), color='blue', fontsize=12)\n",
    "        plt.text(npoint_used*0.8, 76, \"{:2.2f}%\".format(np.mean(fib_eff_star)), color='gray', fontsize=12)\n",
    "        plt.xlim(0, npoint_used+1.)\n",
    "        plt.ylim(0, 110.)\n",
    "        plt.xlabel('Pointing', fontsize=15)\n",
    "        plt.ylabel('fiber alloc fraction', fontsize=15)\n",
    "\n",
    "        plt.savefig(fn_fig, dpi=300, bbox_inches='tight')\n",
    "        plt.show()\n",
    "        plt.close()\n",
    "        \n",
    "    return comp_out\n",
    "\n",
    "    "
   ]
  },
  {
   "cell_type": "markdown",
   "metadata": {},
   "source": [
    "## write pfsDesign file"
   ]
  },
  {
   "cell_type": "code",
   "execution_count": 35,
   "metadata": {},
   "outputs": [],
   "source": [
    "# TODO: this function is not working and can be removed later\n",
    "def write_pfsDesign(fdir_out, fn_out, res, tpos, telescopes, tgt, classdict):\n",
    "    '''write the output of fiber assignment\n",
    "    Parameters\n",
    "    ==========\n",
    "    fdir_out: string\n",
    "        output folder directory\n",
    "    fn_out: string\n",
    "        output file name\n",
    "        \n",
    "    '''\n",
    "    for i, (vis, tp, tel) in enumerate(zip(res, tpos, telescopes)):\n",
    "        io_helpers.writePfsDesign(pfsDesignDirectory=fdir_out, vis=vis, tp=tp, tel=tel, tgt=tgt, classdict=classdict)"
   ]
  },
  {
   "cell_type": "markdown",
   "metadata": {},
   "source": [
    "## set bench"
   ]
  },
  {
   "cell_type": "code",
   "execution_count": 34,
   "metadata": {},
   "outputs": [],
   "source": [
    "# TODO: check with project office if the following function is correct\n",
    "def create_bench():\n",
    "    pfs_instdata_path = \"./pfs_instdata-1.8.14/\"\n",
    "    os.environ[\"PFS_INSTDATA_DIR\"] = pfs_instdata_path\n",
    "\n",
    "    cobra_coach_dir = \"./cobra_coach_temp/\"\n",
    "    fiberids_path = \"./pfs_utils-w.2024.45/data/fiberids/\"\n",
    "    pfs_black_dots_path = \"./pfs_instdata-1.8.14/data/pfi/dot/black_dots_mm.csv\"\n",
    "\n",
    "    spectrograph_modules = [1, 2, 3, 4]\n",
    "\n",
    "    # create the grand fiber map\n",
    "    def create_grand_fiber_map(fiberids_path):\n",
    "        fibermap = FiberIds(path=fiberids_path)\n",
    "        return fibermap\n",
    "\n",
    "    # Create the cobra coach temp directory if it does not exist\n",
    "    if not os.path.isdir(cobra_coach_dir):\n",
    "        os.makedirs(cobra_coach_dir, exist_ok=True)\n",
    "    print(f\"Created cobra coach temp directory: {cobra_coach_dir}\")\n",
    "\n",
    "    cobracoach = CobraCoach(\"fpga\", loadModel=False, trajectoryMode=True, rootDir=cobra_coach_dir)\n",
    "    cobracoach.loadModel(version=\"ALL\", moduleVersion=None)\n",
    "    calibrationProduct = cobracoach.calibModel\n",
    "\n",
    "    # Set some dummy center positions and phi angles for those cobras that have\n",
    "    # zero centers\n",
    "    zeroCenters = calibrationProduct.centers == 0\n",
    "    calibrationProduct.centers[zeroCenters] = np.arange(np.sum(zeroCenters)) * 300j\n",
    "    calibrationProduct.phiIn[zeroCenters] = -np.pi\n",
    "    calibrationProduct.phiOut[zeroCenters] = 0\n",
    "    print(\"Cobras with zero centers: %i\" % np.sum(zeroCenters))\n",
    "\n",
    "    # Use the median value link lengths in those cobras with zero link lengths\n",
    "    zeroLinkLengths = (calibrationProduct.L1 == 0) | (calibrationProduct.L2 == 0)\n",
    "    calibrationProduct.L1[zeroLinkLengths] = np.median(calibrationProduct.L1[~zeroLinkLengths])\n",
    "    calibrationProduct.L2[zeroLinkLengths] = np.median(calibrationProduct.L2[~zeroLinkLengths])\n",
    "    print(\"Cobras with zero link lengths: %i\" % np.sum(zeroLinkLengths))\n",
    "\n",
    "    # Use the median value link lengths in those cobras with too long link lengths\n",
    "    tooLongLinkLengths = (calibrationProduct.L1 > 100) | (calibrationProduct.L2 > 100)\n",
    "    calibrationProduct.L1[tooLongLinkLengths] = np.median(calibrationProduct.L1[~tooLongLinkLengths])\n",
    "    calibrationProduct.L2[tooLongLinkLengths] = np.median(calibrationProduct.L2[~tooLongLinkLengths])\n",
    "    print(\"Cobras with too long link lengths: %i\" % np.sum(tooLongLinkLengths))\n",
    "\n",
    "\n",
    "    # Limit spectral modules\n",
    "    gfm = create_grand_fiber_map(fiberids_path)\n",
    "    cobra_ids_use = np.array([], dtype=np.uint16)\n",
    "    for sm in spectrograph_modules:\n",
    "        cobra_ids_use = np.append(cobra_ids_use, gfm.cobrasForSpectrograph(sm))\n",
    "\n",
    "    # Set Bad Cobra status for unused spectral modules\n",
    "    for cobra_id in range(calibrationProduct.nCobras):\n",
    "        if cobra_id not in cobra_ids_use:\n",
    "            calibrationProduct.status[cobra_id] = ~PFIDesign.COBRA_OK_MASK\n",
    "            \n",
    "    bench = Bench(\n",
    "            layout=\"calibration\",                       # Use the layout from the calibration product\n",
    "            calibrationProduct=calibrationProduct,\n",
    "            blackDotsCalibrationProduct=BlackDotsCalibrationProduct(pfs_black_dots_path)\n",
    "            )\n",
    "\n",
    "    return bench, cobracoach"
   ]
  },
  {
   "cell_type": "markdown",
   "metadata": {},
   "source": [
    "## plot_filter_fov function"
   ]
  },
  {
   "cell_type": "code",
   "execution_count": 37,
   "metadata": {},
   "outputs": [],
   "source": [
    "\n",
    "# TODO: same function as in pointings.ipynb\n",
    "def plot_filter_fov(raP, decP, raSci, decSci, PA=0, n_sci_fov_least=3000, filter_fov=True):\n",
    "    '''plot one PFS FoV (hexagon) centered at the pointing center\n",
    "    \n",
    "    NOTE\n",
    "    ==========\n",
    "    flag_fov_reserved is obtained by using a threshold of targets in the FoV\n",
    "\n",
    "    Parameters\n",
    "    ==========\n",
    "    raP, decP, PA : float\n",
    "        ra, dec, PA of the pointing center\n",
    "\n",
    "    raSci, decSci: numpy array, float\n",
    "        ra, dec of the scientific targets\n",
    "        only used to check the number of scientific targets in the FoV\n",
    "    \n",
    "    n_sci_fov_least: int\n",
    "        the least number of scientific targets in the FoV\n",
    "\n",
    "    filter_fov: Boolean\n",
    "        if True, plot/select the FoV only when there are enough scientific targets in the FoV\n",
    "\n",
    "        \n",
    "    Returns\n",
    "    =======\n",
    "    plot a hexagon at the pointing center with diameter=1.38 deg\n",
    "    \n",
    "    flag_fov_reserved: Boolean, used to remove the pointing w/o enough scientific targets \n",
    "    '''\n",
    "    \n",
    "    center = SkyCoord(raP*u.deg, decP*u.deg)\n",
    "    # PA=0 along y-axis, PA=90 along x-axis, PA=180 along -y-axis...\n",
    "    hexagon = center.directional_offset_by([0+PA, 60+PA, 120+PA, 180+PA, 240+PA, 300+PA, 360+PA]*u.deg, 1.38/2.*u.deg)\n",
    "    ra_h = hexagon.ra.deg\n",
    "    dec_h = hexagon.dec.deg\n",
    "\n",
    "    ra_h_in = np.where(np.fabs(ra_h-center.ra.deg)>180)\n",
    "    if len(ra_h_in[0])>0:\n",
    "        if ra_h[ra_h_in[0][0]]>180:ra_h[ra_h_in[0]]-=360\n",
    "        elif ra_h[ra_h_in[0][0]]<180:ra_h[ra_h_in[0]]+=360\n",
    "        #pdb.set_trace()\n",
    "\n",
    "    # scientific targets\n",
    "    point = np.vstack((raSci, decSci)).T\n",
    "    \n",
    "    # TODO: revise the polygon.contains_points for the ra near 0 and 360 cases\n",
    "    if filter_fov:\n",
    "        polygon = Path([(ra_h[t],dec_h[t]) for t in range(len(ra_h))])\n",
    "        index_ = np.where(polygon.contains_points(point)==True)[0]\n",
    "\n",
    "        if(len(index_)<n_sci_fov_least):\n",
    "            flag_fov_reserved = False\n",
    "        else:\n",
    "            flag_fov_reserved = True\n",
    "            plt.plot(ra_h, dec_h, color='r', lw=0.5, ls='-', alpha=1., zorder=5)\n",
    "    else:\n",
    "        flag_fov_reserved = True\n",
    "        plt.plot(ra_h, dec_h, color='r', lw=0.5, ls='-', alpha=1., zorder=5)\n",
    "    \n",
    "    return flag_fov_reserved"
   ]
  },
  {
   "cell_type": "markdown",
   "metadata": {},
   "source": [
    "## check_output function"
   ]
  },
  {
   "cell_type": "code",
   "execution_count": 38,
   "metadata": {},
   "outputs": [],
   "source": [
    "# TODO: make this function useful for one/multiple pointings, plot the cosmology, star, sky and ancillary targets using different colors\n",
    "def plot_tgt_done(outfn_list, figname, figsize=(8, 8), plot_diffcolor=True):\n",
    "    '''\n",
    "    plot the targets that have been assigned to the fibers\n",
    "    '''\n",
    "    for i, fn_i in enumerate(outfn_list):\n",
    "        tgt_id_done, tgt_ra_done, tgt_dec_done = np.loadtxt(fn_i, usecols=(0, 4, 5), unpack=True, dtype='str')\n",
    "        tgt_ra_done, tgt_dec_done = tgt_ra_done.astype('float'), tgt_dec_done.astype('float')\n",
    "\n",
    "        mask_cos = [tgt_id_done[i][1:4] == 'Cos' for i in range(len(tgt_id_done))]\n",
    "        mask_star = [tgt_id_done[i][1:4] == 'Sta' for i in range(len(tgt_id_done))]\n",
    "        mask_sky = [tgt_id_done[i][1:4] == 'Sky' for i in range(len(tgt_id_done))]\n",
    "        mask_anc = [tgt_id_done[i][1:4] == 'Anc' for i in range(len(tgt_id_done))]\n",
    "\n",
    "        if(plot_diffcolor):\n",
    "            if(i==0): \n",
    "                plt.figure(figsize = figsize)\n",
    "                plt.plot(tgt_ra_done[mask_cos], tgt_dec_done[mask_cos], 'k.', ms=0.5, alpha=0.5, label='cosmology')\n",
    "                plt.plot(tgt_ra_done[mask_star], tgt_dec_done[mask_star], 'r*', ms=1.5, alpha=1., label='star')\n",
    "                plt.plot(tgt_ra_done[mask_sky], tgt_dec_done[mask_sky], 'b^', ms=1.5, alpha=1., label='sky')\n",
    "                plt.plot(tgt_ra_done[mask_anc], tgt_dec_done[mask_anc], 'gs', ms=1.5, alpha=1., label='ancillary')\n",
    "            else:\n",
    "                plt.plot(tgt_ra_done[mask_cos], tgt_dec_done[mask_cos], 'k.', ms=0.5, alpha=0.5)\n",
    "                plt.plot(tgt_ra_done[mask_star], tgt_dec_done[mask_star], 'r*', ms=1.5, alpha=1.)\n",
    "                plt.plot(tgt_ra_done[mask_sky], tgt_dec_done[mask_sky], 'b^', ms=1.5, alpha=1.)\n",
    "                plt.plot(tgt_ra_done[mask_anc], tgt_dec_done[mask_anc], 'gs', ms=1.5, alpha=1.)\n",
    "        else:\n",
    "            if(i==0): \n",
    "                plt.figure(figsize = figsize)\n",
    "                plt.plot(tgt_ra_done, tgt_dec_done, 'k.', ms=0.5, alpha=0.5, label='targets done')\n",
    "            else:\n",
    "                plt.plot(tgt_ra_done, tgt_dec_done, 'k.', ms=0.5, alpha=0.5)\n",
    "\n",
    "    plt.legend(loc='upper right', fontsize=15)\n",
    "    plt.xlabel('RA', fontsize=15)\n",
    "    plt.ylabel('DEC', fontsize=15)\n",
    "    plt.savefig(figname, dpi=300, bbox_inches='tight')\n",
    "    plt.show()\n",
    "    plt.close()"
   ]
  },
  {
   "cell_type": "markdown",
   "metadata": {},
   "source": [
    "# main function"
   ]
  },
  {
   "cell_type": "code",
   "execution_count": 43,
   "metadata": {},
   "outputs": [
    {
     "name": "stdout",
     "output_type": "stream",
     "text": [
      "construct target list:\n",
      "../data_proc/test/cosmology_region3_3h_targets.ecsv\n",
      "../data_proc/test/star_region3_3h_targets.ecsv\n",
      "../data_proc/test/sky_region3_3h_targets.ecsv\n",
      "In total, there are 1656943 targets.\n",
      "Time passed - construct target list: 40.02 secs\n",
      "There are 12 pointings.\n",
      "  Your sample (gray), with the pointings (red):\n"
     ]
    },
    {
     "data": {
      "image/png": "[encoded data removed]",
      "text/plain": [
       "<Figure size 2000x500 with 1 Axes>"
      ]
     },
     "metadata": {},
     "output_type": "display_data"
    },
    {
     "name": "stdout",
     "output_type": "stream",
     "text": [
      "Time passed - read pointings and plot for a small region: 0.92 secs\n",
      "Created cobra coach temp directory: ./cobra_coach_temp/\n"
     ]
    },
    {
     "name": "stderr",
     "output_type": "stream",
     "text": [
      "2025-01-12 01:18:47.804Z cobraCoach       30 cobraCoach.py:164 setting invisible cobras: [173, 648, 799, 853, 949, 1173, 1653, 1724, 2182]\n",
      "2025-01-12 01:18:47.889Z cobraCoach       30 cobraCoach.py:175 setting bad cobras: [47, 50, 173, 193, 347, 361, 648, 754, 799, 821, 853, 949, 1150, 1173, 1208, 1210, 1520, 1580, 1653, 1724, 1791, 1825, 1836, 1882, 1903, 2053, 2182, 2352, 2380]\n",
      "2025-01-12 01:18:47.901Z cobraCoach       20 cobraCoach.py:273 cc connecting to fpga....\n",
      "2025-01-12 01:18:47.905Z butler           30 butler.py:59 newRun: cobra_coach_temp/20250112_004\n"
     ]
    },
    {
     "name": "stdout",
     "output_type": "stream",
     "text": [
      "Cobras with zero centers: 0\n",
      "Cobras with zero link lengths: 0\n",
      "Cobras with too long link lengths: 0\n"
     ]
    },
    {
     "name": "stderr",
     "output_type": "stream",
     "text": [
      "2025-01-12 01:18:55.206Z root             10 CoordTransp.py:306 0.0\n",
      "2025-01-12 01:18:55.211Z root             20 DistortionCoefficients.py:688 2016.0\n",
      "2025-01-12 01:18:55.213Z root             10 DistortionCoefficients.py:690 9.635751768195725 yr\n",
      "2025-01-12 01:18:55.215Z root             10 DistortionCoefficients.py:701 1e-08 mas\n",
      "2025-01-12 01:18:55.348Z root             20 DistortionCoefficients.py:709 Ra Dec = (330.682912 -0.518103) : original\n",
      "2025-01-12 01:18:55.354Z root             20 DistortionCoefficients.py:711 PM = (0.0 mas / yr 0.0 mas / yr)\n",
      "2025-01-12 01:18:55.355Z root             20 DistortionCoefficients.py:713 Ra Dec = (330.68291199999993 -0.518103) : applied proper motion\n",
      "2025-01-12 01:18:55.357Z root             20 DistortionCoefficients.py:715 Ra Dec = (331.01190200999855 -0.3934771952557599) : applied presession\n",
      "2025-01-12 01:18:55.435Z root             20 CoordTransp.py:312 FoV center: Ra,Dec=([330.682912] [-0.518103]) is Az,El,InR=(200.96093011908144 68.47309797706178 19.66297008595464)\n",
      "2025-01-12 01:18:55.913Z root             20 CoordTransp.py:84 Zenith angle for your field should be 21.526902022938216\n",
      "2025-01-12 01:18:55.966Z root             20 CoordTransp.py:163 Correct extra distortion @ tel -- skipped\n",
      "2025-01-12 01:18:55.967Z root             20 CoordTransp.py:164 Before: x= [-193.47126889 -181.86610932 -199.33350527 -193.10942907 -189.03957835\n",
      " -193.87142014 -178.02574974 -189.5729862  -181.36830786 -179.00238031\n",
      " -189.71276752], y=[172.47404102 169.28812764 163.66009436 162.63418929 163.37842981\n",
      " 159.57579164 163.59483829 158.68076736 161.03747143 160.85060881\n",
      " 156.93006185]\n",
      "2025-01-12 01:18:55.977Z root             20 CoordTransp.py:167 correct by -1.0\n",
      "2025-01-12 01:18:55.981Z root             20 CoordTransp.py:170 After: x= [-193.45732608 -181.85489165 -199.32040849 -193.09777317 -189.02848004\n",
      " -193.86029327 -178.01628854 -189.56280602 -181.3589094  -178.99335082\n",
      " -189.70293421], y=[172.45308808 169.27043598 163.63890595 162.61463555 163.35975241\n",
      " 159.55643679 163.57870955 158.66252433 161.02085609 160.83455462\n",
      " 156.91198774]\n",
      "2025-01-12 01:18:55.984Z root             20 CoordTransp.py:173 Telescope to PFI\n"
     ]
    },
    {
     "name": "stdout",
     "output_type": "stream",
     "text": [
      "solving the problem for stage=0 targets.\n",
      "Set parameter Presolve to value 1\n"
     ]
    },
    {
     "name": "stderr",
     "output_type": "stream",
     "text": [
      "2025-01-12 01:18:56.000Z gurobipy         20 netflow.py:117 Set parameter Presolve to value 1\n"
     ]
    },
    {
     "name": "stdout",
     "output_type": "stream",
     "text": [
      "Set parameter Method to value 4\n"
     ]
    },
    {
     "name": "stderr",
     "output_type": "stream",
     "text": [
      "2025-01-12 01:18:56.004Z gurobipy         20 netflow.py:117 Set parameter Method to value 4\n"
     ]
    },
    {
     "name": "stdout",
     "output_type": "stream",
     "text": [
      "Set parameter DegenMoves to value 0\n"
     ]
    },
    {
     "name": "stderr",
     "output_type": "stream",
     "text": [
      "2025-01-12 01:18:56.007Z gurobipy         20 netflow.py:117 Set parameter DegenMoves to value 0\n"
     ]
    },
    {
     "name": "stdout",
     "output_type": "stream",
     "text": [
      "Set parameter Heuristics to value 0.8\n"
     ]
    },
    {
     "name": "stderr",
     "output_type": "stream",
     "text": [
      "2025-01-12 01:18:56.011Z gurobipy         20 netflow.py:117 Set parameter Heuristics to value 0.8\n"
     ]
    },
    {
     "name": "stdout",
     "output_type": "stream",
     "text": [
      "Set parameter MIPGap to value 0.05\n"
     ]
    },
    {
     "name": "stderr",
     "output_type": "stream",
     "text": [
      "2025-01-12 01:18:56.012Z gurobipy         20 netflow.py:117 Set parameter MIPGap to value 0.05\n"
     ]
    },
    {
     "name": "stdout",
     "output_type": "stream",
     "text": [
      "Creating network topology\n",
      "  exposure 1\n",
      "Calculating visibilities\n",
      "adding constraints\n",
      "adding collision constraints\n",
      "adding forbidden pair constraints\n",
      "Gurobi Optimizer version 10.0.1 build v10.0.1rc0 (mac64[x86])\n"
     ]
    },
    {
     "name": "stderr",
     "output_type": "stream",
     "text": [
      "2025-01-12 01:19:06.436Z gurobipy         20 netflow.py:149 Gurobi Optimizer version 10.0.1 build v10.0.1rc0 (mac64[x86])\n"
     ]
    },
    {
     "name": "stdout",
     "output_type": "stream",
     "text": [
      "\n"
     ]
    },
    {
     "name": "stderr",
     "output_type": "stream",
     "text": [
      "2025-01-12 01:19:06.438Z gurobipy         20 netflow.py:149 \n"
     ]
    },
    {
     "name": "stdout",
     "output_type": "stream",
     "text": [
      "CPU model: Intel(R) Core(TM) i7-8569U CPU @ 2.80GHz\n"
     ]
    },
    {
     "name": "stderr",
     "output_type": "stream",
     "text": [
      "2025-01-12 01:19:06.440Z gurobipy         20 netflow.py:149 CPU model: Intel(R) Core(TM) i7-8569U CPU @ 2.80GHz\n"
     ]
    },
    {
     "name": "stdout",
     "output_type": "stream",
     "text": [
      "Thread count: 4 physical cores, 8 logical processors, using up to 8 threads\n"
     ]
    },
    {
     "name": "stderr",
     "output_type": "stream",
     "text": [
      "2025-01-12 01:19:06.442Z gurobipy         20 netflow.py:149 Thread count: 4 physical cores, 8 logical processors, using up to 8 threads\n"
     ]
    },
    {
     "name": "stdout",
     "output_type": "stream",
     "text": [
      "\n"
     ]
    },
    {
     "name": "stderr",
     "output_type": "stream",
     "text": [
      "2025-01-12 01:19:06.445Z gurobipy         20 netflow.py:149 \n"
     ]
    },
    {
     "name": "stdout",
     "output_type": "stream",
     "text": [
      "Academic license 2379863 - for non-commercial use only - registered to ji___@ipmu.jp\n"
     ]
    },
    {
     "name": "stderr",
     "output_type": "stream",
     "text": [
      "2025-01-12 01:19:06.449Z gurobipy         20 netflow.py:149 Academic license 2379863 - for non-commercial use only - registered to ji___@ipmu.jp\n"
     ]
    },
    {
     "name": "stdout",
     "output_type": "stream",
     "text": [
      "Optimize a model with 139856 rows, 72836 columns and 362086 nonzeros\n"
     ]
    },
    {
     "name": "stderr",
     "output_type": "stream",
     "text": [
      "2025-01-12 01:19:06.454Z gurobipy         20 netflow.py:149 Optimize a model with 139856 rows, 72836 columns and 362086 nonzeros\n"
     ]
    },
    {
     "name": "stdout",
     "output_type": "stream",
     "text": [
      "Model fingerprint: 0x59f14d6b\n"
     ]
    },
    {
     "name": "stderr",
     "output_type": "stream",
     "text": [
      "2025-01-12 01:19:06.460Z gurobipy         20 netflow.py:149 Model fingerprint: 0x59f14d6b\n"
     ]
    },
    {
     "name": "stdout",
     "output_type": "stream",
     "text": [
      "Variable types: 1 continuous, 72835 integer (72833 binary)\n"
     ]
    },
    {
     "name": "stderr",
     "output_type": "stream",
     "text": [
      "2025-01-12 01:19:06.462Z gurobipy         20 netflow.py:149 Variable types: 1 continuous, 72835 integer (72833 binary)\n"
     ]
    },
    {
     "name": "stdout",
     "output_type": "stream",
     "text": [
      "Coefficient statistics:\n"
     ]
    },
    {
     "name": "stderr",
     "output_type": "stream",
     "text": [
      "2025-01-12 01:19:06.466Z gurobipy         20 netflow.py:149 Coefficient statistics:\n"
     ]
    },
    {
     "name": "stdout",
     "output_type": "stream",
     "text": [
      "  Matrix range     [1e+00, 1e+00]\n"
     ]
    },
    {
     "name": "stderr",
     "output_type": "stream",
     "text": [
      "2025-01-12 01:19:06.468Z gurobipy         20 netflow.py:149   Matrix range     [1e+00, 1e+00]\n"
     ]
    },
    {
     "name": "stdout",
     "output_type": "stream",
     "text": [
      "  Objective range  [1e-01, 1e+06]\n"
     ]
    },
    {
     "name": "stderr",
     "output_type": "stream",
     "text": [
      "2025-01-12 01:19:06.469Z gurobipy         20 netflow.py:149   Objective range  [1e-01, 1e+06]\n"
     ]
    },
    {
     "name": "stdout",
     "output_type": "stream",
     "text": [
      "  Bounds range     [1e+00, 1e+00]\n"
     ]
    },
    {
     "name": "stderr",
     "output_type": "stream",
     "text": [
      "2025-01-12 01:19:06.470Z gurobipy         20 netflow.py:149   Bounds range     [1e+00, 1e+00]\n"
     ]
    },
    {
     "name": "stdout",
     "output_type": "stream",
     "text": [
      "  RHS range        [1e+00, 4e+02]\n"
     ]
    },
    {
     "name": "stderr",
     "output_type": "stream",
     "text": [
      "2025-01-12 01:19:06.473Z gurobipy         20 netflow.py:149   RHS range        [1e+00, 4e+02]\n"
     ]
    },
    {
     "name": "stdout",
     "output_type": "stream",
     "text": [
      "Found heuristic solution: objective 6.000000e+08\n"
     ]
    },
    {
     "name": "stderr",
     "output_type": "stream",
     "text": [
      "2025-01-12 01:19:06.490Z gurobipy         20 netflow.py:149 Found heuristic solution: objective 6.000000e+08\n"
     ]
    },
    {
     "name": "stdout",
     "output_type": "stream",
     "text": [
      "Presolve removed 139004 rows and 69795 columns\n"
     ]
    },
    {
     "name": "stderr",
     "output_type": "stream",
     "text": [
      "2025-01-12 01:19:07.231Z gurobipy         20 netflow.py:149 Presolve removed 139004 rows and 69795 columns\n"
     ]
    },
    {
     "name": "stdout",
     "output_type": "stream",
     "text": [
      "Presolve time: 0.72s\n"
     ]
    },
    {
     "name": "stderr",
     "output_type": "stream",
     "text": [
      "2025-01-12 01:19:07.232Z gurobipy         20 netflow.py:149 Presolve time: 0.72s\n"
     ]
    },
    {
     "name": "stdout",
     "output_type": "stream",
     "text": [
      "Presolved: 852 rows, 3041 columns, 4926 nonzeros\n"
     ]
    },
    {
     "name": "stderr",
     "output_type": "stream",
     "text": [
      "2025-01-12 01:19:07.240Z gurobipy         20 netflow.py:149 Presolved: 852 rows, 3041 columns, 4926 nonzeros\n"
     ]
    },
    {
     "name": "stdout",
     "output_type": "stream",
     "text": [
      "Variable types: 0 continuous, 3041 integer (3039 binary)\n"
     ]
    },
    {
     "name": "stderr",
     "output_type": "stream",
     "text": [
      "2025-01-12 01:19:07.253Z gurobipy         20 netflow.py:149 Variable types: 0 continuous, 3041 integer (3039 binary)\n"
     ]
    },
    {
     "name": "stdout",
     "output_type": "stream",
     "text": [
      "Found heuristic solution: objective 5.980000e+08\n"
     ]
    },
    {
     "name": "stderr",
     "output_type": "stream",
     "text": [
      "2025-01-12 01:19:07.260Z gurobipy         20 netflow.py:149 Found heuristic solution: objective 5.980000e+08\n"
     ]
    },
    {
     "name": "stdout",
     "output_type": "stream",
     "text": [
      "Deterministic concurrent LP optimizer: dual simplex and barrier\n"
     ]
    },
    {
     "name": "stderr",
     "output_type": "stream",
     "text": [
      "2025-01-12 01:19:07.268Z gurobipy         20 netflow.py:149 Deterministic concurrent LP optimizer: dual simplex and barrier\n"
     ]
    },
    {
     "name": "stdout",
     "output_type": "stream",
     "text": [
      "Showing barrier log only...\n"
     ]
    },
    {
     "name": "stderr",
     "output_type": "stream",
     "text": [
      "2025-01-12 01:19:07.270Z gurobipy         20 netflow.py:149 Showing barrier log only...\n"
     ]
    },
    {
     "name": "stdout",
     "output_type": "stream",
     "text": [
      "\n"
     ]
    },
    {
     "name": "stderr",
     "output_type": "stream",
     "text": [
      "2025-01-12 01:19:07.272Z gurobipy         20 netflow.py:149 \n"
     ]
    },
    {
     "name": "stdout",
     "output_type": "stream",
     "text": [
      "Root barrier log...\n"
     ]
    },
    {
     "name": "stderr",
     "output_type": "stream",
     "text": [
      "2025-01-12 01:19:07.280Z gurobipy         20 netflow.py:149 Root barrier log...\n"
     ]
    },
    {
     "name": "stdout",
     "output_type": "stream",
     "text": [
      "\n"
     ]
    },
    {
     "name": "stderr",
     "output_type": "stream",
     "text": [
      "2025-01-12 01:19:07.287Z gurobipy         20 netflow.py:149 \n"
     ]
    },
    {
     "name": "stdout",
     "output_type": "stream",
     "text": [
      "Ordering time: 0.00s\n"
     ]
    },
    {
     "name": "stderr",
     "output_type": "stream",
     "text": [
      "2025-01-12 01:19:07.289Z gurobipy         20 netflow.py:149 Ordering time: 0.00s\n"
     ]
    },
    {
     "name": "stdout",
     "output_type": "stream",
     "text": [
      "\n"
     ]
    },
    {
     "name": "stderr",
     "output_type": "stream",
     "text": [
      "2025-01-12 01:19:07.292Z gurobipy         20 netflow.py:149 \n"
     ]
    },
    {
     "name": "stdout",
     "output_type": "stream",
     "text": [
      "Barrier statistics:\n"
     ]
    },
    {
     "name": "stderr",
     "output_type": "stream",
     "text": [
      "2025-01-12 01:19:07.301Z gurobipy         20 netflow.py:149 Barrier statistics:\n"
     ]
    },
    {
     "name": "stdout",
     "output_type": "stream",
     "text": [
      " AA' NZ     : 1.792e+03\n"
     ]
    },
    {
     "name": "stderr",
     "output_type": "stream",
     "text": [
      "2025-01-12 01:19:07.308Z gurobipy         20 netflow.py:149  AA' NZ     : 1.792e+03\n"
     ]
    },
    {
     "name": "stdout",
     "output_type": "stream",
     "text": [
      " Factor NZ  : 3.946e+03 (roughly 2 MB of memory)\n"
     ]
    },
    {
     "name": "stderr",
     "output_type": "stream",
     "text": [
      "2025-01-12 01:19:07.311Z gurobipy         20 netflow.py:149  Factor NZ  : 3.946e+03 (roughly 2 MB of memory)\n"
     ]
    },
    {
     "name": "stdout",
     "output_type": "stream",
     "text": [
      " Factor Ops : 2.889e+04 (less than 1 second per iteration)\n"
     ]
    },
    {
     "name": "stderr",
     "output_type": "stream",
     "text": [
      "2025-01-12 01:19:07.313Z gurobipy         20 netflow.py:149  Factor Ops : 2.889e+04 (less than 1 second per iteration)\n"
     ]
    },
    {
     "name": "stdout",
     "output_type": "stream",
     "text": [
      " Threads    : 1\n"
     ]
    },
    {
     "name": "stderr",
     "output_type": "stream",
     "text": [
      "2025-01-12 01:19:07.317Z gurobipy         20 netflow.py:149  Threads    : 1\n"
     ]
    },
    {
     "name": "stdout",
     "output_type": "stream",
     "text": [
      "\n"
     ]
    },
    {
     "name": "stderr",
     "output_type": "stream",
     "text": [
      "2025-01-12 01:19:07.331Z gurobipy         20 netflow.py:149 \n"
     ]
    },
    {
     "name": "stdout",
     "output_type": "stream",
     "text": [
      "                  Objective                Residual\n"
     ]
    },
    {
     "name": "stderr",
     "output_type": "stream",
     "text": [
      "2025-01-12 01:19:07.333Z gurobipy         20 netflow.py:149                   Objective                Residual\n"
     ]
    },
    {
     "name": "stdout",
     "output_type": "stream",
     "text": [
      "Iter       Primal          Dual         Primal    Dual     Compl     Time\n"
     ]
    },
    {
     "name": "stderr",
     "output_type": "stream",
     "text": [
      "2025-01-12 01:19:07.335Z gurobipy         20 netflow.py:149 Iter       Primal          Dual         Primal    Dual     Compl     Time\n"
     ]
    },
    {
     "name": "stdout",
     "output_type": "stream",
     "text": [
      "   0   3.76910506e+08 -2.44562128e+09  3.98e+01 3.71e+04  3.39e+07     1s\n"
     ]
    },
    {
     "name": "stderr",
     "output_type": "stream",
     "text": [
      "2025-01-12 01:19:07.337Z gurobipy         20 netflow.py:149    0   3.76910506e+08 -2.44562128e+09  3.98e+01 3.71e+04  3.39e+07     1s\n"
     ]
    },
    {
     "name": "stdout",
     "output_type": "stream",
     "text": [
      "\n"
     ]
    },
    {
     "name": "stderr",
     "output_type": "stream",
     "text": [
      "2025-01-12 01:19:07.340Z gurobipy         20 netflow.py:149 \n"
     ]
    },
    {
     "name": "stdout",
     "output_type": "stream",
     "text": [
      "Barrier performed 0 iterations in 0.89 seconds (0.35 work units)\n"
     ]
    },
    {
     "name": "stderr",
     "output_type": "stream",
     "text": [
      "2025-01-12 01:19:07.344Z gurobipy         20 netflow.py:149 Barrier performed 0 iterations in 0.89 seconds (0.35 work units)\n"
     ]
    },
    {
     "name": "stdout",
     "output_type": "stream",
     "text": [
      "Barrier solve interrupted - model solved by another algorithm\n"
     ]
    },
    {
     "name": "stderr",
     "output_type": "stream",
     "text": [
      "2025-01-12 01:19:07.428Z gurobipy         20 netflow.py:149 Barrier solve interrupted - model solved by another algorithm\n"
     ]
    },
    {
     "name": "stdout",
     "output_type": "stream",
     "text": [
      "\n"
     ]
    },
    {
     "name": "stderr",
     "output_type": "stream",
     "text": [
      "2025-01-12 01:19:07.434Z gurobipy         20 netflow.py:149 \n"
     ]
    },
    {
     "name": "stdout",
     "output_type": "stream",
     "text": [
      "Concurrent spin time: 0.17s (can be avoided by choosing Method=3)\n"
     ]
    },
    {
     "name": "stderr",
     "output_type": "stream",
     "text": [
      "2025-01-12 01:19:07.458Z gurobipy         20 netflow.py:149 Concurrent spin time: 0.17s (can be avoided by choosing Method=3)\n"
     ]
    },
    {
     "name": "stdout",
     "output_type": "stream",
     "text": [
      "\n"
     ]
    },
    {
     "name": "stderr",
     "output_type": "stream",
     "text": [
      "2025-01-12 01:19:07.463Z gurobipy         20 netflow.py:149 \n"
     ]
    },
    {
     "name": "stdout",
     "output_type": "stream",
     "text": [
      "Solved with dual simplex\n"
     ]
    },
    {
     "name": "stderr",
     "output_type": "stream",
     "text": [
      "2025-01-12 01:19:07.466Z gurobipy         20 netflow.py:149 Solved with dual simplex\n"
     ]
    },
    {
     "name": "stdout",
     "output_type": "stream",
     "text": [
      "\n"
     ]
    },
    {
     "name": "stderr",
     "output_type": "stream",
     "text": [
      "2025-01-12 01:19:07.471Z gurobipy         20 netflow.py:149 \n"
     ]
    },
    {
     "name": "stdout",
     "output_type": "stream",
     "text": [
      "Root relaxation: objective 1.044055e+02, 93 iterations, 0.21 seconds (0.00 work units)\n"
     ]
    },
    {
     "name": "stderr",
     "output_type": "stream",
     "text": [
      "2025-01-12 01:19:07.479Z gurobipy         20 netflow.py:149 Root relaxation: objective 1.044055e+02, 93 iterations, 0.21 seconds (0.00 work units)\n"
     ]
    },
    {
     "name": "stdout",
     "output_type": "stream",
     "text": [
      "\n"
     ]
    },
    {
     "name": "stderr",
     "output_type": "stream",
     "text": [
      "2025-01-12 01:19:07.516Z gurobipy         20 netflow.py:149 \n"
     ]
    },
    {
     "name": "stdout",
     "output_type": "stream",
     "text": [
      "    Nodes    |    Current Node    |     Objective Bounds      |     Work\n"
     ]
    },
    {
     "name": "stderr",
     "output_type": "stream",
     "text": [
      "2025-01-12 01:19:07.519Z gurobipy         20 netflow.py:149     Nodes    |    Current Node    |     Objective Bounds      |     Work\n"
     ]
    },
    {
     "name": "stdout",
     "output_type": "stream",
     "text": [
      " Expl Unexpl |  Obj  Depth IntInf | Incumbent    BestBd   Gap | It/Node Time\n"
     ]
    },
    {
     "name": "stderr",
     "output_type": "stream",
     "text": [
      "2025-01-12 01:19:07.523Z gurobipy         20 netflow.py:149  Expl Unexpl |  Obj  Depth IntInf | Incumbent    BestBd   Gap | It/Node Time\n"
     ]
    },
    {
     "name": "stdout",
     "output_type": "stream",
     "text": [
      "\n"
     ]
    },
    {
     "name": "stderr",
     "output_type": "stream",
     "text": [
      "2025-01-12 01:19:07.525Z gurobipy         20 netflow.py:149 \n"
     ]
    },
    {
     "name": "stdout",
     "output_type": "stream",
     "text": [
      "*    0     0               0     104.4054902  104.40549  0.00%     -    1s\n"
     ]
    },
    {
     "name": "stderr",
     "output_type": "stream",
     "text": [
      "2025-01-12 01:19:07.529Z gurobipy         20 netflow.py:149 *    0     0               0     104.4054902  104.40549  0.00%     -    1s\n"
     ]
    },
    {
     "name": "stdout",
     "output_type": "stream",
     "text": [
      "\n"
     ]
    },
    {
     "name": "stderr",
     "output_type": "stream",
     "text": [
      "2025-01-12 01:19:07.600Z gurobipy         20 netflow.py:149 \n"
     ]
    },
    {
     "name": "stdout",
     "output_type": "stream",
     "text": [
      "Explored 1 nodes (93 simplex iterations) in 1.15 seconds (0.35 work units)\n"
     ]
    },
    {
     "name": "stderr",
     "output_type": "stream",
     "text": [
      "2025-01-12 01:19:07.603Z gurobipy         20 netflow.py:149 Explored 1 nodes (93 simplex iterations) in 1.15 seconds (0.35 work units)\n"
     ]
    },
    {
     "name": "stdout",
     "output_type": "stream",
     "text": [
      "Thread count was 8 (of 8 available processors)\n"
     ]
    },
    {
     "name": "stderr",
     "output_type": "stream",
     "text": [
      "2025-01-12 01:19:07.607Z gurobipy         20 netflow.py:149 Thread count was 8 (of 8 available processors)\n"
     ]
    },
    {
     "name": "stdout",
     "output_type": "stream",
     "text": [
      "\n"
     ]
    },
    {
     "name": "stderr",
     "output_type": "stream",
     "text": [
      "2025-01-12 01:19:07.609Z gurobipy         20 netflow.py:149 \n"
     ]
    },
    {
     "name": "stdout",
     "output_type": "stream",
     "text": [
      "Solution count 3: 104.405 5.98e+08 6e+08 \n"
     ]
    },
    {
     "name": "stderr",
     "output_type": "stream",
     "text": [
      "2025-01-12 01:19:07.612Z gurobipy         20 netflow.py:149 Solution count 3: 104.405 5.98e+08 6e+08 \n"
     ]
    },
    {
     "name": "stdout",
     "output_type": "stream",
     "text": [
      "\n"
     ]
    },
    {
     "name": "stderr",
     "output_type": "stream",
     "text": [
      "2025-01-12 01:19:07.615Z gurobipy         20 netflow.py:149 \n"
     ]
    },
    {
     "name": "stdout",
     "output_type": "stream",
     "text": [
      "Optimal solution found (tolerance 5.00e-02)\n"
     ]
    },
    {
     "name": "stderr",
     "output_type": "stream",
     "text": [
      "2025-01-12 01:19:07.618Z gurobipy         20 netflow.py:149 Optimal solution found (tolerance 5.00e-02)\n"
     ]
    },
    {
     "name": "stdout",
     "output_type": "stream",
     "text": [
      "Best objective 1.044054901506e+02, best bound 1.044054901506e+02, gap 0.0000%\n"
     ]
    },
    {
     "name": "stderr",
     "output_type": "stream",
     "text": [
      "2025-01-12 01:19:07.625Z gurobipy         20 netflow.py:149 Best objective 1.044054901506e+02, best bound 1.044054901506e+02, gap 0.0000%\n"
     ]
    },
    {
     "name": "stdout",
     "output_type": "stream",
     "text": [
      "Checking for trajectory collisions\n"
     ]
    },
    {
     "name": "stderr",
     "output_type": "stream",
     "text": [
      "2025-01-12 01:19:08.186Z pfi              40 pfi.py:896 Some theta angles are out of range\n",
      "2025-01-12 01:19:08.187Z pfi              40 pfi.py:899 Some phi angles are out of range\n",
      "2025-01-12 01:19:08.401Z pfi              40 pfi.py:899 Some phi angles are out of range\n",
      "2025-01-12 01:19:08.430Z pfi              40 pfi.py:899 Some phi angles are out of range\n",
      "2025-01-12 01:19:08.432Z engineer         20 engineer.py:395 Move theta arms to angle=[360.  360.  270.9 ... 360.  360.  360. ] degree\n",
      "2025-01-12 01:19:08.433Z engineer         20 engineer.py:396 Move phi arms to angle=[11.09 24.48 35.88 ...  8.43 11.99  9.16] degree\n",
      "2025-01-12 01:19:08.435Z engineer         20 engineer.py:398 Checking passed homed argument = True\n",
      "2025-01-12 01:19:08.436Z engineer         20 engineer.py:402 Move theta arms CW and phi arms CCW to the hard stops\n",
      "2025-01-12 01:19:08.462Z cobraCoach       20 cobraCoach.py:1065 home cobras: theta=10000, phi=-5000\n",
      "2025-01-12 01:19:08.487Z pfi              40 pfi.py:899 Some phi angles are out of range\n",
      "2025-01-12 01:19:08.514Z pfi              40 pfi.py:899 Some phi angles are out of range\n",
      "2025-01-12 01:19:08.539Z cobraCoach       20 cobraCoach.py:1009 Moving deltaTheta = [-0.29458444 -0.38204686 -1.91112292 ... -0.40597169 -0.4013664\n",
      " -0.41592376]\n",
      "2025-01-12 01:19:08.540Z cobraCoach       20 cobraCoach.py:1010 Moving deltaPhi = [0.19361448 0.42723261 0.6262403  ... 0.14708474 0.20932294 0.15978886]\n",
      "2025-01-12 01:19:08.799Z cobraCoach       20 cobraCoach.py:877 Finished converting angle to steps, sending command to moveSteps (constantOntime).\n",
      "2025-01-12 01:19:09.355Z cobraCoach       20 cobraCoach.py:587 Sending step numbers to FPGA for moving cobra.\n",
      "2025-01-12 01:19:09.472Z cobraCoach       20 cobraCoach.py:601 cobra control FPGA operation done.\n",
      "2025-01-12 01:19:09.500Z pfi              40 pfi.py:896 Some theta angles are out of range\n",
      "2025-01-12 01:19:09.501Z pfi              40 pfi.py:899 Some phi angles are out of range\n",
      "/Users/jing/anaconda3/lib/python3.10/site-packages/ics/cobraCharmer/pfi.py:1010: RuntimeWarning: invalid value encountered in arccos\n",
      "  ang1 = np.arccos((L1Sq[i] + L2Sq[i] - distanceSq[i]) / (2 * L1[i] * L2[i]))\n",
      "2025-01-12 01:19:09.609Z cobraCoach       30 cobraCoach.py:675 Cobra#344 is too far from center\n",
      "2025-01-12 01:19:09.613Z cobraCoach       30 cobraCoach.py:675 Cobra#443 is too far from center\n",
      "2025-01-12 01:19:09.616Z cobraCoach       30 cobraCoach.py:675 Cobra#493 is too far from center\n",
      "2025-01-12 01:19:09.641Z cobraCoach       30 cobraCoach.py:675 Cobra#1303 is too far from center\n",
      "2025-01-12 01:19:09.652Z cobraCoach       30 cobraCoach.py:675 Cobra#1637 is too far from center\n",
      "2025-01-12 01:19:09.658Z cobraCoach       30 cobraCoach.py:675 Cobra#1790 is too far from center\n",
      "2025-01-12 01:19:09.659Z cobraCoach       30 cobraCoach.py:675 Cobra#1792 is too far from center\n",
      "2025-01-12 01:19:09.684Z engineer         20 engineer.py:433 done: [   0    1    2 ... 2391 2392 2393], 14 left\n",
      "2025-01-12 01:19:09.686Z cobraCoach       30 cobraCoach.py:1003 Last phi angle is unknown, not moving: [1459]\n",
      "2025-01-12 01:19:09.687Z cobraCoach       20 cobraCoach.py:1009 Moving deltaTheta = [-1.01748456e-05 -1.01748456e-05 -1.01748456e-05  1.42413045e-04\n",
      " -1.01748456e-05 -1.01748456e-05 -1.01748456e-05 -1.01748455e-05\n",
      " -1.01748456e-05  6.92683126e-04 -1.01748455e-05 -1.01748456e-05\n",
      " -1.01748456e-05  1.10228624e-03]\n",
      "2025-01-12 01:19:09.688Z cobraCoach       20 cobraCoach.py:1010 Moving deltaPhi = [-6.10865247 -6.10865247 -6.10865247 -0.04164008 -2.96705959 -6.10865247\n",
      "  0.         -2.96705964 -2.96705969 -0.06341524 -6.10865247 -6.10865247\n",
      " -6.10865247 -0.0498779 ]\n",
      "2025-01-12 01:19:09.692Z cobraCoach       30 cobraCoach.py:846 Last phi angle is unknown: [1459]\n",
      "2025-01-12 01:19:09.695Z cobraCoach       20 cobraCoach.py:877 Finished converting angle to steps, sending command to moveSteps (constantOntime).\n",
      "2025-01-12 01:19:09.707Z cobraCoach       20 cobraCoach.py:587 Sending step numbers to FPGA for moving cobra.\n",
      "2025-01-12 01:19:09.710Z cobraCoach       20 cobraCoach.py:601 cobra control FPGA operation done.\n",
      "2025-01-12 01:19:09.737Z pfi              40 pfi.py:896 Some theta angles are out of range\n",
      "2025-01-12 01:19:09.738Z pfi              40 pfi.py:899 Some phi angles are out of range\n",
      "2025-01-12 01:19:09.835Z cobraCoach       30 cobraCoach.py:675 Cobra#344 is too far from center\n",
      "2025-01-12 01:19:09.836Z cobraCoach       30 cobraCoach.py:679 Cobra#1460 is too close to center\n",
      "2025-01-12 01:19:09.837Z cobraCoach       30 cobraCoach.py:675 Cobra#1637 is too far from center\n",
      "2025-01-12 01:19:09.839Z cobraCoach       30 cobraCoach.py:675 Cobra#1790 is too far from center\n",
      "2025-01-12 01:19:09.843Z engineer         30 engineer.py:442 14 cobras did not finish: [ 343  442  492  578  737 1302 1459 1493 1538 1587 1636 1789 1791 1969], [4.67 4.67 4.67 0.11 4.67 4.67 0.82 4.67 4.67 0.16 4.67 4.67 4.67 0.11]\n",
      "2025-01-12 01:19:09.868Z pfi              40 pfi.py:899 Some phi angles are out of range\n",
      "2025-01-12 01:19:09.870Z engineer         20 engineer.py:395 Move theta arms to angle=[360.  360.  270.9 ... 360.  360.  360. ] degree\n",
      "2025-01-12 01:19:09.872Z engineer         20 engineer.py:396 Move phi arms to angle=[11.09 24.48 35.88 ...  8.43 11.99  9.16] degree\n",
      "2025-01-12 01:19:09.872Z engineer         20 engineer.py:398 Checking passed homed argument = False\n",
      "2025-01-12 01:19:09.899Z cobraCoach       20 cobraCoach.py:1009 Moving deltaTheta = [-0.00026719 -0.0001518   0.00013482 ... -0.00025479  0.00038417\n",
      " -0.000724  ]\n",
      "2025-01-12 01:19:09.900Z cobraCoach       20 cobraCoach.py:1010 Moving deltaPhi = [ 8.60699099e-05 -8.34333106e-04 -3.81240990e-04 ...  6.56574960e-04\n",
      " -8.39715058e-04 -4.29651246e-04]\n",
      "2025-01-12 01:19:10.096Z cobraCoach       20 cobraCoach.py:877 Finished converting angle to steps, sending command to moveSteps (constantOntime).\n",
      "2025-01-12 01:19:10.323Z cobraCoach       20 cobraCoach.py:587 Sending step numbers to FPGA for moving cobra.\n",
      "2025-01-12 01:19:10.433Z cobraCoach       20 cobraCoach.py:601 cobra control FPGA operation done.\n",
      "2025-01-12 01:19:10.457Z pfi              40 pfi.py:896 Some theta angles are out of range\n",
      "2025-01-12 01:19:10.458Z pfi              40 pfi.py:899 Some phi angles are out of range\n",
      "2025-01-12 01:19:10.592Z cobraCoach       30 cobraCoach.py:675 Cobra#1303 is too far from center\n",
      "2025-01-12 01:19:10.607Z cobraCoach       30 cobraCoach.py:675 Cobra#1790 is too far from center\n",
      "2025-01-12 01:19:10.630Z engineer         20 engineer.py:433 done: [   0    1    2 ... 2391 2392 2393], 14 left\n",
      "2025-01-12 01:19:10.631Z cobraCoach       30 cobraCoach.py:1003 Last phi angle is unknown, not moving: [1459]\n",
      "2025-01-12 01:19:10.633Z cobraCoach       20 cobraCoach.py:1009 Moving deltaTheta = [-1.94233989e-04 -5.14191722e-04 -6.14804362e-04  1.42413045e-04\n",
      " -1.01748456e-05  2.69975771e-06 -1.01748456e-05 -1.01748455e-05\n",
      " -1.01748456e-05 -2.97707652e-04 -1.03632841e-03 -1.01748456e-05\n",
      " -3.80200480e-04 -1.05065440e-04]\n",
      "2025-01-12 01:19:10.634Z cobraCoach       20 cobraCoach.py:1010 Moving deltaPhi = [-2.96687409 -2.96705963 -2.9670596  -0.04164008 -2.96705959 -6.10865247\n",
      "  0.         -2.96705964 -2.96705969 -0.06341524 -2.96602327 -6.10865247\n",
      " -2.9670596  -0.0498779 ]\n",
      "2025-01-12 01:19:10.637Z cobraCoach       30 cobraCoach.py:846 Last phi angle is unknown: [1459]\n",
      "2025-01-12 01:19:10.640Z cobraCoach       20 cobraCoach.py:877 Finished converting angle to steps, sending command to moveSteps (constantOntime).\n",
      "2025-01-12 01:19:10.647Z cobraCoach       20 cobraCoach.py:587 Sending step numbers to FPGA for moving cobra.\n",
      "2025-01-12 01:19:10.651Z cobraCoach       20 cobraCoach.py:601 cobra control FPGA operation done.\n",
      "2025-01-12 01:19:10.677Z pfi              40 pfi.py:896 Some theta angles are out of range\n",
      "2025-01-12 01:19:10.678Z pfi              40 pfi.py:899 Some phi angles are out of range\n",
      "2025-01-12 01:19:10.779Z cobraCoach       30 cobraCoach.py:675 Cobra#344 is too far from center\n",
      "2025-01-12 01:19:10.780Z pfi              30 pfi.py:475 clipping scale adjustment from 0.2573481031895782 to 0.3\n",
      "2025-01-12 01:19:10.781Z cobraCoach       30 cobraCoach.py:679 Cobra#1460 is too close to center\n",
      "2025-01-12 01:19:10.782Z pfi              30 pfi.py:475 clipping scale adjustment from 0.26154231110049525 to 0.3\n",
      "2025-01-12 01:19:10.789Z cobraCoach       20 cobraCoach.py:1009 Moving deltaTheta = [-1.94233989e-04 -5.14191722e-04 -6.14804362e-04  1.42413045e-04\n",
      " -1.01748456e-05 -1.09852569e+00 -1.01748456e-05 -1.01748455e-05\n",
      " -1.01748456e-05 -2.97707652e-04 -1.03632841e-03 -1.07143418e+00\n",
      " -3.80200480e-04 -1.05065440e-04]\n",
      "2025-01-12 01:19:10.790Z cobraCoach       20 cobraCoach.py:1010 Moving deltaPhi = [-6.10865247 -2.96705963 -2.9670596  -0.04164008 -2.96705959 -1.71883189\n",
      " -2.96705973 -2.96705964 -2.96705969 -0.06341524 -2.96705964 -1.88389766\n",
      " -2.9670596  -0.0498779 ]\n",
      "2025-01-12 01:19:10.795Z cobraCoach       20 cobraCoach.py:877 Finished converting angle to steps, sending command to moveSteps (constantOntime).\n",
      "2025-01-12 01:19:10.803Z cobraCoach       20 cobraCoach.py:587 Sending step numbers to FPGA for moving cobra.\n",
      "2025-01-12 01:19:10.806Z cobraCoach       20 cobraCoach.py:601 cobra control FPGA operation done.\n",
      "2025-01-12 01:19:10.831Z pfi              40 pfi.py:896 Some theta angles are out of range\n",
      "2025-01-12 01:19:10.832Z pfi              40 pfi.py:899 Some phi angles are out of range\n",
      "2025-01-12 01:19:10.930Z pfi              30 pfi.py:475 clipping scale adjustment from 0.2859424141191533 to 0.3\n",
      "2025-01-12 01:19:10.931Z cobraCoach       30 cobraCoach.py:675 Cobra#1303 is too far from center\n",
      "2025-01-12 01:19:10.932Z pfi              30 pfi.py:475 clipping scale adjustment from 0.29999999904403885 to 0.3\n",
      "2025-01-12 01:19:10.935Z cobraCoach       30 cobraCoach.py:675 Cobra#1790 is too far from center\n",
      "2025-01-12 01:19:10.939Z cobraCoach       30 cobraCoach.py:1003 Last phi angle is unknown, not moving: [1459]\n",
      "2025-01-12 01:19:10.940Z cobraCoach       20 cobraCoach.py:1009 Moving deltaTheta = [-3.21863813e-01 -5.14191722e-04 -6.14804362e-04  1.42413045e-04\n",
      " -1.01748456e-05 -6.82685060e-01 -1.01748456e-05 -1.01748455e-05\n",
      " -1.01748456e-05 -2.97707652e-04 -1.03632841e-03 -3.25590772e-01\n",
      " -3.80200480e-04 -1.05065440e-04]\n",
      "2025-01-12 01:19:10.941Z cobraCoach       20 cobraCoach.py:1010 Moving deltaPhi = [-2.64219266 -2.96705963 -2.9670596  -0.04164008 -2.96705959 -6.10865247\n",
      "  0.         -2.96705964 -2.96705969 -0.06341524 -2.96705964 -6.10865247\n",
      " -2.9670596  -0.0498779 ]\n",
      "2025-01-12 01:19:10.947Z cobraCoach       30 cobraCoach.py:846 Last phi angle is unknown: [1459]\n",
      "2025-01-12 01:19:10.951Z cobraCoach       20 cobraCoach.py:877 Finished converting angle to steps, sending command to moveSteps (constantOntime).\n",
      "2025-01-12 01:19:10.961Z cobraCoach       20 cobraCoach.py:587 Sending step numbers to FPGA for moving cobra.\n",
      "2025-01-12 01:19:11.002Z cobraCoach       20 cobraCoach.py:601 cobra control FPGA operation done.\n",
      "2025-01-12 01:19:11.039Z pfi              40 pfi.py:896 Some theta angles are out of range\n",
      "2025-01-12 01:19:11.040Z pfi              40 pfi.py:899 Some phi angles are out of range\n",
      "2025-01-12 01:19:11.145Z pfi              30 pfi.py:475 clipping scale adjustment from 0.22521650184055392 to 0.3\n",
      "2025-01-12 01:19:11.146Z pfi              30 pfi.py:475 clipping scale adjustment from 0.2573481031895782 to 0.3\n",
      "2025-01-12 01:19:11.147Z cobraCoach       30 cobraCoach.py:679 Cobra#1460 is too close to center\n",
      "2025-01-12 01:19:11.149Z pfi              30 pfi.py:475 clipping scale adjustment from 0.22664453700152026 to 0.3\n",
      "2025-01-12 01:19:11.151Z pfi              30 pfi.py:475 clipping scale adjustment from 0.26154231110049525 to 0.3\n",
      "2025-01-12 01:19:11.157Z cobraCoach       20 cobraCoach.py:1009 Moving deltaTheta = [-2.17122172e-04 -5.14191722e-04 -6.14804362e-04  1.42413045e-04\n",
      " -1.01748456e-05  4.51698156e+00 -1.01748456e-05 -1.01748455e-05\n",
      " -1.01748456e-05 -2.97707652e-04 -1.03632841e-03  5.00301130e+00\n",
      " -3.80200480e-04 -1.05065440e-04]\n",
      "2025-01-12 01:19:11.159Z cobraCoach       20 cobraCoach.py:1010 Moving deltaPhi = [-2.96705965 -2.96705963 -2.9670596  -0.04164008 -2.96705959 -1.71883189\n",
      " -2.96705973 -2.96705964 -2.96705969 -0.06341524 -2.96705964 -1.88389766\n",
      " -2.9670596  -0.0498779 ]\n",
      "2025-01-12 01:19:11.167Z cobraCoach       20 cobraCoach.py:877 Finished converting angle to steps, sending command to moveSteps (constantOntime).\n",
      "2025-01-12 01:19:11.176Z cobraCoach       20 cobraCoach.py:587 Sending step numbers to FPGA for moving cobra.\n",
      "2025-01-12 01:19:11.181Z cobraCoach       20 cobraCoach.py:601 cobra control FPGA operation done.\n",
      "2025-01-12 01:19:11.211Z pfi              40 pfi.py:896 Some theta angles are out of range\n",
      "2025-01-12 01:19:11.212Z pfi              40 pfi.py:899 Some phi angles are out of range\n",
      "2025-01-12 01:19:11.310Z cobraCoach       30 cobraCoach.py:675 Cobra#1790 is too far from center\n",
      "2025-01-12 01:19:11.311Z pfi              30 pfi.py:475 clipping scale adjustment from 0.29999999510714737 to 0.3\n",
      "2025-01-12 01:19:11.314Z cobraCoach       30 cobraCoach.py:1003 Last phi angle is unknown, not moving: [1459]\n",
      "2025-01-12 01:19:11.315Z cobraCoach       20 cobraCoach.py:1009 Moving deltaTheta = [-2.17122172e-04 -5.14191722e-04 -6.14804362e-04  1.42413045e-04\n",
      " -1.01748456e-05 -4.10811338e-03 -1.01748456e-05 -1.01748455e-05\n",
      " -1.01748456e-05 -2.97707652e-04 -1.03632841e-03  7.85623389e-01\n",
      " -3.80200480e-04 -1.05065440e-04]\n",
      "2025-01-12 01:19:11.316Z cobraCoach       20 cobraCoach.py:1010 Moving deltaPhi = [-2.96705965 -2.96705963 -2.9670596  -0.04164008 -2.96705959 -2.96705962\n",
      "  0.         -2.96705964 -2.96705969 -0.06341524 -2.96705964 -6.10865247\n",
      " -2.9670596  -0.0498779 ]\n",
      "2025-01-12 01:19:11.319Z cobraCoach       30 cobraCoach.py:846 Last phi angle is unknown: [1459]\n",
      "2025-01-12 01:19:11.321Z cobraCoach       20 cobraCoach.py:877 Finished converting angle to steps, sending command to moveSteps (constantOntime).\n",
      "2025-01-12 01:19:11.330Z cobraCoach       20 cobraCoach.py:587 Sending step numbers to FPGA for moving cobra.\n",
      "2025-01-12 01:19:11.333Z cobraCoach       20 cobraCoach.py:601 cobra control FPGA operation done.\n",
      "2025-01-12 01:19:11.358Z pfi              40 pfi.py:896 Some theta angles are out of range\n",
      "2025-01-12 01:19:11.359Z pfi              40 pfi.py:899 Some phi angles are out of range\n",
      "2025-01-12 01:19:11.459Z pfi              30 pfi.py:475 clipping scale adjustment from 0.2250489700875823 to 0.3\n",
      "2025-01-12 01:19:11.460Z cobraCoach       30 cobraCoach.py:679 Cobra#1460 is too close to center\n",
      "2025-01-12 01:19:11.461Z pfi              30 pfi.py:475 clipping scale adjustment from 0.2561286605203101 to 0.3\n",
      "2025-01-12 01:19:11.463Z pfi              30 pfi.py:475 clipping scale adjustment from 0.26154231110049525 to 0.3\n",
      "2025-01-12 01:19:11.467Z engineer         30 engineer.py:442 14 cobras did not finish: [ 343  442  492  578  737 1302 1459 1493 1538 1587 1636 1789 1791 1969], [4.67 4.67 4.67 0.11 4.67 4.67 0.82 4.67 4.67 0.16 4.67 4.2  4.67 0.11]\n",
      "2025-01-12 01:19:11.495Z pfi              40 pfi.py:896 Some theta angles are out of range\n",
      "2025-01-12 01:19:11.497Z pfi              40 pfi.py:899 Some phi angles are out of range\n",
      "2025-01-12 01:19:11.593Z pfi              40 pfi.py:896 Some theta angles are out of range\n",
      "2025-01-12 01:19:11.594Z pfi              40 pfi.py:899 Some phi angles are out of range\n",
      "2025-01-12 01:19:11.668Z pfi              40 pfi.py:896 Some theta angles are out of range\n",
      "2025-01-12 01:19:11.669Z pfi              40 pfi.py:899 Some phi angles are out of range\n",
      "2025-01-12 01:19:11.717Z pfi              40 pfi.py:896 Some theta angles are out of range\n",
      "2025-01-12 01:19:11.718Z pfi              40 pfi.py:899 Some phi angles are out of range\n",
      "2025-01-12 01:19:11.768Z pfi              40 pfi.py:896 Some theta angles are out of range\n",
      "2025-01-12 01:19:11.770Z pfi              40 pfi.py:899 Some phi angles are out of range\n",
      "2025-01-12 01:19:11.820Z pfi              40 pfi.py:896 Some theta angles are out of range\n",
      "2025-01-12 01:19:11.822Z pfi              40 pfi.py:899 Some phi angles are out of range\n",
      "2025-01-12 01:19:11.872Z pfi              40 pfi.py:896 Some theta angles are out of range\n",
      "2025-01-12 01:19:11.873Z pfi              40 pfi.py:899 Some phi angles are out of range\n",
      "2025-01-12 01:19:11.924Z pfi              40 pfi.py:896 Some theta angles are out of range\n",
      "2025-01-12 01:19:11.925Z pfi              40 pfi.py:899 Some phi angles are out of range\n",
      "2025-01-12 01:19:11.976Z pfi              40 pfi.py:930 Some theta angles are out of range\n",
      "2025-01-12 01:19:12.140Z pfi              40 pfi.py:930 Some theta angles are out of range\n",
      "2025-01-12 01:19:12.220Z pfi              40 pfi.py:930 Some theta angles are out of range\n",
      "2025-01-12 01:19:12.270Z pfi              40 pfi.py:930 Some theta angles are out of range\n",
      "2025-01-12 01:19:12.317Z pfi              40 pfi.py:930 Some theta angles are out of range\n",
      "2025-01-12 01:19:12.359Z pfi              40 pfi.py:930 Some theta angles are out of range\n",
      "2025-01-12 01:19:12.400Z pfi              40 pfi.py:930 Some theta angles are out of range\n",
      "2025-01-12 01:19:12.439Z pfi              40 pfi.py:930 Some theta angles are out of range\n"
     ]
    },
    {
     "name": "stdout",
     "output_type": "stream",
     "text": [
      "ERROR: detected end point collision, which should be impossible\n",
      "trajectory collisions found: 6\n",
      "Set parameter Presolve to value 1\n"
     ]
    },
    {
     "name": "stderr",
     "output_type": "stream",
     "text": [
      "2025-01-12 01:19:16.771Z gurobipy         20 netflow.py:117 Set parameter Presolve to value 1\n"
     ]
    },
    {
     "name": "stdout",
     "output_type": "stream",
     "text": [
      "Set parameter Method to value 4\n"
     ]
    },
    {
     "name": "stderr",
     "output_type": "stream",
     "text": [
      "2025-01-12 01:19:16.773Z gurobipy         20 netflow.py:117 Set parameter Method to value 4\n"
     ]
    },
    {
     "name": "stdout",
     "output_type": "stream",
     "text": [
      "Set parameter DegenMoves to value 0\n"
     ]
    },
    {
     "name": "stderr",
     "output_type": "stream",
     "text": [
      "2025-01-12 01:19:16.776Z gurobipy         20 netflow.py:117 Set parameter DegenMoves to value 0\n"
     ]
    },
    {
     "name": "stdout",
     "output_type": "stream",
     "text": [
      "Set parameter Heuristics to value 0.8\n"
     ]
    },
    {
     "name": "stderr",
     "output_type": "stream",
     "text": [
      "2025-01-12 01:19:16.779Z gurobipy         20 netflow.py:117 Set parameter Heuristics to value 0.8\n"
     ]
    },
    {
     "name": "stdout",
     "output_type": "stream",
     "text": [
      "Set parameter MIPGap to value 0.05\n"
     ]
    },
    {
     "name": "stderr",
     "output_type": "stream",
     "text": [
      "2025-01-12 01:19:16.781Z gurobipy         20 netflow.py:117 Set parameter MIPGap to value 0.05\n"
     ]
    },
    {
     "name": "stdout",
     "output_type": "stream",
     "text": [
      "Creating network topology\n",
      "  exposure 1\n",
      "Calculating visibilities\n",
      "adding constraints\n",
      "adding collision constraints\n",
      "adding forbidden pair constraints\n",
      "Gurobi Optimizer version 10.0.1 build v10.0.1rc0 (mac64[x86])\n"
     ]
    },
    {
     "name": "stderr",
     "output_type": "stream",
     "text": [
      "2025-01-12 01:19:25.540Z gurobipy         20 netflow.py:149 Gurobi Optimizer version 10.0.1 build v10.0.1rc0 (mac64[x86])\n"
     ]
    },
    {
     "name": "stdout",
     "output_type": "stream",
     "text": [
      "\n"
     ]
    },
    {
     "name": "stderr",
     "output_type": "stream",
     "text": [
      "2025-01-12 01:19:25.541Z gurobipy         20 netflow.py:149 \n"
     ]
    },
    {
     "name": "stdout",
     "output_type": "stream",
     "text": [
      "CPU model: Intel(R) Core(TM) i7-8569U CPU @ 2.80GHz\n"
     ]
    },
    {
     "name": "stderr",
     "output_type": "stream",
     "text": [
      "2025-01-12 01:19:25.544Z gurobipy         20 netflow.py:149 CPU model: Intel(R) Core(TM) i7-8569U CPU @ 2.80GHz\n"
     ]
    },
    {
     "name": "stdout",
     "output_type": "stream",
     "text": [
      "Thread count: 4 physical cores, 8 logical processors, using up to 8 threads\n"
     ]
    },
    {
     "name": "stderr",
     "output_type": "stream",
     "text": [
      "2025-01-12 01:19:25.545Z gurobipy         20 netflow.py:149 Thread count: 4 physical cores, 8 logical processors, using up to 8 threads\n"
     ]
    },
    {
     "name": "stdout",
     "output_type": "stream",
     "text": [
      "\n"
     ]
    },
    {
     "name": "stderr",
     "output_type": "stream",
     "text": [
      "2025-01-12 01:19:25.548Z gurobipy         20 netflow.py:149 \n"
     ]
    },
    {
     "name": "stdout",
     "output_type": "stream",
     "text": [
      "Academic license 2379863 - for non-commercial use only - registered to ji___@ipmu.jp\n"
     ]
    },
    {
     "name": "stderr",
     "output_type": "stream",
     "text": [
      "2025-01-12 01:19:25.552Z gurobipy         20 netflow.py:149 Academic license 2379863 - for non-commercial use only - registered to ji___@ipmu.jp\n"
     ]
    },
    {
     "name": "stdout",
     "output_type": "stream",
     "text": [
      "Optimize a model with 139856 rows, 72836 columns and 362086 nonzeros\n"
     ]
    },
    {
     "name": "stderr",
     "output_type": "stream",
     "text": [
      "2025-01-12 01:19:25.553Z gurobipy         20 netflow.py:149 Optimize a model with 139856 rows, 72836 columns and 362086 nonzeros\n"
     ]
    },
    {
     "name": "stdout",
     "output_type": "stream",
     "text": [
      "Model fingerprint: 0x59f14d6b\n"
     ]
    },
    {
     "name": "stderr",
     "output_type": "stream",
     "text": [
      "2025-01-12 01:19:25.562Z gurobipy         20 netflow.py:149 Model fingerprint: 0x59f14d6b\n"
     ]
    },
    {
     "name": "stdout",
     "output_type": "stream",
     "text": [
      "Variable types: 1 continuous, 72835 integer (72833 binary)\n"
     ]
    },
    {
     "name": "stderr",
     "output_type": "stream",
     "text": [
      "2025-01-12 01:19:25.564Z gurobipy         20 netflow.py:149 Variable types: 1 continuous, 72835 integer (72833 binary)\n"
     ]
    },
    {
     "name": "stdout",
     "output_type": "stream",
     "text": [
      "Coefficient statistics:\n"
     ]
    },
    {
     "name": "stderr",
     "output_type": "stream",
     "text": [
      "2025-01-12 01:19:25.569Z gurobipy         20 netflow.py:149 Coefficient statistics:\n"
     ]
    },
    {
     "name": "stdout",
     "output_type": "stream",
     "text": [
      "  Matrix range     [1e+00, 1e+00]\n"
     ]
    },
    {
     "name": "stderr",
     "output_type": "stream",
     "text": [
      "2025-01-12 01:19:25.573Z gurobipy         20 netflow.py:149   Matrix range     [1e+00, 1e+00]\n"
     ]
    },
    {
     "name": "stdout",
     "output_type": "stream",
     "text": [
      "  Objective range  [1e-01, 1e+06]\n"
     ]
    },
    {
     "name": "stderr",
     "output_type": "stream",
     "text": [
      "2025-01-12 01:19:25.578Z gurobipy         20 netflow.py:149   Objective range  [1e-01, 1e+06]\n"
     ]
    },
    {
     "name": "stdout",
     "output_type": "stream",
     "text": [
      "  Bounds range     [1e+00, 1e+00]\n"
     ]
    },
    {
     "name": "stderr",
     "output_type": "stream",
     "text": [
      "2025-01-12 01:19:25.580Z gurobipy         20 netflow.py:149   Bounds range     [1e+00, 1e+00]\n"
     ]
    },
    {
     "name": "stdout",
     "output_type": "stream",
     "text": [
      "  RHS range        [1e+00, 4e+02]\n"
     ]
    },
    {
     "name": "stderr",
     "output_type": "stream",
     "text": [
      "2025-01-12 01:19:25.581Z gurobipy         20 netflow.py:149   RHS range        [1e+00, 4e+02]\n"
     ]
    },
    {
     "name": "stdout",
     "output_type": "stream",
     "text": [
      "Found heuristic solution: objective 6.000000e+08\n"
     ]
    },
    {
     "name": "stderr",
     "output_type": "stream",
     "text": [
      "2025-01-12 01:19:25.599Z gurobipy         20 netflow.py:149 Found heuristic solution: objective 6.000000e+08\n"
     ]
    },
    {
     "name": "stdout",
     "output_type": "stream",
     "text": [
      "Presolve removed 139004 rows and 69795 columns\n"
     ]
    },
    {
     "name": "stderr",
     "output_type": "stream",
     "text": [
      "2025-01-12 01:19:26.343Z gurobipy         20 netflow.py:149 Presolve removed 139004 rows and 69795 columns\n"
     ]
    },
    {
     "name": "stdout",
     "output_type": "stream",
     "text": [
      "Presolve time: 0.72s\n"
     ]
    },
    {
     "name": "stderr",
     "output_type": "stream",
     "text": [
      "2025-01-12 01:19:26.345Z gurobipy         20 netflow.py:149 Presolve time: 0.72s\n"
     ]
    },
    {
     "name": "stdout",
     "output_type": "stream",
     "text": [
      "Presolved: 852 rows, 3041 columns, 4926 nonzeros\n"
     ]
    },
    {
     "name": "stderr",
     "output_type": "stream",
     "text": [
      "2025-01-12 01:19:26.352Z gurobipy         20 netflow.py:149 Presolved: 852 rows, 3041 columns, 4926 nonzeros\n"
     ]
    },
    {
     "name": "stdout",
     "output_type": "stream",
     "text": [
      "Variable types: 0 continuous, 3041 integer (3039 binary)\n"
     ]
    },
    {
     "name": "stderr",
     "output_type": "stream",
     "text": [
      "2025-01-12 01:19:26.390Z gurobipy         20 netflow.py:149 Variable types: 0 continuous, 3041 integer (3039 binary)\n"
     ]
    },
    {
     "name": "stdout",
     "output_type": "stream",
     "text": [
      "Found heuristic solution: objective 5.980000e+08\n"
     ]
    },
    {
     "name": "stderr",
     "output_type": "stream",
     "text": [
      "2025-01-12 01:19:26.497Z gurobipy         20 netflow.py:149 Found heuristic solution: objective 5.980000e+08\n"
     ]
    },
    {
     "name": "stdout",
     "output_type": "stream",
     "text": [
      "Deterministic concurrent LP optimizer: dual simplex and barrier\n"
     ]
    },
    {
     "name": "stderr",
     "output_type": "stream",
     "text": [
      "2025-01-12 01:19:26.508Z gurobipy         20 netflow.py:149 Deterministic concurrent LP optimizer: dual simplex and barrier\n"
     ]
    },
    {
     "name": "stdout",
     "output_type": "stream",
     "text": [
      "Showing barrier log only...\n"
     ]
    },
    {
     "name": "stderr",
     "output_type": "stream",
     "text": [
      "2025-01-12 01:19:26.523Z gurobipy         20 netflow.py:149 Showing barrier log only...\n"
     ]
    },
    {
     "name": "stdout",
     "output_type": "stream",
     "text": [
      "\n"
     ]
    },
    {
     "name": "stderr",
     "output_type": "stream",
     "text": [
      "2025-01-12 01:19:26.526Z gurobipy         20 netflow.py:149 \n"
     ]
    },
    {
     "name": "stdout",
     "output_type": "stream",
     "text": [
      "Root barrier log...\n"
     ]
    },
    {
     "name": "stderr",
     "output_type": "stream",
     "text": [
      "2025-01-12 01:19:26.539Z gurobipy         20 netflow.py:149 Root barrier log...\n"
     ]
    },
    {
     "name": "stdout",
     "output_type": "stream",
     "text": [
      "\n"
     ]
    },
    {
     "name": "stderr",
     "output_type": "stream",
     "text": [
      "2025-01-12 01:19:26.541Z gurobipy         20 netflow.py:149 \n"
     ]
    },
    {
     "name": "stdout",
     "output_type": "stream",
     "text": [
      "Ordering time: 0.00s\n"
     ]
    },
    {
     "name": "stderr",
     "output_type": "stream",
     "text": [
      "2025-01-12 01:19:26.545Z gurobipy         20 netflow.py:149 Ordering time: 0.00s\n"
     ]
    },
    {
     "name": "stdout",
     "output_type": "stream",
     "text": [
      "\n"
     ]
    },
    {
     "name": "stderr",
     "output_type": "stream",
     "text": [
      "2025-01-12 01:19:26.548Z gurobipy         20 netflow.py:149 \n"
     ]
    },
    {
     "name": "stdout",
     "output_type": "stream",
     "text": [
      "Barrier statistics:\n"
     ]
    },
    {
     "name": "stderr",
     "output_type": "stream",
     "text": [
      "2025-01-12 01:19:26.551Z gurobipy         20 netflow.py:149 Barrier statistics:\n"
     ]
    },
    {
     "name": "stdout",
     "output_type": "stream",
     "text": [
      " AA' NZ     : 1.792e+03\n"
     ]
    },
    {
     "name": "stderr",
     "output_type": "stream",
     "text": [
      "2025-01-12 01:19:26.554Z gurobipy         20 netflow.py:149  AA' NZ     : 1.792e+03\n"
     ]
    },
    {
     "name": "stdout",
     "output_type": "stream",
     "text": [
      " Factor NZ  : 3.946e+03 (roughly 2 MB of memory)\n"
     ]
    },
    {
     "name": "stderr",
     "output_type": "stream",
     "text": [
      "2025-01-12 01:19:26.556Z gurobipy         20 netflow.py:149  Factor NZ  : 3.946e+03 (roughly 2 MB of memory)\n"
     ]
    },
    {
     "name": "stdout",
     "output_type": "stream",
     "text": [
      " Factor Ops : 2.889e+04 (less than 1 second per iteration)\n"
     ]
    },
    {
     "name": "stderr",
     "output_type": "stream",
     "text": [
      "2025-01-12 01:19:26.559Z gurobipy         20 netflow.py:149  Factor Ops : 2.889e+04 (less than 1 second per iteration)\n"
     ]
    },
    {
     "name": "stdout",
     "output_type": "stream",
     "text": [
      " Threads    : 1\n"
     ]
    },
    {
     "name": "stderr",
     "output_type": "stream",
     "text": [
      "2025-01-12 01:19:26.562Z gurobipy         20 netflow.py:149  Threads    : 1\n"
     ]
    },
    {
     "name": "stdout",
     "output_type": "stream",
     "text": [
      "\n"
     ]
    },
    {
     "name": "stderr",
     "output_type": "stream",
     "text": [
      "2025-01-12 01:19:26.566Z gurobipy         20 netflow.py:149 \n"
     ]
    },
    {
     "name": "stdout",
     "output_type": "stream",
     "text": [
      "                  Objective                Residual\n"
     ]
    },
    {
     "name": "stderr",
     "output_type": "stream",
     "text": [
      "2025-01-12 01:19:26.568Z gurobipy         20 netflow.py:149                   Objective                Residual\n"
     ]
    },
    {
     "name": "stdout",
     "output_type": "stream",
     "text": [
      "Iter       Primal          Dual         Primal    Dual     Compl     Time\n"
     ]
    },
    {
     "name": "stderr",
     "output_type": "stream",
     "text": [
      "2025-01-12 01:19:26.570Z gurobipy         20 netflow.py:149 Iter       Primal          Dual         Primal    Dual     Compl     Time\n"
     ]
    },
    {
     "name": "stdout",
     "output_type": "stream",
     "text": [
      "   0   3.76910506e+08 -2.44562128e+09  3.98e+01 3.71e+04  3.39e+07     1s\n"
     ]
    },
    {
     "name": "stderr",
     "output_type": "stream",
     "text": [
      "2025-01-12 01:19:26.573Z gurobipy         20 netflow.py:149    0   3.76910506e+08 -2.44562128e+09  3.98e+01 3.71e+04  3.39e+07     1s\n"
     ]
    },
    {
     "name": "stdout",
     "output_type": "stream",
     "text": [
      "\n"
     ]
    },
    {
     "name": "stderr",
     "output_type": "stream",
     "text": [
      "2025-01-12 01:19:26.576Z gurobipy         20 netflow.py:149 \n"
     ]
    },
    {
     "name": "stdout",
     "output_type": "stream",
     "text": [
      "Barrier performed 0 iterations in 1.03 seconds (0.35 work units)\n"
     ]
    },
    {
     "name": "stderr",
     "output_type": "stream",
     "text": [
      "2025-01-12 01:19:26.579Z gurobipy         20 netflow.py:149 Barrier performed 0 iterations in 1.03 seconds (0.35 work units)\n"
     ]
    },
    {
     "name": "stdout",
     "output_type": "stream",
     "text": [
      "Barrier solve interrupted - model solved by another algorithm\n"
     ]
    },
    {
     "name": "stderr",
     "output_type": "stream",
     "text": [
      "2025-01-12 01:19:26.582Z gurobipy         20 netflow.py:149 Barrier solve interrupted - model solved by another algorithm\n"
     ]
    },
    {
     "name": "stdout",
     "output_type": "stream",
     "text": [
      "\n"
     ]
    },
    {
     "name": "stderr",
     "output_type": "stream",
     "text": [
      "2025-01-12 01:19:26.586Z gurobipy         20 netflow.py:149 \n"
     ]
    },
    {
     "name": "stdout",
     "output_type": "stream",
     "text": [
      "Concurrent spin time: 0.05s\n"
     ]
    },
    {
     "name": "stderr",
     "output_type": "stream",
     "text": [
      "2025-01-12 01:19:26.595Z gurobipy         20 netflow.py:149 Concurrent spin time: 0.05s\n"
     ]
    },
    {
     "name": "stdout",
     "output_type": "stream",
     "text": [
      "\n"
     ]
    },
    {
     "name": "stderr",
     "output_type": "stream",
     "text": [
      "2025-01-12 01:19:26.598Z gurobipy         20 netflow.py:149 \n"
     ]
    },
    {
     "name": "stdout",
     "output_type": "stream",
     "text": [
      "Solved with dual simplex\n"
     ]
    },
    {
     "name": "stderr",
     "output_type": "stream",
     "text": [
      "2025-01-12 01:19:26.604Z gurobipy         20 netflow.py:149 Solved with dual simplex\n"
     ]
    },
    {
     "name": "stdout",
     "output_type": "stream",
     "text": [
      "\n"
     ]
    },
    {
     "name": "stderr",
     "output_type": "stream",
     "text": [
      "2025-01-12 01:19:26.636Z gurobipy         20 netflow.py:149 \n"
     ]
    },
    {
     "name": "stdout",
     "output_type": "stream",
     "text": [
      "Root relaxation: objective 1.044055e+02, 93 iterations, 0.14 seconds (0.00 work units)\n"
     ]
    },
    {
     "name": "stderr",
     "output_type": "stream",
     "text": [
      "2025-01-12 01:19:26.642Z gurobipy         20 netflow.py:149 Root relaxation: objective 1.044055e+02, 93 iterations, 0.14 seconds (0.00 work units)\n"
     ]
    },
    {
     "name": "stdout",
     "output_type": "stream",
     "text": [
      "\n"
     ]
    },
    {
     "name": "stderr",
     "output_type": "stream",
     "text": [
      "2025-01-12 01:19:26.681Z gurobipy         20 netflow.py:149 \n"
     ]
    },
    {
     "name": "stdout",
     "output_type": "stream",
     "text": [
      "    Nodes    |    Current Node    |     Objective Bounds      |     Work\n"
     ]
    },
    {
     "name": "stderr",
     "output_type": "stream",
     "text": [
      "2025-01-12 01:19:26.685Z gurobipy         20 netflow.py:149     Nodes    |    Current Node    |     Objective Bounds      |     Work\n"
     ]
    },
    {
     "name": "stdout",
     "output_type": "stream",
     "text": [
      " Expl Unexpl |  Obj  Depth IntInf | Incumbent    BestBd   Gap | It/Node Time\n"
     ]
    },
    {
     "name": "stderr",
     "output_type": "stream",
     "text": [
      "2025-01-12 01:19:26.689Z gurobipy         20 netflow.py:149  Expl Unexpl |  Obj  Depth IntInf | Incumbent    BestBd   Gap | It/Node Time\n"
     ]
    },
    {
     "name": "stdout",
     "output_type": "stream",
     "text": [
      "\n"
     ]
    },
    {
     "name": "stderr",
     "output_type": "stream",
     "text": [
      "2025-01-12 01:19:26.694Z gurobipy         20 netflow.py:149 \n"
     ]
    },
    {
     "name": "stdout",
     "output_type": "stream",
     "text": [
      "*    0     0               0     104.4054902  104.40549  0.00%     -    1s\n"
     ]
    },
    {
     "name": "stderr",
     "output_type": "stream",
     "text": [
      "2025-01-12 01:19:26.698Z gurobipy         20 netflow.py:149 *    0     0               0     104.4054902  104.40549  0.00%     -    1s\n"
     ]
    },
    {
     "name": "stdout",
     "output_type": "stream",
     "text": [
      "\n"
     ]
    },
    {
     "name": "stderr",
     "output_type": "stream",
     "text": [
      "2025-01-12 01:19:26.720Z gurobipy         20 netflow.py:149 \n"
     ]
    },
    {
     "name": "stdout",
     "output_type": "stream",
     "text": [
      "Explored 1 nodes (93 simplex iterations) in 1.17 seconds (0.35 work units)\n"
     ]
    },
    {
     "name": "stderr",
     "output_type": "stream",
     "text": [
      "2025-01-12 01:19:26.722Z gurobipy         20 netflow.py:149 Explored 1 nodes (93 simplex iterations) in 1.17 seconds (0.35 work units)\n"
     ]
    },
    {
     "name": "stdout",
     "output_type": "stream",
     "text": [
      "Thread count was 8 (of 8 available processors)\n"
     ]
    },
    {
     "name": "stderr",
     "output_type": "stream",
     "text": [
      "2025-01-12 01:19:26.723Z gurobipy         20 netflow.py:149 Thread count was 8 (of 8 available processors)\n"
     ]
    },
    {
     "name": "stdout",
     "output_type": "stream",
     "text": [
      "\n"
     ]
    },
    {
     "name": "stderr",
     "output_type": "stream",
     "text": [
      "2025-01-12 01:19:26.726Z gurobipy         20 netflow.py:149 \n"
     ]
    },
    {
     "name": "stdout",
     "output_type": "stream",
     "text": [
      "Solution count 3: 104.405 5.98e+08 6e+08 \n"
     ]
    },
    {
     "name": "stderr",
     "output_type": "stream",
     "text": [
      "2025-01-12 01:19:26.728Z gurobipy         20 netflow.py:149 Solution count 3: 104.405 5.98e+08 6e+08 \n"
     ]
    },
    {
     "name": "stdout",
     "output_type": "stream",
     "text": [
      "\n"
     ]
    },
    {
     "name": "stderr",
     "output_type": "stream",
     "text": [
      "2025-01-12 01:19:26.730Z gurobipy         20 netflow.py:149 \n"
     ]
    },
    {
     "name": "stdout",
     "output_type": "stream",
     "text": [
      "Optimal solution found (tolerance 5.00e-02)\n"
     ]
    },
    {
     "name": "stderr",
     "output_type": "stream",
     "text": [
      "2025-01-12 01:19:26.732Z gurobipy         20 netflow.py:149 Optimal solution found (tolerance 5.00e-02)\n"
     ]
    },
    {
     "name": "stdout",
     "output_type": "stream",
     "text": [
      "Best objective 1.044054901506e+02, best bound 1.044054901506e+02, gap 0.0000%\n"
     ]
    },
    {
     "name": "stderr",
     "output_type": "stream",
     "text": [
      "2025-01-12 01:19:26.736Z gurobipy         20 netflow.py:149 Best objective 1.044054901506e+02, best bound 1.044054901506e+02, gap 0.0000%\n"
     ]
    },
    {
     "name": "stdout",
     "output_type": "stream",
     "text": [
      "Checking for trajectory collisions\n"
     ]
    },
    {
     "name": "stderr",
     "output_type": "stream",
     "text": [
      "2025-01-12 01:19:27.308Z pfi              40 pfi.py:896 Some theta angles are out of range\n",
      "2025-01-12 01:19:27.309Z pfi              40 pfi.py:899 Some phi angles are out of range\n",
      "2025-01-12 01:19:27.429Z pfi              40 pfi.py:899 Some phi angles are out of range\n",
      "2025-01-12 01:19:27.467Z pfi              40 pfi.py:899 Some phi angles are out of range\n",
      "2025-01-12 01:19:27.473Z engineer         20 engineer.py:395 Move theta arms to angle=[360.  360.  270.9 ... 360.  360.  360. ] degree\n",
      "2025-01-12 01:19:27.474Z engineer         20 engineer.py:396 Move phi arms to angle=[11.09 24.48 35.88 ...  8.43 11.99  9.16] degree\n",
      "2025-01-12 01:19:27.475Z engineer         20 engineer.py:398 Checking passed homed argument = True\n",
      "2025-01-12 01:19:27.477Z engineer         20 engineer.py:402 Move theta arms CW and phi arms CCW to the hard stops\n",
      "2025-01-12 01:19:27.506Z cobraCoach       20 cobraCoach.py:1065 home cobras: theta=10000, phi=-5000\n",
      "2025-01-12 01:19:27.532Z pfi              40 pfi.py:899 Some phi angles are out of range\n",
      "2025-01-12 01:19:27.557Z pfi              40 pfi.py:899 Some phi angles are out of range\n",
      "2025-01-12 01:19:27.585Z cobraCoach       20 cobraCoach.py:1009 Moving deltaTheta = [-0.29458444 -0.38204686 -1.91112292 ... -0.40597169 -0.4013664\n",
      " -0.41592376]\n",
      "2025-01-12 01:19:27.586Z cobraCoach       20 cobraCoach.py:1010 Moving deltaPhi = [0.19361448 0.42723261 0.6262403  ... 0.14708474 0.20932294 0.15978886]\n",
      "2025-01-12 01:19:27.873Z cobraCoach       20 cobraCoach.py:877 Finished converting angle to steps, sending command to moveSteps (constantOntime).\n",
      "2025-01-12 01:19:28.420Z cobraCoach       20 cobraCoach.py:587 Sending step numbers to FPGA for moving cobra.\n",
      "2025-01-12 01:19:28.606Z cobraCoach       20 cobraCoach.py:601 cobra control FPGA operation done.\n",
      "2025-01-12 01:19:28.639Z pfi              40 pfi.py:896 Some theta angles are out of range\n",
      "2025-01-12 01:19:28.641Z pfi              40 pfi.py:899 Some phi angles are out of range\n",
      "2025-01-12 01:19:28.771Z cobraCoach       30 cobraCoach.py:675 Cobra#344 is too far from center\n",
      "2025-01-12 01:19:28.775Z cobraCoach       30 cobraCoach.py:675 Cobra#443 is too far from center\n",
      "2025-01-12 01:19:28.778Z cobraCoach       30 cobraCoach.py:675 Cobra#493 is too far from center\n",
      "2025-01-12 01:19:28.803Z cobraCoach       30 cobraCoach.py:675 Cobra#1303 is too far from center\n",
      "2025-01-12 01:19:28.814Z cobraCoach       30 cobraCoach.py:675 Cobra#1637 is too far from center\n",
      "2025-01-12 01:19:28.822Z cobraCoach       30 cobraCoach.py:675 Cobra#1790 is too far from center\n",
      "2025-01-12 01:19:28.823Z cobraCoach       30 cobraCoach.py:675 Cobra#1792 is too far from center\n",
      "2025-01-12 01:19:28.849Z engineer         20 engineer.py:433 done: [   0    1    2 ... 2391 2392 2393], 14 left\n",
      "2025-01-12 01:19:28.850Z cobraCoach       30 cobraCoach.py:1003 Last phi angle is unknown, not moving: [1459]\n",
      "2025-01-12 01:19:28.852Z cobraCoach       20 cobraCoach.py:1009 Moving deltaTheta = [-1.01748456e-05 -1.01748456e-05 -1.01748456e-05  1.42413045e-04\n",
      " -1.01748456e-05 -1.01748456e-05 -1.01748456e-05 -1.01748455e-05\n",
      " -1.01748456e-05  6.92683126e-04 -1.01748455e-05 -1.01748456e-05\n",
      " -1.01748456e-05  1.10228624e-03]\n",
      "2025-01-12 01:19:28.853Z cobraCoach       20 cobraCoach.py:1010 Moving deltaPhi = [-6.10865247 -6.10865247 -6.10865247 -0.04164008 -2.96705959 -6.10865247\n",
      "  0.         -2.96705964 -2.96705969 -0.06341524 -6.10865247 -6.10865247\n",
      " -6.10865247 -0.0498779 ]\n",
      "2025-01-12 01:19:28.856Z cobraCoach       30 cobraCoach.py:846 Last phi angle is unknown: [1459]\n",
      "2025-01-12 01:19:28.859Z cobraCoach       20 cobraCoach.py:877 Finished converting angle to steps, sending command to moveSteps (constantOntime).\n",
      "2025-01-12 01:19:28.866Z cobraCoach       20 cobraCoach.py:587 Sending step numbers to FPGA for moving cobra.\n",
      "2025-01-12 01:19:28.870Z cobraCoach       20 cobraCoach.py:601 cobra control FPGA operation done.\n",
      "2025-01-12 01:19:28.898Z pfi              40 pfi.py:896 Some theta angles are out of range\n",
      "2025-01-12 01:19:28.899Z pfi              40 pfi.py:899 Some phi angles are out of range\n",
      "2025-01-12 01:19:29.004Z cobraCoach       30 cobraCoach.py:675 Cobra#344 is too far from center\n",
      "2025-01-12 01:19:29.005Z cobraCoach       30 cobraCoach.py:679 Cobra#1460 is too close to center\n",
      "2025-01-12 01:19:29.007Z cobraCoach       30 cobraCoach.py:675 Cobra#1637 is too far from center\n",
      "2025-01-12 01:19:29.011Z cobraCoach       30 cobraCoach.py:675 Cobra#1790 is too far from center\n",
      "2025-01-12 01:19:29.016Z engineer         30 engineer.py:442 14 cobras did not finish: [ 343  442  492  578  737 1302 1459 1493 1538 1587 1636 1789 1791 1969], [4.67 4.67 4.67 0.11 4.67 4.67 0.82 4.67 4.67 0.16 4.67 4.67 4.67 0.11]\n",
      "2025-01-12 01:19:29.048Z pfi              40 pfi.py:899 Some phi angles are out of range\n",
      "2025-01-12 01:19:29.051Z engineer         20 engineer.py:395 Move theta arms to angle=[360.  360.  270.9 ... 360.  360.  360. ] degree\n",
      "2025-01-12 01:19:29.052Z engineer         20 engineer.py:396 Move phi arms to angle=[11.09 24.48 35.88 ...  8.43 11.99  9.16] degree\n",
      "2025-01-12 01:19:29.053Z engineer         20 engineer.py:398 Checking passed homed argument = False\n",
      "2025-01-12 01:19:29.079Z cobraCoach       20 cobraCoach.py:1009 Moving deltaTheta = [-0.00026719 -0.0001518   0.00013482 ... -0.00025479  0.00038417\n",
      " -0.000724  ]\n",
      "2025-01-12 01:19:29.080Z cobraCoach       20 cobraCoach.py:1010 Moving deltaPhi = [ 8.60699099e-05 -8.34333106e-04 -3.81240990e-04 ...  6.56574960e-04\n",
      " -8.39715058e-04 -4.29651246e-04]\n",
      "2025-01-12 01:19:29.267Z cobraCoach       20 cobraCoach.py:877 Finished converting angle to steps, sending command to moveSteps (constantOntime).\n",
      "2025-01-12 01:19:29.479Z cobraCoach       20 cobraCoach.py:587 Sending step numbers to FPGA for moving cobra.\n",
      "2025-01-12 01:19:29.587Z cobraCoach       20 cobraCoach.py:601 cobra control FPGA operation done.\n",
      "2025-01-12 01:19:29.612Z pfi              40 pfi.py:896 Some theta angles are out of range\n",
      "2025-01-12 01:19:29.613Z pfi              40 pfi.py:899 Some phi angles are out of range\n",
      "2025-01-12 01:19:29.746Z cobraCoach       30 cobraCoach.py:675 Cobra#1303 is too far from center\n",
      "2025-01-12 01:19:29.760Z cobraCoach       30 cobraCoach.py:675 Cobra#1790 is too far from center\n",
      "2025-01-12 01:19:29.782Z engineer         20 engineer.py:433 done: [   0    1    2 ... 2391 2392 2393], 14 left\n",
      "2025-01-12 01:19:29.784Z cobraCoach       30 cobraCoach.py:1003 Last phi angle is unknown, not moving: [1459]\n",
      "2025-01-12 01:19:29.785Z cobraCoach       20 cobraCoach.py:1009 Moving deltaTheta = [-1.94233989e-04 -5.14191722e-04 -6.14804362e-04  1.42413045e-04\n",
      " -1.01748456e-05  2.69975771e-06 -1.01748456e-05 -1.01748455e-05\n",
      " -1.01748456e-05 -2.97707652e-04 -1.03632841e-03 -1.01748456e-05\n",
      " -3.80200480e-04 -1.05065440e-04]\n",
      "2025-01-12 01:19:29.786Z cobraCoach       20 cobraCoach.py:1010 Moving deltaPhi = [-2.96687409 -2.96705963 -2.9670596  -0.04164008 -2.96705959 -6.10865247\n",
      "  0.         -2.96705964 -2.96705969 -0.06341524 -2.96602327 -6.10865247\n",
      " -2.9670596  -0.0498779 ]\n",
      "2025-01-12 01:19:29.789Z cobraCoach       30 cobraCoach.py:846 Last phi angle is unknown: [1459]\n",
      "2025-01-12 01:19:29.791Z cobraCoach       20 cobraCoach.py:877 Finished converting angle to steps, sending command to moveSteps (constantOntime).\n",
      "2025-01-12 01:19:29.797Z cobraCoach       20 cobraCoach.py:587 Sending step numbers to FPGA for moving cobra.\n",
      "2025-01-12 01:19:29.802Z cobraCoach       20 cobraCoach.py:601 cobra control FPGA operation done.\n",
      "2025-01-12 01:19:29.827Z pfi              40 pfi.py:896 Some theta angles are out of range\n",
      "2025-01-12 01:19:29.828Z pfi              40 pfi.py:899 Some phi angles are out of range\n",
      "2025-01-12 01:19:29.924Z cobraCoach       30 cobraCoach.py:675 Cobra#344 is too far from center\n",
      "2025-01-12 01:19:29.925Z pfi              30 pfi.py:475 clipping scale adjustment from 0.2573481031895782 to 0.3\n",
      "2025-01-12 01:19:29.926Z cobraCoach       30 cobraCoach.py:679 Cobra#1460 is too close to center\n",
      "2025-01-12 01:19:29.928Z pfi              30 pfi.py:475 clipping scale adjustment from 0.26154231110049525 to 0.3\n",
      "2025-01-12 01:19:29.931Z cobraCoach       20 cobraCoach.py:1009 Moving deltaTheta = [-1.94233989e-04 -5.14191722e-04 -6.14804362e-04  1.42413045e-04\n",
      " -1.01748456e-05 -1.09852569e+00 -1.01748456e-05 -1.01748455e-05\n",
      " -1.01748456e-05 -2.97707652e-04 -1.03632841e-03 -1.07143418e+00\n",
      " -3.80200480e-04 -1.05065440e-04]\n",
      "2025-01-12 01:19:29.932Z cobraCoach       20 cobraCoach.py:1010 Moving deltaPhi = [-6.10865247 -2.96705963 -2.9670596  -0.04164008 -2.96705959 -1.71883189\n",
      " -2.96705973 -2.96705964 -2.96705969 -0.06341524 -2.96705964 -1.88389766\n",
      " -2.9670596  -0.0498779 ]\n",
      "2025-01-12 01:19:29.937Z cobraCoach       20 cobraCoach.py:877 Finished converting angle to steps, sending command to moveSteps (constantOntime).\n",
      "2025-01-12 01:19:29.946Z cobraCoach       20 cobraCoach.py:587 Sending step numbers to FPGA for moving cobra.\n",
      "2025-01-12 01:19:29.948Z cobraCoach       20 cobraCoach.py:601 cobra control FPGA operation done.\n",
      "2025-01-12 01:19:29.974Z pfi              40 pfi.py:896 Some theta angles are out of range\n",
      "2025-01-12 01:19:29.975Z pfi              40 pfi.py:899 Some phi angles are out of range\n",
      "2025-01-12 01:19:30.075Z pfi              30 pfi.py:475 clipping scale adjustment from 0.2859424141191533 to 0.3\n",
      "2025-01-12 01:19:30.076Z cobraCoach       30 cobraCoach.py:675 Cobra#1303 is too far from center\n",
      "2025-01-12 01:19:30.077Z pfi              30 pfi.py:475 clipping scale adjustment from 0.29999999904403885 to 0.3\n",
      "2025-01-12 01:19:30.079Z cobraCoach       30 cobraCoach.py:675 Cobra#1790 is too far from center\n",
      "2025-01-12 01:19:30.083Z cobraCoach       30 cobraCoach.py:1003 Last phi angle is unknown, not moving: [1459]\n",
      "2025-01-12 01:19:30.084Z cobraCoach       20 cobraCoach.py:1009 Moving deltaTheta = [-3.21863813e-01 -5.14191722e-04 -6.14804362e-04  1.42413045e-04\n",
      " -1.01748456e-05 -6.82685060e-01 -1.01748456e-05 -1.01748455e-05\n",
      " -1.01748456e-05 -2.97707652e-04 -1.03632841e-03 -3.25590772e-01\n",
      " -3.80200480e-04 -1.05065440e-04]\n",
      "2025-01-12 01:19:30.085Z cobraCoach       20 cobraCoach.py:1010 Moving deltaPhi = [-2.64219266 -2.96705963 -2.9670596  -0.04164008 -2.96705959 -6.10865247\n",
      "  0.         -2.96705964 -2.96705969 -0.06341524 -2.96705964 -6.10865247\n",
      " -2.9670596  -0.0498779 ]\n",
      "2025-01-12 01:19:30.088Z cobraCoach       30 cobraCoach.py:846 Last phi angle is unknown: [1459]\n",
      "2025-01-12 01:19:30.090Z cobraCoach       20 cobraCoach.py:877 Finished converting angle to steps, sending command to moveSteps (constantOntime).\n",
      "2025-01-12 01:19:30.097Z cobraCoach       20 cobraCoach.py:587 Sending step numbers to FPGA for moving cobra.\n",
      "2025-01-12 01:19:30.100Z cobraCoach       20 cobraCoach.py:601 cobra control FPGA operation done.\n",
      "2025-01-12 01:19:30.125Z pfi              40 pfi.py:896 Some theta angles are out of range\n",
      "2025-01-12 01:19:30.126Z pfi              40 pfi.py:899 Some phi angles are out of range\n",
      "2025-01-12 01:19:30.225Z pfi              30 pfi.py:475 clipping scale adjustment from 0.22521650184055392 to 0.3\n",
      "2025-01-12 01:19:30.226Z pfi              30 pfi.py:475 clipping scale adjustment from 0.2573481031895782 to 0.3\n",
      "2025-01-12 01:19:30.227Z cobraCoach       30 cobraCoach.py:679 Cobra#1460 is too close to center\n",
      "2025-01-12 01:19:30.228Z pfi              30 pfi.py:475 clipping scale adjustment from 0.22664453700152026 to 0.3\n",
      "2025-01-12 01:19:30.229Z pfi              30 pfi.py:475 clipping scale adjustment from 0.26154231110049525 to 0.3\n",
      "2025-01-12 01:19:30.233Z cobraCoach       20 cobraCoach.py:1009 Moving deltaTheta = [-2.17122172e-04 -5.14191722e-04 -6.14804362e-04  1.42413045e-04\n",
      " -1.01748456e-05  4.51698156e+00 -1.01748456e-05 -1.01748455e-05\n",
      " -1.01748456e-05 -2.97707652e-04 -1.03632841e-03  5.00301130e+00\n",
      " -3.80200480e-04 -1.05065440e-04]\n",
      "2025-01-12 01:19:30.236Z cobraCoach       20 cobraCoach.py:1010 Moving deltaPhi = [-2.96705965 -2.96705963 -2.9670596  -0.04164008 -2.96705959 -1.71883189\n",
      " -2.96705973 -2.96705964 -2.96705969 -0.06341524 -2.96705964 -1.88389766\n",
      " -2.9670596  -0.0498779 ]\n",
      "2025-01-12 01:19:30.240Z cobraCoach       20 cobraCoach.py:877 Finished converting angle to steps, sending command to moveSteps (constantOntime).\n",
      "2025-01-12 01:19:30.247Z cobraCoach       20 cobraCoach.py:587 Sending step numbers to FPGA for moving cobra.\n",
      "2025-01-12 01:19:30.250Z cobraCoach       20 cobraCoach.py:601 cobra control FPGA operation done.\n",
      "2025-01-12 01:19:30.275Z pfi              40 pfi.py:896 Some theta angles are out of range\n",
      "2025-01-12 01:19:30.277Z pfi              40 pfi.py:899 Some phi angles are out of range\n",
      "2025-01-12 01:19:30.375Z cobraCoach       30 cobraCoach.py:675 Cobra#1790 is too far from center\n",
      "2025-01-12 01:19:30.377Z pfi              30 pfi.py:475 clipping scale adjustment from 0.29999999510714737 to 0.3\n",
      "2025-01-12 01:19:30.380Z cobraCoach       30 cobraCoach.py:1003 Last phi angle is unknown, not moving: [1459]\n",
      "2025-01-12 01:19:30.381Z cobraCoach       20 cobraCoach.py:1009 Moving deltaTheta = [-2.17122172e-04 -5.14191722e-04 -6.14804362e-04  1.42413045e-04\n",
      " -1.01748456e-05 -4.10811338e-03 -1.01748456e-05 -1.01748455e-05\n",
      " -1.01748456e-05 -2.97707652e-04 -1.03632841e-03  7.85623389e-01\n",
      " -3.80200480e-04 -1.05065440e-04]\n",
      "2025-01-12 01:19:30.382Z cobraCoach       20 cobraCoach.py:1010 Moving deltaPhi = [-2.96705965 -2.96705963 -2.9670596  -0.04164008 -2.96705959 -2.96705962\n",
      "  0.         -2.96705964 -2.96705969 -0.06341524 -2.96705964 -6.10865247\n",
      " -2.9670596  -0.0498779 ]\n",
      "2025-01-12 01:19:30.385Z cobraCoach       30 cobraCoach.py:846 Last phi angle is unknown: [1459]\n",
      "2025-01-12 01:19:30.387Z cobraCoach       20 cobraCoach.py:877 Finished converting angle to steps, sending command to moveSteps (constantOntime).\n",
      "2025-01-12 01:19:30.395Z cobraCoach       20 cobraCoach.py:587 Sending step numbers to FPGA for moving cobra.\n",
      "2025-01-12 01:19:30.399Z cobraCoach       20 cobraCoach.py:601 cobra control FPGA operation done.\n",
      "2025-01-12 01:19:30.424Z pfi              40 pfi.py:896 Some theta angles are out of range\n",
      "2025-01-12 01:19:30.425Z pfi              40 pfi.py:899 Some phi angles are out of range\n",
      "2025-01-12 01:19:30.523Z pfi              30 pfi.py:475 clipping scale adjustment from 0.2250489700875823 to 0.3\n",
      "2025-01-12 01:19:30.524Z cobraCoach       30 cobraCoach.py:679 Cobra#1460 is too close to center\n",
      "2025-01-12 01:19:30.524Z pfi              30 pfi.py:475 clipping scale adjustment from 0.2561286605203101 to 0.3\n",
      "2025-01-12 01:19:30.526Z pfi              30 pfi.py:475 clipping scale adjustment from 0.26154231110049525 to 0.3\n",
      "2025-01-12 01:19:30.530Z engineer         30 engineer.py:442 14 cobras did not finish: [ 343  442  492  578  737 1302 1459 1493 1538 1587 1636 1789 1791 1969], [4.67 4.67 4.67 0.11 4.67 4.67 0.82 4.67 4.67 0.16 4.67 4.2  4.67 0.11]\n",
      "2025-01-12 01:19:30.557Z pfi              40 pfi.py:896 Some theta angles are out of range\n",
      "2025-01-12 01:19:30.559Z pfi              40 pfi.py:899 Some phi angles are out of range\n",
      "2025-01-12 01:19:30.648Z pfi              40 pfi.py:896 Some theta angles are out of range\n",
      "2025-01-12 01:19:30.650Z pfi              40 pfi.py:899 Some phi angles are out of range\n",
      "2025-01-12 01:19:30.725Z pfi              40 pfi.py:896 Some theta angles are out of range\n",
      "2025-01-12 01:19:30.727Z pfi              40 pfi.py:899 Some phi angles are out of range\n",
      "2025-01-12 01:19:30.803Z pfi              40 pfi.py:896 Some theta angles are out of range\n",
      "2025-01-12 01:19:30.804Z pfi              40 pfi.py:899 Some phi angles are out of range\n",
      "2025-01-12 01:19:30.856Z pfi              40 pfi.py:896 Some theta angles are out of range\n",
      "2025-01-12 01:19:30.857Z pfi              40 pfi.py:899 Some phi angles are out of range\n",
      "2025-01-12 01:19:30.910Z pfi              40 pfi.py:896 Some theta angles are out of range\n",
      "2025-01-12 01:19:30.912Z pfi              40 pfi.py:899 Some phi angles are out of range\n",
      "2025-01-12 01:19:30.962Z pfi              40 pfi.py:896 Some theta angles are out of range\n",
      "2025-01-12 01:19:30.963Z pfi              40 pfi.py:899 Some phi angles are out of range\n",
      "2025-01-12 01:19:31.125Z pfi              40 pfi.py:896 Some theta angles are out of range\n",
      "2025-01-12 01:19:31.128Z pfi              40 pfi.py:899 Some phi angles are out of range\n",
      "2025-01-12 01:19:31.211Z pfi              40 pfi.py:930 Some theta angles are out of range\n",
      "2025-01-12 01:19:31.309Z pfi              40 pfi.py:930 Some theta angles are out of range\n",
      "2025-01-12 01:19:31.365Z pfi              40 pfi.py:930 Some theta angles are out of range\n",
      "2025-01-12 01:19:31.399Z pfi              40 pfi.py:930 Some theta angles are out of range\n",
      "2025-01-12 01:19:31.438Z pfi              40 pfi.py:930 Some theta angles are out of range\n",
      "2025-01-12 01:19:31.478Z pfi              40 pfi.py:930 Some theta angles are out of range\n",
      "2025-01-12 01:19:31.516Z pfi              40 pfi.py:930 Some theta angles are out of range\n",
      "2025-01-12 01:19:31.553Z pfi              40 pfi.py:930 Some theta angles are out of range\n"
     ]
    },
    {
     "name": "stdout",
     "output_type": "stream",
     "text": [
      "ERROR: detected end point collision, which should be impossible\n",
      "trajectory collisions found: 6\n",
      "Set parameter Presolve to value 1\n"
     ]
    },
    {
     "name": "stderr",
     "output_type": "stream",
     "text": [
      "2025-01-12 01:19:35.661Z gurobipy         20 netflow.py:117 Set parameter Presolve to value 1\n"
     ]
    },
    {
     "name": "stdout",
     "output_type": "stream",
     "text": [
      "Set parameter Method to value 4\n"
     ]
    },
    {
     "name": "stderr",
     "output_type": "stream",
     "text": [
      "2025-01-12 01:19:35.662Z gurobipy         20 netflow.py:117 Set parameter Method to value 4\n"
     ]
    },
    {
     "name": "stdout",
     "output_type": "stream",
     "text": [
      "Set parameter DegenMoves to value 0\n"
     ]
    },
    {
     "name": "stderr",
     "output_type": "stream",
     "text": [
      "2025-01-12 01:19:35.665Z gurobipy         20 netflow.py:117 Set parameter DegenMoves to value 0\n"
     ]
    },
    {
     "name": "stdout",
     "output_type": "stream",
     "text": [
      "Set parameter Heuristics to value 0.8\n"
     ]
    },
    {
     "name": "stderr",
     "output_type": "stream",
     "text": [
      "2025-01-12 01:19:35.667Z gurobipy         20 netflow.py:117 Set parameter Heuristics to value 0.8\n"
     ]
    },
    {
     "name": "stdout",
     "output_type": "stream",
     "text": [
      "Set parameter MIPGap to value 0.05\n"
     ]
    },
    {
     "name": "stderr",
     "output_type": "stream",
     "text": [
      "2025-01-12 01:19:35.669Z gurobipy         20 netflow.py:117 Set parameter MIPGap to value 0.05\n"
     ]
    },
    {
     "name": "stdout",
     "output_type": "stream",
     "text": [
      "Creating network topology\n",
      "  exposure 1\n",
      "Calculating visibilities\n",
      "adding constraints\n",
      "adding collision constraints\n",
      "adding forbidden pair constraints\n",
      "Gurobi Optimizer version 10.0.1 build v10.0.1rc0 (mac64[x86])\n"
     ]
    },
    {
     "name": "stderr",
     "output_type": "stream",
     "text": [
      "2025-01-12 01:19:46.615Z gurobipy         20 netflow.py:149 Gurobi Optimizer version 10.0.1 build v10.0.1rc0 (mac64[x86])\n"
     ]
    },
    {
     "name": "stdout",
     "output_type": "stream",
     "text": [
      "\n"
     ]
    },
    {
     "name": "stderr",
     "output_type": "stream",
     "text": [
      "2025-01-12 01:19:46.617Z gurobipy         20 netflow.py:149 \n"
     ]
    },
    {
     "name": "stdout",
     "output_type": "stream",
     "text": [
      "CPU model: Intel(R) Core(TM) i7-8569U CPU @ 2.80GHz\n"
     ]
    },
    {
     "name": "stderr",
     "output_type": "stream",
     "text": [
      "2025-01-12 01:19:46.619Z gurobipy         20 netflow.py:149 CPU model: Intel(R) Core(TM) i7-8569U CPU @ 2.80GHz\n"
     ]
    },
    {
     "name": "stdout",
     "output_type": "stream",
     "text": [
      "Thread count: 4 physical cores, 8 logical processors, using up to 8 threads\n"
     ]
    },
    {
     "name": "stderr",
     "output_type": "stream",
     "text": [
      "2025-01-12 01:19:46.621Z gurobipy         20 netflow.py:149 Thread count: 4 physical cores, 8 logical processors, using up to 8 threads\n"
     ]
    },
    {
     "name": "stdout",
     "output_type": "stream",
     "text": [
      "\n"
     ]
    },
    {
     "name": "stderr",
     "output_type": "stream",
     "text": [
      "2025-01-12 01:19:46.623Z gurobipy         20 netflow.py:149 \n"
     ]
    },
    {
     "name": "stdout",
     "output_type": "stream",
     "text": [
      "Academic license 2379863 - for non-commercial use only - registered to ji___@ipmu.jp\n"
     ]
    },
    {
     "name": "stderr",
     "output_type": "stream",
     "text": [
      "2025-01-12 01:19:46.687Z gurobipy         20 netflow.py:149 Academic license 2379863 - for non-commercial use only - registered to ji___@ipmu.jp\n"
     ]
    },
    {
     "name": "stdout",
     "output_type": "stream",
     "text": [
      "Optimize a model with 139856 rows, 72836 columns and 362086 nonzeros\n"
     ]
    },
    {
     "name": "stderr",
     "output_type": "stream",
     "text": [
      "2025-01-12 01:19:46.741Z gurobipy         20 netflow.py:149 Optimize a model with 139856 rows, 72836 columns and 362086 nonzeros\n"
     ]
    },
    {
     "name": "stdout",
     "output_type": "stream",
     "text": [
      "Model fingerprint: 0x59f14d6b\n"
     ]
    },
    {
     "name": "stderr",
     "output_type": "stream",
     "text": [
      "2025-01-12 01:19:46.750Z gurobipy         20 netflow.py:149 Model fingerprint: 0x59f14d6b\n"
     ]
    },
    {
     "name": "stdout",
     "output_type": "stream",
     "text": [
      "Variable types: 1 continuous, 72835 integer (72833 binary)\n"
     ]
    },
    {
     "name": "stderr",
     "output_type": "stream",
     "text": [
      "2025-01-12 01:19:46.755Z gurobipy         20 netflow.py:149 Variable types: 1 continuous, 72835 integer (72833 binary)\n"
     ]
    },
    {
     "name": "stdout",
     "output_type": "stream",
     "text": [
      "Coefficient statistics:\n"
     ]
    },
    {
     "name": "stderr",
     "output_type": "stream",
     "text": [
      "2025-01-12 01:19:46.761Z gurobipy         20 netflow.py:149 Coefficient statistics:\n"
     ]
    },
    {
     "name": "stdout",
     "output_type": "stream",
     "text": [
      "  Matrix range     [1e+00, 1e+00]\n"
     ]
    },
    {
     "name": "stderr",
     "output_type": "stream",
     "text": [
      "2025-01-12 01:19:46.804Z gurobipy         20 netflow.py:149   Matrix range     [1e+00, 1e+00]\n"
     ]
    },
    {
     "name": "stdout",
     "output_type": "stream",
     "text": [
      "  Objective range  [1e-01, 1e+06]\n"
     ]
    },
    {
     "name": "stderr",
     "output_type": "stream",
     "text": [
      "2025-01-12 01:19:46.807Z gurobipy         20 netflow.py:149   Objective range  [1e-01, 1e+06]\n"
     ]
    },
    {
     "name": "stdout",
     "output_type": "stream",
     "text": [
      "  Bounds range     [1e+00, 1e+00]\n"
     ]
    },
    {
     "name": "stderr",
     "output_type": "stream",
     "text": [
      "2025-01-12 01:19:46.811Z gurobipy         20 netflow.py:149   Bounds range     [1e+00, 1e+00]\n"
     ]
    },
    {
     "name": "stdout",
     "output_type": "stream",
     "text": [
      "  RHS range        [1e+00, 4e+02]\n"
     ]
    },
    {
     "name": "stderr",
     "output_type": "stream",
     "text": [
      "2025-01-12 01:19:46.814Z gurobipy         20 netflow.py:149   RHS range        [1e+00, 4e+02]\n"
     ]
    },
    {
     "name": "stdout",
     "output_type": "stream",
     "text": [
      "Found heuristic solution: objective 6.000000e+08\n"
     ]
    },
    {
     "name": "stderr",
     "output_type": "stream",
     "text": [
      "2025-01-12 01:19:46.835Z gurobipy         20 netflow.py:149 Found heuristic solution: objective 6.000000e+08\n"
     ]
    },
    {
     "name": "stdout",
     "output_type": "stream",
     "text": [
      "Presolve removed 139004 rows and 69795 columns\n"
     ]
    },
    {
     "name": "stderr",
     "output_type": "stream",
     "text": [
      "2025-01-12 01:19:47.590Z gurobipy         20 netflow.py:149 Presolve removed 139004 rows and 69795 columns\n"
     ]
    },
    {
     "name": "stdout",
     "output_type": "stream",
     "text": [
      "Presolve time: 0.72s\n"
     ]
    },
    {
     "name": "stderr",
     "output_type": "stream",
     "text": [
      "2025-01-12 01:19:47.592Z gurobipy         20 netflow.py:149 Presolve time: 0.72s\n"
     ]
    },
    {
     "name": "stdout",
     "output_type": "stream",
     "text": [
      "Presolved: 852 rows, 3041 columns, 4926 nonzeros\n"
     ]
    },
    {
     "name": "stderr",
     "output_type": "stream",
     "text": [
      "2025-01-12 01:19:47.599Z gurobipy         20 netflow.py:149 Presolved: 852 rows, 3041 columns, 4926 nonzeros\n"
     ]
    },
    {
     "name": "stdout",
     "output_type": "stream",
     "text": [
      "Variable types: 0 continuous, 3041 integer (3039 binary)\n"
     ]
    },
    {
     "name": "stderr",
     "output_type": "stream",
     "text": [
      "2025-01-12 01:19:47.641Z gurobipy         20 netflow.py:149 Variable types: 0 continuous, 3041 integer (3039 binary)\n"
     ]
    },
    {
     "name": "stdout",
     "output_type": "stream",
     "text": [
      "Found heuristic solution: objective 5.980000e+08\n"
     ]
    },
    {
     "name": "stderr",
     "output_type": "stream",
     "text": [
      "2025-01-12 01:19:47.650Z gurobipy         20 netflow.py:149 Found heuristic solution: objective 5.980000e+08\n"
     ]
    },
    {
     "name": "stdout",
     "output_type": "stream",
     "text": [
      "Deterministic concurrent LP optimizer: dual simplex and barrier\n"
     ]
    },
    {
     "name": "stderr",
     "output_type": "stream",
     "text": [
      "2025-01-12 01:19:47.670Z gurobipy         20 netflow.py:149 Deterministic concurrent LP optimizer: dual simplex and barrier\n"
     ]
    },
    {
     "name": "stdout",
     "output_type": "stream",
     "text": [
      "Showing barrier log only...\n"
     ]
    },
    {
     "name": "stderr",
     "output_type": "stream",
     "text": [
      "2025-01-12 01:19:47.673Z gurobipy         20 netflow.py:149 Showing barrier log only...\n"
     ]
    },
    {
     "name": "stdout",
     "output_type": "stream",
     "text": [
      "\n"
     ]
    },
    {
     "name": "stderr",
     "output_type": "stream",
     "text": [
      "2025-01-12 01:19:47.676Z gurobipy         20 netflow.py:149 \n"
     ]
    },
    {
     "name": "stdout",
     "output_type": "stream",
     "text": [
      "Root barrier log...\n"
     ]
    },
    {
     "name": "stderr",
     "output_type": "stream",
     "text": [
      "2025-01-12 01:19:47.680Z gurobipy         20 netflow.py:149 Root barrier log...\n"
     ]
    },
    {
     "name": "stdout",
     "output_type": "stream",
     "text": [
      "\n"
     ]
    },
    {
     "name": "stderr",
     "output_type": "stream",
     "text": [
      "2025-01-12 01:19:47.682Z gurobipy         20 netflow.py:149 \n"
     ]
    },
    {
     "name": "stdout",
     "output_type": "stream",
     "text": [
      "Ordering time: 0.00s\n"
     ]
    },
    {
     "name": "stderr",
     "output_type": "stream",
     "text": [
      "2025-01-12 01:19:47.685Z gurobipy         20 netflow.py:149 Ordering time: 0.00s\n"
     ]
    },
    {
     "name": "stdout",
     "output_type": "stream",
     "text": [
      "\n"
     ]
    },
    {
     "name": "stderr",
     "output_type": "stream",
     "text": [
      "2025-01-12 01:19:47.689Z gurobipy         20 netflow.py:149 \n"
     ]
    },
    {
     "name": "stdout",
     "output_type": "stream",
     "text": [
      "Barrier statistics:\n"
     ]
    },
    {
     "name": "stderr",
     "output_type": "stream",
     "text": [
      "2025-01-12 01:19:47.690Z gurobipy         20 netflow.py:149 Barrier statistics:\n"
     ]
    },
    {
     "name": "stdout",
     "output_type": "stream",
     "text": [
      " AA' NZ     : 1.792e+03\n"
     ]
    },
    {
     "name": "stderr",
     "output_type": "stream",
     "text": [
      "2025-01-12 01:19:47.693Z gurobipy         20 netflow.py:149  AA' NZ     : 1.792e+03\n"
     ]
    },
    {
     "name": "stdout",
     "output_type": "stream",
     "text": [
      " Factor NZ  : 3.946e+03 (roughly 2 MB of memory)\n"
     ]
    },
    {
     "name": "stderr",
     "output_type": "stream",
     "text": [
      "2025-01-12 01:19:47.696Z gurobipy         20 netflow.py:149  Factor NZ  : 3.946e+03 (roughly 2 MB of memory)\n"
     ]
    },
    {
     "name": "stdout",
     "output_type": "stream",
     "text": [
      " Factor Ops : 2.889e+04 (less than 1 second per iteration)\n"
     ]
    },
    {
     "name": "stderr",
     "output_type": "stream",
     "text": [
      "2025-01-12 01:19:47.698Z gurobipy         20 netflow.py:149  Factor Ops : 2.889e+04 (less than 1 second per iteration)\n"
     ]
    },
    {
     "name": "stdout",
     "output_type": "stream",
     "text": [
      " Threads    : 1\n"
     ]
    },
    {
     "name": "stderr",
     "output_type": "stream",
     "text": [
      "2025-01-12 01:19:47.700Z gurobipy         20 netflow.py:149  Threads    : 1\n"
     ]
    },
    {
     "name": "stdout",
     "output_type": "stream",
     "text": [
      "\n"
     ]
    },
    {
     "name": "stderr",
     "output_type": "stream",
     "text": [
      "2025-01-12 01:19:47.703Z gurobipy         20 netflow.py:149 \n"
     ]
    },
    {
     "name": "stdout",
     "output_type": "stream",
     "text": [
      "                  Objective                Residual\n"
     ]
    },
    {
     "name": "stderr",
     "output_type": "stream",
     "text": [
      "2025-01-12 01:19:47.706Z gurobipy         20 netflow.py:149                   Objective                Residual\n"
     ]
    },
    {
     "name": "stdout",
     "output_type": "stream",
     "text": [
      "Iter       Primal          Dual         Primal    Dual     Compl     Time\n"
     ]
    },
    {
     "name": "stderr",
     "output_type": "stream",
     "text": [
      "2025-01-12 01:19:47.709Z gurobipy         20 netflow.py:149 Iter       Primal          Dual         Primal    Dual     Compl     Time\n"
     ]
    },
    {
     "name": "stdout",
     "output_type": "stream",
     "text": [
      "   0   3.76910506e+08 -2.44562128e+09  3.98e+01 3.71e+04  3.39e+07     1s\n"
     ]
    },
    {
     "name": "stderr",
     "output_type": "stream",
     "text": [
      "2025-01-12 01:19:47.712Z gurobipy         20 netflow.py:149    0   3.76910506e+08 -2.44562128e+09  3.98e+01 3.71e+04  3.39e+07     1s\n"
     ]
    },
    {
     "name": "stdout",
     "output_type": "stream",
     "text": [
      "\n"
     ]
    },
    {
     "name": "stderr",
     "output_type": "stream",
     "text": [
      "2025-01-12 01:19:47.715Z gurobipy         20 netflow.py:149 \n"
     ]
    },
    {
     "name": "stdout",
     "output_type": "stream",
     "text": [
      "Barrier performed 0 iterations in 1.09 seconds (0.35 work units)\n"
     ]
    },
    {
     "name": "stderr",
     "output_type": "stream",
     "text": [
      "2025-01-12 01:19:47.718Z gurobipy         20 netflow.py:149 Barrier performed 0 iterations in 1.09 seconds (0.35 work units)\n"
     ]
    },
    {
     "name": "stdout",
     "output_type": "stream",
     "text": [
      "Barrier solve interrupted - model solved by another algorithm\n"
     ]
    },
    {
     "name": "stderr",
     "output_type": "stream",
     "text": [
      "2025-01-12 01:19:47.722Z gurobipy         20 netflow.py:149 Barrier solve interrupted - model solved by another algorithm\n"
     ]
    },
    {
     "name": "stdout",
     "output_type": "stream",
     "text": [
      "\n"
     ]
    },
    {
     "name": "stderr",
     "output_type": "stream",
     "text": [
      "2025-01-12 01:19:47.725Z gurobipy         20 netflow.py:149 \n"
     ]
    },
    {
     "name": "stdout",
     "output_type": "stream",
     "text": [
      "Concurrent spin time: 0.04s\n"
     ]
    },
    {
     "name": "stderr",
     "output_type": "stream",
     "text": [
      "2025-01-12 01:19:47.727Z gurobipy         20 netflow.py:149 Concurrent spin time: 0.04s\n"
     ]
    },
    {
     "name": "stdout",
     "output_type": "stream",
     "text": [
      "\n"
     ]
    },
    {
     "name": "stderr",
     "output_type": "stream",
     "text": [
      "2025-01-12 01:19:47.729Z gurobipy         20 netflow.py:149 \n"
     ]
    },
    {
     "name": "stdout",
     "output_type": "stream",
     "text": [
      "Solved with dual simplex\n"
     ]
    },
    {
     "name": "stderr",
     "output_type": "stream",
     "text": [
      "2025-01-12 01:19:47.731Z gurobipy         20 netflow.py:149 Solved with dual simplex\n"
     ]
    },
    {
     "name": "stdout",
     "output_type": "stream",
     "text": [
      "\n"
     ]
    },
    {
     "name": "stderr",
     "output_type": "stream",
     "text": [
      "2025-01-12 01:19:47.735Z gurobipy         20 netflow.py:149 \n"
     ]
    },
    {
     "name": "stdout",
     "output_type": "stream",
     "text": [
      "Root relaxation: objective 1.044055e+02, 93 iterations, 0.08 seconds (0.00 work units)\n"
     ]
    },
    {
     "name": "stderr",
     "output_type": "stream",
     "text": [
      "2025-01-12 01:19:47.737Z gurobipy         20 netflow.py:149 Root relaxation: objective 1.044055e+02, 93 iterations, 0.08 seconds (0.00 work units)\n"
     ]
    },
    {
     "name": "stdout",
     "output_type": "stream",
     "text": [
      "\n"
     ]
    },
    {
     "name": "stderr",
     "output_type": "stream",
     "text": [
      "2025-01-12 01:19:47.743Z gurobipy         20 netflow.py:149 \n"
     ]
    },
    {
     "name": "stdout",
     "output_type": "stream",
     "text": [
      "    Nodes    |    Current Node    |     Objective Bounds      |     Work\n"
     ]
    },
    {
     "name": "stderr",
     "output_type": "stream",
     "text": [
      "2025-01-12 01:19:47.746Z gurobipy         20 netflow.py:149     Nodes    |    Current Node    |     Objective Bounds      |     Work\n"
     ]
    },
    {
     "name": "stdout",
     "output_type": "stream",
     "text": [
      " Expl Unexpl |  Obj  Depth IntInf | Incumbent    BestBd   Gap | It/Node Time\n"
     ]
    },
    {
     "name": "stderr",
     "output_type": "stream",
     "text": [
      "2025-01-12 01:19:47.748Z gurobipy         20 netflow.py:149  Expl Unexpl |  Obj  Depth IntInf | Incumbent    BestBd   Gap | It/Node Time\n"
     ]
    },
    {
     "name": "stdout",
     "output_type": "stream",
     "text": [
      "\n"
     ]
    },
    {
     "name": "stderr",
     "output_type": "stream",
     "text": [
      "2025-01-12 01:19:47.750Z gurobipy         20 netflow.py:149 \n"
     ]
    },
    {
     "name": "stdout",
     "output_type": "stream",
     "text": [
      "*    0     0               0     104.4054902  104.40549  0.00%     -    1s\n"
     ]
    },
    {
     "name": "stderr",
     "output_type": "stream",
     "text": [
      "2025-01-12 01:19:47.753Z gurobipy         20 netflow.py:149 *    0     0               0     104.4054902  104.40549  0.00%     -    1s\n"
     ]
    },
    {
     "name": "stdout",
     "output_type": "stream",
     "text": [
      "\n"
     ]
    },
    {
     "name": "stderr",
     "output_type": "stream",
     "text": [
      "2025-01-12 01:19:47.770Z gurobipy         20 netflow.py:149 \n"
     ]
    },
    {
     "name": "stdout",
     "output_type": "stream",
     "text": [
      "Explored 1 nodes (93 simplex iterations) in 1.14 seconds (0.35 work units)\n"
     ]
    },
    {
     "name": "stderr",
     "output_type": "stream",
     "text": [
      "2025-01-12 01:19:47.900Z gurobipy         20 netflow.py:149 Explored 1 nodes (93 simplex iterations) in 1.14 seconds (0.35 work units)\n"
     ]
    },
    {
     "name": "stdout",
     "output_type": "stream",
     "text": [
      "Thread count was 8 (of 8 available processors)\n"
     ]
    },
    {
     "name": "stderr",
     "output_type": "stream",
     "text": [
      "2025-01-12 01:19:47.902Z gurobipy         20 netflow.py:149 Thread count was 8 (of 8 available processors)\n"
     ]
    },
    {
     "name": "stdout",
     "output_type": "stream",
     "text": [
      "\n"
     ]
    },
    {
     "name": "stderr",
     "output_type": "stream",
     "text": [
      "2025-01-12 01:19:47.906Z gurobipy         20 netflow.py:149 \n"
     ]
    },
    {
     "name": "stdout",
     "output_type": "stream",
     "text": [
      "Solution count 3: 104.405 5.98e+08 6e+08 \n"
     ]
    },
    {
     "name": "stderr",
     "output_type": "stream",
     "text": [
      "2025-01-12 01:19:47.909Z gurobipy         20 netflow.py:149 Solution count 3: 104.405 5.98e+08 6e+08 \n"
     ]
    },
    {
     "name": "stdout",
     "output_type": "stream",
     "text": [
      "\n"
     ]
    },
    {
     "name": "stderr",
     "output_type": "stream",
     "text": [
      "2025-01-12 01:19:47.912Z gurobipy         20 netflow.py:149 \n"
     ]
    },
    {
     "name": "stdout",
     "output_type": "stream",
     "text": [
      "Optimal solution found (tolerance 5.00e-02)\n"
     ]
    },
    {
     "name": "stderr",
     "output_type": "stream",
     "text": [
      "2025-01-12 01:19:47.914Z gurobipy         20 netflow.py:149 Optimal solution found (tolerance 5.00e-02)\n"
     ]
    },
    {
     "name": "stdout",
     "output_type": "stream",
     "text": [
      "Best objective 1.044054901506e+02, best bound 1.044054901506e+02, gap 0.0000%\n"
     ]
    },
    {
     "name": "stderr",
     "output_type": "stream",
     "text": [
      "2025-01-12 01:19:47.919Z gurobipy         20 netflow.py:149 Best objective 1.044054901506e+02, best bound 1.044054901506e+02, gap 0.0000%\n"
     ]
    },
    {
     "name": "stdout",
     "output_type": "stream",
     "text": [
      "Checking for trajectory collisions\n"
     ]
    },
    {
     "name": "stderr",
     "output_type": "stream",
     "text": [
      "2025-01-12 01:19:48.664Z pfi              40 pfi.py:896 Some theta angles are out of range\n",
      "2025-01-12 01:19:48.671Z pfi              40 pfi.py:899 Some phi angles are out of range\n",
      "2025-01-12 01:19:48.841Z pfi              40 pfi.py:899 Some phi angles are out of range\n",
      "2025-01-12 01:19:48.881Z pfi              40 pfi.py:899 Some phi angles are out of range\n",
      "2025-01-12 01:19:48.884Z engineer         20 engineer.py:395 Move theta arms to angle=[360.  360.  270.9 ... 360.  360.  360. ] degree\n",
      "2025-01-12 01:19:48.885Z engineer         20 engineer.py:396 Move phi arms to angle=[11.09 24.48 35.88 ...  8.43 11.99  9.16] degree\n",
      "2025-01-12 01:19:48.886Z engineer         20 engineer.py:398 Checking passed homed argument = True\n",
      "2025-01-12 01:19:48.888Z engineer         20 engineer.py:402 Move theta arms CW and phi arms CCW to the hard stops\n",
      "2025-01-12 01:19:48.917Z cobraCoach       20 cobraCoach.py:1065 home cobras: theta=10000, phi=-5000\n",
      "2025-01-12 01:19:48.944Z pfi              40 pfi.py:899 Some phi angles are out of range\n",
      "2025-01-12 01:19:48.978Z pfi              40 pfi.py:899 Some phi angles are out of range\n",
      "2025-01-12 01:19:49.011Z cobraCoach       20 cobraCoach.py:1009 Moving deltaTheta = [-0.29458444 -0.38204686 -1.91112292 ... -0.40597169 -0.4013664\n",
      " -0.41592376]\n",
      "2025-01-12 01:19:49.012Z cobraCoach       20 cobraCoach.py:1010 Moving deltaPhi = [0.19361448 0.42723261 0.6262403  ... 0.14708474 0.20932294 0.15978886]\n",
      "2025-01-12 01:19:49.288Z cobraCoach       20 cobraCoach.py:877 Finished converting angle to steps, sending command to moveSteps (constantOntime).\n",
      "2025-01-12 01:19:49.840Z cobraCoach       20 cobraCoach.py:587 Sending step numbers to FPGA for moving cobra.\n",
      "2025-01-12 01:19:49.963Z cobraCoach       20 cobraCoach.py:601 cobra control FPGA operation done.\n",
      "2025-01-12 01:19:49.992Z pfi              40 pfi.py:896 Some theta angles are out of range\n",
      "2025-01-12 01:19:49.994Z pfi              40 pfi.py:899 Some phi angles are out of range\n",
      "2025-01-12 01:19:50.130Z cobraCoach       30 cobraCoach.py:675 Cobra#344 is too far from center\n",
      "2025-01-12 01:19:50.134Z cobraCoach       30 cobraCoach.py:675 Cobra#443 is too far from center\n",
      "2025-01-12 01:19:50.136Z cobraCoach       30 cobraCoach.py:675 Cobra#493 is too far from center\n",
      "2025-01-12 01:19:50.161Z cobraCoach       30 cobraCoach.py:675 Cobra#1303 is too far from center\n",
      "2025-01-12 01:19:50.178Z cobraCoach       30 cobraCoach.py:675 Cobra#1637 is too far from center\n",
      "2025-01-12 01:19:50.191Z cobraCoach       30 cobraCoach.py:675 Cobra#1790 is too far from center\n",
      "2025-01-12 01:19:50.193Z cobraCoach       30 cobraCoach.py:675 Cobra#1792 is too far from center\n",
      "2025-01-12 01:19:50.246Z engineer         20 engineer.py:433 done: [   0    1    2 ... 2391 2392 2393], 14 left\n",
      "2025-01-12 01:19:50.248Z cobraCoach       30 cobraCoach.py:1003 Last phi angle is unknown, not moving: [1459]\n",
      "2025-01-12 01:19:50.249Z cobraCoach       20 cobraCoach.py:1009 Moving deltaTheta = [-1.01748456e-05 -1.01748456e-05 -1.01748456e-05  1.42413045e-04\n",
      " -1.01748456e-05 -1.01748456e-05 -1.01748456e-05 -1.01748455e-05\n",
      " -1.01748456e-05  6.92683126e-04 -1.01748455e-05 -1.01748456e-05\n",
      " -1.01748456e-05  1.10228624e-03]\n",
      "2025-01-12 01:19:50.250Z cobraCoach       20 cobraCoach.py:1010 Moving deltaPhi = [-6.10865247 -6.10865247 -6.10865247 -0.04164008 -2.96705959 -6.10865247\n",
      "  0.         -2.96705964 -2.96705969 -0.06341524 -6.10865247 -6.10865247\n",
      " -6.10865247 -0.0498779 ]\n",
      "2025-01-12 01:19:50.252Z cobraCoach       30 cobraCoach.py:846 Last phi angle is unknown: [1459]\n",
      "2025-01-12 01:19:50.255Z cobraCoach       20 cobraCoach.py:877 Finished converting angle to steps, sending command to moveSteps (constantOntime).\n",
      "2025-01-12 01:19:50.274Z cobraCoach       20 cobraCoach.py:587 Sending step numbers to FPGA for moving cobra.\n",
      "2025-01-12 01:19:50.280Z cobraCoach       20 cobraCoach.py:601 cobra control FPGA operation done.\n",
      "2025-01-12 01:19:50.308Z pfi              40 pfi.py:896 Some theta angles are out of range\n",
      "2025-01-12 01:19:50.309Z pfi              40 pfi.py:899 Some phi angles are out of range\n",
      "2025-01-12 01:19:50.418Z cobraCoach       30 cobraCoach.py:675 Cobra#344 is too far from center\n",
      "2025-01-12 01:19:50.420Z cobraCoach       30 cobraCoach.py:679 Cobra#1460 is too close to center\n",
      "2025-01-12 01:19:50.421Z cobraCoach       30 cobraCoach.py:675 Cobra#1637 is too far from center\n",
      "2025-01-12 01:19:50.423Z cobraCoach       30 cobraCoach.py:675 Cobra#1790 is too far from center\n",
      "2025-01-12 01:19:50.429Z engineer         30 engineer.py:442 14 cobras did not finish: [ 343  442  492  578  737 1302 1459 1493 1538 1587 1636 1789 1791 1969], [4.67 4.67 4.67 0.11 4.67 4.67 0.82 4.67 4.67 0.16 4.67 4.67 4.67 0.11]\n",
      "2025-01-12 01:19:50.460Z pfi              40 pfi.py:899 Some phi angles are out of range\n",
      "2025-01-12 01:19:50.463Z engineer         20 engineer.py:395 Move theta arms to angle=[360.  360.  270.9 ... 360.  360.  360. ] degree\n",
      "2025-01-12 01:19:50.464Z engineer         20 engineer.py:396 Move phi arms to angle=[11.09 24.48 35.88 ...  8.43 11.99  9.16] degree\n",
      "2025-01-12 01:19:50.468Z engineer         20 engineer.py:398 Checking passed homed argument = False\n",
      "2025-01-12 01:19:50.497Z cobraCoach       20 cobraCoach.py:1009 Moving deltaTheta = [-0.00026719 -0.0001518   0.00013482 ... -0.00025479  0.00038417\n",
      " -0.000724  ]\n",
      "2025-01-12 01:19:50.498Z cobraCoach       20 cobraCoach.py:1010 Moving deltaPhi = [ 8.60699099e-05 -8.34333106e-04 -3.81240990e-04 ...  6.56574960e-04\n",
      " -8.39715058e-04 -4.29651246e-04]\n",
      "2025-01-12 01:19:50.702Z cobraCoach       20 cobraCoach.py:877 Finished converting angle to steps, sending command to moveSteps (constantOntime).\n",
      "2025-01-12 01:19:50.914Z cobraCoach       20 cobraCoach.py:587 Sending step numbers to FPGA for moving cobra.\n",
      "2025-01-12 01:19:51.035Z cobraCoach       20 cobraCoach.py:601 cobra control FPGA operation done.\n",
      "2025-01-12 01:19:51.064Z pfi              40 pfi.py:896 Some theta angles are out of range\n",
      "2025-01-12 01:19:51.065Z pfi              40 pfi.py:899 Some phi angles are out of range\n",
      "2025-01-12 01:19:51.198Z cobraCoach       30 cobraCoach.py:675 Cobra#1303 is too far from center\n",
      "2025-01-12 01:19:51.212Z cobraCoach       30 cobraCoach.py:675 Cobra#1790 is too far from center\n",
      "2025-01-12 01:19:51.235Z engineer         20 engineer.py:433 done: [   0    1    2 ... 2391 2392 2393], 14 left\n",
      "2025-01-12 01:19:51.238Z cobraCoach       30 cobraCoach.py:1003 Last phi angle is unknown, not moving: [1459]\n",
      "2025-01-12 01:19:51.239Z cobraCoach       20 cobraCoach.py:1009 Moving deltaTheta = [-1.94233989e-04 -5.14191722e-04 -6.14804362e-04  1.42413045e-04\n",
      " -1.01748456e-05  2.69975771e-06 -1.01748456e-05 -1.01748455e-05\n",
      " -1.01748456e-05 -2.97707652e-04 -1.03632841e-03 -1.01748456e-05\n",
      " -3.80200480e-04 -1.05065440e-04]\n",
      "2025-01-12 01:19:51.240Z cobraCoach       20 cobraCoach.py:1010 Moving deltaPhi = [-2.96687409 -2.96705963 -2.9670596  -0.04164008 -2.96705959 -6.10865247\n",
      "  0.         -2.96705964 -2.96705969 -0.06341524 -2.96602327 -6.10865247\n",
      " -2.9670596  -0.0498779 ]\n",
      "2025-01-12 01:19:51.243Z cobraCoach       30 cobraCoach.py:846 Last phi angle is unknown: [1459]\n",
      "2025-01-12 01:19:51.245Z cobraCoach       20 cobraCoach.py:877 Finished converting angle to steps, sending command to moveSteps (constantOntime).\n",
      "2025-01-12 01:19:51.252Z cobraCoach       20 cobraCoach.py:587 Sending step numbers to FPGA for moving cobra.\n",
      "2025-01-12 01:19:51.255Z cobraCoach       20 cobraCoach.py:601 cobra control FPGA operation done.\n",
      "2025-01-12 01:19:51.282Z pfi              40 pfi.py:896 Some theta angles are out of range\n",
      "2025-01-12 01:19:51.283Z pfi              40 pfi.py:899 Some phi angles are out of range\n",
      "2025-01-12 01:19:51.378Z cobraCoach       30 cobraCoach.py:675 Cobra#344 is too far from center\n",
      "2025-01-12 01:19:51.379Z pfi              30 pfi.py:475 clipping scale adjustment from 0.2573481031895782 to 0.3\n",
      "2025-01-12 01:19:51.380Z cobraCoach       30 cobraCoach.py:679 Cobra#1460 is too close to center\n",
      "2025-01-12 01:19:51.381Z pfi              30 pfi.py:475 clipping scale adjustment from 0.26154231110049525 to 0.3\n",
      "2025-01-12 01:19:51.387Z cobraCoach       20 cobraCoach.py:1009 Moving deltaTheta = [-1.94233989e-04 -5.14191722e-04 -6.14804362e-04  1.42413045e-04\n",
      " -1.01748456e-05 -1.09852569e+00 -1.01748456e-05 -1.01748455e-05\n",
      " -1.01748456e-05 -2.97707652e-04 -1.03632841e-03 -1.07143418e+00\n",
      " -3.80200480e-04 -1.05065440e-04]\n",
      "2025-01-12 01:19:51.388Z cobraCoach       20 cobraCoach.py:1010 Moving deltaPhi = [-6.10865247 -2.96705963 -2.9670596  -0.04164008 -2.96705959 -1.71883189\n",
      " -2.96705973 -2.96705964 -2.96705969 -0.06341524 -2.96705964 -1.88389766\n",
      " -2.9670596  -0.0498779 ]\n",
      "2025-01-12 01:19:51.393Z cobraCoach       20 cobraCoach.py:877 Finished converting angle to steps, sending command to moveSteps (constantOntime).\n",
      "2025-01-12 01:19:51.399Z cobraCoach       20 cobraCoach.py:587 Sending step numbers to FPGA for moving cobra.\n",
      "2025-01-12 01:19:51.402Z cobraCoach       20 cobraCoach.py:601 cobra control FPGA operation done.\n",
      "2025-01-12 01:19:51.426Z pfi              40 pfi.py:896 Some theta angles are out of range\n",
      "2025-01-12 01:19:51.427Z pfi              40 pfi.py:899 Some phi angles are out of range\n",
      "2025-01-12 01:19:51.541Z pfi              30 pfi.py:475 clipping scale adjustment from 0.2859424141191533 to 0.3\n",
      "2025-01-12 01:19:51.546Z cobraCoach       30 cobraCoach.py:675 Cobra#1303 is too far from center\n",
      "2025-01-12 01:19:51.550Z pfi              30 pfi.py:475 clipping scale adjustment from 0.29999999904403885 to 0.3\n",
      "2025-01-12 01:19:51.554Z cobraCoach       30 cobraCoach.py:675 Cobra#1790 is too far from center\n",
      "2025-01-12 01:19:51.565Z cobraCoach       30 cobraCoach.py:1003 Last phi angle is unknown, not moving: [1459]\n",
      "2025-01-12 01:19:51.566Z cobraCoach       20 cobraCoach.py:1009 Moving deltaTheta = [-3.21863813e-01 -5.14191722e-04 -6.14804362e-04  1.42413045e-04\n",
      " -1.01748456e-05 -6.82685060e-01 -1.01748456e-05 -1.01748455e-05\n",
      " -1.01748456e-05 -2.97707652e-04 -1.03632841e-03 -3.25590772e-01\n",
      " -3.80200480e-04 -1.05065440e-04]\n",
      "2025-01-12 01:19:51.568Z cobraCoach       20 cobraCoach.py:1010 Moving deltaPhi = [-2.64219266 -2.96705963 -2.9670596  -0.04164008 -2.96705959 -6.10865247\n",
      "  0.         -2.96705964 -2.96705969 -0.06341524 -2.96705964 -6.10865247\n",
      " -2.9670596  -0.0498779 ]\n",
      "2025-01-12 01:19:51.571Z cobraCoach       30 cobraCoach.py:846 Last phi angle is unknown: [1459]\n",
      "2025-01-12 01:19:51.584Z cobraCoach       20 cobraCoach.py:877 Finished converting angle to steps, sending command to moveSteps (constantOntime).\n",
      "2025-01-12 01:19:51.602Z cobraCoach       20 cobraCoach.py:587 Sending step numbers to FPGA for moving cobra.\n",
      "2025-01-12 01:19:51.606Z cobraCoach       20 cobraCoach.py:601 cobra control FPGA operation done.\n",
      "2025-01-12 01:19:51.637Z pfi              40 pfi.py:896 Some theta angles are out of range\n",
      "2025-01-12 01:19:51.638Z pfi              40 pfi.py:899 Some phi angles are out of range\n",
      "2025-01-12 01:19:51.748Z pfi              30 pfi.py:475 clipping scale adjustment from 0.22521650184055392 to 0.3\n",
      "2025-01-12 01:19:51.749Z pfi              30 pfi.py:475 clipping scale adjustment from 0.2573481031895782 to 0.3\n",
      "2025-01-12 01:19:51.750Z cobraCoach       30 cobraCoach.py:679 Cobra#1460 is too close to center\n",
      "2025-01-12 01:19:51.752Z pfi              30 pfi.py:475 clipping scale adjustment from 0.22664453700152026 to 0.3\n",
      "2025-01-12 01:19:51.753Z pfi              30 pfi.py:475 clipping scale adjustment from 0.26154231110049525 to 0.3\n",
      "2025-01-12 01:19:51.758Z cobraCoach       20 cobraCoach.py:1009 Moving deltaTheta = [-2.17122172e-04 -5.14191722e-04 -6.14804362e-04  1.42413045e-04\n",
      " -1.01748456e-05  4.51698156e+00 -1.01748456e-05 -1.01748455e-05\n",
      " -1.01748456e-05 -2.97707652e-04 -1.03632841e-03  5.00301130e+00\n",
      " -3.80200480e-04 -1.05065440e-04]\n",
      "2025-01-12 01:19:51.759Z cobraCoach       20 cobraCoach.py:1010 Moving deltaPhi = [-2.96705965 -2.96705963 -2.9670596  -0.04164008 -2.96705959 -1.71883189\n",
      " -2.96705973 -2.96705964 -2.96705969 -0.06341524 -2.96705964 -1.88389766\n",
      " -2.9670596  -0.0498779 ]\n",
      "2025-01-12 01:19:51.764Z cobraCoach       20 cobraCoach.py:877 Finished converting angle to steps, sending command to moveSteps (constantOntime).\n",
      "2025-01-12 01:19:51.771Z cobraCoach       20 cobraCoach.py:587 Sending step numbers to FPGA for moving cobra.\n",
      "2025-01-12 01:19:51.775Z cobraCoach       20 cobraCoach.py:601 cobra control FPGA operation done.\n",
      "2025-01-12 01:19:51.807Z pfi              40 pfi.py:896 Some theta angles are out of range\n",
      "2025-01-12 01:19:51.809Z pfi              40 pfi.py:899 Some phi angles are out of range\n",
      "2025-01-12 01:19:51.914Z cobraCoach       30 cobraCoach.py:675 Cobra#1790 is too far from center\n",
      "2025-01-12 01:19:51.915Z pfi              30 pfi.py:475 clipping scale adjustment from 0.29999999510714737 to 0.3\n",
      "2025-01-12 01:19:51.918Z cobraCoach       30 cobraCoach.py:1003 Last phi angle is unknown, not moving: [1459]\n",
      "2025-01-12 01:19:51.919Z cobraCoach       20 cobraCoach.py:1009 Moving deltaTheta = [-2.17122172e-04 -5.14191722e-04 -6.14804362e-04  1.42413045e-04\n",
      " -1.01748456e-05 -4.10811338e-03 -1.01748456e-05 -1.01748455e-05\n",
      " -1.01748456e-05 -2.97707652e-04 -1.03632841e-03  7.85623389e-01\n",
      " -3.80200480e-04 -1.05065440e-04]\n",
      "2025-01-12 01:19:51.920Z cobraCoach       20 cobraCoach.py:1010 Moving deltaPhi = [-2.96705965 -2.96705963 -2.9670596  -0.04164008 -2.96705959 -2.96705962\n",
      "  0.         -2.96705964 -2.96705969 -0.06341524 -2.96705964 -6.10865247\n",
      " -2.9670596  -0.0498779 ]\n",
      "2025-01-12 01:19:51.923Z cobraCoach       30 cobraCoach.py:846 Last phi angle is unknown: [1459]\n",
      "2025-01-12 01:19:51.927Z cobraCoach       20 cobraCoach.py:877 Finished converting angle to steps, sending command to moveSteps (constantOntime).\n",
      "2025-01-12 01:19:51.936Z cobraCoach       20 cobraCoach.py:587 Sending step numbers to FPGA for moving cobra.\n",
      "2025-01-12 01:19:51.938Z cobraCoach       20 cobraCoach.py:601 cobra control FPGA operation done.\n",
      "2025-01-12 01:19:51.965Z pfi              40 pfi.py:896 Some theta angles are out of range\n",
      "2025-01-12 01:19:51.966Z pfi              40 pfi.py:899 Some phi angles are out of range\n",
      "2025-01-12 01:19:52.064Z pfi              30 pfi.py:475 clipping scale adjustment from 0.2250489700875823 to 0.3\n",
      "2025-01-12 01:19:52.065Z cobraCoach       30 cobraCoach.py:679 Cobra#1460 is too close to center\n",
      "2025-01-12 01:19:52.065Z pfi              30 pfi.py:475 clipping scale adjustment from 0.2561286605203101 to 0.3\n",
      "2025-01-12 01:19:52.067Z pfi              30 pfi.py:475 clipping scale adjustment from 0.26154231110049525 to 0.3\n",
      "2025-01-12 01:19:52.071Z engineer         30 engineer.py:442 14 cobras did not finish: [ 343  442  492  578  737 1302 1459 1493 1538 1587 1636 1789 1791 1969], [4.67 4.67 4.67 0.11 4.67 4.67 0.82 4.67 4.67 0.16 4.67 4.2  4.67 0.11]\n",
      "2025-01-12 01:19:52.098Z pfi              40 pfi.py:896 Some theta angles are out of range\n",
      "2025-01-12 01:19:52.101Z pfi              40 pfi.py:899 Some phi angles are out of range\n",
      "2025-01-12 01:19:52.189Z pfi              40 pfi.py:896 Some theta angles are out of range\n",
      "2025-01-12 01:19:52.190Z pfi              40 pfi.py:899 Some phi angles are out of range\n",
      "2025-01-12 01:19:52.256Z pfi              40 pfi.py:896 Some theta angles are out of range\n",
      "2025-01-12 01:19:52.258Z pfi              40 pfi.py:899 Some phi angles are out of range\n",
      "2025-01-12 01:19:52.302Z pfi              40 pfi.py:896 Some theta angles are out of range\n",
      "2025-01-12 01:19:52.303Z pfi              40 pfi.py:899 Some phi angles are out of range\n",
      "2025-01-12 01:19:52.355Z pfi              40 pfi.py:896 Some theta angles are out of range\n",
      "2025-01-12 01:19:52.356Z pfi              40 pfi.py:899 Some phi angles are out of range\n",
      "2025-01-12 01:19:52.406Z pfi              40 pfi.py:896 Some theta angles are out of range\n",
      "2025-01-12 01:19:52.408Z pfi              40 pfi.py:899 Some phi angles are out of range\n",
      "2025-01-12 01:19:52.457Z pfi              40 pfi.py:896 Some theta angles are out of range\n",
      "2025-01-12 01:19:52.458Z pfi              40 pfi.py:899 Some phi angles are out of range\n",
      "2025-01-12 01:19:52.512Z pfi              40 pfi.py:896 Some theta angles are out of range\n",
      "2025-01-12 01:19:52.513Z pfi              40 pfi.py:899 Some phi angles are out of range\n",
      "2025-01-12 01:19:52.566Z pfi              40 pfi.py:930 Some theta angles are out of range\n",
      "2025-01-12 01:19:52.627Z pfi              40 pfi.py:930 Some theta angles are out of range\n",
      "2025-01-12 01:19:52.678Z pfi              40 pfi.py:930 Some theta angles are out of range\n",
      "2025-01-12 01:19:52.713Z pfi              40 pfi.py:930 Some theta angles are out of range\n",
      "2025-01-12 01:19:52.754Z pfi              40 pfi.py:930 Some theta angles are out of range\n",
      "2025-01-12 01:19:52.796Z pfi              40 pfi.py:930 Some theta angles are out of range\n",
      "2025-01-12 01:19:52.836Z pfi              40 pfi.py:930 Some theta angles are out of range\n",
      "2025-01-12 01:19:52.876Z pfi              40 pfi.py:930 Some theta angles are out of range\n"
     ]
    },
    {
     "name": "stdout",
     "output_type": "stream",
     "text": [
      "ERROR: detected end point collision, which should be impossible\n",
      "trajectory collisions found: 6\n",
      "Set parameter Presolve to value 1\n"
     ]
    },
    {
     "name": "stderr",
     "output_type": "stream",
     "text": [
      "2025-01-12 01:19:56.897Z gurobipy         20 netflow.py:117 Set parameter Presolve to value 1\n"
     ]
    },
    {
     "name": "stdout",
     "output_type": "stream",
     "text": [
      "Set parameter Method to value 4\n"
     ]
    },
    {
     "name": "stderr",
     "output_type": "stream",
     "text": [
      "2025-01-12 01:19:56.899Z gurobipy         20 netflow.py:117 Set parameter Method to value 4\n"
     ]
    },
    {
     "name": "stdout",
     "output_type": "stream",
     "text": [
      "Set parameter DegenMoves to value 0\n"
     ]
    },
    {
     "name": "stderr",
     "output_type": "stream",
     "text": [
      "2025-01-12 01:19:56.903Z gurobipy         20 netflow.py:117 Set parameter DegenMoves to value 0\n"
     ]
    },
    {
     "name": "stdout",
     "output_type": "stream",
     "text": [
      "Set parameter Heuristics to value 0.8\n"
     ]
    },
    {
     "name": "stderr",
     "output_type": "stream",
     "text": [
      "2025-01-12 01:19:56.905Z gurobipy         20 netflow.py:117 Set parameter Heuristics to value 0.8\n"
     ]
    },
    {
     "name": "stdout",
     "output_type": "stream",
     "text": [
      "Set parameter MIPGap to value 0.05\n"
     ]
    },
    {
     "name": "stderr",
     "output_type": "stream",
     "text": [
      "2025-01-12 01:19:56.907Z gurobipy         20 netflow.py:117 Set parameter MIPGap to value 0.05\n"
     ]
    },
    {
     "name": "stdout",
     "output_type": "stream",
     "text": [
      "Creating network topology\n",
      "  exposure 1\n",
      "Calculating visibilities\n",
      "adding constraints\n",
      "adding collision constraints\n",
      "adding forbidden pair constraints\n",
      "Gurobi Optimizer version 10.0.1 build v10.0.1rc0 (mac64[x86])\n"
     ]
    },
    {
     "name": "stderr",
     "output_type": "stream",
     "text": [
      "2025-01-12 01:20:07.672Z gurobipy         20 netflow.py:149 Gurobi Optimizer version 10.0.1 build v10.0.1rc0 (mac64[x86])\n"
     ]
    },
    {
     "name": "stdout",
     "output_type": "stream",
     "text": [
      "\n"
     ]
    },
    {
     "name": "stderr",
     "output_type": "stream",
     "text": [
      "2025-01-12 01:20:07.674Z gurobipy         20 netflow.py:149 \n"
     ]
    },
    {
     "name": "stdout",
     "output_type": "stream",
     "text": [
      "CPU model: Intel(R) Core(TM) i7-8569U CPU @ 2.80GHz\n"
     ]
    },
    {
     "name": "stderr",
     "output_type": "stream",
     "text": [
      "2025-01-12 01:20:07.677Z gurobipy         20 netflow.py:149 CPU model: Intel(R) Core(TM) i7-8569U CPU @ 2.80GHz\n"
     ]
    },
    {
     "name": "stdout",
     "output_type": "stream",
     "text": [
      "Thread count: 4 physical cores, 8 logical processors, using up to 8 threads\n"
     ]
    },
    {
     "name": "stderr",
     "output_type": "stream",
     "text": [
      "2025-01-12 01:20:07.679Z gurobipy         20 netflow.py:149 Thread count: 4 physical cores, 8 logical processors, using up to 8 threads\n"
     ]
    },
    {
     "name": "stdout",
     "output_type": "stream",
     "text": [
      "\n"
     ]
    },
    {
     "name": "stderr",
     "output_type": "stream",
     "text": [
      "2025-01-12 01:20:07.681Z gurobipy         20 netflow.py:149 \n"
     ]
    },
    {
     "name": "stdout",
     "output_type": "stream",
     "text": [
      "Academic license 2379863 - for non-commercial use only - registered to ji___@ipmu.jp\n"
     ]
    },
    {
     "name": "stderr",
     "output_type": "stream",
     "text": [
      "2025-01-12 01:20:07.684Z gurobipy         20 netflow.py:149 Academic license 2379863 - for non-commercial use only - registered to ji___@ipmu.jp\n"
     ]
    },
    {
     "name": "stdout",
     "output_type": "stream",
     "text": [
      "Optimize a model with 139856 rows, 72836 columns and 362086 nonzeros\n"
     ]
    },
    {
     "name": "stderr",
     "output_type": "stream",
     "text": [
      "2025-01-12 01:20:07.686Z gurobipy         20 netflow.py:149 Optimize a model with 139856 rows, 72836 columns and 362086 nonzeros\n"
     ]
    },
    {
     "name": "stdout",
     "output_type": "stream",
     "text": [
      "Model fingerprint: 0x59f14d6b\n"
     ]
    },
    {
     "name": "stderr",
     "output_type": "stream",
     "text": [
      "2025-01-12 01:20:07.695Z gurobipy         20 netflow.py:149 Model fingerprint: 0x59f14d6b\n"
     ]
    },
    {
     "name": "stdout",
     "output_type": "stream",
     "text": [
      "Variable types: 1 continuous, 72835 integer (72833 binary)\n"
     ]
    },
    {
     "name": "stderr",
     "output_type": "stream",
     "text": [
      "2025-01-12 01:20:07.698Z gurobipy         20 netflow.py:149 Variable types: 1 continuous, 72835 integer (72833 binary)\n"
     ]
    },
    {
     "name": "stdout",
     "output_type": "stream",
     "text": [
      "Coefficient statistics:\n"
     ]
    },
    {
     "name": "stderr",
     "output_type": "stream",
     "text": [
      "2025-01-12 01:20:07.702Z gurobipy         20 netflow.py:149 Coefficient statistics:\n"
     ]
    },
    {
     "name": "stdout",
     "output_type": "stream",
     "text": [
      "  Matrix range     [1e+00, 1e+00]\n"
     ]
    },
    {
     "name": "stderr",
     "output_type": "stream",
     "text": [
      "2025-01-12 01:20:07.706Z gurobipy         20 netflow.py:149   Matrix range     [1e+00, 1e+00]\n"
     ]
    },
    {
     "name": "stdout",
     "output_type": "stream",
     "text": [
      "  Objective range  [1e-01, 1e+06]\n"
     ]
    },
    {
     "name": "stderr",
     "output_type": "stream",
     "text": [
      "2025-01-12 01:20:07.708Z gurobipy         20 netflow.py:149   Objective range  [1e-01, 1e+06]\n"
     ]
    },
    {
     "name": "stdout",
     "output_type": "stream",
     "text": [
      "  Bounds range     [1e+00, 1e+00]\n"
     ]
    },
    {
     "name": "stderr",
     "output_type": "stream",
     "text": [
      "2025-01-12 01:20:07.710Z gurobipy         20 netflow.py:149   Bounds range     [1e+00, 1e+00]\n"
     ]
    },
    {
     "name": "stdout",
     "output_type": "stream",
     "text": [
      "  RHS range        [1e+00, 4e+02]\n"
     ]
    },
    {
     "name": "stderr",
     "output_type": "stream",
     "text": [
      "2025-01-12 01:20:07.712Z gurobipy         20 netflow.py:149   RHS range        [1e+00, 4e+02]\n"
     ]
    },
    {
     "name": "stdout",
     "output_type": "stream",
     "text": [
      "Found heuristic solution: objective 6.000000e+08\n"
     ]
    },
    {
     "name": "stderr",
     "output_type": "stream",
     "text": [
      "2025-01-12 01:20:07.731Z gurobipy         20 netflow.py:149 Found heuristic solution: objective 6.000000e+08\n"
     ]
    },
    {
     "name": "stdout",
     "output_type": "stream",
     "text": [
      "Presolve removed 139004 rows and 69795 columns\n"
     ]
    },
    {
     "name": "stderr",
     "output_type": "stream",
     "text": [
      "2025-01-12 01:20:08.581Z gurobipy         20 netflow.py:149 Presolve removed 139004 rows and 69795 columns\n"
     ]
    },
    {
     "name": "stdout",
     "output_type": "stream",
     "text": [
      "Presolve time: 0.82s\n"
     ]
    },
    {
     "name": "stderr",
     "output_type": "stream",
     "text": [
      "2025-01-12 01:20:08.583Z gurobipy         20 netflow.py:149 Presolve time: 0.82s\n"
     ]
    },
    {
     "name": "stdout",
     "output_type": "stream",
     "text": [
      "Presolved: 852 rows, 3041 columns, 4926 nonzeros\n"
     ]
    },
    {
     "name": "stderr",
     "output_type": "stream",
     "text": [
      "2025-01-12 01:20:08.590Z gurobipy         20 netflow.py:149 Presolved: 852 rows, 3041 columns, 4926 nonzeros\n"
     ]
    },
    {
     "name": "stdout",
     "output_type": "stream",
     "text": [
      "Variable types: 0 continuous, 3041 integer (3039 binary)\n"
     ]
    },
    {
     "name": "stderr",
     "output_type": "stream",
     "text": [
      "2025-01-12 01:20:08.598Z gurobipy         20 netflow.py:149 Variable types: 0 continuous, 3041 integer (3039 binary)\n"
     ]
    },
    {
     "name": "stdout",
     "output_type": "stream",
     "text": [
      "Found heuristic solution: objective 5.980000e+08\n"
     ]
    },
    {
     "name": "stderr",
     "output_type": "stream",
     "text": [
      "2025-01-12 01:20:08.611Z gurobipy         20 netflow.py:149 Found heuristic solution: objective 5.980000e+08\n"
     ]
    },
    {
     "name": "stdout",
     "output_type": "stream",
     "text": [
      "Deterministic concurrent LP optimizer: dual simplex and barrier\n"
     ]
    },
    {
     "name": "stderr",
     "output_type": "stream",
     "text": [
      "2025-01-12 01:20:08.617Z gurobipy         20 netflow.py:149 Deterministic concurrent LP optimizer: dual simplex and barrier\n"
     ]
    },
    {
     "name": "stdout",
     "output_type": "stream",
     "text": [
      "Showing barrier log only...\n"
     ]
    },
    {
     "name": "stderr",
     "output_type": "stream",
     "text": [
      "2025-01-12 01:20:08.619Z gurobipy         20 netflow.py:149 Showing barrier log only...\n"
     ]
    },
    {
     "name": "stdout",
     "output_type": "stream",
     "text": [
      "\n"
     ]
    },
    {
     "name": "stderr",
     "output_type": "stream",
     "text": [
      "2025-01-12 01:20:08.620Z gurobipy         20 netflow.py:149 \n"
     ]
    },
    {
     "name": "stdout",
     "output_type": "stream",
     "text": [
      "Root barrier log...\n"
     ]
    },
    {
     "name": "stderr",
     "output_type": "stream",
     "text": [
      "2025-01-12 01:20:08.628Z gurobipy         20 netflow.py:149 Root barrier log...\n"
     ]
    },
    {
     "name": "stdout",
     "output_type": "stream",
     "text": [
      "\n"
     ]
    },
    {
     "name": "stderr",
     "output_type": "stream",
     "text": [
      "2025-01-12 01:20:08.641Z gurobipy         20 netflow.py:149 \n"
     ]
    },
    {
     "name": "stdout",
     "output_type": "stream",
     "text": [
      "Ordering time: 0.00s\n"
     ]
    },
    {
     "name": "stderr",
     "output_type": "stream",
     "text": [
      "2025-01-12 01:20:08.648Z gurobipy         20 netflow.py:149 Ordering time: 0.00s\n"
     ]
    },
    {
     "name": "stdout",
     "output_type": "stream",
     "text": [
      "\n"
     ]
    },
    {
     "name": "stderr",
     "output_type": "stream",
     "text": [
      "2025-01-12 01:20:08.651Z gurobipy         20 netflow.py:149 \n"
     ]
    },
    {
     "name": "stdout",
     "output_type": "stream",
     "text": [
      "Barrier statistics:\n"
     ]
    },
    {
     "name": "stderr",
     "output_type": "stream",
     "text": [
      "2025-01-12 01:20:08.653Z gurobipy         20 netflow.py:149 Barrier statistics:\n"
     ]
    },
    {
     "name": "stdout",
     "output_type": "stream",
     "text": [
      " AA' NZ     : 1.792e+03\n"
     ]
    },
    {
     "name": "stderr",
     "output_type": "stream",
     "text": [
      "2025-01-12 01:20:08.655Z gurobipy         20 netflow.py:149  AA' NZ     : 1.792e+03\n"
     ]
    },
    {
     "name": "stdout",
     "output_type": "stream",
     "text": [
      " Factor NZ  : 3.946e+03 (roughly 2 MB of memory)\n"
     ]
    },
    {
     "name": "stderr",
     "output_type": "stream",
     "text": [
      "2025-01-12 01:20:08.662Z gurobipy         20 netflow.py:149  Factor NZ  : 3.946e+03 (roughly 2 MB of memory)\n"
     ]
    },
    {
     "name": "stdout",
     "output_type": "stream",
     "text": [
      " Factor Ops : 2.889e+04 (less than 1 second per iteration)\n"
     ]
    },
    {
     "name": "stderr",
     "output_type": "stream",
     "text": [
      "2025-01-12 01:20:08.664Z gurobipy         20 netflow.py:149  Factor Ops : 2.889e+04 (less than 1 second per iteration)\n"
     ]
    },
    {
     "name": "stdout",
     "output_type": "stream",
     "text": [
      " Threads    : 1\n"
     ]
    },
    {
     "name": "stderr",
     "output_type": "stream",
     "text": [
      "2025-01-12 01:20:08.666Z gurobipy         20 netflow.py:149  Threads    : 1\n"
     ]
    },
    {
     "name": "stdout",
     "output_type": "stream",
     "text": [
      "\n"
     ]
    },
    {
     "name": "stderr",
     "output_type": "stream",
     "text": [
      "2025-01-12 01:20:08.669Z gurobipy         20 netflow.py:149 \n"
     ]
    },
    {
     "name": "stdout",
     "output_type": "stream",
     "text": [
      "                  Objective                Residual\n"
     ]
    },
    {
     "name": "stderr",
     "output_type": "stream",
     "text": [
      "2025-01-12 01:20:08.672Z gurobipy         20 netflow.py:149                   Objective                Residual\n"
     ]
    },
    {
     "name": "stdout",
     "output_type": "stream",
     "text": [
      "Iter       Primal          Dual         Primal    Dual     Compl     Time\n"
     ]
    },
    {
     "name": "stderr",
     "output_type": "stream",
     "text": [
      "2025-01-12 01:20:08.758Z gurobipy         20 netflow.py:149 Iter       Primal          Dual         Primal    Dual     Compl     Time\n"
     ]
    },
    {
     "name": "stdout",
     "output_type": "stream",
     "text": [
      "   0   3.76910506e+08 -2.44562128e+09  3.98e+01 3.71e+04  3.39e+07     1s\n"
     ]
    },
    {
     "name": "stderr",
     "output_type": "stream",
     "text": [
      "2025-01-12 01:20:08.761Z gurobipy         20 netflow.py:149    0   3.76910506e+08 -2.44562128e+09  3.98e+01 3.71e+04  3.39e+07     1s\n"
     ]
    },
    {
     "name": "stdout",
     "output_type": "stream",
     "text": [
      "\n"
     ]
    },
    {
     "name": "stderr",
     "output_type": "stream",
     "text": [
      "2025-01-12 01:20:08.765Z gurobipy         20 netflow.py:149 \n"
     ]
    },
    {
     "name": "stdout",
     "output_type": "stream",
     "text": [
      "Barrier performed 0 iterations in 1.08 seconds (0.35 work units)\n"
     ]
    },
    {
     "name": "stderr",
     "output_type": "stream",
     "text": [
      "2025-01-12 01:20:08.767Z gurobipy         20 netflow.py:149 Barrier performed 0 iterations in 1.08 seconds (0.35 work units)\n"
     ]
    },
    {
     "name": "stdout",
     "output_type": "stream",
     "text": [
      "Barrier solve interrupted - model solved by another algorithm\n"
     ]
    },
    {
     "name": "stderr",
     "output_type": "stream",
     "text": [
      "2025-01-12 01:20:08.770Z gurobipy         20 netflow.py:149 Barrier solve interrupted - model solved by another algorithm\n"
     ]
    },
    {
     "name": "stdout",
     "output_type": "stream",
     "text": [
      "\n"
     ]
    },
    {
     "name": "stderr",
     "output_type": "stream",
     "text": [
      "2025-01-12 01:20:08.774Z gurobipy         20 netflow.py:149 \n"
     ]
    },
    {
     "name": "stdout",
     "output_type": "stream",
     "text": [
      "Concurrent spin time: 0.15s (can be avoided by choosing Method=3)\n"
     ]
    },
    {
     "name": "stderr",
     "output_type": "stream",
     "text": [
      "2025-01-12 01:20:08.777Z gurobipy         20 netflow.py:149 Concurrent spin time: 0.15s (can be avoided by choosing Method=3)\n"
     ]
    },
    {
     "name": "stdout",
     "output_type": "stream",
     "text": [
      "\n"
     ]
    },
    {
     "name": "stderr",
     "output_type": "stream",
     "text": [
      "2025-01-12 01:20:08.779Z gurobipy         20 netflow.py:149 \n"
     ]
    },
    {
     "name": "stdout",
     "output_type": "stream",
     "text": [
      "Solved with dual simplex\n"
     ]
    },
    {
     "name": "stderr",
     "output_type": "stream",
     "text": [
      "2025-01-12 01:20:08.783Z gurobipy         20 netflow.py:149 Solved with dual simplex\n"
     ]
    },
    {
     "name": "stdout",
     "output_type": "stream",
     "text": [
      "\n"
     ]
    },
    {
     "name": "stderr",
     "output_type": "stream",
     "text": [
      "2025-01-12 01:20:08.788Z gurobipy         20 netflow.py:149 \n"
     ]
    },
    {
     "name": "stdout",
     "output_type": "stream",
     "text": [
      "Root relaxation: objective 1.044055e+02, 93 iterations, 0.17 seconds (0.00 work units)\n"
     ]
    },
    {
     "name": "stderr",
     "output_type": "stream",
     "text": [
      "2025-01-12 01:20:08.790Z gurobipy         20 netflow.py:149 Root relaxation: objective 1.044055e+02, 93 iterations, 0.17 seconds (0.00 work units)\n"
     ]
    },
    {
     "name": "stdout",
     "output_type": "stream",
     "text": [
      "\n"
     ]
    },
    {
     "name": "stderr",
     "output_type": "stream",
     "text": [
      "2025-01-12 01:20:08.815Z gurobipy         20 netflow.py:149 \n"
     ]
    },
    {
     "name": "stdout",
     "output_type": "stream",
     "text": [
      "    Nodes    |    Current Node    |     Objective Bounds      |     Work\n"
     ]
    },
    {
     "name": "stderr",
     "output_type": "stream",
     "text": [
      "2025-01-12 01:20:08.818Z gurobipy         20 netflow.py:149     Nodes    |    Current Node    |     Objective Bounds      |     Work\n"
     ]
    },
    {
     "name": "stdout",
     "output_type": "stream",
     "text": [
      " Expl Unexpl |  Obj  Depth IntInf | Incumbent    BestBd   Gap | It/Node Time\n"
     ]
    },
    {
     "name": "stderr",
     "output_type": "stream",
     "text": [
      "2025-01-12 01:20:08.830Z gurobipy         20 netflow.py:149  Expl Unexpl |  Obj  Depth IntInf | Incumbent    BestBd   Gap | It/Node Time\n"
     ]
    },
    {
     "name": "stdout",
     "output_type": "stream",
     "text": [
      "\n"
     ]
    },
    {
     "name": "stderr",
     "output_type": "stream",
     "text": [
      "2025-01-12 01:20:08.833Z gurobipy         20 netflow.py:149 \n"
     ]
    },
    {
     "name": "stdout",
     "output_type": "stream",
     "text": [
      "*    0     0               0     104.4054902  104.40549  0.00%     -    1s\n"
     ]
    },
    {
     "name": "stderr",
     "output_type": "stream",
     "text": [
      "2025-01-12 01:20:08.864Z gurobipy         20 netflow.py:149 *    0     0               0     104.4054902  104.40549  0.00%     -    1s\n"
     ]
    },
    {
     "name": "stdout",
     "output_type": "stream",
     "text": [
      "\n"
     ]
    },
    {
     "name": "stderr",
     "output_type": "stream",
     "text": [
      "2025-01-12 01:20:08.898Z gurobipy         20 netflow.py:149 \n"
     ]
    },
    {
     "name": "stdout",
     "output_type": "stream",
     "text": [
      "Explored 1 nodes (93 simplex iterations) in 1.22 seconds (0.35 work units)\n"
     ]
    },
    {
     "name": "stderr",
     "output_type": "stream",
     "text": [
      "2025-01-12 01:20:08.901Z gurobipy         20 netflow.py:149 Explored 1 nodes (93 simplex iterations) in 1.22 seconds (0.35 work units)\n"
     ]
    },
    {
     "name": "stdout",
     "output_type": "stream",
     "text": [
      "Thread count was 8 (of 8 available processors)\n"
     ]
    },
    {
     "name": "stderr",
     "output_type": "stream",
     "text": [
      "2025-01-12 01:20:08.904Z gurobipy         20 netflow.py:149 Thread count was 8 (of 8 available processors)\n"
     ]
    },
    {
     "name": "stdout",
     "output_type": "stream",
     "text": [
      "\n"
     ]
    },
    {
     "name": "stderr",
     "output_type": "stream",
     "text": [
      "2025-01-12 01:20:08.906Z gurobipy         20 netflow.py:149 \n"
     ]
    },
    {
     "name": "stdout",
     "output_type": "stream",
     "text": [
      "Solution count 3: 104.405 5.98e+08 6e+08 \n"
     ]
    },
    {
     "name": "stderr",
     "output_type": "stream",
     "text": [
      "2025-01-12 01:20:08.908Z gurobipy         20 netflow.py:149 Solution count 3: 104.405 5.98e+08 6e+08 \n"
     ]
    },
    {
     "name": "stdout",
     "output_type": "stream",
     "text": [
      "\n"
     ]
    },
    {
     "name": "stderr",
     "output_type": "stream",
     "text": [
      "2025-01-12 01:20:08.912Z gurobipy         20 netflow.py:149 \n"
     ]
    },
    {
     "name": "stdout",
     "output_type": "stream",
     "text": [
      "Optimal solution found (tolerance 5.00e-02)\n"
     ]
    },
    {
     "name": "stderr",
     "output_type": "stream",
     "text": [
      "2025-01-12 01:20:08.915Z gurobipy         20 netflow.py:149 Optimal solution found (tolerance 5.00e-02)\n"
     ]
    },
    {
     "name": "stdout",
     "output_type": "stream",
     "text": [
      "Best objective 1.044054901506e+02, best bound 1.044054901506e+02, gap 0.0000%\n"
     ]
    },
    {
     "name": "stderr",
     "output_type": "stream",
     "text": [
      "2025-01-12 01:20:08.921Z gurobipy         20 netflow.py:149 Best objective 1.044054901506e+02, best bound 1.044054901506e+02, gap 0.0000%\n"
     ]
    },
    {
     "name": "stdout",
     "output_type": "stream",
     "text": [
      "Checking for trajectory collisions\n"
     ]
    },
    {
     "name": "stderr",
     "output_type": "stream",
     "text": [
      "2025-01-12 01:20:09.544Z pfi              40 pfi.py:896 Some theta angles are out of range\n",
      "2025-01-12 01:20:09.545Z pfi              40 pfi.py:899 Some phi angles are out of range\n",
      "2025-01-12 01:20:09.660Z pfi              40 pfi.py:899 Some phi angles are out of range\n",
      "2025-01-12 01:20:09.694Z pfi              40 pfi.py:899 Some phi angles are out of range\n",
      "2025-01-12 01:20:09.698Z engineer         20 engineer.py:395 Move theta arms to angle=[360.  360.  270.9 ... 360.  360.  360. ] degree\n",
      "2025-01-12 01:20:09.699Z engineer         20 engineer.py:396 Move phi arms to angle=[11.09 24.48 35.88 ...  8.43 11.99  9.16] degree\n",
      "2025-01-12 01:20:09.700Z engineer         20 engineer.py:398 Checking passed homed argument = True\n",
      "2025-01-12 01:20:09.700Z engineer         20 engineer.py:402 Move theta arms CW and phi arms CCW to the hard stops\n",
      "2025-01-12 01:20:09.729Z cobraCoach       20 cobraCoach.py:1065 home cobras: theta=10000, phi=-5000\n",
      "2025-01-12 01:20:09.755Z pfi              40 pfi.py:899 Some phi angles are out of range\n",
      "2025-01-12 01:20:09.780Z pfi              40 pfi.py:899 Some phi angles are out of range\n",
      "2025-01-12 01:20:09.804Z cobraCoach       20 cobraCoach.py:1009 Moving deltaTheta = [-0.29458444 -0.38204686 -1.91112292 ... -0.40597169 -0.4013664\n",
      " -0.41592376]\n",
      "2025-01-12 01:20:09.805Z cobraCoach       20 cobraCoach.py:1010 Moving deltaPhi = [0.19361448 0.42723261 0.6262403  ... 0.14708474 0.20932294 0.15978886]\n",
      "2025-01-12 01:20:10.073Z cobraCoach       20 cobraCoach.py:877 Finished converting angle to steps, sending command to moveSteps (constantOntime).\n",
      "2025-01-12 01:20:10.652Z cobraCoach       20 cobraCoach.py:587 Sending step numbers to FPGA for moving cobra.\n",
      "2025-01-12 01:20:10.764Z cobraCoach       20 cobraCoach.py:601 cobra control FPGA operation done.\n",
      "2025-01-12 01:20:10.788Z pfi              40 pfi.py:896 Some theta angles are out of range\n",
      "2025-01-12 01:20:10.788Z pfi              40 pfi.py:899 Some phi angles are out of range\n",
      "2025-01-12 01:20:10.892Z cobraCoach       30 cobraCoach.py:675 Cobra#344 is too far from center\n",
      "2025-01-12 01:20:10.896Z cobraCoach       30 cobraCoach.py:675 Cobra#443 is too far from center\n",
      "2025-01-12 01:20:10.899Z cobraCoach       30 cobraCoach.py:675 Cobra#493 is too far from center\n",
      "2025-01-12 01:20:10.923Z cobraCoach       30 cobraCoach.py:675 Cobra#1303 is too far from center\n",
      "2025-01-12 01:20:10.934Z cobraCoach       30 cobraCoach.py:675 Cobra#1637 is too far from center\n",
      "2025-01-12 01:20:10.939Z cobraCoach       30 cobraCoach.py:675 Cobra#1790 is too far from center\n",
      "2025-01-12 01:20:10.941Z cobraCoach       30 cobraCoach.py:675 Cobra#1792 is too far from center\n",
      "2025-01-12 01:20:10.963Z engineer         20 engineer.py:433 done: [   0    1    2 ... 2391 2392 2393], 14 left\n",
      "2025-01-12 01:20:10.965Z cobraCoach       30 cobraCoach.py:1003 Last phi angle is unknown, not moving: [1459]\n",
      "2025-01-12 01:20:10.966Z cobraCoach       20 cobraCoach.py:1009 Moving deltaTheta = [-1.01748456e-05 -1.01748456e-05 -1.01748456e-05  1.42413045e-04\n",
      " -1.01748456e-05 -1.01748456e-05 -1.01748456e-05 -1.01748455e-05\n",
      " -1.01748456e-05  6.92683126e-04 -1.01748455e-05 -1.01748456e-05\n",
      " -1.01748456e-05  1.10228624e-03]\n",
      "2025-01-12 01:20:10.968Z cobraCoach       20 cobraCoach.py:1010 Moving deltaPhi = [-6.10865247 -6.10865247 -6.10865247 -0.04164008 -2.96705959 -6.10865247\n",
      "  0.         -2.96705964 -2.96705969 -0.06341524 -6.10865247 -6.10865247\n",
      " -6.10865247 -0.0498779 ]\n",
      "2025-01-12 01:20:10.971Z cobraCoach       30 cobraCoach.py:846 Last phi angle is unknown: [1459]\n",
      "2025-01-12 01:20:10.973Z cobraCoach       20 cobraCoach.py:877 Finished converting angle to steps, sending command to moveSteps (constantOntime).\n",
      "2025-01-12 01:20:10.981Z cobraCoach       20 cobraCoach.py:587 Sending step numbers to FPGA for moving cobra.\n",
      "2025-01-12 01:20:10.984Z cobraCoach       20 cobraCoach.py:601 cobra control FPGA operation done.\n",
      "2025-01-12 01:20:11.008Z pfi              40 pfi.py:896 Some theta angles are out of range\n",
      "2025-01-12 01:20:11.009Z pfi              40 pfi.py:899 Some phi angles are out of range\n",
      "2025-01-12 01:20:11.113Z cobraCoach       30 cobraCoach.py:675 Cobra#344 is too far from center\n",
      "2025-01-12 01:20:11.114Z cobraCoach       30 cobraCoach.py:679 Cobra#1460 is too close to center\n",
      "2025-01-12 01:20:11.115Z cobraCoach       30 cobraCoach.py:675 Cobra#1637 is too far from center\n",
      "2025-01-12 01:20:11.116Z cobraCoach       30 cobraCoach.py:675 Cobra#1790 is too far from center\n",
      "2025-01-12 01:20:11.121Z engineer         30 engineer.py:442 14 cobras did not finish: [ 343  442  492  578  737 1302 1459 1493 1538 1587 1636 1789 1791 1969], [4.67 4.67 4.67 0.11 4.67 4.67 0.82 4.67 4.67 0.16 4.67 4.67 4.67 0.11]\n",
      "2025-01-12 01:20:11.147Z pfi              40 pfi.py:899 Some phi angles are out of range\n",
      "2025-01-12 01:20:11.150Z engineer         20 engineer.py:395 Move theta arms to angle=[360.  360.  270.9 ... 360.  360.  360. ] degree\n",
      "2025-01-12 01:20:11.151Z engineer         20 engineer.py:396 Move phi arms to angle=[11.09 24.48 35.88 ...  8.43 11.99  9.16] degree\n",
      "2025-01-12 01:20:11.153Z engineer         20 engineer.py:398 Checking passed homed argument = False\n",
      "2025-01-12 01:20:11.182Z cobraCoach       20 cobraCoach.py:1009 Moving deltaTheta = [-0.00026719 -0.0001518   0.00013482 ... -0.00025479  0.00038417\n",
      " -0.000724  ]\n",
      "2025-01-12 01:20:11.183Z cobraCoach       20 cobraCoach.py:1010 Moving deltaPhi = [ 8.60699099e-05 -8.34333106e-04 -3.81240990e-04 ...  6.56574960e-04\n",
      " -8.39715058e-04 -4.29651246e-04]\n",
      "2025-01-12 01:20:11.391Z cobraCoach       20 cobraCoach.py:877 Finished converting angle to steps, sending command to moveSteps (constantOntime).\n",
      "2025-01-12 01:20:11.628Z cobraCoach       20 cobraCoach.py:587 Sending step numbers to FPGA for moving cobra.\n",
      "2025-01-12 01:20:11.736Z cobraCoach       20 cobraCoach.py:601 cobra control FPGA operation done.\n",
      "2025-01-12 01:20:11.882Z pfi              40 pfi.py:896 Some theta angles are out of range\n",
      "2025-01-12 01:20:11.884Z pfi              40 pfi.py:899 Some phi angles are out of range\n",
      "2025-01-12 01:20:12.062Z cobraCoach       30 cobraCoach.py:675 Cobra#1303 is too far from center\n",
      "2025-01-12 01:20:12.078Z cobraCoach       30 cobraCoach.py:675 Cobra#1790 is too far from center\n",
      "2025-01-12 01:20:12.101Z engineer         20 engineer.py:433 done: [   0    1    2 ... 2391 2392 2393], 14 left\n",
      "2025-01-12 01:20:12.103Z cobraCoach       30 cobraCoach.py:1003 Last phi angle is unknown, not moving: [1459]\n",
      "2025-01-12 01:20:12.105Z cobraCoach       20 cobraCoach.py:1009 Moving deltaTheta = [-1.94233989e-04 -5.14191722e-04 -6.14804362e-04  1.42413045e-04\n",
      " -1.01748456e-05  2.69975771e-06 -1.01748456e-05 -1.01748455e-05\n",
      " -1.01748456e-05 -2.97707652e-04 -1.03632841e-03 -1.01748456e-05\n",
      " -3.80200480e-04 -1.05065440e-04]\n",
      "2025-01-12 01:20:12.106Z cobraCoach       20 cobraCoach.py:1010 Moving deltaPhi = [-2.96687409 -2.96705963 -2.9670596  -0.04164008 -2.96705959 -6.10865247\n",
      "  0.         -2.96705964 -2.96705969 -0.06341524 -2.96602327 -6.10865247\n",
      " -2.9670596  -0.0498779 ]\n",
      "2025-01-12 01:20:12.112Z cobraCoach       30 cobraCoach.py:846 Last phi angle is unknown: [1459]\n",
      "2025-01-12 01:20:12.114Z cobraCoach       20 cobraCoach.py:877 Finished converting angle to steps, sending command to moveSteps (constantOntime).\n",
      "2025-01-12 01:20:12.120Z cobraCoach       20 cobraCoach.py:587 Sending step numbers to FPGA for moving cobra.\n",
      "2025-01-12 01:20:12.123Z cobraCoach       20 cobraCoach.py:601 cobra control FPGA operation done.\n",
      "2025-01-12 01:20:12.149Z pfi              40 pfi.py:896 Some theta angles are out of range\n",
      "2025-01-12 01:20:12.150Z pfi              40 pfi.py:899 Some phi angles are out of range\n",
      "2025-01-12 01:20:12.255Z cobraCoach       30 cobraCoach.py:675 Cobra#344 is too far from center\n",
      "2025-01-12 01:20:12.256Z pfi              30 pfi.py:475 clipping scale adjustment from 0.2573481031895782 to 0.3\n",
      "2025-01-12 01:20:12.258Z cobraCoach       30 cobraCoach.py:679 Cobra#1460 is too close to center\n",
      "2025-01-12 01:20:12.261Z pfi              30 pfi.py:475 clipping scale adjustment from 0.26154231110049525 to 0.3\n",
      "2025-01-12 01:20:12.268Z cobraCoach       20 cobraCoach.py:1009 Moving deltaTheta = [-1.94233989e-04 -5.14191722e-04 -6.14804362e-04  1.42413045e-04\n",
      " -1.01748456e-05 -1.09852569e+00 -1.01748456e-05 -1.01748455e-05\n",
      " -1.01748456e-05 -2.97707652e-04 -1.03632841e-03 -1.07143418e+00\n",
      " -3.80200480e-04 -1.05065440e-04]\n",
      "2025-01-12 01:20:12.270Z cobraCoach       20 cobraCoach.py:1010 Moving deltaPhi = [-6.10865247 -2.96705963 -2.9670596  -0.04164008 -2.96705959 -1.71883189\n",
      " -2.96705973 -2.96705964 -2.96705969 -0.06341524 -2.96705964 -1.88389766\n",
      " -2.9670596  -0.0498779 ]\n",
      "2025-01-12 01:20:12.276Z cobraCoach       20 cobraCoach.py:877 Finished converting angle to steps, sending command to moveSteps (constantOntime).\n",
      "2025-01-12 01:20:12.284Z cobraCoach       20 cobraCoach.py:587 Sending step numbers to FPGA for moving cobra.\n",
      "2025-01-12 01:20:12.288Z cobraCoach       20 cobraCoach.py:601 cobra control FPGA operation done.\n",
      "2025-01-12 01:20:12.319Z pfi              40 pfi.py:896 Some theta angles are out of range\n",
      "2025-01-12 01:20:12.320Z pfi              40 pfi.py:899 Some phi angles are out of range\n",
      "2025-01-12 01:20:12.430Z pfi              30 pfi.py:475 clipping scale adjustment from 0.2859424141191533 to 0.3\n",
      "2025-01-12 01:20:12.431Z cobraCoach       30 cobraCoach.py:675 Cobra#1303 is too far from center\n",
      "2025-01-12 01:20:12.432Z pfi              30 pfi.py:475 clipping scale adjustment from 0.29999999904403885 to 0.3\n",
      "2025-01-12 01:20:12.433Z cobraCoach       30 cobraCoach.py:675 Cobra#1790 is too far from center\n",
      "2025-01-12 01:20:12.438Z cobraCoach       30 cobraCoach.py:1003 Last phi angle is unknown, not moving: [1459]\n",
      "2025-01-12 01:20:12.440Z cobraCoach       20 cobraCoach.py:1009 Moving deltaTheta = [-3.21863813e-01 -5.14191722e-04 -6.14804362e-04  1.42413045e-04\n",
      " -1.01748456e-05 -6.82685060e-01 -1.01748456e-05 -1.01748455e-05\n",
      " -1.01748456e-05 -2.97707652e-04 -1.03632841e-03 -3.25590772e-01\n",
      " -3.80200480e-04 -1.05065440e-04]\n",
      "2025-01-12 01:20:12.441Z cobraCoach       20 cobraCoach.py:1010 Moving deltaPhi = [-2.64219266 -2.96705963 -2.9670596  -0.04164008 -2.96705959 -6.10865247\n",
      "  0.         -2.96705964 -2.96705969 -0.06341524 -2.96705964 -6.10865247\n",
      " -2.9670596  -0.0498779 ]\n",
      "2025-01-12 01:20:12.444Z cobraCoach       30 cobraCoach.py:846 Last phi angle is unknown: [1459]\n",
      "2025-01-12 01:20:12.447Z cobraCoach       20 cobraCoach.py:877 Finished converting angle to steps, sending command to moveSteps (constantOntime).\n",
      "2025-01-12 01:20:12.455Z cobraCoach       20 cobraCoach.py:587 Sending step numbers to FPGA for moving cobra.\n",
      "2025-01-12 01:20:12.457Z cobraCoach       20 cobraCoach.py:601 cobra control FPGA operation done.\n",
      "2025-01-12 01:20:12.486Z pfi              40 pfi.py:896 Some theta angles are out of range\n",
      "2025-01-12 01:20:12.487Z pfi              40 pfi.py:899 Some phi angles are out of range\n",
      "2025-01-12 01:20:12.591Z pfi              30 pfi.py:475 clipping scale adjustment from 0.22521650184055392 to 0.3\n",
      "2025-01-12 01:20:12.592Z pfi              30 pfi.py:475 clipping scale adjustment from 0.2573481031895782 to 0.3\n",
      "2025-01-12 01:20:12.593Z cobraCoach       30 cobraCoach.py:679 Cobra#1460 is too close to center\n",
      "2025-01-12 01:20:12.595Z pfi              30 pfi.py:475 clipping scale adjustment from 0.22664453700152026 to 0.3\n",
      "2025-01-12 01:20:12.596Z pfi              30 pfi.py:475 clipping scale adjustment from 0.26154231110049525 to 0.3\n",
      "2025-01-12 01:20:12.601Z cobraCoach       20 cobraCoach.py:1009 Moving deltaTheta = [-2.17122172e-04 -5.14191722e-04 -6.14804362e-04  1.42413045e-04\n",
      " -1.01748456e-05  4.51698156e+00 -1.01748456e-05 -1.01748455e-05\n",
      " -1.01748456e-05 -2.97707652e-04 -1.03632841e-03  5.00301130e+00\n",
      " -3.80200480e-04 -1.05065440e-04]\n",
      "2025-01-12 01:20:12.602Z cobraCoach       20 cobraCoach.py:1010 Moving deltaPhi = [-2.96705965 -2.96705963 -2.9670596  -0.04164008 -2.96705959 -1.71883189\n",
      " -2.96705973 -2.96705964 -2.96705969 -0.06341524 -2.96705964 -1.88389766\n",
      " -2.9670596  -0.0498779 ]\n",
      "2025-01-12 01:20:12.607Z cobraCoach       20 cobraCoach.py:877 Finished converting angle to steps, sending command to moveSteps (constantOntime).\n",
      "2025-01-12 01:20:12.615Z cobraCoach       20 cobraCoach.py:587 Sending step numbers to FPGA for moving cobra.\n",
      "2025-01-12 01:20:12.618Z cobraCoach       20 cobraCoach.py:601 cobra control FPGA operation done.\n",
      "2025-01-12 01:20:12.644Z pfi              40 pfi.py:896 Some theta angles are out of range\n",
      "2025-01-12 01:20:12.646Z pfi              40 pfi.py:899 Some phi angles are out of range\n",
      "2025-01-12 01:20:12.744Z cobraCoach       30 cobraCoach.py:675 Cobra#1790 is too far from center\n",
      "2025-01-12 01:20:12.744Z pfi              30 pfi.py:475 clipping scale adjustment from 0.29999999510714737 to 0.3\n",
      "2025-01-12 01:20:12.748Z cobraCoach       30 cobraCoach.py:1003 Last phi angle is unknown, not moving: [1459]\n",
      "2025-01-12 01:20:12.748Z cobraCoach       20 cobraCoach.py:1009 Moving deltaTheta = [-2.17122172e-04 -5.14191722e-04 -6.14804362e-04  1.42413045e-04\n",
      " -1.01748456e-05 -4.10811338e-03 -1.01748456e-05 -1.01748455e-05\n",
      " -1.01748456e-05 -2.97707652e-04 -1.03632841e-03  7.85623389e-01\n",
      " -3.80200480e-04 -1.05065440e-04]\n",
      "2025-01-12 01:20:12.749Z cobraCoach       20 cobraCoach.py:1010 Moving deltaPhi = [-2.96705965 -2.96705963 -2.9670596  -0.04164008 -2.96705959 -2.96705962\n",
      "  0.         -2.96705964 -2.96705969 -0.06341524 -2.96705964 -6.10865247\n",
      " -2.9670596  -0.0498779 ]\n",
      "2025-01-12 01:20:12.752Z cobraCoach       30 cobraCoach.py:846 Last phi angle is unknown: [1459]\n",
      "2025-01-12 01:20:12.754Z cobraCoach       20 cobraCoach.py:877 Finished converting angle to steps, sending command to moveSteps (constantOntime).\n",
      "2025-01-12 01:20:12.763Z cobraCoach       20 cobraCoach.py:587 Sending step numbers to FPGA for moving cobra.\n",
      "2025-01-12 01:20:12.767Z cobraCoach       20 cobraCoach.py:601 cobra control FPGA operation done.\n",
      "2025-01-12 01:20:12.794Z pfi              40 pfi.py:896 Some theta angles are out of range\n",
      "2025-01-12 01:20:12.795Z pfi              40 pfi.py:899 Some phi angles are out of range\n",
      "2025-01-12 01:20:12.901Z pfi              30 pfi.py:475 clipping scale adjustment from 0.2250489700875823 to 0.3\n",
      "2025-01-12 01:20:12.902Z cobraCoach       30 cobraCoach.py:679 Cobra#1460 is too close to center\n",
      "2025-01-12 01:20:12.903Z pfi              30 pfi.py:475 clipping scale adjustment from 0.2561286605203101 to 0.3\n",
      "2025-01-12 01:20:12.906Z pfi              30 pfi.py:475 clipping scale adjustment from 0.26154231110049525 to 0.3\n",
      "2025-01-12 01:20:12.910Z engineer         30 engineer.py:442 14 cobras did not finish: [ 343  442  492  578  737 1302 1459 1493 1538 1587 1636 1789 1791 1969], [4.67 4.67 4.67 0.11 4.67 4.67 0.82 4.67 4.67 0.16 4.67 4.2  4.67 0.11]\n",
      "2025-01-12 01:20:12.936Z pfi              40 pfi.py:896 Some theta angles are out of range\n",
      "2025-01-12 01:20:12.938Z pfi              40 pfi.py:899 Some phi angles are out of range\n",
      "2025-01-12 01:20:13.033Z pfi              40 pfi.py:896 Some theta angles are out of range\n",
      "2025-01-12 01:20:13.035Z pfi              40 pfi.py:899 Some phi angles are out of range\n",
      "2025-01-12 01:20:13.106Z pfi              40 pfi.py:896 Some theta angles are out of range\n",
      "2025-01-12 01:20:13.108Z pfi              40 pfi.py:899 Some phi angles are out of range\n",
      "2025-01-12 01:20:13.152Z pfi              40 pfi.py:896 Some theta angles are out of range\n",
      "2025-01-12 01:20:13.154Z pfi              40 pfi.py:899 Some phi angles are out of range\n",
      "2025-01-12 01:20:13.205Z pfi              40 pfi.py:896 Some theta angles are out of range\n",
      "2025-01-12 01:20:13.206Z pfi              40 pfi.py:899 Some phi angles are out of range\n",
      "2025-01-12 01:20:13.255Z pfi              40 pfi.py:896 Some theta angles are out of range\n",
      "2025-01-12 01:20:13.257Z pfi              40 pfi.py:899 Some phi angles are out of range\n",
      "2025-01-12 01:20:13.305Z pfi              40 pfi.py:896 Some theta angles are out of range\n",
      "2025-01-12 01:20:13.306Z pfi              40 pfi.py:899 Some phi angles are out of range\n",
      "2025-01-12 01:20:13.356Z pfi              40 pfi.py:896 Some theta angles are out of range\n",
      "2025-01-12 01:20:13.357Z pfi              40 pfi.py:899 Some phi angles are out of range\n",
      "2025-01-12 01:20:13.407Z pfi              40 pfi.py:930 Some theta angles are out of range\n",
      "2025-01-12 01:20:13.468Z pfi              40 pfi.py:930 Some theta angles are out of range\n",
      "2025-01-12 01:20:13.522Z pfi              40 pfi.py:930 Some theta angles are out of range\n",
      "2025-01-12 01:20:13.563Z pfi              40 pfi.py:930 Some theta angles are out of range\n",
      "2025-01-12 01:20:13.606Z pfi              40 pfi.py:930 Some theta angles are out of range\n",
      "2025-01-12 01:20:13.646Z pfi              40 pfi.py:930 Some theta angles are out of range\n",
      "2025-01-12 01:20:13.687Z pfi              40 pfi.py:930 Some theta angles are out of range\n",
      "2025-01-12 01:20:13.729Z pfi              40 pfi.py:930 Some theta angles are out of range\n"
     ]
    },
    {
     "name": "stdout",
     "output_type": "stream",
     "text": [
      "ERROR: detected end point collision, which should be impossible\n",
      "trajectory collisions found: 6\n",
      "Set parameter Presolve to value 1\n"
     ]
    },
    {
     "name": "stderr",
     "output_type": "stream",
     "text": [
      "2025-01-12 01:20:17.999Z gurobipy         20 netflow.py:117 Set parameter Presolve to value 1\n"
     ]
    },
    {
     "name": "stdout",
     "output_type": "stream",
     "text": [
      "Set parameter Method to value 4\n"
     ]
    },
    {
     "name": "stderr",
     "output_type": "stream",
     "text": [
      "2025-01-12 01:20:18.001Z gurobipy         20 netflow.py:117 Set parameter Method to value 4\n"
     ]
    },
    {
     "name": "stdout",
     "output_type": "stream",
     "text": [
      "Set parameter DegenMoves to value 0\n"
     ]
    },
    {
     "name": "stderr",
     "output_type": "stream",
     "text": [
      "2025-01-12 01:20:18.004Z gurobipy         20 netflow.py:117 Set parameter DegenMoves to value 0\n"
     ]
    },
    {
     "name": "stdout",
     "output_type": "stream",
     "text": [
      "Set parameter Heuristics to value 0.8\n"
     ]
    },
    {
     "name": "stderr",
     "output_type": "stream",
     "text": [
      "2025-01-12 01:20:18.006Z gurobipy         20 netflow.py:117 Set parameter Heuristics to value 0.8\n"
     ]
    },
    {
     "name": "stdout",
     "output_type": "stream",
     "text": [
      "Set parameter MIPGap to value 0.05\n"
     ]
    },
    {
     "name": "stderr",
     "output_type": "stream",
     "text": [
      "2025-01-12 01:20:18.009Z gurobipy         20 netflow.py:117 Set parameter MIPGap to value 0.05\n"
     ]
    },
    {
     "name": "stdout",
     "output_type": "stream",
     "text": [
      "Creating network topology\n",
      "  exposure 1\n",
      "Calculating visibilities\n",
      "adding constraints\n",
      "adding collision constraints\n",
      "adding forbidden pair constraints\n",
      "Gurobi Optimizer version 10.0.1 build v10.0.1rc0 (mac64[x86])\n"
     ]
    },
    {
     "name": "stderr",
     "output_type": "stream",
     "text": [
      "2025-01-12 01:20:28.929Z gurobipy         20 netflow.py:149 Gurobi Optimizer version 10.0.1 build v10.0.1rc0 (mac64[x86])\n"
     ]
    },
    {
     "name": "stdout",
     "output_type": "stream",
     "text": [
      "\n"
     ]
    },
    {
     "name": "stderr",
     "output_type": "stream",
     "text": [
      "2025-01-12 01:20:28.930Z gurobipy         20 netflow.py:149 \n"
     ]
    },
    {
     "name": "stdout",
     "output_type": "stream",
     "text": [
      "CPU model: Intel(R) Core(TM) i7-8569U CPU @ 2.80GHz\n"
     ]
    },
    {
     "name": "stderr",
     "output_type": "stream",
     "text": [
      "2025-01-12 01:20:28.933Z gurobipy         20 netflow.py:149 CPU model: Intel(R) Core(TM) i7-8569U CPU @ 2.80GHz\n"
     ]
    },
    {
     "name": "stdout",
     "output_type": "stream",
     "text": [
      "Thread count: 4 physical cores, 8 logical processors, using up to 8 threads\n"
     ]
    },
    {
     "name": "stderr",
     "output_type": "stream",
     "text": [
      "2025-01-12 01:20:28.934Z gurobipy         20 netflow.py:149 Thread count: 4 physical cores, 8 logical processors, using up to 8 threads\n"
     ]
    },
    {
     "name": "stdout",
     "output_type": "stream",
     "text": [
      "\n"
     ]
    },
    {
     "name": "stderr",
     "output_type": "stream",
     "text": [
      "2025-01-12 01:20:28.937Z gurobipy         20 netflow.py:149 \n"
     ]
    },
    {
     "name": "stdout",
     "output_type": "stream",
     "text": [
      "Academic license 2379863 - for non-commercial use only - registered to ji___@ipmu.jp\n"
     ]
    },
    {
     "name": "stderr",
     "output_type": "stream",
     "text": [
      "2025-01-12 01:20:28.941Z gurobipy         20 netflow.py:149 Academic license 2379863 - for non-commercial use only - registered to ji___@ipmu.jp\n"
     ]
    },
    {
     "name": "stdout",
     "output_type": "stream",
     "text": [
      "Optimize a model with 139856 rows, 72836 columns and 362086 nonzeros\n"
     ]
    },
    {
     "name": "stderr",
     "output_type": "stream",
     "text": [
      "2025-01-12 01:20:28.943Z gurobipy         20 netflow.py:149 Optimize a model with 139856 rows, 72836 columns and 362086 nonzeros\n"
     ]
    },
    {
     "name": "stdout",
     "output_type": "stream",
     "text": [
      "Model fingerprint: 0x59f14d6b\n"
     ]
    },
    {
     "name": "stderr",
     "output_type": "stream",
     "text": [
      "2025-01-12 01:20:28.948Z gurobipy         20 netflow.py:149 Model fingerprint: 0x59f14d6b\n"
     ]
    },
    {
     "name": "stdout",
     "output_type": "stream",
     "text": [
      "Variable types: 1 continuous, 72835 integer (72833 binary)\n"
     ]
    },
    {
     "name": "stderr",
     "output_type": "stream",
     "text": [
      "2025-01-12 01:20:28.950Z gurobipy         20 netflow.py:149 Variable types: 1 continuous, 72835 integer (72833 binary)\n"
     ]
    },
    {
     "name": "stdout",
     "output_type": "stream",
     "text": [
      "Coefficient statistics:\n"
     ]
    },
    {
     "name": "stderr",
     "output_type": "stream",
     "text": [
      "2025-01-12 01:20:28.954Z gurobipy         20 netflow.py:149 Coefficient statistics:\n"
     ]
    },
    {
     "name": "stdout",
     "output_type": "stream",
     "text": [
      "  Matrix range     [1e+00, 1e+00]\n"
     ]
    },
    {
     "name": "stderr",
     "output_type": "stream",
     "text": [
      "2025-01-12 01:20:28.958Z gurobipy         20 netflow.py:149   Matrix range     [1e+00, 1e+00]\n"
     ]
    },
    {
     "name": "stdout",
     "output_type": "stream",
     "text": [
      "  Objective range  [1e-01, 1e+06]\n"
     ]
    },
    {
     "name": "stderr",
     "output_type": "stream",
     "text": [
      "2025-01-12 01:20:28.960Z gurobipy         20 netflow.py:149   Objective range  [1e-01, 1e+06]\n"
     ]
    },
    {
     "name": "stdout",
     "output_type": "stream",
     "text": [
      "  Bounds range     [1e+00, 1e+00]\n"
     ]
    },
    {
     "name": "stderr",
     "output_type": "stream",
     "text": [
      "2025-01-12 01:20:28.962Z gurobipy         20 netflow.py:149   Bounds range     [1e+00, 1e+00]\n"
     ]
    },
    {
     "name": "stdout",
     "output_type": "stream",
     "text": [
      "  RHS range        [1e+00, 4e+02]\n"
     ]
    },
    {
     "name": "stderr",
     "output_type": "stream",
     "text": [
      "2025-01-12 01:20:28.965Z gurobipy         20 netflow.py:149   RHS range        [1e+00, 4e+02]\n"
     ]
    },
    {
     "name": "stdout",
     "output_type": "stream",
     "text": [
      "Found heuristic solution: objective 6.000000e+08\n"
     ]
    },
    {
     "name": "stderr",
     "output_type": "stream",
     "text": [
      "2025-01-12 01:20:28.993Z gurobipy         20 netflow.py:149 Found heuristic solution: objective 6.000000e+08\n"
     ]
    },
    {
     "name": "stdout",
     "output_type": "stream",
     "text": [
      "Presolve removed 139004 rows and 69795 columns\n"
     ]
    },
    {
     "name": "stderr",
     "output_type": "stream",
     "text": [
      "2025-01-12 01:20:29.722Z gurobipy         20 netflow.py:149 Presolve removed 139004 rows and 69795 columns\n"
     ]
    },
    {
     "name": "stdout",
     "output_type": "stream",
     "text": [
      "Presolve time: 0.70s\n"
     ]
    },
    {
     "name": "stderr",
     "output_type": "stream",
     "text": [
      "2025-01-12 01:20:29.723Z gurobipy         20 netflow.py:149 Presolve time: 0.70s\n"
     ]
    },
    {
     "name": "stdout",
     "output_type": "stream",
     "text": [
      "Presolved: 852 rows, 3041 columns, 4926 nonzeros\n"
     ]
    },
    {
     "name": "stderr",
     "output_type": "stream",
     "text": [
      "2025-01-12 01:20:29.731Z gurobipy         20 netflow.py:149 Presolved: 852 rows, 3041 columns, 4926 nonzeros\n"
     ]
    },
    {
     "name": "stdout",
     "output_type": "stream",
     "text": [
      "Variable types: 0 continuous, 3041 integer (3039 binary)\n"
     ]
    },
    {
     "name": "stderr",
     "output_type": "stream",
     "text": [
      "2025-01-12 01:20:29.737Z gurobipy         20 netflow.py:149 Variable types: 0 continuous, 3041 integer (3039 binary)\n"
     ]
    },
    {
     "name": "stdout",
     "output_type": "stream",
     "text": [
      "Found heuristic solution: objective 5.980000e+08\n"
     ]
    },
    {
     "name": "stderr",
     "output_type": "stream",
     "text": [
      "2025-01-12 01:20:29.740Z gurobipy         20 netflow.py:149 Found heuristic solution: objective 5.980000e+08\n"
     ]
    },
    {
     "name": "stdout",
     "output_type": "stream",
     "text": [
      "Deterministic concurrent LP optimizer: dual simplex and barrier\n"
     ]
    },
    {
     "name": "stderr",
     "output_type": "stream",
     "text": [
      "2025-01-12 01:20:29.751Z gurobipy         20 netflow.py:149 Deterministic concurrent LP optimizer: dual simplex and barrier\n"
     ]
    },
    {
     "name": "stdout",
     "output_type": "stream",
     "text": [
      "Showing barrier log only...\n"
     ]
    },
    {
     "name": "stderr",
     "output_type": "stream",
     "text": [
      "2025-01-12 01:20:29.754Z gurobipy         20 netflow.py:149 Showing barrier log only...\n"
     ]
    },
    {
     "name": "stdout",
     "output_type": "stream",
     "text": [
      "\n"
     ]
    },
    {
     "name": "stderr",
     "output_type": "stream",
     "text": [
      "2025-01-12 01:20:29.756Z gurobipy         20 netflow.py:149 \n"
     ]
    },
    {
     "name": "stdout",
     "output_type": "stream",
     "text": [
      "Root barrier log...\n"
     ]
    },
    {
     "name": "stderr",
     "output_type": "stream",
     "text": [
      "2025-01-12 01:20:29.760Z gurobipy         20 netflow.py:149 Root barrier log...\n"
     ]
    },
    {
     "name": "stdout",
     "output_type": "stream",
     "text": [
      "\n"
     ]
    },
    {
     "name": "stderr",
     "output_type": "stream",
     "text": [
      "2025-01-12 01:20:29.763Z gurobipy         20 netflow.py:149 \n"
     ]
    },
    {
     "name": "stdout",
     "output_type": "stream",
     "text": [
      "Ordering time: 0.00s\n"
     ]
    },
    {
     "name": "stderr",
     "output_type": "stream",
     "text": [
      "2025-01-12 01:20:29.766Z gurobipy         20 netflow.py:149 Ordering time: 0.00s\n"
     ]
    },
    {
     "name": "stdout",
     "output_type": "stream",
     "text": [
      "\n"
     ]
    },
    {
     "name": "stderr",
     "output_type": "stream",
     "text": [
      "2025-01-12 01:20:29.768Z gurobipy         20 netflow.py:149 \n"
     ]
    },
    {
     "name": "stdout",
     "output_type": "stream",
     "text": [
      "Barrier statistics:\n"
     ]
    },
    {
     "name": "stderr",
     "output_type": "stream",
     "text": [
      "2025-01-12 01:20:29.771Z gurobipy         20 netflow.py:149 Barrier statistics:\n"
     ]
    },
    {
     "name": "stdout",
     "output_type": "stream",
     "text": [
      " AA' NZ     : 1.792e+03\n"
     ]
    },
    {
     "name": "stderr",
     "output_type": "stream",
     "text": [
      "2025-01-12 01:20:29.773Z gurobipy         20 netflow.py:149  AA' NZ     : 1.792e+03\n"
     ]
    },
    {
     "name": "stdout",
     "output_type": "stream",
     "text": [
      " Factor NZ  : 3.946e+03 (roughly 2 MB of memory)\n"
     ]
    },
    {
     "name": "stderr",
     "output_type": "stream",
     "text": [
      "2025-01-12 01:20:29.775Z gurobipy         20 netflow.py:149  Factor NZ  : 3.946e+03 (roughly 2 MB of memory)\n"
     ]
    },
    {
     "name": "stdout",
     "output_type": "stream",
     "text": [
      " Factor Ops : 2.889e+04 (less than 1 second per iteration)\n"
     ]
    },
    {
     "name": "stderr",
     "output_type": "stream",
     "text": [
      "2025-01-12 01:20:29.777Z gurobipy         20 netflow.py:149  Factor Ops : 2.889e+04 (less than 1 second per iteration)\n"
     ]
    },
    {
     "name": "stdout",
     "output_type": "stream",
     "text": [
      " Threads    : 1\n"
     ]
    },
    {
     "name": "stderr",
     "output_type": "stream",
     "text": [
      "2025-01-12 01:20:29.780Z gurobipy         20 netflow.py:149  Threads    : 1\n"
     ]
    },
    {
     "name": "stdout",
     "output_type": "stream",
     "text": [
      "\n"
     ]
    },
    {
     "name": "stderr",
     "output_type": "stream",
     "text": [
      "2025-01-12 01:20:29.783Z gurobipy         20 netflow.py:149 \n"
     ]
    },
    {
     "name": "stdout",
     "output_type": "stream",
     "text": [
      "                  Objective                Residual\n"
     ]
    },
    {
     "name": "stderr",
     "output_type": "stream",
     "text": [
      "2025-01-12 01:20:29.787Z gurobipy         20 netflow.py:149                   Objective                Residual\n"
     ]
    },
    {
     "name": "stdout",
     "output_type": "stream",
     "text": [
      "Iter       Primal          Dual         Primal    Dual     Compl     Time\n"
     ]
    },
    {
     "name": "stderr",
     "output_type": "stream",
     "text": [
      "2025-01-12 01:20:29.789Z gurobipy         20 netflow.py:149 Iter       Primal          Dual         Primal    Dual     Compl     Time\n"
     ]
    },
    {
     "name": "stdout",
     "output_type": "stream",
     "text": [
      "   0   3.76910506e+08 -2.44562128e+09  3.98e+01 3.71e+04  3.39e+07     1s\n"
     ]
    },
    {
     "name": "stderr",
     "output_type": "stream",
     "text": [
      "2025-01-12 01:20:29.791Z gurobipy         20 netflow.py:149    0   3.76910506e+08 -2.44562128e+09  3.98e+01 3.71e+04  3.39e+07     1s\n"
     ]
    },
    {
     "name": "stdout",
     "output_type": "stream",
     "text": [
      "\n"
     ]
    },
    {
     "name": "stderr",
     "output_type": "stream",
     "text": [
      "2025-01-12 01:20:29.793Z gurobipy         20 netflow.py:149 \n"
     ]
    },
    {
     "name": "stdout",
     "output_type": "stream",
     "text": [
      "Barrier performed 0 iterations in 0.85 seconds (0.35 work units)\n"
     ]
    },
    {
     "name": "stderr",
     "output_type": "stream",
     "text": [
      "2025-01-12 01:20:29.796Z gurobipy         20 netflow.py:149 Barrier performed 0 iterations in 0.85 seconds (0.35 work units)\n"
     ]
    },
    {
     "name": "stdout",
     "output_type": "stream",
     "text": [
      "Barrier solve interrupted - model solved by another algorithm\n"
     ]
    },
    {
     "name": "stderr",
     "output_type": "stream",
     "text": [
      "2025-01-12 01:20:29.798Z gurobipy         20 netflow.py:149 Barrier solve interrupted - model solved by another algorithm\n"
     ]
    },
    {
     "name": "stdout",
     "output_type": "stream",
     "text": [
      "\n"
     ]
    },
    {
     "name": "stderr",
     "output_type": "stream",
     "text": [
      "2025-01-12 01:20:29.800Z gurobipy         20 netflow.py:149 \n"
     ]
    },
    {
     "name": "stdout",
     "output_type": "stream",
     "text": [
      "Concurrent spin time: 0.04s\n"
     ]
    },
    {
     "name": "stderr",
     "output_type": "stream",
     "text": [
      "2025-01-12 01:20:29.802Z gurobipy         20 netflow.py:149 Concurrent spin time: 0.04s\n"
     ]
    },
    {
     "name": "stdout",
     "output_type": "stream",
     "text": [
      "\n"
     ]
    },
    {
     "name": "stderr",
     "output_type": "stream",
     "text": [
      "2025-01-12 01:20:29.804Z gurobipy         20 netflow.py:149 \n"
     ]
    },
    {
     "name": "stdout",
     "output_type": "stream",
     "text": [
      "Solved with dual simplex\n"
     ]
    },
    {
     "name": "stderr",
     "output_type": "stream",
     "text": [
      "2025-01-12 01:20:29.806Z gurobipy         20 netflow.py:149 Solved with dual simplex\n"
     ]
    },
    {
     "name": "stdout",
     "output_type": "stream",
     "text": [
      "\n"
     ]
    },
    {
     "name": "stderr",
     "output_type": "stream",
     "text": [
      "2025-01-12 01:20:29.811Z gurobipy         20 netflow.py:149 \n"
     ]
    },
    {
     "name": "stdout",
     "output_type": "stream",
     "text": [
      "Root relaxation: objective 1.044055e+02, 93 iterations, 0.07 seconds (0.00 work units)\n"
     ]
    },
    {
     "name": "stderr",
     "output_type": "stream",
     "text": [
      "2025-01-12 01:20:29.870Z gurobipy         20 netflow.py:149 Root relaxation: objective 1.044055e+02, 93 iterations, 0.07 seconds (0.00 work units)\n"
     ]
    },
    {
     "name": "stdout",
     "output_type": "stream",
     "text": [
      "\n"
     ]
    },
    {
     "name": "stderr",
     "output_type": "stream",
     "text": [
      "2025-01-12 01:20:29.896Z gurobipy         20 netflow.py:149 \n"
     ]
    },
    {
     "name": "stdout",
     "output_type": "stream",
     "text": [
      "    Nodes    |    Current Node    |     Objective Bounds      |     Work\n"
     ]
    },
    {
     "name": "stderr",
     "output_type": "stream",
     "text": [
      "2025-01-12 01:20:29.897Z gurobipy         20 netflow.py:149     Nodes    |    Current Node    |     Objective Bounds      |     Work\n"
     ]
    },
    {
     "name": "stdout",
     "output_type": "stream",
     "text": [
      " Expl Unexpl |  Obj  Depth IntInf | Incumbent    BestBd   Gap | It/Node Time\n"
     ]
    },
    {
     "name": "stderr",
     "output_type": "stream",
     "text": [
      "2025-01-12 01:20:29.899Z gurobipy         20 netflow.py:149  Expl Unexpl |  Obj  Depth IntInf | Incumbent    BestBd   Gap | It/Node Time\n"
     ]
    },
    {
     "name": "stdout",
     "output_type": "stream",
     "text": [
      "\n"
     ]
    },
    {
     "name": "stderr",
     "output_type": "stream",
     "text": [
      "2025-01-12 01:20:29.901Z gurobipy         20 netflow.py:149 \n"
     ]
    },
    {
     "name": "stdout",
     "output_type": "stream",
     "text": [
      "*    0     0               0     104.4054902  104.40549  0.00%     -    0s\n"
     ]
    },
    {
     "name": "stderr",
     "output_type": "stream",
     "text": [
      "2025-01-12 01:20:29.902Z gurobipy         20 netflow.py:149 *    0     0               0     104.4054902  104.40549  0.00%     -    0s\n"
     ]
    },
    {
     "name": "stdout",
     "output_type": "stream",
     "text": [
      "\n"
     ]
    },
    {
     "name": "stderr",
     "output_type": "stream",
     "text": [
      "2025-01-12 01:20:29.920Z gurobipy         20 netflow.py:149 \n"
     ]
    },
    {
     "name": "stdout",
     "output_type": "stream",
     "text": [
      "Explored 1 nodes (93 simplex iterations) in 0.98 seconds (0.35 work units)\n"
     ]
    },
    {
     "name": "stderr",
     "output_type": "stream",
     "text": [
      "2025-01-12 01:20:29.923Z gurobipy         20 netflow.py:149 Explored 1 nodes (93 simplex iterations) in 0.98 seconds (0.35 work units)\n"
     ]
    },
    {
     "name": "stdout",
     "output_type": "stream",
     "text": [
      "Thread count was 8 (of 8 available processors)\n"
     ]
    },
    {
     "name": "stderr",
     "output_type": "stream",
     "text": [
      "2025-01-12 01:20:29.926Z gurobipy         20 netflow.py:149 Thread count was 8 (of 8 available processors)\n"
     ]
    },
    {
     "name": "stdout",
     "output_type": "stream",
     "text": [
      "\n"
     ]
    },
    {
     "name": "stderr",
     "output_type": "stream",
     "text": [
      "2025-01-12 01:20:29.927Z gurobipy         20 netflow.py:149 \n"
     ]
    },
    {
     "name": "stdout",
     "output_type": "stream",
     "text": [
      "Solution count 3: 104.405 5.98e+08 6e+08 \n"
     ]
    },
    {
     "name": "stderr",
     "output_type": "stream",
     "text": [
      "2025-01-12 01:20:29.929Z gurobipy         20 netflow.py:149 Solution count 3: 104.405 5.98e+08 6e+08 \n"
     ]
    },
    {
     "name": "stdout",
     "output_type": "stream",
     "text": [
      "\n"
     ]
    },
    {
     "name": "stderr",
     "output_type": "stream",
     "text": [
      "2025-01-12 01:20:29.932Z gurobipy         20 netflow.py:149 \n"
     ]
    },
    {
     "name": "stdout",
     "output_type": "stream",
     "text": [
      "Optimal solution found (tolerance 5.00e-02)\n"
     ]
    },
    {
     "name": "stderr",
     "output_type": "stream",
     "text": [
      "2025-01-12 01:20:29.934Z gurobipy         20 netflow.py:149 Optimal solution found (tolerance 5.00e-02)\n"
     ]
    },
    {
     "name": "stdout",
     "output_type": "stream",
     "text": [
      "Best objective 1.044054901506e+02, best bound 1.044054901506e+02, gap 0.0000%\n"
     ]
    },
    {
     "name": "stderr",
     "output_type": "stream",
     "text": [
      "2025-01-12 01:20:29.938Z gurobipy         20 netflow.py:149 Best objective 1.044054901506e+02, best bound 1.044054901506e+02, gap 0.0000%\n"
     ]
    },
    {
     "name": "stdout",
     "output_type": "stream",
     "text": [
      "Checking for trajectory collisions\n"
     ]
    },
    {
     "name": "stderr",
     "output_type": "stream",
     "text": [
      "2025-01-12 01:20:30.475Z pfi              40 pfi.py:896 Some theta angles are out of range\n",
      "2025-01-12 01:20:30.476Z pfi              40 pfi.py:899 Some phi angles are out of range\n",
      "2025-01-12 01:20:30.589Z pfi              40 pfi.py:899 Some phi angles are out of range\n",
      "2025-01-12 01:20:30.626Z pfi              40 pfi.py:899 Some phi angles are out of range\n",
      "2025-01-12 01:20:30.630Z engineer         20 engineer.py:395 Move theta arms to angle=[360.  360.  270.9 ... 360.  360.  360. ] degree\n",
      "2025-01-12 01:20:30.631Z engineer         20 engineer.py:396 Move phi arms to angle=[11.09 24.48 35.88 ...  8.43 11.99  9.16] degree\n",
      "2025-01-12 01:20:30.632Z engineer         20 engineer.py:398 Checking passed homed argument = True\n",
      "2025-01-12 01:20:30.633Z engineer         20 engineer.py:402 Move theta arms CW and phi arms CCW to the hard stops\n",
      "2025-01-12 01:20:30.659Z cobraCoach       20 cobraCoach.py:1065 home cobras: theta=10000, phi=-5000\n",
      "2025-01-12 01:20:30.683Z pfi              40 pfi.py:899 Some phi angles are out of range\n",
      "2025-01-12 01:20:30.715Z pfi              40 pfi.py:899 Some phi angles are out of range\n",
      "2025-01-12 01:20:30.742Z cobraCoach       20 cobraCoach.py:1009 Moving deltaTheta = [-0.29458444 -0.38204686 -1.91112292 ... -0.40597169 -0.4013664\n",
      " -0.41592376]\n",
      "2025-01-12 01:20:30.743Z cobraCoach       20 cobraCoach.py:1010 Moving deltaPhi = [0.19361448 0.42723261 0.6262403  ... 0.14708474 0.20932294 0.15978886]\n",
      "2025-01-12 01:20:31.009Z cobraCoach       20 cobraCoach.py:877 Finished converting angle to steps, sending command to moveSteps (constantOntime).\n",
      "2025-01-12 01:20:31.543Z cobraCoach       20 cobraCoach.py:587 Sending step numbers to FPGA for moving cobra.\n",
      "2025-01-12 01:20:31.652Z cobraCoach       20 cobraCoach.py:601 cobra control FPGA operation done.\n",
      "2025-01-12 01:20:31.676Z pfi              40 pfi.py:896 Some theta angles are out of range\n",
      "2025-01-12 01:20:31.677Z pfi              40 pfi.py:899 Some phi angles are out of range\n",
      "2025-01-12 01:20:31.790Z cobraCoach       30 cobraCoach.py:675 Cobra#344 is too far from center\n",
      "2025-01-12 01:20:31.794Z cobraCoach       30 cobraCoach.py:675 Cobra#443 is too far from center\n",
      "2025-01-12 01:20:31.796Z cobraCoach       30 cobraCoach.py:675 Cobra#493 is too far from center\n",
      "2025-01-12 01:20:31.822Z cobraCoach       30 cobraCoach.py:675 Cobra#1303 is too far from center\n",
      "2025-01-12 01:20:31.833Z cobraCoach       30 cobraCoach.py:675 Cobra#1637 is too far from center\n",
      "2025-01-12 01:20:31.838Z cobraCoach       30 cobraCoach.py:675 Cobra#1790 is too far from center\n",
      "2025-01-12 01:20:31.840Z cobraCoach       30 cobraCoach.py:675 Cobra#1792 is too far from center\n",
      "2025-01-12 01:20:31.862Z engineer         20 engineer.py:433 done: [   0    1    2 ... 2391 2392 2393], 14 left\n",
      "2025-01-12 01:20:31.864Z cobraCoach       30 cobraCoach.py:1003 Last phi angle is unknown, not moving: [1459]\n",
      "2025-01-12 01:20:31.865Z cobraCoach       20 cobraCoach.py:1009 Moving deltaTheta = [-1.01748456e-05 -1.01748456e-05 -1.01748456e-05  1.42413045e-04\n",
      " -1.01748456e-05 -1.01748456e-05 -1.01748456e-05 -1.01748455e-05\n",
      " -1.01748456e-05  6.92683126e-04 -1.01748455e-05 -1.01748456e-05\n",
      " -1.01748456e-05  1.10228624e-03]\n",
      "2025-01-12 01:20:31.866Z cobraCoach       20 cobraCoach.py:1010 Moving deltaPhi = [-6.10865247 -6.10865247 -6.10865247 -0.04164008 -2.96705959 -6.10865247\n",
      "  0.         -2.96705964 -2.96705969 -0.06341524 -6.10865247 -6.10865247\n",
      " -6.10865247 -0.0498779 ]\n",
      "2025-01-12 01:20:31.870Z cobraCoach       30 cobraCoach.py:846 Last phi angle is unknown: [1459]\n",
      "2025-01-12 01:20:31.872Z cobraCoach       20 cobraCoach.py:877 Finished converting angle to steps, sending command to moveSteps (constantOntime).\n",
      "2025-01-12 01:20:31.879Z cobraCoach       20 cobraCoach.py:587 Sending step numbers to FPGA for moving cobra.\n",
      "2025-01-12 01:20:31.882Z cobraCoach       20 cobraCoach.py:601 cobra control FPGA operation done.\n",
      "2025-01-12 01:20:31.906Z pfi              40 pfi.py:896 Some theta angles are out of range\n",
      "2025-01-12 01:20:31.907Z pfi              40 pfi.py:899 Some phi angles are out of range\n",
      "2025-01-12 01:20:32.007Z cobraCoach       30 cobraCoach.py:675 Cobra#344 is too far from center\n",
      "2025-01-12 01:20:32.008Z cobraCoach       30 cobraCoach.py:679 Cobra#1460 is too close to center\n",
      "2025-01-12 01:20:32.010Z cobraCoach       30 cobraCoach.py:675 Cobra#1637 is too far from center\n",
      "2025-01-12 01:20:32.011Z cobraCoach       30 cobraCoach.py:675 Cobra#1790 is too far from center\n",
      "2025-01-12 01:20:32.016Z engineer         30 engineer.py:442 14 cobras did not finish: [ 343  442  492  578  737 1302 1459 1493 1538 1587 1636 1789 1791 1969], [4.67 4.67 4.67 0.11 4.67 4.67 0.82 4.67 4.67 0.16 4.67 4.67 4.67 0.11]\n",
      "2025-01-12 01:20:32.043Z pfi              40 pfi.py:899 Some phi angles are out of range\n",
      "2025-01-12 01:20:32.046Z engineer         20 engineer.py:395 Move theta arms to angle=[360.  360.  270.9 ... 360.  360.  360. ] degree\n",
      "2025-01-12 01:20:32.047Z engineer         20 engineer.py:396 Move phi arms to angle=[11.09 24.48 35.88 ...  8.43 11.99  9.16] degree\n",
      "2025-01-12 01:20:32.048Z engineer         20 engineer.py:398 Checking passed homed argument = False\n",
      "2025-01-12 01:20:32.081Z cobraCoach       20 cobraCoach.py:1009 Moving deltaTheta = [-0.00026719 -0.0001518   0.00013482 ... -0.00025479  0.00038417\n",
      " -0.000724  ]\n",
      "2025-01-12 01:20:32.082Z cobraCoach       20 cobraCoach.py:1010 Moving deltaPhi = [ 8.60699099e-05 -8.34333106e-04 -3.81240990e-04 ...  6.56574960e-04\n",
      " -8.39715058e-04 -4.29651246e-04]\n",
      "2025-01-12 01:20:32.429Z cobraCoach       20 cobraCoach.py:877 Finished converting angle to steps, sending command to moveSteps (constantOntime).\n",
      "2025-01-12 01:20:32.653Z cobraCoach       20 cobraCoach.py:587 Sending step numbers to FPGA for moving cobra.\n",
      "2025-01-12 01:20:32.762Z cobraCoach       20 cobraCoach.py:601 cobra control FPGA operation done.\n",
      "2025-01-12 01:20:32.786Z pfi              40 pfi.py:896 Some theta angles are out of range\n",
      "2025-01-12 01:20:32.788Z pfi              40 pfi.py:899 Some phi angles are out of range\n",
      "2025-01-12 01:20:32.917Z cobraCoach       30 cobraCoach.py:675 Cobra#1303 is too far from center\n",
      "2025-01-12 01:20:32.931Z cobraCoach       30 cobraCoach.py:675 Cobra#1790 is too far from center\n",
      "2025-01-12 01:20:32.951Z engineer         20 engineer.py:433 done: [   0    1    2 ... 2391 2392 2393], 14 left\n",
      "2025-01-12 01:20:32.953Z cobraCoach       30 cobraCoach.py:1003 Last phi angle is unknown, not moving: [1459]\n",
      "2025-01-12 01:20:32.954Z cobraCoach       20 cobraCoach.py:1009 Moving deltaTheta = [-1.94233989e-04 -5.14191722e-04 -6.14804362e-04  1.42413045e-04\n",
      " -1.01748456e-05  2.69975771e-06 -1.01748456e-05 -1.01748455e-05\n",
      " -1.01748456e-05 -2.97707652e-04 -1.03632841e-03 -1.01748456e-05\n",
      " -3.80200480e-04 -1.05065440e-04]\n",
      "2025-01-12 01:20:32.955Z cobraCoach       20 cobraCoach.py:1010 Moving deltaPhi = [-2.96687409 -2.96705963 -2.9670596  -0.04164008 -2.96705959 -6.10865247\n",
      "  0.         -2.96705964 -2.96705969 -0.06341524 -2.96602327 -6.10865247\n",
      " -2.9670596  -0.0498779 ]\n",
      "2025-01-12 01:20:32.959Z cobraCoach       30 cobraCoach.py:846 Last phi angle is unknown: [1459]\n",
      "2025-01-12 01:20:32.961Z cobraCoach       20 cobraCoach.py:877 Finished converting angle to steps, sending command to moveSteps (constantOntime).\n",
      "2025-01-12 01:20:32.967Z cobraCoach       20 cobraCoach.py:587 Sending step numbers to FPGA for moving cobra.\n",
      "2025-01-12 01:20:32.970Z cobraCoach       20 cobraCoach.py:601 cobra control FPGA operation done.\n",
      "2025-01-12 01:20:32.994Z pfi              40 pfi.py:896 Some theta angles are out of range\n",
      "2025-01-12 01:20:32.995Z pfi              40 pfi.py:899 Some phi angles are out of range\n",
      "2025-01-12 01:20:33.091Z cobraCoach       30 cobraCoach.py:675 Cobra#344 is too far from center\n",
      "2025-01-12 01:20:33.093Z pfi              30 pfi.py:475 clipping scale adjustment from 0.2573481031895782 to 0.3\n",
      "2025-01-12 01:20:33.094Z cobraCoach       30 cobraCoach.py:679 Cobra#1460 is too close to center\n",
      "2025-01-12 01:20:33.095Z pfi              30 pfi.py:475 clipping scale adjustment from 0.26154231110049525 to 0.3\n",
      "2025-01-12 01:20:33.099Z cobraCoach       20 cobraCoach.py:1009 Moving deltaTheta = [-1.94233989e-04 -5.14191722e-04 -6.14804362e-04  1.42413045e-04\n",
      " -1.01748456e-05 -1.09852569e+00 -1.01748456e-05 -1.01748455e-05\n",
      " -1.01748456e-05 -2.97707652e-04 -1.03632841e-03 -1.07143418e+00\n",
      " -3.80200480e-04 -1.05065440e-04]\n",
      "2025-01-12 01:20:33.100Z cobraCoach       20 cobraCoach.py:1010 Moving deltaPhi = [-6.10865247 -2.96705963 -2.9670596  -0.04164008 -2.96705959 -1.71883189\n",
      " -2.96705973 -2.96705964 -2.96705969 -0.06341524 -2.96705964 -1.88389766\n",
      " -2.9670596  -0.0498779 ]\n",
      "2025-01-12 01:20:33.103Z cobraCoach       20 cobraCoach.py:877 Finished converting angle to steps, sending command to moveSteps (constantOntime).\n",
      "2025-01-12 01:20:33.109Z cobraCoach       20 cobraCoach.py:587 Sending step numbers to FPGA for moving cobra.\n",
      "2025-01-12 01:20:33.112Z cobraCoach       20 cobraCoach.py:601 cobra control FPGA operation done.\n",
      "2025-01-12 01:20:33.136Z pfi              40 pfi.py:896 Some theta angles are out of range\n",
      "2025-01-12 01:20:33.138Z pfi              40 pfi.py:899 Some phi angles are out of range\n",
      "2025-01-12 01:20:33.232Z pfi              30 pfi.py:475 clipping scale adjustment from 0.2859424141191533 to 0.3\n",
      "2025-01-12 01:20:33.233Z cobraCoach       30 cobraCoach.py:675 Cobra#1303 is too far from center\n",
      "2025-01-12 01:20:33.234Z pfi              30 pfi.py:475 clipping scale adjustment from 0.29999999904403885 to 0.3\n",
      "2025-01-12 01:20:33.236Z cobraCoach       30 cobraCoach.py:675 Cobra#1790 is too far from center\n",
      "2025-01-12 01:20:33.240Z cobraCoach       30 cobraCoach.py:1003 Last phi angle is unknown, not moving: [1459]\n",
      "2025-01-12 01:20:33.241Z cobraCoach       20 cobraCoach.py:1009 Moving deltaTheta = [-3.21863813e-01 -5.14191722e-04 -6.14804362e-04  1.42413045e-04\n",
      " -1.01748456e-05 -6.82685060e-01 -1.01748456e-05 -1.01748455e-05\n",
      " -1.01748456e-05 -2.97707652e-04 -1.03632841e-03 -3.25590772e-01\n",
      " -3.80200480e-04 -1.05065440e-04]\n",
      "2025-01-12 01:20:33.242Z cobraCoach       20 cobraCoach.py:1010 Moving deltaPhi = [-2.64219266 -2.96705963 -2.9670596  -0.04164008 -2.96705959 -6.10865247\n",
      "  0.         -2.96705964 -2.96705969 -0.06341524 -2.96705964 -6.10865247\n",
      " -2.9670596  -0.0498779 ]\n",
      "2025-01-12 01:20:33.246Z cobraCoach       30 cobraCoach.py:846 Last phi angle is unknown: [1459]\n",
      "2025-01-12 01:20:33.248Z cobraCoach       20 cobraCoach.py:877 Finished converting angle to steps, sending command to moveSteps (constantOntime).\n",
      "2025-01-12 01:20:33.255Z cobraCoach       20 cobraCoach.py:587 Sending step numbers to FPGA for moving cobra.\n",
      "2025-01-12 01:20:33.259Z cobraCoach       20 cobraCoach.py:601 cobra control FPGA operation done.\n",
      "2025-01-12 01:20:33.283Z pfi              40 pfi.py:896 Some theta angles are out of range\n",
      "2025-01-12 01:20:33.284Z pfi              40 pfi.py:899 Some phi angles are out of range\n",
      "2025-01-12 01:20:33.379Z pfi              30 pfi.py:475 clipping scale adjustment from 0.22521650184055392 to 0.3\n",
      "2025-01-12 01:20:33.380Z pfi              30 pfi.py:475 clipping scale adjustment from 0.2573481031895782 to 0.3\n",
      "2025-01-12 01:20:33.381Z cobraCoach       30 cobraCoach.py:679 Cobra#1460 is too close to center\n",
      "2025-01-12 01:20:33.383Z pfi              30 pfi.py:475 clipping scale adjustment from 0.22664453700152026 to 0.3\n",
      "2025-01-12 01:20:33.384Z pfi              30 pfi.py:475 clipping scale adjustment from 0.26154231110049525 to 0.3\n",
      "2025-01-12 01:20:33.389Z cobraCoach       20 cobraCoach.py:1009 Moving deltaTheta = [-2.17122172e-04 -5.14191722e-04 -6.14804362e-04  1.42413045e-04\n",
      " -1.01748456e-05  4.51698156e+00 -1.01748456e-05 -1.01748455e-05\n",
      " -1.01748456e-05 -2.97707652e-04 -1.03632841e-03  5.00301130e+00\n",
      " -3.80200480e-04 -1.05065440e-04]\n",
      "2025-01-12 01:20:33.390Z cobraCoach       20 cobraCoach.py:1010 Moving deltaPhi = [-2.96705965 -2.96705963 -2.9670596  -0.04164008 -2.96705959 -1.71883189\n",
      " -2.96705973 -2.96705964 -2.96705969 -0.06341524 -2.96705964 -1.88389766\n",
      " -2.9670596  -0.0498779 ]\n",
      "2025-01-12 01:20:33.394Z cobraCoach       20 cobraCoach.py:877 Finished converting angle to steps, sending command to moveSteps (constantOntime).\n",
      "2025-01-12 01:20:33.402Z cobraCoach       20 cobraCoach.py:587 Sending step numbers to FPGA for moving cobra.\n",
      "2025-01-12 01:20:33.405Z cobraCoach       20 cobraCoach.py:601 cobra control FPGA operation done.\n",
      "2025-01-12 01:20:33.429Z pfi              40 pfi.py:896 Some theta angles are out of range\n",
      "2025-01-12 01:20:33.430Z pfi              40 pfi.py:899 Some phi angles are out of range\n",
      "2025-01-12 01:20:33.528Z cobraCoach       30 cobraCoach.py:675 Cobra#1790 is too far from center\n",
      "2025-01-12 01:20:33.529Z pfi              30 pfi.py:475 clipping scale adjustment from 0.29999999510714737 to 0.3\n",
      "2025-01-12 01:20:33.532Z cobraCoach       30 cobraCoach.py:1003 Last phi angle is unknown, not moving: [1459]\n",
      "2025-01-12 01:20:33.533Z cobraCoach       20 cobraCoach.py:1009 Moving deltaTheta = [-2.17122172e-04 -5.14191722e-04 -6.14804362e-04  1.42413045e-04\n",
      " -1.01748456e-05 -4.10811338e-03 -1.01748456e-05 -1.01748455e-05\n",
      " -1.01748456e-05 -2.97707652e-04 -1.03632841e-03  7.85623389e-01\n",
      " -3.80200480e-04 -1.05065440e-04]\n",
      "2025-01-12 01:20:33.534Z cobraCoach       20 cobraCoach.py:1010 Moving deltaPhi = [-2.96705965 -2.96705963 -2.9670596  -0.04164008 -2.96705959 -2.96705962\n",
      "  0.         -2.96705964 -2.96705969 -0.06341524 -2.96705964 -6.10865247\n",
      " -2.9670596  -0.0498779 ]\n",
      "2025-01-12 01:20:33.537Z cobraCoach       30 cobraCoach.py:846 Last phi angle is unknown: [1459]\n",
      "2025-01-12 01:20:33.539Z cobraCoach       20 cobraCoach.py:877 Finished converting angle to steps, sending command to moveSteps (constantOntime).\n",
      "2025-01-12 01:20:33.548Z cobraCoach       20 cobraCoach.py:587 Sending step numbers to FPGA for moving cobra.\n",
      "2025-01-12 01:20:33.550Z cobraCoach       20 cobraCoach.py:601 cobra control FPGA operation done.\n",
      "2025-01-12 01:20:33.573Z pfi              40 pfi.py:896 Some theta angles are out of range\n",
      "2025-01-12 01:20:33.574Z pfi              40 pfi.py:899 Some phi angles are out of range\n",
      "2025-01-12 01:20:33.673Z pfi              30 pfi.py:475 clipping scale adjustment from 0.2250489700875823 to 0.3\n",
      "2025-01-12 01:20:33.674Z cobraCoach       30 cobraCoach.py:679 Cobra#1460 is too close to center\n",
      "2025-01-12 01:20:33.676Z pfi              30 pfi.py:475 clipping scale adjustment from 0.2561286605203101 to 0.3\n",
      "2025-01-12 01:20:33.677Z pfi              30 pfi.py:475 clipping scale adjustment from 0.26154231110049525 to 0.3\n",
      "2025-01-12 01:20:33.681Z engineer         30 engineer.py:442 14 cobras did not finish: [ 343  442  492  578  737 1302 1459 1493 1538 1587 1636 1789 1791 1969], [4.67 4.67 4.67 0.11 4.67 4.67 0.82 4.67 4.67 0.16 4.67 4.2  4.67 0.11]\n",
      "2025-01-12 01:20:33.705Z pfi              40 pfi.py:896 Some theta angles are out of range\n",
      "2025-01-12 01:20:33.707Z pfi              40 pfi.py:899 Some phi angles are out of range\n",
      "2025-01-12 01:20:33.796Z pfi              40 pfi.py:896 Some theta angles are out of range\n",
      "2025-01-12 01:20:33.797Z pfi              40 pfi.py:899 Some phi angles are out of range\n",
      "2025-01-12 01:20:33.866Z pfi              40 pfi.py:896 Some theta angles are out of range\n",
      "2025-01-12 01:20:33.867Z pfi              40 pfi.py:899 Some phi angles are out of range\n",
      "2025-01-12 01:20:33.912Z pfi              40 pfi.py:896 Some theta angles are out of range\n",
      "2025-01-12 01:20:33.914Z pfi              40 pfi.py:899 Some phi angles are out of range\n",
      "2025-01-12 01:20:33.962Z pfi              40 pfi.py:896 Some theta angles are out of range\n",
      "2025-01-12 01:20:33.964Z pfi              40 pfi.py:899 Some phi angles are out of range\n",
      "2025-01-12 01:20:34.012Z pfi              40 pfi.py:896 Some theta angles are out of range\n",
      "2025-01-12 01:20:34.014Z pfi              40 pfi.py:899 Some phi angles are out of range\n",
      "2025-01-12 01:20:34.064Z pfi              40 pfi.py:896 Some theta angles are out of range\n",
      "2025-01-12 01:20:34.065Z pfi              40 pfi.py:899 Some phi angles are out of range\n",
      "2025-01-12 01:20:34.112Z pfi              40 pfi.py:896 Some theta angles are out of range\n",
      "2025-01-12 01:20:34.114Z pfi              40 pfi.py:899 Some phi angles are out of range\n",
      "2025-01-12 01:20:34.161Z pfi              40 pfi.py:930 Some theta angles are out of range\n",
      "2025-01-12 01:20:34.217Z pfi              40 pfi.py:930 Some theta angles are out of range\n",
      "2025-01-12 01:20:34.348Z pfi              40 pfi.py:930 Some theta angles are out of range\n",
      "2025-01-12 01:20:34.390Z pfi              40 pfi.py:930 Some theta angles are out of range\n",
      "2025-01-12 01:20:34.435Z pfi              40 pfi.py:930 Some theta angles are out of range\n",
      "2025-01-12 01:20:34.477Z pfi              40 pfi.py:930 Some theta angles are out of range\n",
      "2025-01-12 01:20:34.514Z pfi              40 pfi.py:930 Some theta angles are out of range\n",
      "2025-01-12 01:20:34.552Z pfi              40 pfi.py:930 Some theta angles are out of range\n"
     ]
    },
    {
     "name": "stdout",
     "output_type": "stream",
     "text": [
      "ERROR: detected end point collision, which should be impossible\n",
      "trajectory collisions found: 6\n",
      "Set parameter Presolve to value 1\n"
     ]
    },
    {
     "name": "stderr",
     "output_type": "stream",
     "text": [
      "2025-01-12 01:20:38.446Z gurobipy         20 netflow.py:117 Set parameter Presolve to value 1\n"
     ]
    },
    {
     "name": "stdout",
     "output_type": "stream",
     "text": [
      "Set parameter Method to value 4\n"
     ]
    },
    {
     "name": "stderr",
     "output_type": "stream",
     "text": [
      "2025-01-12 01:20:38.447Z gurobipy         20 netflow.py:117 Set parameter Method to value 4\n"
     ]
    },
    {
     "name": "stdout",
     "output_type": "stream",
     "text": [
      "Set parameter DegenMoves to value 0\n"
     ]
    },
    {
     "name": "stderr",
     "output_type": "stream",
     "text": [
      "2025-01-12 01:20:38.449Z gurobipy         20 netflow.py:117 Set parameter DegenMoves to value 0\n"
     ]
    },
    {
     "name": "stdout",
     "output_type": "stream",
     "text": [
      "Set parameter Heuristics to value 0.8\n"
     ]
    },
    {
     "name": "stderr",
     "output_type": "stream",
     "text": [
      "2025-01-12 01:20:38.452Z gurobipy         20 netflow.py:117 Set parameter Heuristics to value 0.8\n"
     ]
    },
    {
     "name": "stdout",
     "output_type": "stream",
     "text": [
      "Set parameter MIPGap to value 0.05\n"
     ]
    },
    {
     "name": "stderr",
     "output_type": "stream",
     "text": [
      "2025-01-12 01:20:38.454Z gurobipy         20 netflow.py:117 Set parameter MIPGap to value 0.05\n"
     ]
    },
    {
     "name": "stdout",
     "output_type": "stream",
     "text": [
      "Creating network topology\n",
      "  exposure 1\n",
      "Calculating visibilities\n",
      "adding constraints\n",
      "adding collision constraints\n",
      "adding forbidden pair constraints\n",
      "Gurobi Optimizer version 10.0.1 build v10.0.1rc0 (mac64[x86])\n"
     ]
    },
    {
     "name": "stderr",
     "output_type": "stream",
     "text": [
      "2025-01-12 01:20:49.671Z gurobipy         20 netflow.py:149 Gurobi Optimizer version 10.0.1 build v10.0.1rc0 (mac64[x86])\n"
     ]
    },
    {
     "name": "stdout",
     "output_type": "stream",
     "text": [
      "\n"
     ]
    },
    {
     "name": "stderr",
     "output_type": "stream",
     "text": [
      "2025-01-12 01:20:49.672Z gurobipy         20 netflow.py:149 \n"
     ]
    },
    {
     "name": "stdout",
     "output_type": "stream",
     "text": [
      "CPU model: Intel(R) Core(TM) i7-8569U CPU @ 2.80GHz\n"
     ]
    },
    {
     "name": "stderr",
     "output_type": "stream",
     "text": [
      "2025-01-12 01:20:49.679Z gurobipy         20 netflow.py:149 CPU model: Intel(R) Core(TM) i7-8569U CPU @ 2.80GHz\n"
     ]
    },
    {
     "name": "stdout",
     "output_type": "stream",
     "text": [
      "Thread count: 4 physical cores, 8 logical processors, using up to 8 threads\n"
     ]
    },
    {
     "name": "stderr",
     "output_type": "stream",
     "text": [
      "2025-01-12 01:20:49.682Z gurobipy         20 netflow.py:149 Thread count: 4 physical cores, 8 logical processors, using up to 8 threads\n"
     ]
    },
    {
     "name": "stdout",
     "output_type": "stream",
     "text": [
      "\n"
     ]
    },
    {
     "name": "stderr",
     "output_type": "stream",
     "text": [
      "2025-01-12 01:20:49.683Z gurobipy         20 netflow.py:149 \n"
     ]
    },
    {
     "name": "stdout",
     "output_type": "stream",
     "text": [
      "Academic license 2379863 - for non-commercial use only - registered to ji___@ipmu.jp\n"
     ]
    },
    {
     "name": "stderr",
     "output_type": "stream",
     "text": [
      "2025-01-12 01:20:49.687Z gurobipy         20 netflow.py:149 Academic license 2379863 - for non-commercial use only - registered to ji___@ipmu.jp\n"
     ]
    },
    {
     "name": "stdout",
     "output_type": "stream",
     "text": [
      "Optimize a model with 139856 rows, 72836 columns and 362086 nonzeros\n"
     ]
    },
    {
     "name": "stderr",
     "output_type": "stream",
     "text": [
      "2025-01-12 01:20:49.689Z gurobipy         20 netflow.py:149 Optimize a model with 139856 rows, 72836 columns and 362086 nonzeros\n"
     ]
    },
    {
     "name": "stdout",
     "output_type": "stream",
     "text": [
      "Model fingerprint: 0x59f14d6b\n"
     ]
    },
    {
     "name": "stderr",
     "output_type": "stream",
     "text": [
      "2025-01-12 01:20:49.699Z gurobipy         20 netflow.py:149 Model fingerprint: 0x59f14d6b\n"
     ]
    },
    {
     "name": "stdout",
     "output_type": "stream",
     "text": [
      "Variable types: 1 continuous, 72835 integer (72833 binary)\n"
     ]
    },
    {
     "name": "stderr",
     "output_type": "stream",
     "text": [
      "2025-01-12 01:20:49.702Z gurobipy         20 netflow.py:149 Variable types: 1 continuous, 72835 integer (72833 binary)\n"
     ]
    },
    {
     "name": "stdout",
     "output_type": "stream",
     "text": [
      "Coefficient statistics:\n"
     ]
    },
    {
     "name": "stderr",
     "output_type": "stream",
     "text": [
      "2025-01-12 01:20:49.706Z gurobipy         20 netflow.py:149 Coefficient statistics:\n"
     ]
    },
    {
     "name": "stdout",
     "output_type": "stream",
     "text": [
      "  Matrix range     [1e+00, 1e+00]\n"
     ]
    },
    {
     "name": "stderr",
     "output_type": "stream",
     "text": [
      "2025-01-12 01:20:49.707Z gurobipy         20 netflow.py:149   Matrix range     [1e+00, 1e+00]\n"
     ]
    },
    {
     "name": "stdout",
     "output_type": "stream",
     "text": [
      "  Objective range  [1e-01, 1e+06]\n"
     ]
    },
    {
     "name": "stderr",
     "output_type": "stream",
     "text": [
      "2025-01-12 01:20:49.711Z gurobipy         20 netflow.py:149   Objective range  [1e-01, 1e+06]\n"
     ]
    },
    {
     "name": "stdout",
     "output_type": "stream",
     "text": [
      "  Bounds range     [1e+00, 1e+00]\n"
     ]
    },
    {
     "name": "stderr",
     "output_type": "stream",
     "text": [
      "2025-01-12 01:20:49.713Z gurobipy         20 netflow.py:149   Bounds range     [1e+00, 1e+00]\n"
     ]
    },
    {
     "name": "stdout",
     "output_type": "stream",
     "text": [
      "  RHS range        [1e+00, 4e+02]\n"
     ]
    },
    {
     "name": "stderr",
     "output_type": "stream",
     "text": [
      "2025-01-12 01:20:49.714Z gurobipy         20 netflow.py:149   RHS range        [1e+00, 4e+02]\n"
     ]
    },
    {
     "name": "stdout",
     "output_type": "stream",
     "text": [
      "Found heuristic solution: objective 6.000000e+08\n"
     ]
    },
    {
     "name": "stderr",
     "output_type": "stream",
     "text": [
      "2025-01-12 01:20:49.737Z gurobipy         20 netflow.py:149 Found heuristic solution: objective 6.000000e+08\n"
     ]
    },
    {
     "name": "stdout",
     "output_type": "stream",
     "text": [
      "Presolve removed 139004 rows and 69795 columns\n"
     ]
    },
    {
     "name": "stderr",
     "output_type": "stream",
     "text": [
      "2025-01-12 01:20:50.452Z gurobipy         20 netflow.py:149 Presolve removed 139004 rows and 69795 columns\n"
     ]
    },
    {
     "name": "stdout",
     "output_type": "stream",
     "text": [
      "Presolve time: 0.69s\n"
     ]
    },
    {
     "name": "stderr",
     "output_type": "stream",
     "text": [
      "2025-01-12 01:20:50.453Z gurobipy         20 netflow.py:149 Presolve time: 0.69s\n"
     ]
    },
    {
     "name": "stdout",
     "output_type": "stream",
     "text": [
      "Presolved: 852 rows, 3041 columns, 4926 nonzeros\n"
     ]
    },
    {
     "name": "stderr",
     "output_type": "stream",
     "text": [
      "2025-01-12 01:20:50.463Z gurobipy         20 netflow.py:149 Presolved: 852 rows, 3041 columns, 4926 nonzeros\n"
     ]
    },
    {
     "name": "stdout",
     "output_type": "stream",
     "text": [
      "Variable types: 0 continuous, 3041 integer (3039 binary)\n"
     ]
    },
    {
     "name": "stderr",
     "output_type": "stream",
     "text": [
      "2025-01-12 01:20:50.469Z gurobipy         20 netflow.py:149 Variable types: 0 continuous, 3041 integer (3039 binary)\n"
     ]
    },
    {
     "name": "stdout",
     "output_type": "stream",
     "text": [
      "Found heuristic solution: objective 5.980000e+08\n"
     ]
    },
    {
     "name": "stderr",
     "output_type": "stream",
     "text": [
      "2025-01-12 01:20:50.472Z gurobipy         20 netflow.py:149 Found heuristic solution: objective 5.980000e+08\n"
     ]
    },
    {
     "name": "stdout",
     "output_type": "stream",
     "text": [
      "Deterministic concurrent LP optimizer: dual simplex and barrier\n"
     ]
    },
    {
     "name": "stderr",
     "output_type": "stream",
     "text": [
      "2025-01-12 01:20:50.481Z gurobipy         20 netflow.py:149 Deterministic concurrent LP optimizer: dual simplex and barrier\n"
     ]
    },
    {
     "name": "stdout",
     "output_type": "stream",
     "text": [
      "Showing barrier log only...\n"
     ]
    },
    {
     "name": "stderr",
     "output_type": "stream",
     "text": [
      "2025-01-12 01:20:50.484Z gurobipy         20 netflow.py:149 Showing barrier log only...\n"
     ]
    },
    {
     "name": "stdout",
     "output_type": "stream",
     "text": [
      "\n"
     ]
    },
    {
     "name": "stderr",
     "output_type": "stream",
     "text": [
      "2025-01-12 01:20:50.485Z gurobipy         20 netflow.py:149 \n"
     ]
    },
    {
     "name": "stdout",
     "output_type": "stream",
     "text": [
      "Root barrier log...\n"
     ]
    },
    {
     "name": "stderr",
     "output_type": "stream",
     "text": [
      "2025-01-12 01:20:50.489Z gurobipy         20 netflow.py:149 Root barrier log...\n"
     ]
    },
    {
     "name": "stdout",
     "output_type": "stream",
     "text": [
      "\n"
     ]
    },
    {
     "name": "stderr",
     "output_type": "stream",
     "text": [
      "2025-01-12 01:20:50.492Z gurobipy         20 netflow.py:149 \n"
     ]
    },
    {
     "name": "stdout",
     "output_type": "stream",
     "text": [
      "Ordering time: 0.00s\n"
     ]
    },
    {
     "name": "stderr",
     "output_type": "stream",
     "text": [
      "2025-01-12 01:20:50.495Z gurobipy         20 netflow.py:149 Ordering time: 0.00s\n"
     ]
    },
    {
     "name": "stdout",
     "output_type": "stream",
     "text": [
      "\n"
     ]
    },
    {
     "name": "stderr",
     "output_type": "stream",
     "text": [
      "2025-01-12 01:20:50.498Z gurobipy         20 netflow.py:149 \n"
     ]
    },
    {
     "name": "stdout",
     "output_type": "stream",
     "text": [
      "Barrier statistics:\n"
     ]
    },
    {
     "name": "stderr",
     "output_type": "stream",
     "text": [
      "2025-01-12 01:20:50.499Z gurobipy         20 netflow.py:149 Barrier statistics:\n"
     ]
    },
    {
     "name": "stdout",
     "output_type": "stream",
     "text": [
      " AA' NZ     : 1.792e+03\n"
     ]
    },
    {
     "name": "stderr",
     "output_type": "stream",
     "text": [
      "2025-01-12 01:20:50.502Z gurobipy         20 netflow.py:149  AA' NZ     : 1.792e+03\n"
     ]
    },
    {
     "name": "stdout",
     "output_type": "stream",
     "text": [
      " Factor NZ  : 3.946e+03 (roughly 2 MB of memory)\n"
     ]
    },
    {
     "name": "stderr",
     "output_type": "stream",
     "text": [
      "2025-01-12 01:20:50.504Z gurobipy         20 netflow.py:149  Factor NZ  : 3.946e+03 (roughly 2 MB of memory)\n"
     ]
    },
    {
     "name": "stdout",
     "output_type": "stream",
     "text": [
      " Factor Ops : 2.889e+04 (less than 1 second per iteration)\n"
     ]
    },
    {
     "name": "stderr",
     "output_type": "stream",
     "text": [
      "2025-01-12 01:20:50.505Z gurobipy         20 netflow.py:149  Factor Ops : 2.889e+04 (less than 1 second per iteration)\n"
     ]
    },
    {
     "name": "stdout",
     "output_type": "stream",
     "text": [
      " Threads    : 1\n"
     ]
    },
    {
     "name": "stderr",
     "output_type": "stream",
     "text": [
      "2025-01-12 01:20:50.509Z gurobipy         20 netflow.py:149  Threads    : 1\n"
     ]
    },
    {
     "name": "stdout",
     "output_type": "stream",
     "text": [
      "\n"
     ]
    },
    {
     "name": "stderr",
     "output_type": "stream",
     "text": [
      "2025-01-12 01:20:50.513Z gurobipy         20 netflow.py:149 \n"
     ]
    },
    {
     "name": "stdout",
     "output_type": "stream",
     "text": [
      "                  Objective                Residual\n"
     ]
    },
    {
     "name": "stderr",
     "output_type": "stream",
     "text": [
      "2025-01-12 01:20:50.533Z gurobipy         20 netflow.py:149                   Objective                Residual\n"
     ]
    },
    {
     "name": "stdout",
     "output_type": "stream",
     "text": [
      "Iter       Primal          Dual         Primal    Dual     Compl     Time\n"
     ]
    },
    {
     "name": "stderr",
     "output_type": "stream",
     "text": [
      "2025-01-12 01:20:50.535Z gurobipy         20 netflow.py:149 Iter       Primal          Dual         Primal    Dual     Compl     Time\n"
     ]
    },
    {
     "name": "stdout",
     "output_type": "stream",
     "text": [
      "   0   3.76910506e+08 -2.44562128e+09  3.98e+01 3.71e+04  3.39e+07     1s\n"
     ]
    },
    {
     "name": "stderr",
     "output_type": "stream",
     "text": [
      "2025-01-12 01:20:50.537Z gurobipy         20 netflow.py:149    0   3.76910506e+08 -2.44562128e+09  3.98e+01 3.71e+04  3.39e+07     1s\n"
     ]
    },
    {
     "name": "stdout",
     "output_type": "stream",
     "text": [
      "\n"
     ]
    },
    {
     "name": "stderr",
     "output_type": "stream",
     "text": [
      "2025-01-12 01:20:50.544Z gurobipy         20 netflow.py:149 \n"
     ]
    },
    {
     "name": "stdout",
     "output_type": "stream",
     "text": [
      "Barrier performed 0 iterations in 0.85 seconds (0.35 work units)\n"
     ]
    },
    {
     "name": "stderr",
     "output_type": "stream",
     "text": [
      "2025-01-12 01:20:50.546Z gurobipy         20 netflow.py:149 Barrier performed 0 iterations in 0.85 seconds (0.35 work units)\n"
     ]
    },
    {
     "name": "stdout",
     "output_type": "stream",
     "text": [
      "Barrier solve interrupted - model solved by another algorithm\n"
     ]
    },
    {
     "name": "stderr",
     "output_type": "stream",
     "text": [
      "2025-01-12 01:20:50.548Z gurobipy         20 netflow.py:149 Barrier solve interrupted - model solved by another algorithm\n"
     ]
    },
    {
     "name": "stdout",
     "output_type": "stream",
     "text": [
      "\n"
     ]
    },
    {
     "name": "stderr",
     "output_type": "stream",
     "text": [
      "2025-01-12 01:20:50.558Z gurobipy         20 netflow.py:149 \n"
     ]
    },
    {
     "name": "stdout",
     "output_type": "stream",
     "text": [
      "Concurrent spin time: 0.07s\n"
     ]
    },
    {
     "name": "stderr",
     "output_type": "stream",
     "text": [
      "2025-01-12 01:20:50.567Z gurobipy         20 netflow.py:149 Concurrent spin time: 0.07s\n"
     ]
    },
    {
     "name": "stdout",
     "output_type": "stream",
     "text": [
      "\n"
     ]
    },
    {
     "name": "stderr",
     "output_type": "stream",
     "text": [
      "2025-01-12 01:20:50.569Z gurobipy         20 netflow.py:149 \n"
     ]
    },
    {
     "name": "stdout",
     "output_type": "stream",
     "text": [
      "Solved with dual simplex\n"
     ]
    },
    {
     "name": "stderr",
     "output_type": "stream",
     "text": [
      "2025-01-12 01:20:50.573Z gurobipy         20 netflow.py:149 Solved with dual simplex\n"
     ]
    },
    {
     "name": "stdout",
     "output_type": "stream",
     "text": [
      "\n"
     ]
    },
    {
     "name": "stderr",
     "output_type": "stream",
     "text": [
      "2025-01-12 01:20:50.579Z gurobipy         20 netflow.py:149 \n"
     ]
    },
    {
     "name": "stdout",
     "output_type": "stream",
     "text": [
      "Root relaxation: objective 1.044055e+02, 93 iterations, 0.10 seconds (0.00 work units)\n"
     ]
    },
    {
     "name": "stderr",
     "output_type": "stream",
     "text": [
      "2025-01-12 01:20:50.581Z gurobipy         20 netflow.py:149 Root relaxation: objective 1.044055e+02, 93 iterations, 0.10 seconds (0.00 work units)\n"
     ]
    },
    {
     "name": "stdout",
     "output_type": "stream",
     "text": [
      "\n"
     ]
    },
    {
     "name": "stderr",
     "output_type": "stream",
     "text": [
      "2025-01-12 01:20:50.588Z gurobipy         20 netflow.py:149 \n"
     ]
    },
    {
     "name": "stdout",
     "output_type": "stream",
     "text": [
      "    Nodes    |    Current Node    |     Objective Bounds      |     Work\n"
     ]
    },
    {
     "name": "stderr",
     "output_type": "stream",
     "text": [
      "2025-01-12 01:20:50.589Z gurobipy         20 netflow.py:149     Nodes    |    Current Node    |     Objective Bounds      |     Work\n"
     ]
    },
    {
     "name": "stdout",
     "output_type": "stream",
     "text": [
      " Expl Unexpl |  Obj  Depth IntInf | Incumbent    BestBd   Gap | It/Node Time\n"
     ]
    },
    {
     "name": "stderr",
     "output_type": "stream",
     "text": [
      "2025-01-12 01:20:50.591Z gurobipy         20 netflow.py:149  Expl Unexpl |  Obj  Depth IntInf | Incumbent    BestBd   Gap | It/Node Time\n"
     ]
    },
    {
     "name": "stdout",
     "output_type": "stream",
     "text": [
      "\n"
     ]
    },
    {
     "name": "stderr",
     "output_type": "stream",
     "text": [
      "2025-01-12 01:20:50.593Z gurobipy         20 netflow.py:149 \n"
     ]
    },
    {
     "name": "stdout",
     "output_type": "stream",
     "text": [
      "*    0     0               0     104.4054902  104.40549  0.00%     -    0s\n"
     ]
    },
    {
     "name": "stderr",
     "output_type": "stream",
     "text": [
      "2025-01-12 01:20:50.604Z gurobipy         20 netflow.py:149 *    0     0               0     104.4054902  104.40549  0.00%     -    0s\n"
     ]
    },
    {
     "name": "stdout",
     "output_type": "stream",
     "text": [
      "\n"
     ]
    },
    {
     "name": "stderr",
     "output_type": "stream",
     "text": [
      "2025-01-12 01:20:50.632Z gurobipy         20 netflow.py:149 \n"
     ]
    },
    {
     "name": "stdout",
     "output_type": "stream",
     "text": [
      "Explored 1 nodes (93 simplex iterations) in 0.95 seconds (0.35 work units)\n"
     ]
    },
    {
     "name": "stderr",
     "output_type": "stream",
     "text": [
      "2025-01-12 01:20:50.636Z gurobipy         20 netflow.py:149 Explored 1 nodes (93 simplex iterations) in 0.95 seconds (0.35 work units)\n"
     ]
    },
    {
     "name": "stdout",
     "output_type": "stream",
     "text": [
      "Thread count was 8 (of 8 available processors)\n"
     ]
    },
    {
     "name": "stderr",
     "output_type": "stream",
     "text": [
      "2025-01-12 01:20:50.640Z gurobipy         20 netflow.py:149 Thread count was 8 (of 8 available processors)\n"
     ]
    },
    {
     "name": "stdout",
     "output_type": "stream",
     "text": [
      "\n"
     ]
    },
    {
     "name": "stderr",
     "output_type": "stream",
     "text": [
      "2025-01-12 01:20:50.643Z gurobipy         20 netflow.py:149 \n"
     ]
    },
    {
     "name": "stdout",
     "output_type": "stream",
     "text": [
      "Solution count 3: 104.405 5.98e+08 6e+08 \n"
     ]
    },
    {
     "name": "stderr",
     "output_type": "stream",
     "text": [
      "2025-01-12 01:20:50.659Z gurobipy         20 netflow.py:149 Solution count 3: 104.405 5.98e+08 6e+08 \n"
     ]
    },
    {
     "name": "stdout",
     "output_type": "stream",
     "text": [
      "\n"
     ]
    },
    {
     "name": "stderr",
     "output_type": "stream",
     "text": [
      "2025-01-12 01:20:50.662Z gurobipy         20 netflow.py:149 \n"
     ]
    },
    {
     "name": "stdout",
     "output_type": "stream",
     "text": [
      "Optimal solution found (tolerance 5.00e-02)\n"
     ]
    },
    {
     "name": "stderr",
     "output_type": "stream",
     "text": [
      "2025-01-12 01:20:50.668Z gurobipy         20 netflow.py:149 Optimal solution found (tolerance 5.00e-02)\n"
     ]
    },
    {
     "name": "stdout",
     "output_type": "stream",
     "text": [
      "Best objective 1.044054901506e+02, best bound 1.044054901506e+02, gap 0.0000%\n"
     ]
    },
    {
     "name": "stderr",
     "output_type": "stream",
     "text": [
      "2025-01-12 01:20:50.676Z gurobipy         20 netflow.py:149 Best objective 1.044054901506e+02, best bound 1.044054901506e+02, gap 0.0000%\n"
     ]
    },
    {
     "name": "stdout",
     "output_type": "stream",
     "text": [
      "Checking for trajectory collisions\n"
     ]
    },
    {
     "name": "stderr",
     "output_type": "stream",
     "text": [
      "2025-01-12 01:20:51.366Z pfi              40 pfi.py:896 Some theta angles are out of range\n",
      "2025-01-12 01:20:51.367Z pfi              40 pfi.py:899 Some phi angles are out of range\n",
      "2025-01-12 01:20:51.482Z pfi              40 pfi.py:899 Some phi angles are out of range\n",
      "2025-01-12 01:20:51.518Z pfi              40 pfi.py:899 Some phi angles are out of range\n",
      "2025-01-12 01:20:51.521Z engineer         20 engineer.py:395 Move theta arms to angle=[360.  360.  270.9 ... 360.  360.  360. ] degree\n",
      "2025-01-12 01:20:51.523Z engineer         20 engineer.py:396 Move phi arms to angle=[11.09 24.48 35.88 ...  8.43 11.99  9.16] degree\n",
      "2025-01-12 01:20:51.524Z engineer         20 engineer.py:398 Checking passed homed argument = True\n",
      "2025-01-12 01:20:51.524Z engineer         20 engineer.py:402 Move theta arms CW and phi arms CCW to the hard stops\n",
      "2025-01-12 01:20:51.549Z cobraCoach       20 cobraCoach.py:1065 home cobras: theta=10000, phi=-5000\n",
      "2025-01-12 01:20:51.577Z pfi              40 pfi.py:899 Some phi angles are out of range\n",
      "2025-01-12 01:20:51.603Z pfi              40 pfi.py:899 Some phi angles are out of range\n",
      "2025-01-12 01:20:51.627Z cobraCoach       20 cobraCoach.py:1009 Moving deltaTheta = [-0.29458444 -0.38204686 -1.91112292 ... -0.40597169 -0.4013664\n",
      " -0.41592376]\n",
      "2025-01-12 01:20:51.628Z cobraCoach       20 cobraCoach.py:1010 Moving deltaPhi = [0.19361448 0.42723261 0.6262403  ... 0.14708474 0.20932294 0.15978886]\n",
      "2025-01-12 01:20:51.885Z cobraCoach       20 cobraCoach.py:877 Finished converting angle to steps, sending command to moveSteps (constantOntime).\n",
      "2025-01-12 01:20:52.454Z cobraCoach       20 cobraCoach.py:587 Sending step numbers to FPGA for moving cobra.\n",
      "2025-01-12 01:20:52.565Z cobraCoach       20 cobraCoach.py:601 cobra control FPGA operation done.\n",
      "2025-01-12 01:20:52.589Z pfi              40 pfi.py:896 Some theta angles are out of range\n",
      "2025-01-12 01:20:52.590Z pfi              40 pfi.py:899 Some phi angles are out of range\n",
      "2025-01-12 01:20:52.699Z cobraCoach       30 cobraCoach.py:675 Cobra#344 is too far from center\n",
      "2025-01-12 01:20:52.703Z cobraCoach       30 cobraCoach.py:675 Cobra#443 is too far from center\n",
      "2025-01-12 01:20:52.706Z cobraCoach       30 cobraCoach.py:675 Cobra#493 is too far from center\n",
      "2025-01-12 01:20:52.731Z cobraCoach       30 cobraCoach.py:675 Cobra#1303 is too far from center\n",
      "2025-01-12 01:20:52.741Z cobraCoach       30 cobraCoach.py:675 Cobra#1637 is too far from center\n",
      "2025-01-12 01:20:52.747Z cobraCoach       30 cobraCoach.py:675 Cobra#1790 is too far from center\n",
      "2025-01-12 01:20:52.748Z cobraCoach       30 cobraCoach.py:675 Cobra#1792 is too far from center\n",
      "2025-01-12 01:20:52.778Z engineer         20 engineer.py:433 done: [   0    1    2 ... 2391 2392 2393], 14 left\n",
      "2025-01-12 01:20:52.782Z cobraCoach       30 cobraCoach.py:1003 Last phi angle is unknown, not moving: [1459]\n",
      "2025-01-12 01:20:52.783Z cobraCoach       20 cobraCoach.py:1009 Moving deltaTheta = [-1.01748456e-05 -1.01748456e-05 -1.01748456e-05  1.42413045e-04\n",
      " -1.01748456e-05 -1.01748456e-05 -1.01748456e-05 -1.01748455e-05\n",
      " -1.01748456e-05  6.92683126e-04 -1.01748455e-05 -1.01748456e-05\n",
      " -1.01748456e-05  1.10228624e-03]\n",
      "2025-01-12 01:20:52.787Z cobraCoach       20 cobraCoach.py:1010 Moving deltaPhi = [-6.10865247 -6.10865247 -6.10865247 -0.04164008 -2.96705959 -6.10865247\n",
      "  0.         -2.96705964 -2.96705969 -0.06341524 -6.10865247 -6.10865247\n",
      " -6.10865247 -0.0498779 ]\n",
      "2025-01-12 01:20:52.793Z cobraCoach       30 cobraCoach.py:846 Last phi angle is unknown: [1459]\n",
      "2025-01-12 01:20:52.795Z cobraCoach       20 cobraCoach.py:877 Finished converting angle to steps, sending command to moveSteps (constantOntime).\n",
      "2025-01-12 01:20:52.806Z cobraCoach       20 cobraCoach.py:587 Sending step numbers to FPGA for moving cobra.\n",
      "2025-01-12 01:20:52.810Z cobraCoach       20 cobraCoach.py:601 cobra control FPGA operation done.\n",
      "2025-01-12 01:20:52.835Z pfi              40 pfi.py:896 Some theta angles are out of range\n",
      "2025-01-12 01:20:52.836Z pfi              40 pfi.py:899 Some phi angles are out of range\n",
      "2025-01-12 01:20:52.934Z cobraCoach       30 cobraCoach.py:675 Cobra#344 is too far from center\n",
      "2025-01-12 01:20:52.935Z cobraCoach       30 cobraCoach.py:679 Cobra#1460 is too close to center\n",
      "2025-01-12 01:20:52.937Z cobraCoach       30 cobraCoach.py:675 Cobra#1637 is too far from center\n",
      "2025-01-12 01:20:52.939Z cobraCoach       30 cobraCoach.py:675 Cobra#1790 is too far from center\n",
      "2025-01-12 01:20:52.945Z engineer         30 engineer.py:442 14 cobras did not finish: [ 343  442  492  578  737 1302 1459 1493 1538 1587 1636 1789 1791 1969], [4.67 4.67 4.67 0.11 4.67 4.67 0.82 4.67 4.67 0.16 4.67 4.67 4.67 0.11]\n",
      "2025-01-12 01:20:52.977Z pfi              40 pfi.py:899 Some phi angles are out of range\n",
      "2025-01-12 01:20:52.979Z engineer         20 engineer.py:395 Move theta arms to angle=[360.  360.  270.9 ... 360.  360.  360. ] degree\n",
      "2025-01-12 01:20:52.982Z engineer         20 engineer.py:396 Move phi arms to angle=[11.09 24.48 35.88 ...  8.43 11.99  9.16] degree\n",
      "2025-01-12 01:20:52.983Z engineer         20 engineer.py:398 Checking passed homed argument = False\n",
      "2025-01-12 01:20:53.020Z cobraCoach       20 cobraCoach.py:1009 Moving deltaTheta = [-0.00026719 -0.0001518   0.00013482 ... -0.00025479  0.00038417\n",
      " -0.000724  ]\n",
      "2025-01-12 01:20:53.021Z cobraCoach       20 cobraCoach.py:1010 Moving deltaPhi = [ 8.60699099e-05 -8.34333106e-04 -3.81240990e-04 ...  6.56574960e-04\n",
      " -8.39715058e-04 -4.29651246e-04]\n",
      "2025-01-12 01:20:53.235Z cobraCoach       20 cobraCoach.py:877 Finished converting angle to steps, sending command to moveSteps (constantOntime).\n",
      "2025-01-12 01:20:53.455Z cobraCoach       20 cobraCoach.py:587 Sending step numbers to FPGA for moving cobra.\n",
      "2025-01-12 01:20:53.562Z cobraCoach       20 cobraCoach.py:601 cobra control FPGA operation done.\n",
      "2025-01-12 01:20:53.585Z pfi              40 pfi.py:896 Some theta angles are out of range\n",
      "2025-01-12 01:20:53.586Z pfi              40 pfi.py:899 Some phi angles are out of range\n",
      "2025-01-12 01:20:53.714Z cobraCoach       30 cobraCoach.py:675 Cobra#1303 is too far from center\n",
      "2025-01-12 01:20:53.729Z cobraCoach       30 cobraCoach.py:675 Cobra#1790 is too far from center\n",
      "2025-01-12 01:20:53.749Z engineer         20 engineer.py:433 done: [   0    1    2 ... 2391 2392 2393], 14 left\n",
      "2025-01-12 01:20:53.751Z cobraCoach       30 cobraCoach.py:1003 Last phi angle is unknown, not moving: [1459]\n",
      "2025-01-12 01:20:53.753Z cobraCoach       20 cobraCoach.py:1009 Moving deltaTheta = [-1.94233989e-04 -5.14191722e-04 -6.14804362e-04  1.42413045e-04\n",
      " -1.01748456e-05  2.69975771e-06 -1.01748456e-05 -1.01748455e-05\n",
      " -1.01748456e-05 -2.97707652e-04 -1.03632841e-03 -1.01748456e-05\n",
      " -3.80200480e-04 -1.05065440e-04]\n",
      "2025-01-12 01:20:53.754Z cobraCoach       20 cobraCoach.py:1010 Moving deltaPhi = [-2.96687409 -2.96705963 -2.9670596  -0.04164008 -2.96705959 -6.10865247\n",
      "  0.         -2.96705964 -2.96705969 -0.06341524 -2.96602327 -6.10865247\n",
      " -2.9670596  -0.0498779 ]\n",
      "2025-01-12 01:20:53.757Z cobraCoach       30 cobraCoach.py:846 Last phi angle is unknown: [1459]\n",
      "2025-01-12 01:20:53.760Z cobraCoach       20 cobraCoach.py:877 Finished converting angle to steps, sending command to moveSteps (constantOntime).\n",
      "2025-01-12 01:20:53.765Z cobraCoach       20 cobraCoach.py:587 Sending step numbers to FPGA for moving cobra.\n",
      "2025-01-12 01:20:53.768Z cobraCoach       20 cobraCoach.py:601 cobra control FPGA operation done.\n",
      "2025-01-12 01:20:53.791Z pfi              40 pfi.py:896 Some theta angles are out of range\n",
      "2025-01-12 01:20:53.792Z pfi              40 pfi.py:899 Some phi angles are out of range\n",
      "2025-01-12 01:20:53.887Z cobraCoach       30 cobraCoach.py:675 Cobra#344 is too far from center\n",
      "2025-01-12 01:20:53.889Z pfi              30 pfi.py:475 clipping scale adjustment from 0.2573481031895782 to 0.3\n",
      "2025-01-12 01:20:53.890Z cobraCoach       30 cobraCoach.py:679 Cobra#1460 is too close to center\n",
      "2025-01-12 01:20:53.891Z pfi              30 pfi.py:475 clipping scale adjustment from 0.26154231110049525 to 0.3\n",
      "2025-01-12 01:20:53.896Z cobraCoach       20 cobraCoach.py:1009 Moving deltaTheta = [-1.94233989e-04 -5.14191722e-04 -6.14804362e-04  1.42413045e-04\n",
      " -1.01748456e-05 -1.09852569e+00 -1.01748456e-05 -1.01748455e-05\n",
      " -1.01748456e-05 -2.97707652e-04 -1.03632841e-03 -1.07143418e+00\n",
      " -3.80200480e-04 -1.05065440e-04]\n",
      "2025-01-12 01:20:53.897Z cobraCoach       20 cobraCoach.py:1010 Moving deltaPhi = [-6.10865247 -2.96705963 -2.9670596  -0.04164008 -2.96705959 -1.71883189\n",
      " -2.96705973 -2.96705964 -2.96705969 -0.06341524 -2.96705964 -1.88389766\n",
      " -2.9670596  -0.0498779 ]\n",
      "2025-01-12 01:20:53.900Z cobraCoach       20 cobraCoach.py:877 Finished converting angle to steps, sending command to moveSteps (constantOntime).\n",
      "2025-01-12 01:20:53.904Z cobraCoach       20 cobraCoach.py:587 Sending step numbers to FPGA for moving cobra.\n",
      "2025-01-12 01:20:53.907Z cobraCoach       20 cobraCoach.py:601 cobra control FPGA operation done.\n",
      "2025-01-12 01:20:53.931Z pfi              40 pfi.py:896 Some theta angles are out of range\n",
      "2025-01-12 01:20:53.933Z pfi              40 pfi.py:899 Some phi angles are out of range\n",
      "2025-01-12 01:20:54.033Z pfi              30 pfi.py:475 clipping scale adjustment from 0.2859424141191533 to 0.3\n",
      "2025-01-12 01:20:54.034Z cobraCoach       30 cobraCoach.py:675 Cobra#1303 is too far from center\n",
      "2025-01-12 01:20:54.035Z pfi              30 pfi.py:475 clipping scale adjustment from 0.29999999904403885 to 0.3\n",
      "2025-01-12 01:20:54.036Z cobraCoach       30 cobraCoach.py:675 Cobra#1790 is too far from center\n",
      "2025-01-12 01:20:54.040Z cobraCoach       30 cobraCoach.py:1003 Last phi angle is unknown, not moving: [1459]\n",
      "2025-01-12 01:20:54.041Z cobraCoach       20 cobraCoach.py:1009 Moving deltaTheta = [-3.21863813e-01 -5.14191722e-04 -6.14804362e-04  1.42413045e-04\n",
      " -1.01748456e-05 -6.82685060e-01 -1.01748456e-05 -1.01748455e-05\n",
      " -1.01748456e-05 -2.97707652e-04 -1.03632841e-03 -3.25590772e-01\n",
      " -3.80200480e-04 -1.05065440e-04]\n",
      "2025-01-12 01:20:54.042Z cobraCoach       20 cobraCoach.py:1010 Moving deltaPhi = [-2.64219266 -2.96705963 -2.9670596  -0.04164008 -2.96705959 -6.10865247\n",
      "  0.         -2.96705964 -2.96705969 -0.06341524 -2.96705964 -6.10865247\n",
      " -2.9670596  -0.0498779 ]\n",
      "2025-01-12 01:20:54.046Z cobraCoach       30 cobraCoach.py:846 Last phi angle is unknown: [1459]\n",
      "2025-01-12 01:20:54.048Z cobraCoach       20 cobraCoach.py:877 Finished converting angle to steps, sending command to moveSteps (constantOntime).\n",
      "2025-01-12 01:20:54.055Z cobraCoach       20 cobraCoach.py:587 Sending step numbers to FPGA for moving cobra.\n",
      "2025-01-12 01:20:54.058Z cobraCoach       20 cobraCoach.py:601 cobra control FPGA operation done.\n",
      "2025-01-12 01:20:54.081Z pfi              40 pfi.py:896 Some theta angles are out of range\n",
      "2025-01-12 01:20:54.082Z pfi              40 pfi.py:899 Some phi angles are out of range\n",
      "2025-01-12 01:20:54.177Z pfi              30 pfi.py:475 clipping scale adjustment from 0.22521650184055392 to 0.3\n",
      "2025-01-12 01:20:54.178Z pfi              30 pfi.py:475 clipping scale adjustment from 0.2573481031895782 to 0.3\n",
      "2025-01-12 01:20:54.178Z cobraCoach       30 cobraCoach.py:679 Cobra#1460 is too close to center\n",
      "2025-01-12 01:20:54.180Z pfi              30 pfi.py:475 clipping scale adjustment from 0.22664453700152026 to 0.3\n",
      "2025-01-12 01:20:54.181Z pfi              30 pfi.py:475 clipping scale adjustment from 0.26154231110049525 to 0.3\n",
      "2025-01-12 01:20:54.186Z cobraCoach       20 cobraCoach.py:1009 Moving deltaTheta = [-2.17122172e-04 -5.14191722e-04 -6.14804362e-04  1.42413045e-04\n",
      " -1.01748456e-05  4.51698156e+00 -1.01748456e-05 -1.01748455e-05\n",
      " -1.01748456e-05 -2.97707652e-04 -1.03632841e-03  5.00301130e+00\n",
      " -3.80200480e-04 -1.05065440e-04]\n",
      "2025-01-12 01:20:54.187Z cobraCoach       20 cobraCoach.py:1010 Moving deltaPhi = [-2.96705965 -2.96705963 -2.9670596  -0.04164008 -2.96705959 -1.71883189\n",
      " -2.96705973 -2.96705964 -2.96705969 -0.06341524 -2.96705964 -1.88389766\n",
      " -2.9670596  -0.0498779 ]\n",
      "2025-01-12 01:20:54.190Z cobraCoach       20 cobraCoach.py:877 Finished converting angle to steps, sending command to moveSteps (constantOntime).\n",
      "2025-01-12 01:20:54.197Z cobraCoach       20 cobraCoach.py:587 Sending step numbers to FPGA for moving cobra.\n",
      "2025-01-12 01:20:54.200Z cobraCoach       20 cobraCoach.py:601 cobra control FPGA operation done.\n",
      "2025-01-12 01:20:54.226Z pfi              40 pfi.py:896 Some theta angles are out of range\n",
      "2025-01-12 01:20:54.227Z pfi              40 pfi.py:899 Some phi angles are out of range\n",
      "2025-01-12 01:20:54.326Z cobraCoach       30 cobraCoach.py:675 Cobra#1790 is too far from center\n",
      "2025-01-12 01:20:54.327Z pfi              30 pfi.py:475 clipping scale adjustment from 0.29999999510714737 to 0.3\n",
      "2025-01-12 01:20:54.332Z cobraCoach       30 cobraCoach.py:1003 Last phi angle is unknown, not moving: [1459]\n",
      "2025-01-12 01:20:54.333Z cobraCoach       20 cobraCoach.py:1009 Moving deltaTheta = [-2.17122172e-04 -5.14191722e-04 -6.14804362e-04  1.42413045e-04\n",
      " -1.01748456e-05 -4.10811338e-03 -1.01748456e-05 -1.01748455e-05\n",
      " -1.01748456e-05 -2.97707652e-04 -1.03632841e-03  7.85623389e-01\n",
      " -3.80200480e-04 -1.05065440e-04]\n",
      "2025-01-12 01:20:54.333Z cobraCoach       20 cobraCoach.py:1010 Moving deltaPhi = [-2.96705965 -2.96705963 -2.9670596  -0.04164008 -2.96705959 -2.96705962\n",
      "  0.         -2.96705964 -2.96705969 -0.06341524 -2.96705964 -6.10865247\n",
      " -2.9670596  -0.0498779 ]\n",
      "2025-01-12 01:20:54.336Z cobraCoach       30 cobraCoach.py:846 Last phi angle is unknown: [1459]\n",
      "2025-01-12 01:20:54.338Z cobraCoach       20 cobraCoach.py:877 Finished converting angle to steps, sending command to moveSteps (constantOntime).\n",
      "2025-01-12 01:20:54.347Z cobraCoach       20 cobraCoach.py:587 Sending step numbers to FPGA for moving cobra.\n",
      "2025-01-12 01:20:54.349Z cobraCoach       20 cobraCoach.py:601 cobra control FPGA operation done.\n",
      "2025-01-12 01:20:54.374Z pfi              40 pfi.py:896 Some theta angles are out of range\n",
      "2025-01-12 01:20:54.375Z pfi              40 pfi.py:899 Some phi angles are out of range\n",
      "2025-01-12 01:20:54.471Z pfi              30 pfi.py:475 clipping scale adjustment from 0.2250489700875823 to 0.3\n",
      "2025-01-12 01:20:54.472Z cobraCoach       30 cobraCoach.py:679 Cobra#1460 is too close to center\n",
      "2025-01-12 01:20:54.476Z pfi              30 pfi.py:475 clipping scale adjustment from 0.2561286605203101 to 0.3\n",
      "2025-01-12 01:20:54.477Z pfi              30 pfi.py:475 clipping scale adjustment from 0.26154231110049525 to 0.3\n",
      "2025-01-12 01:20:54.484Z engineer         30 engineer.py:442 14 cobras did not finish: [ 343  442  492  578  737 1302 1459 1493 1538 1587 1636 1789 1791 1969], [4.67 4.67 4.67 0.11 4.67 4.67 0.82 4.67 4.67 0.16 4.67 4.2  4.67 0.11]\n",
      "2025-01-12 01:20:54.515Z pfi              40 pfi.py:896 Some theta angles are out of range\n",
      "2025-01-12 01:20:54.518Z pfi              40 pfi.py:899 Some phi angles are out of range\n",
      "2025-01-12 01:20:54.606Z pfi              40 pfi.py:896 Some theta angles are out of range\n",
      "2025-01-12 01:20:54.607Z pfi              40 pfi.py:899 Some phi angles are out of range\n",
      "2025-01-12 01:20:54.673Z pfi              40 pfi.py:896 Some theta angles are out of range\n",
      "2025-01-12 01:20:54.675Z pfi              40 pfi.py:899 Some phi angles are out of range\n",
      "2025-01-12 01:20:54.717Z pfi              40 pfi.py:896 Some theta angles are out of range\n",
      "2025-01-12 01:20:54.718Z pfi              40 pfi.py:899 Some phi angles are out of range\n",
      "2025-01-12 01:20:54.768Z pfi              40 pfi.py:896 Some theta angles are out of range\n",
      "2025-01-12 01:20:54.770Z pfi              40 pfi.py:899 Some phi angles are out of range\n",
      "2025-01-12 01:20:54.819Z pfi              40 pfi.py:896 Some theta angles are out of range\n",
      "2025-01-12 01:20:54.821Z pfi              40 pfi.py:899 Some phi angles are out of range\n",
      "2025-01-12 01:20:54.868Z pfi              40 pfi.py:896 Some theta angles are out of range\n",
      "2025-01-12 01:20:54.870Z pfi              40 pfi.py:899 Some phi angles are out of range\n",
      "2025-01-12 01:20:54.917Z pfi              40 pfi.py:896 Some theta angles are out of range\n",
      "2025-01-12 01:20:54.919Z pfi              40 pfi.py:899 Some phi angles are out of range\n",
      "2025-01-12 01:20:54.967Z pfi              40 pfi.py:930 Some theta angles are out of range\n",
      "2025-01-12 01:20:55.085Z pfi              40 pfi.py:930 Some theta angles are out of range\n",
      "2025-01-12 01:20:55.162Z pfi              40 pfi.py:930 Some theta angles are out of range\n",
      "2025-01-12 01:20:55.209Z pfi              40 pfi.py:930 Some theta angles are out of range\n",
      "2025-01-12 01:20:55.270Z pfi              40 pfi.py:930 Some theta angles are out of range\n",
      "2025-01-12 01:20:55.322Z pfi              40 pfi.py:930 Some theta angles are out of range\n",
      "2025-01-12 01:20:55.361Z pfi              40 pfi.py:930 Some theta angles are out of range\n",
      "2025-01-12 01:20:55.399Z pfi              40 pfi.py:930 Some theta angles are out of range\n"
     ]
    },
    {
     "name": "stdout",
     "output_type": "stream",
     "text": [
      "ERROR: detected end point collision, which should be impossible\n",
      "trajectory collisions found: 6\n",
      "Set parameter Presolve to value 1\n"
     ]
    },
    {
     "name": "stderr",
     "output_type": "stream",
     "text": [
      "2025-01-12 01:20:59.417Z gurobipy         20 netflow.py:117 Set parameter Presolve to value 1\n"
     ]
    },
    {
     "name": "stdout",
     "output_type": "stream",
     "text": [
      "Set parameter Method to value 4\n"
     ]
    },
    {
     "name": "stderr",
     "output_type": "stream",
     "text": [
      "2025-01-12 01:20:59.419Z gurobipy         20 netflow.py:117 Set parameter Method to value 4\n"
     ]
    },
    {
     "name": "stdout",
     "output_type": "stream",
     "text": [
      "Set parameter DegenMoves to value 0\n"
     ]
    },
    {
     "name": "stderr",
     "output_type": "stream",
     "text": [
      "2025-01-12 01:20:59.421Z gurobipy         20 netflow.py:117 Set parameter DegenMoves to value 0\n"
     ]
    },
    {
     "name": "stdout",
     "output_type": "stream",
     "text": [
      "Set parameter Heuristics to value 0.8\n"
     ]
    },
    {
     "name": "stderr",
     "output_type": "stream",
     "text": [
      "2025-01-12 01:20:59.424Z gurobipy         20 netflow.py:117 Set parameter Heuristics to value 0.8\n"
     ]
    },
    {
     "name": "stdout",
     "output_type": "stream",
     "text": [
      "Set parameter MIPGap to value 0.05\n"
     ]
    },
    {
     "name": "stderr",
     "output_type": "stream",
     "text": [
      "2025-01-12 01:20:59.426Z gurobipy         20 netflow.py:117 Set parameter MIPGap to value 0.05\n"
     ]
    },
    {
     "name": "stdout",
     "output_type": "stream",
     "text": [
      "Creating network topology\n",
      "  exposure 1\n",
      "Calculating visibilities\n",
      "adding constraints\n",
      "adding collision constraints\n",
      "adding forbidden pair constraints\n",
      "Gurobi Optimizer version 10.0.1 build v10.0.1rc0 (mac64[x86])\n"
     ]
    },
    {
     "name": "stderr",
     "output_type": "stream",
     "text": [
      "2025-01-12 01:21:08.346Z gurobipy         20 netflow.py:149 Gurobi Optimizer version 10.0.1 build v10.0.1rc0 (mac64[x86])\n"
     ]
    },
    {
     "name": "stdout",
     "output_type": "stream",
     "text": [
      "\n"
     ]
    },
    {
     "name": "stderr",
     "output_type": "stream",
     "text": [
      "2025-01-12 01:21:08.347Z gurobipy         20 netflow.py:149 \n"
     ]
    },
    {
     "name": "stdout",
     "output_type": "stream",
     "text": [
      "CPU model: Intel(R) Core(TM) i7-8569U CPU @ 2.80GHz\n"
     ]
    },
    {
     "name": "stderr",
     "output_type": "stream",
     "text": [
      "2025-01-12 01:21:08.351Z gurobipy         20 netflow.py:149 CPU model: Intel(R) Core(TM) i7-8569U CPU @ 2.80GHz\n"
     ]
    },
    {
     "name": "stdout",
     "output_type": "stream",
     "text": [
      "Thread count: 4 physical cores, 8 logical processors, using up to 8 threads\n"
     ]
    },
    {
     "name": "stderr",
     "output_type": "stream",
     "text": [
      "2025-01-12 01:21:08.353Z gurobipy         20 netflow.py:149 Thread count: 4 physical cores, 8 logical processors, using up to 8 threads\n"
     ]
    },
    {
     "name": "stdout",
     "output_type": "stream",
     "text": [
      "\n"
     ]
    },
    {
     "name": "stderr",
     "output_type": "stream",
     "text": [
      "2025-01-12 01:21:08.355Z gurobipy         20 netflow.py:149 \n"
     ]
    },
    {
     "name": "stdout",
     "output_type": "stream",
     "text": [
      "Academic license 2379863 - for non-commercial use only - registered to ji___@ipmu.jp\n"
     ]
    },
    {
     "name": "stderr",
     "output_type": "stream",
     "text": [
      "2025-01-12 01:21:08.360Z gurobipy         20 netflow.py:149 Academic license 2379863 - for non-commercial use only - registered to ji___@ipmu.jp\n"
     ]
    },
    {
     "name": "stdout",
     "output_type": "stream",
     "text": [
      "Optimize a model with 139856 rows, 72836 columns and 362086 nonzeros\n"
     ]
    },
    {
     "name": "stderr",
     "output_type": "stream",
     "text": [
      "2025-01-12 01:21:08.361Z gurobipy         20 netflow.py:149 Optimize a model with 139856 rows, 72836 columns and 362086 nonzeros\n"
     ]
    },
    {
     "name": "stdout",
     "output_type": "stream",
     "text": [
      "Model fingerprint: 0x59f14d6b\n"
     ]
    },
    {
     "name": "stderr",
     "output_type": "stream",
     "text": [
      "2025-01-12 01:21:08.367Z gurobipy         20 netflow.py:149 Model fingerprint: 0x59f14d6b\n"
     ]
    },
    {
     "name": "stdout",
     "output_type": "stream",
     "text": [
      "Variable types: 1 continuous, 72835 integer (72833 binary)\n"
     ]
    },
    {
     "name": "stderr",
     "output_type": "stream",
     "text": [
      "2025-01-12 01:21:08.370Z gurobipy         20 netflow.py:149 Variable types: 1 continuous, 72835 integer (72833 binary)\n"
     ]
    },
    {
     "name": "stdout",
     "output_type": "stream",
     "text": [
      "Coefficient statistics:\n"
     ]
    },
    {
     "name": "stderr",
     "output_type": "stream",
     "text": [
      "2025-01-12 01:21:08.374Z gurobipy         20 netflow.py:149 Coefficient statistics:\n"
     ]
    },
    {
     "name": "stdout",
     "output_type": "stream",
     "text": [
      "  Matrix range     [1e+00, 1e+00]\n"
     ]
    },
    {
     "name": "stderr",
     "output_type": "stream",
     "text": [
      "2025-01-12 01:21:08.376Z gurobipy         20 netflow.py:149   Matrix range     [1e+00, 1e+00]\n"
     ]
    },
    {
     "name": "stdout",
     "output_type": "stream",
     "text": [
      "  Objective range  [1e-01, 1e+06]\n"
     ]
    },
    {
     "name": "stderr",
     "output_type": "stream",
     "text": [
      "2025-01-12 01:21:08.378Z gurobipy         20 netflow.py:149   Objective range  [1e-01, 1e+06]\n"
     ]
    },
    {
     "name": "stdout",
     "output_type": "stream",
     "text": [
      "  Bounds range     [1e+00, 1e+00]\n"
     ]
    },
    {
     "name": "stderr",
     "output_type": "stream",
     "text": [
      "2025-01-12 01:21:08.379Z gurobipy         20 netflow.py:149   Bounds range     [1e+00, 1e+00]\n"
     ]
    },
    {
     "name": "stdout",
     "output_type": "stream",
     "text": [
      "  RHS range        [1e+00, 4e+02]\n"
     ]
    },
    {
     "name": "stderr",
     "output_type": "stream",
     "text": [
      "2025-01-12 01:21:08.381Z gurobipy         20 netflow.py:149   RHS range        [1e+00, 4e+02]\n"
     ]
    },
    {
     "name": "stdout",
     "output_type": "stream",
     "text": [
      "Found heuristic solution: objective 6.000000e+08\n"
     ]
    },
    {
     "name": "stderr",
     "output_type": "stream",
     "text": [
      "2025-01-12 01:21:08.513Z gurobipy         20 netflow.py:149 Found heuristic solution: objective 6.000000e+08\n"
     ]
    },
    {
     "name": "stdout",
     "output_type": "stream",
     "text": [
      "Presolve removed 139004 rows and 69795 columns\n"
     ]
    },
    {
     "name": "stderr",
     "output_type": "stream",
     "text": [
      "2025-01-12 01:21:09.281Z gurobipy         20 netflow.py:149 Presolve removed 139004 rows and 69795 columns\n"
     ]
    },
    {
     "name": "stdout",
     "output_type": "stream",
     "text": [
      "Presolve time: 0.74s\n"
     ]
    },
    {
     "name": "stderr",
     "output_type": "stream",
     "text": [
      "2025-01-12 01:21:09.283Z gurobipy         20 netflow.py:149 Presolve time: 0.74s\n"
     ]
    },
    {
     "name": "stdout",
     "output_type": "stream",
     "text": [
      "Presolved: 852 rows, 3041 columns, 4926 nonzeros\n"
     ]
    },
    {
     "name": "stderr",
     "output_type": "stream",
     "text": [
      "2025-01-12 01:21:09.290Z gurobipy         20 netflow.py:149 Presolved: 852 rows, 3041 columns, 4926 nonzeros\n"
     ]
    },
    {
     "name": "stdout",
     "output_type": "stream",
     "text": [
      "Variable types: 0 continuous, 3041 integer (3039 binary)\n"
     ]
    },
    {
     "name": "stderr",
     "output_type": "stream",
     "text": [
      "2025-01-12 01:21:09.295Z gurobipy         20 netflow.py:149 Variable types: 0 continuous, 3041 integer (3039 binary)\n"
     ]
    },
    {
     "name": "stdout",
     "output_type": "stream",
     "text": [
      "Found heuristic solution: objective 5.980000e+08\n"
     ]
    },
    {
     "name": "stderr",
     "output_type": "stream",
     "text": [
      "2025-01-12 01:21:09.300Z gurobipy         20 netflow.py:149 Found heuristic solution: objective 5.980000e+08\n"
     ]
    },
    {
     "name": "stdout",
     "output_type": "stream",
     "text": [
      "Deterministic concurrent LP optimizer: dual simplex and barrier\n"
     ]
    },
    {
     "name": "stderr",
     "output_type": "stream",
     "text": [
      "2025-01-12 01:21:09.304Z gurobipy         20 netflow.py:149 Deterministic concurrent LP optimizer: dual simplex and barrier\n"
     ]
    },
    {
     "name": "stdout",
     "output_type": "stream",
     "text": [
      "Showing barrier log only...\n"
     ]
    },
    {
     "name": "stderr",
     "output_type": "stream",
     "text": [
      "2025-01-12 01:21:09.306Z gurobipy         20 netflow.py:149 Showing barrier log only...\n"
     ]
    },
    {
     "name": "stdout",
     "output_type": "stream",
     "text": [
      "\n"
     ]
    },
    {
     "name": "stderr",
     "output_type": "stream",
     "text": [
      "2025-01-12 01:21:09.311Z gurobipy         20 netflow.py:149 \n"
     ]
    },
    {
     "name": "stdout",
     "output_type": "stream",
     "text": [
      "Root barrier log...\n"
     ]
    },
    {
     "name": "stderr",
     "output_type": "stream",
     "text": [
      "2025-01-12 01:21:09.315Z gurobipy         20 netflow.py:149 Root barrier log...\n"
     ]
    },
    {
     "name": "stdout",
     "output_type": "stream",
     "text": [
      "\n"
     ]
    },
    {
     "name": "stderr",
     "output_type": "stream",
     "text": [
      "2025-01-12 01:21:09.319Z gurobipy         20 netflow.py:149 \n"
     ]
    },
    {
     "name": "stdout",
     "output_type": "stream",
     "text": [
      "Ordering time: 0.00s\n"
     ]
    },
    {
     "name": "stderr",
     "output_type": "stream",
     "text": [
      "2025-01-12 01:21:09.321Z gurobipy         20 netflow.py:149 Ordering time: 0.00s\n"
     ]
    },
    {
     "name": "stdout",
     "output_type": "stream",
     "text": [
      "\n"
     ]
    },
    {
     "name": "stderr",
     "output_type": "stream",
     "text": [
      "2025-01-12 01:21:09.324Z gurobipy         20 netflow.py:149 \n"
     ]
    },
    {
     "name": "stdout",
     "output_type": "stream",
     "text": [
      "Barrier statistics:\n"
     ]
    },
    {
     "name": "stderr",
     "output_type": "stream",
     "text": [
      "2025-01-12 01:21:09.326Z gurobipy         20 netflow.py:149 Barrier statistics:\n"
     ]
    },
    {
     "name": "stdout",
     "output_type": "stream",
     "text": [
      " AA' NZ     : 1.792e+03\n"
     ]
    },
    {
     "name": "stderr",
     "output_type": "stream",
     "text": [
      "2025-01-12 01:21:09.327Z gurobipy         20 netflow.py:149  AA' NZ     : 1.792e+03\n"
     ]
    },
    {
     "name": "stdout",
     "output_type": "stream",
     "text": [
      " Factor NZ  : 3.946e+03 (roughly 2 MB of memory)\n"
     ]
    },
    {
     "name": "stderr",
     "output_type": "stream",
     "text": [
      "2025-01-12 01:21:09.329Z gurobipy         20 netflow.py:149  Factor NZ  : 3.946e+03 (roughly 2 MB of memory)\n"
     ]
    },
    {
     "name": "stdout",
     "output_type": "stream",
     "text": [
      " Factor Ops : 2.889e+04 (less than 1 second per iteration)\n"
     ]
    },
    {
     "name": "stderr",
     "output_type": "stream",
     "text": [
      "2025-01-12 01:21:09.331Z gurobipy         20 netflow.py:149  Factor Ops : 2.889e+04 (less than 1 second per iteration)\n"
     ]
    },
    {
     "name": "stdout",
     "output_type": "stream",
     "text": [
      " Threads    : 1\n"
     ]
    },
    {
     "name": "stderr",
     "output_type": "stream",
     "text": [
      "2025-01-12 01:21:09.333Z gurobipy         20 netflow.py:149  Threads    : 1\n"
     ]
    },
    {
     "name": "stdout",
     "output_type": "stream",
     "text": [
      "\n"
     ]
    },
    {
     "name": "stderr",
     "output_type": "stream",
     "text": [
      "2025-01-12 01:21:09.337Z gurobipy         20 netflow.py:149 \n"
     ]
    },
    {
     "name": "stdout",
     "output_type": "stream",
     "text": [
      "                  Objective                Residual\n"
     ]
    },
    {
     "name": "stderr",
     "output_type": "stream",
     "text": [
      "2025-01-12 01:21:09.339Z gurobipy         20 netflow.py:149                   Objective                Residual\n"
     ]
    },
    {
     "name": "stdout",
     "output_type": "stream",
     "text": [
      "Iter       Primal          Dual         Primal    Dual     Compl     Time\n"
     ]
    },
    {
     "name": "stderr",
     "output_type": "stream",
     "text": [
      "2025-01-12 01:21:09.342Z gurobipy         20 netflow.py:149 Iter       Primal          Dual         Primal    Dual     Compl     Time\n"
     ]
    },
    {
     "name": "stdout",
     "output_type": "stream",
     "text": [
      "   0   3.76910506e+08 -2.44562128e+09  3.98e+01 3.71e+04  3.39e+07     1s\n"
     ]
    },
    {
     "name": "stderr",
     "output_type": "stream",
     "text": [
      "2025-01-12 01:21:09.357Z gurobipy         20 netflow.py:149    0   3.76910506e+08 -2.44562128e+09  3.98e+01 3.71e+04  3.39e+07     1s\n"
     ]
    },
    {
     "name": "stdout",
     "output_type": "stream",
     "text": [
      "\n"
     ]
    },
    {
     "name": "stderr",
     "output_type": "stream",
     "text": [
      "2025-01-12 01:21:09.360Z gurobipy         20 netflow.py:149 \n"
     ]
    },
    {
     "name": "stdout",
     "output_type": "stream",
     "text": [
      "Barrier performed 0 iterations in 1.00 seconds (0.35 work units)\n"
     ]
    },
    {
     "name": "stderr",
     "output_type": "stream",
     "text": [
      "2025-01-12 01:21:09.364Z gurobipy         20 netflow.py:149 Barrier performed 0 iterations in 1.00 seconds (0.35 work units)\n"
     ]
    },
    {
     "name": "stdout",
     "output_type": "stream",
     "text": [
      "Barrier solve interrupted - model solved by another algorithm\n"
     ]
    },
    {
     "name": "stderr",
     "output_type": "stream",
     "text": [
      "2025-01-12 01:21:09.367Z gurobipy         20 netflow.py:149 Barrier solve interrupted - model solved by another algorithm\n"
     ]
    },
    {
     "name": "stdout",
     "output_type": "stream",
     "text": [
      "\n"
     ]
    },
    {
     "name": "stderr",
     "output_type": "stream",
     "text": [
      "2025-01-12 01:21:09.369Z gurobipy         20 netflow.py:149 \n"
     ]
    },
    {
     "name": "stdout",
     "output_type": "stream",
     "text": [
      "Concurrent spin time: 0.05s\n"
     ]
    },
    {
     "name": "stderr",
     "output_type": "stream",
     "text": [
      "2025-01-12 01:21:09.370Z gurobipy         20 netflow.py:149 Concurrent spin time: 0.05s\n"
     ]
    },
    {
     "name": "stdout",
     "output_type": "stream",
     "text": [
      "\n"
     ]
    },
    {
     "name": "stderr",
     "output_type": "stream",
     "text": [
      "2025-01-12 01:21:09.372Z gurobipy         20 netflow.py:149 \n"
     ]
    },
    {
     "name": "stdout",
     "output_type": "stream",
     "text": [
      "Solved with dual simplex\n"
     ]
    },
    {
     "name": "stderr",
     "output_type": "stream",
     "text": [
      "2025-01-12 01:21:09.376Z gurobipy         20 netflow.py:149 Solved with dual simplex\n"
     ]
    },
    {
     "name": "stdout",
     "output_type": "stream",
     "text": [
      "\n"
     ]
    },
    {
     "name": "stderr",
     "output_type": "stream",
     "text": [
      "2025-01-12 01:21:09.382Z gurobipy         20 netflow.py:149 \n"
     ]
    },
    {
     "name": "stdout",
     "output_type": "stream",
     "text": [
      "Root relaxation: objective 1.044055e+02, 93 iterations, 0.08 seconds (0.00 work units)\n"
     ]
    },
    {
     "name": "stderr",
     "output_type": "stream",
     "text": [
      "2025-01-12 01:21:09.386Z gurobipy         20 netflow.py:149 Root relaxation: objective 1.044055e+02, 93 iterations, 0.08 seconds (0.00 work units)\n"
     ]
    },
    {
     "name": "stdout",
     "output_type": "stream",
     "text": [
      "\n"
     ]
    },
    {
     "name": "stderr",
     "output_type": "stream",
     "text": [
      "2025-01-12 01:21:09.392Z gurobipy         20 netflow.py:149 \n"
     ]
    },
    {
     "name": "stdout",
     "output_type": "stream",
     "text": [
      "    Nodes    |    Current Node    |     Objective Bounds      |     Work\n"
     ]
    },
    {
     "name": "stderr",
     "output_type": "stream",
     "text": [
      "2025-01-12 01:21:09.394Z gurobipy         20 netflow.py:149     Nodes    |    Current Node    |     Objective Bounds      |     Work\n"
     ]
    },
    {
     "name": "stdout",
     "output_type": "stream",
     "text": [
      " Expl Unexpl |  Obj  Depth IntInf | Incumbent    BestBd   Gap | It/Node Time\n"
     ]
    },
    {
     "name": "stderr",
     "output_type": "stream",
     "text": [
      "2025-01-12 01:21:09.397Z gurobipy         20 netflow.py:149  Expl Unexpl |  Obj  Depth IntInf | Incumbent    BestBd   Gap | It/Node Time\n"
     ]
    },
    {
     "name": "stdout",
     "output_type": "stream",
     "text": [
      "\n"
     ]
    },
    {
     "name": "stderr",
     "output_type": "stream",
     "text": [
      "2025-01-12 01:21:09.399Z gurobipy         20 netflow.py:149 \n"
     ]
    },
    {
     "name": "stdout",
     "output_type": "stream",
     "text": [
      "*    0     0               0     104.4054902  104.40549  0.00%     -    1s\n"
     ]
    },
    {
     "name": "stderr",
     "output_type": "stream",
     "text": [
      "2025-01-12 01:21:09.401Z gurobipy         20 netflow.py:149 *    0     0               0     104.4054902  104.40549  0.00%     -    1s\n"
     ]
    },
    {
     "name": "stdout",
     "output_type": "stream",
     "text": [
      "\n"
     ]
    },
    {
     "name": "stderr",
     "output_type": "stream",
     "text": [
      "2025-01-12 01:21:09.430Z gurobipy         20 netflow.py:149 \n"
     ]
    },
    {
     "name": "stdout",
     "output_type": "stream",
     "text": [
      "Explored 1 nodes (93 simplex iterations) in 1.07 seconds (0.35 work units)\n"
     ]
    },
    {
     "name": "stderr",
     "output_type": "stream",
     "text": [
      "2025-01-12 01:21:09.433Z gurobipy         20 netflow.py:149 Explored 1 nodes (93 simplex iterations) in 1.07 seconds (0.35 work units)\n"
     ]
    },
    {
     "name": "stdout",
     "output_type": "stream",
     "text": [
      "Thread count was 8 (of 8 available processors)\n"
     ]
    },
    {
     "name": "stderr",
     "output_type": "stream",
     "text": [
      "2025-01-12 01:21:09.435Z gurobipy         20 netflow.py:149 Thread count was 8 (of 8 available processors)\n"
     ]
    },
    {
     "name": "stdout",
     "output_type": "stream",
     "text": [
      "\n"
     ]
    },
    {
     "name": "stderr",
     "output_type": "stream",
     "text": [
      "2025-01-12 01:21:09.437Z gurobipy         20 netflow.py:149 \n"
     ]
    },
    {
     "name": "stdout",
     "output_type": "stream",
     "text": [
      "Solution count 3: 104.405 5.98e+08 6e+08 \n"
     ]
    },
    {
     "name": "stderr",
     "output_type": "stream",
     "text": [
      "2025-01-12 01:21:09.438Z gurobipy         20 netflow.py:149 Solution count 3: 104.405 5.98e+08 6e+08 \n"
     ]
    },
    {
     "name": "stdout",
     "output_type": "stream",
     "text": [
      "\n"
     ]
    },
    {
     "name": "stderr",
     "output_type": "stream",
     "text": [
      "2025-01-12 01:21:09.441Z gurobipy         20 netflow.py:149 \n"
     ]
    },
    {
     "name": "stdout",
     "output_type": "stream",
     "text": [
      "Optimal solution found (tolerance 5.00e-02)\n"
     ]
    },
    {
     "name": "stderr",
     "output_type": "stream",
     "text": [
      "2025-01-12 01:21:09.444Z gurobipy         20 netflow.py:149 Optimal solution found (tolerance 5.00e-02)\n"
     ]
    },
    {
     "name": "stdout",
     "output_type": "stream",
     "text": [
      "Best objective 1.044054901506e+02, best bound 1.044054901506e+02, gap 0.0000%\n"
     ]
    },
    {
     "name": "stderr",
     "output_type": "stream",
     "text": [
      "2025-01-12 01:21:09.450Z gurobipy         20 netflow.py:149 Best objective 1.044054901506e+02, best bound 1.044054901506e+02, gap 0.0000%\n"
     ]
    },
    {
     "name": "stdout",
     "output_type": "stream",
     "text": [
      "Checking for trajectory collisions\n"
     ]
    },
    {
     "name": "stderr",
     "output_type": "stream",
     "text": [
      "2025-01-12 01:21:09.953Z pfi              40 pfi.py:896 Some theta angles are out of range\n",
      "2025-01-12 01:21:09.953Z pfi              40 pfi.py:899 Some phi angles are out of range\n",
      "2025-01-12 01:21:10.081Z pfi              40 pfi.py:899 Some phi angles are out of range\n",
      "2025-01-12 01:21:10.120Z pfi              40 pfi.py:899 Some phi angles are out of range\n",
      "2025-01-12 01:21:10.124Z engineer         20 engineer.py:395 Move theta arms to angle=[360.  360.  270.9 ... 360.  360.  360. ] degree\n",
      "2025-01-12 01:21:10.126Z engineer         20 engineer.py:396 Move phi arms to angle=[11.09 24.48 35.88 ...  8.43 11.99  9.16] degree\n",
      "2025-01-12 01:21:10.126Z engineer         20 engineer.py:398 Checking passed homed argument = True\n",
      "2025-01-12 01:21:10.128Z engineer         20 engineer.py:402 Move theta arms CW and phi arms CCW to the hard stops\n",
      "2025-01-12 01:21:10.153Z cobraCoach       20 cobraCoach.py:1065 home cobras: theta=10000, phi=-5000\n",
      "2025-01-12 01:21:10.176Z pfi              40 pfi.py:899 Some phi angles are out of range\n",
      "2025-01-12 01:21:10.198Z pfi              40 pfi.py:899 Some phi angles are out of range\n",
      "2025-01-12 01:21:10.223Z cobraCoach       20 cobraCoach.py:1009 Moving deltaTheta = [-0.29458444 -0.38204686 -1.91112292 ... -0.40597169 -0.4013664\n",
      " -0.41592376]\n",
      "2025-01-12 01:21:10.224Z cobraCoach       20 cobraCoach.py:1010 Moving deltaPhi = [0.19361448 0.42723261 0.6262403  ... 0.14708474 0.20932294 0.15978886]\n",
      "2025-01-12 01:21:10.484Z cobraCoach       20 cobraCoach.py:877 Finished converting angle to steps, sending command to moveSteps (constantOntime).\n",
      "2025-01-12 01:21:11.171Z cobraCoach       20 cobraCoach.py:587 Sending step numbers to FPGA for moving cobra.\n",
      "2025-01-12 01:21:11.282Z cobraCoach       20 cobraCoach.py:601 cobra control FPGA operation done.\n",
      "2025-01-12 01:21:11.306Z pfi              40 pfi.py:896 Some theta angles are out of range\n",
      "2025-01-12 01:21:11.307Z pfi              40 pfi.py:899 Some phi angles are out of range\n",
      "2025-01-12 01:21:11.413Z cobraCoach       30 cobraCoach.py:675 Cobra#344 is too far from center\n",
      "2025-01-12 01:21:11.417Z cobraCoach       30 cobraCoach.py:675 Cobra#443 is too far from center\n",
      "2025-01-12 01:21:11.420Z cobraCoach       30 cobraCoach.py:675 Cobra#493 is too far from center\n",
      "2025-01-12 01:21:11.444Z cobraCoach       30 cobraCoach.py:675 Cobra#1303 is too far from center\n",
      "2025-01-12 01:21:11.454Z cobraCoach       30 cobraCoach.py:675 Cobra#1637 is too far from center\n",
      "2025-01-12 01:21:11.460Z cobraCoach       30 cobraCoach.py:675 Cobra#1790 is too far from center\n",
      "2025-01-12 01:21:11.461Z cobraCoach       30 cobraCoach.py:675 Cobra#1792 is too far from center\n",
      "2025-01-12 01:21:11.484Z engineer         20 engineer.py:433 done: [   0    1    2 ... 2391 2392 2393], 14 left\n",
      "2025-01-12 01:21:11.486Z cobraCoach       30 cobraCoach.py:1003 Last phi angle is unknown, not moving: [1459]\n",
      "2025-01-12 01:21:11.487Z cobraCoach       20 cobraCoach.py:1009 Moving deltaTheta = [-1.01748456e-05 -1.01748456e-05 -1.01748456e-05  1.42413045e-04\n",
      " -1.01748456e-05 -1.01748456e-05 -1.01748456e-05 -1.01748455e-05\n",
      " -1.01748456e-05  6.92683126e-04 -1.01748455e-05 -1.01748456e-05\n",
      " -1.01748456e-05  1.10228624e-03]\n",
      "2025-01-12 01:21:11.488Z cobraCoach       20 cobraCoach.py:1010 Moving deltaPhi = [-6.10865247 -6.10865247 -6.10865247 -0.04164008 -2.96705959 -6.10865247\n",
      "  0.         -2.96705964 -2.96705969 -0.06341524 -6.10865247 -6.10865247\n",
      " -6.10865247 -0.0498779 ]\n",
      "2025-01-12 01:21:11.491Z cobraCoach       30 cobraCoach.py:846 Last phi angle is unknown: [1459]\n",
      "2025-01-12 01:21:11.494Z cobraCoach       20 cobraCoach.py:877 Finished converting angle to steps, sending command to moveSteps (constantOntime).\n",
      "2025-01-12 01:21:11.501Z cobraCoach       20 cobraCoach.py:587 Sending step numbers to FPGA for moving cobra.\n",
      "2025-01-12 01:21:11.505Z cobraCoach       20 cobraCoach.py:601 cobra control FPGA operation done.\n",
      "2025-01-12 01:21:11.530Z pfi              40 pfi.py:896 Some theta angles are out of range\n",
      "2025-01-12 01:21:11.531Z pfi              40 pfi.py:899 Some phi angles are out of range\n",
      "2025-01-12 01:21:11.631Z cobraCoach       30 cobraCoach.py:675 Cobra#344 is too far from center\n",
      "2025-01-12 01:21:11.632Z cobraCoach       30 cobraCoach.py:679 Cobra#1460 is too close to center\n",
      "2025-01-12 01:21:11.633Z cobraCoach       30 cobraCoach.py:675 Cobra#1637 is too far from center\n",
      "2025-01-12 01:21:11.634Z cobraCoach       30 cobraCoach.py:675 Cobra#1790 is too far from center\n",
      "2025-01-12 01:21:11.639Z engineer         30 engineer.py:442 14 cobras did not finish: [ 343  442  492  578  737 1302 1459 1493 1538 1587 1636 1789 1791 1969], [4.67 4.67 4.67 0.11 4.67 4.67 0.82 4.67 4.67 0.16 4.67 4.67 4.67 0.11]\n",
      "2025-01-12 01:21:11.663Z pfi              40 pfi.py:899 Some phi angles are out of range\n",
      "2025-01-12 01:21:11.665Z engineer         20 engineer.py:395 Move theta arms to angle=[360.  360.  270.9 ... 360.  360.  360. ] degree\n",
      "2025-01-12 01:21:11.667Z engineer         20 engineer.py:396 Move phi arms to angle=[11.09 24.48 35.88 ...  8.43 11.99  9.16] degree\n",
      "2025-01-12 01:21:11.667Z engineer         20 engineer.py:398 Checking passed homed argument = False\n",
      "2025-01-12 01:21:11.693Z cobraCoach       20 cobraCoach.py:1009 Moving deltaTheta = [-0.00026719 -0.0001518   0.00013482 ... -0.00025479  0.00038417\n",
      " -0.000724  ]\n",
      "2025-01-12 01:21:11.694Z cobraCoach       20 cobraCoach.py:1010 Moving deltaPhi = [ 8.60699099e-05 -8.34333106e-04 -3.81240990e-04 ...  6.56574960e-04\n",
      " -8.39715058e-04 -4.29651246e-04]\n",
      "2025-01-12 01:21:11.905Z cobraCoach       20 cobraCoach.py:877 Finished converting angle to steps, sending command to moveSteps (constantOntime).\n",
      "2025-01-12 01:21:12.132Z cobraCoach       20 cobraCoach.py:587 Sending step numbers to FPGA for moving cobra.\n",
      "2025-01-12 01:21:12.242Z cobraCoach       20 cobraCoach.py:601 cobra control FPGA operation done.\n",
      "2025-01-12 01:21:12.268Z pfi              40 pfi.py:896 Some theta angles are out of range\n",
      "2025-01-12 01:21:12.269Z pfi              40 pfi.py:899 Some phi angles are out of range\n",
      "2025-01-12 01:21:12.408Z cobraCoach       30 cobraCoach.py:675 Cobra#1303 is too far from center\n",
      "2025-01-12 01:21:12.422Z cobraCoach       30 cobraCoach.py:675 Cobra#1790 is too far from center\n",
      "2025-01-12 01:21:12.444Z engineer         20 engineer.py:433 done: [   0    1    2 ... 2391 2392 2393], 14 left\n",
      "2025-01-12 01:21:12.446Z cobraCoach       30 cobraCoach.py:1003 Last phi angle is unknown, not moving: [1459]\n",
      "2025-01-12 01:21:12.447Z cobraCoach       20 cobraCoach.py:1009 Moving deltaTheta = [-1.94233989e-04 -5.14191722e-04 -6.14804362e-04  1.42413045e-04\n",
      " -1.01748456e-05  2.69975771e-06 -1.01748456e-05 -1.01748455e-05\n",
      " -1.01748456e-05 -2.97707652e-04 -1.03632841e-03 -1.01748456e-05\n",
      " -3.80200480e-04 -1.05065440e-04]\n",
      "2025-01-12 01:21:12.448Z cobraCoach       20 cobraCoach.py:1010 Moving deltaPhi = [-2.96687409 -2.96705963 -2.9670596  -0.04164008 -2.96705959 -6.10865247\n",
      "  0.         -2.96705964 -2.96705969 -0.06341524 -2.96602327 -6.10865247\n",
      " -2.9670596  -0.0498779 ]\n",
      "2025-01-12 01:21:12.451Z cobraCoach       30 cobraCoach.py:846 Last phi angle is unknown: [1459]\n",
      "2025-01-12 01:21:12.453Z cobraCoach       20 cobraCoach.py:877 Finished converting angle to steps, sending command to moveSteps (constantOntime).\n",
      "2025-01-12 01:21:12.458Z cobraCoach       20 cobraCoach.py:587 Sending step numbers to FPGA for moving cobra.\n",
      "2025-01-12 01:21:12.461Z cobraCoach       20 cobraCoach.py:601 cobra control FPGA operation done.\n",
      "2025-01-12 01:21:12.488Z pfi              40 pfi.py:896 Some theta angles are out of range\n",
      "2025-01-12 01:21:12.490Z pfi              40 pfi.py:899 Some phi angles are out of range\n",
      "2025-01-12 01:21:12.608Z cobraCoach       30 cobraCoach.py:675 Cobra#344 is too far from center\n",
      "2025-01-12 01:21:12.609Z pfi              30 pfi.py:475 clipping scale adjustment from 0.2573481031895782 to 0.3\n",
      "2025-01-12 01:21:12.611Z cobraCoach       30 cobraCoach.py:679 Cobra#1460 is too close to center\n",
      "2025-01-12 01:21:12.612Z pfi              30 pfi.py:475 clipping scale adjustment from 0.26154231110049525 to 0.3\n",
      "2025-01-12 01:21:12.621Z cobraCoach       20 cobraCoach.py:1009 Moving deltaTheta = [-1.94233989e-04 -5.14191722e-04 -6.14804362e-04  1.42413045e-04\n",
      " -1.01748456e-05 -1.09852569e+00 -1.01748456e-05 -1.01748455e-05\n",
      " -1.01748456e-05 -2.97707652e-04 -1.03632841e-03 -1.07143418e+00\n",
      " -3.80200480e-04 -1.05065440e-04]\n",
      "2025-01-12 01:21:12.626Z cobraCoach       20 cobraCoach.py:1010 Moving deltaPhi = [-6.10865247 -2.96705963 -2.9670596  -0.04164008 -2.96705959 -1.71883189\n",
      " -2.96705973 -2.96705964 -2.96705969 -0.06341524 -2.96705964 -1.88389766\n",
      " -2.9670596  -0.0498779 ]\n",
      "2025-01-12 01:21:12.630Z cobraCoach       20 cobraCoach.py:877 Finished converting angle to steps, sending command to moveSteps (constantOntime).\n",
      "2025-01-12 01:21:12.637Z cobraCoach       20 cobraCoach.py:587 Sending step numbers to FPGA for moving cobra.\n",
      "2025-01-12 01:21:12.639Z cobraCoach       20 cobraCoach.py:601 cobra control FPGA operation done.\n",
      "2025-01-12 01:21:12.666Z pfi              40 pfi.py:896 Some theta angles are out of range\n",
      "2025-01-12 01:21:12.667Z pfi              40 pfi.py:899 Some phi angles are out of range\n",
      "2025-01-12 01:21:12.767Z pfi              30 pfi.py:475 clipping scale adjustment from 0.2859424141191533 to 0.3\n",
      "2025-01-12 01:21:12.768Z cobraCoach       30 cobraCoach.py:675 Cobra#1303 is too far from center\n",
      "2025-01-12 01:21:12.770Z pfi              30 pfi.py:475 clipping scale adjustment from 0.29999999904403885 to 0.3\n",
      "2025-01-12 01:21:12.772Z cobraCoach       30 cobraCoach.py:675 Cobra#1790 is too far from center\n",
      "2025-01-12 01:21:12.778Z cobraCoach       30 cobraCoach.py:1003 Last phi angle is unknown, not moving: [1459]\n",
      "2025-01-12 01:21:12.779Z cobraCoach       20 cobraCoach.py:1009 Moving deltaTheta = [-3.21863813e-01 -5.14191722e-04 -6.14804362e-04  1.42413045e-04\n",
      " -1.01748456e-05 -6.82685060e-01 -1.01748456e-05 -1.01748455e-05\n",
      " -1.01748456e-05 -2.97707652e-04 -1.03632841e-03 -3.25590772e-01\n",
      " -3.80200480e-04 -1.05065440e-04]\n",
      "2025-01-12 01:21:12.779Z cobraCoach       20 cobraCoach.py:1010 Moving deltaPhi = [-2.64219266 -2.96705963 -2.9670596  -0.04164008 -2.96705959 -6.10865247\n",
      "  0.         -2.96705964 -2.96705969 -0.06341524 -2.96705964 -6.10865247\n",
      " -2.9670596  -0.0498779 ]\n",
      "2025-01-12 01:21:12.784Z cobraCoach       30 cobraCoach.py:846 Last phi angle is unknown: [1459]\n",
      "2025-01-12 01:21:12.787Z cobraCoach       20 cobraCoach.py:877 Finished converting angle to steps, sending command to moveSteps (constantOntime).\n",
      "2025-01-12 01:21:12.794Z cobraCoach       20 cobraCoach.py:587 Sending step numbers to FPGA for moving cobra.\n",
      "2025-01-12 01:21:12.798Z cobraCoach       20 cobraCoach.py:601 cobra control FPGA operation done.\n",
      "2025-01-12 01:21:12.822Z pfi              40 pfi.py:896 Some theta angles are out of range\n",
      "2025-01-12 01:21:12.823Z pfi              40 pfi.py:899 Some phi angles are out of range\n",
      "2025-01-12 01:21:12.924Z pfi              30 pfi.py:475 clipping scale adjustment from 0.22521650184055392 to 0.3\n",
      "2025-01-12 01:21:12.925Z pfi              30 pfi.py:475 clipping scale adjustment from 0.2573481031895782 to 0.3\n",
      "2025-01-12 01:21:12.926Z cobraCoach       30 cobraCoach.py:679 Cobra#1460 is too close to center\n",
      "2025-01-12 01:21:12.927Z pfi              30 pfi.py:475 clipping scale adjustment from 0.22664453700152026 to 0.3\n",
      "2025-01-12 01:21:12.928Z pfi              30 pfi.py:475 clipping scale adjustment from 0.26154231110049525 to 0.3\n",
      "2025-01-12 01:21:12.933Z cobraCoach       20 cobraCoach.py:1009 Moving deltaTheta = [-2.17122172e-04 -5.14191722e-04 -6.14804362e-04  1.42413045e-04\n",
      " -1.01748456e-05  4.51698156e+00 -1.01748456e-05 -1.01748455e-05\n",
      " -1.01748456e-05 -2.97707652e-04 -1.03632841e-03  5.00301130e+00\n",
      " -3.80200480e-04 -1.05065440e-04]\n",
      "2025-01-12 01:21:12.934Z cobraCoach       20 cobraCoach.py:1010 Moving deltaPhi = [-2.96705965 -2.96705963 -2.9670596  -0.04164008 -2.96705959 -1.71883189\n",
      " -2.96705973 -2.96705964 -2.96705969 -0.06341524 -2.96705964 -1.88389766\n",
      " -2.9670596  -0.0498779 ]\n",
      "2025-01-12 01:21:12.939Z cobraCoach       20 cobraCoach.py:877 Finished converting angle to steps, sending command to moveSteps (constantOntime).\n",
      "2025-01-12 01:21:12.946Z cobraCoach       20 cobraCoach.py:587 Sending step numbers to FPGA for moving cobra.\n",
      "2025-01-12 01:21:12.950Z cobraCoach       20 cobraCoach.py:601 cobra control FPGA operation done.\n",
      "2025-01-12 01:21:12.975Z pfi              40 pfi.py:896 Some theta angles are out of range\n",
      "2025-01-12 01:21:12.976Z pfi              40 pfi.py:899 Some phi angles are out of range\n",
      "2025-01-12 01:21:13.079Z cobraCoach       30 cobraCoach.py:675 Cobra#1790 is too far from center\n",
      "2025-01-12 01:21:13.080Z pfi              30 pfi.py:475 clipping scale adjustment from 0.29999999510714737 to 0.3\n",
      "2025-01-12 01:21:13.083Z cobraCoach       30 cobraCoach.py:1003 Last phi angle is unknown, not moving: [1459]\n",
      "2025-01-12 01:21:13.084Z cobraCoach       20 cobraCoach.py:1009 Moving deltaTheta = [-2.17122172e-04 -5.14191722e-04 -6.14804362e-04  1.42413045e-04\n",
      " -1.01748456e-05 -4.10811338e-03 -1.01748456e-05 -1.01748455e-05\n",
      " -1.01748456e-05 -2.97707652e-04 -1.03632841e-03  7.85623389e-01\n",
      " -3.80200480e-04 -1.05065440e-04]\n",
      "2025-01-12 01:21:13.084Z cobraCoach       20 cobraCoach.py:1010 Moving deltaPhi = [-2.96705965 -2.96705963 -2.9670596  -0.04164008 -2.96705959 -2.96705962\n",
      "  0.         -2.96705964 -2.96705969 -0.06341524 -2.96705964 -6.10865247\n",
      " -2.9670596  -0.0498779 ]\n",
      "2025-01-12 01:21:13.087Z cobraCoach       30 cobraCoach.py:846 Last phi angle is unknown: [1459]\n",
      "2025-01-12 01:21:13.089Z cobraCoach       20 cobraCoach.py:877 Finished converting angle to steps, sending command to moveSteps (constantOntime).\n",
      "2025-01-12 01:21:13.098Z cobraCoach       20 cobraCoach.py:587 Sending step numbers to FPGA for moving cobra.\n",
      "2025-01-12 01:21:13.101Z cobraCoach       20 cobraCoach.py:601 cobra control FPGA operation done.\n",
      "2025-01-12 01:21:13.124Z pfi              40 pfi.py:896 Some theta angles are out of range\n",
      "2025-01-12 01:21:13.125Z pfi              40 pfi.py:899 Some phi angles are out of range\n",
      "2025-01-12 01:21:13.226Z pfi              30 pfi.py:475 clipping scale adjustment from 0.2250489700875823 to 0.3\n",
      "2025-01-12 01:21:13.226Z cobraCoach       30 cobraCoach.py:679 Cobra#1460 is too close to center\n",
      "2025-01-12 01:21:13.227Z pfi              30 pfi.py:475 clipping scale adjustment from 0.2561286605203101 to 0.3\n",
      "2025-01-12 01:21:13.228Z pfi              30 pfi.py:475 clipping scale adjustment from 0.26154231110049525 to 0.3\n",
      "2025-01-12 01:21:13.233Z engineer         30 engineer.py:442 14 cobras did not finish: [ 343  442  492  578  737 1302 1459 1493 1538 1587 1636 1789 1791 1969], [4.67 4.67 4.67 0.11 4.67 4.67 0.82 4.67 4.67 0.16 4.67 4.2  4.67 0.11]\n",
      "2025-01-12 01:21:13.260Z pfi              40 pfi.py:896 Some theta angles are out of range\n",
      "2025-01-12 01:21:13.262Z pfi              40 pfi.py:899 Some phi angles are out of range\n",
      "2025-01-12 01:21:13.354Z pfi              40 pfi.py:896 Some theta angles are out of range\n",
      "2025-01-12 01:21:13.355Z pfi              40 pfi.py:899 Some phi angles are out of range\n",
      "2025-01-12 01:21:13.422Z pfi              40 pfi.py:896 Some theta angles are out of range\n",
      "2025-01-12 01:21:13.424Z pfi              40 pfi.py:899 Some phi angles are out of range\n",
      "2025-01-12 01:21:13.467Z pfi              40 pfi.py:896 Some theta angles are out of range\n",
      "2025-01-12 01:21:13.468Z pfi              40 pfi.py:899 Some phi angles are out of range\n",
      "2025-01-12 01:21:13.516Z pfi              40 pfi.py:896 Some theta angles are out of range\n",
      "2025-01-12 01:21:13.517Z pfi              40 pfi.py:899 Some phi angles are out of range\n",
      "2025-01-12 01:21:13.576Z pfi              40 pfi.py:896 Some theta angles are out of range\n",
      "2025-01-12 01:21:13.578Z pfi              40 pfi.py:899 Some phi angles are out of range\n",
      "2025-01-12 01:21:13.624Z pfi              40 pfi.py:896 Some theta angles are out of range\n",
      "2025-01-12 01:21:13.626Z pfi              40 pfi.py:899 Some phi angles are out of range\n",
      "2025-01-12 01:21:13.675Z pfi              40 pfi.py:896 Some theta angles are out of range\n",
      "2025-01-12 01:21:13.676Z pfi              40 pfi.py:899 Some phi angles are out of range\n",
      "2025-01-12 01:21:13.727Z pfi              40 pfi.py:930 Some theta angles are out of range\n",
      "2025-01-12 01:21:13.787Z pfi              40 pfi.py:930 Some theta angles are out of range\n",
      "2025-01-12 01:21:13.872Z pfi              40 pfi.py:930 Some theta angles are out of range\n",
      "2025-01-12 01:21:13.969Z pfi              40 pfi.py:930 Some theta angles are out of range\n",
      "2025-01-12 01:21:14.018Z pfi              40 pfi.py:930 Some theta angles are out of range\n",
      "2025-01-12 01:21:14.066Z pfi              40 pfi.py:930 Some theta angles are out of range\n",
      "2025-01-12 01:21:14.116Z pfi              40 pfi.py:930 Some theta angles are out of range\n",
      "2025-01-12 01:21:14.180Z pfi              40 pfi.py:930 Some theta angles are out of range\n"
     ]
    },
    {
     "name": "stdout",
     "output_type": "stream",
     "text": [
      "ERROR: detected end point collision, which should be impossible\n",
      "trajectory collisions found: 6\n",
      "Set parameter Presolve to value 1\n"
     ]
    },
    {
     "name": "stderr",
     "output_type": "stream",
     "text": [
      "2025-01-12 01:21:18.308Z gurobipy         20 netflow.py:117 Set parameter Presolve to value 1\n"
     ]
    },
    {
     "name": "stdout",
     "output_type": "stream",
     "text": [
      "Set parameter Method to value 4\n"
     ]
    },
    {
     "name": "stderr",
     "output_type": "stream",
     "text": [
      "2025-01-12 01:21:18.310Z gurobipy         20 netflow.py:117 Set parameter Method to value 4\n"
     ]
    },
    {
     "name": "stdout",
     "output_type": "stream",
     "text": [
      "Set parameter DegenMoves to value 0\n"
     ]
    },
    {
     "name": "stderr",
     "output_type": "stream",
     "text": [
      "2025-01-12 01:21:18.312Z gurobipy         20 netflow.py:117 Set parameter DegenMoves to value 0\n"
     ]
    },
    {
     "name": "stdout",
     "output_type": "stream",
     "text": [
      "Set parameter Heuristics to value 0.8\n"
     ]
    },
    {
     "name": "stderr",
     "output_type": "stream",
     "text": [
      "2025-01-12 01:21:18.314Z gurobipy         20 netflow.py:117 Set parameter Heuristics to value 0.8\n"
     ]
    },
    {
     "name": "stdout",
     "output_type": "stream",
     "text": [
      "Set parameter MIPGap to value 0.05\n"
     ]
    },
    {
     "name": "stderr",
     "output_type": "stream",
     "text": [
      "2025-01-12 01:21:18.316Z gurobipy         20 netflow.py:117 Set parameter MIPGap to value 0.05\n"
     ]
    },
    {
     "name": "stdout",
     "output_type": "stream",
     "text": [
      "Creating network topology\n",
      "  exposure 1\n",
      "Calculating visibilities\n",
      "adding constraints\n",
      "adding collision constraints\n",
      "adding forbidden pair constraints\n",
      "Gurobi Optimizer version 10.0.1 build v10.0.1rc0 (mac64[x86])\n"
     ]
    },
    {
     "name": "stderr",
     "output_type": "stream",
     "text": [
      "2025-01-12 01:21:28.677Z gurobipy         20 netflow.py:149 Gurobi Optimizer version 10.0.1 build v10.0.1rc0 (mac64[x86])\n"
     ]
    },
    {
     "name": "stdout",
     "output_type": "stream",
     "text": [
      "\n"
     ]
    },
    {
     "name": "stderr",
     "output_type": "stream",
     "text": [
      "2025-01-12 01:21:28.678Z gurobipy         20 netflow.py:149 \n"
     ]
    },
    {
     "name": "stdout",
     "output_type": "stream",
     "text": [
      "CPU model: Intel(R) Core(TM) i7-8569U CPU @ 2.80GHz\n"
     ]
    },
    {
     "name": "stderr",
     "output_type": "stream",
     "text": [
      "2025-01-12 01:21:28.682Z gurobipy         20 netflow.py:149 CPU model: Intel(R) Core(TM) i7-8569U CPU @ 2.80GHz\n"
     ]
    },
    {
     "name": "stdout",
     "output_type": "stream",
     "text": [
      "Thread count: 4 physical cores, 8 logical processors, using up to 8 threads\n"
     ]
    },
    {
     "name": "stderr",
     "output_type": "stream",
     "text": [
      "2025-01-12 01:21:28.683Z gurobipy         20 netflow.py:149 Thread count: 4 physical cores, 8 logical processors, using up to 8 threads\n"
     ]
    },
    {
     "name": "stdout",
     "output_type": "stream",
     "text": [
      "\n"
     ]
    },
    {
     "name": "stderr",
     "output_type": "stream",
     "text": [
      "2025-01-12 01:21:28.686Z gurobipy         20 netflow.py:149 \n"
     ]
    },
    {
     "name": "stdout",
     "output_type": "stream",
     "text": [
      "Academic license 2379863 - for non-commercial use only - registered to ji___@ipmu.jp\n"
     ]
    },
    {
     "name": "stderr",
     "output_type": "stream",
     "text": [
      "2025-01-12 01:21:28.690Z gurobipy         20 netflow.py:149 Academic license 2379863 - for non-commercial use only - registered to ji___@ipmu.jp\n"
     ]
    },
    {
     "name": "stdout",
     "output_type": "stream",
     "text": [
      "Optimize a model with 139856 rows, 72836 columns and 362086 nonzeros\n"
     ]
    },
    {
     "name": "stderr",
     "output_type": "stream",
     "text": [
      "2025-01-12 01:21:28.692Z gurobipy         20 netflow.py:149 Optimize a model with 139856 rows, 72836 columns and 362086 nonzeros\n"
     ]
    },
    {
     "name": "stdout",
     "output_type": "stream",
     "text": [
      "Model fingerprint: 0x59f14d6b\n"
     ]
    },
    {
     "name": "stderr",
     "output_type": "stream",
     "text": [
      "2025-01-12 01:21:28.696Z gurobipy         20 netflow.py:149 Model fingerprint: 0x59f14d6b\n"
     ]
    },
    {
     "name": "stdout",
     "output_type": "stream",
     "text": [
      "Variable types: 1 continuous, 72835 integer (72833 binary)\n"
     ]
    },
    {
     "name": "stderr",
     "output_type": "stream",
     "text": [
      "2025-01-12 01:21:28.698Z gurobipy         20 netflow.py:149 Variable types: 1 continuous, 72835 integer (72833 binary)\n"
     ]
    },
    {
     "name": "stdout",
     "output_type": "stream",
     "text": [
      "Coefficient statistics:\n"
     ]
    },
    {
     "name": "stderr",
     "output_type": "stream",
     "text": [
      "2025-01-12 01:21:28.702Z gurobipy         20 netflow.py:149 Coefficient statistics:\n"
     ]
    },
    {
     "name": "stdout",
     "output_type": "stream",
     "text": [
      "  Matrix range     [1e+00, 1e+00]\n"
     ]
    },
    {
     "name": "stderr",
     "output_type": "stream",
     "text": [
      "2025-01-12 01:21:28.703Z gurobipy         20 netflow.py:149   Matrix range     [1e+00, 1e+00]\n"
     ]
    },
    {
     "name": "stdout",
     "output_type": "stream",
     "text": [
      "  Objective range  [1e-01, 1e+06]\n"
     ]
    },
    {
     "name": "stderr",
     "output_type": "stream",
     "text": [
      "2025-01-12 01:21:28.706Z gurobipy         20 netflow.py:149   Objective range  [1e-01, 1e+06]\n"
     ]
    },
    {
     "name": "stdout",
     "output_type": "stream",
     "text": [
      "  Bounds range     [1e+00, 1e+00]\n"
     ]
    },
    {
     "name": "stderr",
     "output_type": "stream",
     "text": [
      "2025-01-12 01:21:28.711Z gurobipy         20 netflow.py:149   Bounds range     [1e+00, 1e+00]\n"
     ]
    },
    {
     "name": "stdout",
     "output_type": "stream",
     "text": [
      "  RHS range        [1e+00, 4e+02]\n"
     ]
    },
    {
     "name": "stderr",
     "output_type": "stream",
     "text": [
      "2025-01-12 01:21:28.713Z gurobipy         20 netflow.py:149   RHS range        [1e+00, 4e+02]\n"
     ]
    },
    {
     "name": "stdout",
     "output_type": "stream",
     "text": [
      "Found heuristic solution: objective 6.000000e+08\n"
     ]
    },
    {
     "name": "stderr",
     "output_type": "stream",
     "text": [
      "2025-01-12 01:21:28.738Z gurobipy         20 netflow.py:149 Found heuristic solution: objective 6.000000e+08\n"
     ]
    },
    {
     "name": "stdout",
     "output_type": "stream",
     "text": [
      "Presolve removed 139004 rows and 69795 columns\n"
     ]
    },
    {
     "name": "stderr",
     "output_type": "stream",
     "text": [
      "2025-01-12 01:21:29.693Z gurobipy         20 netflow.py:149 Presolve removed 139004 rows and 69795 columns\n"
     ]
    },
    {
     "name": "stdout",
     "output_type": "stream",
     "text": [
      "Presolve time: 0.93s\n"
     ]
    },
    {
     "name": "stderr",
     "output_type": "stream",
     "text": [
      "2025-01-12 01:21:29.694Z gurobipy         20 netflow.py:149 Presolve time: 0.93s\n"
     ]
    },
    {
     "name": "stdout",
     "output_type": "stream",
     "text": [
      "Presolved: 852 rows, 3041 columns, 4926 nonzeros\n"
     ]
    },
    {
     "name": "stderr",
     "output_type": "stream",
     "text": [
      "2025-01-12 01:21:29.701Z gurobipy         20 netflow.py:149 Presolved: 852 rows, 3041 columns, 4926 nonzeros\n"
     ]
    },
    {
     "name": "stdout",
     "output_type": "stream",
     "text": [
      "Variable types: 0 continuous, 3041 integer (3039 binary)\n"
     ]
    },
    {
     "name": "stderr",
     "output_type": "stream",
     "text": [
      "2025-01-12 01:21:29.707Z gurobipy         20 netflow.py:149 Variable types: 0 continuous, 3041 integer (3039 binary)\n"
     ]
    },
    {
     "name": "stdout",
     "output_type": "stream",
     "text": [
      "Found heuristic solution: objective 5.980000e+08\n"
     ]
    },
    {
     "name": "stderr",
     "output_type": "stream",
     "text": [
      "2025-01-12 01:21:29.710Z gurobipy         20 netflow.py:149 Found heuristic solution: objective 5.980000e+08\n"
     ]
    },
    {
     "name": "stdout",
     "output_type": "stream",
     "text": [
      "Deterministic concurrent LP optimizer: dual simplex and barrier\n"
     ]
    },
    {
     "name": "stderr",
     "output_type": "stream",
     "text": [
      "2025-01-12 01:21:29.716Z gurobipy         20 netflow.py:149 Deterministic concurrent LP optimizer: dual simplex and barrier\n"
     ]
    },
    {
     "name": "stdout",
     "output_type": "stream",
     "text": [
      "Showing barrier log only...\n"
     ]
    },
    {
     "name": "stderr",
     "output_type": "stream",
     "text": [
      "2025-01-12 01:21:29.718Z gurobipy         20 netflow.py:149 Showing barrier log only...\n"
     ]
    },
    {
     "name": "stdout",
     "output_type": "stream",
     "text": [
      "\n"
     ]
    },
    {
     "name": "stderr",
     "output_type": "stream",
     "text": [
      "2025-01-12 01:21:29.720Z gurobipy         20 netflow.py:149 \n"
     ]
    },
    {
     "name": "stdout",
     "output_type": "stream",
     "text": [
      "Root barrier log...\n"
     ]
    },
    {
     "name": "stderr",
     "output_type": "stream",
     "text": [
      "2025-01-12 01:21:29.730Z gurobipy         20 netflow.py:149 Root barrier log...\n"
     ]
    },
    {
     "name": "stdout",
     "output_type": "stream",
     "text": [
      "\n"
     ]
    },
    {
     "name": "stderr",
     "output_type": "stream",
     "text": [
      "2025-01-12 01:21:29.732Z gurobipy         20 netflow.py:149 \n"
     ]
    },
    {
     "name": "stdout",
     "output_type": "stream",
     "text": [
      "Ordering time: 0.00s\n"
     ]
    },
    {
     "name": "stderr",
     "output_type": "stream",
     "text": [
      "2025-01-12 01:21:29.737Z gurobipy         20 netflow.py:149 Ordering time: 0.00s\n"
     ]
    },
    {
     "name": "stdout",
     "output_type": "stream",
     "text": [
      "\n"
     ]
    },
    {
     "name": "stderr",
     "output_type": "stream",
     "text": [
      "2025-01-12 01:21:29.743Z gurobipy         20 netflow.py:149 \n"
     ]
    },
    {
     "name": "stdout",
     "output_type": "stream",
     "text": [
      "Barrier statistics:\n"
     ]
    },
    {
     "name": "stderr",
     "output_type": "stream",
     "text": [
      "2025-01-12 01:21:29.745Z gurobipy         20 netflow.py:149 Barrier statistics:\n"
     ]
    },
    {
     "name": "stdout",
     "output_type": "stream",
     "text": [
      " AA' NZ     : 1.792e+03\n"
     ]
    },
    {
     "name": "stderr",
     "output_type": "stream",
     "text": [
      "2025-01-12 01:21:29.747Z gurobipy         20 netflow.py:149  AA' NZ     : 1.792e+03\n"
     ]
    },
    {
     "name": "stdout",
     "output_type": "stream",
     "text": [
      " Factor NZ  : 3.946e+03 (roughly 2 MB of memory)\n"
     ]
    },
    {
     "name": "stderr",
     "output_type": "stream",
     "text": [
      "2025-01-12 01:21:29.748Z gurobipy         20 netflow.py:149  Factor NZ  : 3.946e+03 (roughly 2 MB of memory)\n"
     ]
    },
    {
     "name": "stdout",
     "output_type": "stream",
     "text": [
      " Factor Ops : 2.889e+04 (less than 1 second per iteration)\n"
     ]
    },
    {
     "name": "stderr",
     "output_type": "stream",
     "text": [
      "2025-01-12 01:21:29.750Z gurobipy         20 netflow.py:149  Factor Ops : 2.889e+04 (less than 1 second per iteration)\n"
     ]
    },
    {
     "name": "stdout",
     "output_type": "stream",
     "text": [
      " Threads    : 1\n"
     ]
    },
    {
     "name": "stderr",
     "output_type": "stream",
     "text": [
      "2025-01-12 01:21:29.754Z gurobipy         20 netflow.py:149  Threads    : 1\n"
     ]
    },
    {
     "name": "stdout",
     "output_type": "stream",
     "text": [
      "\n"
     ]
    },
    {
     "name": "stderr",
     "output_type": "stream",
     "text": [
      "2025-01-12 01:21:29.759Z gurobipy         20 netflow.py:149 \n"
     ]
    },
    {
     "name": "stdout",
     "output_type": "stream",
     "text": [
      "                  Objective                Residual\n"
     ]
    },
    {
     "name": "stderr",
     "output_type": "stream",
     "text": [
      "2025-01-12 01:21:29.761Z gurobipy         20 netflow.py:149                   Objective                Residual\n"
     ]
    },
    {
     "name": "stdout",
     "output_type": "stream",
     "text": [
      "Iter       Primal          Dual         Primal    Dual     Compl     Time\n"
     ]
    },
    {
     "name": "stderr",
     "output_type": "stream",
     "text": [
      "2025-01-12 01:21:29.763Z gurobipy         20 netflow.py:149 Iter       Primal          Dual         Primal    Dual     Compl     Time\n"
     ]
    },
    {
     "name": "stdout",
     "output_type": "stream",
     "text": [
      "   0   3.76910506e+08 -2.44562128e+09  3.98e+01 3.71e+04  3.39e+07     1s\n"
     ]
    },
    {
     "name": "stderr",
     "output_type": "stream",
     "text": [
      "2025-01-12 01:21:29.764Z gurobipy         20 netflow.py:149    0   3.76910506e+08 -2.44562128e+09  3.98e+01 3.71e+04  3.39e+07     1s\n"
     ]
    },
    {
     "name": "stdout",
     "output_type": "stream",
     "text": [
      "\n"
     ]
    },
    {
     "name": "stderr",
     "output_type": "stream",
     "text": [
      "2025-01-12 01:21:29.765Z gurobipy         20 netflow.py:149 \n"
     ]
    },
    {
     "name": "stdout",
     "output_type": "stream",
     "text": [
      "Barrier performed 0 iterations in 1.08 seconds (0.35 work units)\n"
     ]
    },
    {
     "name": "stderr",
     "output_type": "stream",
     "text": [
      "2025-01-12 01:21:29.768Z gurobipy         20 netflow.py:149 Barrier performed 0 iterations in 1.08 seconds (0.35 work units)\n"
     ]
    },
    {
     "name": "stdout",
     "output_type": "stream",
     "text": [
      "Barrier solve interrupted - model solved by another algorithm\n"
     ]
    },
    {
     "name": "stderr",
     "output_type": "stream",
     "text": [
      "2025-01-12 01:21:29.770Z gurobipy         20 netflow.py:149 Barrier solve interrupted - model solved by another algorithm\n"
     ]
    },
    {
     "name": "stdout",
     "output_type": "stream",
     "text": [
      "\n"
     ]
    },
    {
     "name": "stderr",
     "output_type": "stream",
     "text": [
      "2025-01-12 01:21:29.772Z gurobipy         20 netflow.py:149 \n"
     ]
    },
    {
     "name": "stdout",
     "output_type": "stream",
     "text": [
      "Concurrent spin time: 0.04s\n"
     ]
    },
    {
     "name": "stderr",
     "output_type": "stream",
     "text": [
      "2025-01-12 01:21:29.775Z gurobipy         20 netflow.py:149 Concurrent spin time: 0.04s\n"
     ]
    },
    {
     "name": "stdout",
     "output_type": "stream",
     "text": [
      "\n"
     ]
    },
    {
     "name": "stderr",
     "output_type": "stream",
     "text": [
      "2025-01-12 01:21:29.778Z gurobipy         20 netflow.py:149 \n"
     ]
    },
    {
     "name": "stdout",
     "output_type": "stream",
     "text": [
      "Solved with dual simplex\n"
     ]
    },
    {
     "name": "stderr",
     "output_type": "stream",
     "text": [
      "2025-01-12 01:21:29.781Z gurobipy         20 netflow.py:149 Solved with dual simplex\n"
     ]
    },
    {
     "name": "stdout",
     "output_type": "stream",
     "text": [
      "\n"
     ]
    },
    {
     "name": "stderr",
     "output_type": "stream",
     "text": [
      "2025-01-12 01:21:29.785Z gurobipy         20 netflow.py:149 \n"
     ]
    },
    {
     "name": "stdout",
     "output_type": "stream",
     "text": [
      "Root relaxation: objective 1.044055e+02, 93 iterations, 0.07 seconds (0.00 work units)\n"
     ]
    },
    {
     "name": "stderr",
     "output_type": "stream",
     "text": [
      "2025-01-12 01:21:29.786Z gurobipy         20 netflow.py:149 Root relaxation: objective 1.044055e+02, 93 iterations, 0.07 seconds (0.00 work units)\n"
     ]
    },
    {
     "name": "stdout",
     "output_type": "stream",
     "text": [
      "\n"
     ]
    },
    {
     "name": "stderr",
     "output_type": "stream",
     "text": [
      "2025-01-12 01:21:29.798Z gurobipy         20 netflow.py:149 \n"
     ]
    },
    {
     "name": "stdout",
     "output_type": "stream",
     "text": [
      "    Nodes    |    Current Node    |     Objective Bounds      |     Work\n"
     ]
    },
    {
     "name": "stderr",
     "output_type": "stream",
     "text": [
      "2025-01-12 01:21:29.800Z gurobipy         20 netflow.py:149     Nodes    |    Current Node    |     Objective Bounds      |     Work\n"
     ]
    },
    {
     "name": "stdout",
     "output_type": "stream",
     "text": [
      " Expl Unexpl |  Obj  Depth IntInf | Incumbent    BestBd   Gap | It/Node Time\n"
     ]
    },
    {
     "name": "stderr",
     "output_type": "stream",
     "text": [
      "2025-01-12 01:21:29.802Z gurobipy         20 netflow.py:149  Expl Unexpl |  Obj  Depth IntInf | Incumbent    BestBd   Gap | It/Node Time\n"
     ]
    },
    {
     "name": "stdout",
     "output_type": "stream",
     "text": [
      "\n"
     ]
    },
    {
     "name": "stderr",
     "output_type": "stream",
     "text": [
      "2025-01-12 01:21:29.808Z gurobipy         20 netflow.py:149 \n"
     ]
    },
    {
     "name": "stdout",
     "output_type": "stream",
     "text": [
      "*    0     0               0     104.4054902  104.40549  0.00%     -    1s\n"
     ]
    },
    {
     "name": "stderr",
     "output_type": "stream",
     "text": [
      "2025-01-12 01:21:29.813Z gurobipy         20 netflow.py:149 *    0     0               0     104.4054902  104.40549  0.00%     -    1s\n"
     ]
    },
    {
     "name": "stdout",
     "output_type": "stream",
     "text": [
      "\n"
     ]
    },
    {
     "name": "stderr",
     "output_type": "stream",
     "text": [
      "2025-01-12 01:21:29.841Z gurobipy         20 netflow.py:149 \n"
     ]
    },
    {
     "name": "stdout",
     "output_type": "stream",
     "text": [
      "Explored 1 nodes (93 simplex iterations) in 1.15 seconds (0.35 work units)\n"
     ]
    },
    {
     "name": "stderr",
     "output_type": "stream",
     "text": [
      "2025-01-12 01:21:29.843Z gurobipy         20 netflow.py:149 Explored 1 nodes (93 simplex iterations) in 1.15 seconds (0.35 work units)\n"
     ]
    },
    {
     "name": "stdout",
     "output_type": "stream",
     "text": [
      "Thread count was 8 (of 8 available processors)\n"
     ]
    },
    {
     "name": "stderr",
     "output_type": "stream",
     "text": [
      "2025-01-12 01:21:29.845Z gurobipy         20 netflow.py:149 Thread count was 8 (of 8 available processors)\n"
     ]
    },
    {
     "name": "stdout",
     "output_type": "stream",
     "text": [
      "\n"
     ]
    },
    {
     "name": "stderr",
     "output_type": "stream",
     "text": [
      "2025-01-12 01:21:29.846Z gurobipy         20 netflow.py:149 \n"
     ]
    },
    {
     "name": "stdout",
     "output_type": "stream",
     "text": [
      "Solution count 3: 104.405 5.98e+08 6e+08 \n"
     ]
    },
    {
     "name": "stderr",
     "output_type": "stream",
     "text": [
      "2025-01-12 01:21:29.848Z gurobipy         20 netflow.py:149 Solution count 3: 104.405 5.98e+08 6e+08 \n"
     ]
    },
    {
     "name": "stdout",
     "output_type": "stream",
     "text": [
      "\n"
     ]
    },
    {
     "name": "stderr",
     "output_type": "stream",
     "text": [
      "2025-01-12 01:21:29.849Z gurobipy         20 netflow.py:149 \n"
     ]
    },
    {
     "name": "stdout",
     "output_type": "stream",
     "text": [
      "Optimal solution found (tolerance 5.00e-02)\n"
     ]
    },
    {
     "name": "stderr",
     "output_type": "stream",
     "text": [
      "2025-01-12 01:21:29.851Z gurobipy         20 netflow.py:149 Optimal solution found (tolerance 5.00e-02)\n"
     ]
    },
    {
     "name": "stdout",
     "output_type": "stream",
     "text": [
      "Best objective 1.044054901506e+02, best bound 1.044054901506e+02, gap 0.0000%\n"
     ]
    },
    {
     "name": "stderr",
     "output_type": "stream",
     "text": [
      "2025-01-12 01:21:29.858Z gurobipy         20 netflow.py:149 Best objective 1.044054901506e+02, best bound 1.044054901506e+02, gap 0.0000%\n"
     ]
    },
    {
     "name": "stdout",
     "output_type": "stream",
     "text": [
      "Checking for trajectory collisions\n"
     ]
    },
    {
     "name": "stderr",
     "output_type": "stream",
     "text": [
      "2025-01-12 01:21:30.482Z pfi              40 pfi.py:896 Some theta angles are out of range\n",
      "2025-01-12 01:21:30.483Z pfi              40 pfi.py:899 Some phi angles are out of range\n",
      "2025-01-12 01:21:30.599Z pfi              40 pfi.py:899 Some phi angles are out of range\n",
      "2025-01-12 01:21:30.634Z pfi              40 pfi.py:899 Some phi angles are out of range\n",
      "2025-01-12 01:21:30.637Z engineer         20 engineer.py:395 Move theta arms to angle=[360.  360.  270.9 ... 360.  360.  360. ] degree\n",
      "2025-01-12 01:21:30.638Z engineer         20 engineer.py:396 Move phi arms to angle=[11.09 24.48 35.88 ...  8.43 11.99  9.16] degree\n",
      "2025-01-12 01:21:30.638Z engineer         20 engineer.py:398 Checking passed homed argument = True\n",
      "2025-01-12 01:21:30.640Z engineer         20 engineer.py:402 Move theta arms CW and phi arms CCW to the hard stops\n",
      "2025-01-12 01:21:30.665Z cobraCoach       20 cobraCoach.py:1065 home cobras: theta=10000, phi=-5000\n",
      "2025-01-12 01:21:30.689Z pfi              40 pfi.py:899 Some phi angles are out of range\n",
      "2025-01-12 01:21:30.713Z pfi              40 pfi.py:899 Some phi angles are out of range\n",
      "2025-01-12 01:21:30.737Z cobraCoach       20 cobraCoach.py:1009 Moving deltaTheta = [-0.29458444 -0.38204686 -1.91112292 ... -0.40597169 -0.4013664\n",
      " -0.41592376]\n",
      "2025-01-12 01:21:30.738Z cobraCoach       20 cobraCoach.py:1010 Moving deltaPhi = [0.19361448 0.42723261 0.6262403  ... 0.14708474 0.20932294 0.15978886]\n",
      "2025-01-12 01:21:30.980Z cobraCoach       20 cobraCoach.py:877 Finished converting angle to steps, sending command to moveSteps (constantOntime).\n",
      "2025-01-12 01:21:31.568Z cobraCoach       20 cobraCoach.py:587 Sending step numbers to FPGA for moving cobra.\n",
      "2025-01-12 01:21:31.678Z cobraCoach       20 cobraCoach.py:601 cobra control FPGA operation done.\n",
      "2025-01-12 01:21:31.702Z pfi              40 pfi.py:896 Some theta angles are out of range\n",
      "2025-01-12 01:21:31.703Z pfi              40 pfi.py:899 Some phi angles are out of range\n",
      "2025-01-12 01:21:31.850Z cobraCoach       30 cobraCoach.py:675 Cobra#344 is too far from center\n",
      "2025-01-12 01:21:31.860Z cobraCoach       30 cobraCoach.py:675 Cobra#443 is too far from center\n",
      "2025-01-12 01:21:31.863Z cobraCoach       30 cobraCoach.py:675 Cobra#493 is too far from center\n",
      "2025-01-12 01:21:31.970Z cobraCoach       30 cobraCoach.py:675 Cobra#1303 is too far from center\n",
      "2025-01-12 01:21:31.998Z cobraCoach       30 cobraCoach.py:675 Cobra#1637 is too far from center\n",
      "2025-01-12 01:21:32.004Z cobraCoach       30 cobraCoach.py:675 Cobra#1790 is too far from center\n",
      "2025-01-12 01:21:32.005Z cobraCoach       30 cobraCoach.py:675 Cobra#1792 is too far from center\n",
      "2025-01-12 01:21:32.038Z engineer         20 engineer.py:433 done: [   0    1    2 ... 2391 2392 2393], 14 left\n",
      "2025-01-12 01:21:32.044Z cobraCoach       30 cobraCoach.py:1003 Last phi angle is unknown, not moving: [1459]\n",
      "2025-01-12 01:21:32.046Z cobraCoach       20 cobraCoach.py:1009 Moving deltaTheta = [-1.01748456e-05 -1.01748456e-05 -1.01748456e-05  1.42413045e-04\n",
      " -1.01748456e-05 -1.01748456e-05 -1.01748456e-05 -1.01748455e-05\n",
      " -1.01748456e-05  6.92683126e-04 -1.01748455e-05 -1.01748456e-05\n",
      " -1.01748456e-05  1.10228624e-03]\n",
      "2025-01-12 01:21:32.048Z cobraCoach       20 cobraCoach.py:1010 Moving deltaPhi = [-6.10865247 -6.10865247 -6.10865247 -0.04164008 -2.96705959 -6.10865247\n",
      "  0.         -2.96705964 -2.96705969 -0.06341524 -6.10865247 -6.10865247\n",
      " -6.10865247 -0.0498779 ]\n",
      "2025-01-12 01:21:32.050Z cobraCoach       30 cobraCoach.py:846 Last phi angle is unknown: [1459]\n",
      "2025-01-12 01:21:32.053Z cobraCoach       20 cobraCoach.py:877 Finished converting angle to steps, sending command to moveSteps (constantOntime).\n",
      "2025-01-12 01:21:32.063Z cobraCoach       20 cobraCoach.py:587 Sending step numbers to FPGA for moving cobra.\n",
      "2025-01-12 01:21:32.065Z cobraCoach       20 cobraCoach.py:601 cobra control FPGA operation done.\n",
      "2025-01-12 01:21:32.090Z pfi              40 pfi.py:896 Some theta angles are out of range\n",
      "2025-01-12 01:21:32.091Z pfi              40 pfi.py:899 Some phi angles are out of range\n",
      "2025-01-12 01:21:32.205Z cobraCoach       30 cobraCoach.py:675 Cobra#344 is too far from center\n",
      "2025-01-12 01:21:32.208Z cobraCoach       30 cobraCoach.py:679 Cobra#1460 is too close to center\n",
      "2025-01-12 01:21:32.210Z cobraCoach       30 cobraCoach.py:675 Cobra#1637 is too far from center\n",
      "2025-01-12 01:21:32.213Z cobraCoach       30 cobraCoach.py:675 Cobra#1790 is too far from center\n",
      "2025-01-12 01:21:32.225Z engineer         30 engineer.py:442 14 cobras did not finish: [ 343  442  492  578  737 1302 1459 1493 1538 1587 1636 1789 1791 1969], [4.67 4.67 4.67 0.11 4.67 4.67 0.82 4.67 4.67 0.16 4.67 4.67 4.67 0.11]\n",
      "2025-01-12 01:21:32.260Z pfi              40 pfi.py:899 Some phi angles are out of range\n",
      "2025-01-12 01:21:32.264Z engineer         20 engineer.py:395 Move theta arms to angle=[360.  360.  270.9 ... 360.  360.  360. ] degree\n",
      "2025-01-12 01:21:32.265Z engineer         20 engineer.py:396 Move phi arms to angle=[11.09 24.48 35.88 ...  8.43 11.99  9.16] degree\n",
      "2025-01-12 01:21:32.266Z engineer         20 engineer.py:398 Checking passed homed argument = False\n",
      "2025-01-12 01:21:32.300Z cobraCoach       20 cobraCoach.py:1009 Moving deltaTheta = [-0.00026719 -0.0001518   0.00013482 ... -0.00025479  0.00038417\n",
      " -0.000724  ]\n",
      "2025-01-12 01:21:32.302Z cobraCoach       20 cobraCoach.py:1010 Moving deltaPhi = [ 8.60699099e-05 -8.34333106e-04 -3.81240990e-04 ...  6.56574960e-04\n",
      " -8.39715058e-04 -4.29651246e-04]\n",
      "2025-01-12 01:21:32.533Z cobraCoach       20 cobraCoach.py:877 Finished converting angle to steps, sending command to moveSteps (constantOntime).\n",
      "2025-01-12 01:21:32.786Z cobraCoach       20 cobraCoach.py:587 Sending step numbers to FPGA for moving cobra.\n",
      "2025-01-12 01:21:32.932Z cobraCoach       20 cobraCoach.py:601 cobra control FPGA operation done.\n",
      "2025-01-12 01:21:32.958Z pfi              40 pfi.py:896 Some theta angles are out of range\n",
      "2025-01-12 01:21:32.959Z pfi              40 pfi.py:899 Some phi angles are out of range\n",
      "2025-01-12 01:21:33.098Z cobraCoach       30 cobraCoach.py:675 Cobra#1303 is too far from center\n",
      "2025-01-12 01:21:33.113Z cobraCoach       30 cobraCoach.py:675 Cobra#1790 is too far from center\n",
      "2025-01-12 01:21:33.134Z engineer         20 engineer.py:433 done: [   0    1    2 ... 2391 2392 2393], 14 left\n",
      "2025-01-12 01:21:33.136Z cobraCoach       30 cobraCoach.py:1003 Last phi angle is unknown, not moving: [1459]\n",
      "2025-01-12 01:21:33.137Z cobraCoach       20 cobraCoach.py:1009 Moving deltaTheta = [-1.94233989e-04 -5.14191722e-04 -6.14804362e-04  1.42413045e-04\n",
      " -1.01748456e-05  2.69975771e-06 -1.01748456e-05 -1.01748455e-05\n",
      " -1.01748456e-05 -2.97707652e-04 -1.03632841e-03 -1.01748456e-05\n",
      " -3.80200480e-04 -1.05065440e-04]\n",
      "2025-01-12 01:21:33.139Z cobraCoach       20 cobraCoach.py:1010 Moving deltaPhi = [-2.96687409 -2.96705963 -2.9670596  -0.04164008 -2.96705959 -6.10865247\n",
      "  0.         -2.96705964 -2.96705969 -0.06341524 -2.96602327 -6.10865247\n",
      " -2.9670596  -0.0498779 ]\n",
      "2025-01-12 01:21:33.143Z cobraCoach       30 cobraCoach.py:846 Last phi angle is unknown: [1459]\n",
      "2025-01-12 01:21:33.145Z cobraCoach       20 cobraCoach.py:877 Finished converting angle to steps, sending command to moveSteps (constantOntime).\n",
      "2025-01-12 01:21:33.153Z cobraCoach       20 cobraCoach.py:587 Sending step numbers to FPGA for moving cobra.\n",
      "2025-01-12 01:21:33.156Z cobraCoach       20 cobraCoach.py:601 cobra control FPGA operation done.\n",
      "2025-01-12 01:21:33.181Z pfi              40 pfi.py:896 Some theta angles are out of range\n",
      "2025-01-12 01:21:33.182Z pfi              40 pfi.py:899 Some phi angles are out of range\n",
      "2025-01-12 01:21:33.279Z cobraCoach       30 cobraCoach.py:675 Cobra#344 is too far from center\n",
      "2025-01-12 01:21:33.280Z pfi              30 pfi.py:475 clipping scale adjustment from 0.2573481031895782 to 0.3\n",
      "2025-01-12 01:21:33.281Z cobraCoach       30 cobraCoach.py:679 Cobra#1460 is too close to center\n",
      "2025-01-12 01:21:33.282Z pfi              30 pfi.py:475 clipping scale adjustment from 0.26154231110049525 to 0.3\n",
      "2025-01-12 01:21:33.290Z cobraCoach       20 cobraCoach.py:1009 Moving deltaTheta = [-1.94233989e-04 -5.14191722e-04 -6.14804362e-04  1.42413045e-04\n",
      " -1.01748456e-05 -1.09852569e+00 -1.01748456e-05 -1.01748455e-05\n",
      " -1.01748456e-05 -2.97707652e-04 -1.03632841e-03 -1.07143418e+00\n",
      " -3.80200480e-04 -1.05065440e-04]\n",
      "2025-01-12 01:21:33.291Z cobraCoach       20 cobraCoach.py:1010 Moving deltaPhi = [-6.10865247 -2.96705963 -2.9670596  -0.04164008 -2.96705959 -1.71883189\n",
      " -2.96705973 -2.96705964 -2.96705969 -0.06341524 -2.96705964 -1.88389766\n",
      " -2.9670596  -0.0498779 ]\n",
      "2025-01-12 01:21:33.295Z cobraCoach       20 cobraCoach.py:877 Finished converting angle to steps, sending command to moveSteps (constantOntime).\n",
      "2025-01-12 01:21:33.300Z cobraCoach       20 cobraCoach.py:587 Sending step numbers to FPGA for moving cobra.\n",
      "2025-01-12 01:21:33.304Z cobraCoach       20 cobraCoach.py:601 cobra control FPGA operation done.\n",
      "2025-01-12 01:21:33.328Z pfi              40 pfi.py:896 Some theta angles are out of range\n",
      "2025-01-12 01:21:33.329Z pfi              40 pfi.py:899 Some phi angles are out of range\n",
      "2025-01-12 01:21:33.429Z pfi              30 pfi.py:475 clipping scale adjustment from 0.2859424141191533 to 0.3\n",
      "2025-01-12 01:21:33.430Z cobraCoach       30 cobraCoach.py:675 Cobra#1303 is too far from center\n",
      "2025-01-12 01:21:33.432Z pfi              30 pfi.py:475 clipping scale adjustment from 0.29999999904403885 to 0.3\n",
      "2025-01-12 01:21:33.434Z cobraCoach       30 cobraCoach.py:675 Cobra#1790 is too far from center\n",
      "2025-01-12 01:21:33.438Z cobraCoach       30 cobraCoach.py:1003 Last phi angle is unknown, not moving: [1459]\n",
      "2025-01-12 01:21:33.440Z cobraCoach       20 cobraCoach.py:1009 Moving deltaTheta = [-3.21863813e-01 -5.14191722e-04 -6.14804362e-04  1.42413045e-04\n",
      " -1.01748456e-05 -6.82685060e-01 -1.01748456e-05 -1.01748455e-05\n",
      " -1.01748456e-05 -2.97707652e-04 -1.03632841e-03 -3.25590772e-01\n",
      " -3.80200480e-04 -1.05065440e-04]\n",
      "2025-01-12 01:21:33.442Z cobraCoach       20 cobraCoach.py:1010 Moving deltaPhi = [-2.64219266 -2.96705963 -2.9670596  -0.04164008 -2.96705959 -6.10865247\n",
      "  0.         -2.96705964 -2.96705969 -0.06341524 -2.96705964 -6.10865247\n",
      " -2.9670596  -0.0498779 ]\n",
      "2025-01-12 01:21:33.447Z cobraCoach       30 cobraCoach.py:846 Last phi angle is unknown: [1459]\n",
      "2025-01-12 01:21:33.450Z cobraCoach       20 cobraCoach.py:877 Finished converting angle to steps, sending command to moveSteps (constantOntime).\n",
      "2025-01-12 01:21:33.463Z cobraCoach       20 cobraCoach.py:587 Sending step numbers to FPGA for moving cobra.\n",
      "2025-01-12 01:21:33.468Z cobraCoach       20 cobraCoach.py:601 cobra control FPGA operation done.\n",
      "2025-01-12 01:21:33.497Z pfi              40 pfi.py:896 Some theta angles are out of range\n",
      "2025-01-12 01:21:33.498Z pfi              40 pfi.py:899 Some phi angles are out of range\n",
      "2025-01-12 01:21:33.622Z pfi              30 pfi.py:475 clipping scale adjustment from 0.22521650184055392 to 0.3\n",
      "2025-01-12 01:21:33.623Z pfi              30 pfi.py:475 clipping scale adjustment from 0.2573481031895782 to 0.3\n",
      "2025-01-12 01:21:33.625Z cobraCoach       30 cobraCoach.py:679 Cobra#1460 is too close to center\n",
      "2025-01-12 01:21:33.626Z pfi              30 pfi.py:475 clipping scale adjustment from 0.22664453700152026 to 0.3\n",
      "2025-01-12 01:21:33.627Z pfi              30 pfi.py:475 clipping scale adjustment from 0.26154231110049525 to 0.3\n",
      "2025-01-12 01:21:33.636Z cobraCoach       20 cobraCoach.py:1009 Moving deltaTheta = [-2.17122172e-04 -5.14191722e-04 -6.14804362e-04  1.42413045e-04\n",
      " -1.01748456e-05  4.51698156e+00 -1.01748456e-05 -1.01748455e-05\n",
      " -1.01748456e-05 -2.97707652e-04 -1.03632841e-03  5.00301130e+00\n",
      " -3.80200480e-04 -1.05065440e-04]\n",
      "2025-01-12 01:21:33.637Z cobraCoach       20 cobraCoach.py:1010 Moving deltaPhi = [-2.96705965 -2.96705963 -2.9670596  -0.04164008 -2.96705959 -1.71883189\n",
      " -2.96705973 -2.96705964 -2.96705969 -0.06341524 -2.96705964 -1.88389766\n",
      " -2.9670596  -0.0498779 ]\n",
      "2025-01-12 01:21:33.643Z cobraCoach       20 cobraCoach.py:877 Finished converting angle to steps, sending command to moveSteps (constantOntime).\n",
      "2025-01-12 01:21:33.656Z cobraCoach       20 cobraCoach.py:587 Sending step numbers to FPGA for moving cobra.\n",
      "2025-01-12 01:21:33.660Z cobraCoach       20 cobraCoach.py:601 cobra control FPGA operation done.\n",
      "2025-01-12 01:21:33.685Z pfi              40 pfi.py:896 Some theta angles are out of range\n",
      "2025-01-12 01:21:33.686Z pfi              40 pfi.py:899 Some phi angles are out of range\n",
      "2025-01-12 01:21:33.806Z cobraCoach       30 cobraCoach.py:675 Cobra#1790 is too far from center\n",
      "2025-01-12 01:21:33.807Z pfi              30 pfi.py:475 clipping scale adjustment from 0.29999999510714737 to 0.3\n",
      "2025-01-12 01:21:33.813Z cobraCoach       30 cobraCoach.py:1003 Last phi angle is unknown, not moving: [1459]\n",
      "2025-01-12 01:21:33.814Z cobraCoach       20 cobraCoach.py:1009 Moving deltaTheta = [-2.17122172e-04 -5.14191722e-04 -6.14804362e-04  1.42413045e-04\n",
      " -1.01748456e-05 -4.10811338e-03 -1.01748456e-05 -1.01748455e-05\n",
      " -1.01748456e-05 -2.97707652e-04 -1.03632841e-03  7.85623389e-01\n",
      " -3.80200480e-04 -1.05065440e-04]\n",
      "2025-01-12 01:21:33.815Z cobraCoach       20 cobraCoach.py:1010 Moving deltaPhi = [-2.96705965 -2.96705963 -2.9670596  -0.04164008 -2.96705959 -2.96705962\n",
      "  0.         -2.96705964 -2.96705969 -0.06341524 -2.96705964 -6.10865247\n",
      " -2.9670596  -0.0498779 ]\n",
      "2025-01-12 01:21:33.817Z cobraCoach       30 cobraCoach.py:846 Last phi angle is unknown: [1459]\n",
      "2025-01-12 01:21:33.823Z cobraCoach       20 cobraCoach.py:877 Finished converting angle to steps, sending command to moveSteps (constantOntime).\n",
      "2025-01-12 01:21:33.834Z cobraCoach       20 cobraCoach.py:587 Sending step numbers to FPGA for moving cobra.\n",
      "2025-01-12 01:21:33.840Z cobraCoach       20 cobraCoach.py:601 cobra control FPGA operation done.\n",
      "2025-01-12 01:21:33.871Z pfi              40 pfi.py:896 Some theta angles are out of range\n",
      "2025-01-12 01:21:33.873Z pfi              40 pfi.py:899 Some phi angles are out of range\n",
      "2025-01-12 01:21:34.090Z pfi              30 pfi.py:475 clipping scale adjustment from 0.2250489700875823 to 0.3\n",
      "2025-01-12 01:21:34.092Z cobraCoach       30 cobraCoach.py:679 Cobra#1460 is too close to center\n",
      "2025-01-12 01:21:34.097Z pfi              30 pfi.py:475 clipping scale adjustment from 0.2561286605203101 to 0.3\n",
      "2025-01-12 01:21:34.100Z pfi              30 pfi.py:475 clipping scale adjustment from 0.26154231110049525 to 0.3\n",
      "2025-01-12 01:21:34.105Z engineer         30 engineer.py:442 14 cobras did not finish: [ 343  442  492  578  737 1302 1459 1493 1538 1587 1636 1789 1791 1969], [4.67 4.67 4.67 0.11 4.67 4.67 0.82 4.67 4.67 0.16 4.67 4.2  4.67 0.11]\n",
      "2025-01-12 01:21:34.138Z pfi              40 pfi.py:896 Some theta angles are out of range\n",
      "2025-01-12 01:21:34.141Z pfi              40 pfi.py:899 Some phi angles are out of range\n",
      "2025-01-12 01:21:34.249Z pfi              40 pfi.py:896 Some theta angles are out of range\n",
      "2025-01-12 01:21:34.252Z pfi              40 pfi.py:899 Some phi angles are out of range\n",
      "2025-01-12 01:21:34.380Z pfi              40 pfi.py:896 Some theta angles are out of range\n",
      "2025-01-12 01:21:34.382Z pfi              40 pfi.py:899 Some phi angles are out of range\n",
      "2025-01-12 01:21:34.482Z pfi              40 pfi.py:896 Some theta angles are out of range\n",
      "2025-01-12 01:21:34.484Z pfi              40 pfi.py:899 Some phi angles are out of range\n",
      "2025-01-12 01:21:34.735Z pfi              40 pfi.py:896 Some theta angles are out of range\n",
      "2025-01-12 01:21:34.737Z pfi              40 pfi.py:899 Some phi angles are out of range\n",
      "2025-01-12 01:21:34.851Z pfi              40 pfi.py:896 Some theta angles are out of range\n",
      "2025-01-12 01:21:34.854Z pfi              40 pfi.py:899 Some phi angles are out of range\n",
      "2025-01-12 01:21:34.923Z pfi              40 pfi.py:896 Some theta angles are out of range\n",
      "2025-01-12 01:21:34.926Z pfi              40 pfi.py:899 Some phi angles are out of range\n",
      "2025-01-12 01:21:34.986Z pfi              40 pfi.py:896 Some theta angles are out of range\n",
      "2025-01-12 01:21:34.988Z pfi              40 pfi.py:899 Some phi angles are out of range\n",
      "2025-01-12 01:21:35.043Z pfi              40 pfi.py:930 Some theta angles are out of range\n",
      "2025-01-12 01:21:35.104Z pfi              40 pfi.py:930 Some theta angles are out of range\n",
      "2025-01-12 01:21:35.157Z pfi              40 pfi.py:930 Some theta angles are out of range\n",
      "2025-01-12 01:21:35.195Z pfi              40 pfi.py:930 Some theta angles are out of range\n",
      "2025-01-12 01:21:35.238Z pfi              40 pfi.py:930 Some theta angles are out of range\n",
      "2025-01-12 01:21:35.285Z pfi              40 pfi.py:930 Some theta angles are out of range\n",
      "2025-01-12 01:21:35.326Z pfi              40 pfi.py:930 Some theta angles are out of range\n",
      "2025-01-12 01:21:35.363Z pfi              40 pfi.py:930 Some theta angles are out of range\n"
     ]
    },
    {
     "name": "stdout",
     "output_type": "stream",
     "text": [
      "ERROR: detected end point collision, which should be impossible\n",
      "trajectory collisions found: 6\n",
      "Set parameter Presolve to value 1\n"
     ]
    },
    {
     "name": "stderr",
     "output_type": "stream",
     "text": [
      "2025-01-12 01:21:39.419Z gurobipy         20 netflow.py:117 Set parameter Presolve to value 1\n"
     ]
    },
    {
     "name": "stdout",
     "output_type": "stream",
     "text": [
      "Set parameter Method to value 4\n"
     ]
    },
    {
     "name": "stderr",
     "output_type": "stream",
     "text": [
      "2025-01-12 01:21:39.421Z gurobipy         20 netflow.py:117 Set parameter Method to value 4\n"
     ]
    },
    {
     "name": "stdout",
     "output_type": "stream",
     "text": [
      "Set parameter DegenMoves to value 0\n"
     ]
    },
    {
     "name": "stderr",
     "output_type": "stream",
     "text": [
      "2025-01-12 01:21:39.424Z gurobipy         20 netflow.py:117 Set parameter DegenMoves to value 0\n"
     ]
    },
    {
     "name": "stdout",
     "output_type": "stream",
     "text": [
      "Set parameter Heuristics to value 0.8\n"
     ]
    },
    {
     "name": "stderr",
     "output_type": "stream",
     "text": [
      "2025-01-12 01:21:39.427Z gurobipy         20 netflow.py:117 Set parameter Heuristics to value 0.8\n"
     ]
    },
    {
     "name": "stdout",
     "output_type": "stream",
     "text": [
      "Set parameter MIPGap to value 0.05\n"
     ]
    },
    {
     "name": "stderr",
     "output_type": "stream",
     "text": [
      "2025-01-12 01:21:39.430Z gurobipy         20 netflow.py:117 Set parameter MIPGap to value 0.05\n"
     ]
    },
    {
     "name": "stdout",
     "output_type": "stream",
     "text": [
      "Creating network topology\n",
      "  exposure 1\n",
      "Calculating visibilities\n",
      "adding constraints\n",
      "adding collision constraints\n",
      "adding forbidden pair constraints\n",
      "Gurobi Optimizer version 10.0.1 build v10.0.1rc0 (mac64[x86])\n"
     ]
    },
    {
     "name": "stderr",
     "output_type": "stream",
     "text": [
      "2025-01-12 01:21:51.364Z gurobipy         20 netflow.py:149 Gurobi Optimizer version 10.0.1 build v10.0.1rc0 (mac64[x86])\n"
     ]
    },
    {
     "name": "stdout",
     "output_type": "stream",
     "text": [
      "\n"
     ]
    },
    {
     "name": "stderr",
     "output_type": "stream",
     "text": [
      "2025-01-12 01:21:51.367Z gurobipy         20 netflow.py:149 \n"
     ]
    },
    {
     "name": "stdout",
     "output_type": "stream",
     "text": [
      "CPU model: Intel(R) Core(TM) i7-8569U CPU @ 2.80GHz\n"
     ]
    },
    {
     "name": "stderr",
     "output_type": "stream",
     "text": [
      "2025-01-12 01:21:51.370Z gurobipy         20 netflow.py:149 CPU model: Intel(R) Core(TM) i7-8569U CPU @ 2.80GHz\n"
     ]
    },
    {
     "name": "stdout",
     "output_type": "stream",
     "text": [
      "Thread count: 4 physical cores, 8 logical processors, using up to 8 threads\n"
     ]
    },
    {
     "name": "stderr",
     "output_type": "stream",
     "text": [
      "2025-01-12 01:21:51.372Z gurobipy         20 netflow.py:149 Thread count: 4 physical cores, 8 logical processors, using up to 8 threads\n"
     ]
    },
    {
     "name": "stdout",
     "output_type": "stream",
     "text": [
      "\n"
     ]
    },
    {
     "name": "stderr",
     "output_type": "stream",
     "text": [
      "2025-01-12 01:21:51.375Z gurobipy         20 netflow.py:149 \n"
     ]
    },
    {
     "name": "stdout",
     "output_type": "stream",
     "text": [
      "Academic license 2379863 - for non-commercial use only - registered to ji___@ipmu.jp\n"
     ]
    },
    {
     "name": "stderr",
     "output_type": "stream",
     "text": [
      "2025-01-12 01:21:51.378Z gurobipy         20 netflow.py:149 Academic license 2379863 - for non-commercial use only - registered to ji___@ipmu.jp\n"
     ]
    },
    {
     "name": "stdout",
     "output_type": "stream",
     "text": [
      "Optimize a model with 139856 rows, 72836 columns and 362086 nonzeros\n"
     ]
    },
    {
     "name": "stderr",
     "output_type": "stream",
     "text": [
      "2025-01-12 01:21:51.380Z gurobipy         20 netflow.py:149 Optimize a model with 139856 rows, 72836 columns and 362086 nonzeros\n"
     ]
    },
    {
     "name": "stdout",
     "output_type": "stream",
     "text": [
      "Model fingerprint: 0x59f14d6b\n"
     ]
    },
    {
     "name": "stderr",
     "output_type": "stream",
     "text": [
      "2025-01-12 01:21:51.385Z gurobipy         20 netflow.py:149 Model fingerprint: 0x59f14d6b\n"
     ]
    },
    {
     "name": "stdout",
     "output_type": "stream",
     "text": [
      "Variable types: 1 continuous, 72835 integer (72833 binary)\n"
     ]
    },
    {
     "name": "stderr",
     "output_type": "stream",
     "text": [
      "2025-01-12 01:21:51.387Z gurobipy         20 netflow.py:149 Variable types: 1 continuous, 72835 integer (72833 binary)\n"
     ]
    },
    {
     "name": "stdout",
     "output_type": "stream",
     "text": [
      "Coefficient statistics:\n"
     ]
    },
    {
     "name": "stderr",
     "output_type": "stream",
     "text": [
      "2025-01-12 01:21:51.393Z gurobipy         20 netflow.py:149 Coefficient statistics:\n"
     ]
    },
    {
     "name": "stdout",
     "output_type": "stream",
     "text": [
      "  Matrix range     [1e+00, 1e+00]\n"
     ]
    },
    {
     "name": "stderr",
     "output_type": "stream",
     "text": [
      "2025-01-12 01:21:51.395Z gurobipy         20 netflow.py:149   Matrix range     [1e+00, 1e+00]\n"
     ]
    },
    {
     "name": "stdout",
     "output_type": "stream",
     "text": [
      "  Objective range  [1e-01, 1e+06]\n"
     ]
    },
    {
     "name": "stderr",
     "output_type": "stream",
     "text": [
      "2025-01-12 01:21:51.396Z gurobipy         20 netflow.py:149   Objective range  [1e-01, 1e+06]\n"
     ]
    },
    {
     "name": "stdout",
     "output_type": "stream",
     "text": [
      "  Bounds range     [1e+00, 1e+00]\n"
     ]
    },
    {
     "name": "stderr",
     "output_type": "stream",
     "text": [
      "2025-01-12 01:21:51.400Z gurobipy         20 netflow.py:149   Bounds range     [1e+00, 1e+00]\n"
     ]
    },
    {
     "name": "stdout",
     "output_type": "stream",
     "text": [
      "  RHS range        [1e+00, 4e+02]\n"
     ]
    },
    {
     "name": "stderr",
     "output_type": "stream",
     "text": [
      "2025-01-12 01:21:51.402Z gurobipy         20 netflow.py:149   RHS range        [1e+00, 4e+02]\n"
     ]
    },
    {
     "name": "stdout",
     "output_type": "stream",
     "text": [
      "Found heuristic solution: objective 6.000000e+08\n"
     ]
    },
    {
     "name": "stderr",
     "output_type": "stream",
     "text": [
      "2025-01-12 01:21:51.423Z gurobipy         20 netflow.py:149 Found heuristic solution: objective 6.000000e+08\n"
     ]
    },
    {
     "name": "stdout",
     "output_type": "stream",
     "text": [
      "Presolve removed 139004 rows and 69795 columns\n"
     ]
    },
    {
     "name": "stderr",
     "output_type": "stream",
     "text": [
      "2025-01-12 01:21:52.139Z gurobipy         20 netflow.py:149 Presolve removed 139004 rows and 69795 columns\n"
     ]
    },
    {
     "name": "stdout",
     "output_type": "stream",
     "text": [
      "Presolve time: 0.69s\n"
     ]
    },
    {
     "name": "stderr",
     "output_type": "stream",
     "text": [
      "2025-01-12 01:21:52.141Z gurobipy         20 netflow.py:149 Presolve time: 0.69s\n"
     ]
    },
    {
     "name": "stdout",
     "output_type": "stream",
     "text": [
      "Presolved: 852 rows, 3041 columns, 4926 nonzeros\n"
     ]
    },
    {
     "name": "stderr",
     "output_type": "stream",
     "text": [
      "2025-01-12 01:21:52.148Z gurobipy         20 netflow.py:149 Presolved: 852 rows, 3041 columns, 4926 nonzeros\n"
     ]
    },
    {
     "name": "stdout",
     "output_type": "stream",
     "text": [
      "Variable types: 0 continuous, 3041 integer (3039 binary)\n"
     ]
    },
    {
     "name": "stderr",
     "output_type": "stream",
     "text": [
      "2025-01-12 01:21:52.156Z gurobipy         20 netflow.py:149 Variable types: 0 continuous, 3041 integer (3039 binary)\n"
     ]
    },
    {
     "name": "stdout",
     "output_type": "stream",
     "text": [
      "Found heuristic solution: objective 5.980000e+08\n"
     ]
    },
    {
     "name": "stderr",
     "output_type": "stream",
     "text": [
      "2025-01-12 01:21:52.159Z gurobipy         20 netflow.py:149 Found heuristic solution: objective 5.980000e+08\n"
     ]
    },
    {
     "name": "stdout",
     "output_type": "stream",
     "text": [
      "Deterministic concurrent LP optimizer: dual simplex and barrier\n"
     ]
    },
    {
     "name": "stderr",
     "output_type": "stream",
     "text": [
      "2025-01-12 01:21:52.164Z gurobipy         20 netflow.py:149 Deterministic concurrent LP optimizer: dual simplex and barrier\n"
     ]
    },
    {
     "name": "stdout",
     "output_type": "stream",
     "text": [
      "Showing barrier log only...\n"
     ]
    },
    {
     "name": "stderr",
     "output_type": "stream",
     "text": [
      "2025-01-12 01:21:52.165Z gurobipy         20 netflow.py:149 Showing barrier log only...\n"
     ]
    },
    {
     "name": "stdout",
     "output_type": "stream",
     "text": [
      "\n"
     ]
    },
    {
     "name": "stderr",
     "output_type": "stream",
     "text": [
      "2025-01-12 01:21:52.167Z gurobipy         20 netflow.py:149 \n"
     ]
    },
    {
     "name": "stdout",
     "output_type": "stream",
     "text": [
      "Root barrier log...\n"
     ]
    },
    {
     "name": "stderr",
     "output_type": "stream",
     "text": [
      "2025-01-12 01:21:52.173Z gurobipy         20 netflow.py:149 Root barrier log...\n"
     ]
    },
    {
     "name": "stdout",
     "output_type": "stream",
     "text": [
      "\n"
     ]
    },
    {
     "name": "stderr",
     "output_type": "stream",
     "text": [
      "2025-01-12 01:21:52.175Z gurobipy         20 netflow.py:149 \n"
     ]
    },
    {
     "name": "stdout",
     "output_type": "stream",
     "text": [
      "Ordering time: 0.00s\n"
     ]
    },
    {
     "name": "stderr",
     "output_type": "stream",
     "text": [
      "2025-01-12 01:21:52.177Z gurobipy         20 netflow.py:149 Ordering time: 0.00s\n"
     ]
    },
    {
     "name": "stdout",
     "output_type": "stream",
     "text": [
      "\n"
     ]
    },
    {
     "name": "stderr",
     "output_type": "stream",
     "text": [
      "2025-01-12 01:21:52.179Z gurobipy         20 netflow.py:149 \n"
     ]
    },
    {
     "name": "stdout",
     "output_type": "stream",
     "text": [
      "Barrier statistics:\n"
     ]
    },
    {
     "name": "stderr",
     "output_type": "stream",
     "text": [
      "2025-01-12 01:21:52.180Z gurobipy         20 netflow.py:149 Barrier statistics:\n"
     ]
    },
    {
     "name": "stdout",
     "output_type": "stream",
     "text": [
      " AA' NZ     : 1.792e+03\n"
     ]
    },
    {
     "name": "stderr",
     "output_type": "stream",
     "text": [
      "2025-01-12 01:21:52.183Z gurobipy         20 netflow.py:149  AA' NZ     : 1.792e+03\n"
     ]
    },
    {
     "name": "stdout",
     "output_type": "stream",
     "text": [
      " Factor NZ  : 3.946e+03 (roughly 2 MB of memory)\n"
     ]
    },
    {
     "name": "stderr",
     "output_type": "stream",
     "text": [
      "2025-01-12 01:21:52.185Z gurobipy         20 netflow.py:149  Factor NZ  : 3.946e+03 (roughly 2 MB of memory)\n"
     ]
    },
    {
     "name": "stdout",
     "output_type": "stream",
     "text": [
      " Factor Ops : 2.889e+04 (less than 1 second per iteration)\n"
     ]
    },
    {
     "name": "stderr",
     "output_type": "stream",
     "text": [
      "2025-01-12 01:21:52.187Z gurobipy         20 netflow.py:149  Factor Ops : 2.889e+04 (less than 1 second per iteration)\n"
     ]
    },
    {
     "name": "stdout",
     "output_type": "stream",
     "text": [
      " Threads    : 1\n"
     ]
    },
    {
     "name": "stderr",
     "output_type": "stream",
     "text": [
      "2025-01-12 01:21:52.193Z gurobipy         20 netflow.py:149  Threads    : 1\n"
     ]
    },
    {
     "name": "stdout",
     "output_type": "stream",
     "text": [
      "\n"
     ]
    },
    {
     "name": "stderr",
     "output_type": "stream",
     "text": [
      "2025-01-12 01:21:52.195Z gurobipy         20 netflow.py:149 \n"
     ]
    },
    {
     "name": "stdout",
     "output_type": "stream",
     "text": [
      "                  Objective                Residual\n"
     ]
    },
    {
     "name": "stderr",
     "output_type": "stream",
     "text": [
      "2025-01-12 01:21:52.197Z gurobipy         20 netflow.py:149                   Objective                Residual\n"
     ]
    },
    {
     "name": "stdout",
     "output_type": "stream",
     "text": [
      "Iter       Primal          Dual         Primal    Dual     Compl     Time\n"
     ]
    },
    {
     "name": "stderr",
     "output_type": "stream",
     "text": [
      "2025-01-12 01:21:52.198Z gurobipy         20 netflow.py:149 Iter       Primal          Dual         Primal    Dual     Compl     Time\n"
     ]
    },
    {
     "name": "stdout",
     "output_type": "stream",
     "text": [
      "   0   3.76910506e+08 -2.44562128e+09  3.98e+01 3.71e+04  3.39e+07     1s\n"
     ]
    },
    {
     "name": "stderr",
     "output_type": "stream",
     "text": [
      "2025-01-12 01:21:52.199Z gurobipy         20 netflow.py:149    0   3.76910506e+08 -2.44562128e+09  3.98e+01 3.71e+04  3.39e+07     1s\n"
     ]
    },
    {
     "name": "stdout",
     "output_type": "stream",
     "text": [
      "\n"
     ]
    },
    {
     "name": "stderr",
     "output_type": "stream",
     "text": [
      "2025-01-12 01:21:52.201Z gurobipy         20 netflow.py:149 \n"
     ]
    },
    {
     "name": "stdout",
     "output_type": "stream",
     "text": [
      "Barrier performed 0 iterations in 0.82 seconds (0.35 work units)\n"
     ]
    },
    {
     "name": "stderr",
     "output_type": "stream",
     "text": [
      "2025-01-12 01:21:52.206Z gurobipy         20 netflow.py:149 Barrier performed 0 iterations in 0.82 seconds (0.35 work units)\n"
     ]
    },
    {
     "name": "stdout",
     "output_type": "stream",
     "text": [
      "Barrier solve interrupted - model solved by another algorithm\n"
     ]
    },
    {
     "name": "stderr",
     "output_type": "stream",
     "text": [
      "2025-01-12 01:21:52.211Z gurobipy         20 netflow.py:149 Barrier solve interrupted - model solved by another algorithm\n"
     ]
    },
    {
     "name": "stdout",
     "output_type": "stream",
     "text": [
      "\n"
     ]
    },
    {
     "name": "stderr",
     "output_type": "stream",
     "text": [
      "2025-01-12 01:21:52.213Z gurobipy         20 netflow.py:149 \n"
     ]
    },
    {
     "name": "stdout",
     "output_type": "stream",
     "text": [
      "Concurrent spin time: 0.04s\n"
     ]
    },
    {
     "name": "stderr",
     "output_type": "stream",
     "text": [
      "2025-01-12 01:21:52.215Z gurobipy         20 netflow.py:149 Concurrent spin time: 0.04s\n"
     ]
    },
    {
     "name": "stdout",
     "output_type": "stream",
     "text": [
      "\n"
     ]
    },
    {
     "name": "stderr",
     "output_type": "stream",
     "text": [
      "2025-01-12 01:21:52.220Z gurobipy         20 netflow.py:149 \n"
     ]
    },
    {
     "name": "stdout",
     "output_type": "stream",
     "text": [
      "Solved with dual simplex\n"
     ]
    },
    {
     "name": "stderr",
     "output_type": "stream",
     "text": [
      "2025-01-12 01:21:52.221Z gurobipy         20 netflow.py:149 Solved with dual simplex\n"
     ]
    },
    {
     "name": "stdout",
     "output_type": "stream",
     "text": [
      "\n"
     ]
    },
    {
     "name": "stderr",
     "output_type": "stream",
     "text": [
      "2025-01-12 01:21:52.226Z gurobipy         20 netflow.py:149 \n"
     ]
    },
    {
     "name": "stdout",
     "output_type": "stream",
     "text": [
      "Root relaxation: objective 1.044055e+02, 93 iterations, 0.07 seconds (0.00 work units)\n"
     ]
    },
    {
     "name": "stderr",
     "output_type": "stream",
     "text": [
      "2025-01-12 01:21:52.228Z gurobipy         20 netflow.py:149 Root relaxation: objective 1.044055e+02, 93 iterations, 0.07 seconds (0.00 work units)\n"
     ]
    },
    {
     "name": "stdout",
     "output_type": "stream",
     "text": [
      "\n"
     ]
    },
    {
     "name": "stderr",
     "output_type": "stream",
     "text": [
      "2025-01-12 01:21:52.242Z gurobipy         20 netflow.py:149 \n"
     ]
    },
    {
     "name": "stdout",
     "output_type": "stream",
     "text": [
      "    Nodes    |    Current Node    |     Objective Bounds      |     Work\n"
     ]
    },
    {
     "name": "stderr",
     "output_type": "stream",
     "text": [
      "2025-01-12 01:21:52.244Z gurobipy         20 netflow.py:149     Nodes    |    Current Node    |     Objective Bounds      |     Work\n"
     ]
    },
    {
     "name": "stdout",
     "output_type": "stream",
     "text": [
      " Expl Unexpl |  Obj  Depth IntInf | Incumbent    BestBd   Gap | It/Node Time\n"
     ]
    },
    {
     "name": "stderr",
     "output_type": "stream",
     "text": [
      "2025-01-12 01:21:52.246Z gurobipy         20 netflow.py:149  Expl Unexpl |  Obj  Depth IntInf | Incumbent    BestBd   Gap | It/Node Time\n"
     ]
    },
    {
     "name": "stdout",
     "output_type": "stream",
     "text": [
      "\n"
     ]
    },
    {
     "name": "stderr",
     "output_type": "stream",
     "text": [
      "2025-01-12 01:21:52.247Z gurobipy         20 netflow.py:149 \n"
     ]
    },
    {
     "name": "stdout",
     "output_type": "stream",
     "text": [
      "*    0     0               0     104.4054902  104.40549  0.00%     -    0s\n"
     ]
    },
    {
     "name": "stderr",
     "output_type": "stream",
     "text": [
      "2025-01-12 01:21:52.249Z gurobipy         20 netflow.py:149 *    0     0               0     104.4054902  104.40549  0.00%     -    0s\n"
     ]
    },
    {
     "name": "stdout",
     "output_type": "stream",
     "text": [
      "\n"
     ]
    },
    {
     "name": "stderr",
     "output_type": "stream",
     "text": [
      "2025-01-12 01:21:52.273Z gurobipy         20 netflow.py:149 \n"
     ]
    },
    {
     "name": "stdout",
     "output_type": "stream",
     "text": [
      "Explored 1 nodes (93 simplex iterations) in 0.90 seconds (0.35 work units)\n"
     ]
    },
    {
     "name": "stderr",
     "output_type": "stream",
     "text": [
      "2025-01-12 01:21:52.275Z gurobipy         20 netflow.py:149 Explored 1 nodes (93 simplex iterations) in 0.90 seconds (0.35 work units)\n"
     ]
    },
    {
     "name": "stdout",
     "output_type": "stream",
     "text": [
      "Thread count was 8 (of 8 available processors)\n"
     ]
    },
    {
     "name": "stderr",
     "output_type": "stream",
     "text": [
      "2025-01-12 01:21:52.277Z gurobipy         20 netflow.py:149 Thread count was 8 (of 8 available processors)\n"
     ]
    },
    {
     "name": "stdout",
     "output_type": "stream",
     "text": [
      "\n"
     ]
    },
    {
     "name": "stderr",
     "output_type": "stream",
     "text": [
      "2025-01-12 01:21:52.282Z gurobipy         20 netflow.py:149 \n"
     ]
    },
    {
     "name": "stdout",
     "output_type": "stream",
     "text": [
      "Solution count 3: 104.405 5.98e+08 6e+08 \n"
     ]
    },
    {
     "name": "stderr",
     "output_type": "stream",
     "text": [
      "2025-01-12 01:21:52.297Z gurobipy         20 netflow.py:149 Solution count 3: 104.405 5.98e+08 6e+08 \n"
     ]
    },
    {
     "name": "stdout",
     "output_type": "stream",
     "text": [
      "\n"
     ]
    },
    {
     "name": "stderr",
     "output_type": "stream",
     "text": [
      "2025-01-12 01:21:52.299Z gurobipy         20 netflow.py:149 \n"
     ]
    },
    {
     "name": "stdout",
     "output_type": "stream",
     "text": [
      "Optimal solution found (tolerance 5.00e-02)\n"
     ]
    },
    {
     "name": "stderr",
     "output_type": "stream",
     "text": [
      "2025-01-12 01:21:52.306Z gurobipy         20 netflow.py:149 Optimal solution found (tolerance 5.00e-02)\n"
     ]
    },
    {
     "name": "stdout",
     "output_type": "stream",
     "text": [
      "Best objective 1.044054901506e+02, best bound 1.044054901506e+02, gap 0.0000%\n"
     ]
    },
    {
     "name": "stderr",
     "output_type": "stream",
     "text": [
      "2025-01-12 01:21:52.311Z gurobipy         20 netflow.py:149 Best objective 1.044054901506e+02, best bound 1.044054901506e+02, gap 0.0000%\n"
     ]
    },
    {
     "name": "stdout",
     "output_type": "stream",
     "text": [
      "Checking for trajectory collisions\n"
     ]
    },
    {
     "name": "stderr",
     "output_type": "stream",
     "text": [
      "2025-01-12 01:21:52.967Z pfi              40 pfi.py:896 Some theta angles are out of range\n",
      "2025-01-12 01:21:52.968Z pfi              40 pfi.py:899 Some phi angles are out of range\n",
      "2025-01-12 01:21:53.131Z pfi              40 pfi.py:899 Some phi angles are out of range\n",
      "2025-01-12 01:21:53.166Z pfi              40 pfi.py:899 Some phi angles are out of range\n",
      "2025-01-12 01:21:53.169Z engineer         20 engineer.py:395 Move theta arms to angle=[360.  360.  270.9 ... 360.  360.  360. ] degree\n",
      "2025-01-12 01:21:53.170Z engineer         20 engineer.py:396 Move phi arms to angle=[11.09 24.48 35.88 ...  8.43 11.99  9.16] degree\n",
      "2025-01-12 01:21:53.171Z engineer         20 engineer.py:398 Checking passed homed argument = True\n",
      "2025-01-12 01:21:53.173Z engineer         20 engineer.py:402 Move theta arms CW and phi arms CCW to the hard stops\n",
      "2025-01-12 01:21:53.198Z cobraCoach       20 cobraCoach.py:1065 home cobras: theta=10000, phi=-5000\n",
      "2025-01-12 01:21:53.226Z pfi              40 pfi.py:899 Some phi angles are out of range\n",
      "2025-01-12 01:21:53.252Z pfi              40 pfi.py:899 Some phi angles are out of range\n",
      "2025-01-12 01:21:53.276Z cobraCoach       20 cobraCoach.py:1009 Moving deltaTheta = [-0.29458444 -0.38204686 -1.91112292 ... -0.40597169 -0.4013664\n",
      " -0.41592376]\n",
      "2025-01-12 01:21:53.277Z cobraCoach       20 cobraCoach.py:1010 Moving deltaPhi = [0.19361448 0.42723261 0.6262403  ... 0.14708474 0.20932294 0.15978886]\n",
      "2025-01-12 01:21:53.535Z cobraCoach       20 cobraCoach.py:877 Finished converting angle to steps, sending command to moveSteps (constantOntime).\n",
      "2025-01-12 01:21:54.065Z cobraCoach       20 cobraCoach.py:587 Sending step numbers to FPGA for moving cobra.\n",
      "2025-01-12 01:21:54.180Z cobraCoach       20 cobraCoach.py:601 cobra control FPGA operation done.\n",
      "2025-01-12 01:21:54.203Z pfi              40 pfi.py:896 Some theta angles are out of range\n",
      "2025-01-12 01:21:54.204Z pfi              40 pfi.py:899 Some phi angles are out of range\n",
      "2025-01-12 01:21:54.309Z cobraCoach       30 cobraCoach.py:675 Cobra#344 is too far from center\n",
      "2025-01-12 01:21:54.312Z cobraCoach       30 cobraCoach.py:675 Cobra#443 is too far from center\n",
      "2025-01-12 01:21:54.315Z cobraCoach       30 cobraCoach.py:675 Cobra#493 is too far from center\n",
      "2025-01-12 01:21:54.339Z cobraCoach       30 cobraCoach.py:675 Cobra#1303 is too far from center\n",
      "2025-01-12 01:21:54.351Z cobraCoach       30 cobraCoach.py:675 Cobra#1637 is too far from center\n",
      "2025-01-12 01:21:54.356Z cobraCoach       30 cobraCoach.py:675 Cobra#1790 is too far from center\n",
      "2025-01-12 01:21:54.358Z cobraCoach       30 cobraCoach.py:675 Cobra#1792 is too far from center\n",
      "2025-01-12 01:21:54.380Z engineer         20 engineer.py:433 done: [   0    1    2 ... 2391 2392 2393], 14 left\n",
      "2025-01-12 01:21:54.382Z cobraCoach       30 cobraCoach.py:1003 Last phi angle is unknown, not moving: [1459]\n",
      "2025-01-12 01:21:54.383Z cobraCoach       20 cobraCoach.py:1009 Moving deltaTheta = [-1.01748456e-05 -1.01748456e-05 -1.01748456e-05  1.42413045e-04\n",
      " -1.01748456e-05 -1.01748456e-05 -1.01748456e-05 -1.01748455e-05\n",
      " -1.01748456e-05  6.92683126e-04 -1.01748455e-05 -1.01748456e-05\n",
      " -1.01748456e-05  1.10228624e-03]\n",
      "2025-01-12 01:21:54.384Z cobraCoach       20 cobraCoach.py:1010 Moving deltaPhi = [-6.10865247 -6.10865247 -6.10865247 -0.04164008 -2.96705959 -6.10865247\n",
      "  0.         -2.96705964 -2.96705969 -0.06341524 -6.10865247 -6.10865247\n",
      " -6.10865247 -0.0498779 ]\n",
      "2025-01-12 01:21:54.387Z cobraCoach       30 cobraCoach.py:846 Last phi angle is unknown: [1459]\n",
      "2025-01-12 01:21:54.390Z cobraCoach       20 cobraCoach.py:877 Finished converting angle to steps, sending command to moveSteps (constantOntime).\n",
      "2025-01-12 01:21:54.397Z cobraCoach       20 cobraCoach.py:587 Sending step numbers to FPGA for moving cobra.\n",
      "2025-01-12 01:21:54.399Z cobraCoach       20 cobraCoach.py:601 cobra control FPGA operation done.\n",
      "2025-01-12 01:21:54.423Z pfi              40 pfi.py:896 Some theta angles are out of range\n",
      "2025-01-12 01:21:54.424Z pfi              40 pfi.py:899 Some phi angles are out of range\n",
      "2025-01-12 01:21:54.519Z cobraCoach       30 cobraCoach.py:675 Cobra#344 is too far from center\n",
      "2025-01-12 01:21:54.520Z cobraCoach       30 cobraCoach.py:679 Cobra#1460 is too close to center\n",
      "2025-01-12 01:21:54.522Z cobraCoach       30 cobraCoach.py:675 Cobra#1637 is too far from center\n",
      "2025-01-12 01:21:54.524Z cobraCoach       30 cobraCoach.py:675 Cobra#1790 is too far from center\n",
      "2025-01-12 01:21:54.528Z engineer         30 engineer.py:442 14 cobras did not finish: [ 343  442  492  578  737 1302 1459 1493 1538 1587 1636 1789 1791 1969], [4.67 4.67 4.67 0.11 4.67 4.67 0.82 4.67 4.67 0.16 4.67 4.67 4.67 0.11]\n",
      "2025-01-12 01:21:54.551Z pfi              40 pfi.py:899 Some phi angles are out of range\n",
      "2025-01-12 01:21:54.554Z engineer         20 engineer.py:395 Move theta arms to angle=[360.  360.  270.9 ... 360.  360.  360. ] degree\n",
      "2025-01-12 01:21:54.555Z engineer         20 engineer.py:396 Move phi arms to angle=[11.09 24.48 35.88 ...  8.43 11.99  9.16] degree\n",
      "2025-01-12 01:21:54.556Z engineer         20 engineer.py:398 Checking passed homed argument = False\n",
      "2025-01-12 01:21:54.583Z cobraCoach       20 cobraCoach.py:1009 Moving deltaTheta = [-0.00026719 -0.0001518   0.00013482 ... -0.00025479  0.00038417\n",
      " -0.000724  ]\n",
      "2025-01-12 01:21:54.584Z cobraCoach       20 cobraCoach.py:1010 Moving deltaPhi = [ 8.60699099e-05 -8.34333106e-04 -3.81240990e-04 ...  6.56574960e-04\n",
      " -8.39715058e-04 -4.29651246e-04]\n",
      "2025-01-12 01:21:54.781Z cobraCoach       20 cobraCoach.py:877 Finished converting angle to steps, sending command to moveSteps (constantOntime).\n",
      "2025-01-12 01:21:54.992Z cobraCoach       20 cobraCoach.py:587 Sending step numbers to FPGA for moving cobra.\n",
      "2025-01-12 01:21:55.130Z cobraCoach       20 cobraCoach.py:601 cobra control FPGA operation done.\n",
      "2025-01-12 01:21:55.163Z pfi              40 pfi.py:896 Some theta angles are out of range\n",
      "2025-01-12 01:21:55.166Z pfi              40 pfi.py:899 Some phi angles are out of range\n",
      "2025-01-12 01:21:55.309Z cobraCoach       30 cobraCoach.py:675 Cobra#1303 is too far from center\n",
      "2025-01-12 01:21:55.323Z cobraCoach       30 cobraCoach.py:675 Cobra#1790 is too far from center\n",
      "2025-01-12 01:21:55.345Z engineer         20 engineer.py:433 done: [   0    1    2 ... 2391 2392 2393], 14 left\n",
      "2025-01-12 01:21:55.346Z cobraCoach       30 cobraCoach.py:1003 Last phi angle is unknown, not moving: [1459]\n",
      "2025-01-12 01:21:55.349Z cobraCoach       20 cobraCoach.py:1009 Moving deltaTheta = [-1.94233989e-04 -5.14191722e-04 -6.14804362e-04  1.42413045e-04\n",
      " -1.01748456e-05  2.69975771e-06 -1.01748456e-05 -1.01748455e-05\n",
      " -1.01748456e-05 -2.97707652e-04 -1.03632841e-03 -1.01748456e-05\n",
      " -3.80200480e-04 -1.05065440e-04]\n",
      "2025-01-12 01:21:55.351Z cobraCoach       20 cobraCoach.py:1010 Moving deltaPhi = [-2.96687409 -2.96705963 -2.9670596  -0.04164008 -2.96705959 -6.10865247\n",
      "  0.         -2.96705964 -2.96705969 -0.06341524 -2.96602327 -6.10865247\n",
      " -2.9670596  -0.0498779 ]\n",
      "2025-01-12 01:21:55.353Z cobraCoach       30 cobraCoach.py:846 Last phi angle is unknown: [1459]\n",
      "2025-01-12 01:21:55.357Z cobraCoach       20 cobraCoach.py:877 Finished converting angle to steps, sending command to moveSteps (constantOntime).\n",
      "2025-01-12 01:21:55.365Z cobraCoach       20 cobraCoach.py:587 Sending step numbers to FPGA for moving cobra.\n",
      "2025-01-12 01:21:55.367Z cobraCoach       20 cobraCoach.py:601 cobra control FPGA operation done.\n",
      "2025-01-12 01:21:55.391Z pfi              40 pfi.py:896 Some theta angles are out of range\n",
      "2025-01-12 01:21:55.392Z pfi              40 pfi.py:899 Some phi angles are out of range\n",
      "2025-01-12 01:21:55.488Z cobraCoach       30 cobraCoach.py:675 Cobra#344 is too far from center\n",
      "2025-01-12 01:21:55.489Z pfi              30 pfi.py:475 clipping scale adjustment from 0.2573481031895782 to 0.3\n",
      "2025-01-12 01:21:55.491Z cobraCoach       30 cobraCoach.py:679 Cobra#1460 is too close to center\n",
      "2025-01-12 01:21:55.493Z pfi              30 pfi.py:475 clipping scale adjustment from 0.26154231110049525 to 0.3\n",
      "2025-01-12 01:21:55.497Z cobraCoach       20 cobraCoach.py:1009 Moving deltaTheta = [-1.94233989e-04 -5.14191722e-04 -6.14804362e-04  1.42413045e-04\n",
      " -1.01748456e-05 -1.09852569e+00 -1.01748456e-05 -1.01748455e-05\n",
      " -1.01748456e-05 -2.97707652e-04 -1.03632841e-03 -1.07143418e+00\n",
      " -3.80200480e-04 -1.05065440e-04]\n",
      "2025-01-12 01:21:55.498Z cobraCoach       20 cobraCoach.py:1010 Moving deltaPhi = [-6.10865247 -2.96705963 -2.9670596  -0.04164008 -2.96705959 -1.71883189\n",
      " -2.96705973 -2.96705964 -2.96705969 -0.06341524 -2.96705964 -1.88389766\n",
      " -2.9670596  -0.0498779 ]\n",
      "2025-01-12 01:21:55.502Z cobraCoach       20 cobraCoach.py:877 Finished converting angle to steps, sending command to moveSteps (constantOntime).\n",
      "2025-01-12 01:21:55.507Z cobraCoach       20 cobraCoach.py:587 Sending step numbers to FPGA for moving cobra.\n",
      "2025-01-12 01:21:55.510Z cobraCoach       20 cobraCoach.py:601 cobra control FPGA operation done.\n",
      "2025-01-12 01:21:55.534Z pfi              40 pfi.py:896 Some theta angles are out of range\n",
      "2025-01-12 01:21:55.535Z pfi              40 pfi.py:899 Some phi angles are out of range\n",
      "2025-01-12 01:21:55.633Z pfi              30 pfi.py:475 clipping scale adjustment from 0.2859424141191533 to 0.3\n",
      "2025-01-12 01:21:55.634Z cobraCoach       30 cobraCoach.py:675 Cobra#1303 is too far from center\n",
      "2025-01-12 01:21:55.634Z pfi              30 pfi.py:475 clipping scale adjustment from 0.29999999904403885 to 0.3\n",
      "2025-01-12 01:21:55.636Z cobraCoach       30 cobraCoach.py:675 Cobra#1790 is too far from center\n",
      "2025-01-12 01:21:55.642Z cobraCoach       30 cobraCoach.py:1003 Last phi angle is unknown, not moving: [1459]\n",
      "2025-01-12 01:21:55.643Z cobraCoach       20 cobraCoach.py:1009 Moving deltaTheta = [-3.21863813e-01 -5.14191722e-04 -6.14804362e-04  1.42413045e-04\n",
      " -1.01748456e-05 -6.82685060e-01 -1.01748456e-05 -1.01748455e-05\n",
      " -1.01748456e-05 -2.97707652e-04 -1.03632841e-03 -3.25590772e-01\n",
      " -3.80200480e-04 -1.05065440e-04]\n",
      "2025-01-12 01:21:55.645Z cobraCoach       20 cobraCoach.py:1010 Moving deltaPhi = [-2.64219266 -2.96705963 -2.9670596  -0.04164008 -2.96705959 -6.10865247\n",
      "  0.         -2.96705964 -2.96705969 -0.06341524 -2.96705964 -6.10865247\n",
      " -2.9670596  -0.0498779 ]\n",
      "2025-01-12 01:21:55.647Z cobraCoach       30 cobraCoach.py:846 Last phi angle is unknown: [1459]\n",
      "2025-01-12 01:21:55.652Z cobraCoach       20 cobraCoach.py:877 Finished converting angle to steps, sending command to moveSteps (constantOntime).\n",
      "2025-01-12 01:21:55.662Z cobraCoach       20 cobraCoach.py:587 Sending step numbers to FPGA for moving cobra.\n",
      "2025-01-12 01:21:55.665Z cobraCoach       20 cobraCoach.py:601 cobra control FPGA operation done.\n",
      "2025-01-12 01:21:55.689Z pfi              40 pfi.py:896 Some theta angles are out of range\n",
      "2025-01-12 01:21:55.691Z pfi              40 pfi.py:899 Some phi angles are out of range\n",
      "2025-01-12 01:21:55.787Z pfi              30 pfi.py:475 clipping scale adjustment from 0.22521650184055392 to 0.3\n",
      "2025-01-12 01:21:55.788Z pfi              30 pfi.py:475 clipping scale adjustment from 0.2573481031895782 to 0.3\n",
      "2025-01-12 01:21:55.789Z cobraCoach       30 cobraCoach.py:679 Cobra#1460 is too close to center\n",
      "2025-01-12 01:21:55.791Z pfi              30 pfi.py:475 clipping scale adjustment from 0.22664453700152026 to 0.3\n",
      "2025-01-12 01:21:55.792Z pfi              30 pfi.py:475 clipping scale adjustment from 0.26154231110049525 to 0.3\n",
      "2025-01-12 01:21:55.798Z cobraCoach       20 cobraCoach.py:1009 Moving deltaTheta = [-2.17122172e-04 -5.14191722e-04 -6.14804362e-04  1.42413045e-04\n",
      " -1.01748456e-05  4.51698156e+00 -1.01748456e-05 -1.01748455e-05\n",
      " -1.01748456e-05 -2.97707652e-04 -1.03632841e-03  5.00301130e+00\n",
      " -3.80200480e-04 -1.05065440e-04]\n",
      "2025-01-12 01:21:55.799Z cobraCoach       20 cobraCoach.py:1010 Moving deltaPhi = [-2.96705965 -2.96705963 -2.9670596  -0.04164008 -2.96705959 -1.71883189\n",
      " -2.96705973 -2.96705964 -2.96705969 -0.06341524 -2.96705964 -1.88389766\n",
      " -2.9670596  -0.0498779 ]\n",
      "2025-01-12 01:21:55.801Z cobraCoach       20 cobraCoach.py:877 Finished converting angle to steps, sending command to moveSteps (constantOntime).\n",
      "2025-01-12 01:21:55.810Z cobraCoach       20 cobraCoach.py:587 Sending step numbers to FPGA for moving cobra.\n",
      "2025-01-12 01:21:55.813Z cobraCoach       20 cobraCoach.py:601 cobra control FPGA operation done.\n",
      "2025-01-12 01:21:55.837Z pfi              40 pfi.py:896 Some theta angles are out of range\n",
      "2025-01-12 01:21:55.838Z pfi              40 pfi.py:899 Some phi angles are out of range\n",
      "2025-01-12 01:21:55.934Z cobraCoach       30 cobraCoach.py:675 Cobra#1790 is too far from center\n",
      "2025-01-12 01:21:55.935Z pfi              30 pfi.py:475 clipping scale adjustment from 0.29999999510714737 to 0.3\n",
      "2025-01-12 01:21:55.938Z cobraCoach       30 cobraCoach.py:1003 Last phi angle is unknown, not moving: [1459]\n",
      "2025-01-12 01:21:55.940Z cobraCoach       20 cobraCoach.py:1009 Moving deltaTheta = [-2.17122172e-04 -5.14191722e-04 -6.14804362e-04  1.42413045e-04\n",
      " -1.01748456e-05 -4.10811338e-03 -1.01748456e-05 -1.01748455e-05\n",
      " -1.01748456e-05 -2.97707652e-04 -1.03632841e-03  7.85623389e-01\n",
      " -3.80200480e-04 -1.05065440e-04]\n",
      "2025-01-12 01:21:55.941Z cobraCoach       20 cobraCoach.py:1010 Moving deltaPhi = [-2.96705965 -2.96705963 -2.9670596  -0.04164008 -2.96705959 -2.96705962\n",
      "  0.         -2.96705964 -2.96705969 -0.06341524 -2.96705964 -6.10865247\n",
      " -2.9670596  -0.0498779 ]\n",
      "2025-01-12 01:21:55.943Z cobraCoach       30 cobraCoach.py:846 Last phi angle is unknown: [1459]\n",
      "2025-01-12 01:21:55.945Z cobraCoach       20 cobraCoach.py:877 Finished converting angle to steps, sending command to moveSteps (constantOntime).\n",
      "2025-01-12 01:21:55.955Z cobraCoach       20 cobraCoach.py:587 Sending step numbers to FPGA for moving cobra.\n",
      "2025-01-12 01:21:55.958Z cobraCoach       20 cobraCoach.py:601 cobra control FPGA operation done.\n",
      "2025-01-12 01:21:55.982Z pfi              40 pfi.py:896 Some theta angles are out of range\n",
      "2025-01-12 01:21:55.983Z pfi              40 pfi.py:899 Some phi angles are out of range\n",
      "2025-01-12 01:21:56.082Z pfi              30 pfi.py:475 clipping scale adjustment from 0.2250489700875823 to 0.3\n",
      "2025-01-12 01:21:56.083Z cobraCoach       30 cobraCoach.py:679 Cobra#1460 is too close to center\n",
      "2025-01-12 01:21:56.084Z pfi              30 pfi.py:475 clipping scale adjustment from 0.2561286605203101 to 0.3\n",
      "2025-01-12 01:21:56.085Z pfi              30 pfi.py:475 clipping scale adjustment from 0.26154231110049525 to 0.3\n",
      "2025-01-12 01:21:56.122Z engineer         30 engineer.py:442 14 cobras did not finish: [ 343  442  492  578  737 1302 1459 1493 1538 1587 1636 1789 1791 1969], [4.67 4.67 4.67 0.11 4.67 4.67 0.82 4.67 4.67 0.16 4.67 4.2  4.67 0.11]\n",
      "2025-01-12 01:21:56.151Z pfi              40 pfi.py:896 Some theta angles are out of range\n",
      "2025-01-12 01:21:56.156Z pfi              40 pfi.py:899 Some phi angles are out of range\n",
      "2025-01-12 01:21:56.376Z pfi              40 pfi.py:896 Some theta angles are out of range\n",
      "2025-01-12 01:21:56.377Z pfi              40 pfi.py:899 Some phi angles are out of range\n",
      "2025-01-12 01:21:56.453Z pfi              40 pfi.py:896 Some theta angles are out of range\n",
      "2025-01-12 01:21:56.457Z pfi              40 pfi.py:899 Some phi angles are out of range\n",
      "2025-01-12 01:21:56.506Z pfi              40 pfi.py:896 Some theta angles are out of range\n",
      "2025-01-12 01:21:56.508Z pfi              40 pfi.py:899 Some phi angles are out of range\n",
      "2025-01-12 01:21:56.557Z pfi              40 pfi.py:896 Some theta angles are out of range\n",
      "2025-01-12 01:21:56.559Z pfi              40 pfi.py:899 Some phi angles are out of range\n",
      "2025-01-12 01:21:56.613Z pfi              40 pfi.py:896 Some theta angles are out of range\n",
      "2025-01-12 01:21:56.614Z pfi              40 pfi.py:899 Some phi angles are out of range\n",
      "2025-01-12 01:21:56.663Z pfi              40 pfi.py:896 Some theta angles are out of range\n",
      "2025-01-12 01:21:56.665Z pfi              40 pfi.py:899 Some phi angles are out of range\n",
      "2025-01-12 01:21:56.714Z pfi              40 pfi.py:896 Some theta angles are out of range\n",
      "2025-01-12 01:21:56.715Z pfi              40 pfi.py:899 Some phi angles are out of range\n",
      "2025-01-12 01:21:56.902Z pfi              40 pfi.py:930 Some theta angles are out of range\n",
      "2025-01-12 01:21:56.979Z pfi              40 pfi.py:930 Some theta angles are out of range\n",
      "2025-01-12 01:21:57.034Z pfi              40 pfi.py:930 Some theta angles are out of range\n",
      "2025-01-12 01:21:57.069Z pfi              40 pfi.py:930 Some theta angles are out of range\n",
      "2025-01-12 01:21:57.283Z pfi              40 pfi.py:930 Some theta angles are out of range\n",
      "2025-01-12 01:21:57.331Z pfi              40 pfi.py:930 Some theta angles are out of range\n",
      "2025-01-12 01:21:57.368Z pfi              40 pfi.py:930 Some theta angles are out of range\n",
      "2025-01-12 01:21:57.405Z pfi              40 pfi.py:930 Some theta angles are out of range\n"
     ]
    },
    {
     "name": "stdout",
     "output_type": "stream",
     "text": [
      "ERROR: detected end point collision, which should be impossible\n",
      "trajectory collisions found: 6\n",
      "Set parameter Presolve to value 1\n"
     ]
    },
    {
     "name": "stderr",
     "output_type": "stream",
     "text": [
      "2025-01-12 01:22:01.644Z gurobipy         20 netflow.py:117 Set parameter Presolve to value 1\n"
     ]
    },
    {
     "name": "stdout",
     "output_type": "stream",
     "text": [
      "Set parameter Method to value 4\n"
     ]
    },
    {
     "name": "stderr",
     "output_type": "stream",
     "text": [
      "2025-01-12 01:22:01.647Z gurobipy         20 netflow.py:117 Set parameter Method to value 4\n"
     ]
    },
    {
     "name": "stdout",
     "output_type": "stream",
     "text": [
      "Set parameter DegenMoves to value 0\n"
     ]
    },
    {
     "name": "stderr",
     "output_type": "stream",
     "text": [
      "2025-01-12 01:22:01.651Z gurobipy         20 netflow.py:117 Set parameter DegenMoves to value 0\n"
     ]
    },
    {
     "name": "stdout",
     "output_type": "stream",
     "text": [
      "Set parameter Heuristics to value 0.8\n"
     ]
    },
    {
     "name": "stderr",
     "output_type": "stream",
     "text": [
      "2025-01-12 01:22:01.654Z gurobipy         20 netflow.py:117 Set parameter Heuristics to value 0.8\n"
     ]
    },
    {
     "name": "stdout",
     "output_type": "stream",
     "text": [
      "Set parameter MIPGap to value 0.05\n"
     ]
    },
    {
     "name": "stderr",
     "output_type": "stream",
     "text": [
      "2025-01-12 01:22:01.666Z gurobipy         20 netflow.py:117 Set parameter MIPGap to value 0.05\n"
     ]
    },
    {
     "name": "stdout",
     "output_type": "stream",
     "text": [
      "Creating network topology\n",
      "  exposure 1\n",
      "Calculating visibilities\n",
      "adding constraints\n",
      "adding collision constraints\n",
      "adding forbidden pair constraints\n",
      "Gurobi Optimizer version 10.0.1 build v10.0.1rc0 (mac64[x86])\n"
     ]
    },
    {
     "name": "stderr",
     "output_type": "stream",
     "text": [
      "2025-01-12 01:22:13.441Z gurobipy         20 netflow.py:149 Gurobi Optimizer version 10.0.1 build v10.0.1rc0 (mac64[x86])\n"
     ]
    },
    {
     "name": "stdout",
     "output_type": "stream",
     "text": [
      "\n"
     ]
    },
    {
     "name": "stderr",
     "output_type": "stream",
     "text": [
      "2025-01-12 01:22:13.442Z gurobipy         20 netflow.py:149 \n"
     ]
    },
    {
     "name": "stdout",
     "output_type": "stream",
     "text": [
      "CPU model: Intel(R) Core(TM) i7-8569U CPU @ 2.80GHz\n"
     ]
    },
    {
     "name": "stderr",
     "output_type": "stream",
     "text": [
      "2025-01-12 01:22:13.445Z gurobipy         20 netflow.py:149 CPU model: Intel(R) Core(TM) i7-8569U CPU @ 2.80GHz\n"
     ]
    },
    {
     "name": "stdout",
     "output_type": "stream",
     "text": [
      "Thread count: 4 physical cores, 8 logical processors, using up to 8 threads\n"
     ]
    },
    {
     "name": "stderr",
     "output_type": "stream",
     "text": [
      "2025-01-12 01:22:13.447Z gurobipy         20 netflow.py:149 Thread count: 4 physical cores, 8 logical processors, using up to 8 threads\n"
     ]
    },
    {
     "name": "stdout",
     "output_type": "stream",
     "text": [
      "\n"
     ]
    },
    {
     "name": "stderr",
     "output_type": "stream",
     "text": [
      "2025-01-12 01:22:13.450Z gurobipy         20 netflow.py:149 \n"
     ]
    },
    {
     "name": "stdout",
     "output_type": "stream",
     "text": [
      "Academic license 2379863 - for non-commercial use only - registered to ji___@ipmu.jp\n"
     ]
    },
    {
     "name": "stderr",
     "output_type": "stream",
     "text": [
      "2025-01-12 01:22:13.453Z gurobipy         20 netflow.py:149 Academic license 2379863 - for non-commercial use only - registered to ji___@ipmu.jp\n"
     ]
    },
    {
     "name": "stdout",
     "output_type": "stream",
     "text": [
      "Optimize a model with 139856 rows, 72836 columns and 362086 nonzeros\n"
     ]
    },
    {
     "name": "stderr",
     "output_type": "stream",
     "text": [
      "2025-01-12 01:22:13.455Z gurobipy         20 netflow.py:149 Optimize a model with 139856 rows, 72836 columns and 362086 nonzeros\n"
     ]
    },
    {
     "name": "stdout",
     "output_type": "stream",
     "text": [
      "Model fingerprint: 0x59f14d6b\n"
     ]
    },
    {
     "name": "stderr",
     "output_type": "stream",
     "text": [
      "2025-01-12 01:22:13.461Z gurobipy         20 netflow.py:149 Model fingerprint: 0x59f14d6b\n"
     ]
    },
    {
     "name": "stdout",
     "output_type": "stream",
     "text": [
      "Variable types: 1 continuous, 72835 integer (72833 binary)\n"
     ]
    },
    {
     "name": "stderr",
     "output_type": "stream",
     "text": [
      "2025-01-12 01:22:13.462Z gurobipy         20 netflow.py:149 Variable types: 1 continuous, 72835 integer (72833 binary)\n"
     ]
    },
    {
     "name": "stdout",
     "output_type": "stream",
     "text": [
      "Coefficient statistics:\n"
     ]
    },
    {
     "name": "stderr",
     "output_type": "stream",
     "text": [
      "2025-01-12 01:22:13.467Z gurobipy         20 netflow.py:149 Coefficient statistics:\n"
     ]
    },
    {
     "name": "stdout",
     "output_type": "stream",
     "text": [
      "  Matrix range     [1e+00, 1e+00]\n"
     ]
    },
    {
     "name": "stderr",
     "output_type": "stream",
     "text": [
      "2025-01-12 01:22:13.469Z gurobipy         20 netflow.py:149   Matrix range     [1e+00, 1e+00]\n"
     ]
    },
    {
     "name": "stdout",
     "output_type": "stream",
     "text": [
      "  Objective range  [1e-01, 1e+06]\n"
     ]
    },
    {
     "name": "stderr",
     "output_type": "stream",
     "text": [
      "2025-01-12 01:22:13.477Z gurobipy         20 netflow.py:149   Objective range  [1e-01, 1e+06]\n"
     ]
    },
    {
     "name": "stdout",
     "output_type": "stream",
     "text": [
      "  Bounds range     [1e+00, 1e+00]\n"
     ]
    },
    {
     "name": "stderr",
     "output_type": "stream",
     "text": [
      "2025-01-12 01:22:13.479Z gurobipy         20 netflow.py:149   Bounds range     [1e+00, 1e+00]\n"
     ]
    },
    {
     "name": "stdout",
     "output_type": "stream",
     "text": [
      "  RHS range        [1e+00, 4e+02]\n"
     ]
    },
    {
     "name": "stderr",
     "output_type": "stream",
     "text": [
      "2025-01-12 01:22:13.480Z gurobipy         20 netflow.py:149   RHS range        [1e+00, 4e+02]\n"
     ]
    },
    {
     "name": "stdout",
     "output_type": "stream",
     "text": [
      "Found heuristic solution: objective 6.000000e+08\n"
     ]
    },
    {
     "name": "stderr",
     "output_type": "stream",
     "text": [
      "2025-01-12 01:22:13.511Z gurobipy         20 netflow.py:149 Found heuristic solution: objective 6.000000e+08\n"
     ]
    },
    {
     "name": "stdout",
     "output_type": "stream",
     "text": [
      "Presolve removed 139004 rows and 69795 columns\n"
     ]
    },
    {
     "name": "stderr",
     "output_type": "stream",
     "text": [
      "2025-01-12 01:22:14.332Z gurobipy         20 netflow.py:149 Presolve removed 139004 rows and 69795 columns\n"
     ]
    },
    {
     "name": "stdout",
     "output_type": "stream",
     "text": [
      "Presolve time: 0.78s\n"
     ]
    },
    {
     "name": "stderr",
     "output_type": "stream",
     "text": [
      "2025-01-12 01:22:14.334Z gurobipy         20 netflow.py:149 Presolve time: 0.78s\n"
     ]
    },
    {
     "name": "stdout",
     "output_type": "stream",
     "text": [
      "Presolved: 852 rows, 3041 columns, 4926 nonzeros\n"
     ]
    },
    {
     "name": "stderr",
     "output_type": "stream",
     "text": [
      "2025-01-12 01:22:14.341Z gurobipy         20 netflow.py:149 Presolved: 852 rows, 3041 columns, 4926 nonzeros\n"
     ]
    },
    {
     "name": "stdout",
     "output_type": "stream",
     "text": [
      "Variable types: 0 continuous, 3041 integer (3039 binary)\n"
     ]
    },
    {
     "name": "stderr",
     "output_type": "stream",
     "text": [
      "2025-01-12 01:22:14.347Z gurobipy         20 netflow.py:149 Variable types: 0 continuous, 3041 integer (3039 binary)\n"
     ]
    },
    {
     "name": "stdout",
     "output_type": "stream",
     "text": [
      "Found heuristic solution: objective 5.980000e+08\n"
     ]
    },
    {
     "name": "stderr",
     "output_type": "stream",
     "text": [
      "2025-01-12 01:22:14.351Z gurobipy         20 netflow.py:149 Found heuristic solution: objective 5.980000e+08\n"
     ]
    },
    {
     "name": "stdout",
     "output_type": "stream",
     "text": [
      "Deterministic concurrent LP optimizer: dual simplex and barrier\n"
     ]
    },
    {
     "name": "stderr",
     "output_type": "stream",
     "text": [
      "2025-01-12 01:22:14.359Z gurobipy         20 netflow.py:149 Deterministic concurrent LP optimizer: dual simplex and barrier\n"
     ]
    },
    {
     "name": "stdout",
     "output_type": "stream",
     "text": [
      "Showing barrier log only...\n"
     ]
    },
    {
     "name": "stderr",
     "output_type": "stream",
     "text": [
      "2025-01-12 01:22:14.361Z gurobipy         20 netflow.py:149 Showing barrier log only...\n"
     ]
    },
    {
     "name": "stdout",
     "output_type": "stream",
     "text": [
      "\n"
     ]
    },
    {
     "name": "stderr",
     "output_type": "stream",
     "text": [
      "2025-01-12 01:22:14.363Z gurobipy         20 netflow.py:149 \n"
     ]
    },
    {
     "name": "stdout",
     "output_type": "stream",
     "text": [
      "Root barrier log...\n"
     ]
    },
    {
     "name": "stderr",
     "output_type": "stream",
     "text": [
      "2025-01-12 01:22:14.370Z gurobipy         20 netflow.py:149 Root barrier log...\n"
     ]
    },
    {
     "name": "stdout",
     "output_type": "stream",
     "text": [
      "\n"
     ]
    },
    {
     "name": "stderr",
     "output_type": "stream",
     "text": [
      "2025-01-12 01:22:14.372Z gurobipy         20 netflow.py:149 \n"
     ]
    },
    {
     "name": "stdout",
     "output_type": "stream",
     "text": [
      "Ordering time: 0.00s\n"
     ]
    },
    {
     "name": "stderr",
     "output_type": "stream",
     "text": [
      "2025-01-12 01:22:14.374Z gurobipy         20 netflow.py:149 Ordering time: 0.00s\n"
     ]
    },
    {
     "name": "stdout",
     "output_type": "stream",
     "text": [
      "\n"
     ]
    },
    {
     "name": "stderr",
     "output_type": "stream",
     "text": [
      "2025-01-12 01:22:14.376Z gurobipy         20 netflow.py:149 \n"
     ]
    },
    {
     "name": "stdout",
     "output_type": "stream",
     "text": [
      "Barrier statistics:\n"
     ]
    },
    {
     "name": "stderr",
     "output_type": "stream",
     "text": [
      "2025-01-12 01:22:14.385Z gurobipy         20 netflow.py:149 Barrier statistics:\n"
     ]
    },
    {
     "name": "stdout",
     "output_type": "stream",
     "text": [
      " AA' NZ     : 1.792e+03\n"
     ]
    },
    {
     "name": "stderr",
     "output_type": "stream",
     "text": [
      "2025-01-12 01:22:14.387Z gurobipy         20 netflow.py:149  AA' NZ     : 1.792e+03\n"
     ]
    },
    {
     "name": "stdout",
     "output_type": "stream",
     "text": [
      " Factor NZ  : 3.946e+03 (roughly 2 MB of memory)\n"
     ]
    },
    {
     "name": "stderr",
     "output_type": "stream",
     "text": [
      "2025-01-12 01:22:14.411Z gurobipy         20 netflow.py:149  Factor NZ  : 3.946e+03 (roughly 2 MB of memory)\n"
     ]
    },
    {
     "name": "stdout",
     "output_type": "stream",
     "text": [
      " Factor Ops : 2.889e+04 (less than 1 second per iteration)\n"
     ]
    },
    {
     "name": "stderr",
     "output_type": "stream",
     "text": [
      "2025-01-12 01:22:14.579Z gurobipy         20 netflow.py:149  Factor Ops : 2.889e+04 (less than 1 second per iteration)\n"
     ]
    },
    {
     "name": "stdout",
     "output_type": "stream",
     "text": [
      " Threads    : 1\n"
     ]
    },
    {
     "name": "stderr",
     "output_type": "stream",
     "text": [
      "2025-01-12 01:22:14.581Z gurobipy         20 netflow.py:149  Threads    : 1\n"
     ]
    },
    {
     "name": "stdout",
     "output_type": "stream",
     "text": [
      "\n"
     ]
    },
    {
     "name": "stderr",
     "output_type": "stream",
     "text": [
      "2025-01-12 01:22:14.586Z gurobipy         20 netflow.py:149 \n"
     ]
    },
    {
     "name": "stdout",
     "output_type": "stream",
     "text": [
      "                  Objective                Residual\n"
     ]
    },
    {
     "name": "stderr",
     "output_type": "stream",
     "text": [
      "2025-01-12 01:22:14.589Z gurobipy         20 netflow.py:149                   Objective                Residual\n"
     ]
    },
    {
     "name": "stdout",
     "output_type": "stream",
     "text": [
      "Iter       Primal          Dual         Primal    Dual     Compl     Time\n"
     ]
    },
    {
     "name": "stderr",
     "output_type": "stream",
     "text": [
      "2025-01-12 01:22:14.596Z gurobipy         20 netflow.py:149 Iter       Primal          Dual         Primal    Dual     Compl     Time\n"
     ]
    },
    {
     "name": "stdout",
     "output_type": "stream",
     "text": [
      "   0   3.76910506e+08 -2.44562128e+09  3.98e+01 3.71e+04  3.39e+07     1s\n"
     ]
    },
    {
     "name": "stderr",
     "output_type": "stream",
     "text": [
      "2025-01-12 01:22:14.599Z gurobipy         20 netflow.py:149    0   3.76910506e+08 -2.44562128e+09  3.98e+01 3.71e+04  3.39e+07     1s\n"
     ]
    },
    {
     "name": "stdout",
     "output_type": "stream",
     "text": [
      "\n"
     ]
    },
    {
     "name": "stderr",
     "output_type": "stream",
     "text": [
      "2025-01-12 01:22:14.603Z gurobipy         20 netflow.py:149 \n"
     ]
    },
    {
     "name": "stdout",
     "output_type": "stream",
     "text": [
      "Barrier performed 0 iterations in 1.15 seconds (0.35 work units)\n"
     ]
    },
    {
     "name": "stderr",
     "output_type": "stream",
     "text": [
      "2025-01-12 01:22:14.610Z gurobipy         20 netflow.py:149 Barrier performed 0 iterations in 1.15 seconds (0.35 work units)\n"
     ]
    },
    {
     "name": "stdout",
     "output_type": "stream",
     "text": [
      "Barrier solve interrupted - model solved by another algorithm\n"
     ]
    },
    {
     "name": "stderr",
     "output_type": "stream",
     "text": [
      "2025-01-12 01:22:14.615Z gurobipy         20 netflow.py:149 Barrier solve interrupted - model solved by another algorithm\n"
     ]
    },
    {
     "name": "stdout",
     "output_type": "stream",
     "text": [
      "\n"
     ]
    },
    {
     "name": "stderr",
     "output_type": "stream",
     "text": [
      "2025-01-12 01:22:14.618Z gurobipy         20 netflow.py:149 \n"
     ]
    },
    {
     "name": "stdout",
     "output_type": "stream",
     "text": [
      "Concurrent spin time: 0.25s (can be avoided by choosing Method=3)\n"
     ]
    },
    {
     "name": "stderr",
     "output_type": "stream",
     "text": [
      "2025-01-12 01:22:14.624Z gurobipy         20 netflow.py:149 Concurrent spin time: 0.25s (can be avoided by choosing Method=3)\n"
     ]
    },
    {
     "name": "stdout",
     "output_type": "stream",
     "text": [
      "\n"
     ]
    },
    {
     "name": "stderr",
     "output_type": "stream",
     "text": [
      "2025-01-12 01:22:14.684Z gurobipy         20 netflow.py:149 \n"
     ]
    },
    {
     "name": "stdout",
     "output_type": "stream",
     "text": [
      "Solved with dual simplex\n"
     ]
    },
    {
     "name": "stderr",
     "output_type": "stream",
     "text": [
      "2025-01-12 01:22:14.697Z gurobipy         20 netflow.py:149 Solved with dual simplex\n"
     ]
    },
    {
     "name": "stdout",
     "output_type": "stream",
     "text": [
      "\n"
     ]
    },
    {
     "name": "stderr",
     "output_type": "stream",
     "text": [
      "2025-01-12 01:22:14.707Z gurobipy         20 netflow.py:149 \n"
     ]
    },
    {
     "name": "stdout",
     "output_type": "stream",
     "text": [
      "Root relaxation: objective 1.044055e+02, 93 iterations, 0.35 seconds (0.00 work units)\n"
     ]
    },
    {
     "name": "stderr",
     "output_type": "stream",
     "text": [
      "2025-01-12 01:22:14.710Z gurobipy         20 netflow.py:149 Root relaxation: objective 1.044055e+02, 93 iterations, 0.35 seconds (0.00 work units)\n"
     ]
    },
    {
     "name": "stdout",
     "output_type": "stream",
     "text": [
      "\n"
     ]
    },
    {
     "name": "stderr",
     "output_type": "stream",
     "text": [
      "2025-01-12 01:22:14.767Z gurobipy         20 netflow.py:149 \n"
     ]
    },
    {
     "name": "stdout",
     "output_type": "stream",
     "text": [
      "    Nodes    |    Current Node    |     Objective Bounds      |     Work\n"
     ]
    },
    {
     "name": "stderr",
     "output_type": "stream",
     "text": [
      "2025-01-12 01:22:14.771Z gurobipy         20 netflow.py:149     Nodes    |    Current Node    |     Objective Bounds      |     Work\n"
     ]
    },
    {
     "name": "stdout",
     "output_type": "stream",
     "text": [
      " Expl Unexpl |  Obj  Depth IntInf | Incumbent    BestBd   Gap | It/Node Time\n"
     ]
    },
    {
     "name": "stderr",
     "output_type": "stream",
     "text": [
      "2025-01-12 01:22:14.779Z gurobipy         20 netflow.py:149  Expl Unexpl |  Obj  Depth IntInf | Incumbent    BestBd   Gap | It/Node Time\n"
     ]
    },
    {
     "name": "stdout",
     "output_type": "stream",
     "text": [
      "\n"
     ]
    },
    {
     "name": "stderr",
     "output_type": "stream",
     "text": [
      "2025-01-12 01:22:14.793Z gurobipy         20 netflow.py:149 \n"
     ]
    },
    {
     "name": "stdout",
     "output_type": "stream",
     "text": [
      "*    0     0               0     104.4054902  104.40549  0.00%     -    1s\n"
     ]
    },
    {
     "name": "stderr",
     "output_type": "stream",
     "text": [
      "2025-01-12 01:22:14.802Z gurobipy         20 netflow.py:149 *    0     0               0     104.4054902  104.40549  0.00%     -    1s\n"
     ]
    },
    {
     "name": "stdout",
     "output_type": "stream",
     "text": [
      "\n"
     ]
    },
    {
     "name": "stderr",
     "output_type": "stream",
     "text": [
      "2025-01-12 01:22:14.879Z gurobipy         20 netflow.py:149 \n"
     ]
    },
    {
     "name": "stdout",
     "output_type": "stream",
     "text": [
      "Explored 1 nodes (93 simplex iterations) in 1.43 seconds (0.35 work units)\n"
     ]
    },
    {
     "name": "stderr",
     "output_type": "stream",
     "text": [
      "2025-01-12 01:22:14.881Z gurobipy         20 netflow.py:149 Explored 1 nodes (93 simplex iterations) in 1.43 seconds (0.35 work units)\n"
     ]
    },
    {
     "name": "stdout",
     "output_type": "stream",
     "text": [
      "Thread count was 8 (of 8 available processors)\n"
     ]
    },
    {
     "name": "stderr",
     "output_type": "stream",
     "text": [
      "2025-01-12 01:22:14.883Z gurobipy         20 netflow.py:149 Thread count was 8 (of 8 available processors)\n"
     ]
    },
    {
     "name": "stdout",
     "output_type": "stream",
     "text": [
      "\n"
     ]
    },
    {
     "name": "stderr",
     "output_type": "stream",
     "text": [
      "2025-01-12 01:22:14.885Z gurobipy         20 netflow.py:149 \n"
     ]
    },
    {
     "name": "stdout",
     "output_type": "stream",
     "text": [
      "Solution count 3: 104.405 5.98e+08 6e+08 \n"
     ]
    },
    {
     "name": "stderr",
     "output_type": "stream",
     "text": [
      "2025-01-12 01:22:14.886Z gurobipy         20 netflow.py:149 Solution count 3: 104.405 5.98e+08 6e+08 \n"
     ]
    },
    {
     "name": "stdout",
     "output_type": "stream",
     "text": [
      "\n"
     ]
    },
    {
     "name": "stderr",
     "output_type": "stream",
     "text": [
      "2025-01-12 01:22:14.888Z gurobipy         20 netflow.py:149 \n"
     ]
    },
    {
     "name": "stdout",
     "output_type": "stream",
     "text": [
      "Optimal solution found (tolerance 5.00e-02)\n"
     ]
    },
    {
     "name": "stderr",
     "output_type": "stream",
     "text": [
      "2025-01-12 01:22:14.890Z gurobipy         20 netflow.py:149 Optimal solution found (tolerance 5.00e-02)\n"
     ]
    },
    {
     "name": "stdout",
     "output_type": "stream",
     "text": [
      "Best objective 1.044054901506e+02, best bound 1.044054901506e+02, gap 0.0000%\n"
     ]
    },
    {
     "name": "stderr",
     "output_type": "stream",
     "text": [
      "2025-01-12 01:22:14.894Z gurobipy         20 netflow.py:149 Best objective 1.044054901506e+02, best bound 1.044054901506e+02, gap 0.0000%\n"
     ]
    },
    {
     "name": "stdout",
     "output_type": "stream",
     "text": [
      "Checking for trajectory collisions\n"
     ]
    },
    {
     "name": "stderr",
     "output_type": "stream",
     "text": [
      "2025-01-12 01:22:15.662Z pfi              40 pfi.py:896 Some theta angles are out of range\n",
      "2025-01-12 01:22:15.664Z pfi              40 pfi.py:899 Some phi angles are out of range\n",
      "2025-01-12 01:22:15.852Z pfi              40 pfi.py:899 Some phi angles are out of range\n",
      "2025-01-12 01:22:15.901Z pfi              40 pfi.py:899 Some phi angles are out of range\n",
      "2025-01-12 01:22:15.905Z engineer         20 engineer.py:395 Move theta arms to angle=[360.  360.  270.9 ... 360.  360.  360. ] degree\n",
      "2025-01-12 01:22:15.909Z engineer         20 engineer.py:396 Move phi arms to angle=[11.09 24.48 35.88 ...  8.43 11.99  9.16] degree\n",
      "2025-01-12 01:22:15.911Z engineer         20 engineer.py:398 Checking passed homed argument = True\n",
      "2025-01-12 01:22:15.912Z engineer         20 engineer.py:402 Move theta arms CW and phi arms CCW to the hard stops\n",
      "2025-01-12 01:22:15.944Z cobraCoach       20 cobraCoach.py:1065 home cobras: theta=10000, phi=-5000\n",
      "2025-01-12 01:22:15.970Z pfi              40 pfi.py:899 Some phi angles are out of range\n",
      "2025-01-12 01:22:15.999Z pfi              40 pfi.py:899 Some phi angles are out of range\n",
      "2025-01-12 01:22:16.029Z cobraCoach       20 cobraCoach.py:1009 Moving deltaTheta = [-0.29458444 -0.38204686 -1.91112292 ... -0.40597169 -0.4013664\n",
      " -0.41592376]\n",
      "2025-01-12 01:22:16.030Z cobraCoach       20 cobraCoach.py:1010 Moving deltaPhi = [0.19361448 0.42723261 0.6262403  ... 0.14708474 0.20932294 0.15978886]\n",
      "2025-01-12 01:22:16.357Z cobraCoach       20 cobraCoach.py:877 Finished converting angle to steps, sending command to moveSteps (constantOntime).\n",
      "2025-01-12 01:22:17.019Z cobraCoach       20 cobraCoach.py:587 Sending step numbers to FPGA for moving cobra.\n",
      "2025-01-12 01:22:17.158Z cobraCoach       20 cobraCoach.py:601 cobra control FPGA operation done.\n",
      "2025-01-12 01:22:17.188Z pfi              40 pfi.py:896 Some theta angles are out of range\n",
      "2025-01-12 01:22:17.195Z pfi              40 pfi.py:899 Some phi angles are out of range\n",
      "2025-01-12 01:22:17.333Z cobraCoach       30 cobraCoach.py:675 Cobra#344 is too far from center\n",
      "2025-01-12 01:22:17.336Z cobraCoach       30 cobraCoach.py:675 Cobra#443 is too far from center\n",
      "2025-01-12 01:22:17.345Z cobraCoach       30 cobraCoach.py:675 Cobra#493 is too far from center\n",
      "2025-01-12 01:22:17.381Z cobraCoach       30 cobraCoach.py:675 Cobra#1303 is too far from center\n",
      "2025-01-12 01:22:17.410Z cobraCoach       30 cobraCoach.py:675 Cobra#1637 is too far from center\n",
      "2025-01-12 01:22:17.468Z cobraCoach       30 cobraCoach.py:675 Cobra#1790 is too far from center\n",
      "2025-01-12 01:22:17.474Z cobraCoach       30 cobraCoach.py:675 Cobra#1792 is too far from center\n",
      "2025-01-12 01:22:17.569Z engineer         20 engineer.py:433 done: [   0    1    2 ... 2391 2392 2393], 14 left\n",
      "2025-01-12 01:22:17.578Z cobraCoach       30 cobraCoach.py:1003 Last phi angle is unknown, not moving: [1459]\n",
      "2025-01-12 01:22:17.580Z cobraCoach       20 cobraCoach.py:1009 Moving deltaTheta = [-1.01748456e-05 -1.01748456e-05 -1.01748456e-05  1.42413045e-04\n",
      " -1.01748456e-05 -1.01748456e-05 -1.01748456e-05 -1.01748455e-05\n",
      " -1.01748456e-05  6.92683126e-04 -1.01748455e-05 -1.01748456e-05\n",
      " -1.01748456e-05  1.10228624e-03]\n",
      "2025-01-12 01:22:17.582Z cobraCoach       20 cobraCoach.py:1010 Moving deltaPhi = [-6.10865247 -6.10865247 -6.10865247 -0.04164008 -2.96705959 -6.10865247\n",
      "  0.         -2.96705964 -2.96705969 -0.06341524 -6.10865247 -6.10865247\n",
      " -6.10865247 -0.0498779 ]\n",
      "2025-01-12 01:22:17.597Z cobraCoach       30 cobraCoach.py:846 Last phi angle is unknown: [1459]\n",
      "2025-01-12 01:22:17.604Z cobraCoach       20 cobraCoach.py:877 Finished converting angle to steps, sending command to moveSteps (constantOntime).\n",
      "2025-01-12 01:22:17.627Z cobraCoach       20 cobraCoach.py:587 Sending step numbers to FPGA for moving cobra.\n",
      "2025-01-12 01:22:17.635Z cobraCoach       20 cobraCoach.py:601 cobra control FPGA operation done.\n",
      "2025-01-12 01:22:17.764Z pfi              40 pfi.py:896 Some theta angles are out of range\n",
      "2025-01-12 01:22:17.767Z pfi              40 pfi.py:899 Some phi angles are out of range\n",
      "2025-01-12 01:22:17.897Z cobraCoach       30 cobraCoach.py:675 Cobra#344 is too far from center\n",
      "2025-01-12 01:22:17.898Z cobraCoach       30 cobraCoach.py:679 Cobra#1460 is too close to center\n",
      "2025-01-12 01:22:17.899Z cobraCoach       30 cobraCoach.py:675 Cobra#1637 is too far from center\n",
      "2025-01-12 01:22:17.901Z cobraCoach       30 cobraCoach.py:675 Cobra#1790 is too far from center\n",
      "2025-01-12 01:22:17.907Z engineer         30 engineer.py:442 14 cobras did not finish: [ 343  442  492  578  737 1302 1459 1493 1538 1587 1636 1789 1791 1969], [4.67 4.67 4.67 0.11 4.67 4.67 0.82 4.67 4.67 0.16 4.67 4.67 4.67 0.11]\n",
      "2025-01-12 01:22:17.933Z pfi              40 pfi.py:899 Some phi angles are out of range\n",
      "2025-01-12 01:22:17.937Z engineer         20 engineer.py:395 Move theta arms to angle=[360.  360.  270.9 ... 360.  360.  360. ] degree\n",
      "2025-01-12 01:22:17.938Z engineer         20 engineer.py:396 Move phi arms to angle=[11.09 24.48 35.88 ...  8.43 11.99  9.16] degree\n",
      "2025-01-12 01:22:17.940Z engineer         20 engineer.py:398 Checking passed homed argument = False\n",
      "2025-01-12 01:22:17.968Z cobraCoach       20 cobraCoach.py:1009 Moving deltaTheta = [-0.00026719 -0.0001518   0.00013482 ... -0.00025479  0.00038417\n",
      " -0.000724  ]\n",
      "2025-01-12 01:22:17.970Z cobraCoach       20 cobraCoach.py:1010 Moving deltaPhi = [ 8.60699099e-05 -8.34333106e-04 -3.81240990e-04 ...  6.56574960e-04\n",
      " -8.39715058e-04 -4.29651246e-04]\n",
      "2025-01-12 01:22:18.219Z cobraCoach       20 cobraCoach.py:877 Finished converting angle to steps, sending command to moveSteps (constantOntime).\n",
      "2025-01-12 01:22:18.500Z cobraCoach       20 cobraCoach.py:587 Sending step numbers to FPGA for moving cobra.\n",
      "2025-01-12 01:22:18.627Z cobraCoach       20 cobraCoach.py:601 cobra control FPGA operation done.\n",
      "2025-01-12 01:22:18.654Z pfi              40 pfi.py:896 Some theta angles are out of range\n",
      "2025-01-12 01:22:18.659Z pfi              40 pfi.py:899 Some phi angles are out of range\n",
      "2025-01-12 01:22:18.807Z cobraCoach       30 cobraCoach.py:675 Cobra#1303 is too far from center\n",
      "2025-01-12 01:22:18.822Z cobraCoach       30 cobraCoach.py:675 Cobra#1790 is too far from center\n",
      "2025-01-12 01:22:18.849Z engineer         20 engineer.py:433 done: [   0    1    2 ... 2391 2392 2393], 14 left\n",
      "2025-01-12 01:22:18.852Z cobraCoach       30 cobraCoach.py:1003 Last phi angle is unknown, not moving: [1459]\n",
      "2025-01-12 01:22:18.854Z cobraCoach       20 cobraCoach.py:1009 Moving deltaTheta = [-1.94233989e-04 -5.14191722e-04 -6.14804362e-04  1.42413045e-04\n",
      " -1.01748456e-05  2.69975771e-06 -1.01748456e-05 -1.01748455e-05\n",
      " -1.01748456e-05 -2.97707652e-04 -1.03632841e-03 -1.01748456e-05\n",
      " -3.80200480e-04 -1.05065440e-04]\n",
      "2025-01-12 01:22:18.858Z cobraCoach       20 cobraCoach.py:1010 Moving deltaPhi = [-2.96687409 -2.96705963 -2.9670596  -0.04164008 -2.96705959 -6.10865247\n",
      "  0.         -2.96705964 -2.96705969 -0.06341524 -2.96602327 -6.10865247\n",
      " -2.9670596  -0.0498779 ]\n",
      "2025-01-12 01:22:18.862Z cobraCoach       30 cobraCoach.py:846 Last phi angle is unknown: [1459]\n",
      "2025-01-12 01:22:18.865Z cobraCoach       20 cobraCoach.py:877 Finished converting angle to steps, sending command to moveSteps (constantOntime).\n",
      "2025-01-12 01:22:18.875Z cobraCoach       20 cobraCoach.py:587 Sending step numbers to FPGA for moving cobra.\n",
      "2025-01-12 01:22:18.879Z cobraCoach       20 cobraCoach.py:601 cobra control FPGA operation done.\n",
      "2025-01-12 01:22:18.910Z pfi              40 pfi.py:896 Some theta angles are out of range\n",
      "2025-01-12 01:22:18.912Z pfi              40 pfi.py:899 Some phi angles are out of range\n",
      "2025-01-12 01:22:19.044Z cobraCoach       30 cobraCoach.py:675 Cobra#344 is too far from center\n",
      "2025-01-12 01:22:19.047Z pfi              30 pfi.py:475 clipping scale adjustment from 0.2573481031895782 to 0.3\n",
      "2025-01-12 01:22:19.048Z cobraCoach       30 cobraCoach.py:679 Cobra#1460 is too close to center\n",
      "2025-01-12 01:22:19.051Z pfi              30 pfi.py:475 clipping scale adjustment from 0.26154231110049525 to 0.3\n",
      "2025-01-12 01:22:19.058Z cobraCoach       20 cobraCoach.py:1009 Moving deltaTheta = [-1.94233989e-04 -5.14191722e-04 -6.14804362e-04  1.42413045e-04\n",
      " -1.01748456e-05 -1.09852569e+00 -1.01748456e-05 -1.01748455e-05\n",
      " -1.01748456e-05 -2.97707652e-04 -1.03632841e-03 -1.07143418e+00\n",
      " -3.80200480e-04 -1.05065440e-04]\n",
      "2025-01-12 01:22:19.060Z cobraCoach       20 cobraCoach.py:1010 Moving deltaPhi = [-6.10865247 -2.96705963 -2.9670596  -0.04164008 -2.96705959 -1.71883189\n",
      " -2.96705973 -2.96705964 -2.96705969 -0.06341524 -2.96705964 -1.88389766\n",
      " -2.9670596  -0.0498779 ]\n",
      "2025-01-12 01:22:19.066Z cobraCoach       20 cobraCoach.py:877 Finished converting angle to steps, sending command to moveSteps (constantOntime).\n",
      "2025-01-12 01:22:19.075Z cobraCoach       20 cobraCoach.py:587 Sending step numbers to FPGA for moving cobra.\n",
      "2025-01-12 01:22:19.079Z cobraCoach       20 cobraCoach.py:601 cobra control FPGA operation done.\n",
      "2025-01-12 01:22:19.104Z pfi              40 pfi.py:896 Some theta angles are out of range\n",
      "2025-01-12 01:22:19.105Z pfi              40 pfi.py:899 Some phi angles are out of range\n",
      "2025-01-12 01:22:19.206Z pfi              30 pfi.py:475 clipping scale adjustment from 0.2859424141191533 to 0.3\n",
      "2025-01-12 01:22:19.207Z cobraCoach       30 cobraCoach.py:675 Cobra#1303 is too far from center\n",
      "2025-01-12 01:22:19.208Z pfi              30 pfi.py:475 clipping scale adjustment from 0.29999999904403885 to 0.3\n",
      "2025-01-12 01:22:19.209Z cobraCoach       30 cobraCoach.py:675 Cobra#1790 is too far from center\n",
      "2025-01-12 01:22:19.214Z cobraCoach       30 cobraCoach.py:1003 Last phi angle is unknown, not moving: [1459]\n",
      "2025-01-12 01:22:19.215Z cobraCoach       20 cobraCoach.py:1009 Moving deltaTheta = [-3.21863813e-01 -5.14191722e-04 -6.14804362e-04  1.42413045e-04\n",
      " -1.01748456e-05 -6.82685060e-01 -1.01748456e-05 -1.01748455e-05\n",
      " -1.01748456e-05 -2.97707652e-04 -1.03632841e-03 -3.25590772e-01\n",
      " -3.80200480e-04 -1.05065440e-04]\n",
      "2025-01-12 01:22:19.216Z cobraCoach       20 cobraCoach.py:1010 Moving deltaPhi = [-2.64219266 -2.96705963 -2.9670596  -0.04164008 -2.96705959 -6.10865247\n",
      "  0.         -2.96705964 -2.96705969 -0.06341524 -2.96705964 -6.10865247\n",
      " -2.9670596  -0.0498779 ]\n",
      "2025-01-12 01:22:19.218Z cobraCoach       30 cobraCoach.py:846 Last phi angle is unknown: [1459]\n",
      "2025-01-12 01:22:19.221Z cobraCoach       20 cobraCoach.py:877 Finished converting angle to steps, sending command to moveSteps (constantOntime).\n",
      "2025-01-12 01:22:19.228Z cobraCoach       20 cobraCoach.py:587 Sending step numbers to FPGA for moving cobra.\n",
      "2025-01-12 01:22:19.233Z cobraCoach       20 cobraCoach.py:601 cobra control FPGA operation done.\n",
      "2025-01-12 01:22:19.258Z pfi              40 pfi.py:896 Some theta angles are out of range\n",
      "2025-01-12 01:22:19.259Z pfi              40 pfi.py:899 Some phi angles are out of range\n",
      "2025-01-12 01:22:19.361Z pfi              30 pfi.py:475 clipping scale adjustment from 0.22521650184055392 to 0.3\n",
      "2025-01-12 01:22:19.362Z pfi              30 pfi.py:475 clipping scale adjustment from 0.2573481031895782 to 0.3\n",
      "2025-01-12 01:22:19.363Z cobraCoach       30 cobraCoach.py:679 Cobra#1460 is too close to center\n",
      "2025-01-12 01:22:19.365Z pfi              30 pfi.py:475 clipping scale adjustment from 0.22664453700152026 to 0.3\n",
      "2025-01-12 01:22:19.366Z pfi              30 pfi.py:475 clipping scale adjustment from 0.26154231110049525 to 0.3\n",
      "2025-01-12 01:22:19.370Z cobraCoach       20 cobraCoach.py:1009 Moving deltaTheta = [-2.17122172e-04 -5.14191722e-04 -6.14804362e-04  1.42413045e-04\n",
      " -1.01748456e-05  4.51698156e+00 -1.01748456e-05 -1.01748455e-05\n",
      " -1.01748456e-05 -2.97707652e-04 -1.03632841e-03  5.00301130e+00\n",
      " -3.80200480e-04 -1.05065440e-04]\n",
      "2025-01-12 01:22:19.371Z cobraCoach       20 cobraCoach.py:1010 Moving deltaPhi = [-2.96705965 -2.96705963 -2.9670596  -0.04164008 -2.96705959 -1.71883189\n",
      " -2.96705973 -2.96705964 -2.96705969 -0.06341524 -2.96705964 -1.88389766\n",
      " -2.9670596  -0.0498779 ]\n",
      "2025-01-12 01:22:19.378Z cobraCoach       20 cobraCoach.py:877 Finished converting angle to steps, sending command to moveSteps (constantOntime).\n",
      "2025-01-12 01:22:19.389Z cobraCoach       20 cobraCoach.py:587 Sending step numbers to FPGA for moving cobra.\n",
      "2025-01-12 01:22:19.391Z cobraCoach       20 cobraCoach.py:601 cobra control FPGA operation done.\n",
      "2025-01-12 01:22:19.420Z pfi              40 pfi.py:896 Some theta angles are out of range\n",
      "2025-01-12 01:22:19.421Z pfi              40 pfi.py:899 Some phi angles are out of range\n",
      "2025-01-12 01:22:19.526Z cobraCoach       30 cobraCoach.py:675 Cobra#1790 is too far from center\n",
      "2025-01-12 01:22:19.527Z pfi              30 pfi.py:475 clipping scale adjustment from 0.29999999510714737 to 0.3\n",
      "2025-01-12 01:22:19.532Z cobraCoach       30 cobraCoach.py:1003 Last phi angle is unknown, not moving: [1459]\n",
      "2025-01-12 01:22:19.533Z cobraCoach       20 cobraCoach.py:1009 Moving deltaTheta = [-2.17122172e-04 -5.14191722e-04 -6.14804362e-04  1.42413045e-04\n",
      " -1.01748456e-05 -4.10811338e-03 -1.01748456e-05 -1.01748455e-05\n",
      " -1.01748456e-05 -2.97707652e-04 -1.03632841e-03  7.85623389e-01\n",
      " -3.80200480e-04 -1.05065440e-04]\n",
      "2025-01-12 01:22:19.533Z cobraCoach       20 cobraCoach.py:1010 Moving deltaPhi = [-2.96705965 -2.96705963 -2.9670596  -0.04164008 -2.96705959 -2.96705962\n",
      "  0.         -2.96705964 -2.96705969 -0.06341524 -2.96705964 -6.10865247\n",
      " -2.9670596  -0.0498779 ]\n",
      "2025-01-12 01:22:19.535Z cobraCoach       30 cobraCoach.py:846 Last phi angle is unknown: [1459]\n",
      "2025-01-12 01:22:19.538Z cobraCoach       20 cobraCoach.py:877 Finished converting angle to steps, sending command to moveSteps (constantOntime).\n",
      "2025-01-12 01:22:19.549Z cobraCoach       20 cobraCoach.py:587 Sending step numbers to FPGA for moving cobra.\n",
      "2025-01-12 01:22:19.551Z cobraCoach       20 cobraCoach.py:601 cobra control FPGA operation done.\n",
      "2025-01-12 01:22:19.576Z pfi              40 pfi.py:896 Some theta angles are out of range\n",
      "2025-01-12 01:22:19.577Z pfi              40 pfi.py:899 Some phi angles are out of range\n",
      "2025-01-12 01:22:19.673Z pfi              30 pfi.py:475 clipping scale adjustment from 0.2250489700875823 to 0.3\n",
      "2025-01-12 01:22:19.674Z cobraCoach       30 cobraCoach.py:679 Cobra#1460 is too close to center\n",
      "2025-01-12 01:22:19.675Z pfi              30 pfi.py:475 clipping scale adjustment from 0.2561286605203101 to 0.3\n",
      "2025-01-12 01:22:19.676Z pfi              30 pfi.py:475 clipping scale adjustment from 0.26154231110049525 to 0.3\n",
      "2025-01-12 01:22:19.680Z engineer         30 engineer.py:442 14 cobras did not finish: [ 343  442  492  578  737 1302 1459 1493 1538 1587 1636 1789 1791 1969], [4.67 4.67 4.67 0.11 4.67 4.67 0.82 4.67 4.67 0.16 4.67 4.2  4.67 0.11]\n",
      "2025-01-12 01:22:19.706Z pfi              40 pfi.py:896 Some theta angles are out of range\n",
      "2025-01-12 01:22:19.710Z pfi              40 pfi.py:899 Some phi angles are out of range\n",
      "2025-01-12 01:22:19.804Z pfi              40 pfi.py:896 Some theta angles are out of range\n",
      "2025-01-12 01:22:19.807Z pfi              40 pfi.py:899 Some phi angles are out of range\n",
      "2025-01-12 01:22:19.877Z pfi              40 pfi.py:896 Some theta angles are out of range\n",
      "2025-01-12 01:22:19.878Z pfi              40 pfi.py:899 Some phi angles are out of range\n",
      "2025-01-12 01:22:19.924Z pfi              40 pfi.py:896 Some theta angles are out of range\n",
      "2025-01-12 01:22:19.925Z pfi              40 pfi.py:899 Some phi angles are out of range\n",
      "2025-01-12 01:22:19.975Z pfi              40 pfi.py:896 Some theta angles are out of range\n",
      "2025-01-12 01:22:19.976Z pfi              40 pfi.py:899 Some phi angles are out of range\n",
      "2025-01-12 01:22:20.025Z pfi              40 pfi.py:896 Some theta angles are out of range\n",
      "2025-01-12 01:22:20.170Z pfi              40 pfi.py:899 Some phi angles are out of range\n",
      "2025-01-12 01:22:20.246Z pfi              40 pfi.py:896 Some theta angles are out of range\n",
      "2025-01-12 01:22:20.250Z pfi              40 pfi.py:899 Some phi angles are out of range\n",
      "2025-01-12 01:22:20.313Z pfi              40 pfi.py:896 Some theta angles are out of range\n",
      "2025-01-12 01:22:20.315Z pfi              40 pfi.py:899 Some phi angles are out of range\n",
      "2025-01-12 01:22:20.365Z pfi              40 pfi.py:930 Some theta angles are out of range\n",
      "2025-01-12 01:22:20.558Z pfi              40 pfi.py:930 Some theta angles are out of range\n",
      "2025-01-12 01:22:20.639Z pfi              40 pfi.py:930 Some theta angles are out of range\n",
      "2025-01-12 01:22:20.675Z pfi              40 pfi.py:930 Some theta angles are out of range\n",
      "2025-01-12 01:22:20.728Z pfi              40 pfi.py:930 Some theta angles are out of range\n",
      "2025-01-12 01:22:20.778Z pfi              40 pfi.py:930 Some theta angles are out of range\n",
      "2025-01-12 01:22:20.828Z pfi              40 pfi.py:930 Some theta angles are out of range\n",
      "2025-01-12 01:22:20.873Z pfi              40 pfi.py:930 Some theta angles are out of range\n"
     ]
    },
    {
     "name": "stdout",
     "output_type": "stream",
     "text": [
      "ERROR: detected end point collision, which should be impossible\n",
      "trajectory collisions found: 6\n",
      "Set parameter Presolve to value 1\n"
     ]
    },
    {
     "name": "stderr",
     "output_type": "stream",
     "text": [
      "2025-01-12 01:22:25.355Z gurobipy         20 netflow.py:117 Set parameter Presolve to value 1\n"
     ]
    },
    {
     "name": "stdout",
     "output_type": "stream",
     "text": [
      "Set parameter Method to value 4\n"
     ]
    },
    {
     "name": "stderr",
     "output_type": "stream",
     "text": [
      "2025-01-12 01:22:25.357Z gurobipy         20 netflow.py:117 Set parameter Method to value 4\n"
     ]
    },
    {
     "name": "stdout",
     "output_type": "stream",
     "text": [
      "Set parameter DegenMoves to value 0\n"
     ]
    },
    {
     "name": "stderr",
     "output_type": "stream",
     "text": [
      "2025-01-12 01:22:25.359Z gurobipy         20 netflow.py:117 Set parameter DegenMoves to value 0\n"
     ]
    },
    {
     "name": "stdout",
     "output_type": "stream",
     "text": [
      "Set parameter Heuristics to value 0.8\n"
     ]
    },
    {
     "name": "stderr",
     "output_type": "stream",
     "text": [
      "2025-01-12 01:22:25.360Z gurobipy         20 netflow.py:117 Set parameter Heuristics to value 0.8\n"
     ]
    },
    {
     "name": "stdout",
     "output_type": "stream",
     "text": [
      "Set parameter MIPGap to value 0.05\n"
     ]
    },
    {
     "name": "stderr",
     "output_type": "stream",
     "text": [
      "2025-01-12 01:22:25.362Z gurobipy         20 netflow.py:117 Set parameter MIPGap to value 0.05\n"
     ]
    },
    {
     "name": "stdout",
     "output_type": "stream",
     "text": [
      "Creating network topology\n",
      "  exposure 1\n",
      "Calculating visibilities\n",
      "adding constraints\n",
      "adding collision constraints\n",
      "adding forbidden pair constraints\n",
      "Gurobi Optimizer version 10.0.1 build v10.0.1rc0 (mac64[x86])\n"
     ]
    },
    {
     "name": "stderr",
     "output_type": "stream",
     "text": [
      "2025-01-12 01:22:38.047Z gurobipy         20 netflow.py:149 Gurobi Optimizer version 10.0.1 build v10.0.1rc0 (mac64[x86])\n"
     ]
    },
    {
     "name": "stdout",
     "output_type": "stream",
     "text": [
      "\n"
     ]
    },
    {
     "name": "stderr",
     "output_type": "stream",
     "text": [
      "2025-01-12 01:22:38.048Z gurobipy         20 netflow.py:149 \n"
     ]
    },
    {
     "name": "stdout",
     "output_type": "stream",
     "text": [
      "CPU model: Intel(R) Core(TM) i7-8569U CPU @ 2.80GHz\n"
     ]
    },
    {
     "name": "stderr",
     "output_type": "stream",
     "text": [
      "2025-01-12 01:22:38.051Z gurobipy         20 netflow.py:149 CPU model: Intel(R) Core(TM) i7-8569U CPU @ 2.80GHz\n"
     ]
    },
    {
     "name": "stdout",
     "output_type": "stream",
     "text": [
      "Thread count: 4 physical cores, 8 logical processors, using up to 8 threads\n"
     ]
    },
    {
     "name": "stderr",
     "output_type": "stream",
     "text": [
      "2025-01-12 01:22:38.054Z gurobipy         20 netflow.py:149 Thread count: 4 physical cores, 8 logical processors, using up to 8 threads\n"
     ]
    },
    {
     "name": "stdout",
     "output_type": "stream",
     "text": [
      "\n"
     ]
    },
    {
     "name": "stderr",
     "output_type": "stream",
     "text": [
      "2025-01-12 01:22:38.057Z gurobipy         20 netflow.py:149 \n"
     ]
    },
    {
     "name": "stdout",
     "output_type": "stream",
     "text": [
      "Academic license 2379863 - for non-commercial use only - registered to ji___@ipmu.jp\n"
     ]
    },
    {
     "name": "stderr",
     "output_type": "stream",
     "text": [
      "2025-01-12 01:22:38.061Z gurobipy         20 netflow.py:149 Academic license 2379863 - for non-commercial use only - registered to ji___@ipmu.jp\n"
     ]
    },
    {
     "name": "stdout",
     "output_type": "stream",
     "text": [
      "Optimize a model with 139856 rows, 72836 columns and 362086 nonzeros\n"
     ]
    },
    {
     "name": "stderr",
     "output_type": "stream",
     "text": [
      "2025-01-12 01:22:38.062Z gurobipy         20 netflow.py:149 Optimize a model with 139856 rows, 72836 columns and 362086 nonzeros\n"
     ]
    },
    {
     "name": "stdout",
     "output_type": "stream",
     "text": [
      "Model fingerprint: 0x59f14d6b\n"
     ]
    },
    {
     "name": "stderr",
     "output_type": "stream",
     "text": [
      "2025-01-12 01:22:38.067Z gurobipy         20 netflow.py:149 Model fingerprint: 0x59f14d6b\n"
     ]
    },
    {
     "name": "stdout",
     "output_type": "stream",
     "text": [
      "Variable types: 1 continuous, 72835 integer (72833 binary)\n"
     ]
    },
    {
     "name": "stderr",
     "output_type": "stream",
     "text": [
      "2025-01-12 01:22:38.069Z gurobipy         20 netflow.py:149 Variable types: 1 continuous, 72835 integer (72833 binary)\n"
     ]
    },
    {
     "name": "stdout",
     "output_type": "stream",
     "text": [
      "Coefficient statistics:\n"
     ]
    },
    {
     "name": "stderr",
     "output_type": "stream",
     "text": [
      "2025-01-12 01:22:38.075Z gurobipy         20 netflow.py:149 Coefficient statistics:\n"
     ]
    },
    {
     "name": "stdout",
     "output_type": "stream",
     "text": [
      "  Matrix range     [1e+00, 1e+00]\n"
     ]
    },
    {
     "name": "stderr",
     "output_type": "stream",
     "text": [
      "2025-01-12 01:22:38.081Z gurobipy         20 netflow.py:149   Matrix range     [1e+00, 1e+00]\n"
     ]
    },
    {
     "name": "stdout",
     "output_type": "stream",
     "text": [
      "  Objective range  [1e-01, 1e+06]\n"
     ]
    },
    {
     "name": "stderr",
     "output_type": "stream",
     "text": [
      "2025-01-12 01:22:38.083Z gurobipy         20 netflow.py:149   Objective range  [1e-01, 1e+06]\n"
     ]
    },
    {
     "name": "stdout",
     "output_type": "stream",
     "text": [
      "  Bounds range     [1e+00, 1e+00]\n"
     ]
    },
    {
     "name": "stderr",
     "output_type": "stream",
     "text": [
      "2025-01-12 01:22:38.086Z gurobipy         20 netflow.py:149   Bounds range     [1e+00, 1e+00]\n"
     ]
    },
    {
     "name": "stdout",
     "output_type": "stream",
     "text": [
      "  RHS range        [1e+00, 4e+02]\n"
     ]
    },
    {
     "name": "stderr",
     "output_type": "stream",
     "text": [
      "2025-01-12 01:22:38.089Z gurobipy         20 netflow.py:149   RHS range        [1e+00, 4e+02]\n"
     ]
    },
    {
     "name": "stdout",
     "output_type": "stream",
     "text": [
      "Found heuristic solution: objective 6.000000e+08\n"
     ]
    },
    {
     "name": "stderr",
     "output_type": "stream",
     "text": [
      "2025-01-12 01:22:38.115Z gurobipy         20 netflow.py:149 Found heuristic solution: objective 6.000000e+08\n"
     ]
    },
    {
     "name": "stdout",
     "output_type": "stream",
     "text": [
      "Presolve removed 139004 rows and 69795 columns\n"
     ]
    },
    {
     "name": "stderr",
     "output_type": "stream",
     "text": [
      "2025-01-12 01:22:38.950Z gurobipy         20 netflow.py:149 Presolve removed 139004 rows and 69795 columns\n"
     ]
    },
    {
     "name": "stdout",
     "output_type": "stream",
     "text": [
      "Presolve time: 0.81s\n"
     ]
    },
    {
     "name": "stderr",
     "output_type": "stream",
     "text": [
      "2025-01-12 01:22:38.952Z gurobipy         20 netflow.py:149 Presolve time: 0.81s\n"
     ]
    },
    {
     "name": "stdout",
     "output_type": "stream",
     "text": [
      "Presolved: 852 rows, 3041 columns, 4926 nonzeros\n"
     ]
    },
    {
     "name": "stderr",
     "output_type": "stream",
     "text": [
      "2025-01-12 01:22:38.959Z gurobipy         20 netflow.py:149 Presolved: 852 rows, 3041 columns, 4926 nonzeros\n"
     ]
    },
    {
     "name": "stdout",
     "output_type": "stream",
     "text": [
      "Variable types: 0 continuous, 3041 integer (3039 binary)\n"
     ]
    },
    {
     "name": "stderr",
     "output_type": "stream",
     "text": [
      "2025-01-12 01:22:38.965Z gurobipy         20 netflow.py:149 Variable types: 0 continuous, 3041 integer (3039 binary)\n"
     ]
    },
    {
     "name": "stdout",
     "output_type": "stream",
     "text": [
      "Found heuristic solution: objective 5.980000e+08\n"
     ]
    },
    {
     "name": "stderr",
     "output_type": "stream",
     "text": [
      "2025-01-12 01:22:38.969Z gurobipy         20 netflow.py:149 Found heuristic solution: objective 5.980000e+08\n"
     ]
    },
    {
     "name": "stdout",
     "output_type": "stream",
     "text": [
      "Deterministic concurrent LP optimizer: dual simplex and barrier\n"
     ]
    },
    {
     "name": "stderr",
     "output_type": "stream",
     "text": [
      "2025-01-12 01:22:38.975Z gurobipy         20 netflow.py:149 Deterministic concurrent LP optimizer: dual simplex and barrier\n"
     ]
    },
    {
     "name": "stdout",
     "output_type": "stream",
     "text": [
      "Showing barrier log only...\n"
     ]
    },
    {
     "name": "stderr",
     "output_type": "stream",
     "text": [
      "2025-01-12 01:22:38.976Z gurobipy         20 netflow.py:149 Showing barrier log only...\n"
     ]
    },
    {
     "name": "stdout",
     "output_type": "stream",
     "text": [
      "\n"
     ]
    },
    {
     "name": "stderr",
     "output_type": "stream",
     "text": [
      "2025-01-12 01:22:38.980Z gurobipy         20 netflow.py:149 \n"
     ]
    },
    {
     "name": "stdout",
     "output_type": "stream",
     "text": [
      "Root barrier log...\n"
     ]
    },
    {
     "name": "stderr",
     "output_type": "stream",
     "text": [
      "2025-01-12 01:22:38.986Z gurobipy         20 netflow.py:149 Root barrier log...\n"
     ]
    },
    {
     "name": "stdout",
     "output_type": "stream",
     "text": [
      "\n"
     ]
    },
    {
     "name": "stderr",
     "output_type": "stream",
     "text": [
      "2025-01-12 01:22:38.988Z gurobipy         20 netflow.py:149 \n"
     ]
    },
    {
     "name": "stdout",
     "output_type": "stream",
     "text": [
      "Ordering time: 0.00s\n"
     ]
    },
    {
     "name": "stderr",
     "output_type": "stream",
     "text": [
      "2025-01-12 01:22:38.990Z gurobipy         20 netflow.py:149 Ordering time: 0.00s\n"
     ]
    },
    {
     "name": "stdout",
     "output_type": "stream",
     "text": [
      "\n"
     ]
    },
    {
     "name": "stderr",
     "output_type": "stream",
     "text": [
      "2025-01-12 01:22:38.992Z gurobipy         20 netflow.py:149 \n"
     ]
    },
    {
     "name": "stdout",
     "output_type": "stream",
     "text": [
      "Barrier statistics:\n"
     ]
    },
    {
     "name": "stderr",
     "output_type": "stream",
     "text": [
      "2025-01-12 01:22:38.994Z gurobipy         20 netflow.py:149 Barrier statistics:\n"
     ]
    },
    {
     "name": "stdout",
     "output_type": "stream",
     "text": [
      " AA' NZ     : 1.792e+03\n"
     ]
    },
    {
     "name": "stderr",
     "output_type": "stream",
     "text": [
      "2025-01-12 01:22:38.995Z gurobipy         20 netflow.py:149  AA' NZ     : 1.792e+03\n"
     ]
    },
    {
     "name": "stdout",
     "output_type": "stream",
     "text": [
      " Factor NZ  : 3.946e+03 (roughly 2 MB of memory)\n"
     ]
    },
    {
     "name": "stderr",
     "output_type": "stream",
     "text": [
      "2025-01-12 01:22:38.998Z gurobipy         20 netflow.py:149  Factor NZ  : 3.946e+03 (roughly 2 MB of memory)\n"
     ]
    },
    {
     "name": "stdout",
     "output_type": "stream",
     "text": [
      " Factor Ops : 2.889e+04 (less than 1 second per iteration)\n"
     ]
    },
    {
     "name": "stderr",
     "output_type": "stream",
     "text": [
      "2025-01-12 01:22:39.009Z gurobipy         20 netflow.py:149  Factor Ops : 2.889e+04 (less than 1 second per iteration)\n"
     ]
    },
    {
     "name": "stdout",
     "output_type": "stream",
     "text": [
      " Threads    : 1\n"
     ]
    },
    {
     "name": "stderr",
     "output_type": "stream",
     "text": [
      "2025-01-12 01:22:39.011Z gurobipy         20 netflow.py:149  Threads    : 1\n"
     ]
    },
    {
     "name": "stdout",
     "output_type": "stream",
     "text": [
      "\n"
     ]
    },
    {
     "name": "stderr",
     "output_type": "stream",
     "text": [
      "2025-01-12 01:22:39.014Z gurobipy         20 netflow.py:149 \n"
     ]
    },
    {
     "name": "stdout",
     "output_type": "stream",
     "text": [
      "                  Objective                Residual\n"
     ]
    },
    {
     "name": "stderr",
     "output_type": "stream",
     "text": [
      "2025-01-12 01:22:39.016Z gurobipy         20 netflow.py:149                   Objective                Residual\n"
     ]
    },
    {
     "name": "stdout",
     "output_type": "stream",
     "text": [
      "Iter       Primal          Dual         Primal    Dual     Compl     Time\n"
     ]
    },
    {
     "name": "stderr",
     "output_type": "stream",
     "text": [
      "2025-01-12 01:22:39.024Z gurobipy         20 netflow.py:149 Iter       Primal          Dual         Primal    Dual     Compl     Time\n"
     ]
    },
    {
     "name": "stdout",
     "output_type": "stream",
     "text": [
      "   0   3.76910506e+08 -2.44562128e+09  3.98e+01 3.71e+04  3.39e+07     1s\n"
     ]
    },
    {
     "name": "stderr",
     "output_type": "stream",
     "text": [
      "2025-01-12 01:22:39.026Z gurobipy         20 netflow.py:149    0   3.76910506e+08 -2.44562128e+09  3.98e+01 3.71e+04  3.39e+07     1s\n"
     ]
    },
    {
     "name": "stdout",
     "output_type": "stream",
     "text": [
      "\n"
     ]
    },
    {
     "name": "stderr",
     "output_type": "stream",
     "text": [
      "2025-01-12 01:22:39.029Z gurobipy         20 netflow.py:149 \n"
     ]
    },
    {
     "name": "stdout",
     "output_type": "stream",
     "text": [
      "Barrier performed 0 iterations in 0.97 seconds (0.35 work units)\n"
     ]
    },
    {
     "name": "stderr",
     "output_type": "stream",
     "text": [
      "2025-01-12 01:22:39.031Z gurobipy         20 netflow.py:149 Barrier performed 0 iterations in 0.97 seconds (0.35 work units)\n"
     ]
    },
    {
     "name": "stdout",
     "output_type": "stream",
     "text": [
      "Barrier solve interrupted - model solved by another algorithm\n"
     ]
    },
    {
     "name": "stderr",
     "output_type": "stream",
     "text": [
      "2025-01-12 01:22:39.033Z gurobipy         20 netflow.py:149 Barrier solve interrupted - model solved by another algorithm\n"
     ]
    },
    {
     "name": "stdout",
     "output_type": "stream",
     "text": [
      "\n"
     ]
    },
    {
     "name": "stderr",
     "output_type": "stream",
     "text": [
      "2025-01-12 01:22:39.041Z gurobipy         20 netflow.py:149 \n"
     ]
    },
    {
     "name": "stdout",
     "output_type": "stream",
     "text": [
      "Concurrent spin time: 0.06s\n"
     ]
    },
    {
     "name": "stderr",
     "output_type": "stream",
     "text": [
      "2025-01-12 01:22:39.044Z gurobipy         20 netflow.py:149 Concurrent spin time: 0.06s\n"
     ]
    },
    {
     "name": "stdout",
     "output_type": "stream",
     "text": [
      "\n"
     ]
    },
    {
     "name": "stderr",
     "output_type": "stream",
     "text": [
      "2025-01-12 01:22:39.048Z gurobipy         20 netflow.py:149 \n"
     ]
    },
    {
     "name": "stdout",
     "output_type": "stream",
     "text": [
      "Solved with dual simplex\n"
     ]
    },
    {
     "name": "stderr",
     "output_type": "stream",
     "text": [
      "2025-01-12 01:22:39.057Z gurobipy         20 netflow.py:149 Solved with dual simplex\n"
     ]
    },
    {
     "name": "stdout",
     "output_type": "stream",
     "text": [
      "\n"
     ]
    },
    {
     "name": "stderr",
     "output_type": "stream",
     "text": [
      "2025-01-12 01:22:39.063Z gurobipy         20 netflow.py:149 \n"
     ]
    },
    {
     "name": "stdout",
     "output_type": "stream",
     "text": [
      "Root relaxation: objective 1.044055e+02, 93 iterations, 0.09 seconds (0.00 work units)\n"
     ]
    },
    {
     "name": "stderr",
     "output_type": "stream",
     "text": [
      "2025-01-12 01:22:39.064Z gurobipy         20 netflow.py:149 Root relaxation: objective 1.044055e+02, 93 iterations, 0.09 seconds (0.00 work units)\n"
     ]
    },
    {
     "name": "stdout",
     "output_type": "stream",
     "text": [
      "\n"
     ]
    },
    {
     "name": "stderr",
     "output_type": "stream",
     "text": [
      "2025-01-12 01:22:39.071Z gurobipy         20 netflow.py:149 \n"
     ]
    },
    {
     "name": "stdout",
     "output_type": "stream",
     "text": [
      "    Nodes    |    Current Node    |     Objective Bounds      |     Work\n"
     ]
    },
    {
     "name": "stderr",
     "output_type": "stream",
     "text": [
      "2025-01-12 01:22:39.079Z gurobipy         20 netflow.py:149     Nodes    |    Current Node    |     Objective Bounds      |     Work\n"
     ]
    },
    {
     "name": "stdout",
     "output_type": "stream",
     "text": [
      " Expl Unexpl |  Obj  Depth IntInf | Incumbent    BestBd   Gap | It/Node Time\n"
     ]
    },
    {
     "name": "stderr",
     "output_type": "stream",
     "text": [
      "2025-01-12 01:22:39.082Z gurobipy         20 netflow.py:149  Expl Unexpl |  Obj  Depth IntInf | Incumbent    BestBd   Gap | It/Node Time\n"
     ]
    },
    {
     "name": "stdout",
     "output_type": "stream",
     "text": [
      "\n"
     ]
    },
    {
     "name": "stderr",
     "output_type": "stream",
     "text": [
      "2025-01-12 01:22:39.085Z gurobipy         20 netflow.py:149 \n"
     ]
    },
    {
     "name": "stdout",
     "output_type": "stream",
     "text": [
      "*    0     0               0     104.4054902  104.40549  0.00%     -    1s\n"
     ]
    },
    {
     "name": "stderr",
     "output_type": "stream",
     "text": [
      "2025-01-12 01:22:39.087Z gurobipy         20 netflow.py:149 *    0     0               0     104.4054902  104.40549  0.00%     -    1s\n"
     ]
    },
    {
     "name": "stdout",
     "output_type": "stream",
     "text": [
      "\n"
     ]
    },
    {
     "name": "stderr",
     "output_type": "stream",
     "text": [
      "2025-01-12 01:22:39.233Z gurobipy         20 netflow.py:149 \n"
     ]
    },
    {
     "name": "stdout",
     "output_type": "stream",
     "text": [
      "Explored 1 nodes (93 simplex iterations) in 1.17 seconds (0.35 work units)\n"
     ]
    },
    {
     "name": "stderr",
     "output_type": "stream",
     "text": [
      "2025-01-12 01:22:39.236Z gurobipy         20 netflow.py:149 Explored 1 nodes (93 simplex iterations) in 1.17 seconds (0.35 work units)\n"
     ]
    },
    {
     "name": "stdout",
     "output_type": "stream",
     "text": [
      "Thread count was 8 (of 8 available processors)\n"
     ]
    },
    {
     "name": "stderr",
     "output_type": "stream",
     "text": [
      "2025-01-12 01:22:39.240Z gurobipy         20 netflow.py:149 Thread count was 8 (of 8 available processors)\n"
     ]
    },
    {
     "name": "stdout",
     "output_type": "stream",
     "text": [
      "\n"
     ]
    },
    {
     "name": "stderr",
     "output_type": "stream",
     "text": [
      "2025-01-12 01:22:39.244Z gurobipy         20 netflow.py:149 \n"
     ]
    },
    {
     "name": "stdout",
     "output_type": "stream",
     "text": [
      "Solution count 3: 104.405 5.98e+08 6e+08 \n"
     ]
    },
    {
     "name": "stderr",
     "output_type": "stream",
     "text": [
      "2025-01-12 01:22:39.248Z gurobipy         20 netflow.py:149 Solution count 3: 104.405 5.98e+08 6e+08 \n"
     ]
    },
    {
     "name": "stdout",
     "output_type": "stream",
     "text": [
      "\n"
     ]
    },
    {
     "name": "stderr",
     "output_type": "stream",
     "text": [
      "2025-01-12 01:22:39.250Z gurobipy         20 netflow.py:149 \n"
     ]
    },
    {
     "name": "stdout",
     "output_type": "stream",
     "text": [
      "Optimal solution found (tolerance 5.00e-02)\n"
     ]
    },
    {
     "name": "stderr",
     "output_type": "stream",
     "text": [
      "2025-01-12 01:22:39.253Z gurobipy         20 netflow.py:149 Optimal solution found (tolerance 5.00e-02)\n"
     ]
    },
    {
     "name": "stdout",
     "output_type": "stream",
     "text": [
      "Best objective 1.044054901506e+02, best bound 1.044054901506e+02, gap 0.0000%\n"
     ]
    },
    {
     "name": "stderr",
     "output_type": "stream",
     "text": [
      "2025-01-12 01:22:39.258Z gurobipy         20 netflow.py:149 Best objective 1.044054901506e+02, best bound 1.044054901506e+02, gap 0.0000%\n"
     ]
    },
    {
     "name": "stdout",
     "output_type": "stream",
     "text": [
      "Checking for trajectory collisions\n"
     ]
    },
    {
     "name": "stderr",
     "output_type": "stream",
     "text": [
      "2025-01-12 01:22:39.790Z pfi              40 pfi.py:896 Some theta angles are out of range\n",
      "2025-01-12 01:22:39.791Z pfi              40 pfi.py:899 Some phi angles are out of range\n",
      "2025-01-12 01:22:39.913Z pfi              40 pfi.py:899 Some phi angles are out of range\n",
      "2025-01-12 01:22:39.951Z pfi              40 pfi.py:899 Some phi angles are out of range\n",
      "2025-01-12 01:22:39.956Z engineer         20 engineer.py:395 Move theta arms to angle=[360.  360.  270.9 ... 360.  360.  360. ] degree\n",
      "2025-01-12 01:22:39.958Z engineer         20 engineer.py:396 Move phi arms to angle=[11.09 24.48 35.88 ...  8.43 11.99  9.16] degree\n",
      "2025-01-12 01:22:39.959Z engineer         20 engineer.py:398 Checking passed homed argument = True\n",
      "2025-01-12 01:22:39.960Z engineer         20 engineer.py:402 Move theta arms CW and phi arms CCW to the hard stops\n",
      "2025-01-12 01:22:39.994Z cobraCoach       20 cobraCoach.py:1065 home cobras: theta=10000, phi=-5000\n",
      "2025-01-12 01:22:40.029Z pfi              40 pfi.py:899 Some phi angles are out of range\n",
      "2025-01-12 01:22:40.063Z pfi              40 pfi.py:899 Some phi angles are out of range\n",
      "2025-01-12 01:22:40.095Z cobraCoach       20 cobraCoach.py:1009 Moving deltaTheta = [-0.29458444 -0.38204686 -1.91112292 ... -0.40597169 -0.4013664\n",
      " -0.41592376]\n",
      "2025-01-12 01:22:40.096Z cobraCoach       20 cobraCoach.py:1010 Moving deltaPhi = [0.19361448 0.42723261 0.6262403  ... 0.14708474 0.20932294 0.15978886]\n",
      "2025-01-12 01:22:40.398Z cobraCoach       20 cobraCoach.py:877 Finished converting angle to steps, sending command to moveSteps (constantOntime).\n",
      "2025-01-12 01:22:41.018Z cobraCoach       20 cobraCoach.py:587 Sending step numbers to FPGA for moving cobra.\n",
      "2025-01-12 01:22:41.141Z cobraCoach       20 cobraCoach.py:601 cobra control FPGA operation done.\n",
      "2025-01-12 01:22:41.165Z pfi              40 pfi.py:896 Some theta angles are out of range\n",
      "2025-01-12 01:22:41.166Z pfi              40 pfi.py:899 Some phi angles are out of range\n",
      "2025-01-12 01:22:41.276Z cobraCoach       30 cobraCoach.py:675 Cobra#344 is too far from center\n",
      "2025-01-12 01:22:41.279Z cobraCoach       30 cobraCoach.py:675 Cobra#443 is too far from center\n",
      "2025-01-12 01:22:41.282Z cobraCoach       30 cobraCoach.py:675 Cobra#493 is too far from center\n",
      "2025-01-12 01:22:41.307Z cobraCoach       30 cobraCoach.py:675 Cobra#1303 is too far from center\n",
      "2025-01-12 01:22:41.317Z cobraCoach       30 cobraCoach.py:675 Cobra#1637 is too far from center\n",
      "2025-01-12 01:22:41.323Z cobraCoach       30 cobraCoach.py:675 Cobra#1790 is too far from center\n",
      "2025-01-12 01:22:41.324Z cobraCoach       30 cobraCoach.py:675 Cobra#1792 is too far from center\n",
      "2025-01-12 01:22:41.347Z engineer         20 engineer.py:433 done: [   0    1    2 ... 2391 2392 2393], 14 left\n",
      "2025-01-12 01:22:41.348Z cobraCoach       30 cobraCoach.py:1003 Last phi angle is unknown, not moving: [1459]\n",
      "2025-01-12 01:22:41.350Z cobraCoach       20 cobraCoach.py:1009 Moving deltaTheta = [-1.01748456e-05 -1.01748456e-05 -1.01748456e-05  1.42413045e-04\n",
      " -1.01748456e-05 -1.01748456e-05 -1.01748456e-05 -1.01748455e-05\n",
      " -1.01748456e-05  6.92683126e-04 -1.01748455e-05 -1.01748456e-05\n",
      " -1.01748456e-05  1.10228624e-03]\n",
      "2025-01-12 01:22:41.351Z cobraCoach       20 cobraCoach.py:1010 Moving deltaPhi = [-6.10865247 -6.10865247 -6.10865247 -0.04164008 -2.96705959 -6.10865247\n",
      "  0.         -2.96705964 -2.96705969 -0.06341524 -6.10865247 -6.10865247\n",
      " -6.10865247 -0.0498779 ]\n",
      "2025-01-12 01:22:41.356Z cobraCoach       30 cobraCoach.py:846 Last phi angle is unknown: [1459]\n",
      "2025-01-12 01:22:41.358Z cobraCoach       20 cobraCoach.py:877 Finished converting angle to steps, sending command to moveSteps (constantOntime).\n",
      "2025-01-12 01:22:41.364Z cobraCoach       20 cobraCoach.py:587 Sending step numbers to FPGA for moving cobra.\n",
      "2025-01-12 01:22:41.367Z cobraCoach       20 cobraCoach.py:601 cobra control FPGA operation done.\n",
      "2025-01-12 01:22:41.392Z pfi              40 pfi.py:896 Some theta angles are out of range\n",
      "2025-01-12 01:22:41.393Z pfi              40 pfi.py:899 Some phi angles are out of range\n",
      "2025-01-12 01:22:41.498Z cobraCoach       30 cobraCoach.py:675 Cobra#344 is too far from center\n",
      "2025-01-12 01:22:41.499Z cobraCoach       30 cobraCoach.py:679 Cobra#1460 is too close to center\n",
      "2025-01-12 01:22:41.500Z cobraCoach       30 cobraCoach.py:675 Cobra#1637 is too far from center\n",
      "2025-01-12 01:22:41.501Z cobraCoach       30 cobraCoach.py:675 Cobra#1790 is too far from center\n",
      "2025-01-12 01:22:41.506Z engineer         30 engineer.py:442 14 cobras did not finish: [ 343  442  492  578  737 1302 1459 1493 1538 1587 1636 1789 1791 1969], [4.67 4.67 4.67 0.11 4.67 4.67 0.82 4.67 4.67 0.16 4.67 4.67 4.67 0.11]\n",
      "2025-01-12 01:22:41.530Z pfi              40 pfi.py:899 Some phi angles are out of range\n",
      "2025-01-12 01:22:41.532Z engineer         20 engineer.py:395 Move theta arms to angle=[360.  360.  270.9 ... 360.  360.  360. ] degree\n",
      "2025-01-12 01:22:41.534Z engineer         20 engineer.py:396 Move phi arms to angle=[11.09 24.48 35.88 ...  8.43 11.99  9.16] degree\n",
      "2025-01-12 01:22:41.535Z engineer         20 engineer.py:398 Checking passed homed argument = False\n",
      "2025-01-12 01:22:41.562Z cobraCoach       20 cobraCoach.py:1009 Moving deltaTheta = [-0.00026719 -0.0001518   0.00013482 ... -0.00025479  0.00038417\n",
      " -0.000724  ]\n",
      "2025-01-12 01:22:41.563Z cobraCoach       20 cobraCoach.py:1010 Moving deltaPhi = [ 8.60699099e-05 -8.34333106e-04 -3.81240990e-04 ...  6.56574960e-04\n",
      " -8.39715058e-04 -4.29651246e-04]\n",
      "2025-01-12 01:22:41.753Z cobraCoach       20 cobraCoach.py:877 Finished converting angle to steps, sending command to moveSteps (constantOntime).\n",
      "2025-01-12 01:22:41.970Z cobraCoach       20 cobraCoach.py:587 Sending step numbers to FPGA for moving cobra.\n",
      "2025-01-12 01:22:42.086Z cobraCoach       20 cobraCoach.py:601 cobra control FPGA operation done.\n",
      "2025-01-12 01:22:42.111Z pfi              40 pfi.py:896 Some theta angles are out of range\n",
      "2025-01-12 01:22:42.112Z pfi              40 pfi.py:899 Some phi angles are out of range\n",
      "2025-01-12 01:22:42.262Z cobraCoach       30 cobraCoach.py:675 Cobra#1303 is too far from center\n",
      "2025-01-12 01:22:42.280Z cobraCoach       30 cobraCoach.py:675 Cobra#1790 is too far from center\n",
      "2025-01-12 01:22:42.313Z engineer         20 engineer.py:433 done: [   0    1    2 ... 2391 2392 2393], 14 left\n",
      "2025-01-12 01:22:42.314Z cobraCoach       30 cobraCoach.py:1003 Last phi angle is unknown, not moving: [1459]\n",
      "2025-01-12 01:22:42.316Z cobraCoach       20 cobraCoach.py:1009 Moving deltaTheta = [-1.94233989e-04 -5.14191722e-04 -6.14804362e-04  1.42413045e-04\n",
      " -1.01748456e-05  2.69975771e-06 -1.01748456e-05 -1.01748455e-05\n",
      " -1.01748456e-05 -2.97707652e-04 -1.03632841e-03 -1.01748456e-05\n",
      " -3.80200480e-04 -1.05065440e-04]\n",
      "2025-01-12 01:22:42.317Z cobraCoach       20 cobraCoach.py:1010 Moving deltaPhi = [-2.96687409 -2.96705963 -2.9670596  -0.04164008 -2.96705959 -6.10865247\n",
      "  0.         -2.96705964 -2.96705969 -0.06341524 -2.96602327 -6.10865247\n",
      " -2.9670596  -0.0498779 ]\n",
      "2025-01-12 01:22:42.325Z cobraCoach       30 cobraCoach.py:846 Last phi angle is unknown: [1459]\n",
      "2025-01-12 01:22:42.328Z cobraCoach       20 cobraCoach.py:877 Finished converting angle to steps, sending command to moveSteps (constantOntime).\n",
      "2025-01-12 01:22:42.337Z cobraCoach       20 cobraCoach.py:587 Sending step numbers to FPGA for moving cobra.\n",
      "2025-01-12 01:22:42.344Z cobraCoach       20 cobraCoach.py:601 cobra control FPGA operation done.\n",
      "2025-01-12 01:22:42.372Z pfi              40 pfi.py:896 Some theta angles are out of range\n",
      "2025-01-12 01:22:42.374Z pfi              40 pfi.py:899 Some phi angles are out of range\n",
      "2025-01-12 01:22:42.473Z cobraCoach       30 cobraCoach.py:675 Cobra#344 is too far from center\n",
      "2025-01-12 01:22:42.474Z pfi              30 pfi.py:475 clipping scale adjustment from 0.2573481031895782 to 0.3\n",
      "2025-01-12 01:22:42.475Z cobraCoach       30 cobraCoach.py:679 Cobra#1460 is too close to center\n",
      "2025-01-12 01:22:42.476Z pfi              30 pfi.py:475 clipping scale adjustment from 0.26154231110049525 to 0.3\n",
      "2025-01-12 01:22:42.481Z cobraCoach       20 cobraCoach.py:1009 Moving deltaTheta = [-1.94233989e-04 -5.14191722e-04 -6.14804362e-04  1.42413045e-04\n",
      " -1.01748456e-05 -1.09852569e+00 -1.01748456e-05 -1.01748455e-05\n",
      " -1.01748456e-05 -2.97707652e-04 -1.03632841e-03 -1.07143418e+00\n",
      " -3.80200480e-04 -1.05065440e-04]\n",
      "2025-01-12 01:22:42.482Z cobraCoach       20 cobraCoach.py:1010 Moving deltaPhi = [-6.10865247 -2.96705963 -2.9670596  -0.04164008 -2.96705959 -1.71883189\n",
      " -2.96705973 -2.96705964 -2.96705969 -0.06341524 -2.96705964 -1.88389766\n",
      " -2.9670596  -0.0498779 ]\n",
      "2025-01-12 01:22:42.486Z cobraCoach       20 cobraCoach.py:877 Finished converting angle to steps, sending command to moveSteps (constantOntime).\n",
      "2025-01-12 01:22:42.492Z cobraCoach       20 cobraCoach.py:587 Sending step numbers to FPGA for moving cobra.\n",
      "2025-01-12 01:22:42.494Z cobraCoach       20 cobraCoach.py:601 cobra control FPGA operation done.\n",
      "2025-01-12 01:22:42.520Z pfi              40 pfi.py:896 Some theta angles are out of range\n",
      "2025-01-12 01:22:42.521Z pfi              40 pfi.py:899 Some phi angles are out of range\n",
      "2025-01-12 01:22:42.621Z pfi              30 pfi.py:475 clipping scale adjustment from 0.2859424141191533 to 0.3\n",
      "2025-01-12 01:22:42.623Z cobraCoach       30 cobraCoach.py:675 Cobra#1303 is too far from center\n",
      "2025-01-12 01:22:42.624Z pfi              30 pfi.py:475 clipping scale adjustment from 0.29999999904403885 to 0.3\n",
      "2025-01-12 01:22:42.625Z cobraCoach       30 cobraCoach.py:675 Cobra#1790 is too far from center\n",
      "2025-01-12 01:22:42.630Z cobraCoach       30 cobraCoach.py:1003 Last phi angle is unknown, not moving: [1459]\n",
      "2025-01-12 01:22:42.631Z cobraCoach       20 cobraCoach.py:1009 Moving deltaTheta = [-3.21863813e-01 -5.14191722e-04 -6.14804362e-04  1.42413045e-04\n",
      " -1.01748456e-05 -6.82685060e-01 -1.01748456e-05 -1.01748455e-05\n",
      " -1.01748456e-05 -2.97707652e-04 -1.03632841e-03 -3.25590772e-01\n",
      " -3.80200480e-04 -1.05065440e-04]\n",
      "2025-01-12 01:22:42.632Z cobraCoach       20 cobraCoach.py:1010 Moving deltaPhi = [-2.64219266 -2.96705963 -2.9670596  -0.04164008 -2.96705959 -6.10865247\n",
      "  0.         -2.96705964 -2.96705969 -0.06341524 -2.96705964 -6.10865247\n",
      " -2.9670596  -0.0498779 ]\n",
      "2025-01-12 01:22:42.635Z cobraCoach       30 cobraCoach.py:846 Last phi angle is unknown: [1459]\n",
      "2025-01-12 01:22:42.640Z cobraCoach       20 cobraCoach.py:877 Finished converting angle to steps, sending command to moveSteps (constantOntime).\n",
      "2025-01-12 01:22:42.647Z cobraCoach       20 cobraCoach.py:587 Sending step numbers to FPGA for moving cobra.\n",
      "2025-01-12 01:22:42.650Z cobraCoach       20 cobraCoach.py:601 cobra control FPGA operation done.\n",
      "2025-01-12 01:22:42.677Z pfi              40 pfi.py:896 Some theta angles are out of range\n",
      "2025-01-12 01:22:42.678Z pfi              40 pfi.py:899 Some phi angles are out of range\n",
      "2025-01-12 01:22:42.777Z pfi              30 pfi.py:475 clipping scale adjustment from 0.22521650184055392 to 0.3\n",
      "2025-01-12 01:22:42.778Z pfi              30 pfi.py:475 clipping scale adjustment from 0.2573481031895782 to 0.3\n",
      "2025-01-12 01:22:42.779Z cobraCoach       30 cobraCoach.py:679 Cobra#1460 is too close to center\n",
      "2025-01-12 01:22:42.780Z pfi              30 pfi.py:475 clipping scale adjustment from 0.22664453700152026 to 0.3\n",
      "2025-01-12 01:22:42.781Z pfi              30 pfi.py:475 clipping scale adjustment from 0.26154231110049525 to 0.3\n",
      "2025-01-12 01:22:42.787Z cobraCoach       20 cobraCoach.py:1009 Moving deltaTheta = [-2.17122172e-04 -5.14191722e-04 -6.14804362e-04  1.42413045e-04\n",
      " -1.01748456e-05  4.51698156e+00 -1.01748456e-05 -1.01748455e-05\n",
      " -1.01748456e-05 -2.97707652e-04 -1.03632841e-03  5.00301130e+00\n",
      " -3.80200480e-04 -1.05065440e-04]\n",
      "2025-01-12 01:22:42.788Z cobraCoach       20 cobraCoach.py:1010 Moving deltaPhi = [-2.96705965 -2.96705963 -2.9670596  -0.04164008 -2.96705959 -1.71883189\n",
      " -2.96705973 -2.96705964 -2.96705969 -0.06341524 -2.96705964 -1.88389766\n",
      " -2.9670596  -0.0498779 ]\n",
      "2025-01-12 01:22:42.792Z cobraCoach       20 cobraCoach.py:877 Finished converting angle to steps, sending command to moveSteps (constantOntime).\n",
      "2025-01-12 01:22:42.799Z cobraCoach       20 cobraCoach.py:587 Sending step numbers to FPGA for moving cobra.\n",
      "2025-01-12 01:22:42.803Z cobraCoach       20 cobraCoach.py:601 cobra control FPGA operation done.\n",
      "2025-01-12 01:22:42.828Z pfi              40 pfi.py:896 Some theta angles are out of range\n",
      "2025-01-12 01:22:42.829Z pfi              40 pfi.py:899 Some phi angles are out of range\n",
      "2025-01-12 01:22:42.928Z cobraCoach       30 cobraCoach.py:675 Cobra#1790 is too far from center\n",
      "2025-01-12 01:22:42.929Z pfi              30 pfi.py:475 clipping scale adjustment from 0.29999999510714737 to 0.3\n",
      "2025-01-12 01:22:42.933Z cobraCoach       30 cobraCoach.py:1003 Last phi angle is unknown, not moving: [1459]\n",
      "2025-01-12 01:22:42.934Z cobraCoach       20 cobraCoach.py:1009 Moving deltaTheta = [-2.17122172e-04 -5.14191722e-04 -6.14804362e-04  1.42413045e-04\n",
      " -1.01748456e-05 -4.10811338e-03 -1.01748456e-05 -1.01748455e-05\n",
      " -1.01748456e-05 -2.97707652e-04 -1.03632841e-03  7.85623389e-01\n",
      " -3.80200480e-04 -1.05065440e-04]\n",
      "2025-01-12 01:22:42.935Z cobraCoach       20 cobraCoach.py:1010 Moving deltaPhi = [-2.96705965 -2.96705963 -2.9670596  -0.04164008 -2.96705959 -2.96705962\n",
      "  0.         -2.96705964 -2.96705969 -0.06341524 -2.96705964 -6.10865247\n",
      " -2.9670596  -0.0498779 ]\n",
      "2025-01-12 01:22:42.939Z cobraCoach       30 cobraCoach.py:846 Last phi angle is unknown: [1459]\n",
      "2025-01-12 01:22:42.942Z cobraCoach       20 cobraCoach.py:877 Finished converting angle to steps, sending command to moveSteps (constantOntime).\n",
      "2025-01-12 01:22:42.950Z cobraCoach       20 cobraCoach.py:587 Sending step numbers to FPGA for moving cobra.\n",
      "2025-01-12 01:22:42.952Z cobraCoach       20 cobraCoach.py:601 cobra control FPGA operation done.\n",
      "2025-01-12 01:22:42.980Z pfi              40 pfi.py:896 Some theta angles are out of range\n",
      "2025-01-12 01:22:42.981Z pfi              40 pfi.py:899 Some phi angles are out of range\n",
      "2025-01-12 01:22:43.232Z pfi              30 pfi.py:475 clipping scale adjustment from 0.2250489700875823 to 0.3\n",
      "2025-01-12 01:22:43.233Z cobraCoach       30 cobraCoach.py:679 Cobra#1460 is too close to center\n",
      "2025-01-12 01:22:43.235Z pfi              30 pfi.py:475 clipping scale adjustment from 0.2561286605203101 to 0.3\n",
      "2025-01-12 01:22:43.242Z pfi              30 pfi.py:475 clipping scale adjustment from 0.26154231110049525 to 0.3\n",
      "2025-01-12 01:22:43.248Z engineer         30 engineer.py:442 14 cobras did not finish: [ 343  442  492  578  737 1302 1459 1493 1538 1587 1636 1789 1791 1969], [4.67 4.67 4.67 0.11 4.67 4.67 0.82 4.67 4.67 0.16 4.67 4.2  4.67 0.11]\n",
      "2025-01-12 01:22:43.290Z pfi              40 pfi.py:896 Some theta angles are out of range\n",
      "2025-01-12 01:22:43.293Z pfi              40 pfi.py:899 Some phi angles are out of range\n",
      "2025-01-12 01:22:43.431Z pfi              40 pfi.py:896 Some theta angles are out of range\n",
      "2025-01-12 01:22:43.434Z pfi              40 pfi.py:899 Some phi angles are out of range\n",
      "2025-01-12 01:22:43.575Z pfi              40 pfi.py:896 Some theta angles are out of range\n",
      "2025-01-12 01:22:43.577Z pfi              40 pfi.py:899 Some phi angles are out of range\n",
      "2025-01-12 01:22:43.633Z pfi              40 pfi.py:896 Some theta angles are out of range\n",
      "2025-01-12 01:22:43.635Z pfi              40 pfi.py:899 Some phi angles are out of range\n",
      "2025-01-12 01:22:43.703Z pfi              40 pfi.py:896 Some theta angles are out of range\n",
      "2025-01-12 01:22:43.705Z pfi              40 pfi.py:899 Some phi angles are out of range\n",
      "2025-01-12 01:22:43.767Z pfi              40 pfi.py:896 Some theta angles are out of range\n",
      "2025-01-12 01:22:43.769Z pfi              40 pfi.py:899 Some phi angles are out of range\n",
      "2025-01-12 01:22:43.821Z pfi              40 pfi.py:896 Some theta angles are out of range\n",
      "2025-01-12 01:22:43.822Z pfi              40 pfi.py:899 Some phi angles are out of range\n",
      "2025-01-12 01:22:43.872Z pfi              40 pfi.py:896 Some theta angles are out of range\n",
      "2025-01-12 01:22:43.873Z pfi              40 pfi.py:899 Some phi angles are out of range\n",
      "2025-01-12 01:22:43.924Z pfi              40 pfi.py:930 Some theta angles are out of range\n",
      "2025-01-12 01:22:43.983Z pfi              40 pfi.py:930 Some theta angles are out of range\n",
      "2025-01-12 01:22:44.035Z pfi              40 pfi.py:930 Some theta angles are out of range\n",
      "2025-01-12 01:22:44.070Z pfi              40 pfi.py:930 Some theta angles are out of range\n",
      "2025-01-12 01:22:44.111Z pfi              40 pfi.py:930 Some theta angles are out of range\n",
      "2025-01-12 01:22:44.149Z pfi              40 pfi.py:930 Some theta angles are out of range\n",
      "2025-01-12 01:22:44.188Z pfi              40 pfi.py:930 Some theta angles are out of range\n",
      "2025-01-12 01:22:44.228Z pfi              40 pfi.py:930 Some theta angles are out of range\n"
     ]
    },
    {
     "name": "stdout",
     "output_type": "stream",
     "text": [
      "ERROR: detected end point collision, which should be impossible\n",
      "trajectory collisions found: 6\n",
      "Set parameter Presolve to value 1\n"
     ]
    },
    {
     "name": "stderr",
     "output_type": "stream",
     "text": [
      "2025-01-12 01:22:48.549Z gurobipy         20 netflow.py:117 Set parameter Presolve to value 1\n"
     ]
    },
    {
     "name": "stdout",
     "output_type": "stream",
     "text": [
      "Set parameter Method to value 4\n"
     ]
    },
    {
     "name": "stderr",
     "output_type": "stream",
     "text": [
      "2025-01-12 01:22:48.551Z gurobipy         20 netflow.py:117 Set parameter Method to value 4\n"
     ]
    },
    {
     "name": "stdout",
     "output_type": "stream",
     "text": [
      "Set parameter DegenMoves to value 0\n"
     ]
    },
    {
     "name": "stderr",
     "output_type": "stream",
     "text": [
      "2025-01-12 01:22:48.553Z gurobipy         20 netflow.py:117 Set parameter DegenMoves to value 0\n"
     ]
    },
    {
     "name": "stdout",
     "output_type": "stream",
     "text": [
      "Set parameter Heuristics to value 0.8\n"
     ]
    },
    {
     "name": "stderr",
     "output_type": "stream",
     "text": [
      "2025-01-12 01:22:48.556Z gurobipy         20 netflow.py:117 Set parameter Heuristics to value 0.8\n"
     ]
    },
    {
     "name": "stdout",
     "output_type": "stream",
     "text": [
      "Set parameter MIPGap to value 0.05\n"
     ]
    },
    {
     "name": "stderr",
     "output_type": "stream",
     "text": [
      "2025-01-12 01:22:48.559Z gurobipy         20 netflow.py:117 Set parameter MIPGap to value 0.05\n"
     ]
    },
    {
     "name": "stdout",
     "output_type": "stream",
     "text": [
      "Creating network topology\n",
      "  exposure 1\n",
      "Calculating visibilities\n",
      "adding constraints\n",
      "adding collision constraints\n",
      "adding forbidden pair constraints\n",
      "Gurobi Optimizer version 10.0.1 build v10.0.1rc0 (mac64[x86])\n"
     ]
    },
    {
     "name": "stderr",
     "output_type": "stream",
     "text": [
      "2025-01-12 01:22:58.533Z gurobipy         20 netflow.py:149 Gurobi Optimizer version 10.0.1 build v10.0.1rc0 (mac64[x86])\n"
     ]
    },
    {
     "name": "stdout",
     "output_type": "stream",
     "text": [
      "\n"
     ]
    },
    {
     "name": "stderr",
     "output_type": "stream",
     "text": [
      "2025-01-12 01:22:58.536Z gurobipy         20 netflow.py:149 \n"
     ]
    },
    {
     "name": "stdout",
     "output_type": "stream",
     "text": [
      "CPU model: Intel(R) Core(TM) i7-8569U CPU @ 2.80GHz\n"
     ]
    },
    {
     "name": "stderr",
     "output_type": "stream",
     "text": [
      "2025-01-12 01:22:58.539Z gurobipy         20 netflow.py:149 CPU model: Intel(R) Core(TM) i7-8569U CPU @ 2.80GHz\n"
     ]
    },
    {
     "name": "stdout",
     "output_type": "stream",
     "text": [
      "Thread count: 4 physical cores, 8 logical processors, using up to 8 threads\n"
     ]
    },
    {
     "name": "stderr",
     "output_type": "stream",
     "text": [
      "2025-01-12 01:22:58.543Z gurobipy         20 netflow.py:149 Thread count: 4 physical cores, 8 logical processors, using up to 8 threads\n"
     ]
    },
    {
     "name": "stdout",
     "output_type": "stream",
     "text": [
      "\n"
     ]
    },
    {
     "name": "stderr",
     "output_type": "stream",
     "text": [
      "2025-01-12 01:22:58.545Z gurobipy         20 netflow.py:149 \n"
     ]
    },
    {
     "name": "stdout",
     "output_type": "stream",
     "text": [
      "Academic license 2379863 - for non-commercial use only - registered to ji___@ipmu.jp\n"
     ]
    },
    {
     "name": "stderr",
     "output_type": "stream",
     "text": [
      "2025-01-12 01:22:58.547Z gurobipy         20 netflow.py:149 Academic license 2379863 - for non-commercial use only - registered to ji___@ipmu.jp\n"
     ]
    },
    {
     "name": "stdout",
     "output_type": "stream",
     "text": [
      "Optimize a model with 139856 rows, 72836 columns and 362086 nonzeros\n"
     ]
    },
    {
     "name": "stderr",
     "output_type": "stream",
     "text": [
      "2025-01-12 01:22:58.550Z gurobipy         20 netflow.py:149 Optimize a model with 139856 rows, 72836 columns and 362086 nonzeros\n"
     ]
    },
    {
     "name": "stdout",
     "output_type": "stream",
     "text": [
      "Model fingerprint: 0x59f14d6b\n"
     ]
    },
    {
     "name": "stderr",
     "output_type": "stream",
     "text": [
      "2025-01-12 01:22:58.555Z gurobipy         20 netflow.py:149 Model fingerprint: 0x59f14d6b\n"
     ]
    },
    {
     "name": "stdout",
     "output_type": "stream",
     "text": [
      "Variable types: 1 continuous, 72835 integer (72833 binary)\n"
     ]
    },
    {
     "name": "stderr",
     "output_type": "stream",
     "text": [
      "2025-01-12 01:22:58.563Z gurobipy         20 netflow.py:149 Variable types: 1 continuous, 72835 integer (72833 binary)\n"
     ]
    },
    {
     "name": "stdout",
     "output_type": "stream",
     "text": [
      "Coefficient statistics:\n"
     ]
    },
    {
     "name": "stderr",
     "output_type": "stream",
     "text": [
      "2025-01-12 01:22:58.575Z gurobipy         20 netflow.py:149 Coefficient statistics:\n"
     ]
    },
    {
     "name": "stdout",
     "output_type": "stream",
     "text": [
      "  Matrix range     [1e+00, 1e+00]\n"
     ]
    },
    {
     "name": "stderr",
     "output_type": "stream",
     "text": [
      "2025-01-12 01:22:58.577Z gurobipy         20 netflow.py:149   Matrix range     [1e+00, 1e+00]\n"
     ]
    },
    {
     "name": "stdout",
     "output_type": "stream",
     "text": [
      "  Objective range  [1e-01, 1e+06]\n"
     ]
    },
    {
     "name": "stderr",
     "output_type": "stream",
     "text": [
      "2025-01-12 01:22:58.578Z gurobipy         20 netflow.py:149   Objective range  [1e-01, 1e+06]\n"
     ]
    },
    {
     "name": "stdout",
     "output_type": "stream",
     "text": [
      "  Bounds range     [1e+00, 1e+00]\n"
     ]
    },
    {
     "name": "stderr",
     "output_type": "stream",
     "text": [
      "2025-01-12 01:22:58.579Z gurobipy         20 netflow.py:149   Bounds range     [1e+00, 1e+00]\n"
     ]
    },
    {
     "name": "stdout",
     "output_type": "stream",
     "text": [
      "  RHS range        [1e+00, 4e+02]\n"
     ]
    },
    {
     "name": "stderr",
     "output_type": "stream",
     "text": [
      "2025-01-12 01:22:58.581Z gurobipy         20 netflow.py:149   RHS range        [1e+00, 4e+02]\n"
     ]
    },
    {
     "name": "stdout",
     "output_type": "stream",
     "text": [
      "Found heuristic solution: objective 6.000000e+08\n"
     ]
    },
    {
     "name": "stderr",
     "output_type": "stream",
     "text": [
      "2025-01-12 01:22:58.668Z gurobipy         20 netflow.py:149 Found heuristic solution: objective 6.000000e+08\n"
     ]
    },
    {
     "name": "stdout",
     "output_type": "stream",
     "text": [
      "Presolve removed 139004 rows and 69795 columns\n"
     ]
    },
    {
     "name": "stderr",
     "output_type": "stream",
     "text": [
      "2025-01-12 01:22:59.473Z gurobipy         20 netflow.py:149 Presolve removed 139004 rows and 69795 columns\n"
     ]
    },
    {
     "name": "stdout",
     "output_type": "stream",
     "text": [
      "Presolve time: 0.77s\n"
     ]
    },
    {
     "name": "stderr",
     "output_type": "stream",
     "text": [
      "2025-01-12 01:22:59.476Z gurobipy         20 netflow.py:149 Presolve time: 0.77s\n"
     ]
    },
    {
     "name": "stdout",
     "output_type": "stream",
     "text": [
      "Presolved: 852 rows, 3041 columns, 4926 nonzeros\n"
     ]
    },
    {
     "name": "stderr",
     "output_type": "stream",
     "text": [
      "2025-01-12 01:22:59.484Z gurobipy         20 netflow.py:149 Presolved: 852 rows, 3041 columns, 4926 nonzeros\n"
     ]
    },
    {
     "name": "stdout",
     "output_type": "stream",
     "text": [
      "Variable types: 0 continuous, 3041 integer (3039 binary)\n"
     ]
    },
    {
     "name": "stderr",
     "output_type": "stream",
     "text": [
      "2025-01-12 01:22:59.491Z gurobipy         20 netflow.py:149 Variable types: 0 continuous, 3041 integer (3039 binary)\n"
     ]
    },
    {
     "name": "stdout",
     "output_type": "stream",
     "text": [
      "Found heuristic solution: objective 5.980000e+08\n"
     ]
    },
    {
     "name": "stderr",
     "output_type": "stream",
     "text": [
      "2025-01-12 01:22:59.496Z gurobipy         20 netflow.py:149 Found heuristic solution: objective 5.980000e+08\n"
     ]
    },
    {
     "name": "stdout",
     "output_type": "stream",
     "text": [
      "Deterministic concurrent LP optimizer: dual simplex and barrier\n"
     ]
    },
    {
     "name": "stderr",
     "output_type": "stream",
     "text": [
      "2025-01-12 01:22:59.512Z gurobipy         20 netflow.py:149 Deterministic concurrent LP optimizer: dual simplex and barrier\n"
     ]
    },
    {
     "name": "stdout",
     "output_type": "stream",
     "text": [
      "Showing barrier log only...\n"
     ]
    },
    {
     "name": "stderr",
     "output_type": "stream",
     "text": [
      "2025-01-12 01:22:59.513Z gurobipy         20 netflow.py:149 Showing barrier log only...\n"
     ]
    },
    {
     "name": "stdout",
     "output_type": "stream",
     "text": [
      "\n"
     ]
    },
    {
     "name": "stderr",
     "output_type": "stream",
     "text": [
      "2025-01-12 01:22:59.516Z gurobipy         20 netflow.py:149 \n"
     ]
    },
    {
     "name": "stdout",
     "output_type": "stream",
     "text": [
      "Root barrier log...\n"
     ]
    },
    {
     "name": "stderr",
     "output_type": "stream",
     "text": [
      "2025-01-12 01:22:59.532Z gurobipy         20 netflow.py:149 Root barrier log...\n"
     ]
    },
    {
     "name": "stdout",
     "output_type": "stream",
     "text": [
      "\n"
     ]
    },
    {
     "name": "stderr",
     "output_type": "stream",
     "text": [
      "2025-01-12 01:22:59.535Z gurobipy         20 netflow.py:149 \n"
     ]
    },
    {
     "name": "stdout",
     "output_type": "stream",
     "text": [
      "Ordering time: 0.00s\n"
     ]
    },
    {
     "name": "stderr",
     "output_type": "stream",
     "text": [
      "2025-01-12 01:22:59.549Z gurobipy         20 netflow.py:149 Ordering time: 0.00s\n"
     ]
    },
    {
     "name": "stdout",
     "output_type": "stream",
     "text": [
      "\n"
     ]
    },
    {
     "name": "stderr",
     "output_type": "stream",
     "text": [
      "2025-01-12 01:22:59.553Z gurobipy         20 netflow.py:149 \n"
     ]
    },
    {
     "name": "stdout",
     "output_type": "stream",
     "text": [
      "Barrier statistics:\n"
     ]
    },
    {
     "name": "stderr",
     "output_type": "stream",
     "text": [
      "2025-01-12 01:22:59.558Z gurobipy         20 netflow.py:149 Barrier statistics:\n"
     ]
    },
    {
     "name": "stdout",
     "output_type": "stream",
     "text": [
      " AA' NZ     : 1.792e+03\n"
     ]
    },
    {
     "name": "stderr",
     "output_type": "stream",
     "text": [
      "2025-01-12 01:22:59.563Z gurobipy         20 netflow.py:149  AA' NZ     : 1.792e+03\n"
     ]
    },
    {
     "name": "stdout",
     "output_type": "stream",
     "text": [
      " Factor NZ  : 3.946e+03 (roughly 2 MB of memory)\n"
     ]
    },
    {
     "name": "stderr",
     "output_type": "stream",
     "text": [
      "2025-01-12 01:22:59.579Z gurobipy         20 netflow.py:149  Factor NZ  : 3.946e+03 (roughly 2 MB of memory)\n"
     ]
    },
    {
     "name": "stdout",
     "output_type": "stream",
     "text": [
      " Factor Ops : 2.889e+04 (less than 1 second per iteration)\n"
     ]
    },
    {
     "name": "stderr",
     "output_type": "stream",
     "text": [
      "2025-01-12 01:22:59.650Z gurobipy         20 netflow.py:149  Factor Ops : 2.889e+04 (less than 1 second per iteration)\n"
     ]
    },
    {
     "name": "stdout",
     "output_type": "stream",
     "text": [
      " Threads    : 1\n"
     ]
    },
    {
     "name": "stderr",
     "output_type": "stream",
     "text": [
      "2025-01-12 01:22:59.654Z gurobipy         20 netflow.py:149  Threads    : 1\n"
     ]
    },
    {
     "name": "stdout",
     "output_type": "stream",
     "text": [
      "\n"
     ]
    },
    {
     "name": "stderr",
     "output_type": "stream",
     "text": [
      "2025-01-12 01:22:59.664Z gurobipy         20 netflow.py:149 \n"
     ]
    },
    {
     "name": "stdout",
     "output_type": "stream",
     "text": [
      "                  Objective                Residual\n"
     ]
    },
    {
     "name": "stderr",
     "output_type": "stream",
     "text": [
      "2025-01-12 01:22:59.672Z gurobipy         20 netflow.py:149                   Objective                Residual\n"
     ]
    },
    {
     "name": "stdout",
     "output_type": "stream",
     "text": [
      "Iter       Primal          Dual         Primal    Dual     Compl     Time\n"
     ]
    },
    {
     "name": "stderr",
     "output_type": "stream",
     "text": [
      "2025-01-12 01:22:59.676Z gurobipy         20 netflow.py:149 Iter       Primal          Dual         Primal    Dual     Compl     Time\n"
     ]
    },
    {
     "name": "stdout",
     "output_type": "stream",
     "text": [
      "   0   3.76910506e+08 -2.44562128e+09  3.98e+01 3.71e+04  3.39e+07     1s\n"
     ]
    },
    {
     "name": "stderr",
     "output_type": "stream",
     "text": [
      "2025-01-12 01:22:59.680Z gurobipy         20 netflow.py:149    0   3.76910506e+08 -2.44562128e+09  3.98e+01 3.71e+04  3.39e+07     1s\n"
     ]
    },
    {
     "name": "stdout",
     "output_type": "stream",
     "text": [
      "\n"
     ]
    },
    {
     "name": "stderr",
     "output_type": "stream",
     "text": [
      "2025-01-12 01:22:59.683Z gurobipy         20 netflow.py:149 \n"
     ]
    },
    {
     "name": "stdout",
     "output_type": "stream",
     "text": [
      "Barrier performed 0 iterations in 1.14 seconds (0.35 work units)\n"
     ]
    },
    {
     "name": "stderr",
     "output_type": "stream",
     "text": [
      "2025-01-12 01:22:59.686Z gurobipy         20 netflow.py:149 Barrier performed 0 iterations in 1.14 seconds (0.35 work units)\n"
     ]
    },
    {
     "name": "stdout",
     "output_type": "stream",
     "text": [
      "Barrier solve interrupted - model solved by another algorithm\n"
     ]
    },
    {
     "name": "stderr",
     "output_type": "stream",
     "text": [
      "2025-01-12 01:22:59.689Z gurobipy         20 netflow.py:149 Barrier solve interrupted - model solved by another algorithm\n"
     ]
    },
    {
     "name": "stdout",
     "output_type": "stream",
     "text": [
      "\n"
     ]
    },
    {
     "name": "stderr",
     "output_type": "stream",
     "text": [
      "2025-01-12 01:22:59.691Z gurobipy         20 netflow.py:149 \n"
     ]
    },
    {
     "name": "stdout",
     "output_type": "stream",
     "text": [
      "Concurrent spin time: 0.16s (can be avoided by choosing Method=3)\n"
     ]
    },
    {
     "name": "stderr",
     "output_type": "stream",
     "text": [
      "2025-01-12 01:22:59.694Z gurobipy         20 netflow.py:149 Concurrent spin time: 0.16s (can be avoided by choosing Method=3)\n"
     ]
    },
    {
     "name": "stdout",
     "output_type": "stream",
     "text": [
      "\n"
     ]
    },
    {
     "name": "stderr",
     "output_type": "stream",
     "text": [
      "2025-01-12 01:22:59.697Z gurobipy         20 netflow.py:149 \n"
     ]
    },
    {
     "name": "stdout",
     "output_type": "stream",
     "text": [
      "Solved with dual simplex\n"
     ]
    },
    {
     "name": "stderr",
     "output_type": "stream",
     "text": [
      "2025-01-12 01:22:59.699Z gurobipy         20 netflow.py:149 Solved with dual simplex\n"
     ]
    },
    {
     "name": "stdout",
     "output_type": "stream",
     "text": [
      "\n"
     ]
    },
    {
     "name": "stderr",
     "output_type": "stream",
     "text": [
      "2025-01-12 01:22:59.704Z gurobipy         20 netflow.py:149 \n"
     ]
    },
    {
     "name": "stdout",
     "output_type": "stream",
     "text": [
      "Root relaxation: objective 1.044055e+02, 93 iterations, 0.21 seconds (0.00 work units)\n"
     ]
    },
    {
     "name": "stderr",
     "output_type": "stream",
     "text": [
      "2025-01-12 01:22:59.706Z gurobipy         20 netflow.py:149 Root relaxation: objective 1.044055e+02, 93 iterations, 0.21 seconds (0.00 work units)\n"
     ]
    },
    {
     "name": "stdout",
     "output_type": "stream",
     "text": [
      "\n"
     ]
    },
    {
     "name": "stderr",
     "output_type": "stream",
     "text": [
      "2025-01-12 01:22:59.777Z gurobipy         20 netflow.py:149 \n"
     ]
    },
    {
     "name": "stdout",
     "output_type": "stream",
     "text": [
      "    Nodes    |    Current Node    |     Objective Bounds      |     Work\n"
     ]
    },
    {
     "name": "stderr",
     "output_type": "stream",
     "text": [
      "2025-01-12 01:22:59.779Z gurobipy         20 netflow.py:149     Nodes    |    Current Node    |     Objective Bounds      |     Work\n"
     ]
    },
    {
     "name": "stdout",
     "output_type": "stream",
     "text": [
      " Expl Unexpl |  Obj  Depth IntInf | Incumbent    BestBd   Gap | It/Node Time\n"
     ]
    },
    {
     "name": "stderr",
     "output_type": "stream",
     "text": [
      "2025-01-12 01:22:59.781Z gurobipy         20 netflow.py:149  Expl Unexpl |  Obj  Depth IntInf | Incumbent    BestBd   Gap | It/Node Time\n"
     ]
    },
    {
     "name": "stdout",
     "output_type": "stream",
     "text": [
      "\n"
     ]
    },
    {
     "name": "stderr",
     "output_type": "stream",
     "text": [
      "2025-01-12 01:22:59.784Z gurobipy         20 netflow.py:149 \n"
     ]
    },
    {
     "name": "stdout",
     "output_type": "stream",
     "text": [
      "*    0     0               0     104.4054902  104.40549  0.00%     -    1s\n"
     ]
    },
    {
     "name": "stderr",
     "output_type": "stream",
     "text": [
      "2025-01-12 01:22:59.786Z gurobipy         20 netflow.py:149 *    0     0               0     104.4054902  104.40549  0.00%     -    1s\n"
     ]
    },
    {
     "name": "stdout",
     "output_type": "stream",
     "text": [
      "\n"
     ]
    },
    {
     "name": "stderr",
     "output_type": "stream",
     "text": [
      "2025-01-12 01:22:59.801Z gurobipy         20 netflow.py:149 \n"
     ]
    },
    {
     "name": "stdout",
     "output_type": "stream",
     "text": [
      "Explored 1 nodes (93 simplex iterations) in 1.25 seconds (0.35 work units)\n"
     ]
    },
    {
     "name": "stderr",
     "output_type": "stream",
     "text": [
      "2025-01-12 01:22:59.803Z gurobipy         20 netflow.py:149 Explored 1 nodes (93 simplex iterations) in 1.25 seconds (0.35 work units)\n"
     ]
    },
    {
     "name": "stdout",
     "output_type": "stream",
     "text": [
      "Thread count was 8 (of 8 available processors)\n"
     ]
    },
    {
     "name": "stderr",
     "output_type": "stream",
     "text": [
      "2025-01-12 01:22:59.806Z gurobipy         20 netflow.py:149 Thread count was 8 (of 8 available processors)\n"
     ]
    },
    {
     "name": "stdout",
     "output_type": "stream",
     "text": [
      "\n"
     ]
    },
    {
     "name": "stderr",
     "output_type": "stream",
     "text": [
      "2025-01-12 01:22:59.808Z gurobipy         20 netflow.py:149 \n"
     ]
    },
    {
     "name": "stdout",
     "output_type": "stream",
     "text": [
      "Solution count 3: 104.405 5.98e+08 6e+08 \n"
     ]
    },
    {
     "name": "stderr",
     "output_type": "stream",
     "text": [
      "2025-01-12 01:22:59.809Z gurobipy         20 netflow.py:149 Solution count 3: 104.405 5.98e+08 6e+08 \n"
     ]
    },
    {
     "name": "stdout",
     "output_type": "stream",
     "text": [
      "\n"
     ]
    },
    {
     "name": "stderr",
     "output_type": "stream",
     "text": [
      "2025-01-12 01:22:59.811Z gurobipy         20 netflow.py:149 \n"
     ]
    },
    {
     "name": "stdout",
     "output_type": "stream",
     "text": [
      "Optimal solution found (tolerance 5.00e-02)\n"
     ]
    },
    {
     "name": "stderr",
     "output_type": "stream",
     "text": [
      "2025-01-12 01:22:59.813Z gurobipy         20 netflow.py:149 Optimal solution found (tolerance 5.00e-02)\n"
     ]
    },
    {
     "name": "stdout",
     "output_type": "stream",
     "text": [
      "Best objective 1.044054901506e+02, best bound 1.044054901506e+02, gap 0.0000%\n"
     ]
    },
    {
     "name": "stderr",
     "output_type": "stream",
     "text": [
      "2025-01-12 01:22:59.818Z gurobipy         20 netflow.py:149 Best objective 1.044054901506e+02, best bound 1.044054901506e+02, gap 0.0000%\n"
     ]
    },
    {
     "name": "stdout",
     "output_type": "stream",
     "text": [
      "Checking for trajectory collisions\n"
     ]
    },
    {
     "name": "stderr",
     "output_type": "stream",
     "text": [
      "2025-01-12 01:23:00.718Z pfi              40 pfi.py:896 Some theta angles are out of range\n",
      "2025-01-12 01:23:00.719Z pfi              40 pfi.py:899 Some phi angles are out of range\n",
      "2025-01-12 01:23:00.847Z pfi              40 pfi.py:899 Some phi angles are out of range\n",
      "2025-01-12 01:23:00.884Z pfi              40 pfi.py:899 Some phi angles are out of range\n",
      "2025-01-12 01:23:00.888Z engineer         20 engineer.py:395 Move theta arms to angle=[360.  360.  270.9 ... 360.  360.  360. ] degree\n",
      "2025-01-12 01:23:00.889Z engineer         20 engineer.py:396 Move phi arms to angle=[11.09 24.48 35.88 ...  8.43 11.99  9.16] degree\n",
      "2025-01-12 01:23:00.890Z engineer         20 engineer.py:398 Checking passed homed argument = True\n",
      "2025-01-12 01:23:00.892Z engineer         20 engineer.py:402 Move theta arms CW and phi arms CCW to the hard stops\n",
      "2025-01-12 01:23:00.924Z cobraCoach       20 cobraCoach.py:1065 home cobras: theta=10000, phi=-5000\n",
      "2025-01-12 01:23:00.957Z pfi              40 pfi.py:899 Some phi angles are out of range\n",
      "2025-01-12 01:23:01.016Z pfi              40 pfi.py:899 Some phi angles are out of range\n",
      "2025-01-12 01:23:01.061Z cobraCoach       20 cobraCoach.py:1009 Moving deltaTheta = [-0.29458444 -0.38204686 -1.91112292 ... -0.40597169 -0.4013664\n",
      " -0.41592376]\n",
      "2025-01-12 01:23:01.062Z cobraCoach       20 cobraCoach.py:1010 Moving deltaPhi = [0.19361448 0.42723261 0.6262403  ... 0.14708474 0.20932294 0.15978886]\n",
      "2025-01-12 01:23:01.409Z cobraCoach       20 cobraCoach.py:877 Finished converting angle to steps, sending command to moveSteps (constantOntime).\n",
      "2025-01-12 01:23:02.192Z cobraCoach       20 cobraCoach.py:587 Sending step numbers to FPGA for moving cobra.\n",
      "2025-01-12 01:23:02.333Z cobraCoach       20 cobraCoach.py:601 cobra control FPGA operation done.\n",
      "2025-01-12 01:23:02.365Z pfi              40 pfi.py:896 Some theta angles are out of range\n",
      "2025-01-12 01:23:02.366Z pfi              40 pfi.py:899 Some phi angles are out of range\n",
      "2025-01-12 01:23:02.659Z cobraCoach       30 cobraCoach.py:675 Cobra#344 is too far from center\n",
      "2025-01-12 01:23:02.670Z cobraCoach       30 cobraCoach.py:675 Cobra#443 is too far from center\n",
      "2025-01-12 01:23:02.676Z cobraCoach       30 cobraCoach.py:675 Cobra#493 is too far from center\n",
      "2025-01-12 01:23:02.715Z cobraCoach       30 cobraCoach.py:675 Cobra#1303 is too far from center\n",
      "2025-01-12 01:23:02.735Z cobraCoach       30 cobraCoach.py:675 Cobra#1637 is too far from center\n",
      "2025-01-12 01:23:02.743Z cobraCoach       30 cobraCoach.py:675 Cobra#1790 is too far from center\n",
      "2025-01-12 01:23:02.747Z cobraCoach       30 cobraCoach.py:675 Cobra#1792 is too far from center\n",
      "2025-01-12 01:23:02.783Z engineer         20 engineer.py:433 done: [   0    1    2 ... 2391 2392 2393], 14 left\n",
      "2025-01-12 01:23:02.787Z cobraCoach       30 cobraCoach.py:1003 Last phi angle is unknown, not moving: [1459]\n",
      "2025-01-12 01:23:02.791Z cobraCoach       20 cobraCoach.py:1009 Moving deltaTheta = [-1.01748456e-05 -1.01748456e-05 -1.01748456e-05  1.42413045e-04\n",
      " -1.01748456e-05 -1.01748456e-05 -1.01748456e-05 -1.01748455e-05\n",
      " -1.01748456e-05  6.92683126e-04 -1.01748455e-05 -1.01748456e-05\n",
      " -1.01748456e-05  1.10228624e-03]\n",
      "2025-01-12 01:23:02.793Z cobraCoach       20 cobraCoach.py:1010 Moving deltaPhi = [-6.10865247 -6.10865247 -6.10865247 -0.04164008 -2.96705959 -6.10865247\n",
      "  0.         -2.96705964 -2.96705969 -0.06341524 -6.10865247 -6.10865247\n",
      " -6.10865247 -0.0498779 ]\n",
      "2025-01-12 01:23:02.797Z cobraCoach       30 cobraCoach.py:846 Last phi angle is unknown: [1459]\n",
      "2025-01-12 01:23:02.801Z cobraCoach       20 cobraCoach.py:877 Finished converting angle to steps, sending command to moveSteps (constantOntime).\n",
      "2025-01-12 01:23:02.812Z cobraCoach       20 cobraCoach.py:587 Sending step numbers to FPGA for moving cobra.\n",
      "2025-01-12 01:23:02.816Z cobraCoach       20 cobraCoach.py:601 cobra control FPGA operation done.\n",
      "2025-01-12 01:23:02.852Z pfi              40 pfi.py:896 Some theta angles are out of range\n",
      "2025-01-12 01:23:02.853Z pfi              40 pfi.py:899 Some phi angles are out of range\n",
      "2025-01-12 01:23:02.992Z cobraCoach       30 cobraCoach.py:675 Cobra#344 is too far from center\n",
      "2025-01-12 01:23:02.994Z cobraCoach       30 cobraCoach.py:679 Cobra#1460 is too close to center\n",
      "2025-01-12 01:23:02.996Z cobraCoach       30 cobraCoach.py:675 Cobra#1637 is too far from center\n",
      "2025-01-12 01:23:02.997Z cobraCoach       30 cobraCoach.py:675 Cobra#1790 is too far from center\n",
      "2025-01-12 01:23:03.004Z engineer         30 engineer.py:442 14 cobras did not finish: [ 343  442  492  578  737 1302 1459 1493 1538 1587 1636 1789 1791 1969], [4.67 4.67 4.67 0.11 4.67 4.67 0.82 4.67 4.67 0.16 4.67 4.67 4.67 0.11]\n",
      "2025-01-12 01:23:03.061Z pfi              40 pfi.py:899 Some phi angles are out of range\n",
      "2025-01-12 01:23:03.064Z engineer         20 engineer.py:395 Move theta arms to angle=[360.  360.  270.9 ... 360.  360.  360. ] degree\n",
      "2025-01-12 01:23:03.065Z engineer         20 engineer.py:396 Move phi arms to angle=[11.09 24.48 35.88 ...  8.43 11.99  9.16] degree\n",
      "2025-01-12 01:23:03.066Z engineer         20 engineer.py:398 Checking passed homed argument = False\n",
      "2025-01-12 01:23:03.116Z cobraCoach       20 cobraCoach.py:1009 Moving deltaTheta = [-0.00026719 -0.0001518   0.00013482 ... -0.00025479  0.00038417\n",
      " -0.000724  ]\n",
      "2025-01-12 01:23:03.117Z cobraCoach       20 cobraCoach.py:1010 Moving deltaPhi = [ 8.60699099e-05 -8.34333106e-04 -3.81240990e-04 ...  6.56574960e-04\n",
      " -8.39715058e-04 -4.29651246e-04]\n",
      "2025-01-12 01:23:03.478Z cobraCoach       20 cobraCoach.py:877 Finished converting angle to steps, sending command to moveSteps (constantOntime).\n",
      "2025-01-12 01:23:03.742Z cobraCoach       20 cobraCoach.py:587 Sending step numbers to FPGA for moving cobra.\n",
      "2025-01-12 01:23:03.865Z cobraCoach       20 cobraCoach.py:601 cobra control FPGA operation done.\n",
      "2025-01-12 01:23:03.897Z pfi              40 pfi.py:896 Some theta angles are out of range\n",
      "2025-01-12 01:23:03.898Z pfi              40 pfi.py:899 Some phi angles are out of range\n",
      "2025-01-12 01:23:04.083Z cobraCoach       30 cobraCoach.py:675 Cobra#1303 is too far from center\n",
      "2025-01-12 01:23:04.100Z cobraCoach       30 cobraCoach.py:675 Cobra#1790 is too far from center\n",
      "2025-01-12 01:23:04.128Z engineer         20 engineer.py:433 done: [   0    1    2 ... 2391 2392 2393], 14 left\n",
      "2025-01-12 01:23:04.129Z cobraCoach       30 cobraCoach.py:1003 Last phi angle is unknown, not moving: [1459]\n",
      "2025-01-12 01:23:04.131Z cobraCoach       20 cobraCoach.py:1009 Moving deltaTheta = [-1.94233989e-04 -5.14191722e-04 -6.14804362e-04  1.42413045e-04\n",
      " -1.01748456e-05  2.69975771e-06 -1.01748456e-05 -1.01748455e-05\n",
      " -1.01748456e-05 -2.97707652e-04 -1.03632841e-03 -1.01748456e-05\n",
      " -3.80200480e-04 -1.05065440e-04]\n",
      "2025-01-12 01:23:04.133Z cobraCoach       20 cobraCoach.py:1010 Moving deltaPhi = [-2.96687409 -2.96705963 -2.9670596  -0.04164008 -2.96705959 -6.10865247\n",
      "  0.         -2.96705964 -2.96705969 -0.06341524 -2.96602327 -6.10865247\n",
      " -2.9670596  -0.0498779 ]\n",
      "2025-01-12 01:23:04.137Z cobraCoach       30 cobraCoach.py:846 Last phi angle is unknown: [1459]\n",
      "2025-01-12 01:23:04.142Z cobraCoach       20 cobraCoach.py:877 Finished converting angle to steps, sending command to moveSteps (constantOntime).\n",
      "2025-01-12 01:23:04.149Z cobraCoach       20 cobraCoach.py:587 Sending step numbers to FPGA for moving cobra.\n",
      "2025-01-12 01:23:04.152Z cobraCoach       20 cobraCoach.py:601 cobra control FPGA operation done.\n",
      "2025-01-12 01:23:04.182Z pfi              40 pfi.py:896 Some theta angles are out of range\n",
      "2025-01-12 01:23:04.183Z pfi              40 pfi.py:899 Some phi angles are out of range\n",
      "2025-01-12 01:23:04.530Z cobraCoach       30 cobraCoach.py:675 Cobra#344 is too far from center\n",
      "2025-01-12 01:23:04.532Z pfi              30 pfi.py:475 clipping scale adjustment from 0.2573481031895782 to 0.3\n",
      "2025-01-12 01:23:04.533Z cobraCoach       30 cobraCoach.py:679 Cobra#1460 is too close to center\n",
      "2025-01-12 01:23:04.535Z pfi              30 pfi.py:475 clipping scale adjustment from 0.26154231110049525 to 0.3\n",
      "2025-01-12 01:23:04.545Z cobraCoach       20 cobraCoach.py:1009 Moving deltaTheta = [-1.94233989e-04 -5.14191722e-04 -6.14804362e-04  1.42413045e-04\n",
      " -1.01748456e-05 -1.09852569e+00 -1.01748456e-05 -1.01748455e-05\n",
      " -1.01748456e-05 -2.97707652e-04 -1.03632841e-03 -1.07143418e+00\n",
      " -3.80200480e-04 -1.05065440e-04]\n",
      "2025-01-12 01:23:04.547Z cobraCoach       20 cobraCoach.py:1010 Moving deltaPhi = [-6.10865247 -2.96705963 -2.9670596  -0.04164008 -2.96705959 -1.71883189\n",
      " -2.96705973 -2.96705964 -2.96705969 -0.06341524 -2.96705964 -1.88389766\n",
      " -2.9670596  -0.0498779 ]\n",
      "2025-01-12 01:23:04.552Z cobraCoach       20 cobraCoach.py:877 Finished converting angle to steps, sending command to moveSteps (constantOntime).\n",
      "2025-01-12 01:23:04.562Z cobraCoach       20 cobraCoach.py:587 Sending step numbers to FPGA for moving cobra.\n",
      "2025-01-12 01:23:04.567Z cobraCoach       20 cobraCoach.py:601 cobra control FPGA operation done.\n",
      "2025-01-12 01:23:04.658Z pfi              40 pfi.py:896 Some theta angles are out of range\n",
      "2025-01-12 01:23:04.661Z pfi              40 pfi.py:899 Some phi angles are out of range\n",
      "2025-01-12 01:23:04.825Z pfi              30 pfi.py:475 clipping scale adjustment from 0.2859424141191533 to 0.3\n",
      "2025-01-12 01:23:04.826Z cobraCoach       30 cobraCoach.py:675 Cobra#1303 is too far from center\n",
      "2025-01-12 01:23:04.827Z pfi              30 pfi.py:475 clipping scale adjustment from 0.29999999904403885 to 0.3\n",
      "2025-01-12 01:23:04.828Z cobraCoach       30 cobraCoach.py:675 Cobra#1790 is too far from center\n",
      "2025-01-12 01:23:04.833Z cobraCoach       30 cobraCoach.py:1003 Last phi angle is unknown, not moving: [1459]\n",
      "2025-01-12 01:23:04.834Z cobraCoach       20 cobraCoach.py:1009 Moving deltaTheta = [-3.21863813e-01 -5.14191722e-04 -6.14804362e-04  1.42413045e-04\n",
      " -1.01748456e-05 -6.82685060e-01 -1.01748456e-05 -1.01748455e-05\n",
      " -1.01748456e-05 -2.97707652e-04 -1.03632841e-03 -3.25590772e-01\n",
      " -3.80200480e-04 -1.05065440e-04]\n",
      "2025-01-12 01:23:04.839Z cobraCoach       20 cobraCoach.py:1010 Moving deltaPhi = [-2.64219266 -2.96705963 -2.9670596  -0.04164008 -2.96705959 -6.10865247\n",
      "  0.         -2.96705964 -2.96705969 -0.06341524 -2.96705964 -6.10865247\n",
      " -2.9670596  -0.0498779 ]\n",
      "2025-01-12 01:23:04.844Z cobraCoach       30 cobraCoach.py:846 Last phi angle is unknown: [1459]\n",
      "2025-01-12 01:23:04.850Z cobraCoach       20 cobraCoach.py:877 Finished converting angle to steps, sending command to moveSteps (constantOntime).\n",
      "2025-01-12 01:23:04.864Z cobraCoach       20 cobraCoach.py:587 Sending step numbers to FPGA for moving cobra.\n",
      "2025-01-12 01:23:04.867Z cobraCoach       20 cobraCoach.py:601 cobra control FPGA operation done.\n",
      "2025-01-12 01:23:04.898Z pfi              40 pfi.py:896 Some theta angles are out of range\n",
      "2025-01-12 01:23:04.899Z pfi              40 pfi.py:899 Some phi angles are out of range\n",
      "2025-01-12 01:23:05.013Z pfi              30 pfi.py:475 clipping scale adjustment from 0.22521650184055392 to 0.3\n",
      "2025-01-12 01:23:05.013Z pfi              30 pfi.py:475 clipping scale adjustment from 0.2573481031895782 to 0.3\n",
      "2025-01-12 01:23:05.016Z cobraCoach       30 cobraCoach.py:679 Cobra#1460 is too close to center\n",
      "2025-01-12 01:23:05.020Z pfi              30 pfi.py:475 clipping scale adjustment from 0.22664453700152026 to 0.3\n",
      "2025-01-12 01:23:05.025Z pfi              30 pfi.py:475 clipping scale adjustment from 0.26154231110049525 to 0.3\n",
      "2025-01-12 01:23:05.036Z cobraCoach       20 cobraCoach.py:1009 Moving deltaTheta = [-2.17122172e-04 -5.14191722e-04 -6.14804362e-04  1.42413045e-04\n",
      " -1.01748456e-05  4.51698156e+00 -1.01748456e-05 -1.01748455e-05\n",
      " -1.01748456e-05 -2.97707652e-04 -1.03632841e-03  5.00301130e+00\n",
      " -3.80200480e-04 -1.05065440e-04]\n",
      "2025-01-12 01:23:05.041Z cobraCoach       20 cobraCoach.py:1010 Moving deltaPhi = [-2.96705965 -2.96705963 -2.9670596  -0.04164008 -2.96705959 -1.71883189\n",
      " -2.96705973 -2.96705964 -2.96705969 -0.06341524 -2.96705964 -1.88389766\n",
      " -2.9670596  -0.0498779 ]\n",
      "2025-01-12 01:23:05.045Z cobraCoach       20 cobraCoach.py:877 Finished converting angle to steps, sending command to moveSteps (constantOntime).\n",
      "2025-01-12 01:23:05.055Z cobraCoach       20 cobraCoach.py:587 Sending step numbers to FPGA for moving cobra.\n",
      "2025-01-12 01:23:05.060Z cobraCoach       20 cobraCoach.py:601 cobra control FPGA operation done.\n",
      "2025-01-12 01:23:05.100Z pfi              40 pfi.py:896 Some theta angles are out of range\n",
      "2025-01-12 01:23:05.101Z pfi              40 pfi.py:899 Some phi angles are out of range\n",
      "2025-01-12 01:23:05.212Z cobraCoach       30 cobraCoach.py:675 Cobra#1790 is too far from center\n",
      "2025-01-12 01:23:05.213Z pfi              30 pfi.py:475 clipping scale adjustment from 0.29999999510714737 to 0.3\n",
      "2025-01-12 01:23:05.218Z cobraCoach       30 cobraCoach.py:1003 Last phi angle is unknown, not moving: [1459]\n",
      "2025-01-12 01:23:05.219Z cobraCoach       20 cobraCoach.py:1009 Moving deltaTheta = [-2.17122172e-04 -5.14191722e-04 -6.14804362e-04  1.42413045e-04\n",
      " -1.01748456e-05 -4.10811338e-03 -1.01748456e-05 -1.01748455e-05\n",
      " -1.01748456e-05 -2.97707652e-04 -1.03632841e-03  7.85623389e-01\n",
      " -3.80200480e-04 -1.05065440e-04]\n",
      "2025-01-12 01:23:05.220Z cobraCoach       20 cobraCoach.py:1010 Moving deltaPhi = [-2.96705965 -2.96705963 -2.9670596  -0.04164008 -2.96705959 -2.96705962\n",
      "  0.         -2.96705964 -2.96705969 -0.06341524 -2.96705964 -6.10865247\n",
      " -2.9670596  -0.0498779 ]\n",
      "2025-01-12 01:23:05.223Z cobraCoach       30 cobraCoach.py:846 Last phi angle is unknown: [1459]\n",
      "2025-01-12 01:23:05.227Z cobraCoach       20 cobraCoach.py:877 Finished converting angle to steps, sending command to moveSteps (constantOntime).\n",
      "2025-01-12 01:23:05.235Z cobraCoach       20 cobraCoach.py:587 Sending step numbers to FPGA for moving cobra.\n",
      "2025-01-12 01:23:05.240Z cobraCoach       20 cobraCoach.py:601 cobra control FPGA operation done.\n",
      "2025-01-12 01:23:05.269Z pfi              40 pfi.py:896 Some theta angles are out of range\n",
      "2025-01-12 01:23:05.270Z pfi              40 pfi.py:899 Some phi angles are out of range\n",
      "2025-01-12 01:23:05.371Z pfi              30 pfi.py:475 clipping scale adjustment from 0.2250489700875823 to 0.3\n",
      "2025-01-12 01:23:05.372Z cobraCoach       30 cobraCoach.py:679 Cobra#1460 is too close to center\n",
      "2025-01-12 01:23:05.373Z pfi              30 pfi.py:475 clipping scale adjustment from 0.2561286605203101 to 0.3\n",
      "2025-01-12 01:23:05.375Z pfi              30 pfi.py:475 clipping scale adjustment from 0.26154231110049525 to 0.3\n",
      "2025-01-12 01:23:05.379Z engineer         30 engineer.py:442 14 cobras did not finish: [ 343  442  492  578  737 1302 1459 1493 1538 1587 1636 1789 1791 1969], [4.67 4.67 4.67 0.11 4.67 4.67 0.82 4.67 4.67 0.16 4.67 4.2  4.67 0.11]\n",
      "2025-01-12 01:23:05.404Z pfi              40 pfi.py:896 Some theta angles are out of range\n",
      "2025-01-12 01:23:05.407Z pfi              40 pfi.py:899 Some phi angles are out of range\n",
      "2025-01-12 01:23:05.496Z pfi              40 pfi.py:896 Some theta angles are out of range\n",
      "2025-01-12 01:23:05.498Z pfi              40 pfi.py:899 Some phi angles are out of range\n",
      "2025-01-12 01:23:05.568Z pfi              40 pfi.py:896 Some theta angles are out of range\n",
      "2025-01-12 01:23:05.570Z pfi              40 pfi.py:899 Some phi angles are out of range\n",
      "2025-01-12 01:23:05.619Z pfi              40 pfi.py:896 Some theta angles are out of range\n",
      "2025-01-12 01:23:05.621Z pfi              40 pfi.py:899 Some phi angles are out of range\n",
      "2025-01-12 01:23:05.679Z pfi              40 pfi.py:896 Some theta angles are out of range\n",
      "2025-01-12 01:23:05.681Z pfi              40 pfi.py:899 Some phi angles are out of range\n",
      "2025-01-12 01:23:05.736Z pfi              40 pfi.py:896 Some theta angles are out of range\n",
      "2025-01-12 01:23:05.739Z pfi              40 pfi.py:899 Some phi angles are out of range\n",
      "2025-01-12 01:23:05.794Z pfi              40 pfi.py:896 Some theta angles are out of range\n",
      "2025-01-12 01:23:05.797Z pfi              40 pfi.py:899 Some phi angles are out of range\n",
      "2025-01-12 01:23:05.851Z pfi              40 pfi.py:896 Some theta angles are out of range\n",
      "2025-01-12 01:23:05.852Z pfi              40 pfi.py:899 Some phi angles are out of range\n",
      "2025-01-12 01:23:05.901Z pfi              40 pfi.py:930 Some theta angles are out of range\n",
      "2025-01-12 01:23:05.963Z pfi              40 pfi.py:930 Some theta angles are out of range\n",
      "2025-01-12 01:23:06.019Z pfi              40 pfi.py:930 Some theta angles are out of range\n",
      "2025-01-12 01:23:06.060Z pfi              40 pfi.py:930 Some theta angles are out of range\n",
      "2025-01-12 01:23:06.107Z pfi              40 pfi.py:930 Some theta angles are out of range\n",
      "2025-01-12 01:23:06.156Z pfi              40 pfi.py:930 Some theta angles are out of range\n",
      "2025-01-12 01:23:06.201Z pfi              40 pfi.py:930 Some theta angles are out of range\n",
      "2025-01-12 01:23:06.256Z pfi              40 pfi.py:930 Some theta angles are out of range\n"
     ]
    },
    {
     "ename": "KeyboardInterrupt",
     "evalue": "",
     "output_type": "error",
     "traceback": [
      "\u001b[0;31m---------------------------------------------------------------------------\u001b[0m",
      "\u001b[0;31mKeyboardInterrupt\u001b[0m                         Traceback (most recent call last)",
      "Cell \u001b[0;32mIn[43], line 109\u001b[0m\n\u001b[1;32m    103\u001b[0m tgt_peak \u001b[38;5;241m=\u001b[39m np\u001b[38;5;241m.\u001b[39marray(tgt)[mask_tgt]\u001b[38;5;241m.\u001b[39mtolist()\n\u001b[1;32m    105\u001b[0m \u001b[38;5;66;03m# (Done) TODO: update the alreadyObserved dictionary\u001b[39;00m\n\u001b[1;32m    106\u001b[0m \u001b[38;5;66;03m# TODO: rewrite the write_output and cal_completeness part\u001b[39;00m\n\u001b[1;32m    107\u001b[0m \n\u001b[1;32m    108\u001b[0m \u001b[38;5;66;03m# excute the fiber assignment\u001b[39;00m\n\u001b[0;32m--> 109\u001b[0m res, tpos, telescopes \u001b[38;5;241m=\u001b[39m \u001b[43mexecute\u001b[49m\u001b[43m(\u001b[49m\u001b[43mnp\u001b[49m\u001b[38;5;241;43m.\u001b[39;49m\u001b[43marray\u001b[49m\u001b[43m(\u001b[49m\u001b[43m[\u001b[49m\u001b[43mpeak\u001b[49m\u001b[43m]\u001b[49m\u001b[43m)\u001b[49m\u001b[43m,\u001b[49m\u001b[43m \u001b[49m\u001b[43mtgt_peak\u001b[49m\u001b[43m,\u001b[49m\u001b[43m \u001b[49m\u001b[43mclassdict\u001b[49m\u001b[43m,\u001b[49m\u001b[43m \u001b[49m\u001b[43malreadyObserved\u001b[49m\u001b[43m,\u001b[49m\u001b[43m \u001b[49m\u001b[43mcollision_sim_version\u001b[49m\u001b[38;5;241;43m=\u001b[39;49m\u001b[38;5;241;43m2\u001b[39;49m\u001b[43m,\u001b[49m\u001b[43m \u001b[49m\u001b[43mtwo_stage\u001b[49m\u001b[38;5;241;43m=\u001b[39;49m\u001b[43mtwo_stage\u001b[49m\u001b[43m,\u001b[49m\u001b[43m \u001b[49m\u001b[43mbench\u001b[49m\u001b[38;5;241;43m=\u001b[39;49m\u001b[43mbench\u001b[49m\u001b[43m,\u001b[49m\u001b[43m \u001b[49m\u001b[43mcobracoach\u001b[49m\u001b[38;5;241;43m=\u001b[39;49m\u001b[43mcobracoach\u001b[49m\u001b[43m,\u001b[49m\u001b[43m \u001b[49m\u001b[43mgurobiOptions\u001b[49m\u001b[38;5;241;43m=\u001b[39;49m\u001b[43mgurobiOptions\u001b[49m\u001b[43m,\u001b[49m\u001b[43m \u001b[49m\u001b[43mtele_params\u001b[49m\u001b[38;5;241;43m=\u001b[39;49m\u001b[43mtele_params\u001b[49m\u001b[43m)\u001b[49m\n\u001b[1;32m    111\u001b[0m outfn \u001b[38;5;241m=\u001b[39m \u001b[38;5;124m'\u001b[39m\u001b[38;5;124mcosmology_region3_3h_output_v1_ra\u001b[39m\u001b[38;5;132;01m%.2f\u001b[39;00m\u001b[38;5;124m_dec\u001b[39m\u001b[38;5;132;01m%.2f\u001b[39;00m\u001b[38;5;124m.txt\u001b[39m\u001b[38;5;124m'\u001b[39m\u001b[38;5;241m%\u001b[39m(peak[\u001b[38;5;241m0\u001b[39m], peak[\u001b[38;5;241m1\u001b[39m])\n\u001b[1;32m    112\u001b[0m write_output(tgt_peak, res, tpos, telescopes, outdir, outfn)\n",
      "Cell \u001b[0;32mIn[40], line 211\u001b[0m, in \u001b[0;36mexecute\u001b[0;34m(peaks, tgt, classdict, alreadyObserved, t_obs, two_stage, collision_sim_version, tele_params, bench, cobracoach, gurobiOptions)\u001b[0m\n\u001b[1;32m    209\u001b[0m \u001b[38;5;28;01melse\u001b[39;00m:\n\u001b[1;32m    210\u001b[0m     simulator \u001b[38;5;241m=\u001b[39m CollisionSimulator(bench, TargetGroup(selectedTargets, ids))\n\u001b[0;32m--> 211\u001b[0m \u001b[43msimulator\u001b[49m\u001b[38;5;241;43m.\u001b[39;49m\u001b[43mrun\u001b[49m\u001b[43m(\u001b[49m\u001b[43m)\u001b[49m\n\u001b[1;32m    212\u001b[0m \u001b[38;5;28;01mif\u001b[39;00m np\u001b[38;5;241m.\u001b[39many(simulator\u001b[38;5;241m.\u001b[39mendPointCollisions):\n\u001b[1;32m    213\u001b[0m     \u001b[38;5;28mprint\u001b[39m(\u001b[38;5;124m\"\u001b[39m\u001b[38;5;124mERROR: detected end point collision, which should be impossible\u001b[39m\u001b[38;5;124m\"\u001b[39m)\n",
      "File \u001b[0;32m~/anaconda3/lib/python3.10/site-packages/ics/cobraOps/CollisionSimulator2.py:92\u001b[0m, in \u001b[0;36mCollisionSimulator2.run\u001b[0;34m(self, timeStep, maxSteps)\u001b[0m\n\u001b[1;32m     89\u001b[0m \u001b[38;5;28mself\u001b[39m\u001b[38;5;241m.\u001b[39mcalculateTrajectories(timeStep, maxSteps)\n\u001b[1;32m     91\u001b[0m \u001b[38;5;66;03m# Detect cobra collisions during the trajectory\u001b[39;00m\n\u001b[0;32m---> 92\u001b[0m \u001b[38;5;28;43mself\u001b[39;49m\u001b[38;5;241;43m.\u001b[39;49m\u001b[43mdetectTrajectoryCollisions\u001b[49m\u001b[43m(\u001b[49m\u001b[43m)\u001b[49m\n",
      "File \u001b[0;32m~/anaconda3/lib/python3.10/site-packages/ics/cobraOps/CollisionSimulator2.py:157\u001b[0m, in \u001b[0;36mCollisionSimulator2.detectTrajectoryCollisions\u001b[0;34m(self)\u001b[0m\n\u001b[1;32m    155\u001b[0m startPoints2 \u001b[38;5;241m=\u001b[39m \u001b[38;5;28mself\u001b[39m\u001b[38;5;241m.\u001b[39mfiberPositions[cobraAssociations[\u001b[38;5;241m1\u001b[39m]]\u001b[38;5;241m.\u001b[39mravel()\n\u001b[1;32m    156\u001b[0m endPoints2 \u001b[38;5;241m=\u001b[39m \u001b[38;5;28mself\u001b[39m\u001b[38;5;241m.\u001b[39melbowPositions[cobraAssociations[\u001b[38;5;241m1\u001b[39m]]\u001b[38;5;241m.\u001b[39mravel()\n\u001b[0;32m--> 157\u001b[0m distances \u001b[38;5;241m=\u001b[39m \u001b[38;5;28;43mself\u001b[39;49m\u001b[38;5;241;43m.\u001b[39;49m\u001b[43mbench\u001b[49m\u001b[38;5;241;43m.\u001b[39;49m\u001b[43mdistancesBetweenLineSegments\u001b[49m\u001b[43m(\u001b[49m\n\u001b[1;32m    158\u001b[0m \u001b[43m    \u001b[49m\u001b[43mstartPoints1\u001b[49m\u001b[43m,\u001b[49m\u001b[43m \u001b[49m\u001b[43mendPoints1\u001b[49m\u001b[43m,\u001b[49m\u001b[43m \u001b[49m\u001b[43mstartPoints2\u001b[49m\u001b[43m,\u001b[49m\u001b[43m \u001b[49m\u001b[43mendPoints2\u001b[49m\u001b[43m)\u001b[49m\n\u001b[1;32m    160\u001b[0m \u001b[38;5;66;03m# Reshape the distances array\u001b[39;00m\n\u001b[1;32m    161\u001b[0m distances \u001b[38;5;241m=\u001b[39m distances\u001b[38;5;241m.\u001b[39mreshape((\u001b[38;5;28mlen\u001b[39m(cobraAssociations[\u001b[38;5;241m0\u001b[39m]), \u001b[38;5;28mself\u001b[39m\u001b[38;5;241m.\u001b[39mnSteps))\n",
      "File \u001b[0;32m~/anaconda3/lib/python3.10/site-packages/ics/cobraOps/Bench.py:432\u001b[0m, in \u001b[0;36mBench.distancesBetweenLineSegments\u001b[0;34m(startPoints1, endPoints1, startPoints2, endPoints2)\u001b[0m\n\u001b[1;32m    409\u001b[0m \u001b[38;5;124;03m\"\"\"Calculates the minimum distances between line segments.\u001b[39;00m\n\u001b[1;32m    410\u001b[0m \n\u001b[1;32m    411\u001b[0m \u001b[38;5;124;03mParameters\u001b[39;00m\n\u001b[0;32m   (...)\u001b[0m\n\u001b[1;32m    429\u001b[0m \n\u001b[1;32m    430\u001b[0m \u001b[38;5;124;03m\"\"\"\u001b[39;00m\n\u001b[1;32m    431\u001b[0m \u001b[38;5;66;03m# Calculate the minimum distances for each point to segment combination\u001b[39;00m\n\u001b[0;32m--> 432\u001b[0m distances1 \u001b[38;5;241m=\u001b[39m \u001b[43mBench\u001b[49m\u001b[38;5;241;43m.\u001b[39;49m\u001b[43mdistancesToLineSegments\u001b[49m\u001b[43m(\u001b[49m\n\u001b[1;32m    433\u001b[0m \u001b[43m    \u001b[49m\u001b[43mstartPoints1\u001b[49m\u001b[43m,\u001b[49m\u001b[43m \u001b[49m\u001b[43mstartPoints2\u001b[49m\u001b[43m,\u001b[49m\u001b[43m \u001b[49m\u001b[43mendPoints2\u001b[49m\u001b[43m)\u001b[49m\n\u001b[1;32m    434\u001b[0m distances2 \u001b[38;5;241m=\u001b[39m Bench\u001b[38;5;241m.\u001b[39mdistancesToLineSegments(\n\u001b[1;32m    435\u001b[0m     endPoints1, startPoints2, endPoints2)\n\u001b[1;32m    436\u001b[0m distances3 \u001b[38;5;241m=\u001b[39m Bench\u001b[38;5;241m.\u001b[39mdistancesToLineSegments(\n\u001b[1;32m    437\u001b[0m     startPoints2, startPoints1, endPoints1)\n",
      "File \u001b[0;32m~/anaconda3/lib/python3.10/site-packages/ics/cobraOps/Bench.py:470\u001b[0m, in \u001b[0;36mBench.distancesToLineSegments\u001b[0;34m(points, startPoints, endPoints)\u001b[0m\n\u001b[1;32m    467\u001b[0m translatedEndPoints \u001b[38;5;241m=\u001b[39m endPoints \u001b[38;5;241m-\u001b[39m startPoints\n\u001b[1;32m    469\u001b[0m \u001b[38;5;66;03m# Rotate the translated points to have the line segment on the x axis\u001b[39;00m\n\u001b[0;32m--> 470\u001b[0m rotatedPoints \u001b[38;5;241m=\u001b[39m translatedPoints \u001b[38;5;241m*\u001b[39m np\u001b[38;5;241m.\u001b[39mexp(\u001b[38;5;241m-\u001b[39m\u001b[38;5;241m1\u001b[39mj \u001b[38;5;241m*\u001b[39m \u001b[43mnp\u001b[49m\u001b[38;5;241;43m.\u001b[39;49m\u001b[43mangle\u001b[49m\u001b[43m(\u001b[49m\n\u001b[1;32m    471\u001b[0m \u001b[43m    \u001b[49m\u001b[43mtranslatedEndPoints\u001b[49m\u001b[43m)\u001b[49m)\n\u001b[1;32m    473\u001b[0m \u001b[38;5;66;03m# Define 3 regions for the points: left of the origin, over the line\u001b[39;00m\n\u001b[1;32m    474\u001b[0m \u001b[38;5;66;03m# segments, and right of the line segments\u001b[39;00m\n\u001b[1;32m    475\u001b[0m x \u001b[38;5;241m=\u001b[39m rotatedPoints\u001b[38;5;241m.\u001b[39mreal\n",
      "File \u001b[0;32m<__array_function__ internals>:180\u001b[0m, in \u001b[0;36mangle\u001b[0;34m(*args, **kwargs)\u001b[0m\n",
      "File \u001b[0;32m~/anaconda3/lib/python3.10/site-packages/numpy/lib/function_base.py:1648\u001b[0m, in \u001b[0;36mangle\u001b[0;34m(z, deg)\u001b[0m\n\u001b[1;32m   1645\u001b[0m     zimag \u001b[38;5;241m=\u001b[39m \u001b[38;5;241m0\u001b[39m\n\u001b[1;32m   1646\u001b[0m     zreal \u001b[38;5;241m=\u001b[39m z\n\u001b[0;32m-> 1648\u001b[0m a \u001b[38;5;241m=\u001b[39m \u001b[43marctan2\u001b[49m\u001b[43m(\u001b[49m\u001b[43mzimag\u001b[49m\u001b[43m,\u001b[49m\u001b[43m \u001b[49m\u001b[43mzreal\u001b[49m\u001b[43m)\u001b[49m\n\u001b[1;32m   1649\u001b[0m \u001b[38;5;28;01mif\u001b[39;00m deg:\n\u001b[1;32m   1650\u001b[0m     a \u001b[38;5;241m*\u001b[39m\u001b[38;5;241m=\u001b[39m \u001b[38;5;241m180\u001b[39m\u001b[38;5;241m/\u001b[39mpi\n",
      "\u001b[0;31mKeyboardInterrupt\u001b[0m: "
     ]
    }
   ],
   "source": [
    "if __name__ == \"__main__\":\n",
    "    # TODO: revise the two-stage code structure\n",
    "    two_stage = True\n",
    "    outdir = \"../output/test/\"\n",
    "    \n",
    "    t0 = time.time()\n",
    "    ########################\n",
    "    #cosmology + sky + star targets\n",
    "    fn_list = [\"cosmology_region3_3h_targets.ecsv\", \"star_region3_3h_targets.ecsv\", \"sky_region3_3h_targets.ecsv\"]\n",
    "    prefix_list = [\"sci\", \"cal\", \"sky\"]\n",
    "    calibration_list = [False, True, True]\n",
    "    \n",
    "    tgt_s0, sample_sci = construct_tgt_list(catalog_path = \"../data_proc/test/\", fn_list=fn_list, prefix_list=prefix_list, calibration_list=calibration_list)\n",
    "    \n",
    "    '''\n",
    "    # TODO: prepare ancillary science targets (smaller size sample)\n",
    "    #anxillary science targets\n",
    "    fn_list = [\"anc_select.ecsv\", ]\n",
    "    prefix_list = [\"anc\", ]\n",
    "    calibration_list = [False, ]\n",
    "    \n",
    "    tgt_s1, sample_sci_s1 = construct_tgt_list(catalog_path = \"../data_proc/\", fn_list=fn_list, prefix_list=prefix_list, calibration_list=calibration_list)\n",
    "    '''\n",
    "\n",
    "    #total targets\n",
    "    #tgt = tgt_s0 + tgt_s1\n",
    "    tgt = tgt_s0\n",
    "    \n",
    "    n_sci = sample_sci.shape[0]\n",
    "    ra_sci = sample_sci[:, 1].astype('float')\n",
    "    dec_sci = sample_sci[:, 2].astype('float')\n",
    "\n",
    "    t1 = time.time()\n",
    "    print(\"Time passed - construct target list: %.2f secs\" % (t1-t0))\n",
    "\n",
    "    #set the range for getting pointing centers\n",
    "    ra_min, ra_max, dec_min, dec_max = 330, 345, -1.5, 0.5\n",
    "\n",
    "    # read the pointing centers from the file\n",
    "    ra_peaks, dec_peaks = read_pointings(\"../output/cosmology_region3_pointings.txt\")\n",
    "\n",
    "    # select peaks within the range\n",
    "    mask_peaks = (ra_peaks>ra_min) & (ra_peaks<ra_max) & (dec_peaks>dec_min) & (dec_peaks<dec_max)\n",
    "    peaks = np.array([ra_peaks[mask_peaks], dec_peaks[mask_peaks]]).T\n",
    "    npoint = peaks.shape[0]\n",
    "    print(\"There are %d pointings.\" % npoint)\n",
    "    \n",
    "    # plot the pointing and samples\n",
    "    plt.figure(figsize=(20, 5))\n",
    "    print(\"  Your sample (gray), with the pointings (red):\")\n",
    "    fov_diag = 1.38/2. # deg, here it's radius\n",
    "    mask_sci = (ra_sci>ra_min-fov_diag) & (ra_sci<ra_max+fov_diag) & (dec_sci>dec_min-fov_diag) & (dec_sci<dec_max+fov_diag)\n",
    "    plt.plot(ra_sci[mask_sci][::10], dec_sci[mask_sci][::10], 'k.', ms=0.2, alpha=0.5)\n",
    "\n",
    "    for raP, decP in zip(peaks[:, 0], peaks[:, 1]):\n",
    "        flag_fov_reserved = plot_filter_fov(raP, decP, ra_sci[mask_sci], dec_sci[mask_sci], PA=0, n_sci_fov_least=4000, filter_fov=True)\n",
    "\n",
    "    plt.xlabel('RA', fontsize=20)\n",
    "    plt.ylabel('DEC', fontsize=20)\n",
    "    plt.savefig(outdir + 'cosmology_region3_test_fov_plot.png')\n",
    "    plt.show()\n",
    "    plt.close()\n",
    "    \n",
    "    t2 = time.time()\n",
    "    print(\"Time passed - read pointings and plot for a small region: %.2f secs\" % (t2-t1))\n",
    "    \n",
    "    ########################\n",
    "    # setup execute input parameters \n",
    "    ########################\n",
    "    # bench = Bench(layout=\"full\")\n",
    "    \n",
    "    # _create_configured_bench https://github.com/Subaru-PFS-GA/ga_targeting/blob/master/python/pfs/ga/targeting/instrument/subarupfi.py\n",
    "    # bench, cobracoach = create_bench()\n",
    "    \n",
    "    \n",
    "    # blackDotsMargin: The margin factor in radius of the black dots to avoid in fiber allocation.\n",
    "    tele_params = {\"otime\":\"2025-08-20T11:00:00Z\", \"posang\":0.}\n",
    "    gurobiOptions = dict(seed=0, presolve=1, method=4, degenmoves=0, heuristics=0.8, mipfocus=0, mipgap=5.e-2, LogToConsole=1)\n",
    "\n",
    "\n",
    "    ########################\n",
    "    classdict = def_classdict()\n",
    "\n",
    "    ########################\n",
    "    # one visit -- can be 1st or 2nd visit\n",
    "    # TODO: set the alreadyObserved dictionary using the alreadyObserved column in the target list\n",
    "    alreadyObserved={}\n",
    "    for t in tgt:\n",
    "        alreadyObserved[t.ID] = 0\n",
    "\n",
    "    # set the stage of cosmology targets to be 1 (i.e. stage=0 for calibration targets)\n",
    "    for t in tgt:\n",
    "        if t.targetclass[:3] == 'sci': t.stage = 1\n",
    "    \n",
    "    # use stage parameter instead of preassigned parameter\n",
    "    outfn_list = []\n",
    "    for peak in peaks[:1]:\n",
    "        # select the tgt list for the pointing\n",
    "        tgt_ra = [tgt[i].ra for i in range(len(tgt))]\n",
    "        tgt_dec = [tgt[i].dec for i in range(len(tgt))]\n",
    "        # TO-DO: deal with the case when the ra is near 0 and 360\n",
    "        mask_tgt = (tgt_ra>peak[0]-fov_diag) & (tgt_ra<peak[0]+fov_diag) & (tgt_dec>peak[1]-fov_diag) & (tgt_dec<peak[1]+fov_diag)\n",
    "        tgt_peak = np.array(tgt)[mask_tgt].tolist()\n",
    "\n",
    "        # (Done) TODO: update the alreadyObserved dictionary\n",
    "        # TODO: rewrite the write_output and cal_completeness part\n",
    "\n",
    "        # excute the fiber assignment\n",
    "        res, tpos, telescopes = execute(np.array([peak]), tgt_peak, classdict, alreadyObserved, collision_sim_version=2, two_stage=two_stage, bench=bench, cobracoach=cobracoach, gurobiOptions=gurobiOptions, tele_params=tele_params)\n",
    "\n",
    "        outfn = 'cosmology_region3_3h_output_v1_ra%.2f_dec%.2f.txt'%(peak[0], peak[1])\n",
    "        write_output(tgt_peak, res, tpos, telescopes, outdir, outfn)\n",
    "\n",
    "        outfn_list.append(outdir + outfn)\n",
    "        \n",
    "        # calculate the completeness and fiber assignment fraction\n",
    "        comp_out_tmp1 = cal_completeness(tgt_peak, res, tpos, telescopes, Plot=True, fn_fig=outdir+'cosmology_region3_3h_v1_ra%.2f_dec%.2f.jpg'%(peak[0], peak[1]), Save=True, fn_fibeff=outdir+'cosmology_region3_3h_fibeff_v1.txt')\n",
    "        \n",
    "        # Convert scalar values to lists\n",
    "        data_dict = {key: [value] for key, value in comp_out_tmp1.items()}\n",
    "        df = pd.DataFrame(data_dict)\n",
    "        df.to_csv(outdir + 'cosmology_region3_3h_v1_ra%.2f_dec%.2f.csv'%(peak[0], peak[1]), index=False)\n",
    "        print(\"comp_out_tmp1 = \", comp_out_tmp1)\n",
    "\n",
    "        # update alreadyObserved\n",
    "        # TODO: revise the code for a more general case\n",
    "        tgt_id_done = np.loadtxt(outdir + outfn, usecols=(0, ), unpack=True, dtype='str')\n",
    "        for t in tgt_id_done:\n",
    "            alreadyObserved[str(t)] = 1\n",
    "\n",
    "    print(\"%f secs passed after the visits done.\" % (time.time()-t0))\n",
    "\n",
    "    plot_tgt_done(outfn_list, outdir+'tgt_done_region3_3h_v1.jpg', figsize=(6, 5))\n",
    "    plot_tgt_done(outfn_list, outdir+'tgt_done_region3_3h_v1_gray.jpg', figsize=(6, 5), plot_diffcolor=False)\n",
    "    \n",
    "    \n",
    "    "
   ]
  },
  {
   "cell_type": "code",
   "execution_count": 42,
   "metadata": {},
   "outputs": [],
   "source": [
    "#tclassdict = {'sci_P1' : 1, 'sky' : 2, 'cal' : 3}\n",
    "#write_pfsDesign(outdir, 'pfsDesign_region3_3h_v1.txt', res, tpos, telescopes, tgt, classdict)"
   ]
  },
  {
   "cell_type": "markdown",
   "metadata": {},
   "source": [
    "# TO-DO Lists\n",
    "+ fix the problem of gurobi.lic in py_env_co_fa\n",
    "+ update the target list after each observation\n",
    "+ second visit, pointing center shift to avoid vignetting \n",
    "+ longer exposure option for second visit\n",
    "+ (DONE!) remove the calibration targets in AlreadyObserved dict\n",
    "\n",
    "+ (DONE!) CollisionSimulator versus SollisionSimulator2? \n",
    "+ cobra home position and collision simulator? \n",
    "+ generate 1h pfsDesign file using the code block above (CO will use first 6-8 hours)\n",
    "+ (DONE!) (Q: iPS1 mag>18 is ok?) apply magnitude cut on bright stars\n",
    ">>> Wanqiu: fainter than 16 (18 might be safer choice according to Andy)\n",
    "+ (DONE) increase the sky/star fibers\n",
    ">>> Masayuki - FLUXSTDs: 100-200 stars are good. Please distribute these stars uniformly across the field. \n",
    "\n",
    "+ fiberStatus? -- bad fibers and bad Cobra\n",
    "+ apply bright star mask to sky/stars\n",
    "+ generate uniform sky/star fiber assignment \n",
    ">>> Masato Onodera - I don't think I can put my script to check the uniformity of the distributions of sky and fluxstd objects against the home positions of science fibers. Please see the following gist how it's made. It uses dcor package for the comparsion, so making your own should be simple.\n",
    "For the GA Fornax design, there is no configuration with p<0.05 (if my calculation is right).\n",
    "https://gist.github.com/monodera/4c6fef2ce6a8370338250cd78ac78f26\n",
    "\n",
    ">>> refer GA group code -\n",
    "https://github.com/Subaru-PFS-GA/ga_targeting/blob/master/nb/examples/netflow/8_cobra_groups.ipynb\n",
    "\n"
   ]
  },
  {
   "cell_type": "markdown",
   "metadata": {},
   "source": [
    "# check list for the observatory Target Uploader\n",
    "+ CO netflow output targets all get a fiber assigned (test myself - use output as an input, all targets have the same cost)\n",
    "+ two stage == different cost (same sky coverage)?\n",
    "+ CO needs to track the status of the target list and instrument\n",
    "+ if different otime is used, how many targets (sci, sky, star separately) will be missed? (test myself - use output as an input)\n",
    "\n"
   ]
  },
  {
   "cell_type": "code",
   "execution_count": null,
   "metadata": {},
   "outputs": [],
   "source": []
  },
  {
   "cell_type": "markdown",
   "metadata": {},
   "source": []
  }
 ],
 "metadata": {
  "kernelspec": {
   "display_name": "base",
   "language": "python",
   "name": "python3"
  },
  "language_info": {
   "codemirror_mode": {
    "name": "ipython",
    "version": 3
   },
   "file_extension": ".py",
   "mimetype": "text/x-python",
   "name": "python",
   "nbconvert_exporter": "python",
   "pygments_lexer": "ipython3",
   "version": "3.10.9"
  }
 },
 "nbformat": 4,
 "nbformat_minor": 2
}
