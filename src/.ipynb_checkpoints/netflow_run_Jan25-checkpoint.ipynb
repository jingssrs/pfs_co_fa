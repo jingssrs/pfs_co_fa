{
 "cells": [
  {
   "cell_type": "markdown",
   "metadata": {},
   "source": [
    "# basic set up"
   ]
  },
  {
   "cell_type": "code",
   "execution_count": 1,
   "metadata": {},
   "outputs": [],
   "source": [
    "#basic set up\n",
    "%matplotlib inline\n",
    "import logging\n",
    "import numpy as np\n",
    "import random\n",
    "import time\n",
    "import matplotlib.pyplot as plt\n",
    "import astropy.io.fits as pyfits\n",
    "import os\n",
    "from astropy.table import Table\n",
    "from astropy import units as u\n",
    "from astropy.coordinates import SkyCoord\n",
    "from IPython.display import clear_output\n",
    "from matplotlib.path import Path\n",
    "import pandas as pd\n",
    "import pdb\n",
    "from logzero import logger\n",
    "from utils.common_imports import *\n",
    "\n",
    "logging.getLogger('matplotlib').setLevel(logging.WARNING)\n",
    "\n",
    "\n",
    "#netflow \n",
    "import ets_fiber_assigner.netflow as nf\n",
    "import ets_fiber_assigner.io_helpers as io_helpers\n",
    "from ics.cobraOps.Bench import Bench\n",
    "from ics.cobraOps.TargetGroup import TargetGroup\n",
    "from ics.cobraOps.CobrasCalibrationProduct import CobrasCalibrationProduct\n",
    "from ics.cobraOps.BlackDotsCalibrationProduct import BlackDotsCalibrationProduct\n",
    "from pfs.utils.fiberids import FiberIds\n",
    "\n",
    "from ics.cobraCharmer.pfiDesign import PFIDesign\n",
    "from ics.cobraCharmer.cobraCoach.cobraCoach import CobraCoach\n",
    "from ics.cobraOps.DistanceTargetSelector import DistanceTargetSelector\n",
    "\n",
    "from ics.cobraOps.CollisionSimulator2 import CollisionSimulator2\n",
    "from ics.cobraOps.CollisionSimulator import CollisionSimulator\n",
    "from ics.cobraOps.cobraConstants import NULL_TARGET_POSITION, NULL_TARGET_ID\n",
    "from ics.cobraOps import plotUtils\n",
    "from collections import defaultdict"
   ]
  },
  {
   "cell_type": "markdown",
   "metadata": {},
   "source": [
    "# key functions"
   ]
  },
  {
   "cell_type": "code",
   "execution_count": 2,
   "metadata": {},
   "outputs": [],
   "source": [
    "# read the pointing centers from the file\n",
    "def read_pointings(file):\n",
    "    \"\"\"\n",
    "    Read pre-defined pointings from a file\n",
    "    \"\"\"\n",
    "    try:\n",
    "        # first try reading as ecsv format\n",
    "        t = Table.read(file, format=\"ascii.ecsv\")\n",
    "        return t[\"R.A.\"], t['Dec.']\n",
    "    except:\n",
    "        pass\n",
    "\n",
    "    with open(file) as f:\n",
    "        ras = []\n",
    "        decs = []\n",
    "        ll = f.readlines()\n",
    "        for l in ll[1:]:\n",
    "            if not l.startswith(\"#\"):\n",
    "                tt = l.split()\n",
    "                ra, dec = (float(tt[0]), float(tt[1]))\n",
    "                ras.append(ra)\n",
    "                decs.append(dec)\n",
    "    return np.array(ras), np.array(decs)\n",
    "\n",
    "# TODO: try a more efficient way to contruct the target list, add alreadyObserved to the target list either in netflow Targets or in this function\n",
    "def construct_tgt_list(catalog_path = \"../proc_data/\", \\\n",
    "                       fn_list = [\"cos_select.ecsv\", \"star_select.ecsv\", \"sky_select.ecsv\"], \\\n",
    "                       prefix_list = [\"sci\", \"cal\", \"sky\"], calibration_list = [False, True, True]):\n",
    "    '''\n",
    "    Construct target list\n",
    "    '''\n",
    "    print(\"construct target list:\")\n",
    "    for i, fn_i in enumerate(fn_list):\n",
    "        fn = catalog_path + fn_i\n",
    "        print(fn)\n",
    "        \n",
    "        # read all targets into a single list, giving them their proper types\n",
    "        if(i<1):\n",
    "            if(not calibration_list[i]): tgt = nf.readScientificFromFile(fn, prefix_list[i])\n",
    "            if(calibration_list[i]): tgt = nf.readCalibrationFromFile(fn, prefix_list[i])\n",
    "        else:\n",
    "            if(not calibration_list[i]): tgt += nf.readScientificFromFile(fn, prefix_list[i])\n",
    "            if(calibration_list[i]): tgt += nf.readCalibrationFromFile(fn, prefix_list[i])\n",
    "\n",
    "    print(\"In total, there are %d targets.\" % len(tgt))\n",
    "\n",
    "    # sample of sci targets\n",
    "    sample_sci = []\n",
    "    for t in tgt:\n",
    "        if(t.targetclass[:3] == 'sci'): sample_sci.append([t.ID,t.ra,t.dec])  \n",
    "\n",
    "    sample_sci = np.array(sample_sci)\n",
    "    \n",
    "    return tgt, sample_sci\n",
    "\n",
    "# TODO: play with the cost value for different classes\n",
    "def def_classdict():\n",
    "    '''define classdict for netflow run\n",
    "    \n",
    "    Parameters\n",
    "    ==========\n",
    "    None\n",
    "    \n",
    "    Returns\n",
    "    =======\n",
    "    classdict\n",
    "    '''\n",
    "    # create the dictionary containing the costs and constraints for all classes\n",
    "    # of targets\n",
    "    classdict = {}\n",
    "    classdict[\"sci_P1\"] = {\"nonObservationCost\": 400,\n",
    "                           \"partialObservationCost\": 1e6, \"calib\": False}\n",
    "    classdict[\"sci_P2\"] = {\"nonObservationCost\": 200,\n",
    "                           \"partialObservationCost\": 1e6, \"calib\": False}\n",
    "    classdict[\"sci_P3\"] = {\"nonObservationCost\": 100,\n",
    "                           \"partialObservationCost\": 1e6, \"calib\": False}\n",
    "    \n",
    "    #for ancillary targets\n",
    "    classdict[\"anc_P1\"] = {\"nonObservationCost\": 50,\n",
    "                           \"partialObservationCost\": 1e6, \"calib\": False}\n",
    "    classdict[\"anc_P2\"] = {\"nonObservationCost\": 10,\n",
    "                           \"partialObservationCost\": 1e6, \"calib\": False}\n",
    "\n",
    "    #need to ask PFS project office to get the \"numRequired\"\n",
    "    classdict[\"sky\"] = {\"numRequired\": 400,\n",
    "                        \"nonObservationCost\": 1e6, \"calib\": True}\n",
    "    #100-200 stars - Masayuki\n",
    "    classdict[\"cal\"] = {\"numRequired\": 200,\n",
    "                        \"nonObservationCost\": 1e6, \"calib\": True}\n",
    "\n",
    "    return classdict\n",
    "\n",
    "\n",
    "\n",
    "def write_output(tgt, res, tpos, telescopes, fdir_out, fn_out, t_obs=900):\n",
    "    '''write the output of fiber assignment\n",
    "    Parameters\n",
    "    ==========\n",
    "    fdir_out: string\n",
    "        output folder directory\n",
    "    fn_out: string\n",
    "        output file name\n",
    "    '''\n",
    "    \n",
    "    with open(fdir_out + fn_out, \"w\") as f:\n",
    "        for i, (vis, tp, tel) in enumerate(zip(res, tpos, telescopes)):\n",
    "            print(\"exposure {}:\".format(i))\n",
    "            print(\"  assigned Cobras: {}\".format(len(vis)))\n",
    "            tdict = defaultdict(int)\n",
    "            f.write(\"# Exposure {}: duration {}s, RA: {}, Dec: {}, PA: {}\\n\".\n",
    "                    format(i+1, t_obs, tel._ra, tel._dec, tel._posang))\n",
    "            f.write(\"# Target    Fiber          X          Y         \"\n",
    "                    \"RA        DEC\\n\")\n",
    "            for tidx, cidx in vis.items():\n",
    "                tdict[tgt[tidx].targetclass] += 1 #tgt[].targetclass = 'sci_Px'\n",
    "                f.write(\"{:} {:6d} {:10.5f} {:10.5f} {:10.5f} {:10.5f}\\n\"\n",
    "                        .format(tgt[tidx].ID, cidx+1, tp[tidx].real, tp[tidx].imag,\n",
    "                                tgt[tidx].ra, tgt[tidx].dec))\n",
    "            for cls, num in tdict.items():\n",
    "                print(\"   {}: {}\".format(cls, num))\n",
    "                \n",
    "                \n",
    "def cal_completeness(tgt, res, tpos, telescopes, Plot=False, fn_fig='', Save=False, fn_fibeff=''):\n",
    "    '''calculate the completeness of the targets and fiber assignment fraction\n",
    "    Parameters\n",
    "    ==========\n",
    "    fdir_out: string\n",
    "        output folder directory\n",
    "    Plot: boolean\n",
    "        plot the results if True \n",
    "    '''\n",
    "    \n",
    "    #fiber assignment fraction of each pointing\n",
    "    fib_eff = [] \n",
    "    #fiber assignment fraction of pointing which observed galaxies\n",
    "    fib_eff_gal = []\n",
    "    fib_eff_anc = []\n",
    "    #calibration targets\n",
    "    fib_eff_star = []\n",
    "    fib_eff_sky = []\n",
    "\n",
    "    #objects that got allocated a fiber\n",
    "    obj_allo = []\n",
    "    for i, (vis, tp, tel) in enumerate(zip(res, tpos, telescopes)):\n",
    "        fib_eff_t = len(vis)/2394.*100 #2394 fibers available\n",
    "        fib_eff.append(fib_eff_t)\n",
    "\n",
    "        n_fib_gal = 0\n",
    "        n_fib_anc = 0\n",
    "        n_fib_star = 0\n",
    "        n_fib_sky = 0\n",
    "        #tidx is the id in tgt list; cidx is the fiber id, starting from 0\n",
    "        for tidx, cidx in vis.items():\n",
    "            obj_allo.append([\"Point_\"+str(i+1), tel._ra, tel._dec, tel._posang, tgt[tidx].ID,\n",
    "                            cidx+1, tp[tidx].real, tgt[tidx].ra, tgt[tidx].dec,\n",
    "                            tgt[tidx].targetclass])\n",
    "\n",
    "            if tgt[tidx].targetclass[:3]=='sci': n_fib_gal+=1\n",
    "            if tgt[tidx].targetclass[:3]=='anc': n_fib_anc+=1\n",
    "            if tgt[tidx].targetclass[:3]=='sky': n_fib_sky+=1\n",
    "            if tgt[tidx].targetclass[:3]=='cal': n_fib_star+=1\n",
    "\n",
    "        fib_eff_gal.append(n_fib_gal/2394.*100)\n",
    "        fib_eff_anc.append(n_fib_anc/2394.*100)\n",
    "        fib_eff_star.append(n_fib_star/2394.*100)\n",
    "        fib_eff_sky.append(n_fib_sky/2394.*100)\n",
    "\n",
    "        print(\"exposure {}:\".format(i))\n",
    "        print(\"assigned Cobras(%): {:.2f}%; gal--{:.2f}%, anc--{:.2f}%, sky--{:.2f}%, star--{:.2f}%\". format(fib_eff[i], fib_eff_gal[i], fib_eff_anc[i], fib_eff_sky[i], fib_eff_star[i]))\n",
    "    \n",
    "    if(Save==True):\n",
    "        np.savetxt(fn_fibeff, np.c_[fib_eff, fib_eff_gal, fib_eff_anc, fib_eff_sky, fib_eff_star])\n",
    "    \n",
    "    #unique tgt_class\n",
    "    tgt_class = []\n",
    "    for tgt_i in tgt:\n",
    "        tgt_class.append(tgt_i.targetclass)\n",
    "    tgt_class = np.array(tgt_class)\n",
    "    uniq_tgt_class = np.unique(tgt_class)\n",
    "\n",
    "    #completeness fraction\n",
    "    tgt_class_allo = np.array([obj_allo_i[-1] for obj_allo_i in obj_allo])\n",
    "    comp_out = {}\n",
    "    for ii, uniq_tgt_i in enumerate(uniq_tgt_class):\n",
    "        mask_i = tgt_class == uniq_tgt_i\n",
    "        tot = len(tgt_class[mask_i])\n",
    "\n",
    "        mask_ii = tgt_class_allo == uniq_tgt_i\n",
    "        done = len(tgt_class_allo[mask_ii])\n",
    "\n",
    "        comp_out[uniq_tgt_i] = done/tot\n",
    "        \n",
    "    print(\"comp_out=\", comp_out)\n",
    "    \n",
    "    #plot\n",
    "    if(Plot==True):  \n",
    "        npoint_used = len(tpos)\n",
    "        msk_sci_class =  [uniq_tgt_class_i[:3]=='sci' for uniq_tgt_class_i in uniq_tgt_class]\n",
    "        sci_class = uniq_tgt_class[msk_sci_class]\n",
    "        msk_anc_class =  [uniq_tgt_class_i[:3]=='anc' for uniq_tgt_class_i in uniq_tgt_class]\n",
    "        sci_class = np.append(sci_class, uniq_tgt_class[msk_anc_class])\n",
    "        print(sci_class)\n",
    "        \n",
    "        plt.figure(figsize=(12, 4))\n",
    "        plt.subplot(121)\n",
    "        for ii, sci_class_ii in enumerate(sci_class):\n",
    "            plt.bar([ii+1], comp_out[sci_class_ii], width=1., fc='tomato', ec='none', alpha=0.8, zorder=10)\n",
    "            plt.bar([ii+1], comp_out[sci_class_ii], width=1., ec='tomato', fc='none', lw=1)\n",
    "\n",
    "        plt.plot([0,10], [0.8,0.8], 'k--', lw=2, zorder=11)\n",
    "        plt.xticks(np.arange(len(sci_class))+1, sci_class, fontsize=15)\n",
    "        plt.ylabel('completeness fraction', fontsize=15)\n",
    "        plt.xlim(0, len(sci_class)+2)\n",
    "        plt.ylim(0, 1.)\n",
    "\n",
    "        plt.subplot(122)\n",
    "        plt.bar(np.arange(0,len(fib_eff_gal),1), fib_eff_gal, width=0.8, fc='tomato', ec='none', alpha=0.6, zorder=10)\n",
    "        plt.bar(np.arange(0,len(fib_eff_anc),1), fib_eff_anc, width=0.8, fc='purple', ec='none', alpha=0.5)\n",
    "        plt.bar(np.arange(0,len(fib_eff_sky),1), fib_eff_sky, width=0.8, fc='blue', ec='none', alpha=0.5)\n",
    "        plt.bar(np.arange(0,len(fib_eff_star),1), fib_eff_star, width=0.8, fc='gray', ec='none', alpha=0.5)\n",
    "\n",
    "        plt.plot([0,npoint_used+1.], [80,80], 'k--', lw=2, zorder=11)\n",
    "        plt.plot([0,npoint_used+1.], [np.mean(fib_eff_gal), np.mean(fib_eff_gal)], '--', color='tomato', lw=2, zorder=11)\n",
    "        plt.plot([0,npoint_used+1.], [np.mean(fib_eff_anc), np.mean(fib_eff_anc)], '--', color='purple', lw=2, zorder=11)\n",
    "        plt.plot([0,npoint_used+1.], [np.mean(fib_eff_sky), np.mean(fib_eff_sky)], '--', color='blue', lw=2, zorder=11)\n",
    "        plt.plot([0,npoint_used+1.], [np.mean(fib_eff_star), np.mean(fib_eff_star)], '--', color='gray', lw=2, zorder=11)\n",
    "\n",
    "        plt.text(npoint_used*0.8, 100, \"cosmology--{:2.2f}%\".format(np.mean(fib_eff_gal)), color='tomato', fontsize=12)\n",
    "        plt.text(npoint_used*0.8, 92, \"ancillary--{:2.2f}%\".format(np.mean(fib_eff_anc)), color='purple', fontsize=12)\n",
    "        plt.text(npoint_used*0.8, 84, \"sky--{:2.2f}%\".format(np.mean(fib_eff_sky)), color='blue', fontsize=12)\n",
    "        plt.text(npoint_used*0.8, 76, \"star--{:2.2f}%\".format(np.mean(fib_eff_star)), color='gray', fontsize=12)\n",
    "        plt.xlim(0, npoint_used+1.)\n",
    "        plt.ylim(0, 110.)\n",
    "        plt.xlabel('Pointing', fontsize=15)\n",
    "        plt.ylabel('fiber alloc fraction', fontsize=15)\n",
    "\n",
    "        plt.savefig(fn_fig, dpi=300, bbox_inches='tight')\n",
    "        plt.show()\n",
    "        plt.close()\n",
    "        \n",
    "    return comp_out\n",
    "\n",
    "    "
   ]
  },
  {
   "cell_type": "markdown",
   "metadata": {},
   "source": [
    "## execute function"
   ]
  },
  {
   "cell_type": "code",
   "execution_count": 3,
   "metadata": {},
   "outputs": [],
   "source": [
    "# (DONE)TODO-0: plot the distribution of the cosmology, star, and sky\n",
    "# (DONE)TODO-1: make posang and otime as input parameters\n",
    "# (DONE)TODO-2: test different otime outputs of tpos and netflow\n",
    "# (DONE)TODO-3: make bench, Gurobi options as input parameters\n",
    "# TODO-4: test different Gurobi options, vis_cost, cobraMoveCost\n",
    "# TODO-5: check blackDotPenalty, collision_distance, and minSkyTargetsPerInstrumentRegion\n",
    "# TODO-6: write code to get longer exposure in the 2nd visit for some targets\n",
    "# TODO-7: test which part of the code is the bottleneck\n",
    "def execute(peaks, tgt, classdict, alreadyObserved, t_obs = 900., two_stage = False, collision_sim_version = 2, tele_params={\"otime\":\"2025-08-20T11:00:00Z\", \"posang\":0.}, bench = None, cobracoach = None, gurobiOptions = None):\n",
    "    # get a complete, idealized focal plane configuration\n",
    "    if bench is None:\n",
    "        Exception(\"bench is not defined\")\n",
    "    if cobracoach is None:\n",
    "        Exception(\"cobracoach is not defined\")\n",
    "        \n",
    "    # test_a \n",
    "    # otime = \"2025-08-20T10:00:00Z\"\n",
    "    # test_b\n",
    "    # otime = \"2025-08-20T12:00:00Z\"\n",
    "    # test_c\n",
    "    # otime = \"2025-08-20T11:00:00Z\"\n",
    "\n",
    "    raTel, decTel = peaks[:, 0], peaks[:, 1]\n",
    "    posang = tele_params[\"posang\"]\n",
    "    otime = tele_params[\"otime\"]\n",
    "    telescopes = []\n",
    "\n",
    "    # number of distinct observations\n",
    "    nvisit = len(raTel)\n",
    "\n",
    "    # generate telescope pointings for every observation\n",
    "    for ii in range(nvisit):\n",
    "        telescopes.append(nf.Telescope(raTel[ii], decTel[ii], posang, otime))\n",
    "\n",
    "    # get focal plane positions for all targets and all visits\n",
    "    tpos = [tele.get_fp_positions(tgt) for tele in telescopes]\n",
    "    \n",
    "    # optional: slightly increase the cost for later observations,\n",
    "    # to observe as early as possible\n",
    "    # test_defualt \n",
    "    vis_cost = [0.1*i for i in range(nvisit)]\n",
    "    # test_vis_cost -- no difference in the output\n",
    "    # vis_cost = [0.*i for i in range(nvisit)]\n",
    "\n",
    "    # optional: penalize assignments where the cobra has to move far out\n",
    "    def cobraMoveCost(dist):\n",
    "        # test_default\n",
    "        return 0.01*dist \n",
    "        # test_cobraMoveCost, fiber efficency is slightly lower (75.40 versus 75.44) in one of the two pointings \n",
    "        # return 0.0001*dist\n",
    "    \n",
    "    # test_default\n",
    "    # blackDotPenalty = None\n",
    "    # optional: penalize assignments near the black dots\n",
    "    # test_blackDotPenalty, note distance is in mm, same as in cobraMoveCost\n",
    "    # --- fiber efficency is different, but not in a consistent way in the two pointings\n",
    "    def blackDotPenalty(dist):\n",
    "        #return 0.\n",
    "        return 0.01*(1. - 0.5 * dist)\n",
    "\n",
    "    # refer to gurobi website for information on these parameters, LogToConsole=1 will display the running process\n",
    "    if gurobiOptions is None:\n",
    "        gurobiOptions = dict(seed=0, presolve=1, method=4, degenmoves=0,\n",
    "                            heuristics=0.8, mipfocus=0, mipgap=5.e-2, LogToConsole=1)\n",
    "    \n",
    "    forbiddenPairs = []\n",
    "    for i in range(nvisit):\n",
    "        forbiddenPairs.append([])\n",
    "\n",
    "    print(\"solving the problem for stage=0 targets.\")\n",
    "    done = False\n",
    "    while not done:\n",
    "        # compute observation strategy for stage=0 targets (default: stage=0, preassigned=None)\n",
    "        prob0 = nf.buildProblem(bench, tgt, tpos, classdict, t_obs,\n",
    "                               vis_cost, cobraMoveCost=cobraMoveCost,\n",
    "                               collision_distance=2., elbow_collisions=True,\n",
    "                               gurobi=True, gurobiOptions=gurobiOptions,\n",
    "                               alreadyObserved=alreadyObserved,\n",
    "                               forbiddenPairs=forbiddenPairs, \n",
    "                               blackDotPenalty=blackDotPenalty)\n",
    "\n",
    "        prob0.solve()\n",
    "        #Obj0 = prob0._prob.objVal\n",
    "        \n",
    "        # extract solution for stage=0\n",
    "        res0 = [{} for _ in range(nvisit)]\n",
    "        for k1, v1 in prob0._vardict.items():\n",
    "            if k1.startswith(\"Tv_Cv_\"):\n",
    "                visited = prob0.value(v1) > 0\n",
    "                if visited:\n",
    "                    _, _, tidx, cidx, ivis = k1.split(\"_\")\n",
    "                    res0[int(ivis)][int(tidx)] = int(cidx)\n",
    "        #    \n",
    "        print(\"Checking for trajectory collisions\")\n",
    "        ncoll = 0\n",
    "        for ivis, (vis, tp) in enumerate(zip(res0, tpos)):\n",
    "            selectedTargets = np.full(len(bench.cobras.centers), NULL_TARGET_POSITION)\n",
    "            ids = np.full(len(bench.cobras.centers), NULL_TARGET_ID)\n",
    "            for tidx, cidx in vis.items():\n",
    "                selectedTargets[cidx] = tp[tidx]\n",
    "                ids[cidx] = \"\"\n",
    "            for i in range(selectedTargets.size):\n",
    "                if selectedTargets[i] != NULL_TARGET_POSITION:\n",
    "                    dist = np.abs(selectedTargets[i]-bench.cobras.centers[i])\n",
    "                    if dist > bench.cobras.L1[i] + bench.cobras.L2[i]:\n",
    "                        logger.warning(\n",
    "                            f\"(CobraId={i}) Distance from the center exceeds L1+L2 ({dist} mm)\"\n",
    "                        )\n",
    "\n",
    "            if collision_sim_version == 2:\n",
    "                simulator = CollisionSimulator2(bench, cobracoach, TargetGroup(selectedTargets, ids))\n",
    "            else:\n",
    "                simulator = CollisionSimulator(bench, TargetGroup(selectedTargets, ids))\n",
    "\n",
    "            simulator.run()\n",
    "            if np.any(simulator.endPointCollisions):\n",
    "                print(\"ERROR: detected %d end point collision, which should be impossible\" % simulator.nEndPointCollisions)\n",
    "\n",
    "            coll_tidx = []\n",
    "            for tidx, cidx in vis.items():\n",
    "                if simulator.collisions[cidx]:\n",
    "                    coll_tidx.append(tidx)\n",
    "            ncoll += len(coll_tidx)\n",
    "            for i1 in range(0,len(coll_tidx)):\n",
    "                found = False\n",
    "                for i2 in range(i1 + 1, len(coll_tidx)):\n",
    "                    if np.abs(tp[coll_tidx[i1]] - tp[coll_tidx[i2]])<10:\n",
    "                        forbiddenPairs[ivis].append((coll_tidx[i1],coll_tidx[i2]))\n",
    "                        found = True\n",
    "                if not found:  # not a collision between two active Cobras\n",
    "                    forbiddenPairs[ivis].append((coll_tidx[i1],))\n",
    "\n",
    "        print(\"trajectory collisions found:\", ncoll)\n",
    "        done = ncoll == 0\n",
    "        \n",
    "    print(\"Done: solving the problem for stage=0 targets.\")\n",
    "    \n",
    "    if((two_stage==False)):\n",
    "        clear_output()\n",
    "        return res0, tpos, telescopes\n",
    "    \n",
    "    ####################################\n",
    "    print(\"solving the problem for stage=1 targets.\")\n",
    "    #reset forbiddenPairs here again\n",
    "    forbiddenPairs = []\n",
    "    for i in range(nvisit):\n",
    "        forbiddenPairs.append([])\n",
    "    \n",
    "    # get preassigned_list\n",
    "    preassigned_list = [{} for _ in range(nvisit)] #list (dict(TargetID: Cobra index))\n",
    "    for i, vis in enumerate(res0):\n",
    "        for tidx, cidx in vis.items():\n",
    "            preassigned_list[i][tgt[tidx].ID] = cidx\n",
    "          \n",
    "    done = False\n",
    "    while not done:\n",
    "        #note adding stage=1 in nf.buildProblem() does not make too much difference\n",
    "        prob1 = nf.buildProblem(bench, tgt, tpos, classdict, t_obs,\n",
    "                                vis_cost, cobraMoveCost=cobraMoveCost,\n",
    "                                collision_distance=2., elbow_collisions=True,\n",
    "                                gurobi=True, gurobiOptions=gurobiOptions,\n",
    "                                alreadyObserved=alreadyObserved,\n",
    "                                forbiddenPairs=forbiddenPairs,\n",
    "                                blackDotPenalty=blackDotPenalty,\n",
    "                                stage=1, preassigned=preassigned_list)\n",
    "        \n",
    "        \n",
    "        prob1.solve()\n",
    "        #Obj1 = prob1._prob.objVal\n",
    "            \n",
    "        # extract solution for stage=1\n",
    "        res = [{} for _ in range(nvisit)]\n",
    "        for k1, v1 in prob1._vardict.items():\n",
    "            if k1.startswith(\"Tv_Cv_\"):\n",
    "                visited = prob1.value(v1) > 0\n",
    "                if visited:\n",
    "                    _, _, tidx, cidx, ivis = k1.split(\"_\")\n",
    "                    res[int(ivis)][int(tidx)] = int(cidx)\n",
    "        \n",
    "\n",
    "        print(\"Checking for trajectory collisions\")\n",
    "        ncoll = 0\n",
    "        for ivis, (vis, tp) in enumerate(zip(res, tpos)):\n",
    "            selectedTargets = np.full(len(bench.cobras.centers), NULL_TARGET_POSITION)\n",
    "            ids = np.full(len(bench.cobras.centers), NULL_TARGET_ID)\n",
    "            for tidx, cidx in vis.items():\n",
    "                selectedTargets[cidx] = tp[tidx]\n",
    "                ids[cidx] = \"\"\n",
    "            for i in range(selectedTargets.size):\n",
    "                if selectedTargets[i] != NULL_TARGET_POSITION:\n",
    "                    dist = np.abs(selectedTargets[i]-bench.cobras.centers[i])\n",
    "                    if dist > bench.cobras.L1[i] + bench.cobras.L2[i]:\n",
    "                        logger.warning(\n",
    "                            f\"(CobraId={i}) Distance from the center exceeds L1+L2 ({dist} mm)\"\n",
    "                        )\n",
    "\n",
    "            if collision_sim_version == 2:\n",
    "                simulator = CollisionSimulator2(bench, cobracoach, TargetGroup(selectedTargets, ids))\n",
    "            else:\n",
    "                simulator = CollisionSimulator(bench, TargetGroup(selectedTargets, ids))\n",
    "            simulator.run()\n",
    "            if np.any(simulator.endPointCollisions):\n",
    "                print(\"ERROR: detected %d end point collision, which should be impossible\" % simulator.nEndPointCollisions)\n",
    "            coll_tidx = []\n",
    "            for tidx, cidx in vis.items():\n",
    "                if simulator.collisions[cidx]:\n",
    "                    coll_tidx.append(tidx)\n",
    "            ncoll += len(coll_tidx)\n",
    "            for i1 in range(0,len(coll_tidx)):\n",
    "                found = False\n",
    "                for i2 in range(i1+1,len(coll_tidx)):\n",
    "                    if np.abs(tp[coll_tidx[i1]]-tp[coll_tidx[i2]])<10:\n",
    "                        forbiddenPairs[ivis].append((coll_tidx[i1],coll_tidx[i2]))\n",
    "                        found = True\n",
    "                if not found:  # not a collision between two active Cobras\n",
    "                    forbiddenPairs[ivis].append((coll_tidx[i1],))\n",
    "\n",
    "        print(\"trajectory collisions found:\", ncoll)\n",
    "        done = ncoll == 0\n",
    "        \n",
    "    print(\"Done: solving the problem for stage=1 targets.\")\n",
    "    ####################################\n",
    "    \n",
    "    '''\n",
    "    if((two_stage == True)):\n",
    "        print(\"objVal0 = %f, objVal1=%f\" % (Obj0, Obj1))   \n",
    "    else:\n",
    "        print(\"objVal0 = %f\" % (Obj0)) \n",
    "    '''\n",
    "        \n",
    "    clear_output()\n",
    "    return res, tpos, telescopes"
   ]
  },
  {
   "cell_type": "markdown",
   "metadata": {},
   "source": [
    "## write pfsDesign file"
   ]
  },
  {
   "cell_type": "code",
   "execution_count": 4,
   "metadata": {},
   "outputs": [],
   "source": [
    "# TODO: this function is not working and can be removed later\n",
    "def write_pfsDesign(fdir_out, fn_out, res, tpos, telescopes, tgt, classdict):\n",
    "    '''write the output of fiber assignment\n",
    "    Parameters\n",
    "    ==========\n",
    "    fdir_out: string\n",
    "        output folder directory\n",
    "    fn_out: string\n",
    "        output file name\n",
    "        \n",
    "    '''\n",
    "    for i, (vis, tp, tel) in enumerate(zip(res, tpos, telescopes)):\n",
    "        io_helpers.writePfsDesign(pfsDesignDirectory=fdir_out, vis=vis, tp=tp, tel=tel, tgt=tgt, classdict=classdict)"
   ]
  },
  {
   "cell_type": "markdown",
   "metadata": {},
   "source": [
    "## plot_filter_fov function"
   ]
  },
  {
   "cell_type": "code",
   "execution_count": 5,
   "metadata": {},
   "outputs": [],
   "source": [
    "# TODO: same function as in pointings.ipynb\n",
    "def plot_filter_fov(raP, decP, raSci, decSci, PA=0, n_sci_fov_least=3000, filter_fov=True):\n",
    "    '''plot one PFS FoV (hexagon) centered at the pointing center\n",
    "    \n",
    "    NOTE\n",
    "    ==========\n",
    "    flag_fov_reserved is obtained by using a threshold of targets in the FoV\n",
    "\n",
    "    Parameters\n",
    "    ==========\n",
    "    raP, decP, PA : float\n",
    "        ra, dec, PA of the pointing center\n",
    "\n",
    "    raSci, decSci: numpy array, float\n",
    "        ra, dec of the scientific targets\n",
    "        only used to check the number of scientific targets in the FoV\n",
    "    \n",
    "    n_sci_fov_least: int\n",
    "        the least number of scientific targets in the FoV\n",
    "\n",
    "    filter_fov: Boolean\n",
    "        if True, plot/select the FoV only when there are enough scientific targets in the FoV\n",
    "\n",
    "        \n",
    "    Returns\n",
    "    =======\n",
    "    plot a hexagon at the pointing center with diameter=1.38 deg\n",
    "    \n",
    "    flag_fov_reserved: Boolean, used to remove the pointing w/o enough scientific targets \n",
    "    '''\n",
    "    \n",
    "    center = SkyCoord(raP*u.deg, decP*u.deg)\n",
    "    # PA=0 along y-axis, PA=90 along x-axis, PA=180 along -y-axis...\n",
    "    hexagon = center.directional_offset_by([0+PA, 60+PA, 120+PA, 180+PA, 240+PA, 300+PA, 360+PA]*u.deg, 1.38/2.*u.deg)\n",
    "    ra_h = hexagon.ra.deg\n",
    "    dec_h = hexagon.dec.deg\n",
    "\n",
    "    ra_h_in = np.where(np.fabs(ra_h-center.ra.deg)>180)\n",
    "    if len(ra_h_in[0])>0:\n",
    "        if ra_h[ra_h_in[0][0]]>180:ra_h[ra_h_in[0]]-=360\n",
    "        elif ra_h[ra_h_in[0][0]]<180:ra_h[ra_h_in[0]]+=360\n",
    "        #pdb.set_trace()\n",
    "\n",
    "    # scientific targets\n",
    "    point = np.vstack((raSci, decSci)).T\n",
    "    \n",
    "    # TODO: revise the polygon.contains_points for the ra near 0 and 360 cases\n",
    "    if filter_fov:\n",
    "        polygon = Path([(ra_h[t],dec_h[t]) for t in range(len(ra_h))])\n",
    "        index_ = np.where(polygon.contains_points(point)==True)[0]\n",
    "\n",
    "        if(len(index_)<n_sci_fov_least):\n",
    "            flag_fov_reserved = False\n",
    "        else:\n",
    "            flag_fov_reserved = True\n",
    "            plt.plot(ra_h, dec_h, color='r', lw=0.5, ls='-', alpha=1., zorder=5)\n",
    "    else:\n",
    "        flag_fov_reserved = True\n",
    "        plt.plot(ra_h, dec_h, color='r', lw=0.5, ls='-', alpha=1., zorder=5)\n",
    "    \n",
    "    return flag_fov_reserved"
   ]
  },
  {
   "cell_type": "markdown",
   "metadata": {},
   "source": [
    "## check_output function"
   ]
  },
  {
   "cell_type": "code",
   "execution_count": 6,
   "metadata": {},
   "outputs": [],
   "source": [
    "# TODO: make this function useful for one/multiple pointings, plot the cosmology, star, sky and ancillary targets using different colors\n",
    "def plot_tgt_done(outfn_list, figname, figsize=(8, 8), plot_diffcolor=True):\n",
    "    '''\n",
    "    plot the targets that have been assigned to the fibers\n",
    "    '''\n",
    "    for i, fn_i in enumerate(outfn_list):\n",
    "        tgt_id_done, tgt_ra_done, tgt_dec_done = np.loadtxt(fn_i, usecols=(0, 4, 5), unpack=True, dtype='str')\n",
    "        tgt_ra_done, tgt_dec_done = tgt_ra_done.astype('float'), tgt_dec_done.astype('float')\n",
    "\n",
    "        mask_cos = [tgt_id_done[i][1:4] == 'Cos' for i in range(len(tgt_id_done))]\n",
    "        mask_star = [tgt_id_done[i][1:4] == 'Sta' for i in range(len(tgt_id_done))]\n",
    "        mask_sky = [tgt_id_done[i][1:4] == 'Sky' for i in range(len(tgt_id_done))]\n",
    "        mask_anc = [tgt_id_done[i][1:4] == 'Anc' for i in range(len(tgt_id_done))]\n",
    "\n",
    "        if(plot_diffcolor):\n",
    "            if(i==0): \n",
    "                plt.figure(figsize = figsize)\n",
    "                plt.plot(tgt_ra_done[mask_cos], tgt_dec_done[mask_cos], 'k.', ms=0.5, alpha=0.5, label='cosmology')\n",
    "                plt.plot(tgt_ra_done[mask_star], tgt_dec_done[mask_star], 'r*', ms=1.5, alpha=1., label='star')\n",
    "                plt.plot(tgt_ra_done[mask_sky], tgt_dec_done[mask_sky], 'b^', ms=1.5, alpha=1., label='sky')\n",
    "                plt.plot(tgt_ra_done[mask_anc], tgt_dec_done[mask_anc], 'gs', ms=1.5, alpha=1., label='ancillary')\n",
    "            else:\n",
    "                plt.plot(tgt_ra_done[mask_cos], tgt_dec_done[mask_cos], 'k.', ms=0.5, alpha=0.5)\n",
    "                plt.plot(tgt_ra_done[mask_star], tgt_dec_done[mask_star], 'r*', ms=1.5, alpha=1.)\n",
    "                plt.plot(tgt_ra_done[mask_sky], tgt_dec_done[mask_sky], 'b^', ms=1.5, alpha=1.)\n",
    "                plt.plot(tgt_ra_done[mask_anc], tgt_dec_done[mask_anc], 'gs', ms=1.5, alpha=1.)\n",
    "        else:\n",
    "            if(i==0): \n",
    "                plt.figure(figsize = figsize)\n",
    "                plt.plot(tgt_ra_done, tgt_dec_done, 'k.', ms=0.5, alpha=0.5, label='targets done')\n",
    "            else:\n",
    "                plt.plot(tgt_ra_done, tgt_dec_done, 'k.', ms=0.5, alpha=0.5)\n",
    "\n",
    "    plt.legend(loc='upper right', fontsize=15, frameon=True)\n",
    "    plt.xlabel('RA', fontsize=15)\n",
    "    plt.ylabel('DEC', fontsize=15)\n",
    "    plt.savefig(figname, dpi=300, bbox_inches='tight')\n",
    "    plt.show()\n",
    "    plt.close()"
   ]
  },
  {
   "cell_type": "markdown",
   "metadata": {},
   "source": [
    "## set bench"
   ]
  },
  {
   "cell_type": "code",
   "execution_count": 7,
   "metadata": {},
   "outputs": [],
   "source": [
    "# TODO: check with project office if the following function is correct\n",
    "# double check calibration_ga using https://github.com/Subaru-PFS/ets_pointing/blob/afa0ff9577f3077ae1fd758bb3ddd426e8d24f4d/src/pfs_design_tool/pointing_utils/nfutils.py#L47\n",
    "import pathlib\n",
    "def create_bench(layout=\"full\"):\n",
    "    '''\n",
    "    set bench using different methods\n",
    "\n",
    "    using CollisionSimulator2 for trajectory collision check when layout is not \"full\"\n",
    "    '''\n",
    "    cobra_coach_dir = \"./cobra_coach_temp/\"\n",
    "    fiberids_path = \"./pfs_utils-w.2024.45/data/fiberids/\"\n",
    "    pfs_black_dots_path = \"./pfs_instdata-1.8.14/data/pfi/dot/black_dots_mm.csv\"\n",
    "    pfs_pfi_module_path = pathlib.Path(\"./pfs_instdata-1.8.14/data/pfi/modules/ALL/ALL_final.xml\")\n",
    "    #pfs_black_dots_path = \"./pfs_instdata-1.8.8/data/pfi/dot/black_dots_mm.csv\"\n",
    "    #pfs_pfi_module_path = pathlib.Path(\"./pfs_instdata-1.8.8/data/pfi/modules/ALL/ALL_final.xml\")\n",
    "    \n",
    "    pfs_instdata_path = \"./pfs_instdata-1.8.14/\"\n",
    "    os.environ[\"PFS_INSTDATA_DIR\"] = pfs_instdata_path\n",
    "\n",
    "\n",
    "    spectrograph_modules = [1, 2, 3, 4]\n",
    "\n",
    "    # Create the cobra coach temp directory if it does not exist\n",
    "    if not os.path.isdir(cobra_coach_dir):\n",
    "        os.makedirs(cobra_coach_dir, exist_ok=True)\n",
    "    print(f\"Created cobra coach temp directory: {cobra_coach_dir}\")\n",
    "    \n",
    "\n",
    "    if layout == \"full\":\n",
    "        '''\n",
    "        use CollisionSimulator (not CollisionSimulator2) when layout is \"full\"\n",
    "        '''\n",
    "        bench = Bench(layout=\"full\")\n",
    "        cobracoach = None\n",
    "    elif layout == \"calibration\":\n",
    "        '''\n",
    "        use the same code as in GA github repository, i.e.,\n",
    "        _create_configured_bench() https://github.com/Subaru-PFS-GA/ga_targeting/blob/master/python/pfs/ga/targeting/instrument/subarupfi.py\n",
    "        '''\n",
    "        cobracoach = CobraCoach(\"fpga\", loadModel=False, trajectoryMode=True, rootDir=cobra_coach_dir)\n",
    "        cobracoach.loadModel(version=\"ALL\", moduleVersion=None)\n",
    "        calibrationProduct = cobracoach.calibModel\n",
    "\n",
    "        # Set some dummy center positions and phi angles for those cobras that have\n",
    "        # zero centers\n",
    "        zeroCenters = calibrationProduct.centers == 0\n",
    "        calibrationProduct.centers[zeroCenters] = np.arange(np.sum(zeroCenters)) * 300j\n",
    "        calibrationProduct.phiIn[zeroCenters] = -np.pi\n",
    "        calibrationProduct.phiOut[zeroCenters] = 0\n",
    "        print(\"Cobras with zero centers: %i\" % np.sum(zeroCenters))\n",
    "\n",
    "        # Use the median value link lengths in those cobras with zero link lengths\n",
    "        zeroLinkLengths = (calibrationProduct.L1 == 0) | (calibrationProduct.L2 == 0)\n",
    "        calibrationProduct.L1[zeroLinkLengths] = np.median(calibrationProduct.L1[~zeroLinkLengths])\n",
    "        calibrationProduct.L2[zeroLinkLengths] = np.median(calibrationProduct.L2[~zeroLinkLengths])\n",
    "        print(\"Cobras with zero link lengths: %i\" % np.sum(zeroLinkLengths))\n",
    "\n",
    "        # Use the median value link lengths in those cobras with too long link lengths (extra part compared to ga setting)\n",
    "        tooLongLinkLengths = np.logical_or(\n",
    "            calibrationProduct.L1 > 100, calibrationProduct.L2 > 100\n",
    "        )\n",
    "        calibrationProduct.L1[tooLongLinkLengths] = np.median(\n",
    "            calibrationProduct.L1[~tooLongLinkLengths]\n",
    "        )\n",
    "        calibrationProduct.L2[tooLongLinkLengths] = np.median(\n",
    "            calibrationProduct.L2[~tooLongLinkLengths]\n",
    "        )\n",
    "        print(\"Cobras with too long link lengths: %i\" % np.sum(tooLongLinkLengths))\n",
    "\n",
    "        # Limit spectral modules\n",
    "        gfm = FiberIds(path=fiberids_path) \n",
    "        cobra_ids_use = np.array([], dtype=np.uint16)\n",
    "        for sm in spectrograph_modules:\n",
    "            cobra_ids_use = np.append(cobra_ids_use, gfm.cobrasForSpectrograph(sm))\n",
    "\n",
    "        # Set Bad Cobra status for unused spectral modules\n",
    "        for cobra_id in range(calibrationProduct.nCobras):\n",
    "            if cobra_id not in cobra_ids_use:\n",
    "                calibrationProduct.status[cobra_id] = ~PFIDesign.COBRA_OK_MASK\n",
    "            \n",
    "        bench = Bench(\n",
    "                layout=\"calibration\",                       \n",
    "                calibrationProduct=calibrationProduct,\n",
    "                blackDotsCalibrationProduct=BlackDotsCalibrationProduct(pfs_black_dots_path)\n",
    "                )\n",
    "        \n",
    "        print(\"Number of cobras:\", bench.cobras.nCobras)\n",
    "\n",
    "    return bench, cobracoach"
   ]
  },
  {
   "cell_type": "markdown",
   "metadata": {},
   "source": [
    "## check bench and simulator results after running"
   ]
  },
  {
   "cell_type": "code",
   "execution_count": 8,
   "metadata": {},
   "outputs": [],
   "source": [
    "def check_bench_simulator(bench, simulator, vis):\n",
    "    '''\n",
    "    check the bench for the cobras\n",
    "    '''\n",
    "    mask_broken_cobras = bench.cobras.status!=1\n",
    "    bench.cobras.status[mask_broken_cobras] #1 for good cobras\n",
    "    # print number of good cobras and broken cobras\n",
    "    print(\"Number of good cobras: %d\" % np.sum(bench.cobras.status==1))\n",
    "    print(\"Number of broken cobras: %d\" % np.sum(bench.cobras.status!=1))\n",
    "    # print number of cobras\n",
    "    print(\"Number of cobras: %d\" % bench.cobras.nCobras)\n",
    "\n",
    "    # print rMin and rMax for the broken cobras\n",
    "    print(\"broken cobras e.g.: \\n\", bench.cobras.rMin[mask_broken_cobras][:10], \"\\n\", bench.cobras.rMax[mask_broken_cobras][:10])\n",
    "    print(\"good cobras e.g.: \\n\", bench.cobras.rMin[~mask_broken_cobras][:10], \"\\n\", bench.cobras.rMax[~mask_broken_cobras][:10])\n",
    "\n",
    "    # print the number of broken cobras with rMin>rMax, rMin<rMax, rMin=rMax separately\n",
    "    print(\"Number of broken cobras with rMin>rMax: %d\" % np.sum(bench.cobras.rMin[mask_broken_cobras]>bench.cobras.rMax[mask_broken_cobras]))\n",
    "    print(\"Number of broken cobras with rMin<rMax: %d\" % np.sum(bench.cobras.rMin[mask_broken_cobras]<bench.cobras.rMax[mask_broken_cobras]))\n",
    "    print(\"Number of broken cobras with rMin=rMax: %d\" % np.sum(bench.cobras.rMin[mask_broken_cobras]==bench.cobras.rMax[mask_broken_cobras]))\n",
    "\n",
    "    # check whether home0 and home1 are the same for broken cobras\n",
    "    mask_home0 = bench.cobras.home0[mask_broken_cobras]!=bench.cobras.home1[mask_broken_cobras] #note not all cobras have home0==home1\n",
    "    print(\"Number of broken cobras with home0!=home1: %d\" % np.sum(mask_home0))\n",
    "\n",
    "    mask_broken_cobras_rMin_rMax = bench.cobras.rMin[mask_broken_cobras]<bench.cobras.rMax[mask_broken_cobras]\n",
    "\n",
    "    # check the home and position of the broken cobras \n",
    "    print(\"Home0 position of the broken cobras: \\n\", bench.cobras.home0[mask_broken_cobras][~mask_broken_cobras_rMin_rMax][:5])\n",
    "    print(\"Center position of the broken cobras: \\n\", bench.cobras.centers[mask_broken_cobras][~mask_broken_cobras_rMin_rMax][:5])\n",
    "\n",
    "    print(\"Home0 position of the rMin<rMax broken cobras: \\n\", bench.cobras.home0[mask_broken_cobras][mask_broken_cobras_rMin_rMax])\n",
    "    print(\"Center position of the rMin<rMax broken cobras: \\n\", bench.cobras.centers[mask_broken_cobras][mask_broken_cobras_rMin_rMax])\n",
    "\n",
    "    # part of the code in CollisionSimulator2()\n",
    "    cobraAssociations = bench.cobraAssociations\n",
    "    linkRadius = bench.cobras.linkRadius\n",
    "\n",
    "    startPoints1 = simulator.fiberPositions[cobraAssociations[0]].ravel()\n",
    "    endPoints1 = simulator.elbowPositions[cobraAssociations[0]].ravel()\n",
    "    startPoints2 = simulator.fiberPositions[cobraAssociations[1]].ravel()\n",
    "    endPoints2 = simulator.elbowPositions[cobraAssociations[1]].ravel()\n",
    "    distances = bench.distancesBetweenLineSegments(startPoints1, endPoints1, startPoints2, endPoints2)\n",
    "\n",
    "    # Reshape the distances array\n",
    "    distances = distances.reshape((len(cobraAssociations[0]), simulator.nSteps))\n",
    "\n",
    "    # Detect trajectory collisions between cobra associations\n",
    "    minimumSeparation = linkRadius[cobraAssociations[0]] + linkRadius[cobraAssociations[1]]\n",
    "    trajectoryCollisions = distances < minimumSeparation[:, np.newaxis]\n",
    "\n",
    "    # Check which cobra associations are affected by collisions\n",
    "    simulator.associationCollisions = np.any(trajectoryCollisions, axis=1)\n",
    "    simulator.associationEndPointCollisions = trajectoryCollisions[:, -1] #last step of nSteps\n",
    "\n",
    "\n",
    "    print(\"bad cobras: \", np.where(simulator.goodCobras == False)[0])\n",
    "    cobras_bad = np.where(simulator.goodCobras == False)[0]\n",
    "\n",
    "    print(bench.cobraAssociations[:, simulator.associationEndPointCollisions])\n",
    "\n",
    "\n",
    "    cid_assigned = []\n",
    "    for tidx, cidx in vis.items():\n",
    "        cid_assigned.append(cidx)\n",
    "    cid_assigned = np.array(cid_assigned)\n",
    "\n",
    "    # check whether cobra_associations_collision in cid_assigned\n",
    "    cobra_associations_collision = bench.cobraAssociations[:, simulator.associationCollisions]\n",
    "\n",
    "    result = np.isin(cobra_associations_collision.ravel(), cid_assigned)\n",
    "    print(result)"
   ]
  },
  {
   "cell_type": "markdown",
   "metadata": {},
   "source": [
    "# Jan25 run function"
   ]
  },
  {
   "cell_type": "code",
   "execution_count": 9,
   "metadata": {},
   "outputs": [],
   "source": [
    "from astropy.io import fits, ascii\n",
    "def read_proc_pointings_Jan25(fdir, outdir, prefix, field):\n",
    "    # read the orginal pointings\n",
    "    pointings = ascii.read(fdir + prefix + '_field-{}_pointings_v1.csv'.format(field))\n",
    "    # save the pointings[::4] to a new file\n",
    "    ascii.write(pointings[::4], outdir + 'field_{}_pointings.csv'.format(field), format='csv', overwrite=True)\n",
    "\n",
    "    return pointings[::4]"
   ]
  },
  {
   "cell_type": "markdown",
   "metadata": {},
   "source": [
    "# main function"
   ]
  },
  {
   "cell_type": "code",
   "execution_count": 10,
   "metadata": {},
   "outputs": [],
   "source": [
    "# TODO: revise the two-stage code structure\n",
    "def main(outdir, data_dir, update_tgt_file, pointings, prefix, field, Li_list, visit, fn_list, prefix_list, calibration_list, tele_params, bench, cobracoach, two_stage=False, gurobiOptions=None, collision_sim_version=2):\n",
    "    '''\n",
    "    main function to run the fiber assignment for the cosmology, star, and sky targets\n",
    "    '''\n",
    "    t0 = time.time()\n",
    "\n",
    "    ########################\n",
    "    \n",
    "    if(gurobiOptions is None):\n",
    "        gurobiOptions = dict(seed=0, presolve=1, method=4, degenmoves=0, heuristics=0.8, mipfocus=0, mipgap=5.e-2, LogToConsole=1)\n",
    "\n",
    "    ########################\n",
    "    classdict = def_classdict()\n",
    "\n",
    "    ########################    \n",
    "    tgt, sample_sci = construct_tgt_list(catalog_path=data_dir, fn_list=fn_list, prefix_list=prefix_list, calibration_list=calibration_list)\n",
    "    \n",
    "    n_sci = sample_sci.shape[0]\n",
    "    ra_sci = sample_sci[:, 1].astype('float')\n",
    "    dec_sci = sample_sci[:, 2].astype('float')\n",
    "    \n",
    "\n",
    "    # set the stage of cosmology targets to be 1 (i.e. stage=0 for calibration targets to get a uniform distribution for calibration targets)\n",
    "    # TODO: use CobraGroup to get a uniform distribution for calibration targets\n",
    "    for t in tgt:\n",
    "        if t.targetclass[:3] == 'sci': t.stage = 1\n",
    "\n",
    "    t1 = time.time()\n",
    "    print(\"Time passed - construct target list: %.2f secs\" % (t1-t0))\n",
    "    ########################\n",
    "    # read the pointing centers from the file\n",
    "    ra_peaks, dec_peaks = pointings['ppc_ra'], pointings['ppc_dec']\n",
    "    peaks = np.array([ra_peaks, dec_peaks]).T\n",
    "    npoint = peaks.shape[0]\n",
    "    print(\"There are %d pointings.\" % npoint)\n",
    "    \n",
    "    # plot the pointing and samples\n",
    "    plt.figure(figsize=(6, 6))\n",
    "    print(\"  Your sample (gray), with the pointings (red):\")\n",
    "    plt.plot(ra_sci, dec_sci, 'k.', ms=0.2, alpha=0.5)\n",
    "\n",
    "    for raP, decP in zip(peaks[:, 0], peaks[:, 1]):\n",
    "        flag_fov_reserved = plot_filter_fov(raP, decP, ra_sci, dec_sci, PA=0, n_sci_fov_least=4000, filter_fov=True)\n",
    "\n",
    "    plt.xlabel('RA', fontsize=20)\n",
    "    plt.ylabel('DEC', fontsize=20)\n",
    "    plt.savefig(outdir + prefix + 'field_{}_fov_plot.png'.format(field), dpi=300, bbox_inches='tight')\n",
    "    plt.show()\n",
    "    plt.close()\n",
    "\n",
    "    t2 = time.time()\n",
    "    print(\"Time passed - read pointings and plot for a small region: %.2f secs\" % (t2-t1))\n",
    "    \n",
    "    # initialize the alreadyObserved dictionary\n",
    "    alreadyObserved={}\n",
    "    for t in tgt:\n",
    "        alreadyObserved[t.ID] = 0\n",
    "        \n",
    "    # set the alreadyObserved dictionary using the alreadyObserved column in the target list (needed for the 2nd visit for sure)\n",
    "    data_table = ascii.read(data_dir + prefix + 'field_{}_targets.ecsv'.format(field))\n",
    "    mask_done = data_table['AlreadyObserved'] == 1\n",
    "    for t in data_table['ID'][mask_done]:\n",
    "        alreadyObserved[t] = 1\n",
    "\n",
    "    # do the run\n",
    "    fov_diag = 1.38/2. # >=half of the diameter of the FoV\n",
    "    outfn_list = []\n",
    "    tgt_id_done_list = np.array([])\n",
    "    for peak, Li in zip(peaks, Li_list):\n",
    "        # select the tgt list for the pointing\n",
    "        tgt_ra = [tgt[i].ra for i in range(len(tgt))]\n",
    "        tgt_dec = [tgt[i].dec for i in range(len(tgt))]\n",
    "        # TO-DO: deal with the case when the ra is near 0 and 360\n",
    "        mask_tgt = (tgt_ra>peak[0]-fov_diag) & (tgt_ra<peak[0]+fov_diag) & (tgt_dec>peak[1]-fov_diag) & (tgt_dec<peak[1]+fov_diag)\n",
    "        tgt_peak = np.array(tgt)[mask_tgt].tolist()\n",
    "        print(\"field - %s, %s (%f, %f): %d targets in the FoV.\" % (field, Li, peak[0], peak[1], len(tgt_peak)))\n",
    "\n",
    "        # (Done) TODO: update the alreadyObserved dictionary\n",
    "        # TODO: rewrite the write_output and cal_completeness part\n",
    "\n",
    "        # excute the fiber assignment\n",
    "        res, tpos, telescopes = execute(np.array([peak]), tgt_peak, classdict, alreadyObserved, t_obs=1800., two_stage=two_stage, collision_sim_version=collision_sim_version, bench=bench, cobracoach=cobracoach, gurobiOptions=gurobiOptions, tele_params=tele_params)\n",
    "\n",
    "        outfn = prefix + 'field_%s_%s_visit%d.txt'%(field, Li, visit)\n",
    "        write_output(tgt_peak, res, tpos, telescopes, outdir, outfn)\n",
    "\n",
    "        outfn_list.append(outdir + outfn)\n",
    "        \n",
    "        # calculate the completeness and fiber assignment fraction\n",
    "        comp_out_tmp1 = cal_completeness(tgt_peak, res, tpos, telescopes, Plot=True, fn_fig=outdir+prefix+'field_%s_%s_visit%d.jpg'%(field, Li, visit), \\\n",
    "                                        Save=True, fn_fibeff=outdir+prefix+'field_%s_%s_visit%d_fibeff.txt'%(field, Li, visit))\n",
    "        \n",
    "        # output the completeness and fiber assignment fraction\n",
    "        data_dict = {key: [value] for key, value in comp_out_tmp1.items()}\n",
    "        df = pd.DataFrame(data_dict)\n",
    "        df.to_csv(outdir + prefix + 'field_%s_%s_visit%d_comp.txt'%(field, Li, visit), index=False)\n",
    "        print(\"comp_out_tmp1 = \", comp_out_tmp1)\n",
    "\n",
    "        # update alreadyObserved\n",
    "        # TODO: revise the code for a more general case\n",
    "        tgt_id_done = np.loadtxt(outdir + outfn, usecols=(0, ), unpack=True, dtype='str')\n",
    "        for t in tgt_id_done:\n",
    "            if(t[1:4]=='Cos'): alreadyObserved[str(t)] = 1\n",
    "\n",
    "        tgt_id_done_list = np.append(tgt_id_done_list, tgt_id_done)\n",
    "\n",
    "        print(\"%f secs passed after the visits done for field_%s_%s_visit%d.\" % (time.time()-t0, field, Li, visit))\n",
    "        \n",
    "        plot_tgt_done([outdir+outfn], outdir+'tgt_done_field_%s_%s_visit%d.jpg'%(field, Li, visit), figsize=(6, 6))\n",
    "\n",
    "        # update the AlreadyObserved column in the target list\n",
    "        # TODO: do it in a more efficient way\n",
    "        if (update_tgt_file):\n",
    "            mask_done = np.in1d(data_table['ID'], np.array(tgt_id_done))\n",
    "            data_table['AlreadyObserved'][mask_done] = 1 \n",
    "            data_table.write(data_dir + prefix + 'field_{}_targets.ecsv'.format(field), format='ascii.ecsv', overwrite=True)\n",
    "            print('Update the AlreadyObserved column in ', data_dir + prefix + 'field_{}_targets.ecsv'.format(field))\n"
   ]
  },
  {
   "cell_type": "markdown",
   "metadata": {},
   "source": [
    "# run"
   ]
  },
  {
   "cell_type": "code",
   "execution_count": 11,
   "metadata": {},
   "outputs": [
    {
     "name": "stdout",
     "output_type": "stream",
     "text": [
      "Created cobra coach temp directory: ./cobra_coach_temp/\n"
     ]
    },
    {
     "name": "stderr",
     "output_type": "stream",
     "text": [
      "2025-01-17 22:55:35.850Z cobraCoach       30 cobraCoach.py:164 setting invisible cobras: [173, 648, 799, 853, 949, 1173, 1653, 1724, 2182]\n",
      "2025-01-17 22:55:35.927Z cobraCoach       30 cobraCoach.py:175 setting bad cobras: [47, 50, 173, 193, 347, 361, 648, 754, 799, 821, 853, 949, 1150, 1173, 1208, 1210, 1520, 1580, 1653, 1724, 1791, 1825, 1836, 1882, 1903, 2053, 2182, 2352, 2380]\n",
      "2025-01-17 22:55:35.939Z cobraCoach       20 cobraCoach.py:273 cc connecting to fpga....\n",
      "2025-01-17 22:55:35.942Z butler           30 butler.py:59 newRun: cobra_coach_temp/20250117_024\n"
     ]
    },
    {
     "name": "stdout",
     "output_type": "stream",
     "text": [
      "Cobras with zero centers: 0\n",
      "Cobras with zero link lengths: 0\n",
      "Cobras with too long link lengths: 0\n",
      "Number of cobras: 2394\n"
     ]
    }
   ],
   "source": [
    "bench, cobracoach = create_bench(layout=\"calibration\")\n"
   ]
  },
  {
   "cell_type": "code",
   "execution_count": 14,
   "metadata": {},
   "outputs": [
    {
     "name": "stdout",
     "output_type": "stream",
     "text": [
      "       ppc_code       ppc_ra ppc_dec ppc_pa ppc_resolution ppc_priority\n",
      "--------------------- ------ ------- ------ -------------- ------------\n",
      "pointing_fldb_L1_exp0   38.8     0.1      0              L          0.0\n",
      "pointing_fldb_L2_exp0   37.5    -0.3      0              L          0.1\n",
      "pointing_fldb_L3_exp0   38.1     1.3      0              L          0.2\n",
      "construct target list:\n",
      "../data_proc/Jan25/field_b_targets.ecsv\n",
      "../data_proc/Jan25/star_field_b_targets.ecsv\n",
      "../data_proc/Jan25/sky_field_b_targets.ecsv\n",
      "In total, there are 531484 targets.\n",
      "Time passed - construct target list: 13.42 secs\n",
      "There are 3 pointings.\n",
      "  Your sample (gray), with the pointings (red):\n"
     ]
    },
    {
     "data": {
      "image/png": "[encoded data removed]",
      "text/plain": [
       "<Figure size 600x600 with 1 Axes>"
      ]
     },
     "metadata": {},
     "output_type": "display_data"
    },
    {
     "name": "stdout",
     "output_type": "stream",
     "text": [
      "Time passed - read pointings and plot for a small region: 1.74 secs\n",
      "field - b, L2 (38.800000, 0.100000): 91031 targets in the FoV.\n"
     ]
    },
    {
     "name": "stderr",
     "output_type": "stream",
     "text": [
      "2025-01-18 00:24:30.787Z root             10 CoordTransp.py:306 0.0\n",
      "2025-01-18 00:24:30.792Z root             20 DistortionCoefficients.py:688 2016.0\n",
      "2025-01-18 00:24:30.794Z root             10 DistortionCoefficients.py:690 9.062970568104038 yr\n",
      "2025-01-18 00:24:30.796Z root             10 DistortionCoefficients.py:701 1e-08 mas\n",
      "/Users/jing/anaconda3/lib/python3.10/site-packages/erfa/core.py:154: ErfaWarning: ERFA function \"pmsafe\" yielded 1 of \"distance overridden (Note 6)\"\n",
      "  warnings.warn('ERFA function \"{}\" yielded {}'.format(func_name, wmsg),\n",
      "2025-01-18 00:24:30.962Z root             20 DistortionCoefficients.py:709 Ra Dec = (38.8 0.1) : original\n",
      "2025-01-18 00:24:30.969Z root             20 DistortionCoefficients.py:711 PM = (0.0 mas / yr 0.0 mas / yr)\n",
      "2025-01-18 00:24:30.971Z root             20 DistortionCoefficients.py:713 Ra Dec = (38.79999999999999 0.10000000000000003) : applied proper motion\n",
      "2025-01-18 00:24:30.973Z root             20 DistortionCoefficients.py:715 Ra Dec = (39.12134383978013 0.20848459441114087) : applied presession\n",
      "2025-01-18 00:24:31.056Z root             20 CoordTransp.py:312 FoV center: Ra,Dec=([38.8] [0.1]) is Az,El,InR=(224.47090965019467 63.47413157735349 41.22681761562498)\n",
      "/Users/jing/anaconda3/lib/python3.10/site-packages/erfa/core.py:154: ErfaWarning: ERFA function \"pmsafe\" yielded 91031 of \"distance overridden (Note 6)\"\n",
      "  warnings.warn('ERFA function \"{}\" yielded {}'.format(func_name, wmsg),\n",
      "2025-01-18 00:24:31.535Z root             20 CoordTransp.py:84 Zenith angle for your field should be 26.52586842264651\n",
      "2025-01-18 00:24:31.597Z root             20 CoordTransp.py:163 Correct extra distortion @ tel -- skipped\n",
      "2025-01-18 00:24:31.598Z root             20 CoordTransp.py:164 Before: x= [-176.02976092 -223.3523511  -225.50691772 -204.63717538 -199.97644613\n",
      " -192.52957604 -199.32555467 -219.13832971 -184.45695119 -208.67559625\n",
      " -212.39862943], y=[ 50.22106062  96.24493054  56.99273202  49.22431682 116.18795229\n",
      "  47.74810045  63.00191132  44.86901596 121.65598973  67.73222872\n",
      "  56.5998867 ]\n",
      "2025-01-18 00:24:31.606Z root             20 CoordTransp.py:167 correct by -1.0\n",
      "2025-01-18 00:24:31.608Z root             20 CoordTransp.py:170 After: x= [-176.03672264 -223.34688211 -225.50573903 -204.64095764 -199.97266888\n",
      " -192.53519379 -199.32896822 -219.1396433  -184.45452473 -208.67698698\n",
      " -212.40039897], y=[ 50.21017948  96.22611184  56.97659311  49.21060161 116.17155391\n",
      "  47.73559001  62.9883264   44.85416988 121.64209699  67.71735486\n",
      "  56.58510755]\n",
      "2025-01-18 00:24:31.610Z root             20 CoordTransp.py:173 Telescope to PFI\n"
     ]
    },
    {
     "name": "stdout",
     "output_type": "stream",
     "text": [
      "solving the problem for stage=0 targets.\n",
      "Set parameter Presolve to value 1\n"
     ]
    },
    {
     "name": "stderr",
     "output_type": "stream",
     "text": [
      "2025-01-18 00:24:31.627Z gurobipy         20 netflow.py:117 Set parameter Presolve to value 1\n"
     ]
    },
    {
     "name": "stdout",
     "output_type": "stream",
     "text": [
      "Set parameter Method to value 4\n"
     ]
    },
    {
     "name": "stderr",
     "output_type": "stream",
     "text": [
      "2025-01-18 00:24:31.631Z gurobipy         20 netflow.py:117 Set parameter Method to value 4\n"
     ]
    },
    {
     "name": "stdout",
     "output_type": "stream",
     "text": [
      "Set parameter DegenMoves to value 0\n"
     ]
    },
    {
     "name": "stderr",
     "output_type": "stream",
     "text": [
      "2025-01-18 00:24:31.644Z gurobipy         20 netflow.py:117 Set parameter DegenMoves to value 0\n"
     ]
    },
    {
     "name": "stdout",
     "output_type": "stream",
     "text": [
      "Set parameter Heuristics to value 0.8\n"
     ]
    },
    {
     "name": "stderr",
     "output_type": "stream",
     "text": [
      "2025-01-18 00:24:31.647Z gurobipy         20 netflow.py:117 Set parameter Heuristics to value 0.8\n"
     ]
    },
    {
     "name": "stdout",
     "output_type": "stream",
     "text": [
      "Set parameter MIPGap to value 0.05\n"
     ]
    },
    {
     "name": "stderr",
     "output_type": "stream",
     "text": [
      "2025-01-18 00:24:31.650Z gurobipy         20 netflow.py:117 Set parameter MIPGap to value 0.05\n"
     ]
    },
    {
     "name": "stdout",
     "output_type": "stream",
     "text": [
      "Creating network topology\n",
      "  exposure 1\n",
      "Calculating visibilities\n",
      "adding constraints\n",
      "adding collision constraints\n",
      "adding forbidden pair constraints\n",
      "Gurobi Optimizer version 10.0.1 build v10.0.1rc0 (mac64[x86])\n"
     ]
    },
    {
     "name": "stderr",
     "output_type": "stream",
     "text": [
      "2025-01-18 00:24:44.014Z gurobipy         20 netflow.py:149 Gurobi Optimizer version 10.0.1 build v10.0.1rc0 (mac64[x86])\n"
     ]
    },
    {
     "name": "stdout",
     "output_type": "stream",
     "text": [
      "\n"
     ]
    },
    {
     "name": "stderr",
     "output_type": "stream",
     "text": [
      "2025-01-18 00:24:44.016Z gurobipy         20 netflow.py:149 \n"
     ]
    },
    {
     "name": "stdout",
     "output_type": "stream",
     "text": [
      "CPU model: Intel(R) Core(TM) i7-8569U CPU @ 2.80GHz\n"
     ]
    },
    {
     "name": "stderr",
     "output_type": "stream",
     "text": [
      "2025-01-18 00:24:44.017Z gurobipy         20 netflow.py:149 CPU model: Intel(R) Core(TM) i7-8569U CPU @ 2.80GHz\n"
     ]
    },
    {
     "name": "stdout",
     "output_type": "stream",
     "text": [
      "Thread count: 4 physical cores, 8 logical processors, using up to 8 threads\n"
     ]
    },
    {
     "name": "stderr",
     "output_type": "stream",
     "text": [
      "2025-01-18 00:24:44.019Z gurobipy         20 netflow.py:149 Thread count: 4 physical cores, 8 logical processors, using up to 8 threads\n"
     ]
    },
    {
     "name": "stdout",
     "output_type": "stream",
     "text": [
      "\n"
     ]
    },
    {
     "name": "stderr",
     "output_type": "stream",
     "text": [
      "2025-01-18 00:24:44.020Z gurobipy         20 netflow.py:149 \n"
     ]
    },
    {
     "name": "stdout",
     "output_type": "stream",
     "text": [
      "Academic license 2379863 - for non-commercial use only - registered to ji___@ipmu.jp\n"
     ]
    },
    {
     "name": "stderr",
     "output_type": "stream",
     "text": [
      "2025-01-18 00:24:44.025Z gurobipy         20 netflow.py:149 Academic license 2379863 - for non-commercial use only - registered to ji___@ipmu.jp\n"
     ]
    },
    {
     "name": "stdout",
     "output_type": "stream",
     "text": [
      "Optimize a model with 166602 rows, 82049 columns and 427478 nonzeros\n"
     ]
    },
    {
     "name": "stderr",
     "output_type": "stream",
     "text": [
      "2025-01-18 00:24:44.027Z gurobipy         20 netflow.py:149 Optimize a model with 166602 rows, 82049 columns and 427478 nonzeros\n"
     ]
    },
    {
     "name": "stdout",
     "output_type": "stream",
     "text": [
      "Model fingerprint: 0x7706eb85\n"
     ]
    },
    {
     "name": "stderr",
     "output_type": "stream",
     "text": [
      "2025-01-18 00:24:44.032Z gurobipy         20 netflow.py:149 Model fingerprint: 0x7706eb85\n"
     ]
    },
    {
     "name": "stdout",
     "output_type": "stream",
     "text": [
      "Variable types: 1 continuous, 82048 integer (82046 binary)\n"
     ]
    },
    {
     "name": "stderr",
     "output_type": "stream",
     "text": [
      "2025-01-18 00:24:44.033Z gurobipy         20 netflow.py:149 Variable types: 1 continuous, 82048 integer (82046 binary)\n"
     ]
    },
    {
     "name": "stdout",
     "output_type": "stream",
     "text": [
      "Coefficient statistics:\n"
     ]
    },
    {
     "name": "stderr",
     "output_type": "stream",
     "text": [
      "2025-01-18 00:24:44.037Z gurobipy         20 netflow.py:149 Coefficient statistics:\n"
     ]
    },
    {
     "name": "stdout",
     "output_type": "stream",
     "text": [
      "  Matrix range     [1e+00, 1e+00]\n"
     ]
    },
    {
     "name": "stderr",
     "output_type": "stream",
     "text": [
      "2025-01-18 00:24:44.039Z gurobipy         20 netflow.py:149   Matrix range     [1e+00, 1e+00]\n"
     ]
    },
    {
     "name": "stdout",
     "output_type": "stream",
     "text": [
      "  Objective range  [2e-04, 1e+06]\n"
     ]
    },
    {
     "name": "stderr",
     "output_type": "stream",
     "text": [
      "2025-01-18 00:24:44.041Z gurobipy         20 netflow.py:149   Objective range  [2e-04, 1e+06]\n"
     ]
    },
    {
     "name": "stdout",
     "output_type": "stream",
     "text": [
      "  Bounds range     [1e+00, 1e+00]\n"
     ]
    },
    {
     "name": "stderr",
     "output_type": "stream",
     "text": [
      "2025-01-18 00:24:44.042Z gurobipy         20 netflow.py:149   Bounds range     [1e+00, 1e+00]\n"
     ]
    },
    {
     "name": "stdout",
     "output_type": "stream",
     "text": [
      "  RHS range        [1e+00, 4e+02]\n"
     ]
    },
    {
     "name": "stderr",
     "output_type": "stream",
     "text": [
      "2025-01-18 00:24:44.045Z gurobipy         20 netflow.py:149   RHS range        [1e+00, 4e+02]\n"
     ]
    },
    {
     "name": "stdout",
     "output_type": "stream",
     "text": [
      "Found heuristic solution: objective 6.000000e+08\n"
     ]
    },
    {
     "name": "stderr",
     "output_type": "stream",
     "text": [
      "2025-01-18 00:24:44.077Z gurobipy         20 netflow.py:149 Found heuristic solution: objective 6.000000e+08\n"
     ]
    },
    {
     "name": "stdout",
     "output_type": "stream",
     "text": [
      "Presolve removed 166130 rows and 79313 columns\n"
     ]
    },
    {
     "name": "stderr",
     "output_type": "stream",
     "text": [
      "2025-01-18 00:24:44.853Z gurobipy         20 netflow.py:149 Presolve removed 166130 rows and 79313 columns\n"
     ]
    },
    {
     "name": "stdout",
     "output_type": "stream",
     "text": [
      "Presolve time: 0.75s\n"
     ]
    },
    {
     "name": "stderr",
     "output_type": "stream",
     "text": [
      "2025-01-18 00:24:44.855Z gurobipy         20 netflow.py:149 Presolve time: 0.75s\n"
     ]
    },
    {
     "name": "stdout",
     "output_type": "stream",
     "text": [
      "Presolved: 472 rows, 2736 columns, 3685 nonzeros\n"
     ]
    },
    {
     "name": "stderr",
     "output_type": "stream",
     "text": [
      "2025-01-18 00:24:44.862Z gurobipy         20 netflow.py:149 Presolved: 472 rows, 2736 columns, 3685 nonzeros\n"
     ]
    },
    {
     "name": "stdout",
     "output_type": "stream",
     "text": [
      "Found heuristic solution: objective 5.940000e+08\n"
     ]
    },
    {
     "name": "stderr",
     "output_type": "stream",
     "text": [
      "2025-01-18 00:24:44.872Z gurobipy         20 netflow.py:149 Found heuristic solution: objective 5.940000e+08\n"
     ]
    },
    {
     "name": "stdout",
     "output_type": "stream",
     "text": [
      "Variable types: 0 continuous, 2736 integer (2734 binary)\n"
     ]
    },
    {
     "name": "stderr",
     "output_type": "stream",
     "text": [
      "2025-01-18 00:24:44.875Z gurobipy         20 netflow.py:149 Variable types: 0 continuous, 2736 integer (2734 binary)\n"
     ]
    },
    {
     "name": "stdout",
     "output_type": "stream",
     "text": [
      "Found heuristic solution: objective 5.920000e+08\n"
     ]
    },
    {
     "name": "stderr",
     "output_type": "stream",
     "text": [
      "2025-01-18 00:24:44.878Z gurobipy         20 netflow.py:149 Found heuristic solution: objective 5.920000e+08\n"
     ]
    },
    {
     "name": "stdout",
     "output_type": "stream",
     "text": [
      "Deterministic concurrent LP optimizer: dual simplex and barrier\n"
     ]
    },
    {
     "name": "stderr",
     "output_type": "stream",
     "text": [
      "2025-01-18 00:24:44.882Z gurobipy         20 netflow.py:149 Deterministic concurrent LP optimizer: dual simplex and barrier\n"
     ]
    },
    {
     "name": "stdout",
     "output_type": "stream",
     "text": [
      "Showing barrier log only...\n"
     ]
    },
    {
     "name": "stderr",
     "output_type": "stream",
     "text": [
      "2025-01-18 00:24:44.884Z gurobipy         20 netflow.py:149 Showing barrier log only...\n"
     ]
    },
    {
     "name": "stdout",
     "output_type": "stream",
     "text": [
      "\n"
     ]
    },
    {
     "name": "stderr",
     "output_type": "stream",
     "text": [
      "2025-01-18 00:24:44.886Z gurobipy         20 netflow.py:149 \n"
     ]
    },
    {
     "name": "stdout",
     "output_type": "stream",
     "text": [
      "Root barrier log...\n"
     ]
    },
    {
     "name": "stderr",
     "output_type": "stream",
     "text": [
      "2025-01-18 00:24:44.893Z gurobipy         20 netflow.py:149 Root barrier log...\n"
     ]
    },
    {
     "name": "stdout",
     "output_type": "stream",
     "text": [
      "\n"
     ]
    },
    {
     "name": "stderr",
     "output_type": "stream",
     "text": [
      "2025-01-18 00:24:44.895Z gurobipy         20 netflow.py:149 \n"
     ]
    },
    {
     "name": "stdout",
     "output_type": "stream",
     "text": [
      "Ordering time: 0.00s\n"
     ]
    },
    {
     "name": "stderr",
     "output_type": "stream",
     "text": [
      "2025-01-18 00:24:44.897Z gurobipy         20 netflow.py:149 Ordering time: 0.00s\n"
     ]
    },
    {
     "name": "stdout",
     "output_type": "stream",
     "text": [
      "\n"
     ]
    },
    {
     "name": "stderr",
     "output_type": "stream",
     "text": [
      "2025-01-18 00:24:44.899Z gurobipy         20 netflow.py:149 \n"
     ]
    },
    {
     "name": "stdout",
     "output_type": "stream",
     "text": [
      "Barrier statistics:\n"
     ]
    },
    {
     "name": "stderr",
     "output_type": "stream",
     "text": [
      "2025-01-18 00:24:44.900Z gurobipy         20 netflow.py:149 Barrier statistics:\n"
     ]
    },
    {
     "name": "stdout",
     "output_type": "stream",
     "text": [
      " AA' NZ     : 1.003e+03\n"
     ]
    },
    {
     "name": "stderr",
     "output_type": "stream",
     "text": [
      "2025-01-18 00:24:44.902Z gurobipy         20 netflow.py:149  AA' NZ     : 1.003e+03\n"
     ]
    },
    {
     "name": "stdout",
     "output_type": "stream",
     "text": [
      " Factor NZ  : 2.079e+03 (roughly 1 MB of memory)\n"
     ]
    },
    {
     "name": "stderr",
     "output_type": "stream",
     "text": [
      "2025-01-18 00:24:44.903Z gurobipy         20 netflow.py:149  Factor NZ  : 2.079e+03 (roughly 1 MB of memory)\n"
     ]
    },
    {
     "name": "stdout",
     "output_type": "stream",
     "text": [
      " Factor Ops : 1.656e+04 (less than 1 second per iteration)\n"
     ]
    },
    {
     "name": "stderr",
     "output_type": "stream",
     "text": [
      "2025-01-18 00:24:44.905Z gurobipy         20 netflow.py:149  Factor Ops : 1.656e+04 (less than 1 second per iteration)\n"
     ]
    },
    {
     "name": "stdout",
     "output_type": "stream",
     "text": [
      " Threads    : 1\n"
     ]
    },
    {
     "name": "stderr",
     "output_type": "stream",
     "text": [
      "2025-01-18 00:24:44.907Z gurobipy         20 netflow.py:149  Threads    : 1\n"
     ]
    },
    {
     "name": "stdout",
     "output_type": "stream",
     "text": [
      "\n"
     ]
    },
    {
     "name": "stderr",
     "output_type": "stream",
     "text": [
      "2025-01-18 00:24:44.910Z gurobipy         20 netflow.py:149 \n"
     ]
    },
    {
     "name": "stdout",
     "output_type": "stream",
     "text": [
      "                  Objective                Residual\n"
     ]
    },
    {
     "name": "stderr",
     "output_type": "stream",
     "text": [
      "2025-01-18 00:24:44.912Z gurobipy         20 netflow.py:149                   Objective                Residual\n"
     ]
    },
    {
     "name": "stdout",
     "output_type": "stream",
     "text": [
      "Iter       Primal          Dual         Primal    Dual     Compl     Time\n"
     ]
    },
    {
     "name": "stderr",
     "output_type": "stream",
     "text": [
      "2025-01-18 00:24:44.913Z gurobipy         20 netflow.py:149 Iter       Primal          Dual         Primal    Dual     Compl     Time\n"
     ]
    },
    {
     "name": "stdout",
     "output_type": "stream",
     "text": [
      "   0   3.60688615e+08 -2.82838007e+09  1.61e+01 5.00e+04  3.13e+07     1s\n"
     ]
    },
    {
     "name": "stderr",
     "output_type": "stream",
     "text": [
      "2025-01-18 00:24:44.915Z gurobipy         20 netflow.py:149    0   3.60688615e+08 -2.82838007e+09  1.61e+01 5.00e+04  3.13e+07     1s\n"
     ]
    },
    {
     "name": "stdout",
     "output_type": "stream",
     "text": [
      "\n"
     ]
    },
    {
     "name": "stderr",
     "output_type": "stream",
     "text": [
      "2025-01-18 00:24:44.917Z gurobipy         20 netflow.py:149 \n"
     ]
    },
    {
     "name": "stdout",
     "output_type": "stream",
     "text": [
      "Barrier performed 0 iterations in 0.90 seconds (0.40 work units)\n"
     ]
    },
    {
     "name": "stderr",
     "output_type": "stream",
     "text": [
      "2025-01-18 00:24:44.918Z gurobipy         20 netflow.py:149 Barrier performed 0 iterations in 0.90 seconds (0.40 work units)\n"
     ]
    },
    {
     "name": "stdout",
     "output_type": "stream",
     "text": [
      "Barrier solve interrupted - model solved by another algorithm\n"
     ]
    },
    {
     "name": "stderr",
     "output_type": "stream",
     "text": [
      "2025-01-18 00:24:44.920Z gurobipy         20 netflow.py:149 Barrier solve interrupted - model solved by another algorithm\n"
     ]
    },
    {
     "name": "stdout",
     "output_type": "stream",
     "text": [
      "\n"
     ]
    },
    {
     "name": "stderr",
     "output_type": "stream",
     "text": [
      "2025-01-18 00:24:44.922Z gurobipy         20 netflow.py:149 \n"
     ]
    },
    {
     "name": "stdout",
     "output_type": "stream",
     "text": [
      "Concurrent spin time: 0.03s\n"
     ]
    },
    {
     "name": "stderr",
     "output_type": "stream",
     "text": [
      "2025-01-18 00:24:44.924Z gurobipy         20 netflow.py:149 Concurrent spin time: 0.03s\n"
     ]
    },
    {
     "name": "stdout",
     "output_type": "stream",
     "text": [
      "\n"
     ]
    },
    {
     "name": "stderr",
     "output_type": "stream",
     "text": [
      "2025-01-18 00:24:44.926Z gurobipy         20 netflow.py:149 \n"
     ]
    },
    {
     "name": "stdout",
     "output_type": "stream",
     "text": [
      "Solved with dual simplex\n"
     ]
    },
    {
     "name": "stderr",
     "output_type": "stream",
     "text": [
      "2025-01-18 00:24:44.927Z gurobipy         20 netflow.py:149 Solved with dual simplex\n"
     ]
    },
    {
     "name": "stdout",
     "output_type": "stream",
     "text": [
      "\n"
     ]
    },
    {
     "name": "stderr",
     "output_type": "stream",
     "text": [
      "2025-01-18 00:24:44.930Z gurobipy         20 netflow.py:149 \n"
     ]
    },
    {
     "name": "stdout",
     "output_type": "stream",
     "text": [
      "Root relaxation: objective 1.067982e+01, 47 iterations, 0.05 seconds (0.00 work units)\n"
     ]
    },
    {
     "name": "stderr",
     "output_type": "stream",
     "text": [
      "2025-01-18 00:24:44.931Z gurobipy         20 netflow.py:149 Root relaxation: objective 1.067982e+01, 47 iterations, 0.05 seconds (0.00 work units)\n"
     ]
    },
    {
     "name": "stdout",
     "output_type": "stream",
     "text": [
      "\n"
     ]
    },
    {
     "name": "stderr",
     "output_type": "stream",
     "text": [
      "2025-01-18 00:24:44.939Z gurobipy         20 netflow.py:149 \n"
     ]
    },
    {
     "name": "stdout",
     "output_type": "stream",
     "text": [
      "    Nodes    |    Current Node    |     Objective Bounds      |     Work\n"
     ]
    },
    {
     "name": "stderr",
     "output_type": "stream",
     "text": [
      "2025-01-18 00:24:44.941Z gurobipy         20 netflow.py:149     Nodes    |    Current Node    |     Objective Bounds      |     Work\n"
     ]
    },
    {
     "name": "stdout",
     "output_type": "stream",
     "text": [
      " Expl Unexpl |  Obj  Depth IntInf | Incumbent    BestBd   Gap | It/Node Time\n"
     ]
    },
    {
     "name": "stderr",
     "output_type": "stream",
     "text": [
      "2025-01-18 00:24:44.944Z gurobipy         20 netflow.py:149  Expl Unexpl |  Obj  Depth IntInf | Incumbent    BestBd   Gap | It/Node Time\n"
     ]
    },
    {
     "name": "stdout",
     "output_type": "stream",
     "text": [
      "\n"
     ]
    },
    {
     "name": "stderr",
     "output_type": "stream",
     "text": [
      "2025-01-18 00:24:44.946Z gurobipy         20 netflow.py:149 \n"
     ]
    },
    {
     "name": "stdout",
     "output_type": "stream",
     "text": [
      "*    0     0               0      10.6798244   10.67982  0.00%     -    0s\n"
     ]
    },
    {
     "name": "stderr",
     "output_type": "stream",
     "text": [
      "2025-01-18 00:24:44.948Z gurobipy         20 netflow.py:149 *    0     0               0      10.6798244   10.67982  0.00%     -    0s\n"
     ]
    },
    {
     "name": "stdout",
     "output_type": "stream",
     "text": [
      "\n"
     ]
    },
    {
     "name": "stderr",
     "output_type": "stream",
     "text": [
      "2025-01-18 00:24:44.967Z gurobipy         20 netflow.py:149 \n"
     ]
    },
    {
     "name": "stdout",
     "output_type": "stream",
     "text": [
      "Explored 1 nodes (47 simplex iterations) in 0.95 seconds (0.40 work units)\n"
     ]
    },
    {
     "name": "stderr",
     "output_type": "stream",
     "text": [
      "2025-01-18 00:24:44.969Z gurobipy         20 netflow.py:149 Explored 1 nodes (47 simplex iterations) in 0.95 seconds (0.40 work units)\n"
     ]
    },
    {
     "name": "stdout",
     "output_type": "stream",
     "text": [
      "Thread count was 8 (of 8 available processors)\n"
     ]
    },
    {
     "name": "stderr",
     "output_type": "stream",
     "text": [
      "2025-01-18 00:24:44.971Z gurobipy         20 netflow.py:149 Thread count was 8 (of 8 available processors)\n"
     ]
    },
    {
     "name": "stdout",
     "output_type": "stream",
     "text": [
      "\n"
     ]
    },
    {
     "name": "stderr",
     "output_type": "stream",
     "text": [
      "2025-01-18 00:24:44.974Z gurobipy         20 netflow.py:149 \n"
     ]
    },
    {
     "name": "stdout",
     "output_type": "stream",
     "text": [
      "Solution count 4: 10.6798 5.92e+08 5.94e+08 6e+08 \n"
     ]
    },
    {
     "name": "stderr",
     "output_type": "stream",
     "text": [
      "2025-01-18 00:24:44.978Z gurobipy         20 netflow.py:149 Solution count 4: 10.6798 5.92e+08 5.94e+08 6e+08 \n"
     ]
    },
    {
     "name": "stdout",
     "output_type": "stream",
     "text": [
      "\n"
     ]
    },
    {
     "name": "stderr",
     "output_type": "stream",
     "text": [
      "2025-01-18 00:24:44.980Z gurobipy         20 netflow.py:149 \n"
     ]
    },
    {
     "name": "stdout",
     "output_type": "stream",
     "text": [
      "Optimal solution found (tolerance 5.00e-02)\n"
     ]
    },
    {
     "name": "stderr",
     "output_type": "stream",
     "text": [
      "2025-01-18 00:24:44.982Z gurobipy         20 netflow.py:149 Optimal solution found (tolerance 5.00e-02)\n"
     ]
    },
    {
     "name": "stdout",
     "output_type": "stream",
     "text": [
      "Best objective 1.067982444240e+01, best bound 1.067982444240e+01, gap 0.0000%\n"
     ]
    },
    {
     "name": "stderr",
     "output_type": "stream",
     "text": [
      "2025-01-18 00:24:44.988Z gurobipy         20 netflow.py:149 Best objective 1.067982444240e+01, best bound 1.067982444240e+01, gap 0.0000%\n"
     ]
    },
    {
     "name": "stdout",
     "output_type": "stream",
     "text": [
      "Checking for trajectory collisions\n"
     ]
    },
    {
     "name": "stderr",
     "output_type": "stream",
     "text": [
      "2025-01-18 00:24:45.204Z pfi              40 pfi.py:896 Some theta angles are out of range\n",
      "2025-01-18 00:24:45.206Z pfi              40 pfi.py:899 Some phi angles are out of range\n",
      "2025-01-18 00:24:45.327Z pfi              40 pfi.py:899 Some phi angles are out of range\n",
      "2025-01-18 00:24:45.365Z pfi              40 pfi.py:899 Some phi angles are out of range\n",
      "2025-01-18 00:24:45.368Z engineer         20 engineer.py:395 Move theta arms to angle=[360.   206.35 360.   ... 360.   360.   360.  ] degree\n",
      "2025-01-18 00:24:45.369Z engineer         20 engineer.py:396 Move phi arms to angle=[11.09 25.92 13.06 ...  8.43 11.99  9.16] degree\n",
      "2025-01-18 00:24:45.369Z engineer         20 engineer.py:398 Checking passed homed argument = True\n",
      "2025-01-18 00:24:45.370Z engineer         20 engineer.py:402 Move theta arms CW and phi arms CCW to the hard stops\n",
      "2025-01-18 00:24:45.398Z cobraCoach       20 cobraCoach.py:1065 home cobras: theta=10000, phi=-5000\n",
      "2025-01-18 00:24:45.424Z pfi              40 pfi.py:899 Some phi angles are out of range\n",
      "2025-01-18 00:24:45.448Z pfi              40 pfi.py:899 Some phi angles are out of range\n",
      "2025-01-18 00:24:45.450Z engineer         20 engineer.py:412 Sending angles to moveToAngles for 0-th iteration\n",
      "2025-01-18 00:24:45.475Z cobraCoach       20 cobraCoach.py:1009 Moving deltaTheta = [-0.29458444 -3.06367305 -0.35608403 ... -0.40597169 -0.4013664\n",
      " -0.41592376]\n",
      "2025-01-18 00:24:45.476Z cobraCoach       20 cobraCoach.py:1010 Moving deltaPhi = [0.19361448 0.45246749 0.22794454 ... 0.14708474 0.20932294 0.15978886]\n",
      "2025-01-18 00:24:45.749Z cobraCoach       20 cobraCoach.py:877 Finished converting angle to steps, sending command to moveSteps (constantOntime).\n",
      "2025-01-18 00:24:46.318Z cobraCoach       20 cobraCoach.py:587 Sending step numbers to FPGA for moving cobra.\n",
      "2025-01-18 00:24:46.437Z cobraCoach       20 cobraCoach.py:601 cobra control FPGA operation done.\n",
      "2025-01-18 00:24:46.461Z pfi              40 pfi.py:896 Some theta angles are out of range\n",
      "2025-01-18 00:24:46.461Z pfi              40 pfi.py:899 Some phi angles are out of range\n",
      "/Users/jing/anaconda3/lib/python3.10/site-packages/ics/cobraCharmer/pfi.py:1010: RuntimeWarning: invalid value encountered in arccos\n",
      "  ang1 = np.arccos((L1Sq[i] + L2Sq[i] - distanceSq[i]) / (2 * L1[i] * L2[i]))\n",
      "2025-01-18 00:24:46.581Z cobraCoach       30 cobraCoach.py:675 Cobra#344 is too far from center\n",
      "2025-01-18 00:24:46.584Z cobraCoach       30 cobraCoach.py:675 Cobra#443 is too far from center\n",
      "2025-01-18 00:24:46.587Z cobraCoach       30 cobraCoach.py:675 Cobra#493 is too far from center\n",
      "2025-01-18 00:24:46.614Z cobraCoach       30 cobraCoach.py:675 Cobra#1303 is too far from center\n",
      "2025-01-18 00:24:46.631Z cobraCoach       30 cobraCoach.py:675 Cobra#1637 is too far from center\n",
      "2025-01-18 00:24:46.636Z cobraCoach       30 cobraCoach.py:675 Cobra#1790 is too far from center\n",
      "2025-01-18 00:24:46.638Z cobraCoach       30 cobraCoach.py:675 Cobra#1792 is too far from center\n",
      "2025-01-18 00:24:46.660Z engineer         20 engineer.py:422 Updating the cobra information\n",
      "2025-01-18 00:24:46.664Z engineer         20 engineer.py:436 done: [   0    1    2 ... 2391 2392 2393], 20 left\n",
      "2025-01-18 00:24:46.665Z engineer         20 engineer.py:412 Sending angles to moveToAngles for 1-th iteration\n",
      "2025-01-18 00:24:46.666Z cobraCoach       30 cobraCoach.py:1003 Last phi angle is unknown, not moving: [1459]\n",
      "2025-01-18 00:24:46.668Z cobraCoach       20 cobraCoach.py:1009 Moving deltaTheta = [-1.01748456e-05 -1.01748456e-05 -1.01748456e-05  1.42413045e-04\n",
      " -1.01748456e-05 -1.01748456e-05 -1.01748456e-05 -1.01748455e-05\n",
      " -1.01748456e-05  1.73407460e-04 -1.97115887e-05 -2.99138163e-04\n",
      "  6.92683126e-04 -1.01748455e-05 -6.78797130e-04 -1.01748456e-05\n",
      " -1.01748456e-05 -6.61534404e-04 -5.09209882e-01  1.10228624e-03]\n",
      "2025-01-18 00:24:46.670Z cobraCoach       20 cobraCoach.py:1010 Moving deltaPhi = [-6.10865247e+00 -6.10865247e+00 -6.10865247e+00 -4.16400827e-02\n",
      " -2.96705959e+00 -6.10865247e+00  0.00000000e+00 -2.96705964e+00\n",
      " -2.96705969e+00 -1.24290680e-01 -2.12845317e-02 -1.40374378e-02\n",
      " -6.34152399e-02 -6.10865247e+00 -2.14398305e-03 -6.10865247e+00\n",
      " -6.10865247e+00 -1.35800043e-02  3.37174294e-01 -4.98778998e-02]\n",
      "2025-01-18 00:24:46.674Z cobraCoach       30 cobraCoach.py:846 Last phi angle is unknown: [1459]\n",
      "2025-01-18 00:24:46.684Z cobraCoach       20 cobraCoach.py:877 Finished converting angle to steps, sending command to moveSteps (constantOntime).\n",
      "2025-01-18 00:24:46.696Z cobraCoach       20 cobraCoach.py:587 Sending step numbers to FPGA for moving cobra.\n",
      "2025-01-18 00:24:46.701Z cobraCoach       20 cobraCoach.py:601 cobra control FPGA operation done.\n",
      "2025-01-18 00:24:46.726Z pfi              40 pfi.py:896 Some theta angles are out of range\n",
      "2025-01-18 00:24:46.727Z pfi              40 pfi.py:899 Some phi angles are out of range\n",
      "2025-01-18 00:24:46.850Z cobraCoach       30 cobraCoach.py:675 Cobra#344 is too far from center\n",
      "2025-01-18 00:24:46.851Z cobraCoach       30 cobraCoach.py:679 Cobra#1460 is too close to center\n",
      "2025-01-18 00:24:46.853Z cobraCoach       30 cobraCoach.py:675 Cobra#1637 is too far from center\n",
      "2025-01-18 00:24:46.854Z cobraCoach       30 cobraCoach.py:675 Cobra#1790 is too far from center\n",
      "2025-01-18 00:24:46.856Z engineer         20 engineer.py:422 Updating the cobra information\n",
      "2025-01-18 00:24:46.861Z engineer         20 engineer.py:436 done: [1782 1956], 18 left\n",
      "2025-01-18 00:24:46.862Z engineer         30 engineer.py:445 18 cobras did not finish: [ 343  442  492  578  737 1302 1459 1493 1538 1560 1581 1583 1587 1636\n",
      " 1789 1791 1937 1969], [4.67 4.67 4.67 0.11 4.67 4.67 0.82 4.67 4.67 0.25 0.06 0.04 0.16 4.67\n",
      " 4.67 4.67 0.04 0.11]\n",
      "2025-01-18 00:24:46.863Z engineer         20 engineer.py:450 Returning 2394 atThetas and 2394 atPhis\n",
      "2025-01-18 00:24:46.892Z pfi              40 pfi.py:899 Some phi angles are out of range\n",
      "2025-01-18 00:24:46.895Z engineer         20 engineer.py:395 Move theta arms to angle=[360.   206.35 360.   ... 360.   360.   360.  ] degree\n",
      "2025-01-18 00:24:46.896Z engineer         20 engineer.py:396 Move phi arms to angle=[11.09 25.92 13.06 ...  8.43 11.99  9.16] degree\n",
      "2025-01-18 00:24:46.897Z engineer         20 engineer.py:398 Checking passed homed argument = False\n",
      "2025-01-18 00:24:46.898Z engineer         20 engineer.py:412 Sending angles to moveToAngles for 0-th iteration\n",
      "2025-01-18 00:24:46.930Z cobraCoach       20 cobraCoach.py:1009 Moving deltaTheta = [-2.67190074e-04  6.33917665e-05  3.87030507e-04 ... -2.54792308e-04\n",
      "  3.84169484e-04 -7.24000071e-04]\n",
      "2025-01-18 00:24:46.931Z cobraCoach       20 cobraCoach.py:1010 Moving deltaPhi = [ 8.60699099e-05 -4.28598462e-04  1.86819450e-04 ...  6.56574960e-04\n",
      " -8.39715058e-04 -4.29651246e-04]\n",
      "2025-01-18 00:24:47.268Z cobraCoach       20 cobraCoach.py:877 Finished converting angle to steps, sending command to moveSteps (constantOntime).\n",
      "2025-01-18 00:24:47.534Z cobraCoach       20 cobraCoach.py:587 Sending step numbers to FPGA for moving cobra.\n",
      "2025-01-18 00:24:47.666Z cobraCoach       20 cobraCoach.py:601 cobra control FPGA operation done.\n",
      "2025-01-18 00:24:47.694Z pfi              40 pfi.py:896 Some theta angles are out of range\n",
      "2025-01-18 00:24:47.695Z pfi              40 pfi.py:899 Some phi angles are out of range\n",
      "2025-01-18 00:24:47.867Z cobraCoach       30 cobraCoach.py:675 Cobra#1303 is too far from center\n",
      "2025-01-18 00:24:47.881Z cobraCoach       30 cobraCoach.py:675 Cobra#1790 is too far from center\n",
      "2025-01-18 00:24:47.907Z engineer         20 engineer.py:422 Updating the cobra information\n",
      "2025-01-18 00:24:47.911Z engineer         20 engineer.py:436 done: [   0    1    2 ... 2391 2392 2393], 18 left\n",
      "2025-01-18 00:24:47.916Z engineer         20 engineer.py:412 Sending angles to moveToAngles for 1-th iteration\n",
      "2025-01-18 00:24:47.918Z cobraCoach       30 cobraCoach.py:1003 Last phi angle is unknown, not moving: [1459]\n",
      "2025-01-18 00:24:47.924Z cobraCoach       20 cobraCoach.py:1009 Moving deltaTheta = [-1.94233989e-04 -5.14191722e-04 -6.14804362e-04  1.42413045e-04\n",
      " -1.01748456e-05  2.69975771e-06 -1.01748456e-05 -1.01748455e-05\n",
      " -1.01748456e-05  1.73407460e-04 -1.97115887e-05 -2.99138163e-04\n",
      " -2.97707652e-04 -1.03632841e-03 -1.01748456e-05 -3.80200480e-04\n",
      " -6.61534404e-04 -1.05065440e-04]\n",
      "2025-01-18 00:24:47.927Z cobraCoach       20 cobraCoach.py:1010 Moving deltaPhi = [-2.96687409 -2.96705963 -2.9670596  -0.04164008 -2.96705959 -6.10865247\n",
      "  0.         -2.96705964 -2.96705969 -0.12429068 -0.02128453 -0.01403744\n",
      " -0.06341524 -2.96602327 -6.10865247 -2.9670596  -0.01358    -0.0498779 ]\n",
      "2025-01-18 00:24:47.929Z cobraCoach       30 cobraCoach.py:846 Last phi angle is unknown: [1459]\n",
      "2025-01-18 00:24:47.953Z cobraCoach       20 cobraCoach.py:877 Finished converting angle to steps, sending command to moveSteps (constantOntime).\n",
      "2025-01-18 00:24:47.977Z cobraCoach       20 cobraCoach.py:587 Sending step numbers to FPGA for moving cobra.\n",
      "2025-01-18 00:24:47.985Z cobraCoach       20 cobraCoach.py:601 cobra control FPGA operation done.\n",
      "2025-01-18 00:24:48.110Z pfi              40 pfi.py:896 Some theta angles are out of range\n",
      "2025-01-18 00:24:48.111Z pfi              40 pfi.py:899 Some phi angles are out of range\n",
      "2025-01-18 00:24:48.223Z cobraCoach       30 cobraCoach.py:675 Cobra#344 is too far from center\n",
      "2025-01-18 00:24:48.224Z pfi              30 pfi.py:475 clipping scale adjustment from 0.2573481031895782 to 0.3\n",
      "2025-01-18 00:24:48.225Z cobraCoach       30 cobraCoach.py:679 Cobra#1460 is too close to center\n",
      "2025-01-18 00:24:48.226Z pfi              30 pfi.py:475 clipping scale adjustment from 0.26154231110049525 to 0.3\n",
      "2025-01-18 00:24:48.228Z engineer         20 engineer.py:422 Updating the cobra information\n",
      "2025-01-18 00:24:48.230Z engineer         20 engineer.py:412 Sending angles to moveToAngles for 2-th iteration\n",
      "2025-01-18 00:24:48.233Z cobraCoach       20 cobraCoach.py:1009 Moving deltaTheta = [-1.94233989e-04 -5.14191722e-04 -6.14804362e-04  1.42413045e-04\n",
      " -1.01748456e-05 -1.09852569e+00 -1.01748456e-05 -1.01748455e-05\n",
      " -1.01748456e-05  1.73407460e-04 -1.97115887e-05 -2.99138163e-04\n",
      " -2.97707652e-04 -1.03632841e-03 -1.07143418e+00 -3.80200480e-04\n",
      " -6.61534404e-04 -1.05065440e-04]\n",
      "2025-01-18 00:24:48.234Z cobraCoach       20 cobraCoach.py:1010 Moving deltaPhi = [-6.10865247 -2.96705963 -2.9670596  -0.04164008 -2.96705959 -1.71883189\n",
      " -2.96705973 -2.96705964 -2.96705969 -0.12429068 -0.02128453 -0.01403744\n",
      " -0.06341524 -2.96705964 -1.88389766 -2.9670596  -0.01358    -0.0498779 ]\n",
      "2025-01-18 00:24:48.237Z cobraCoach       20 cobraCoach.py:877 Finished converting angle to steps, sending command to moveSteps (constantOntime).\n",
      "2025-01-18 00:24:48.247Z cobraCoach       20 cobraCoach.py:587 Sending step numbers to FPGA for moving cobra.\n",
      "2025-01-18 00:24:48.251Z cobraCoach       20 cobraCoach.py:601 cobra control FPGA operation done.\n",
      "2025-01-18 00:24:48.281Z pfi              40 pfi.py:896 Some theta angles are out of range\n",
      "2025-01-18 00:24:48.283Z pfi              40 pfi.py:899 Some phi angles are out of range\n",
      "2025-01-18 00:24:48.396Z pfi              30 pfi.py:475 clipping scale adjustment from 0.2859424141191533 to 0.3\n",
      "2025-01-18 00:24:48.397Z cobraCoach       30 cobraCoach.py:675 Cobra#1303 is too far from center\n",
      "2025-01-18 00:24:48.398Z pfi              30 pfi.py:475 clipping scale adjustment from 0.29999999904403885 to 0.3\n",
      "2025-01-18 00:24:48.399Z cobraCoach       30 cobraCoach.py:675 Cobra#1790 is too far from center\n",
      "2025-01-18 00:24:48.401Z engineer         20 engineer.py:422 Updating the cobra information\n",
      "2025-01-18 00:24:48.404Z engineer         20 engineer.py:412 Sending angles to moveToAngles for 3-th iteration\n",
      "2025-01-18 00:24:48.406Z cobraCoach       30 cobraCoach.py:1003 Last phi angle is unknown, not moving: [1459]\n",
      "2025-01-18 00:24:48.408Z cobraCoach       20 cobraCoach.py:1009 Moving deltaTheta = [-3.21863813e-01 -5.14191722e-04 -6.14804362e-04  1.42413045e-04\n",
      " -1.01748456e-05 -6.82685060e-01 -1.01748456e-05 -1.01748455e-05\n",
      " -1.01748456e-05  1.73407460e-04 -1.97115887e-05 -2.99138163e-04\n",
      " -2.97707652e-04 -1.03632841e-03 -3.25590772e-01 -3.80200480e-04\n",
      " -6.61534404e-04 -1.05065440e-04]\n",
      "2025-01-18 00:24:48.410Z cobraCoach       20 cobraCoach.py:1010 Moving deltaPhi = [-2.64219266 -2.96705963 -2.9670596  -0.04164008 -2.96705959 -6.10865247\n",
      "  0.         -2.96705964 -2.96705969 -0.12429068 -0.02128453 -0.01403744\n",
      " -0.06341524 -2.96705964 -6.10865247 -2.9670596  -0.01358    -0.0498779 ]\n",
      "2025-01-18 00:24:48.413Z cobraCoach       30 cobraCoach.py:846 Last phi angle is unknown: [1459]\n",
      "2025-01-18 00:24:48.416Z cobraCoach       20 cobraCoach.py:877 Finished converting angle to steps, sending command to moveSteps (constantOntime).\n",
      "2025-01-18 00:24:48.427Z cobraCoach       20 cobraCoach.py:587 Sending step numbers to FPGA for moving cobra.\n",
      "2025-01-18 00:24:48.430Z cobraCoach       20 cobraCoach.py:601 cobra control FPGA operation done.\n",
      "2025-01-18 00:24:48.459Z pfi              40 pfi.py:896 Some theta angles are out of range\n",
      "2025-01-18 00:24:48.460Z pfi              40 pfi.py:899 Some phi angles are out of range\n",
      "2025-01-18 00:24:48.561Z pfi              30 pfi.py:475 clipping scale adjustment from 0.22521650184055392 to 0.3\n",
      "2025-01-18 00:24:48.562Z pfi              30 pfi.py:475 clipping scale adjustment from 0.2573481031895782 to 0.3\n",
      "2025-01-18 00:24:48.563Z cobraCoach       30 cobraCoach.py:679 Cobra#1460 is too close to center\n",
      "2025-01-18 00:24:48.565Z pfi              30 pfi.py:475 clipping scale adjustment from 0.22664453700152026 to 0.3\n",
      "2025-01-18 00:24:48.566Z pfi              30 pfi.py:475 clipping scale adjustment from 0.26154231110049525 to 0.3\n",
      "2025-01-18 00:24:48.567Z engineer         20 engineer.py:422 Updating the cobra information\n",
      "2025-01-18 00:24:48.570Z engineer         20 engineer.py:412 Sending angles to moveToAngles for 4-th iteration\n",
      "2025-01-18 00:24:48.574Z cobraCoach       20 cobraCoach.py:1009 Moving deltaTheta = [-2.17122172e-04 -5.14191722e-04 -6.14804362e-04  1.42413045e-04\n",
      " -1.01748456e-05  4.51698156e+00 -1.01748456e-05 -1.01748455e-05\n",
      " -1.01748456e-05  1.73407460e-04 -1.97115887e-05 -2.99138163e-04\n",
      " -2.97707652e-04 -1.03632841e-03  5.00301130e+00 -3.80200480e-04\n",
      " -6.61534404e-04 -1.05065440e-04]\n",
      "2025-01-18 00:24:48.575Z cobraCoach       20 cobraCoach.py:1010 Moving deltaPhi = [-2.96705965 -2.96705963 -2.9670596  -0.04164008 -2.96705959 -1.71883189\n",
      " -2.96705973 -2.96705964 -2.96705969 -0.12429068 -0.02128453 -0.01403744\n",
      " -0.06341524 -2.96705964 -1.88389766 -2.9670596  -0.01358    -0.0498779 ]\n",
      "2025-01-18 00:24:48.580Z cobraCoach       20 cobraCoach.py:877 Finished converting angle to steps, sending command to moveSteps (constantOntime).\n",
      "2025-01-18 00:24:48.587Z cobraCoach       20 cobraCoach.py:587 Sending step numbers to FPGA for moving cobra.\n",
      "2025-01-18 00:24:48.590Z cobraCoach       20 cobraCoach.py:601 cobra control FPGA operation done.\n",
      "2025-01-18 00:24:48.618Z pfi              40 pfi.py:896 Some theta angles are out of range\n",
      "2025-01-18 00:24:48.621Z pfi              40 pfi.py:899 Some phi angles are out of range\n",
      "2025-01-18 00:24:48.733Z cobraCoach       30 cobraCoach.py:675 Cobra#1790 is too far from center\n",
      "2025-01-18 00:24:48.735Z pfi              30 pfi.py:475 clipping scale adjustment from 0.29999999510714737 to 0.3\n",
      "2025-01-18 00:24:48.736Z engineer         20 engineer.py:422 Updating the cobra information\n",
      "2025-01-18 00:24:48.738Z engineer         20 engineer.py:412 Sending angles to moveToAngles for 5-th iteration\n",
      "2025-01-18 00:24:48.740Z cobraCoach       30 cobraCoach.py:1003 Last phi angle is unknown, not moving: [1459]\n",
      "2025-01-18 00:24:48.741Z cobraCoach       20 cobraCoach.py:1009 Moving deltaTheta = [-2.17122172e-04 -5.14191722e-04 -6.14804362e-04  1.42413045e-04\n",
      " -1.01748456e-05 -4.10811338e-03 -1.01748456e-05 -1.01748455e-05\n",
      " -1.01748456e-05  1.73407460e-04 -1.97115887e-05 -2.99138163e-04\n",
      " -2.97707652e-04 -1.03632841e-03  7.85623389e-01 -3.80200480e-04\n",
      " -6.61534404e-04 -1.05065440e-04]\n",
      "2025-01-18 00:24:48.742Z cobraCoach       20 cobraCoach.py:1010 Moving deltaPhi = [-2.96705965 -2.96705963 -2.9670596  -0.04164008 -2.96705959 -2.96705962\n",
      "  0.         -2.96705964 -2.96705969 -0.12429068 -0.02128453 -0.01403744\n",
      " -0.06341524 -2.96705964 -6.10865247 -2.9670596  -0.01358    -0.0498779 ]\n",
      "2025-01-18 00:24:48.744Z cobraCoach       30 cobraCoach.py:846 Last phi angle is unknown: [1459]\n",
      "2025-01-18 00:24:48.747Z cobraCoach       20 cobraCoach.py:877 Finished converting angle to steps, sending command to moveSteps (constantOntime).\n",
      "2025-01-18 00:24:48.755Z cobraCoach       20 cobraCoach.py:587 Sending step numbers to FPGA for moving cobra.\n",
      "2025-01-18 00:24:48.758Z cobraCoach       20 cobraCoach.py:601 cobra control FPGA operation done.\n",
      "2025-01-18 00:24:48.781Z pfi              40 pfi.py:896 Some theta angles are out of range\n",
      "2025-01-18 00:24:48.782Z pfi              40 pfi.py:899 Some phi angles are out of range\n",
      "2025-01-18 00:24:48.884Z pfi              30 pfi.py:475 clipping scale adjustment from 0.2250489700875823 to 0.3\n",
      "2025-01-18 00:24:48.885Z cobraCoach       30 cobraCoach.py:679 Cobra#1460 is too close to center\n",
      "2025-01-18 00:24:48.886Z pfi              30 pfi.py:475 clipping scale adjustment from 0.2561286605203101 to 0.3\n",
      "2025-01-18 00:24:48.887Z pfi              30 pfi.py:475 clipping scale adjustment from 0.26154231110049525 to 0.3\n",
      "2025-01-18 00:24:48.888Z engineer         20 engineer.py:422 Updating the cobra information\n",
      "2025-01-18 00:24:48.891Z engineer         30 engineer.py:445 18 cobras did not finish: [ 343  442  492  578  737 1302 1459 1493 1538 1560 1581 1583 1587 1636\n",
      " 1789 1791 1937 1969], [4.67 4.67 4.67 0.11 4.67 4.67 0.82 4.67 4.67 0.25 0.06 0.04 0.16 4.67\n",
      " 4.2  4.67 0.04 0.11]\n",
      "2025-01-18 00:24:48.892Z engineer         20 engineer.py:450 Returning 2394 atThetas and 2394 atPhis\n",
      "2025-01-18 00:24:48.919Z pfi              40 pfi.py:896 Some theta angles are out of range\n",
      "2025-01-18 00:24:48.922Z pfi              40 pfi.py:899 Some phi angles are out of range\n",
      "2025-01-18 00:24:49.015Z pfi              40 pfi.py:896 Some theta angles are out of range\n",
      "2025-01-18 00:24:49.017Z pfi              40 pfi.py:899 Some phi angles are out of range\n",
      "2025-01-18 00:24:49.087Z pfi              40 pfi.py:896 Some theta angles are out of range\n",
      "2025-01-18 00:24:49.088Z pfi              40 pfi.py:899 Some phi angles are out of range\n",
      "2025-01-18 00:24:49.132Z pfi              40 pfi.py:896 Some theta angles are out of range\n",
      "2025-01-18 00:24:49.134Z pfi              40 pfi.py:899 Some phi angles are out of range\n",
      "2025-01-18 00:24:49.183Z pfi              40 pfi.py:896 Some theta angles are out of range\n",
      "2025-01-18 00:24:49.184Z pfi              40 pfi.py:899 Some phi angles are out of range\n",
      "2025-01-18 00:24:49.232Z pfi              40 pfi.py:896 Some theta angles are out of range\n",
      "2025-01-18 00:24:49.233Z pfi              40 pfi.py:899 Some phi angles are out of range\n",
      "2025-01-18 00:24:49.281Z pfi              40 pfi.py:896 Some theta angles are out of range\n",
      "2025-01-18 00:24:49.282Z pfi              40 pfi.py:899 Some phi angles are out of range\n",
      "2025-01-18 00:24:49.330Z pfi              40 pfi.py:896 Some theta angles are out of range\n",
      "2025-01-18 00:24:49.332Z pfi              40 pfi.py:899 Some phi angles are out of range\n",
      "2025-01-18 00:24:49.379Z pfi              40 pfi.py:930 Some theta angles are out of range\n",
      "2025-01-18 00:24:49.437Z pfi              40 pfi.py:930 Some theta angles are out of range\n",
      "2025-01-18 00:24:49.485Z pfi              40 pfi.py:930 Some theta angles are out of range\n",
      "2025-01-18 00:24:49.518Z pfi              40 pfi.py:930 Some theta angles are out of range\n",
      "2025-01-18 00:24:49.556Z pfi              40 pfi.py:930 Some theta angles are out of range\n",
      "2025-01-18 00:24:49.594Z pfi              40 pfi.py:930 Some theta angles are out of range\n",
      "2025-01-18 00:24:49.632Z pfi              40 pfi.py:930 Some theta angles are out of range\n",
      "2025-01-18 00:24:49.669Z pfi              40 pfi.py:930 Some theta angles are out of range\n"
     ]
    },
    {
     "name": "stdout",
     "output_type": "stream",
     "text": [
      "ERROR: detected 13 end point collision, which should be impossible\n",
      "trajectory collisions found: 6\n",
      "Set parameter Presolve to value 1\n"
     ]
    },
    {
     "name": "stderr",
     "output_type": "stream",
     "text": [
      "2025-01-18 00:24:54.166Z gurobipy         20 netflow.py:117 Set parameter Presolve to value 1\n"
     ]
    },
    {
     "name": "stdout",
     "output_type": "stream",
     "text": [
      "Set parameter Method to value 4\n"
     ]
    },
    {
     "name": "stderr",
     "output_type": "stream",
     "text": [
      "2025-01-18 00:24:54.168Z gurobipy         20 netflow.py:117 Set parameter Method to value 4\n"
     ]
    },
    {
     "name": "stdout",
     "output_type": "stream",
     "text": [
      "Set parameter DegenMoves to value 0\n"
     ]
    },
    {
     "name": "stderr",
     "output_type": "stream",
     "text": [
      "2025-01-18 00:24:54.169Z gurobipy         20 netflow.py:117 Set parameter DegenMoves to value 0\n"
     ]
    },
    {
     "name": "stdout",
     "output_type": "stream",
     "text": [
      "Set parameter Heuristics to value 0.8\n"
     ]
    },
    {
     "name": "stderr",
     "output_type": "stream",
     "text": [
      "2025-01-18 00:24:54.171Z gurobipy         20 netflow.py:117 Set parameter Heuristics to value 0.8\n"
     ]
    },
    {
     "name": "stdout",
     "output_type": "stream",
     "text": [
      "Set parameter MIPGap to value 0.05\n"
     ]
    },
    {
     "name": "stderr",
     "output_type": "stream",
     "text": [
      "2025-01-18 00:24:54.172Z gurobipy         20 netflow.py:117 Set parameter MIPGap to value 0.05\n"
     ]
    },
    {
     "name": "stdout",
     "output_type": "stream",
     "text": [
      "Creating network topology\n",
      "  exposure 1\n",
      "Calculating visibilities\n",
      "adding constraints\n",
      "adding collision constraints\n",
      "adding forbidden pair constraints\n",
      "Gurobi Optimizer version 10.0.1 build v10.0.1rc0 (mac64[x86])\n"
     ]
    },
    {
     "name": "stderr",
     "output_type": "stream",
     "text": [
      "2025-01-18 00:25:04.906Z gurobipy         20 netflow.py:149 Gurobi Optimizer version 10.0.1 build v10.0.1rc0 (mac64[x86])\n"
     ]
    },
    {
     "name": "stdout",
     "output_type": "stream",
     "text": [
      "\n"
     ]
    },
    {
     "name": "stderr",
     "output_type": "stream",
     "text": [
      "2025-01-18 00:25:04.908Z gurobipy         20 netflow.py:149 \n"
     ]
    },
    {
     "name": "stdout",
     "output_type": "stream",
     "text": [
      "CPU model: Intel(R) Core(TM) i7-8569U CPU @ 2.80GHz\n"
     ]
    },
    {
     "name": "stderr",
     "output_type": "stream",
     "text": [
      "2025-01-18 00:25:04.910Z gurobipy         20 netflow.py:149 CPU model: Intel(R) Core(TM) i7-8569U CPU @ 2.80GHz\n"
     ]
    },
    {
     "name": "stdout",
     "output_type": "stream",
     "text": [
      "Thread count: 4 physical cores, 8 logical processors, using up to 8 threads\n"
     ]
    },
    {
     "name": "stderr",
     "output_type": "stream",
     "text": [
      "2025-01-18 00:25:04.911Z gurobipy         20 netflow.py:149 Thread count: 4 physical cores, 8 logical processors, using up to 8 threads\n"
     ]
    },
    {
     "name": "stdout",
     "output_type": "stream",
     "text": [
      "\n"
     ]
    },
    {
     "name": "stderr",
     "output_type": "stream",
     "text": [
      "2025-01-18 00:25:04.913Z gurobipy         20 netflow.py:149 \n"
     ]
    },
    {
     "name": "stdout",
     "output_type": "stream",
     "text": [
      "Academic license 2379863 - for non-commercial use only - registered to ji___@ipmu.jp\n"
     ]
    },
    {
     "name": "stderr",
     "output_type": "stream",
     "text": [
      "2025-01-18 00:25:04.916Z gurobipy         20 netflow.py:149 Academic license 2379863 - for non-commercial use only - registered to ji___@ipmu.jp\n"
     ]
    },
    {
     "name": "stdout",
     "output_type": "stream",
     "text": [
      "Optimize a model with 166608 rows, 82049 columns and 427485 nonzeros\n"
     ]
    },
    {
     "name": "stderr",
     "output_type": "stream",
     "text": [
      "2025-01-18 00:25:04.917Z gurobipy         20 netflow.py:149 Optimize a model with 166608 rows, 82049 columns and 427485 nonzeros\n"
     ]
    },
    {
     "name": "stdout",
     "output_type": "stream",
     "text": [
      "Model fingerprint: 0x614970e4\n"
     ]
    },
    {
     "name": "stderr",
     "output_type": "stream",
     "text": [
      "2025-01-18 00:25:04.922Z gurobipy         20 netflow.py:149 Model fingerprint: 0x614970e4\n"
     ]
    },
    {
     "name": "stdout",
     "output_type": "stream",
     "text": [
      "Variable types: 1 continuous, 82048 integer (82046 binary)\n"
     ]
    },
    {
     "name": "stderr",
     "output_type": "stream",
     "text": [
      "2025-01-18 00:25:04.923Z gurobipy         20 netflow.py:149 Variable types: 1 continuous, 82048 integer (82046 binary)\n"
     ]
    },
    {
     "name": "stdout",
     "output_type": "stream",
     "text": [
      "Coefficient statistics:\n"
     ]
    },
    {
     "name": "stderr",
     "output_type": "stream",
     "text": [
      "2025-01-18 00:25:04.926Z gurobipy         20 netflow.py:149 Coefficient statistics:\n"
     ]
    },
    {
     "name": "stdout",
     "output_type": "stream",
     "text": [
      "  Matrix range     [1e+00, 1e+00]\n"
     ]
    },
    {
     "name": "stderr",
     "output_type": "stream",
     "text": [
      "2025-01-18 00:25:04.929Z gurobipy         20 netflow.py:149   Matrix range     [1e+00, 1e+00]\n"
     ]
    },
    {
     "name": "stdout",
     "output_type": "stream",
     "text": [
      "  Objective range  [2e-04, 1e+06]\n"
     ]
    },
    {
     "name": "stderr",
     "output_type": "stream",
     "text": [
      "2025-01-18 00:25:04.930Z gurobipy         20 netflow.py:149   Objective range  [2e-04, 1e+06]\n"
     ]
    },
    {
     "name": "stdout",
     "output_type": "stream",
     "text": [
      "  Bounds range     [1e+00, 1e+00]\n"
     ]
    },
    {
     "name": "stderr",
     "output_type": "stream",
     "text": [
      "2025-01-18 00:25:04.932Z gurobipy         20 netflow.py:149   Bounds range     [1e+00, 1e+00]\n"
     ]
    },
    {
     "name": "stdout",
     "output_type": "stream",
     "text": [
      "  RHS range        [1e+00, 4e+02]\n"
     ]
    },
    {
     "name": "stderr",
     "output_type": "stream",
     "text": [
      "2025-01-18 00:25:04.933Z gurobipy         20 netflow.py:149   RHS range        [1e+00, 4e+02]\n"
     ]
    },
    {
     "name": "stdout",
     "output_type": "stream",
     "text": [
      "Found heuristic solution: objective 6.000000e+08\n"
     ]
    },
    {
     "name": "stderr",
     "output_type": "stream",
     "text": [
      "2025-01-18 00:25:04.958Z gurobipy         20 netflow.py:149 Found heuristic solution: objective 6.000000e+08\n"
     ]
    },
    {
     "name": "stdout",
     "output_type": "stream",
     "text": [
      "Presolve removed 166139 rows and 79315 columns\n"
     ]
    },
    {
     "name": "stderr",
     "output_type": "stream",
     "text": [
      "2025-01-18 00:25:05.686Z gurobipy         20 netflow.py:149 Presolve removed 166139 rows and 79315 columns\n"
     ]
    },
    {
     "name": "stdout",
     "output_type": "stream",
     "text": [
      "Presolve time: 0.70s\n"
     ]
    },
    {
     "name": "stderr",
     "output_type": "stream",
     "text": [
      "2025-01-18 00:25:05.688Z gurobipy         20 netflow.py:149 Presolve time: 0.70s\n"
     ]
    },
    {
     "name": "stdout",
     "output_type": "stream",
     "text": [
      "Presolved: 469 rows, 2734 columns, 3677 nonzeros\n"
     ]
    },
    {
     "name": "stderr",
     "output_type": "stream",
     "text": [
      "2025-01-18 00:25:05.695Z gurobipy         20 netflow.py:149 Presolved: 469 rows, 2734 columns, 3677 nonzeros\n"
     ]
    },
    {
     "name": "stdout",
     "output_type": "stream",
     "text": [
      "Found heuristic solution: objective 5.940000e+08\n"
     ]
    },
    {
     "name": "stderr",
     "output_type": "stream",
     "text": [
      "2025-01-18 00:25:05.701Z gurobipy         20 netflow.py:149 Found heuristic solution: objective 5.940000e+08\n"
     ]
    },
    {
     "name": "stdout",
     "output_type": "stream",
     "text": [
      "Variable types: 0 continuous, 2734 integer (2732 binary)\n"
     ]
    },
    {
     "name": "stderr",
     "output_type": "stream",
     "text": [
      "2025-01-18 00:25:05.703Z gurobipy         20 netflow.py:149 Variable types: 0 continuous, 2734 integer (2732 binary)\n"
     ]
    },
    {
     "name": "stdout",
     "output_type": "stream",
     "text": [
      "Found heuristic solution: objective 5.920000e+08\n"
     ]
    },
    {
     "name": "stderr",
     "output_type": "stream",
     "text": [
      "2025-01-18 00:25:05.707Z gurobipy         20 netflow.py:149 Found heuristic solution: objective 5.920000e+08\n"
     ]
    },
    {
     "name": "stdout",
     "output_type": "stream",
     "text": [
      "Deterministic concurrent LP optimizer: dual simplex and barrier\n"
     ]
    },
    {
     "name": "stderr",
     "output_type": "stream",
     "text": [
      "2025-01-18 00:25:05.711Z gurobipy         20 netflow.py:149 Deterministic concurrent LP optimizer: dual simplex and barrier\n"
     ]
    },
    {
     "name": "stdout",
     "output_type": "stream",
     "text": [
      "Showing barrier log only...\n"
     ]
    },
    {
     "name": "stderr",
     "output_type": "stream",
     "text": [
      "2025-01-18 00:25:05.712Z gurobipy         20 netflow.py:149 Showing barrier log only...\n"
     ]
    },
    {
     "name": "stdout",
     "output_type": "stream",
     "text": [
      "\n"
     ]
    },
    {
     "name": "stderr",
     "output_type": "stream",
     "text": [
      "2025-01-18 00:25:05.714Z gurobipy         20 netflow.py:149 \n"
     ]
    },
    {
     "name": "stdout",
     "output_type": "stream",
     "text": [
      "Root barrier log...\n"
     ]
    },
    {
     "name": "stderr",
     "output_type": "stream",
     "text": [
      "2025-01-18 00:25:05.718Z gurobipy         20 netflow.py:149 Root barrier log...\n"
     ]
    },
    {
     "name": "stdout",
     "output_type": "stream",
     "text": [
      "\n"
     ]
    },
    {
     "name": "stderr",
     "output_type": "stream",
     "text": [
      "2025-01-18 00:25:05.719Z gurobipy         20 netflow.py:149 \n"
     ]
    },
    {
     "name": "stdout",
     "output_type": "stream",
     "text": [
      "Ordering time: 0.00s\n"
     ]
    },
    {
     "name": "stderr",
     "output_type": "stream",
     "text": [
      "2025-01-18 00:25:05.721Z gurobipy         20 netflow.py:149 Ordering time: 0.00s\n"
     ]
    },
    {
     "name": "stdout",
     "output_type": "stream",
     "text": [
      "\n"
     ]
    },
    {
     "name": "stderr",
     "output_type": "stream",
     "text": [
      "2025-01-18 00:25:05.724Z gurobipy         20 netflow.py:149 \n"
     ]
    },
    {
     "name": "stdout",
     "output_type": "stream",
     "text": [
      "Barrier statistics:\n"
     ]
    },
    {
     "name": "stderr",
     "output_type": "stream",
     "text": [
      "2025-01-18 00:25:05.726Z gurobipy         20 netflow.py:149 Barrier statistics:\n"
     ]
    },
    {
     "name": "stdout",
     "output_type": "stream",
     "text": [
      " AA' NZ     : 9.960e+02\n"
     ]
    },
    {
     "name": "stderr",
     "output_type": "stream",
     "text": [
      "2025-01-18 00:25:05.728Z gurobipy         20 netflow.py:149  AA' NZ     : 9.960e+02\n"
     ]
    },
    {
     "name": "stdout",
     "output_type": "stream",
     "text": [
      " Factor NZ  : 2.067e+03 (roughly 1 MB of memory)\n"
     ]
    },
    {
     "name": "stderr",
     "output_type": "stream",
     "text": [
      "2025-01-18 00:25:05.730Z gurobipy         20 netflow.py:149  Factor NZ  : 2.067e+03 (roughly 1 MB of memory)\n"
     ]
    },
    {
     "name": "stdout",
     "output_type": "stream",
     "text": [
      " Factor Ops : 1.652e+04 (less than 1 second per iteration)\n"
     ]
    },
    {
     "name": "stderr",
     "output_type": "stream",
     "text": [
      "2025-01-18 00:25:05.731Z gurobipy         20 netflow.py:149  Factor Ops : 1.652e+04 (less than 1 second per iteration)\n"
     ]
    },
    {
     "name": "stdout",
     "output_type": "stream",
     "text": [
      " Threads    : 1\n"
     ]
    },
    {
     "name": "stderr",
     "output_type": "stream",
     "text": [
      "2025-01-18 00:25:05.733Z gurobipy         20 netflow.py:149  Threads    : 1\n"
     ]
    },
    {
     "name": "stdout",
     "output_type": "stream",
     "text": [
      "\n"
     ]
    },
    {
     "name": "stderr",
     "output_type": "stream",
     "text": [
      "2025-01-18 00:25:05.735Z gurobipy         20 netflow.py:149 \n"
     ]
    },
    {
     "name": "stdout",
     "output_type": "stream",
     "text": [
      "                  Objective                Residual\n"
     ]
    },
    {
     "name": "stderr",
     "output_type": "stream",
     "text": [
      "2025-01-18 00:25:05.737Z gurobipy         20 netflow.py:149                   Objective                Residual\n"
     ]
    },
    {
     "name": "stdout",
     "output_type": "stream",
     "text": [
      "Iter       Primal          Dual         Primal    Dual     Compl     Time\n"
     ]
    },
    {
     "name": "stderr",
     "output_type": "stream",
     "text": [
      "2025-01-18 00:25:05.739Z gurobipy         20 netflow.py:149 Iter       Primal          Dual         Primal    Dual     Compl     Time\n"
     ]
    },
    {
     "name": "stdout",
     "output_type": "stream",
     "text": [
      "   0   3.59109634e+08 -2.83057082e+09  1.57e+01 5.00e+04  3.06e+07     1s\n"
     ]
    },
    {
     "name": "stderr",
     "output_type": "stream",
     "text": [
      "2025-01-18 00:25:05.741Z gurobipy         20 netflow.py:149    0   3.59109634e+08 -2.83057082e+09  1.57e+01 5.00e+04  3.06e+07     1s\n"
     ]
    },
    {
     "name": "stdout",
     "output_type": "stream",
     "text": [
      "\n"
     ]
    },
    {
     "name": "stderr",
     "output_type": "stream",
     "text": [
      "2025-01-18 00:25:05.743Z gurobipy         20 netflow.py:149 \n"
     ]
    },
    {
     "name": "stdout",
     "output_type": "stream",
     "text": [
      "Barrier performed 0 iterations in 0.83 seconds (0.40 work units)\n"
     ]
    },
    {
     "name": "stderr",
     "output_type": "stream",
     "text": [
      "2025-01-18 00:25:05.745Z gurobipy         20 netflow.py:149 Barrier performed 0 iterations in 0.83 seconds (0.40 work units)\n"
     ]
    },
    {
     "name": "stdout",
     "output_type": "stream",
     "text": [
      "Barrier solve interrupted - model solved by another algorithm\n"
     ]
    },
    {
     "name": "stderr",
     "output_type": "stream",
     "text": [
      "2025-01-18 00:25:05.746Z gurobipy         20 netflow.py:149 Barrier solve interrupted - model solved by another algorithm\n"
     ]
    },
    {
     "name": "stdout",
     "output_type": "stream",
     "text": [
      "\n"
     ]
    },
    {
     "name": "stderr",
     "output_type": "stream",
     "text": [
      "2025-01-18 00:25:05.747Z gurobipy         20 netflow.py:149 \n"
     ]
    },
    {
     "name": "stdout",
     "output_type": "stream",
     "text": [
      "Concurrent spin time: 0.03s\n"
     ]
    },
    {
     "name": "stderr",
     "output_type": "stream",
     "text": [
      "2025-01-18 00:25:05.749Z gurobipy         20 netflow.py:149 Concurrent spin time: 0.03s\n"
     ]
    },
    {
     "name": "stdout",
     "output_type": "stream",
     "text": [
      "\n"
     ]
    },
    {
     "name": "stderr",
     "output_type": "stream",
     "text": [
      "2025-01-18 00:25:05.751Z gurobipy         20 netflow.py:149 \n"
     ]
    },
    {
     "name": "stdout",
     "output_type": "stream",
     "text": [
      "Solved with dual simplex\n"
     ]
    },
    {
     "name": "stderr",
     "output_type": "stream",
     "text": [
      "2025-01-18 00:25:05.752Z gurobipy         20 netflow.py:149 Solved with dual simplex\n"
     ]
    },
    {
     "name": "stdout",
     "output_type": "stream",
     "text": [
      "\n"
     ]
    },
    {
     "name": "stderr",
     "output_type": "stream",
     "text": [
      "2025-01-18 00:25:05.755Z gurobipy         20 netflow.py:149 \n"
     ]
    },
    {
     "name": "stdout",
     "output_type": "stream",
     "text": [
      "Root relaxation: objective 1.068758e+01, 47 iterations, 0.05 seconds (0.00 work units)\n"
     ]
    },
    {
     "name": "stderr",
     "output_type": "stream",
     "text": [
      "2025-01-18 00:25:05.757Z gurobipy         20 netflow.py:149 Root relaxation: objective 1.068758e+01, 47 iterations, 0.05 seconds (0.00 work units)\n"
     ]
    },
    {
     "name": "stdout",
     "output_type": "stream",
     "text": [
      "\n"
     ]
    },
    {
     "name": "stderr",
     "output_type": "stream",
     "text": [
      "2025-01-18 00:25:05.761Z gurobipy         20 netflow.py:149 \n"
     ]
    },
    {
     "name": "stdout",
     "output_type": "stream",
     "text": [
      "    Nodes    |    Current Node    |     Objective Bounds      |     Work\n"
     ]
    },
    {
     "name": "stderr",
     "output_type": "stream",
     "text": [
      "2025-01-18 00:25:05.763Z gurobipy         20 netflow.py:149     Nodes    |    Current Node    |     Objective Bounds      |     Work\n"
     ]
    },
    {
     "name": "stdout",
     "output_type": "stream",
     "text": [
      " Expl Unexpl |  Obj  Depth IntInf | Incumbent    BestBd   Gap | It/Node Time\n"
     ]
    },
    {
     "name": "stderr",
     "output_type": "stream",
     "text": [
      "2025-01-18 00:25:05.765Z gurobipy         20 netflow.py:149  Expl Unexpl |  Obj  Depth IntInf | Incumbent    BestBd   Gap | It/Node Time\n"
     ]
    },
    {
     "name": "stdout",
     "output_type": "stream",
     "text": [
      "\n"
     ]
    },
    {
     "name": "stderr",
     "output_type": "stream",
     "text": [
      "2025-01-18 00:25:05.767Z gurobipy         20 netflow.py:149 \n"
     ]
    },
    {
     "name": "stdout",
     "output_type": "stream",
     "text": [
      "*    0     0               0      10.6875760   10.68758  0.00%     -    0s\n"
     ]
    },
    {
     "name": "stderr",
     "output_type": "stream",
     "text": [
      "2025-01-18 00:25:05.769Z gurobipy         20 netflow.py:149 *    0     0               0      10.6875760   10.68758  0.00%     -    0s\n"
     ]
    },
    {
     "name": "stdout",
     "output_type": "stream",
     "text": [
      "\n"
     ]
    },
    {
     "name": "stderr",
     "output_type": "stream",
     "text": [
      "2025-01-18 00:25:05.788Z gurobipy         20 netflow.py:149 \n"
     ]
    },
    {
     "name": "stdout",
     "output_type": "stream",
     "text": [
      "Explored 1 nodes (47 simplex iterations) in 0.87 seconds (0.40 work units)\n"
     ]
    },
    {
     "name": "stderr",
     "output_type": "stream",
     "text": [
      "2025-01-18 00:25:05.789Z gurobipy         20 netflow.py:149 Explored 1 nodes (47 simplex iterations) in 0.87 seconds (0.40 work units)\n"
     ]
    },
    {
     "name": "stdout",
     "output_type": "stream",
     "text": [
      "Thread count was 8 (of 8 available processors)\n"
     ]
    },
    {
     "name": "stderr",
     "output_type": "stream",
     "text": [
      "2025-01-18 00:25:05.791Z gurobipy         20 netflow.py:149 Thread count was 8 (of 8 available processors)\n"
     ]
    },
    {
     "name": "stdout",
     "output_type": "stream",
     "text": [
      "\n"
     ]
    },
    {
     "name": "stderr",
     "output_type": "stream",
     "text": [
      "2025-01-18 00:25:05.792Z gurobipy         20 netflow.py:149 \n"
     ]
    },
    {
     "name": "stdout",
     "output_type": "stream",
     "text": [
      "Solution count 4: 10.6876 5.92e+08 5.94e+08 6e+08 \n"
     ]
    },
    {
     "name": "stderr",
     "output_type": "stream",
     "text": [
      "2025-01-18 00:25:05.794Z gurobipy         20 netflow.py:149 Solution count 4: 10.6876 5.92e+08 5.94e+08 6e+08 \n"
     ]
    },
    {
     "name": "stdout",
     "output_type": "stream",
     "text": [
      "\n"
     ]
    },
    {
     "name": "stderr",
     "output_type": "stream",
     "text": [
      "2025-01-18 00:25:05.796Z gurobipy         20 netflow.py:149 \n"
     ]
    },
    {
     "name": "stdout",
     "output_type": "stream",
     "text": [
      "Optimal solution found (tolerance 5.00e-02)\n"
     ]
    },
    {
     "name": "stderr",
     "output_type": "stream",
     "text": [
      "2025-01-18 00:25:05.798Z gurobipy         20 netflow.py:149 Optimal solution found (tolerance 5.00e-02)\n"
     ]
    },
    {
     "name": "stdout",
     "output_type": "stream",
     "text": [
      "Best objective 1.068757595108e+01, best bound 1.068757595108e+01, gap 0.0000%\n"
     ]
    },
    {
     "name": "stderr",
     "output_type": "stream",
     "text": [
      "2025-01-18 00:25:05.803Z gurobipy         20 netflow.py:149 Best objective 1.068757595108e+01, best bound 1.068757595108e+01, gap 0.0000%\n"
     ]
    },
    {
     "name": "stdout",
     "output_type": "stream",
     "text": [
      "Checking for trajectory collisions\n"
     ]
    },
    {
     "name": "stderr",
     "output_type": "stream",
     "text": [
      "2025-01-18 00:25:05.984Z pfi              40 pfi.py:896 Some theta angles are out of range\n",
      "2025-01-18 00:25:05.985Z pfi              40 pfi.py:899 Some phi angles are out of range\n",
      "2025-01-18 00:25:06.103Z pfi              40 pfi.py:899 Some phi angles are out of range\n",
      "2025-01-18 00:25:06.137Z pfi              40 pfi.py:899 Some phi angles are out of range\n",
      "2025-01-18 00:25:06.140Z engineer         20 engineer.py:395 Move theta arms to angle=[360.   206.35 360.   ... 360.   360.   360.  ] degree\n",
      "2025-01-18 00:25:06.141Z engineer         20 engineer.py:396 Move phi arms to angle=[11.09 25.92 13.06 ...  8.43 11.99  9.16] degree\n",
      "2025-01-18 00:25:06.142Z engineer         20 engineer.py:398 Checking passed homed argument = True\n",
      "2025-01-18 00:25:06.143Z engineer         20 engineer.py:402 Move theta arms CW and phi arms CCW to the hard stops\n",
      "2025-01-18 00:25:06.168Z cobraCoach       20 cobraCoach.py:1065 home cobras: theta=10000, phi=-5000\n",
      "2025-01-18 00:25:06.191Z pfi              40 pfi.py:899 Some phi angles are out of range\n",
      "2025-01-18 00:25:06.213Z pfi              40 pfi.py:899 Some phi angles are out of range\n",
      "2025-01-18 00:25:06.215Z engineer         20 engineer.py:412 Sending angles to moveToAngles for 0-th iteration\n",
      "2025-01-18 00:25:06.238Z cobraCoach       20 cobraCoach.py:1009 Moving deltaTheta = [-0.29458444 -3.06367305 -0.35608403 ... -0.40597169 -0.4013664\n",
      " -0.41592376]\n",
      "2025-01-18 00:25:06.239Z cobraCoach       20 cobraCoach.py:1010 Moving deltaPhi = [0.19361448 0.45246749 0.22794454 ... 0.14708474 0.20932294 0.15978886]\n",
      "2025-01-18 00:25:06.502Z cobraCoach       20 cobraCoach.py:877 Finished converting angle to steps, sending command to moveSteps (constantOntime).\n",
      "2025-01-18 00:25:07.025Z cobraCoach       20 cobraCoach.py:587 Sending step numbers to FPGA for moving cobra.\n",
      "2025-01-18 00:25:07.132Z cobraCoach       20 cobraCoach.py:601 cobra control FPGA operation done.\n",
      "2025-01-18 00:25:07.155Z pfi              40 pfi.py:896 Some theta angles are out of range\n",
      "2025-01-18 00:25:07.156Z pfi              40 pfi.py:899 Some phi angles are out of range\n",
      "2025-01-18 00:25:07.260Z cobraCoach       30 cobraCoach.py:675 Cobra#344 is too far from center\n",
      "2025-01-18 00:25:07.264Z cobraCoach       30 cobraCoach.py:675 Cobra#443 is too far from center\n",
      "2025-01-18 00:25:07.266Z cobraCoach       30 cobraCoach.py:675 Cobra#493 is too far from center\n",
      "2025-01-18 00:25:07.290Z cobraCoach       30 cobraCoach.py:675 Cobra#1303 is too far from center\n",
      "2025-01-18 00:25:07.303Z cobraCoach       30 cobraCoach.py:675 Cobra#1637 is too far from center\n",
      "2025-01-18 00:25:07.308Z cobraCoach       30 cobraCoach.py:675 Cobra#1790 is too far from center\n",
      "2025-01-18 00:25:07.309Z cobraCoach       30 cobraCoach.py:675 Cobra#1792 is too far from center\n",
      "2025-01-18 00:25:07.328Z engineer         20 engineer.py:422 Updating the cobra information\n",
      "2025-01-18 00:25:07.331Z engineer         20 engineer.py:436 done: [   0    1    2 ... 2391 2392 2393], 20 left\n",
      "2025-01-18 00:25:07.332Z engineer         20 engineer.py:412 Sending angles to moveToAngles for 1-th iteration\n",
      "2025-01-18 00:25:07.334Z cobraCoach       30 cobraCoach.py:1003 Last phi angle is unknown, not moving: [1459]\n",
      "2025-01-18 00:25:07.335Z cobraCoach       20 cobraCoach.py:1009 Moving deltaTheta = [-1.01748456e-05 -1.01748456e-05 -1.01748456e-05  1.42413045e-04\n",
      " -1.01748456e-05 -1.01748456e-05 -1.01748456e-05 -1.01748455e-05\n",
      " -1.01748456e-05  1.73407460e-04 -1.97115887e-05 -2.99138163e-04\n",
      "  6.92683126e-04 -1.01748455e-05 -6.78797130e-04 -1.01748456e-05\n",
      " -1.01748456e-05 -6.61534404e-04 -5.09209882e-01  1.10228624e-03]\n",
      "2025-01-18 00:25:07.336Z cobraCoach       20 cobraCoach.py:1010 Moving deltaPhi = [-6.10865247e+00 -6.10865247e+00 -6.10865247e+00 -4.16400827e-02\n",
      " -2.96705959e+00 -6.10865247e+00  0.00000000e+00 -2.96705964e+00\n",
      " -2.96705969e+00 -1.24290680e-01 -2.12845317e-02 -1.40374378e-02\n",
      " -6.34152399e-02 -6.10865247e+00 -2.14398305e-03 -6.10865247e+00\n",
      " -6.10865247e+00 -1.35800043e-02  3.37174294e-01 -4.98778998e-02]\n",
      "2025-01-18 00:25:07.339Z cobraCoach       30 cobraCoach.py:846 Last phi angle is unknown: [1459]\n",
      "2025-01-18 00:25:07.342Z cobraCoach       20 cobraCoach.py:877 Finished converting angle to steps, sending command to moveSteps (constantOntime).\n",
      "2025-01-18 00:25:07.350Z cobraCoach       20 cobraCoach.py:587 Sending step numbers to FPGA for moving cobra.\n",
      "2025-01-18 00:25:07.353Z cobraCoach       20 cobraCoach.py:601 cobra control FPGA operation done.\n",
      "2025-01-18 00:25:07.376Z pfi              40 pfi.py:896 Some theta angles are out of range\n",
      "2025-01-18 00:25:07.377Z pfi              40 pfi.py:899 Some phi angles are out of range\n",
      "2025-01-18 00:25:07.471Z cobraCoach       30 cobraCoach.py:675 Cobra#344 is too far from center\n",
      "2025-01-18 00:25:07.472Z cobraCoach       30 cobraCoach.py:679 Cobra#1460 is too close to center\n",
      "2025-01-18 00:25:07.473Z cobraCoach       30 cobraCoach.py:675 Cobra#1637 is too far from center\n",
      "2025-01-18 00:25:07.475Z cobraCoach       30 cobraCoach.py:675 Cobra#1790 is too far from center\n",
      "2025-01-18 00:25:07.476Z engineer         20 engineer.py:422 Updating the cobra information\n",
      "2025-01-18 00:25:07.478Z engineer         20 engineer.py:436 done: [1782 1956], 18 left\n",
      "2025-01-18 00:25:07.480Z engineer         30 engineer.py:445 18 cobras did not finish: [ 343  442  492  578  737 1302 1459 1493 1538 1560 1581 1583 1587 1636\n",
      " 1789 1791 1937 1969], [4.67 4.67 4.67 0.11 4.67 4.67 0.82 4.67 4.67 0.25 0.06 0.04 0.16 4.67\n",
      " 4.67 4.67 0.04 0.11]\n",
      "2025-01-18 00:25:07.481Z engineer         20 engineer.py:450 Returning 2394 atThetas and 2394 atPhis\n",
      "2025-01-18 00:25:07.505Z pfi              40 pfi.py:899 Some phi angles are out of range\n",
      "2025-01-18 00:25:07.507Z engineer         20 engineer.py:395 Move theta arms to angle=[360.   206.35 360.   ... 360.   360.   360.  ] degree\n",
      "2025-01-18 00:25:07.509Z engineer         20 engineer.py:396 Move phi arms to angle=[11.09 25.92 13.06 ...  8.43 11.99  9.16] degree\n",
      "2025-01-18 00:25:07.510Z engineer         20 engineer.py:398 Checking passed homed argument = False\n",
      "2025-01-18 00:25:07.510Z engineer         20 engineer.py:412 Sending angles to moveToAngles for 0-th iteration\n",
      "2025-01-18 00:25:07.534Z cobraCoach       20 cobraCoach.py:1009 Moving deltaTheta = [-2.67190074e-04  6.33917665e-05  3.87030507e-04 ... -2.54792308e-04\n",
      "  3.84169484e-04 -7.24000071e-04]\n",
      "2025-01-18 00:25:07.535Z cobraCoach       20 cobraCoach.py:1010 Moving deltaPhi = [ 8.60699099e-05 -4.28598462e-04  1.86819450e-04 ...  6.56574960e-04\n",
      " -8.39715058e-04 -4.29651246e-04]\n",
      "2025-01-18 00:25:07.739Z cobraCoach       20 cobraCoach.py:877 Finished converting angle to steps, sending command to moveSteps (constantOntime).\n",
      "2025-01-18 00:25:07.953Z cobraCoach       20 cobraCoach.py:587 Sending step numbers to FPGA for moving cobra.\n",
      "2025-01-18 00:25:08.066Z cobraCoach       20 cobraCoach.py:601 cobra control FPGA operation done.\n",
      "2025-01-18 00:25:08.096Z pfi              40 pfi.py:896 Some theta angles are out of range\n",
      "2025-01-18 00:25:08.097Z pfi              40 pfi.py:899 Some phi angles are out of range\n",
      "2025-01-18 00:25:08.338Z cobraCoach       30 cobraCoach.py:675 Cobra#1303 is too far from center\n",
      "2025-01-18 00:25:08.354Z cobraCoach       30 cobraCoach.py:675 Cobra#1790 is too far from center\n",
      "2025-01-18 00:25:08.376Z engineer         20 engineer.py:422 Updating the cobra information\n",
      "2025-01-18 00:25:08.379Z engineer         20 engineer.py:436 done: [   0    1    2 ... 2391 2392 2393], 18 left\n",
      "2025-01-18 00:25:08.381Z engineer         20 engineer.py:412 Sending angles to moveToAngles for 1-th iteration\n",
      "2025-01-18 00:25:08.384Z cobraCoach       30 cobraCoach.py:1003 Last phi angle is unknown, not moving: [1459]\n",
      "2025-01-18 00:25:08.384Z cobraCoach       20 cobraCoach.py:1009 Moving deltaTheta = [-1.94233989e-04 -5.14191722e-04 -6.14804362e-04  1.42413045e-04\n",
      " -1.01748456e-05  2.69975771e-06 -1.01748456e-05 -1.01748455e-05\n",
      " -1.01748456e-05  1.73407460e-04 -1.97115887e-05 -2.99138163e-04\n",
      " -2.97707652e-04 -1.03632841e-03 -1.01748456e-05 -3.80200480e-04\n",
      " -6.61534404e-04 -1.05065440e-04]\n",
      "2025-01-18 00:25:08.386Z cobraCoach       20 cobraCoach.py:1010 Moving deltaPhi = [-2.96687409 -2.96705963 -2.9670596  -0.04164008 -2.96705959 -6.10865247\n",
      "  0.         -2.96705964 -2.96705969 -0.12429068 -0.02128453 -0.01403744\n",
      " -0.06341524 -2.96602327 -6.10865247 -2.9670596  -0.01358    -0.0498779 ]\n",
      "2025-01-18 00:25:08.388Z cobraCoach       30 cobraCoach.py:846 Last phi angle is unknown: [1459]\n",
      "2025-01-18 00:25:08.392Z cobraCoach       20 cobraCoach.py:877 Finished converting angle to steps, sending command to moveSteps (constantOntime).\n",
      "2025-01-18 00:25:08.401Z cobraCoach       20 cobraCoach.py:587 Sending step numbers to FPGA for moving cobra.\n",
      "2025-01-18 00:25:08.404Z cobraCoach       20 cobraCoach.py:601 cobra control FPGA operation done.\n",
      "2025-01-18 00:25:08.431Z pfi              40 pfi.py:896 Some theta angles are out of range\n",
      "2025-01-18 00:25:08.435Z pfi              40 pfi.py:899 Some phi angles are out of range\n",
      "2025-01-18 00:25:08.545Z cobraCoach       30 cobraCoach.py:675 Cobra#344 is too far from center\n",
      "2025-01-18 00:25:08.547Z pfi              30 pfi.py:475 clipping scale adjustment from 0.2573481031895782 to 0.3\n",
      "2025-01-18 00:25:08.548Z cobraCoach       30 cobraCoach.py:679 Cobra#1460 is too close to center\n",
      "2025-01-18 00:25:08.549Z pfi              30 pfi.py:475 clipping scale adjustment from 0.26154231110049525 to 0.3\n",
      "2025-01-18 00:25:08.552Z engineer         20 engineer.py:422 Updating the cobra information\n",
      "2025-01-18 00:25:08.554Z engineer         20 engineer.py:412 Sending angles to moveToAngles for 2-th iteration\n",
      "2025-01-18 00:25:08.556Z cobraCoach       20 cobraCoach.py:1009 Moving deltaTheta = [-1.94233989e-04 -5.14191722e-04 -6.14804362e-04  1.42413045e-04\n",
      " -1.01748456e-05 -1.09852569e+00 -1.01748456e-05 -1.01748455e-05\n",
      " -1.01748456e-05  1.73407460e-04 -1.97115887e-05 -2.99138163e-04\n",
      " -2.97707652e-04 -1.03632841e-03 -1.07143418e+00 -3.80200480e-04\n",
      " -6.61534404e-04 -1.05065440e-04]\n",
      "2025-01-18 00:25:08.557Z cobraCoach       20 cobraCoach.py:1010 Moving deltaPhi = [-6.10865247 -2.96705963 -2.9670596  -0.04164008 -2.96705959 -1.71883189\n",
      " -2.96705973 -2.96705964 -2.96705969 -0.12429068 -0.02128453 -0.01403744\n",
      " -0.06341524 -2.96705964 -1.88389766 -2.9670596  -0.01358    -0.0498779 ]\n",
      "2025-01-18 00:25:08.562Z cobraCoach       20 cobraCoach.py:877 Finished converting angle to steps, sending command to moveSteps (constantOntime).\n",
      "2025-01-18 00:25:08.566Z cobraCoach       20 cobraCoach.py:587 Sending step numbers to FPGA for moving cobra.\n",
      "2025-01-18 00:25:08.572Z cobraCoach       20 cobraCoach.py:601 cobra control FPGA operation done.\n",
      "2025-01-18 00:25:08.600Z pfi              40 pfi.py:896 Some theta angles are out of range\n",
      "2025-01-18 00:25:08.601Z pfi              40 pfi.py:899 Some phi angles are out of range\n",
      "2025-01-18 00:25:08.715Z pfi              30 pfi.py:475 clipping scale adjustment from 0.2859424141191533 to 0.3\n",
      "2025-01-18 00:25:08.716Z cobraCoach       30 cobraCoach.py:675 Cobra#1303 is too far from center\n",
      "2025-01-18 00:25:08.717Z pfi              30 pfi.py:475 clipping scale adjustment from 0.29999999904403885 to 0.3\n",
      "2025-01-18 00:25:08.718Z cobraCoach       30 cobraCoach.py:675 Cobra#1790 is too far from center\n",
      "2025-01-18 00:25:08.721Z engineer         20 engineer.py:422 Updating the cobra information\n",
      "2025-01-18 00:25:08.725Z engineer         20 engineer.py:412 Sending angles to moveToAngles for 3-th iteration\n",
      "2025-01-18 00:25:08.728Z cobraCoach       30 cobraCoach.py:1003 Last phi angle is unknown, not moving: [1459]\n",
      "2025-01-18 00:25:08.730Z cobraCoach       20 cobraCoach.py:1009 Moving deltaTheta = [-3.21863813e-01 -5.14191722e-04 -6.14804362e-04  1.42413045e-04\n",
      " -1.01748456e-05 -6.82685060e-01 -1.01748456e-05 -1.01748455e-05\n",
      " -1.01748456e-05  1.73407460e-04 -1.97115887e-05 -2.99138163e-04\n",
      " -2.97707652e-04 -1.03632841e-03 -3.25590772e-01 -3.80200480e-04\n",
      " -6.61534404e-04 -1.05065440e-04]\n",
      "2025-01-18 00:25:08.731Z cobraCoach       20 cobraCoach.py:1010 Moving deltaPhi = [-2.64219266 -2.96705963 -2.9670596  -0.04164008 -2.96705959 -6.10865247\n",
      "  0.         -2.96705964 -2.96705969 -0.12429068 -0.02128453 -0.01403744\n",
      " -0.06341524 -2.96705964 -6.10865247 -2.9670596  -0.01358    -0.0498779 ]\n",
      "2025-01-18 00:25:08.735Z cobraCoach       30 cobraCoach.py:846 Last phi angle is unknown: [1459]\n",
      "2025-01-18 00:25:08.740Z cobraCoach       20 cobraCoach.py:877 Finished converting angle to steps, sending command to moveSteps (constantOntime).\n",
      "2025-01-18 00:25:08.751Z cobraCoach       20 cobraCoach.py:587 Sending step numbers to FPGA for moving cobra.\n",
      "2025-01-18 00:25:08.758Z cobraCoach       20 cobraCoach.py:601 cobra control FPGA operation done.\n",
      "2025-01-18 00:25:08.811Z pfi              40 pfi.py:896 Some theta angles are out of range\n",
      "2025-01-18 00:25:08.813Z pfi              40 pfi.py:899 Some phi angles are out of range\n",
      "2025-01-18 00:25:08.968Z pfi              30 pfi.py:475 clipping scale adjustment from 0.22521650184055392 to 0.3\n",
      "2025-01-18 00:25:08.969Z pfi              30 pfi.py:475 clipping scale adjustment from 0.2573481031895782 to 0.3\n",
      "2025-01-18 00:25:08.970Z cobraCoach       30 cobraCoach.py:679 Cobra#1460 is too close to center\n",
      "2025-01-18 00:25:08.972Z pfi              30 pfi.py:475 clipping scale adjustment from 0.22664453700152026 to 0.3\n",
      "2025-01-18 00:25:08.973Z pfi              30 pfi.py:475 clipping scale adjustment from 0.26154231110049525 to 0.3\n",
      "2025-01-18 00:25:08.975Z engineer         20 engineer.py:422 Updating the cobra information\n",
      "2025-01-18 00:25:08.977Z engineer         20 engineer.py:412 Sending angles to moveToAngles for 4-th iteration\n",
      "2025-01-18 00:25:08.979Z cobraCoach       20 cobraCoach.py:1009 Moving deltaTheta = [-2.17122172e-04 -5.14191722e-04 -6.14804362e-04  1.42413045e-04\n",
      " -1.01748456e-05  4.51698156e+00 -1.01748456e-05 -1.01748455e-05\n",
      " -1.01748456e-05  1.73407460e-04 -1.97115887e-05 -2.99138163e-04\n",
      " -2.97707652e-04 -1.03632841e-03  5.00301130e+00 -3.80200480e-04\n",
      " -6.61534404e-04 -1.05065440e-04]\n",
      "2025-01-18 00:25:08.980Z cobraCoach       20 cobraCoach.py:1010 Moving deltaPhi = [-2.96705965 -2.96705963 -2.9670596  -0.04164008 -2.96705959 -1.71883189\n",
      " -2.96705973 -2.96705964 -2.96705969 -0.12429068 -0.02128453 -0.01403744\n",
      " -0.06341524 -2.96705964 -1.88389766 -2.9670596  -0.01358    -0.0498779 ]\n",
      "2025-01-18 00:25:08.984Z cobraCoach       20 cobraCoach.py:877 Finished converting angle to steps, sending command to moveSteps (constantOntime).\n",
      "2025-01-18 00:25:08.996Z cobraCoach       20 cobraCoach.py:587 Sending step numbers to FPGA for moving cobra.\n",
      "2025-01-18 00:25:08.999Z cobraCoach       20 cobraCoach.py:601 cobra control FPGA operation done.\n",
      "2025-01-18 00:25:09.027Z pfi              40 pfi.py:896 Some theta angles are out of range\n",
      "2025-01-18 00:25:09.028Z pfi              40 pfi.py:899 Some phi angles are out of range\n",
      "2025-01-18 00:25:09.133Z cobraCoach       30 cobraCoach.py:675 Cobra#1790 is too far from center\n",
      "2025-01-18 00:25:09.134Z pfi              30 pfi.py:475 clipping scale adjustment from 0.29999999510714737 to 0.3\n",
      "2025-01-18 00:25:09.135Z engineer         20 engineer.py:422 Updating the cobra information\n",
      "2025-01-18 00:25:09.139Z engineer         20 engineer.py:412 Sending angles to moveToAngles for 5-th iteration\n",
      "2025-01-18 00:25:09.141Z cobraCoach       30 cobraCoach.py:1003 Last phi angle is unknown, not moving: [1459]\n",
      "2025-01-18 00:25:09.142Z cobraCoach       20 cobraCoach.py:1009 Moving deltaTheta = [-2.17122172e-04 -5.14191722e-04 -6.14804362e-04  1.42413045e-04\n",
      " -1.01748456e-05 -4.10811338e-03 -1.01748456e-05 -1.01748455e-05\n",
      " -1.01748456e-05  1.73407460e-04 -1.97115887e-05 -2.99138163e-04\n",
      " -2.97707652e-04 -1.03632841e-03  7.85623389e-01 -3.80200480e-04\n",
      " -6.61534404e-04 -1.05065440e-04]\n",
      "2025-01-18 00:25:09.143Z cobraCoach       20 cobraCoach.py:1010 Moving deltaPhi = [-2.96705965 -2.96705963 -2.9670596  -0.04164008 -2.96705959 -2.96705962\n",
      "  0.         -2.96705964 -2.96705969 -0.12429068 -0.02128453 -0.01403744\n",
      " -0.06341524 -2.96705964 -6.10865247 -2.9670596  -0.01358    -0.0498779 ]\n",
      "2025-01-18 00:25:09.145Z cobraCoach       30 cobraCoach.py:846 Last phi angle is unknown: [1459]\n",
      "2025-01-18 00:25:09.147Z cobraCoach       20 cobraCoach.py:877 Finished converting angle to steps, sending command to moveSteps (constantOntime).\n",
      "2025-01-18 00:25:09.157Z cobraCoach       20 cobraCoach.py:587 Sending step numbers to FPGA for moving cobra.\n",
      "2025-01-18 00:25:09.161Z cobraCoach       20 cobraCoach.py:601 cobra control FPGA operation done.\n",
      "2025-01-18 00:25:09.191Z pfi              40 pfi.py:896 Some theta angles are out of range\n",
      "2025-01-18 00:25:09.192Z pfi              40 pfi.py:899 Some phi angles are out of range\n",
      "2025-01-18 00:25:09.295Z pfi              30 pfi.py:475 clipping scale adjustment from 0.2250489700875823 to 0.3\n",
      "2025-01-18 00:25:09.296Z cobraCoach       30 cobraCoach.py:679 Cobra#1460 is too close to center\n",
      "2025-01-18 00:25:09.297Z pfi              30 pfi.py:475 clipping scale adjustment from 0.2561286605203101 to 0.3\n",
      "2025-01-18 00:25:09.298Z pfi              30 pfi.py:475 clipping scale adjustment from 0.26154231110049525 to 0.3\n",
      "2025-01-18 00:25:09.302Z engineer         20 engineer.py:422 Updating the cobra information\n",
      "2025-01-18 00:25:09.307Z engineer         30 engineer.py:445 18 cobras did not finish: [ 343  442  492  578  737 1302 1459 1493 1538 1560 1581 1583 1587 1636\n",
      " 1789 1791 1937 1969], [4.67 4.67 4.67 0.11 4.67 4.67 0.82 4.67 4.67 0.25 0.06 0.04 0.16 4.67\n",
      " 4.2  4.67 0.04 0.11]\n",
      "2025-01-18 00:25:09.308Z engineer         20 engineer.py:450 Returning 2394 atThetas and 2394 atPhis\n",
      "2025-01-18 00:25:09.337Z pfi              40 pfi.py:896 Some theta angles are out of range\n",
      "2025-01-18 00:25:09.340Z pfi              40 pfi.py:899 Some phi angles are out of range\n",
      "2025-01-18 00:25:09.431Z pfi              40 pfi.py:896 Some theta angles are out of range\n",
      "2025-01-18 00:25:09.433Z pfi              40 pfi.py:899 Some phi angles are out of range\n",
      "2025-01-18 00:25:09.498Z pfi              40 pfi.py:896 Some theta angles are out of range\n",
      "2025-01-18 00:25:09.499Z pfi              40 pfi.py:899 Some phi angles are out of range\n",
      "2025-01-18 00:25:09.542Z pfi              40 pfi.py:896 Some theta angles are out of range\n",
      "2025-01-18 00:25:09.544Z pfi              40 pfi.py:899 Some phi angles are out of range\n",
      "2025-01-18 00:25:09.659Z pfi              40 pfi.py:896 Some theta angles are out of range\n",
      "2025-01-18 00:25:09.662Z pfi              40 pfi.py:899 Some phi angles are out of range\n",
      "2025-01-18 00:25:09.731Z pfi              40 pfi.py:896 Some theta angles are out of range\n",
      "2025-01-18 00:25:09.733Z pfi              40 pfi.py:899 Some phi angles are out of range\n",
      "2025-01-18 00:25:09.791Z pfi              40 pfi.py:896 Some theta angles are out of range\n",
      "2025-01-18 00:25:09.793Z pfi              40 pfi.py:899 Some phi angles are out of range\n",
      "2025-01-18 00:25:09.845Z pfi              40 pfi.py:896 Some theta angles are out of range\n",
      "2025-01-18 00:25:09.846Z pfi              40 pfi.py:899 Some phi angles are out of range\n",
      "2025-01-18 00:25:09.895Z pfi              40 pfi.py:930 Some theta angles are out of range\n",
      "2025-01-18 00:25:09.954Z pfi              40 pfi.py:930 Some theta angles are out of range\n",
      "2025-01-18 00:25:10.003Z pfi              40 pfi.py:930 Some theta angles are out of range\n",
      "2025-01-18 00:25:10.041Z pfi              40 pfi.py:930 Some theta angles are out of range\n",
      "2025-01-18 00:25:10.082Z pfi              40 pfi.py:930 Some theta angles are out of range\n",
      "2025-01-18 00:25:10.122Z pfi              40 pfi.py:930 Some theta angles are out of range\n",
      "2025-01-18 00:25:10.160Z pfi              40 pfi.py:930 Some theta angles are out of range\n",
      "2025-01-18 00:25:10.198Z pfi              40 pfi.py:930 Some theta angles are out of range\n"
     ]
    },
    {
     "name": "stdout",
     "output_type": "stream",
     "text": [
      "ERROR: detected 13 end point collision, which should be impossible\n",
      "trajectory collisions found: 1\n",
      "Set parameter Presolve to value 1\n"
     ]
    },
    {
     "name": "stderr",
     "output_type": "stream",
     "text": [
      "2025-01-18 00:25:14.679Z gurobipy         20 netflow.py:117 Set parameter Presolve to value 1\n"
     ]
    },
    {
     "name": "stdout",
     "output_type": "stream",
     "text": [
      "Set parameter Method to value 4\n"
     ]
    },
    {
     "name": "stderr",
     "output_type": "stream",
     "text": [
      "2025-01-18 00:25:14.681Z gurobipy         20 netflow.py:117 Set parameter Method to value 4\n"
     ]
    },
    {
     "name": "stdout",
     "output_type": "stream",
     "text": [
      "Set parameter DegenMoves to value 0\n"
     ]
    },
    {
     "name": "stderr",
     "output_type": "stream",
     "text": [
      "2025-01-18 00:25:14.682Z gurobipy         20 netflow.py:117 Set parameter DegenMoves to value 0\n"
     ]
    },
    {
     "name": "stdout",
     "output_type": "stream",
     "text": [
      "Set parameter Heuristics to value 0.8\n"
     ]
    },
    {
     "name": "stderr",
     "output_type": "stream",
     "text": [
      "2025-01-18 00:25:14.684Z gurobipy         20 netflow.py:117 Set parameter Heuristics to value 0.8\n"
     ]
    },
    {
     "name": "stdout",
     "output_type": "stream",
     "text": [
      "Set parameter MIPGap to value 0.05\n"
     ]
    },
    {
     "name": "stderr",
     "output_type": "stream",
     "text": [
      "2025-01-18 00:25:14.685Z gurobipy         20 netflow.py:117 Set parameter MIPGap to value 0.05\n"
     ]
    },
    {
     "name": "stdout",
     "output_type": "stream",
     "text": [
      "Creating network topology\n",
      "  exposure 1\n",
      "Calculating visibilities\n",
      "adding constraints\n",
      "adding collision constraints\n",
      "adding forbidden pair constraints\n",
      "Gurobi Optimizer version 10.0.1 build v10.0.1rc0 (mac64[x86])\n"
     ]
    },
    {
     "name": "stderr",
     "output_type": "stream",
     "text": [
      "2025-01-18 00:25:26.645Z gurobipy         20 netflow.py:149 Gurobi Optimizer version 10.0.1 build v10.0.1rc0 (mac64[x86])\n"
     ]
    },
    {
     "name": "stdout",
     "output_type": "stream",
     "text": [
      "\n"
     ]
    },
    {
     "name": "stderr",
     "output_type": "stream",
     "text": [
      "2025-01-18 00:25:26.646Z gurobipy         20 netflow.py:149 \n"
     ]
    },
    {
     "name": "stdout",
     "output_type": "stream",
     "text": [
      "CPU model: Intel(R) Core(TM) i7-8569U CPU @ 2.80GHz\n"
     ]
    },
    {
     "name": "stderr",
     "output_type": "stream",
     "text": [
      "2025-01-18 00:25:26.648Z gurobipy         20 netflow.py:149 CPU model: Intel(R) Core(TM) i7-8569U CPU @ 2.80GHz\n"
     ]
    },
    {
     "name": "stdout",
     "output_type": "stream",
     "text": [
      "Thread count: 4 physical cores, 8 logical processors, using up to 8 threads\n"
     ]
    },
    {
     "name": "stderr",
     "output_type": "stream",
     "text": [
      "2025-01-18 00:25:26.649Z gurobipy         20 netflow.py:149 Thread count: 4 physical cores, 8 logical processors, using up to 8 threads\n"
     ]
    },
    {
     "name": "stdout",
     "output_type": "stream",
     "text": [
      "\n"
     ]
    },
    {
     "name": "stderr",
     "output_type": "stream",
     "text": [
      "2025-01-18 00:25:26.650Z gurobipy         20 netflow.py:149 \n"
     ]
    },
    {
     "name": "stdout",
     "output_type": "stream",
     "text": [
      "Academic license 2379863 - for non-commercial use only - registered to ji___@ipmu.jp\n"
     ]
    },
    {
     "name": "stderr",
     "output_type": "stream",
     "text": [
      "2025-01-18 00:25:26.654Z gurobipy         20 netflow.py:149 Academic license 2379863 - for non-commercial use only - registered to ji___@ipmu.jp\n"
     ]
    },
    {
     "name": "stdout",
     "output_type": "stream",
     "text": [
      "Optimize a model with 166609 rows, 82049 columns and 427486 nonzeros\n"
     ]
    },
    {
     "name": "stderr",
     "output_type": "stream",
     "text": [
      "2025-01-18 00:25:26.655Z gurobipy         20 netflow.py:149 Optimize a model with 166609 rows, 82049 columns and 427486 nonzeros\n"
     ]
    },
    {
     "name": "stdout",
     "output_type": "stream",
     "text": [
      "Model fingerprint: 0x86045821\n"
     ]
    },
    {
     "name": "stderr",
     "output_type": "stream",
     "text": [
      "2025-01-18 00:25:26.661Z gurobipy         20 netflow.py:149 Model fingerprint: 0x86045821\n"
     ]
    },
    {
     "name": "stdout",
     "output_type": "stream",
     "text": [
      "Variable types: 1 continuous, 82048 integer (82046 binary)\n"
     ]
    },
    {
     "name": "stderr",
     "output_type": "stream",
     "text": [
      "2025-01-18 00:25:26.663Z gurobipy         20 netflow.py:149 Variable types: 1 continuous, 82048 integer (82046 binary)\n"
     ]
    },
    {
     "name": "stdout",
     "output_type": "stream",
     "text": [
      "Coefficient statistics:\n"
     ]
    },
    {
     "name": "stderr",
     "output_type": "stream",
     "text": [
      "2025-01-18 00:25:26.666Z gurobipy         20 netflow.py:149 Coefficient statistics:\n"
     ]
    },
    {
     "name": "stdout",
     "output_type": "stream",
     "text": [
      "  Matrix range     [1e+00, 1e+00]\n"
     ]
    },
    {
     "name": "stderr",
     "output_type": "stream",
     "text": [
      "2025-01-18 00:25:26.668Z gurobipy         20 netflow.py:149   Matrix range     [1e+00, 1e+00]\n"
     ]
    },
    {
     "name": "stdout",
     "output_type": "stream",
     "text": [
      "  Objective range  [2e-04, 1e+06]\n"
     ]
    },
    {
     "name": "stderr",
     "output_type": "stream",
     "text": [
      "2025-01-18 00:25:26.670Z gurobipy         20 netflow.py:149   Objective range  [2e-04, 1e+06]\n"
     ]
    },
    {
     "name": "stdout",
     "output_type": "stream",
     "text": [
      "  Bounds range     [1e+00, 1e+00]\n"
     ]
    },
    {
     "name": "stderr",
     "output_type": "stream",
     "text": [
      "2025-01-18 00:25:26.672Z gurobipy         20 netflow.py:149   Bounds range     [1e+00, 1e+00]\n"
     ]
    },
    {
     "name": "stdout",
     "output_type": "stream",
     "text": [
      "  RHS range        [1e+00, 4e+02]\n"
     ]
    },
    {
     "name": "stderr",
     "output_type": "stream",
     "text": [
      "2025-01-18 00:25:26.674Z gurobipy         20 netflow.py:149   RHS range        [1e+00, 4e+02]\n"
     ]
    },
    {
     "name": "stdout",
     "output_type": "stream",
     "text": [
      "Found heuristic solution: objective 6.000000e+08\n"
     ]
    },
    {
     "name": "stderr",
     "output_type": "stream",
     "text": [
      "2025-01-18 00:25:26.699Z gurobipy         20 netflow.py:149 Found heuristic solution: objective 6.000000e+08\n"
     ]
    },
    {
     "name": "stdout",
     "output_type": "stream",
     "text": [
      "Presolve removed 166141 rows and 79316 columns\n"
     ]
    },
    {
     "name": "stderr",
     "output_type": "stream",
     "text": [
      "2025-01-18 00:25:27.447Z gurobipy         20 netflow.py:149 Presolve removed 166141 rows and 79316 columns\n"
     ]
    },
    {
     "name": "stdout",
     "output_type": "stream",
     "text": [
      "Presolve time: 0.72s\n"
     ]
    },
    {
     "name": "stderr",
     "output_type": "stream",
     "text": [
      "2025-01-18 00:25:27.448Z gurobipy         20 netflow.py:149 Presolve time: 0.72s\n"
     ]
    },
    {
     "name": "stdout",
     "output_type": "stream",
     "text": [
      "Presolved: 468 rows, 2733 columns, 3674 nonzeros\n"
     ]
    },
    {
     "name": "stderr",
     "output_type": "stream",
     "text": [
      "2025-01-18 00:25:27.454Z gurobipy         20 netflow.py:149 Presolved: 468 rows, 2733 columns, 3674 nonzeros\n"
     ]
    },
    {
     "name": "stdout",
     "output_type": "stream",
     "text": [
      "Found heuristic solution: objective 5.940000e+08\n"
     ]
    },
    {
     "name": "stderr",
     "output_type": "stream",
     "text": [
      "2025-01-18 00:25:27.462Z gurobipy         20 netflow.py:149 Found heuristic solution: objective 5.940000e+08\n"
     ]
    },
    {
     "name": "stdout",
     "output_type": "stream",
     "text": [
      "Variable types: 0 continuous, 2733 integer (2731 binary)\n"
     ]
    },
    {
     "name": "stderr",
     "output_type": "stream",
     "text": [
      "2025-01-18 00:25:27.463Z gurobipy         20 netflow.py:149 Variable types: 0 continuous, 2733 integer (2731 binary)\n"
     ]
    },
    {
     "name": "stdout",
     "output_type": "stream",
     "text": [
      "Found heuristic solution: objective 5.920000e+08\n"
     ]
    },
    {
     "name": "stderr",
     "output_type": "stream",
     "text": [
      "2025-01-18 00:25:27.466Z gurobipy         20 netflow.py:149 Found heuristic solution: objective 5.920000e+08\n"
     ]
    },
    {
     "name": "stdout",
     "output_type": "stream",
     "text": [
      "Deterministic concurrent LP optimizer: dual simplex and barrier\n"
     ]
    },
    {
     "name": "stderr",
     "output_type": "stream",
     "text": [
      "2025-01-18 00:25:27.471Z gurobipy         20 netflow.py:149 Deterministic concurrent LP optimizer: dual simplex and barrier\n"
     ]
    },
    {
     "name": "stdout",
     "output_type": "stream",
     "text": [
      "Showing barrier log only...\n"
     ]
    },
    {
     "name": "stderr",
     "output_type": "stream",
     "text": [
      "2025-01-18 00:25:27.473Z gurobipy         20 netflow.py:149 Showing barrier log only...\n"
     ]
    },
    {
     "name": "stdout",
     "output_type": "stream",
     "text": [
      "\n"
     ]
    },
    {
     "name": "stderr",
     "output_type": "stream",
     "text": [
      "2025-01-18 00:25:27.475Z gurobipy         20 netflow.py:149 \n"
     ]
    },
    {
     "name": "stdout",
     "output_type": "stream",
     "text": [
      "Root barrier log...\n"
     ]
    },
    {
     "name": "stderr",
     "output_type": "stream",
     "text": [
      "2025-01-18 00:25:27.478Z gurobipy         20 netflow.py:149 Root barrier log...\n"
     ]
    },
    {
     "name": "stdout",
     "output_type": "stream",
     "text": [
      "\n"
     ]
    },
    {
     "name": "stderr",
     "output_type": "stream",
     "text": [
      "2025-01-18 00:25:27.480Z gurobipy         20 netflow.py:149 \n"
     ]
    },
    {
     "name": "stdout",
     "output_type": "stream",
     "text": [
      "Ordering time: 0.00s\n"
     ]
    },
    {
     "name": "stderr",
     "output_type": "stream",
     "text": [
      "2025-01-18 00:25:27.482Z gurobipy         20 netflow.py:149 Ordering time: 0.00s\n"
     ]
    },
    {
     "name": "stdout",
     "output_type": "stream",
     "text": [
      "\n"
     ]
    },
    {
     "name": "stderr",
     "output_type": "stream",
     "text": [
      "2025-01-18 00:25:27.484Z gurobipy         20 netflow.py:149 \n"
     ]
    },
    {
     "name": "stdout",
     "output_type": "stream",
     "text": [
      "Barrier statistics:\n"
     ]
    },
    {
     "name": "stderr",
     "output_type": "stream",
     "text": [
      "2025-01-18 00:25:27.486Z gurobipy         20 netflow.py:149 Barrier statistics:\n"
     ]
    },
    {
     "name": "stdout",
     "output_type": "stream",
     "text": [
      " AA' NZ     : 9.940e+02\n"
     ]
    },
    {
     "name": "stderr",
     "output_type": "stream",
     "text": [
      "2025-01-18 00:25:27.488Z gurobipy         20 netflow.py:149  AA' NZ     : 9.940e+02\n"
     ]
    },
    {
     "name": "stdout",
     "output_type": "stream",
     "text": [
      " Factor NZ  : 2.064e+03 (roughly 1 MB of memory)\n"
     ]
    },
    {
     "name": "stderr",
     "output_type": "stream",
     "text": [
      "2025-01-18 00:25:27.489Z gurobipy         20 netflow.py:149  Factor NZ  : 2.064e+03 (roughly 1 MB of memory)\n"
     ]
    },
    {
     "name": "stdout",
     "output_type": "stream",
     "text": [
      " Factor Ops : 1.651e+04 (less than 1 second per iteration)\n"
     ]
    },
    {
     "name": "stderr",
     "output_type": "stream",
     "text": [
      "2025-01-18 00:25:27.490Z gurobipy         20 netflow.py:149  Factor Ops : 1.651e+04 (less than 1 second per iteration)\n"
     ]
    },
    {
     "name": "stdout",
     "output_type": "stream",
     "text": [
      " Threads    : 1\n"
     ]
    },
    {
     "name": "stderr",
     "output_type": "stream",
     "text": [
      "2025-01-18 00:25:27.492Z gurobipy         20 netflow.py:149  Threads    : 1\n"
     ]
    },
    {
     "name": "stdout",
     "output_type": "stream",
     "text": [
      "\n"
     ]
    },
    {
     "name": "stderr",
     "output_type": "stream",
     "text": [
      "2025-01-18 00:25:27.494Z gurobipy         20 netflow.py:149 \n"
     ]
    },
    {
     "name": "stdout",
     "output_type": "stream",
     "text": [
      "                  Objective                Residual\n"
     ]
    },
    {
     "name": "stderr",
     "output_type": "stream",
     "text": [
      "2025-01-18 00:25:27.495Z gurobipy         20 netflow.py:149                   Objective                Residual\n"
     ]
    },
    {
     "name": "stdout",
     "output_type": "stream",
     "text": [
      "Iter       Primal          Dual         Primal    Dual     Compl     Time\n"
     ]
    },
    {
     "name": "stderr",
     "output_type": "stream",
     "text": [
      "2025-01-18 00:25:27.497Z gurobipy         20 netflow.py:149 Iter       Primal          Dual         Primal    Dual     Compl     Time\n"
     ]
    },
    {
     "name": "stdout",
     "output_type": "stream",
     "text": [
      "   0   3.58510463e+08 -2.83167462e+09  1.55e+01 5.01e+04  3.03e+07     1s\n"
     ]
    },
    {
     "name": "stderr",
     "output_type": "stream",
     "text": [
      "2025-01-18 00:25:27.499Z gurobipy         20 netflow.py:149    0   3.58510463e+08 -2.83167462e+09  1.55e+01 5.01e+04  3.03e+07     1s\n"
     ]
    },
    {
     "name": "stdout",
     "output_type": "stream",
     "text": [
      "\n"
     ]
    },
    {
     "name": "stderr",
     "output_type": "stream",
     "text": [
      "2025-01-18 00:25:27.500Z gurobipy         20 netflow.py:149 \n"
     ]
    },
    {
     "name": "stdout",
     "output_type": "stream",
     "text": [
      "Barrier performed 0 iterations in 0.85 seconds (0.40 work units)\n"
     ]
    },
    {
     "name": "stderr",
     "output_type": "stream",
     "text": [
      "2025-01-18 00:25:27.502Z gurobipy         20 netflow.py:149 Barrier performed 0 iterations in 0.85 seconds (0.40 work units)\n"
     ]
    },
    {
     "name": "stdout",
     "output_type": "stream",
     "text": [
      "Barrier solve interrupted - model solved by another algorithm\n"
     ]
    },
    {
     "name": "stderr",
     "output_type": "stream",
     "text": [
      "2025-01-18 00:25:27.504Z gurobipy         20 netflow.py:149 Barrier solve interrupted - model solved by another algorithm\n"
     ]
    },
    {
     "name": "stdout",
     "output_type": "stream",
     "text": [
      "\n"
     ]
    },
    {
     "name": "stderr",
     "output_type": "stream",
     "text": [
      "2025-01-18 00:25:27.505Z gurobipy         20 netflow.py:149 \n"
     ]
    },
    {
     "name": "stdout",
     "output_type": "stream",
     "text": [
      "Concurrent spin time: 0.03s\n"
     ]
    },
    {
     "name": "stderr",
     "output_type": "stream",
     "text": [
      "2025-01-18 00:25:27.507Z gurobipy         20 netflow.py:149 Concurrent spin time: 0.03s\n"
     ]
    },
    {
     "name": "stdout",
     "output_type": "stream",
     "text": [
      "\n"
     ]
    },
    {
     "name": "stderr",
     "output_type": "stream",
     "text": [
      "2025-01-18 00:25:27.508Z gurobipy         20 netflow.py:149 \n"
     ]
    },
    {
     "name": "stdout",
     "output_type": "stream",
     "text": [
      "Solved with dual simplex\n"
     ]
    },
    {
     "name": "stderr",
     "output_type": "stream",
     "text": [
      "2025-01-18 00:25:27.510Z gurobipy         20 netflow.py:149 Solved with dual simplex\n"
     ]
    },
    {
     "name": "stdout",
     "output_type": "stream",
     "text": [
      "\n"
     ]
    },
    {
     "name": "stderr",
     "output_type": "stream",
     "text": [
      "2025-01-18 00:25:27.512Z gurobipy         20 netflow.py:149 \n"
     ]
    },
    {
     "name": "stdout",
     "output_type": "stream",
     "text": [
      "Root relaxation: objective 1.069078e+01, 48 iterations, 0.04 seconds (0.00 work units)\n"
     ]
    },
    {
     "name": "stderr",
     "output_type": "stream",
     "text": [
      "2025-01-18 00:25:27.514Z gurobipy         20 netflow.py:149 Root relaxation: objective 1.069078e+01, 48 iterations, 0.04 seconds (0.00 work units)\n"
     ]
    },
    {
     "name": "stdout",
     "output_type": "stream",
     "text": [
      "\n"
     ]
    },
    {
     "name": "stderr",
     "output_type": "stream",
     "text": [
      "2025-01-18 00:25:27.518Z gurobipy         20 netflow.py:149 \n"
     ]
    },
    {
     "name": "stdout",
     "output_type": "stream",
     "text": [
      "    Nodes    |    Current Node    |     Objective Bounds      |     Work\n"
     ]
    },
    {
     "name": "stderr",
     "output_type": "stream",
     "text": [
      "2025-01-18 00:25:27.520Z gurobipy         20 netflow.py:149     Nodes    |    Current Node    |     Objective Bounds      |     Work\n"
     ]
    },
    {
     "name": "stdout",
     "output_type": "stream",
     "text": [
      " Expl Unexpl |  Obj  Depth IntInf | Incumbent    BestBd   Gap | It/Node Time\n"
     ]
    },
    {
     "name": "stderr",
     "output_type": "stream",
     "text": [
      "2025-01-18 00:25:27.522Z gurobipy         20 netflow.py:149  Expl Unexpl |  Obj  Depth IntInf | Incumbent    BestBd   Gap | It/Node Time\n"
     ]
    },
    {
     "name": "stdout",
     "output_type": "stream",
     "text": [
      "\n"
     ]
    },
    {
     "name": "stderr",
     "output_type": "stream",
     "text": [
      "2025-01-18 00:25:27.524Z gurobipy         20 netflow.py:149 \n"
     ]
    },
    {
     "name": "stdout",
     "output_type": "stream",
     "text": [
      "*    0     0               0      10.6907795   10.69078  0.00%     -    0s\n"
     ]
    },
    {
     "name": "stderr",
     "output_type": "stream",
     "text": [
      "2025-01-18 00:25:27.525Z gurobipy         20 netflow.py:149 *    0     0               0      10.6907795   10.69078  0.00%     -    0s\n"
     ]
    },
    {
     "name": "stdout",
     "output_type": "stream",
     "text": [
      "\n"
     ]
    },
    {
     "name": "stderr",
     "output_type": "stream",
     "text": [
      "2025-01-18 00:25:27.544Z gurobipy         20 netflow.py:149 \n"
     ]
    },
    {
     "name": "stdout",
     "output_type": "stream",
     "text": [
      "Explored 1 nodes (48 simplex iterations) in 0.89 seconds (0.40 work units)\n"
     ]
    },
    {
     "name": "stderr",
     "output_type": "stream",
     "text": [
      "2025-01-18 00:25:27.546Z gurobipy         20 netflow.py:149 Explored 1 nodes (48 simplex iterations) in 0.89 seconds (0.40 work units)\n"
     ]
    },
    {
     "name": "stdout",
     "output_type": "stream",
     "text": [
      "Thread count was 8 (of 8 available processors)\n"
     ]
    },
    {
     "name": "stderr",
     "output_type": "stream",
     "text": [
      "2025-01-18 00:25:27.548Z gurobipy         20 netflow.py:149 Thread count was 8 (of 8 available processors)\n"
     ]
    },
    {
     "name": "stdout",
     "output_type": "stream",
     "text": [
      "\n"
     ]
    },
    {
     "name": "stderr",
     "output_type": "stream",
     "text": [
      "2025-01-18 00:25:27.550Z gurobipy         20 netflow.py:149 \n"
     ]
    },
    {
     "name": "stdout",
     "output_type": "stream",
     "text": [
      "Solution count 4: 10.6908 5.92e+08 5.94e+08 6e+08 \n"
     ]
    },
    {
     "name": "stderr",
     "output_type": "stream",
     "text": [
      "2025-01-18 00:25:27.551Z gurobipy         20 netflow.py:149 Solution count 4: 10.6908 5.92e+08 5.94e+08 6e+08 \n"
     ]
    },
    {
     "name": "stdout",
     "output_type": "stream",
     "text": [
      "\n"
     ]
    },
    {
     "name": "stderr",
     "output_type": "stream",
     "text": [
      "2025-01-18 00:25:27.553Z gurobipy         20 netflow.py:149 \n"
     ]
    },
    {
     "name": "stdout",
     "output_type": "stream",
     "text": [
      "Optimal solution found (tolerance 5.00e-02)\n"
     ]
    },
    {
     "name": "stderr",
     "output_type": "stream",
     "text": [
      "2025-01-18 00:25:27.555Z gurobipy         20 netflow.py:149 Optimal solution found (tolerance 5.00e-02)\n"
     ]
    },
    {
     "name": "stdout",
     "output_type": "stream",
     "text": [
      "Best objective 1.069077945231e+01, best bound 1.069077945231e+01, gap 0.0000%\n"
     ]
    },
    {
     "name": "stderr",
     "output_type": "stream",
     "text": [
      "2025-01-18 00:25:27.562Z gurobipy         20 netflow.py:149 Best objective 1.069077945231e+01, best bound 1.069077945231e+01, gap 0.0000%\n"
     ]
    },
    {
     "name": "stdout",
     "output_type": "stream",
     "text": [
      "Checking for trajectory collisions\n"
     ]
    },
    {
     "name": "stderr",
     "output_type": "stream",
     "text": [
      "2025-01-18 00:25:27.758Z pfi              40 pfi.py:896 Some theta angles are out of range\n",
      "2025-01-18 00:25:27.759Z pfi              40 pfi.py:899 Some phi angles are out of range\n",
      "2025-01-18 00:25:27.870Z pfi              40 pfi.py:899 Some phi angles are out of range\n",
      "2025-01-18 00:25:27.906Z pfi              40 pfi.py:899 Some phi angles are out of range\n",
      "2025-01-18 00:25:27.909Z engineer         20 engineer.py:395 Move theta arms to angle=[360.   206.35 360.   ... 360.   360.   360.  ] degree\n",
      "2025-01-18 00:25:27.910Z engineer         20 engineer.py:396 Move phi arms to angle=[11.09 25.92 13.06 ...  8.43 11.99  9.16] degree\n",
      "2025-01-18 00:25:27.911Z engineer         20 engineer.py:398 Checking passed homed argument = True\n",
      "2025-01-18 00:25:27.912Z engineer         20 engineer.py:402 Move theta arms CW and phi arms CCW to the hard stops\n",
      "2025-01-18 00:25:27.938Z cobraCoach       20 cobraCoach.py:1065 home cobras: theta=10000, phi=-5000\n",
      "2025-01-18 00:25:27.960Z pfi              40 pfi.py:899 Some phi angles are out of range\n",
      "2025-01-18 00:25:27.982Z pfi              40 pfi.py:899 Some phi angles are out of range\n",
      "2025-01-18 00:25:27.984Z engineer         20 engineer.py:412 Sending angles to moveToAngles for 0-th iteration\n",
      "2025-01-18 00:25:28.007Z cobraCoach       20 cobraCoach.py:1009 Moving deltaTheta = [-0.29458444 -3.06367305 -0.35608403 ... -0.40597169 -0.4013664\n",
      " -0.41592376]\n",
      "2025-01-18 00:25:28.008Z cobraCoach       20 cobraCoach.py:1010 Moving deltaPhi = [0.19361448 0.45246749 0.22794454 ... 0.14708474 0.20932294 0.15978886]\n",
      "2025-01-18 00:25:28.321Z cobraCoach       20 cobraCoach.py:877 Finished converting angle to steps, sending command to moveSteps (constantOntime).\n",
      "2025-01-18 00:25:28.863Z cobraCoach       20 cobraCoach.py:587 Sending step numbers to FPGA for moving cobra.\n",
      "2025-01-18 00:25:28.966Z cobraCoach       20 cobraCoach.py:601 cobra control FPGA operation done.\n",
      "2025-01-18 00:25:28.989Z pfi              40 pfi.py:896 Some theta angles are out of range\n",
      "2025-01-18 00:25:28.990Z pfi              40 pfi.py:899 Some phi angles are out of range\n",
      "2025-01-18 00:25:29.098Z cobraCoach       30 cobraCoach.py:675 Cobra#344 is too far from center\n",
      "2025-01-18 00:25:29.101Z cobraCoach       30 cobraCoach.py:675 Cobra#443 is too far from center\n",
      "2025-01-18 00:25:29.104Z cobraCoach       30 cobraCoach.py:675 Cobra#493 is too far from center\n",
      "2025-01-18 00:25:29.128Z cobraCoach       30 cobraCoach.py:675 Cobra#1303 is too far from center\n",
      "2025-01-18 00:25:29.139Z cobraCoach       30 cobraCoach.py:675 Cobra#1637 is too far from center\n",
      "2025-01-18 00:25:29.145Z cobraCoach       30 cobraCoach.py:675 Cobra#1790 is too far from center\n",
      "2025-01-18 00:25:29.146Z cobraCoach       30 cobraCoach.py:675 Cobra#1792 is too far from center\n",
      "2025-01-18 00:25:29.166Z engineer         20 engineer.py:422 Updating the cobra information\n",
      "2025-01-18 00:25:29.169Z engineer         20 engineer.py:436 done: [   0    1    2 ... 2391 2392 2393], 20 left\n",
      "2025-01-18 00:25:29.170Z engineer         20 engineer.py:412 Sending angles to moveToAngles for 1-th iteration\n",
      "2025-01-18 00:25:29.173Z cobraCoach       30 cobraCoach.py:1003 Last phi angle is unknown, not moving: [1459]\n",
      "2025-01-18 00:25:29.174Z cobraCoach       20 cobraCoach.py:1009 Moving deltaTheta = [-1.01748456e-05 -1.01748456e-05 -1.01748456e-05  1.42413045e-04\n",
      " -1.01748456e-05 -1.01748456e-05 -1.01748456e-05 -1.01748455e-05\n",
      " -1.01748456e-05  1.73407460e-04 -1.97115887e-05 -2.99138163e-04\n",
      "  6.92683126e-04 -1.01748455e-05 -6.78797130e-04 -1.01748456e-05\n",
      " -1.01748456e-05 -6.61534404e-04 -5.09209882e-01  1.10228624e-03]\n",
      "2025-01-18 00:25:29.175Z cobraCoach       20 cobraCoach.py:1010 Moving deltaPhi = [-6.10865247e+00 -6.10865247e+00 -6.10865247e+00 -4.16400827e-02\n",
      " -2.96705959e+00 -6.10865247e+00  0.00000000e+00 -2.96705964e+00\n",
      " -2.96705969e+00 -1.24290680e-01 -2.12845317e-02 -1.40374378e-02\n",
      " -6.34152399e-02 -6.10865247e+00 -2.14398305e-03 -6.10865247e+00\n",
      " -6.10865247e+00 -1.35800043e-02  3.37174294e-01 -4.98778998e-02]\n",
      "2025-01-18 00:25:29.177Z cobraCoach       30 cobraCoach.py:846 Last phi angle is unknown: [1459]\n",
      "2025-01-18 00:25:29.180Z cobraCoach       20 cobraCoach.py:877 Finished converting angle to steps, sending command to moveSteps (constantOntime).\n",
      "2025-01-18 00:25:29.188Z cobraCoach       20 cobraCoach.py:587 Sending step numbers to FPGA for moving cobra.\n",
      "2025-01-18 00:25:29.191Z cobraCoach       20 cobraCoach.py:601 cobra control FPGA operation done.\n",
      "2025-01-18 00:25:29.215Z pfi              40 pfi.py:896 Some theta angles are out of range\n",
      "2025-01-18 00:25:29.216Z pfi              40 pfi.py:899 Some phi angles are out of range\n",
      "2025-01-18 00:25:29.316Z cobraCoach       30 cobraCoach.py:675 Cobra#344 is too far from center\n",
      "2025-01-18 00:25:29.317Z cobraCoach       30 cobraCoach.py:679 Cobra#1460 is too close to center\n",
      "2025-01-18 00:25:29.317Z cobraCoach       30 cobraCoach.py:675 Cobra#1637 is too far from center\n",
      "2025-01-18 00:25:29.319Z cobraCoach       30 cobraCoach.py:675 Cobra#1790 is too far from center\n",
      "2025-01-18 00:25:29.320Z engineer         20 engineer.py:422 Updating the cobra information\n",
      "2025-01-18 00:25:29.323Z engineer         20 engineer.py:436 done: [1782 1956], 18 left\n",
      "2025-01-18 00:25:29.324Z engineer         30 engineer.py:445 18 cobras did not finish: [ 343  442  492  578  737 1302 1459 1493 1538 1560 1581 1583 1587 1636\n",
      " 1789 1791 1937 1969], [4.67 4.67 4.67 0.11 4.67 4.67 0.82 4.67 4.67 0.25 0.06 0.04 0.16 4.67\n",
      " 4.67 4.67 0.04 0.11]\n",
      "2025-01-18 00:25:29.325Z engineer         20 engineer.py:450 Returning 2394 atThetas and 2394 atPhis\n",
      "2025-01-18 00:25:29.352Z pfi              40 pfi.py:899 Some phi angles are out of range\n",
      "2025-01-18 00:25:29.354Z engineer         20 engineer.py:395 Move theta arms to angle=[360.   206.35 360.   ... 360.   360.   360.  ] degree\n",
      "2025-01-18 00:25:29.355Z engineer         20 engineer.py:396 Move phi arms to angle=[11.09 25.92 13.06 ...  8.43 11.99  9.16] degree\n",
      "2025-01-18 00:25:29.356Z engineer         20 engineer.py:398 Checking passed homed argument = False\n",
      "2025-01-18 00:25:29.357Z engineer         20 engineer.py:412 Sending angles to moveToAngles for 0-th iteration\n",
      "2025-01-18 00:25:29.383Z cobraCoach       20 cobraCoach.py:1009 Moving deltaTheta = [-2.67190074e-04  6.33917665e-05  3.87030507e-04 ... -2.54792308e-04\n",
      "  3.84169484e-04 -7.24000071e-04]\n",
      "2025-01-18 00:25:29.384Z cobraCoach       20 cobraCoach.py:1010 Moving deltaPhi = [ 8.60699099e-05 -4.28598462e-04  1.86819450e-04 ...  6.56574960e-04\n",
      " -8.39715058e-04 -4.29651246e-04]\n",
      "2025-01-18 00:25:29.591Z cobraCoach       20 cobraCoach.py:877 Finished converting angle to steps, sending command to moveSteps (constantOntime).\n",
      "2025-01-18 00:25:29.793Z cobraCoach       20 cobraCoach.py:587 Sending step numbers to FPGA for moving cobra.\n",
      "2025-01-18 00:25:29.896Z cobraCoach       20 cobraCoach.py:601 cobra control FPGA operation done.\n",
      "2025-01-18 00:25:29.919Z pfi              40 pfi.py:896 Some theta angles are out of range\n",
      "2025-01-18 00:25:29.921Z pfi              40 pfi.py:899 Some phi angles are out of range\n",
      "2025-01-18 00:25:30.054Z cobraCoach       30 cobraCoach.py:675 Cobra#1303 is too far from center\n",
      "2025-01-18 00:25:30.068Z cobraCoach       30 cobraCoach.py:675 Cobra#1790 is too far from center\n",
      "2025-01-18 00:25:30.086Z engineer         20 engineer.py:422 Updating the cobra information\n",
      "2025-01-18 00:25:30.089Z engineer         20 engineer.py:436 done: [   0    1    2 ... 2391 2392 2393], 18 left\n",
      "2025-01-18 00:25:30.090Z engineer         20 engineer.py:412 Sending angles to moveToAngles for 1-th iteration\n",
      "2025-01-18 00:25:30.092Z cobraCoach       30 cobraCoach.py:1003 Last phi angle is unknown, not moving: [1459]\n",
      "2025-01-18 00:25:30.093Z cobraCoach       20 cobraCoach.py:1009 Moving deltaTheta = [-1.94233989e-04 -5.14191722e-04 -6.14804362e-04  1.42413045e-04\n",
      " -1.01748456e-05  2.69975771e-06 -1.01748456e-05 -1.01748455e-05\n",
      " -1.01748456e-05  1.73407460e-04 -1.97115887e-05 -2.99138163e-04\n",
      " -2.97707652e-04 -1.03632841e-03 -1.01748456e-05 -3.80200480e-04\n",
      " -6.61534404e-04 -1.05065440e-04]\n",
      "2025-01-18 00:25:30.094Z cobraCoach       20 cobraCoach.py:1010 Moving deltaPhi = [-2.96687409 -2.96705963 -2.9670596  -0.04164008 -2.96705959 -6.10865247\n",
      "  0.         -2.96705964 -2.96705969 -0.12429068 -0.02128453 -0.01403744\n",
      " -0.06341524 -2.96602327 -6.10865247 -2.9670596  -0.01358    -0.0498779 ]\n",
      "2025-01-18 00:25:30.097Z cobraCoach       30 cobraCoach.py:846 Last phi angle is unknown: [1459]\n",
      "2025-01-18 00:25:30.100Z cobraCoach       20 cobraCoach.py:877 Finished converting angle to steps, sending command to moveSteps (constantOntime).\n",
      "2025-01-18 00:25:30.107Z cobraCoach       20 cobraCoach.py:587 Sending step numbers to FPGA for moving cobra.\n",
      "2025-01-18 00:25:30.111Z cobraCoach       20 cobraCoach.py:601 cobra control FPGA operation done.\n",
      "2025-01-18 00:25:30.135Z pfi              40 pfi.py:896 Some theta angles are out of range\n",
      "2025-01-18 00:25:30.136Z pfi              40 pfi.py:899 Some phi angles are out of range\n",
      "2025-01-18 00:25:30.230Z cobraCoach       30 cobraCoach.py:675 Cobra#344 is too far from center\n",
      "2025-01-18 00:25:30.231Z pfi              30 pfi.py:475 clipping scale adjustment from 0.2573481031895782 to 0.3\n",
      "2025-01-18 00:25:30.231Z cobraCoach       30 cobraCoach.py:679 Cobra#1460 is too close to center\n",
      "2025-01-18 00:25:30.233Z pfi              30 pfi.py:475 clipping scale adjustment from 0.26154231110049525 to 0.3\n",
      "2025-01-18 00:25:30.234Z engineer         20 engineer.py:422 Updating the cobra information\n",
      "2025-01-18 00:25:30.236Z engineer         20 engineer.py:412 Sending angles to moveToAngles for 2-th iteration\n",
      "2025-01-18 00:25:30.238Z cobraCoach       20 cobraCoach.py:1009 Moving deltaTheta = [-1.94233989e-04 -5.14191722e-04 -6.14804362e-04  1.42413045e-04\n",
      " -1.01748456e-05 -1.09852569e+00 -1.01748456e-05 -1.01748455e-05\n",
      " -1.01748456e-05  1.73407460e-04 -1.97115887e-05 -2.99138163e-04\n",
      " -2.97707652e-04 -1.03632841e-03 -1.07143418e+00 -3.80200480e-04\n",
      " -6.61534404e-04 -1.05065440e-04]\n",
      "2025-01-18 00:25:30.239Z cobraCoach       20 cobraCoach.py:1010 Moving deltaPhi = [-6.10865247 -2.96705963 -2.9670596  -0.04164008 -2.96705959 -1.71883189\n",
      " -2.96705973 -2.96705964 -2.96705969 -0.12429068 -0.02128453 -0.01403744\n",
      " -0.06341524 -2.96705964 -1.88389766 -2.9670596  -0.01358    -0.0498779 ]\n",
      "2025-01-18 00:25:30.243Z cobraCoach       20 cobraCoach.py:877 Finished converting angle to steps, sending command to moveSteps (constantOntime).\n",
      "2025-01-18 00:25:30.249Z cobraCoach       20 cobraCoach.py:587 Sending step numbers to FPGA for moving cobra.\n",
      "2025-01-18 00:25:30.252Z cobraCoach       20 cobraCoach.py:601 cobra control FPGA operation done.\n",
      "2025-01-18 00:25:30.274Z pfi              40 pfi.py:896 Some theta angles are out of range\n",
      "2025-01-18 00:25:30.275Z pfi              40 pfi.py:899 Some phi angles are out of range\n",
      "2025-01-18 00:25:30.370Z pfi              30 pfi.py:475 clipping scale adjustment from 0.2859424141191533 to 0.3\n",
      "2025-01-18 00:25:30.371Z cobraCoach       30 cobraCoach.py:675 Cobra#1303 is too far from center\n",
      "2025-01-18 00:25:30.371Z pfi              30 pfi.py:475 clipping scale adjustment from 0.29999999904403885 to 0.3\n",
      "2025-01-18 00:25:30.372Z cobraCoach       30 cobraCoach.py:675 Cobra#1790 is too far from center\n",
      "2025-01-18 00:25:30.374Z engineer         20 engineer.py:422 Updating the cobra information\n",
      "2025-01-18 00:25:30.375Z engineer         20 engineer.py:412 Sending angles to moveToAngles for 3-th iteration\n",
      "2025-01-18 00:25:30.377Z cobraCoach       30 cobraCoach.py:1003 Last phi angle is unknown, not moving: [1459]\n",
      "2025-01-18 00:25:30.379Z cobraCoach       20 cobraCoach.py:1009 Moving deltaTheta = [-3.21863813e-01 -5.14191722e-04 -6.14804362e-04  1.42413045e-04\n",
      " -1.01748456e-05 -6.82685060e-01 -1.01748456e-05 -1.01748455e-05\n",
      " -1.01748456e-05  1.73407460e-04 -1.97115887e-05 -2.99138163e-04\n",
      " -2.97707652e-04 -1.03632841e-03 -3.25590772e-01 -3.80200480e-04\n",
      " -6.61534404e-04 -1.05065440e-04]\n",
      "2025-01-18 00:25:30.381Z cobraCoach       20 cobraCoach.py:1010 Moving deltaPhi = [-2.64219266 -2.96705963 -2.9670596  -0.04164008 -2.96705959 -6.10865247\n",
      "  0.         -2.96705964 -2.96705969 -0.12429068 -0.02128453 -0.01403744\n",
      " -0.06341524 -2.96705964 -6.10865247 -2.9670596  -0.01358    -0.0498779 ]\n",
      "2025-01-18 00:25:30.384Z cobraCoach       30 cobraCoach.py:846 Last phi angle is unknown: [1459]\n",
      "2025-01-18 00:25:30.387Z cobraCoach       20 cobraCoach.py:877 Finished converting angle to steps, sending command to moveSteps (constantOntime).\n",
      "2025-01-18 00:25:30.398Z cobraCoach       20 cobraCoach.py:587 Sending step numbers to FPGA for moving cobra.\n",
      "2025-01-18 00:25:30.400Z cobraCoach       20 cobraCoach.py:601 cobra control FPGA operation done.\n",
      "2025-01-18 00:25:30.424Z pfi              40 pfi.py:896 Some theta angles are out of range\n",
      "2025-01-18 00:25:30.425Z pfi              40 pfi.py:899 Some phi angles are out of range\n",
      "2025-01-18 00:25:30.525Z pfi              30 pfi.py:475 clipping scale adjustment from 0.22521650184055392 to 0.3\n",
      "2025-01-18 00:25:30.526Z pfi              30 pfi.py:475 clipping scale adjustment from 0.2573481031895782 to 0.3\n",
      "2025-01-18 00:25:30.527Z cobraCoach       30 cobraCoach.py:679 Cobra#1460 is too close to center\n",
      "2025-01-18 00:25:30.529Z pfi              30 pfi.py:475 clipping scale adjustment from 0.22664453700152026 to 0.3\n",
      "2025-01-18 00:25:30.530Z pfi              30 pfi.py:475 clipping scale adjustment from 0.26154231110049525 to 0.3\n",
      "2025-01-18 00:25:30.532Z engineer         20 engineer.py:422 Updating the cobra information\n",
      "2025-01-18 00:25:30.534Z engineer         20 engineer.py:412 Sending angles to moveToAngles for 4-th iteration\n",
      "2025-01-18 00:25:30.536Z cobraCoach       20 cobraCoach.py:1009 Moving deltaTheta = [-2.17122172e-04 -5.14191722e-04 -6.14804362e-04  1.42413045e-04\n",
      " -1.01748456e-05  4.51698156e+00 -1.01748456e-05 -1.01748455e-05\n",
      " -1.01748456e-05  1.73407460e-04 -1.97115887e-05 -2.99138163e-04\n",
      " -2.97707652e-04 -1.03632841e-03  5.00301130e+00 -3.80200480e-04\n",
      " -6.61534404e-04 -1.05065440e-04]\n",
      "2025-01-18 00:25:30.537Z cobraCoach       20 cobraCoach.py:1010 Moving deltaPhi = [-2.96705965 -2.96705963 -2.9670596  -0.04164008 -2.96705959 -1.71883189\n",
      " -2.96705973 -2.96705964 -2.96705969 -0.12429068 -0.02128453 -0.01403744\n",
      " -0.06341524 -2.96705964 -1.88389766 -2.9670596  -0.01358    -0.0498779 ]\n",
      "2025-01-18 00:25:30.541Z cobraCoach       20 cobraCoach.py:877 Finished converting angle to steps, sending command to moveSteps (constantOntime).\n",
      "2025-01-18 00:25:30.549Z cobraCoach       20 cobraCoach.py:587 Sending step numbers to FPGA for moving cobra.\n",
      "2025-01-18 00:25:30.552Z cobraCoach       20 cobraCoach.py:601 cobra control FPGA operation done.\n",
      "2025-01-18 00:25:30.575Z pfi              40 pfi.py:896 Some theta angles are out of range\n",
      "2025-01-18 00:25:30.576Z pfi              40 pfi.py:899 Some phi angles are out of range\n",
      "2025-01-18 00:25:30.673Z cobraCoach       30 cobraCoach.py:675 Cobra#1790 is too far from center\n",
      "2025-01-18 00:25:30.674Z pfi              30 pfi.py:475 clipping scale adjustment from 0.29999999510714737 to 0.3\n",
      "2025-01-18 00:25:30.675Z engineer         20 engineer.py:422 Updating the cobra information\n",
      "2025-01-18 00:25:30.678Z engineer         20 engineer.py:412 Sending angles to moveToAngles for 5-th iteration\n",
      "2025-01-18 00:25:30.680Z cobraCoach       30 cobraCoach.py:1003 Last phi angle is unknown, not moving: [1459]\n",
      "2025-01-18 00:25:30.681Z cobraCoach       20 cobraCoach.py:1009 Moving deltaTheta = [-2.17122172e-04 -5.14191722e-04 -6.14804362e-04  1.42413045e-04\n",
      " -1.01748456e-05 -4.10811338e-03 -1.01748456e-05 -1.01748455e-05\n",
      " -1.01748456e-05  1.73407460e-04 -1.97115887e-05 -2.99138163e-04\n",
      " -2.97707652e-04 -1.03632841e-03  7.85623389e-01 -3.80200480e-04\n",
      " -6.61534404e-04 -1.05065440e-04]\n",
      "2025-01-18 00:25:30.682Z cobraCoach       20 cobraCoach.py:1010 Moving deltaPhi = [-2.96705965 -2.96705963 -2.9670596  -0.04164008 -2.96705959 -2.96705962\n",
      "  0.         -2.96705964 -2.96705969 -0.12429068 -0.02128453 -0.01403744\n",
      " -0.06341524 -2.96705964 -6.10865247 -2.9670596  -0.01358    -0.0498779 ]\n",
      "2025-01-18 00:25:30.683Z cobraCoach       30 cobraCoach.py:846 Last phi angle is unknown: [1459]\n",
      "2025-01-18 00:25:30.686Z cobraCoach       20 cobraCoach.py:877 Finished converting angle to steps, sending command to moveSteps (constantOntime).\n",
      "2025-01-18 00:25:30.694Z cobraCoach       20 cobraCoach.py:587 Sending step numbers to FPGA for moving cobra.\n",
      "2025-01-18 00:25:30.698Z cobraCoach       20 cobraCoach.py:601 cobra control FPGA operation done.\n",
      "2025-01-18 00:25:30.720Z pfi              40 pfi.py:896 Some theta angles are out of range\n",
      "2025-01-18 00:25:30.720Z pfi              40 pfi.py:899 Some phi angles are out of range\n",
      "2025-01-18 00:25:30.817Z pfi              30 pfi.py:475 clipping scale adjustment from 0.2250489700875823 to 0.3\n",
      "2025-01-18 00:25:30.818Z cobraCoach       30 cobraCoach.py:679 Cobra#1460 is too close to center\n",
      "2025-01-18 00:25:30.819Z pfi              30 pfi.py:475 clipping scale adjustment from 0.2561286605203101 to 0.3\n",
      "2025-01-18 00:25:30.820Z pfi              30 pfi.py:475 clipping scale adjustment from 0.26154231110049525 to 0.3\n",
      "2025-01-18 00:25:30.821Z engineer         20 engineer.py:422 Updating the cobra information\n",
      "2025-01-18 00:25:30.824Z engineer         30 engineer.py:445 18 cobras did not finish: [ 343  442  492  578  737 1302 1459 1493 1538 1560 1581 1583 1587 1636\n",
      " 1789 1791 1937 1969], [4.67 4.67 4.67 0.11 4.67 4.67 0.82 4.67 4.67 0.25 0.06 0.04 0.16 4.67\n",
      " 4.2  4.67 0.04 0.11]\n",
      "2025-01-18 00:25:30.825Z engineer         20 engineer.py:450 Returning 2394 atThetas and 2394 atPhis\n",
      "2025-01-18 00:25:30.851Z pfi              40 pfi.py:896 Some theta angles are out of range\n",
      "2025-01-18 00:25:30.853Z pfi              40 pfi.py:899 Some phi angles are out of range\n",
      "2025-01-18 00:25:30.945Z pfi              40 pfi.py:896 Some theta angles are out of range\n",
      "2025-01-18 00:25:30.946Z pfi              40 pfi.py:899 Some phi angles are out of range\n",
      "2025-01-18 00:25:31.010Z pfi              40 pfi.py:896 Some theta angles are out of range\n",
      "2025-01-18 00:25:31.012Z pfi              40 pfi.py:899 Some phi angles are out of range\n",
      "2025-01-18 00:25:31.055Z pfi              40 pfi.py:896 Some theta angles are out of range\n",
      "2025-01-18 00:25:31.056Z pfi              40 pfi.py:899 Some phi angles are out of range\n",
      "2025-01-18 00:25:31.101Z pfi              40 pfi.py:896 Some theta angles are out of range\n",
      "2025-01-18 00:25:31.103Z pfi              40 pfi.py:899 Some phi angles are out of range\n",
      "2025-01-18 00:25:31.149Z pfi              40 pfi.py:896 Some theta angles are out of range\n",
      "2025-01-18 00:25:31.150Z pfi              40 pfi.py:899 Some phi angles are out of range\n",
      "2025-01-18 00:25:31.197Z pfi              40 pfi.py:896 Some theta angles are out of range\n",
      "2025-01-18 00:25:31.199Z pfi              40 pfi.py:899 Some phi angles are out of range\n",
      "2025-01-18 00:25:31.264Z pfi              40 pfi.py:896 Some theta angles are out of range\n",
      "2025-01-18 00:25:31.266Z pfi              40 pfi.py:899 Some phi angles are out of range\n",
      "2025-01-18 00:25:31.322Z pfi              40 pfi.py:930 Some theta angles are out of range\n",
      "2025-01-18 00:25:31.379Z pfi              40 pfi.py:930 Some theta angles are out of range\n",
      "2025-01-18 00:25:31.428Z pfi              40 pfi.py:930 Some theta angles are out of range\n",
      "2025-01-18 00:25:31.506Z pfi              40 pfi.py:930 Some theta angles are out of range\n",
      "2025-01-18 00:25:31.576Z pfi              40 pfi.py:930 Some theta angles are out of range\n",
      "2025-01-18 00:25:31.613Z pfi              40 pfi.py:930 Some theta angles are out of range\n",
      "2025-01-18 00:25:31.650Z pfi              40 pfi.py:930 Some theta angles are out of range\n",
      "2025-01-18 00:25:31.689Z pfi              40 pfi.py:930 Some theta angles are out of range\n"
     ]
    },
    {
     "name": "stdout",
     "output_type": "stream",
     "text": [
      "ERROR: detected 13 end point collision, which should be impossible\n",
      "trajectory collisions found: 0\n",
      "Done: solving the problem for stage=0 targets.\n",
      "solving the problem for stage=1 targets.\n",
      "Set parameter Presolve to value 1\n"
     ]
    },
    {
     "name": "stderr",
     "output_type": "stream",
     "text": [
      "2025-01-18 00:25:35.724Z gurobipy         20 netflow.py:117 Set parameter Presolve to value 1\n"
     ]
    },
    {
     "name": "stdout",
     "output_type": "stream",
     "text": [
      "Set parameter Method to value 4\n"
     ]
    },
    {
     "name": "stderr",
     "output_type": "stream",
     "text": [
      "2025-01-18 00:25:35.726Z gurobipy         20 netflow.py:117 Set parameter Method to value 4\n"
     ]
    },
    {
     "name": "stdout",
     "output_type": "stream",
     "text": [
      "Set parameter DegenMoves to value 0\n"
     ]
    },
    {
     "name": "stderr",
     "output_type": "stream",
     "text": [
      "2025-01-18 00:25:35.727Z gurobipy         20 netflow.py:117 Set parameter DegenMoves to value 0\n"
     ]
    },
    {
     "name": "stdout",
     "output_type": "stream",
     "text": [
      "Set parameter Heuristics to value 0.8\n"
     ]
    },
    {
     "name": "stderr",
     "output_type": "stream",
     "text": [
      "2025-01-18 00:25:35.729Z gurobipy         20 netflow.py:117 Set parameter Heuristics to value 0.8\n"
     ]
    },
    {
     "name": "stdout",
     "output_type": "stream",
     "text": [
      "Set parameter MIPGap to value 0.05\n"
     ]
    },
    {
     "name": "stderr",
     "output_type": "stream",
     "text": [
      "2025-01-18 00:25:35.730Z gurobipy         20 netflow.py:117 Set parameter MIPGap to value 0.05\n"
     ]
    },
    {
     "name": "stdout",
     "output_type": "stream",
     "text": [
      "Creating network topology\n",
      "  exposure 1\n",
      "Calculating visibilities\n",
      "adding constraints\n",
      "adding collision constraints\n",
      "adding forbidden pair constraints\n",
      "Gurobi Optimizer version 10.0.1 build v10.0.1rc0 (mac64[x86])\n"
     ]
    },
    {
     "name": "stderr",
     "output_type": "stream",
     "text": [
      "2025-01-18 00:25:44.143Z gurobipy         20 netflow.py:149 Gurobi Optimizer version 10.0.1 build v10.0.1rc0 (mac64[x86])\n"
     ]
    },
    {
     "name": "stdout",
     "output_type": "stream",
     "text": [
      "\n"
     ]
    },
    {
     "name": "stderr",
     "output_type": "stream",
     "text": [
      "2025-01-18 00:25:44.144Z gurobipy         20 netflow.py:149 \n"
     ]
    },
    {
     "name": "stdout",
     "output_type": "stream",
     "text": [
      "CPU model: Intel(R) Core(TM) i7-8569U CPU @ 2.80GHz\n"
     ]
    },
    {
     "name": "stderr",
     "output_type": "stream",
     "text": [
      "2025-01-18 00:25:44.145Z gurobipy         20 netflow.py:149 CPU model: Intel(R) Core(TM) i7-8569U CPU @ 2.80GHz\n"
     ]
    },
    {
     "name": "stdout",
     "output_type": "stream",
     "text": [
      "Thread count: 4 physical cores, 8 logical processors, using up to 8 threads\n"
     ]
    },
    {
     "name": "stderr",
     "output_type": "stream",
     "text": [
      "2025-01-18 00:25:44.147Z gurobipy         20 netflow.py:149 Thread count: 4 physical cores, 8 logical processors, using up to 8 threads\n"
     ]
    },
    {
     "name": "stdout",
     "output_type": "stream",
     "text": [
      "\n"
     ]
    },
    {
     "name": "stderr",
     "output_type": "stream",
     "text": [
      "2025-01-18 00:25:44.148Z gurobipy         20 netflow.py:149 \n"
     ]
    },
    {
     "name": "stdout",
     "output_type": "stream",
     "text": [
      "Academic license 2379863 - for non-commercial use only - registered to ji___@ipmu.jp\n"
     ]
    },
    {
     "name": "stderr",
     "output_type": "stream",
     "text": [
      "2025-01-18 00:25:44.152Z gurobipy         20 netflow.py:149 Academic license 2379863 - for non-commercial use only - registered to ji___@ipmu.jp\n"
     ]
    },
    {
     "name": "stdout",
     "output_type": "stream",
     "text": [
      "Optimize a model with 95985 rows, 88351 columns and 263196 nonzeros\n"
     ]
    },
    {
     "name": "stderr",
     "output_type": "stream",
     "text": [
      "2025-01-18 00:25:44.154Z gurobipy         20 netflow.py:149 Optimize a model with 95985 rows, 88351 columns and 263196 nonzeros\n"
     ]
    },
    {
     "name": "stdout",
     "output_type": "stream",
     "text": [
      "Model fingerprint: 0x70a52a75\n"
     ]
    },
    {
     "name": "stderr",
     "output_type": "stream",
     "text": [
      "2025-01-18 00:25:44.159Z gurobipy         20 netflow.py:149 Model fingerprint: 0x70a52a75\n"
     ]
    },
    {
     "name": "stdout",
     "output_type": "stream",
     "text": [
      "Variable types: 1 continuous, 88350 integer (67990 binary)\n"
     ]
    },
    {
     "name": "stderr",
     "output_type": "stream",
     "text": [
      "2025-01-18 00:25:44.162Z gurobipy         20 netflow.py:149 Variable types: 1 continuous, 88350 integer (67990 binary)\n"
     ]
    },
    {
     "name": "stdout",
     "output_type": "stream",
     "text": [
      "Coefficient statistics:\n"
     ]
    },
    {
     "name": "stderr",
     "output_type": "stream",
     "text": [
      "2025-01-18 00:25:44.166Z gurobipy         20 netflow.py:149 Coefficient statistics:\n"
     ]
    },
    {
     "name": "stdout",
     "output_type": "stream",
     "text": [
      "  Matrix range     [1e+00, 1e+00]\n"
     ]
    },
    {
     "name": "stderr",
     "output_type": "stream",
     "text": [
      "2025-01-18 00:25:44.168Z gurobipy         20 netflow.py:149   Matrix range     [1e+00, 1e+00]\n"
     ]
    },
    {
     "name": "stdout",
     "output_type": "stream",
     "text": [
      "  Objective range  [2e-04, 1e+06]\n"
     ]
    },
    {
     "name": "stderr",
     "output_type": "stream",
     "text": [
      "2025-01-18 00:25:44.170Z gurobipy         20 netflow.py:149   Objective range  [2e-04, 1e+06]\n"
     ]
    },
    {
     "name": "stdout",
     "output_type": "stream",
     "text": [
      "  Bounds range     [1e+00, 1e+00]\n"
     ]
    },
    {
     "name": "stderr",
     "output_type": "stream",
     "text": [
      "2025-01-18 00:25:44.172Z gurobipy         20 netflow.py:149   Bounds range     [1e+00, 1e+00]\n"
     ]
    },
    {
     "name": "stdout",
     "output_type": "stream",
     "text": [
      "  RHS range        [1e+00, 2e+04]\n"
     ]
    },
    {
     "name": "stderr",
     "output_type": "stream",
     "text": [
      "2025-01-18 00:25:44.174Z gurobipy         20 netflow.py:149   RHS range        [1e+00, 2e+04]\n"
     ]
    },
    {
     "name": "stdout",
     "output_type": "stream",
     "text": [
      "Found heuristic solution: objective 4127810.6908\n"
     ]
    },
    {
     "name": "stderr",
     "output_type": "stream",
     "text": [
      "2025-01-18 00:25:44.204Z gurobipy         20 netflow.py:149 Found heuristic solution: objective 4127810.6908\n"
     ]
    },
    {
     "name": "stdout",
     "output_type": "stream",
     "text": [
      "Presolve removed 95985 rows and 88351 columns\n"
     ]
    },
    {
     "name": "stderr",
     "output_type": "stream",
     "text": [
      "2025-01-18 00:25:44.489Z gurobipy         20 netflow.py:149 Presolve removed 95985 rows and 88351 columns\n"
     ]
    },
    {
     "name": "stdout",
     "output_type": "stream",
     "text": [
      "Presolve time: 0.28s\n"
     ]
    },
    {
     "name": "stderr",
     "output_type": "stream",
     "text": [
      "2025-01-18 00:25:44.491Z gurobipy         20 netflow.py:149 Presolve time: 0.28s\n"
     ]
    },
    {
     "name": "stdout",
     "output_type": "stream",
     "text": [
      "Presolve: All rows and columns removed\n"
     ]
    },
    {
     "name": "stderr",
     "output_type": "stream",
     "text": [
      "2025-01-18 00:25:44.498Z gurobipy         20 netflow.py:149 Presolve: All rows and columns removed\n"
     ]
    },
    {
     "name": "stdout",
     "output_type": "stream",
     "text": [
      "\n"
     ]
    },
    {
     "name": "stderr",
     "output_type": "stream",
     "text": [
      "2025-01-18 00:25:44.513Z gurobipy         20 netflow.py:149 \n"
     ]
    },
    {
     "name": "stdout",
     "output_type": "stream",
     "text": [
      "Explored 0 nodes (0 simplex iterations) in 0.36 seconds (0.12 work units)\n"
     ]
    },
    {
     "name": "stderr",
     "output_type": "stream",
     "text": [
      "2025-01-18 00:25:44.515Z gurobipy         20 netflow.py:149 Explored 0 nodes (0 simplex iterations) in 0.36 seconds (0.12 work units)\n"
     ]
    },
    {
     "name": "stdout",
     "output_type": "stream",
     "text": [
      "Thread count was 1 (of 8 available processors)\n"
     ]
    },
    {
     "name": "stderr",
     "output_type": "stream",
     "text": [
      "2025-01-18 00:25:44.517Z gurobipy         20 netflow.py:149 Thread count was 1 (of 8 available processors)\n"
     ]
    },
    {
     "name": "stdout",
     "output_type": "stream",
     "text": [
      "\n"
     ]
    },
    {
     "name": "stderr",
     "output_type": "stream",
     "text": [
      "2025-01-18 00:25:44.523Z gurobipy         20 netflow.py:149 \n"
     ]
    },
    {
     "name": "stdout",
     "output_type": "stream",
     "text": [
      "Solution count 2: 3.75886e+06 4.12781e+06 \n"
     ]
    },
    {
     "name": "stderr",
     "output_type": "stream",
     "text": [
      "2025-01-18 00:25:44.526Z gurobipy         20 netflow.py:149 Solution count 2: 3.75886e+06 4.12781e+06 \n"
     ]
    },
    {
     "name": "stdout",
     "output_type": "stream",
     "text": [
      "\n"
     ]
    },
    {
     "name": "stderr",
     "output_type": "stream",
     "text": [
      "2025-01-18 00:25:44.528Z gurobipy         20 netflow.py:149 \n"
     ]
    },
    {
     "name": "stdout",
     "output_type": "stream",
     "text": [
      "Optimal solution found (tolerance 5.00e-02)\n"
     ]
    },
    {
     "name": "stderr",
     "output_type": "stream",
     "text": [
      "2025-01-18 00:25:44.529Z gurobipy         20 netflow.py:149 Optimal solution found (tolerance 5.00e-02)\n"
     ]
    },
    {
     "name": "stdout",
     "output_type": "stream",
     "text": [
      "Best objective 3.758857479845e+06, best bound 3.758857479845e+06, gap 0.0000%\n"
     ]
    },
    {
     "name": "stderr",
     "output_type": "stream",
     "text": [
      "2025-01-18 00:25:44.533Z gurobipy         20 netflow.py:149 Best objective 3.758857479845e+06, best bound 3.758857479845e+06, gap 0.0000%\n"
     ]
    },
    {
     "name": "stdout",
     "output_type": "stream",
     "text": [
      "Checking for trajectory collisions\n"
     ]
    },
    {
     "name": "stderr",
     "output_type": "stream",
     "text": [
      "2025-01-18 00:25:44.711Z pfi              40 pfi.py:896 Some theta angles are out of range\n",
      "2025-01-18 00:25:44.712Z pfi              40 pfi.py:899 Some phi angles are out of range\n",
      "2025-01-18 00:25:44.965Z pfi              40 pfi.py:899 Some phi angles are out of range\n",
      "2025-01-18 00:25:45.008Z pfi              40 pfi.py:899 Some phi angles are out of range\n",
      "2025-01-18 00:25:45.011Z engineer         20 engineer.py:395 Move theta arms to angle=[ 17.6  206.35  71.19 ... 118.9  213.64 256.41] degree\n",
      "2025-01-18 00:25:45.012Z engineer         20 engineer.py:396 Move phi arms to angle=[33.25 25.92 20.17 ... 36.79 29.46  9.42] degree\n",
      "2025-01-18 00:25:45.013Z engineer         20 engineer.py:398 Checking passed homed argument = True\n",
      "2025-01-18 00:25:45.014Z engineer         20 engineer.py:402 Move theta arms CW and phi arms CCW to the hard stops\n",
      "2025-01-18 00:25:45.044Z cobraCoach       20 cobraCoach.py:1065 home cobras: theta=10000, phi=-5000\n",
      "2025-01-18 00:25:45.069Z pfi              40 pfi.py:899 Some phi angles are out of range\n",
      "2025-01-18 00:25:45.094Z pfi              40 pfi.py:899 Some phi angles are out of range\n",
      "2025-01-18 00:25:45.096Z engineer         20 engineer.py:412 Sending angles to moveToAngles for 0-th iteration\n",
      "2025-01-18 00:25:45.123Z cobraCoach       20 cobraCoach.py:1009 Moving deltaTheta = [-6.27060725 -3.06367305 -5.3968037  ... -4.61400397 -2.95589677\n",
      " -2.22384825]\n",
      "2025-01-18 00:25:45.124Z cobraCoach       20 cobraCoach.py:1010 Moving deltaPhi = [0.58023699 0.45246749 0.35202627 ... 0.64218759 0.51420972 0.1644249 ]\n",
      "2025-01-18 00:25:45.412Z cobraCoach       20 cobraCoach.py:877 Finished converting angle to steps, sending command to moveSteps (constantOntime).\n",
      "2025-01-18 00:25:46.128Z cobraCoach       20 cobraCoach.py:587 Sending step numbers to FPGA for moving cobra.\n",
      "2025-01-18 00:25:46.247Z cobraCoach       20 cobraCoach.py:601 cobra control FPGA operation done.\n",
      "2025-01-18 00:25:46.272Z pfi              40 pfi.py:896 Some theta angles are out of range\n",
      "2025-01-18 00:25:46.274Z pfi              40 pfi.py:899 Some phi angles are out of range\n",
      "2025-01-18 00:25:46.381Z cobraCoach       30 cobraCoach.py:675 Cobra#344 is too far from center\n",
      "2025-01-18 00:25:46.384Z cobraCoach       30 cobraCoach.py:675 Cobra#443 is too far from center\n",
      "2025-01-18 00:25:46.389Z cobraCoach       30 cobraCoach.py:675 Cobra#493 is too far from center\n",
      "2025-01-18 00:25:46.412Z cobraCoach       30 cobraCoach.py:675 Cobra#1303 is too far from center\n",
      "2025-01-18 00:25:46.424Z cobraCoach       30 cobraCoach.py:675 Cobra#1637 is too far from center\n",
      "2025-01-18 00:25:46.429Z cobraCoach       30 cobraCoach.py:675 Cobra#1790 is too far from center\n",
      "2025-01-18 00:25:46.430Z cobraCoach       30 cobraCoach.py:675 Cobra#1792 is too far from center\n",
      "2025-01-18 00:25:46.447Z engineer         20 engineer.py:422 Updating the cobra information\n",
      "2025-01-18 00:25:46.451Z engineer         20 engineer.py:436 done: [   0    1    2 ... 2391 2392 2393], 17 left\n",
      "2025-01-18 00:25:46.452Z engineer         20 engineer.py:412 Sending angles to moveToAngles for 1-th iteration\n",
      "2025-01-18 00:25:46.455Z cobraCoach       30 cobraCoach.py:1003 Last phi angle is unknown, not moving: [1459]\n",
      "2025-01-18 00:25:46.456Z cobraCoach       20 cobraCoach.py:1009 Moving deltaTheta = [-8.28206003e-04 -1.01748456e-05 -1.01748456e-05 -1.01748456e-05\n",
      " -1.01748456e-05 -1.01748456e-05 -1.01748456e-05 -1.01748455e-05\n",
      " -1.01748456e-05 -1.01748455e-05 -1.65757797e+00 -6.78797130e-04\n",
      " -1.01748456e-05 -1.01748456e-05 -1.23051057e+00 -6.61534404e-04\n",
      " -5.09209882e-01]\n",
      "2025-01-18 00:25:46.459Z cobraCoach       20 cobraCoach.py:1010 Moving deltaPhi = [-1.51454127e-03 -6.10865247e+00 -6.10865247e+00 -6.10865247e+00\n",
      " -2.96705959e+00 -6.10865247e+00  0.00000000e+00 -2.96705964e+00\n",
      " -2.96705969e+00 -6.10865247e+00 -1.31288846e-03 -2.14398305e-03\n",
      " -6.10865247e+00 -6.10865247e+00 -5.96463099e-04 -1.35800043e-02\n",
      "  3.37174294e-01]\n",
      "2025-01-18 00:25:46.463Z cobraCoach       30 cobraCoach.py:846 Last phi angle is unknown: [1459]\n",
      "2025-01-18 00:25:46.468Z cobraCoach       20 cobraCoach.py:877 Finished converting angle to steps, sending command to moveSteps (constantOntime).\n",
      "2025-01-18 00:25:46.478Z cobraCoach       20 cobraCoach.py:587 Sending step numbers to FPGA for moving cobra.\n",
      "2025-01-18 00:25:46.481Z cobraCoach       20 cobraCoach.py:601 cobra control FPGA operation done.\n",
      "2025-01-18 00:25:46.506Z pfi              40 pfi.py:896 Some theta angles are out of range\n",
      "2025-01-18 00:25:46.507Z pfi              40 pfi.py:899 Some phi angles are out of range\n",
      "2025-01-18 00:25:46.617Z cobraCoach       30 cobraCoach.py:675 Cobra#344 is too far from center\n",
      "2025-01-18 00:25:46.619Z cobraCoach       30 cobraCoach.py:679 Cobra#1460 is too close to center\n",
      "2025-01-18 00:25:46.620Z cobraCoach       30 cobraCoach.py:675 Cobra#1637 is too far from center\n",
      "2025-01-18 00:25:46.622Z cobraCoach       30 cobraCoach.py:675 Cobra#1790 is too far from center\n",
      "2025-01-18 00:25:46.624Z engineer         20 engineer.py:422 Updating the cobra information\n",
      "2025-01-18 00:25:46.627Z engineer         20 engineer.py:436 done: [  14 1729 1782 1929 1956], 12 left\n",
      "2025-01-18 00:25:46.628Z engineer         30 engineer.py:445 12 cobras did not finish: [ 343  442  492  737 1302 1459 1493 1538 1636 1789 1791 1937], [4.67 4.67 4.67 4.67 4.67 0.82 4.67 4.67 4.67 4.67 4.67 0.04]\n",
      "2025-01-18 00:25:46.629Z engineer         20 engineer.py:450 Returning 2394 atThetas and 2394 atPhis\n",
      "2025-01-18 00:25:46.658Z pfi              40 pfi.py:899 Some phi angles are out of range\n",
      "2025-01-18 00:25:46.660Z engineer         20 engineer.py:395 Move theta arms to angle=[ 17.6  206.35  71.19 ... 118.9  213.64 256.41] degree\n",
      "2025-01-18 00:25:46.661Z engineer         20 engineer.py:396 Move phi arms to angle=[33.25 25.92 20.17 ... 36.79 29.46  9.42] degree\n",
      "2025-01-18 00:25:46.662Z engineer         20 engineer.py:398 Checking passed homed argument = False\n",
      "2025-01-18 00:25:46.663Z engineer         20 engineer.py:412 Sending angles to moveToAngles for 0-th iteration\n",
      "2025-01-18 00:25:46.694Z cobraCoach       20 cobraCoach.py:1009 Moving deltaTheta = [-1.11873219e-03  6.33917665e-05 -6.97937874e-04 ... -2.78310405e-04\n",
      "  4.04201633e-04 -4.62920061e-04]\n",
      "2025-01-18 00:25:46.695Z cobraCoach       20 cobraCoach.py:1010 Moving deltaPhi = [-5.27362215e-05 -4.28598462e-04  4.87192185e-04 ... -7.14842310e-04\n",
      " -5.70684235e-04 -9.61937620e-04]\n",
      "2025-01-18 00:25:46.931Z cobraCoach       20 cobraCoach.py:877 Finished converting angle to steps, sending command to moveSteps (constantOntime).\n",
      "2025-01-18 00:25:47.197Z cobraCoach       20 cobraCoach.py:587 Sending step numbers to FPGA for moving cobra.\n",
      "2025-01-18 00:25:47.315Z cobraCoach       20 cobraCoach.py:601 cobra control FPGA operation done.\n",
      "2025-01-18 00:25:47.340Z pfi              40 pfi.py:896 Some theta angles are out of range\n",
      "2025-01-18 00:25:47.341Z pfi              40 pfi.py:899 Some phi angles are out of range\n",
      "2025-01-18 00:25:47.477Z cobraCoach       30 cobraCoach.py:675 Cobra#1303 is too far from center\n",
      "2025-01-18 00:25:47.492Z cobraCoach       30 cobraCoach.py:675 Cobra#1790 is too far from center\n",
      "2025-01-18 00:25:47.509Z engineer         20 engineer.py:422 Updating the cobra information\n",
      "2025-01-18 00:25:47.512Z engineer         20 engineer.py:436 done: [   0    1    2 ... 2391 2392 2393], 12 left\n",
      "2025-01-18 00:25:47.512Z engineer         20 engineer.py:412 Sending angles to moveToAngles for 1-th iteration\n",
      "2025-01-18 00:25:47.514Z cobraCoach       30 cobraCoach.py:1003 Last phi angle is unknown, not moving: [1459]\n",
      "2025-01-18 00:25:47.515Z cobraCoach       20 cobraCoach.py:1009 Moving deltaTheta = [-1.94233989e-04 -5.14191722e-04 -6.14804362e-04 -1.01748456e-05\n",
      "  2.69975771e-06 -1.01748456e-05 -1.01748455e-05 -1.01748456e-05\n",
      " -1.03632841e-03 -1.01748456e-05 -3.80200480e-04 -6.61534404e-04]\n",
      "2025-01-18 00:25:47.516Z cobraCoach       20 cobraCoach.py:1010 Moving deltaPhi = [-2.96687409 -2.96705963 -2.9670596  -2.96705959 -6.10865247  0.\n",
      " -2.96705964 -2.96705969 -2.96602327 -6.10865247 -2.9670596  -0.01358   ]\n",
      "2025-01-18 00:25:47.518Z cobraCoach       30 cobraCoach.py:846 Last phi angle is unknown: [1459]\n",
      "2025-01-18 00:25:47.522Z cobraCoach       20 cobraCoach.py:877 Finished converting angle to steps, sending command to moveSteps (constantOntime).\n",
      "2025-01-18 00:25:47.528Z cobraCoach       20 cobraCoach.py:587 Sending step numbers to FPGA for moving cobra.\n",
      "2025-01-18 00:25:47.530Z cobraCoach       20 cobraCoach.py:601 cobra control FPGA operation done.\n",
      "2025-01-18 00:25:47.557Z pfi              40 pfi.py:896 Some theta angles are out of range\n",
      "2025-01-18 00:25:47.558Z pfi              40 pfi.py:899 Some phi angles are out of range\n",
      "2025-01-18 00:25:47.716Z cobraCoach       30 cobraCoach.py:675 Cobra#344 is too far from center\n",
      "2025-01-18 00:25:47.721Z pfi              30 pfi.py:475 clipping scale adjustment from 0.2573481031895782 to 0.3\n",
      "2025-01-18 00:25:47.722Z cobraCoach       30 cobraCoach.py:679 Cobra#1460 is too close to center\n",
      "2025-01-18 00:25:47.725Z pfi              30 pfi.py:475 clipping scale adjustment from 0.26154231110049525 to 0.3\n",
      "2025-01-18 00:25:47.726Z engineer         20 engineer.py:422 Updating the cobra information\n",
      "2025-01-18 00:25:47.728Z engineer         20 engineer.py:412 Sending angles to moveToAngles for 2-th iteration\n",
      "2025-01-18 00:25:47.730Z cobraCoach       20 cobraCoach.py:1009 Moving deltaTheta = [-1.94233989e-04 -5.14191722e-04 -6.14804362e-04 -1.01748456e-05\n",
      " -1.09852569e+00 -1.01748456e-05 -1.01748455e-05 -1.01748456e-05\n",
      " -1.03632841e-03 -1.07143418e+00 -3.80200480e-04 -6.61534404e-04]\n",
      "2025-01-18 00:25:47.731Z cobraCoach       20 cobraCoach.py:1010 Moving deltaPhi = [-6.10865247 -2.96705963 -2.9670596  -2.96705959 -1.71883189 -2.96705973\n",
      " -2.96705964 -2.96705969 -2.96705964 -1.88389766 -2.9670596  -0.01358   ]\n",
      "2025-01-18 00:25:47.734Z cobraCoach       20 cobraCoach.py:877 Finished converting angle to steps, sending command to moveSteps (constantOntime).\n",
      "2025-01-18 00:25:47.740Z cobraCoach       20 cobraCoach.py:587 Sending step numbers to FPGA for moving cobra.\n",
      "2025-01-18 00:25:47.742Z cobraCoach       20 cobraCoach.py:601 cobra control FPGA operation done.\n",
      "2025-01-18 00:25:47.772Z pfi              40 pfi.py:896 Some theta angles are out of range\n",
      "2025-01-18 00:25:47.773Z pfi              40 pfi.py:899 Some phi angles are out of range\n",
      "2025-01-18 00:25:47.878Z pfi              30 pfi.py:475 clipping scale adjustment from 0.2859424141191533 to 0.3\n",
      "2025-01-18 00:25:47.879Z cobraCoach       30 cobraCoach.py:675 Cobra#1303 is too far from center\n",
      "2025-01-18 00:25:47.880Z pfi              30 pfi.py:475 clipping scale adjustment from 0.29999999904403885 to 0.3\n",
      "2025-01-18 00:25:47.881Z cobraCoach       30 cobraCoach.py:675 Cobra#1790 is too far from center\n",
      "2025-01-18 00:25:47.882Z engineer         20 engineer.py:422 Updating the cobra information\n",
      "2025-01-18 00:25:47.887Z engineer         20 engineer.py:412 Sending angles to moveToAngles for 3-th iteration\n",
      "2025-01-18 00:25:47.888Z cobraCoach       30 cobraCoach.py:1003 Last phi angle is unknown, not moving: [1459]\n",
      "2025-01-18 00:25:47.890Z cobraCoach       20 cobraCoach.py:1009 Moving deltaTheta = [-3.21863813e-01 -5.14191722e-04 -6.14804362e-04 -1.01748456e-05\n",
      " -6.82685060e-01 -1.01748456e-05 -1.01748455e-05 -1.01748456e-05\n",
      " -1.03632841e-03 -3.25590772e-01 -3.80200480e-04 -6.61534404e-04]\n",
      "2025-01-18 00:25:47.891Z cobraCoach       20 cobraCoach.py:1010 Moving deltaPhi = [-2.64219266 -2.96705963 -2.9670596  -2.96705959 -6.10865247  0.\n",
      " -2.96705964 -2.96705969 -2.96705964 -6.10865247 -2.9670596  -0.01358   ]\n",
      "2025-01-18 00:25:47.893Z cobraCoach       30 cobraCoach.py:846 Last phi angle is unknown: [1459]\n",
      "2025-01-18 00:25:47.895Z cobraCoach       20 cobraCoach.py:877 Finished converting angle to steps, sending command to moveSteps (constantOntime).\n",
      "2025-01-18 00:25:47.903Z cobraCoach       20 cobraCoach.py:587 Sending step numbers to FPGA for moving cobra.\n",
      "2025-01-18 00:25:47.905Z cobraCoach       20 cobraCoach.py:601 cobra control FPGA operation done.\n",
      "2025-01-18 00:25:47.932Z pfi              40 pfi.py:896 Some theta angles are out of range\n",
      "2025-01-18 00:25:47.933Z pfi              40 pfi.py:899 Some phi angles are out of range\n",
      "2025-01-18 00:25:48.047Z pfi              30 pfi.py:475 clipping scale adjustment from 0.22521650184055392 to 0.3\n",
      "2025-01-18 00:25:48.048Z pfi              30 pfi.py:475 clipping scale adjustment from 0.2573481031895782 to 0.3\n",
      "2025-01-18 00:25:48.048Z cobraCoach       30 cobraCoach.py:679 Cobra#1460 is too close to center\n",
      "2025-01-18 00:25:48.049Z pfi              30 pfi.py:475 clipping scale adjustment from 0.22664453700152026 to 0.3\n",
      "2025-01-18 00:25:48.050Z pfi              30 pfi.py:475 clipping scale adjustment from 0.26154231110049525 to 0.3\n",
      "2025-01-18 00:25:48.055Z engineer         20 engineer.py:422 Updating the cobra information\n",
      "2025-01-18 00:25:48.058Z engineer         20 engineer.py:412 Sending angles to moveToAngles for 4-th iteration\n",
      "2025-01-18 00:25:48.060Z cobraCoach       20 cobraCoach.py:1009 Moving deltaTheta = [-2.17122172e-04 -5.14191722e-04 -6.14804362e-04 -1.01748456e-05\n",
      "  4.51698156e+00 -1.01748456e-05 -1.01748455e-05 -1.01748456e-05\n",
      " -1.03632841e-03  5.00301130e+00 -3.80200480e-04 -6.61534404e-04]\n",
      "2025-01-18 00:25:48.061Z cobraCoach       20 cobraCoach.py:1010 Moving deltaPhi = [-2.96705965 -2.96705963 -2.9670596  -2.96705959 -1.71883189 -2.96705973\n",
      " -2.96705964 -2.96705969 -2.96705964 -1.88389766 -2.9670596  -0.01358   ]\n",
      "2025-01-18 00:25:48.065Z cobraCoach       20 cobraCoach.py:877 Finished converting angle to steps, sending command to moveSteps (constantOntime).\n",
      "2025-01-18 00:25:48.073Z cobraCoach       20 cobraCoach.py:587 Sending step numbers to FPGA for moving cobra.\n",
      "2025-01-18 00:25:48.076Z cobraCoach       20 cobraCoach.py:601 cobra control FPGA operation done.\n",
      "2025-01-18 00:25:48.103Z pfi              40 pfi.py:896 Some theta angles are out of range\n",
      "2025-01-18 00:25:48.103Z pfi              40 pfi.py:899 Some phi angles are out of range\n",
      "2025-01-18 00:25:48.216Z cobraCoach       30 cobraCoach.py:675 Cobra#1790 is too far from center\n",
      "2025-01-18 00:25:48.217Z pfi              30 pfi.py:475 clipping scale adjustment from 0.29999999510714737 to 0.3\n",
      "2025-01-18 00:25:48.219Z engineer         20 engineer.py:422 Updating the cobra information\n",
      "2025-01-18 00:25:48.222Z engineer         20 engineer.py:412 Sending angles to moveToAngles for 5-th iteration\n",
      "2025-01-18 00:25:48.224Z cobraCoach       30 cobraCoach.py:1003 Last phi angle is unknown, not moving: [1459]\n",
      "2025-01-18 00:25:48.225Z cobraCoach       20 cobraCoach.py:1009 Moving deltaTheta = [-2.17122172e-04 -5.14191722e-04 -6.14804362e-04 -1.01748456e-05\n",
      " -4.10811338e-03 -1.01748456e-05 -1.01748455e-05 -1.01748456e-05\n",
      " -1.03632841e-03  7.85623389e-01 -3.80200480e-04 -6.61534404e-04]\n",
      "2025-01-18 00:25:48.226Z cobraCoach       20 cobraCoach.py:1010 Moving deltaPhi = [-2.96705965 -2.96705963 -2.9670596  -2.96705959 -2.96705962  0.\n",
      " -2.96705964 -2.96705969 -2.96705964 -6.10865247 -2.9670596  -0.01358   ]\n",
      "2025-01-18 00:25:48.229Z cobraCoach       30 cobraCoach.py:846 Last phi angle is unknown: [1459]\n",
      "2025-01-18 00:25:48.231Z cobraCoach       20 cobraCoach.py:877 Finished converting angle to steps, sending command to moveSteps (constantOntime).\n",
      "2025-01-18 00:25:48.239Z cobraCoach       20 cobraCoach.py:587 Sending step numbers to FPGA for moving cobra.\n",
      "2025-01-18 00:25:48.241Z cobraCoach       20 cobraCoach.py:601 cobra control FPGA operation done.\n",
      "2025-01-18 00:25:48.269Z pfi              40 pfi.py:896 Some theta angles are out of range\n",
      "2025-01-18 00:25:48.271Z pfi              40 pfi.py:899 Some phi angles are out of range\n",
      "2025-01-18 00:25:48.379Z pfi              30 pfi.py:475 clipping scale adjustment from 0.2250489700875823 to 0.3\n",
      "2025-01-18 00:25:48.380Z cobraCoach       30 cobraCoach.py:679 Cobra#1460 is too close to center\n",
      "2025-01-18 00:25:48.381Z pfi              30 pfi.py:475 clipping scale adjustment from 0.2561286605203101 to 0.3\n",
      "2025-01-18 00:25:48.382Z pfi              30 pfi.py:475 clipping scale adjustment from 0.26154231110049525 to 0.3\n",
      "2025-01-18 00:25:48.383Z engineer         20 engineer.py:422 Updating the cobra information\n",
      "2025-01-18 00:25:48.386Z engineer         30 engineer.py:445 12 cobras did not finish: [ 343  442  492  737 1302 1459 1493 1538 1636 1789 1791 1937], [4.67 4.67 4.67 4.67 4.67 0.82 4.67 4.67 4.67 4.2  4.67 0.04]\n",
      "2025-01-18 00:25:48.387Z engineer         20 engineer.py:450 Returning 2394 atThetas and 2394 atPhis\n",
      "2025-01-18 00:25:48.415Z pfi              40 pfi.py:896 Some theta angles are out of range\n",
      "2025-01-18 00:25:48.417Z pfi              40 pfi.py:899 Some phi angles are out of range\n",
      "2025-01-18 00:25:48.529Z pfi              40 pfi.py:896 Some theta angles are out of range\n",
      "2025-01-18 00:25:48.530Z pfi              40 pfi.py:899 Some phi angles are out of range\n",
      "2025-01-18 00:25:48.612Z pfi              40 pfi.py:896 Some theta angles are out of range\n",
      "2025-01-18 00:25:48.614Z pfi              40 pfi.py:899 Some phi angles are out of range\n",
      "2025-01-18 00:25:48.667Z pfi              40 pfi.py:896 Some theta angles are out of range\n",
      "2025-01-18 00:25:48.670Z pfi              40 pfi.py:899 Some phi angles are out of range\n",
      "2025-01-18 00:25:48.727Z pfi              40 pfi.py:896 Some theta angles are out of range\n",
      "2025-01-18 00:25:48.728Z pfi              40 pfi.py:899 Some phi angles are out of range\n",
      "2025-01-18 00:25:48.781Z pfi              40 pfi.py:896 Some theta angles are out of range\n",
      "2025-01-18 00:25:48.783Z pfi              40 pfi.py:899 Some phi angles are out of range\n",
      "2025-01-18 00:25:48.836Z pfi              40 pfi.py:896 Some theta angles are out of range\n",
      "2025-01-18 00:25:48.838Z pfi              40 pfi.py:899 Some phi angles are out of range\n",
      "2025-01-18 00:25:48.889Z pfi              40 pfi.py:896 Some theta angles are out of range\n",
      "2025-01-18 00:25:48.891Z pfi              40 pfi.py:899 Some phi angles are out of range\n",
      "2025-01-18 00:25:48.942Z pfi              40 pfi.py:930 Some theta angles are out of range\n",
      "2025-01-18 00:25:49.001Z pfi              40 pfi.py:930 Some theta angles are out of range\n",
      "2025-01-18 00:25:49.057Z pfi              40 pfi.py:930 Some theta angles are out of range\n",
      "2025-01-18 00:25:49.099Z pfi              40 pfi.py:930 Some theta angles are out of range\n",
      "2025-01-18 00:25:49.146Z pfi              40 pfi.py:930 Some theta angles are out of range\n",
      "2025-01-18 00:25:49.194Z pfi              40 pfi.py:930 Some theta angles are out of range\n",
      "2025-01-18 00:25:49.233Z pfi              40 pfi.py:930 Some theta angles are out of range\n",
      "2025-01-18 00:25:49.273Z pfi              40 pfi.py:930 Some theta angles are out of range\n"
     ]
    },
    {
     "name": "stdout",
     "output_type": "stream",
     "text": [
      "ERROR: detected 15 end point collision, which should be impossible\n",
      "trajectory collisions found: 25\n",
      "Set parameter Presolve to value 1\n"
     ]
    },
    {
     "name": "stderr",
     "output_type": "stream",
     "text": [
      "2025-01-18 00:25:53.878Z gurobipy         20 netflow.py:117 Set parameter Presolve to value 1\n"
     ]
    },
    {
     "name": "stdout",
     "output_type": "stream",
     "text": [
      "Set parameter Method to value 4\n"
     ]
    },
    {
     "name": "stderr",
     "output_type": "stream",
     "text": [
      "2025-01-18 00:25:53.879Z gurobipy         20 netflow.py:117 Set parameter Method to value 4\n"
     ]
    },
    {
     "name": "stdout",
     "output_type": "stream",
     "text": [
      "Set parameter DegenMoves to value 0\n"
     ]
    },
    {
     "name": "stderr",
     "output_type": "stream",
     "text": [
      "2025-01-18 00:25:53.881Z gurobipy         20 netflow.py:117 Set parameter DegenMoves to value 0\n"
     ]
    },
    {
     "name": "stdout",
     "output_type": "stream",
     "text": [
      "Set parameter Heuristics to value 0.8\n"
     ]
    },
    {
     "name": "stderr",
     "output_type": "stream",
     "text": [
      "2025-01-18 00:25:53.882Z gurobipy         20 netflow.py:117 Set parameter Heuristics to value 0.8\n"
     ]
    },
    {
     "name": "stdout",
     "output_type": "stream",
     "text": [
      "Set parameter MIPGap to value 0.05\n"
     ]
    },
    {
     "name": "stderr",
     "output_type": "stream",
     "text": [
      "2025-01-18 00:25:53.884Z gurobipy         20 netflow.py:117 Set parameter MIPGap to value 0.05\n"
     ]
    },
    {
     "name": "stdout",
     "output_type": "stream",
     "text": [
      "Creating network topology\n",
      "  exposure 1\n",
      "Calculating visibilities\n",
      "adding constraints\n",
      "adding collision constraints\n",
      "adding forbidden pair constraints\n",
      "Gurobi Optimizer version 10.0.1 build v10.0.1rc0 (mac64[x86])\n"
     ]
    },
    {
     "name": "stderr",
     "output_type": "stream",
     "text": [
      "2025-01-18 00:26:01.706Z gurobipy         20 netflow.py:149 Gurobi Optimizer version 10.0.1 build v10.0.1rc0 (mac64[x86])\n"
     ]
    },
    {
     "name": "stdout",
     "output_type": "stream",
     "text": [
      "\n"
     ]
    },
    {
     "name": "stderr",
     "output_type": "stream",
     "text": [
      "2025-01-18 00:26:01.707Z gurobipy         20 netflow.py:149 \n"
     ]
    },
    {
     "name": "stdout",
     "output_type": "stream",
     "text": [
      "CPU model: Intel(R) Core(TM) i7-8569U CPU @ 2.80GHz\n"
     ]
    },
    {
     "name": "stderr",
     "output_type": "stream",
     "text": [
      "2025-01-18 00:26:01.709Z gurobipy         20 netflow.py:149 CPU model: Intel(R) Core(TM) i7-8569U CPU @ 2.80GHz\n"
     ]
    },
    {
     "name": "stdout",
     "output_type": "stream",
     "text": [
      "Thread count: 4 physical cores, 8 logical processors, using up to 8 threads\n"
     ]
    },
    {
     "name": "stderr",
     "output_type": "stream",
     "text": [
      "2025-01-18 00:26:01.712Z gurobipy         20 netflow.py:149 Thread count: 4 physical cores, 8 logical processors, using up to 8 threads\n"
     ]
    },
    {
     "name": "stdout",
     "output_type": "stream",
     "text": [
      "\n"
     ]
    },
    {
     "name": "stderr",
     "output_type": "stream",
     "text": [
      "2025-01-18 00:26:01.714Z gurobipy         20 netflow.py:149 \n"
     ]
    },
    {
     "name": "stdout",
     "output_type": "stream",
     "text": [
      "Academic license 2379863 - for non-commercial use only - registered to ji___@ipmu.jp\n"
     ]
    },
    {
     "name": "stderr",
     "output_type": "stream",
     "text": [
      "2025-01-18 00:26:01.719Z gurobipy         20 netflow.py:149 Academic license 2379863 - for non-commercial use only - registered to ji___@ipmu.jp\n"
     ]
    },
    {
     "name": "stdout",
     "output_type": "stream",
     "text": [
      "Optimize a model with 96010 rows, 88351 columns and 263238 nonzeros\n"
     ]
    },
    {
     "name": "stderr",
     "output_type": "stream",
     "text": [
      "2025-01-18 00:26:01.721Z gurobipy         20 netflow.py:149 Optimize a model with 96010 rows, 88351 columns and 263238 nonzeros\n"
     ]
    },
    {
     "name": "stdout",
     "output_type": "stream",
     "text": [
      "Model fingerprint: 0x51103352\n"
     ]
    },
    {
     "name": "stderr",
     "output_type": "stream",
     "text": [
      "2025-01-18 00:26:01.726Z gurobipy         20 netflow.py:149 Model fingerprint: 0x51103352\n"
     ]
    },
    {
     "name": "stdout",
     "output_type": "stream",
     "text": [
      "Variable types: 1 continuous, 88350 integer (67990 binary)\n"
     ]
    },
    {
     "name": "stderr",
     "output_type": "stream",
     "text": [
      "2025-01-18 00:26:01.727Z gurobipy         20 netflow.py:149 Variable types: 1 continuous, 88350 integer (67990 binary)\n"
     ]
    },
    {
     "name": "stdout",
     "output_type": "stream",
     "text": [
      "Coefficient statistics:\n"
     ]
    },
    {
     "name": "stderr",
     "output_type": "stream",
     "text": [
      "2025-01-18 00:26:01.730Z gurobipy         20 netflow.py:149 Coefficient statistics:\n"
     ]
    },
    {
     "name": "stdout",
     "output_type": "stream",
     "text": [
      "  Matrix range     [1e+00, 1e+00]\n"
     ]
    },
    {
     "name": "stderr",
     "output_type": "stream",
     "text": [
      "2025-01-18 00:26:01.732Z gurobipy         20 netflow.py:149   Matrix range     [1e+00, 1e+00]\n"
     ]
    },
    {
     "name": "stdout",
     "output_type": "stream",
     "text": [
      "  Objective range  [2e-04, 1e+06]\n"
     ]
    },
    {
     "name": "stderr",
     "output_type": "stream",
     "text": [
      "2025-01-18 00:26:01.734Z gurobipy         20 netflow.py:149   Objective range  [2e-04, 1e+06]\n"
     ]
    },
    {
     "name": "stdout",
     "output_type": "stream",
     "text": [
      "  Bounds range     [1e+00, 1e+00]\n"
     ]
    },
    {
     "name": "stderr",
     "output_type": "stream",
     "text": [
      "2025-01-18 00:26:01.736Z gurobipy         20 netflow.py:149   Bounds range     [1e+00, 1e+00]\n"
     ]
    },
    {
     "name": "stdout",
     "output_type": "stream",
     "text": [
      "  RHS range        [1e+00, 2e+04]\n"
     ]
    },
    {
     "name": "stderr",
     "output_type": "stream",
     "text": [
      "2025-01-18 00:26:01.737Z gurobipy         20 netflow.py:149   RHS range        [1e+00, 2e+04]\n"
     ]
    },
    {
     "name": "stdout",
     "output_type": "stream",
     "text": [
      "Presolve removed 20990 rows and 41315 columns\n"
     ]
    },
    {
     "name": "stderr",
     "output_type": "stream",
     "text": [
      "2025-01-18 00:26:01.837Z gurobipy         20 netflow.py:149 Presolve removed 20990 rows and 41315 columns\n"
     ]
    },
    {
     "name": "stdout",
     "output_type": "stream",
     "text": [
      "Presolve time: 0.05s\n"
     ]
    },
    {
     "name": "stderr",
     "output_type": "stream",
     "text": [
      "2025-01-18 00:26:01.839Z gurobipy         20 netflow.py:149 Presolve time: 0.05s\n"
     ]
    },
    {
     "name": "stdout",
     "output_type": "stream",
     "text": [
      "\n"
     ]
    },
    {
     "name": "stderr",
     "output_type": "stream",
     "text": [
      "2025-01-18 00:26:01.846Z gurobipy         20 netflow.py:149 \n"
     ]
    },
    {
     "name": "stdout",
     "output_type": "stream",
     "text": [
      "Explored 0 nodes (0 simplex iterations) in 0.13 seconds (0.05 work units)\n"
     ]
    },
    {
     "name": "stderr",
     "output_type": "stream",
     "text": [
      "2025-01-18 00:26:01.848Z gurobipy         20 netflow.py:149 Explored 0 nodes (0 simplex iterations) in 0.13 seconds (0.05 work units)\n"
     ]
    },
    {
     "name": "stdout",
     "output_type": "stream",
     "text": [
      "Thread count was 1 (of 8 available processors)\n"
     ]
    },
    {
     "name": "stderr",
     "output_type": "stream",
     "text": [
      "2025-01-18 00:26:01.849Z gurobipy         20 netflow.py:149 Thread count was 1 (of 8 available processors)\n"
     ]
    },
    {
     "name": "stdout",
     "output_type": "stream",
     "text": [
      "\n"
     ]
    },
    {
     "name": "stderr",
     "output_type": "stream",
     "text": [
      "2025-01-18 00:26:01.851Z gurobipy         20 netflow.py:149 \n"
     ]
    },
    {
     "name": "stdout",
     "output_type": "stream",
     "text": [
      "Solution count 0\n"
     ]
    },
    {
     "name": "stderr",
     "output_type": "stream",
     "text": [
      "2025-01-18 00:26:01.854Z gurobipy         20 netflow.py:149 Solution count 0\n"
     ]
    },
    {
     "name": "stdout",
     "output_type": "stream",
     "text": [
      "\n"
     ]
    },
    {
     "name": "stderr",
     "output_type": "stream",
     "text": [
      "2025-01-18 00:26:01.856Z gurobipy         20 netflow.py:149 \n"
     ]
    },
    {
     "name": "stdout",
     "output_type": "stream",
     "text": [
      "Model is infeasible\n"
     ]
    },
    {
     "name": "stderr",
     "output_type": "stream",
     "text": [
      "2025-01-18 00:26:01.858Z gurobipy         20 netflow.py:149 Model is infeasible\n"
     ]
    },
    {
     "name": "stdout",
     "output_type": "stream",
     "text": [
      "Best objective -, best bound -, gap -\n"
     ]
    },
    {
     "name": "stderr",
     "output_type": "stream",
     "text": [
      "2025-01-18 00:26:01.860Z gurobipy         20 netflow.py:149 Best objective -, best bound -, gap -\n"
     ]
    },
    {
     "ename": "AttributeError",
     "evalue": "Unable to retrieve attribute 'X'",
     "output_type": "error",
     "traceback": [
      "\u001b[0;31m---------------------------------------------------------------------------\u001b[0m",
      "\u001b[0;31mAttributeError\u001b[0m                            Traceback (most recent call last)",
      "Cell \u001b[0;32mIn[14], line 29\u001b[0m\n\u001b[1;32m     26\u001b[0m \u001b[38;5;66;03m# first visit\u001b[39;00m\n\u001b[1;32m     28\u001b[0m visit \u001b[38;5;241m=\u001b[39m \u001b[38;5;241m1\u001b[39m\n\u001b[0;32m---> 29\u001b[0m \u001b[43mmain\u001b[49m\u001b[43m(\u001b[49m\u001b[43moutdir\u001b[49m\u001b[43m,\u001b[49m\u001b[43m \u001b[49m\u001b[43mdata_dir\u001b[49m\u001b[43m,\u001b[49m\u001b[43m \u001b[49m\u001b[38;5;28;43;01mTrue\u001b[39;49;00m\u001b[43m,\u001b[49m\u001b[43m \u001b[49m\u001b[43mpointings\u001b[49m\u001b[43m,\u001b[49m\u001b[43m \u001b[49m\u001b[43mprefix\u001b[49m\u001b[43m,\u001b[49m\u001b[43m \u001b[49m\u001b[43mfield\u001b[49m\u001b[43m,\u001b[49m\u001b[43m \u001b[49m\u001b[43mLi_list\u001b[49m\u001b[43m,\u001b[49m\u001b[43m \u001b[49m\u001b[43mvisit\u001b[49m\u001b[43m,\u001b[49m\u001b[43m \u001b[49m\u001b[43m\\\u001b[49m\n\u001b[1;32m     30\u001b[0m \u001b[43m     \u001b[49m\u001b[43mfn_list\u001b[49m\u001b[43m,\u001b[49m\u001b[43m \u001b[49m\u001b[43mprefix_list\u001b[49m\u001b[43m,\u001b[49m\u001b[43m \u001b[49m\u001b[43mcalibration_list\u001b[49m\u001b[43m,\u001b[49m\u001b[43m \u001b[49m\u001b[43mtele_params\u001b[49m\u001b[43m,\u001b[49m\u001b[43m \u001b[49m\u001b[43mbench\u001b[49m\u001b[43m,\u001b[49m\u001b[43m \u001b[49m\u001b[43mcobracoach\u001b[49m\u001b[43m,\u001b[49m\u001b[43m \u001b[49m\u001b[43m\\\u001b[49m\n\u001b[1;32m     31\u001b[0m \u001b[43m     \u001b[49m\u001b[43mtwo_stage\u001b[49m\u001b[38;5;241;43m=\u001b[39;49m\u001b[38;5;28;43;01mTrue\u001b[39;49;00m\u001b[43m,\u001b[49m\u001b[43m \u001b[49m\u001b[43mgurobiOptions\u001b[49m\u001b[38;5;241;43m=\u001b[39;49m\u001b[38;5;28;43;01mNone\u001b[39;49;00m\u001b[43m,\u001b[49m\u001b[43m \u001b[49m\u001b[43mcollision_sim_version\u001b[49m\u001b[38;5;241;43m=\u001b[39;49m\u001b[38;5;241;43m2\u001b[39;49m\u001b[43m)\u001b[49m\n\u001b[1;32m     32\u001b[0m \u001b[38;5;28mprint\u001b[39m(\u001b[38;5;124m\"\u001b[39m\u001b[38;5;124mDone: field-\u001b[39m\u001b[38;5;132;01m%s\u001b[39;00m\u001b[38;5;124m, visit-\u001b[39m\u001b[38;5;132;01m%d\u001b[39;00m\u001b[38;5;124m\"\u001b[39m \u001b[38;5;241m%\u001b[39m (field, visit))\n\u001b[1;32m     35\u001b[0m \u001b[38;5;66;03m# second visit\u001b[39;00m\n",
      "Cell \u001b[0;32mIn[10], line 83\u001b[0m, in \u001b[0;36mmain\u001b[0;34m(outdir, data_dir, update_tgt_file, pointings, prefix, field, Li_list, visit, fn_list, prefix_list, calibration_list, tele_params, bench, cobracoach, two_stage, gurobiOptions, collision_sim_version)\u001b[0m\n\u001b[1;32m     77\u001b[0m \u001b[38;5;28mprint\u001b[39m(\u001b[38;5;124m\"\u001b[39m\u001b[38;5;124mfield - \u001b[39m\u001b[38;5;132;01m%s\u001b[39;00m\u001b[38;5;124m, \u001b[39m\u001b[38;5;132;01m%s\u001b[39;00m\u001b[38;5;124m (\u001b[39m\u001b[38;5;132;01m%f\u001b[39;00m\u001b[38;5;124m, \u001b[39m\u001b[38;5;132;01m%f\u001b[39;00m\u001b[38;5;124m): \u001b[39m\u001b[38;5;132;01m%d\u001b[39;00m\u001b[38;5;124m targets in the FoV.\u001b[39m\u001b[38;5;124m\"\u001b[39m \u001b[38;5;241m%\u001b[39m (field, Li, peak[\u001b[38;5;241m0\u001b[39m], peak[\u001b[38;5;241m1\u001b[39m], \u001b[38;5;28mlen\u001b[39m(tgt_peak)))\n\u001b[1;32m     79\u001b[0m \u001b[38;5;66;03m# (Done) TODO: update the alreadyObserved dictionary\u001b[39;00m\n\u001b[1;32m     80\u001b[0m \u001b[38;5;66;03m# TODO: rewrite the write_output and cal_completeness part\u001b[39;00m\n\u001b[1;32m     81\u001b[0m \n\u001b[1;32m     82\u001b[0m \u001b[38;5;66;03m# excute the fiber assignment\u001b[39;00m\n\u001b[0;32m---> 83\u001b[0m res, tpos, telescopes \u001b[38;5;241m=\u001b[39m \u001b[43mexecute\u001b[49m\u001b[43m(\u001b[49m\u001b[43mnp\u001b[49m\u001b[38;5;241;43m.\u001b[39;49m\u001b[43marray\u001b[49m\u001b[43m(\u001b[49m\u001b[43m[\u001b[49m\u001b[43mpeak\u001b[49m\u001b[43m]\u001b[49m\u001b[43m)\u001b[49m\u001b[43m,\u001b[49m\u001b[43m \u001b[49m\u001b[43mtgt_peak\u001b[49m\u001b[43m,\u001b[49m\u001b[43m \u001b[49m\u001b[43mclassdict\u001b[49m\u001b[43m,\u001b[49m\u001b[43m \u001b[49m\u001b[43malreadyObserved\u001b[49m\u001b[43m,\u001b[49m\u001b[43m \u001b[49m\u001b[43mt_obs\u001b[49m\u001b[38;5;241;43m=\u001b[39;49m\u001b[38;5;241;43m1800.\u001b[39;49m\u001b[43m,\u001b[49m\u001b[43m \u001b[49m\u001b[43mtwo_stage\u001b[49m\u001b[38;5;241;43m=\u001b[39;49m\u001b[43mtwo_stage\u001b[49m\u001b[43m,\u001b[49m\u001b[43m \u001b[49m\u001b[43mcollision_sim_version\u001b[49m\u001b[38;5;241;43m=\u001b[39;49m\u001b[43mcollision_sim_version\u001b[49m\u001b[43m,\u001b[49m\u001b[43m \u001b[49m\u001b[43mbench\u001b[49m\u001b[38;5;241;43m=\u001b[39;49m\u001b[43mbench\u001b[49m\u001b[43m,\u001b[49m\u001b[43m \u001b[49m\u001b[43mcobracoach\u001b[49m\u001b[38;5;241;43m=\u001b[39;49m\u001b[43mcobracoach\u001b[49m\u001b[43m,\u001b[49m\u001b[43m \u001b[49m\u001b[43mgurobiOptions\u001b[49m\u001b[38;5;241;43m=\u001b[39;49m\u001b[43mgurobiOptions\u001b[49m\u001b[43m,\u001b[49m\u001b[43m \u001b[49m\u001b[43mtele_params\u001b[49m\u001b[38;5;241;43m=\u001b[39;49m\u001b[43mtele_params\u001b[49m\u001b[43m)\u001b[49m\n\u001b[1;32m     85\u001b[0m outfn \u001b[38;5;241m=\u001b[39m prefix \u001b[38;5;241m+\u001b[39m \u001b[38;5;124m'\u001b[39m\u001b[38;5;124mfield_\u001b[39m\u001b[38;5;132;01m%s\u001b[39;00m\u001b[38;5;124m_\u001b[39m\u001b[38;5;132;01m%s\u001b[39;00m\u001b[38;5;124m_visit\u001b[39m\u001b[38;5;132;01m%d\u001b[39;00m\u001b[38;5;124m.txt\u001b[39m\u001b[38;5;124m'\u001b[39m\u001b[38;5;241m%\u001b[39m(field, Li, visit)\n\u001b[1;32m     86\u001b[0m write_output(tgt_peak, res, tpos, telescopes, outdir, outfn)\n",
      "Cell \u001b[0;32mIn[3], line 175\u001b[0m, in \u001b[0;36mexecute\u001b[0;34m(peaks, tgt, classdict, alreadyObserved, t_obs, two_stage, collision_sim_version, tele_params, bench, cobracoach, gurobiOptions)\u001b[0m\n\u001b[1;32m    173\u001b[0m \u001b[38;5;28;01mfor\u001b[39;00m k1, v1 \u001b[38;5;129;01min\u001b[39;00m prob1\u001b[38;5;241m.\u001b[39m_vardict\u001b[38;5;241m.\u001b[39mitems():\n\u001b[1;32m    174\u001b[0m     \u001b[38;5;28;01mif\u001b[39;00m k1\u001b[38;5;241m.\u001b[39mstartswith(\u001b[38;5;124m\"\u001b[39m\u001b[38;5;124mTv_Cv_\u001b[39m\u001b[38;5;124m\"\u001b[39m):\n\u001b[0;32m--> 175\u001b[0m         visited \u001b[38;5;241m=\u001b[39m \u001b[43mprob1\u001b[49m\u001b[38;5;241;43m.\u001b[39;49m\u001b[43mvalue\u001b[49m\u001b[43m(\u001b[49m\u001b[43mv1\u001b[49m\u001b[43m)\u001b[49m \u001b[38;5;241m>\u001b[39m \u001b[38;5;241m0\u001b[39m\n\u001b[1;32m    176\u001b[0m         \u001b[38;5;28;01mif\u001b[39;00m visited:\n\u001b[1;32m    177\u001b[0m             _, _, tidx, cidx, ivis \u001b[38;5;241m=\u001b[39m k1\u001b[38;5;241m.\u001b[39msplit(\u001b[38;5;124m\"\u001b[39m\u001b[38;5;124m_\u001b[39m\u001b[38;5;124m\"\u001b[39m)\n",
      "File \u001b[0;32m~/anaconda3/lib/python3.10/site-packages/ets_fiber_assigner-0.0.1-py3.10-macosx-10.9-x86_64.egg/ets_fiber_assigner/netflow.py:145\u001b[0m, in \u001b[0;36mGurobiProblem.value\u001b[0;34m(var)\u001b[0m\n\u001b[1;32m    143\u001b[0m \u001b[38;5;129m@staticmethod\u001b[39m\n\u001b[1;32m    144\u001b[0m \u001b[38;5;28;01mdef\u001b[39;00m \u001b[38;5;21mvalue\u001b[39m(var):\n\u001b[0;32m--> 145\u001b[0m     \u001b[38;5;28;01mreturn\u001b[39;00m \u001b[43mvar\u001b[49m\u001b[38;5;241;43m.\u001b[39;49m\u001b[43mX\u001b[49m\n",
      "File \u001b[0;32msrc/gurobipy/var.pxi:125\u001b[0m, in \u001b[0;36mgurobipy.Var.__getattr__\u001b[0;34m()\u001b[0m\n",
      "File \u001b[0;32msrc/gurobipy/var.pxi:153\u001b[0m, in \u001b[0;36mgurobipy.Var.getAttr\u001b[0;34m()\u001b[0m\n",
      "File \u001b[0;32msrc/gurobipy/attrutil.pxi:100\u001b[0m, in \u001b[0;36mgurobipy.__getattr\u001b[0;34m()\u001b[0m\n",
      "\u001b[0;31mAttributeError\u001b[0m: Unable to retrieve attribute 'X'"
     ]
    }
   ],
   "source": [
    "# prefix = 'cmx_01222025_DESI-ELG'\n",
    "fdir_Jan25 = '../data_raw/Jan25/'\n",
    "prefix_org = 'cmx_01222025_DESI-ELG'\n",
    "outdir = '../output/Jan25/'\n",
    "data_dir = '../data_proc/Jan25/'\n",
    "prefix = ''\n",
    "\n",
    "# HST(UTC-10) Jan 22 20:00 for field a and b, same for both visits\n",
    "otime_list = ['2025-01-23T06:00:00Z', '2025-01-23T06:00:00Z']\n",
    " \n",
    "#for field, Li_list, otime in zip(['a', 'b'], [['L1', 'L3', 'L4'], ['L1', 'L2', 'L3']], otime_list):\n",
    "# for field, Li_list, otime in zip(['a', ], [['L1', 'L3', ], ], ['2025-01-23T06:00:00Z', ]):\n",
    "for field, Li_list, otime in zip(['b', ], [['L3', ], ], ['2025-01-23T06:00:00Z', ]):\n",
    "# NOTE: having problem when run for a-L4, b-L1\n",
    "    pointings = read_proc_pointings_Jan25(fdir_Jan25, data_dir, prefix_org, field)\n",
    "    print(pointings)\n",
    "\n",
    "    # cosmology + sky + star targets\n",
    "    fn_list = ['field_{}_targets.ecsv'.format(field), 'star_field_{}_targets.ecsv'.format(field), 'sky_field_{}_targets.ecsv'.format(field)]\n",
    "    prefix_list = [\"sci\", \"cal\", \"sky\"]\n",
    "    calibration_list = [False, True, True]\n",
    "\n",
    "    # telescope parameters\n",
    "    tele_params = {\"otime\": otime, \"posang\":0.}\n",
    "\n",
    "    # first visit\n",
    "    \n",
    "    visit = 1\n",
    "    main(outdir, data_dir, True, pointings, prefix, field, Li_list, visit, \\\n",
    "         fn_list, prefix_list, calibration_list, tele_params, bench, cobracoach, \\\n",
    "         two_stage=True, gurobiOptions=None, collision_sim_version=2)\n",
    "    print(\"Done: field-%s, visit-%d\" % (field, visit))\n",
    "    \n",
    "    \n",
    "    # second visit\n",
    "    \n",
    "    visit = 2\n",
    "    main(outdir, data_dir, True, pointings, prefix, field, Li_list, visit, \\\n",
    "         fn_list, prefix_list, calibration_list, tele_params, bench, cobracoach, \\\n",
    "         two_stage=True, gurobiOptions=None, collision_sim_version=2)\n",
    "    print(\"Done: field-%s, visit-%d\" % (field, visit))\n",
    "    \n"
   ]
  },
  {
   "cell_type": "markdown",
   "metadata": {},
   "source": [
    "# check list for the observatory Target Uploader\n",
    "+ CO netflow output targets all get a fiber assigned (test myself - use output as an input, all targets have the same cost)\n",
    "+ two stage == different cost (same sky coverage)?\n",
    "+ CO needs to track the status of the target list and instrument\n",
    "+ if different otime is used, how many targets (sci, sky, star separately) will be missed? (test myself - use output as an input)"
   ]
  },
  {
   "cell_type": "code",
   "execution_count": null,
   "metadata": {},
   "outputs": [],
   "source": []
  },
  {
   "cell_type": "markdown",
   "metadata": {},
   "source": []
  }
 ],
 "metadata": {
  "kernelspec": {
   "display_name": "Python 3 (ipykernel)",
   "language": "python",
   "name": "python3"
  },
  "language_info": {
   "codemirror_mode": {
    "name": "ipython",
    "version": 3
   },
   "file_extension": ".py",
   "mimetype": "text/x-python",
   "name": "python",
   "nbconvert_exporter": "python",
   "pygments_lexer": "ipython3",
   "version": "3.10.9"
  }
 },
 "nbformat": 4,
 "nbformat_minor": 4
}
