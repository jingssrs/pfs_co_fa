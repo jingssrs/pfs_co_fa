{
 "cells": [
  {
   "cell_type": "markdown",
   "metadata": {},
   "source": [
    "# basic set up"
   ]
  },
  {
   "cell_type": "code",
   "execution_count": 78,
   "metadata": {},
   "outputs": [
    {
     "name": "stderr",
     "output_type": "stream",
     "text": [
      "2025-01-15 09:10:56.333Z matplotlib.pyplot 10 pyplot.py:338 Loaded backend module://matplotlib_inline.backend_inline version unknown.\n"
     ]
    }
   ],
   "source": [
    "#basic set up\n",
    "%matplotlib inline\n",
    "import numpy as np\n",
    "import random\n",
    "import time\n",
    "import matplotlib.pyplot as plt\n",
    "import astropy.io.fits as pyfits\n",
    "import os\n",
    "from astropy.table import Table\n",
    "from astropy import units as u\n",
    "from astropy.coordinates import SkyCoord\n",
    "from IPython.display import clear_output\n",
    "from matplotlib.path import Path\n",
    "import pandas as pd\n",
    "import pdb\n",
    "from logzero import logger\n",
    "from utils.common_imports import *\n",
    "\n",
    "\n",
    "#netflow \n",
    "import ets_fiber_assigner.netflow as nf\n",
    "import ets_fiber_assigner.io_helpers as io_helpers\n",
    "from ics.cobraOps.Bench import Bench\n",
    "from ics.cobraOps.TargetGroup import TargetGroup\n",
    "from ics.cobraOps.CobrasCalibrationProduct import CobrasCalibrationProduct\n",
    "from ics.cobraOps.BlackDotsCalibrationProduct import BlackDotsCalibrationProduct\n",
    "from pfs.utils.fiberids import FiberIds\n",
    "\n",
    "from ics.cobraCharmer.pfiDesign import PFIDesign\n",
    "from ics.cobraCharmer.cobraCoach.cobraCoach import CobraCoach\n",
    "from ics.cobraOps.DistanceTargetSelector import DistanceTargetSelector\n",
    "\n",
    "from ics.cobraOps.CollisionSimulator2 import CollisionSimulator2\n",
    "from ics.cobraOps.CollisionSimulator import CollisionSimulator\n",
    "from ics.cobraOps.cobraConstants import NULL_TARGET_POSITION, NULL_TARGET_ID\n",
    "from ics.cobraOps import plotUtils\n",
    "from collections import defaultdict"
   ]
  },
  {
   "cell_type": "markdown",
   "metadata": {},
   "source": [
    "# key functions"
   ]
  },
  {
   "cell_type": "code",
   "execution_count": 16,
   "metadata": {},
   "outputs": [],
   "source": []
  },
  {
   "cell_type": "code",
   "execution_count": 79,
   "metadata": {},
   "outputs": [],
   "source": [
    "\n",
    "# read the pointing centers from the file\n",
    "def read_pointings(file):\n",
    "    \"\"\"\n",
    "    Read pre-defined pointings from a file\n",
    "    \"\"\"\n",
    "    try:\n",
    "        # first try reading as ecsv format\n",
    "        t = Table.read(file, format=\"ascii.ecsv\")\n",
    "        return t[\"R.A.\"], t['Dec.']\n",
    "    except:\n",
    "        pass\n",
    "\n",
    "    with open(file) as f:\n",
    "        ras = []\n",
    "        decs = []\n",
    "        ll = f.readlines()\n",
    "        for l in ll[1:]:\n",
    "            if not l.startswith(\"#\"):\n",
    "                tt = l.split()\n",
    "                ra, dec = (float(tt[0]), float(tt[1]))\n",
    "                ras.append(ra)\n",
    "                decs.append(dec)\n",
    "    return np.array(ras), np.array(decs)\n",
    "\n",
    "# TODO: try a more efficient way to contruct the target list, add alreadyObserved to the target list either in netflow Targets or in this function\n",
    "def construct_tgt_list(catalog_path = \"../proc_data/\", \\\n",
    "                       fn_list = [\"cos_select.ecsv\", \"star_select.ecsv\", \"sky_select.ecsv\"], \\\n",
    "                       prefix_list = [\"sci\", \"cal\", \"sky\"], calibration_list = [False, True, True]):\n",
    "    '''\n",
    "    Construct target list\n",
    "    '''\n",
    "    print(\"construct target list:\")\n",
    "    for i, fn_i in enumerate(fn_list):\n",
    "        fn = catalog_path + fn_i\n",
    "        print(fn)\n",
    "        \n",
    "        # read all targets into a single list, giving them their proper types\n",
    "        if(i<1):\n",
    "            if(not calibration_list[i]): tgt = nf.readScientificFromFile(fn, prefix_list[i])\n",
    "            if(calibration_list[i]): tgt = nf.readCalibrationFromFile(fn, prefix_list[i])\n",
    "        else:\n",
    "            if(not calibration_list[i]): tgt += nf.readScientificFromFile(fn, prefix_list[i])\n",
    "            if(calibration_list[i]): tgt += nf.readCalibrationFromFile(fn, prefix_list[i])\n",
    "\n",
    "    print(\"In total, there are %d targets.\" % len(tgt))\n",
    "\n",
    "    # sample of sci targets\n",
    "    sample_sci = []\n",
    "    for t in tgt:\n",
    "        if(t.targetclass[:3] == 'sci'): sample_sci.append([t.ID,t.ra,t.dec])  \n",
    "\n",
    "    sample_sci = np.array(sample_sci)\n",
    "    \n",
    "    return tgt, sample_sci\n",
    "\n",
    "# TODO: play with the cost value for different classes\n",
    "def def_classdict():\n",
    "    '''define classdict for netflow run\n",
    "    \n",
    "    Parameters\n",
    "    ==========\n",
    "    None\n",
    "    \n",
    "    Returns\n",
    "    =======\n",
    "    classdict\n",
    "    '''\n",
    "    # create the dictionary containing the costs and constraints for all classes\n",
    "    # of targets\n",
    "    classdict = {}\n",
    "    classdict[\"sci_P1\"] = {\"nonObservationCost\": 200,\n",
    "                           \"partialObservationCost\": 1e6, \"calib\": False}\n",
    "    classdict[\"sci_P2\"] = {\"nonObservationCost\": 100,\n",
    "                           \"partialObservationCost\": 1e6, \"calib\": False}\n",
    "    \n",
    "    #for ancillary targets\n",
    "    classdict[\"anc_P1\"] = {\"nonObservationCost\": 50,\n",
    "                           \"partialObservationCost\": 1e6, \"calib\": False}\n",
    "    classdict[\"anc_P2\"] = {\"nonObservationCost\": 10,\n",
    "                           \"partialObservationCost\": 1e6, \"calib\": False}\n",
    "\n",
    "    #need to ask PFS project office to get the \"numRequired\"\n",
    "    classdict[\"sky\"] = {\"numRequired\": 400,\n",
    "                        \"nonObservationCost\": 1e6, \"calib\": True}\n",
    "    #100-200 stars - Masayuki\n",
    "    classdict[\"cal\"] = {\"numRequired\": 200,\n",
    "                        \"nonObservationCost\": 1e6, \"calib\": True}\n",
    "\n",
    "    return classdict\n",
    "\n",
    "\n",
    "\n",
    "def write_output(tgt, res, tpos, telescopes, fdir_out, fn_out, t_obs=900):\n",
    "    '''write the output of fiber assignment\n",
    "    Parameters\n",
    "    ==========\n",
    "    fdir_out: string\n",
    "        output folder directory\n",
    "    fn_out: string\n",
    "        output file name\n",
    "    '''\n",
    "    \n",
    "    with open(fdir_out + fn_out, \"w\") as f:\n",
    "        for i, (vis, tp, tel) in enumerate(zip(res, tpos, telescopes)):\n",
    "            print(\"exposure {}:\".format(i))\n",
    "            print(\"  assigned Cobras: {}\".format(len(vis)))\n",
    "            tdict = defaultdict(int)\n",
    "            f.write(\"# Exposure {}: duration {}s, RA: {}, Dec: {}, PA: {}\\n\".\n",
    "                    format(i+1, t_obs, tel._ra, tel._dec, tel._posang))\n",
    "            f.write(\"# Target    Fiber          X          Y         \"\n",
    "                    \"RA        DEC\\n\")\n",
    "            for tidx, cidx in vis.items():\n",
    "                tdict[tgt[tidx].targetclass] += 1 #tgt[].targetclass = 'sci_Px'\n",
    "                f.write(\"{:} {:6d} {:10.5f} {:10.5f} {:10.5f} {:10.5f}\\n\"\n",
    "                        .format(tgt[tidx].ID, cidx+1, tp[tidx].real, tp[tidx].imag,\n",
    "                                tgt[tidx].ra, tgt[tidx].dec))\n",
    "            for cls, num in tdict.items():\n",
    "                print(\"   {}: {}\".format(cls, num))\n",
    "                \n",
    "                \n",
    "def cal_completeness(tgt, res, tpos, telescopes, Plot=False, fn_fig='', Save=False, fn_fibeff=''):\n",
    "    '''calculate the completeness of the targets and fiber assignment fraction\n",
    "    Parameters\n",
    "    ==========\n",
    "    fdir_out: string\n",
    "        output folder directory\n",
    "    Plot: boolean\n",
    "        plot the results if True \n",
    "    '''\n",
    "    \n",
    "    #fiber assignment fraction of each pointing\n",
    "    fib_eff = [] \n",
    "    #fiber assignment fraction of pointing which observed galaxies\n",
    "    fib_eff_gal = []\n",
    "    fib_eff_anc = []\n",
    "    #calibration targets\n",
    "    fib_eff_star = []\n",
    "    fib_eff_sky = []\n",
    "\n",
    "    #objects that got allocated a fiber\n",
    "    obj_allo = []\n",
    "    for i, (vis, tp, tel) in enumerate(zip(res, tpos, telescopes)):\n",
    "        fib_eff_t = len(vis)/2394.*100 #2394 fibers available\n",
    "        fib_eff.append(fib_eff_t)\n",
    "\n",
    "        n_fib_gal = 0\n",
    "        n_fib_anc = 0\n",
    "        n_fib_star = 0\n",
    "        n_fib_sky = 0\n",
    "        #tidx is the id in tgt list; cidx is the fiber id, starting from 0\n",
    "        for tidx, cidx in vis.items():\n",
    "            obj_allo.append([\"Point_\"+str(i+1), tel._ra, tel._dec, tel._posang, tgt[tidx].ID,\n",
    "                            cidx+1, tp[tidx].real, tgt[tidx].ra, tgt[tidx].dec,\n",
    "                            tgt[tidx].targetclass])\n",
    "\n",
    "            if tgt[tidx].targetclass[:3]=='sci': n_fib_gal+=1\n",
    "            if tgt[tidx].targetclass[:3]=='anc': n_fib_anc+=1\n",
    "            if tgt[tidx].targetclass[:3]=='sky': n_fib_sky+=1\n",
    "            if tgt[tidx].targetclass[:3]=='cal': n_fib_star+=1\n",
    "\n",
    "        fib_eff_gal.append(n_fib_gal/2394.*100)\n",
    "        fib_eff_anc.append(n_fib_anc/2394.*100)\n",
    "        fib_eff_star.append(n_fib_star/2394.*100)\n",
    "        fib_eff_sky.append(n_fib_sky/2394.*100)\n",
    "\n",
    "        print(\"exposure {}:\".format(i))\n",
    "        print(\"assigned Cobras(%): {:.2f}%; gal--{:.2f}%, anc--{:.2f}%, sky--{:.2f}%, star--{:.2f}%\". format(fib_eff[i], fib_eff_gal[i], fib_eff_anc[i], fib_eff_sky[i], fib_eff_star[i]))\n",
    "    \n",
    "    if(Save==True):\n",
    "        np.savetxt(fn_fibeff, np.c_[fib_eff, fib_eff_gal, fib_eff_anc, fib_eff_sky, fib_eff_star])\n",
    "    \n",
    "    #unique tgt_class\n",
    "    tgt_class = []\n",
    "    for tgt_i in tgt:\n",
    "        tgt_class.append(tgt_i.targetclass)\n",
    "    tgt_class = np.array(tgt_class)\n",
    "    uniq_tgt_class = np.unique(tgt_class)\n",
    "\n",
    "    #completeness fraction\n",
    "    tgt_class_allo = np.array([obj_allo_i[-1] for obj_allo_i in obj_allo])\n",
    "    comp_out = {}\n",
    "    for ii, uniq_tgt_i in enumerate(uniq_tgt_class):\n",
    "        mask_i = tgt_class == uniq_tgt_i\n",
    "        tot = len(tgt_class[mask_i])\n",
    "\n",
    "        mask_ii = tgt_class_allo == uniq_tgt_i\n",
    "        done = len(tgt_class_allo[mask_ii])\n",
    "\n",
    "        comp_out[uniq_tgt_i] = done/tot\n",
    "        \n",
    "    print(\"comp_out=\", comp_out)\n",
    "    \n",
    "    #plot\n",
    "    if(Plot==True):  \n",
    "        npoint_used = len(tpos)\n",
    "        msk_sci_class =  [uniq_tgt_class_i[:3]=='sci' for uniq_tgt_class_i in uniq_tgt_class]\n",
    "        sci_class = uniq_tgt_class[msk_sci_class]\n",
    "        msk_anc_class =  [uniq_tgt_class_i[:3]=='anc' for uniq_tgt_class_i in uniq_tgt_class]\n",
    "        sci_class = np.append(sci_class, uniq_tgt_class[msk_anc_class])\n",
    "        print(sci_class)\n",
    "        \n",
    "        plt.figure(figsize=(12, 4))\n",
    "        plt.subplot(121)\n",
    "        for ii, sci_class_ii in enumerate(sci_class):\n",
    "            plt.bar([ii+1], comp_out[sci_class_ii], width=1., fc='tomato', ec='none', alpha=0.8, zorder=10)\n",
    "            plt.bar([ii+1], comp_out[sci_class_ii], width=1., ec='tomato', fc='none', lw=1)\n",
    "\n",
    "        plt.plot([0,10], [0.8,0.8], 'k--', lw=2, zorder=11)\n",
    "        plt.xticks(np.arange(len(sci_class))+1, sci_class, fontsize=15)\n",
    "        plt.ylabel('completeness fraction', fontsize=15)\n",
    "        plt.xlim(0, len(sci_class)+2)\n",
    "        plt.ylim(0, 1.)\n",
    "\n",
    "        plt.subplot(122)\n",
    "        plt.bar(np.arange(0,len(fib_eff_gal),1), fib_eff_gal, width=0.8, fc='tomato', ec='none', alpha=0.6, zorder=10)\n",
    "        plt.bar(np.arange(0,len(fib_eff_anc),1), fib_eff_anc, width=0.8, fc='purple', ec='none', alpha=0.5)\n",
    "        plt.bar(np.arange(0,len(fib_eff_sky),1), fib_eff_sky, width=0.8, fc='blue', ec='none', alpha=0.5)\n",
    "        plt.bar(np.arange(0,len(fib_eff_star),1), fib_eff_star, width=0.8, fc='gray', ec='none', alpha=0.5)\n",
    "\n",
    "        plt.plot([0,npoint_used+1.], [80,80], 'k--', lw=2, zorder=11)\n",
    "        plt.plot([0,npoint_used+1.], [np.mean(fib_eff_gal), np.mean(fib_eff_gal)], '--', color='tomato', lw=2, zorder=11)\n",
    "        plt.plot([0,npoint_used+1.], [np.mean(fib_eff_anc), np.mean(fib_eff_anc)], '--', color='purple', lw=2, zorder=11)\n",
    "        plt.plot([0,npoint_used+1.], [np.mean(fib_eff_sky), np.mean(fib_eff_sky)], '--', color='blue', lw=2, zorder=11)\n",
    "        plt.plot([0,npoint_used+1.], [np.mean(fib_eff_star), np.mean(fib_eff_star)], '--', color='gray', lw=2, zorder=11)\n",
    "\n",
    "        plt.text(npoint_used*0.8, 100, \"cosmology--{:2.2f}%\".format(np.mean(fib_eff_gal)), color='tomato', fontsize=12)\n",
    "        plt.text(npoint_used*0.8, 92, \"ancillary--{:2.2f}%\".format(np.mean(fib_eff_anc)), color='purple', fontsize=12)\n",
    "        plt.text(npoint_used*0.8, 84, \"sky--{:2.2f}%\".format(np.mean(fib_eff_sky)), color='blue', fontsize=12)\n",
    "        plt.text(npoint_used*0.8, 76, \"star--{:2.2f}%\".format(np.mean(fib_eff_star)), color='gray', fontsize=12)\n",
    "        plt.xlim(0, npoint_used+1.)\n",
    "        plt.ylim(0, 110.)\n",
    "        plt.xlabel('Pointing', fontsize=15)\n",
    "        plt.ylabel('fiber alloc fraction', fontsize=15)\n",
    "\n",
    "        plt.savefig(fn_fig, dpi=300, bbox_inches='tight')\n",
    "        plt.show()\n",
    "        plt.close()\n",
    "        \n",
    "    return comp_out\n",
    "\n",
    "    "
   ]
  },
  {
   "cell_type": "markdown",
   "metadata": {},
   "source": [
    "## execute function"
   ]
  },
  {
   "cell_type": "code",
   "execution_count": 86,
   "metadata": {},
   "outputs": [],
   "source": [
    "# (DONE)TODO-0: plot the distribution of the cosmology, star, and sky\n",
    "# (DONE)TODO-1: make posang and otime as input parameters\n",
    "# (DONE)TODO-2: test different otime outputs of tpos and netflow\n",
    "# (DONE)TODO-3: make bench, Gurobi options as input parameters\n",
    "# TODO-4: test different Gurobi options, vis_cost, cobraMoveCost\n",
    "# TODO-5: check blackDotPenalty, collision_distance, and minSkyTargetsPerInstrumentRegion\n",
    "# TODO-6: write code to get longer exposure in the 2nd visit for some targets\n",
    "# TODO-7: test which part of the code is the bottleneck\n",
    "def execute(peaks, tgt, classdict, alreadyObserved, t_obs = 900., two_stage = False, collision_sim_version = 2, tele_params={\"otime\":\"2025-08-20T11:00:00Z\", \"posang\":0.}, bench = None, cobracoach = None, gurobiOptions = None):\n",
    "    '''\n",
    "    Parameters\n",
    "    ==========\n",
    "    two_stage (boolean): whether to do two stage assignment or not\n",
    "    \n",
    "    Returns\n",
    "    =======\n",
    "    '''\n",
    "    # get a complete, idealized focal plane configuration\n",
    "    if bench is None:\n",
    "        Exception(\"bench is not defined\")\n",
    "    if cobracoach is None:\n",
    "        Exception(\"cobracoach is not defined\")\n",
    "        \n",
    "    # test_a \n",
    "    # otime = \"2025-08-20T10:00:00Z\"\n",
    "    # test_b\n",
    "    # otime = \"2025-08-20T12:00:00Z\"\n",
    "    # test_c\n",
    "    # otime = \"2025-08-20T11:00:00Z\"\n",
    "\n",
    "    raTel, decTel = peaks[:, 0], peaks[:, 1]\n",
    "    posang = tele_params[\"posang\"]\n",
    "    otime = tele_params[\"otime\"]\n",
    "    telescopes = []\n",
    "\n",
    "    # number of distinct observations\n",
    "    nvisit = len(raTel)\n",
    "\n",
    "    # generate telescope pointings for every observation\n",
    "    for ii in range(nvisit):\n",
    "        telescopes.append(nf.Telescope(raTel[ii], decTel[ii], posang, otime))\n",
    "\n",
    "    # get focal plane positions for all targets and all visits\n",
    "    tpos = [tele.get_fp_positions(tgt) for tele in telescopes]\n",
    "    \n",
    "    # optional: slightly increase the cost for later observations,\n",
    "    # to observe as early as possible\n",
    "    # test_defualt \n",
    "    vis_cost = [0.1*i for i in range(nvisit)]\n",
    "    # test_vis_cost -- no difference in the output\n",
    "    # vis_cost = [0.*i for i in range(nvisit)]\n",
    "\n",
    "    # optional: penalize assignments where the cobra has to move far out\n",
    "    def cobraMoveCost(dist):\n",
    "        # test_default\n",
    "        return 0.01*dist \n",
    "        # test_cobraMoveCost, fiber efficency is slightly lower (75.40 versus 75.44) in one of the two pointings \n",
    "        # return 0.0001*dist\n",
    "    \n",
    "    # test_default\n",
    "    # blackDotPenalty = None\n",
    "    # optional: penalize assignments near the black dots\n",
    "    # test_blackDotPenalty, note distance is in mm, same as in cobraMoveCost\n",
    "    # --- fiber efficency is different, but not in a consistent way in the two pointings\n",
    "    def blackDotPenalty(dist):\n",
    "        #return 0.\n",
    "        return 0.01*(1. - 0.5 * dist)\n",
    "\n",
    "    # refer to gurobi website for information on these parameters, LogToConsole=1 will display the running process\n",
    "    if gurobiOptions is None:\n",
    "        gurobiOptions = dict(seed=0, presolve=1, method=4, degenmoves=0,\n",
    "                            heuristics=0.8, mipfocus=0, mipgap=5.e-2, LogToConsole=1)\n",
    "    \n",
    "    forbiddenPairs = []\n",
    "    for i in range(nvisit):\n",
    "        forbiddenPairs.append([])\n",
    "\n",
    "    print(\"solving the problem for stage=0 targets.\")\n",
    "    done = False\n",
    "    while not done:\n",
    "        # compute observation strategy for stage=0 targets (default: stage=0, preassigned=None)\n",
    "        prob0 = nf.buildProblem(bench, tgt, tpos, classdict, t_obs,\n",
    "                               vis_cost, cobraMoveCost=cobraMoveCost,\n",
    "                               collision_distance=2., elbow_collisions=True,\n",
    "                               gurobi=True, gurobiOptions=gurobiOptions,\n",
    "                               alreadyObserved=alreadyObserved,\n",
    "                               forbiddenPairs=forbiddenPairs, \n",
    "                               blackDotPenalty=blackDotPenalty)\n",
    "\n",
    "        prob0.solve()\n",
    "        Obj0 = prob0._prob.objVal\n",
    "        \n",
    "        # extract solution for stage=0\n",
    "        res0 = [{} for _ in range(nvisit)]\n",
    "        for k1, v1 in prob0._vardict.items():\n",
    "            if k1.startswith(\"Tv_Cv_\"):\n",
    "                visited = prob0.value(v1) > 0\n",
    "                if visited:\n",
    "                    _, _, tidx, cidx, ivis = k1.split(\"_\")\n",
    "                    res0[int(ivis)][int(tidx)] = int(cidx)\n",
    "        #    \n",
    "        print(\"Checking for trajectory collisions\")\n",
    "        ncoll = 0\n",
    "        for ivis, (vis, tp) in enumerate(zip(res0, tpos)):\n",
    "            selectedTargets = np.full(len(bench.cobras.centers), NULL_TARGET_POSITION)\n",
    "            ids = np.full(len(bench.cobras.centers), NULL_TARGET_ID)\n",
    "            for tidx, cidx in vis.items():\n",
    "                selectedTargets[cidx] = tp[tidx]\n",
    "                ids[cidx] = \"\"\n",
    "            for i in range(selectedTargets.size):\n",
    "                if selectedTargets[i] != NULL_TARGET_POSITION:\n",
    "                    dist = np.abs(selectedTargets[i]-bench.cobras.centers[i])\n",
    "                    if dist > bench.cobras.L1[i] + bench.cobras.L2[i]:\n",
    "                        logger.warning(\n",
    "                            f\"(CobraId={i}) Distance from the center exceeds L1+L2 ({dist} mm)\"\n",
    "                        )\n",
    "\n",
    "            if collision_sim_version == 2:\n",
    "                simulator = CollisionSimulator2(bench, cobracoach, TargetGroup(selectedTargets, ids))\n",
    "            else:\n",
    "                simulator = CollisionSimulator(bench, TargetGroup(selectedTargets, ids))\n",
    "\n",
    "            simulator.run()\n",
    "            if np.any(simulator.endPointCollisions):\n",
    "                print(\"ERROR: detected end point collision, which should be impossible\")\n",
    "\n",
    "            coll_tidx = []\n",
    "            for tidx, cidx in vis.items():\n",
    "                if simulator.collisions[cidx]:\n",
    "                    coll_tidx.append(tidx)\n",
    "            ncoll += len(coll_tidx)\n",
    "            for i1 in range(0,len(coll_tidx)):\n",
    "                found = False\n",
    "                for i2 in range(i1 + 1, len(coll_tidx)):\n",
    "                    if np.abs(tp[coll_tidx[i1]] - tp[coll_tidx[i2]])<10:\n",
    "                        forbiddenPairs[ivis].append((coll_tidx[i1],coll_tidx[i2]))\n",
    "                        found = True\n",
    "                if not found:  # not a collision between two active Cobras\n",
    "                    forbiddenPairs[ivis].append((coll_tidx[i1],))\n",
    "\n",
    "        print(\"trajectory collisions found:\", ncoll)\n",
    "        done = ncoll == 0\n",
    "        \n",
    "    print(\"Done: solving the problem for stage=0 targets.\")\n",
    "    \n",
    "    if((two_stage==False)):\n",
    "        return res0, tpos, telescopes\n",
    "    \n",
    "    ####################################\n",
    "    print(\"solving the problem for stage=1 targets.\")\n",
    "    #reset forbiddenPairs here again\n",
    "    forbiddenPairs = []\n",
    "    for i in range(nvisit):\n",
    "        forbiddenPairs.append([])\n",
    "    \n",
    "    # get preassigned_list\n",
    "    preassigned_list = [{} for _ in range(nvisit)] #list (dict(TargetID: Cobra index))\n",
    "    for i, vis in enumerate(res0):\n",
    "        for tidx, cidx in vis.items():\n",
    "            preassigned_list[i][tgt[tidx].ID] = cidx\n",
    "          \n",
    "    done = False\n",
    "    while not done:\n",
    "        #note adding stage=1 in nf.buildProblem() does not make too much difference\n",
    "        prob1 = nf.buildProblem(bench, tgt, tpos, classdict, t_obs,\n",
    "                                vis_cost, cobraMoveCost=cobraMoveCost,\n",
    "                                collision_distance=2., elbow_collisions=True,\n",
    "                                gurobi=True, gurobiOptions=gurobiOptions,\n",
    "                                alreadyObserved=alreadyObserved,\n",
    "                                forbiddenPairs=forbiddenPairs,\n",
    "                                blackDotPenalty=blackDotPenalty,\n",
    "                                stage=1, preassigned=preassigned_list)\n",
    "        \n",
    "        \n",
    "        prob1.solve()\n",
    "        Obj1 = prob1._prob.objVal\n",
    "            \n",
    "        # extract solution for stage=1\n",
    "        res = [{} for _ in range(nvisit)]\n",
    "        for k1, v1 in prob1._vardict.items():\n",
    "            if k1.startswith(\"Tv_Cv_\"):\n",
    "                visited = prob1.value(v1) > 0\n",
    "                if visited:\n",
    "                    _, _, tidx, cidx, ivis = k1.split(\"_\")\n",
    "                    res[int(ivis)][int(tidx)] = int(cidx)\n",
    "        \n",
    "\n",
    "        print(\"Checking for trajectory collisions\")\n",
    "        ncoll = 0\n",
    "        for ivis, (vis, tp) in enumerate(zip(res, tpos)):\n",
    "            selectedTargets = np.full(len(bench.cobras.centers), NULL_TARGET_POSITION)\n",
    "            ids = np.full(len(bench.cobras.centers), NULL_TARGET_ID)\n",
    "            for tidx, cidx in vis.items():\n",
    "                selectedTargets[cidx] = tp[tidx]\n",
    "                ids[cidx] = \"\"\n",
    "            for i in range(selectedTargets.size):\n",
    "                if selectedTargets[i] != NULL_TARGET_POSITION:\n",
    "                    dist = np.abs(selectedTargets[i]-bench.cobras.centers[i])\n",
    "                    if dist > bench.cobras.L1[i] + bench.cobras.L2[i]:\n",
    "                        logger.warning(\n",
    "                            f\"(CobraId={i}) Distance from the center exceeds L1+L2 ({dist} mm)\"\n",
    "                        )\n",
    "\n",
    "            if collision_sim_version == 2:\n",
    "                selector = DistanceTargetSelector(bench, TargetGroup(selectedTargets, ids))\n",
    "                selector.run()\n",
    "                selectedTargets = selector.getSelectedTargets()\n",
    "                simulator = CollisionSimulator2(bench, cobracoach, selectedTargets)\n",
    "            else:\n",
    "                simulator = CollisionSimulator(bench, TargetGroup(selectedTargets, ids))\n",
    "            simulator.run()\n",
    "            if np.any(simulator.endPointCollisions):\n",
    "                print(\"ERROR: detected end point collision, which should be impossible\")\n",
    "            coll_tidx = []\n",
    "            for tidx, cidx in vis.items():\n",
    "                if simulator.collisions[cidx]:\n",
    "                    coll_tidx.append(tidx)\n",
    "            ncoll += len(coll_tidx)\n",
    "            for i1 in range(0,len(coll_tidx)):\n",
    "                found = False\n",
    "                for i2 in range(i1+1,len(coll_tidx)):\n",
    "                    if np.abs(tp[coll_tidx[i1]]-tp[coll_tidx[i2]])<10:\n",
    "                        forbiddenPairs[ivis].append((coll_tidx[i1],coll_tidx[i2]))\n",
    "                        found = True\n",
    "                if not found:  # not a collision between two active Cobras\n",
    "                    forbiddenPairs[ivis].append((coll_tidx[i1],))\n",
    "\n",
    "        print(\"trajectory collisions found:\", ncoll)\n",
    "        done = ncoll == 0\n",
    "        \n",
    "    print(\"Done: solving the problem for stage=1 targets.\")\n",
    "    ####################################\n",
    "    \n",
    "    #clear_output()\n",
    "    \n",
    "    if((two_stage == True)):\n",
    "        print(\"objVal0 = %f, objVal1=%f\" % (Obj0, Obj1))   \n",
    "    else:\n",
    "        print(\"objVal0 = %f\" % (Obj0)) \n",
    "    \n",
    "    return res, tpos, telescopes"
   ]
  },
  {
   "cell_type": "markdown",
   "metadata": {},
   "source": [
    "## write pfsDesign file"
   ]
  },
  {
   "cell_type": "code",
   "execution_count": 81,
   "metadata": {},
   "outputs": [],
   "source": [
    "# TODO: this function is not working and can be removed later\n",
    "def write_pfsDesign(fdir_out, fn_out, res, tpos, telescopes, tgt, classdict):\n",
    "    '''write the output of fiber assignment\n",
    "    Parameters\n",
    "    ==========\n",
    "    fdir_out: string\n",
    "        output folder directory\n",
    "    fn_out: string\n",
    "        output file name\n",
    "        \n",
    "    '''\n",
    "    for i, (vis, tp, tel) in enumerate(zip(res, tpos, telescopes)):\n",
    "        io_helpers.writePfsDesign(pfsDesignDirectory=fdir_out, vis=vis, tp=tp, tel=tel, tgt=tgt, classdict=classdict)"
   ]
  },
  {
   "cell_type": "markdown",
   "metadata": {},
   "source": [
    "## plot_filter_fov function"
   ]
  },
  {
   "cell_type": "code",
   "execution_count": 82,
   "metadata": {},
   "outputs": [],
   "source": [
    "\n",
    "# TODO: same function as in pointings.ipynb\n",
    "def plot_filter_fov(raP, decP, raSci, decSci, PA=0, n_sci_fov_least=3000, filter_fov=True):\n",
    "    '''plot one PFS FoV (hexagon) centered at the pointing center\n",
    "    \n",
    "    NOTE\n",
    "    ==========\n",
    "    flag_fov_reserved is obtained by using a threshold of targets in the FoV\n",
    "\n",
    "    Parameters\n",
    "    ==========\n",
    "    raP, decP, PA : float\n",
    "        ra, dec, PA of the pointing center\n",
    "\n",
    "    raSci, decSci: numpy array, float\n",
    "        ra, dec of the scientific targets\n",
    "        only used to check the number of scientific targets in the FoV\n",
    "    \n",
    "    n_sci_fov_least: int\n",
    "        the least number of scientific targets in the FoV\n",
    "\n",
    "    filter_fov: Boolean\n",
    "        if True, plot/select the FoV only when there are enough scientific targets in the FoV\n",
    "\n",
    "        \n",
    "    Returns\n",
    "    =======\n",
    "    plot a hexagon at the pointing center with diameter=1.38 deg\n",
    "    \n",
    "    flag_fov_reserved: Boolean, used to remove the pointing w/o enough scientific targets \n",
    "    '''\n",
    "    \n",
    "    center = SkyCoord(raP*u.deg, decP*u.deg)\n",
    "    # PA=0 along y-axis, PA=90 along x-axis, PA=180 along -y-axis...\n",
    "    hexagon = center.directional_offset_by([0+PA, 60+PA, 120+PA, 180+PA, 240+PA, 300+PA, 360+PA]*u.deg, 1.38/2.*u.deg)\n",
    "    ra_h = hexagon.ra.deg\n",
    "    dec_h = hexagon.dec.deg\n",
    "\n",
    "    ra_h_in = np.where(np.fabs(ra_h-center.ra.deg)>180)\n",
    "    if len(ra_h_in[0])>0:\n",
    "        if ra_h[ra_h_in[0][0]]>180:ra_h[ra_h_in[0]]-=360\n",
    "        elif ra_h[ra_h_in[0][0]]<180:ra_h[ra_h_in[0]]+=360\n",
    "        #pdb.set_trace()\n",
    "\n",
    "    # scientific targets\n",
    "    point = np.vstack((raSci, decSci)).T\n",
    "    \n",
    "    # TODO: revise the polygon.contains_points for the ra near 0 and 360 cases\n",
    "    if filter_fov:\n",
    "        polygon = Path([(ra_h[t],dec_h[t]) for t in range(len(ra_h))])\n",
    "        index_ = np.where(polygon.contains_points(point)==True)[0]\n",
    "\n",
    "        if(len(index_)<n_sci_fov_least):\n",
    "            flag_fov_reserved = False\n",
    "        else:\n",
    "            flag_fov_reserved = True\n",
    "            plt.plot(ra_h, dec_h, color='r', lw=0.5, ls='-', alpha=1., zorder=5)\n",
    "    else:\n",
    "        flag_fov_reserved = True\n",
    "        plt.plot(ra_h, dec_h, color='r', lw=0.5, ls='-', alpha=1., zorder=5)\n",
    "    \n",
    "    return flag_fov_reserved"
   ]
  },
  {
   "cell_type": "markdown",
   "metadata": {},
   "source": [
    "## check_output function"
   ]
  },
  {
   "cell_type": "code",
   "execution_count": 83,
   "metadata": {},
   "outputs": [],
   "source": [
    "# TODO: make this function useful for one/multiple pointings, plot the cosmology, star, sky and ancillary targets using different colors\n",
    "def plot_tgt_done(outfn_list, figname, figsize=(8, 8), plot_diffcolor=True):\n",
    "    '''\n",
    "    plot the targets that have been assigned to the fibers\n",
    "    '''\n",
    "    for i, fn_i in enumerate(outfn_list):\n",
    "        tgt_id_done, tgt_ra_done, tgt_dec_done = np.loadtxt(fn_i, usecols=(0, 4, 5), unpack=True, dtype='str')\n",
    "        tgt_ra_done, tgt_dec_done = tgt_ra_done.astype('float'), tgt_dec_done.astype('float')\n",
    "\n",
    "        mask_cos = [tgt_id_done[i][1:4] == 'Cos' for i in range(len(tgt_id_done))]\n",
    "        mask_star = [tgt_id_done[i][1:4] == 'Sta' for i in range(len(tgt_id_done))]\n",
    "        mask_sky = [tgt_id_done[i][1:4] == 'Sky' for i in range(len(tgt_id_done))]\n",
    "        mask_anc = [tgt_id_done[i][1:4] == 'Anc' for i in range(len(tgt_id_done))]\n",
    "\n",
    "        if(plot_diffcolor):\n",
    "            if(i==0): \n",
    "                plt.figure(figsize = figsize)\n",
    "                plt.plot(tgt_ra_done[mask_cos], tgt_dec_done[mask_cos], 'k.', ms=0.5, alpha=0.5, label='cosmology')\n",
    "                plt.plot(tgt_ra_done[mask_star], tgt_dec_done[mask_star], 'r*', ms=1.5, alpha=1., label='star')\n",
    "                plt.plot(tgt_ra_done[mask_sky], tgt_dec_done[mask_sky], 'b^', ms=1.5, alpha=1., label='sky')\n",
    "                plt.plot(tgt_ra_done[mask_anc], tgt_dec_done[mask_anc], 'gs', ms=1.5, alpha=1., label='ancillary')\n",
    "            else:\n",
    "                plt.plot(tgt_ra_done[mask_cos], tgt_dec_done[mask_cos], 'k.', ms=0.5, alpha=0.5)\n",
    "                plt.plot(tgt_ra_done[mask_star], tgt_dec_done[mask_star], 'r*', ms=1.5, alpha=1.)\n",
    "                plt.plot(tgt_ra_done[mask_sky], tgt_dec_done[mask_sky], 'b^', ms=1.5, alpha=1.)\n",
    "                plt.plot(tgt_ra_done[mask_anc], tgt_dec_done[mask_anc], 'gs', ms=1.5, alpha=1.)\n",
    "        else:\n",
    "            if(i==0): \n",
    "                plt.figure(figsize = figsize)\n",
    "                plt.plot(tgt_ra_done, tgt_dec_done, 'k.', ms=0.5, alpha=0.5, label='targets done')\n",
    "            else:\n",
    "                plt.plot(tgt_ra_done, tgt_dec_done, 'k.', ms=0.5, alpha=0.5)\n",
    "\n",
    "    plt.legend(loc='upper right', fontsize=15, frameon=True)\n",
    "    plt.xlabel('RA', fontsize=15)\n",
    "    plt.ylabel('DEC', fontsize=15)\n",
    "    plt.savefig(figname, dpi=300, bbox_inches='tight')\n",
    "    plt.show()\n",
    "    plt.close()"
   ]
  },
  {
   "cell_type": "markdown",
   "metadata": {},
   "source": [
    "## set bench"
   ]
  },
  {
   "cell_type": "code",
   "execution_count": 90,
   "metadata": {},
   "outputs": [],
   "source": [
    "# TODO: check with project office if the following function is correct\n",
    "# double check calibration_ga using https://github.com/Subaru-PFS/ets_pointing/blob/afa0ff9577f3077ae1fd758bb3ddd426e8d24f4d/src/pfs_design_tool/pointing_utils/nfutils.py#L47\n",
    "import pathlib\n",
    "def create_bench(layout=\"full\"):\n",
    "    '''\n",
    "    set bench using different methods\n",
    "\n",
    "    using CollisionSimulator2 for trajectory collision check when layout is not \"full\"\n",
    "    '''\n",
    "    cobra_coach_dir = \"./cobra_coach_temp/\"\n",
    "    fiberids_path = \"./pfs_utils-w.2024.45/data/fiberids/\"\n",
    "    #pfs_black_dots_path = \"./pfs_instdata-1.8.14/data/pfi/dot/black_dots_mm.csv\"\n",
    "    #pfs_pfi_module_path = pathlib.Path(\"./pfs_instdata-1.8.14/data/pfi/modules/ALL/ALL_final.xml\")\n",
    "    pfs_black_dots_path = \"./pfs_instdata-1.8.2/data/pfi/dot/black_dots_mm.csv\"\n",
    "    pfs_pfi_module_path = pathlib.Path(\"./pfs_instdata-1.8.2/data/pfi/modules/ALL/ALL_final.xml\")\n",
    "\n",
    "\n",
    "    spectrograph_modules = [1, 2, 3, 4]\n",
    "\n",
    "    # Create the cobra coach temp directory if it does not exist\n",
    "    if not os.path.isdir(cobra_coach_dir):\n",
    "        os.makedirs(cobra_coach_dir, exist_ok=True)\n",
    "    print(f\"Created cobra coach temp directory: {cobra_coach_dir}\")\n",
    "\n",
    "    pfs_instdata_path = \"./pfs_instdata-1.8.14/\"\n",
    "    os.environ[\"PFS_INSTDATA_DIR\"] = pfs_instdata_path\n",
    "\n",
    "    if layout == \"full\":\n",
    "        '''\n",
    "        use CollisionSimulator (not CollisionSimulator2) when layout is \"full\"\n",
    "        '''\n",
    "        bench = Bench(layout=\"full\")\n",
    "        cobracoach = None\n",
    "    elif layout == \"calibration_ga\":\n",
    "        '''\n",
    "        use the same code as in GA github repository, i.e.,\n",
    "        _create_configured_bench() https://github.com/Subaru-PFS-GA/ga_targeting/blob/master/python/pfs/ga/targeting/instrument/subarupfi.py\n",
    "        '''\n",
    "        cobracoach = CobraCoach(\"fpga\", loadModel=False, trajectoryMode=True, rootDir=cobra_coach_dir)\n",
    "        cobracoach.loadModel(version=\"ALL\", moduleVersion=None)\n",
    "        calibrationProduct = cobracoach.calibModel\n",
    "\n",
    "        # Set some dummy center positions and phi angles for those cobras that have\n",
    "        # zero centers\n",
    "        zeroCenters = calibrationProduct.centers == 0\n",
    "        calibrationProduct.centers[zeroCenters] = np.arange(np.sum(zeroCenters)) * 300j\n",
    "        calibrationProduct.phiIn[zeroCenters] = -np.pi\n",
    "        calibrationProduct.phiOut[zeroCenters] = 0\n",
    "        print(\"Cobras with zero centers: %i\" % np.sum(zeroCenters))\n",
    "\n",
    "        # Use the median value link lengths in those cobras with zero link lengths\n",
    "        zeroLinkLengths = (calibrationProduct.L1 == 0) | (calibrationProduct.L2 == 0)\n",
    "        calibrationProduct.L1[zeroLinkLengths] = np.median(calibrationProduct.L1[~zeroLinkLengths])\n",
    "        calibrationProduct.L2[zeroLinkLengths] = np.median(calibrationProduct.L2[~zeroLinkLengths])\n",
    "        print(\"Cobras with zero link lengths: %i\" % np.sum(zeroLinkLengths))\n",
    "\n",
    "        # Use the median value link lengths in those cobras with too long link lengths (extra part compared to ga setting)\n",
    "        tooLongLinkLengths = np.logical_or(\n",
    "            calibrationProduct.L1 > 100, calibrationProduct.L2 > 100\n",
    "        )\n",
    "        calibrationProduct.L1[tooLongLinkLengths] = np.median(\n",
    "            calibrationProduct.L1[~tooLongLinkLengths]\n",
    "        )\n",
    "        calibrationProduct.L2[tooLongLinkLengths] = np.median(\n",
    "            calibrationProduct.L2[~tooLongLinkLengths]\n",
    "        )\n",
    "        print(\"Cobras with too long link lengths: %i\" % np.sum(tooLongLinkLengths))\n",
    "\n",
    "        # Limit spectral modules\n",
    "        gfm = FiberIds(path=fiberids_path) \n",
    "        cobra_ids_use = np.array([], dtype=np.uint16)\n",
    "        for sm in spectrograph_modules:\n",
    "            cobra_ids_use = np.append(cobra_ids_use, gfm.cobrasForSpectrograph(sm))\n",
    "\n",
    "        # Set Bad Cobra status for unused spectral modules\n",
    "        for cobra_id in range(calibrationProduct.nCobras):\n",
    "            if cobra_id not in cobra_ids_use:\n",
    "                calibrationProduct.status[cobra_id] = ~PFIDesign.COBRA_OK_MASK\n",
    "            \n",
    "        bench = Bench(\n",
    "                layout=\"calibration\",                       \n",
    "                calibrationProduct=calibrationProduct,\n",
    "                blackDotsCalibrationProduct=BlackDotsCalibrationProduct(pfs_black_dots_path)\n",
    "                )\n",
    "        \n",
    "        print(\"Number of cobras:\", bench.cobras.nCobras)\n",
    "        \n",
    "    elif layout == \"calibration_cobrascalibrationproduct\":\n",
    "        '''\n",
    "        use CobrasCalibrationProduct(\n",
    "            \"./pfs_instdata-1.8.14/data/pfi/modules/ALL/ALL.xml\") \n",
    "        '''\n",
    "        cobracoach = CobraCoach(\"fpga\", loadModel=False, trajectoryMode=True, rootDir=cobra_coach_dir)\n",
    "        cobracoach.loadModel(version=\"ALL\", moduleVersion=None)\n",
    "\n",
    "        bench = Bench(\n",
    "            layout=\"calibration\", \n",
    "            calibrationProduct=CobrasCalibrationProduct(\n",
    "            \"./pfs_instdata-1.8.14/data/pfi/modules/ALL/ALL.xml\"),\n",
    "            blackDotsCalibrationProduct=BlackDotsCalibrationProduct(\n",
    "            \"./pfs_instdata-1.8.14/data/pfi/dot/black_dots_mm.csv\")\n",
    "        )\n",
    "\n",
    "    elif layout == \"calibration_pfi_module\":\n",
    "        '''\n",
    "        use ALL_final.xml \n",
    "        '''\n",
    "        cobracoach = CobraCoach(\"fpga\", loadModel=False, trajectoryMode=True, rootDir=cobra_coach_dir)\n",
    "        cobracoach.loadModel(file=pfs_pfi_module_path)\n",
    "        calibrationProduct = cobracoach.calibModel\n",
    "\n",
    "        '''\n",
    "        # Limit spectral modules\n",
    "        gfm = create_grand_fiber_map(fiberids_path)\n",
    "        cobra_ids_use = np.array([], dtype=np.uint16)\n",
    "        for sm in spectrograph_modules:\n",
    "            cobra_ids_use = np.append(cobra_ids_use, gfm.cobrasForSpectrograph(sm))\n",
    "\n",
    "        # Set Bad Cobra status for unused spectral modules\n",
    "        for cobra_id in range(calibrationProduct.nCobras):\n",
    "            if cobra_id not in cobra_ids_use:\n",
    "                calibrationProduct.status[cobra_id] = ~PFIDesign.COBRA_OK_MASK\n",
    "        '''\n",
    "        bench = Bench(\n",
    "                layout=\"calibration\",                       \n",
    "                calibrationProduct=calibrationProduct,\n",
    "                blackDotsCalibrationProduct=BlackDotsCalibrationProduct(pfs_black_dots_path)\n",
    "                )\n",
    "        \n",
    "\n",
    "    return bench, cobracoach"
   ]
  },
  {
   "cell_type": "markdown",
   "metadata": {},
   "source": [
    "# main function"
   ]
  },
  {
   "cell_type": "markdown",
   "metadata": {},
   "source": [
    "## construct tgt list and read pointing centers"
   ]
  },
  {
   "cell_type": "code",
   "execution_count": 87,
   "metadata": {},
   "outputs": [
    {
     "name": "stdout",
     "output_type": "stream",
     "text": [
      "construct target list:\n",
      "../data_proc/test/cosmology_region3_3h_targets.ecsv\n",
      "../data_proc/test/star_region3_3h_targets.ecsv\n",
      "../data_proc/test/sky_region3_3h_targets.ecsv\n",
      "In total, there are 1656943 targets.\n",
      "Time passed - construct target list: 43.40 secs\n",
      "There are 12 pointings.\n",
      "  Your sample (gray), with the pointings (red):\n"
     ]
    },
    {
     "data": {
      "image/png": "[encoded data removed]",
      "text/plain": [
       "<Figure size 2000x500 with 1 Axes>"
      ]
     },
     "metadata": {},
     "output_type": "display_data"
    },
    {
     "name": "stdout",
     "output_type": "stream",
     "text": [
      "Time passed - read pointings and plot for a small region: 1.58 secs\n"
     ]
    }
   ],
   "source": [
    "# TODO: revise the two-stage code structure\n",
    "two_stage = True\n",
    "outdir = \"../output/test/\"\n",
    "    \n",
    "t0 = time.time()\n",
    "########################\n",
    "#cosmology + sky + star targets\n",
    "fn_list = [\"cosmology_region3_3h_targets.ecsv\", \"star_region3_3h_targets.ecsv\", \"sky_region3_3h_targets.ecsv\"]\n",
    "prefix_list = [\"sci\", \"cal\", \"sky\"]\n",
    "calibration_list = [False, True, True]\n",
    "    \n",
    "tgt_s0, sample_sci = construct_tgt_list(catalog_path = \"../data_proc/test/\", fn_list=fn_list, prefix_list=prefix_list, calibration_list=calibration_list)\n",
    "    \n",
    "'''\n",
    "# TODO: prepare ancillary science targets (smaller size sample)\n",
    "#anxillary science targets\n",
    "fn_list = [\"anc_select.ecsv\", ]\n",
    "prefix_list = [\"anc\", ]\n",
    "calibration_list = [False, ]\n",
    "    \n",
    "tgt_s1, sample_sci_s1 = construct_tgt_list(catalog_path = \"../data_proc/\", fn_list=fn_list, prefix_list=prefix_list, calibration_list=calibration_list)\n",
    "'''\n",
    "\n",
    "#total targets\n",
    "#tgt = tgt_s0 + tgt_s1\n",
    "tgt = tgt_s0\n",
    "    \n",
    "n_sci = sample_sci.shape[0]\n",
    "ra_sci = sample_sci[:, 1].astype('float')\n",
    "dec_sci = sample_sci[:, 2].astype('float')\n",
    "\n",
    "t1 = time.time()\n",
    "print(\"Time passed - construct target list: %.2f secs\" % (t1-t0))\n",
    "\n",
    "#set the range for getting pointing centers\n",
    "ra_min, ra_max, dec_min, dec_max = 330, 345, -1.5, 0.5\n",
    "\n",
    "# read the pointing centers from the file\n",
    "ra_peaks, dec_peaks = read_pointings(\"../output/cosmology_region3_pointings.txt\")\n",
    "\n",
    "# select peaks within the range\n",
    "mask_peaks = (ra_peaks>ra_min) & (ra_peaks<ra_max) & (dec_peaks>dec_min) & (dec_peaks<dec_max)\n",
    "peaks = np.array([ra_peaks[mask_peaks], dec_peaks[mask_peaks]]).T\n",
    "npoint = peaks.shape[0]\n",
    "print(\"There are %d pointings.\" % npoint)\n",
    "    \n",
    "# plot the pointing and samples\n",
    "plt.figure(figsize=(20, 5))\n",
    "print(\"  Your sample (gray), with the pointings (red):\")\n",
    "fov_diag = 1.38/2. # deg, here it's radius\n",
    "mask_sci = (ra_sci>ra_min-fov_diag) & (ra_sci<ra_max+fov_diag) & (dec_sci>dec_min-fov_diag) & (dec_sci<dec_max+fov_diag)\n",
    "plt.plot(ra_sci[mask_sci][::10], dec_sci[mask_sci][::10], 'k.', ms=0.2, alpha=0.5)\n",
    "\n",
    "for raP, decP in zip(peaks[:, 0], peaks[:, 1]):\n",
    "    flag_fov_reserved = plot_filter_fov(raP, decP, ra_sci[mask_sci], dec_sci[mask_sci], PA=0, n_sci_fov_least=4000, filter_fov=True)\n",
    "\n",
    "plt.xlabel('RA', fontsize=20)\n",
    "plt.ylabel('DEC', fontsize=20)\n",
    "plt.savefig(outdir + 'cosmology_region3_test_fov_plot.png')\n",
    "plt.show()\n",
    "plt.close()\n",
    "    \n",
    "t2 = time.time()\n",
    "print(\"Time passed - read pointings and plot for a small region: %.2f secs\" % (t2-t1))"
   ]
  },
  {
   "cell_type": "markdown",
   "metadata": {},
   "source": [
    "## other setting"
   ]
  },
  {
   "cell_type": "code",
   "execution_count": 20,
   "metadata": {},
   "outputs": [],
   "source": [
    "tele_params = {\"otime\":\"2025-08-20T11:00:00Z\", \"posang\":0.}\n",
    "gurobiOptions = dict(seed=0, presolve=1, method=4, degenmoves=0, heuristics=0.8, mipfocus=0, mipgap=5.e-2, LogToConsole=1)\n",
    "\n",
    "\n",
    "########################\n",
    "classdict = def_classdict()\n",
    "\n",
    "########################\n",
    "# one visit -- can be 1st or 2nd visit\n",
    "# TODO: set the alreadyObserved dictionary using the alreadyObserved column in the target list\n",
    "alreadyObserved={}\n",
    "for t in tgt:\n",
    "    alreadyObserved[t.ID] = 0\n",
    "\n",
    "# set the stage of cosmology targets to be 1 (i.e. stage=0 for calibration targets to get a uniform distribution for calibration targets)\n",
    "# TODO: use CobraGroup to get a uniform distribution for calibration targets\n",
    "for t in tgt:\n",
    "    if t.targetclass[:3] == 'sci': t.stage = 1"
   ]
  },
  {
   "cell_type": "markdown",
   "metadata": {},
   "source": [
    "## run_main function"
   ]
  },
  {
   "cell_type": "code",
   "execution_count": 21,
   "metadata": {},
   "outputs": [],
   "source": [
    "#if __name__ == \"__main__\":\n",
    "# main run\n",
    "def run_main(peaks, tgt, classdict, alreadyObserved, two_stage=True, collision_sim_version=2, bench=None, cobracoach=None, gurobiOptions=None, tele_params=None):\n",
    "    '''\n",
    "    test for one pointing\n",
    "    '''\n",
    "    outfn_list = []\n",
    "    for peak in peaks[:1]:\n",
    "        # select the tgt list for the pointing\n",
    "        tgt_ra = [tgt[i].ra for i in range(len(tgt))]\n",
    "        tgt_dec = [tgt[i].dec for i in range(len(tgt))]\n",
    "        # TO-DO: deal with the case when the ra is near 0 and 360\n",
    "        mask_tgt = (tgt_ra>peak[0]-fov_diag) & (tgt_ra<peak[0]+fov_diag) & (tgt_dec>peak[1]-fov_diag) & (tgt_dec<peak[1]+fov_diag)\n",
    "        tgt_peak = np.array(tgt)[mask_tgt].tolist()\n",
    "\n",
    "        # (Done) TODO: update the alreadyObserved dictionary\n",
    "        # TODO: rewrite the write_output and cal_completeness part\n",
    "\n",
    "        # excute the fiber assignment\n",
    "        res, tpos, telescopes = execute(np.array([peak]), tgt_peak, classdict, alreadyObserved, two_stage=two_stage, collision_sim_version=collision_sim_version, bench=bench, cobracoach=cobracoach, gurobiOptions=gurobiOptions, tele_params=tele_params)\n",
    "\n",
    "        outfn = 'cosmology_region3_3h_output_v1_ra%.2f_dec%.2f.txt'%(peak[0], peak[1])\n",
    "        write_output(tgt_peak, res, tpos, telescopes, outdir, outfn)\n",
    "\n",
    "        outfn_list.append(outdir + outfn)\n",
    "        \n",
    "        # calculate the completeness and fiber assignment fraction\n",
    "        comp_out_tmp1 = cal_completeness(tgt_peak, res, tpos, telescopes, Plot=True, fn_fig=outdir+'cosmology_region3_3h_v1_ra%.2f_dec%.2f.jpg'%(peak[0], peak[1]), Save=True, fn_fibeff=outdir+'cosmology_region3_3h_fibeff_v1.txt')\n",
    "        \n",
    "        # output the completeness and fiber assignment fraction\n",
    "        data_dict = {key: [value] for key, value in comp_out_tmp1.items()}\n",
    "        df = pd.DataFrame(data_dict)\n",
    "        df.to_csv(outdir + 'cosmology_region3_3h_v1_ra%.2f_dec%.2f.csv'%(peak[0], peak[1]), index=False)\n",
    "        print(\"comp_out_tmp1 = \", comp_out_tmp1)\n",
    "\n",
    "        # update alreadyObserved\n",
    "        # TODO: revise the code for a more general case\n",
    "        tgt_id_done = np.loadtxt(outdir + outfn, usecols=(0, ), unpack=True, dtype='str')\n",
    "        for t in tgt_id_done:\n",
    "            if(t[:3]=='sci'): alreadyObserved[str(t)] = 1\n",
    "\n",
    "    print(\"%f secs passed after the visits done.\" % (time.time()-t0))\n",
    "\n",
    "    plot_tgt_done(outfn_list, outdir+'tgt_done_region3_3h_v1.jpg', figsize=(6, 5))\n",
    "    plot_tgt_done(outfn_list, outdir+'tgt_done_region3_3h_v1_gray.jpg', figsize=(6, 5), plot_diffcolor=False)"
   ]
  },
  {
   "cell_type": "markdown",
   "metadata": {},
   "source": [
    "# test bench setting"
   ]
  },
  {
   "cell_type": "markdown",
   "metadata": {},
   "source": [
    "+ pfs_instdata tagged 1.8.14 ? This contains the latest xml file. \n",
    "https://github.com/Subaru-PFS/pfs_instdata/releases/tag/1.8.14\n",
    "+ for pfs_utils, could we use the latest tagged version, w.2024.45\n",
    "https://github.com/Subaru-PFS/pfs_utils/releases/tag/w.2024.45"
   ]
  },
  {
   "cell_type": "markdown",
   "metadata": {},
   "source": [
    "## full + CollisionSimulator"
   ]
  },
  {
   "cell_type": "code",
   "execution_count": null,
   "metadata": {},
   "outputs": [
    {
     "name": "stdout",
     "output_type": "stream",
     "text": [
      "Created cobra coach temp directory: ./cobra_coach_temp/\n"
     ]
    },
    {
     "name": "stderr",
     "output_type": "stream",
     "text": [
      "2025-01-14 15:36:17.934Z root             10 CoordTransp.py:306 0.0\n",
      "2025-01-14 15:36:17.938Z root             20 DistortionCoefficients.py:688 2016.0\n",
      "2025-01-14 15:36:17.940Z root             10 DistortionCoefficients.py:690 9.635751768195725 yr\n",
      "2025-01-14 15:36:17.941Z root             10 DistortionCoefficients.py:701 1e-08 mas\n",
      "2025-01-14 15:36:18.087Z root             20 DistortionCoefficients.py:709 Ra Dec = (330.682912 -0.518103) : original\n",
      "2025-01-14 15:36:18.094Z root             20 DistortionCoefficients.py:711 PM = (0.0 mas / yr 0.0 mas / yr)\n",
      "2025-01-14 15:36:18.096Z root             20 DistortionCoefficients.py:713 Ra Dec = (330.68291199999993 -0.518103) : applied proper motion\n",
      "2025-01-14 15:36:18.098Z root             20 DistortionCoefficients.py:715 Ra Dec = (331.01190200999855 -0.3934771952557599) : applied presession\n",
      "2025-01-14 15:36:18.166Z root             20 CoordTransp.py:312 FoV center: Ra,Dec=([330.682912] [-0.518103]) is Az,El,InR=(200.96093011908144 68.47309797706178 19.66297008595464)\n",
      "2025-01-14 15:36:18.796Z root             20 CoordTransp.py:84 Zenith angle for your field should be 21.526902022938216\n",
      "2025-01-14 15:36:18.852Z root             20 CoordTransp.py:163 Correct extra distortion @ tel -- skipped\n",
      "2025-01-14 15:36:18.853Z root             20 CoordTransp.py:164 Before: x= [-193.47126889 -181.86610932 -199.33350527 -193.10942907 -189.03957835\n",
      " -193.87142014 -178.02574974 -189.5729862  -181.36830786 -179.00238031\n",
      " -189.71276752], y=[172.47404102 169.28812764 163.66009436 162.63418929 163.37842981\n",
      " 159.57579164 163.59483829 158.68076736 161.03747143 160.85060881\n",
      " 156.93006185]\n",
      "2025-01-14 15:36:18.865Z root             20 CoordTransp.py:167 correct by -1.0\n",
      "2025-01-14 15:36:18.867Z root             20 CoordTransp.py:170 After: x= [-193.45732608 -181.85489165 -199.32040849 -193.09777317 -189.02848004\n",
      " -193.86029327 -178.01628854 -189.56280602 -181.3589094  -178.99335082\n",
      " -189.70293421], y=[172.45308808 169.27043598 163.63890595 162.61463555 163.35975241\n",
      " 159.55643679 163.57870955 158.66252433 161.02085609 160.83455462\n",
      " 156.91198774]\n",
      "2025-01-14 15:36:18.870Z root             20 CoordTransp.py:173 Telescope to PFI\n"
     ]
    },
    {
     "name": "stdout",
     "output_type": "stream",
     "text": [
      "solving the problem for stage=0 targets.\n",
      "Set parameter Presolve to value 1\n"
     ]
    },
    {
     "name": "stderr",
     "output_type": "stream",
     "text": [
      "2025-01-14 15:36:18.882Z gurobipy         20 netflow.py:117 Set parameter Presolve to value 1\n"
     ]
    },
    {
     "name": "stdout",
     "output_type": "stream",
     "text": [
      "Set parameter Method to value 4\n"
     ]
    },
    {
     "name": "stderr",
     "output_type": "stream",
     "text": [
      "2025-01-14 15:36:18.886Z gurobipy         20 netflow.py:117 Set parameter Method to value 4\n"
     ]
    },
    {
     "name": "stdout",
     "output_type": "stream",
     "text": [
      "Set parameter DegenMoves to value 0\n"
     ]
    },
    {
     "name": "stderr",
     "output_type": "stream",
     "text": [
      "2025-01-14 15:36:18.891Z gurobipy         20 netflow.py:117 Set parameter DegenMoves to value 0\n"
     ]
    },
    {
     "name": "stdout",
     "output_type": "stream",
     "text": [
      "Set parameter Heuristics to value 0.8\n"
     ]
    },
    {
     "name": "stderr",
     "output_type": "stream",
     "text": [
      "2025-01-14 15:36:18.895Z gurobipy         20 netflow.py:117 Set parameter Heuristics to value 0.8\n"
     ]
    },
    {
     "name": "stdout",
     "output_type": "stream",
     "text": [
      "Set parameter MIPGap to value 0.05\n"
     ]
    },
    {
     "name": "stderr",
     "output_type": "stream",
     "text": [
      "2025-01-14 15:36:18.898Z gurobipy         20 netflow.py:117 Set parameter MIPGap to value 0.05\n"
     ]
    },
    {
     "name": "stdout",
     "output_type": "stream",
     "text": [
      "Creating network topology\n",
      "  exposure 1\n",
      "Calculating visibilities\n",
      "adding constraints\n",
      "adding collision constraints\n",
      "adding forbidden pair constraints\n",
      "Gurobi Optimizer version 10.0.1 build v10.0.1rc0 (mac64[x86])\n"
     ]
    },
    {
     "name": "stderr",
     "output_type": "stream",
     "text": [
      "2025-01-14 15:36:30.199Z gurobipy         20 netflow.py:149 Gurobi Optimizer version 10.0.1 build v10.0.1rc0 (mac64[x86])\n"
     ]
    },
    {
     "name": "stdout",
     "output_type": "stream",
     "text": [
      "\n"
     ]
    },
    {
     "name": "stderr",
     "output_type": "stream",
     "text": [
      "2025-01-14 15:36:30.201Z gurobipy         20 netflow.py:149 \n"
     ]
    },
    {
     "name": "stdout",
     "output_type": "stream",
     "text": [
      "CPU model: Intel(R) Core(TM) i7-8569U CPU @ 2.80GHz\n"
     ]
    },
    {
     "name": "stderr",
     "output_type": "stream",
     "text": [
      "2025-01-14 15:36:30.203Z gurobipy         20 netflow.py:149 CPU model: Intel(R) Core(TM) i7-8569U CPU @ 2.80GHz\n"
     ]
    },
    {
     "name": "stdout",
     "output_type": "stream",
     "text": [
      "Thread count: 4 physical cores, 8 logical processors, using up to 8 threads\n"
     ]
    },
    {
     "name": "stderr",
     "output_type": "stream",
     "text": [
      "2025-01-14 15:36:30.206Z gurobipy         20 netflow.py:149 Thread count: 4 physical cores, 8 logical processors, using up to 8 threads\n"
     ]
    },
    {
     "name": "stdout",
     "output_type": "stream",
     "text": [
      "\n"
     ]
    },
    {
     "name": "stderr",
     "output_type": "stream",
     "text": [
      "2025-01-14 15:36:30.209Z gurobipy         20 netflow.py:149 \n"
     ]
    },
    {
     "name": "stdout",
     "output_type": "stream",
     "text": [
      "Academic license 2379863 - for non-commercial use only - registered to ji___@ipmu.jp\n"
     ]
    },
    {
     "name": "stderr",
     "output_type": "stream",
     "text": [
      "2025-01-14 15:36:30.213Z gurobipy         20 netflow.py:149 Academic license 2379863 - for non-commercial use only - registered to ji___@ipmu.jp\n"
     ]
    },
    {
     "name": "stdout",
     "output_type": "stream",
     "text": [
      "Optimize a model with 128779 rows, 67219 columns and 333232 nonzeros\n"
     ]
    },
    {
     "name": "stderr",
     "output_type": "stream",
     "text": [
      "2025-01-14 15:36:30.215Z gurobipy         20 netflow.py:149 Optimize a model with 128779 rows, 67219 columns and 333232 nonzeros\n"
     ]
    },
    {
     "name": "stdout",
     "output_type": "stream",
     "text": [
      "Model fingerprint: 0xe3cc4600\n"
     ]
    },
    {
     "name": "stderr",
     "output_type": "stream",
     "text": [
      "2025-01-14 15:36:30.220Z gurobipy         20 netflow.py:149 Model fingerprint: 0xe3cc4600\n"
     ]
    },
    {
     "name": "stdout",
     "output_type": "stream",
     "text": [
      "Variable types: 1 continuous, 67218 integer (67216 binary)\n"
     ]
    },
    {
     "name": "stderr",
     "output_type": "stream",
     "text": [
      "2025-01-14 15:36:30.223Z gurobipy         20 netflow.py:149 Variable types: 1 continuous, 67218 integer (67216 binary)\n"
     ]
    },
    {
     "name": "stdout",
     "output_type": "stream",
     "text": [
      "Coefficient statistics:\n"
     ]
    },
    {
     "name": "stderr",
     "output_type": "stream",
     "text": [
      "2025-01-14 15:36:30.227Z gurobipy         20 netflow.py:149 Coefficient statistics:\n"
     ]
    },
    {
     "name": "stdout",
     "output_type": "stream",
     "text": [
      "  Matrix range     [1e+00, 1e+00]\n"
     ]
    },
    {
     "name": "stderr",
     "output_type": "stream",
     "text": [
      "2025-01-14 15:36:30.229Z gurobipy         20 netflow.py:149   Matrix range     [1e+00, 1e+00]\n"
     ]
    },
    {
     "name": "stdout",
     "output_type": "stream",
     "text": [
      "  Objective range  [2e-03, 1e+06]\n"
     ]
    },
    {
     "name": "stderr",
     "output_type": "stream",
     "text": [
      "2025-01-14 15:36:30.231Z gurobipy         20 netflow.py:149   Objective range  [2e-03, 1e+06]\n"
     ]
    },
    {
     "name": "stdout",
     "output_type": "stream",
     "text": [
      "  Bounds range     [1e+00, 1e+00]\n"
     ]
    },
    {
     "name": "stderr",
     "output_type": "stream",
     "text": [
      "2025-01-14 15:36:30.233Z gurobipy         20 netflow.py:149   Bounds range     [1e+00, 1e+00]\n"
     ]
    },
    {
     "name": "stdout",
     "output_type": "stream",
     "text": [
      "  RHS range        [1e+00, 4e+02]\n"
     ]
    },
    {
     "name": "stderr",
     "output_type": "stream",
     "text": [
      "2025-01-14 15:36:30.236Z gurobipy         20 netflow.py:149   RHS range        [1e+00, 4e+02]\n"
     ]
    },
    {
     "name": "stdout",
     "output_type": "stream",
     "text": [
      "Found heuristic solution: objective 6.000000e+08\n"
     ]
    },
    {
     "name": "stderr",
     "output_type": "stream",
     "text": [
      "2025-01-14 15:36:30.252Z gurobipy         20 netflow.py:149 Found heuristic solution: objective 6.000000e+08\n"
     ]
    },
    {
     "name": "stdout",
     "output_type": "stream",
     "text": [
      "Presolve removed 128273 rows and 64481 columns\n"
     ]
    },
    {
     "name": "stderr",
     "output_type": "stream",
     "text": [
      "2025-01-14 15:36:30.817Z gurobipy         20 netflow.py:149 Presolve removed 128273 rows and 64481 columns\n"
     ]
    },
    {
     "name": "stdout",
     "output_type": "stream",
     "text": [
      "Presolve time: 0.55s\n"
     ]
    },
    {
     "name": "stderr",
     "output_type": "stream",
     "text": [
      "2025-01-14 15:36:30.818Z gurobipy         20 netflow.py:149 Presolve time: 0.55s\n"
     ]
    },
    {
     "name": "stdout",
     "output_type": "stream",
     "text": [
      "Presolved: 506 rows, 2738 columns, 3776 nonzeros\n"
     ]
    },
    {
     "name": "stderr",
     "output_type": "stream",
     "text": [
      "2025-01-14 15:36:30.826Z gurobipy         20 netflow.py:149 Presolved: 506 rows, 2738 columns, 3776 nonzeros\n"
     ]
    },
    {
     "name": "stdout",
     "output_type": "stream",
     "text": [
      "Variable types: 0 continuous, 2738 integer (2736 binary)\n"
     ]
    },
    {
     "name": "stderr",
     "output_type": "stream",
     "text": [
      "2025-01-14 15:36:30.832Z gurobipy         20 netflow.py:149 Variable types: 0 continuous, 2738 integer (2736 binary)\n"
     ]
    },
    {
     "name": "stdout",
     "output_type": "stream",
     "text": [
      "Found heuristic solution: objective 5.980000e+08\n"
     ]
    },
    {
     "name": "stderr",
     "output_type": "stream",
     "text": [
      "2025-01-14 15:36:30.835Z gurobipy         20 netflow.py:149 Found heuristic solution: objective 5.980000e+08\n"
     ]
    },
    {
     "name": "stdout",
     "output_type": "stream",
     "text": [
      "Deterministic concurrent LP optimizer: dual simplex and barrier\n"
     ]
    },
    {
     "name": "stderr",
     "output_type": "stream",
     "text": [
      "2025-01-14 15:36:30.839Z gurobipy         20 netflow.py:149 Deterministic concurrent LP optimizer: dual simplex and barrier\n"
     ]
    },
    {
     "name": "stdout",
     "output_type": "stream",
     "text": [
      "Showing barrier log only...\n"
     ]
    },
    {
     "name": "stderr",
     "output_type": "stream",
     "text": [
      "2025-01-14 15:36:30.841Z gurobipy         20 netflow.py:149 Showing barrier log only...\n"
     ]
    },
    {
     "name": "stdout",
     "output_type": "stream",
     "text": [
      "\n"
     ]
    },
    {
     "name": "stderr",
     "output_type": "stream",
     "text": [
      "2025-01-14 15:36:30.843Z gurobipy         20 netflow.py:149 \n"
     ]
    },
    {
     "name": "stdout",
     "output_type": "stream",
     "text": [
      "Root barrier log...\n"
     ]
    },
    {
     "name": "stderr",
     "output_type": "stream",
     "text": [
      "2025-01-14 15:36:30.848Z gurobipy         20 netflow.py:149 Root barrier log...\n"
     ]
    },
    {
     "name": "stdout",
     "output_type": "stream",
     "text": [
      "\n"
     ]
    },
    {
     "name": "stderr",
     "output_type": "stream",
     "text": [
      "2025-01-14 15:36:30.849Z gurobipy         20 netflow.py:149 \n"
     ]
    },
    {
     "name": "stdout",
     "output_type": "stream",
     "text": [
      "Ordering time: 0.00s\n"
     ]
    },
    {
     "name": "stderr",
     "output_type": "stream",
     "text": [
      "2025-01-14 15:36:30.851Z gurobipy         20 netflow.py:149 Ordering time: 0.00s\n"
     ]
    },
    {
     "name": "stdout",
     "output_type": "stream",
     "text": [
      "\n"
     ]
    },
    {
     "name": "stderr",
     "output_type": "stream",
     "text": [
      "2025-01-14 15:36:30.853Z gurobipy         20 netflow.py:149 \n"
     ]
    },
    {
     "name": "stdout",
     "output_type": "stream",
     "text": [
      "Barrier statistics:\n"
     ]
    },
    {
     "name": "stderr",
     "output_type": "stream",
     "text": [
      "2025-01-14 15:36:30.933Z gurobipy         20 netflow.py:149 Barrier statistics:\n"
     ]
    },
    {
     "name": "stdout",
     "output_type": "stream",
     "text": [
      " AA' NZ     : 1.102e+03\n"
     ]
    },
    {
     "name": "stderr",
     "output_type": "stream",
     "text": [
      "2025-01-14 15:36:30.954Z gurobipy         20 netflow.py:149  AA' NZ     : 1.102e+03\n"
     ]
    },
    {
     "name": "stdout",
     "output_type": "stream",
     "text": [
      " Factor NZ  : 2.264e+03 (roughly 1 MB of memory)\n"
     ]
    },
    {
     "name": "stderr",
     "output_type": "stream",
     "text": [
      "2025-01-14 15:36:30.961Z gurobipy         20 netflow.py:149  Factor NZ  : 2.264e+03 (roughly 1 MB of memory)\n"
     ]
    },
    {
     "name": "stdout",
     "output_type": "stream",
     "text": [
      " Factor Ops : 1.833e+04 (less than 1 second per iteration)\n"
     ]
    },
    {
     "name": "stderr",
     "output_type": "stream",
     "text": [
      "2025-01-14 15:36:30.968Z gurobipy         20 netflow.py:149  Factor Ops : 1.833e+04 (less than 1 second per iteration)\n"
     ]
    },
    {
     "name": "stdout",
     "output_type": "stream",
     "text": [
      " Threads    : 1\n"
     ]
    },
    {
     "name": "stderr",
     "output_type": "stream",
     "text": [
      "2025-01-14 15:36:30.973Z gurobipy         20 netflow.py:149  Threads    : 1\n"
     ]
    },
    {
     "name": "stdout",
     "output_type": "stream",
     "text": [
      "\n"
     ]
    },
    {
     "name": "stderr",
     "output_type": "stream",
     "text": [
      "2025-01-14 15:36:30.978Z gurobipy         20 netflow.py:149 \n"
     ]
    },
    {
     "name": "stdout",
     "output_type": "stream",
     "text": [
      "                  Objective                Residual\n"
     ]
    },
    {
     "name": "stderr",
     "output_type": "stream",
     "text": [
      "2025-01-14 15:36:30.981Z gurobipy         20 netflow.py:149                   Objective                Residual\n"
     ]
    },
    {
     "name": "stdout",
     "output_type": "stream",
     "text": [
      "Iter       Primal          Dual         Primal    Dual     Compl     Time\n"
     ]
    },
    {
     "name": "stderr",
     "output_type": "stream",
     "text": [
      "2025-01-14 15:36:30.985Z gurobipy         20 netflow.py:149 Iter       Primal          Dual         Primal    Dual     Compl     Time\n"
     ]
    },
    {
     "name": "stdout",
     "output_type": "stream",
     "text": [
      "   0   3.69803397e+08 -2.63445107e+09  1.79e+01 2.70e+04  3.43e+07     1s\n"
     ]
    },
    {
     "name": "stderr",
     "output_type": "stream",
     "text": [
      "2025-01-14 15:36:30.988Z gurobipy         20 netflow.py:149    0   3.69803397e+08 -2.63445107e+09  1.79e+01 2.70e+04  3.43e+07     1s\n"
     ]
    },
    {
     "name": "stdout",
     "output_type": "stream",
     "text": [
      "\n"
     ]
    },
    {
     "name": "stderr",
     "output_type": "stream",
     "text": [
      "2025-01-14 15:36:30.991Z gurobipy         20 netflow.py:149 \n"
     ]
    },
    {
     "name": "stdout",
     "output_type": "stream",
     "text": [
      "Barrier performed 0 iterations in 0.78 seconds (0.31 work units)\n"
     ]
    },
    {
     "name": "stderr",
     "output_type": "stream",
     "text": [
      "2025-01-14 15:36:30.992Z gurobipy         20 netflow.py:149 Barrier performed 0 iterations in 0.78 seconds (0.31 work units)\n"
     ]
    },
    {
     "name": "stdout",
     "output_type": "stream",
     "text": [
      "Barrier solve interrupted - model solved by another algorithm\n"
     ]
    },
    {
     "name": "stderr",
     "output_type": "stream",
     "text": [
      "2025-01-14 15:36:30.996Z gurobipy         20 netflow.py:149 Barrier solve interrupted - model solved by another algorithm\n"
     ]
    },
    {
     "name": "stdout",
     "output_type": "stream",
     "text": [
      "\n"
     ]
    },
    {
     "name": "stderr",
     "output_type": "stream",
     "text": [
      "2025-01-14 15:36:30.999Z gurobipy         20 netflow.py:149 \n"
     ]
    },
    {
     "name": "stdout",
     "output_type": "stream",
     "text": [
      "Concurrent spin time: 0.15s (can be avoided by choosing Method=3)\n"
     ]
    },
    {
     "name": "stderr",
     "output_type": "stream",
     "text": [
      "2025-01-14 15:36:31.003Z gurobipy         20 netflow.py:149 Concurrent spin time: 0.15s (can be avoided by choosing Method=3)\n"
     ]
    },
    {
     "name": "stdout",
     "output_type": "stream",
     "text": [
      "\n"
     ]
    },
    {
     "name": "stderr",
     "output_type": "stream",
     "text": [
      "2025-01-14 15:36:31.006Z gurobipy         20 netflow.py:149 \n"
     ]
    },
    {
     "name": "stdout",
     "output_type": "stream",
     "text": [
      "Solved with dual simplex\n"
     ]
    },
    {
     "name": "stderr",
     "output_type": "stream",
     "text": [
      "2025-01-14 15:36:31.010Z gurobipy         20 netflow.py:149 Solved with dual simplex\n"
     ]
    },
    {
     "name": "stdout",
     "output_type": "stream",
     "text": [
      "\n"
     ]
    },
    {
     "name": "stderr",
     "output_type": "stream",
     "text": [
      "2025-01-14 15:36:31.016Z gurobipy         20 netflow.py:149 \n"
     ]
    },
    {
     "name": "stdout",
     "output_type": "stream",
     "text": [
      "Root relaxation: objective 1.021795e+01, 40 iterations, 0.18 seconds (0.00 work units)\n"
     ]
    },
    {
     "name": "stderr",
     "output_type": "stream",
     "text": [
      "2025-01-14 15:36:31.020Z gurobipy         20 netflow.py:149 Root relaxation: objective 1.021795e+01, 40 iterations, 0.18 seconds (0.00 work units)\n"
     ]
    },
    {
     "name": "stdout",
     "output_type": "stream",
     "text": [
      "\n"
     ]
    },
    {
     "name": "stderr",
     "output_type": "stream",
     "text": [
      "2025-01-14 15:36:31.036Z gurobipy         20 netflow.py:149 \n"
     ]
    },
    {
     "name": "stdout",
     "output_type": "stream",
     "text": [
      "    Nodes    |    Current Node    |     Objective Bounds      |     Work\n"
     ]
    },
    {
     "name": "stderr",
     "output_type": "stream",
     "text": [
      "2025-01-14 15:36:31.038Z gurobipy         20 netflow.py:149     Nodes    |    Current Node    |     Objective Bounds      |     Work\n"
     ]
    },
    {
     "name": "stdout",
     "output_type": "stream",
     "text": [
      " Expl Unexpl |  Obj  Depth IntInf | Incumbent    BestBd   Gap | It/Node Time\n"
     ]
    },
    {
     "name": "stderr",
     "output_type": "stream",
     "text": [
      "2025-01-14 15:36:31.042Z gurobipy         20 netflow.py:149  Expl Unexpl |  Obj  Depth IntInf | Incumbent    BestBd   Gap | It/Node Time\n"
     ]
    },
    {
     "name": "stdout",
     "output_type": "stream",
     "text": [
      "\n"
     ]
    },
    {
     "name": "stderr",
     "output_type": "stream",
     "text": [
      "2025-01-14 15:36:31.044Z gurobipy         20 netflow.py:149 \n"
     ]
    },
    {
     "name": "stdout",
     "output_type": "stream",
     "text": [
      "*    0     0               0      10.2179484   10.21795  0.00%     -    0s\n"
     ]
    },
    {
     "name": "stderr",
     "output_type": "stream",
     "text": [
      "2025-01-14 15:36:31.046Z gurobipy         20 netflow.py:149 *    0     0               0      10.2179484   10.21795  0.00%     -    0s\n"
     ]
    },
    {
     "name": "stdout",
     "output_type": "stream",
     "text": [
      "\n"
     ]
    },
    {
     "name": "stderr",
     "output_type": "stream",
     "text": [
      "2025-01-14 15:36:31.060Z gurobipy         20 netflow.py:149 \n"
     ]
    },
    {
     "name": "stdout",
     "output_type": "stream",
     "text": [
      "Explored 1 nodes (40 simplex iterations) in 0.85 seconds (0.31 work units)\n"
     ]
    },
    {
     "name": "stderr",
     "output_type": "stream",
     "text": [
      "2025-01-14 15:36:31.071Z gurobipy         20 netflow.py:149 Explored 1 nodes (40 simplex iterations) in 0.85 seconds (0.31 work units)\n"
     ]
    },
    {
     "name": "stdout",
     "output_type": "stream",
     "text": [
      "Thread count was 8 (of 8 available processors)\n"
     ]
    },
    {
     "name": "stderr",
     "output_type": "stream",
     "text": [
      "2025-01-14 15:36:31.079Z gurobipy         20 netflow.py:149 Thread count was 8 (of 8 available processors)\n"
     ]
    },
    {
     "name": "stdout",
     "output_type": "stream",
     "text": [
      "\n"
     ]
    },
    {
     "name": "stderr",
     "output_type": "stream",
     "text": [
      "2025-01-14 15:36:31.086Z gurobipy         20 netflow.py:149 \n"
     ]
    },
    {
     "name": "stdout",
     "output_type": "stream",
     "text": [
      "Solution count 3: 10.2179 5.98e+08 6e+08 \n"
     ]
    },
    {
     "name": "stderr",
     "output_type": "stream",
     "text": [
      "2025-01-14 15:36:31.089Z gurobipy         20 netflow.py:149 Solution count 3: 10.2179 5.98e+08 6e+08 \n"
     ]
    },
    {
     "name": "stdout",
     "output_type": "stream",
     "text": [
      "\n"
     ]
    },
    {
     "name": "stderr",
     "output_type": "stream",
     "text": [
      "2025-01-14 15:36:31.094Z gurobipy         20 netflow.py:149 \n"
     ]
    },
    {
     "name": "stdout",
     "output_type": "stream",
     "text": [
      "Optimal solution found (tolerance 5.00e-02)\n"
     ]
    },
    {
     "name": "stderr",
     "output_type": "stream",
     "text": [
      "2025-01-14 15:36:31.097Z gurobipy         20 netflow.py:149 Optimal solution found (tolerance 5.00e-02)\n"
     ]
    },
    {
     "name": "stdout",
     "output_type": "stream",
     "text": [
      "Best objective 1.021794843883e+01, best bound 1.021794843883e+01, gap 0.0000%\n"
     ]
    },
    {
     "name": "stderr",
     "output_type": "stream",
     "text": [
      "2025-01-14 15:36:31.103Z gurobipy         20 netflow.py:149 Best objective 1.021794843883e+01, best bound 1.021794843883e+01, gap 0.0000%\n"
     ]
    },
    {
     "name": "stdout",
     "output_type": "stream",
     "text": [
      "Checking for trajectory collisions\n",
      "trajectory collisions found: 0\n",
      "Done: solving the problem for stage=0 targets.\n",
      "solving the problem for stage=1 targets.\n",
      "Set parameter Presolve to value 1\n"
     ]
    },
    {
     "name": "stderr",
     "output_type": "stream",
     "text": [
      "2025-01-14 15:36:32.419Z gurobipy         20 netflow.py:117 Set parameter Presolve to value 1\n"
     ]
    },
    {
     "name": "stdout",
     "output_type": "stream",
     "text": [
      "Set parameter Method to value 4\n"
     ]
    },
    {
     "name": "stderr",
     "output_type": "stream",
     "text": [
      "2025-01-14 15:36:32.421Z gurobipy         20 netflow.py:117 Set parameter Method to value 4\n"
     ]
    },
    {
     "name": "stdout",
     "output_type": "stream",
     "text": [
      "Set parameter DegenMoves to value 0\n"
     ]
    },
    {
     "name": "stderr",
     "output_type": "stream",
     "text": [
      "2025-01-14 15:36:32.424Z gurobipy         20 netflow.py:117 Set parameter DegenMoves to value 0\n"
     ]
    },
    {
     "name": "stdout",
     "output_type": "stream",
     "text": [
      "Set parameter Heuristics to value 0.8\n"
     ]
    },
    {
     "name": "stderr",
     "output_type": "stream",
     "text": [
      "2025-01-14 15:36:32.427Z gurobipy         20 netflow.py:117 Set parameter Heuristics to value 0.8\n"
     ]
    },
    {
     "name": "stdout",
     "output_type": "stream",
     "text": [
      "Set parameter MIPGap to value 0.05\n"
     ]
    },
    {
     "name": "stderr",
     "output_type": "stream",
     "text": [
      "2025-01-14 15:36:32.429Z gurobipy         20 netflow.py:117 Set parameter MIPGap to value 0.05\n"
     ]
    },
    {
     "name": "stdout",
     "output_type": "stream",
     "text": [
      "Creating network topology\n",
      "  exposure 1\n",
      "Calculating visibilities\n",
      "adding constraints\n",
      "adding collision constraints\n",
      "adding forbidden pair constraints\n",
      "Gurobi Optimizer version 10.0.1 build v10.0.1rc0 (mac64[x86])\n"
     ]
    },
    {
     "name": "stderr",
     "output_type": "stream",
     "text": [
      "2025-01-14 15:36:37.753Z gurobipy         20 netflow.py:149 Gurobi Optimizer version 10.0.1 build v10.0.1rc0 (mac64[x86])\n"
     ]
    },
    {
     "name": "stdout",
     "output_type": "stream",
     "text": [
      "\n"
     ]
    },
    {
     "name": "stderr",
     "output_type": "stream",
     "text": [
      "2025-01-14 15:36:37.755Z gurobipy         20 netflow.py:149 \n"
     ]
    },
    {
     "name": "stdout",
     "output_type": "stream",
     "text": [
      "CPU model: Intel(R) Core(TM) i7-8569U CPU @ 2.80GHz\n"
     ]
    },
    {
     "name": "stderr",
     "output_type": "stream",
     "text": [
      "2025-01-14 15:36:37.861Z gurobipy         20 netflow.py:149 CPU model: Intel(R) Core(TM) i7-8569U CPU @ 2.80GHz\n"
     ]
    },
    {
     "name": "stdout",
     "output_type": "stream",
     "text": [
      "Thread count: 4 physical cores, 8 logical processors, using up to 8 threads\n"
     ]
    },
    {
     "name": "stderr",
     "output_type": "stream",
     "text": [
      "2025-01-14 15:36:37.865Z gurobipy         20 netflow.py:149 Thread count: 4 physical cores, 8 logical processors, using up to 8 threads\n"
     ]
    },
    {
     "name": "stdout",
     "output_type": "stream",
     "text": [
      "\n"
     ]
    },
    {
     "name": "stderr",
     "output_type": "stream",
     "text": [
      "2025-01-14 15:36:37.869Z gurobipy         20 netflow.py:149 \n"
     ]
    },
    {
     "name": "stdout",
     "output_type": "stream",
     "text": [
      "Academic license 2379863 - for non-commercial use only - registered to ji___@ipmu.jp\n"
     ]
    },
    {
     "name": "stderr",
     "output_type": "stream",
     "text": [
      "2025-01-14 15:36:37.873Z gurobipy         20 netflow.py:149 Academic license 2379863 - for non-commercial use only - registered to ji___@ipmu.jp\n"
     ]
    },
    {
     "name": "stdout",
     "output_type": "stream",
     "text": [
      "Optimize a model with 62887 rows, 62937 columns and 175202 nonzeros\n"
     ]
    },
    {
     "name": "stderr",
     "output_type": "stream",
     "text": [
      "2025-01-14 15:36:37.876Z gurobipy         20 netflow.py:149 Optimize a model with 62887 rows, 62937 columns and 175202 nonzeros\n"
     ]
    },
    {
     "name": "stdout",
     "output_type": "stream",
     "text": [
      "Model fingerprint: 0x54f9eae4\n"
     ]
    },
    {
     "name": "stderr",
     "output_type": "stream",
     "text": [
      "2025-01-14 15:36:37.881Z gurobipy         20 netflow.py:149 Model fingerprint: 0x54f9eae4\n"
     ]
    },
    {
     "name": "stdout",
     "output_type": "stream",
     "text": [
      "Variable types: 1 continuous, 62936 integer (48583 binary)\n"
     ]
    },
    {
     "name": "stderr",
     "output_type": "stream",
     "text": [
      "2025-01-14 15:36:37.885Z gurobipy         20 netflow.py:149 Variable types: 1 continuous, 62936 integer (48583 binary)\n"
     ]
    },
    {
     "name": "stdout",
     "output_type": "stream",
     "text": [
      "Coefficient statistics:\n"
     ]
    },
    {
     "name": "stderr",
     "output_type": "stream",
     "text": [
      "2025-01-14 15:36:37.890Z gurobipy         20 netflow.py:149 Coefficient statistics:\n"
     ]
    },
    {
     "name": "stdout",
     "output_type": "stream",
     "text": [
      "  Matrix range     [1e+00, 1e+00]\n"
     ]
    },
    {
     "name": "stderr",
     "output_type": "stream",
     "text": [
      "2025-01-14 15:36:37.893Z gurobipy         20 netflow.py:149   Matrix range     [1e+00, 1e+00]\n"
     ]
    },
    {
     "name": "stdout",
     "output_type": "stream",
     "text": [
      "  Objective range  [2e-03, 1e+06]\n"
     ]
    },
    {
     "name": "stderr",
     "output_type": "stream",
     "text": [
      "2025-01-14 15:36:37.896Z gurobipy         20 netflow.py:149   Objective range  [2e-03, 1e+06]\n"
     ]
    },
    {
     "name": "stdout",
     "output_type": "stream",
     "text": [
      "  Bounds range     [1e+00, 1e+00]\n"
     ]
    },
    {
     "name": "stderr",
     "output_type": "stream",
     "text": [
      "2025-01-14 15:36:37.898Z gurobipy         20 netflow.py:149   Bounds range     [1e+00, 1e+00]\n"
     ]
    },
    {
     "name": "stdout",
     "output_type": "stream",
     "text": [
      "  RHS range        [1e+00, 1e+04]\n"
     ]
    },
    {
     "name": "stderr",
     "output_type": "stream",
     "text": [
      "2025-01-14 15:36:37.902Z gurobipy         20 netflow.py:149   RHS range        [1e+00, 1e+04]\n"
     ]
    },
    {
     "name": "stdout",
     "output_type": "stream",
     "text": [
      "Found heuristic solution: objective 2870010.2179\n"
     ]
    },
    {
     "name": "stderr",
     "output_type": "stream",
     "text": [
      "2025-01-14 15:36:37.926Z gurobipy         20 netflow.py:149 Found heuristic solution: objective 2870010.2179\n"
     ]
    },
    {
     "name": "stdout",
     "output_type": "stream",
     "text": [
      "Presolve removed 62887 rows and 62937 columns\n"
     ]
    },
    {
     "name": "stderr",
     "output_type": "stream",
     "text": [
      "2025-01-14 15:36:38.073Z gurobipy         20 netflow.py:149 Presolve removed 62887 rows and 62937 columns\n"
     ]
    },
    {
     "name": "stdout",
     "output_type": "stream",
     "text": [
      "Presolve time: 0.14s\n"
     ]
    },
    {
     "name": "stderr",
     "output_type": "stream",
     "text": [
      "2025-01-14 15:36:38.075Z gurobipy         20 netflow.py:149 Presolve time: 0.14s\n"
     ]
    },
    {
     "name": "stdout",
     "output_type": "stream",
     "text": [
      "Presolve: All rows and columns removed\n"
     ]
    },
    {
     "name": "stderr",
     "output_type": "stream",
     "text": [
      "2025-01-14 15:36:38.079Z gurobipy         20 netflow.py:149 Presolve: All rows and columns removed\n"
     ]
    },
    {
     "name": "stdout",
     "output_type": "stream",
     "text": [
      "\n"
     ]
    },
    {
     "name": "stderr",
     "output_type": "stream",
     "text": [
      "2025-01-14 15:36:38.087Z gurobipy         20 netflow.py:149 \n"
     ]
    },
    {
     "name": "stdout",
     "output_type": "stream",
     "text": [
      "Explored 0 nodes (0 simplex iterations) in 0.22 seconds (0.08 work units)\n"
     ]
    },
    {
     "name": "stderr",
     "output_type": "stream",
     "text": [
      "2025-01-14 15:36:38.089Z gurobipy         20 netflow.py:149 Explored 0 nodes (0 simplex iterations) in 0.22 seconds (0.08 work units)\n"
     ]
    },
    {
     "name": "stdout",
     "output_type": "stream",
     "text": [
      "Thread count was 1 (of 8 available processors)\n"
     ]
    },
    {
     "name": "stderr",
     "output_type": "stream",
     "text": [
      "2025-01-14 15:36:38.092Z gurobipy         20 netflow.py:149 Thread count was 1 (of 8 available processors)\n"
     ]
    },
    {
     "name": "stdout",
     "output_type": "stream",
     "text": [
      "\n"
     ]
    },
    {
     "name": "stderr",
     "output_type": "stream",
     "text": [
      "2025-01-14 15:36:38.095Z gurobipy         20 netflow.py:149 \n"
     ]
    },
    {
     "name": "stdout",
     "output_type": "stream",
     "text": [
      "Solution count 2: 2.56805e+06 2.87001e+06 \n"
     ]
    },
    {
     "name": "stderr",
     "output_type": "stream",
     "text": [
      "2025-01-14 15:36:38.097Z gurobipy         20 netflow.py:149 Solution count 2: 2.56805e+06 2.87001e+06 \n"
     ]
    },
    {
     "name": "stdout",
     "output_type": "stream",
     "text": [
      "\n"
     ]
    },
    {
     "name": "stderr",
     "output_type": "stream",
     "text": [
      "2025-01-14 15:36:38.099Z gurobipy         20 netflow.py:149 \n"
     ]
    },
    {
     "name": "stdout",
     "output_type": "stream",
     "text": [
      "Optimal solution found (tolerance 5.00e-02)\n"
     ]
    },
    {
     "name": "stderr",
     "output_type": "stream",
     "text": [
      "2025-01-14 15:36:38.101Z gurobipy         20 netflow.py:149 Optimal solution found (tolerance 5.00e-02)\n"
     ]
    },
    {
     "name": "stdout",
     "output_type": "stream",
     "text": [
      "Best objective 2.568049712125e+06, best bound 2.568049712125e+06, gap 0.0000%\n"
     ]
    },
    {
     "name": "stderr",
     "output_type": "stream",
     "text": [
      "2025-01-14 15:36:38.107Z gurobipy         20 netflow.py:149 Best objective 2.568049712125e+06, best bound 2.568049712125e+06, gap 0.0000%\n"
     ]
    },
    {
     "name": "stdout",
     "output_type": "stream",
     "text": [
      "Checking for trajectory collisions\n",
      "trajectory collisions found: 0\n",
      "Done: solving the problem for stage=1 targets.\n",
      "objVal0 = 10.217948, objVal1=2568049.712125\n",
      "exposure 0:\n",
      "  assigned Cobras: 2110\n",
      "   sci_P1: 1510\n",
      "   sky: 400\n",
      "   cal: 200\n",
      "exposure 0:\n",
      "assigned Cobras(%): 88.14%; gal--63.07%, anc--0.00%, sky--16.71%, star--8.35%\n",
      "comp_out= {'cal': 0.34305317324185247, 'sci_P1': 0.0678468727534148, 'sky': 0.008197897239358105}\n",
      "['sci_P1']\n"
     ]
    },
    {
     "data": {
      "image/png": "[encoded data removed]",
      "text/plain": [
       "<Figure size 1200x400 with 2 Axes>"
      ]
     },
     "metadata": {},
     "output_type": "display_data"
    },
    {
     "name": "stdout",
     "output_type": "stream",
     "text": [
      "comp_out_tmp1 =  {'cal': 0.34305317324185247, 'sci_P1': 0.0678468727534148, 'sky': 0.008197897239358105}\n",
      "2717.994785 secs passed after the visits done.\n"
     ]
    },
    {
     "data": {
      "image/png": "[encoded data removed]",
      "text/plain": [
       "<Figure size 600x500 with 1 Axes>"
      ]
     },
     "metadata": {},
     "output_type": "display_data"
    },
    {
     "data": {
      "image/png": "[encoded data removed]",
      "text/plain": [
       "<Figure size 600x500 with 1 Axes>"
      ]
     },
     "metadata": {},
     "output_type": "display_data"
    }
   ],
   "source": [
    "'''\n",
    "Comment: successfully tested for one pointing within 43 seconds\n",
    "\n",
    "bench, cobracoach = create_bench(layout=\"full\")\n",
    "collision_sim_version = 0\n",
    "run_main(peaks, tgt, classdict, alreadyObserved, two_stage=two_stage, collision_sim_version=collision_sim_version, bench=bench, cobracoach=cobracoach, gurobiOptions=gurobiOptions, tele_params=tele_params)\n",
    "'''"
   ]
  },
  {
   "cell_type": "markdown",
   "metadata": {},
   "source": [
    "## calibration_ga + CollisionSimulator2"
   ]
  },
  {
   "cell_type": "code",
   "execution_count": 91,
   "metadata": {},
   "outputs": [
    {
     "name": "stdout",
     "output_type": "stream",
     "text": [
      "Created cobra coach temp directory: ./cobra_coach_temp/\n"
     ]
    },
    {
     "name": "stderr",
     "output_type": "stream",
     "text": [
      "2025-01-15 09:21:11.667Z cobraCoach       30 cobraCoach.py:164 setting invisible cobras: [173, 648, 799, 853, 949, 1173, 1653, 1724, 2182]\n",
      "2025-01-15 09:21:11.749Z cobraCoach       30 cobraCoach.py:175 setting bad cobras: [47, 50, 173, 193, 347, 361, 648, 754, 799, 821, 853, 949, 1150, 1173, 1208, 1210, 1520, 1580, 1653, 1724, 1791, 1825, 1836, 1882, 1903, 2053, 2182, 2352, 2380]\n",
      "2025-01-15 09:21:11.761Z cobraCoach       20 cobraCoach.py:273 cc connecting to fpga....\n",
      "2025-01-15 09:21:11.764Z butler           30 butler.py:59 newRun: cobra_coach_temp/20250115_001\n"
     ]
    },
    {
     "name": "stdout",
     "output_type": "stream",
     "text": [
      "Cobras with zero centers: 0\n",
      "Cobras with zero link lengths: 0\n",
      "Cobras with too long link lengths: 0\n",
      "Number of cobras: 2394\n"
     ]
    }
   ],
   "source": [
    "bench, cobracoach = create_bench(layout=\"calibration_ga\")\n",
    "collision_sim_version = 2"
   ]
  },
  {
   "cell_type": "markdown",
   "metadata": {},
   "source": [
    "### check the bench.cobras "
   ]
  },
  {
   "cell_type": "code",
   "execution_count": 92,
   "metadata": {},
   "outputs": [
    {
     "name": "stdout",
     "output_type": "stream",
     "text": [
      "Number of good cobras: 2365\n",
      "Number of broken cobras: 29\n",
      "Number of cobras: 2394\n"
     ]
    }
   ],
   "source": [
    "mask_broken_cobras = bench.cobras.status!=1\n",
    "bench.cobras.status[mask_broken_cobras] #1 for good cobras\n",
    "# print number of good cobras and broken cobras\n",
    "print(\"Number of good cobras: %d\" % np.sum(bench.cobras.status==1))\n",
    "print(\"Number of broken cobras: %d\" % np.sum(bench.cobras.status!=1))\n",
    "# print number of cobras\n",
    "print(\"Number of cobras: %d\" % bench.cobras.nCobras)"
   ]
  },
  {
   "cell_type": "code",
   "execution_count": 93,
   "metadata": {},
   "outputs": [
    {
     "name": "stdout",
     "output_type": "stream",
     "text": [
      "broken cobras e.g.: \n",
      " [4.73172328 4.73172328 0.04616297 4.73172328 4.73172328 4.73172328\n",
      " 0.04616297 4.73172328 4.73172328 4.73172328] \n",
      " [0.04616297 0.04616297 4.73172328 0.04616297 0.04616297 0.04616297\n",
      " 4.73172328 0.04616297 0.04616297 0.04616297]\n",
      "good cobras e.g.: \n",
      " [0.02026415 0.06323129 0.01497176 0.01248584 0.21307477 0.19748225\n",
      " 0.04862458 0.07867385 0.16874821 0.19720625] \n",
      " [4.59380856 4.86683328 4.8630407  4.76134505 4.91394132 4.74185774\n",
      " 4.74557224 4.88438646 4.66003237 4.82378106]\n",
      "Number of broken cobras with rMin>rMax: 25\n",
      "Number of broken cobras with rMin<rMax: 4\n",
      "Number of broken cobras with rMin=rMax: 0\n"
     ]
    }
   ],
   "source": [
    "# print rMin and rMax for the broken cobras\n",
    "print(\"broken cobras e.g.: \\n\", bench.cobras.rMin[mask_broken_cobras][:10], \"\\n\", bench.cobras.rMax[mask_broken_cobras][:10])\n",
    "print(\"good cobras e.g.: \\n\", bench.cobras.rMin[~mask_broken_cobras][:10], \"\\n\", bench.cobras.rMax[~mask_broken_cobras][:10])\n",
    "\n",
    "# print the number of broken cobras with rMin>rMax, rMin<rMax, rMin=rMax separately\n",
    "print(\"Number of broken cobras with rMin>rMax: %d\" % np.sum(bench.cobras.rMin[mask_broken_cobras]>bench.cobras.rMax[mask_broken_cobras]))\n",
    "print(\"Number of broken cobras with rMin<rMax: %d\" % np.sum(bench.cobras.rMin[mask_broken_cobras]<bench.cobras.rMax[mask_broken_cobras]))\n",
    "print(\"Number of broken cobras with rMin=rMax: %d\" % np.sum(bench.cobras.rMin[mask_broken_cobras]==bench.cobras.rMax[mask_broken_cobras]))"
   ]
  },
  {
   "cell_type": "code",
   "execution_count": 74,
   "metadata": {},
   "outputs": [
    {
     "name": "stdout",
     "output_type": "stream",
     "text": [
      "Number of broken cobras with home0!=home1: 0\n",
      "Home0 position of the broken cobras: \n",
      " [ -3.59382956-180.24471632j -10.62900307-192.31506599j\n",
      " -51.97192437 -55.00672388j -86.51619868 +37.90160497j\n",
      " -86.74850395 -18.55966542j]\n",
      "Center position of the broken cobras: \n",
      " [ -8.32555284-180.24473975j -15.36072635-192.31508942j\n",
      " -56.70364765 -55.00674731j -91.24792196 +37.90158155j\n",
      " -91.48022723 -18.55968885j]\n",
      "Home0 position of the rMin<rMax broken cobras: \n",
      " [ -55.45522402 +24.23936535j -159.31349541 +12.12600035j\n",
      "  -20.55978165+116.10365369j   55.52671697-143.90378573j]\n",
      "Center position of the rMin<rMax broken cobras: \n",
      " [ -55.49792837 +24.22183368j -159.33114822 +12.08334594j\n",
      "  -20.54846099+116.12712795j   55.29370698-143.93848739j]\n"
     ]
    }
   ],
   "source": [
    "# check whether home0 and home1 are the same for broken cobras\n",
    "mask_home0 = bench.cobras.home0[mask_broken_cobras]!=bench.cobras.home1[mask_broken_cobras] #note not all cobras have home0==home1\n",
    "print(\"Number of broken cobras with home0!=home1: %d\" % np.sum(mask_home0))\n",
    "\n",
    "mask_broken_cobras_rMin_rMax = bench.cobras.rMin[mask_broken_cobras]<bench.cobras.rMax[mask_broken_cobras]\n",
    "\n",
    "# check the home and position of the broken cobras \n",
    "print(\"Home0 position of the broken cobras: \\n\", bench.cobras.home0[mask_broken_cobras][~mask_broken_cobras_rMin_rMax][:5])\n",
    "print(\"Center position of the broken cobras: \\n\", bench.cobras.centers[mask_broken_cobras][~mask_broken_cobras_rMin_rMax][:5])\n",
    "\n",
    "print(\"Home0 position of the rMin<rMax broken cobras: \\n\", bench.cobras.home0[mask_broken_cobras][mask_broken_cobras_rMin_rMax])\n",
    "print(\"Center position of the rMin<rMax broken cobras: \\n\", bench.cobras.centers[mask_broken_cobras][mask_broken_cobras_rMin_rMax])\n"
   ]
  },
  {
   "cell_type": "code",
   "execution_count": 94,
   "metadata": {},
   "outputs": [],
   "source": [
    "bench.cobras.rMin[mask_broken_cobras][mask_broken_cobras_rMin_rMax] = 4.73172328\n",
    "bench.cobras.rMax[mask_broken_cobras][mask_broken_cobras_rMin_rMax] = 0.04616297\n"
   ]
  },
  {
   "cell_type": "code",
   "execution_count": null,
   "metadata": {},
   "outputs": [
    {
     "name": "stderr",
     "output_type": "stream",
     "text": [
      "2025-01-15 09:21:57.796Z root             10 CoordTransp.py:306 0.0\n",
      "2025-01-15 09:21:57.810Z root             20 DistortionCoefficients.py:688 2016.0\n",
      "2025-01-15 09:21:57.814Z root             10 DistortionCoefficients.py:690 9.635751768195725 yr\n",
      "2025-01-15 09:21:57.817Z root             10 DistortionCoefficients.py:701 1e-08 mas\n",
      "2025-01-15 09:21:58.007Z root             20 DistortionCoefficients.py:709 Ra Dec = (330.682912 -0.518103) : original\n",
      "2025-01-15 09:21:58.014Z root             20 DistortionCoefficients.py:711 PM = (0.0 mas / yr 0.0 mas / yr)\n",
      "2025-01-15 09:21:58.016Z root             20 DistortionCoefficients.py:713 Ra Dec = (330.68291199999993 -0.518103) : applied proper motion\n",
      "2025-01-15 09:21:58.018Z root             20 DistortionCoefficients.py:715 Ra Dec = (331.01190200999855 -0.3934771952557599) : applied presession\n",
      "2025-01-15 09:21:58.091Z root             20 CoordTransp.py:312 FoV center: Ra,Dec=([330.682912] [-0.518103]) is Az,El,InR=(200.96093011908144 68.47309797706178 19.66297008595464)\n",
      "2025-01-15 09:21:58.530Z root             20 CoordTransp.py:84 Zenith angle for your field should be 21.526902022938216\n",
      "2025-01-15 09:21:58.581Z root             20 CoordTransp.py:163 Correct extra distortion @ tel -- skipped\n",
      "2025-01-15 09:21:58.582Z root             20 CoordTransp.py:164 Before: x= [-193.47126889 -181.86610932 -199.33350527 -193.10942907 -189.03957835\n",
      " -193.87142014 -178.02574974 -189.5729862  -181.36830786 -179.00238031\n",
      " -189.71276752], y=[172.47404102 169.28812764 163.66009436 162.63418929 163.37842981\n",
      " 159.57579164 163.59483829 158.68076736 161.03747143 160.85060881\n",
      " 156.93006185]\n",
      "2025-01-15 09:21:58.591Z root             20 CoordTransp.py:167 correct by -1.0\n",
      "2025-01-15 09:21:58.593Z root             20 CoordTransp.py:170 After: x= [-193.45732608 -181.85489165 -199.32040849 -193.09777317 -189.02848004\n",
      " -193.86029327 -178.01628854 -189.56280602 -181.3589094  -178.99335082\n",
      " -189.70293421], y=[172.45308808 169.27043598 163.63890595 162.61463555 163.35975241\n",
      " 159.55643679 163.57870955 158.66252433 161.02085609 160.83455462\n",
      " 156.91198774]\n",
      "2025-01-15 09:21:58.596Z root             20 CoordTransp.py:173 Telescope to PFI\n"
     ]
    },
    {
     "name": "stdout",
     "output_type": "stream",
     "text": [
      "solving the problem for stage=0 targets.\n",
      "Set parameter Presolve to value 1\n"
     ]
    },
    {
     "name": "stderr",
     "output_type": "stream",
     "text": [
      "2025-01-15 09:21:58.606Z gurobipy         20 netflow.py:117 Set parameter Presolve to value 1\n"
     ]
    },
    {
     "name": "stdout",
     "output_type": "stream",
     "text": [
      "Set parameter Method to value 4\n"
     ]
    },
    {
     "name": "stderr",
     "output_type": "stream",
     "text": [
      "2025-01-15 09:21:58.610Z gurobipy         20 netflow.py:117 Set parameter Method to value 4\n"
     ]
    },
    {
     "name": "stdout",
     "output_type": "stream",
     "text": [
      "Set parameter DegenMoves to value 0\n"
     ]
    },
    {
     "name": "stderr",
     "output_type": "stream",
     "text": [
      "2025-01-15 09:21:58.612Z gurobipy         20 netflow.py:117 Set parameter DegenMoves to value 0\n"
     ]
    },
    {
     "name": "stdout",
     "output_type": "stream",
     "text": [
      "Set parameter Heuristics to value 0.8\n"
     ]
    },
    {
     "name": "stderr",
     "output_type": "stream",
     "text": [
      "2025-01-15 09:21:58.614Z gurobipy         20 netflow.py:117 Set parameter Heuristics to value 0.8\n"
     ]
    },
    {
     "name": "stdout",
     "output_type": "stream",
     "text": [
      "Set parameter MIPGap to value 0.05\n"
     ]
    },
    {
     "name": "stderr",
     "output_type": "stream",
     "text": [
      "2025-01-15 09:21:58.621Z gurobipy         20 netflow.py:117 Set parameter MIPGap to value 0.05\n"
     ]
    },
    {
     "name": "stdout",
     "output_type": "stream",
     "text": [
      "Creating network topology\n",
      "  exposure 1\n",
      "Calculating visibilities\n",
      "adding constraints\n",
      "adding collision constraints\n",
      "adding forbidden pair constraints\n",
      "Gurobi Optimizer version 10.0.1 build v10.0.1rc0 (mac64[x86])\n"
     ]
    },
    {
     "name": "stderr",
     "output_type": "stream",
     "text": [
      "2025-01-15 09:22:20.719Z gurobipy         20 netflow.py:149 Gurobi Optimizer version 10.0.1 build v10.0.1rc0 (mac64[x86])\n"
     ]
    },
    {
     "name": "stdout",
     "output_type": "stream",
     "text": [
      "\n"
     ]
    },
    {
     "name": "stderr",
     "output_type": "stream",
     "text": [
      "2025-01-15 09:22:20.720Z gurobipy         20 netflow.py:149 \n"
     ]
    },
    {
     "name": "stdout",
     "output_type": "stream",
     "text": [
      "CPU model: Intel(R) Core(TM) i7-8569U CPU @ 2.80GHz\n"
     ]
    },
    {
     "name": "stderr",
     "output_type": "stream",
     "text": [
      "2025-01-15 09:22:20.723Z gurobipy         20 netflow.py:149 CPU model: Intel(R) Core(TM) i7-8569U CPU @ 2.80GHz\n"
     ]
    },
    {
     "name": "stdout",
     "output_type": "stream",
     "text": [
      "Thread count: 4 physical cores, 8 logical processors, using up to 8 threads\n"
     ]
    },
    {
     "name": "stderr",
     "output_type": "stream",
     "text": [
      "2025-01-15 09:22:20.726Z gurobipy         20 netflow.py:149 Thread count: 4 physical cores, 8 logical processors, using up to 8 threads\n"
     ]
    },
    {
     "name": "stdout",
     "output_type": "stream",
     "text": [
      "\n"
     ]
    },
    {
     "name": "stderr",
     "output_type": "stream",
     "text": [
      "2025-01-15 09:22:20.730Z gurobipy         20 netflow.py:149 \n"
     ]
    },
    {
     "name": "stdout",
     "output_type": "stream",
     "text": [
      "Academic license 2379863 - for non-commercial use only - registered to ji___@ipmu.jp\n"
     ]
    },
    {
     "name": "stderr",
     "output_type": "stream",
     "text": [
      "2025-01-15 09:22:20.736Z gurobipy         20 netflow.py:149 Academic license 2379863 - for non-commercial use only - registered to ji___@ipmu.jp\n"
     ]
    },
    {
     "name": "stdout",
     "output_type": "stream",
     "text": [
      "Optimize a model with 286527 rows, 139888 columns and 717102 nonzeros\n"
     ]
    },
    {
     "name": "stderr",
     "output_type": "stream",
     "text": [
      "2025-01-15 09:22:20.740Z gurobipy         20 netflow.py:149 Optimize a model with 286527 rows, 139888 columns and 717102 nonzeros\n"
     ]
    },
    {
     "name": "stdout",
     "output_type": "stream",
     "text": [
      "Model fingerprint: 0x72976c65\n"
     ]
    },
    {
     "name": "stderr",
     "output_type": "stream",
     "text": [
      "2025-01-15 09:22:20.757Z gurobipy         20 netflow.py:149 Model fingerprint: 0x72976c65\n"
     ]
    },
    {
     "name": "stdout",
     "output_type": "stream",
     "text": [
      "Variable types: 1 continuous, 139887 integer (124188 binary)\n"
     ]
    },
    {
     "name": "stderr",
     "output_type": "stream",
     "text": [
      "2025-01-15 09:22:20.762Z gurobipy         20 netflow.py:149 Variable types: 1 continuous, 139887 integer (124188 binary)\n"
     ]
    },
    {
     "name": "stdout",
     "output_type": "stream",
     "text": [
      "Coefficient statistics:\n"
     ]
    },
    {
     "name": "stderr",
     "output_type": "stream",
     "text": [
      "2025-01-15 09:22:20.769Z gurobipy         20 netflow.py:149 Coefficient statistics:\n"
     ]
    },
    {
     "name": "stdout",
     "output_type": "stream",
     "text": [
      "  Matrix range     [1e+00, 1e+00]\n"
     ]
    },
    {
     "name": "stderr",
     "output_type": "stream",
     "text": [
      "2025-01-15 09:22:20.771Z gurobipy         20 netflow.py:149   Matrix range     [1e+00, 1e+00]\n"
     ]
    },
    {
     "name": "stdout",
     "output_type": "stream",
     "text": [
      "  Objective range  [6e-05, 1e+06]\n"
     ]
    },
    {
     "name": "stderr",
     "output_type": "stream",
     "text": [
      "2025-01-15 09:22:20.773Z gurobipy         20 netflow.py:149   Objective range  [6e-05, 1e+06]\n"
     ]
    },
    {
     "name": "stdout",
     "output_type": "stream",
     "text": [
      "  Bounds range     [1e+00, 1e+00]\n"
     ]
    },
    {
     "name": "stderr",
     "output_type": "stream",
     "text": [
      "2025-01-15 09:22:20.774Z gurobipy         20 netflow.py:149   Bounds range     [1e+00, 1e+00]\n"
     ]
    },
    {
     "name": "stdout",
     "output_type": "stream",
     "text": [
      "  RHS range        [1e+00, 2e+04]\n"
     ]
    },
    {
     "name": "stderr",
     "output_type": "stream",
     "text": [
      "2025-01-15 09:22:20.778Z gurobipy         20 netflow.py:149   RHS range        [1e+00, 2e+04]\n"
     ]
    },
    {
     "name": "stdout",
     "output_type": "stream",
     "text": [
      "Found heuristic solution: objective 6.031392e+08\n"
     ]
    },
    {
     "name": "stderr",
     "output_type": "stream",
     "text": [
      "2025-01-15 09:22:20.881Z gurobipy         20 netflow.py:149 Found heuristic solution: objective 6.031392e+08\n"
     ]
    },
    {
     "name": "stdout",
     "output_type": "stream",
     "text": [
      "Presolve removed 285730 rows and 136843 columns\n"
     ]
    },
    {
     "name": "stderr",
     "output_type": "stream",
     "text": [
      "2025-01-15 09:22:22.601Z gurobipy         20 netflow.py:149 Presolve removed 285730 rows and 136843 columns\n"
     ]
    },
    {
     "name": "stdout",
     "output_type": "stream",
     "text": [
      "Presolve time: 1.72s\n"
     ]
    },
    {
     "name": "stderr",
     "output_type": "stream",
     "text": [
      "2025-01-15 09:22:22.603Z gurobipy         20 netflow.py:149 Presolve time: 1.72s\n"
     ]
    },
    {
     "name": "stdout",
     "output_type": "stream",
     "text": [
      "Presolved: 797 rows, 3045 columns, 4656 nonzeros\n"
     ]
    },
    {
     "name": "stderr",
     "output_type": "stream",
     "text": [
      "2025-01-15 09:22:22.622Z gurobipy         20 netflow.py:149 Presolved: 797 rows, 3045 columns, 4656 nonzeros\n"
     ]
    },
    {
     "name": "stdout",
     "output_type": "stream",
     "text": [
      "Found heuristic solution: objective 6.007263e+08\n"
     ]
    },
    {
     "name": "stderr",
     "output_type": "stream",
     "text": [
      "2025-01-15 09:22:22.649Z gurobipy         20 netflow.py:149 Found heuristic solution: objective 6.007263e+08\n"
     ]
    },
    {
     "name": "stdout",
     "output_type": "stream",
     "text": [
      "Variable types: 0 continuous, 3045 integer (3043 binary)\n"
     ]
    },
    {
     "name": "stderr",
     "output_type": "stream",
     "text": [
      "2025-01-15 09:22:22.654Z gurobipy         20 netflow.py:149 Variable types: 0 continuous, 3045 integer (3043 binary)\n"
     ]
    },
    {
     "name": "stdout",
     "output_type": "stream",
     "text": [
      "Found heuristic solution: objective 5.987263e+08\n"
     ]
    },
    {
     "name": "stderr",
     "output_type": "stream",
     "text": [
      "2025-01-15 09:22:22.670Z gurobipy         20 netflow.py:149 Found heuristic solution: objective 5.987263e+08\n"
     ]
    },
    {
     "name": "stdout",
     "output_type": "stream",
     "text": [
      "Deterministic concurrent LP optimizer: dual simplex and barrier\n"
     ]
    },
    {
     "name": "stderr",
     "output_type": "stream",
     "text": [
      "2025-01-15 09:22:22.683Z gurobipy         20 netflow.py:149 Deterministic concurrent LP optimizer: dual simplex and barrier\n"
     ]
    },
    {
     "name": "stdout",
     "output_type": "stream",
     "text": [
      "Showing barrier log only...\n"
     ]
    },
    {
     "name": "stderr",
     "output_type": "stream",
     "text": [
      "2025-01-15 09:22:22.686Z gurobipy         20 netflow.py:149 Showing barrier log only...\n"
     ]
    },
    {
     "name": "stdout",
     "output_type": "stream",
     "text": [
      "\n"
     ]
    },
    {
     "name": "stderr",
     "output_type": "stream",
     "text": [
      "2025-01-15 09:22:22.694Z gurobipy         20 netflow.py:149 \n"
     ]
    },
    {
     "name": "stdout",
     "output_type": "stream",
     "text": [
      "Root barrier log...\n"
     ]
    },
    {
     "name": "stderr",
     "output_type": "stream",
     "text": [
      "2025-01-15 09:22:22.707Z gurobipy         20 netflow.py:149 Root barrier log...\n"
     ]
    },
    {
     "name": "stdout",
     "output_type": "stream",
     "text": [
      "\n"
     ]
    },
    {
     "name": "stderr",
     "output_type": "stream",
     "text": [
      "2025-01-15 09:22:22.720Z gurobipy         20 netflow.py:149 \n"
     ]
    },
    {
     "name": "stdout",
     "output_type": "stream",
     "text": [
      "Ordering time: 0.00s\n"
     ]
    },
    {
     "name": "stderr",
     "output_type": "stream",
     "text": [
      "2025-01-15 09:22:22.725Z gurobipy         20 netflow.py:149 Ordering time: 0.00s\n"
     ]
    },
    {
     "name": "stdout",
     "output_type": "stream",
     "text": [
      "\n"
     ]
    },
    {
     "name": "stderr",
     "output_type": "stream",
     "text": [
      "2025-01-15 09:22:22.742Z gurobipy         20 netflow.py:149 \n"
     ]
    },
    {
     "name": "stdout",
     "output_type": "stream",
     "text": [
      "Barrier statistics:\n"
     ]
    },
    {
     "name": "stderr",
     "output_type": "stream",
     "text": [
      "2025-01-15 09:22:22.746Z gurobipy         20 netflow.py:149 Barrier statistics:\n"
     ]
    },
    {
     "name": "stdout",
     "output_type": "stream",
     "text": [
      " AA' NZ     : 1.723e+03\n"
     ]
    },
    {
     "name": "stderr",
     "output_type": "stream",
     "text": [
      "2025-01-15 09:22:22.750Z gurobipy         20 netflow.py:149  AA' NZ     : 1.723e+03\n"
     ]
    },
    {
     "name": "stdout",
     "output_type": "stream",
     "text": [
      " Factor NZ  : 3.439e+03 (roughly 2 MB of memory)\n"
     ]
    },
    {
     "name": "stderr",
     "output_type": "stream",
     "text": [
      "2025-01-15 09:22:22.756Z gurobipy         20 netflow.py:149  Factor NZ  : 3.439e+03 (roughly 2 MB of memory)\n"
     ]
    },
    {
     "name": "stdout",
     "output_type": "stream",
     "text": [
      " Factor Ops : 2.330e+04 (less than 1 second per iteration)\n"
     ]
    },
    {
     "name": "stderr",
     "output_type": "stream",
     "text": [
      "2025-01-15 09:22:22.772Z gurobipy         20 netflow.py:149  Factor Ops : 2.330e+04 (less than 1 second per iteration)\n"
     ]
    },
    {
     "name": "stdout",
     "output_type": "stream",
     "text": [
      " Threads    : 1\n"
     ]
    },
    {
     "name": "stderr",
     "output_type": "stream",
     "text": [
      "2025-01-15 09:22:22.774Z gurobipy         20 netflow.py:149  Threads    : 1\n"
     ]
    },
    {
     "name": "stdout",
     "output_type": "stream",
     "text": [
      "\n"
     ]
    },
    {
     "name": "stderr",
     "output_type": "stream",
     "text": [
      "2025-01-15 09:22:22.784Z gurobipy         20 netflow.py:149 \n"
     ]
    },
    {
     "name": "stdout",
     "output_type": "stream",
     "text": [
      "                  Objective                Residual\n"
     ]
    },
    {
     "name": "stderr",
     "output_type": "stream",
     "text": [
      "2025-01-15 09:22:22.787Z gurobipy         20 netflow.py:149                   Objective                Residual\n"
     ]
    },
    {
     "name": "stdout",
     "output_type": "stream",
     "text": [
      "Iter       Primal          Dual         Primal    Dual     Compl     Time\n"
     ]
    },
    {
     "name": "stderr",
     "output_type": "stream",
     "text": [
      "2025-01-15 09:22:22.799Z gurobipy         20 netflow.py:149 Iter       Primal          Dual         Primal    Dual     Compl     Time\n"
     ]
    },
    {
     "name": "stdout",
     "output_type": "stream",
     "text": [
      "   0   3.97057655e+08 -3.17879421e+09  2.60e+01 3.86e+04  3.66e+07     2s\n"
     ]
    },
    {
     "name": "stderr",
     "output_type": "stream",
     "text": [
      "2025-01-15 09:22:22.804Z gurobipy         20 netflow.py:149    0   3.97057655e+08 -3.17879421e+09  2.60e+01 3.86e+04  3.66e+07     2s\n"
     ]
    },
    {
     "name": "stdout",
     "output_type": "stream",
     "text": [
      "\n"
     ]
    },
    {
     "name": "stderr",
     "output_type": "stream",
     "text": [
      "2025-01-15 09:22:22.808Z gurobipy         20 netflow.py:149 \n"
     ]
    },
    {
     "name": "stdout",
     "output_type": "stream",
     "text": [
      "Barrier performed 0 iterations in 2.08 seconds (0.69 work units)\n"
     ]
    },
    {
     "name": "stderr",
     "output_type": "stream",
     "text": [
      "2025-01-15 09:22:22.810Z gurobipy         20 netflow.py:149 Barrier performed 0 iterations in 2.08 seconds (0.69 work units)\n"
     ]
    },
    {
     "name": "stdout",
     "output_type": "stream",
     "text": [
      "Barrier solve interrupted - model solved by another algorithm\n"
     ]
    },
    {
     "name": "stderr",
     "output_type": "stream",
     "text": [
      "2025-01-15 09:22:22.814Z gurobipy         20 netflow.py:149 Barrier solve interrupted - model solved by another algorithm\n"
     ]
    },
    {
     "name": "stdout",
     "output_type": "stream",
     "text": [
      "\n"
     ]
    },
    {
     "name": "stderr",
     "output_type": "stream",
     "text": [
      "2025-01-15 09:22:22.819Z gurobipy         20 netflow.py:149 \n"
     ]
    },
    {
     "name": "stdout",
     "output_type": "stream",
     "text": [
      "Concurrent spin time: 0.11s (can be avoided by choosing Method=3)\n"
     ]
    },
    {
     "name": "stderr",
     "output_type": "stream",
     "text": [
      "2025-01-15 09:22:22.822Z gurobipy         20 netflow.py:149 Concurrent spin time: 0.11s (can be avoided by choosing Method=3)\n"
     ]
    },
    {
     "name": "stdout",
     "output_type": "stream",
     "text": [
      "\n"
     ]
    },
    {
     "name": "stderr",
     "output_type": "stream",
     "text": [
      "2025-01-15 09:22:22.825Z gurobipy         20 netflow.py:149 \n"
     ]
    },
    {
     "name": "stdout",
     "output_type": "stream",
     "text": [
      "Solved with dual simplex\n"
     ]
    },
    {
     "name": "stderr",
     "output_type": "stream",
     "text": [
      "2025-01-15 09:22:22.827Z gurobipy         20 netflow.py:149 Solved with dual simplex\n"
     ]
    },
    {
     "name": "stdout",
     "output_type": "stream",
     "text": [
      "\n"
     ]
    },
    {
     "name": "stderr",
     "output_type": "stream",
     "text": [
      "2025-01-15 09:22:22.838Z gurobipy         20 netflow.py:149 \n"
     ]
    },
    {
     "name": "stdout",
     "output_type": "stream",
     "text": [
      "Root relaxation: objective 2.804853e+06, 113 iterations, 0.17 seconds (0.00 work units)\n"
     ]
    },
    {
     "name": "stderr",
     "output_type": "stream",
     "text": [
      "2025-01-15 09:22:22.841Z gurobipy         20 netflow.py:149 Root relaxation: objective 2.804853e+06, 113 iterations, 0.17 seconds (0.00 work units)\n"
     ]
    },
    {
     "name": "stdout",
     "output_type": "stream",
     "text": [
      "\n"
     ]
    },
    {
     "name": "stderr",
     "output_type": "stream",
     "text": [
      "2025-01-15 09:22:22.856Z gurobipy         20 netflow.py:149 \n"
     ]
    },
    {
     "name": "stdout",
     "output_type": "stream",
     "text": [
      "    Nodes    |    Current Node    |     Objective Bounds      |     Work\n"
     ]
    },
    {
     "name": "stderr",
     "output_type": "stream",
     "text": [
      "2025-01-15 09:22:22.860Z gurobipy         20 netflow.py:149     Nodes    |    Current Node    |     Objective Bounds      |     Work\n"
     ]
    },
    {
     "name": "stdout",
     "output_type": "stream",
     "text": [
      " Expl Unexpl |  Obj  Depth IntInf | Incumbent    BestBd   Gap | It/Node Time\n"
     ]
    },
    {
     "name": "stderr",
     "output_type": "stream",
     "text": [
      "2025-01-15 09:22:22.866Z gurobipy         20 netflow.py:149  Expl Unexpl |  Obj  Depth IntInf | Incumbent    BestBd   Gap | It/Node Time\n"
     ]
    },
    {
     "name": "stdout",
     "output_type": "stream",
     "text": [
      "\n"
     ]
    },
    {
     "name": "stderr",
     "output_type": "stream",
     "text": [
      "2025-01-15 09:22:22.871Z gurobipy         20 netflow.py:149 \n"
     ]
    },
    {
     "name": "stdout",
     "output_type": "stream",
     "text": [
      "*    0     0               0    2804852.6768 2804852.68  0.00%     -    2s\n"
     ]
    },
    {
     "name": "stderr",
     "output_type": "stream",
     "text": [
      "2025-01-15 09:22:22.875Z gurobipy         20 netflow.py:149 *    0     0               0    2804852.6768 2804852.68  0.00%     -    2s\n"
     ]
    },
    {
     "name": "stdout",
     "output_type": "stream",
     "text": [
      "\n"
     ]
    },
    {
     "name": "stderr",
     "output_type": "stream",
     "text": [
      "2025-01-15 09:22:22.975Z gurobipy         20 netflow.py:149 \n"
     ]
    },
    {
     "name": "stdout",
     "output_type": "stream",
     "text": [
      "Explored 1 nodes (113 simplex iterations) in 2.24 seconds (0.69 work units)\n"
     ]
    },
    {
     "name": "stderr",
     "output_type": "stream",
     "text": [
      "2025-01-15 09:22:22.980Z gurobipy         20 netflow.py:149 Explored 1 nodes (113 simplex iterations) in 2.24 seconds (0.69 work units)\n"
     ]
    },
    {
     "name": "stdout",
     "output_type": "stream",
     "text": [
      "Thread count was 8 (of 8 available processors)\n"
     ]
    },
    {
     "name": "stderr",
     "output_type": "stream",
     "text": [
      "2025-01-15 09:22:22.984Z gurobipy         20 netflow.py:149 Thread count was 8 (of 8 available processors)\n"
     ]
    },
    {
     "name": "stdout",
     "output_type": "stream",
     "text": [
      "\n"
     ]
    },
    {
     "name": "stderr",
     "output_type": "stream",
     "text": [
      "2025-01-15 09:22:22.987Z gurobipy         20 netflow.py:149 \n"
     ]
    },
    {
     "name": "stdout",
     "output_type": "stream",
     "text": [
      "Solution count 4: 2.80485e+06 5.98726e+08 6.00726e+08 6.03139e+08 \n"
     ]
    },
    {
     "name": "stderr",
     "output_type": "stream",
     "text": [
      "2025-01-15 09:22:22.990Z gurobipy         20 netflow.py:149 Solution count 4: 2.80485e+06 5.98726e+08 6.00726e+08 6.03139e+08 \n"
     ]
    },
    {
     "name": "stdout",
     "output_type": "stream",
     "text": [
      "\n"
     ]
    },
    {
     "name": "stderr",
     "output_type": "stream",
     "text": [
      "2025-01-15 09:22:22.994Z gurobipy         20 netflow.py:149 \n"
     ]
    },
    {
     "name": "stdout",
     "output_type": "stream",
     "text": [
      "Optimal solution found (tolerance 5.00e-02)\n"
     ]
    },
    {
     "name": "stderr",
     "output_type": "stream",
     "text": [
      "2025-01-15 09:22:22.998Z gurobipy         20 netflow.py:149 Optimal solution found (tolerance 5.00e-02)\n"
     ]
    },
    {
     "name": "stdout",
     "output_type": "stream",
     "text": [
      "Best objective 2.804852676787e+06, best bound 2.804852676787e+06, gap 0.0000%\n"
     ]
    },
    {
     "name": "stderr",
     "output_type": "stream",
     "text": [
      "2025-01-15 09:22:23.008Z gurobipy         20 netflow.py:149 Best objective 2.804852676787e+06, best bound 2.804852676787e+06, gap 0.0000%\n",
      "2025-01-15 09:22:23.572Z pfi              40 pfi.py:896 Some theta angles are out of range\n",
      "2025-01-15 09:22:23.573Z pfi              40 pfi.py:899 Some phi angles are out of range\n",
      "2025-01-15 09:22:23.698Z pfi              40 pfi.py:899 Some phi angles are out of range\n",
      "2025-01-15 09:22:23.725Z pfi              40 pfi.py:899 Some phi angles are out of range\n",
      "2025-01-15 09:22:23.727Z engineer         20 engineer.py:395 Move theta arms to angle=[161.75 208.06 123.92 ...  44.07 179.5  155.28] degree\n",
      "2025-01-15 09:22:23.729Z engineer         20 engineer.py:396 Move phi arms to angle=[61.09 39.14 42.52 ... 15.03 27.23 13.42] degree\n",
      "2025-01-15 09:22:23.730Z engineer         20 engineer.py:398 Checking passed homed argument = True\n",
      "2025-01-15 09:22:23.731Z engineer         20 engineer.py:402 Move theta arms CW and phi arms CCW to the hard stops\n"
     ]
    },
    {
     "name": "stdout",
     "output_type": "stream",
     "text": [
      "Checking for trajectory collisions\n"
     ]
    },
    {
     "name": "stderr",
     "output_type": "stream",
     "text": [
      "2025-01-15 09:22:23.767Z cobraCoach       20 cobraCoach.py:1065 home cobras: theta=10000, phi=-5000\n",
      "2025-01-15 09:22:23.799Z pfi              40 pfi.py:899 Some phi angles are out of range\n",
      "2025-01-15 09:22:23.827Z pfi              40 pfi.py:899 Some phi angles are out of range\n",
      "2025-01-15 09:22:23.853Z cobraCoach       20 cobraCoach.py:1009 Moving deltaTheta = [-3.75466108 -3.03382943 -4.47639349 ... -5.91990072 -3.55166252\n",
      " -3.98889833]\n",
      "2025-01-15 09:22:23.855Z cobraCoach       20 cobraCoach.py:1010 Moving deltaPhi = [1.06627911 0.68308043 0.74214347 ... 0.26228707 0.47526124 0.23425779]\n",
      "2025-01-15 09:22:24.158Z cobraCoach       20 cobraCoach.py:877 Finished converting angle to steps, sending command to moveSteps (constantOntime).\n",
      "2025-01-15 09:22:25.076Z cobraCoach       20 cobraCoach.py:587 Sending step numbers to FPGA for moving cobra.\n",
      "2025-01-15 09:22:25.196Z cobraCoach       20 cobraCoach.py:601 cobra control FPGA operation done.\n",
      "2025-01-15 09:22:25.222Z pfi              40 pfi.py:896 Some theta angles are out of range\n",
      "2025-01-15 09:22:25.223Z pfi              40 pfi.py:899 Some phi angles are out of range\n",
      "2025-01-15 09:22:25.327Z cobraCoach       30 cobraCoach.py:675 Cobra#344 is too far from center\n",
      "2025-01-15 09:22:25.331Z cobraCoach       30 cobraCoach.py:675 Cobra#443 is too far from center\n",
      "2025-01-15 09:22:25.334Z cobraCoach       30 cobraCoach.py:675 Cobra#493 is too far from center\n",
      "2025-01-15 09:22:25.357Z cobraCoach       30 cobraCoach.py:675 Cobra#1303 is too far from center\n",
      "2025-01-15 09:22:25.367Z cobraCoach       30 cobraCoach.py:675 Cobra#1637 is too far from center\n",
      "2025-01-15 09:22:25.376Z cobraCoach       30 cobraCoach.py:675 Cobra#1790 is too far from center\n",
      "2025-01-15 09:22:25.377Z cobraCoach       30 cobraCoach.py:675 Cobra#1792 is too far from center\n",
      "2025-01-15 09:22:25.403Z engineer         20 engineer.py:433 done: [   0    1    2 ... 2391 2392 2393], 17 left\n",
      "2025-01-15 09:22:25.409Z cobraCoach       30 cobraCoach.py:1003 Last phi angle is unknown, not moving: [1459]\n",
      "2025-01-15 09:22:25.411Z cobraCoach       20 cobraCoach.py:1009 Moving deltaTheta = [-1.01748456e-05 -1.01748456e-05 -1.01748456e-05 -1.01748456e-05\n",
      " -1.26843527e+00 -1.01748456e-05 -1.01748456e-05 -1.01748455e-05\n",
      " -1.01748456e-05 -3.19338250e-01 -1.01748455e-05 -5.63835419e-01\n",
      " -2.90812450e-01 -2.38009289e-01 -1.01748456e-05 -1.01748456e-05\n",
      " -9.02968356e-01]\n",
      "2025-01-15 09:22:25.412Z cobraCoach       20 cobraCoach.py:1010 Moving deltaPhi = [-6.10865247e+00 -6.10865247e+00 -6.10865247e+00 -2.96705959e+00\n",
      "  3.91476412e-01 -6.10865247e+00  0.00000000e+00 -2.96705964e+00\n",
      " -2.96705969e+00 -8.73032208e-04 -6.10865247e+00 -3.46835301e-04\n",
      " -3.15766604e-04  8.97923760e-04 -6.10865247e+00 -6.10865247e+00\n",
      " -1.14891429e-04]\n",
      "2025-01-15 09:22:25.418Z cobraCoach       30 cobraCoach.py:846 Last phi angle is unknown: [1459]\n",
      "2025-01-15 09:22:25.421Z cobraCoach       20 cobraCoach.py:877 Finished converting angle to steps, sending command to moveSteps (constantOntime).\n",
      "2025-01-15 09:22:25.439Z cobraCoach       20 cobraCoach.py:587 Sending step numbers to FPGA for moving cobra.\n",
      "2025-01-15 09:22:25.445Z cobraCoach       20 cobraCoach.py:601 cobra control FPGA operation done.\n",
      "2025-01-15 09:22:25.481Z pfi              40 pfi.py:896 Some theta angles are out of range\n",
      "2025-01-15 09:22:25.483Z pfi              40 pfi.py:899 Some phi angles are out of range\n",
      "2025-01-15 09:22:25.702Z cobraCoach       30 cobraCoach.py:675 Cobra#344 is too far from center\n",
      "2025-01-15 09:22:25.704Z cobraCoach       30 cobraCoach.py:679 Cobra#1460 is too close to center\n",
      "2025-01-15 09:22:25.706Z cobraCoach       30 cobraCoach.py:675 Cobra#1637 is too far from center\n",
      "2025-01-15 09:22:25.707Z cobraCoach       30 cobraCoach.py:675 Cobra#1790 is too far from center\n",
      "2025-01-15 09:22:25.711Z engineer         20 engineer.py:433 done: [ 829 1558 1722 1729 1740 1929], 11 left\n",
      "2025-01-15 09:22:25.713Z engineer         30 engineer.py:442 11 cobras did not finish: [ 343  442  492  737 1302 1459 1493 1538 1636 1789 1791], [4.67 4.67 4.67 4.67 4.67 0.82 4.67 4.67 4.67 4.67 4.67]\n",
      "2025-01-15 09:22:25.753Z pfi              40 pfi.py:899 Some phi angles are out of range\n",
      "2025-01-15 09:22:25.755Z engineer         20 engineer.py:395 Move theta arms to angle=[157.87 208.06 123.92 ...  44.07 179.5  155.28] degree\n",
      "2025-01-15 09:22:25.756Z engineer         20 engineer.py:396 Move phi arms to angle=[68.86 39.14 42.52 ... 15.03 27.23 13.42] degree\n",
      "2025-01-15 09:22:25.757Z engineer         20 engineer.py:398 Checking passed homed argument = False\n",
      "2025-01-15 09:22:25.795Z cobraCoach       20 cobraCoach.py:1009 Moving deltaTheta = [-6.75143439e-02 -4.88261386e-04 -1.29845608e-03 ...  9.46514195e-05\n",
      "  4.95124829e-04 -1.30587183e-03]\n",
      "2025-01-15 09:22:25.796Z cobraCoach       20 cobraCoach.py:1010 Moving deltaPhi = [ 1.34530686e-01 -9.11379142e-05  3.52880798e-04 ... -6.53842539e-04\n",
      "  6.24240207e-04 -9.01618970e-04]\n",
      "2025-01-15 09:22:26.057Z cobraCoach       20 cobraCoach.py:877 Finished converting angle to steps, sending command to moveSteps (constantOntime).\n",
      "2025-01-15 09:22:26.350Z cobraCoach       20 cobraCoach.py:587 Sending step numbers to FPGA for moving cobra.\n",
      "2025-01-15 09:22:26.461Z cobraCoach       20 cobraCoach.py:601 cobra control FPGA operation done.\n",
      "2025-01-15 09:22:26.487Z pfi              40 pfi.py:896 Some theta angles are out of range\n",
      "2025-01-15 09:22:26.488Z pfi              40 pfi.py:899 Some phi angles are out of range\n",
      "2025-01-15 09:22:26.614Z cobraCoach       30 cobraCoach.py:675 Cobra#1303 is too far from center\n",
      "2025-01-15 09:22:26.626Z cobraCoach       30 cobraCoach.py:675 Cobra#1790 is too far from center\n",
      "2025-01-15 09:22:26.644Z engineer         20 engineer.py:433 done: [   0    1    2 ... 2391 2392 2393], 11 left\n",
      "2025-01-15 09:22:26.647Z cobraCoach       30 cobraCoach.py:1003 Last phi angle is unknown, not moving: [1459]\n",
      "2025-01-15 09:22:26.649Z cobraCoach       20 cobraCoach.py:1009 Moving deltaTheta = [-1.94233989e-04 -5.14191722e-04 -6.14804362e-04 -1.01748456e-05\n",
      "  2.69975771e-06 -1.01748456e-05 -1.01748455e-05 -1.01748456e-05\n",
      " -1.03632841e-03 -1.01748456e-05 -3.80200480e-04]\n",
      "2025-01-15 09:22:26.650Z cobraCoach       20 cobraCoach.py:1010 Moving deltaPhi = [-2.96687409 -2.96705963 -2.9670596  -2.96705959 -6.10865247  0.\n",
      " -2.96705964 -2.96705969 -2.96602327 -6.10865247 -2.9670596 ]\n",
      "2025-01-15 09:22:26.653Z cobraCoach       30 cobraCoach.py:846 Last phi angle is unknown: [1459]\n",
      "2025-01-15 09:22:26.654Z cobraCoach       20 cobraCoach.py:877 Finished converting angle to steps, sending command to moveSteps (constantOntime).\n",
      "2025-01-15 09:22:26.664Z cobraCoach       20 cobraCoach.py:587 Sending step numbers to FPGA for moving cobra.\n",
      "2025-01-15 09:22:26.668Z cobraCoach       20 cobraCoach.py:601 cobra control FPGA operation done.\n",
      "2025-01-15 09:22:26.695Z pfi              40 pfi.py:896 Some theta angles are out of range\n",
      "2025-01-15 09:22:26.696Z pfi              40 pfi.py:899 Some phi angles are out of range\n",
      "2025-01-15 09:22:26.810Z cobraCoach       30 cobraCoach.py:675 Cobra#344 is too far from center\n",
      "2025-01-15 09:22:26.811Z pfi              30 pfi.py:475 clipping scale adjustment from 0.2573481031895782 to 0.3\n",
      "2025-01-15 09:22:26.813Z cobraCoach       30 cobraCoach.py:679 Cobra#1460 is too close to center\n",
      "2025-01-15 09:22:26.816Z pfi              30 pfi.py:475 clipping scale adjustment from 0.26154231110049525 to 0.3\n",
      "2025-01-15 09:22:26.822Z cobraCoach       20 cobraCoach.py:1009 Moving deltaTheta = [-1.94233989e-04 -5.14191722e-04 -6.14804362e-04 -1.01748456e-05\n",
      " -1.09852569e+00 -1.01748456e-05 -1.01748455e-05 -1.01748456e-05\n",
      " -1.03632841e-03 -1.07143418e+00 -3.80200480e-04]\n",
      "2025-01-15 09:22:26.823Z cobraCoach       20 cobraCoach.py:1010 Moving deltaPhi = [-6.10865247 -2.96705963 -2.9670596  -2.96705959 -1.71883189 -2.96705973\n",
      " -2.96705964 -2.96705969 -2.96705964 -1.88389766 -2.9670596 ]\n",
      "2025-01-15 09:22:26.829Z cobraCoach       20 cobraCoach.py:877 Finished converting angle to steps, sending command to moveSteps (constantOntime).\n",
      "2025-01-15 09:22:26.840Z cobraCoach       20 cobraCoach.py:587 Sending step numbers to FPGA for moving cobra.\n",
      "2025-01-15 09:22:26.843Z cobraCoach       20 cobraCoach.py:601 cobra control FPGA operation done.\n",
      "2025-01-15 09:22:26.873Z pfi              40 pfi.py:896 Some theta angles are out of range\n",
      "2025-01-15 09:22:26.874Z pfi              40 pfi.py:899 Some phi angles are out of range\n",
      "2025-01-15 09:22:26.989Z pfi              30 pfi.py:475 clipping scale adjustment from 0.2859424141191533 to 0.3\n",
      "2025-01-15 09:22:26.990Z cobraCoach       30 cobraCoach.py:675 Cobra#1303 is too far from center\n",
      "2025-01-15 09:22:26.991Z pfi              30 pfi.py:475 clipping scale adjustment from 0.29999999904403885 to 0.3\n",
      "2025-01-15 09:22:26.992Z cobraCoach       30 cobraCoach.py:675 Cobra#1790 is too far from center\n",
      "2025-01-15 09:22:26.999Z cobraCoach       30 cobraCoach.py:1003 Last phi angle is unknown, not moving: [1459]\n",
      "2025-01-15 09:22:27.008Z cobraCoach       20 cobraCoach.py:1009 Moving deltaTheta = [-3.21863813e-01 -5.14191722e-04 -6.14804362e-04 -1.01748456e-05\n",
      " -6.82685060e-01 -1.01748456e-05 -1.01748455e-05 -1.01748456e-05\n",
      " -1.03632841e-03 -3.25590772e-01 -3.80200480e-04]\n",
      "2025-01-15 09:22:27.009Z cobraCoach       20 cobraCoach.py:1010 Moving deltaPhi = [-2.64219266 -2.96705963 -2.9670596  -2.96705959 -6.10865247  0.\n",
      " -2.96705964 -2.96705969 -2.96705964 -6.10865247 -2.9670596 ]\n",
      "2025-01-15 09:22:27.015Z cobraCoach       30 cobraCoach.py:846 Last phi angle is unknown: [1459]\n",
      "2025-01-15 09:22:27.019Z cobraCoach       20 cobraCoach.py:877 Finished converting angle to steps, sending command to moveSteps (constantOntime).\n",
      "2025-01-15 09:22:27.040Z cobraCoach       20 cobraCoach.py:587 Sending step numbers to FPGA for moving cobra.\n",
      "2025-01-15 09:22:27.046Z cobraCoach       20 cobraCoach.py:601 cobra control FPGA operation done.\n",
      "2025-01-15 09:22:27.091Z pfi              40 pfi.py:896 Some theta angles are out of range\n",
      "2025-01-15 09:22:27.092Z pfi              40 pfi.py:899 Some phi angles are out of range\n",
      "2025-01-15 09:22:27.228Z pfi              30 pfi.py:475 clipping scale adjustment from 0.22521650184055392 to 0.3\n",
      "2025-01-15 09:22:27.228Z pfi              30 pfi.py:475 clipping scale adjustment from 0.2573481031895782 to 0.3\n",
      "2025-01-15 09:22:27.229Z cobraCoach       30 cobraCoach.py:679 Cobra#1460 is too close to center\n",
      "2025-01-15 09:22:27.231Z pfi              30 pfi.py:475 clipping scale adjustment from 0.22664453700152026 to 0.3\n",
      "2025-01-15 09:22:27.235Z pfi              30 pfi.py:475 clipping scale adjustment from 0.26154231110049525 to 0.3\n",
      "2025-01-15 09:22:27.244Z cobraCoach       20 cobraCoach.py:1009 Moving deltaTheta = [-2.17122172e-04 -5.14191722e-04 -6.14804362e-04 -1.01748456e-05\n",
      "  4.51698156e+00 -1.01748456e-05 -1.01748455e-05 -1.01748456e-05\n",
      " -1.03632841e-03  5.00301130e+00 -3.80200480e-04]\n",
      "2025-01-15 09:22:27.247Z cobraCoach       20 cobraCoach.py:1010 Moving deltaPhi = [-2.96705965 -2.96705963 -2.9670596  -2.96705959 -1.71883189 -2.96705973\n",
      " -2.96705964 -2.96705969 -2.96705964 -1.88389766 -2.9670596 ]\n",
      "2025-01-15 09:22:27.255Z cobraCoach       20 cobraCoach.py:877 Finished converting angle to steps, sending command to moveSteps (constantOntime).\n",
      "2025-01-15 09:22:27.268Z cobraCoach       20 cobraCoach.py:587 Sending step numbers to FPGA for moving cobra.\n",
      "2025-01-15 09:22:27.277Z cobraCoach       20 cobraCoach.py:601 cobra control FPGA operation done.\n",
      "2025-01-15 09:22:27.319Z pfi              40 pfi.py:896 Some theta angles are out of range\n",
      "2025-01-15 09:22:27.321Z pfi              40 pfi.py:899 Some phi angles are out of range\n",
      "2025-01-15 09:22:27.458Z cobraCoach       30 cobraCoach.py:675 Cobra#1790 is too far from center\n",
      "2025-01-15 09:22:27.460Z pfi              30 pfi.py:475 clipping scale adjustment from 0.29999999510714737 to 0.3\n",
      "2025-01-15 09:22:27.464Z cobraCoach       30 cobraCoach.py:1003 Last phi angle is unknown, not moving: [1459]\n",
      "2025-01-15 09:22:27.465Z cobraCoach       20 cobraCoach.py:1009 Moving deltaTheta = [-2.17122172e-04 -5.14191722e-04 -6.14804362e-04 -1.01748456e-05\n",
      " -4.10811338e-03 -1.01748456e-05 -1.01748455e-05 -1.01748456e-05\n",
      " -1.03632841e-03  7.85623389e-01 -3.80200480e-04]\n",
      "2025-01-15 09:22:27.467Z cobraCoach       20 cobraCoach.py:1010 Moving deltaPhi = [-2.96705965 -2.96705963 -2.9670596  -2.96705959 -2.96705962  0.\n",
      " -2.96705964 -2.96705969 -2.96705964 -6.10865247 -2.9670596 ]\n",
      "2025-01-15 09:22:27.473Z cobraCoach       30 cobraCoach.py:846 Last phi angle is unknown: [1459]\n",
      "2025-01-15 09:22:27.475Z cobraCoach       20 cobraCoach.py:877 Finished converting angle to steps, sending command to moveSteps (constantOntime).\n",
      "2025-01-15 09:22:27.497Z cobraCoach       20 cobraCoach.py:587 Sending step numbers to FPGA for moving cobra.\n",
      "2025-01-15 09:22:27.504Z cobraCoach       20 cobraCoach.py:601 cobra control FPGA operation done.\n",
      "2025-01-15 09:22:27.542Z pfi              40 pfi.py:896 Some theta angles are out of range\n",
      "2025-01-15 09:22:27.543Z pfi              40 pfi.py:899 Some phi angles are out of range\n",
      "2025-01-15 09:22:27.768Z pfi              30 pfi.py:475 clipping scale adjustment from 0.2250489700875823 to 0.3\n",
      "2025-01-15 09:22:27.769Z cobraCoach       30 cobraCoach.py:679 Cobra#1460 is too close to center\n",
      "2025-01-15 09:22:27.773Z pfi              30 pfi.py:475 clipping scale adjustment from 0.2561286605203101 to 0.3\n",
      "2025-01-15 09:22:27.774Z pfi              30 pfi.py:475 clipping scale adjustment from 0.26154231110049525 to 0.3\n",
      "2025-01-15 09:22:27.786Z engineer         30 engineer.py:442 11 cobras did not finish: [ 343  442  492  737 1302 1459 1493 1538 1636 1789 1791], [4.67 4.67 4.67 4.67 4.67 0.82 4.67 4.67 4.67 4.2  4.67]\n",
      "2025-01-15 09:22:27.826Z pfi              40 pfi.py:896 Some theta angles are out of range\n",
      "2025-01-15 09:22:27.830Z pfi              40 pfi.py:899 Some phi angles are out of range\n",
      "2025-01-15 09:22:27.979Z pfi              40 pfi.py:896 Some theta angles are out of range\n",
      "2025-01-15 09:22:27.983Z pfi              40 pfi.py:899 Some phi angles are out of range\n",
      "2025-01-15 09:22:28.070Z pfi              40 pfi.py:896 Some theta angles are out of range\n",
      "2025-01-15 09:22:28.072Z pfi              40 pfi.py:899 Some phi angles are out of range\n",
      "2025-01-15 09:22:28.137Z pfi              40 pfi.py:896 Some theta angles are out of range\n",
      "2025-01-15 09:22:28.138Z pfi              40 pfi.py:899 Some phi angles are out of range\n",
      "2025-01-15 09:22:28.198Z pfi              40 pfi.py:896 Some theta angles are out of range\n",
      "2025-01-15 09:22:28.200Z pfi              40 pfi.py:899 Some phi angles are out of range\n",
      "2025-01-15 09:22:28.265Z pfi              40 pfi.py:896 Some theta angles are out of range\n",
      "2025-01-15 09:22:28.267Z pfi              40 pfi.py:899 Some phi angles are out of range\n",
      "2025-01-15 09:22:28.332Z pfi              40 pfi.py:896 Some theta angles are out of range\n",
      "2025-01-15 09:22:28.334Z pfi              40 pfi.py:899 Some phi angles are out of range\n",
      "2025-01-15 09:22:28.391Z pfi              40 pfi.py:896 Some theta angles are out of range\n",
      "2025-01-15 09:22:28.392Z pfi              40 pfi.py:899 Some phi angles are out of range\n",
      "2025-01-15 09:22:28.449Z pfi              40 pfi.py:930 Some theta angles are out of range\n",
      "2025-01-15 09:22:28.514Z pfi              40 pfi.py:930 Some theta angles are out of range\n",
      "2025-01-15 09:22:28.568Z pfi              40 pfi.py:930 Some theta angles are out of range\n",
      "2025-01-15 09:22:28.612Z pfi              40 pfi.py:930 Some theta angles are out of range\n",
      "2025-01-15 09:22:28.653Z pfi              40 pfi.py:930 Some theta angles are out of range\n",
      "2025-01-15 09:22:28.698Z pfi              40 pfi.py:930 Some theta angles are out of range\n",
      "2025-01-15 09:22:28.740Z pfi              40 pfi.py:930 Some theta angles are out of range\n",
      "2025-01-15 09:22:28.779Z pfi              40 pfi.py:930 Some theta angles are out of range\n"
     ]
    },
    {
     "name": "stdout",
     "output_type": "stream",
     "text": [
      "ERROR: detected end point collision, which should be impossible\n",
      "trajectory collisions found: 21\n",
      "Set parameter Presolve to value 1\n"
     ]
    },
    {
     "name": "stderr",
     "output_type": "stream",
     "text": [
      "2025-01-15 09:22:34.145Z gurobipy         20 netflow.py:117 Set parameter Presolve to value 1\n"
     ]
    },
    {
     "name": "stdout",
     "output_type": "stream",
     "text": [
      "Set parameter Method to value 4\n"
     ]
    },
    {
     "name": "stderr",
     "output_type": "stream",
     "text": [
      "2025-01-15 09:22:34.147Z gurobipy         20 netflow.py:117 Set parameter Method to value 4\n"
     ]
    },
    {
     "name": "stdout",
     "output_type": "stream",
     "text": [
      "Set parameter DegenMoves to value 0\n"
     ]
    },
    {
     "name": "stderr",
     "output_type": "stream",
     "text": [
      "2025-01-15 09:22:34.151Z gurobipy         20 netflow.py:117 Set parameter DegenMoves to value 0\n"
     ]
    },
    {
     "name": "stdout",
     "output_type": "stream",
     "text": [
      "Set parameter Heuristics to value 0.8\n"
     ]
    },
    {
     "name": "stderr",
     "output_type": "stream",
     "text": [
      "2025-01-15 09:22:34.159Z gurobipy         20 netflow.py:117 Set parameter Heuristics to value 0.8\n"
     ]
    },
    {
     "name": "stdout",
     "output_type": "stream",
     "text": [
      "Set parameter MIPGap to value 0.05\n"
     ]
    },
    {
     "name": "stderr",
     "output_type": "stream",
     "text": [
      "2025-01-15 09:22:34.161Z gurobipy         20 netflow.py:117 Set parameter MIPGap to value 0.05\n"
     ]
    },
    {
     "name": "stdout",
     "output_type": "stream",
     "text": [
      "Creating network topology\n",
      "  exposure 1\n",
      "Calculating visibilities\n",
      "adding constraints\n",
      "adding collision constraints\n",
      "adding forbidden pair constraints\n",
      "Gurobi Optimizer version 10.0.1 build v10.0.1rc0 (mac64[x86])\n"
     ]
    },
    {
     "name": "stderr",
     "output_type": "stream",
     "text": [
      "2025-01-15 09:22:57.979Z gurobipy         20 netflow.py:149 Gurobi Optimizer version 10.0.1 build v10.0.1rc0 (mac64[x86])\n"
     ]
    },
    {
     "name": "stdout",
     "output_type": "stream",
     "text": [
      "\n"
     ]
    },
    {
     "name": "stderr",
     "output_type": "stream",
     "text": [
      "2025-01-15 09:22:57.981Z gurobipy         20 netflow.py:149 \n"
     ]
    },
    {
     "name": "stdout",
     "output_type": "stream",
     "text": [
      "CPU model: Intel(R) Core(TM) i7-8569U CPU @ 2.80GHz\n"
     ]
    },
    {
     "name": "stderr",
     "output_type": "stream",
     "text": [
      "2025-01-15 09:22:57.983Z gurobipy         20 netflow.py:149 CPU model: Intel(R) Core(TM) i7-8569U CPU @ 2.80GHz\n"
     ]
    },
    {
     "name": "stdout",
     "output_type": "stream",
     "text": [
      "Thread count: 4 physical cores, 8 logical processors, using up to 8 threads\n"
     ]
    },
    {
     "name": "stderr",
     "output_type": "stream",
     "text": [
      "2025-01-15 09:22:57.985Z gurobipy         20 netflow.py:149 Thread count: 4 physical cores, 8 logical processors, using up to 8 threads\n"
     ]
    },
    {
     "name": "stdout",
     "output_type": "stream",
     "text": [
      "\n"
     ]
    },
    {
     "name": "stderr",
     "output_type": "stream",
     "text": [
      "2025-01-15 09:22:57.990Z gurobipy         20 netflow.py:149 \n"
     ]
    },
    {
     "name": "stdout",
     "output_type": "stream",
     "text": [
      "Academic license 2379863 - for non-commercial use only - registered to ji___@ipmu.jp\n"
     ]
    },
    {
     "name": "stderr",
     "output_type": "stream",
     "text": [
      "2025-01-15 09:22:57.999Z gurobipy         20 netflow.py:149 Academic license 2379863 - for non-commercial use only - registered to ji___@ipmu.jp\n"
     ]
    },
    {
     "name": "stdout",
     "output_type": "stream",
     "text": [
      "Optimize a model with 286549 rows, 139888 columns and 717135 nonzeros\n"
     ]
    },
    {
     "name": "stderr",
     "output_type": "stream",
     "text": [
      "2025-01-15 09:22:58.003Z gurobipy         20 netflow.py:149 Optimize a model with 286549 rows, 139888 columns and 717135 nonzeros\n"
     ]
    },
    {
     "name": "stdout",
     "output_type": "stream",
     "text": [
      "Model fingerprint: 0x3d4fae3e\n"
     ]
    },
    {
     "name": "stderr",
     "output_type": "stream",
     "text": [
      "2025-01-15 09:22:58.048Z gurobipy         20 netflow.py:149 Model fingerprint: 0x3d4fae3e\n"
     ]
    },
    {
     "name": "stdout",
     "output_type": "stream",
     "text": [
      "Variable types: 1 continuous, 139887 integer (124188 binary)\n"
     ]
    },
    {
     "name": "stderr",
     "output_type": "stream",
     "text": [
      "2025-01-15 09:22:58.057Z gurobipy         20 netflow.py:149 Variable types: 1 continuous, 139887 integer (124188 binary)\n"
     ]
    },
    {
     "name": "stdout",
     "output_type": "stream",
     "text": [
      "Coefficient statistics:\n"
     ]
    },
    {
     "name": "stderr",
     "output_type": "stream",
     "text": [
      "2025-01-15 09:22:58.066Z gurobipy         20 netflow.py:149 Coefficient statistics:\n"
     ]
    },
    {
     "name": "stdout",
     "output_type": "stream",
     "text": [
      "  Matrix range     [1e+00, 1e+00]\n"
     ]
    },
    {
     "name": "stderr",
     "output_type": "stream",
     "text": [
      "2025-01-15 09:22:58.068Z gurobipy         20 netflow.py:149   Matrix range     [1e+00, 1e+00]\n"
     ]
    },
    {
     "name": "stdout",
     "output_type": "stream",
     "text": [
      "  Objective range  [6e-05, 1e+06]\n"
     ]
    },
    {
     "name": "stderr",
     "output_type": "stream",
     "text": [
      "2025-01-15 09:22:58.071Z gurobipy         20 netflow.py:149   Objective range  [6e-05, 1e+06]\n"
     ]
    },
    {
     "name": "stdout",
     "output_type": "stream",
     "text": [
      "  Bounds range     [1e+00, 1e+00]\n"
     ]
    },
    {
     "name": "stderr",
     "output_type": "stream",
     "text": [
      "2025-01-15 09:22:58.075Z gurobipy         20 netflow.py:149   Bounds range     [1e+00, 1e+00]\n"
     ]
    },
    {
     "name": "stdout",
     "output_type": "stream",
     "text": [
      "  RHS range        [1e+00, 2e+04]\n"
     ]
    },
    {
     "name": "stderr",
     "output_type": "stream",
     "text": [
      "2025-01-15 09:22:58.080Z gurobipy         20 netflow.py:149   RHS range        [1e+00, 2e+04]\n"
     ]
    },
    {
     "name": "stdout",
     "output_type": "stream",
     "text": [
      "Found heuristic solution: objective 6.031392e+08\n"
     ]
    },
    {
     "name": "stderr",
     "output_type": "stream",
     "text": [
      "2025-01-15 09:22:58.197Z gurobipy         20 netflow.py:149 Found heuristic solution: objective 6.031392e+08\n"
     ]
    },
    {
     "name": "stdout",
     "output_type": "stream",
     "text": [
      "Presolve removed 285747 rows and 136842 columns\n"
     ]
    },
    {
     "name": "stderr",
     "output_type": "stream",
     "text": [
      "2025-01-15 09:22:59.898Z gurobipy         20 netflow.py:149 Presolve removed 285747 rows and 136842 columns\n"
     ]
    },
    {
     "name": "stdout",
     "output_type": "stream",
     "text": [
      "Presolve time: 1.70s\n"
     ]
    },
    {
     "name": "stderr",
     "output_type": "stream",
     "text": [
      "2025-01-15 09:22:59.900Z gurobipy         20 netflow.py:149 Presolve time: 1.70s\n"
     ]
    },
    {
     "name": "stdout",
     "output_type": "stream",
     "text": [
      "Presolved: 802 rows, 3046 columns, 4663 nonzeros\n"
     ]
    },
    {
     "name": "stderr",
     "output_type": "stream",
     "text": [
      "2025-01-15 09:22:59.918Z gurobipy         20 netflow.py:149 Presolved: 802 rows, 3046 columns, 4663 nonzeros\n"
     ]
    },
    {
     "name": "stdout",
     "output_type": "stream",
     "text": [
      "Found heuristic solution: objective 6.007263e+08\n"
     ]
    },
    {
     "name": "stderr",
     "output_type": "stream",
     "text": [
      "2025-01-15 09:22:59.937Z gurobipy         20 netflow.py:149 Found heuristic solution: objective 6.007263e+08\n"
     ]
    },
    {
     "name": "stdout",
     "output_type": "stream",
     "text": [
      "Variable types: 0 continuous, 3046 integer (3044 binary)\n"
     ]
    },
    {
     "name": "stderr",
     "output_type": "stream",
     "text": [
      "2025-01-15 09:22:59.940Z gurobipy         20 netflow.py:149 Variable types: 0 continuous, 3046 integer (3044 binary)\n"
     ]
    },
    {
     "name": "stdout",
     "output_type": "stream",
     "text": [
      "Found heuristic solution: objective 5.987263e+08\n"
     ]
    },
    {
     "name": "stderr",
     "output_type": "stream",
     "text": [
      "2025-01-15 09:22:59.948Z gurobipy         20 netflow.py:149 Found heuristic solution: objective 5.987263e+08\n"
     ]
    },
    {
     "name": "stdout",
     "output_type": "stream",
     "text": [
      "Deterministic concurrent LP optimizer: dual simplex and barrier\n"
     ]
    },
    {
     "name": "stderr",
     "output_type": "stream",
     "text": [
      "2025-01-15 09:22:59.954Z gurobipy         20 netflow.py:149 Deterministic concurrent LP optimizer: dual simplex and barrier\n"
     ]
    },
    {
     "name": "stdout",
     "output_type": "stream",
     "text": [
      "Showing barrier log only...\n"
     ]
    },
    {
     "name": "stderr",
     "output_type": "stream",
     "text": [
      "2025-01-15 09:22:59.957Z gurobipy         20 netflow.py:149 Showing barrier log only...\n"
     ]
    },
    {
     "name": "stdout",
     "output_type": "stream",
     "text": [
      "\n"
     ]
    },
    {
     "name": "stderr",
     "output_type": "stream",
     "text": [
      "2025-01-15 09:22:59.961Z gurobipy         20 netflow.py:149 \n"
     ]
    },
    {
     "name": "stdout",
     "output_type": "stream",
     "text": [
      "Root barrier log...\n"
     ]
    },
    {
     "name": "stderr",
     "output_type": "stream",
     "text": [
      "2025-01-15 09:22:59.969Z gurobipy         20 netflow.py:149 Root barrier log...\n"
     ]
    },
    {
     "name": "stdout",
     "output_type": "stream",
     "text": [
      "\n"
     ]
    },
    {
     "name": "stderr",
     "output_type": "stream",
     "text": [
      "2025-01-15 09:22:59.972Z gurobipy         20 netflow.py:149 \n"
     ]
    },
    {
     "name": "stdout",
     "output_type": "stream",
     "text": [
      "Ordering time: 0.00s\n"
     ]
    },
    {
     "name": "stderr",
     "output_type": "stream",
     "text": [
      "2025-01-15 09:22:59.975Z gurobipy         20 netflow.py:149 Ordering time: 0.00s\n"
     ]
    },
    {
     "name": "stdout",
     "output_type": "stream",
     "text": [
      "\n"
     ]
    },
    {
     "name": "stderr",
     "output_type": "stream",
     "text": [
      "2025-01-15 09:22:59.981Z gurobipy         20 netflow.py:149 \n"
     ]
    },
    {
     "name": "stdout",
     "output_type": "stream",
     "text": [
      "Barrier statistics:\n"
     ]
    },
    {
     "name": "stderr",
     "output_type": "stream",
     "text": [
      "2025-01-15 09:22:59.992Z gurobipy         20 netflow.py:149 Barrier statistics:\n"
     ]
    },
    {
     "name": "stdout",
     "output_type": "stream",
     "text": [
      " AA' NZ     : 1.734e+03\n"
     ]
    },
    {
     "name": "stderr",
     "output_type": "stream",
     "text": [
      "2025-01-15 09:22:59.997Z gurobipy         20 netflow.py:149  AA' NZ     : 1.734e+03\n"
     ]
    },
    {
     "name": "stdout",
     "output_type": "stream",
     "text": [
      " Factor NZ  : 3.482e+03 (roughly 2 MB of memory)\n"
     ]
    },
    {
     "name": "stderr",
     "output_type": "stream",
     "text": [
      "2025-01-15 09:23:00.000Z gurobipy         20 netflow.py:149  Factor NZ  : 3.482e+03 (roughly 2 MB of memory)\n"
     ]
    },
    {
     "name": "stdout",
     "output_type": "stream",
     "text": [
      " Factor Ops : 2.365e+04 (less than 1 second per iteration)\n"
     ]
    },
    {
     "name": "stderr",
     "output_type": "stream",
     "text": [
      "2025-01-15 09:23:00.002Z gurobipy         20 netflow.py:149  Factor Ops : 2.365e+04 (less than 1 second per iteration)\n"
     ]
    },
    {
     "name": "stdout",
     "output_type": "stream",
     "text": [
      " Threads    : 1\n"
     ]
    },
    {
     "name": "stderr",
     "output_type": "stream",
     "text": [
      "2025-01-15 09:23:00.005Z gurobipy         20 netflow.py:149  Threads    : 1\n"
     ]
    },
    {
     "name": "stdout",
     "output_type": "stream",
     "text": [
      "\n"
     ]
    },
    {
     "name": "stderr",
     "output_type": "stream",
     "text": [
      "2025-01-15 09:23:00.015Z gurobipy         20 netflow.py:149 \n"
     ]
    },
    {
     "name": "stdout",
     "output_type": "stream",
     "text": [
      "                  Objective                Residual\n"
     ]
    },
    {
     "name": "stderr",
     "output_type": "stream",
     "text": [
      "2025-01-15 09:23:00.019Z gurobipy         20 netflow.py:149                   Objective                Residual\n"
     ]
    },
    {
     "name": "stdout",
     "output_type": "stream",
     "text": [
      "Iter       Primal          Dual         Primal    Dual     Compl     Time\n"
     ]
    },
    {
     "name": "stderr",
     "output_type": "stream",
     "text": [
      "2025-01-15 09:23:00.043Z gurobipy         20 netflow.py:149 Iter       Primal          Dual         Primal    Dual     Compl     Time\n"
     ]
    },
    {
     "name": "stdout",
     "output_type": "stream",
     "text": [
      "   0   3.96372073e+08 -3.17651741e+09  2.58e+01 3.87e+04  3.64e+07     2s\n"
     ]
    },
    {
     "name": "stderr",
     "output_type": "stream",
     "text": [
      "2025-01-15 09:23:00.049Z gurobipy         20 netflow.py:149    0   3.96372073e+08 -3.17651741e+09  2.58e+01 3.87e+04  3.64e+07     2s\n"
     ]
    },
    {
     "name": "stdout",
     "output_type": "stream",
     "text": [
      "\n"
     ]
    },
    {
     "name": "stderr",
     "output_type": "stream",
     "text": [
      "2025-01-15 09:23:00.053Z gurobipy         20 netflow.py:149 \n"
     ]
    },
    {
     "name": "stdout",
     "output_type": "stream",
     "text": [
      "Barrier performed 0 iterations in 2.06 seconds (0.69 work units)\n"
     ]
    },
    {
     "name": "stderr",
     "output_type": "stream",
     "text": [
      "2025-01-15 09:23:00.056Z gurobipy         20 netflow.py:149 Barrier performed 0 iterations in 2.06 seconds (0.69 work units)\n"
     ]
    },
    {
     "name": "stdout",
     "output_type": "stream",
     "text": [
      "Barrier solve interrupted - model solved by another algorithm\n"
     ]
    },
    {
     "name": "stderr",
     "output_type": "stream",
     "text": [
      "2025-01-15 09:23:00.059Z gurobipy         20 netflow.py:149 Barrier solve interrupted - model solved by another algorithm\n"
     ]
    },
    {
     "name": "stdout",
     "output_type": "stream",
     "text": [
      "\n"
     ]
    },
    {
     "name": "stderr",
     "output_type": "stream",
     "text": [
      "2025-01-15 09:23:00.063Z gurobipy         20 netflow.py:149 \n"
     ]
    },
    {
     "name": "stdout",
     "output_type": "stream",
     "text": [
      "Concurrent spin time: 0.09s\n"
     ]
    },
    {
     "name": "stderr",
     "output_type": "stream",
     "text": [
      "2025-01-15 09:23:00.065Z gurobipy         20 netflow.py:149 Concurrent spin time: 0.09s\n"
     ]
    },
    {
     "name": "stdout",
     "output_type": "stream",
     "text": [
      "\n"
     ]
    },
    {
     "name": "stderr",
     "output_type": "stream",
     "text": [
      "2025-01-15 09:23:00.069Z gurobipy         20 netflow.py:149 \n"
     ]
    },
    {
     "name": "stdout",
     "output_type": "stream",
     "text": [
      "Solved with dual simplex\n"
     ]
    },
    {
     "name": "stderr",
     "output_type": "stream",
     "text": [
      "2025-01-15 09:23:00.076Z gurobipy         20 netflow.py:149 Solved with dual simplex\n"
     ]
    },
    {
     "name": "stdout",
     "output_type": "stream",
     "text": [
      "\n"
     ]
    },
    {
     "name": "stderr",
     "output_type": "stream",
     "text": [
      "2025-01-15 09:23:00.089Z gurobipy         20 netflow.py:149 \n"
     ]
    },
    {
     "name": "stdout",
     "output_type": "stream",
     "text": [
      "Root relaxation: objective 2.805053e+06, 117 iterations, 0.13 seconds (0.00 work units)\n"
     ]
    },
    {
     "name": "stderr",
     "output_type": "stream",
     "text": [
      "2025-01-15 09:23:00.092Z gurobipy         20 netflow.py:149 Root relaxation: objective 2.805053e+06, 117 iterations, 0.13 seconds (0.00 work units)\n"
     ]
    },
    {
     "name": "stdout",
     "output_type": "stream",
     "text": [
      "\n"
     ]
    },
    {
     "name": "stderr",
     "output_type": "stream",
     "text": [
      "2025-01-15 09:23:00.104Z gurobipy         20 netflow.py:149 \n"
     ]
    },
    {
     "name": "stdout",
     "output_type": "stream",
     "text": [
      "    Nodes    |    Current Node    |     Objective Bounds      |     Work\n"
     ]
    },
    {
     "name": "stderr",
     "output_type": "stream",
     "text": [
      "2025-01-15 09:23:00.107Z gurobipy         20 netflow.py:149     Nodes    |    Current Node    |     Objective Bounds      |     Work\n"
     ]
    },
    {
     "name": "stdout",
     "output_type": "stream",
     "text": [
      " Expl Unexpl |  Obj  Depth IntInf | Incumbent    BestBd   Gap | It/Node Time\n"
     ]
    },
    {
     "name": "stderr",
     "output_type": "stream",
     "text": [
      "2025-01-15 09:23:00.110Z gurobipy         20 netflow.py:149  Expl Unexpl |  Obj  Depth IntInf | Incumbent    BestBd   Gap | It/Node Time\n"
     ]
    },
    {
     "name": "stdout",
     "output_type": "stream",
     "text": [
      "\n"
     ]
    },
    {
     "name": "stderr",
     "output_type": "stream",
     "text": [
      "2025-01-15 09:23:00.112Z gurobipy         20 netflow.py:149 \n"
     ]
    },
    {
     "name": "stdout",
     "output_type": "stream",
     "text": [
      "*    0     0               0    2805052.6770 2805052.68  0.00%     -    2s\n"
     ]
    },
    {
     "name": "stderr",
     "output_type": "stream",
     "text": [
      "2025-01-15 09:23:00.115Z gurobipy         20 netflow.py:149 *    0     0               0    2805052.6770 2805052.68  0.00%     -    2s\n"
     ]
    },
    {
     "name": "stdout",
     "output_type": "stream",
     "text": [
      "\n"
     ]
    },
    {
     "name": "stderr",
     "output_type": "stream",
     "text": [
      "2025-01-15 09:23:00.147Z gurobipy         20 netflow.py:149 \n"
     ]
    },
    {
     "name": "stdout",
     "output_type": "stream",
     "text": [
      "Explored 1 nodes (117 simplex iterations) in 2.15 seconds (0.69 work units)\n"
     ]
    },
    {
     "name": "stderr",
     "output_type": "stream",
     "text": [
      "2025-01-15 09:23:00.150Z gurobipy         20 netflow.py:149 Explored 1 nodes (117 simplex iterations) in 2.15 seconds (0.69 work units)\n"
     ]
    },
    {
     "name": "stdout",
     "output_type": "stream",
     "text": [
      "Thread count was 8 (of 8 available processors)\n"
     ]
    },
    {
     "name": "stderr",
     "output_type": "stream",
     "text": [
      "2025-01-15 09:23:00.152Z gurobipy         20 netflow.py:149 Thread count was 8 (of 8 available processors)\n"
     ]
    },
    {
     "name": "stdout",
     "output_type": "stream",
     "text": [
      "\n"
     ]
    },
    {
     "name": "stderr",
     "output_type": "stream",
     "text": [
      "2025-01-15 09:23:00.163Z gurobipy         20 netflow.py:149 \n"
     ]
    },
    {
     "name": "stdout",
     "output_type": "stream",
     "text": [
      "Solution count 4: 2.80505e+06 5.98726e+08 6.00726e+08 6.03139e+08 \n"
     ]
    },
    {
     "name": "stderr",
     "output_type": "stream",
     "text": [
      "2025-01-15 09:23:00.171Z gurobipy         20 netflow.py:149 Solution count 4: 2.80505e+06 5.98726e+08 6.00726e+08 6.03139e+08 \n"
     ]
    },
    {
     "name": "stdout",
     "output_type": "stream",
     "text": [
      "\n"
     ]
    },
    {
     "name": "stderr",
     "output_type": "stream",
     "text": [
      "2025-01-15 09:23:00.175Z gurobipy         20 netflow.py:149 \n"
     ]
    },
    {
     "name": "stdout",
     "output_type": "stream",
     "text": [
      "Optimal solution found (tolerance 5.00e-02)\n"
     ]
    },
    {
     "name": "stderr",
     "output_type": "stream",
     "text": [
      "2025-01-15 09:23:00.178Z gurobipy         20 netflow.py:149 Optimal solution found (tolerance 5.00e-02)\n"
     ]
    },
    {
     "name": "stdout",
     "output_type": "stream",
     "text": [
      "Best objective 2.805052677040e+06, best bound 2.805052677040e+06, gap 0.0000%\n"
     ]
    },
    {
     "name": "stderr",
     "output_type": "stream",
     "text": [
      "2025-01-15 09:23:00.196Z gurobipy         20 netflow.py:149 Best objective 2.805052677040e+06, best bound 2.805052677040e+06, gap 0.0000%\n",
      "2025-01-15 09:23:00.540Z pfi              40 pfi.py:896 Some theta angles are out of range\n",
      "2025-01-15 09:23:00.542Z pfi              40 pfi.py:899 Some phi angles are out of range\n",
      "2025-01-15 09:23:00.691Z pfi              40 pfi.py:899 Some phi angles are out of range\n"
     ]
    }
   ],
   "source": [
    "'''\n",
    "Comment: can not get results without trajectory collision even if I run the code for more than 10 minutes\n",
    "---------------------------------------------------------------------------\n",
    "ERROR: detected end point collision, which should be impossible\n",
    "trajectory collisions found: 4\n",
    "'''\n",
    "run_main(peaks, tgt, classdict, alreadyObserved, two_stage=two_stage, collision_sim_version=collision_sim_version, bench=bench, cobracoach=cobracoach, gurobiOptions=gurobiOptions, tele_params=tele_params)"
   ]
  },
  {
   "cell_type": "code",
   "execution_count": null,
   "metadata": {},
   "outputs": [],
   "source": []
  },
  {
   "cell_type": "code",
   "execution_count": 10,
   "metadata": {},
   "outputs": [],
   "source": [
    "#tclassdict = {'sci_P1' : 1, 'sky' : 2, 'cal' : 3}\n",
    "#write_pfsDesign(outdir, 'pfsDesign_region3_3h_v1.txt', res, tpos, telescopes, tgt, classdict)"
   ]
  },
  {
   "cell_type": "markdown",
   "metadata": {},
   "source": [
    "# TO-DO Lists\n",
    "+ fix the problem of gurobi.lic in py_env_co_fa\n",
    "+ update the target list after each observation\n",
    "+ second visit, pointing center shift to avoid vignetting \n",
    "+ longer exposure option for second visit\n",
    "+ (DONE!) remove the calibration targets in AlreadyObserved dict\n",
    "\n",
    "+ (DONE!) CollisionSimulator versus SollisionSimulator2? \n",
    "+ cobra home position and collision simulator? \n",
    "+ generate 1h pfsDesign file using the code block above (CO will use first 6-8 hours)\n",
    "+ (DONE!) (Q: iPS1 mag>18 is ok?) apply magnitude cut on bright stars\n",
    ">>> Wanqiu: fainter than 16 (18 might be safer choice according to Andy)\n",
    "+ (DONE) increase the sky/star fibers\n",
    ">>> Masayuki - FLUXSTDs: 100-200 stars are good. Please distribute these stars uniformly across the field. \n",
    "\n",
    "+ fiberStatus? -- bad fibers and bad Cobra\n",
    "+ apply bright star mask to sky/stars\n",
    "+ generate uniform sky/star fiber assignment \n",
    ">>> Masato Onodera - I don't think I can put my script to check the uniformity of the distributions of sky and fluxstd objects against the home positions of science fibers. Please see the following gist how it's made. It uses dcor package for the comparsion, so making your own should be simple.\n",
    "For the GA Fornax design, there is no configuration with p<0.05 (if my calculation is right).\n",
    "https://gist.github.com/monodera/4c6fef2ce6a8370338250cd78ac78f26\n",
    "\n",
    ">>> refer GA group code -\n",
    "https://github.com/Subaru-PFS-GA/ga_targeting/blob/master/nb/examples/netflow/8_cobra_groups.ipynb\n",
    "\n"
   ]
  },
  {
   "cell_type": "markdown",
   "metadata": {},
   "source": [
    "# check list for the observatory Target Uploader\n",
    "+ CO netflow output targets all get a fiber assigned (test myself - use output as an input, all targets have the same cost)\n",
    "+ two stage == different cost (same sky coverage)?\n",
    "+ CO needs to track the status of the target list and instrument\n",
    "+ if different otime is used, how many targets (sci, sky, star separately) will be missed? (test myself - use output as an input)\n",
    "\n"
   ]
  },
  {
   "cell_type": "code",
   "execution_count": null,
   "metadata": {},
   "outputs": [],
   "source": []
  },
  {
   "cell_type": "markdown",
   "metadata": {},
   "source": []
  }
 ],
 "metadata": {
  "kernelspec": {
   "display_name": "Python 3 (ipykernel)",
   "language": "python",
   "name": "python3"
  },
  "language_info": {
   "codemirror_mode": {
    "name": "ipython",
    "version": 3
   },
   "file_extension": ".py",
   "mimetype": "text/x-python",
   "name": "python",
   "nbconvert_exporter": "python",
   "pygments_lexer": "ipython3",
   "version": "3.10.9"
  }
 },
 "nbformat": 4,
 "nbformat_minor": 4
}
