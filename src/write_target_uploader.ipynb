{
 "cells": [
  {
   "cell_type": "code",
   "execution_count": 1,
   "metadata": {},
   "outputs": [],
   "source": [
    "from astropy.io import fits, ascii\n",
    "import numpy as np\n",
    "import matplotlib.pyplot as plt"
   ]
  },
  {
   "cell_type": "code",
   "execution_count": null,
   "metadata": {},
   "outputs": [],
   "source": [
    "'''\n",
    "catId\n",
    "  A small integer specifying the source of the objId.  Currently the following catIds are defined.\n",
    "\n",
    "    catId |  description\n",
    "   -------|--------------------------------------------------\n",
    "        0 | Simulated catalog\n",
    "        1 | Gaia Data Release 1\n",
    "        2 | Gaia Data Release 2\n",
    "        3 | Gaia Early Data Release 3\n",
    "        4 | Gaia Data Release 3\n",
    "        5 | HSC-SSP Public Data Release 1 (Wide)\n",
    "        6 | HSC-SSP Public Data Release 1 (Deep+UltraDeep)\n",
    "        7 | HSC-SSP Public Data Release 2 (Wide)\n",
    "        8 | HSC-SSP Public Data Release 2 (Deep+UltraDeep)\n",
    "        9 | HSC-SSP Public Data Release 3 (Wide)\n",
    "       10 | HSC-SSP Public Data Release 3 (Deep+UltraDeep)\n",
    "       11 | HSC-SSP Public Data Release 4 (Wide)\n",
    "       12 | HSC-SSP Public Data Release 4 (Deep+UltraDeep)\n",
    "     1001 | Sky positions from S21A HSC-SSP (Wide)\n",
    "     1002 | Sky positions from PS1\n",
    "     1003 | Sky positions from Gaia\n",
    "     1004 | Sky positions for regions without PS1 data\n",
    "    90001 | Messier 15 stars for the engineering observation\n",
    "    90002 | NGC1904 for the engineering run in November 2022\n",
    "    90003 | NGC2419 for the engineering run in November 2022\n",
    "    90004 | NGC5272 for the engineering run in February 2023\n",
    "    90005 | NGC5904 for the engineering run in February 2023\n",
    "    90006 | NGC7078 for the engineering run in July 2023\n",
    "    90007 | NGC7089 for the engineering run in July 2023\n",
    "    90008 | NGC7099 for the engineering run in July 2023\n",
    "\n",
    "Comment: The combination of catId  and obj_id must be unique within one design.\n",
    "\n",
    "Target uploader requirement:\n",
    "https://pfs-etc.naoj.hawaii.edu/uploader/doc/inputs.html\n",
    "\n",
    "ob_code, obj_id, obj_type, ra, dec, pmra, pmdec, epoch, exptime, priority, resolution, reference_arm, g_ps1, g_ps1_error\n",
    "'''"
   ]
  },
  {
   "cell_type": "code",
   "execution_count": 2,
   "metadata": {},
   "outputs": [],
   "source": [
    "# TODO: make this function useful for one/multiple pointings, plot the cosmology, star, sky and ancillary targets using different colors\n",
    "def plot_tgt_done(outfn_list, figname, figsize=(8, 8), plot_diffcolor=True):\n",
    "    '''\n",
    "    plot the targets that have been assigned to the fibers\n",
    "    '''\n",
    "    for i, fn_i in enumerate(outfn_list):\n",
    "        tgt_id_done, tgt_ra_done, tgt_dec_done = np.loadtxt(fn_i, usecols=(0, 4, 5), unpack=True, dtype='str')\n",
    "        tgt_ra_done, tgt_dec_done = tgt_ra_done.astype('float'), tgt_dec_done.astype('float')\n",
    "\n",
    "        mask_cos = [tgt_id_done[i][1:4] == 'Cos' for i in range(len(tgt_id_done))]\n",
    "        mask_star = [tgt_id_done[i][1:4] == 'Sta' for i in range(len(tgt_id_done))]\n",
    "        mask_sky = [tgt_id_done[i][1:4] == 'Sky' for i in range(len(tgt_id_done))]\n",
    "        mask_anc = [tgt_id_done[i][1:4] == 'Anc' for i in range(len(tgt_id_done))]\n",
    "\n",
    "        if(plot_diffcolor):\n",
    "            if(i==0): \n",
    "                plt.figure(figsize = figsize)\n",
    "                plt.plot(tgt_ra_done[mask_cos], tgt_dec_done[mask_cos], 'k.', ms=0.5, alpha=0.5, label='cosmology')\n",
    "                plt.plot(tgt_ra_done[mask_star], tgt_dec_done[mask_star], 'r*', ms=1.5, alpha=1., label='star')\n",
    "                plt.plot(tgt_ra_done[mask_sky], tgt_dec_done[mask_sky], 'b^', ms=1.5, alpha=1., label='sky')\n",
    "                plt.plot(tgt_ra_done[mask_anc], tgt_dec_done[mask_anc], 'gs', ms=1.5, alpha=1., label='ancillary')\n",
    "            else:\n",
    "                plt.plot(tgt_ra_done[mask_cos], tgt_dec_done[mask_cos], 'k.', ms=0.5, alpha=0.5)\n",
    "                plt.plot(tgt_ra_done[mask_star], tgt_dec_done[mask_star], 'r*', ms=1.5, alpha=1.)\n",
    "                plt.plot(tgt_ra_done[mask_sky], tgt_dec_done[mask_sky], 'b^', ms=1.5, alpha=1.)\n",
    "                plt.plot(tgt_ra_done[mask_anc], tgt_dec_done[mask_anc], 'gs', ms=1.5, alpha=1.)\n",
    "        else:\n",
    "            if(i==0): \n",
    "                plt.figure(figsize = figsize)\n",
    "                plt.plot(tgt_ra_done, tgt_dec_done, 'k.', ms=0.5, alpha=0.5, label='targets done')\n",
    "            else:\n",
    "                plt.plot(tgt_ra_done, tgt_dec_done, 'k.', ms=0.5, alpha=0.5)\n",
    "\n",
    "    plt.legend(loc='upper right', fontsize=15, frameon=True)\n",
    "    plt.xlabel('RA', fontsize=15)\n",
    "    plt.ylabel('DEC', fontsize=15)\n",
    "    plt.savefig(figname, dpi=300, bbox_inches='tight')\n",
    "    plt.show()\n",
    "    plt.close()"
   ]
  },
  {
   "cell_type": "markdown",
   "metadata": {},
   "source": [
    "# get the target list from netflow output and original cosmology target list\n",
    "+ for each figure configuration\n",
    "+ star catalog - flux is in nJy? or Jy?\n",
    "+ sky catalog - flux is missing"
   ]
  },
  {
   "cell_type": "code",
   "execution_count": 5,
   "metadata": {},
   "outputs": [],
   "source": [
    "fdir_raw_Jan25 = '../data_raw/Jan25/'\n",
    "prefix_org = 'cmx_01222025_DESI-ELG_'\n",
    "outdir_Jan25 = '../output/Jan25/' \n",
    "fdir_proc_Jan25 = '../data_proc/Jan25/'\n",
    "prefix = ''\n",
    "\n",
    "# HST(UTC-10) Jan 22 20:00 for field a and b, same for both visits\n",
    "otime_list = ['2025-01-23T06:00:00Z', '2025-01-23T06:00:00Z']\n",
    "\n",
    "#for field, Li_list, otime in zip(['a', 'b'], [['L1', 'L3', 'L4'], ['L1', 'L2', 'L3']], otime_list):\n",
    "for field, Li_list, otime in zip(['a', ], [['L1', 'L3', 'L4'], ], ['2025-01-23T06:00:00Z', ]):\n",
    "    infn_list = []\n",
    "    # read original cosmology targets\n",
    "    data_cos = ascii.read(fdir_raw_Jan25 + prefix_org + 'field-{}_v{}.csv'.format(field, 1))\n",
    "    # read processed star targets\n",
    "    data_star = ascii.read(fdir_proc_Jan25 + 'star_field_{}_targets.ecsv'.format(field))\n",
    "    # read processed sky targets\n",
    "    data_sky = ascii.read(fdir_proc_Jan25 + 'sky_field_{}_targets.ecsv'.format(field))\n",
    "\n",
    "    # read netflow output\n",
    "    for Li in Li_list[:1]:\n",
    "        for visit in [1, 2][:1]:\n",
    "            infn = prefix + 'field_%s_%s_visit%d.txt'%(field, Li, visit)\n",
    "            infn_list.append(outdir_Jan25+infn)\n",
    "        \n",
    "        tgt_id_done = np.loadtxt(outdir_Jan25+infn, usecols=(0, ), unpack=True, dtype='str')\n",
    "        # match the tgt_id_done cosmology with the original cosmology targets\n",
    "        mask_cos = np.in1d(data_cos['obj_id'], tgt_id_done)\n",
    "        # match the tgt_id_done star with the processed star targets\n",
    "        mask_star = np.in1d(data_star['obj_id'], tgt_id_done)\n",
    "        # match the tgt_id_done sky with the processed sky targets\n",
    "        mask_sky = np.in1d(data_sky['obj_id'], tgt_id_done)\n",
    "        print('field %s, Li %s, visit %d, cosmology %d, star %d, sky %d'%(field, Li, visit, np.sum(mask_cos), np.sum(mask_star), np.sum(mask_sky)))\n",
    "\n",
    "        # create obj_code for the targets\n",
    "        \n",
    "        # write all the matched targets to the final file\n",
    "\n",
    "\n",
    "    figname = outdir_Jan25+prefix+'fiberassign_'+field+'_done.png'\n",
    "    #plot_tgt_done(infn_list, figname, figsize=(8, 8), plot_diffcolor=True)"
   ]
  },
  {
   "cell_type": "code",
   "execution_count": 12,
   "metadata": {},
   "outputs": [
    {
     "data": {
      "text/plain": [
       "array(['_Star_2490093051763096192', '_Cos_38558236403591600',\n",
       "       '_Sky_2841082372', ..., '_Cos_38558116144481460',\n",
       "       '_Cos_38558116144482646', '_Cos_38558116144502435'], dtype='<U25')"
      ]
     },
     "execution_count": 12,
     "metadata": {},
     "output_type": "execute_result"
    }
   ],
   "source": [
    "tgt_id_done"
   ]
  },
  {
   "cell_type": "code",
   "execution_count": 13,
   "metadata": {},
   "outputs": [
    {
     "data": {
      "text/html": [
       "&lt;Column name=&apos;obj_id&apos; dtype=&apos;int64&apos; length=199969&gt;\n",
       "<table>\n",
       "<tr><td>36429049316264247</td></tr>\n",
       "<tr><td>36429049316252412</td></tr>\n",
       "<tr><td>36429186755218807</td></tr>\n",
       "<tr><td>36429186755219312</td></tr>\n",
       "<tr><td>36429186755220301</td></tr>\n",
       "<tr><td>36434546874405703</td></tr>\n",
       "<tr><td>36429049316266601</td></tr>\n",
       "<tr><td>36429053611231014</td></tr>\n",
       "<tr><td>36429049316265098</td></tr>\n",
       "<tr><td>36429186755216222</td></tr>\n",
       "<tr><td>36429186755220500</td></tr>\n",
       "<tr><td>36429053611231537</td></tr>\n",
       "<tr><td>...</td></tr>\n",
       "<tr><td>39627502871661887</td></tr>\n",
       "<tr><td>39627502871661963</td></tr>\n",
       "<tr><td>39627502871662029</td></tr>\n",
       "<tr><td>39627502871662110</td></tr>\n",
       "<tr><td>39627502871662135</td></tr>\n",
       "<tr><td>39627502871662166</td></tr>\n",
       "<tr><td>39627502871662175</td></tr>\n",
       "<tr><td>39627502871662304</td></tr>\n",
       "<tr><td>39627502871662350</td></tr>\n",
       "<tr><td>39627502871662370</td></tr>\n",
       "<tr><td>39627502871662373</td></tr>\n",
       "<tr><td>39627502871662387</td></tr>\n",
       "</table>"
      ],
      "text/plain": [
       "<Column name='obj_id' dtype='int64' length=199969>\n",
       "36429049316264247\n",
       "36429049316252412\n",
       "36429186755218807\n",
       "36429186755219312\n",
       "36429186755220301\n",
       "36434546874405703\n",
       "36429049316266601\n",
       "36429053611231014\n",
       "36429049316265098\n",
       "36429186755216222\n",
       "36429186755220500\n",
       "36429053611231537\n",
       "              ...\n",
       "39627502871661887\n",
       "39627502871661963\n",
       "39627502871662029\n",
       "39627502871662110\n",
       "39627502871662135\n",
       "39627502871662166\n",
       "39627502871662175\n",
       "39627502871662304\n",
       "39627502871662350\n",
       "39627502871662370\n",
       "39627502871662373\n",
       "39627502871662387"
      ]
     },
     "execution_count": 13,
     "metadata": {},
     "output_type": "execute_result"
    }
   ],
   "source": [
    "data_cos['obj_id']"
   ]
  },
  {
   "cell_type": "code",
   "execution_count": null,
   "metadata": {},
   "outputs": [],
   "source": []
  }
 ],
 "metadata": {
  "kernelspec": {
   "display_name": "base",
   "language": "python",
   "name": "python3"
  },
  "language_info": {
   "codemirror_mode": {
    "name": "ipython",
    "version": 3
   },
   "file_extension": ".py",
   "mimetype": "text/x-python",
   "name": "python",
   "nbconvert_exporter": "python",
   "pygments_lexer": "ipython3",
   "version": "3.10.9"
  }
 },
 "nbformat": 4,
 "nbformat_minor": 2
}
