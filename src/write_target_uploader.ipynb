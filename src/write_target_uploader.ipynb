{
 "cells": [
  {
   "cell_type": "code",
   "execution_count": 19,
   "metadata": {},
   "outputs": [],
   "source": [
    "from astropy.io import fits, ascii\n",
    "import numpy as np\n",
    "import matplotlib.pyplot as plt\n",
    "from utils.common_imports import np, time, plt, fits, Table, new_colors"
   ]
  },
  {
   "cell_type": "code",
   "execution_count": null,
   "metadata": {},
   "outputs": [],
   "source": [
    "'''\n",
    "catId\n",
    "  A small integer specifying the source of the objId.  Currently the following catIds are defined.\n",
    "\n",
    "    catId |  description\n",
    "   -------|--------------------------------------------------\n",
    "        0 | Simulated catalog\n",
    "        1 | Gaia Data Release 1\n",
    "        2 | Gaia Data Release 2\n",
    "        3 | Gaia Early Data Release 3\n",
    "        4 | Gaia Data Release 3\n",
    "        5 | HSC-SSP Public Data Release 1 (Wide)\n",
    "        6 | HSC-SSP Public Data Release 1 (Deep+UltraDeep)\n",
    "        7 | HSC-SSP Public Data Release 2 (Wide)\n",
    "        8 | HSC-SSP Public Data Release 2 (Deep+UltraDeep)\n",
    "        9 | HSC-SSP Public Data Release 3 (Wide)\n",
    "       10 | HSC-SSP Public Data Release 3 (Deep+UltraDeep)\n",
    "       11 | HSC-SSP Public Data Release 4 (Wide)\n",
    "       12 | HSC-SSP Public Data Release 4 (Deep+UltraDeep)\n",
    "     1001 | Sky positions from S21A HSC-SSP (Wide)\n",
    "     1002 | Sky positions from PS1\n",
    "     1003 | Sky positions from Gaia\n",
    "     1004 | Sky positions for regions without PS1 data\n",
    "    90001 | Messier 15 stars for the engineering observation\n",
    "    90002 | NGC1904 for the engineering run in November 2022\n",
    "    90003 | NGC2419 for the engineering run in November 2022\n",
    "    90004 | NGC5272 for the engineering run in February 2023\n",
    "    90005 | NGC5904 for the engineering run in February 2023\n",
    "    90006 | NGC7078 for the engineering run in July 2023\n",
    "    90007 | NGC7089 for the engineering run in July 2023\n",
    "    90008 | NGC7099 for the engineering run in July 2023\n",
    "\n",
    "Comment: The combination of catId  and obj_id must be unique within one design.\n",
    "\n",
    "Target uploader requirement:\n",
    "https://pfs-etc.naoj.hawaii.edu/uploader/doc/inputs.html\n",
    "\n",
    "ob_code, obj_id, obj_type, ra, dec, pmra, pmdec, epoch, exptime, priority, resolution, reference_arm, g_ps1, g_ps1_error\n",
    "'''"
   ]
  },
  {
   "cell_type": "code",
   "execution_count": 2,
   "metadata": {},
   "outputs": [],
   "source": [
    "# TODO: make this function useful for one/multiple pointings, plot the cosmology, star, sky and ancillary targets using different colors\n",
    "def plot_tgt_done(outfn_list, figname, figsize=(8, 8), plot_diffcolor=True):\n",
    "    '''\n",
    "    plot the targets that have been assigned to the fibers\n",
    "    '''\n",
    "    for i, fn_i in enumerate(outfn_list):\n",
    "        tgt_id_done, tgt_ra_done, tgt_dec_done = np.loadtxt(fn_i, usecols=(0, 4, 5), unpack=True, dtype='str')\n",
    "        tgt_ra_done, tgt_dec_done = tgt_ra_done.astype('float'), tgt_dec_done.astype('float')\n",
    "\n",
    "        mask_cos = [tgt_id_done[i][1:4] == 'Cos' for i in range(len(tgt_id_done))]\n",
    "        mask_star = [tgt_id_done[i][1:4] == 'Sta' for i in range(len(tgt_id_done))]\n",
    "        mask_sky = [tgt_id_done[i][1:4] == 'Sky' for i in range(len(tgt_id_done))]\n",
    "        mask_anc = [tgt_id_done[i][1:4] == 'Anc' for i in range(len(tgt_id_done))]\n",
    "\n",
    "        if(plot_diffcolor):\n",
    "            if(i==0): \n",
    "                plt.figure(figsize = figsize)\n",
    "                plt.plot(tgt_ra_done[mask_cos], tgt_dec_done[mask_cos], 'k.', ms=0.5, alpha=0.5, label='cosmology')\n",
    "                plt.plot(tgt_ra_done[mask_star], tgt_dec_done[mask_star], 'r*', ms=1.5, alpha=1., label='star')\n",
    "                plt.plot(tgt_ra_done[mask_sky], tgt_dec_done[mask_sky], 'b^', ms=1.5, alpha=1., label='sky')\n",
    "                plt.plot(tgt_ra_done[mask_anc], tgt_dec_done[mask_anc], 'gs', ms=1.5, alpha=1., label='ancillary')\n",
    "            else:\n",
    "                plt.plot(tgt_ra_done[mask_cos], tgt_dec_done[mask_cos], 'k.', ms=0.5, alpha=0.5)\n",
    "                plt.plot(tgt_ra_done[mask_star], tgt_dec_done[mask_star], 'r*', ms=1.5, alpha=1.)\n",
    "                plt.plot(tgt_ra_done[mask_sky], tgt_dec_done[mask_sky], 'b^', ms=1.5, alpha=1.)\n",
    "                plt.plot(tgt_ra_done[mask_anc], tgt_dec_done[mask_anc], 'gs', ms=1.5, alpha=1.)\n",
    "        else:\n",
    "            if(i==0): \n",
    "                plt.figure(figsize = figsize)\n",
    "                plt.plot(tgt_ra_done, tgt_dec_done, 'k.', ms=0.5, alpha=0.5, label='targets done')\n",
    "            else:\n",
    "                plt.plot(tgt_ra_done, tgt_dec_done, 'k.', ms=0.5, alpha=0.5)\n",
    "\n",
    "    plt.legend(loc='upper right', fontsize=15, frameon=True)\n",
    "    plt.xlabel('RA', fontsize=15)\n",
    "    plt.ylabel('DEC', fontsize=15)\n",
    "    plt.savefig(figname, dpi=300, bbox_inches='tight')\n",
    "    plt.show()\n",
    "    plt.close()"
   ]
  },
  {
   "cell_type": "markdown",
   "metadata": {},
   "source": [
    "# get the target list from netflow output and original cosmology target list"
   ]
  },
  {
   "cell_type": "code",
   "execution_count": null,
   "metadata": {},
   "outputs": [
    {
     "name": "stdout",
     "output_type": "stream",
     "text": [
      "field a, Li L1, visit 1, cosmology 1665, star 200, sky 400\n"
     ]
    }
   ],
   "source": [
    "fdir_raw_Jan25 = '../data_raw/Jan25/'\n",
    "prefix_org = 'cmx_01222025_DESI-ELG_'\n",
    "outdir_Jan25 = '../output/Jan25/' \n",
    "fdir_proc_Jan25 = '../data_proc/Jan25/'\n",
    "prefix = ''\n",
    "\n",
    "# HST(UTC-10) Jan 22 20:00 for field a and b, same for both visits\n",
    "otime_list = ['2025-01-23T06:00:00Z', '2025-01-23T06:00:00Z']\n",
    "\n",
    "#for field, Li_list, otime in zip(['a', 'b'], [['L1', 'L3', 'L4'], ['L1', 'L2', 'L3']], otime_list):\n",
    "for field, Li_list, otime in zip(['a', ], [['L1', 'L3', 'L4'], ], ['2025-01-23T06:00:00Z', ]):\n",
    "    infn_list = [] # for each filed, including all Li and all visits\n",
    "    # read original cosmology targets\n",
    "    data_cos = ascii.read(fdir_raw_Jan25 + prefix_org + 'field-{}_v{}.csv'.format(field, 1))\n",
    "    # read processed star targets\n",
    "    data_star = ascii.read(fdir_proc_Jan25 + 'star_field_{}_targets.ecsv'.format(field))\n",
    "    # read processed sky targets\n",
    "    data_sky = ascii.read(fdir_proc_Jan25 + 'sky_field_{}_targets.ecsv'.format(field))\n",
    "\n",
    "    # create/add obj_code to the cosmology, star and sky targets\n",
    "    obj_code_cos = np.array(['_Cos_'+str(x) for x in data_cos['obj_id']]) # revise\n",
    "    obj_code_star = np.array(['_Sta_'+str(x) for x in data_star['ID']]) # revise\n",
    "    obj_code_sky = np.array(['_Sky_'+str(x) for x in data_sky['ID']]) # revise\n",
    "\n",
    "    # read netflow output\n",
    "    for Li in Li_list[:1]:\n",
    "        for visit in [1, 2][:1]:\n",
    "            infn = outdir_Jan25 + prefix + 'field_%s_%s_visit%d.txt'%(field, Li, visit)\n",
    "            infn_list.append(infn)\n",
    "        \n",
    "            tgt_id_done = np.loadtxt(infn, usecols=(0, ), unpack=True, dtype='str')\n",
    "            # match the tgt_id_done cosmology with the original cosmology targets\n",
    "            obj_id_cos = np.array(['_Cos_'+str(x) for x in data_cos['obj_id']])\n",
    "            mask_cos = np.in1d(obj_id_cos, tgt_id_done) \n",
    "            \n",
    "            # match the tgt_id_done star with the processed star targets\n",
    "            mask_star = np.in1d(data_star['ID'], tgt_id_done) \n",
    "\n",
    "            # match the tgt_id_done sky with the processed sky targets\n",
    "            mask_sky = np.in1d(data_sky['ID'], tgt_id_done)\n",
    "            \n",
    "            print('field %s, %s, visit %d, cosmology %d, star %d, sky %d'%(field, Li, visit, np.sum(mask_cos), np.sum(mask_star), np.sum(mask_sky)))\n",
    "            # create obj_code for the targets\n",
    "            \n",
    "            # write all the matched targets to the final file\n",
    "            \n",
    "\n",
    "\n",
    "    figname = outdir_Jan25+prefix+'fiberassign_'+field+'_done.png'\n",
    "    #plot_tgt_done(infn_list, figname, figsize=(8, 8), plot_diffcolor=True)"
   ]
  },
  {
   "cell_type": "markdown",
   "metadata": {},
   "source": [
    "# reformat the data: necessary columns + other columns"
   ]
  },
  {
   "cell_type": "code",
   "execution_count": 31,
   "metadata": {},
   "outputs": [
    {
     "name": "stdout",
     "output_type": "stream",
     "text": [
      "['ob_code', 'obj_id', 'ra', 'dec', 'exptime', 'priority', 'resolution', 'reference_arm', 'g_hsc', 'g_hsc_err', 'r2_hsc', 'r2_hsc_err', 'i2_hsc', 'i2_hsc_err', 'z_hsc', 'z_hsc_err', 'y_hsc', 'y_hsc_err', 'matched']\n",
      "[('ob_code', '<U26'), ('obj_id', '<i8'), ('ra', '<f8'), ('dec', '<f8'), ('exptime', '<f8'), ('priority', '<i8'), ('resolution', '<U1'), ('reference_arm', '<U1'), ('g_hsc', '<f8'), ('g_hsc_err', '<f8'), ('r2_hsc', '<f8'), ('r2_hsc_err', '<f8'), ('i2_hsc', '<f8'), ('i2_hsc_err', '<f8'), ('z_hsc', '<f8'), ('z_hsc_err', '<f8'), ('y_hsc', '<f8'), ('y_hsc_err', '<f8'), ('matched', '<U5')]\n",
      "['ID', 'R.A.', 'Dec.', 'Exposure Time', 'stage', 'epoch', 'parallax', 'parallax_error', 'pmra', 'pmra_error', 'pmdec', 'pmdec_error', 'gPS1', 'rPS1', 'iPS1', 'zPS1', 'yPS1', 'gFluxJy', 'rFluxJy', 'iFluxJy', 'zFluxJy', 'yFluxJy', 'gFluxJy_err', 'rFluxJy_err', 'iFluxJy_err', 'zFluxJy_err', 'yFluxJy_err', 'flags_dist', 'flags_ebv', 'probfstar', 'catId']\n",
      "['ID', 'R.A.', 'Dec.', 'Exposure Time', 'stage', 'epoch', 'catId']\n",
      "field a, L1, visit 1, cosmology--1665, star--200, sky--400\n"
     ]
    }
   ],
   "source": [
    "print(data_cos.colnames)\n",
    "print(data_cos.dtype)\n",
    "print(data_star.colnames)\n",
    "print(data_sky.colnames)\n",
    "\n",
    "n_cos, n_star, n_sky = np.sum(mask_cos), np.sum(mask_star), np.sum(mask_sky)\n",
    "print('field %s, %s, visit %d, cosmology--%d, star--%d, sky--%d'%(field, Li, visit, n_cos, n_star, n_sky))"
   ]
  },
  {
   "cell_type": "code",
   "execution_count": null,
   "metadata": {},
   "outputs": [],
   "source": [
    "# add catId to the cosmology targets with the value of 11 - HSC-SSP Public Data Release 4 (Wide), dytpes\n",
    "data_cos.add_column(np.ones(len(data_cos), dtype=np.int32)*11, name='catId')\n",
    "\n",
    "# rename 'ID', 'R.A.', 'Dec.' to 'obj_id', 'ra', 'dec' for the processed star and sky targets\n",
    "for old_name, new_name in zip(['ID', 'R.A.', 'Dec.', 'Exposure Time'], ['obj_id', 'ra', 'dec', 'exptime']):\n",
    "    data_star.rename_column(old_name, new_name)\n",
    "    data_sky.rename_column(old_name, new_name)\n",
    "\n",
    "\n",
    "# necessary columns for the final output\n",
    "necessary_columns = ['ob_code', 'obj_id', 'catID', 'ra', 'dec', 'exptime', 'priority', 'resolution', 'reference_arm']\n",
    "necessary_col_dtype = [str, np.int64, int, float, float, float, int, str, str]\n",
    "\n",
    "\n",
    "# create the data table for the final output\n",
    "data_table = Table()\n",
    "for colname, coltype in zip(necessary_columns[:5], necessary_col_dtype[:5]):\n",
    "    data_table[colname] = np.zeros(n_cos, dtype=coltype)\n",
    "    data_table[colname][:n_cos] = data_cos[colname][mask_cos] \n",
    "    data_table[colname][n_cos:n_cos+n_star] = data_star[colname][mask_star]\n",
    "    data_table[colname][n_cos+n_star:n_cos+n_star+n_sky] = data_sky[colname][mask_sky]\n",
    "\n",
    "# create columns that share the same value for cosmology, star and sky targets\n",
    "for colname, coltype, colval in zip(necessary_columns[5:], necessary_col_dtype[5:], [1, 'L', 'r']):\n",
    "    # put data_cos[colname][mask_cos] to data_table[colname][:n_cos] with coltype\n",
    "    data_table[colname] = np.zeros(n_cos, dtype=coltype) + colval\n",
    "\n",
    "# create columns that have different colnames for cosmology, star and sky targets\n",
    "\n",
    "\n",
    "# write the final output to a file\n",
    "outfn = outdir_Jan25 + prefix + 'field_%s_%s_visit%d_final_targets.ecsv'%(field, Li, visit)\n",
    "data_table.write(outfn, format='ascii.ecsv', overwrite=True)\n",
    "print('write to %s'%outfn)\n",
    "\n",
    "\n",
    "\n",
    "    \n",
    "\n"
   ]
  },
  {
   "cell_type": "code",
   "execution_count": null,
   "metadata": {},
   "outputs": [],
   "source": [
    "\n",
    "    \n",
    "\n",
    "\n"
   ]
  },
  {
   "cell_type": "code",
   "execution_count": null,
   "metadata": {},
   "outputs": [],
   "source": []
  }
 ],
 "metadata": {
  "kernelspec": {
   "display_name": "base",
   "language": "python",
   "name": "python3"
  },
  "language_info": {
   "codemirror_mode": {
    "name": "ipython",
    "version": 3
   },
   "file_extension": ".py",
   "mimetype": "text/x-python",
   "name": "python",
   "nbconvert_exporter": "python",
   "pygments_lexer": "ipython3",
   "version": "3.10.9"
  }
 },
 "nbformat": 4,
 "nbformat_minor": 2
}
